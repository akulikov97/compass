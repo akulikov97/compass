{
 "cells": [
  {
   "cell_type": "code",
   "execution_count": 16,
   "metadata": {
    "collapsed": true
   },
   "outputs": [],
   "source": [
    "import json\n",
    "import pandas as pd"
   ]
  },
  {
   "cell_type": "code",
   "execution_count": 7,
   "metadata": {
    "collapsed": false
   },
   "outputs": [],
   "source": [
    "file = \"jsonzip/dcclt/dcclt/corpusjson/P251867.json\"\n",
    "with open(file, encoding=\"utf-8\") as g:\n",
    "    j = json.load(g)\n",
    "    "
   ]
  },
  {
   "cell_type": "code",
   "execution_count": 17,
   "metadata": {
    "collapsed": false
   },
   "outputs": [
    {
     "name": "stdout",
     "output_type": "stream",
     "text": [
      "yes\n"
     ]
    }
   ],
   "source": [
    "for o in j[\"cdl\"]:\n",
    "    if \"cdl\" in o:\n",
    "        print(\"yes\")\n",
    "    else:\n",
    "        print(\"no\")"
   ]
  },
  {
   "cell_type": "code",
   "execution_count": 12,
   "metadata": {
    "collapsed": true
   },
   "outputs": [],
   "source": [
    "def parsejson(text):\n",
    "    for JSONobject in text[\"cdl\"]:\n",
    "        if \"cdl\" in JSONobject: \n",
    "            parsejson(JSONobject)\n",
    "        if \"f\" in JSONobject:\n",
    "            lemm = JSONobject[\"f\"]\n",
    "            lemm[\"id_text\"] = id_text\n",
    "            lemm_l.append(lemm)\n",
    "    return"
   ]
  },
  {
   "cell_type": "code",
   "execution_count": 20,
   "metadata": {
    "collapsed": false
   },
   "outputs": [],
   "source": [
    "lemm_l = []\n",
    "id_text = file[-12:-5]\n",
    "parsejson(j)"
   ]
  },
  {
   "cell_type": "code",
   "execution_count": 21,
   "metadata": {
    "collapsed": false
   },
   "outputs": [
    {
     "data": {
      "text/plain": [
       "[{'base': '{ŋeš}ma₂-durah-abzu',\n",
       "  'cf': 'Madurahabzu',\n",
       "  'epos': 'ON',\n",
       "  'form': '{ŋeš}ma₂-durah-abzu',\n",
       "  'gdl': [{'det': 'semantic',\n",
       "    'pos': 'pre',\n",
       "    'seq': [{'id': 'P251867.2.1.0', 'v': 'ŋeš'}]},\n",
       "   {'delim': '-', 'id': 'P251867.2.1.1', 'v': 'ma₂'},\n",
       "   {'delim': '-', 'id': 'P251867.2.1.2', 'queried': '1', 'v': 'durah'},\n",
       "   {'id': 'P251867.2.1.3', 'v': 'abzu'}],\n",
       "  'gw': '1',\n",
       "  'id_text': 'P251867',\n",
       "  'lang': 'sux',\n",
       "  'morph': '~',\n",
       "  'norm0': 'Madurahabzu',\n",
       "  'pos': 'ON',\n",
       "  'sense': '1'},\n",
       " {'base': '{ŋeš}ma₂-aš-te',\n",
       "  'cf': 'Maʾašte',\n",
       "  'epos': 'ON',\n",
       "  'form': '{ŋeš}ma₂-aš-te',\n",
       "  'gdl': [{'det': 'semantic',\n",
       "    'pos': 'pre',\n",
       "    'seq': [{'id': 'P251867.3.1.0', 'v': 'ŋeš'}]},\n",
       "   {'delim': '-', 'id': 'P251867.3.1.1', 'v': 'ma₂'},\n",
       "   {'delim': '-', 'id': 'P251867.3.1.2', 'v': 'aš'},\n",
       "   {'id': 'P251867.3.1.3', 'v': 'te'}],\n",
       "  'gw': '1',\n",
       "  'id_text': 'P251867',\n",
       "  'lang': 'sux',\n",
       "  'morph': '~',\n",
       "  'norm0': 'Maʾašte',\n",
       "  'pos': 'ON',\n",
       "  'sense': '1'},\n",
       " {'base': '{ŋeš}ma₂-kar-nam-nun-ta-e₃-a',\n",
       "  'cf': 'Makarnuntaʾea',\n",
       "  'epos': 'ON',\n",
       "  'form': '{ŋeš}ma₂-kar-nam-nun-ta-e₃-a',\n",
       "  'gdl': [{'det': 'semantic',\n",
       "    'pos': 'pre',\n",
       "    'seq': [{'id': 'P251867.4.1.0', 'v': 'ŋeš'}]},\n",
       "   {'delim': '-', 'id': 'P251867.4.1.1', 'v': 'ma₂'},\n",
       "   {'delim': '-', 'id': 'P251867.4.1.2', 'v': 'kar'},\n",
       "   {'delim': '-', 'id': 'P251867.4.1.3', 'v': 'nam'},\n",
       "   {'delim': '-', 'id': 'P251867.4.1.4', 'v': 'nun'},\n",
       "   {'delim': '-', 'id': 'P251867.4.1.5', 'v': 'ta'},\n",
       "   {'break': 'damaged',\n",
       "    'delim': '-',\n",
       "    'ho': '1',\n",
       "    'id': 'P251867.4.1.6',\n",
       "    'v': 'e₃'},\n",
       "   {'break': 'damaged', 'hc': '1', 'id': 'P251867.4.1.7', 'v': 'a'}],\n",
       "  'gw': '1',\n",
       "  'id_text': 'P251867',\n",
       "  'lang': 'sux',\n",
       "  'morph': '~',\n",
       "  'norm0': 'Makarnuntaʾea',\n",
       "  'pos': 'ON',\n",
       "  'sense': '1'}]"
      ]
     },
     "execution_count": 21,
     "metadata": {},
     "output_type": "execute_result"
    }
   ],
   "source": [
    "lemm_l"
   ]
  },
  {
   "cell_type": "code",
   "execution_count": 22,
   "metadata": {
    "collapsed": true
   },
   "outputs": [],
   "source": [
    "df = pd.DataFrame(lemm_l)"
   ]
  },
  {
   "cell_type": "code",
   "execution_count": 23,
   "metadata": {
    "collapsed": false
   },
   "outputs": [
    {
     "data": {
      "text/html": [
       "<div>\n",
       "<table border=\"1\" class=\"dataframe\">\n",
       "  <thead>\n",
       "    <tr style=\"text-align: right;\">\n",
       "      <th></th>\n",
       "      <th>base</th>\n",
       "      <th>cf</th>\n",
       "      <th>epos</th>\n",
       "      <th>form</th>\n",
       "      <th>gdl</th>\n",
       "      <th>gw</th>\n",
       "      <th>id_text</th>\n",
       "      <th>lang</th>\n",
       "      <th>morph</th>\n",
       "      <th>norm0</th>\n",
       "      <th>pos</th>\n",
       "      <th>sense</th>\n",
       "    </tr>\n",
       "  </thead>\n",
       "  <tbody>\n",
       "    <tr>\n",
       "      <th>0</th>\n",
       "      <td>{ŋeš}ma₂-durah-abzu</td>\n",
       "      <td>Madurahabzu</td>\n",
       "      <td>ON</td>\n",
       "      <td>{ŋeš}ma₂-durah-abzu</td>\n",
       "      <td>[{'pos': 'pre', 'det': 'semantic', 'seq': [{'v...</td>\n",
       "      <td>1</td>\n",
       "      <td>P251867</td>\n",
       "      <td>sux</td>\n",
       "      <td>~</td>\n",
       "      <td>Madurahabzu</td>\n",
       "      <td>ON</td>\n",
       "      <td>1</td>\n",
       "    </tr>\n",
       "    <tr>\n",
       "      <th>1</th>\n",
       "      <td>{ŋeš}ma₂-aš-te</td>\n",
       "      <td>Maʾašte</td>\n",
       "      <td>ON</td>\n",
       "      <td>{ŋeš}ma₂-aš-te</td>\n",
       "      <td>[{'pos': 'pre', 'det': 'semantic', 'seq': [{'v...</td>\n",
       "      <td>1</td>\n",
       "      <td>P251867</td>\n",
       "      <td>sux</td>\n",
       "      <td>~</td>\n",
       "      <td>Maʾašte</td>\n",
       "      <td>ON</td>\n",
       "      <td>1</td>\n",
       "    </tr>\n",
       "    <tr>\n",
       "      <th>2</th>\n",
       "      <td>{ŋeš}ma₂-kar-nam-nun-ta-e₃-a</td>\n",
       "      <td>Makarnuntaʾea</td>\n",
       "      <td>ON</td>\n",
       "      <td>{ŋeš}ma₂-kar-nam-nun-ta-e₃-a</td>\n",
       "      <td>[{'pos': 'pre', 'det': 'semantic', 'seq': [{'v...</td>\n",
       "      <td>1</td>\n",
       "      <td>P251867</td>\n",
       "      <td>sux</td>\n",
       "      <td>~</td>\n",
       "      <td>Makarnuntaʾea</td>\n",
       "      <td>ON</td>\n",
       "      <td>1</td>\n",
       "    </tr>\n",
       "  </tbody>\n",
       "</table>\n",
       "</div>"
      ],
      "text/plain": [
       "                           base             cf epos  \\\n",
       "0           {ŋeš}ma₂-durah-abzu    Madurahabzu   ON   \n",
       "1                {ŋeš}ma₂-aš-te        Maʾašte   ON   \n",
       "2  {ŋeš}ma₂-kar-nam-nun-ta-e₃-a  Makarnuntaʾea   ON   \n",
       "\n",
       "                           form  \\\n",
       "0           {ŋeš}ma₂-durah-abzu   \n",
       "1                {ŋeš}ma₂-aš-te   \n",
       "2  {ŋeš}ma₂-kar-nam-nun-ta-e₃-a   \n",
       "\n",
       "                                                 gdl gw  id_text lang morph  \\\n",
       "0  [{'pos': 'pre', 'det': 'semantic', 'seq': [{'v...  1  P251867  sux     ~   \n",
       "1  [{'pos': 'pre', 'det': 'semantic', 'seq': [{'v...  1  P251867  sux     ~   \n",
       "2  [{'pos': 'pre', 'det': 'semantic', 'seq': [{'v...  1  P251867  sux     ~   \n",
       "\n",
       "           norm0 pos sense  \n",
       "0    Madurahabzu  ON     1  \n",
       "1        Maʾašte  ON     1  \n",
       "2  Makarnuntaʾea  ON     1  "
      ]
     },
     "execution_count": 23,
     "metadata": {},
     "output_type": "execute_result"
    }
   ],
   "source": [
    "df"
   ]
  },
  {
   "cell_type": "code",
   "execution_count": null,
   "metadata": {
    "collapsed": true
   },
   "outputs": [],
   "source": []
  }
 ],
 "metadata": {
  "kernelspec": {
   "display_name": "Python 3",
   "language": "python",
   "name": "python3"
  },
  "language_info": {
   "codemirror_mode": {
    "name": "ipython",
    "version": 3
   },
   "file_extension": ".py",
   "mimetype": "text/x-python",
   "name": "python",
   "nbconvert_exporter": "python",
   "pygments_lexer": "ipython3",
   "version": "3.5.2"
  }
 },
 "nbformat": 4,
 "nbformat_minor": 0
}
