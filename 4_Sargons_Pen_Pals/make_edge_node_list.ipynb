{
 "cells": [
  {
   "cell_type": "markdown",
   "metadata": {
    "colab_type": "text",
    "id": "awvVOitQME-i"
   },
   "source": [
    "# Create Edge and Node List for Sargon Letters SNA\n",
    "This notebook creates an edge list and a node list for import into [Gephi](https://gephi.org/). The data are taken from the Sargon letters published online in [SAAo](http://oracc.org/saao), but the code can be used for other data sets as well."
   ]
  },
  {
   "cell_type": "code",
   "execution_count": 1,
   "metadata": {
    "colab": {
     "autoexec": {
      "startup": false,
      "wait_interval": 0
     }
    },
    "colab_type": "code",
    "id": "ObSOWOqNME-k"
   },
   "outputs": [],
   "source": [
    "import pandas as pd\n",
    "import zipfile\n",
    "import json\n",
    "import os\n",
    "import sys\n",
    "util_dir = os.path.abspath('../utils')\n",
    "sys.path.append(util_dir)\n",
    "from utils import *\n",
    "pd.options.mode.chained_assignment = None  # default='warn'"
   ]
  },
  {
   "cell_type": "code",
   "execution_count": 2,
   "metadata": {},
   "outputs": [
    {
     "name": "stdout",
     "output_type": "stream",
     "text": [
      "Downloading JSON\n",
      "Saving http://oracc.org/saao/saa05/json/saao-saa05.zip as jsonzip/saao-saa05.zip.\n"
     ]
    },
    {
     "data": {
      "application/vnd.jupyter.widget-view+json": {
       "model_id": "3c8112e8b2b64d98848593a39dd157dd",
       "version_major": 2,
       "version_minor": 0
      },
      "text/plain": [
       "HBox(children=(FloatProgress(value=1.0, bar_style='info', description='saao/saa05', max=1.0, style=ProgressSty…"
      ]
     },
     "metadata": {},
     "output_type": "display_data"
    },
    {
     "name": "stdout",
     "output_type": "stream",
     "text": [
      "Saving http://oracc.org/saao/saa15/json/saao-saa15.zip as jsonzip/saao-saa15.zip.\n"
     ]
    },
    {
     "data": {
      "application/vnd.jupyter.widget-view+json": {
       "model_id": "4c44242a5cb741aab976edb989846d69",
       "version_major": 2,
       "version_minor": 0
      },
      "text/plain": [
       "HBox(children=(FloatProgress(value=1.0, bar_style='info', description='saao/saa15', max=1.0, style=ProgressSty…"
      ]
     },
     "metadata": {},
     "output_type": "display_data"
    },
    {
     "name": "stdout",
     "output_type": "stream",
     "text": [
      "Saving http://oracc.org/saao/saa01/json/saao-saa01.zip as jsonzip/saao-saa01.zip.\n"
     ]
    },
    {
     "data": {
      "application/vnd.jupyter.widget-view+json": {
       "model_id": "23304f6ae8404300a455c056b10911d2",
       "version_major": 2,
       "version_minor": 0
      },
      "text/plain": [
       "HBox(children=(FloatProgress(value=1.0, bar_style='info', description='saao/saa01', max=1.0, style=ProgressSty…"
      ]
     },
     "metadata": {},
     "output_type": "display_data"
    },
    {
     "name": "stdout",
     "output_type": "stream",
     "text": [
      "Parsing JSON\n",
      "\n"
     ]
    },
    {
     "data": {
      "application/vnd.jupyter.widget-view+json": {
       "model_id": "76d9f9b00c1e4511b4e55966cdec13f3",
       "version_major": 2,
       "version_minor": 0
      },
      "text/plain": [
       "HBox(children=(FloatProgress(value=0.0, description='saao/saa05', max=300.0, style=ProgressStyle(description_w…"
      ]
     },
     "metadata": {},
     "output_type": "display_data"
    },
    {
     "name": "stdout",
     "output_type": "stream",
     "text": [
      "\n"
     ]
    },
    {
     "data": {
      "application/vnd.jupyter.widget-view+json": {
       "model_id": "7ea99a588068491cb8857496ff7e76aa",
       "version_major": 2,
       "version_minor": 0
      },
      "text/plain": [
       "HBox(children=(FloatProgress(value=0.0, description='saao/saa15', max=390.0, style=ProgressStyle(description_w…"
      ]
     },
     "metadata": {},
     "output_type": "display_data"
    },
    {
     "name": "stdout",
     "output_type": "stream",
     "text": [
      "\n"
     ]
    },
    {
     "data": {
      "application/vnd.jupyter.widget-view+json": {
       "model_id": "2db70c76b3f34c1282e4954b83bfcabe",
       "version_major": 2,
       "version_minor": 0
      },
      "text/plain": [
       "HBox(children=(FloatProgress(value=0.0, description='saao/saa01', max=265.0, style=ProgressStyle(description_w…"
      ]
     },
     "metadata": {},
     "output_type": "display_data"
    },
    {
     "name": "stdout",
     "output_type": "stream",
     "text": [
      "\n"
     ]
    }
   ],
   "source": [
    "volumes = \"saao/saa01,saao/saa05,saao/saa15\"\n",
    "words = get_data(volumes)"
   ]
  },
  {
   "cell_type": "code",
   "execution_count": 3,
   "metadata": {},
   "outputs": [],
   "source": [
    "directories = ['raw']\n",
    "make_dirs(directories)\n",
    "words.to_csv('raw/sargonletters.csv', index=False, encoding='utf8')"
   ]
  },
  {
   "cell_type": "markdown",
   "metadata": {
    "colab_type": "text",
    "id": "nmr-yBDrME-s"
   },
   "source": [
    "The `JSON` of saao/sargonletters has been parsed and transformed into a `csv` file called `sargonletters.csv`. This file has been moved to the directory `raw`. The current notebook will extract the information necessary for an edge list that can be imported in [Gephi](https://gephi.org/). In addition, the code will create a node list with one attribute (`eponym`, either `True` or `False`). For importing these files into [Gephi](https://gephi.org/), see the bottom of this file.\n",
    "\n",
    "The first step is to select all proper names that appear in the letters. Two proper names that appear in the same letter represent an (undirected) edge. In a second step, this list of edges is augmented with catalog information such as sender location and dossier. In a third step the catalog is used to create additional (directed) edges, representing sender and recipient."
   ]
  },
  {
   "cell_type": "markdown",
   "metadata": {
    "colab_type": "text",
    "id": "9mqCgZWhME-u"
   },
   "source": [
    "# 1 Creat Edge List from Proper Names in Letters\n",
    "\n",
    "First open the `.csv` file (prepared by parsing the corpus JSON files) and import it into a Pandas Dataframe. "
   ]
  },
  {
   "cell_type": "code",
   "execution_count": 4,
   "metadata": {
    "colab": {
     "autoexec": {
      "startup": false,
      "wait_interval": 0
     }
    },
    "colab_type": "code",
    "id": "F6s6caXYME-w",
    "outputId": "289914f6-a267-499d-a2e2-b7714bd0cb90"
   },
   "outputs": [
    {
     "data": {
      "text/html": [
       "<div>\n",
       "<style scoped>\n",
       "    .dataframe tbody tr th:only-of-type {\n",
       "        vertical-align: middle;\n",
       "    }\n",
       "\n",
       "    .dataframe tbody tr th {\n",
       "        vertical-align: top;\n",
       "    }\n",
       "\n",
       "    .dataframe thead th {\n",
       "        text-align: right;\n",
       "    }\n",
       "</style>\n",
       "<table border=\"1\" class=\"dataframe\">\n",
       "  <thead>\n",
       "    <tr style=\"text-align: right;\">\n",
       "      <th></th>\n",
       "      <th>lang</th>\n",
       "      <th>form</th>\n",
       "      <th>delim</th>\n",
       "      <th>gdl</th>\n",
       "      <th>pos</th>\n",
       "      <th>id_word</th>\n",
       "      <th>label</th>\n",
       "      <th>id_text</th>\n",
       "      <th>cf</th>\n",
       "      <th>gw</th>\n",
       "      <th>sense</th>\n",
       "      <th>norm</th>\n",
       "      <th>epos</th>\n",
       "      <th>extent</th>\n",
       "      <th>scope</th>\n",
       "      <th>state</th>\n",
       "      <th>id_line</th>\n",
       "    </tr>\n",
       "  </thead>\n",
       "  <tbody>\n",
       "    <tr>\n",
       "      <th>0</th>\n",
       "      <td>akk-x-neoass</td>\n",
       "      <td>x</td>\n",
       "      <td>NaN</td>\n",
       "      <td>[{'v': 'x', 'utf8': 'x', 'id': 'P313858.3.1.0'...</td>\n",
       "      <td>u</td>\n",
       "      <td>P313858.3.1</td>\n",
       "      <td>o 1'</td>\n",
       "      <td>saao/saa05/P313858</td>\n",
       "      <td>NaN</td>\n",
       "      <td>NaN</td>\n",
       "      <td>NaN</td>\n",
       "      <td>NaN</td>\n",
       "      <td>NaN</td>\n",
       "      <td>NaN</td>\n",
       "      <td>NaN</td>\n",
       "      <td>NaN</td>\n",
       "      <td>3</td>\n",
       "    </tr>\n",
       "    <tr>\n",
       "      <th>1</th>\n",
       "      <td>akk-x-neoass</td>\n",
       "      <td>x</td>\n",
       "      <td>NaN</td>\n",
       "      <td>[{'v': 'x', 'utf8': 'x', 'id': 'P313858.3.2.0'...</td>\n",
       "      <td>u</td>\n",
       "      <td>P313858.3.2</td>\n",
       "      <td>o 1'</td>\n",
       "      <td>saao/saa05/P313858</td>\n",
       "      <td>NaN</td>\n",
       "      <td>NaN</td>\n",
       "      <td>NaN</td>\n",
       "      <td>NaN</td>\n",
       "      <td>NaN</td>\n",
       "      <td>NaN</td>\n",
       "      <td>NaN</td>\n",
       "      <td>NaN</td>\n",
       "      <td>3</td>\n",
       "    </tr>\n",
       "    <tr>\n",
       "      <th>2</th>\n",
       "      <td>akk-x-neoass</td>\n",
       "      <td>x</td>\n",
       "      <td>NaN</td>\n",
       "      <td>[{'v': 'x', 'utf8': 'x', 'id': 'P313858.3.3.0'...</td>\n",
       "      <td>u</td>\n",
       "      <td>P313858.3.3</td>\n",
       "      <td>o 1'</td>\n",
       "      <td>saao/saa05/P313858</td>\n",
       "      <td>NaN</td>\n",
       "      <td>NaN</td>\n",
       "      <td>NaN</td>\n",
       "      <td>NaN</td>\n",
       "      <td>NaN</td>\n",
       "      <td>NaN</td>\n",
       "      <td>NaN</td>\n",
       "      <td>NaN</td>\n",
       "      <td>3</td>\n",
       "    </tr>\n",
       "    <tr>\n",
       "      <th>3</th>\n",
       "      <td>akk-x-neoass</td>\n",
       "      <td>x</td>\n",
       "      <td>NaN</td>\n",
       "      <td>[{'v': 'x', 'utf8': 'x', 'id': 'P313858.3.4.0'...</td>\n",
       "      <td>u</td>\n",
       "      <td>P313858.3.4</td>\n",
       "      <td>o 1'</td>\n",
       "      <td>saao/saa05/P313858</td>\n",
       "      <td>NaN</td>\n",
       "      <td>NaN</td>\n",
       "      <td>NaN</td>\n",
       "      <td>NaN</td>\n",
       "      <td>NaN</td>\n",
       "      <td>NaN</td>\n",
       "      <td>NaN</td>\n",
       "      <td>NaN</td>\n",
       "      <td>3</td>\n",
       "    </tr>\n",
       "    <tr>\n",
       "      <th>4</th>\n",
       "      <td>akk-x-neoass</td>\n",
       "      <td>x</td>\n",
       "      <td>NaN</td>\n",
       "      <td>[{'v': 'x', 'utf8': 'x', 'id': 'P313858.3.5.0'...</td>\n",
       "      <td>u</td>\n",
       "      <td>P313858.3.5</td>\n",
       "      <td>o 1'</td>\n",
       "      <td>saao/saa05/P313858</td>\n",
       "      <td>NaN</td>\n",
       "      <td>NaN</td>\n",
       "      <td>NaN</td>\n",
       "      <td>NaN</td>\n",
       "      <td>NaN</td>\n",
       "      <td>NaN</td>\n",
       "      <td>NaN</td>\n",
       "      <td>NaN</td>\n",
       "      <td>3</td>\n",
       "    </tr>\n",
       "    <tr>\n",
       "      <th>...</th>\n",
       "      <td>...</td>\n",
       "      <td>...</td>\n",
       "      <td>...</td>\n",
       "      <td>...</td>\n",
       "      <td>...</td>\n",
       "      <td>...</td>\n",
       "      <td>...</td>\n",
       "      <td>...</td>\n",
       "      <td>...</td>\n",
       "      <td>...</td>\n",
       "      <td>...</td>\n",
       "      <td>...</td>\n",
       "      <td>...</td>\n",
       "      <td>...</td>\n",
       "      <td>...</td>\n",
       "      <td>...</td>\n",
       "      <td>...</td>\n",
       "    </tr>\n",
       "    <tr>\n",
       "      <th>87575</th>\n",
       "      <td>akk-x-neoass</td>\n",
       "      <td>x</td>\n",
       "      <td>NaN</td>\n",
       "      <td>[{'v': 'x', 'utf8': 'x', 'id': 'P334715.38.5.0...</td>\n",
       "      <td>u</td>\n",
       "      <td>P334715.38.5</td>\n",
       "      <td>r 13</td>\n",
       "      <td>saao/saa01/P334715</td>\n",
       "      <td>NaN</td>\n",
       "      <td>NaN</td>\n",
       "      <td>NaN</td>\n",
       "      <td>NaN</td>\n",
       "      <td>NaN</td>\n",
       "      <td>NaN</td>\n",
       "      <td>NaN</td>\n",
       "      <td>NaN</td>\n",
       "      <td>38</td>\n",
       "    </tr>\n",
       "    <tr>\n",
       "      <th>87576</th>\n",
       "      <td>akk-x-neoass</td>\n",
       "      <td>x</td>\n",
       "      <td>NaN</td>\n",
       "      <td>[{'v': 'x', 'utf8': 'x', 'id': 'P334715.38.6.0...</td>\n",
       "      <td>u</td>\n",
       "      <td>P334715.38.6</td>\n",
       "      <td>r 13</td>\n",
       "      <td>saao/saa01/P334715</td>\n",
       "      <td>NaN</td>\n",
       "      <td>NaN</td>\n",
       "      <td>NaN</td>\n",
       "      <td>NaN</td>\n",
       "      <td>NaN</td>\n",
       "      <td>NaN</td>\n",
       "      <td>NaN</td>\n",
       "      <td>NaN</td>\n",
       "      <td>38</td>\n",
       "    </tr>\n",
       "    <tr>\n",
       "      <th>87577</th>\n",
       "      <td>akk-x-neoass</td>\n",
       "      <td>x</td>\n",
       "      <td>NaN</td>\n",
       "      <td>[{'v': 'x', 'utf8': 'x', 'id': 'P334715.38.7.0...</td>\n",
       "      <td>u</td>\n",
       "      <td>P334715.38.7</td>\n",
       "      <td>r 13</td>\n",
       "      <td>saao/saa01/P334715</td>\n",
       "      <td>NaN</td>\n",
       "      <td>NaN</td>\n",
       "      <td>NaN</td>\n",
       "      <td>NaN</td>\n",
       "      <td>NaN</td>\n",
       "      <td>NaN</td>\n",
       "      <td>NaN</td>\n",
       "      <td>NaN</td>\n",
       "      <td>38</td>\n",
       "    </tr>\n",
       "    <tr>\n",
       "      <th>87578</th>\n",
       "      <td>akk-x-neoass</td>\n",
       "      <td>x</td>\n",
       "      <td>NaN</td>\n",
       "      <td>[{'v': 'x', 'utf8': 'x', 'id': 'P334715.38.8.0...</td>\n",
       "      <td>u</td>\n",
       "      <td>P334715.38.8</td>\n",
       "      <td>r 13</td>\n",
       "      <td>saao/saa01/P334715</td>\n",
       "      <td>NaN</td>\n",
       "      <td>NaN</td>\n",
       "      <td>NaN</td>\n",
       "      <td>NaN</td>\n",
       "      <td>NaN</td>\n",
       "      <td>NaN</td>\n",
       "      <td>NaN</td>\n",
       "      <td>NaN</td>\n",
       "      <td>38</td>\n",
       "    </tr>\n",
       "    <tr>\n",
       "      <th>87579</th>\n",
       "      <td>akk-x-neoass</td>\n",
       "      <td>x</td>\n",
       "      <td>NaN</td>\n",
       "      <td>[{'v': 'x', 'utf8': 'x', 'id': 'P334715.38.9.0...</td>\n",
       "      <td>u</td>\n",
       "      <td>P334715.38.9</td>\n",
       "      <td>r 13</td>\n",
       "      <td>saao/saa01/P334715</td>\n",
       "      <td>NaN</td>\n",
       "      <td>NaN</td>\n",
       "      <td>NaN</td>\n",
       "      <td>NaN</td>\n",
       "      <td>NaN</td>\n",
       "      <td>NaN</td>\n",
       "      <td>NaN</td>\n",
       "      <td>NaN</td>\n",
       "      <td>38</td>\n",
       "    </tr>\n",
       "  </tbody>\n",
       "</table>\n",
       "<p>87580 rows × 17 columns</p>\n",
       "</div>"
      ],
      "text/plain": [
       "               lang form  delim  \\\n",
       "0      akk-x-neoass    x    NaN   \n",
       "1      akk-x-neoass    x    NaN   \n",
       "2      akk-x-neoass    x    NaN   \n",
       "3      akk-x-neoass    x    NaN   \n",
       "4      akk-x-neoass    x    NaN   \n",
       "...             ...  ...    ...   \n",
       "87575  akk-x-neoass    x    NaN   \n",
       "87576  akk-x-neoass    x    NaN   \n",
       "87577  akk-x-neoass    x    NaN   \n",
       "87578  akk-x-neoass    x    NaN   \n",
       "87579  akk-x-neoass    x    NaN   \n",
       "\n",
       "                                                     gdl pos       id_word  \\\n",
       "0      [{'v': 'x', 'utf8': 'x', 'id': 'P313858.3.1.0'...   u   P313858.3.1   \n",
       "1      [{'v': 'x', 'utf8': 'x', 'id': 'P313858.3.2.0'...   u   P313858.3.2   \n",
       "2      [{'v': 'x', 'utf8': 'x', 'id': 'P313858.3.3.0'...   u   P313858.3.3   \n",
       "3      [{'v': 'x', 'utf8': 'x', 'id': 'P313858.3.4.0'...   u   P313858.3.4   \n",
       "4      [{'v': 'x', 'utf8': 'x', 'id': 'P313858.3.5.0'...   u   P313858.3.5   \n",
       "...                                                  ...  ..           ...   \n",
       "87575  [{'v': 'x', 'utf8': 'x', 'id': 'P334715.38.5.0...   u  P334715.38.5   \n",
       "87576  [{'v': 'x', 'utf8': 'x', 'id': 'P334715.38.6.0...   u  P334715.38.6   \n",
       "87577  [{'v': 'x', 'utf8': 'x', 'id': 'P334715.38.7.0...   u  P334715.38.7   \n",
       "87578  [{'v': 'x', 'utf8': 'x', 'id': 'P334715.38.8.0...   u  P334715.38.8   \n",
       "87579  [{'v': 'x', 'utf8': 'x', 'id': 'P334715.38.9.0...   u  P334715.38.9   \n",
       "\n",
       "      label             id_text   cf   gw sense norm epos extent scope state  \\\n",
       "0      o 1'  saao/saa05/P313858  NaN  NaN   NaN  NaN  NaN    NaN   NaN   NaN   \n",
       "1      o 1'  saao/saa05/P313858  NaN  NaN   NaN  NaN  NaN    NaN   NaN   NaN   \n",
       "2      o 1'  saao/saa05/P313858  NaN  NaN   NaN  NaN  NaN    NaN   NaN   NaN   \n",
       "3      o 1'  saao/saa05/P313858  NaN  NaN   NaN  NaN  NaN    NaN   NaN   NaN   \n",
       "4      o 1'  saao/saa05/P313858  NaN  NaN   NaN  NaN  NaN    NaN   NaN   NaN   \n",
       "...     ...                 ...  ...  ...   ...  ...  ...    ...   ...   ...   \n",
       "87575  r 13  saao/saa01/P334715  NaN  NaN   NaN  NaN  NaN    NaN   NaN   NaN   \n",
       "87576  r 13  saao/saa01/P334715  NaN  NaN   NaN  NaN  NaN    NaN   NaN   NaN   \n",
       "87577  r 13  saao/saa01/P334715  NaN  NaN   NaN  NaN  NaN    NaN   NaN   NaN   \n",
       "87578  r 13  saao/saa01/P334715  NaN  NaN   NaN  NaN  NaN    NaN   NaN   NaN   \n",
       "87579  r 13  saao/saa01/P334715  NaN  NaN   NaN  NaN  NaN    NaN   NaN   NaN   \n",
       "\n",
       "       id_line  \n",
       "0            3  \n",
       "1            3  \n",
       "2            3  \n",
       "3            3  \n",
       "4            3  \n",
       "...        ...  \n",
       "87575       38  \n",
       "87576       38  \n",
       "87577       38  \n",
       "87578       38  \n",
       "87579       38  \n",
       "\n",
       "[87580 rows x 17 columns]"
      ]
     },
     "execution_count": 4,
     "metadata": {},
     "output_type": "execute_result"
    }
   ],
   "source": [
    "with open(\"raw/sargonletters.csv\", mode = 'r', encoding = \"utf8\") as f:\n",
    "    df = pd.read_csv(f)\n",
    "df"
   ]
  },
  {
   "cell_type": "markdown",
   "metadata": {
    "colab_type": "text",
    "id": "ehUhEIEMME-7"
   },
   "source": [
    "Select the rows where `pos` is either `PN` (Personal Name) or `RN` (Royal Name)."
   ]
  },
  {
   "cell_type": "code",
   "execution_count": 5,
   "metadata": {
    "colab": {
     "autoexec": {
      "startup": false,
      "wait_interval": 0
     }
    },
    "colab_type": "code",
    "id": "7fywqstkME-9"
   },
   "outputs": [],
   "source": [
    "keep = [\"PN\", \"RN\"]\n",
    "df = df[df[\"pos\"].isin(keep)]"
   ]
  },
  {
   "cell_type": "markdown",
   "metadata": {
    "colab_type": "text",
    "id": "mR3B6sGwME_K"
   },
   "source": [
    "Select the columns `id_text` (the P number), and `cf` (Citation Form) and clean up the `id_text` column (keep only the P number)."
   ]
  },
  {
   "cell_type": "code",
   "execution_count": 6,
   "metadata": {
    "colab": {
     "autoexec": {
      "startup": false,
      "wait_interval": 0
     }
    },
    "colab_type": "code",
    "id": "vV5sthWjME_M",
    "outputId": "2e326238-c982-4a76-ae55-4eda0e3bc596"
   },
   "outputs": [
    {
     "data": {
      "text/html": [
       "<div>\n",
       "<style scoped>\n",
       "    .dataframe tbody tr th:only-of-type {\n",
       "        vertical-align: middle;\n",
       "    }\n",
       "\n",
       "    .dataframe tbody tr th {\n",
       "        vertical-align: top;\n",
       "    }\n",
       "\n",
       "    .dataframe thead th {\n",
       "        text-align: right;\n",
       "    }\n",
       "</style>\n",
       "<table border=\"1\" class=\"dataframe\">\n",
       "  <thead>\n",
       "    <tr style=\"text-align: right;\">\n",
       "      <th></th>\n",
       "      <th>id_text</th>\n",
       "      <th>cf</th>\n",
       "    </tr>\n",
       "  </thead>\n",
       "  <tbody>\n",
       "    <tr>\n",
       "      <th>167</th>\n",
       "      <td>P313453</td>\n",
       "      <td>Naʾdi-ilu</td>\n",
       "    </tr>\n",
       "    <tr>\n",
       "      <th>232</th>\n",
       "      <td>P334887</td>\n",
       "      <td>Nabu-hamatua</td>\n",
       "    </tr>\n",
       "    <tr>\n",
       "      <th>234</th>\n",
       "      <td>P334887</td>\n",
       "      <td>Kuškaya</td>\n",
       "    </tr>\n",
       "    <tr>\n",
       "      <th>247</th>\n",
       "      <td>P334887</td>\n",
       "      <td>Aššur-šarru-uṣur</td>\n",
       "    </tr>\n",
       "    <tr>\n",
       "      <th>272</th>\n",
       "      <td>P334150</td>\n",
       "      <td>Nabu-uṣalla</td>\n",
       "    </tr>\n",
       "    <tr>\n",
       "      <th>...</th>\n",
       "      <td>...</td>\n",
       "      <td>...</td>\n",
       "    </tr>\n",
       "    <tr>\n",
       "      <th>87305</th>\n",
       "      <td>P334284</td>\n",
       "      <td>Amiru</td>\n",
       "    </tr>\n",
       "    <tr>\n",
       "      <th>87316</th>\n",
       "      <td>P334284</td>\n",
       "      <td>Ašapi</td>\n",
       "    </tr>\n",
       "    <tr>\n",
       "      <th>87354</th>\n",
       "      <td>P313762</td>\n",
       "      <td>Nabu-šumu-uṣur</td>\n",
       "    </tr>\n",
       "    <tr>\n",
       "      <th>87424</th>\n",
       "      <td>P334715</td>\n",
       "      <td>Bel-liqbi</td>\n",
       "    </tr>\n",
       "    <tr>\n",
       "      <th>87532</th>\n",
       "      <td>P334715</td>\n",
       "      <td>Aššur-dalal</td>\n",
       "    </tr>\n",
       "  </tbody>\n",
       "</table>\n",
       "<p>1370 rows × 2 columns</p>\n",
       "</div>"
      ],
      "text/plain": [
       "       id_text                cf\n",
       "167    P313453         Naʾdi-ilu\n",
       "232    P334887      Nabu-hamatua\n",
       "234    P334887           Kuškaya\n",
       "247    P334887  Aššur-šarru-uṣur\n",
       "272    P334150       Nabu-uṣalla\n",
       "...        ...               ...\n",
       "87305  P334284             Amiru\n",
       "87316  P334284             Ašapi\n",
       "87354  P313762    Nabu-šumu-uṣur\n",
       "87424  P334715         Bel-liqbi\n",
       "87532  P334715       Aššur-dalal\n",
       "\n",
       "[1370 rows x 2 columns]"
      ]
     },
     "execution_count": 6,
     "metadata": {},
     "output_type": "execute_result"
    }
   ],
   "source": [
    "df = df[[\"id_text\", \"cf\"]]\n",
    "df[\"id_text\"] = [idt[-7:] for idt in df[\"id_text\"]]\n",
    "df"
   ]
  },
  {
   "cell_type": "markdown",
   "metadata": {
    "colab_type": "text",
    "id": "MyzxgtcNME_S"
   },
   "source": [
    "Transform the Pandas Dataframe into a simple list of list. In order to produce the edge list we use a loop within a loop. The first loop goes through all the items in the list (all names). For each name, it goes through the entire list again, to find items that match the same text ID (P number). This way, the routine finds all pairs of names that appear in each letter.\n",
    "\n",
    "The secondary loop begins at the location of the index of the primary loop. This way, the edge A == B is not duplicated by the edge B == A (since the edges are undirected).\n",
    "\n",
    "If there is a text ID match in the secondary loop, make a list that contains `id_text`, `source`, and `target` - this list represents a single edge. Add this list to the list of lists `edges`."
   ]
  },
  {
   "cell_type": "code",
   "execution_count": 7,
   "metadata": {
    "colab": {
     "autoexec": {
      "startup": false,
      "wait_interval": 0
     }
    },
    "colab_type": "code",
    "id": "Wq_tp2GRME_U"
   },
   "outputs": [],
   "source": [
    "data = df.values.tolist()\n",
    "edges = []\n",
    "for idx, item in enumerate(data):\n",
    "    textid = item[0]\n",
    "    source = item[1]\n",
    "    for idx_2, item_2 in enumerate(data[idx:len(data)]):\n",
    "        if item[0] == item_2[0]:\n",
    "            if not item[1] == item_2[1]:\n",
    "                target = item_2[1]\n",
    "                edge = [textid, source, target]\n",
    "                edges.append(edge)                "
   ]
  },
  {
   "cell_type": "markdown",
   "metadata": {
    "colab_type": "text",
    "id": "-7GuoMaVME_e"
   },
   "source": [
    "The object `edges` is a list of list that can be transformed again into a Dataframe."
   ]
  },
  {
   "cell_type": "code",
   "execution_count": 8,
   "metadata": {
    "colab": {
     "autoexec": {
      "startup": false,
      "wait_interval": 0
     }
    },
    "colab_type": "code",
    "id": "OexnHj2VME_i",
    "outputId": "8a34b845-dcee-41c0-cc21-b5f035eb8f5c"
   },
   "outputs": [
    {
     "data": {
      "text/html": [
       "<div>\n",
       "<style scoped>\n",
       "    .dataframe tbody tr th:only-of-type {\n",
       "        vertical-align: middle;\n",
       "    }\n",
       "\n",
       "    .dataframe tbody tr th {\n",
       "        vertical-align: top;\n",
       "    }\n",
       "\n",
       "    .dataframe thead th {\n",
       "        text-align: right;\n",
       "    }\n",
       "</style>\n",
       "<table border=\"1\" class=\"dataframe\">\n",
       "  <thead>\n",
       "    <tr style=\"text-align: right;\">\n",
       "      <th></th>\n",
       "      <th>id_text</th>\n",
       "      <th>source</th>\n",
       "      <th>target</th>\n",
       "    </tr>\n",
       "  </thead>\n",
       "  <tbody>\n",
       "    <tr>\n",
       "      <th>0</th>\n",
       "      <td>P334887</td>\n",
       "      <td>Nabu-hamatua</td>\n",
       "      <td>Kuškaya</td>\n",
       "    </tr>\n",
       "    <tr>\n",
       "      <th>1</th>\n",
       "      <td>P334887</td>\n",
       "      <td>Nabu-hamatua</td>\n",
       "      <td>Aššur-šarru-uṣur</td>\n",
       "    </tr>\n",
       "    <tr>\n",
       "      <th>2</th>\n",
       "      <td>P334887</td>\n",
       "      <td>Kuškaya</td>\n",
       "      <td>Aššur-šarru-uṣur</td>\n",
       "    </tr>\n",
       "    <tr>\n",
       "      <th>3</th>\n",
       "      <td>P334150</td>\n",
       "      <td>Nabu-uṣalla</td>\n",
       "      <td>Mar-Issar</td>\n",
       "    </tr>\n",
       "    <tr>\n",
       "      <th>4</th>\n",
       "      <td>P334674</td>\n",
       "      <td>Šulmu-beli-lašme</td>\n",
       "      <td>Mannu-ki-ahhe</td>\n",
       "    </tr>\n",
       "    <tr>\n",
       "      <th>...</th>\n",
       "      <td>...</td>\n",
       "      <td>...</td>\n",
       "      <td>...</td>\n",
       "    </tr>\n",
       "    <tr>\n",
       "      <th>1706</th>\n",
       "      <td>P334284</td>\n",
       "      <td>Adda-hati</td>\n",
       "      <td>Ašapi</td>\n",
       "    </tr>\n",
       "    <tr>\n",
       "      <th>1707</th>\n",
       "      <td>P334284</td>\n",
       "      <td>Ammi-leti</td>\n",
       "      <td>Amiru</td>\n",
       "    </tr>\n",
       "    <tr>\n",
       "      <th>1708</th>\n",
       "      <td>P334284</td>\n",
       "      <td>Ammi-leti</td>\n",
       "      <td>Ašapi</td>\n",
       "    </tr>\n",
       "    <tr>\n",
       "      <th>1709</th>\n",
       "      <td>P334284</td>\n",
       "      <td>Amiru</td>\n",
       "      <td>Ašapi</td>\n",
       "    </tr>\n",
       "    <tr>\n",
       "      <th>1710</th>\n",
       "      <td>P334715</td>\n",
       "      <td>Bel-liqbi</td>\n",
       "      <td>Aššur-dalal</td>\n",
       "    </tr>\n",
       "  </tbody>\n",
       "</table>\n",
       "<p>1711 rows × 3 columns</p>\n",
       "</div>"
      ],
      "text/plain": [
       "      id_text            source            target\n",
       "0     P334887      Nabu-hamatua           Kuškaya\n",
       "1     P334887      Nabu-hamatua  Aššur-šarru-uṣur\n",
       "2     P334887           Kuškaya  Aššur-šarru-uṣur\n",
       "3     P334150       Nabu-uṣalla         Mar-Issar\n",
       "4     P334674  Šulmu-beli-lašme     Mannu-ki-ahhe\n",
       "...       ...               ...               ...\n",
       "1706  P334284         Adda-hati             Ašapi\n",
       "1707  P334284         Ammi-leti             Amiru\n",
       "1708  P334284         Ammi-leti             Ašapi\n",
       "1709  P334284             Amiru             Ašapi\n",
       "1710  P334715         Bel-liqbi       Aššur-dalal\n",
       "\n",
       "[1711 rows x 3 columns]"
      ]
     },
     "execution_count": 8,
     "metadata": {},
     "output_type": "execute_result"
    }
   ],
   "source": [
    "df_edges = pd.DataFrame(edges, columns= [\"id_text\", \"source\", \"target\"])\n",
    "df_edges"
   ]
  },
  {
   "cell_type": "markdown",
   "metadata": {
    "colab_type": "text",
    "id": "MD87MuHpME_o"
   },
   "source": [
    "If the same name is mentioned multiple times in the same letter, that will create duplicate edges. Drop the duplicates.\n",
    "\n",
    "Add a new field, called `Type` to indicate whether an edge is directed or undirected. So far, all the edges are undirected."
   ]
  },
  {
   "cell_type": "code",
   "execution_count": 9,
   "metadata": {
    "colab": {
     "autoexec": {
      "startup": false,
      "wait_interval": 0
     }
    },
    "colab_type": "code",
    "id": "xSo2ifO_ME_p",
    "outputId": "d2ca4725-adfc-40ff-cddc-38f73ebbfd61"
   },
   "outputs": [
    {
     "data": {
      "text/html": [
       "<div>\n",
       "<style scoped>\n",
       "    .dataframe tbody tr th:only-of-type {\n",
       "        vertical-align: middle;\n",
       "    }\n",
       "\n",
       "    .dataframe tbody tr th {\n",
       "        vertical-align: top;\n",
       "    }\n",
       "\n",
       "    .dataframe thead th {\n",
       "        text-align: right;\n",
       "    }\n",
       "</style>\n",
       "<table border=\"1\" class=\"dataframe\">\n",
       "  <thead>\n",
       "    <tr style=\"text-align: right;\">\n",
       "      <th></th>\n",
       "      <th>id_text</th>\n",
       "      <th>source</th>\n",
       "      <th>target</th>\n",
       "      <th>Type</th>\n",
       "    </tr>\n",
       "  </thead>\n",
       "  <tbody>\n",
       "    <tr>\n",
       "      <th>0</th>\n",
       "      <td>P334887</td>\n",
       "      <td>Nabu-hamatua</td>\n",
       "      <td>Kuškaya</td>\n",
       "      <td>undirected</td>\n",
       "    </tr>\n",
       "    <tr>\n",
       "      <th>1</th>\n",
       "      <td>P334887</td>\n",
       "      <td>Nabu-hamatua</td>\n",
       "      <td>Aššur-šarru-uṣur</td>\n",
       "      <td>undirected</td>\n",
       "    </tr>\n",
       "    <tr>\n",
       "      <th>2</th>\n",
       "      <td>P334887</td>\n",
       "      <td>Kuškaya</td>\n",
       "      <td>Aššur-šarru-uṣur</td>\n",
       "      <td>undirected</td>\n",
       "    </tr>\n",
       "    <tr>\n",
       "      <th>3</th>\n",
       "      <td>P334150</td>\n",
       "      <td>Nabu-uṣalla</td>\n",
       "      <td>Mar-Issar</td>\n",
       "      <td>undirected</td>\n",
       "    </tr>\n",
       "    <tr>\n",
       "      <th>4</th>\n",
       "      <td>P334674</td>\n",
       "      <td>Šulmu-beli-lašme</td>\n",
       "      <td>Mannu-ki-ahhe</td>\n",
       "      <td>undirected</td>\n",
       "    </tr>\n",
       "    <tr>\n",
       "      <th>...</th>\n",
       "      <td>...</td>\n",
       "      <td>...</td>\n",
       "      <td>...</td>\n",
       "      <td>...</td>\n",
       "    </tr>\n",
       "    <tr>\n",
       "      <th>1264</th>\n",
       "      <td>P334284</td>\n",
       "      <td>Adda-hati</td>\n",
       "      <td>Ašapi</td>\n",
       "      <td>undirected</td>\n",
       "    </tr>\n",
       "    <tr>\n",
       "      <th>1265</th>\n",
       "      <td>P334284</td>\n",
       "      <td>Ammi-leti</td>\n",
       "      <td>Amiru</td>\n",
       "      <td>undirected</td>\n",
       "    </tr>\n",
       "    <tr>\n",
       "      <th>1266</th>\n",
       "      <td>P334284</td>\n",
       "      <td>Ammi-leti</td>\n",
       "      <td>Ašapi</td>\n",
       "      <td>undirected</td>\n",
       "    </tr>\n",
       "    <tr>\n",
       "      <th>1267</th>\n",
       "      <td>P334284</td>\n",
       "      <td>Amiru</td>\n",
       "      <td>Ašapi</td>\n",
       "      <td>undirected</td>\n",
       "    </tr>\n",
       "    <tr>\n",
       "      <th>1268</th>\n",
       "      <td>P334715</td>\n",
       "      <td>Bel-liqbi</td>\n",
       "      <td>Aššur-dalal</td>\n",
       "      <td>undirected</td>\n",
       "    </tr>\n",
       "  </tbody>\n",
       "</table>\n",
       "<p>1269 rows × 4 columns</p>\n",
       "</div>"
      ],
      "text/plain": [
       "      id_text            source            target        Type\n",
       "0     P334887      Nabu-hamatua           Kuškaya  undirected\n",
       "1     P334887      Nabu-hamatua  Aššur-šarru-uṣur  undirected\n",
       "2     P334887           Kuškaya  Aššur-šarru-uṣur  undirected\n",
       "3     P334150       Nabu-uṣalla         Mar-Issar  undirected\n",
       "4     P334674  Šulmu-beli-lašme     Mannu-ki-ahhe  undirected\n",
       "...       ...               ...               ...         ...\n",
       "1264  P334284         Adda-hati             Ašapi  undirected\n",
       "1265  P334284         Ammi-leti             Amiru  undirected\n",
       "1266  P334284         Ammi-leti             Ašapi  undirected\n",
       "1267  P334284             Amiru             Ašapi  undirected\n",
       "1268  P334715         Bel-liqbi       Aššur-dalal  undirected\n",
       "\n",
       "[1269 rows x 4 columns]"
      ]
     },
     "execution_count": 9,
     "metadata": {},
     "output_type": "execute_result"
    }
   ],
   "source": [
    "df_edges = df_edges.drop_duplicates().reset_index(drop=True)\n",
    "df_edges[\"Type\"] = \"undirected\" \n",
    "df_edges"
   ]
  },
  {
   "cell_type": "markdown",
   "metadata": {
    "colab_type": "text",
    "id": "YYl8XPO9ME_v"
   },
   "source": [
    "# 2. Add Catalog Information to the Edge List\n",
    "The file `catalogue.json`, which is available in the file `jsonzip/saao-sargonletters.zip`, contains more information about each letter. The main field in `catalogue.json` is called `members` which contains the catalog information for each text in this corpus. We select a number of relevant catalog fields. We can add this information to the edge list by merging the two dataframes on `id_text` (the P number).\n",
    "\n",
    "Instead of extracting all the files from the `ZIP` file we can create a `ZipFile` object and then read only the file we need (namely `catalogue.json`). This is transformed into a `JSON` object which can be further manipulated and transformed into a Dataframe."
   ]
  },
  {
   "cell_type": "code",
   "execution_count": 10,
   "metadata": {
    "colab": {
     "autoexec": {
      "startup": false,
      "wait_interval": 0
     }
    },
    "colab_type": "code",
    "id": "h4lpy6FyME_x",
    "outputId": "b5ed73aa-d398-43ef-9128-23e87e5a9cd7"
   },
   "outputs": [
    {
     "data": {
      "text/html": [
       "<div>\n",
       "<style scoped>\n",
       "    .dataframe tbody tr th:only-of-type {\n",
       "        vertical-align: middle;\n",
       "    }\n",
       "\n",
       "    .dataframe tbody tr th {\n",
       "        vertical-align: top;\n",
       "    }\n",
       "\n",
       "    .dataframe thead th {\n",
       "        text-align: right;\n",
       "    }\n",
       "</style>\n",
       "<table border=\"1\" class=\"dataframe\">\n",
       "  <thead>\n",
       "    <tr style=\"text-align: right;\">\n",
       "      <th></th>\n",
       "      <th>ancient_author</th>\n",
       "      <th>id_text</th>\n",
       "    </tr>\n",
       "  </thead>\n",
       "  <tbody>\n",
       "    <tr>\n",
       "      <th>P224395</th>\n",
       "      <td>Adda-hati</td>\n",
       "      <td>P224395</td>\n",
       "    </tr>\n",
       "    <tr>\n",
       "      <th>P224403</th>\n",
       "      <td>Sargon II</td>\n",
       "      <td>P224403</td>\n",
       "    </tr>\n",
       "    <tr>\n",
       "      <th>P224417</th>\n",
       "      <td>Adda-hati</td>\n",
       "      <td>P224417</td>\n",
       "    </tr>\n",
       "    <tr>\n",
       "      <th>P224431</th>\n",
       "      <td>Bel-duri</td>\n",
       "      <td>P224431</td>\n",
       "    </tr>\n",
       "    <tr>\n",
       "      <th>P224433</th>\n",
       "      <td>Sennacherib</td>\n",
       "      <td>P224433</td>\n",
       "    </tr>\n",
       "    <tr>\n",
       "      <th>...</th>\n",
       "      <td>...</td>\n",
       "      <td>...</td>\n",
       "    </tr>\n",
       "    <tr>\n",
       "      <th>P336775</th>\n",
       "      <td></td>\n",
       "      <td>P336775</td>\n",
       "    </tr>\n",
       "    <tr>\n",
       "      <th>P336776</th>\n",
       "      <td></td>\n",
       "      <td>P336776</td>\n",
       "    </tr>\n",
       "    <tr>\n",
       "      <th>P428978</th>\n",
       "      <td>Nabu-belu-ka’’in</td>\n",
       "      <td>P428978</td>\n",
       "    </tr>\n",
       "    <tr>\n",
       "      <th>X150289</th>\n",
       "      <td>Aššur-reṣiwa</td>\n",
       "      <td>X150289</td>\n",
       "    </tr>\n",
       "    <tr>\n",
       "      <th>X150335</th>\n",
       "      <td></td>\n",
       "      <td>X150335</td>\n",
       "    </tr>\n",
       "  </tbody>\n",
       "</table>\n",
       "<p>956 rows × 2 columns</p>\n",
       "</div>"
      ],
      "text/plain": [
       "           ancient_author  id_text\n",
       "P224395         Adda-hati  P224395\n",
       "P224403         Sargon II  P224403\n",
       "P224417         Adda-hati  P224417\n",
       "P224431          Bel-duri  P224431\n",
       "P224433       Sennacherib  P224433\n",
       "...                   ...      ...\n",
       "P336775                    P336775\n",
       "P336776                    P336776\n",
       "P428978  Nabu-belu-ka’’in  P428978\n",
       "X150289      Aššur-reṣiwa  X150289\n",
       "X150335                    X150335\n",
       "\n",
       "[956 rows x 2 columns]"
      ]
     },
     "execution_count": 10,
     "metadata": {},
     "output_type": "execute_result"
    }
   ],
   "source": [
    "df_cat = pd.DataFrame()\n",
    "for p in volumes.split(','):\n",
    "    file = f\"{p.replace('/', '-')}.zip\"\n",
    "    z = zipfile.ZipFile(f'jsonzip/{file}', 'r')\n",
    "    data = z.read(f\"{p}/catalogue.json\").decode(\"utf-8\")\n",
    "    data = json.loads(data)\n",
    "    d = data['members']\n",
    "    df = pd.DataFrame(d).T\n",
    "    df = df[[\"id_text\", \"ancient_author\"]].fillna('')\n",
    "    df_cat = pd.concat([df_cat, df], sort=True)  # sort=True is necessary in case catalogs have a different set of fields\n",
    "df_cat"
   ]
  },
  {
   "cell_type": "markdown",
   "metadata": {
    "colab_type": "text",
    "id": "_5e-5rK8ME_1"
   },
   "source": [
    "The names of author and recipient in the catalog are sometimes slightly different from the name forms in the lemmatization. The code in the following cell replaces the catalog form by the lemmatization form. The `.replace()` method in Pandas will search and replace a full string. In order to perform the search/replace on a partial string the option `regex = True` is necessary. Therefore, characters that have a special function in regular expressions (such as `[` and `(`) must be escaped by preceding them with a backslash.\n",
    "\n",
    "The search - replace pairs are listed in a dictionary that can be fed to the Pandas `.replace()` method."
   ]
  },
  {
   "cell_type": "code",
   "execution_count": 11,
   "metadata": {
    "colab": {
     "autoexec": {
      "startup": false,
      "wait_interval": 0
     }
    },
    "colab_type": "code",
    "id": "QwbtZuzJME_3"
   },
   "outputs": [],
   "source": [
    "search_replace = {\"Ṭab-ṣill-Ešarra\": \"Ṭab-ṣil-Ešarra\",\n",
    "                  \"’\": \"ʾ\",\n",
    "                  \"\\[\": \"\",\n",
    "                  \"\\]\": \"\",\n",
    "                  \"Nashir-Bel \\(Liphur-Bel\\)\": \"Nashir-Bel\",\n",
    "                 \"Sennacherib\": \"Sin-ahhe-eriba\",\n",
    "                 \"Upaqa-Šamaš\" : \"Upaq-Šamaš\",\n",
    "                  }\n",
    "fields = [\"ancient_author\"]\n",
    "df_cat[fields] = df_cat[fields].replace(search_replace, regex=True)"
   ]
  },
  {
   "cell_type": "markdown",
   "metadata": {
    "colab_type": "text",
    "id": "4_2hxZ6EME_6"
   },
   "source": [
    "Now merge the edges Dataframe with the catalog information."
   ]
  },
  {
   "cell_type": "code",
   "execution_count": 12,
   "metadata": {
    "colab": {
     "autoexec": {
      "startup": false,
      "wait_interval": 0
     }
    },
    "colab_type": "code",
    "id": "1qDVhdgoME__",
    "outputId": "e2015bf7-8aeb-4312-ccdd-0f2b440e96bc",
    "scrolled": true
   },
   "outputs": [
    {
     "data": {
      "text/html": [
       "<div>\n",
       "<style scoped>\n",
       "    .dataframe tbody tr th:only-of-type {\n",
       "        vertical-align: middle;\n",
       "    }\n",
       "\n",
       "    .dataframe tbody tr th {\n",
       "        vertical-align: top;\n",
       "    }\n",
       "\n",
       "    .dataframe thead th {\n",
       "        text-align: right;\n",
       "    }\n",
       "</style>\n",
       "<table border=\"1\" class=\"dataframe\">\n",
       "  <thead>\n",
       "    <tr style=\"text-align: right;\">\n",
       "      <th></th>\n",
       "      <th>id_text</th>\n",
       "      <th>source</th>\n",
       "      <th>target</th>\n",
       "      <th>Type</th>\n",
       "      <th>ancient_author</th>\n",
       "    </tr>\n",
       "  </thead>\n",
       "  <tbody>\n",
       "    <tr>\n",
       "      <th>0</th>\n",
       "      <td>P334887</td>\n",
       "      <td>Nabu-hamatua</td>\n",
       "      <td>Kuškaya</td>\n",
       "      <td>undirected</td>\n",
       "      <td>Kuškaya</td>\n",
       "    </tr>\n",
       "    <tr>\n",
       "      <th>1</th>\n",
       "      <td>P334887</td>\n",
       "      <td>Nabu-hamatua</td>\n",
       "      <td>Aššur-šarru-uṣur</td>\n",
       "      <td>undirected</td>\n",
       "      <td>Kuškaya</td>\n",
       "    </tr>\n",
       "    <tr>\n",
       "      <th>2</th>\n",
       "      <td>P334887</td>\n",
       "      <td>Kuškaya</td>\n",
       "      <td>Aššur-šarru-uṣur</td>\n",
       "      <td>undirected</td>\n",
       "      <td>Kuškaya</td>\n",
       "    </tr>\n",
       "    <tr>\n",
       "      <th>3</th>\n",
       "      <td>P334150</td>\n",
       "      <td>Nabu-uṣalla</td>\n",
       "      <td>Mar-Issar</td>\n",
       "      <td>undirected</td>\n",
       "      <td>Nabu-uṣalla</td>\n",
       "    </tr>\n",
       "    <tr>\n",
       "      <th>4</th>\n",
       "      <td>P334674</td>\n",
       "      <td>Šulmu-beli-lašme</td>\n",
       "      <td>Mannu-ki-ahhe</td>\n",
       "      <td>undirected</td>\n",
       "      <td>Šulmu-beli-lašme</td>\n",
       "    </tr>\n",
       "    <tr>\n",
       "      <th>...</th>\n",
       "      <td>...</td>\n",
       "      <td>...</td>\n",
       "      <td>...</td>\n",
       "      <td>...</td>\n",
       "      <td>...</td>\n",
       "    </tr>\n",
       "    <tr>\n",
       "      <th>1264</th>\n",
       "      <td>P334284</td>\n",
       "      <td>Adda-hati</td>\n",
       "      <td>Ašapi</td>\n",
       "      <td>undirected</td>\n",
       "      <td>Bel-liqbi</td>\n",
       "    </tr>\n",
       "    <tr>\n",
       "      <th>1265</th>\n",
       "      <td>P334284</td>\n",
       "      <td>Ammi-leti</td>\n",
       "      <td>Amiru</td>\n",
       "      <td>undirected</td>\n",
       "      <td>Bel-liqbi</td>\n",
       "    </tr>\n",
       "    <tr>\n",
       "      <th>1266</th>\n",
       "      <td>P334284</td>\n",
       "      <td>Ammi-leti</td>\n",
       "      <td>Ašapi</td>\n",
       "      <td>undirected</td>\n",
       "      <td>Bel-liqbi</td>\n",
       "    </tr>\n",
       "    <tr>\n",
       "      <th>1267</th>\n",
       "      <td>P334284</td>\n",
       "      <td>Amiru</td>\n",
       "      <td>Ašapi</td>\n",
       "      <td>undirected</td>\n",
       "      <td>Bel-liqbi</td>\n",
       "    </tr>\n",
       "    <tr>\n",
       "      <th>1268</th>\n",
       "      <td>P334715</td>\n",
       "      <td>Bel-liqbi</td>\n",
       "      <td>Aššur-dalal</td>\n",
       "      <td>undirected</td>\n",
       "      <td>Bel-liqbi</td>\n",
       "    </tr>\n",
       "  </tbody>\n",
       "</table>\n",
       "<p>1269 rows × 5 columns</p>\n",
       "</div>"
      ],
      "text/plain": [
       "      id_text            source            target        Type  \\\n",
       "0     P334887      Nabu-hamatua           Kuškaya  undirected   \n",
       "1     P334887      Nabu-hamatua  Aššur-šarru-uṣur  undirected   \n",
       "2     P334887           Kuškaya  Aššur-šarru-uṣur  undirected   \n",
       "3     P334150       Nabu-uṣalla         Mar-Issar  undirected   \n",
       "4     P334674  Šulmu-beli-lašme     Mannu-ki-ahhe  undirected   \n",
       "...       ...               ...               ...         ...   \n",
       "1264  P334284         Adda-hati             Ašapi  undirected   \n",
       "1265  P334284         Ammi-leti             Amiru  undirected   \n",
       "1266  P334284         Ammi-leti             Ašapi  undirected   \n",
       "1267  P334284             Amiru             Ašapi  undirected   \n",
       "1268  P334715         Bel-liqbi       Aššur-dalal  undirected   \n",
       "\n",
       "        ancient_author  \n",
       "0              Kuškaya  \n",
       "1              Kuškaya  \n",
       "2              Kuškaya  \n",
       "3          Nabu-uṣalla  \n",
       "4     Šulmu-beli-lašme  \n",
       "...                ...  \n",
       "1264         Bel-liqbi  \n",
       "1265         Bel-liqbi  \n",
       "1266         Bel-liqbi  \n",
       "1267         Bel-liqbi  \n",
       "1268         Bel-liqbi  \n",
       "\n",
       "[1269 rows x 5 columns]"
      ]
     },
     "execution_count": 12,
     "metadata": {},
     "output_type": "execute_result"
    }
   ],
   "source": [
    "df_edges_cat = pd.merge(df_edges, df_cat, on=\"id_text\").fillna(\"\")\n",
    "with open(\"csv/edges_no_sender.csv\", mode=\"w\", encoding=\"utf-8\") as w:\n",
    "    df_edges_cat.to_csv(w, index=False)\n",
    "df_edges_cat"
   ]
  },
  {
   "cell_type": "markdown",
   "metadata": {
    "colab_type": "text",
    "id": "CgR1HlAwMFAF"
   },
   "source": [
    "# 3. Add Sender and Recipient\n",
    "Neo-Assyrian letters to or from the king often do not contain the name of sender or recipient, because the king's name is never explicit. We can pull this information from the dataframe `df_cat` that we have created above."
   ]
  },
  {
   "cell_type": "code",
   "execution_count": 13,
   "metadata": {
    "colab": {
     "autoexec": {
      "startup": false,
      "wait_interval": 0
     }
    },
    "colab_type": "code",
    "id": "jb3LNKGGMFAG",
    "outputId": "fbe4913a-e606-405b-f081-cb9067ac05cd"
   },
   "outputs": [
    {
     "data": {
      "text/html": [
       "<div>\n",
       "<style scoped>\n",
       "    .dataframe tbody tr th:only-of-type {\n",
       "        vertical-align: middle;\n",
       "    }\n",
       "\n",
       "    .dataframe tbody tr th {\n",
       "        vertical-align: top;\n",
       "    }\n",
       "\n",
       "    .dataframe thead th {\n",
       "        text-align: right;\n",
       "    }\n",
       "</style>\n",
       "<table border=\"1\" class=\"dataframe\">\n",
       "  <thead>\n",
       "    <tr style=\"text-align: right;\">\n",
       "      <th></th>\n",
       "      <th>ancient_author</th>\n",
       "      <th>id_text</th>\n",
       "    </tr>\n",
       "  </thead>\n",
       "  <tbody>\n",
       "    <tr>\n",
       "      <th>P224395</th>\n",
       "      <td>Adda-hati</td>\n",
       "      <td>P224395</td>\n",
       "    </tr>\n",
       "    <tr>\n",
       "      <th>P224403</th>\n",
       "      <td>Sargon II</td>\n",
       "      <td>P224403</td>\n",
       "    </tr>\n",
       "    <tr>\n",
       "      <th>P224417</th>\n",
       "      <td>Adda-hati</td>\n",
       "      <td>P224417</td>\n",
       "    </tr>\n",
       "    <tr>\n",
       "      <th>P224431</th>\n",
       "      <td>Bel-duri</td>\n",
       "      <td>P224431</td>\n",
       "    </tr>\n",
       "    <tr>\n",
       "      <th>P224433</th>\n",
       "      <td>Sin-ahhe-eriba</td>\n",
       "      <td>P224433</td>\n",
       "    </tr>\n",
       "    <tr>\n",
       "      <th>...</th>\n",
       "      <td>...</td>\n",
       "      <td>...</td>\n",
       "    </tr>\n",
       "    <tr>\n",
       "      <th>P336775</th>\n",
       "      <td></td>\n",
       "      <td>P336775</td>\n",
       "    </tr>\n",
       "    <tr>\n",
       "      <th>P336776</th>\n",
       "      <td></td>\n",
       "      <td>P336776</td>\n",
       "    </tr>\n",
       "    <tr>\n",
       "      <th>P428978</th>\n",
       "      <td>Nabu-belu-kaʾʾin</td>\n",
       "      <td>P428978</td>\n",
       "    </tr>\n",
       "    <tr>\n",
       "      <th>X150289</th>\n",
       "      <td>Aššur-reṣiwa</td>\n",
       "      <td>X150289</td>\n",
       "    </tr>\n",
       "    <tr>\n",
       "      <th>X150335</th>\n",
       "      <td></td>\n",
       "      <td>X150335</td>\n",
       "    </tr>\n",
       "  </tbody>\n",
       "</table>\n",
       "<p>956 rows × 2 columns</p>\n",
       "</div>"
      ],
      "text/plain": [
       "           ancient_author  id_text\n",
       "P224395         Adda-hati  P224395\n",
       "P224403         Sargon II  P224403\n",
       "P224417         Adda-hati  P224417\n",
       "P224431          Bel-duri  P224431\n",
       "P224433    Sin-ahhe-eriba  P224433\n",
       "...                   ...      ...\n",
       "P336775                    P336775\n",
       "P336776                    P336776\n",
       "P428978  Nabu-belu-kaʾʾin  P428978\n",
       "X150289      Aššur-reṣiwa  X150289\n",
       "X150335                    X150335\n",
       "\n",
       "[956 rows x 2 columns]"
      ]
     },
     "execution_count": 13,
     "metadata": {},
     "output_type": "execute_result"
    }
   ],
   "source": [
    "df_cat"
   ]
  },
  {
   "cell_type": "markdown",
   "metadata": {
    "colab_type": "text",
    "id": "xOmweOC3MFAM"
   },
   "source": [
    "Note that `ancient_author` sometimes has more than one name, separated by a comma. The code tests for the presence of a comma in the field `ancient author`. If a comma appears, the field is split at the comma, resulting in a list of authors (2 or more). For each author a separate row is created that copies the original row, but replaces the field `ancient_author` by the author. The same is done for recipients.\n",
    "\n",
    "### Note:\n",
    "It is necessary to use two separate `if/else` loops in order to take care of the possibility of multiple senders *and* multiple recipients."
   ]
  },
  {
   "cell_type": "code",
   "execution_count": 14,
   "metadata": {},
   "outputs": [],
   "source": [
    "df_cat['recipient'] = \"Sargon\"\n",
    "df_cat = df_cat[['id_text', 'ancient_author', 'recipient']]"
   ]
  },
  {
   "cell_type": "code",
   "execution_count": 15,
   "metadata": {
    "colab": {
     "autoexec": {
      "startup": false,
      "wait_interval": 0
     }
    },
    "colab_type": "code",
    "id": "GInCcgA9MFAO"
   },
   "outputs": [],
   "source": [
    "cat = df_cat.values.tolist()\n",
    "cat_edges = []\n",
    "for item in cat:\n",
    "    if ',' in item[1]:\n",
    "        senders = item[1].split(',')\n",
    "        for sender in senders:\n",
    "            edge = item.copy()\n",
    "            edge[1] = sender.strip()\n",
    "            cat_edges.append(edge)\n",
    "    else:\n",
    "        cat_edges.append(item)\n",
    "cat_edges2 = []\n",
    "for item in cat_edges:\n",
    "    if ',' in item[2]:\n",
    "        recipients = item[2].split(',')\n",
    "        for recipient in recipients:\n",
    "            edge = item.copy()\n",
    "            edge[2] = recipient.strip()\n",
    "            cat_edges2.append(edge)\n",
    "    else:\n",
    "        cat_edges2.append(item)"
   ]
  },
  {
   "cell_type": "code",
   "execution_count": 16,
   "metadata": {
    "colab": {
     "autoexec": {
      "startup": false,
      "wait_interval": 0
     }
    },
    "colab_type": "code",
    "id": "OCGDfFFNMFAT",
    "outputId": "c592c4bb-606b-411b-b46d-bc42b49fed8f"
   },
   "outputs": [
    {
     "data": {
      "text/html": [
       "<div>\n",
       "<style scoped>\n",
       "    .dataframe tbody tr th:only-of-type {\n",
       "        vertical-align: middle;\n",
       "    }\n",
       "\n",
       "    .dataframe tbody tr th {\n",
       "        vertical-align: top;\n",
       "    }\n",
       "\n",
       "    .dataframe thead th {\n",
       "        text-align: right;\n",
       "    }\n",
       "</style>\n",
       "<table border=\"1\" class=\"dataframe\">\n",
       "  <thead>\n",
       "    <tr style=\"text-align: right;\">\n",
       "      <th></th>\n",
       "      <th>id_text</th>\n",
       "      <th>ancient_author</th>\n",
       "      <th>recipient</th>\n",
       "    </tr>\n",
       "  </thead>\n",
       "  <tbody>\n",
       "    <tr>\n",
       "      <th>0</th>\n",
       "      <td>P224395</td>\n",
       "      <td>Adda-hati</td>\n",
       "      <td>Sargon</td>\n",
       "    </tr>\n",
       "    <tr>\n",
       "      <th>1</th>\n",
       "      <td>P224403</td>\n",
       "      <td>Sargon II</td>\n",
       "      <td>Sargon</td>\n",
       "    </tr>\n",
       "    <tr>\n",
       "      <th>2</th>\n",
       "      <td>P224417</td>\n",
       "      <td>Adda-hati</td>\n",
       "      <td>Sargon</td>\n",
       "    </tr>\n",
       "    <tr>\n",
       "      <th>3</th>\n",
       "      <td>P224431</td>\n",
       "      <td>Bel-duri</td>\n",
       "      <td>Sargon</td>\n",
       "    </tr>\n",
       "    <tr>\n",
       "      <th>4</th>\n",
       "      <td>P224433</td>\n",
       "      <td>Sin-ahhe-eriba</td>\n",
       "      <td>Sargon</td>\n",
       "    </tr>\n",
       "    <tr>\n",
       "      <th>...</th>\n",
       "      <td>...</td>\n",
       "      <td>...</td>\n",
       "      <td>...</td>\n",
       "    </tr>\n",
       "    <tr>\n",
       "      <th>955</th>\n",
       "      <td>P336775</td>\n",
       "      <td></td>\n",
       "      <td>Sargon</td>\n",
       "    </tr>\n",
       "    <tr>\n",
       "      <th>956</th>\n",
       "      <td>P336776</td>\n",
       "      <td></td>\n",
       "      <td>Sargon</td>\n",
       "    </tr>\n",
       "    <tr>\n",
       "      <th>957</th>\n",
       "      <td>P428978</td>\n",
       "      <td>Nabu-belu-kaʾʾin</td>\n",
       "      <td>Sargon</td>\n",
       "    </tr>\n",
       "    <tr>\n",
       "      <th>958</th>\n",
       "      <td>X150289</td>\n",
       "      <td>Aššur-reṣiwa</td>\n",
       "      <td>Sargon</td>\n",
       "    </tr>\n",
       "    <tr>\n",
       "      <th>959</th>\n",
       "      <td>X150335</td>\n",
       "      <td></td>\n",
       "      <td>Sargon</td>\n",
       "    </tr>\n",
       "  </tbody>\n",
       "</table>\n",
       "<p>960 rows × 3 columns</p>\n",
       "</div>"
      ],
      "text/plain": [
       "     id_text    ancient_author recipient\n",
       "0    P224395         Adda-hati    Sargon\n",
       "1    P224403         Sargon II    Sargon\n",
       "2    P224417         Adda-hati    Sargon\n",
       "3    P224431          Bel-duri    Sargon\n",
       "4    P224433    Sin-ahhe-eriba    Sargon\n",
       "..       ...               ...       ...\n",
       "955  P336775                      Sargon\n",
       "956  P336776                      Sargon\n",
       "957  P428978  Nabu-belu-kaʾʾin    Sargon\n",
       "958  X150289      Aššur-reṣiwa    Sargon\n",
       "959  X150335                      Sargon\n",
       "\n",
       "[960 rows x 3 columns]"
      ]
     },
     "execution_count": 16,
     "metadata": {},
     "output_type": "execute_result"
    }
   ],
   "source": [
    "df_cat2 = pd.DataFrame(cat_edges2, columns = df_cat.columns)\n",
    "df_cat2"
   ]
  },
  {
   "cell_type": "markdown",
   "metadata": {
    "colab_type": "text",
    "id": "VaNhcbwLMFAX"
   },
   "source": [
    "Copy the columns `ancient_author` and `recipient` into `source` and `target`, respectively, and add `Type` to make the dataframe compatible with `df_edge_cat` created above. For this set of rows all the edges are Directed because they connect sender and recipient."
   ]
  },
  {
   "cell_type": "code",
   "execution_count": 17,
   "metadata": {
    "colab": {
     "autoexec": {
      "startup": false,
      "wait_interval": 0
     }
    },
    "colab_type": "code",
    "id": "txl6ZDxEMFAa"
   },
   "outputs": [],
   "source": [
    "df_cat2[\"source\"] = df_cat2[\"ancient_author\"].copy()\n",
    "df_cat2[\"target\"] = df_cat2[\"recipient\"].copy()\n",
    "df_cat2[\"Type\"] = \"directed\""
   ]
  },
  {
   "cell_type": "markdown",
   "metadata": {
    "colab_type": "text",
    "id": "FVzMJqOVMFAg"
   },
   "source": [
    "Combine the two Dataframes; change all missing values into the empty string."
   ]
  },
  {
   "cell_type": "code",
   "execution_count": 18,
   "metadata": {
    "colab": {
     "autoexec": {
      "startup": false,
      "wait_interval": 0
     }
    },
    "colab_type": "code",
    "id": "qYPG9a_eMFAi",
    "outputId": "517a2e1e-4711-40ba-cbe8-9b8c8843852c"
   },
   "outputs": [
    {
     "data": {
      "text/html": [
       "<div>\n",
       "<style scoped>\n",
       "    .dataframe tbody tr th:only-of-type {\n",
       "        vertical-align: middle;\n",
       "    }\n",
       "\n",
       "    .dataframe tbody tr th {\n",
       "        vertical-align: top;\n",
       "    }\n",
       "\n",
       "    .dataframe thead th {\n",
       "        text-align: right;\n",
       "    }\n",
       "</style>\n",
       "<table border=\"1\" class=\"dataframe\">\n",
       "  <thead>\n",
       "    <tr style=\"text-align: right;\">\n",
       "      <th></th>\n",
       "      <th>id_text</th>\n",
       "      <th>source</th>\n",
       "      <th>target</th>\n",
       "      <th>Type</th>\n",
       "      <th>ancient_author</th>\n",
       "      <th>recipient</th>\n",
       "    </tr>\n",
       "  </thead>\n",
       "  <tbody>\n",
       "    <tr>\n",
       "      <th>0</th>\n",
       "      <td>P334887</td>\n",
       "      <td>Nabu-hamatua</td>\n",
       "      <td>Kuškaya</td>\n",
       "      <td>undirected</td>\n",
       "      <td>Kuškaya</td>\n",
       "      <td></td>\n",
       "    </tr>\n",
       "    <tr>\n",
       "      <th>1</th>\n",
       "      <td>P334887</td>\n",
       "      <td>Nabu-hamatua</td>\n",
       "      <td>Aššur-šarru-uṣur</td>\n",
       "      <td>undirected</td>\n",
       "      <td>Kuškaya</td>\n",
       "      <td></td>\n",
       "    </tr>\n",
       "    <tr>\n",
       "      <th>2</th>\n",
       "      <td>P334887</td>\n",
       "      <td>Kuškaya</td>\n",
       "      <td>Aššur-šarru-uṣur</td>\n",
       "      <td>undirected</td>\n",
       "      <td>Kuškaya</td>\n",
       "      <td></td>\n",
       "    </tr>\n",
       "    <tr>\n",
       "      <th>3</th>\n",
       "      <td>P334150</td>\n",
       "      <td>Nabu-uṣalla</td>\n",
       "      <td>Mar-Issar</td>\n",
       "      <td>undirected</td>\n",
       "      <td>Nabu-uṣalla</td>\n",
       "      <td></td>\n",
       "    </tr>\n",
       "    <tr>\n",
       "      <th>4</th>\n",
       "      <td>P334674</td>\n",
       "      <td>Šulmu-beli-lašme</td>\n",
       "      <td>Mannu-ki-ahhe</td>\n",
       "      <td>undirected</td>\n",
       "      <td>Šulmu-beli-lašme</td>\n",
       "      <td></td>\n",
       "    </tr>\n",
       "    <tr>\n",
       "      <th>...</th>\n",
       "      <td>...</td>\n",
       "      <td>...</td>\n",
       "      <td>...</td>\n",
       "      <td>...</td>\n",
       "      <td>...</td>\n",
       "      <td>...</td>\n",
       "    </tr>\n",
       "    <tr>\n",
       "      <th>2224</th>\n",
       "      <td>P336775</td>\n",
       "      <td></td>\n",
       "      <td>Sargon</td>\n",
       "      <td>directed</td>\n",
       "      <td></td>\n",
       "      <td>Sargon</td>\n",
       "    </tr>\n",
       "    <tr>\n",
       "      <th>2225</th>\n",
       "      <td>P336776</td>\n",
       "      <td></td>\n",
       "      <td>Sargon</td>\n",
       "      <td>directed</td>\n",
       "      <td></td>\n",
       "      <td>Sargon</td>\n",
       "    </tr>\n",
       "    <tr>\n",
       "      <th>2226</th>\n",
       "      <td>P428978</td>\n",
       "      <td>Nabu-belu-kaʾʾin</td>\n",
       "      <td>Sargon</td>\n",
       "      <td>directed</td>\n",
       "      <td>Nabu-belu-kaʾʾin</td>\n",
       "      <td>Sargon</td>\n",
       "    </tr>\n",
       "    <tr>\n",
       "      <th>2227</th>\n",
       "      <td>X150289</td>\n",
       "      <td>Aššur-reṣiwa</td>\n",
       "      <td>Sargon</td>\n",
       "      <td>directed</td>\n",
       "      <td>Aššur-reṣiwa</td>\n",
       "      <td>Sargon</td>\n",
       "    </tr>\n",
       "    <tr>\n",
       "      <th>2228</th>\n",
       "      <td>X150335</td>\n",
       "      <td></td>\n",
       "      <td>Sargon</td>\n",
       "      <td>directed</td>\n",
       "      <td></td>\n",
       "      <td>Sargon</td>\n",
       "    </tr>\n",
       "  </tbody>\n",
       "</table>\n",
       "<p>2229 rows × 6 columns</p>\n",
       "</div>"
      ],
      "text/plain": [
       "      id_text            source            target        Type  \\\n",
       "0     P334887      Nabu-hamatua           Kuškaya  undirected   \n",
       "1     P334887      Nabu-hamatua  Aššur-šarru-uṣur  undirected   \n",
       "2     P334887           Kuškaya  Aššur-šarru-uṣur  undirected   \n",
       "3     P334150       Nabu-uṣalla         Mar-Issar  undirected   \n",
       "4     P334674  Šulmu-beli-lašme     Mannu-ki-ahhe  undirected   \n",
       "...       ...               ...               ...         ...   \n",
       "2224  P336775                              Sargon    directed   \n",
       "2225  P336776                              Sargon    directed   \n",
       "2226  P428978  Nabu-belu-kaʾʾin            Sargon    directed   \n",
       "2227  X150289      Aššur-reṣiwa            Sargon    directed   \n",
       "2228  X150335                              Sargon    directed   \n",
       "\n",
       "        ancient_author recipient  \n",
       "0              Kuškaya            \n",
       "1              Kuškaya            \n",
       "2              Kuškaya            \n",
       "3          Nabu-uṣalla            \n",
       "4     Šulmu-beli-lašme            \n",
       "...                ...       ...  \n",
       "2224                      Sargon  \n",
       "2225                      Sargon  \n",
       "2226  Nabu-belu-kaʾʾin    Sargon  \n",
       "2227      Aššur-reṣiwa    Sargon  \n",
       "2228                      Sargon  \n",
       "\n",
       "[2229 rows x 6 columns]"
      ]
     },
     "execution_count": 18,
     "metadata": {},
     "output_type": "execute_result"
    }
   ],
   "source": [
    "df_combined = df_edges_cat.append(df_cat2).reset_index(drop=True)\n",
    "df_combined = df_combined.fillna(\"\")\n",
    "df_combined"
   ]
  },
  {
   "cell_type": "markdown",
   "metadata": {
    "colab_type": "text",
    "id": "XD0HAmxHMFAs"
   },
   "source": [
    "Write to a `CSV` file to be imported as an edge list in [Gephi](https://gephi.org/)."
   ]
  },
  {
   "cell_type": "code",
   "execution_count": 19,
   "metadata": {
    "colab": {
     "autoexec": {
      "startup": false,
      "wait_interval": 0
     }
    },
    "colab_type": "code",
    "id": "3vBq6mvmMFAt"
   },
   "outputs": [],
   "source": [
    "with open(\"csv/edges.csv\", mode=\"w\", encoding=\"utf-8\") as w:\n",
    "    df_combined.to_csv(w, index=False)"
   ]
  },
  {
   "cell_type": "markdown",
   "metadata": {
    "colab_type": "text",
    "id": "AUnoWRNZMFAw"
   },
   "source": [
    "# 4 Creat Node List\n",
    "[Gephi](https://gephi.org/) will automatically create a node list from the edge list. The advantage of explicitly adding a node list is that we can add one or more attributes to the nodes.\n",
    "\n",
    "First create the node list from the columns `source` and `target` in the `df_combined` dataframe."
   ]
  },
  {
   "cell_type": "code",
   "execution_count": 20,
   "metadata": {
    "colab": {
     "autoexec": {
      "startup": false,
      "wait_interval": 0
     }
    },
    "colab_type": "code",
    "id": "pwhgpFOzMFAx"
   },
   "outputs": [],
   "source": [
    "nodes = list(set(list(df_combined[\"source\"])) | set(list(df_combined[\"target\"])))\n",
    "df_nodes = pd.DataFrame(nodes, columns=[\"label\"])"
   ]
  },
  {
   "cell_type": "markdown",
   "metadata": {
    "colab_type": "text",
    "id": "UKlkN3eFMFA0"
   },
   "source": [
    "The file `sargoneponymns.csv` is a simple, one-dimensional list of names that match the names as they appear in the data set. Read the list of eponymns (or any other type of attribute) and add a column `eponym`. The value of each row in that column is set to be `True`."
   ]
  },
  {
   "cell_type": "code",
   "execution_count": 21,
   "metadata": {
    "colab": {
     "autoexec": {
      "startup": false,
      "wait_interval": 0
     }
    },
    "colab_type": "code",
    "id": "dg9YYudSMFA1"
   },
   "outputs": [],
   "source": [
    "with open(\"csv/sargoneponyms.csv\", mode=\"r\", encoding=\"utf-8\") as f:\n",
    "    eponyms = pd.read_csv(f)\n",
    "eponyms[\"eponym\"] = True"
   ]
  },
  {
   "cell_type": "markdown",
   "metadata": {
    "colab_type": "text",
    "id": "PKhG9tfLMFA3"
   },
   "source": [
    "Merge the `df_nodes` dataframe with the `eponymns` dataframe. The `outer` method keeps all rows of both dataframes and joins them where they match (in this case on `label`). The default behavior of `merge()` is to keep only those rows that match. Where there is no match (not an eponym) the `eponym` column will have `NaN` (\"Not a Number\", or missing value). These missing values are set to `False`.\n",
    "\n",
    "Copy the column `label` into a column `Id`. The `Id` column is used by Gephi to identify nodes; the `label` column is used to display labels in a graph."
   ]
  },
  {
   "cell_type": "code",
   "execution_count": 22,
   "metadata": {
    "colab": {
     "autoexec": {
      "startup": false,
      "wait_interval": 0
     }
    },
    "colab_type": "code",
    "id": "80t4a0hVMFA3",
    "outputId": "3239cd4f-3ba4-4db0-8084-9067c76267b2"
   },
   "outputs": [
    {
     "data": {
      "text/html": [
       "<div>\n",
       "<style scoped>\n",
       "    .dataframe tbody tr th:only-of-type {\n",
       "        vertical-align: middle;\n",
       "    }\n",
       "\n",
       "    .dataframe tbody tr th {\n",
       "        vertical-align: top;\n",
       "    }\n",
       "\n",
       "    .dataframe thead th {\n",
       "        text-align: right;\n",
       "    }\n",
       "</style>\n",
       "<table border=\"1\" class=\"dataframe\">\n",
       "  <thead>\n",
       "    <tr style=\"text-align: right;\">\n",
       "      <th></th>\n",
       "      <th>label</th>\n",
       "      <th>eponym</th>\n",
       "      <th>Id</th>\n",
       "    </tr>\n",
       "  </thead>\n",
       "  <tbody>\n",
       "    <tr>\n",
       "      <th>0</th>\n",
       "      <td></td>\n",
       "      <td>False</td>\n",
       "      <td></td>\n",
       "    </tr>\n",
       "    <tr>\n",
       "      <th>1</th>\n",
       "      <td>Radmanu</td>\n",
       "      <td>False</td>\n",
       "      <td>Radmanu</td>\n",
       "    </tr>\n",
       "    <tr>\n",
       "      <th>2</th>\n",
       "      <td>Ammi-raʾi</td>\n",
       "      <td>False</td>\n",
       "      <td>Ammi-raʾi</td>\n",
       "    </tr>\n",
       "    <tr>\n",
       "      <th>3</th>\n",
       "      <td>Kiṣir-Aššur</td>\n",
       "      <td>False</td>\n",
       "      <td>Kiṣir-Aššur</td>\n",
       "    </tr>\n",
       "    <tr>\n",
       "      <th>4</th>\n",
       "      <td>Nani</td>\n",
       "      <td>False</td>\n",
       "      <td>Nani</td>\n",
       "    </tr>\n",
       "    <tr>\n",
       "      <th>...</th>\n",
       "      <td>...</td>\n",
       "      <td>...</td>\n",
       "      <td>...</td>\n",
       "    </tr>\n",
       "    <tr>\n",
       "      <th>464</th>\n",
       "      <td>Ahhešaya</td>\n",
       "      <td>False</td>\n",
       "      <td>Ahhešaya</td>\n",
       "    </tr>\n",
       "    <tr>\n",
       "      <th>465</th>\n",
       "      <td>Naṣibi</td>\n",
       "      <td>False</td>\n",
       "      <td>Naṣibi</td>\n",
       "    </tr>\n",
       "    <tr>\n",
       "      <th>466</th>\n",
       "      <td>Aššur-belu-daʾʾin</td>\n",
       "      <td>False</td>\n",
       "      <td>Aššur-belu-daʾʾin</td>\n",
       "    </tr>\n",
       "    <tr>\n",
       "      <th>467</th>\n",
       "      <td>Nabu-zer-ketti-lešir</td>\n",
       "      <td>False</td>\n",
       "      <td>Nabu-zer-ketti-lešir</td>\n",
       "    </tr>\n",
       "    <tr>\n",
       "      <th>468</th>\n",
       "      <td>Nabu-mušallim</td>\n",
       "      <td>False</td>\n",
       "      <td>Nabu-mušallim</td>\n",
       "    </tr>\n",
       "  </tbody>\n",
       "</table>\n",
       "<p>469 rows × 3 columns</p>\n",
       "</div>"
      ],
      "text/plain": [
       "                    label  eponym                    Id\n",
       "0                           False                      \n",
       "1                 Radmanu   False               Radmanu\n",
       "2               Ammi-raʾi   False             Ammi-raʾi\n",
       "3             Kiṣir-Aššur   False           Kiṣir-Aššur\n",
       "4                    Nani   False                  Nani\n",
       "..                    ...     ...                   ...\n",
       "464              Ahhešaya   False              Ahhešaya\n",
       "465                Naṣibi   False                Naṣibi\n",
       "466     Aššur-belu-daʾʾin   False     Aššur-belu-daʾʾin\n",
       "467  Nabu-zer-ketti-lešir   False  Nabu-zer-ketti-lešir\n",
       "468         Nabu-mušallim   False         Nabu-mušallim\n",
       "\n",
       "[469 rows x 3 columns]"
      ]
     },
     "execution_count": 22,
     "metadata": {},
     "output_type": "execute_result"
    }
   ],
   "source": [
    "df = df_nodes.merge(eponyms, on = \"label\", how=\"outer\")\n",
    "df[\"eponym\"] = df[\"eponym\"].fillna(False)\n",
    "df[\"Id\"] = df[\"label\"].copy()\n",
    "df"
   ]
  },
  {
   "cell_type": "markdown",
   "metadata": {
    "colab_type": "text",
    "id": "eyjx4GtOMFA5"
   },
   "source": [
    "Save the nodes list as a CSV."
   ]
  },
  {
   "cell_type": "code",
   "execution_count": 23,
   "metadata": {
    "colab": {
     "autoexec": {
      "startup": false,
      "wait_interval": 0
     }
    },
    "colab_type": "code",
    "id": "0wFKsXtkMFA6"
   },
   "outputs": [],
   "source": [
    "with open(\"csv/nodes.csv\", mode=\"w\", encoding=\"utf-8\") as w:\n",
    "    df.to_csv(w, index=False)"
   ]
  },
  {
   "cell_type": "markdown",
   "metadata": {
    "colab_type": "text",
    "id": "0-KP9dLFMFA9"
   },
   "source": [
    "# 5 Import in [Gephi](https://gephi.org/)\n",
    "First, import the node list (go to Data Laboratory and click on `import spreadsheet`). After importing, copy the `Id` column to the `Label` column. Now import the edge list. The order of import is important. When you import an edge list, [Gephi](https://gephi.org/) will add all non-existent nodes to the node list."
   ]
  },
  {
   "cell_type": "code",
   "execution_count": null,
   "metadata": {
    "colab": {
     "autoexec": {
      "startup": false,
      "wait_interval": 0
     }
    },
    "colab_type": "code",
    "id": "mO6APkulMFA_"
   },
   "outputs": [],
   "source": []
  }
 ],
 "metadata": {
  "colab": {
   "default_view": {},
   "name": "make_edge_node_list.ipynb",
   "provenance": [],
   "version": "0.3.2",
   "views": {}
  },
  "kernelspec": {
   "display_name": "Python 3",
   "language": "python",
   "name": "python3"
  },
  "language_info": {
   "codemirror_mode": {
    "name": "ipython",
    "version": 3
   },
   "file_extension": ".py",
   "mimetype": "text/x-python",
   "name": "python",
   "nbconvert_exporter": "python",
   "pygments_lexer": "ipython3",
   "version": "3.7.6"
  }
 },
 "nbformat": 4,
 "nbformat_minor": 4
}
