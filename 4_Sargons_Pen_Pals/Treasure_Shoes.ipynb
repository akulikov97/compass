{
 "cells": [
  {
   "cell_type": "markdown",
   "metadata": {},
   "source": [
    "# The Treasure And Shoe Archive from Drehem\n",
    "\n",
    "The Treasure and Shoe archive from Drehem (ancient Puzriš-Dagan) is a relatively small archive of administrative texts that date to the 21st century BCE and deal with valuable objects (made of metals and stone) and leather objects (shoes and belts, etc.. The archive was studied in detail by Paola Paoletti in her book *Der König und sein Kreis* (2012). The present notebook essentially takes the texts edited and studied by Paoletti, assigning roles to personal names in each text. This data is then used to study the network of persons involved in this archive. The network is drawn in an interactive plot.\n",
    "\n",
    "This notebook goes through several steps: \n",
    "* Data acquisition\n",
    "* Data cleaning\n",
    "* Defining Nodes\n",
    "* Assigning roles\n",
    "* Defining edges\n",
    "* Creating a Network (using networkx)\n",
    "* Plotting the network (using bokeh)"
   ]
  },
  {
   "cell_type": "markdown",
   "metadata": {},
   "source": [
    "# Import the Necessary Modules\n",
    "Here we import the modules necessary for data acquisition and data cleaning and for assignment of roles and edges."
   ]
  },
  {
   "cell_type": "code",
   "execution_count": 1,
   "metadata": {},
   "outputs": [],
   "source": [
    "import warnings\n",
    "warnings.simplefilter(action='ignore', category=FutureWarning) # this suppresses a warning about pandas from tqdmimport pandas as pd\n",
    "import os\n",
    "import sys\n",
    "import zipfile\n",
    "import json\n",
    "from tqdm.auto import tqdm\n",
    "tqdm.pandas()\n",
    "from ipywidgets import interact\n",
    "import re\n",
    "import pickle\n",
    "util_dir = os.path.abspath('../utils')\n",
    "sys.path.append(util_dir)\n",
    "from utils import *"
   ]
  },
  {
   "cell_type": "markdown",
   "metadata": {},
   "source": [
    "# The Corpus\n",
    "\n",
    "A list of P numbers (text ID numbers) of texts that belong to the Treasure/Shoe archive is available in the directory `csv`, kindly made available by Paolo Paoletti. This list contains some additional information, for instance where a text was published, and to which sub-archive it belongs. The latter information may be used later on to separate the Treasure texts from the leather texts (or to color those differently in the plot).\n",
    "\n",
    "One of the texts studied in her book still remains unpublished and is therefore not included (this is U.30117). Several additional Treasury texts were published by [Nawalla Al-Mutawalli and Walther Sallaberger 2018](https://doi-org.libproxy.berkeley.edu/10.1515/za-2017-0101) and one additional leather text is found in [RSO 83 (2010), 345 text 14](http://oracc.org/epsd2/admin/ur3/P433582). Another leather text was identified among the photographs of texts from the Louvre ([AO 11393](http://oracc.org/epsd2/admin/ur3/P493329)) made available on [CDLI](http://cli.ucla.edu/P493329).\n",
    "\n",
    "The corpus used here is, therefore, not exactly identical to what was used in Paoletti's book - but it is very close. At the moment of writing the corpus that is being used includes 288 documents."
   ]
  },
  {
   "cell_type": "code",
   "execution_count": 2,
   "metadata": {},
   "outputs": [],
   "source": [
    "file = 'csv/treasury_shoes2.txt'\n",
    "tr_df = pd.read_csv(file, encoding='utf8')\n",
    "ids = list(tr_df['id_text'])\n",
    "ids.sort()"
   ]
  },
  {
   "cell_type": "markdown",
   "metadata": {},
   "source": [
    "# Downloading the Corpus\n",
    "When running this notebook for the first time (or after a major update of the Ur III corpus on [epsd2](http://oracc.org/epsd2/admin/ur3) it is necessary to download the entire Ur III corpus in JSON format. If you already have the file `epsd2-admin-ur3.zip` in the `jsonzip` directory you may comment out the command that does the download, by placing a hashmark (#) in front of it as follows: \n",
    "\n",
    "``` python\n",
    "#oracc_download([project])\n",
    "```\n",
    "\n",
    "Remove the hashmark and run the cell again to download a fresh copy (this is a large file and may take a while, depending on your computer and your connection)."
   ]
  },
  {
   "cell_type": "code",
   "execution_count": 3,
   "metadata": {},
   "outputs": [],
   "source": [
    "project = 'epsd2/admin/ur3'\n",
    "#oracc_download([project]);"
   ]
  },
  {
   "cell_type": "markdown",
   "metadata": {},
   "source": [
    "# The Parsejson function\n",
    "\n",
    "The `parsejson()` function used here differs in one way from the ones demonstrated in Chapter 2.1. The code looks for a `key` `ftype` (meaning field type) among the lemmatization data. The only value that `ftype` may take in this corpus is `yn`, indicating that a word is part of a year name. By including that data we may easily exclude year names from our analysis. We will, of course, consider the dating of each texts (that is part of the metadata). The vocabulary of the year names, however, is irrelevant for understanding the transactions and connections described in this corpus."
   ]
  },
  {
   "cell_type": "code",
   "execution_count": 4,
   "metadata": {},
   "outputs": [],
   "source": [
    "def parsejson(text):\n",
    "    for JSONobject in text[\"cdl\"]:\n",
    "        if \"cdl\" in JSONobject: \n",
    "            parsejson(JSONobject)\n",
    "        if \"label\" in JSONobject:\n",
    "            meta_d[\"label\"] = JSONobject['label']\n",
    "        if \"f\" in JSONobject:\n",
    "            lemma = JSONobject[\"f\"]\n",
    "            if \"ftype\" in JSONobject:\n",
    "                lemma['ftype'] = JSONobject['ftype'] # this picks up YN for year name\n",
    "            lemma[\"id_word\"] = JSONobject[\"ref\"]\n",
    "            lemma['label'] = meta_d[\"label\"]\n",
    "            lemma[\"id_text\"] = meta_d[\"id_text\"]\n",
    "            lemm_l.append(lemma)\n",
    "        if \"strict\" in JSONobject and JSONobject[\"strict\"] == \"1\":\n",
    "            lemma = {key: JSONobject[key] for key in dollar_keys}\n",
    "            lemma[\"id_word\"] = JSONobject[\"ref\"]\n",
    "            lemma[\"id_text\"] = meta_d[\"id_text\"]\n",
    "            lemm_l.append(lemma)\n",
    "    return"
   ]
  },
  {
   "cell_type": "markdown",
   "metadata": {},
   "source": [
    "# Call the Parseron Treasury Texts\n",
    "\n",
    "The variable `ids`, created above, holds all the P numbers of the documents we are interested in. This list is used to define the list of files to be extracted from the `zip` file and to be sent to the parser. Otherwise, the code below is identical to the code in Chapter 2.1."
   ]
  },
  {
   "cell_type": "code",
   "execution_count": 5,
   "metadata": {},
   "outputs": [
    {
     "data": {
      "application/vnd.jupyter.widget-view+json": {
       "model_id": "0998086d60ce4a83994a20c9ed1679de",
       "version_major": 2,
       "version_minor": 0
      },
      "text/plain": [
       "HBox(children=(FloatProgress(value=0.0, description='epsd2/admin/ur3', max=288.0, style=ProgressStyle(descript…"
      ]
     },
     "metadata": {},
     "output_type": "display_data"
    },
    {
     "name": "stdout",
     "output_type": "stream",
     "text": [
      "epsd2/admin/ur3/P143238 is not available or not complete\n",
      "\n"
     ]
    }
   ],
   "source": [
    "lemm_l = []\n",
    "meta_d = {\"label\": None, \"id_text\": None}\n",
    "dollar_keys = [\"extent\", \"scope\", \"state\"]\n",
    "file = f\"jsonzip/{project.replace('/', '-')}.zip\"\n",
    "try:\n",
    "    z = zipfile.ZipFile(file) \n",
    "except:\n",
    "    print(f\"{file} does not exist or is not a proper ZIP file\")\n",
    "files = z.namelist() # list of all the files in the ZIP file\n",
    "files = [name for name in files if name[-12:-5] in ids] # select only those of the treasury/leather archive\n",
    "for filename in tqdm(files, desc = project):\n",
    "    id_text = project + filename[-13:-5] \n",
    "    meta_d[\"id_text\"] = id_text\n",
    "    try:\n",
    "        st = z.read(filename).decode('utf-8')\n",
    "        data_json = json.loads(st)           \n",
    "        parsejson(data_json)\n",
    "    except:\n",
    "        print(f'{id_text} is not available or not complete')\n",
    "z.close()"
   ]
  },
  {
   "cell_type": "markdown",
   "metadata": {},
   "source": [
    "# DataFrame\n",
    "\n",
    "The `parsejson()` function has filled the list of lists `lemm_l` with data. This list  is read into a DataFrame for further manipulation. We remove commas and spaces from Guide Words and simplify the field `id_text` to read \"P433582\" instead of \"epsd2/admin/ur3/P433582\" (all documents derive from [epsd2/admin/ur3](http://oracc.org/epsd2/admin/ur3)).\n",
    "\n",
    "Finally the code adds a field `id_line` in order to keep track of the lines in a document. Since lines are meaningful units in Sumerian texts, this will be an important tool. \n",
    "\n",
    "All of these steps are identical (or very similar) to steps explained in Chapter 2.1."
   ]
  },
  {
   "cell_type": "code",
   "execution_count": 6,
   "metadata": {},
   "outputs": [],
   "source": [
    "words = pd.DataFrame(lemm_l).fillna('')\n",
    "keep = ['extent', 'scope', 'state', 'id_word', 'id_text', 'form', 'cf', 'gw', 'pos', 'ftype', 'label']\n",
    "words = words[keep]\n",
    "words['gw'] = words['gw'].replace([' ', ','], ['', ''], regex=True)\n",
    "words['id_text'] = [i[-7:] for i in words['id_text']]\n",
    "words['id_line'] = [int(i.split('.')[1]) for i in words['id_word']]"
   ]
  },
  {
   "cell_type": "markdown",
   "metadata": {},
   "source": [
    "# Creating a Lemma Field\n",
    "\n",
    "The `lemma` field strings Citation Form, Guide Word, and Part of Speech together and is dealt with in the same way as in Chapter 2.1 Words that remain unlemmatized (e.g. because of illegible or broken signs) are represented by their `form` and numbers receive the POS 'NU'. \n",
    "\n",
    "In the DataFrame (physical) breaks and text divisions (marked by horizontal rulings on the tablet, blank lines, and the like) are preserved in the field `state`. Such demarcations have their own entry in the DataFrame and receive their own line ID, but they do not have data in fields such as `form`. In order to keep track of breaks we will define two different types: logical and physical breaks. The keywords break_physical and break_logical are included in the `lemma` column. "
   ]
  },
  {
   "cell_type": "code",
   "execution_count": 7,
   "metadata": {},
   "outputs": [
    {
     "data": {
      "text/html": [
       "<div>\n",
       "<style scoped>\n",
       "    .dataframe tbody tr th:only-of-type {\n",
       "        vertical-align: middle;\n",
       "    }\n",
       "\n",
       "    .dataframe tbody tr th {\n",
       "        vertical-align: top;\n",
       "    }\n",
       "\n",
       "    .dataframe thead th {\n",
       "        text-align: right;\n",
       "    }\n",
       "</style>\n",
       "<table border=\"1\" class=\"dataframe\">\n",
       "  <thead>\n",
       "    <tr style=\"text-align: right;\">\n",
       "      <th></th>\n",
       "      <th>extent</th>\n",
       "      <th>scope</th>\n",
       "      <th>state</th>\n",
       "      <th>id_word</th>\n",
       "      <th>id_text</th>\n",
       "      <th>form</th>\n",
       "      <th>cf</th>\n",
       "      <th>gw</th>\n",
       "      <th>pos</th>\n",
       "      <th>ftype</th>\n",
       "      <th>label</th>\n",
       "      <th>id_line</th>\n",
       "      <th>lemma</th>\n",
       "    </tr>\n",
       "  </thead>\n",
       "  <tbody>\n",
       "    <tr>\n",
       "      <th>0</th>\n",
       "      <td>n</td>\n",
       "      <td>line</td>\n",
       "      <td>missing</td>\n",
       "      <td>P104232.3</td>\n",
       "      <td>P104232</td>\n",
       "      <td></td>\n",
       "      <td></td>\n",
       "      <td></td>\n",
       "      <td></td>\n",
       "      <td></td>\n",
       "      <td></td>\n",
       "      <td>3</td>\n",
       "      <td>break_physical</td>\n",
       "    </tr>\n",
       "    <tr>\n",
       "      <th>1</th>\n",
       "      <td></td>\n",
       "      <td></td>\n",
       "      <td></td>\n",
       "      <td>P104232.5.1</td>\n",
       "      <td>P104232</td>\n",
       "      <td>šu</td>\n",
       "      <td>šu</td>\n",
       "      <td>hand</td>\n",
       "      <td>N</td>\n",
       "      <td></td>\n",
       "      <td>r 1</td>\n",
       "      <td>5</td>\n",
       "      <td>šu[hand]N</td>\n",
       "    </tr>\n",
       "    <tr>\n",
       "      <th>2</th>\n",
       "      <td></td>\n",
       "      <td></td>\n",
       "      <td></td>\n",
       "      <td>P104232.5.2</td>\n",
       "      <td>P104232</td>\n",
       "      <td>ba-ti</td>\n",
       "      <td>teŋ</td>\n",
       "      <td>near</td>\n",
       "      <td>V/i</td>\n",
       "      <td></td>\n",
       "      <td>r 1</td>\n",
       "      <td>5</td>\n",
       "      <td>teŋ[near]V/i</td>\n",
       "    </tr>\n",
       "    <tr>\n",
       "      <th>3</th>\n",
       "      <td></td>\n",
       "      <td></td>\n",
       "      <td></td>\n",
       "      <td>P104232.6.1</td>\n",
       "      <td>P104232</td>\n",
       "      <td>ša₃</td>\n",
       "      <td>šag</td>\n",
       "      <td>heart</td>\n",
       "      <td>N</td>\n",
       "      <td></td>\n",
       "      <td>r 2</td>\n",
       "      <td>6</td>\n",
       "      <td>šag[heart]N</td>\n",
       "    </tr>\n",
       "    <tr>\n",
       "      <th>4</th>\n",
       "      <td></td>\n",
       "      <td></td>\n",
       "      <td></td>\n",
       "      <td>P104232.6.2</td>\n",
       "      <td>P104232</td>\n",
       "      <td>puzur₄-iš-{d}da-gan</td>\n",
       "      <td>Puzrišdagan</td>\n",
       "      <td>1</td>\n",
       "      <td>SN</td>\n",
       "      <td></td>\n",
       "      <td>r 2</td>\n",
       "      <td>6</td>\n",
       "      <td>Puzrišdagan[1]SN</td>\n",
       "    </tr>\n",
       "    <tr>\n",
       "      <th>5</th>\n",
       "      <td></td>\n",
       "      <td></td>\n",
       "      <td></td>\n",
       "      <td>P104232.7.1</td>\n",
       "      <td>P104232</td>\n",
       "      <td>iti</td>\n",
       "      <td>itud</td>\n",
       "      <td>moon</td>\n",
       "      <td>N</td>\n",
       "      <td></td>\n",
       "      <td>r 3</td>\n",
       "      <td>7</td>\n",
       "      <td>itud[moon]N</td>\n",
       "    </tr>\n",
       "    <tr>\n",
       "      <th>6</th>\n",
       "      <td></td>\n",
       "      <td></td>\n",
       "      <td></td>\n",
       "      <td>P104232.7.2</td>\n",
       "      <td>P104232</td>\n",
       "      <td>ki-siki-{d}nin-a-zu</td>\n",
       "      <td>Kisikininazuk</td>\n",
       "      <td>1</td>\n",
       "      <td>MN</td>\n",
       "      <td></td>\n",
       "      <td>r 3</td>\n",
       "      <td>7</td>\n",
       "      <td>Kisikininazuk[1]MN</td>\n",
       "    </tr>\n",
       "    <tr>\n",
       "      <th>7</th>\n",
       "      <td></td>\n",
       "      <td></td>\n",
       "      <td></td>\n",
       "      <td>P104232.7.3</td>\n",
       "      <td>P104232</td>\n",
       "      <td>min-kam</td>\n",
       "      <td>min</td>\n",
       "      <td>two</td>\n",
       "      <td>NU</td>\n",
       "      <td></td>\n",
       "      <td>r 3</td>\n",
       "      <td>7</td>\n",
       "      <td>min[two]NU</td>\n",
       "    </tr>\n",
       "    <tr>\n",
       "      <th>8</th>\n",
       "      <td></td>\n",
       "      <td></td>\n",
       "      <td></td>\n",
       "      <td>P104232.8.1</td>\n",
       "      <td>P104232</td>\n",
       "      <td>mu</td>\n",
       "      <td>mu</td>\n",
       "      <td>year</td>\n",
       "      <td>N</td>\n",
       "      <td>yn</td>\n",
       "      <td>r 4</td>\n",
       "      <td>8</td>\n",
       "      <td>mu[year]N</td>\n",
       "    </tr>\n",
       "    <tr>\n",
       "      <th>9</th>\n",
       "      <td></td>\n",
       "      <td></td>\n",
       "      <td></td>\n",
       "      <td>P104232.8.2</td>\n",
       "      <td>P104232</td>\n",
       "      <td>si-mu-ru-um{ki}</td>\n",
       "      <td>Si.mu.ru.um</td>\n",
       "      <td>00</td>\n",
       "      <td>SN</td>\n",
       "      <td>yn</td>\n",
       "      <td>r 4</td>\n",
       "      <td>8</td>\n",
       "      <td>Si.mu.ru.um[00]SN</td>\n",
       "    </tr>\n",
       "  </tbody>\n",
       "</table>\n",
       "</div>"
      ],
      "text/plain": [
       "  extent scope    state      id_word  id_text                 form  \\\n",
       "0      n  line  missing    P104232.3  P104232                        \n",
       "1                        P104232.5.1  P104232                   šu   \n",
       "2                        P104232.5.2  P104232                ba-ti   \n",
       "3                        P104232.6.1  P104232                  ša₃   \n",
       "4                        P104232.6.2  P104232  puzur₄-iš-{d}da-gan   \n",
       "5                        P104232.7.1  P104232                  iti   \n",
       "6                        P104232.7.2  P104232  ki-siki-{d}nin-a-zu   \n",
       "7                        P104232.7.3  P104232              min-kam   \n",
       "8                        P104232.8.1  P104232                   mu   \n",
       "9                        P104232.8.2  P104232      si-mu-ru-um{ki}   \n",
       "\n",
       "              cf     gw  pos ftype label  id_line               lemma  \n",
       "0                                               3      break_physical  \n",
       "1             šu   hand    N         r 1        5           šu[hand]N  \n",
       "2            teŋ   near  V/i         r 1        5        teŋ[near]V/i  \n",
       "3            šag  heart    N         r 2        6         šag[heart]N  \n",
       "4    Puzrišdagan      1   SN         r 2        6    Puzrišdagan[1]SN  \n",
       "5           itud   moon    N         r 3        7         itud[moon]N  \n",
       "6  Kisikininazuk      1   MN         r 3        7  Kisikininazuk[1]MN  \n",
       "7            min    two   NU         r 3        7          min[two]NU  \n",
       "8             mu   year    N    yn   r 4        8           mu[year]N  \n",
       "9    Si.mu.ru.um     00   SN    yn   r 4        8   Si.mu.ru.um[00]SN  "
      ]
     },
     "execution_count": 7,
     "metadata": {},
     "output_type": "execute_result"
    }
   ],
   "source": [
    "physical_break = ['illegible', 'traces', 'missing', 'effaced']\n",
    "logical_break = ['other', 'blank', 'ruling']\n",
    "words['lemma'] = words[\"cf\"] + '[' + words[\"gw\"] + ']' + words[\"pos\"]\n",
    "words.loc[words[\"cf\"] == \"\" , 'lemma'] = words['form'] + '[NA]NA'\n",
    "words.loc[words[\"pos\"] == \"n\" , 'lemma'] = words['form'] + '[]NU'\n",
    "words.loc[words[\"state\"].isin(logical_break), 'lemma'] = \"break_logical\"\n",
    "words.loc[words[\"state\"].isin(physical_break), 'lemma'] = \"break_physical\"\n",
    "words.head(10)"
   ]
  },
  {
   "cell_type": "markdown",
   "metadata": {},
   "source": [
    "# Proper Nouns in the Ur III Corpus\n",
    "## The Name Authority\n",
    "\n",
    "In order to build a network of interactions between individuals in the Treasury corpus we need to be able to extract proper nouns. The lemmatization of proper nouns in this corpus is still in early stages, so that we cannot fully rely on the lemmatized data as represented in our DataFrame. A list of all proper nouns from Drehem texts was put together by John Carnahan and Niek Veldhuis, based on the Drehem texts in [BDTNS](http://bdtns.filol.csic.es/), December 2016. This list includes the form of each name (in transliteration) plus a normalization of that name in [epsd2](http://oracc.org/epsd2) style. The list includes spelling variants as well as names with morphology. Thus, **Ur-{d}en-lil₂**, **Ur-{d}en-lil₂-la₂**, and **Ur-{d}en-lil₂-la₂-ta** are all listed seperately, and are all associated with the same name, as follows: \n",
    "```csv\n",
    "Ur-{d}En-lil₂,UrEnlilak[]PN,\n",
    "Ur-{d}En-lil₂-la₂,UrEnlilak[]PN,\n",
    "Ur-{d}En-lil₂-la₂-še₃,UrEnlilak[]PN,\n",
    "Ur-{d}En-lil₂-la₂-ka-še₃,UrEnlilak[]PN,\n",
    "Ur-{d}En-lil₂-la₂-ka-ta,UrEnlilak[]PN,\n",
    "Ur-{d}En-lil₂-la₂-ke₄,UrEnlilak[]PN,\n",
    "Ur-{d}En-lil₂-la₂-ta,UrEnlilak[]PN,\n",
    "Ur-{d}En-lil₂-ta,UrEnlilak[]PN,\n",
    "```\n",
    "Similarly, name instances that have different spellings but belong to the same person are associated with one normalized form of that name, as in: \n",
    "```csv\n",
    "{d}Šul-gi-si-im-ti,Šulgisimti[]PN, \n",
    "{d}Šul-gi-si-im-tum,Šulgisimti[]PN,\n",
    "```\n",
    "\n",
    "The list includes all name forms from Drehem (in 2016), currently almost 6,000 entries. \n",
    "\n",
    "We will use this list (`drehem_norm_names.csv`, available in the `Normalized` directory) to find proper nouns (Personal Names, Divine Names, Geographical Names, etc.) in our DataFrame and to create more reliable lemmatizations than [epsd2](http://oracc.org/epsd2) can offer today."
   ]
  },
  {
   "cell_type": "code",
   "execution_count": 8,
   "metadata": {},
   "outputs": [
    {
     "data": {
      "text/html": [
       "<div>\n",
       "<style scoped>\n",
       "    .dataframe tbody tr th:only-of-type {\n",
       "        vertical-align: middle;\n",
       "    }\n",
       "\n",
       "    .dataframe tbody tr th {\n",
       "        vertical-align: top;\n",
       "    }\n",
       "\n",
       "    .dataframe thead th {\n",
       "        text-align: right;\n",
       "    }\n",
       "</style>\n",
       "<table border=\"1\" class=\"dataframe\">\n",
       "  <thead>\n",
       "    <tr style=\"text-align: right;\">\n",
       "      <th></th>\n",
       "      <th>transliteration</th>\n",
       "      <th>normalization</th>\n",
       "      <th>remarks</th>\n",
       "    </tr>\n",
       "  </thead>\n",
       "  <tbody>\n",
       "    <tr>\n",
       "      <th>0</th>\n",
       "      <td>A-AN-ba-az</td>\n",
       "      <td>A.AN.ba.az[]PN</td>\n",
       "      <td>MVN 13 464 r 10 (copy/photo)</td>\n",
       "    </tr>\n",
       "    <tr>\n",
       "      <th>1</th>\n",
       "      <td>A-KU-um</td>\n",
       "      <td>A.KU.um[]PN</td>\n",
       "      <td>Aegyptus 10, 270 27 o 7 (copy)</td>\n",
       "    </tr>\n",
       "    <tr>\n",
       "      <th>2</th>\n",
       "      <td>A-KU.KU-ta</td>\n",
       "      <td>A.KU.KU[]PN</td>\n",
       "      <td>AnOr 12 277 o i 17' (copy)</td>\n",
       "    </tr>\n",
       "    <tr>\n",
       "      <th>3</th>\n",
       "      <td>A-NI-ta</td>\n",
       "      <td>A.NI[]PN</td>\n",
       "      <td>Babyl. 7 pl. 22 18 o 3 (copy)</td>\n",
       "    </tr>\n",
       "    <tr>\n",
       "      <th>4</th>\n",
       "      <td>A-U.E₂-nu-tuku</td>\n",
       "      <td>A.U.E₂.nu.tuku[]PN</td>\n",
       "      <td>AnOr 07 150 o 2: A-U.KID-nu-tuku IŠ (copy/photo)</td>\n",
       "    </tr>\n",
       "    <tr>\n",
       "      <th>...</th>\n",
       "      <td>...</td>\n",
       "      <td>...</td>\n",
       "      <td>...</td>\n",
       "    </tr>\n",
       "    <tr>\n",
       "      <th>5802</th>\n",
       "      <td>{d}utu</td>\n",
       "      <td>Utu[]DN</td>\n",
       "      <td></td>\n",
       "    </tr>\n",
       "    <tr>\n",
       "      <th>5803</th>\n",
       "      <td>{d}utu-bar-ra</td>\n",
       "      <td>Utubara[]DN</td>\n",
       "      <td></td>\n",
       "    </tr>\n",
       "    <tr>\n",
       "      <th>5804</th>\n",
       "      <td>Ma₂-gur₈-mah</td>\n",
       "      <td>Magurmah[]ON</td>\n",
       "      <td></td>\n",
       "    </tr>\n",
       "    <tr>\n",
       "      <th>5805</th>\n",
       "      <td>Ma₂-dara₃-abzu</td>\n",
       "      <td>Madaraʾabzu[]ON</td>\n",
       "      <td></td>\n",
       "    </tr>\n",
       "    <tr>\n",
       "      <th>5806</th>\n",
       "      <td>Lugal-uri₅{ki}-e-ki-ag₂</td>\n",
       "      <td>LugalUrimekiʾaŋ[]ON</td>\n",
       "      <td></td>\n",
       "    </tr>\n",
       "  </tbody>\n",
       "</table>\n",
       "<p>5807 rows × 3 columns</p>\n",
       "</div>"
      ],
      "text/plain": [
       "              transliteration        normalization  \\\n",
       "0                  A-AN-ba-az       A.AN.ba.az[]PN   \n",
       "1                     A-KU-um          A.KU.um[]PN   \n",
       "2                  A-KU.KU-ta          A.KU.KU[]PN   \n",
       "3                     A-NI-ta             A.NI[]PN   \n",
       "4              A-U.E₂-nu-tuku   A.U.E₂.nu.tuku[]PN   \n",
       "...                       ...                  ...   \n",
       "5802                   {d}utu              Utu[]DN   \n",
       "5803            {d}utu-bar-ra          Utubara[]DN   \n",
       "5804             Ma₂-gur₈-mah         Magurmah[]ON   \n",
       "5805           Ma₂-dara₃-abzu      Madaraʾabzu[]ON   \n",
       "5806  Lugal-uri₅{ki}-e-ki-ag₂  LugalUrimekiʾaŋ[]ON   \n",
       "\n",
       "                                               remarks  \n",
       "0                         MVN 13 464 r 10 (copy/photo)  \n",
       "1                       Aegyptus 10, 270 27 o 7 (copy)  \n",
       "2                           AnOr 12 277 o i 17' (copy)  \n",
       "3                        Babyl. 7 pl. 22 18 o 3 (copy)  \n",
       "4     AnOr 07 150 o 2: A-U.KID-nu-tuku IŠ (copy/photo)  \n",
       "...                                                ...  \n",
       "5802                                                    \n",
       "5803                                                    \n",
       "5804                                                    \n",
       "5805                                                    \n",
       "5806                                                    \n",
       "\n",
       "[5807 rows x 3 columns]"
      ]
     },
     "execution_count": 8,
     "metadata": {},
     "output_type": "execute_result"
    }
   ],
   "source": [
    "normdf = pd.read_csv('Normalized/drehem_norm_names.csv', encoding='utf8')\n",
    "normdf"
   ]
  },
  {
   "cell_type": "markdown",
   "metadata": {},
   "source": [
    "# Reduce Names to Sign Sequences\n",
    "\n",
    "Many Proper Nouns may validly be transcribed in different ways. Sometimes that is the case because the name is not fully understood or of foreign origin. The city name **a-dam-DUN{ki}** is read variously **a-dam-šah₂{ki}**, **a-dam-dun{ki}**, or **a-dam-DUN{ki}** by different scholars. For a network, the correct reading is of less importance than a consistent reading. All these readings reflect a sign sequence **A DAM DUN KI**, a sequence of signs that cannot plausibly be anything else than a reference to this city.\n",
    "\n",
    "We will, therefore, use the ORACC Global Sign List ([ogsl](http://oracc.org/ogsl) to transform each name form in our name authority into a sequence of signs. We will do the same with the column `form` of our DataFrame to find matching sign sequences.\n",
    "\n",
    "Much of the code in the following cells is equivalent to code in Chapter 2.4, where we developed a tool for searching signs in [bdtns](http://bdtns.filol.csic.es/) data.\n",
    "\n",
    "# Download OGSL\n",
    "\n",
    "Using code developed in Chapter 2, download the file `ogsl.zip`, which contains all of the [OGSL](http://oracc.org/ogsl) data (sign names and sign readings) in JSON format."
   ]
  },
  {
   "cell_type": "code",
   "execution_count": 9,
   "metadata": {},
   "outputs": [
    {
     "name": "stdout",
     "output_type": "stream",
     "text": [
      "Saving http://build-oracc.museum.upenn.edu/json/ogsl.zip as jsonzip/ogsl.zip.\n"
     ]
    },
    {
     "data": {
      "application/vnd.jupyter.widget-view+json": {
       "model_id": "e906a238d8d74942ba54e149a2a2d23e",
       "version_major": 2,
       "version_minor": 0
      },
      "text/plain": [
       "HBox(children=(FloatProgress(value=0.0, description='ogsl', max=208728.0, style=ProgressStyle(description_widt…"
      ]
     },
     "metadata": {},
     "output_type": "display_data"
    }
   ],
   "source": [
    "oracc_download(['ogsl']);"
   ]
  },
  {
   "cell_type": "markdown",
   "metadata": {},
   "source": [
    "# Sign Equivalencies\n",
    "\n",
    "In the Ur III period, some signs that are differentiated in [OGSL](http://oracc.org/ogsl) have fallen together. For instance, **DUR₂** and **KU**, which are separate in the Fara period, are represented by the same sign in Ur III. Such signs are listed in the following dictionary. A compiled regular expression is used to replace sign names where appropriate."
   ]
  },
  {
   "cell_type": "code",
   "execution_count": 10,
   "metadata": {},
   "outputs": [],
   "source": [
    "equiv = {'ANŠE' : 'GIR₃', \n",
    "        'DUR₂' : 'KU', \n",
    "        'NAM₂' : 'TUG₂', \n",
    "        'TIL' : 'BAD', \n",
    "        'NI₂' : 'IM',\n",
    "        'ŠAR₂' : 'HI', \n",
    "        }\n",
    "w = re.compile(r'\\w+') # replace whole words only - do not replace TILLA with BADLA.\n",
    "           # but do replace |SAL.ANŠE| with |SAL.GIR₃|"
   ]
  },
  {
   "cell_type": "markdown",
   "metadata": {},
   "source": [
    "# Parse OGSL\n",
    "The parse function uses the `equiv` dictionary and the compiled regular expression to fill a dictionary, associating each valid sign reading with a sign name."
   ]
  },
  {
   "cell_type": "code",
   "execution_count": 11,
   "metadata": {},
   "outputs": [],
   "source": [
    "def parseogsljson(data_json):\n",
    "    for key, value in data_json[\"signs\"].items():\n",
    "        key = re.sub(w, lambda m: equiv.get(m.group(), m.group()), key)\n",
    "        if \"values\" in value:\n",
    "            for n in value[\"values\"]:\n",
    "                d2[n] = key\n",
    "    return"
   ]
  },
  {
   "cell_type": "markdown",
   "metadata": {},
   "source": [
    "# Call the OGSL parser\n",
    "Calling  the function in the previous cell, a dictionary is formed where each `key` is a sign value and each `value` a sign name."
   ]
  },
  {
   "cell_type": "code",
   "execution_count": 12,
   "metadata": {},
   "outputs": [
    {
     "name": "stdout",
     "output_type": "stream",
     "text": [
      "\n"
     ]
    }
   ],
   "source": [
    "d2 = {}  # this empty dictionary is filled by the parsejson() function, called in this cell.\n",
    "file = \"jsonzip/ogsl.zip\"\n",
    "z = zipfile.ZipFile(file) \n",
    "filename = \"ogsl/ogsl-sl.json\"\n",
    "signlist = z.read(filename).decode('utf-8')\n",
    "data_json = json.loads(signlist)                # make it into a json object (essentially a dictionary)\n",
    "parseogsljson(data_json)  \n",
    "with open('output/ogsl_dict.p', 'wb') as p:\n",
    "    pickle.dump(d2, p)  "
   ]
  },
  {
   "cell_type": "code",
   "execution_count": 13,
   "metadata": {},
   "outputs": [],
   "source": [
    "separators = ['{', '}', '-']\n",
    "separators2 = ['.', '+', '|']  # used in compound signs\n",
    "#operators = ['&', '%', '@', '×']\n",
    "flags = \"][?<>⸢⸣⌈⌉*/\" # note that ! is omitted from flags, because it is dealt with separately\n",
    "table = str.maketrans(dict.fromkeys(flags))"
   ]
  },
  {
   "cell_type": "code",
   "execution_count": 14,
   "metadata": {},
   "outputs": [],
   "source": [
    "def signnames(translit):  \n",
    "    \"\"\"This function takes a string of transliterated cuneiform text and translates that string into a string of\n",
    "    sign names, separated by spaces. In order to work it needs the variables separators, separators2, flags, and table defined above. The variable table\n",
    "    is used by the translate() method to translate all flags (except for !) to None. The function also needs a dictionary, called d2, that has as\n",
    "    keys sign readings and sign names as corresponding values. In case a key is not found, the sign reading is replaced by itself.\"\"\"\n",
    "    signnames_l = []\n",
    "    translit = translit.translate(table).lower()  # remove flags, half brackets, square brackets.\n",
    "    translit = translit.replace('...', 'x')\n",
    "    for s in separators: # split transliterated form into signs   \n",
    "        translit = translit.replace(s, ' ').strip()\n",
    "    s_l = translit.split() # s_l is a list that contains the sequence of transliterated signs without separators or flags\n",
    "    s_l = [d2.get(sign, sign) for sign in s_l] # replace each transliterated sign with its sign name.\n",
    "    # Now take care of some special situations: signs with qualifiers, compound signs.\n",
    "    for sign in s_l:\n",
    "        if '!' in sign: # corrected sign, as in ka!(SAG), get only the corrected reading.\n",
    "            sign = sign.split('!(')[0]\n",
    "            sign = sign.replace('!', '') # remove remaining exclamation marks\n",
    "        elif sign[-1] == ')' and '(' in sign: # qualified sign, as in ziₓ(SIG₇) - get only the qualifier\n",
    "            sign = sign.split('(')[1][:-1]\n",
    "        if '×' in sign: #compound. Compound like |KA×NINDA| to be replaced by |KA×GAR|\n",
    "            sign_l = sign.replace('|', '').split('×')\n",
    "            #replace individual signs of the compound by OGSL names\n",
    "            sign_l = [d2.get(sign, sign) for sign in sign_l] \n",
    "            # if user enters |KA*EŠ| this is transformed to ['KA', '|U.U.U|']. The pipes around U.U.U must be replaced by brackets\n",
    "            sign_l = [f'({sign[1:-1]})' if len(sign) > 1 and sign[0] == '|' else sign for sign in sign_l]\n",
    "            sign = f\"|{'×'.join(sign_l)}|\"  #put the sign together again with enclosing pipes.\n",
    "        elif '.' in sign or '+' in sign: # using elif, so that compounds like |UD×(U.U.U)| are not further analyzed.\n",
    "            for s in separators2:\n",
    "                sign = sign.replace(s, ' ').strip() \n",
    "            sign_l = sign.split()  # compound sign split into multiple signs\n",
    "            sign_l = [d2.get(sign, sign) for sign in sign_l]\n",
    "            for se in separators2:   # in case d2.get returns a compound sign name\n",
    "                sign_l = [si.replace(se, ' ').strip() for si in sign_l]\n",
    "            signnames_l.extend(sign_l)\n",
    "            continue\n",
    "        sign = d2.get(sign, sign)\n",
    "        signnames_l.append(sign)\n",
    "    # add space before and after each line so that each sign representation is enclosed in spaces\n",
    "    signnames = f\" {' '.join(signnames_l).upper()} \" \n",
    "    return signnames"
   ]
  },
  {
   "cell_type": "markdown",
   "metadata": {},
   "source": [
    "# Create a Column Sign_Names\n",
    "Use the function in the cell above to add a new column column, called `sign_names` to  the name authority (the DataFrame `normdf`) and to the `words` DataFrame."
   ]
  },
  {
   "cell_type": "code",
   "execution_count": 15,
   "metadata": {},
   "outputs": [
    {
     "data": {
      "application/vnd.jupyter.widget-view+json": {
       "model_id": "1c7ef3342ca4449ba027c8d4cccd04ad",
       "version_major": 2,
       "version_minor": 0
      },
      "text/plain": [
       "HBox(children=(FloatProgress(value=0.0, max=5807.0), HTML(value='')))"
      ]
     },
     "metadata": {},
     "output_type": "display_data"
    },
    {
     "name": "stdout",
     "output_type": "stream",
     "text": [
      "\n"
     ]
    },
    {
     "data": {
      "application/vnd.jupyter.widget-view+json": {
       "model_id": "f3f7411835724fb18848d98f9cad7e8e",
       "version_major": 2,
       "version_minor": 0
      },
      "text/plain": [
       "HBox(children=(FloatProgress(value=0.0, max=11477.0), HTML(value='')))"
      ]
     },
     "metadata": {},
     "output_type": "display_data"
    },
    {
     "name": "stdout",
     "output_type": "stream",
     "text": [
      "\n"
     ]
    }
   ],
   "source": [
    "normdf[\"sign_names\"] = normdf[\"transliteration\"].progress_map(signnames)\n",
    "words['sign_names'] = words['form'].progress_map(signnames)"
   ]
  },
  {
   "cell_type": "markdown",
   "metadata": {},
   "source": [
    "# Proper Noun Dictionary\n",
    "Transform the Name Authority in a dictionary with `sign_names` as key and `normalization` as value and use this dictionary to transform words marked as Proper Nouns or 'X' (unknown) in the Part of Speech (`pos`) column into normalized names."
   ]
  },
  {
   "cell_type": "code",
   "execution_count": 16,
   "metadata": {},
   "outputs": [
    {
     "data": {
      "application/vnd.jupyter.widget-view+json": {
       "model_id": "360029eb85b24d2ebb3313cd37bc4027",
       "version_major": 2,
       "version_minor": 0
      },
      "text/plain": [
       "HBox(children=(FloatProgress(value=0.0, max=11477.0), HTML(value='')))"
      ]
     },
     "metadata": {},
     "output_type": "display_data"
    },
    {
     "name": "stdout",
     "output_type": "stream",
     "text": [
      "\n"
     ]
    }
   ],
   "source": [
    "proper_nouns = ['RN', 'PN', 'DN', 'AN', 'WN', 'ON', 'TN', 'CN', 'GN', 'SN']\n",
    "normd2 = dict(zip(normdf['sign_names'], normdf['normalization']))\n",
    "words.loc[words.pos.isin(proper_nouns + ['X']), 'lemma'] = words.progress_apply(lambda x: normd2.get(x['sign_names'], x['lemma']), axis=1)"
   ]
  },
  {
   "cell_type": "markdown",
   "metadata": {},
   "source": [
    "# Apply Corrections\n",
    "The Ur III data sets as represented in [epsd2/admin/ur3](http://oracc.org/epsd2/admin/ur3) may still contain errors, which will  surface later in the process. For instance, a name does not show up in the analysis, because it has not been lemmatized as a name. Or, the other way around, a word may have been falsely lemmatized as a name. When found, such errors can be corrected (temporarily) in the file `corr.csv` in the directory `Normalized`, associating forms with correct lemmatizations. The final line of code in this cell will correct the column `pos` when necessary."
   ]
  },
  {
   "cell_type": "code",
   "execution_count": 17,
   "metadata": {},
   "outputs": [
    {
     "data": {
      "application/vnd.jupyter.widget-view+json": {
       "model_id": "aaa15f803e2a41069d3a40c3654da85e",
       "version_major": 2,
       "version_minor": 0
      },
      "text/plain": [
       "HBox(children=(FloatProgress(value=0.0, max=11477.0), HTML(value='')))"
      ]
     },
     "metadata": {},
     "output_type": "display_data"
    },
    {
     "name": "stdout",
     "output_type": "stream",
     "text": [
      "\n"
     ]
    }
   ],
   "source": [
    "corrections = pd.read_csv('Normalized/corr.csv', encoding='utf8')\n",
    "corr_d = dict(zip(corrections['form'], corrections['corr']))\n",
    "words.loc[words.pos.isin(proper_nouns + ['X']), 'lemma'] = words.progress_apply(lambda x: corr_d.get(x['form'], x['lemma']), axis =1)\n",
    "words['pos'] = [w.split(']')[-1] if ']' in w else '' for w in words['lemma']]"
   ]
  },
  {
   "cell_type": "markdown",
   "metadata": {},
   "source": [
    "# Document Typology\n",
    "Different types of documents will be treated differently. In the Treasure Archive the main document types are Intake, Expenditure, and Transfer.\n",
    "\n",
    "|  type           | keyword         | lemma(s)              | description |\n",
    "|----------------|------------------|-----------------------|-------------|\n",
    "| Intake      | mu-kuₓ(DU)      | mu.DU\\[delivery\\]N      | materials delivered to the administration |\n",
    "| Expenditure | ba-zi or zi-ga  | zig[rise]V/i          | materials expended by the administration |\n",
    "| Transfer    | šu ba-ti        | šu\\[hand\\]N teŋ\\[near\\]V/i | materials transfered from one office to another |\n",
    "\n",
    "In the great majority of cases they canbe identified simply by looking  for the keyword lemmas.\n",
    "\n",
    "This typology is discussed in much detail in Paoletti's *Der König und sein Kreis* (2012), Chapter 2.1 and 3.1."
   ]
  },
  {
   "cell_type": "code",
   "execution_count": 18,
   "metadata": {},
   "outputs": [],
   "source": [
    "texttype = []\n",
    "for i in ids:\n",
    "    ttype = ''\n",
    "    text = list(words.loc[words.id_text == i, 'lemma'])\n",
    "    if 'mu.DU[delivery]N' in text:\n",
    "        ttype = 'intake'\n",
    "    elif 'zig[rise]V/i' in text:\n",
    "        ttype = 'expenditure'\n",
    "    elif 'teŋ[near]V/i' in text: \n",
    "        ttype = 'transfer'\n",
    "    texttype.append(ttype)\n",
    "treasure = dict(zip(ids, texttype))"
   ]
  },
  {
   "cell_type": "markdown",
   "metadata": {},
   "source": [
    "# Proper Nouns\n",
    "\n",
    "For the node list, select Personal Names (PN) and Royal Names (RN) but skip those that appear in Year Names or Seals. Add lugal (king) sukkalmah (prime minister) and nin (queen), because these actors may be mentioned without personal name."
   ]
  },
  {
   "cell_type": "code",
   "execution_count": 19,
   "metadata": {},
   "outputs": [],
   "source": [
    "unnamed = {'lugal[king]N', 'nin[queen]N', 'sukkalmah[official]N'}\n",
    "names = set(words.loc[words.pos.isin(['PN', 'RN', 'DN']), 'lemma'])\n",
    "actors = unnamed | names\n",
    "seal = list(words.loc[words.label.str.contains('seal'), 'id_word'])\n",
    "yn = list(words.loc[words.ftype == 'yn', 'id_word'])\n",
    "exclude = seal + yn\n",
    "PNs = words.loc[(words.lemma.isin(actors)) & (~words.id_word.isin(exclude))].copy()"
   ]
  },
  {
   "cell_type": "markdown",
   "metadata": {},
   "source": [
    "# Define keywords and the corresponding roles\n",
    "The accounts use key words to indicate the particular role of each person in a document. Some of these key words (or key phrases, in some instances) follow the Proper Noun, others precede it. Thus when the word **ŋiri\\[foot\\]N** immediately precedes a Personal Name, that person is an intermediary (or transporter). A Personal Name followed by **šu\\[hand\\]N teŋ\\[near\\]V/i** marks the recipient of goods.\n",
    "\n",
    "The keywords are associated with a role in two separate dictionaries."
   ]
  },
  {
   "cell_type": "code",
   "execution_count": 20,
   "metadata": {},
   "outputs": [],
   "source": [
    "key_post = {'mu.DU[delivery]N': 'deliverer', 'maškim[administrator]N' : 'representative', \n",
    "               'zig[rise]V/i' : 'expender',\n",
    "               'šu[hand]N teŋ[near]V/i': 'recipient' , 'šu[hand]N us[follow]V/t': 'sender'}\n",
    "key_pre =  {'ŋiri[foot]N' : 'intermediary', \n",
    "            'arua[offering]N' : 'offerer', 'kišib[seal]N' : 'sealer', \n",
    "            'gabari[copy]N kišib[seal]N' : 'sealer', 'mu.DU[delivery]N' : 'deliverer',\n",
    "            'mu[name]N' : 'reason', 'ki[place]N' : 'source', 'kiŋ[work]N ak[do]N' : 'producer'}"
   ]
  },
  {
   "cell_type": "markdown",
   "metadata": {},
   "source": [
    "# Determine the Role of each PN\n",
    "In order to identify the role of each PN the dictionaries defined in the previous cell are used. Most of the keywords are found on the same line as the PN. \n",
    "# TODO: \n",
    "default role in texttype transfer. Check default roles for other text types."
   ]
  },
  {
   "cell_type": "code",
   "execution_count": 21,
   "metadata": {},
   "outputs": [],
   "source": [
    "role = []\n",
    "attribute = []\n",
    "for i in PNs.index:                           # the index of PNs is identical to the one of words\n",
    "    Pno = PNs.loc[i]['id_text']                    # the text ID (P number)\n",
    "    lineno = PNs.loc[i]['id_line']                 # the line number inwhich the PN appears\n",
    "    text = words.loc[words.id_text == Pno]                # the entire text\n",
    "    line = text.loc[text.id_line == lineno] #  the line with the PN\n",
    "    mnw = line.index[0]                 # index no of firstword in line\n",
    "    mxw = line.index[-1]                   # index no. of last word in line\n",
    "    mx = text.index[-1]                    # index no. of last word in text\n",
    "    mxl = text.loc[mx]['id_line']          # highest line number in text\n",
    "    if lineno < mxl:                       # check that nextline is still in the same text\n",
    "        nextlno = words.loc[mxw+1]['id_line']\n",
    "        nextline = text.loc[text.id_line == nextlno] # words in nextline\n",
    "    else:\n",
    "        nextline = line\n",
    "    attr = []\n",
    "    r = ''\n",
    "    if i < mxw:\n",
    "        attr = list(line.loc[i+1:]['lemma'])\n",
    "    if mnw == i:               # PN in first position\n",
    "        r = key_post.get(line.loc[mxw]['lemma'], r)    # keyword appears in same line in last position\n",
    "        r = key_post.get(words.loc[mxw+1]['lemma'], r) # or in the next line in first position\n",
    "        if len(line) > 1:                   # additional words are attributes of the name\n",
    "            lastwords = ' '.join(list(line[-2:]['lemma'])) # two-word keywords (as in šu ba-ti)\n",
    "            r = key_post.get(lastwords, r)\n",
    "        if len(nextline) > 1:               # two-word keyword appearing in first position in next line\n",
    "            firstwords = ' '.join(list(nextline[:2]['lemma']))\n",
    "            r = key_post.get(firstwords, r)\n",
    "            \n",
    "    elif i > mnw:             # PN appears further in line with keyword(s) preceding\n",
    "        firstwords = ' '.join(list(line.loc[mnw:i-1]['lemma']))  # join all words before PN\n",
    "        r = key_pre.get(firstwords, r)        # ŋiri₃ PN; ki PN-ta; kin ak PN; etc\n",
    "        if line.loc[mnw]['lemma'] == 'ki[place]N' and line.loc[mxw]['form'].endswith('-še₃'): \n",
    "            r = 'destination'              # special case: ki PN-še₃         \n",
    "        if r == '':                # role has not been filled yet\n",
    "            PN = [w for w in line.loc[mnw:i-1]['lemma'] if w in list(PNs['lemma'])] # is there another PN previously in the line?\n",
    "            if PN:\n",
    "                if words.loc[i-1]['lemma'] == 'u[and]CNJ':\n",
    "                    r = role[-1]               # same role as previous PN\n",
    "                else:\n",
    "                    r = 'relation'             # as in PN dumu PN\n",
    "            elif treasure.get(Pno) == 'expenditure': # commodities + PN: recipient\n",
    "                r = 'recipient'\n",
    "            else:                              # if there is no preceding PN: drop the name\n",
    "                r = 'none'                     # this may  need refinement\n",
    "        if PNs.loc[i]['lemma'] in unnamed and words.loc[i-1]['lemma'] in list(PNs['lemma']):  \n",
    "            r = 'none'       # 'unnamed' person is preceded byname\n",
    "    if r == '' :\n",
    "        if treasure.get(Pno) == 'expenditure': # default role for zi-ga/ba-zi texts\n",
    "            r = 'recipient'\n",
    "        elif treasure.get(Pno) == 'intake' or treasure.get(Pno) == 'transfer':    # default role for mu-DU texts\n",
    "            r = 'source'\n",
    "    role.append(r)\n",
    "    attribute.append(' '.join(attr))\n",
    "PNs['role'] = role\n",
    "PNs['attribute'] = attribute"
   ]
  },
  {
   "cell_type": "markdown",
   "metadata": {},
   "source": [
    "# Show results in a table with links for checking"
   ]
  },
  {
   "cell_type": "code",
   "execution_count": 22,
   "metadata": {},
   "outputs": [],
   "source": [
    "anchor = '<a href=\"http://build-oracc.museum.upenn.edu/epsd2/admin/ur3/{}\", target=\"_blank\">{}</a>'\n",
    "PNs2 = PNs.copy()\n",
    "PNs2['id_word'] = [anchor.format(val,val) for val in PNs['id_word']]"
   ]
  },
  {
   "cell_type": "code",
   "execution_count": 23,
   "metadata": {},
   "outputs": [
    {
     "data": {
      "application/vnd.jupyter.widget-view+json": {
       "model_id": "ea329c782bcb4c9eaade7c119ad7b5ad",
       "version_major": 2,
       "version_minor": 0
      },
      "text/plain": [
       "interactive(children=(IntSlider(value=25, description='rows', max=1270, min=1), Output()), _dom_classes=('widg…"
      ]
     },
     "metadata": {},
     "output_type": "display_data"
    }
   ],
   "source": [
    "@interact(rows = (1, len(PNs2), 1))\n",
    "def showpns(rows = 25): \n",
    "    return PNs2.loc[PNs2.id_text == 'P103763', ['id_word', 'form', 'pos', 'lemma', 'role', 'attribute']][:rows].style"
   ]
  },
  {
   "cell_type": "markdown",
   "metadata": {},
   "source": [
    "# Create Edges\n",
    "Needs checking. Deal with roles 'offerer' and 'reason'"
   ]
  },
  {
   "cell_type": "code",
   "execution_count": 24,
   "metadata": {},
   "outputs": [],
   "source": [
    "intake = [i for i in ids if treasure.get(i) == 'intake']"
   ]
  },
  {
   "cell_type": "code",
   "execution_count": 25,
   "metadata": {},
   "outputs": [],
   "source": [
    "edges = []\n",
    "for i in ids:                              # one text ID at a time; muDU texts\n",
    "    people = PNs.index[PNs.id_text == i]    # indexes of all the people in that text\n",
    "    for p in people:                       # iterate over those indexes\n",
    "        source = ''\n",
    "        target = ''\n",
    "        role = PNs.loc[p]['role']\n",
    "        if role in ['intermediary', 'representative']:\n",
    "            source = PNs.loc[p]['lemma']\n",
    "            q = [n for n in people if n > p and PNs.loc[n]['role'] in ['recipient', 'sealer']]  # look for target after the source\n",
    "            if q:\n",
    "                target = PNs.loc[q[0]]['lemma']\n",
    "        elif role in ['sender', 'deliverer', 'source']:\n",
    "            source = PNs.loc[p]['lemma']\n",
    "            q = [n for n in people if n > p and PNs.loc[n]['role'] in ['recipient', 'sealer', 'intermediary']] \n",
    "            if q:\n",
    "                target = PNs.loc[q[0]]['lemma']\n",
    "        elif role == 'relation':\n",
    "            source = PNs.loc[p]['lemma']\n",
    "            q = [n for n in people if n < p]\n",
    "            if q:\n",
    "                target = PNs.loc[q[-1]]['lemma']\n",
    "        elif role in ['recipient', 'sealer']:\n",
    "            target = PNs.loc[p]['lemma']\n",
    "            q = [n for n in people if n > p and PNs.loc[n]['role'] in ['representative', 'source', 'intermediary']]\n",
    "            if q:\n",
    "                source = PNs.loc[q[0]]['lemma']\n",
    "        if source and target:\n",
    "            edges.append([source, target, i])"
   ]
  },
  {
   "cell_type": "code",
   "execution_count": 26,
   "metadata": {},
   "outputs": [],
   "source": [
    "edgs = pd.DataFrame(edges)\n",
    "edgs.columns = ['source', 'target', 'id_text']\n",
    "anchor = '<a href=\"http://build-oracc.museum.upenn.edu/epsd2/admin/ur3/{}\", target=\"_blank\">{}</a>'\n",
    "edgs2 = edgs.copy()\n",
    "edgs2['id_text'] = [anchor.format(val,val) for val in edgs['id_text']]"
   ]
  },
  {
   "cell_type": "code",
   "execution_count": 27,
   "metadata": {},
   "outputs": [
    {
     "data": {
      "application/vnd.jupyter.widget-view+json": {
       "model_id": "ec6e3b7387694689a727927aa7d4f38e",
       "version_major": 2,
       "version_minor": 0
      },
      "text/plain": [
       "interactive(children=(IntSlider(value=25, description='rows', max=263, min=1), Output()), _dom_classes=('widge…"
      ]
     },
     "metadata": {},
     "output_type": "display_data"
    }
   ],
   "source": [
    "@interact(rows = (1, len(edgs2), 1))\n",
    "def showedges(rows = 25): \n",
    "    return edgs2.loc[edgs2.duplicated()][:rows].style"
   ]
  },
  {
   "cell_type": "markdown",
   "metadata": {},
   "source": [
    "TODO: remove duplicates; make multiple edges between the same people into weights; make into directed graph"
   ]
  },
  {
   "cell_type": "code",
   "execution_count": 28,
   "metadata": {},
   "outputs": [],
   "source": [
    "edgs = edgs.drop_duplicates()"
   ]
  },
  {
   "cell_type": "code",
   "execution_count": 29,
   "metadata": {},
   "outputs": [],
   "source": [
    "edgs2 = edgs.groupby(['source', 'target']).agg({'id_text': list}).reset_index()"
   ]
  },
  {
   "cell_type": "code",
   "execution_count": 30,
   "metadata": {},
   "outputs": [
    {
     "data": {
      "text/html": [
       "<div>\n",
       "<style scoped>\n",
       "    .dataframe tbody tr th:only-of-type {\n",
       "        vertical-align: middle;\n",
       "    }\n",
       "\n",
       "    .dataframe tbody tr th {\n",
       "        vertical-align: top;\n",
       "    }\n",
       "\n",
       "    .dataframe thead th {\n",
       "        text-align: right;\n",
       "    }\n",
       "</style>\n",
       "<table border=\"1\" class=\"dataframe\">\n",
       "  <thead>\n",
       "    <tr style=\"text-align: right;\">\n",
       "      <th></th>\n",
       "      <th>source</th>\n",
       "      <th>target</th>\n",
       "      <th>id_text</th>\n",
       "      <th>weight</th>\n",
       "    </tr>\n",
       "  </thead>\n",
       "  <tbody>\n",
       "    <tr>\n",
       "      <th>0</th>\n",
       "      <td>2[00]PN</td>\n",
       "      <td>2[00]PN</td>\n",
       "      <td>[P127321]</td>\n",
       "      <td>1</td>\n",
       "    </tr>\n",
       "    <tr>\n",
       "      <th>1</th>\n",
       "      <td>2[00]PN</td>\n",
       "      <td>Amurili[]PN</td>\n",
       "      <td>[P129700]</td>\n",
       "      <td>1</td>\n",
       "    </tr>\n",
       "    <tr>\n",
       "      <th>2</th>\n",
       "      <td>2[00]PN</td>\n",
       "      <td>Huba[]PN</td>\n",
       "      <td>[P134048]</td>\n",
       "      <td>1</td>\n",
       "    </tr>\n",
       "    <tr>\n",
       "      <th>3</th>\n",
       "      <td>2[00]PN</td>\n",
       "      <td>Itutuʾa[]PN</td>\n",
       "      <td>[P126620]</td>\n",
       "      <td>1</td>\n",
       "    </tr>\n",
       "    <tr>\n",
       "      <th>4</th>\n",
       "      <td>2[00]PN</td>\n",
       "      <td>Lugal.x[00]PN</td>\n",
       "      <td>[P141796]</td>\n",
       "      <td>1</td>\n",
       "    </tr>\n",
       "    <tr>\n",
       "      <th>...</th>\n",
       "      <td>...</td>\n",
       "      <td>...</td>\n",
       "      <td>...</td>\n",
       "      <td>...</td>\n",
       "    </tr>\n",
       "    <tr>\n",
       "      <th>213</th>\n",
       "      <td>Šuruškin[]PN</td>\n",
       "      <td>Ludiŋirak[]PN</td>\n",
       "      <td>[P124318]</td>\n",
       "      <td>1</td>\n",
       "    </tr>\n",
       "    <tr>\n",
       "      <th>214</th>\n",
       "      <td>Šušug[]PN</td>\n",
       "      <td>Ludiŋirak[]PN</td>\n",
       "      <td>[P131604]</td>\n",
       "      <td>1</td>\n",
       "    </tr>\n",
       "    <tr>\n",
       "      <th>215</th>\n",
       "      <td>ŠuʾEnlil[]PN</td>\n",
       "      <td>Abuṭab[]PN</td>\n",
       "      <td>[P134759]</td>\n",
       "      <td>1</td>\n",
       "    </tr>\n",
       "    <tr>\n",
       "      <th>216</th>\n",
       "      <td>ŠuʾEnlil[]PN</td>\n",
       "      <td>Dayyanummišar[]PN</td>\n",
       "      <td>[P131578]</td>\n",
       "      <td>1</td>\n",
       "    </tr>\n",
       "    <tr>\n",
       "      <th>217</th>\n",
       "      <td>ŠuʾEštar[]PN</td>\n",
       "      <td>Lugalkugzu[]PN</td>\n",
       "      <td>[P141790]</td>\n",
       "      <td>1</td>\n",
       "    </tr>\n",
       "  </tbody>\n",
       "</table>\n",
       "<p>218 rows × 4 columns</p>\n",
       "</div>"
      ],
      "text/plain": [
       "           source             target    id_text  weight\n",
       "0         2[00]PN            2[00]PN  [P127321]       1\n",
       "1         2[00]PN        Amurili[]PN  [P129700]       1\n",
       "2         2[00]PN           Huba[]PN  [P134048]       1\n",
       "3         2[00]PN        Itutuʾa[]PN  [P126620]       1\n",
       "4         2[00]PN      Lugal.x[00]PN  [P141796]       1\n",
       "..            ...                ...        ...     ...\n",
       "213  Šuruškin[]PN      Ludiŋirak[]PN  [P124318]       1\n",
       "214     Šušug[]PN      Ludiŋirak[]PN  [P131604]       1\n",
       "215  ŠuʾEnlil[]PN         Abuṭab[]PN  [P134759]       1\n",
       "216  ŠuʾEnlil[]PN  Dayyanummišar[]PN  [P131578]       1\n",
       "217  ŠuʾEštar[]PN     Lugalkugzu[]PN  [P141790]       1\n",
       "\n",
       "[218 rows x 4 columns]"
      ]
     },
     "execution_count": 30,
     "metadata": {},
     "output_type": "execute_result"
    }
   ],
   "source": [
    "edgs2['weight'] = [len(i) for i in edgs2['id_text']]\n",
    "edgs2"
   ]
  },
  {
   "cell_type": "code",
   "execution_count": 31,
   "metadata": {},
   "outputs": [],
   "source": [
    "edgs2['id_text'] = [','.join(i)for i in edgs2['id_text']]"
   ]
  },
  {
   "cell_type": "code",
   "execution_count": 32,
   "metadata": {},
   "outputs": [
    {
     "data": {
      "text/html": [
       "<div>\n",
       "<style scoped>\n",
       "    .dataframe tbody tr th:only-of-type {\n",
       "        vertical-align: middle;\n",
       "    }\n",
       "\n",
       "    .dataframe tbody tr th {\n",
       "        vertical-align: top;\n",
       "    }\n",
       "\n",
       "    .dataframe thead th {\n",
       "        text-align: right;\n",
       "    }\n",
       "</style>\n",
       "<table border=\"1\" class=\"dataframe\">\n",
       "  <thead>\n",
       "    <tr style=\"text-align: right;\">\n",
       "      <th></th>\n",
       "      <th>source</th>\n",
       "      <th>target</th>\n",
       "      <th>id_text</th>\n",
       "      <th>weight</th>\n",
       "    </tr>\n",
       "  </thead>\n",
       "  <tbody>\n",
       "    <tr>\n",
       "      <th>0</th>\n",
       "      <td>2[00]PN</td>\n",
       "      <td>2[00]PN</td>\n",
       "      <td>P127321</td>\n",
       "      <td>1</td>\n",
       "    </tr>\n",
       "    <tr>\n",
       "      <th>1</th>\n",
       "      <td>2[00]PN</td>\n",
       "      <td>Amurili[]PN</td>\n",
       "      <td>P129700</td>\n",
       "      <td>1</td>\n",
       "    </tr>\n",
       "    <tr>\n",
       "      <th>2</th>\n",
       "      <td>2[00]PN</td>\n",
       "      <td>Huba[]PN</td>\n",
       "      <td>P134048</td>\n",
       "      <td>1</td>\n",
       "    </tr>\n",
       "    <tr>\n",
       "      <th>3</th>\n",
       "      <td>2[00]PN</td>\n",
       "      <td>Itutuʾa[]PN</td>\n",
       "      <td>P126620</td>\n",
       "      <td>1</td>\n",
       "    </tr>\n",
       "    <tr>\n",
       "      <th>4</th>\n",
       "      <td>2[00]PN</td>\n",
       "      <td>Lugal.x[00]PN</td>\n",
       "      <td>P141796</td>\n",
       "      <td>1</td>\n",
       "    </tr>\n",
       "    <tr>\n",
       "      <th>...</th>\n",
       "      <td>...</td>\n",
       "      <td>...</td>\n",
       "      <td>...</td>\n",
       "      <td>...</td>\n",
       "    </tr>\n",
       "    <tr>\n",
       "      <th>213</th>\n",
       "      <td>Šuruškin[]PN</td>\n",
       "      <td>Ludiŋirak[]PN</td>\n",
       "      <td>P124318</td>\n",
       "      <td>1</td>\n",
       "    </tr>\n",
       "    <tr>\n",
       "      <th>214</th>\n",
       "      <td>Šušug[]PN</td>\n",
       "      <td>Ludiŋirak[]PN</td>\n",
       "      <td>P131604</td>\n",
       "      <td>1</td>\n",
       "    </tr>\n",
       "    <tr>\n",
       "      <th>215</th>\n",
       "      <td>ŠuʾEnlil[]PN</td>\n",
       "      <td>Abuṭab[]PN</td>\n",
       "      <td>P134759</td>\n",
       "      <td>1</td>\n",
       "    </tr>\n",
       "    <tr>\n",
       "      <th>216</th>\n",
       "      <td>ŠuʾEnlil[]PN</td>\n",
       "      <td>Dayyanummišar[]PN</td>\n",
       "      <td>P131578</td>\n",
       "      <td>1</td>\n",
       "    </tr>\n",
       "    <tr>\n",
       "      <th>217</th>\n",
       "      <td>ŠuʾEštar[]PN</td>\n",
       "      <td>Lugalkugzu[]PN</td>\n",
       "      <td>P141790</td>\n",
       "      <td>1</td>\n",
       "    </tr>\n",
       "  </tbody>\n",
       "</table>\n",
       "<p>218 rows × 4 columns</p>\n",
       "</div>"
      ],
      "text/plain": [
       "           source             target  id_text  weight\n",
       "0         2[00]PN            2[00]PN  P127321       1\n",
       "1         2[00]PN        Amurili[]PN  P129700       1\n",
       "2         2[00]PN           Huba[]PN  P134048       1\n",
       "3         2[00]PN        Itutuʾa[]PN  P126620       1\n",
       "4         2[00]PN      Lugal.x[00]PN  P141796       1\n",
       "..            ...                ...      ...     ...\n",
       "213  Šuruškin[]PN      Ludiŋirak[]PN  P124318       1\n",
       "214     Šušug[]PN      Ludiŋirak[]PN  P131604       1\n",
       "215  ŠuʾEnlil[]PN         Abuṭab[]PN  P134759       1\n",
       "216  ŠuʾEnlil[]PN  Dayyanummišar[]PN  P131578       1\n",
       "217  ŠuʾEštar[]PN     Lugalkugzu[]PN  P141790       1\n",
       "\n",
       "[218 rows x 4 columns]"
      ]
     },
     "execution_count": 32,
     "metadata": {},
     "output_type": "execute_result"
    }
   ],
   "source": [
    "edgs2"
   ]
  },
  {
   "cell_type": "code",
   "execution_count": 33,
   "metadata": {},
   "outputs": [],
   "source": [
    "import networkx as nx\n",
    "import matplotlib.pyplot as plt"
   ]
  },
  {
   "cell_type": "markdown",
   "metadata": {},
   "source": [
    "# Create initial Directed Graph"
   ]
  },
  {
   "cell_type": "code",
   "execution_count": 34,
   "metadata": {},
   "outputs": [],
   "source": [
    "G=nx.convert_matrix.from_pandas_edgelist(edgs2, source = 'source', target = 'target', edge_attr = ['id_text', 'weight'],\n",
    "                                        create_using = nx.DiGraph())"
   ]
  },
  {
   "cell_type": "code",
   "execution_count": 35,
   "metadata": {},
   "outputs": [],
   "source": [
    "node_attr = {name : name for name in G.nodes}\n",
    "degree = {name : G.degree[name] for name in G.nodes}\n",
    "node_size = {name : G.degree[name]*3 for name in G.nodes}\n",
    "edge_size = [G[a][b]['weight']*3 for (a,b) in G.edges]\n",
    "nx.set_node_attributes(G, node_attr, \"name\")\n",
    "nx.set_node_attributes(G, degree, \"degree\")\n",
    "nx.set_node_attributes(G, node_size, \"node_size\")\n",
    "nx.set_edge_attributes(G, edge_size, \"edge_size\")"
   ]
  },
  {
   "cell_type": "markdown",
   "metadata": {},
   "source": [
    "# Import Bokeh"
   ]
  },
  {
   "cell_type": "code",
   "execution_count": 36,
   "metadata": {},
   "outputs": [
    {
     "data": {
      "text/html": [
       "\n",
       "    <div class=\"bk-root\">\n",
       "        <a href=\"https://bokeh.org\" target=\"_blank\" class=\"bk-logo bk-logo-small bk-logo-notebook\"></a>\n",
       "        <span id=\"1001\">Loading BokehJS ...</span>\n",
       "    </div>"
      ]
     },
     "metadata": {},
     "output_type": "display_data"
    },
    {
     "data": {
      "application/javascript": [
       "\n",
       "(function(root) {\n",
       "  function now() {\n",
       "    return new Date();\n",
       "  }\n",
       "\n",
       "  var force = true;\n",
       "\n",
       "  if (typeof root._bokeh_onload_callbacks === \"undefined\" || force === true) {\n",
       "    root._bokeh_onload_callbacks = [];\n",
       "    root._bokeh_is_loading = undefined;\n",
       "  }\n",
       "\n",
       "  var JS_MIME_TYPE = 'application/javascript';\n",
       "  var HTML_MIME_TYPE = 'text/html';\n",
       "  var EXEC_MIME_TYPE = 'application/vnd.bokehjs_exec.v0+json';\n",
       "  var CLASS_NAME = 'output_bokeh rendered_html';\n",
       "\n",
       "  /**\n",
       "   * Render data to the DOM node\n",
       "   */\n",
       "  function render(props, node) {\n",
       "    var script = document.createElement(\"script\");\n",
       "    node.appendChild(script);\n",
       "  }\n",
       "\n",
       "  /**\n",
       "   * Handle when an output is cleared or removed\n",
       "   */\n",
       "  function handleClearOutput(event, handle) {\n",
       "    var cell = handle.cell;\n",
       "\n",
       "    var id = cell.output_area._bokeh_element_id;\n",
       "    var server_id = cell.output_area._bokeh_server_id;\n",
       "    // Clean up Bokeh references\n",
       "    if (id != null && id in Bokeh.index) {\n",
       "      Bokeh.index[id].model.document.clear();\n",
       "      delete Bokeh.index[id];\n",
       "    }\n",
       "\n",
       "    if (server_id !== undefined) {\n",
       "      // Clean up Bokeh references\n",
       "      var cmd = \"from bokeh.io.state import curstate; print(curstate().uuid_to_server['\" + server_id + \"'].get_sessions()[0].document.roots[0]._id)\";\n",
       "      cell.notebook.kernel.execute(cmd, {\n",
       "        iopub: {\n",
       "          output: function(msg) {\n",
       "            var id = msg.content.text.trim();\n",
       "            if (id in Bokeh.index) {\n",
       "              Bokeh.index[id].model.document.clear();\n",
       "              delete Bokeh.index[id];\n",
       "            }\n",
       "          }\n",
       "        }\n",
       "      });\n",
       "      // Destroy server and session\n",
       "      var cmd = \"import bokeh.io.notebook as ion; ion.destroy_server('\" + server_id + \"')\";\n",
       "      cell.notebook.kernel.execute(cmd);\n",
       "    }\n",
       "  }\n",
       "\n",
       "  /**\n",
       "   * Handle when a new output is added\n",
       "   */\n",
       "  function handleAddOutput(event, handle) {\n",
       "    var output_area = handle.output_area;\n",
       "    var output = handle.output;\n",
       "\n",
       "    // limit handleAddOutput to display_data with EXEC_MIME_TYPE content only\n",
       "    if ((output.output_type != \"display_data\") || (!output.data.hasOwnProperty(EXEC_MIME_TYPE))) {\n",
       "      return\n",
       "    }\n",
       "\n",
       "    var toinsert = output_area.element.find(\".\" + CLASS_NAME.split(' ')[0]);\n",
       "\n",
       "    if (output.metadata[EXEC_MIME_TYPE][\"id\"] !== undefined) {\n",
       "      toinsert[toinsert.length - 1].firstChild.textContent = output.data[JS_MIME_TYPE];\n",
       "      // store reference to embed id on output_area\n",
       "      output_area._bokeh_element_id = output.metadata[EXEC_MIME_TYPE][\"id\"];\n",
       "    }\n",
       "    if (output.metadata[EXEC_MIME_TYPE][\"server_id\"] !== undefined) {\n",
       "      var bk_div = document.createElement(\"div\");\n",
       "      bk_div.innerHTML = output.data[HTML_MIME_TYPE];\n",
       "      var script_attrs = bk_div.children[0].attributes;\n",
       "      for (var i = 0; i < script_attrs.length; i++) {\n",
       "        toinsert[toinsert.length - 1].firstChild.setAttribute(script_attrs[i].name, script_attrs[i].value);\n",
       "      }\n",
       "      // store reference to server id on output_area\n",
       "      output_area._bokeh_server_id = output.metadata[EXEC_MIME_TYPE][\"server_id\"];\n",
       "    }\n",
       "  }\n",
       "\n",
       "  function register_renderer(events, OutputArea) {\n",
       "\n",
       "    function append_mime(data, metadata, element) {\n",
       "      // create a DOM node to render to\n",
       "      var toinsert = this.create_output_subarea(\n",
       "        metadata,\n",
       "        CLASS_NAME,\n",
       "        EXEC_MIME_TYPE\n",
       "      );\n",
       "      this.keyboard_manager.register_events(toinsert);\n",
       "      // Render to node\n",
       "      var props = {data: data, metadata: metadata[EXEC_MIME_TYPE]};\n",
       "      render(props, toinsert[toinsert.length - 1]);\n",
       "      element.append(toinsert);\n",
       "      return toinsert\n",
       "    }\n",
       "\n",
       "    /* Handle when an output is cleared or removed */\n",
       "    events.on('clear_output.CodeCell', handleClearOutput);\n",
       "    events.on('delete.Cell', handleClearOutput);\n",
       "\n",
       "    /* Handle when a new output is added */\n",
       "    events.on('output_added.OutputArea', handleAddOutput);\n",
       "\n",
       "    /**\n",
       "     * Register the mime type and append_mime function with output_area\n",
       "     */\n",
       "    OutputArea.prototype.register_mime_type(EXEC_MIME_TYPE, append_mime, {\n",
       "      /* Is output safe? */\n",
       "      safe: true,\n",
       "      /* Index of renderer in `output_area.display_order` */\n",
       "      index: 0\n",
       "    });\n",
       "  }\n",
       "\n",
       "  // register the mime type if in Jupyter Notebook environment and previously unregistered\n",
       "  if (root.Jupyter !== undefined) {\n",
       "    var events = require('base/js/events');\n",
       "    var OutputArea = require('notebook/js/outputarea').OutputArea;\n",
       "\n",
       "    if (OutputArea.prototype.mime_types().indexOf(EXEC_MIME_TYPE) == -1) {\n",
       "      register_renderer(events, OutputArea);\n",
       "    }\n",
       "  }\n",
       "\n",
       "  \n",
       "  if (typeof (root._bokeh_timeout) === \"undefined\" || force === true) {\n",
       "    root._bokeh_timeout = Date.now() + 5000;\n",
       "    root._bokeh_failed_load = false;\n",
       "  }\n",
       "\n",
       "  var NB_LOAD_WARNING = {'data': {'text/html':\n",
       "     \"<div style='background-color: #fdd'>\\n\"+\n",
       "     \"<p>\\n\"+\n",
       "     \"BokehJS does not appear to have successfully loaded. If loading BokehJS from CDN, this \\n\"+\n",
       "     \"may be due to a slow or bad network connection. Possible fixes:\\n\"+\n",
       "     \"</p>\\n\"+\n",
       "     \"<ul>\\n\"+\n",
       "     \"<li>re-rerun `output_notebook()` to attempt to load from CDN again, or</li>\\n\"+\n",
       "     \"<li>use INLINE resources instead, as so:</li>\\n\"+\n",
       "     \"</ul>\\n\"+\n",
       "     \"<code>\\n\"+\n",
       "     \"from bokeh.resources import INLINE\\n\"+\n",
       "     \"output_notebook(resources=INLINE)\\n\"+\n",
       "     \"</code>\\n\"+\n",
       "     \"</div>\"}};\n",
       "\n",
       "  function display_loaded() {\n",
       "    var el = document.getElementById(\"1001\");\n",
       "    if (el != null) {\n",
       "      el.textContent = \"BokehJS is loading...\";\n",
       "    }\n",
       "    if (root.Bokeh !== undefined) {\n",
       "      if (el != null) {\n",
       "        el.textContent = \"BokehJS \" + root.Bokeh.version + \" successfully loaded.\";\n",
       "      }\n",
       "    } else if (Date.now() < root._bokeh_timeout) {\n",
       "      setTimeout(display_loaded, 100)\n",
       "    }\n",
       "  }\n",
       "\n",
       "\n",
       "  function run_callbacks() {\n",
       "    try {\n",
       "      root._bokeh_onload_callbacks.forEach(function(callback) {\n",
       "        if (callback != null)\n",
       "          callback();\n",
       "      });\n",
       "    } finally {\n",
       "      delete root._bokeh_onload_callbacks\n",
       "    }\n",
       "    console.debug(\"Bokeh: all callbacks have finished\");\n",
       "  }\n",
       "\n",
       "  function load_libs(css_urls, js_urls, callback) {\n",
       "    if (css_urls == null) css_urls = [];\n",
       "    if (js_urls == null) js_urls = [];\n",
       "\n",
       "    root._bokeh_onload_callbacks.push(callback);\n",
       "    if (root._bokeh_is_loading > 0) {\n",
       "      console.debug(\"Bokeh: BokehJS is being loaded, scheduling callback at\", now());\n",
       "      return null;\n",
       "    }\n",
       "    if (js_urls == null || js_urls.length === 0) {\n",
       "      run_callbacks();\n",
       "      return null;\n",
       "    }\n",
       "    console.debug(\"Bokeh: BokehJS not loaded, scheduling load and callback at\", now());\n",
       "    root._bokeh_is_loading = css_urls.length + js_urls.length;\n",
       "\n",
       "    function on_load() {\n",
       "      root._bokeh_is_loading--;\n",
       "      if (root._bokeh_is_loading === 0) {\n",
       "        console.debug(\"Bokeh: all BokehJS libraries/stylesheets loaded\");\n",
       "        run_callbacks()\n",
       "      }\n",
       "    }\n",
       "\n",
       "    function on_error() {\n",
       "      console.error(\"failed to load \" + url);\n",
       "    }\n",
       "\n",
       "    for (var i = 0; i < css_urls.length; i++) {\n",
       "      var url = css_urls[i];\n",
       "      const element = document.createElement(\"link\");\n",
       "      element.onload = on_load;\n",
       "      element.onerror = on_error;\n",
       "      element.rel = \"stylesheet\";\n",
       "      element.type = \"text/css\";\n",
       "      element.href = url;\n",
       "      console.debug(\"Bokeh: injecting link tag for BokehJS stylesheet: \", url);\n",
       "      document.body.appendChild(element);\n",
       "    }\n",
       "\n",
       "    for (var i = 0; i < js_urls.length; i++) {\n",
       "      var url = js_urls[i];\n",
       "      var element = document.createElement('script');\n",
       "      element.onload = on_load;\n",
       "      element.onerror = on_error;\n",
       "      element.async = false;\n",
       "      element.src = url;\n",
       "      console.debug(\"Bokeh: injecting script tag for BokehJS library: \", url);\n",
       "      document.head.appendChild(element);\n",
       "    }\n",
       "  };var element = document.getElementById(\"1001\");\n",
       "  if (element == null) {\n",
       "    console.error(\"Bokeh: ERROR: autoload.js configured with elementid '1001' but no matching script tag was found. \")\n",
       "    return false;\n",
       "  }\n",
       "\n",
       "  function inject_raw_css(css) {\n",
       "    const element = document.createElement(\"style\");\n",
       "    element.appendChild(document.createTextNode(css));\n",
       "    document.body.appendChild(element);\n",
       "  }\n",
       "\n",
       "  \n",
       "  var js_urls = [\"https://cdn.pydata.org/bokeh/release/bokeh-1.4.0.min.js\", \"https://cdn.pydata.org/bokeh/release/bokeh-widgets-1.4.0.min.js\", \"https://cdn.pydata.org/bokeh/release/bokeh-tables-1.4.0.min.js\", \"https://cdn.pydata.org/bokeh/release/bokeh-gl-1.4.0.min.js\"];\n",
       "  var css_urls = [];\n",
       "  \n",
       "\n",
       "  var inline_js = [\n",
       "    function(Bokeh) {\n",
       "      Bokeh.set_log_level(\"info\");\n",
       "    },\n",
       "    function(Bokeh) {\n",
       "    \n",
       "    \n",
       "    }\n",
       "  ];\n",
       "\n",
       "  function run_inline_js() {\n",
       "    \n",
       "    if (root.Bokeh !== undefined || force === true) {\n",
       "      \n",
       "    for (var i = 0; i < inline_js.length; i++) {\n",
       "      inline_js[i].call(root, root.Bokeh);\n",
       "    }\n",
       "    if (force === true) {\n",
       "        display_loaded();\n",
       "      }} else if (Date.now() < root._bokeh_timeout) {\n",
       "      setTimeout(run_inline_js, 100);\n",
       "    } else if (!root._bokeh_failed_load) {\n",
       "      console.log(\"Bokeh: BokehJS failed to load within specified timeout.\");\n",
       "      root._bokeh_failed_load = true;\n",
       "    } else if (force !== true) {\n",
       "      var cell = $(document.getElementById(\"1001\")).parents('.cell').data().cell;\n",
       "      cell.output_area.append_execute_result(NB_LOAD_WARNING)\n",
       "    }\n",
       "\n",
       "  }\n",
       "\n",
       "  if (root._bokeh_is_loading === 0) {\n",
       "    console.debug(\"Bokeh: BokehJS loaded, going straight to plotting\");\n",
       "    run_inline_js();\n",
       "  } else {\n",
       "    load_libs(css_urls, js_urls, function() {\n",
       "      console.debug(\"Bokeh: BokehJS plotting callback run at\", now());\n",
       "      run_inline_js();\n",
       "    });\n",
       "  }\n",
       "}(window));"
      ],
      "application/vnd.bokehjs_load.v0+json": "\n(function(root) {\n  function now() {\n    return new Date();\n  }\n\n  var force = true;\n\n  if (typeof root._bokeh_onload_callbacks === \"undefined\" || force === true) {\n    root._bokeh_onload_callbacks = [];\n    root._bokeh_is_loading = undefined;\n  }\n\n  \n\n  \n  if (typeof (root._bokeh_timeout) === \"undefined\" || force === true) {\n    root._bokeh_timeout = Date.now() + 5000;\n    root._bokeh_failed_load = false;\n  }\n\n  var NB_LOAD_WARNING = {'data': {'text/html':\n     \"<div style='background-color: #fdd'>\\n\"+\n     \"<p>\\n\"+\n     \"BokehJS does not appear to have successfully loaded. If loading BokehJS from CDN, this \\n\"+\n     \"may be due to a slow or bad network connection. Possible fixes:\\n\"+\n     \"</p>\\n\"+\n     \"<ul>\\n\"+\n     \"<li>re-rerun `output_notebook()` to attempt to load from CDN again, or</li>\\n\"+\n     \"<li>use INLINE resources instead, as so:</li>\\n\"+\n     \"</ul>\\n\"+\n     \"<code>\\n\"+\n     \"from bokeh.resources import INLINE\\n\"+\n     \"output_notebook(resources=INLINE)\\n\"+\n     \"</code>\\n\"+\n     \"</div>\"}};\n\n  function display_loaded() {\n    var el = document.getElementById(\"1001\");\n    if (el != null) {\n      el.textContent = \"BokehJS is loading...\";\n    }\n    if (root.Bokeh !== undefined) {\n      if (el != null) {\n        el.textContent = \"BokehJS \" + root.Bokeh.version + \" successfully loaded.\";\n      }\n    } else if (Date.now() < root._bokeh_timeout) {\n      setTimeout(display_loaded, 100)\n    }\n  }\n\n\n  function run_callbacks() {\n    try {\n      root._bokeh_onload_callbacks.forEach(function(callback) {\n        if (callback != null)\n          callback();\n      });\n    } finally {\n      delete root._bokeh_onload_callbacks\n    }\n    console.debug(\"Bokeh: all callbacks have finished\");\n  }\n\n  function load_libs(css_urls, js_urls, callback) {\n    if (css_urls == null) css_urls = [];\n    if (js_urls == null) js_urls = [];\n\n    root._bokeh_onload_callbacks.push(callback);\n    if (root._bokeh_is_loading > 0) {\n      console.debug(\"Bokeh: BokehJS is being loaded, scheduling callback at\", now());\n      return null;\n    }\n    if (js_urls == null || js_urls.length === 0) {\n      run_callbacks();\n      return null;\n    }\n    console.debug(\"Bokeh: BokehJS not loaded, scheduling load and callback at\", now());\n    root._bokeh_is_loading = css_urls.length + js_urls.length;\n\n    function on_load() {\n      root._bokeh_is_loading--;\n      if (root._bokeh_is_loading === 0) {\n        console.debug(\"Bokeh: all BokehJS libraries/stylesheets loaded\");\n        run_callbacks()\n      }\n    }\n\n    function on_error() {\n      console.error(\"failed to load \" + url);\n    }\n\n    for (var i = 0; i < css_urls.length; i++) {\n      var url = css_urls[i];\n      const element = document.createElement(\"link\");\n      element.onload = on_load;\n      element.onerror = on_error;\n      element.rel = \"stylesheet\";\n      element.type = \"text/css\";\n      element.href = url;\n      console.debug(\"Bokeh: injecting link tag for BokehJS stylesheet: \", url);\n      document.body.appendChild(element);\n    }\n\n    for (var i = 0; i < js_urls.length; i++) {\n      var url = js_urls[i];\n      var element = document.createElement('script');\n      element.onload = on_load;\n      element.onerror = on_error;\n      element.async = false;\n      element.src = url;\n      console.debug(\"Bokeh: injecting script tag for BokehJS library: \", url);\n      document.head.appendChild(element);\n    }\n  };var element = document.getElementById(\"1001\");\n  if (element == null) {\n    console.error(\"Bokeh: ERROR: autoload.js configured with elementid '1001' but no matching script tag was found. \")\n    return false;\n  }\n\n  function inject_raw_css(css) {\n    const element = document.createElement(\"style\");\n    element.appendChild(document.createTextNode(css));\n    document.body.appendChild(element);\n  }\n\n  \n  var js_urls = [\"https://cdn.pydata.org/bokeh/release/bokeh-1.4.0.min.js\", \"https://cdn.pydata.org/bokeh/release/bokeh-widgets-1.4.0.min.js\", \"https://cdn.pydata.org/bokeh/release/bokeh-tables-1.4.0.min.js\", \"https://cdn.pydata.org/bokeh/release/bokeh-gl-1.4.0.min.js\"];\n  var css_urls = [];\n  \n\n  var inline_js = [\n    function(Bokeh) {\n      Bokeh.set_log_level(\"info\");\n    },\n    function(Bokeh) {\n    \n    \n    }\n  ];\n\n  function run_inline_js() {\n    \n    if (root.Bokeh !== undefined || force === true) {\n      \n    for (var i = 0; i < inline_js.length; i++) {\n      inline_js[i].call(root, root.Bokeh);\n    }\n    if (force === true) {\n        display_loaded();\n      }} else if (Date.now() < root._bokeh_timeout) {\n      setTimeout(run_inline_js, 100);\n    } else if (!root._bokeh_failed_load) {\n      console.log(\"Bokeh: BokehJS failed to load within specified timeout.\");\n      root._bokeh_failed_load = true;\n    } else if (force !== true) {\n      var cell = $(document.getElementById(\"1001\")).parents('.cell').data().cell;\n      cell.output_area.append_execute_result(NB_LOAD_WARNING)\n    }\n\n  }\n\n  if (root._bokeh_is_loading === 0) {\n    console.debug(\"Bokeh: BokehJS loaded, going straight to plotting\");\n    run_inline_js();\n  } else {\n    load_libs(css_urls, js_urls, function() {\n      console.debug(\"Bokeh: BokehJS plotting callback run at\", now());\n      run_inline_js();\n    });\n  }\n}(window));"
     },
     "metadata": {},
     "output_type": "display_data"
    }
   ],
   "source": [
    "from bokeh.io import output_file, show\n",
    "from bokeh.models import (BoxSelectTool, Circle, EdgesAndLinkedNodes, HoverTool,\n",
    "                          MultiLine, NodesAndLinkedEdges, Plot, Range1d, TapTool,\n",
    "                         BoxZoomTool, ResetTool, OpenURL, CustomJS, Column, SaveTool)\n",
    "from bokeh.palettes import Spectral4\n",
    "from bokeh.plotting import figure, output_notebook\n",
    "from bokeh.models.graphs import from_networkx\n",
    "from bokeh.models import TextInput, Button\n",
    "output_notebook()"
   ]
  },
  {
   "cell_type": "markdown",
   "metadata": {},
   "source": [
    "# Tooltips for Nodes"
   ]
  },
  {
   "cell_type": "code",
   "execution_count": null,
   "metadata": {},
   "outputs": [],
   "source": [
    "plot = Plot(plot_width=900, plot_height=900,\n",
    "            x_range=Range1d(-1.1, 1.1), y_range=Range1d(-1.1, 1.1))\n",
    "plot.title.text = \"Treasure Archive Drehem\"\n",
    "\n",
    "node_hover_tool = HoverTool(tooltips=[(\"name\", \"@name\"), (\"degree\", \"@degree\")])\n",
    "plot.add_tools(node_hover_tool, BoxZoomTool(), ResetTool())\n",
    "\n",
    "graph_renderer = from_networkx(G, nx.spring_layout, scale=1, center=(0, 0))\n",
    "\n",
    "graph_renderer.node_renderer.glyph = Circle(size='node_size', fill_color=Spectral4[0])\n",
    "graph_renderer.edge_renderer.glyph = MultiLine(line_color=Spectral4[1], line_alpha=0.8, line_width='edge_size')\n",
    "plot.renderers.append(graph_renderer)\n",
    "\n",
    "output_file(\"interactive_graphs.html\")\n",
    "show(plot)"
   ]
  },
  {
   "cell_type": "code",
   "execution_count": null,
   "metadata": {},
   "outputs": [],
   "source": [
    "plot = figure(plot_width=500, plot_height=500,\n",
    "            x_range=Range1d(-1.1,1.1), y_range=Range1d(-1.1,1.1))\n",
    "\n",
    "node_hover_tool = HoverTool(tooltips=[(\"name\", \"@name\"), (\"degree\", \"@degree\")])\n",
    "plot.add_tools(node_hover_tool, BoxZoomTool(), ResetTool())\n",
    "\n",
    "r = from_networkx(G, nx.circular_layout, scale=1, center=(0,0))\n",
    "\n",
    "r.node_renderer.glyph = Circle(size='node_size', fill_color='#2b83ba')\n",
    "r.node_renderer.hover_glyph = Circle(size='node_size', fill_color='#abdda4')\n",
    "\n",
    "r.edge_renderer.glyph = MultiLine(line_alpha=0, line_width='edge_size')  # zero line alpha\n",
    "r.edge_renderer.hover_glyph = MultiLine(line_color='#abdda4', line_width=5)\n",
    "\n",
    "r.inspection_policy = NodesAndLinkedEdges()\n",
    "plot.renderers.append(r)\n",
    "\n",
    "show(plot)"
   ]
  },
  {
   "cell_type": "code",
   "execution_count": 37,
   "metadata": {},
   "outputs": [
    {
     "data": {
      "text/html": [
       "\n",
       "\n",
       "\n",
       "\n",
       "\n",
       "\n",
       "  <div class=\"bk-root\" id=\"3483ce68-f863-44c4-8e44-2c24d801e99c\" data-root-id=\"1004\"></div>\n"
      ]
     },
     "metadata": {},
     "output_type": "display_data"
    },
    {
     "data": {
      "application/javascript": [
       "(function(root) {\n",
       "  function embed_document(root) {\n",
       "    \n",
       "  var docs_json = {\"7e534fd0-1ea7-4019-9c8a-b0752ffda466\":{\"roots\":{\"references\":[{\"attributes\":{\"plot_height\":900,\"plot_width\":1000,\"renderers\":[{\"id\":\"1010\",\"type\":\"GraphRenderer\"}],\"title\":{\"id\":\"1007\",\"type\":\"Title\"},\"toolbar\":{\"id\":\"1061\",\"type\":\"Toolbar\"},\"x_range\":{\"id\":\"1002\",\"type\":\"Range1d\"},\"x_scale\":{\"id\":\"1065\",\"type\":\"LinearScale\"},\"y_range\":{\"id\":\"1003\",\"type\":\"Range1d\"},\"y_scale\":{\"id\":\"1066\",\"type\":\"LinearScale\"}},\"id\":\"1004\",\"type\":\"Plot\"},{\"attributes\":{\"callback\":null,\"data\":{\"edge_size\":[[3,3,3,3,3,3,3,3,3,3,3,3,3,27,3,3,3,3,3,3,3,3,3,3,3,3,3,6,3,3,3,3,3,3,3,9,12,3,3,3,3,3,3,3,9,3,3,3,3,3,3,3,3,3,3,3,3,3,3,3,3,3,3,3,6,6,3,3,6,3,3,3,3,3,6,3,3,3,3,3,3,3,3,3,9,3,3,6,3,3,3,3,3,3,3,3,3,3,3,3,3,3,3,3,3,3,3,3,3,3,3,3,3,3,3,3,3,3,3,3,3,3,3,3,3,3,3,3,3,3,3,6,3,18,3,3,3,3,3,3,3,3,3,3,3,3,3,3,3,3,3,3,3,3,3,3,3,3,3,3,3,3,9,3,3,3,3,3,3,3,3,3,3,3,3,3,3,3,3,3,3,6,3,3,3,3,3,3,3,3,3,3,3,3,3,3,3,3,3,3,3,3,3,3,3,12,3,3,3,3,3,3,3,3,3,3,3,3],[3,3,3,3,3,3,3,3,3,3,3,3,3,27,3,3,3,3,3,3,3,3,3,3,3,3,3,6,3,3,3,3,3,3,3,9,12,3,3,3,3,3,3,3,9,3,3,3,3,3,3,3,3,3,3,3,3,3,3,3,3,3,3,3,6,6,3,3,6,3,3,3,3,3,6,3,3,3,3,3,3,3,3,3,9,3,3,6,3,3,3,3,3,3,3,3,3,3,3,3,3,3,3,3,3,3,3,3,3,3,3,3,3,3,3,3,3,3,3,3,3,3,3,3,3,3,3,3,3,3,3,6,3,18,3,3,3,3,3,3,3,3,3,3,3,3,3,3,3,3,3,3,3,3,3,3,3,3,3,3,3,3,9,3,3,3,3,3,3,3,3,3,3,3,3,3,3,3,3,3,3,6,3,3,3,3,3,3,3,3,3,3,3,3,3,3,3,3,3,3,3,3,3,3,3,12,3,3,3,3,3,3,3,3,3,3,3,3],[3,3,3,3,3,3,3,3,3,3,3,3,3,27,3,3,3,3,3,3,3,3,3,3,3,3,3,6,3,3,3,3,3,3,3,9,12,3,3,3,3,3,3,3,9,3,3,3,3,3,3,3,3,3,3,3,3,3,3,3,3,3,3,3,6,6,3,3,6,3,3,3,3,3,6,3,3,3,3,3,3,3,3,3,9,3,3,6,3,3,3,3,3,3,3,3,3,3,3,3,3,3,3,3,3,3,3,3,3,3,3,3,3,3,3,3,3,3,3,3,3,3,3,3,3,3,3,3,3,3,3,6,3,18,3,3,3,3,3,3,3,3,3,3,3,3,3,3,3,3,3,3,3,3,3,3,3,3,3,3,3,3,9,3,3,3,3,3,3,3,3,3,3,3,3,3,3,3,3,3,3,6,3,3,3,3,3,3,3,3,3,3,3,3,3,3,3,3,3,3,3,3,3,3,3,12,3,3,3,3,3,3,3,3,3,3,3,3],[3,3,3,3,3,3,3,3,3,3,3,3,3,27,3,3,3,3,3,3,3,3,3,3,3,3,3,6,3,3,3,3,3,3,3,9,12,3,3,3,3,3,3,3,9,3,3,3,3,3,3,3,3,3,3,3,3,3,3,3,3,3,3,3,6,6,3,3,6,3,3,3,3,3,6,3,3,3,3,3,3,3,3,3,9,3,3,6,3,3,3,3,3,3,3,3,3,3,3,3,3,3,3,3,3,3,3,3,3,3,3,3,3,3,3,3,3,3,3,3,3,3,3,3,3,3,3,3,3,3,3,6,3,18,3,3,3,3,3,3,3,3,3,3,3,3,3,3,3,3,3,3,3,3,3,3,3,3,3,3,3,3,9,3,3,3,3,3,3,3,3,3,3,3,3,3,3,3,3,3,3,6,3,3,3,3,3,3,3,3,3,3,3,3,3,3,3,3,3,3,3,3,3,3,3,12,3,3,3,3,3,3,3,3,3,3,3,3],[3,3,3,3,3,3,3,3,3,3,3,3,3,27,3,3,3,3,3,3,3,3,3,3,3,3,3,6,3,3,3,3,3,3,3,9,12,3,3,3,3,3,3,3,9,3,3,3,3,3,3,3,3,3,3,3,3,3,3,3,3,3,3,3,6,6,3,3,6,3,3,3,3,3,6,3,3,3,3,3,3,3,3,3,9,3,3,6,3,3,3,3,3,3,3,3,3,3,3,3,3,3,3,3,3,3,3,3,3,3,3,3,3,3,3,3,3,3,3,3,3,3,3,3,3,3,3,3,3,3,3,6,3,18,3,3,3,3,3,3,3,3,3,3,3,3,3,3,3,3,3,3,3,3,3,3,3,3,3,3,3,3,9,3,3,3,3,3,3,3,3,3,3,3,3,3,3,3,3,3,3,6,3,3,3,3,3,3,3,3,3,3,3,3,3,3,3,3,3,3,3,3,3,3,3,12,3,3,3,3,3,3,3,3,3,3,3,3],[3,3,3,3,3,3,3,3,3,3,3,3,3,27,3,3,3,3,3,3,3,3,3,3,3,3,3,6,3,3,3,3,3,3,3,9,12,3,3,3,3,3,3,3,9,3,3,3,3,3,3,3,3,3,3,3,3,3,3,3,3,3,3,3,6,6,3,3,6,3,3,3,3,3,6,3,3,3,3,3,3,3,3,3,9,3,3,6,3,3,3,3,3,3,3,3,3,3,3,3,3,3,3,3,3,3,3,3,3,3,3,3,3,3,3,3,3,3,3,3,3,3,3,3,3,3,3,3,3,3,3,6,3,18,3,3,3,3,3,3,3,3,3,3,3,3,3,3,3,3,3,3,3,3,3,3,3,3,3,3,3,3,9,3,3,3,3,3,3,3,3,3,3,3,3,3,3,3,3,3,3,6,3,3,3,3,3,3,3,3,3,3,3,3,3,3,3,3,3,3,3,3,3,3,3,12,3,3,3,3,3,3,3,3,3,3,3,3],[3,3,3,3,3,3,3,3,3,3,3,3,3,27,3,3,3,3,3,3,3,3,3,3,3,3,3,6,3,3,3,3,3,3,3,9,12,3,3,3,3,3,3,3,9,3,3,3,3,3,3,3,3,3,3,3,3,3,3,3,3,3,3,3,6,6,3,3,6,3,3,3,3,3,6,3,3,3,3,3,3,3,3,3,9,3,3,6,3,3,3,3,3,3,3,3,3,3,3,3,3,3,3,3,3,3,3,3,3,3,3,3,3,3,3,3,3,3,3,3,3,3,3,3,3,3,3,3,3,3,3,6,3,18,3,3,3,3,3,3,3,3,3,3,3,3,3,3,3,3,3,3,3,3,3,3,3,3,3,3,3,3,9,3,3,3,3,3,3,3,3,3,3,3,3,3,3,3,3,3,3,6,3,3,3,3,3,3,3,3,3,3,3,3,3,3,3,3,3,3,3,3,3,3,3,12,3,3,3,3,3,3,3,3,3,3,3,3],[3,3,3,3,3,3,3,3,3,3,3,3,3,27,3,3,3,3,3,3,3,3,3,3,3,3,3,6,3,3,3,3,3,3,3,9,12,3,3,3,3,3,3,3,9,3,3,3,3,3,3,3,3,3,3,3,3,3,3,3,3,3,3,3,6,6,3,3,6,3,3,3,3,3,6,3,3,3,3,3,3,3,3,3,9,3,3,6,3,3,3,3,3,3,3,3,3,3,3,3,3,3,3,3,3,3,3,3,3,3,3,3,3,3,3,3,3,3,3,3,3,3,3,3,3,3,3,3,3,3,3,6,3,18,3,3,3,3,3,3,3,3,3,3,3,3,3,3,3,3,3,3,3,3,3,3,3,3,3,3,3,3,9,3,3,3,3,3,3,3,3,3,3,3,3,3,3,3,3,3,3,6,3,3,3,3,3,3,3,3,3,3,3,3,3,3,3,3,3,3,3,3,3,3,3,12,3,3,3,3,3,3,3,3,3,3,3,3],[3,3,3,3,3,3,3,3,3,3,3,3,3,27,3,3,3,3,3,3,3,3,3,3,3,3,3,6,3,3,3,3,3,3,3,9,12,3,3,3,3,3,3,3,9,3,3,3,3,3,3,3,3,3,3,3,3,3,3,3,3,3,3,3,6,6,3,3,6,3,3,3,3,3,6,3,3,3,3,3,3,3,3,3,9,3,3,6,3,3,3,3,3,3,3,3,3,3,3,3,3,3,3,3,3,3,3,3,3,3,3,3,3,3,3,3,3,3,3,3,3,3,3,3,3,3,3,3,3,3,3,6,3,18,3,3,3,3,3,3,3,3,3,3,3,3,3,3,3,3,3,3,3,3,3,3,3,3,3,3,3,3,9,3,3,3,3,3,3,3,3,3,3,3,3,3,3,3,3,3,3,6,3,3,3,3,3,3,3,3,3,3,3,3,3,3,3,3,3,3,3,3,3,3,3,12,3,3,3,3,3,3,3,3,3,3,3,3],[3,3,3,3,3,3,3,3,3,3,3,3,3,27,3,3,3,3,3,3,3,3,3,3,3,3,3,6,3,3,3,3,3,3,3,9,12,3,3,3,3,3,3,3,9,3,3,3,3,3,3,3,3,3,3,3,3,3,3,3,3,3,3,3,6,6,3,3,6,3,3,3,3,3,6,3,3,3,3,3,3,3,3,3,9,3,3,6,3,3,3,3,3,3,3,3,3,3,3,3,3,3,3,3,3,3,3,3,3,3,3,3,3,3,3,3,3,3,3,3,3,3,3,3,3,3,3,3,3,3,3,6,3,18,3,3,3,3,3,3,3,3,3,3,3,3,3,3,3,3,3,3,3,3,3,3,3,3,3,3,3,3,9,3,3,3,3,3,3,3,3,3,3,3,3,3,3,3,3,3,3,6,3,3,3,3,3,3,3,3,3,3,3,3,3,3,3,3,3,3,3,3,3,3,3,12,3,3,3,3,3,3,3,3,3,3,3,3],[3,3,3,3,3,3,3,3,3,3,3,3,3,27,3,3,3,3,3,3,3,3,3,3,3,3,3,6,3,3,3,3,3,3,3,9,12,3,3,3,3,3,3,3,9,3,3,3,3,3,3,3,3,3,3,3,3,3,3,3,3,3,3,3,6,6,3,3,6,3,3,3,3,3,6,3,3,3,3,3,3,3,3,3,9,3,3,6,3,3,3,3,3,3,3,3,3,3,3,3,3,3,3,3,3,3,3,3,3,3,3,3,3,3,3,3,3,3,3,3,3,3,3,3,3,3,3,3,3,3,3,6,3,18,3,3,3,3,3,3,3,3,3,3,3,3,3,3,3,3,3,3,3,3,3,3,3,3,3,3,3,3,9,3,3,3,3,3,3,3,3,3,3,3,3,3,3,3,3,3,3,6,3,3,3,3,3,3,3,3,3,3,3,3,3,3,3,3,3,3,3,3,3,3,3,12,3,3,3,3,3,3,3,3,3,3,3,3],[3,3,3,3,3,3,3,3,3,3,3,3,3,27,3,3,3,3,3,3,3,3,3,3,3,3,3,6,3,3,3,3,3,3,3,9,12,3,3,3,3,3,3,3,9,3,3,3,3,3,3,3,3,3,3,3,3,3,3,3,3,3,3,3,6,6,3,3,6,3,3,3,3,3,6,3,3,3,3,3,3,3,3,3,9,3,3,6,3,3,3,3,3,3,3,3,3,3,3,3,3,3,3,3,3,3,3,3,3,3,3,3,3,3,3,3,3,3,3,3,3,3,3,3,3,3,3,3,3,3,3,6,3,18,3,3,3,3,3,3,3,3,3,3,3,3,3,3,3,3,3,3,3,3,3,3,3,3,3,3,3,3,9,3,3,3,3,3,3,3,3,3,3,3,3,3,3,3,3,3,3,6,3,3,3,3,3,3,3,3,3,3,3,3,3,3,3,3,3,3,3,3,3,3,3,12,3,3,3,3,3,3,3,3,3,3,3,3],[3,3,3,3,3,3,3,3,3,3,3,3,3,27,3,3,3,3,3,3,3,3,3,3,3,3,3,6,3,3,3,3,3,3,3,9,12,3,3,3,3,3,3,3,9,3,3,3,3,3,3,3,3,3,3,3,3,3,3,3,3,3,3,3,6,6,3,3,6,3,3,3,3,3,6,3,3,3,3,3,3,3,3,3,9,3,3,6,3,3,3,3,3,3,3,3,3,3,3,3,3,3,3,3,3,3,3,3,3,3,3,3,3,3,3,3,3,3,3,3,3,3,3,3,3,3,3,3,3,3,3,6,3,18,3,3,3,3,3,3,3,3,3,3,3,3,3,3,3,3,3,3,3,3,3,3,3,3,3,3,3,3,9,3,3,3,3,3,3,3,3,3,3,3,3,3,3,3,3,3,3,6,3,3,3,3,3,3,3,3,3,3,3,3,3,3,3,3,3,3,3,3,3,3,3,12,3,3,3,3,3,3,3,3,3,3,3,3],[3,3,3,3,3,3,3,3,3,3,3,3,3,27,3,3,3,3,3,3,3,3,3,3,3,3,3,6,3,3,3,3,3,3,3,9,12,3,3,3,3,3,3,3,9,3,3,3,3,3,3,3,3,3,3,3,3,3,3,3,3,3,3,3,6,6,3,3,6,3,3,3,3,3,6,3,3,3,3,3,3,3,3,3,9,3,3,6,3,3,3,3,3,3,3,3,3,3,3,3,3,3,3,3,3,3,3,3,3,3,3,3,3,3,3,3,3,3,3,3,3,3,3,3,3,3,3,3,3,3,3,6,3,18,3,3,3,3,3,3,3,3,3,3,3,3,3,3,3,3,3,3,3,3,3,3,3,3,3,3,3,3,9,3,3,3,3,3,3,3,3,3,3,3,3,3,3,3,3,3,3,6,3,3,3,3,3,3,3,3,3,3,3,3,3,3,3,3,3,3,3,3,3,3,3,12,3,3,3,3,3,3,3,3,3,3,3,3],[3,3,3,3,3,3,3,3,3,3,3,3,3,27,3,3,3,3,3,3,3,3,3,3,3,3,3,6,3,3,3,3,3,3,3,9,12,3,3,3,3,3,3,3,9,3,3,3,3,3,3,3,3,3,3,3,3,3,3,3,3,3,3,3,6,6,3,3,6,3,3,3,3,3,6,3,3,3,3,3,3,3,3,3,9,3,3,6,3,3,3,3,3,3,3,3,3,3,3,3,3,3,3,3,3,3,3,3,3,3,3,3,3,3,3,3,3,3,3,3,3,3,3,3,3,3,3,3,3,3,3,6,3,18,3,3,3,3,3,3,3,3,3,3,3,3,3,3,3,3,3,3,3,3,3,3,3,3,3,3,3,3,9,3,3,3,3,3,3,3,3,3,3,3,3,3,3,3,3,3,3,6,3,3,3,3,3,3,3,3,3,3,3,3,3,3,3,3,3,3,3,3,3,3,3,12,3,3,3,3,3,3,3,3,3,3,3,3],[3,3,3,3,3,3,3,3,3,3,3,3,3,27,3,3,3,3,3,3,3,3,3,3,3,3,3,6,3,3,3,3,3,3,3,9,12,3,3,3,3,3,3,3,9,3,3,3,3,3,3,3,3,3,3,3,3,3,3,3,3,3,3,3,6,6,3,3,6,3,3,3,3,3,6,3,3,3,3,3,3,3,3,3,9,3,3,6,3,3,3,3,3,3,3,3,3,3,3,3,3,3,3,3,3,3,3,3,3,3,3,3,3,3,3,3,3,3,3,3,3,3,3,3,3,3,3,3,3,3,3,6,3,18,3,3,3,3,3,3,3,3,3,3,3,3,3,3,3,3,3,3,3,3,3,3,3,3,3,3,3,3,9,3,3,3,3,3,3,3,3,3,3,3,3,3,3,3,3,3,3,6,3,3,3,3,3,3,3,3,3,3,3,3,3,3,3,3,3,3,3,3,3,3,3,12,3,3,3,3,3,3,3,3,3,3,3,3],[3,3,3,3,3,3,3,3,3,3,3,3,3,27,3,3,3,3,3,3,3,3,3,3,3,3,3,6,3,3,3,3,3,3,3,9,12,3,3,3,3,3,3,3,9,3,3,3,3,3,3,3,3,3,3,3,3,3,3,3,3,3,3,3,6,6,3,3,6,3,3,3,3,3,6,3,3,3,3,3,3,3,3,3,9,3,3,6,3,3,3,3,3,3,3,3,3,3,3,3,3,3,3,3,3,3,3,3,3,3,3,3,3,3,3,3,3,3,3,3,3,3,3,3,3,3,3,3,3,3,3,6,3,18,3,3,3,3,3,3,3,3,3,3,3,3,3,3,3,3,3,3,3,3,3,3,3,3,3,3,3,3,9,3,3,3,3,3,3,3,3,3,3,3,3,3,3,3,3,3,3,6,3,3,3,3,3,3,3,3,3,3,3,3,3,3,3,3,3,3,3,3,3,3,3,12,3,3,3,3,3,3,3,3,3,3,3,3],[3,3,3,3,3,3,3,3,3,3,3,3,3,27,3,3,3,3,3,3,3,3,3,3,3,3,3,6,3,3,3,3,3,3,3,9,12,3,3,3,3,3,3,3,9,3,3,3,3,3,3,3,3,3,3,3,3,3,3,3,3,3,3,3,6,6,3,3,6,3,3,3,3,3,6,3,3,3,3,3,3,3,3,3,9,3,3,6,3,3,3,3,3,3,3,3,3,3,3,3,3,3,3,3,3,3,3,3,3,3,3,3,3,3,3,3,3,3,3,3,3,3,3,3,3,3,3,3,3,3,3,6,3,18,3,3,3,3,3,3,3,3,3,3,3,3,3,3,3,3,3,3,3,3,3,3,3,3,3,3,3,3,9,3,3,3,3,3,3,3,3,3,3,3,3,3,3,3,3,3,3,6,3,3,3,3,3,3,3,3,3,3,3,3,3,3,3,3,3,3,3,3,3,3,3,12,3,3,3,3,3,3,3,3,3,3,3,3],[3,3,3,3,3,3,3,3,3,3,3,3,3,27,3,3,3,3,3,3,3,3,3,3,3,3,3,6,3,3,3,3,3,3,3,9,12,3,3,3,3,3,3,3,9,3,3,3,3,3,3,3,3,3,3,3,3,3,3,3,3,3,3,3,6,6,3,3,6,3,3,3,3,3,6,3,3,3,3,3,3,3,3,3,9,3,3,6,3,3,3,3,3,3,3,3,3,3,3,3,3,3,3,3,3,3,3,3,3,3,3,3,3,3,3,3,3,3,3,3,3,3,3,3,3,3,3,3,3,3,3,6,3,18,3,3,3,3,3,3,3,3,3,3,3,3,3,3,3,3,3,3,3,3,3,3,3,3,3,3,3,3,9,3,3,3,3,3,3,3,3,3,3,3,3,3,3,3,3,3,3,6,3,3,3,3,3,3,3,3,3,3,3,3,3,3,3,3,3,3,3,3,3,3,3,12,3,3,3,3,3,3,3,3,3,3,3,3],[3,3,3,3,3,3,3,3,3,3,3,3,3,27,3,3,3,3,3,3,3,3,3,3,3,3,3,6,3,3,3,3,3,3,3,9,12,3,3,3,3,3,3,3,9,3,3,3,3,3,3,3,3,3,3,3,3,3,3,3,3,3,3,3,6,6,3,3,6,3,3,3,3,3,6,3,3,3,3,3,3,3,3,3,9,3,3,6,3,3,3,3,3,3,3,3,3,3,3,3,3,3,3,3,3,3,3,3,3,3,3,3,3,3,3,3,3,3,3,3,3,3,3,3,3,3,3,3,3,3,3,6,3,18,3,3,3,3,3,3,3,3,3,3,3,3,3,3,3,3,3,3,3,3,3,3,3,3,3,3,3,3,9,3,3,3,3,3,3,3,3,3,3,3,3,3,3,3,3,3,3,6,3,3,3,3,3,3,3,3,3,3,3,3,3,3,3,3,3,3,3,3,3,3,3,12,3,3,3,3,3,3,3,3,3,3,3,3],[3,3,3,3,3,3,3,3,3,3,3,3,3,27,3,3,3,3,3,3,3,3,3,3,3,3,3,6,3,3,3,3,3,3,3,9,12,3,3,3,3,3,3,3,9,3,3,3,3,3,3,3,3,3,3,3,3,3,3,3,3,3,3,3,6,6,3,3,6,3,3,3,3,3,6,3,3,3,3,3,3,3,3,3,9,3,3,6,3,3,3,3,3,3,3,3,3,3,3,3,3,3,3,3,3,3,3,3,3,3,3,3,3,3,3,3,3,3,3,3,3,3,3,3,3,3,3,3,3,3,3,6,3,18,3,3,3,3,3,3,3,3,3,3,3,3,3,3,3,3,3,3,3,3,3,3,3,3,3,3,3,3,9,3,3,3,3,3,3,3,3,3,3,3,3,3,3,3,3,3,3,6,3,3,3,3,3,3,3,3,3,3,3,3,3,3,3,3,3,3,3,3,3,3,3,12,3,3,3,3,3,3,3,3,3,3,3,3],[3,3,3,3,3,3,3,3,3,3,3,3,3,27,3,3,3,3,3,3,3,3,3,3,3,3,3,6,3,3,3,3,3,3,3,9,12,3,3,3,3,3,3,3,9,3,3,3,3,3,3,3,3,3,3,3,3,3,3,3,3,3,3,3,6,6,3,3,6,3,3,3,3,3,6,3,3,3,3,3,3,3,3,3,9,3,3,6,3,3,3,3,3,3,3,3,3,3,3,3,3,3,3,3,3,3,3,3,3,3,3,3,3,3,3,3,3,3,3,3,3,3,3,3,3,3,3,3,3,3,3,6,3,18,3,3,3,3,3,3,3,3,3,3,3,3,3,3,3,3,3,3,3,3,3,3,3,3,3,3,3,3,9,3,3,3,3,3,3,3,3,3,3,3,3,3,3,3,3,3,3,6,3,3,3,3,3,3,3,3,3,3,3,3,3,3,3,3,3,3,3,3,3,3,3,12,3,3,3,3,3,3,3,3,3,3,3,3],[3,3,3,3,3,3,3,3,3,3,3,3,3,27,3,3,3,3,3,3,3,3,3,3,3,3,3,6,3,3,3,3,3,3,3,9,12,3,3,3,3,3,3,3,9,3,3,3,3,3,3,3,3,3,3,3,3,3,3,3,3,3,3,3,6,6,3,3,6,3,3,3,3,3,6,3,3,3,3,3,3,3,3,3,9,3,3,6,3,3,3,3,3,3,3,3,3,3,3,3,3,3,3,3,3,3,3,3,3,3,3,3,3,3,3,3,3,3,3,3,3,3,3,3,3,3,3,3,3,3,3,6,3,18,3,3,3,3,3,3,3,3,3,3,3,3,3,3,3,3,3,3,3,3,3,3,3,3,3,3,3,3,9,3,3,3,3,3,3,3,3,3,3,3,3,3,3,3,3,3,3,6,3,3,3,3,3,3,3,3,3,3,3,3,3,3,3,3,3,3,3,3,3,3,3,12,3,3,3,3,3,3,3,3,3,3,3,3],[3,3,3,3,3,3,3,3,3,3,3,3,3,27,3,3,3,3,3,3,3,3,3,3,3,3,3,6,3,3,3,3,3,3,3,9,12,3,3,3,3,3,3,3,9,3,3,3,3,3,3,3,3,3,3,3,3,3,3,3,3,3,3,3,6,6,3,3,6,3,3,3,3,3,6,3,3,3,3,3,3,3,3,3,9,3,3,6,3,3,3,3,3,3,3,3,3,3,3,3,3,3,3,3,3,3,3,3,3,3,3,3,3,3,3,3,3,3,3,3,3,3,3,3,3,3,3,3,3,3,3,6,3,18,3,3,3,3,3,3,3,3,3,3,3,3,3,3,3,3,3,3,3,3,3,3,3,3,3,3,3,3,9,3,3,3,3,3,3,3,3,3,3,3,3,3,3,3,3,3,3,6,3,3,3,3,3,3,3,3,3,3,3,3,3,3,3,3,3,3,3,3,3,3,3,12,3,3,3,3,3,3,3,3,3,3,3,3],[3,3,3,3,3,3,3,3,3,3,3,3,3,27,3,3,3,3,3,3,3,3,3,3,3,3,3,6,3,3,3,3,3,3,3,9,12,3,3,3,3,3,3,3,9,3,3,3,3,3,3,3,3,3,3,3,3,3,3,3,3,3,3,3,6,6,3,3,6,3,3,3,3,3,6,3,3,3,3,3,3,3,3,3,9,3,3,6,3,3,3,3,3,3,3,3,3,3,3,3,3,3,3,3,3,3,3,3,3,3,3,3,3,3,3,3,3,3,3,3,3,3,3,3,3,3,3,3,3,3,3,6,3,18,3,3,3,3,3,3,3,3,3,3,3,3,3,3,3,3,3,3,3,3,3,3,3,3,3,3,3,3,9,3,3,3,3,3,3,3,3,3,3,3,3,3,3,3,3,3,3,6,3,3,3,3,3,3,3,3,3,3,3,3,3,3,3,3,3,3,3,3,3,3,3,12,3,3,3,3,3,3,3,3,3,3,3,3],[3,3,3,3,3,3,3,3,3,3,3,3,3,27,3,3,3,3,3,3,3,3,3,3,3,3,3,6,3,3,3,3,3,3,3,9,12,3,3,3,3,3,3,3,9,3,3,3,3,3,3,3,3,3,3,3,3,3,3,3,3,3,3,3,6,6,3,3,6,3,3,3,3,3,6,3,3,3,3,3,3,3,3,3,9,3,3,6,3,3,3,3,3,3,3,3,3,3,3,3,3,3,3,3,3,3,3,3,3,3,3,3,3,3,3,3,3,3,3,3,3,3,3,3,3,3,3,3,3,3,3,6,3,18,3,3,3,3,3,3,3,3,3,3,3,3,3,3,3,3,3,3,3,3,3,3,3,3,3,3,3,3,9,3,3,3,3,3,3,3,3,3,3,3,3,3,3,3,3,3,3,6,3,3,3,3,3,3,3,3,3,3,3,3,3,3,3,3,3,3,3,3,3,3,3,12,3,3,3,3,3,3,3,3,3,3,3,3],[3,3,3,3,3,3,3,3,3,3,3,3,3,27,3,3,3,3,3,3,3,3,3,3,3,3,3,6,3,3,3,3,3,3,3,9,12,3,3,3,3,3,3,3,9,3,3,3,3,3,3,3,3,3,3,3,3,3,3,3,3,3,3,3,6,6,3,3,6,3,3,3,3,3,6,3,3,3,3,3,3,3,3,3,9,3,3,6,3,3,3,3,3,3,3,3,3,3,3,3,3,3,3,3,3,3,3,3,3,3,3,3,3,3,3,3,3,3,3,3,3,3,3,3,3,3,3,3,3,3,3,6,3,18,3,3,3,3,3,3,3,3,3,3,3,3,3,3,3,3,3,3,3,3,3,3,3,3,3,3,3,3,9,3,3,3,3,3,3,3,3,3,3,3,3,3,3,3,3,3,3,6,3,3,3,3,3,3,3,3,3,3,3,3,3,3,3,3,3,3,3,3,3,3,3,12,3,3,3,3,3,3,3,3,3,3,3,3],[3,3,3,3,3,3,3,3,3,3,3,3,3,27,3,3,3,3,3,3,3,3,3,3,3,3,3,6,3,3,3,3,3,3,3,9,12,3,3,3,3,3,3,3,9,3,3,3,3,3,3,3,3,3,3,3,3,3,3,3,3,3,3,3,6,6,3,3,6,3,3,3,3,3,6,3,3,3,3,3,3,3,3,3,9,3,3,6,3,3,3,3,3,3,3,3,3,3,3,3,3,3,3,3,3,3,3,3,3,3,3,3,3,3,3,3,3,3,3,3,3,3,3,3,3,3,3,3,3,3,3,6,3,18,3,3,3,3,3,3,3,3,3,3,3,3,3,3,3,3,3,3,3,3,3,3,3,3,3,3,3,3,9,3,3,3,3,3,3,3,3,3,3,3,3,3,3,3,3,3,3,6,3,3,3,3,3,3,3,3,3,3,3,3,3,3,3,3,3,3,3,3,3,3,3,12,3,3,3,3,3,3,3,3,3,3,3,3],[3,3,3,3,3,3,3,3,3,3,3,3,3,27,3,3,3,3,3,3,3,3,3,3,3,3,3,6,3,3,3,3,3,3,3,9,12,3,3,3,3,3,3,3,9,3,3,3,3,3,3,3,3,3,3,3,3,3,3,3,3,3,3,3,6,6,3,3,6,3,3,3,3,3,6,3,3,3,3,3,3,3,3,3,9,3,3,6,3,3,3,3,3,3,3,3,3,3,3,3,3,3,3,3,3,3,3,3,3,3,3,3,3,3,3,3,3,3,3,3,3,3,3,3,3,3,3,3,3,3,3,6,3,18,3,3,3,3,3,3,3,3,3,3,3,3,3,3,3,3,3,3,3,3,3,3,3,3,3,3,3,3,9,3,3,3,3,3,3,3,3,3,3,3,3,3,3,3,3,3,3,6,3,3,3,3,3,3,3,3,3,3,3,3,3,3,3,3,3,3,3,3,3,3,3,12,3,3,3,3,3,3,3,3,3,3,3,3],[3,3,3,3,3,3,3,3,3,3,3,3,3,27,3,3,3,3,3,3,3,3,3,3,3,3,3,6,3,3,3,3,3,3,3,9,12,3,3,3,3,3,3,3,9,3,3,3,3,3,3,3,3,3,3,3,3,3,3,3,3,3,3,3,6,6,3,3,6,3,3,3,3,3,6,3,3,3,3,3,3,3,3,3,9,3,3,6,3,3,3,3,3,3,3,3,3,3,3,3,3,3,3,3,3,3,3,3,3,3,3,3,3,3,3,3,3,3,3,3,3,3,3,3,3,3,3,3,3,3,3,6,3,18,3,3,3,3,3,3,3,3,3,3,3,3,3,3,3,3,3,3,3,3,3,3,3,3,3,3,3,3,9,3,3,3,3,3,3,3,3,3,3,3,3,3,3,3,3,3,3,6,3,3,3,3,3,3,3,3,3,3,3,3,3,3,3,3,3,3,3,3,3,3,3,12,3,3,3,3,3,3,3,3,3,3,3,3],[3,3,3,3,3,3,3,3,3,3,3,3,3,27,3,3,3,3,3,3,3,3,3,3,3,3,3,6,3,3,3,3,3,3,3,9,12,3,3,3,3,3,3,3,9,3,3,3,3,3,3,3,3,3,3,3,3,3,3,3,3,3,3,3,6,6,3,3,6,3,3,3,3,3,6,3,3,3,3,3,3,3,3,3,9,3,3,6,3,3,3,3,3,3,3,3,3,3,3,3,3,3,3,3,3,3,3,3,3,3,3,3,3,3,3,3,3,3,3,3,3,3,3,3,3,3,3,3,3,3,3,6,3,18,3,3,3,3,3,3,3,3,3,3,3,3,3,3,3,3,3,3,3,3,3,3,3,3,3,3,3,3,9,3,3,3,3,3,3,3,3,3,3,3,3,3,3,3,3,3,3,6,3,3,3,3,3,3,3,3,3,3,3,3,3,3,3,3,3,3,3,3,3,3,3,12,3,3,3,3,3,3,3,3,3,3,3,3],[3,3,3,3,3,3,3,3,3,3,3,3,3,27,3,3,3,3,3,3,3,3,3,3,3,3,3,6,3,3,3,3,3,3,3,9,12,3,3,3,3,3,3,3,9,3,3,3,3,3,3,3,3,3,3,3,3,3,3,3,3,3,3,3,6,6,3,3,6,3,3,3,3,3,6,3,3,3,3,3,3,3,3,3,9,3,3,6,3,3,3,3,3,3,3,3,3,3,3,3,3,3,3,3,3,3,3,3,3,3,3,3,3,3,3,3,3,3,3,3,3,3,3,3,3,3,3,3,3,3,3,6,3,18,3,3,3,3,3,3,3,3,3,3,3,3,3,3,3,3,3,3,3,3,3,3,3,3,3,3,3,3,9,3,3,3,3,3,3,3,3,3,3,3,3,3,3,3,3,3,3,6,3,3,3,3,3,3,3,3,3,3,3,3,3,3,3,3,3,3,3,3,3,3,3,12,3,3,3,3,3,3,3,3,3,3,3,3],[3,3,3,3,3,3,3,3,3,3,3,3,3,27,3,3,3,3,3,3,3,3,3,3,3,3,3,6,3,3,3,3,3,3,3,9,12,3,3,3,3,3,3,3,9,3,3,3,3,3,3,3,3,3,3,3,3,3,3,3,3,3,3,3,6,6,3,3,6,3,3,3,3,3,6,3,3,3,3,3,3,3,3,3,9,3,3,6,3,3,3,3,3,3,3,3,3,3,3,3,3,3,3,3,3,3,3,3,3,3,3,3,3,3,3,3,3,3,3,3,3,3,3,3,3,3,3,3,3,3,3,6,3,18,3,3,3,3,3,3,3,3,3,3,3,3,3,3,3,3,3,3,3,3,3,3,3,3,3,3,3,3,9,3,3,3,3,3,3,3,3,3,3,3,3,3,3,3,3,3,3,6,3,3,3,3,3,3,3,3,3,3,3,3,3,3,3,3,3,3,3,3,3,3,3,12,3,3,3,3,3,3,3,3,3,3,3,3],[3,3,3,3,3,3,3,3,3,3,3,3,3,27,3,3,3,3,3,3,3,3,3,3,3,3,3,6,3,3,3,3,3,3,3,9,12,3,3,3,3,3,3,3,9,3,3,3,3,3,3,3,3,3,3,3,3,3,3,3,3,3,3,3,6,6,3,3,6,3,3,3,3,3,6,3,3,3,3,3,3,3,3,3,9,3,3,6,3,3,3,3,3,3,3,3,3,3,3,3,3,3,3,3,3,3,3,3,3,3,3,3,3,3,3,3,3,3,3,3,3,3,3,3,3,3,3,3,3,3,3,6,3,18,3,3,3,3,3,3,3,3,3,3,3,3,3,3,3,3,3,3,3,3,3,3,3,3,3,3,3,3,9,3,3,3,3,3,3,3,3,3,3,3,3,3,3,3,3,3,3,6,3,3,3,3,3,3,3,3,3,3,3,3,3,3,3,3,3,3,3,3,3,3,3,12,3,3,3,3,3,3,3,3,3,3,3,3],[3,3,3,3,3,3,3,3,3,3,3,3,3,27,3,3,3,3,3,3,3,3,3,3,3,3,3,6,3,3,3,3,3,3,3,9,12,3,3,3,3,3,3,3,9,3,3,3,3,3,3,3,3,3,3,3,3,3,3,3,3,3,3,3,6,6,3,3,6,3,3,3,3,3,6,3,3,3,3,3,3,3,3,3,9,3,3,6,3,3,3,3,3,3,3,3,3,3,3,3,3,3,3,3,3,3,3,3,3,3,3,3,3,3,3,3,3,3,3,3,3,3,3,3,3,3,3,3,3,3,3,6,3,18,3,3,3,3,3,3,3,3,3,3,3,3,3,3,3,3,3,3,3,3,3,3,3,3,3,3,3,3,9,3,3,3,3,3,3,3,3,3,3,3,3,3,3,3,3,3,3,6,3,3,3,3,3,3,3,3,3,3,3,3,3,3,3,3,3,3,3,3,3,3,3,12,3,3,3,3,3,3,3,3,3,3,3,3],[3,3,3,3,3,3,3,3,3,3,3,3,3,27,3,3,3,3,3,3,3,3,3,3,3,3,3,6,3,3,3,3,3,3,3,9,12,3,3,3,3,3,3,3,9,3,3,3,3,3,3,3,3,3,3,3,3,3,3,3,3,3,3,3,6,6,3,3,6,3,3,3,3,3,6,3,3,3,3,3,3,3,3,3,9,3,3,6,3,3,3,3,3,3,3,3,3,3,3,3,3,3,3,3,3,3,3,3,3,3,3,3,3,3,3,3,3,3,3,3,3,3,3,3,3,3,3,3,3,3,3,6,3,18,3,3,3,3,3,3,3,3,3,3,3,3,3,3,3,3,3,3,3,3,3,3,3,3,3,3,3,3,9,3,3,3,3,3,3,3,3,3,3,3,3,3,3,3,3,3,3,6,3,3,3,3,3,3,3,3,3,3,3,3,3,3,3,3,3,3,3,3,3,3,3,12,3,3,3,3,3,3,3,3,3,3,3,3],[3,3,3,3,3,3,3,3,3,3,3,3,3,27,3,3,3,3,3,3,3,3,3,3,3,3,3,6,3,3,3,3,3,3,3,9,12,3,3,3,3,3,3,3,9,3,3,3,3,3,3,3,3,3,3,3,3,3,3,3,3,3,3,3,6,6,3,3,6,3,3,3,3,3,6,3,3,3,3,3,3,3,3,3,9,3,3,6,3,3,3,3,3,3,3,3,3,3,3,3,3,3,3,3,3,3,3,3,3,3,3,3,3,3,3,3,3,3,3,3,3,3,3,3,3,3,3,3,3,3,3,6,3,18,3,3,3,3,3,3,3,3,3,3,3,3,3,3,3,3,3,3,3,3,3,3,3,3,3,3,3,3,9,3,3,3,3,3,3,3,3,3,3,3,3,3,3,3,3,3,3,6,3,3,3,3,3,3,3,3,3,3,3,3,3,3,3,3,3,3,3,3,3,3,3,12,3,3,3,3,3,3,3,3,3,3,3,3],[3,3,3,3,3,3,3,3,3,3,3,3,3,27,3,3,3,3,3,3,3,3,3,3,3,3,3,6,3,3,3,3,3,3,3,9,12,3,3,3,3,3,3,3,9,3,3,3,3,3,3,3,3,3,3,3,3,3,3,3,3,3,3,3,6,6,3,3,6,3,3,3,3,3,6,3,3,3,3,3,3,3,3,3,9,3,3,6,3,3,3,3,3,3,3,3,3,3,3,3,3,3,3,3,3,3,3,3,3,3,3,3,3,3,3,3,3,3,3,3,3,3,3,3,3,3,3,3,3,3,3,6,3,18,3,3,3,3,3,3,3,3,3,3,3,3,3,3,3,3,3,3,3,3,3,3,3,3,3,3,3,3,9,3,3,3,3,3,3,3,3,3,3,3,3,3,3,3,3,3,3,6,3,3,3,3,3,3,3,3,3,3,3,3,3,3,3,3,3,3,3,3,3,3,3,12,3,3,3,3,3,3,3,3,3,3,3,3],[3,3,3,3,3,3,3,3,3,3,3,3,3,27,3,3,3,3,3,3,3,3,3,3,3,3,3,6,3,3,3,3,3,3,3,9,12,3,3,3,3,3,3,3,9,3,3,3,3,3,3,3,3,3,3,3,3,3,3,3,3,3,3,3,6,6,3,3,6,3,3,3,3,3,6,3,3,3,3,3,3,3,3,3,9,3,3,6,3,3,3,3,3,3,3,3,3,3,3,3,3,3,3,3,3,3,3,3,3,3,3,3,3,3,3,3,3,3,3,3,3,3,3,3,3,3,3,3,3,3,3,6,3,18,3,3,3,3,3,3,3,3,3,3,3,3,3,3,3,3,3,3,3,3,3,3,3,3,3,3,3,3,9,3,3,3,3,3,3,3,3,3,3,3,3,3,3,3,3,3,3,6,3,3,3,3,3,3,3,3,3,3,3,3,3,3,3,3,3,3,3,3,3,3,3,12,3,3,3,3,3,3,3,3,3,3,3,3],[3,3,3,3,3,3,3,3,3,3,3,3,3,27,3,3,3,3,3,3,3,3,3,3,3,3,3,6,3,3,3,3,3,3,3,9,12,3,3,3,3,3,3,3,9,3,3,3,3,3,3,3,3,3,3,3,3,3,3,3,3,3,3,3,6,6,3,3,6,3,3,3,3,3,6,3,3,3,3,3,3,3,3,3,9,3,3,6,3,3,3,3,3,3,3,3,3,3,3,3,3,3,3,3,3,3,3,3,3,3,3,3,3,3,3,3,3,3,3,3,3,3,3,3,3,3,3,3,3,3,3,6,3,18,3,3,3,3,3,3,3,3,3,3,3,3,3,3,3,3,3,3,3,3,3,3,3,3,3,3,3,3,9,3,3,3,3,3,3,3,3,3,3,3,3,3,3,3,3,3,3,6,3,3,3,3,3,3,3,3,3,3,3,3,3,3,3,3,3,3,3,3,3,3,3,12,3,3,3,3,3,3,3,3,3,3,3,3],[3,3,3,3,3,3,3,3,3,3,3,3,3,27,3,3,3,3,3,3,3,3,3,3,3,3,3,6,3,3,3,3,3,3,3,9,12,3,3,3,3,3,3,3,9,3,3,3,3,3,3,3,3,3,3,3,3,3,3,3,3,3,3,3,6,6,3,3,6,3,3,3,3,3,6,3,3,3,3,3,3,3,3,3,9,3,3,6,3,3,3,3,3,3,3,3,3,3,3,3,3,3,3,3,3,3,3,3,3,3,3,3,3,3,3,3,3,3,3,3,3,3,3,3,3,3,3,3,3,3,3,6,3,18,3,3,3,3,3,3,3,3,3,3,3,3,3,3,3,3,3,3,3,3,3,3,3,3,3,3,3,3,9,3,3,3,3,3,3,3,3,3,3,3,3,3,3,3,3,3,3,6,3,3,3,3,3,3,3,3,3,3,3,3,3,3,3,3,3,3,3,3,3,3,3,12,3,3,3,3,3,3,3,3,3,3,3,3],[3,3,3,3,3,3,3,3,3,3,3,3,3,27,3,3,3,3,3,3,3,3,3,3,3,3,3,6,3,3,3,3,3,3,3,9,12,3,3,3,3,3,3,3,9,3,3,3,3,3,3,3,3,3,3,3,3,3,3,3,3,3,3,3,6,6,3,3,6,3,3,3,3,3,6,3,3,3,3,3,3,3,3,3,9,3,3,6,3,3,3,3,3,3,3,3,3,3,3,3,3,3,3,3,3,3,3,3,3,3,3,3,3,3,3,3,3,3,3,3,3,3,3,3,3,3,3,3,3,3,3,6,3,18,3,3,3,3,3,3,3,3,3,3,3,3,3,3,3,3,3,3,3,3,3,3,3,3,3,3,3,3,9,3,3,3,3,3,3,3,3,3,3,3,3,3,3,3,3,3,3,6,3,3,3,3,3,3,3,3,3,3,3,3,3,3,3,3,3,3,3,3,3,3,3,12,3,3,3,3,3,3,3,3,3,3,3,3],[3,3,3,3,3,3,3,3,3,3,3,3,3,27,3,3,3,3,3,3,3,3,3,3,3,3,3,6,3,3,3,3,3,3,3,9,12,3,3,3,3,3,3,3,9,3,3,3,3,3,3,3,3,3,3,3,3,3,3,3,3,3,3,3,6,6,3,3,6,3,3,3,3,3,6,3,3,3,3,3,3,3,3,3,9,3,3,6,3,3,3,3,3,3,3,3,3,3,3,3,3,3,3,3,3,3,3,3,3,3,3,3,3,3,3,3,3,3,3,3,3,3,3,3,3,3,3,3,3,3,3,6,3,18,3,3,3,3,3,3,3,3,3,3,3,3,3,3,3,3,3,3,3,3,3,3,3,3,3,3,3,3,9,3,3,3,3,3,3,3,3,3,3,3,3,3,3,3,3,3,3,6,3,3,3,3,3,3,3,3,3,3,3,3,3,3,3,3,3,3,3,3,3,3,3,12,3,3,3,3,3,3,3,3,3,3,3,3],[3,3,3,3,3,3,3,3,3,3,3,3,3,27,3,3,3,3,3,3,3,3,3,3,3,3,3,6,3,3,3,3,3,3,3,9,12,3,3,3,3,3,3,3,9,3,3,3,3,3,3,3,3,3,3,3,3,3,3,3,3,3,3,3,6,6,3,3,6,3,3,3,3,3,6,3,3,3,3,3,3,3,3,3,9,3,3,6,3,3,3,3,3,3,3,3,3,3,3,3,3,3,3,3,3,3,3,3,3,3,3,3,3,3,3,3,3,3,3,3,3,3,3,3,3,3,3,3,3,3,3,6,3,18,3,3,3,3,3,3,3,3,3,3,3,3,3,3,3,3,3,3,3,3,3,3,3,3,3,3,3,3,9,3,3,3,3,3,3,3,3,3,3,3,3,3,3,3,3,3,3,6,3,3,3,3,3,3,3,3,3,3,3,3,3,3,3,3,3,3,3,3,3,3,3,12,3,3,3,3,3,3,3,3,3,3,3,3],[3,3,3,3,3,3,3,3,3,3,3,3,3,27,3,3,3,3,3,3,3,3,3,3,3,3,3,6,3,3,3,3,3,3,3,9,12,3,3,3,3,3,3,3,9,3,3,3,3,3,3,3,3,3,3,3,3,3,3,3,3,3,3,3,6,6,3,3,6,3,3,3,3,3,6,3,3,3,3,3,3,3,3,3,9,3,3,6,3,3,3,3,3,3,3,3,3,3,3,3,3,3,3,3,3,3,3,3,3,3,3,3,3,3,3,3,3,3,3,3,3,3,3,3,3,3,3,3,3,3,3,6,3,18,3,3,3,3,3,3,3,3,3,3,3,3,3,3,3,3,3,3,3,3,3,3,3,3,3,3,3,3,9,3,3,3,3,3,3,3,3,3,3,3,3,3,3,3,3,3,3,6,3,3,3,3,3,3,3,3,3,3,3,3,3,3,3,3,3,3,3,3,3,3,3,12,3,3,3,3,3,3,3,3,3,3,3,3],[3,3,3,3,3,3,3,3,3,3,3,3,3,27,3,3,3,3,3,3,3,3,3,3,3,3,3,6,3,3,3,3,3,3,3,9,12,3,3,3,3,3,3,3,9,3,3,3,3,3,3,3,3,3,3,3,3,3,3,3,3,3,3,3,6,6,3,3,6,3,3,3,3,3,6,3,3,3,3,3,3,3,3,3,9,3,3,6,3,3,3,3,3,3,3,3,3,3,3,3,3,3,3,3,3,3,3,3,3,3,3,3,3,3,3,3,3,3,3,3,3,3,3,3,3,3,3,3,3,3,3,6,3,18,3,3,3,3,3,3,3,3,3,3,3,3,3,3,3,3,3,3,3,3,3,3,3,3,3,3,3,3,9,3,3,3,3,3,3,3,3,3,3,3,3,3,3,3,3,3,3,6,3,3,3,3,3,3,3,3,3,3,3,3,3,3,3,3,3,3,3,3,3,3,3,12,3,3,3,3,3,3,3,3,3,3,3,3],[3,3,3,3,3,3,3,3,3,3,3,3,3,27,3,3,3,3,3,3,3,3,3,3,3,3,3,6,3,3,3,3,3,3,3,9,12,3,3,3,3,3,3,3,9,3,3,3,3,3,3,3,3,3,3,3,3,3,3,3,3,3,3,3,6,6,3,3,6,3,3,3,3,3,6,3,3,3,3,3,3,3,3,3,9,3,3,6,3,3,3,3,3,3,3,3,3,3,3,3,3,3,3,3,3,3,3,3,3,3,3,3,3,3,3,3,3,3,3,3,3,3,3,3,3,3,3,3,3,3,3,6,3,18,3,3,3,3,3,3,3,3,3,3,3,3,3,3,3,3,3,3,3,3,3,3,3,3,3,3,3,3,9,3,3,3,3,3,3,3,3,3,3,3,3,3,3,3,3,3,3,6,3,3,3,3,3,3,3,3,3,3,3,3,3,3,3,3,3,3,3,3,3,3,3,12,3,3,3,3,3,3,3,3,3,3,3,3],[3,3,3,3,3,3,3,3,3,3,3,3,3,27,3,3,3,3,3,3,3,3,3,3,3,3,3,6,3,3,3,3,3,3,3,9,12,3,3,3,3,3,3,3,9,3,3,3,3,3,3,3,3,3,3,3,3,3,3,3,3,3,3,3,6,6,3,3,6,3,3,3,3,3,6,3,3,3,3,3,3,3,3,3,9,3,3,6,3,3,3,3,3,3,3,3,3,3,3,3,3,3,3,3,3,3,3,3,3,3,3,3,3,3,3,3,3,3,3,3,3,3,3,3,3,3,3,3,3,3,3,6,3,18,3,3,3,3,3,3,3,3,3,3,3,3,3,3,3,3,3,3,3,3,3,3,3,3,3,3,3,3,9,3,3,3,3,3,3,3,3,3,3,3,3,3,3,3,3,3,3,6,3,3,3,3,3,3,3,3,3,3,3,3,3,3,3,3,3,3,3,3,3,3,3,12,3,3,3,3,3,3,3,3,3,3,3,3],[3,3,3,3,3,3,3,3,3,3,3,3,3,27,3,3,3,3,3,3,3,3,3,3,3,3,3,6,3,3,3,3,3,3,3,9,12,3,3,3,3,3,3,3,9,3,3,3,3,3,3,3,3,3,3,3,3,3,3,3,3,3,3,3,6,6,3,3,6,3,3,3,3,3,6,3,3,3,3,3,3,3,3,3,9,3,3,6,3,3,3,3,3,3,3,3,3,3,3,3,3,3,3,3,3,3,3,3,3,3,3,3,3,3,3,3,3,3,3,3,3,3,3,3,3,3,3,3,3,3,3,6,3,18,3,3,3,3,3,3,3,3,3,3,3,3,3,3,3,3,3,3,3,3,3,3,3,3,3,3,3,3,9,3,3,3,3,3,3,3,3,3,3,3,3,3,3,3,3,3,3,6,3,3,3,3,3,3,3,3,3,3,3,3,3,3,3,3,3,3,3,3,3,3,3,12,3,3,3,3,3,3,3,3,3,3,3,3],[3,3,3,3,3,3,3,3,3,3,3,3,3,27,3,3,3,3,3,3,3,3,3,3,3,3,3,6,3,3,3,3,3,3,3,9,12,3,3,3,3,3,3,3,9,3,3,3,3,3,3,3,3,3,3,3,3,3,3,3,3,3,3,3,6,6,3,3,6,3,3,3,3,3,6,3,3,3,3,3,3,3,3,3,9,3,3,6,3,3,3,3,3,3,3,3,3,3,3,3,3,3,3,3,3,3,3,3,3,3,3,3,3,3,3,3,3,3,3,3,3,3,3,3,3,3,3,3,3,3,3,6,3,18,3,3,3,3,3,3,3,3,3,3,3,3,3,3,3,3,3,3,3,3,3,3,3,3,3,3,3,3,9,3,3,3,3,3,3,3,3,3,3,3,3,3,3,3,3,3,3,6,3,3,3,3,3,3,3,3,3,3,3,3,3,3,3,3,3,3,3,3,3,3,3,12,3,3,3,3,3,3,3,3,3,3,3,3],[3,3,3,3,3,3,3,3,3,3,3,3,3,27,3,3,3,3,3,3,3,3,3,3,3,3,3,6,3,3,3,3,3,3,3,9,12,3,3,3,3,3,3,3,9,3,3,3,3,3,3,3,3,3,3,3,3,3,3,3,3,3,3,3,6,6,3,3,6,3,3,3,3,3,6,3,3,3,3,3,3,3,3,3,9,3,3,6,3,3,3,3,3,3,3,3,3,3,3,3,3,3,3,3,3,3,3,3,3,3,3,3,3,3,3,3,3,3,3,3,3,3,3,3,3,3,3,3,3,3,3,6,3,18,3,3,3,3,3,3,3,3,3,3,3,3,3,3,3,3,3,3,3,3,3,3,3,3,3,3,3,3,9,3,3,3,3,3,3,3,3,3,3,3,3,3,3,3,3,3,3,6,3,3,3,3,3,3,3,3,3,3,3,3,3,3,3,3,3,3,3,3,3,3,3,12,3,3,3,3,3,3,3,3,3,3,3,3],[3,3,3,3,3,3,3,3,3,3,3,3,3,27,3,3,3,3,3,3,3,3,3,3,3,3,3,6,3,3,3,3,3,3,3,9,12,3,3,3,3,3,3,3,9,3,3,3,3,3,3,3,3,3,3,3,3,3,3,3,3,3,3,3,6,6,3,3,6,3,3,3,3,3,6,3,3,3,3,3,3,3,3,3,9,3,3,6,3,3,3,3,3,3,3,3,3,3,3,3,3,3,3,3,3,3,3,3,3,3,3,3,3,3,3,3,3,3,3,3,3,3,3,3,3,3,3,3,3,3,3,6,3,18,3,3,3,3,3,3,3,3,3,3,3,3,3,3,3,3,3,3,3,3,3,3,3,3,3,3,3,3,9,3,3,3,3,3,3,3,3,3,3,3,3,3,3,3,3,3,3,6,3,3,3,3,3,3,3,3,3,3,3,3,3,3,3,3,3,3,3,3,3,3,3,12,3,3,3,3,3,3,3,3,3,3,3,3],[3,3,3,3,3,3,3,3,3,3,3,3,3,27,3,3,3,3,3,3,3,3,3,3,3,3,3,6,3,3,3,3,3,3,3,9,12,3,3,3,3,3,3,3,9,3,3,3,3,3,3,3,3,3,3,3,3,3,3,3,3,3,3,3,6,6,3,3,6,3,3,3,3,3,6,3,3,3,3,3,3,3,3,3,9,3,3,6,3,3,3,3,3,3,3,3,3,3,3,3,3,3,3,3,3,3,3,3,3,3,3,3,3,3,3,3,3,3,3,3,3,3,3,3,3,3,3,3,3,3,3,6,3,18,3,3,3,3,3,3,3,3,3,3,3,3,3,3,3,3,3,3,3,3,3,3,3,3,3,3,3,3,9,3,3,3,3,3,3,3,3,3,3,3,3,3,3,3,3,3,3,6,3,3,3,3,3,3,3,3,3,3,3,3,3,3,3,3,3,3,3,3,3,3,3,12,3,3,3,3,3,3,3,3,3,3,3,3],[3,3,3,3,3,3,3,3,3,3,3,3,3,27,3,3,3,3,3,3,3,3,3,3,3,3,3,6,3,3,3,3,3,3,3,9,12,3,3,3,3,3,3,3,9,3,3,3,3,3,3,3,3,3,3,3,3,3,3,3,3,3,3,3,6,6,3,3,6,3,3,3,3,3,6,3,3,3,3,3,3,3,3,3,9,3,3,6,3,3,3,3,3,3,3,3,3,3,3,3,3,3,3,3,3,3,3,3,3,3,3,3,3,3,3,3,3,3,3,3,3,3,3,3,3,3,3,3,3,3,3,6,3,18,3,3,3,3,3,3,3,3,3,3,3,3,3,3,3,3,3,3,3,3,3,3,3,3,3,3,3,3,9,3,3,3,3,3,3,3,3,3,3,3,3,3,3,3,3,3,3,6,3,3,3,3,3,3,3,3,3,3,3,3,3,3,3,3,3,3,3,3,3,3,3,12,3,3,3,3,3,3,3,3,3,3,3,3],[3,3,3,3,3,3,3,3,3,3,3,3,3,27,3,3,3,3,3,3,3,3,3,3,3,3,3,6,3,3,3,3,3,3,3,9,12,3,3,3,3,3,3,3,9,3,3,3,3,3,3,3,3,3,3,3,3,3,3,3,3,3,3,3,6,6,3,3,6,3,3,3,3,3,6,3,3,3,3,3,3,3,3,3,9,3,3,6,3,3,3,3,3,3,3,3,3,3,3,3,3,3,3,3,3,3,3,3,3,3,3,3,3,3,3,3,3,3,3,3,3,3,3,3,3,3,3,3,3,3,3,6,3,18,3,3,3,3,3,3,3,3,3,3,3,3,3,3,3,3,3,3,3,3,3,3,3,3,3,3,3,3,9,3,3,3,3,3,3,3,3,3,3,3,3,3,3,3,3,3,3,6,3,3,3,3,3,3,3,3,3,3,3,3,3,3,3,3,3,3,3,3,3,3,3,12,3,3,3,3,3,3,3,3,3,3,3,3],[3,3,3,3,3,3,3,3,3,3,3,3,3,27,3,3,3,3,3,3,3,3,3,3,3,3,3,6,3,3,3,3,3,3,3,9,12,3,3,3,3,3,3,3,9,3,3,3,3,3,3,3,3,3,3,3,3,3,3,3,3,3,3,3,6,6,3,3,6,3,3,3,3,3,6,3,3,3,3,3,3,3,3,3,9,3,3,6,3,3,3,3,3,3,3,3,3,3,3,3,3,3,3,3,3,3,3,3,3,3,3,3,3,3,3,3,3,3,3,3,3,3,3,3,3,3,3,3,3,3,3,6,3,18,3,3,3,3,3,3,3,3,3,3,3,3,3,3,3,3,3,3,3,3,3,3,3,3,3,3,3,3,9,3,3,3,3,3,3,3,3,3,3,3,3,3,3,3,3,3,3,6,3,3,3,3,3,3,3,3,3,3,3,3,3,3,3,3,3,3,3,3,3,3,3,12,3,3,3,3,3,3,3,3,3,3,3,3],[3,3,3,3,3,3,3,3,3,3,3,3,3,27,3,3,3,3,3,3,3,3,3,3,3,3,3,6,3,3,3,3,3,3,3,9,12,3,3,3,3,3,3,3,9,3,3,3,3,3,3,3,3,3,3,3,3,3,3,3,3,3,3,3,6,6,3,3,6,3,3,3,3,3,6,3,3,3,3,3,3,3,3,3,9,3,3,6,3,3,3,3,3,3,3,3,3,3,3,3,3,3,3,3,3,3,3,3,3,3,3,3,3,3,3,3,3,3,3,3,3,3,3,3,3,3,3,3,3,3,3,6,3,18,3,3,3,3,3,3,3,3,3,3,3,3,3,3,3,3,3,3,3,3,3,3,3,3,3,3,3,3,9,3,3,3,3,3,3,3,3,3,3,3,3,3,3,3,3,3,3,6,3,3,3,3,3,3,3,3,3,3,3,3,3,3,3,3,3,3,3,3,3,3,3,12,3,3,3,3,3,3,3,3,3,3,3,3],[3,3,3,3,3,3,3,3,3,3,3,3,3,27,3,3,3,3,3,3,3,3,3,3,3,3,3,6,3,3,3,3,3,3,3,9,12,3,3,3,3,3,3,3,9,3,3,3,3,3,3,3,3,3,3,3,3,3,3,3,3,3,3,3,6,6,3,3,6,3,3,3,3,3,6,3,3,3,3,3,3,3,3,3,9,3,3,6,3,3,3,3,3,3,3,3,3,3,3,3,3,3,3,3,3,3,3,3,3,3,3,3,3,3,3,3,3,3,3,3,3,3,3,3,3,3,3,3,3,3,3,6,3,18,3,3,3,3,3,3,3,3,3,3,3,3,3,3,3,3,3,3,3,3,3,3,3,3,3,3,3,3,9,3,3,3,3,3,3,3,3,3,3,3,3,3,3,3,3,3,3,6,3,3,3,3,3,3,3,3,3,3,3,3,3,3,3,3,3,3,3,3,3,3,3,12,3,3,3,3,3,3,3,3,3,3,3,3],[3,3,3,3,3,3,3,3,3,3,3,3,3,27,3,3,3,3,3,3,3,3,3,3,3,3,3,6,3,3,3,3,3,3,3,9,12,3,3,3,3,3,3,3,9,3,3,3,3,3,3,3,3,3,3,3,3,3,3,3,3,3,3,3,6,6,3,3,6,3,3,3,3,3,6,3,3,3,3,3,3,3,3,3,9,3,3,6,3,3,3,3,3,3,3,3,3,3,3,3,3,3,3,3,3,3,3,3,3,3,3,3,3,3,3,3,3,3,3,3,3,3,3,3,3,3,3,3,3,3,3,6,3,18,3,3,3,3,3,3,3,3,3,3,3,3,3,3,3,3,3,3,3,3,3,3,3,3,3,3,3,3,9,3,3,3,3,3,3,3,3,3,3,3,3,3,3,3,3,3,3,6,3,3,3,3,3,3,3,3,3,3,3,3,3,3,3,3,3,3,3,3,3,3,3,12,3,3,3,3,3,3,3,3,3,3,3,3],[3,3,3,3,3,3,3,3,3,3,3,3,3,27,3,3,3,3,3,3,3,3,3,3,3,3,3,6,3,3,3,3,3,3,3,9,12,3,3,3,3,3,3,3,9,3,3,3,3,3,3,3,3,3,3,3,3,3,3,3,3,3,3,3,6,6,3,3,6,3,3,3,3,3,6,3,3,3,3,3,3,3,3,3,9,3,3,6,3,3,3,3,3,3,3,3,3,3,3,3,3,3,3,3,3,3,3,3,3,3,3,3,3,3,3,3,3,3,3,3,3,3,3,3,3,3,3,3,3,3,3,6,3,18,3,3,3,3,3,3,3,3,3,3,3,3,3,3,3,3,3,3,3,3,3,3,3,3,3,3,3,3,9,3,3,3,3,3,3,3,3,3,3,3,3,3,3,3,3,3,3,6,3,3,3,3,3,3,3,3,3,3,3,3,3,3,3,3,3,3,3,3,3,3,3,12,3,3,3,3,3,3,3,3,3,3,3,3],[3,3,3,3,3,3,3,3,3,3,3,3,3,27,3,3,3,3,3,3,3,3,3,3,3,3,3,6,3,3,3,3,3,3,3,9,12,3,3,3,3,3,3,3,9,3,3,3,3,3,3,3,3,3,3,3,3,3,3,3,3,3,3,3,6,6,3,3,6,3,3,3,3,3,6,3,3,3,3,3,3,3,3,3,9,3,3,6,3,3,3,3,3,3,3,3,3,3,3,3,3,3,3,3,3,3,3,3,3,3,3,3,3,3,3,3,3,3,3,3,3,3,3,3,3,3,3,3,3,3,3,6,3,18,3,3,3,3,3,3,3,3,3,3,3,3,3,3,3,3,3,3,3,3,3,3,3,3,3,3,3,3,9,3,3,3,3,3,3,3,3,3,3,3,3,3,3,3,3,3,3,6,3,3,3,3,3,3,3,3,3,3,3,3,3,3,3,3,3,3,3,3,3,3,3,12,3,3,3,3,3,3,3,3,3,3,3,3],[3,3,3,3,3,3,3,3,3,3,3,3,3,27,3,3,3,3,3,3,3,3,3,3,3,3,3,6,3,3,3,3,3,3,3,9,12,3,3,3,3,3,3,3,9,3,3,3,3,3,3,3,3,3,3,3,3,3,3,3,3,3,3,3,6,6,3,3,6,3,3,3,3,3,6,3,3,3,3,3,3,3,3,3,9,3,3,6,3,3,3,3,3,3,3,3,3,3,3,3,3,3,3,3,3,3,3,3,3,3,3,3,3,3,3,3,3,3,3,3,3,3,3,3,3,3,3,3,3,3,3,6,3,18,3,3,3,3,3,3,3,3,3,3,3,3,3,3,3,3,3,3,3,3,3,3,3,3,3,3,3,3,9,3,3,3,3,3,3,3,3,3,3,3,3,3,3,3,3,3,3,6,3,3,3,3,3,3,3,3,3,3,3,3,3,3,3,3,3,3,3,3,3,3,3,12,3,3,3,3,3,3,3,3,3,3,3,3],[3,3,3,3,3,3,3,3,3,3,3,3,3,27,3,3,3,3,3,3,3,3,3,3,3,3,3,6,3,3,3,3,3,3,3,9,12,3,3,3,3,3,3,3,9,3,3,3,3,3,3,3,3,3,3,3,3,3,3,3,3,3,3,3,6,6,3,3,6,3,3,3,3,3,6,3,3,3,3,3,3,3,3,3,9,3,3,6,3,3,3,3,3,3,3,3,3,3,3,3,3,3,3,3,3,3,3,3,3,3,3,3,3,3,3,3,3,3,3,3,3,3,3,3,3,3,3,3,3,3,3,6,3,18,3,3,3,3,3,3,3,3,3,3,3,3,3,3,3,3,3,3,3,3,3,3,3,3,3,3,3,3,9,3,3,3,3,3,3,3,3,3,3,3,3,3,3,3,3,3,3,6,3,3,3,3,3,3,3,3,3,3,3,3,3,3,3,3,3,3,3,3,3,3,3,12,3,3,3,3,3,3,3,3,3,3,3,3],[3,3,3,3,3,3,3,3,3,3,3,3,3,27,3,3,3,3,3,3,3,3,3,3,3,3,3,6,3,3,3,3,3,3,3,9,12,3,3,3,3,3,3,3,9,3,3,3,3,3,3,3,3,3,3,3,3,3,3,3,3,3,3,3,6,6,3,3,6,3,3,3,3,3,6,3,3,3,3,3,3,3,3,3,9,3,3,6,3,3,3,3,3,3,3,3,3,3,3,3,3,3,3,3,3,3,3,3,3,3,3,3,3,3,3,3,3,3,3,3,3,3,3,3,3,3,3,3,3,3,3,6,3,18,3,3,3,3,3,3,3,3,3,3,3,3,3,3,3,3,3,3,3,3,3,3,3,3,3,3,3,3,9,3,3,3,3,3,3,3,3,3,3,3,3,3,3,3,3,3,3,6,3,3,3,3,3,3,3,3,3,3,3,3,3,3,3,3,3,3,3,3,3,3,3,12,3,3,3,3,3,3,3,3,3,3,3,3],[3,3,3,3,3,3,3,3,3,3,3,3,3,27,3,3,3,3,3,3,3,3,3,3,3,3,3,6,3,3,3,3,3,3,3,9,12,3,3,3,3,3,3,3,9,3,3,3,3,3,3,3,3,3,3,3,3,3,3,3,3,3,3,3,6,6,3,3,6,3,3,3,3,3,6,3,3,3,3,3,3,3,3,3,9,3,3,6,3,3,3,3,3,3,3,3,3,3,3,3,3,3,3,3,3,3,3,3,3,3,3,3,3,3,3,3,3,3,3,3,3,3,3,3,3,3,3,3,3,3,3,6,3,18,3,3,3,3,3,3,3,3,3,3,3,3,3,3,3,3,3,3,3,3,3,3,3,3,3,3,3,3,9,3,3,3,3,3,3,3,3,3,3,3,3,3,3,3,3,3,3,6,3,3,3,3,3,3,3,3,3,3,3,3,3,3,3,3,3,3,3,3,3,3,3,12,3,3,3,3,3,3,3,3,3,3,3,3],[3,3,3,3,3,3,3,3,3,3,3,3,3,27,3,3,3,3,3,3,3,3,3,3,3,3,3,6,3,3,3,3,3,3,3,9,12,3,3,3,3,3,3,3,9,3,3,3,3,3,3,3,3,3,3,3,3,3,3,3,3,3,3,3,6,6,3,3,6,3,3,3,3,3,6,3,3,3,3,3,3,3,3,3,9,3,3,6,3,3,3,3,3,3,3,3,3,3,3,3,3,3,3,3,3,3,3,3,3,3,3,3,3,3,3,3,3,3,3,3,3,3,3,3,3,3,3,3,3,3,3,6,3,18,3,3,3,3,3,3,3,3,3,3,3,3,3,3,3,3,3,3,3,3,3,3,3,3,3,3,3,3,9,3,3,3,3,3,3,3,3,3,3,3,3,3,3,3,3,3,3,6,3,3,3,3,3,3,3,3,3,3,3,3,3,3,3,3,3,3,3,3,3,3,3,12,3,3,3,3,3,3,3,3,3,3,3,3],[3,3,3,3,3,3,3,3,3,3,3,3,3,27,3,3,3,3,3,3,3,3,3,3,3,3,3,6,3,3,3,3,3,3,3,9,12,3,3,3,3,3,3,3,9,3,3,3,3,3,3,3,3,3,3,3,3,3,3,3,3,3,3,3,6,6,3,3,6,3,3,3,3,3,6,3,3,3,3,3,3,3,3,3,9,3,3,6,3,3,3,3,3,3,3,3,3,3,3,3,3,3,3,3,3,3,3,3,3,3,3,3,3,3,3,3,3,3,3,3,3,3,3,3,3,3,3,3,3,3,3,6,3,18,3,3,3,3,3,3,3,3,3,3,3,3,3,3,3,3,3,3,3,3,3,3,3,3,3,3,3,3,9,3,3,3,3,3,3,3,3,3,3,3,3,3,3,3,3,3,3,6,3,3,3,3,3,3,3,3,3,3,3,3,3,3,3,3,3,3,3,3,3,3,3,12,3,3,3,3,3,3,3,3,3,3,3,3],[3,3,3,3,3,3,3,3,3,3,3,3,3,27,3,3,3,3,3,3,3,3,3,3,3,3,3,6,3,3,3,3,3,3,3,9,12,3,3,3,3,3,3,3,9,3,3,3,3,3,3,3,3,3,3,3,3,3,3,3,3,3,3,3,6,6,3,3,6,3,3,3,3,3,6,3,3,3,3,3,3,3,3,3,9,3,3,6,3,3,3,3,3,3,3,3,3,3,3,3,3,3,3,3,3,3,3,3,3,3,3,3,3,3,3,3,3,3,3,3,3,3,3,3,3,3,3,3,3,3,3,6,3,18,3,3,3,3,3,3,3,3,3,3,3,3,3,3,3,3,3,3,3,3,3,3,3,3,3,3,3,3,9,3,3,3,3,3,3,3,3,3,3,3,3,3,3,3,3,3,3,6,3,3,3,3,3,3,3,3,3,3,3,3,3,3,3,3,3,3,3,3,3,3,3,12,3,3,3,3,3,3,3,3,3,3,3,3],[3,3,3,3,3,3,3,3,3,3,3,3,3,27,3,3,3,3,3,3,3,3,3,3,3,3,3,6,3,3,3,3,3,3,3,9,12,3,3,3,3,3,3,3,9,3,3,3,3,3,3,3,3,3,3,3,3,3,3,3,3,3,3,3,6,6,3,3,6,3,3,3,3,3,6,3,3,3,3,3,3,3,3,3,9,3,3,6,3,3,3,3,3,3,3,3,3,3,3,3,3,3,3,3,3,3,3,3,3,3,3,3,3,3,3,3,3,3,3,3,3,3,3,3,3,3,3,3,3,3,3,6,3,18,3,3,3,3,3,3,3,3,3,3,3,3,3,3,3,3,3,3,3,3,3,3,3,3,3,3,3,3,9,3,3,3,3,3,3,3,3,3,3,3,3,3,3,3,3,3,3,6,3,3,3,3,3,3,3,3,3,3,3,3,3,3,3,3,3,3,3,3,3,3,3,12,3,3,3,3,3,3,3,3,3,3,3,3],[3,3,3,3,3,3,3,3,3,3,3,3,3,27,3,3,3,3,3,3,3,3,3,3,3,3,3,6,3,3,3,3,3,3,3,9,12,3,3,3,3,3,3,3,9,3,3,3,3,3,3,3,3,3,3,3,3,3,3,3,3,3,3,3,6,6,3,3,6,3,3,3,3,3,6,3,3,3,3,3,3,3,3,3,9,3,3,6,3,3,3,3,3,3,3,3,3,3,3,3,3,3,3,3,3,3,3,3,3,3,3,3,3,3,3,3,3,3,3,3,3,3,3,3,3,3,3,3,3,3,3,6,3,18,3,3,3,3,3,3,3,3,3,3,3,3,3,3,3,3,3,3,3,3,3,3,3,3,3,3,3,3,9,3,3,3,3,3,3,3,3,3,3,3,3,3,3,3,3,3,3,6,3,3,3,3,3,3,3,3,3,3,3,3,3,3,3,3,3,3,3,3,3,3,3,12,3,3,3,3,3,3,3,3,3,3,3,3],[3,3,3,3,3,3,3,3,3,3,3,3,3,27,3,3,3,3,3,3,3,3,3,3,3,3,3,6,3,3,3,3,3,3,3,9,12,3,3,3,3,3,3,3,9,3,3,3,3,3,3,3,3,3,3,3,3,3,3,3,3,3,3,3,6,6,3,3,6,3,3,3,3,3,6,3,3,3,3,3,3,3,3,3,9,3,3,6,3,3,3,3,3,3,3,3,3,3,3,3,3,3,3,3,3,3,3,3,3,3,3,3,3,3,3,3,3,3,3,3,3,3,3,3,3,3,3,3,3,3,3,6,3,18,3,3,3,3,3,3,3,3,3,3,3,3,3,3,3,3,3,3,3,3,3,3,3,3,3,3,3,3,9,3,3,3,3,3,3,3,3,3,3,3,3,3,3,3,3,3,3,6,3,3,3,3,3,3,3,3,3,3,3,3,3,3,3,3,3,3,3,3,3,3,3,12,3,3,3,3,3,3,3,3,3,3,3,3],[3,3,3,3,3,3,3,3,3,3,3,3,3,27,3,3,3,3,3,3,3,3,3,3,3,3,3,6,3,3,3,3,3,3,3,9,12,3,3,3,3,3,3,3,9,3,3,3,3,3,3,3,3,3,3,3,3,3,3,3,3,3,3,3,6,6,3,3,6,3,3,3,3,3,6,3,3,3,3,3,3,3,3,3,9,3,3,6,3,3,3,3,3,3,3,3,3,3,3,3,3,3,3,3,3,3,3,3,3,3,3,3,3,3,3,3,3,3,3,3,3,3,3,3,3,3,3,3,3,3,3,6,3,18,3,3,3,3,3,3,3,3,3,3,3,3,3,3,3,3,3,3,3,3,3,3,3,3,3,3,3,3,9,3,3,3,3,3,3,3,3,3,3,3,3,3,3,3,3,3,3,6,3,3,3,3,3,3,3,3,3,3,3,3,3,3,3,3,3,3,3,3,3,3,3,12,3,3,3,3,3,3,3,3,3,3,3,3],[3,3,3,3,3,3,3,3,3,3,3,3,3,27,3,3,3,3,3,3,3,3,3,3,3,3,3,6,3,3,3,3,3,3,3,9,12,3,3,3,3,3,3,3,9,3,3,3,3,3,3,3,3,3,3,3,3,3,3,3,3,3,3,3,6,6,3,3,6,3,3,3,3,3,6,3,3,3,3,3,3,3,3,3,9,3,3,6,3,3,3,3,3,3,3,3,3,3,3,3,3,3,3,3,3,3,3,3,3,3,3,3,3,3,3,3,3,3,3,3,3,3,3,3,3,3,3,3,3,3,3,6,3,18,3,3,3,3,3,3,3,3,3,3,3,3,3,3,3,3,3,3,3,3,3,3,3,3,3,3,3,3,9,3,3,3,3,3,3,3,3,3,3,3,3,3,3,3,3,3,3,6,3,3,3,3,3,3,3,3,3,3,3,3,3,3,3,3,3,3,3,3,3,3,3,12,3,3,3,3,3,3,3,3,3,3,3,3],[3,3,3,3,3,3,3,3,3,3,3,3,3,27,3,3,3,3,3,3,3,3,3,3,3,3,3,6,3,3,3,3,3,3,3,9,12,3,3,3,3,3,3,3,9,3,3,3,3,3,3,3,3,3,3,3,3,3,3,3,3,3,3,3,6,6,3,3,6,3,3,3,3,3,6,3,3,3,3,3,3,3,3,3,9,3,3,6,3,3,3,3,3,3,3,3,3,3,3,3,3,3,3,3,3,3,3,3,3,3,3,3,3,3,3,3,3,3,3,3,3,3,3,3,3,3,3,3,3,3,3,6,3,18,3,3,3,3,3,3,3,3,3,3,3,3,3,3,3,3,3,3,3,3,3,3,3,3,3,3,3,3,9,3,3,3,3,3,3,3,3,3,3,3,3,3,3,3,3,3,3,6,3,3,3,3,3,3,3,3,3,3,3,3,3,3,3,3,3,3,3,3,3,3,3,12,3,3,3,3,3,3,3,3,3,3,3,3],[3,3,3,3,3,3,3,3,3,3,3,3,3,27,3,3,3,3,3,3,3,3,3,3,3,3,3,6,3,3,3,3,3,3,3,9,12,3,3,3,3,3,3,3,9,3,3,3,3,3,3,3,3,3,3,3,3,3,3,3,3,3,3,3,6,6,3,3,6,3,3,3,3,3,6,3,3,3,3,3,3,3,3,3,9,3,3,6,3,3,3,3,3,3,3,3,3,3,3,3,3,3,3,3,3,3,3,3,3,3,3,3,3,3,3,3,3,3,3,3,3,3,3,3,3,3,3,3,3,3,3,6,3,18,3,3,3,3,3,3,3,3,3,3,3,3,3,3,3,3,3,3,3,3,3,3,3,3,3,3,3,3,9,3,3,3,3,3,3,3,3,3,3,3,3,3,3,3,3,3,3,6,3,3,3,3,3,3,3,3,3,3,3,3,3,3,3,3,3,3,3,3,3,3,3,12,3,3,3,3,3,3,3,3,3,3,3,3],[3,3,3,3,3,3,3,3,3,3,3,3,3,27,3,3,3,3,3,3,3,3,3,3,3,3,3,6,3,3,3,3,3,3,3,9,12,3,3,3,3,3,3,3,9,3,3,3,3,3,3,3,3,3,3,3,3,3,3,3,3,3,3,3,6,6,3,3,6,3,3,3,3,3,6,3,3,3,3,3,3,3,3,3,9,3,3,6,3,3,3,3,3,3,3,3,3,3,3,3,3,3,3,3,3,3,3,3,3,3,3,3,3,3,3,3,3,3,3,3,3,3,3,3,3,3,3,3,3,3,3,6,3,18,3,3,3,3,3,3,3,3,3,3,3,3,3,3,3,3,3,3,3,3,3,3,3,3,3,3,3,3,9,3,3,3,3,3,3,3,3,3,3,3,3,3,3,3,3,3,3,6,3,3,3,3,3,3,3,3,3,3,3,3,3,3,3,3,3,3,3,3,3,3,3,12,3,3,3,3,3,3,3,3,3,3,3,3],[3,3,3,3,3,3,3,3,3,3,3,3,3,27,3,3,3,3,3,3,3,3,3,3,3,3,3,6,3,3,3,3,3,3,3,9,12,3,3,3,3,3,3,3,9,3,3,3,3,3,3,3,3,3,3,3,3,3,3,3,3,3,3,3,6,6,3,3,6,3,3,3,3,3,6,3,3,3,3,3,3,3,3,3,9,3,3,6,3,3,3,3,3,3,3,3,3,3,3,3,3,3,3,3,3,3,3,3,3,3,3,3,3,3,3,3,3,3,3,3,3,3,3,3,3,3,3,3,3,3,3,6,3,18,3,3,3,3,3,3,3,3,3,3,3,3,3,3,3,3,3,3,3,3,3,3,3,3,3,3,3,3,9,3,3,3,3,3,3,3,3,3,3,3,3,3,3,3,3,3,3,6,3,3,3,3,3,3,3,3,3,3,3,3,3,3,3,3,3,3,3,3,3,3,3,12,3,3,3,3,3,3,3,3,3,3,3,3],[3,3,3,3,3,3,3,3,3,3,3,3,3,27,3,3,3,3,3,3,3,3,3,3,3,3,3,6,3,3,3,3,3,3,3,9,12,3,3,3,3,3,3,3,9,3,3,3,3,3,3,3,3,3,3,3,3,3,3,3,3,3,3,3,6,6,3,3,6,3,3,3,3,3,6,3,3,3,3,3,3,3,3,3,9,3,3,6,3,3,3,3,3,3,3,3,3,3,3,3,3,3,3,3,3,3,3,3,3,3,3,3,3,3,3,3,3,3,3,3,3,3,3,3,3,3,3,3,3,3,3,6,3,18,3,3,3,3,3,3,3,3,3,3,3,3,3,3,3,3,3,3,3,3,3,3,3,3,3,3,3,3,9,3,3,3,3,3,3,3,3,3,3,3,3,3,3,3,3,3,3,6,3,3,3,3,3,3,3,3,3,3,3,3,3,3,3,3,3,3,3,3,3,3,3,12,3,3,3,3,3,3,3,3,3,3,3,3],[3,3,3,3,3,3,3,3,3,3,3,3,3,27,3,3,3,3,3,3,3,3,3,3,3,3,3,6,3,3,3,3,3,3,3,9,12,3,3,3,3,3,3,3,9,3,3,3,3,3,3,3,3,3,3,3,3,3,3,3,3,3,3,3,6,6,3,3,6,3,3,3,3,3,6,3,3,3,3,3,3,3,3,3,9,3,3,6,3,3,3,3,3,3,3,3,3,3,3,3,3,3,3,3,3,3,3,3,3,3,3,3,3,3,3,3,3,3,3,3,3,3,3,3,3,3,3,3,3,3,3,6,3,18,3,3,3,3,3,3,3,3,3,3,3,3,3,3,3,3,3,3,3,3,3,3,3,3,3,3,3,3,9,3,3,3,3,3,3,3,3,3,3,3,3,3,3,3,3,3,3,6,3,3,3,3,3,3,3,3,3,3,3,3,3,3,3,3,3,3,3,3,3,3,3,12,3,3,3,3,3,3,3,3,3,3,3,3],[3,3,3,3,3,3,3,3,3,3,3,3,3,27,3,3,3,3,3,3,3,3,3,3,3,3,3,6,3,3,3,3,3,3,3,9,12,3,3,3,3,3,3,3,9,3,3,3,3,3,3,3,3,3,3,3,3,3,3,3,3,3,3,3,6,6,3,3,6,3,3,3,3,3,6,3,3,3,3,3,3,3,3,3,9,3,3,6,3,3,3,3,3,3,3,3,3,3,3,3,3,3,3,3,3,3,3,3,3,3,3,3,3,3,3,3,3,3,3,3,3,3,3,3,3,3,3,3,3,3,3,6,3,18,3,3,3,3,3,3,3,3,3,3,3,3,3,3,3,3,3,3,3,3,3,3,3,3,3,3,3,3,9,3,3,3,3,3,3,3,3,3,3,3,3,3,3,3,3,3,3,6,3,3,3,3,3,3,3,3,3,3,3,3,3,3,3,3,3,3,3,3,3,3,3,12,3,3,3,3,3,3,3,3,3,3,3,3],[3,3,3,3,3,3,3,3,3,3,3,3,3,27,3,3,3,3,3,3,3,3,3,3,3,3,3,6,3,3,3,3,3,3,3,9,12,3,3,3,3,3,3,3,9,3,3,3,3,3,3,3,3,3,3,3,3,3,3,3,3,3,3,3,6,6,3,3,6,3,3,3,3,3,6,3,3,3,3,3,3,3,3,3,9,3,3,6,3,3,3,3,3,3,3,3,3,3,3,3,3,3,3,3,3,3,3,3,3,3,3,3,3,3,3,3,3,3,3,3,3,3,3,3,3,3,3,3,3,3,3,6,3,18,3,3,3,3,3,3,3,3,3,3,3,3,3,3,3,3,3,3,3,3,3,3,3,3,3,3,3,3,9,3,3,3,3,3,3,3,3,3,3,3,3,3,3,3,3,3,3,6,3,3,3,3,3,3,3,3,3,3,3,3,3,3,3,3,3,3,3,3,3,3,3,12,3,3,3,3,3,3,3,3,3,3,3,3],[3,3,3,3,3,3,3,3,3,3,3,3,3,27,3,3,3,3,3,3,3,3,3,3,3,3,3,6,3,3,3,3,3,3,3,9,12,3,3,3,3,3,3,3,9,3,3,3,3,3,3,3,3,3,3,3,3,3,3,3,3,3,3,3,6,6,3,3,6,3,3,3,3,3,6,3,3,3,3,3,3,3,3,3,9,3,3,6,3,3,3,3,3,3,3,3,3,3,3,3,3,3,3,3,3,3,3,3,3,3,3,3,3,3,3,3,3,3,3,3,3,3,3,3,3,3,3,3,3,3,3,6,3,18,3,3,3,3,3,3,3,3,3,3,3,3,3,3,3,3,3,3,3,3,3,3,3,3,3,3,3,3,9,3,3,3,3,3,3,3,3,3,3,3,3,3,3,3,3,3,3,6,3,3,3,3,3,3,3,3,3,3,3,3,3,3,3,3,3,3,3,3,3,3,3,12,3,3,3,3,3,3,3,3,3,3,3,3],[3,3,3,3,3,3,3,3,3,3,3,3,3,27,3,3,3,3,3,3,3,3,3,3,3,3,3,6,3,3,3,3,3,3,3,9,12,3,3,3,3,3,3,3,9,3,3,3,3,3,3,3,3,3,3,3,3,3,3,3,3,3,3,3,6,6,3,3,6,3,3,3,3,3,6,3,3,3,3,3,3,3,3,3,9,3,3,6,3,3,3,3,3,3,3,3,3,3,3,3,3,3,3,3,3,3,3,3,3,3,3,3,3,3,3,3,3,3,3,3,3,3,3,3,3,3,3,3,3,3,3,6,3,18,3,3,3,3,3,3,3,3,3,3,3,3,3,3,3,3,3,3,3,3,3,3,3,3,3,3,3,3,9,3,3,3,3,3,3,3,3,3,3,3,3,3,3,3,3,3,3,6,3,3,3,3,3,3,3,3,3,3,3,3,3,3,3,3,3,3,3,3,3,3,3,12,3,3,3,3,3,3,3,3,3,3,3,3],[3,3,3,3,3,3,3,3,3,3,3,3,3,27,3,3,3,3,3,3,3,3,3,3,3,3,3,6,3,3,3,3,3,3,3,9,12,3,3,3,3,3,3,3,9,3,3,3,3,3,3,3,3,3,3,3,3,3,3,3,3,3,3,3,6,6,3,3,6,3,3,3,3,3,6,3,3,3,3,3,3,3,3,3,9,3,3,6,3,3,3,3,3,3,3,3,3,3,3,3,3,3,3,3,3,3,3,3,3,3,3,3,3,3,3,3,3,3,3,3,3,3,3,3,3,3,3,3,3,3,3,6,3,18,3,3,3,3,3,3,3,3,3,3,3,3,3,3,3,3,3,3,3,3,3,3,3,3,3,3,3,3,9,3,3,3,3,3,3,3,3,3,3,3,3,3,3,3,3,3,3,6,3,3,3,3,3,3,3,3,3,3,3,3,3,3,3,3,3,3,3,3,3,3,3,12,3,3,3,3,3,3,3,3,3,3,3,3],[3,3,3,3,3,3,3,3,3,3,3,3,3,27,3,3,3,3,3,3,3,3,3,3,3,3,3,6,3,3,3,3,3,3,3,9,12,3,3,3,3,3,3,3,9,3,3,3,3,3,3,3,3,3,3,3,3,3,3,3,3,3,3,3,6,6,3,3,6,3,3,3,3,3,6,3,3,3,3,3,3,3,3,3,9,3,3,6,3,3,3,3,3,3,3,3,3,3,3,3,3,3,3,3,3,3,3,3,3,3,3,3,3,3,3,3,3,3,3,3,3,3,3,3,3,3,3,3,3,3,3,6,3,18,3,3,3,3,3,3,3,3,3,3,3,3,3,3,3,3,3,3,3,3,3,3,3,3,3,3,3,3,9,3,3,3,3,3,3,3,3,3,3,3,3,3,3,3,3,3,3,6,3,3,3,3,3,3,3,3,3,3,3,3,3,3,3,3,3,3,3,3,3,3,3,12,3,3,3,3,3,3,3,3,3,3,3,3],[3,3,3,3,3,3,3,3,3,3,3,3,3,27,3,3,3,3,3,3,3,3,3,3,3,3,3,6,3,3,3,3,3,3,3,9,12,3,3,3,3,3,3,3,9,3,3,3,3,3,3,3,3,3,3,3,3,3,3,3,3,3,3,3,6,6,3,3,6,3,3,3,3,3,6,3,3,3,3,3,3,3,3,3,9,3,3,6,3,3,3,3,3,3,3,3,3,3,3,3,3,3,3,3,3,3,3,3,3,3,3,3,3,3,3,3,3,3,3,3,3,3,3,3,3,3,3,3,3,3,3,6,3,18,3,3,3,3,3,3,3,3,3,3,3,3,3,3,3,3,3,3,3,3,3,3,3,3,3,3,3,3,9,3,3,3,3,3,3,3,3,3,3,3,3,3,3,3,3,3,3,6,3,3,3,3,3,3,3,3,3,3,3,3,3,3,3,3,3,3,3,3,3,3,3,12,3,3,3,3,3,3,3,3,3,3,3,3],[3,3,3,3,3,3,3,3,3,3,3,3,3,27,3,3,3,3,3,3,3,3,3,3,3,3,3,6,3,3,3,3,3,3,3,9,12,3,3,3,3,3,3,3,9,3,3,3,3,3,3,3,3,3,3,3,3,3,3,3,3,3,3,3,6,6,3,3,6,3,3,3,3,3,6,3,3,3,3,3,3,3,3,3,9,3,3,6,3,3,3,3,3,3,3,3,3,3,3,3,3,3,3,3,3,3,3,3,3,3,3,3,3,3,3,3,3,3,3,3,3,3,3,3,3,3,3,3,3,3,3,6,3,18,3,3,3,3,3,3,3,3,3,3,3,3,3,3,3,3,3,3,3,3,3,3,3,3,3,3,3,3,9,3,3,3,3,3,3,3,3,3,3,3,3,3,3,3,3,3,3,6,3,3,3,3,3,3,3,3,3,3,3,3,3,3,3,3,3,3,3,3,3,3,3,12,3,3,3,3,3,3,3,3,3,3,3,3],[3,3,3,3,3,3,3,3,3,3,3,3,3,27,3,3,3,3,3,3,3,3,3,3,3,3,3,6,3,3,3,3,3,3,3,9,12,3,3,3,3,3,3,3,9,3,3,3,3,3,3,3,3,3,3,3,3,3,3,3,3,3,3,3,6,6,3,3,6,3,3,3,3,3,6,3,3,3,3,3,3,3,3,3,9,3,3,6,3,3,3,3,3,3,3,3,3,3,3,3,3,3,3,3,3,3,3,3,3,3,3,3,3,3,3,3,3,3,3,3,3,3,3,3,3,3,3,3,3,3,3,6,3,18,3,3,3,3,3,3,3,3,3,3,3,3,3,3,3,3,3,3,3,3,3,3,3,3,3,3,3,3,9,3,3,3,3,3,3,3,3,3,3,3,3,3,3,3,3,3,3,6,3,3,3,3,3,3,3,3,3,3,3,3,3,3,3,3,3,3,3,3,3,3,3,12,3,3,3,3,3,3,3,3,3,3,3,3],[3,3,3,3,3,3,3,3,3,3,3,3,3,27,3,3,3,3,3,3,3,3,3,3,3,3,3,6,3,3,3,3,3,3,3,9,12,3,3,3,3,3,3,3,9,3,3,3,3,3,3,3,3,3,3,3,3,3,3,3,3,3,3,3,6,6,3,3,6,3,3,3,3,3,6,3,3,3,3,3,3,3,3,3,9,3,3,6,3,3,3,3,3,3,3,3,3,3,3,3,3,3,3,3,3,3,3,3,3,3,3,3,3,3,3,3,3,3,3,3,3,3,3,3,3,3,3,3,3,3,3,6,3,18,3,3,3,3,3,3,3,3,3,3,3,3,3,3,3,3,3,3,3,3,3,3,3,3,3,3,3,3,9,3,3,3,3,3,3,3,3,3,3,3,3,3,3,3,3,3,3,6,3,3,3,3,3,3,3,3,3,3,3,3,3,3,3,3,3,3,3,3,3,3,3,12,3,3,3,3,3,3,3,3,3,3,3,3],[3,3,3,3,3,3,3,3,3,3,3,3,3,27,3,3,3,3,3,3,3,3,3,3,3,3,3,6,3,3,3,3,3,3,3,9,12,3,3,3,3,3,3,3,9,3,3,3,3,3,3,3,3,3,3,3,3,3,3,3,3,3,3,3,6,6,3,3,6,3,3,3,3,3,6,3,3,3,3,3,3,3,3,3,9,3,3,6,3,3,3,3,3,3,3,3,3,3,3,3,3,3,3,3,3,3,3,3,3,3,3,3,3,3,3,3,3,3,3,3,3,3,3,3,3,3,3,3,3,3,3,6,3,18,3,3,3,3,3,3,3,3,3,3,3,3,3,3,3,3,3,3,3,3,3,3,3,3,3,3,3,3,9,3,3,3,3,3,3,3,3,3,3,3,3,3,3,3,3,3,3,6,3,3,3,3,3,3,3,3,3,3,3,3,3,3,3,3,3,3,3,3,3,3,3,12,3,3,3,3,3,3,3,3,3,3,3,3],[3,3,3,3,3,3,3,3,3,3,3,3,3,27,3,3,3,3,3,3,3,3,3,3,3,3,3,6,3,3,3,3,3,3,3,9,12,3,3,3,3,3,3,3,9,3,3,3,3,3,3,3,3,3,3,3,3,3,3,3,3,3,3,3,6,6,3,3,6,3,3,3,3,3,6,3,3,3,3,3,3,3,3,3,9,3,3,6,3,3,3,3,3,3,3,3,3,3,3,3,3,3,3,3,3,3,3,3,3,3,3,3,3,3,3,3,3,3,3,3,3,3,3,3,3,3,3,3,3,3,3,6,3,18,3,3,3,3,3,3,3,3,3,3,3,3,3,3,3,3,3,3,3,3,3,3,3,3,3,3,3,3,9,3,3,3,3,3,3,3,3,3,3,3,3,3,3,3,3,3,3,6,3,3,3,3,3,3,3,3,3,3,3,3,3,3,3,3,3,3,3,3,3,3,3,12,3,3,3,3,3,3,3,3,3,3,3,3],[3,3,3,3,3,3,3,3,3,3,3,3,3,27,3,3,3,3,3,3,3,3,3,3,3,3,3,6,3,3,3,3,3,3,3,9,12,3,3,3,3,3,3,3,9,3,3,3,3,3,3,3,3,3,3,3,3,3,3,3,3,3,3,3,6,6,3,3,6,3,3,3,3,3,6,3,3,3,3,3,3,3,3,3,9,3,3,6,3,3,3,3,3,3,3,3,3,3,3,3,3,3,3,3,3,3,3,3,3,3,3,3,3,3,3,3,3,3,3,3,3,3,3,3,3,3,3,3,3,3,3,6,3,18,3,3,3,3,3,3,3,3,3,3,3,3,3,3,3,3,3,3,3,3,3,3,3,3,3,3,3,3,9,3,3,3,3,3,3,3,3,3,3,3,3,3,3,3,3,3,3,6,3,3,3,3,3,3,3,3,3,3,3,3,3,3,3,3,3,3,3,3,3,3,3,12,3,3,3,3,3,3,3,3,3,3,3,3],[3,3,3,3,3,3,3,3,3,3,3,3,3,27,3,3,3,3,3,3,3,3,3,3,3,3,3,6,3,3,3,3,3,3,3,9,12,3,3,3,3,3,3,3,9,3,3,3,3,3,3,3,3,3,3,3,3,3,3,3,3,3,3,3,6,6,3,3,6,3,3,3,3,3,6,3,3,3,3,3,3,3,3,3,9,3,3,6,3,3,3,3,3,3,3,3,3,3,3,3,3,3,3,3,3,3,3,3,3,3,3,3,3,3,3,3,3,3,3,3,3,3,3,3,3,3,3,3,3,3,3,6,3,18,3,3,3,3,3,3,3,3,3,3,3,3,3,3,3,3,3,3,3,3,3,3,3,3,3,3,3,3,9,3,3,3,3,3,3,3,3,3,3,3,3,3,3,3,3,3,3,6,3,3,3,3,3,3,3,3,3,3,3,3,3,3,3,3,3,3,3,3,3,3,3,12,3,3,3,3,3,3,3,3,3,3,3,3],[3,3,3,3,3,3,3,3,3,3,3,3,3,27,3,3,3,3,3,3,3,3,3,3,3,3,3,6,3,3,3,3,3,3,3,9,12,3,3,3,3,3,3,3,9,3,3,3,3,3,3,3,3,3,3,3,3,3,3,3,3,3,3,3,6,6,3,3,6,3,3,3,3,3,6,3,3,3,3,3,3,3,3,3,9,3,3,6,3,3,3,3,3,3,3,3,3,3,3,3,3,3,3,3,3,3,3,3,3,3,3,3,3,3,3,3,3,3,3,3,3,3,3,3,3,3,3,3,3,3,3,6,3,18,3,3,3,3,3,3,3,3,3,3,3,3,3,3,3,3,3,3,3,3,3,3,3,3,3,3,3,3,9,3,3,3,3,3,3,3,3,3,3,3,3,3,3,3,3,3,3,6,3,3,3,3,3,3,3,3,3,3,3,3,3,3,3,3,3,3,3,3,3,3,3,12,3,3,3,3,3,3,3,3,3,3,3,3],[3,3,3,3,3,3,3,3,3,3,3,3,3,27,3,3,3,3,3,3,3,3,3,3,3,3,3,6,3,3,3,3,3,3,3,9,12,3,3,3,3,3,3,3,9,3,3,3,3,3,3,3,3,3,3,3,3,3,3,3,3,3,3,3,6,6,3,3,6,3,3,3,3,3,6,3,3,3,3,3,3,3,3,3,9,3,3,6,3,3,3,3,3,3,3,3,3,3,3,3,3,3,3,3,3,3,3,3,3,3,3,3,3,3,3,3,3,3,3,3,3,3,3,3,3,3,3,3,3,3,3,6,3,18,3,3,3,3,3,3,3,3,3,3,3,3,3,3,3,3,3,3,3,3,3,3,3,3,3,3,3,3,9,3,3,3,3,3,3,3,3,3,3,3,3,3,3,3,3,3,3,6,3,3,3,3,3,3,3,3,3,3,3,3,3,3,3,3,3,3,3,3,3,3,3,12,3,3,3,3,3,3,3,3,3,3,3,3],[3,3,3,3,3,3,3,3,3,3,3,3,3,27,3,3,3,3,3,3,3,3,3,3,3,3,3,6,3,3,3,3,3,3,3,9,12,3,3,3,3,3,3,3,9,3,3,3,3,3,3,3,3,3,3,3,3,3,3,3,3,3,3,3,6,6,3,3,6,3,3,3,3,3,6,3,3,3,3,3,3,3,3,3,9,3,3,6,3,3,3,3,3,3,3,3,3,3,3,3,3,3,3,3,3,3,3,3,3,3,3,3,3,3,3,3,3,3,3,3,3,3,3,3,3,3,3,3,3,3,3,6,3,18,3,3,3,3,3,3,3,3,3,3,3,3,3,3,3,3,3,3,3,3,3,3,3,3,3,3,3,3,9,3,3,3,3,3,3,3,3,3,3,3,3,3,3,3,3,3,3,6,3,3,3,3,3,3,3,3,3,3,3,3,3,3,3,3,3,3,3,3,3,3,3,12,3,3,3,3,3,3,3,3,3,3,3,3],[3,3,3,3,3,3,3,3,3,3,3,3,3,27,3,3,3,3,3,3,3,3,3,3,3,3,3,6,3,3,3,3,3,3,3,9,12,3,3,3,3,3,3,3,9,3,3,3,3,3,3,3,3,3,3,3,3,3,3,3,3,3,3,3,6,6,3,3,6,3,3,3,3,3,6,3,3,3,3,3,3,3,3,3,9,3,3,6,3,3,3,3,3,3,3,3,3,3,3,3,3,3,3,3,3,3,3,3,3,3,3,3,3,3,3,3,3,3,3,3,3,3,3,3,3,3,3,3,3,3,3,6,3,18,3,3,3,3,3,3,3,3,3,3,3,3,3,3,3,3,3,3,3,3,3,3,3,3,3,3,3,3,9,3,3,3,3,3,3,3,3,3,3,3,3,3,3,3,3,3,3,6,3,3,3,3,3,3,3,3,3,3,3,3,3,3,3,3,3,3,3,3,3,3,3,12,3,3,3,3,3,3,3,3,3,3,3,3],[3,3,3,3,3,3,3,3,3,3,3,3,3,27,3,3,3,3,3,3,3,3,3,3,3,3,3,6,3,3,3,3,3,3,3,9,12,3,3,3,3,3,3,3,9,3,3,3,3,3,3,3,3,3,3,3,3,3,3,3,3,3,3,3,6,6,3,3,6,3,3,3,3,3,6,3,3,3,3,3,3,3,3,3,9,3,3,6,3,3,3,3,3,3,3,3,3,3,3,3,3,3,3,3,3,3,3,3,3,3,3,3,3,3,3,3,3,3,3,3,3,3,3,3,3,3,3,3,3,3,3,6,3,18,3,3,3,3,3,3,3,3,3,3,3,3,3,3,3,3,3,3,3,3,3,3,3,3,3,3,3,3,9,3,3,3,3,3,3,3,3,3,3,3,3,3,3,3,3,3,3,6,3,3,3,3,3,3,3,3,3,3,3,3,3,3,3,3,3,3,3,3,3,3,3,12,3,3,3,3,3,3,3,3,3,3,3,3],[3,3,3,3,3,3,3,3,3,3,3,3,3,27,3,3,3,3,3,3,3,3,3,3,3,3,3,6,3,3,3,3,3,3,3,9,12,3,3,3,3,3,3,3,9,3,3,3,3,3,3,3,3,3,3,3,3,3,3,3,3,3,3,3,6,6,3,3,6,3,3,3,3,3,6,3,3,3,3,3,3,3,3,3,9,3,3,6,3,3,3,3,3,3,3,3,3,3,3,3,3,3,3,3,3,3,3,3,3,3,3,3,3,3,3,3,3,3,3,3,3,3,3,3,3,3,3,3,3,3,3,6,3,18,3,3,3,3,3,3,3,3,3,3,3,3,3,3,3,3,3,3,3,3,3,3,3,3,3,3,3,3,9,3,3,3,3,3,3,3,3,3,3,3,3,3,3,3,3,3,3,6,3,3,3,3,3,3,3,3,3,3,3,3,3,3,3,3,3,3,3,3,3,3,3,12,3,3,3,3,3,3,3,3,3,3,3,3],[3,3,3,3,3,3,3,3,3,3,3,3,3,27,3,3,3,3,3,3,3,3,3,3,3,3,3,6,3,3,3,3,3,3,3,9,12,3,3,3,3,3,3,3,9,3,3,3,3,3,3,3,3,3,3,3,3,3,3,3,3,3,3,3,6,6,3,3,6,3,3,3,3,3,6,3,3,3,3,3,3,3,3,3,9,3,3,6,3,3,3,3,3,3,3,3,3,3,3,3,3,3,3,3,3,3,3,3,3,3,3,3,3,3,3,3,3,3,3,3,3,3,3,3,3,3,3,3,3,3,3,6,3,18,3,3,3,3,3,3,3,3,3,3,3,3,3,3,3,3,3,3,3,3,3,3,3,3,3,3,3,3,9,3,3,3,3,3,3,3,3,3,3,3,3,3,3,3,3,3,3,6,3,3,3,3,3,3,3,3,3,3,3,3,3,3,3,3,3,3,3,3,3,3,3,12,3,3,3,3,3,3,3,3,3,3,3,3],[3,3,3,3,3,3,3,3,3,3,3,3,3,27,3,3,3,3,3,3,3,3,3,3,3,3,3,6,3,3,3,3,3,3,3,9,12,3,3,3,3,3,3,3,9,3,3,3,3,3,3,3,3,3,3,3,3,3,3,3,3,3,3,3,6,6,3,3,6,3,3,3,3,3,6,3,3,3,3,3,3,3,3,3,9,3,3,6,3,3,3,3,3,3,3,3,3,3,3,3,3,3,3,3,3,3,3,3,3,3,3,3,3,3,3,3,3,3,3,3,3,3,3,3,3,3,3,3,3,3,3,6,3,18,3,3,3,3,3,3,3,3,3,3,3,3,3,3,3,3,3,3,3,3,3,3,3,3,3,3,3,3,9,3,3,3,3,3,3,3,3,3,3,3,3,3,3,3,3,3,3,6,3,3,3,3,3,3,3,3,3,3,3,3,3,3,3,3,3,3,3,3,3,3,3,12,3,3,3,3,3,3,3,3,3,3,3,3],[3,3,3,3,3,3,3,3,3,3,3,3,3,27,3,3,3,3,3,3,3,3,3,3,3,3,3,6,3,3,3,3,3,3,3,9,12,3,3,3,3,3,3,3,9,3,3,3,3,3,3,3,3,3,3,3,3,3,3,3,3,3,3,3,6,6,3,3,6,3,3,3,3,3,6,3,3,3,3,3,3,3,3,3,9,3,3,6,3,3,3,3,3,3,3,3,3,3,3,3,3,3,3,3,3,3,3,3,3,3,3,3,3,3,3,3,3,3,3,3,3,3,3,3,3,3,3,3,3,3,3,6,3,18,3,3,3,3,3,3,3,3,3,3,3,3,3,3,3,3,3,3,3,3,3,3,3,3,3,3,3,3,9,3,3,3,3,3,3,3,3,3,3,3,3,3,3,3,3,3,3,6,3,3,3,3,3,3,3,3,3,3,3,3,3,3,3,3,3,3,3,3,3,3,3,12,3,3,3,3,3,3,3,3,3,3,3,3],[3,3,3,3,3,3,3,3,3,3,3,3,3,27,3,3,3,3,3,3,3,3,3,3,3,3,3,6,3,3,3,3,3,3,3,9,12,3,3,3,3,3,3,3,9,3,3,3,3,3,3,3,3,3,3,3,3,3,3,3,3,3,3,3,6,6,3,3,6,3,3,3,3,3,6,3,3,3,3,3,3,3,3,3,9,3,3,6,3,3,3,3,3,3,3,3,3,3,3,3,3,3,3,3,3,3,3,3,3,3,3,3,3,3,3,3,3,3,3,3,3,3,3,3,3,3,3,3,3,3,3,6,3,18,3,3,3,3,3,3,3,3,3,3,3,3,3,3,3,3,3,3,3,3,3,3,3,3,3,3,3,3,9,3,3,3,3,3,3,3,3,3,3,3,3,3,3,3,3,3,3,6,3,3,3,3,3,3,3,3,3,3,3,3,3,3,3,3,3,3,3,3,3,3,3,12,3,3,3,3,3,3,3,3,3,3,3,3],[3,3,3,3,3,3,3,3,3,3,3,3,3,27,3,3,3,3,3,3,3,3,3,3,3,3,3,6,3,3,3,3,3,3,3,9,12,3,3,3,3,3,3,3,9,3,3,3,3,3,3,3,3,3,3,3,3,3,3,3,3,3,3,3,6,6,3,3,6,3,3,3,3,3,6,3,3,3,3,3,3,3,3,3,9,3,3,6,3,3,3,3,3,3,3,3,3,3,3,3,3,3,3,3,3,3,3,3,3,3,3,3,3,3,3,3,3,3,3,3,3,3,3,3,3,3,3,3,3,3,3,6,3,18,3,3,3,3,3,3,3,3,3,3,3,3,3,3,3,3,3,3,3,3,3,3,3,3,3,3,3,3,9,3,3,3,3,3,3,3,3,3,3,3,3,3,3,3,3,3,3,6,3,3,3,3,3,3,3,3,3,3,3,3,3,3,3,3,3,3,3,3,3,3,3,12,3,3,3,3,3,3,3,3,3,3,3,3],[3,3,3,3,3,3,3,3,3,3,3,3,3,27,3,3,3,3,3,3,3,3,3,3,3,3,3,6,3,3,3,3,3,3,3,9,12,3,3,3,3,3,3,3,9,3,3,3,3,3,3,3,3,3,3,3,3,3,3,3,3,3,3,3,6,6,3,3,6,3,3,3,3,3,6,3,3,3,3,3,3,3,3,3,9,3,3,6,3,3,3,3,3,3,3,3,3,3,3,3,3,3,3,3,3,3,3,3,3,3,3,3,3,3,3,3,3,3,3,3,3,3,3,3,3,3,3,3,3,3,3,6,3,18,3,3,3,3,3,3,3,3,3,3,3,3,3,3,3,3,3,3,3,3,3,3,3,3,3,3,3,3,9,3,3,3,3,3,3,3,3,3,3,3,3,3,3,3,3,3,3,6,3,3,3,3,3,3,3,3,3,3,3,3,3,3,3,3,3,3,3,3,3,3,3,12,3,3,3,3,3,3,3,3,3,3,3,3],[3,3,3,3,3,3,3,3,3,3,3,3,3,27,3,3,3,3,3,3,3,3,3,3,3,3,3,6,3,3,3,3,3,3,3,9,12,3,3,3,3,3,3,3,9,3,3,3,3,3,3,3,3,3,3,3,3,3,3,3,3,3,3,3,6,6,3,3,6,3,3,3,3,3,6,3,3,3,3,3,3,3,3,3,9,3,3,6,3,3,3,3,3,3,3,3,3,3,3,3,3,3,3,3,3,3,3,3,3,3,3,3,3,3,3,3,3,3,3,3,3,3,3,3,3,3,3,3,3,3,3,6,3,18,3,3,3,3,3,3,3,3,3,3,3,3,3,3,3,3,3,3,3,3,3,3,3,3,3,3,3,3,9,3,3,3,3,3,3,3,3,3,3,3,3,3,3,3,3,3,3,6,3,3,3,3,3,3,3,3,3,3,3,3,3,3,3,3,3,3,3,3,3,3,3,12,3,3,3,3,3,3,3,3,3,3,3,3],[3,3,3,3,3,3,3,3,3,3,3,3,3,27,3,3,3,3,3,3,3,3,3,3,3,3,3,6,3,3,3,3,3,3,3,9,12,3,3,3,3,3,3,3,9,3,3,3,3,3,3,3,3,3,3,3,3,3,3,3,3,3,3,3,6,6,3,3,6,3,3,3,3,3,6,3,3,3,3,3,3,3,3,3,9,3,3,6,3,3,3,3,3,3,3,3,3,3,3,3,3,3,3,3,3,3,3,3,3,3,3,3,3,3,3,3,3,3,3,3,3,3,3,3,3,3,3,3,3,3,3,6,3,18,3,3,3,3,3,3,3,3,3,3,3,3,3,3,3,3,3,3,3,3,3,3,3,3,3,3,3,3,9,3,3,3,3,3,3,3,3,3,3,3,3,3,3,3,3,3,3,6,3,3,3,3,3,3,3,3,3,3,3,3,3,3,3,3,3,3,3,3,3,3,3,12,3,3,3,3,3,3,3,3,3,3,3,3],[3,3,3,3,3,3,3,3,3,3,3,3,3,27,3,3,3,3,3,3,3,3,3,3,3,3,3,6,3,3,3,3,3,3,3,9,12,3,3,3,3,3,3,3,9,3,3,3,3,3,3,3,3,3,3,3,3,3,3,3,3,3,3,3,6,6,3,3,6,3,3,3,3,3,6,3,3,3,3,3,3,3,3,3,9,3,3,6,3,3,3,3,3,3,3,3,3,3,3,3,3,3,3,3,3,3,3,3,3,3,3,3,3,3,3,3,3,3,3,3,3,3,3,3,3,3,3,3,3,3,3,6,3,18,3,3,3,3,3,3,3,3,3,3,3,3,3,3,3,3,3,3,3,3,3,3,3,3,3,3,3,3,9,3,3,3,3,3,3,3,3,3,3,3,3,3,3,3,3,3,3,6,3,3,3,3,3,3,3,3,3,3,3,3,3,3,3,3,3,3,3,3,3,3,3,12,3,3,3,3,3,3,3,3,3,3,3,3],[3,3,3,3,3,3,3,3,3,3,3,3,3,27,3,3,3,3,3,3,3,3,3,3,3,3,3,6,3,3,3,3,3,3,3,9,12,3,3,3,3,3,3,3,9,3,3,3,3,3,3,3,3,3,3,3,3,3,3,3,3,3,3,3,6,6,3,3,6,3,3,3,3,3,6,3,3,3,3,3,3,3,3,3,9,3,3,6,3,3,3,3,3,3,3,3,3,3,3,3,3,3,3,3,3,3,3,3,3,3,3,3,3,3,3,3,3,3,3,3,3,3,3,3,3,3,3,3,3,3,3,6,3,18,3,3,3,3,3,3,3,3,3,3,3,3,3,3,3,3,3,3,3,3,3,3,3,3,3,3,3,3,9,3,3,3,3,3,3,3,3,3,3,3,3,3,3,3,3,3,3,6,3,3,3,3,3,3,3,3,3,3,3,3,3,3,3,3,3,3,3,3,3,3,3,12,3,3,3,3,3,3,3,3,3,3,3,3],[3,3,3,3,3,3,3,3,3,3,3,3,3,27,3,3,3,3,3,3,3,3,3,3,3,3,3,6,3,3,3,3,3,3,3,9,12,3,3,3,3,3,3,3,9,3,3,3,3,3,3,3,3,3,3,3,3,3,3,3,3,3,3,3,6,6,3,3,6,3,3,3,3,3,6,3,3,3,3,3,3,3,3,3,9,3,3,6,3,3,3,3,3,3,3,3,3,3,3,3,3,3,3,3,3,3,3,3,3,3,3,3,3,3,3,3,3,3,3,3,3,3,3,3,3,3,3,3,3,3,3,6,3,18,3,3,3,3,3,3,3,3,3,3,3,3,3,3,3,3,3,3,3,3,3,3,3,3,3,3,3,3,9,3,3,3,3,3,3,3,3,3,3,3,3,3,3,3,3,3,3,6,3,3,3,3,3,3,3,3,3,3,3,3,3,3,3,3,3,3,3,3,3,3,3,12,3,3,3,3,3,3,3,3,3,3,3,3],[3,3,3,3,3,3,3,3,3,3,3,3,3,27,3,3,3,3,3,3,3,3,3,3,3,3,3,6,3,3,3,3,3,3,3,9,12,3,3,3,3,3,3,3,9,3,3,3,3,3,3,3,3,3,3,3,3,3,3,3,3,3,3,3,6,6,3,3,6,3,3,3,3,3,6,3,3,3,3,3,3,3,3,3,9,3,3,6,3,3,3,3,3,3,3,3,3,3,3,3,3,3,3,3,3,3,3,3,3,3,3,3,3,3,3,3,3,3,3,3,3,3,3,3,3,3,3,3,3,3,3,6,3,18,3,3,3,3,3,3,3,3,3,3,3,3,3,3,3,3,3,3,3,3,3,3,3,3,3,3,3,3,9,3,3,3,3,3,3,3,3,3,3,3,3,3,3,3,3,3,3,6,3,3,3,3,3,3,3,3,3,3,3,3,3,3,3,3,3,3,3,3,3,3,3,12,3,3,3,3,3,3,3,3,3,3,3,3],[3,3,3,3,3,3,3,3,3,3,3,3,3,27,3,3,3,3,3,3,3,3,3,3,3,3,3,6,3,3,3,3,3,3,3,9,12,3,3,3,3,3,3,3,9,3,3,3,3,3,3,3,3,3,3,3,3,3,3,3,3,3,3,3,6,6,3,3,6,3,3,3,3,3,6,3,3,3,3,3,3,3,3,3,9,3,3,6,3,3,3,3,3,3,3,3,3,3,3,3,3,3,3,3,3,3,3,3,3,3,3,3,3,3,3,3,3,3,3,3,3,3,3,3,3,3,3,3,3,3,3,6,3,18,3,3,3,3,3,3,3,3,3,3,3,3,3,3,3,3,3,3,3,3,3,3,3,3,3,3,3,3,9,3,3,3,3,3,3,3,3,3,3,3,3,3,3,3,3,3,3,6,3,3,3,3,3,3,3,3,3,3,3,3,3,3,3,3,3,3,3,3,3,3,3,12,3,3,3,3,3,3,3,3,3,3,3,3],[3,3,3,3,3,3,3,3,3,3,3,3,3,27,3,3,3,3,3,3,3,3,3,3,3,3,3,6,3,3,3,3,3,3,3,9,12,3,3,3,3,3,3,3,9,3,3,3,3,3,3,3,3,3,3,3,3,3,3,3,3,3,3,3,6,6,3,3,6,3,3,3,3,3,6,3,3,3,3,3,3,3,3,3,9,3,3,6,3,3,3,3,3,3,3,3,3,3,3,3,3,3,3,3,3,3,3,3,3,3,3,3,3,3,3,3,3,3,3,3,3,3,3,3,3,3,3,3,3,3,3,6,3,18,3,3,3,3,3,3,3,3,3,3,3,3,3,3,3,3,3,3,3,3,3,3,3,3,3,3,3,3,9,3,3,3,3,3,3,3,3,3,3,3,3,3,3,3,3,3,3,6,3,3,3,3,3,3,3,3,3,3,3,3,3,3,3,3,3,3,3,3,3,3,3,12,3,3,3,3,3,3,3,3,3,3,3,3],[3,3,3,3,3,3,3,3,3,3,3,3,3,27,3,3,3,3,3,3,3,3,3,3,3,3,3,6,3,3,3,3,3,3,3,9,12,3,3,3,3,3,3,3,9,3,3,3,3,3,3,3,3,3,3,3,3,3,3,3,3,3,3,3,6,6,3,3,6,3,3,3,3,3,6,3,3,3,3,3,3,3,3,3,9,3,3,6,3,3,3,3,3,3,3,3,3,3,3,3,3,3,3,3,3,3,3,3,3,3,3,3,3,3,3,3,3,3,3,3,3,3,3,3,3,3,3,3,3,3,3,6,3,18,3,3,3,3,3,3,3,3,3,3,3,3,3,3,3,3,3,3,3,3,3,3,3,3,3,3,3,3,9,3,3,3,3,3,3,3,3,3,3,3,3,3,3,3,3,3,3,6,3,3,3,3,3,3,3,3,3,3,3,3,3,3,3,3,3,3,3,3,3,3,3,12,3,3,3,3,3,3,3,3,3,3,3,3],[3,3,3,3,3,3,3,3,3,3,3,3,3,27,3,3,3,3,3,3,3,3,3,3,3,3,3,6,3,3,3,3,3,3,3,9,12,3,3,3,3,3,3,3,9,3,3,3,3,3,3,3,3,3,3,3,3,3,3,3,3,3,3,3,6,6,3,3,6,3,3,3,3,3,6,3,3,3,3,3,3,3,3,3,9,3,3,6,3,3,3,3,3,3,3,3,3,3,3,3,3,3,3,3,3,3,3,3,3,3,3,3,3,3,3,3,3,3,3,3,3,3,3,3,3,3,3,3,3,3,3,6,3,18,3,3,3,3,3,3,3,3,3,3,3,3,3,3,3,3,3,3,3,3,3,3,3,3,3,3,3,3,9,3,3,3,3,3,3,3,3,3,3,3,3,3,3,3,3,3,3,6,3,3,3,3,3,3,3,3,3,3,3,3,3,3,3,3,3,3,3,3,3,3,3,12,3,3,3,3,3,3,3,3,3,3,3,3],[3,3,3,3,3,3,3,3,3,3,3,3,3,27,3,3,3,3,3,3,3,3,3,3,3,3,3,6,3,3,3,3,3,3,3,9,12,3,3,3,3,3,3,3,9,3,3,3,3,3,3,3,3,3,3,3,3,3,3,3,3,3,3,3,6,6,3,3,6,3,3,3,3,3,6,3,3,3,3,3,3,3,3,3,9,3,3,6,3,3,3,3,3,3,3,3,3,3,3,3,3,3,3,3,3,3,3,3,3,3,3,3,3,3,3,3,3,3,3,3,3,3,3,3,3,3,3,3,3,3,3,6,3,18,3,3,3,3,3,3,3,3,3,3,3,3,3,3,3,3,3,3,3,3,3,3,3,3,3,3,3,3,9,3,3,3,3,3,3,3,3,3,3,3,3,3,3,3,3,3,3,6,3,3,3,3,3,3,3,3,3,3,3,3,3,3,3,3,3,3,3,3,3,3,3,12,3,3,3,3,3,3,3,3,3,3,3,3],[3,3,3,3,3,3,3,3,3,3,3,3,3,27,3,3,3,3,3,3,3,3,3,3,3,3,3,6,3,3,3,3,3,3,3,9,12,3,3,3,3,3,3,3,9,3,3,3,3,3,3,3,3,3,3,3,3,3,3,3,3,3,3,3,6,6,3,3,6,3,3,3,3,3,6,3,3,3,3,3,3,3,3,3,9,3,3,6,3,3,3,3,3,3,3,3,3,3,3,3,3,3,3,3,3,3,3,3,3,3,3,3,3,3,3,3,3,3,3,3,3,3,3,3,3,3,3,3,3,3,3,6,3,18,3,3,3,3,3,3,3,3,3,3,3,3,3,3,3,3,3,3,3,3,3,3,3,3,3,3,3,3,9,3,3,3,3,3,3,3,3,3,3,3,3,3,3,3,3,3,3,6,3,3,3,3,3,3,3,3,3,3,3,3,3,3,3,3,3,3,3,3,3,3,3,12,3,3,3,3,3,3,3,3,3,3,3,3],[3,3,3,3,3,3,3,3,3,3,3,3,3,27,3,3,3,3,3,3,3,3,3,3,3,3,3,6,3,3,3,3,3,3,3,9,12,3,3,3,3,3,3,3,9,3,3,3,3,3,3,3,3,3,3,3,3,3,3,3,3,3,3,3,6,6,3,3,6,3,3,3,3,3,6,3,3,3,3,3,3,3,3,3,9,3,3,6,3,3,3,3,3,3,3,3,3,3,3,3,3,3,3,3,3,3,3,3,3,3,3,3,3,3,3,3,3,3,3,3,3,3,3,3,3,3,3,3,3,3,3,6,3,18,3,3,3,3,3,3,3,3,3,3,3,3,3,3,3,3,3,3,3,3,3,3,3,3,3,3,3,3,9,3,3,3,3,3,3,3,3,3,3,3,3,3,3,3,3,3,3,6,3,3,3,3,3,3,3,3,3,3,3,3,3,3,3,3,3,3,3,3,3,3,3,12,3,3,3,3,3,3,3,3,3,3,3,3],[3,3,3,3,3,3,3,3,3,3,3,3,3,27,3,3,3,3,3,3,3,3,3,3,3,3,3,6,3,3,3,3,3,3,3,9,12,3,3,3,3,3,3,3,9,3,3,3,3,3,3,3,3,3,3,3,3,3,3,3,3,3,3,3,6,6,3,3,6,3,3,3,3,3,6,3,3,3,3,3,3,3,3,3,9,3,3,6,3,3,3,3,3,3,3,3,3,3,3,3,3,3,3,3,3,3,3,3,3,3,3,3,3,3,3,3,3,3,3,3,3,3,3,3,3,3,3,3,3,3,3,6,3,18,3,3,3,3,3,3,3,3,3,3,3,3,3,3,3,3,3,3,3,3,3,3,3,3,3,3,3,3,9,3,3,3,3,3,3,3,3,3,3,3,3,3,3,3,3,3,3,6,3,3,3,3,3,3,3,3,3,3,3,3,3,3,3,3,3,3,3,3,3,3,3,12,3,3,3,3,3,3,3,3,3,3,3,3],[3,3,3,3,3,3,3,3,3,3,3,3,3,27,3,3,3,3,3,3,3,3,3,3,3,3,3,6,3,3,3,3,3,3,3,9,12,3,3,3,3,3,3,3,9,3,3,3,3,3,3,3,3,3,3,3,3,3,3,3,3,3,3,3,6,6,3,3,6,3,3,3,3,3,6,3,3,3,3,3,3,3,3,3,9,3,3,6,3,3,3,3,3,3,3,3,3,3,3,3,3,3,3,3,3,3,3,3,3,3,3,3,3,3,3,3,3,3,3,3,3,3,3,3,3,3,3,3,3,3,3,6,3,18,3,3,3,3,3,3,3,3,3,3,3,3,3,3,3,3,3,3,3,3,3,3,3,3,3,3,3,3,9,3,3,3,3,3,3,3,3,3,3,3,3,3,3,3,3,3,3,6,3,3,3,3,3,3,3,3,3,3,3,3,3,3,3,3,3,3,3,3,3,3,3,12,3,3,3,3,3,3,3,3,3,3,3,3],[3,3,3,3,3,3,3,3,3,3,3,3,3,27,3,3,3,3,3,3,3,3,3,3,3,3,3,6,3,3,3,3,3,3,3,9,12,3,3,3,3,3,3,3,9,3,3,3,3,3,3,3,3,3,3,3,3,3,3,3,3,3,3,3,6,6,3,3,6,3,3,3,3,3,6,3,3,3,3,3,3,3,3,3,9,3,3,6,3,3,3,3,3,3,3,3,3,3,3,3,3,3,3,3,3,3,3,3,3,3,3,3,3,3,3,3,3,3,3,3,3,3,3,3,3,3,3,3,3,3,3,6,3,18,3,3,3,3,3,3,3,3,3,3,3,3,3,3,3,3,3,3,3,3,3,3,3,3,3,3,3,3,9,3,3,3,3,3,3,3,3,3,3,3,3,3,3,3,3,3,3,6,3,3,3,3,3,3,3,3,3,3,3,3,3,3,3,3,3,3,3,3,3,3,3,12,3,3,3,3,3,3,3,3,3,3,3,3],[3,3,3,3,3,3,3,3,3,3,3,3,3,27,3,3,3,3,3,3,3,3,3,3,3,3,3,6,3,3,3,3,3,3,3,9,12,3,3,3,3,3,3,3,9,3,3,3,3,3,3,3,3,3,3,3,3,3,3,3,3,3,3,3,6,6,3,3,6,3,3,3,3,3,6,3,3,3,3,3,3,3,3,3,9,3,3,6,3,3,3,3,3,3,3,3,3,3,3,3,3,3,3,3,3,3,3,3,3,3,3,3,3,3,3,3,3,3,3,3,3,3,3,3,3,3,3,3,3,3,3,6,3,18,3,3,3,3,3,3,3,3,3,3,3,3,3,3,3,3,3,3,3,3,3,3,3,3,3,3,3,3,9,3,3,3,3,3,3,3,3,3,3,3,3,3,3,3,3,3,3,6,3,3,3,3,3,3,3,3,3,3,3,3,3,3,3,3,3,3,3,3,3,3,3,12,3,3,3,3,3,3,3,3,3,3,3,3],[3,3,3,3,3,3,3,3,3,3,3,3,3,27,3,3,3,3,3,3,3,3,3,3,3,3,3,6,3,3,3,3,3,3,3,9,12,3,3,3,3,3,3,3,9,3,3,3,3,3,3,3,3,3,3,3,3,3,3,3,3,3,3,3,6,6,3,3,6,3,3,3,3,3,6,3,3,3,3,3,3,3,3,3,9,3,3,6,3,3,3,3,3,3,3,3,3,3,3,3,3,3,3,3,3,3,3,3,3,3,3,3,3,3,3,3,3,3,3,3,3,3,3,3,3,3,3,3,3,3,3,6,3,18,3,3,3,3,3,3,3,3,3,3,3,3,3,3,3,3,3,3,3,3,3,3,3,3,3,3,3,3,9,3,3,3,3,3,3,3,3,3,3,3,3,3,3,3,3,3,3,6,3,3,3,3,3,3,3,3,3,3,3,3,3,3,3,3,3,3,3,3,3,3,3,12,3,3,3,3,3,3,3,3,3,3,3,3],[3,3,3,3,3,3,3,3,3,3,3,3,3,27,3,3,3,3,3,3,3,3,3,3,3,3,3,6,3,3,3,3,3,3,3,9,12,3,3,3,3,3,3,3,9,3,3,3,3,3,3,3,3,3,3,3,3,3,3,3,3,3,3,3,6,6,3,3,6,3,3,3,3,3,6,3,3,3,3,3,3,3,3,3,9,3,3,6,3,3,3,3,3,3,3,3,3,3,3,3,3,3,3,3,3,3,3,3,3,3,3,3,3,3,3,3,3,3,3,3,3,3,3,3,3,3,3,3,3,3,3,6,3,18,3,3,3,3,3,3,3,3,3,3,3,3,3,3,3,3,3,3,3,3,3,3,3,3,3,3,3,3,9,3,3,3,3,3,3,3,3,3,3,3,3,3,3,3,3,3,3,6,3,3,3,3,3,3,3,3,3,3,3,3,3,3,3,3,3,3,3,3,3,3,3,12,3,3,3,3,3,3,3,3,3,3,3,3],[3,3,3,3,3,3,3,3,3,3,3,3,3,27,3,3,3,3,3,3,3,3,3,3,3,3,3,6,3,3,3,3,3,3,3,9,12,3,3,3,3,3,3,3,9,3,3,3,3,3,3,3,3,3,3,3,3,3,3,3,3,3,3,3,6,6,3,3,6,3,3,3,3,3,6,3,3,3,3,3,3,3,3,3,9,3,3,6,3,3,3,3,3,3,3,3,3,3,3,3,3,3,3,3,3,3,3,3,3,3,3,3,3,3,3,3,3,3,3,3,3,3,3,3,3,3,3,3,3,3,3,6,3,18,3,3,3,3,3,3,3,3,3,3,3,3,3,3,3,3,3,3,3,3,3,3,3,3,3,3,3,3,9,3,3,3,3,3,3,3,3,3,3,3,3,3,3,3,3,3,3,6,3,3,3,3,3,3,3,3,3,3,3,3,3,3,3,3,3,3,3,3,3,3,3,12,3,3,3,3,3,3,3,3,3,3,3,3],[3,3,3,3,3,3,3,3,3,3,3,3,3,27,3,3,3,3,3,3,3,3,3,3,3,3,3,6,3,3,3,3,3,3,3,9,12,3,3,3,3,3,3,3,9,3,3,3,3,3,3,3,3,3,3,3,3,3,3,3,3,3,3,3,6,6,3,3,6,3,3,3,3,3,6,3,3,3,3,3,3,3,3,3,9,3,3,6,3,3,3,3,3,3,3,3,3,3,3,3,3,3,3,3,3,3,3,3,3,3,3,3,3,3,3,3,3,3,3,3,3,3,3,3,3,3,3,3,3,3,3,6,3,18,3,3,3,3,3,3,3,3,3,3,3,3,3,3,3,3,3,3,3,3,3,3,3,3,3,3,3,3,9,3,3,3,3,3,3,3,3,3,3,3,3,3,3,3,3,3,3,6,3,3,3,3,3,3,3,3,3,3,3,3,3,3,3,3,3,3,3,3,3,3,3,12,3,3,3,3,3,3,3,3,3,3,3,3],[3,3,3,3,3,3,3,3,3,3,3,3,3,27,3,3,3,3,3,3,3,3,3,3,3,3,3,6,3,3,3,3,3,3,3,9,12,3,3,3,3,3,3,3,9,3,3,3,3,3,3,3,3,3,3,3,3,3,3,3,3,3,3,3,6,6,3,3,6,3,3,3,3,3,6,3,3,3,3,3,3,3,3,3,9,3,3,6,3,3,3,3,3,3,3,3,3,3,3,3,3,3,3,3,3,3,3,3,3,3,3,3,3,3,3,3,3,3,3,3,3,3,3,3,3,3,3,3,3,3,3,6,3,18,3,3,3,3,3,3,3,3,3,3,3,3,3,3,3,3,3,3,3,3,3,3,3,3,3,3,3,3,9,3,3,3,3,3,3,3,3,3,3,3,3,3,3,3,3,3,3,6,3,3,3,3,3,3,3,3,3,3,3,3,3,3,3,3,3,3,3,3,3,3,3,12,3,3,3,3,3,3,3,3,3,3,3,3],[3,3,3,3,3,3,3,3,3,3,3,3,3,27,3,3,3,3,3,3,3,3,3,3,3,3,3,6,3,3,3,3,3,3,3,9,12,3,3,3,3,3,3,3,9,3,3,3,3,3,3,3,3,3,3,3,3,3,3,3,3,3,3,3,6,6,3,3,6,3,3,3,3,3,6,3,3,3,3,3,3,3,3,3,9,3,3,6,3,3,3,3,3,3,3,3,3,3,3,3,3,3,3,3,3,3,3,3,3,3,3,3,3,3,3,3,3,3,3,3,3,3,3,3,3,3,3,3,3,3,3,6,3,18,3,3,3,3,3,3,3,3,3,3,3,3,3,3,3,3,3,3,3,3,3,3,3,3,3,3,3,3,9,3,3,3,3,3,3,3,3,3,3,3,3,3,3,3,3,3,3,6,3,3,3,3,3,3,3,3,3,3,3,3,3,3,3,3,3,3,3,3,3,3,3,12,3,3,3,3,3,3,3,3,3,3,3,3],[3,3,3,3,3,3,3,3,3,3,3,3,3,27,3,3,3,3,3,3,3,3,3,3,3,3,3,6,3,3,3,3,3,3,3,9,12,3,3,3,3,3,3,3,9,3,3,3,3,3,3,3,3,3,3,3,3,3,3,3,3,3,3,3,6,6,3,3,6,3,3,3,3,3,6,3,3,3,3,3,3,3,3,3,9,3,3,6,3,3,3,3,3,3,3,3,3,3,3,3,3,3,3,3,3,3,3,3,3,3,3,3,3,3,3,3,3,3,3,3,3,3,3,3,3,3,3,3,3,3,3,6,3,18,3,3,3,3,3,3,3,3,3,3,3,3,3,3,3,3,3,3,3,3,3,3,3,3,3,3,3,3,9,3,3,3,3,3,3,3,3,3,3,3,3,3,3,3,3,3,3,6,3,3,3,3,3,3,3,3,3,3,3,3,3,3,3,3,3,3,3,3,3,3,3,12,3,3,3,3,3,3,3,3,3,3,3,3],[3,3,3,3,3,3,3,3,3,3,3,3,3,27,3,3,3,3,3,3,3,3,3,3,3,3,3,6,3,3,3,3,3,3,3,9,12,3,3,3,3,3,3,3,9,3,3,3,3,3,3,3,3,3,3,3,3,3,3,3,3,3,3,3,6,6,3,3,6,3,3,3,3,3,6,3,3,3,3,3,3,3,3,3,9,3,3,6,3,3,3,3,3,3,3,3,3,3,3,3,3,3,3,3,3,3,3,3,3,3,3,3,3,3,3,3,3,3,3,3,3,3,3,3,3,3,3,3,3,3,3,6,3,18,3,3,3,3,3,3,3,3,3,3,3,3,3,3,3,3,3,3,3,3,3,3,3,3,3,3,3,3,9,3,3,3,3,3,3,3,3,3,3,3,3,3,3,3,3,3,3,6,3,3,3,3,3,3,3,3,3,3,3,3,3,3,3,3,3,3,3,3,3,3,3,12,3,3,3,3,3,3,3,3,3,3,3,3],[3,3,3,3,3,3,3,3,3,3,3,3,3,27,3,3,3,3,3,3,3,3,3,3,3,3,3,6,3,3,3,3,3,3,3,9,12,3,3,3,3,3,3,3,9,3,3,3,3,3,3,3,3,3,3,3,3,3,3,3,3,3,3,3,6,6,3,3,6,3,3,3,3,3,6,3,3,3,3,3,3,3,3,3,9,3,3,6,3,3,3,3,3,3,3,3,3,3,3,3,3,3,3,3,3,3,3,3,3,3,3,3,3,3,3,3,3,3,3,3,3,3,3,3,3,3,3,3,3,3,3,6,3,18,3,3,3,3,3,3,3,3,3,3,3,3,3,3,3,3,3,3,3,3,3,3,3,3,3,3,3,3,9,3,3,3,3,3,3,3,3,3,3,3,3,3,3,3,3,3,3,6,3,3,3,3,3,3,3,3,3,3,3,3,3,3,3,3,3,3,3,3,3,3,3,12,3,3,3,3,3,3,3,3,3,3,3,3],[3,3,3,3,3,3,3,3,3,3,3,3,3,27,3,3,3,3,3,3,3,3,3,3,3,3,3,6,3,3,3,3,3,3,3,9,12,3,3,3,3,3,3,3,9,3,3,3,3,3,3,3,3,3,3,3,3,3,3,3,3,3,3,3,6,6,3,3,6,3,3,3,3,3,6,3,3,3,3,3,3,3,3,3,9,3,3,6,3,3,3,3,3,3,3,3,3,3,3,3,3,3,3,3,3,3,3,3,3,3,3,3,3,3,3,3,3,3,3,3,3,3,3,3,3,3,3,3,3,3,3,6,3,18,3,3,3,3,3,3,3,3,3,3,3,3,3,3,3,3,3,3,3,3,3,3,3,3,3,3,3,3,9,3,3,3,3,3,3,3,3,3,3,3,3,3,3,3,3,3,3,6,3,3,3,3,3,3,3,3,3,3,3,3,3,3,3,3,3,3,3,3,3,3,3,12,3,3,3,3,3,3,3,3,3,3,3,3],[3,3,3,3,3,3,3,3,3,3,3,3,3,27,3,3,3,3,3,3,3,3,3,3,3,3,3,6,3,3,3,3,3,3,3,9,12,3,3,3,3,3,3,3,9,3,3,3,3,3,3,3,3,3,3,3,3,3,3,3,3,3,3,3,6,6,3,3,6,3,3,3,3,3,6,3,3,3,3,3,3,3,3,3,9,3,3,6,3,3,3,3,3,3,3,3,3,3,3,3,3,3,3,3,3,3,3,3,3,3,3,3,3,3,3,3,3,3,3,3,3,3,3,3,3,3,3,3,3,3,3,6,3,18,3,3,3,3,3,3,3,3,3,3,3,3,3,3,3,3,3,3,3,3,3,3,3,3,3,3,3,3,9,3,3,3,3,3,3,3,3,3,3,3,3,3,3,3,3,3,3,6,3,3,3,3,3,3,3,3,3,3,3,3,3,3,3,3,3,3,3,3,3,3,3,12,3,3,3,3,3,3,3,3,3,3,3,3],[3,3,3,3,3,3,3,3,3,3,3,3,3,27,3,3,3,3,3,3,3,3,3,3,3,3,3,6,3,3,3,3,3,3,3,9,12,3,3,3,3,3,3,3,9,3,3,3,3,3,3,3,3,3,3,3,3,3,3,3,3,3,3,3,6,6,3,3,6,3,3,3,3,3,6,3,3,3,3,3,3,3,3,3,9,3,3,6,3,3,3,3,3,3,3,3,3,3,3,3,3,3,3,3,3,3,3,3,3,3,3,3,3,3,3,3,3,3,3,3,3,3,3,3,3,3,3,3,3,3,3,6,3,18,3,3,3,3,3,3,3,3,3,3,3,3,3,3,3,3,3,3,3,3,3,3,3,3,3,3,3,3,9,3,3,3,3,3,3,3,3,3,3,3,3,3,3,3,3,3,3,6,3,3,3,3,3,3,3,3,3,3,3,3,3,3,3,3,3,3,3,3,3,3,3,12,3,3,3,3,3,3,3,3,3,3,3,3],[3,3,3,3,3,3,3,3,3,3,3,3,3,27,3,3,3,3,3,3,3,3,3,3,3,3,3,6,3,3,3,3,3,3,3,9,12,3,3,3,3,3,3,3,9,3,3,3,3,3,3,3,3,3,3,3,3,3,3,3,3,3,3,3,6,6,3,3,6,3,3,3,3,3,6,3,3,3,3,3,3,3,3,3,9,3,3,6,3,3,3,3,3,3,3,3,3,3,3,3,3,3,3,3,3,3,3,3,3,3,3,3,3,3,3,3,3,3,3,3,3,3,3,3,3,3,3,3,3,3,3,6,3,18,3,3,3,3,3,3,3,3,3,3,3,3,3,3,3,3,3,3,3,3,3,3,3,3,3,3,3,3,9,3,3,3,3,3,3,3,3,3,3,3,3,3,3,3,3,3,3,6,3,3,3,3,3,3,3,3,3,3,3,3,3,3,3,3,3,3,3,3,3,3,3,12,3,3,3,3,3,3,3,3,3,3,3,3],[3,3,3,3,3,3,3,3,3,3,3,3,3,27,3,3,3,3,3,3,3,3,3,3,3,3,3,6,3,3,3,3,3,3,3,9,12,3,3,3,3,3,3,3,9,3,3,3,3,3,3,3,3,3,3,3,3,3,3,3,3,3,3,3,6,6,3,3,6,3,3,3,3,3,6,3,3,3,3,3,3,3,3,3,9,3,3,6,3,3,3,3,3,3,3,3,3,3,3,3,3,3,3,3,3,3,3,3,3,3,3,3,3,3,3,3,3,3,3,3,3,3,3,3,3,3,3,3,3,3,3,6,3,18,3,3,3,3,3,3,3,3,3,3,3,3,3,3,3,3,3,3,3,3,3,3,3,3,3,3,3,3,9,3,3,3,3,3,3,3,3,3,3,3,3,3,3,3,3,3,3,6,3,3,3,3,3,3,3,3,3,3,3,3,3,3,3,3,3,3,3,3,3,3,3,12,3,3,3,3,3,3,3,3,3,3,3,3],[3,3,3,3,3,3,3,3,3,3,3,3,3,27,3,3,3,3,3,3,3,3,3,3,3,3,3,6,3,3,3,3,3,3,3,9,12,3,3,3,3,3,3,3,9,3,3,3,3,3,3,3,3,3,3,3,3,3,3,3,3,3,3,3,6,6,3,3,6,3,3,3,3,3,6,3,3,3,3,3,3,3,3,3,9,3,3,6,3,3,3,3,3,3,3,3,3,3,3,3,3,3,3,3,3,3,3,3,3,3,3,3,3,3,3,3,3,3,3,3,3,3,3,3,3,3,3,3,3,3,3,6,3,18,3,3,3,3,3,3,3,3,3,3,3,3,3,3,3,3,3,3,3,3,3,3,3,3,3,3,3,3,9,3,3,3,3,3,3,3,3,3,3,3,3,3,3,3,3,3,3,6,3,3,3,3,3,3,3,3,3,3,3,3,3,3,3,3,3,3,3,3,3,3,3,12,3,3,3,3,3,3,3,3,3,3,3,3],[3,3,3,3,3,3,3,3,3,3,3,3,3,27,3,3,3,3,3,3,3,3,3,3,3,3,3,6,3,3,3,3,3,3,3,9,12,3,3,3,3,3,3,3,9,3,3,3,3,3,3,3,3,3,3,3,3,3,3,3,3,3,3,3,6,6,3,3,6,3,3,3,3,3,6,3,3,3,3,3,3,3,3,3,9,3,3,6,3,3,3,3,3,3,3,3,3,3,3,3,3,3,3,3,3,3,3,3,3,3,3,3,3,3,3,3,3,3,3,3,3,3,3,3,3,3,3,3,3,3,3,6,3,18,3,3,3,3,3,3,3,3,3,3,3,3,3,3,3,3,3,3,3,3,3,3,3,3,3,3,3,3,9,3,3,3,3,3,3,3,3,3,3,3,3,3,3,3,3,3,3,6,3,3,3,3,3,3,3,3,3,3,3,3,3,3,3,3,3,3,3,3,3,3,3,12,3,3,3,3,3,3,3,3,3,3,3,3],[3,3,3,3,3,3,3,3,3,3,3,3,3,27,3,3,3,3,3,3,3,3,3,3,3,3,3,6,3,3,3,3,3,3,3,9,12,3,3,3,3,3,3,3,9,3,3,3,3,3,3,3,3,3,3,3,3,3,3,3,3,3,3,3,6,6,3,3,6,3,3,3,3,3,6,3,3,3,3,3,3,3,3,3,9,3,3,6,3,3,3,3,3,3,3,3,3,3,3,3,3,3,3,3,3,3,3,3,3,3,3,3,3,3,3,3,3,3,3,3,3,3,3,3,3,3,3,3,3,3,3,6,3,18,3,3,3,3,3,3,3,3,3,3,3,3,3,3,3,3,3,3,3,3,3,3,3,3,3,3,3,3,9,3,3,3,3,3,3,3,3,3,3,3,3,3,3,3,3,3,3,6,3,3,3,3,3,3,3,3,3,3,3,3,3,3,3,3,3,3,3,3,3,3,3,12,3,3,3,3,3,3,3,3,3,3,3,3],[3,3,3,3,3,3,3,3,3,3,3,3,3,27,3,3,3,3,3,3,3,3,3,3,3,3,3,6,3,3,3,3,3,3,3,9,12,3,3,3,3,3,3,3,9,3,3,3,3,3,3,3,3,3,3,3,3,3,3,3,3,3,3,3,6,6,3,3,6,3,3,3,3,3,6,3,3,3,3,3,3,3,3,3,9,3,3,6,3,3,3,3,3,3,3,3,3,3,3,3,3,3,3,3,3,3,3,3,3,3,3,3,3,3,3,3,3,3,3,3,3,3,3,3,3,3,3,3,3,3,3,6,3,18,3,3,3,3,3,3,3,3,3,3,3,3,3,3,3,3,3,3,3,3,3,3,3,3,3,3,3,3,9,3,3,3,3,3,3,3,3,3,3,3,3,3,3,3,3,3,3,6,3,3,3,3,3,3,3,3,3,3,3,3,3,3,3,3,3,3,3,3,3,3,3,12,3,3,3,3,3,3,3,3,3,3,3,3],[3,3,3,3,3,3,3,3,3,3,3,3,3,27,3,3,3,3,3,3,3,3,3,3,3,3,3,6,3,3,3,3,3,3,3,9,12,3,3,3,3,3,3,3,9,3,3,3,3,3,3,3,3,3,3,3,3,3,3,3,3,3,3,3,6,6,3,3,6,3,3,3,3,3,6,3,3,3,3,3,3,3,3,3,9,3,3,6,3,3,3,3,3,3,3,3,3,3,3,3,3,3,3,3,3,3,3,3,3,3,3,3,3,3,3,3,3,3,3,3,3,3,3,3,3,3,3,3,3,3,3,6,3,18,3,3,3,3,3,3,3,3,3,3,3,3,3,3,3,3,3,3,3,3,3,3,3,3,3,3,3,3,9,3,3,3,3,3,3,3,3,3,3,3,3,3,3,3,3,3,3,6,3,3,3,3,3,3,3,3,3,3,3,3,3,3,3,3,3,3,3,3,3,3,3,12,3,3,3,3,3,3,3,3,3,3,3,3],[3,3,3,3,3,3,3,3,3,3,3,3,3,27,3,3,3,3,3,3,3,3,3,3,3,3,3,6,3,3,3,3,3,3,3,9,12,3,3,3,3,3,3,3,9,3,3,3,3,3,3,3,3,3,3,3,3,3,3,3,3,3,3,3,6,6,3,3,6,3,3,3,3,3,6,3,3,3,3,3,3,3,3,3,9,3,3,6,3,3,3,3,3,3,3,3,3,3,3,3,3,3,3,3,3,3,3,3,3,3,3,3,3,3,3,3,3,3,3,3,3,3,3,3,3,3,3,3,3,3,3,6,3,18,3,3,3,3,3,3,3,3,3,3,3,3,3,3,3,3,3,3,3,3,3,3,3,3,3,3,3,3,9,3,3,3,3,3,3,3,3,3,3,3,3,3,3,3,3,3,3,6,3,3,3,3,3,3,3,3,3,3,3,3,3,3,3,3,3,3,3,3,3,3,3,12,3,3,3,3,3,3,3,3,3,3,3,3],[3,3,3,3,3,3,3,3,3,3,3,3,3,27,3,3,3,3,3,3,3,3,3,3,3,3,3,6,3,3,3,3,3,3,3,9,12,3,3,3,3,3,3,3,9,3,3,3,3,3,3,3,3,3,3,3,3,3,3,3,3,3,3,3,6,6,3,3,6,3,3,3,3,3,6,3,3,3,3,3,3,3,3,3,9,3,3,6,3,3,3,3,3,3,3,3,3,3,3,3,3,3,3,3,3,3,3,3,3,3,3,3,3,3,3,3,3,3,3,3,3,3,3,3,3,3,3,3,3,3,3,6,3,18,3,3,3,3,3,3,3,3,3,3,3,3,3,3,3,3,3,3,3,3,3,3,3,3,3,3,3,3,9,3,3,3,3,3,3,3,3,3,3,3,3,3,3,3,3,3,3,6,3,3,3,3,3,3,3,3,3,3,3,3,3,3,3,3,3,3,3,3,3,3,3,12,3,3,3,3,3,3,3,3,3,3,3,3],[3,3,3,3,3,3,3,3,3,3,3,3,3,27,3,3,3,3,3,3,3,3,3,3,3,3,3,6,3,3,3,3,3,3,3,9,12,3,3,3,3,3,3,3,9,3,3,3,3,3,3,3,3,3,3,3,3,3,3,3,3,3,3,3,6,6,3,3,6,3,3,3,3,3,6,3,3,3,3,3,3,3,3,3,9,3,3,6,3,3,3,3,3,3,3,3,3,3,3,3,3,3,3,3,3,3,3,3,3,3,3,3,3,3,3,3,3,3,3,3,3,3,3,3,3,3,3,3,3,3,3,6,3,18,3,3,3,3,3,3,3,3,3,3,3,3,3,3,3,3,3,3,3,3,3,3,3,3,3,3,3,3,9,3,3,3,3,3,3,3,3,3,3,3,3,3,3,3,3,3,3,6,3,3,3,3,3,3,3,3,3,3,3,3,3,3,3,3,3,3,3,3,3,3,3,12,3,3,3,3,3,3,3,3,3,3,3,3],[3,3,3,3,3,3,3,3,3,3,3,3,3,27,3,3,3,3,3,3,3,3,3,3,3,3,3,6,3,3,3,3,3,3,3,9,12,3,3,3,3,3,3,3,9,3,3,3,3,3,3,3,3,3,3,3,3,3,3,3,3,3,3,3,6,6,3,3,6,3,3,3,3,3,6,3,3,3,3,3,3,3,3,3,9,3,3,6,3,3,3,3,3,3,3,3,3,3,3,3,3,3,3,3,3,3,3,3,3,3,3,3,3,3,3,3,3,3,3,3,3,3,3,3,3,3,3,3,3,3,3,6,3,18,3,3,3,3,3,3,3,3,3,3,3,3,3,3,3,3,3,3,3,3,3,3,3,3,3,3,3,3,9,3,3,3,3,3,3,3,3,3,3,3,3,3,3,3,3,3,3,6,3,3,3,3,3,3,3,3,3,3,3,3,3,3,3,3,3,3,3,3,3,3,3,12,3,3,3,3,3,3,3,3,3,3,3,3],[3,3,3,3,3,3,3,3,3,3,3,3,3,27,3,3,3,3,3,3,3,3,3,3,3,3,3,6,3,3,3,3,3,3,3,9,12,3,3,3,3,3,3,3,9,3,3,3,3,3,3,3,3,3,3,3,3,3,3,3,3,3,3,3,6,6,3,3,6,3,3,3,3,3,6,3,3,3,3,3,3,3,3,3,9,3,3,6,3,3,3,3,3,3,3,3,3,3,3,3,3,3,3,3,3,3,3,3,3,3,3,3,3,3,3,3,3,3,3,3,3,3,3,3,3,3,3,3,3,3,3,6,3,18,3,3,3,3,3,3,3,3,3,3,3,3,3,3,3,3,3,3,3,3,3,3,3,3,3,3,3,3,9,3,3,3,3,3,3,3,3,3,3,3,3,3,3,3,3,3,3,6,3,3,3,3,3,3,3,3,3,3,3,3,3,3,3,3,3,3,3,3,3,3,3,12,3,3,3,3,3,3,3,3,3,3,3,3],[3,3,3,3,3,3,3,3,3,3,3,3,3,27,3,3,3,3,3,3,3,3,3,3,3,3,3,6,3,3,3,3,3,3,3,9,12,3,3,3,3,3,3,3,9,3,3,3,3,3,3,3,3,3,3,3,3,3,3,3,3,3,3,3,6,6,3,3,6,3,3,3,3,3,6,3,3,3,3,3,3,3,3,3,9,3,3,6,3,3,3,3,3,3,3,3,3,3,3,3,3,3,3,3,3,3,3,3,3,3,3,3,3,3,3,3,3,3,3,3,3,3,3,3,3,3,3,3,3,3,3,6,3,18,3,3,3,3,3,3,3,3,3,3,3,3,3,3,3,3,3,3,3,3,3,3,3,3,3,3,3,3,9,3,3,3,3,3,3,3,3,3,3,3,3,3,3,3,3,3,3,6,3,3,3,3,3,3,3,3,3,3,3,3,3,3,3,3,3,3,3,3,3,3,3,12,3,3,3,3,3,3,3,3,3,3,3,3],[3,3,3,3,3,3,3,3,3,3,3,3,3,27,3,3,3,3,3,3,3,3,3,3,3,3,3,6,3,3,3,3,3,3,3,9,12,3,3,3,3,3,3,3,9,3,3,3,3,3,3,3,3,3,3,3,3,3,3,3,3,3,3,3,6,6,3,3,6,3,3,3,3,3,6,3,3,3,3,3,3,3,3,3,9,3,3,6,3,3,3,3,3,3,3,3,3,3,3,3,3,3,3,3,3,3,3,3,3,3,3,3,3,3,3,3,3,3,3,3,3,3,3,3,3,3,3,3,3,3,3,6,3,18,3,3,3,3,3,3,3,3,3,3,3,3,3,3,3,3,3,3,3,3,3,3,3,3,3,3,3,3,9,3,3,3,3,3,3,3,3,3,3,3,3,3,3,3,3,3,3,6,3,3,3,3,3,3,3,3,3,3,3,3,3,3,3,3,3,3,3,3,3,3,3,12,3,3,3,3,3,3,3,3,3,3,3,3],[3,3,3,3,3,3,3,3,3,3,3,3,3,27,3,3,3,3,3,3,3,3,3,3,3,3,3,6,3,3,3,3,3,3,3,9,12,3,3,3,3,3,3,3,9,3,3,3,3,3,3,3,3,3,3,3,3,3,3,3,3,3,3,3,6,6,3,3,6,3,3,3,3,3,6,3,3,3,3,3,3,3,3,3,9,3,3,6,3,3,3,3,3,3,3,3,3,3,3,3,3,3,3,3,3,3,3,3,3,3,3,3,3,3,3,3,3,3,3,3,3,3,3,3,3,3,3,3,3,3,3,6,3,18,3,3,3,3,3,3,3,3,3,3,3,3,3,3,3,3,3,3,3,3,3,3,3,3,3,3,3,3,9,3,3,3,3,3,3,3,3,3,3,3,3,3,3,3,3,3,3,6,3,3,3,3,3,3,3,3,3,3,3,3,3,3,3,3,3,3,3,3,3,3,3,12,3,3,3,3,3,3,3,3,3,3,3,3],[3,3,3,3,3,3,3,3,3,3,3,3,3,27,3,3,3,3,3,3,3,3,3,3,3,3,3,6,3,3,3,3,3,3,3,9,12,3,3,3,3,3,3,3,9,3,3,3,3,3,3,3,3,3,3,3,3,3,3,3,3,3,3,3,6,6,3,3,6,3,3,3,3,3,6,3,3,3,3,3,3,3,3,3,9,3,3,6,3,3,3,3,3,3,3,3,3,3,3,3,3,3,3,3,3,3,3,3,3,3,3,3,3,3,3,3,3,3,3,3,3,3,3,3,3,3,3,3,3,3,3,6,3,18,3,3,3,3,3,3,3,3,3,3,3,3,3,3,3,3,3,3,3,3,3,3,3,3,3,3,3,3,9,3,3,3,3,3,3,3,3,3,3,3,3,3,3,3,3,3,3,6,3,3,3,3,3,3,3,3,3,3,3,3,3,3,3,3,3,3,3,3,3,3,3,12,3,3,3,3,3,3,3,3,3,3,3,3],[3,3,3,3,3,3,3,3,3,3,3,3,3,27,3,3,3,3,3,3,3,3,3,3,3,3,3,6,3,3,3,3,3,3,3,9,12,3,3,3,3,3,3,3,9,3,3,3,3,3,3,3,3,3,3,3,3,3,3,3,3,3,3,3,6,6,3,3,6,3,3,3,3,3,6,3,3,3,3,3,3,3,3,3,9,3,3,6,3,3,3,3,3,3,3,3,3,3,3,3,3,3,3,3,3,3,3,3,3,3,3,3,3,3,3,3,3,3,3,3,3,3,3,3,3,3,3,3,3,3,3,6,3,18,3,3,3,3,3,3,3,3,3,3,3,3,3,3,3,3,3,3,3,3,3,3,3,3,3,3,3,3,9,3,3,3,3,3,3,3,3,3,3,3,3,3,3,3,3,3,3,6,3,3,3,3,3,3,3,3,3,3,3,3,3,3,3,3,3,3,3,3,3,3,3,12,3,3,3,3,3,3,3,3,3,3,3,3],[3,3,3,3,3,3,3,3,3,3,3,3,3,27,3,3,3,3,3,3,3,3,3,3,3,3,3,6,3,3,3,3,3,3,3,9,12,3,3,3,3,3,3,3,9,3,3,3,3,3,3,3,3,3,3,3,3,3,3,3,3,3,3,3,6,6,3,3,6,3,3,3,3,3,6,3,3,3,3,3,3,3,3,3,9,3,3,6,3,3,3,3,3,3,3,3,3,3,3,3,3,3,3,3,3,3,3,3,3,3,3,3,3,3,3,3,3,3,3,3,3,3,3,3,3,3,3,3,3,3,3,6,3,18,3,3,3,3,3,3,3,3,3,3,3,3,3,3,3,3,3,3,3,3,3,3,3,3,3,3,3,3,9,3,3,3,3,3,3,3,3,3,3,3,3,3,3,3,3,3,3,6,3,3,3,3,3,3,3,3,3,3,3,3,3,3,3,3,3,3,3,3,3,3,3,12,3,3,3,3,3,3,3,3,3,3,3,3],[3,3,3,3,3,3,3,3,3,3,3,3,3,27,3,3,3,3,3,3,3,3,3,3,3,3,3,6,3,3,3,3,3,3,3,9,12,3,3,3,3,3,3,3,9,3,3,3,3,3,3,3,3,3,3,3,3,3,3,3,3,3,3,3,6,6,3,3,6,3,3,3,3,3,6,3,3,3,3,3,3,3,3,3,9,3,3,6,3,3,3,3,3,3,3,3,3,3,3,3,3,3,3,3,3,3,3,3,3,3,3,3,3,3,3,3,3,3,3,3,3,3,3,3,3,3,3,3,3,3,3,6,3,18,3,3,3,3,3,3,3,3,3,3,3,3,3,3,3,3,3,3,3,3,3,3,3,3,3,3,3,3,9,3,3,3,3,3,3,3,3,3,3,3,3,3,3,3,3,3,3,6,3,3,3,3,3,3,3,3,3,3,3,3,3,3,3,3,3,3,3,3,3,3,3,12,3,3,3,3,3,3,3,3,3,3,3,3],[3,3,3,3,3,3,3,3,3,3,3,3,3,27,3,3,3,3,3,3,3,3,3,3,3,3,3,6,3,3,3,3,3,3,3,9,12,3,3,3,3,3,3,3,9,3,3,3,3,3,3,3,3,3,3,3,3,3,3,3,3,3,3,3,6,6,3,3,6,3,3,3,3,3,6,3,3,3,3,3,3,3,3,3,9,3,3,6,3,3,3,3,3,3,3,3,3,3,3,3,3,3,3,3,3,3,3,3,3,3,3,3,3,3,3,3,3,3,3,3,3,3,3,3,3,3,3,3,3,3,3,6,3,18,3,3,3,3,3,3,3,3,3,3,3,3,3,3,3,3,3,3,3,3,3,3,3,3,3,3,3,3,9,3,3,3,3,3,3,3,3,3,3,3,3,3,3,3,3,3,3,6,3,3,3,3,3,3,3,3,3,3,3,3,3,3,3,3,3,3,3,3,3,3,3,12,3,3,3,3,3,3,3,3,3,3,3,3],[3,3,3,3,3,3,3,3,3,3,3,3,3,27,3,3,3,3,3,3,3,3,3,3,3,3,3,6,3,3,3,3,3,3,3,9,12,3,3,3,3,3,3,3,9,3,3,3,3,3,3,3,3,3,3,3,3,3,3,3,3,3,3,3,6,6,3,3,6,3,3,3,3,3,6,3,3,3,3,3,3,3,3,3,9,3,3,6,3,3,3,3,3,3,3,3,3,3,3,3,3,3,3,3,3,3,3,3,3,3,3,3,3,3,3,3,3,3,3,3,3,3,3,3,3,3,3,3,3,3,3,6,3,18,3,3,3,3,3,3,3,3,3,3,3,3,3,3,3,3,3,3,3,3,3,3,3,3,3,3,3,3,9,3,3,3,3,3,3,3,3,3,3,3,3,3,3,3,3,3,3,6,3,3,3,3,3,3,3,3,3,3,3,3,3,3,3,3,3,3,3,3,3,3,3,12,3,3,3,3,3,3,3,3,3,3,3,3],[3,3,3,3,3,3,3,3,3,3,3,3,3,27,3,3,3,3,3,3,3,3,3,3,3,3,3,6,3,3,3,3,3,3,3,9,12,3,3,3,3,3,3,3,9,3,3,3,3,3,3,3,3,3,3,3,3,3,3,3,3,3,3,3,6,6,3,3,6,3,3,3,3,3,6,3,3,3,3,3,3,3,3,3,9,3,3,6,3,3,3,3,3,3,3,3,3,3,3,3,3,3,3,3,3,3,3,3,3,3,3,3,3,3,3,3,3,3,3,3,3,3,3,3,3,3,3,3,3,3,3,6,3,18,3,3,3,3,3,3,3,3,3,3,3,3,3,3,3,3,3,3,3,3,3,3,3,3,3,3,3,3,9,3,3,3,3,3,3,3,3,3,3,3,3,3,3,3,3,3,3,6,3,3,3,3,3,3,3,3,3,3,3,3,3,3,3,3,3,3,3,3,3,3,3,12,3,3,3,3,3,3,3,3,3,3,3,3],[3,3,3,3,3,3,3,3,3,3,3,3,3,27,3,3,3,3,3,3,3,3,3,3,3,3,3,6,3,3,3,3,3,3,3,9,12,3,3,3,3,3,3,3,9,3,3,3,3,3,3,3,3,3,3,3,3,3,3,3,3,3,3,3,6,6,3,3,6,3,3,3,3,3,6,3,3,3,3,3,3,3,3,3,9,3,3,6,3,3,3,3,3,3,3,3,3,3,3,3,3,3,3,3,3,3,3,3,3,3,3,3,3,3,3,3,3,3,3,3,3,3,3,3,3,3,3,3,3,3,3,6,3,18,3,3,3,3,3,3,3,3,3,3,3,3,3,3,3,3,3,3,3,3,3,3,3,3,3,3,3,3,9,3,3,3,3,3,3,3,3,3,3,3,3,3,3,3,3,3,3,6,3,3,3,3,3,3,3,3,3,3,3,3,3,3,3,3,3,3,3,3,3,3,3,12,3,3,3,3,3,3,3,3,3,3,3,3],[3,3,3,3,3,3,3,3,3,3,3,3,3,27,3,3,3,3,3,3,3,3,3,3,3,3,3,6,3,3,3,3,3,3,3,9,12,3,3,3,3,3,3,3,9,3,3,3,3,3,3,3,3,3,3,3,3,3,3,3,3,3,3,3,6,6,3,3,6,3,3,3,3,3,6,3,3,3,3,3,3,3,3,3,9,3,3,6,3,3,3,3,3,3,3,3,3,3,3,3,3,3,3,3,3,3,3,3,3,3,3,3,3,3,3,3,3,3,3,3,3,3,3,3,3,3,3,3,3,3,3,6,3,18,3,3,3,3,3,3,3,3,3,3,3,3,3,3,3,3,3,3,3,3,3,3,3,3,3,3,3,3,9,3,3,3,3,3,3,3,3,3,3,3,3,3,3,3,3,3,3,6,3,3,3,3,3,3,3,3,3,3,3,3,3,3,3,3,3,3,3,3,3,3,3,12,3,3,3,3,3,3,3,3,3,3,3,3],[3,3,3,3,3,3,3,3,3,3,3,3,3,27,3,3,3,3,3,3,3,3,3,3,3,3,3,6,3,3,3,3,3,3,3,9,12,3,3,3,3,3,3,3,9,3,3,3,3,3,3,3,3,3,3,3,3,3,3,3,3,3,3,3,6,6,3,3,6,3,3,3,3,3,6,3,3,3,3,3,3,3,3,3,9,3,3,6,3,3,3,3,3,3,3,3,3,3,3,3,3,3,3,3,3,3,3,3,3,3,3,3,3,3,3,3,3,3,3,3,3,3,3,3,3,3,3,3,3,3,3,6,3,18,3,3,3,3,3,3,3,3,3,3,3,3,3,3,3,3,3,3,3,3,3,3,3,3,3,3,3,3,9,3,3,3,3,3,3,3,3,3,3,3,3,3,3,3,3,3,3,6,3,3,3,3,3,3,3,3,3,3,3,3,3,3,3,3,3,3,3,3,3,3,3,12,3,3,3,3,3,3,3,3,3,3,3,3],[3,3,3,3,3,3,3,3,3,3,3,3,3,27,3,3,3,3,3,3,3,3,3,3,3,3,3,6,3,3,3,3,3,3,3,9,12,3,3,3,3,3,3,3,9,3,3,3,3,3,3,3,3,3,3,3,3,3,3,3,3,3,3,3,6,6,3,3,6,3,3,3,3,3,6,3,3,3,3,3,3,3,3,3,9,3,3,6,3,3,3,3,3,3,3,3,3,3,3,3,3,3,3,3,3,3,3,3,3,3,3,3,3,3,3,3,3,3,3,3,3,3,3,3,3,3,3,3,3,3,3,6,3,18,3,3,3,3,3,3,3,3,3,3,3,3,3,3,3,3,3,3,3,3,3,3,3,3,3,3,3,3,9,3,3,3,3,3,3,3,3,3,3,3,3,3,3,3,3,3,3,6,3,3,3,3,3,3,3,3,3,3,3,3,3,3,3,3,3,3,3,3,3,3,3,12,3,3,3,3,3,3,3,3,3,3,3,3],[3,3,3,3,3,3,3,3,3,3,3,3,3,27,3,3,3,3,3,3,3,3,3,3,3,3,3,6,3,3,3,3,3,3,3,9,12,3,3,3,3,3,3,3,9,3,3,3,3,3,3,3,3,3,3,3,3,3,3,3,3,3,3,3,6,6,3,3,6,3,3,3,3,3,6,3,3,3,3,3,3,3,3,3,9,3,3,6,3,3,3,3,3,3,3,3,3,3,3,3,3,3,3,3,3,3,3,3,3,3,3,3,3,3,3,3,3,3,3,3,3,3,3,3,3,3,3,3,3,3,3,6,3,18,3,3,3,3,3,3,3,3,3,3,3,3,3,3,3,3,3,3,3,3,3,3,3,3,3,3,3,3,9,3,3,3,3,3,3,3,3,3,3,3,3,3,3,3,3,3,3,6,3,3,3,3,3,3,3,3,3,3,3,3,3,3,3,3,3,3,3,3,3,3,3,12,3,3,3,3,3,3,3,3,3,3,3,3],[3,3,3,3,3,3,3,3,3,3,3,3,3,27,3,3,3,3,3,3,3,3,3,3,3,3,3,6,3,3,3,3,3,3,3,9,12,3,3,3,3,3,3,3,9,3,3,3,3,3,3,3,3,3,3,3,3,3,3,3,3,3,3,3,6,6,3,3,6,3,3,3,3,3,6,3,3,3,3,3,3,3,3,3,9,3,3,6,3,3,3,3,3,3,3,3,3,3,3,3,3,3,3,3,3,3,3,3,3,3,3,3,3,3,3,3,3,3,3,3,3,3,3,3,3,3,3,3,3,3,3,6,3,18,3,3,3,3,3,3,3,3,3,3,3,3,3,3,3,3,3,3,3,3,3,3,3,3,3,3,3,3,9,3,3,3,3,3,3,3,3,3,3,3,3,3,3,3,3,3,3,6,3,3,3,3,3,3,3,3,3,3,3,3,3,3,3,3,3,3,3,3,3,3,3,12,3,3,3,3,3,3,3,3,3,3,3,3],[3,3,3,3,3,3,3,3,3,3,3,3,3,27,3,3,3,3,3,3,3,3,3,3,3,3,3,6,3,3,3,3,3,3,3,9,12,3,3,3,3,3,3,3,9,3,3,3,3,3,3,3,3,3,3,3,3,3,3,3,3,3,3,3,6,6,3,3,6,3,3,3,3,3,6,3,3,3,3,3,3,3,3,3,9,3,3,6,3,3,3,3,3,3,3,3,3,3,3,3,3,3,3,3,3,3,3,3,3,3,3,3,3,3,3,3,3,3,3,3,3,3,3,3,3,3,3,3,3,3,3,6,3,18,3,3,3,3,3,3,3,3,3,3,3,3,3,3,3,3,3,3,3,3,3,3,3,3,3,3,3,3,9,3,3,3,3,3,3,3,3,3,3,3,3,3,3,3,3,3,3,6,3,3,3,3,3,3,3,3,3,3,3,3,3,3,3,3,3,3,3,3,3,3,3,12,3,3,3,3,3,3,3,3,3,3,3,3],[3,3,3,3,3,3,3,3,3,3,3,3,3,27,3,3,3,3,3,3,3,3,3,3,3,3,3,6,3,3,3,3,3,3,3,9,12,3,3,3,3,3,3,3,9,3,3,3,3,3,3,3,3,3,3,3,3,3,3,3,3,3,3,3,6,6,3,3,6,3,3,3,3,3,6,3,3,3,3,3,3,3,3,3,9,3,3,6,3,3,3,3,3,3,3,3,3,3,3,3,3,3,3,3,3,3,3,3,3,3,3,3,3,3,3,3,3,3,3,3,3,3,3,3,3,3,3,3,3,3,3,6,3,18,3,3,3,3,3,3,3,3,3,3,3,3,3,3,3,3,3,3,3,3,3,3,3,3,3,3,3,3,9,3,3,3,3,3,3,3,3,3,3,3,3,3,3,3,3,3,3,6,3,3,3,3,3,3,3,3,3,3,3,3,3,3,3,3,3,3,3,3,3,3,3,12,3,3,3,3,3,3,3,3,3,3,3,3],[3,3,3,3,3,3,3,3,3,3,3,3,3,27,3,3,3,3,3,3,3,3,3,3,3,3,3,6,3,3,3,3,3,3,3,9,12,3,3,3,3,3,3,3,9,3,3,3,3,3,3,3,3,3,3,3,3,3,3,3,3,3,3,3,6,6,3,3,6,3,3,3,3,3,6,3,3,3,3,3,3,3,3,3,9,3,3,6,3,3,3,3,3,3,3,3,3,3,3,3,3,3,3,3,3,3,3,3,3,3,3,3,3,3,3,3,3,3,3,3,3,3,3,3,3,3,3,3,3,3,3,6,3,18,3,3,3,3,3,3,3,3,3,3,3,3,3,3,3,3,3,3,3,3,3,3,3,3,3,3,3,3,9,3,3,3,3,3,3,3,3,3,3,3,3,3,3,3,3,3,3,6,3,3,3,3,3,3,3,3,3,3,3,3,3,3,3,3,3,3,3,3,3,3,3,12,3,3,3,3,3,3,3,3,3,3,3,3],[3,3,3,3,3,3,3,3,3,3,3,3,3,27,3,3,3,3,3,3,3,3,3,3,3,3,3,6,3,3,3,3,3,3,3,9,12,3,3,3,3,3,3,3,9,3,3,3,3,3,3,3,3,3,3,3,3,3,3,3,3,3,3,3,6,6,3,3,6,3,3,3,3,3,6,3,3,3,3,3,3,3,3,3,9,3,3,6,3,3,3,3,3,3,3,3,3,3,3,3,3,3,3,3,3,3,3,3,3,3,3,3,3,3,3,3,3,3,3,3,3,3,3,3,3,3,3,3,3,3,3,6,3,18,3,3,3,3,3,3,3,3,3,3,3,3,3,3,3,3,3,3,3,3,3,3,3,3,3,3,3,3,9,3,3,3,3,3,3,3,3,3,3,3,3,3,3,3,3,3,3,6,3,3,3,3,3,3,3,3,3,3,3,3,3,3,3,3,3,3,3,3,3,3,3,12,3,3,3,3,3,3,3,3,3,3,3,3],[3,3,3,3,3,3,3,3,3,3,3,3,3,27,3,3,3,3,3,3,3,3,3,3,3,3,3,6,3,3,3,3,3,3,3,9,12,3,3,3,3,3,3,3,9,3,3,3,3,3,3,3,3,3,3,3,3,3,3,3,3,3,3,3,6,6,3,3,6,3,3,3,3,3,6,3,3,3,3,3,3,3,3,3,9,3,3,6,3,3,3,3,3,3,3,3,3,3,3,3,3,3,3,3,3,3,3,3,3,3,3,3,3,3,3,3,3,3,3,3,3,3,3,3,3,3,3,3,3,3,3,6,3,18,3,3,3,3,3,3,3,3,3,3,3,3,3,3,3,3,3,3,3,3,3,3,3,3,3,3,3,3,9,3,3,3,3,3,3,3,3,3,3,3,3,3,3,3,3,3,3,6,3,3,3,3,3,3,3,3,3,3,3,3,3,3,3,3,3,3,3,3,3,3,3,12,3,3,3,3,3,3,3,3,3,3,3,3],[3,3,3,3,3,3,3,3,3,3,3,3,3,27,3,3,3,3,3,3,3,3,3,3,3,3,3,6,3,3,3,3,3,3,3,9,12,3,3,3,3,3,3,3,9,3,3,3,3,3,3,3,3,3,3,3,3,3,3,3,3,3,3,3,6,6,3,3,6,3,3,3,3,3,6,3,3,3,3,3,3,3,3,3,9,3,3,6,3,3,3,3,3,3,3,3,3,3,3,3,3,3,3,3,3,3,3,3,3,3,3,3,3,3,3,3,3,3,3,3,3,3,3,3,3,3,3,3,3,3,3,6,3,18,3,3,3,3,3,3,3,3,3,3,3,3,3,3,3,3,3,3,3,3,3,3,3,3,3,3,3,3,9,3,3,3,3,3,3,3,3,3,3,3,3,3,3,3,3,3,3,6,3,3,3,3,3,3,3,3,3,3,3,3,3,3,3,3,3,3,3,3,3,3,3,12,3,3,3,3,3,3,3,3,3,3,3,3],[3,3,3,3,3,3,3,3,3,3,3,3,3,27,3,3,3,3,3,3,3,3,3,3,3,3,3,6,3,3,3,3,3,3,3,9,12,3,3,3,3,3,3,3,9,3,3,3,3,3,3,3,3,3,3,3,3,3,3,3,3,3,3,3,6,6,3,3,6,3,3,3,3,3,6,3,3,3,3,3,3,3,3,3,9,3,3,6,3,3,3,3,3,3,3,3,3,3,3,3,3,3,3,3,3,3,3,3,3,3,3,3,3,3,3,3,3,3,3,3,3,3,3,3,3,3,3,3,3,3,3,6,3,18,3,3,3,3,3,3,3,3,3,3,3,3,3,3,3,3,3,3,3,3,3,3,3,3,3,3,3,3,9,3,3,3,3,3,3,3,3,3,3,3,3,3,3,3,3,3,3,6,3,3,3,3,3,3,3,3,3,3,3,3,3,3,3,3,3,3,3,3,3,3,3,12,3,3,3,3,3,3,3,3,3,3,3,3],[3,3,3,3,3,3,3,3,3,3,3,3,3,27,3,3,3,3,3,3,3,3,3,3,3,3,3,6,3,3,3,3,3,3,3,9,12,3,3,3,3,3,3,3,9,3,3,3,3,3,3,3,3,3,3,3,3,3,3,3,3,3,3,3,6,6,3,3,6,3,3,3,3,3,6,3,3,3,3,3,3,3,3,3,9,3,3,6,3,3,3,3,3,3,3,3,3,3,3,3,3,3,3,3,3,3,3,3,3,3,3,3,3,3,3,3,3,3,3,3,3,3,3,3,3,3,3,3,3,3,3,6,3,18,3,3,3,3,3,3,3,3,3,3,3,3,3,3,3,3,3,3,3,3,3,3,3,3,3,3,3,3,9,3,3,3,3,3,3,3,3,3,3,3,3,3,3,3,3,3,3,6,3,3,3,3,3,3,3,3,3,3,3,3,3,3,3,3,3,3,3,3,3,3,3,12,3,3,3,3,3,3,3,3,3,3,3,3],[3,3,3,3,3,3,3,3,3,3,3,3,3,27,3,3,3,3,3,3,3,3,3,3,3,3,3,6,3,3,3,3,3,3,3,9,12,3,3,3,3,3,3,3,9,3,3,3,3,3,3,3,3,3,3,3,3,3,3,3,3,3,3,3,6,6,3,3,6,3,3,3,3,3,6,3,3,3,3,3,3,3,3,3,9,3,3,6,3,3,3,3,3,3,3,3,3,3,3,3,3,3,3,3,3,3,3,3,3,3,3,3,3,3,3,3,3,3,3,3,3,3,3,3,3,3,3,3,3,3,3,6,3,18,3,3,3,3,3,3,3,3,3,3,3,3,3,3,3,3,3,3,3,3,3,3,3,3,3,3,3,3,9,3,3,3,3,3,3,3,3,3,3,3,3,3,3,3,3,3,3,6,3,3,3,3,3,3,3,3,3,3,3,3,3,3,3,3,3,3,3,3,3,3,3,12,3,3,3,3,3,3,3,3,3,3,3,3],[3,3,3,3,3,3,3,3,3,3,3,3,3,27,3,3,3,3,3,3,3,3,3,3,3,3,3,6,3,3,3,3,3,3,3,9,12,3,3,3,3,3,3,3,9,3,3,3,3,3,3,3,3,3,3,3,3,3,3,3,3,3,3,3,6,6,3,3,6,3,3,3,3,3,6,3,3,3,3,3,3,3,3,3,9,3,3,6,3,3,3,3,3,3,3,3,3,3,3,3,3,3,3,3,3,3,3,3,3,3,3,3,3,3,3,3,3,3,3,3,3,3,3,3,3,3,3,3,3,3,3,6,3,18,3,3,3,3,3,3,3,3,3,3,3,3,3,3,3,3,3,3,3,3,3,3,3,3,3,3,3,3,9,3,3,3,3,3,3,3,3,3,3,3,3,3,3,3,3,3,3,6,3,3,3,3,3,3,3,3,3,3,3,3,3,3,3,3,3,3,3,3,3,3,3,12,3,3,3,3,3,3,3,3,3,3,3,3],[3,3,3,3,3,3,3,3,3,3,3,3,3,27,3,3,3,3,3,3,3,3,3,3,3,3,3,6,3,3,3,3,3,3,3,9,12,3,3,3,3,3,3,3,9,3,3,3,3,3,3,3,3,3,3,3,3,3,3,3,3,3,3,3,6,6,3,3,6,3,3,3,3,3,6,3,3,3,3,3,3,3,3,3,9,3,3,6,3,3,3,3,3,3,3,3,3,3,3,3,3,3,3,3,3,3,3,3,3,3,3,3,3,3,3,3,3,3,3,3,3,3,3,3,3,3,3,3,3,3,3,6,3,18,3,3,3,3,3,3,3,3,3,3,3,3,3,3,3,3,3,3,3,3,3,3,3,3,3,3,3,3,9,3,3,3,3,3,3,3,3,3,3,3,3,3,3,3,3,3,3,6,3,3,3,3,3,3,3,3,3,3,3,3,3,3,3,3,3,3,3,3,3,3,3,12,3,3,3,3,3,3,3,3,3,3,3,3],[3,3,3,3,3,3,3,3,3,3,3,3,3,27,3,3,3,3,3,3,3,3,3,3,3,3,3,6,3,3,3,3,3,3,3,9,12,3,3,3,3,3,3,3,9,3,3,3,3,3,3,3,3,3,3,3,3,3,3,3,3,3,3,3,6,6,3,3,6,3,3,3,3,3,6,3,3,3,3,3,3,3,3,3,9,3,3,6,3,3,3,3,3,3,3,3,3,3,3,3,3,3,3,3,3,3,3,3,3,3,3,3,3,3,3,3,3,3,3,3,3,3,3,3,3,3,3,3,3,3,3,6,3,18,3,3,3,3,3,3,3,3,3,3,3,3,3,3,3,3,3,3,3,3,3,3,3,3,3,3,3,3,9,3,3,3,3,3,3,3,3,3,3,3,3,3,3,3,3,3,3,6,3,3,3,3,3,3,3,3,3,3,3,3,3,3,3,3,3,3,3,3,3,3,3,12,3,3,3,3,3,3,3,3,3,3,3,3],[3,3,3,3,3,3,3,3,3,3,3,3,3,27,3,3,3,3,3,3,3,3,3,3,3,3,3,6,3,3,3,3,3,3,3,9,12,3,3,3,3,3,3,3,9,3,3,3,3,3,3,3,3,3,3,3,3,3,3,3,3,3,3,3,6,6,3,3,6,3,3,3,3,3,6,3,3,3,3,3,3,3,3,3,9,3,3,6,3,3,3,3,3,3,3,3,3,3,3,3,3,3,3,3,3,3,3,3,3,3,3,3,3,3,3,3,3,3,3,3,3,3,3,3,3,3,3,3,3,3,3,6,3,18,3,3,3,3,3,3,3,3,3,3,3,3,3,3,3,3,3,3,3,3,3,3,3,3,3,3,3,3,9,3,3,3,3,3,3,3,3,3,3,3,3,3,3,3,3,3,3,6,3,3,3,3,3,3,3,3,3,3,3,3,3,3,3,3,3,3,3,3,3,3,3,12,3,3,3,3,3,3,3,3,3,3,3,3],[3,3,3,3,3,3,3,3,3,3,3,3,3,27,3,3,3,3,3,3,3,3,3,3,3,3,3,6,3,3,3,3,3,3,3,9,12,3,3,3,3,3,3,3,9,3,3,3,3,3,3,3,3,3,3,3,3,3,3,3,3,3,3,3,6,6,3,3,6,3,3,3,3,3,6,3,3,3,3,3,3,3,3,3,9,3,3,6,3,3,3,3,3,3,3,3,3,3,3,3,3,3,3,3,3,3,3,3,3,3,3,3,3,3,3,3,3,3,3,3,3,3,3,3,3,3,3,3,3,3,3,6,3,18,3,3,3,3,3,3,3,3,3,3,3,3,3,3,3,3,3,3,3,3,3,3,3,3,3,3,3,3,9,3,3,3,3,3,3,3,3,3,3,3,3,3,3,3,3,3,3,6,3,3,3,3,3,3,3,3,3,3,3,3,3,3,3,3,3,3,3,3,3,3,3,12,3,3,3,3,3,3,3,3,3,3,3,3],[3,3,3,3,3,3,3,3,3,3,3,3,3,27,3,3,3,3,3,3,3,3,3,3,3,3,3,6,3,3,3,3,3,3,3,9,12,3,3,3,3,3,3,3,9,3,3,3,3,3,3,3,3,3,3,3,3,3,3,3,3,3,3,3,6,6,3,3,6,3,3,3,3,3,6,3,3,3,3,3,3,3,3,3,9,3,3,6,3,3,3,3,3,3,3,3,3,3,3,3,3,3,3,3,3,3,3,3,3,3,3,3,3,3,3,3,3,3,3,3,3,3,3,3,3,3,3,3,3,3,3,6,3,18,3,3,3,3,3,3,3,3,3,3,3,3,3,3,3,3,3,3,3,3,3,3,3,3,3,3,3,3,9,3,3,3,3,3,3,3,3,3,3,3,3,3,3,3,3,3,3,6,3,3,3,3,3,3,3,3,3,3,3,3,3,3,3,3,3,3,3,3,3,3,3,12,3,3,3,3,3,3,3,3,3,3,3,3],[3,3,3,3,3,3,3,3,3,3,3,3,3,27,3,3,3,3,3,3,3,3,3,3,3,3,3,6,3,3,3,3,3,3,3,9,12,3,3,3,3,3,3,3,9,3,3,3,3,3,3,3,3,3,3,3,3,3,3,3,3,3,3,3,6,6,3,3,6,3,3,3,3,3,6,3,3,3,3,3,3,3,3,3,9,3,3,6,3,3,3,3,3,3,3,3,3,3,3,3,3,3,3,3,3,3,3,3,3,3,3,3,3,3,3,3,3,3,3,3,3,3,3,3,3,3,3,3,3,3,3,6,3,18,3,3,3,3,3,3,3,3,3,3,3,3,3,3,3,3,3,3,3,3,3,3,3,3,3,3,3,3,9,3,3,3,3,3,3,3,3,3,3,3,3,3,3,3,3,3,3,6,3,3,3,3,3,3,3,3,3,3,3,3,3,3,3,3,3,3,3,3,3,3,3,12,3,3,3,3,3,3,3,3,3,3,3,3],[3,3,3,3,3,3,3,3,3,3,3,3,3,27,3,3,3,3,3,3,3,3,3,3,3,3,3,6,3,3,3,3,3,3,3,9,12,3,3,3,3,3,3,3,9,3,3,3,3,3,3,3,3,3,3,3,3,3,3,3,3,3,3,3,6,6,3,3,6,3,3,3,3,3,6,3,3,3,3,3,3,3,3,3,9,3,3,6,3,3,3,3,3,3,3,3,3,3,3,3,3,3,3,3,3,3,3,3,3,3,3,3,3,3,3,3,3,3,3,3,3,3,3,3,3,3,3,3,3,3,3,6,3,18,3,3,3,3,3,3,3,3,3,3,3,3,3,3,3,3,3,3,3,3,3,3,3,3,3,3,3,3,9,3,3,3,3,3,3,3,3,3,3,3,3,3,3,3,3,3,3,6,3,3,3,3,3,3,3,3,3,3,3,3,3,3,3,3,3,3,3,3,3,3,3,12,3,3,3,3,3,3,3,3,3,3,3,3],[3,3,3,3,3,3,3,3,3,3,3,3,3,27,3,3,3,3,3,3,3,3,3,3,3,3,3,6,3,3,3,3,3,3,3,9,12,3,3,3,3,3,3,3,9,3,3,3,3,3,3,3,3,3,3,3,3,3,3,3,3,3,3,3,6,6,3,3,6,3,3,3,3,3,6,3,3,3,3,3,3,3,3,3,9,3,3,6,3,3,3,3,3,3,3,3,3,3,3,3,3,3,3,3,3,3,3,3,3,3,3,3,3,3,3,3,3,3,3,3,3,3,3,3,3,3,3,3,3,3,3,6,3,18,3,3,3,3,3,3,3,3,3,3,3,3,3,3,3,3,3,3,3,3,3,3,3,3,3,3,3,3,9,3,3,3,3,3,3,3,3,3,3,3,3,3,3,3,3,3,3,6,3,3,3,3,3,3,3,3,3,3,3,3,3,3,3,3,3,3,3,3,3,3,3,12,3,3,3,3,3,3,3,3,3,3,3,3],[3,3,3,3,3,3,3,3,3,3,3,3,3,27,3,3,3,3,3,3,3,3,3,3,3,3,3,6,3,3,3,3,3,3,3,9,12,3,3,3,3,3,3,3,9,3,3,3,3,3,3,3,3,3,3,3,3,3,3,3,3,3,3,3,6,6,3,3,6,3,3,3,3,3,6,3,3,3,3,3,3,3,3,3,9,3,3,6,3,3,3,3,3,3,3,3,3,3,3,3,3,3,3,3,3,3,3,3,3,3,3,3,3,3,3,3,3,3,3,3,3,3,3,3,3,3,3,3,3,3,3,6,3,18,3,3,3,3,3,3,3,3,3,3,3,3,3,3,3,3,3,3,3,3,3,3,3,3,3,3,3,3,9,3,3,3,3,3,3,3,3,3,3,3,3,3,3,3,3,3,3,6,3,3,3,3,3,3,3,3,3,3,3,3,3,3,3,3,3,3,3,3,3,3,3,12,3,3,3,3,3,3,3,3,3,3,3,3],[3,3,3,3,3,3,3,3,3,3,3,3,3,27,3,3,3,3,3,3,3,3,3,3,3,3,3,6,3,3,3,3,3,3,3,9,12,3,3,3,3,3,3,3,9,3,3,3,3,3,3,3,3,3,3,3,3,3,3,3,3,3,3,3,6,6,3,3,6,3,3,3,3,3,6,3,3,3,3,3,3,3,3,3,9,3,3,6,3,3,3,3,3,3,3,3,3,3,3,3,3,3,3,3,3,3,3,3,3,3,3,3,3,3,3,3,3,3,3,3,3,3,3,3,3,3,3,3,3,3,3,6,3,18,3,3,3,3,3,3,3,3,3,3,3,3,3,3,3,3,3,3,3,3,3,3,3,3,3,3,3,3,9,3,3,3,3,3,3,3,3,3,3,3,3,3,3,3,3,3,3,6,3,3,3,3,3,3,3,3,3,3,3,3,3,3,3,3,3,3,3,3,3,3,3,12,3,3,3,3,3,3,3,3,3,3,3,3],[3,3,3,3,3,3,3,3,3,3,3,3,3,27,3,3,3,3,3,3,3,3,3,3,3,3,3,6,3,3,3,3,3,3,3,9,12,3,3,3,3,3,3,3,9,3,3,3,3,3,3,3,3,3,3,3,3,3,3,3,3,3,3,3,6,6,3,3,6,3,3,3,3,3,6,3,3,3,3,3,3,3,3,3,9,3,3,6,3,3,3,3,3,3,3,3,3,3,3,3,3,3,3,3,3,3,3,3,3,3,3,3,3,3,3,3,3,3,3,3,3,3,3,3,3,3,3,3,3,3,3,6,3,18,3,3,3,3,3,3,3,3,3,3,3,3,3,3,3,3,3,3,3,3,3,3,3,3,3,3,3,3,9,3,3,3,3,3,3,3,3,3,3,3,3,3,3,3,3,3,3,6,3,3,3,3,3,3,3,3,3,3,3,3,3,3,3,3,3,3,3,3,3,3,3,12,3,3,3,3,3,3,3,3,3,3,3,3],[3,3,3,3,3,3,3,3,3,3,3,3,3,27,3,3,3,3,3,3,3,3,3,3,3,3,3,6,3,3,3,3,3,3,3,9,12,3,3,3,3,3,3,3,9,3,3,3,3,3,3,3,3,3,3,3,3,3,3,3,3,3,3,3,6,6,3,3,6,3,3,3,3,3,6,3,3,3,3,3,3,3,3,3,9,3,3,6,3,3,3,3,3,3,3,3,3,3,3,3,3,3,3,3,3,3,3,3,3,3,3,3,3,3,3,3,3,3,3,3,3,3,3,3,3,3,3,3,3,3,3,6,3,18,3,3,3,3,3,3,3,3,3,3,3,3,3,3,3,3,3,3,3,3,3,3,3,3,3,3,3,3,9,3,3,3,3,3,3,3,3,3,3,3,3,3,3,3,3,3,3,6,3,3,3,3,3,3,3,3,3,3,3,3,3,3,3,3,3,3,3,3,3,3,3,12,3,3,3,3,3,3,3,3,3,3,3,3],[3,3,3,3,3,3,3,3,3,3,3,3,3,27,3,3,3,3,3,3,3,3,3,3,3,3,3,6,3,3,3,3,3,3,3,9,12,3,3,3,3,3,3,3,9,3,3,3,3,3,3,3,3,3,3,3,3,3,3,3,3,3,3,3,6,6,3,3,6,3,3,3,3,3,6,3,3,3,3,3,3,3,3,3,9,3,3,6,3,3,3,3,3,3,3,3,3,3,3,3,3,3,3,3,3,3,3,3,3,3,3,3,3,3,3,3,3,3,3,3,3,3,3,3,3,3,3,3,3,3,3,6,3,18,3,3,3,3,3,3,3,3,3,3,3,3,3,3,3,3,3,3,3,3,3,3,3,3,3,3,3,3,9,3,3,3,3,3,3,3,3,3,3,3,3,3,3,3,3,3,3,6,3,3,3,3,3,3,3,3,3,3,3,3,3,3,3,3,3,3,3,3,3,3,3,12,3,3,3,3,3,3,3,3,3,3,3,3],[3,3,3,3,3,3,3,3,3,3,3,3,3,27,3,3,3,3,3,3,3,3,3,3,3,3,3,6,3,3,3,3,3,3,3,9,12,3,3,3,3,3,3,3,9,3,3,3,3,3,3,3,3,3,3,3,3,3,3,3,3,3,3,3,6,6,3,3,6,3,3,3,3,3,6,3,3,3,3,3,3,3,3,3,9,3,3,6,3,3,3,3,3,3,3,3,3,3,3,3,3,3,3,3,3,3,3,3,3,3,3,3,3,3,3,3,3,3,3,3,3,3,3,3,3,3,3,3,3,3,3,6,3,18,3,3,3,3,3,3,3,3,3,3,3,3,3,3,3,3,3,3,3,3,3,3,3,3,3,3,3,3,9,3,3,3,3,3,3,3,3,3,3,3,3,3,3,3,3,3,3,6,3,3,3,3,3,3,3,3,3,3,3,3,3,3,3,3,3,3,3,3,3,3,3,12,3,3,3,3,3,3,3,3,3,3,3,3],[3,3,3,3,3,3,3,3,3,3,3,3,3,27,3,3,3,3,3,3,3,3,3,3,3,3,3,6,3,3,3,3,3,3,3,9,12,3,3,3,3,3,3,3,9,3,3,3,3,3,3,3,3,3,3,3,3,3,3,3,3,3,3,3,6,6,3,3,6,3,3,3,3,3,6,3,3,3,3,3,3,3,3,3,9,3,3,6,3,3,3,3,3,3,3,3,3,3,3,3,3,3,3,3,3,3,3,3,3,3,3,3,3,3,3,3,3,3,3,3,3,3,3,3,3,3,3,3,3,3,3,6,3,18,3,3,3,3,3,3,3,3,3,3,3,3,3,3,3,3,3,3,3,3,3,3,3,3,3,3,3,3,9,3,3,3,3,3,3,3,3,3,3,3,3,3,3,3,3,3,3,6,3,3,3,3,3,3,3,3,3,3,3,3,3,3,3,3,3,3,3,3,3,3,3,12,3,3,3,3,3,3,3,3,3,3,3,3],[3,3,3,3,3,3,3,3,3,3,3,3,3,27,3,3,3,3,3,3,3,3,3,3,3,3,3,6,3,3,3,3,3,3,3,9,12,3,3,3,3,3,3,3,9,3,3,3,3,3,3,3,3,3,3,3,3,3,3,3,3,3,3,3,6,6,3,3,6,3,3,3,3,3,6,3,3,3,3,3,3,3,3,3,9,3,3,6,3,3,3,3,3,3,3,3,3,3,3,3,3,3,3,3,3,3,3,3,3,3,3,3,3,3,3,3,3,3,3,3,3,3,3,3,3,3,3,3,3,3,3,6,3,18,3,3,3,3,3,3,3,3,3,3,3,3,3,3,3,3,3,3,3,3,3,3,3,3,3,3,3,3,9,3,3,3,3,3,3,3,3,3,3,3,3,3,3,3,3,3,3,6,3,3,3,3,3,3,3,3,3,3,3,3,3,3,3,3,3,3,3,3,3,3,3,12,3,3,3,3,3,3,3,3,3,3,3,3],[3,3,3,3,3,3,3,3,3,3,3,3,3,27,3,3,3,3,3,3,3,3,3,3,3,3,3,6,3,3,3,3,3,3,3,9,12,3,3,3,3,3,3,3,9,3,3,3,3,3,3,3,3,3,3,3,3,3,3,3,3,3,3,3,6,6,3,3,6,3,3,3,3,3,6,3,3,3,3,3,3,3,3,3,9,3,3,6,3,3,3,3,3,3,3,3,3,3,3,3,3,3,3,3,3,3,3,3,3,3,3,3,3,3,3,3,3,3,3,3,3,3,3,3,3,3,3,3,3,3,3,6,3,18,3,3,3,3,3,3,3,3,3,3,3,3,3,3,3,3,3,3,3,3,3,3,3,3,3,3,3,3,9,3,3,3,3,3,3,3,3,3,3,3,3,3,3,3,3,3,3,6,3,3,3,3,3,3,3,3,3,3,3,3,3,3,3,3,3,3,3,3,3,3,3,12,3,3,3,3,3,3,3,3,3,3,3,3],[3,3,3,3,3,3,3,3,3,3,3,3,3,27,3,3,3,3,3,3,3,3,3,3,3,3,3,6,3,3,3,3,3,3,3,9,12,3,3,3,3,3,3,3,9,3,3,3,3,3,3,3,3,3,3,3,3,3,3,3,3,3,3,3,6,6,3,3,6,3,3,3,3,3,6,3,3,3,3,3,3,3,3,3,9,3,3,6,3,3,3,3,3,3,3,3,3,3,3,3,3,3,3,3,3,3,3,3,3,3,3,3,3,3,3,3,3,3,3,3,3,3,3,3,3,3,3,3,3,3,3,6,3,18,3,3,3,3,3,3,3,3,3,3,3,3,3,3,3,3,3,3,3,3,3,3,3,3,3,3,3,3,9,3,3,3,3,3,3,3,3,3,3,3,3,3,3,3,3,3,3,6,3,3,3,3,3,3,3,3,3,3,3,3,3,3,3,3,3,3,3,3,3,3,3,12,3,3,3,3,3,3,3,3,3,3,3,3],[3,3,3,3,3,3,3,3,3,3,3,3,3,27,3,3,3,3,3,3,3,3,3,3,3,3,3,6,3,3,3,3,3,3,3,9,12,3,3,3,3,3,3,3,9,3,3,3,3,3,3,3,3,3,3,3,3,3,3,3,3,3,3,3,6,6,3,3,6,3,3,3,3,3,6,3,3,3,3,3,3,3,3,3,9,3,3,6,3,3,3,3,3,3,3,3,3,3,3,3,3,3,3,3,3,3,3,3,3,3,3,3,3,3,3,3,3,3,3,3,3,3,3,3,3,3,3,3,3,3,3,6,3,18,3,3,3,3,3,3,3,3,3,3,3,3,3,3,3,3,3,3,3,3,3,3,3,3,3,3,3,3,9,3,3,3,3,3,3,3,3,3,3,3,3,3,3,3,3,3,3,6,3,3,3,3,3,3,3,3,3,3,3,3,3,3,3,3,3,3,3,3,3,3,3,12,3,3,3,3,3,3,3,3,3,3,3,3],[3,3,3,3,3,3,3,3,3,3,3,3,3,27,3,3,3,3,3,3,3,3,3,3,3,3,3,6,3,3,3,3,3,3,3,9,12,3,3,3,3,3,3,3,9,3,3,3,3,3,3,3,3,3,3,3,3,3,3,3,3,3,3,3,6,6,3,3,6,3,3,3,3,3,6,3,3,3,3,3,3,3,3,3,9,3,3,6,3,3,3,3,3,3,3,3,3,3,3,3,3,3,3,3,3,3,3,3,3,3,3,3,3,3,3,3,3,3,3,3,3,3,3,3,3,3,3,3,3,3,3,6,3,18,3,3,3,3,3,3,3,3,3,3,3,3,3,3,3,3,3,3,3,3,3,3,3,3,3,3,3,3,9,3,3,3,3,3,3,3,3,3,3,3,3,3,3,3,3,3,3,6,3,3,3,3,3,3,3,3,3,3,3,3,3,3,3,3,3,3,3,3,3,3,3,12,3,3,3,3,3,3,3,3,3,3,3,3],[3,3,3,3,3,3,3,3,3,3,3,3,3,27,3,3,3,3,3,3,3,3,3,3,3,3,3,6,3,3,3,3,3,3,3,9,12,3,3,3,3,3,3,3,9,3,3,3,3,3,3,3,3,3,3,3,3,3,3,3,3,3,3,3,6,6,3,3,6,3,3,3,3,3,6,3,3,3,3,3,3,3,3,3,9,3,3,6,3,3,3,3,3,3,3,3,3,3,3,3,3,3,3,3,3,3,3,3,3,3,3,3,3,3,3,3,3,3,3,3,3,3,3,3,3,3,3,3,3,3,3,6,3,18,3,3,3,3,3,3,3,3,3,3,3,3,3,3,3,3,3,3,3,3,3,3,3,3,3,3,3,3,9,3,3,3,3,3,3,3,3,3,3,3,3,3,3,3,3,3,3,6,3,3,3,3,3,3,3,3,3,3,3,3,3,3,3,3,3,3,3,3,3,3,3,12,3,3,3,3,3,3,3,3,3,3,3,3],[3,3,3,3,3,3,3,3,3,3,3,3,3,27,3,3,3,3,3,3,3,3,3,3,3,3,3,6,3,3,3,3,3,3,3,9,12,3,3,3,3,3,3,3,9,3,3,3,3,3,3,3,3,3,3,3,3,3,3,3,3,3,3,3,6,6,3,3,6,3,3,3,3,3,6,3,3,3,3,3,3,3,3,3,9,3,3,6,3,3,3,3,3,3,3,3,3,3,3,3,3,3,3,3,3,3,3,3,3,3,3,3,3,3,3,3,3,3,3,3,3,3,3,3,3,3,3,3,3,3,3,6,3,18,3,3,3,3,3,3,3,3,3,3,3,3,3,3,3,3,3,3,3,3,3,3,3,3,3,3,3,3,9,3,3,3,3,3,3,3,3,3,3,3,3,3,3,3,3,3,3,6,3,3,3,3,3,3,3,3,3,3,3,3,3,3,3,3,3,3,3,3,3,3,3,12,3,3,3,3,3,3,3,3,3,3,3,3],[3,3,3,3,3,3,3,3,3,3,3,3,3,27,3,3,3,3,3,3,3,3,3,3,3,3,3,6,3,3,3,3,3,3,3,9,12,3,3,3,3,3,3,3,9,3,3,3,3,3,3,3,3,3,3,3,3,3,3,3,3,3,3,3,6,6,3,3,6,3,3,3,3,3,6,3,3,3,3,3,3,3,3,3,9,3,3,6,3,3,3,3,3,3,3,3,3,3,3,3,3,3,3,3,3,3,3,3,3,3,3,3,3,3,3,3,3,3,3,3,3,3,3,3,3,3,3,3,3,3,3,6,3,18,3,3,3,3,3,3,3,3,3,3,3,3,3,3,3,3,3,3,3,3,3,3,3,3,3,3,3,3,9,3,3,3,3,3,3,3,3,3,3,3,3,3,3,3,3,3,3,6,3,3,3,3,3,3,3,3,3,3,3,3,3,3,3,3,3,3,3,3,3,3,3,12,3,3,3,3,3,3,3,3,3,3,3,3],[3,3,3,3,3,3,3,3,3,3,3,3,3,27,3,3,3,3,3,3,3,3,3,3,3,3,3,6,3,3,3,3,3,3,3,9,12,3,3,3,3,3,3,3,9,3,3,3,3,3,3,3,3,3,3,3,3,3,3,3,3,3,3,3,6,6,3,3,6,3,3,3,3,3,6,3,3,3,3,3,3,3,3,3,9,3,3,6,3,3,3,3,3,3,3,3,3,3,3,3,3,3,3,3,3,3,3,3,3,3,3,3,3,3,3,3,3,3,3,3,3,3,3,3,3,3,3,3,3,3,3,6,3,18,3,3,3,3,3,3,3,3,3,3,3,3,3,3,3,3,3,3,3,3,3,3,3,3,3,3,3,3,9,3,3,3,3,3,3,3,3,3,3,3,3,3,3,3,3,3,3,6,3,3,3,3,3,3,3,3,3,3,3,3,3,3,3,3,3,3,3,3,3,3,3,12,3,3,3,3,3,3,3,3,3,3,3,3],[3,3,3,3,3,3,3,3,3,3,3,3,3,27,3,3,3,3,3,3,3,3,3,3,3,3,3,6,3,3,3,3,3,3,3,9,12,3,3,3,3,3,3,3,9,3,3,3,3,3,3,3,3,3,3,3,3,3,3,3,3,3,3,3,6,6,3,3,6,3,3,3,3,3,6,3,3,3,3,3,3,3,3,3,9,3,3,6,3,3,3,3,3,3,3,3,3,3,3,3,3,3,3,3,3,3,3,3,3,3,3,3,3,3,3,3,3,3,3,3,3,3,3,3,3,3,3,3,3,3,3,6,3,18,3,3,3,3,3,3,3,3,3,3,3,3,3,3,3,3,3,3,3,3,3,3,3,3,3,3,3,3,9,3,3,3,3,3,3,3,3,3,3,3,3,3,3,3,3,3,3,6,3,3,3,3,3,3,3,3,3,3,3,3,3,3,3,3,3,3,3,3,3,3,3,12,3,3,3,3,3,3,3,3,3,3,3,3],[3,3,3,3,3,3,3,3,3,3,3,3,3,27,3,3,3,3,3,3,3,3,3,3,3,3,3,6,3,3,3,3,3,3,3,9,12,3,3,3,3,3,3,3,9,3,3,3,3,3,3,3,3,3,3,3,3,3,3,3,3,3,3,3,6,6,3,3,6,3,3,3,3,3,6,3,3,3,3,3,3,3,3,3,9,3,3,6,3,3,3,3,3,3,3,3,3,3,3,3,3,3,3,3,3,3,3,3,3,3,3,3,3,3,3,3,3,3,3,3,3,3,3,3,3,3,3,3,3,3,3,6,3,18,3,3,3,3,3,3,3,3,3,3,3,3,3,3,3,3,3,3,3,3,3,3,3,3,3,3,3,3,9,3,3,3,3,3,3,3,3,3,3,3,3,3,3,3,3,3,3,6,3,3,3,3,3,3,3,3,3,3,3,3,3,3,3,3,3,3,3,3,3,3,3,12,3,3,3,3,3,3,3,3,3,3,3,3],[3,3,3,3,3,3,3,3,3,3,3,3,3,27,3,3,3,3,3,3,3,3,3,3,3,3,3,6,3,3,3,3,3,3,3,9,12,3,3,3,3,3,3,3,9,3,3,3,3,3,3,3,3,3,3,3,3,3,3,3,3,3,3,3,6,6,3,3,6,3,3,3,3,3,6,3,3,3,3,3,3,3,3,3,9,3,3,6,3,3,3,3,3,3,3,3,3,3,3,3,3,3,3,3,3,3,3,3,3,3,3,3,3,3,3,3,3,3,3,3,3,3,3,3,3,3,3,3,3,3,3,6,3,18,3,3,3,3,3,3,3,3,3,3,3,3,3,3,3,3,3,3,3,3,3,3,3,3,3,3,3,3,9,3,3,3,3,3,3,3,3,3,3,3,3,3,3,3,3,3,3,6,3,3,3,3,3,3,3,3,3,3,3,3,3,3,3,3,3,3,3,3,3,3,3,12,3,3,3,3,3,3,3,3,3,3,3,3],[3,3,3,3,3,3,3,3,3,3,3,3,3,27,3,3,3,3,3,3,3,3,3,3,3,3,3,6,3,3,3,3,3,3,3,9,12,3,3,3,3,3,3,3,9,3,3,3,3,3,3,3,3,3,3,3,3,3,3,3,3,3,3,3,6,6,3,3,6,3,3,3,3,3,6,3,3,3,3,3,3,3,3,3,9,3,3,6,3,3,3,3,3,3,3,3,3,3,3,3,3,3,3,3,3,3,3,3,3,3,3,3,3,3,3,3,3,3,3,3,3,3,3,3,3,3,3,3,3,3,3,6,3,18,3,3,3,3,3,3,3,3,3,3,3,3,3,3,3,3,3,3,3,3,3,3,3,3,3,3,3,3,9,3,3,3,3,3,3,3,3,3,3,3,3,3,3,3,3,3,3,6,3,3,3,3,3,3,3,3,3,3,3,3,3,3,3,3,3,3,3,3,3,3,3,12,3,3,3,3,3,3,3,3,3,3,3,3],[3,3,3,3,3,3,3,3,3,3,3,3,3,27,3,3,3,3,3,3,3,3,3,3,3,3,3,6,3,3,3,3,3,3,3,9,12,3,3,3,3,3,3,3,9,3,3,3,3,3,3,3,3,3,3,3,3,3,3,3,3,3,3,3,6,6,3,3,6,3,3,3,3,3,6,3,3,3,3,3,3,3,3,3,9,3,3,6,3,3,3,3,3,3,3,3,3,3,3,3,3,3,3,3,3,3,3,3,3,3,3,3,3,3,3,3,3,3,3,3,3,3,3,3,3,3,3,3,3,3,3,6,3,18,3,3,3,3,3,3,3,3,3,3,3,3,3,3,3,3,3,3,3,3,3,3,3,3,3,3,3,3,9,3,3,3,3,3,3,3,3,3,3,3,3,3,3,3,3,3,3,6,3,3,3,3,3,3,3,3,3,3,3,3,3,3,3,3,3,3,3,3,3,3,3,12,3,3,3,3,3,3,3,3,3,3,3,3],[3,3,3,3,3,3,3,3,3,3,3,3,3,27,3,3,3,3,3,3,3,3,3,3,3,3,3,6,3,3,3,3,3,3,3,9,12,3,3,3,3,3,3,3,9,3,3,3,3,3,3,3,3,3,3,3,3,3,3,3,3,3,3,3,6,6,3,3,6,3,3,3,3,3,6,3,3,3,3,3,3,3,3,3,9,3,3,6,3,3,3,3,3,3,3,3,3,3,3,3,3,3,3,3,3,3,3,3,3,3,3,3,3,3,3,3,3,3,3,3,3,3,3,3,3,3,3,3,3,3,3,6,3,18,3,3,3,3,3,3,3,3,3,3,3,3,3,3,3,3,3,3,3,3,3,3,3,3,3,3,3,3,9,3,3,3,3,3,3,3,3,3,3,3,3,3,3,3,3,3,3,6,3,3,3,3,3,3,3,3,3,3,3,3,3,3,3,3,3,3,3,3,3,3,3,12,3,3,3,3,3,3,3,3,3,3,3,3],[3,3,3,3,3,3,3,3,3,3,3,3,3,27,3,3,3,3,3,3,3,3,3,3,3,3,3,6,3,3,3,3,3,3,3,9,12,3,3,3,3,3,3,3,9,3,3,3,3,3,3,3,3,3,3,3,3,3,3,3,3,3,3,3,6,6,3,3,6,3,3,3,3,3,6,3,3,3,3,3,3,3,3,3,9,3,3,6,3,3,3,3,3,3,3,3,3,3,3,3,3,3,3,3,3,3,3,3,3,3,3,3,3,3,3,3,3,3,3,3,3,3,3,3,3,3,3,3,3,3,3,6,3,18,3,3,3,3,3,3,3,3,3,3,3,3,3,3,3,3,3,3,3,3,3,3,3,3,3,3,3,3,9,3,3,3,3,3,3,3,3,3,3,3,3,3,3,3,3,3,3,6,3,3,3,3,3,3,3,3,3,3,3,3,3,3,3,3,3,3,3,3,3,3,3,12,3,3,3,3,3,3,3,3,3,3,3,3],[3,3,3,3,3,3,3,3,3,3,3,3,3,27,3,3,3,3,3,3,3,3,3,3,3,3,3,6,3,3,3,3,3,3,3,9,12,3,3,3,3,3,3,3,9,3,3,3,3,3,3,3,3,3,3,3,3,3,3,3,3,3,3,3,6,6,3,3,6,3,3,3,3,3,6,3,3,3,3,3,3,3,3,3,9,3,3,6,3,3,3,3,3,3,3,3,3,3,3,3,3,3,3,3,3,3,3,3,3,3,3,3,3,3,3,3,3,3,3,3,3,3,3,3,3,3,3,3,3,3,3,6,3,18,3,3,3,3,3,3,3,3,3,3,3,3,3,3,3,3,3,3,3,3,3,3,3,3,3,3,3,3,9,3,3,3,3,3,3,3,3,3,3,3,3,3,3,3,3,3,3,6,3,3,3,3,3,3,3,3,3,3,3,3,3,3,3,3,3,3,3,3,3,3,3,12,3,3,3,3,3,3,3,3,3,3,3,3],[3,3,3,3,3,3,3,3,3,3,3,3,3,27,3,3,3,3,3,3,3,3,3,3,3,3,3,6,3,3,3,3,3,3,3,9,12,3,3,3,3,3,3,3,9,3,3,3,3,3,3,3,3,3,3,3,3,3,3,3,3,3,3,3,6,6,3,3,6,3,3,3,3,3,6,3,3,3,3,3,3,3,3,3,9,3,3,6,3,3,3,3,3,3,3,3,3,3,3,3,3,3,3,3,3,3,3,3,3,3,3,3,3,3,3,3,3,3,3,3,3,3,3,3,3,3,3,3,3,3,3,6,3,18,3,3,3,3,3,3,3,3,3,3,3,3,3,3,3,3,3,3,3,3,3,3,3,3,3,3,3,3,9,3,3,3,3,3,3,3,3,3,3,3,3,3,3,3,3,3,3,6,3,3,3,3,3,3,3,3,3,3,3,3,3,3,3,3,3,3,3,3,3,3,3,12,3,3,3,3,3,3,3,3,3,3,3,3],[3,3,3,3,3,3,3,3,3,3,3,3,3,27,3,3,3,3,3,3,3,3,3,3,3,3,3,6,3,3,3,3,3,3,3,9,12,3,3,3,3,3,3,3,9,3,3,3,3,3,3,3,3,3,3,3,3,3,3,3,3,3,3,3,6,6,3,3,6,3,3,3,3,3,6,3,3,3,3,3,3,3,3,3,9,3,3,6,3,3,3,3,3,3,3,3,3,3,3,3,3,3,3,3,3,3,3,3,3,3,3,3,3,3,3,3,3,3,3,3,3,3,3,3,3,3,3,3,3,3,3,6,3,18,3,3,3,3,3,3,3,3,3,3,3,3,3,3,3,3,3,3,3,3,3,3,3,3,3,3,3,3,9,3,3,3,3,3,3,3,3,3,3,3,3,3,3,3,3,3,3,6,3,3,3,3,3,3,3,3,3,3,3,3,3,3,3,3,3,3,3,3,3,3,3,12,3,3,3,3,3,3,3,3,3,3,3,3],[3,3,3,3,3,3,3,3,3,3,3,3,3,27,3,3,3,3,3,3,3,3,3,3,3,3,3,6,3,3,3,3,3,3,3,9,12,3,3,3,3,3,3,3,9,3,3,3,3,3,3,3,3,3,3,3,3,3,3,3,3,3,3,3,6,6,3,3,6,3,3,3,3,3,6,3,3,3,3,3,3,3,3,3,9,3,3,6,3,3,3,3,3,3,3,3,3,3,3,3,3,3,3,3,3,3,3,3,3,3,3,3,3,3,3,3,3,3,3,3,3,3,3,3,3,3,3,3,3,3,3,6,3,18,3,3,3,3,3,3,3,3,3,3,3,3,3,3,3,3,3,3,3,3,3,3,3,3,3,3,3,3,9,3,3,3,3,3,3,3,3,3,3,3,3,3,3,3,3,3,3,6,3,3,3,3,3,3,3,3,3,3,3,3,3,3,3,3,3,3,3,3,3,3,3,12,3,3,3,3,3,3,3,3,3,3,3,3],[3,3,3,3,3,3,3,3,3,3,3,3,3,27,3,3,3,3,3,3,3,3,3,3,3,3,3,6,3,3,3,3,3,3,3,9,12,3,3,3,3,3,3,3,9,3,3,3,3,3,3,3,3,3,3,3,3,3,3,3,3,3,3,3,6,6,3,3,6,3,3,3,3,3,6,3,3,3,3,3,3,3,3,3,9,3,3,6,3,3,3,3,3,3,3,3,3,3,3,3,3,3,3,3,3,3,3,3,3,3,3,3,3,3,3,3,3,3,3,3,3,3,3,3,3,3,3,3,3,3,3,6,3,18,3,3,3,3,3,3,3,3,3,3,3,3,3,3,3,3,3,3,3,3,3,3,3,3,3,3,3,3,9,3,3,3,3,3,3,3,3,3,3,3,3,3,3,3,3,3,3,6,3,3,3,3,3,3,3,3,3,3,3,3,3,3,3,3,3,3,3,3,3,3,3,12,3,3,3,3,3,3,3,3,3,3,3,3],[3,3,3,3,3,3,3,3,3,3,3,3,3,27,3,3,3,3,3,3,3,3,3,3,3,3,3,6,3,3,3,3,3,3,3,9,12,3,3,3,3,3,3,3,9,3,3,3,3,3,3,3,3,3,3,3,3,3,3,3,3,3,3,3,6,6,3,3,6,3,3,3,3,3,6,3,3,3,3,3,3,3,3,3,9,3,3,6,3,3,3,3,3,3,3,3,3,3,3,3,3,3,3,3,3,3,3,3,3,3,3,3,3,3,3,3,3,3,3,3,3,3,3,3,3,3,3,3,3,3,3,6,3,18,3,3,3,3,3,3,3,3,3,3,3,3,3,3,3,3,3,3,3,3,3,3,3,3,3,3,3,3,9,3,3,3,3,3,3,3,3,3,3,3,3,3,3,3,3,3,3,6,3,3,3,3,3,3,3,3,3,3,3,3,3,3,3,3,3,3,3,3,3,3,3,12,3,3,3,3,3,3,3,3,3,3,3,3],[3,3,3,3,3,3,3,3,3,3,3,3,3,27,3,3,3,3,3,3,3,3,3,3,3,3,3,6,3,3,3,3,3,3,3,9,12,3,3,3,3,3,3,3,9,3,3,3,3,3,3,3,3,3,3,3,3,3,3,3,3,3,3,3,6,6,3,3,6,3,3,3,3,3,6,3,3,3,3,3,3,3,3,3,9,3,3,6,3,3,3,3,3,3,3,3,3,3,3,3,3,3,3,3,3,3,3,3,3,3,3,3,3,3,3,3,3,3,3,3,3,3,3,3,3,3,3,3,3,3,3,6,3,18,3,3,3,3,3,3,3,3,3,3,3,3,3,3,3,3,3,3,3,3,3,3,3,3,3,3,3,3,9,3,3,3,3,3,3,3,3,3,3,3,3,3,3,3,3,3,3,6,3,3,3,3,3,3,3,3,3,3,3,3,3,3,3,3,3,3,3,3,3,3,3,12,3,3,3,3,3,3,3,3,3,3,3,3],[3,3,3,3,3,3,3,3,3,3,3,3,3,27,3,3,3,3,3,3,3,3,3,3,3,3,3,6,3,3,3,3,3,3,3,9,12,3,3,3,3,3,3,3,9,3,3,3,3,3,3,3,3,3,3,3,3,3,3,3,3,3,3,3,6,6,3,3,6,3,3,3,3,3,6,3,3,3,3,3,3,3,3,3,9,3,3,6,3,3,3,3,3,3,3,3,3,3,3,3,3,3,3,3,3,3,3,3,3,3,3,3,3,3,3,3,3,3,3,3,3,3,3,3,3,3,3,3,3,3,3,6,3,18,3,3,3,3,3,3,3,3,3,3,3,3,3,3,3,3,3,3,3,3,3,3,3,3,3,3,3,3,9,3,3,3,3,3,3,3,3,3,3,3,3,3,3,3,3,3,3,6,3,3,3,3,3,3,3,3,3,3,3,3,3,3,3,3,3,3,3,3,3,3,3,12,3,3,3,3,3,3,3,3,3,3,3,3],[3,3,3,3,3,3,3,3,3,3,3,3,3,27,3,3,3,3,3,3,3,3,3,3,3,3,3,6,3,3,3,3,3,3,3,9,12,3,3,3,3,3,3,3,9,3,3,3,3,3,3,3,3,3,3,3,3,3,3,3,3,3,3,3,6,6,3,3,6,3,3,3,3,3,6,3,3,3,3,3,3,3,3,3,9,3,3,6,3,3,3,3,3,3,3,3,3,3,3,3,3,3,3,3,3,3,3,3,3,3,3,3,3,3,3,3,3,3,3,3,3,3,3,3,3,3,3,3,3,3,3,6,3,18,3,3,3,3,3,3,3,3,3,3,3,3,3,3,3,3,3,3,3,3,3,3,3,3,3,3,3,3,9,3,3,3,3,3,3,3,3,3,3,3,3,3,3,3,3,3,3,6,3,3,3,3,3,3,3,3,3,3,3,3,3,3,3,3,3,3,3,3,3,3,3,12,3,3,3,3,3,3,3,3,3,3,3,3],[3,3,3,3,3,3,3,3,3,3,3,3,3,27,3,3,3,3,3,3,3,3,3,3,3,3,3,6,3,3,3,3,3,3,3,9,12,3,3,3,3,3,3,3,9,3,3,3,3,3,3,3,3,3,3,3,3,3,3,3,3,3,3,3,6,6,3,3,6,3,3,3,3,3,6,3,3,3,3,3,3,3,3,3,9,3,3,6,3,3,3,3,3,3,3,3,3,3,3,3,3,3,3,3,3,3,3,3,3,3,3,3,3,3,3,3,3,3,3,3,3,3,3,3,3,3,3,3,3,3,3,6,3,18,3,3,3,3,3,3,3,3,3,3,3,3,3,3,3,3,3,3,3,3,3,3,3,3,3,3,3,3,9,3,3,3,3,3,3,3,3,3,3,3,3,3,3,3,3,3,3,6,3,3,3,3,3,3,3,3,3,3,3,3,3,3,3,3,3,3,3,3,3,3,3,12,3,3,3,3,3,3,3,3,3,3,3,3],[3,3,3,3,3,3,3,3,3,3,3,3,3,27,3,3,3,3,3,3,3,3,3,3,3,3,3,6,3,3,3,3,3,3,3,9,12,3,3,3,3,3,3,3,9,3,3,3,3,3,3,3,3,3,3,3,3,3,3,3,3,3,3,3,6,6,3,3,6,3,3,3,3,3,6,3,3,3,3,3,3,3,3,3,9,3,3,6,3,3,3,3,3,3,3,3,3,3,3,3,3,3,3,3,3,3,3,3,3,3,3,3,3,3,3,3,3,3,3,3,3,3,3,3,3,3,3,3,3,3,3,6,3,18,3,3,3,3,3,3,3,3,3,3,3,3,3,3,3,3,3,3,3,3,3,3,3,3,3,3,3,3,9,3,3,3,3,3,3,3,3,3,3,3,3,3,3,3,3,3,3,6,3,3,3,3,3,3,3,3,3,3,3,3,3,3,3,3,3,3,3,3,3,3,3,12,3,3,3,3,3,3,3,3,3,3,3,3],[3,3,3,3,3,3,3,3,3,3,3,3,3,27,3,3,3,3,3,3,3,3,3,3,3,3,3,6,3,3,3,3,3,3,3,9,12,3,3,3,3,3,3,3,9,3,3,3,3,3,3,3,3,3,3,3,3,3,3,3,3,3,3,3,6,6,3,3,6,3,3,3,3,3,6,3,3,3,3,3,3,3,3,3,9,3,3,6,3,3,3,3,3,3,3,3,3,3,3,3,3,3,3,3,3,3,3,3,3,3,3,3,3,3,3,3,3,3,3,3,3,3,3,3,3,3,3,3,3,3,3,6,3,18,3,3,3,3,3,3,3,3,3,3,3,3,3,3,3,3,3,3,3,3,3,3,3,3,3,3,3,3,9,3,3,3,3,3,3,3,3,3,3,3,3,3,3,3,3,3,3,6,3,3,3,3,3,3,3,3,3,3,3,3,3,3,3,3,3,3,3,3,3,3,3,12,3,3,3,3,3,3,3,3,3,3,3,3],[3,3,3,3,3,3,3,3,3,3,3,3,3,27,3,3,3,3,3,3,3,3,3,3,3,3,3,6,3,3,3,3,3,3,3,9,12,3,3,3,3,3,3,3,9,3,3,3,3,3,3,3,3,3,3,3,3,3,3,3,3,3,3,3,6,6,3,3,6,3,3,3,3,3,6,3,3,3,3,3,3,3,3,3,9,3,3,6,3,3,3,3,3,3,3,3,3,3,3,3,3,3,3,3,3,3,3,3,3,3,3,3,3,3,3,3,3,3,3,3,3,3,3,3,3,3,3,3,3,3,3,6,3,18,3,3,3,3,3,3,3,3,3,3,3,3,3,3,3,3,3,3,3,3,3,3,3,3,3,3,3,3,9,3,3,3,3,3,3,3,3,3,3,3,3,3,3,3,3,3,3,6,3,3,3,3,3,3,3,3,3,3,3,3,3,3,3,3,3,3,3,3,3,3,3,12,3,3,3,3,3,3,3,3,3,3,3,3],[3,3,3,3,3,3,3,3,3,3,3,3,3,27,3,3,3,3,3,3,3,3,3,3,3,3,3,6,3,3,3,3,3,3,3,9,12,3,3,3,3,3,3,3,9,3,3,3,3,3,3,3,3,3,3,3,3,3,3,3,3,3,3,3,6,6,3,3,6,3,3,3,3,3,6,3,3,3,3,3,3,3,3,3,9,3,3,6,3,3,3,3,3,3,3,3,3,3,3,3,3,3,3,3,3,3,3,3,3,3,3,3,3,3,3,3,3,3,3,3,3,3,3,3,3,3,3,3,3,3,3,6,3,18,3,3,3,3,3,3,3,3,3,3,3,3,3,3,3,3,3,3,3,3,3,3,3,3,3,3,3,3,9,3,3,3,3,3,3,3,3,3,3,3,3,3,3,3,3,3,3,6,3,3,3,3,3,3,3,3,3,3,3,3,3,3,3,3,3,3,3,3,3,3,3,12,3,3,3,3,3,3,3,3,3,3,3,3],[3,3,3,3,3,3,3,3,3,3,3,3,3,27,3,3,3,3,3,3,3,3,3,3,3,3,3,6,3,3,3,3,3,3,3,9,12,3,3,3,3,3,3,3,9,3,3,3,3,3,3,3,3,3,3,3,3,3,3,3,3,3,3,3,6,6,3,3,6,3,3,3,3,3,6,3,3,3,3,3,3,3,3,3,9,3,3,6,3,3,3,3,3,3,3,3,3,3,3,3,3,3,3,3,3,3,3,3,3,3,3,3,3,3,3,3,3,3,3,3,3,3,3,3,3,3,3,3,3,3,3,6,3,18,3,3,3,3,3,3,3,3,3,3,3,3,3,3,3,3,3,3,3,3,3,3,3,3,3,3,3,3,9,3,3,3,3,3,3,3,3,3,3,3,3,3,3,3,3,3,3,6,3,3,3,3,3,3,3,3,3,3,3,3,3,3,3,3,3,3,3,3,3,3,3,12,3,3,3,3,3,3,3,3,3,3,3,3]],\"end\":[\"2[00]PN\",\"Amurili[]PN\",\"Huba[]PN\",\"Itutu\\u02bea[]PN\",\"Lugal.x[00]PN\",\"Lugalkugzu[]PN\",\"PuzurErra[]PN\",\"UrKugnunak[]PN\",\"Utu\\u02beadgal[]PN\",\"\\u0160u\\u0160ulgi[]PN\",\"Liludan[]PN\",\"Ludi\\u014birak[]PN\",\"Lugal.x[00]PN\",\"Lugalkugzu[]PN\",\"Lugula[]PN\",\"A.x[00]PN\",\"Ahan\\u0161ibu[]PN\",\"Dayyanummi\\u0161ar[]PN\",\"Nirida\\u014bal[]PN\",\"Su\\u02beenillat[]PN\",\"Ludi\\u014birak[]PN\",\"Lugal.x[00]PN\",\"Tah\\u0161atal[]PN\",\"UrIgalimak[]PN\",\"\\u0160u\\u02beE\\u0161tar[]PN\",\"Dayyanummi\\u0161ar[]PN\",\"Abuni[]PN\",\"Ahan\\u0161ibu[]PN\",\"Huba[]PN\",\"Kur\\u014birini\\u0161e[]PN\",\"Abba[]PN\",\"lugal[king]N\",\"2[00]PN\",\"Amabarag[]PN\",\"GemeNannak[]PN\",\"Kubatum[]PN\",\"ME.{d}I\\u0161taran[]PN\",\"Meslamta\\u02bee\\u02bea[]DN\",\"Ninlilemana\\u014b[]PN\",\"TaddinE\\u0161tar[]PN\",\"Zanum[]PN\",\"\\u0160alimni\\u02bea\\u0161[]PN\",\"\\u0160atSu\\u02been[]PN\",\"\\u0160ulgirama[]PN\",\"\\u0160u\\u02beEnlil[]PN\",\"Lugal.x[00]PN\",\"Nuhilum[]PN\",\"Lugal.x[00]PN\",\"Abu\\u1e6dab[]PN\",\"KAL.bi.si[]PN\",\"PuzurErra[]PN\",\"PuzurErra[]PN\",\"Ludi\\u014birak[]PN\",\"Aya\\u014bu[]PN\",\"Na.x[00]PN\",\"X.mu[00]DN\",\"\\u0160etelili[]PN\",\"Balala[]PN\",\"\\u0160u\\u02beE\\u0161tar[]PN\",\"Lugalkugzu[]PN\",\"Huba[]PN\",\"Lugalkugzu[]PN\",\"Amurili[]PN\",\"Ea\\u02beili[]PN\",\"Lisin[]PN\",\"Kur\\u014birini\\u0161e[]PN\",\"Lugalkugzu[]PN\",\"lugal[king]N\",\"Ludi\\u014birak[]PN\",\"\\u0160u\\u02beE\\u0161tar[]PN\",\"Amurili[]PN\",\"Ludi\\u014birak[]PN\",\"\\u0160ulgirgalzu[]PN\",\"Dayyanummi\\u0161ar[]PN\",\"Amurili[]PN\",\"LuNannak[]PN\",\"Ludi\\u014birak[]PN\",\"UrNannak[]PN\",\"Dayyanummi\\u0161ar[]PN\",\"Lugal.x[00]PN\",\"lugal[king]N\",\"Zizuh[]PN\",\"Dayyanummi\\u0161ar[]PN\",\"Lisin[]PN\",\"PuzurErra[]PN\",\"UrEninnuk[]PN\",\"\\u014airine\\u02beisag[]PN\",\"Ea\\u02beili[]PN\",\"Urmes[]PN\",\"Ludi\\u014birak[]PN\",\"Qurdilum[]PN\",\"Waqar\\u0160uSu\\u02been[]PN\",\"Illa\\u02bei[]PN\",\"Ludi\\u014birak[]PN\",\"Ea\\u02beili[]PN\",\"Ludi\\u014birak[]PN\",\"Ma.lum\\u2093[00]PN\",\"PuzurErra[]PN\",\"PuzurA\\u0161\\u0161ur[]PN\",\"Il\\u0161urabi[]PN\",\"Edudu\\u02bea[]PN\",\"Utu\\u02beadgal[]PN\",\"AradNannak[]PN\",\"HidutAmarSu\\u02been[]PN\",\"\\u0160uSu\\u02beenmigirE\\u0161tar[]PN\",\"Lugal.x[00]PN\",\"Itutu\\u02bea[]PN\",\"\\u0160e\\u0161kala[]PN\",\"Adadillat[]PN\",\"Daya[]PN\",\"PuzurErra[]PN\",\"Ludi\\u014birak[]PN\",\"Utu\\u02beadgal[]PN\",\"E\\u0161tarnada[]PN\",\"Ludi\\u014birak[]PN\",\"Ilabu\\u02beigadu[]PN\",\"Ilabu\\u02beigadu[]PN\",\"Inanak[]DN\",\"\\u0160u\\u02beEnlil[]PN\",\"Abu\\u1e6dab[]PN\",\"Dayyanummi\\u0161ar[]PN\",\"PuzurErra[]PN\",\"Batugrad[]PN\",\"Dayyanummi\\u0161ar[]PN\",\"Utu\\u02beadgal[]PN\",\"Ludi\\u014birak[]PN\",\"PuzurErra[]PN\",\"Simat\\u0161arrim[]PN\",\"PuzurErra[]PN\",\"\\u0160u\\u0160ulgi[]PN\",\"Puzurili[]PN\",\"Amurili[]PN\",\"Dayyanummi\\u0161ar[]PN\",\"Nurili[]PN\",\"UrKugnunak[]PN\",\"\\u0160u\\u02beE\\u0161tar[]PN\",\"Ginuna[]PN\",\"lugal[king]N\",\"X.x[00]PN\",\"Na.x[00]PN\",\"\\u0160unundu[]PN\",\"KA.x[00]PN\",\"Lugal.x[00]PN\",\"PuzurErra[]PN\",\"UrBa\\u02beuk[]PN\",\"Abuni[]PN\",\"\\u0160u\\u02beE\\u0161tar[]PN\",\"Lugalkugzu[]PN\",\"Lugalkugzu[]PN\",\"PuzurErra[]PN\",\"Ahuni[]PN\",\"Alla\\u0161arrum[]PN\",\"Apili[]PN\",\"\\u0160u\\u0161ug[]PN\",\"Ludi\\u014birak[]PN\",\"Utu\\u02beadgal[]PN\",\"Ludi\\u014birak[]PN\",\"PuzurErra[]PN\",\"LuNannak[]PN\",\"Lugalkugzu[]PN\",\"ME.E\\u2082.a[]PN\",\"Beli\\u02beili[]PN\",\"Lugalkugzu[]PN\",\"Anaa[]PN\",\"2[00]PN\",\"Ilallum[]PN\",\"Dayyanummi\\u0161ar[]PN\",\"\\u0160u\\u0160ulgi[]PN\",\"UrNingalak[]PN\",\"Dayyanummi\\u0161ar[]PN\",\"Ge\\u0161.\\u0161a\\u2083[00]DN\",\"Nawar\\u0161en[]PN\",\"Taddinkiza[]PN\",\"Enlil[]DN\",\"\\u0160u\\u0160ulgi[]PN\",\"Mulliltumnuri[]PN\",\"Inimanizid[]PN\",\"Lu\\u02beAmarSu\\u02beenak[]PN\",\"Ludi\\u014birak[]PN\",\"Ginuna[]PN\",\"Utu\\u02beadgal[]PN\",\"\\u0160u\\u02beE\\u0161tar[]PN\",\"Lugal.x[00]PN\",\"\\u0160u\\u0160ulgi[]PN\",\"Ea\\u02beili[]PN\",\"Lugal.x[00]PN\",\"Lugalkugzu[]PN\",\"ME.E\\u2082.a[]PN\",\"\\u0160uru\\u0161kin[]PN\",\"Ludi\\u014birak[]PN\",\"UrBa\\u02beuk[]PN\",\"KinatNunu[]PN\",\"Ludi\\u014birak[]PN\",\"Lugal.x[00]PN\",\"Urmes[]PN\",\"Ilallum[]PN\",\"PuzurErra[]PN\",\"Dayyanummi\\u0161ar[]PN\",\"PuzurErra[]PN\",\"Taburha\\u1e6d\\u1e6dum[]PN\",\"Ludi\\u014birak[]PN\",\"Ubarum[]PN\",\"Lugal.x[00]PN\",\"Dari\\u0161matum[]PN\",\"Ginuna[]PN\",\"Lugalkugzu[]PN\",\"LugalAnabtum[]PN\",\"Lugalkugzu[]PN\",\"Zeri[]PN\",\"Lugal.x[00]PN\",\"Dudu[]PN\",\"UrNan\\u0161ek[]PN\",\"Lugal.x[00]PN\",\"Lugal.x[00]PN\",\"Ludi\\u014birak[]PN\",\"Puzurili[]PN\",\"lugal[king]N\",\"Ludi\\u014birak[]PN\"],\"id_text\":[\"P127321\",\"P129700\",\"P134048\",\"P126620\",\"P141796\",\"P126546\",\"P134755\",\"P200497\",\"P122581\",\"P141796\",\"P124619\",\"P135151\",\"P141796\",\"P102169,P104018,P116210,P125951,P125959,P126044,P144365,P144782,P145356\",\"P145198\",\"P134047\",\"P103541\",\"P134043\",\"P123610\",\"P135194\",\"P127666\",\"P141796\",\"P113826\",\"P106150\",\"P125777\",\"P134047\",\"P107887\",\"P134038,P134040\",\"P134048\",\"P134042\",\"P200373\",\"P200373\",\"P134048\",\"P321080\",\"P332256\",\"P141796,P144477,P332256\",\"P113886,P124925,P127667,P135067\",\"P117455\",\"P104185\",\"P293217\",\"P103951\",\"P141796\",\"P134758\",\"P134761\",\"P117445,P134759,P321080\",\"P141796\",\"P111905\",\"P141796\",\"P134759\",\"P134756\",\"P103369\",\"P134759\",\"P512776\",\"P200373\",\"P126360\",\"P126360\",\"P103804\",\"P103787\",\"P113914\",\"P141790\",\"P134045\",\"P414557\",\"P116201\",\"P125628\",\"P125753,P126577\",\"P113749,P113750\",\"P106144\",\"P407247\",\"P126577,P144357\",\"P129753\",\"P116201\",\"P116201\",\"P125872\",\"P103282\",\"P129700,P201042\",\"P134041\",\"P144305\",\"P111903\",\"P131578\",\"P141796\",\"P111906\",\"P499321\",\"P499321\",\"P144357\",\"P103494,P117033,P131678\",\"P299073\",\"P126051\",\"P125850,P132148\",\"P301283\",\"P104098\",\"P127667\",\"P134760\",\"P124318\",\"P124318\",\"P113021\",\"P512777\",\"P113021\",\"P109268\",\"P134757\",\"P141796\",\"P108385\",\"P135196\",\"P103763\",\"P218167\",\"P111903\",\"P141796\",\"P113699\",\"P103752\",\"P512776\",\"P141796\",\"P103752\",\"P127666\",\"P122581\",\"P300949\",\"P299538\",\"P116199\",\"P116199\",\"P142964\",\"P131578\",\"P134759\",\"P131578\",\"P134759\",\"P104098\",\"P104202\",\"P122581\",\"P103380\",\"P103347\",\"P512776\",\"P104144\",\"P141796\",\"P433582\",\"P129700,P201042\",\"P127301\",\"P109182,P116200,P126029,P144136,P145204,P299556\",\"P200497\",\"P291956\",\"P125632\",\"P103787\",\"P131636\",\"P126360\",\"P131604\",\"P131636\",\"P141796\",\"P134759\",\"P107887\",\"P107887\",\"P129753\",\"P101430\",\"P126814\",\"P131649\",\"P144356\",\"P135067\",\"P135067\",\"P131604\",\"P131604\",\"P122581\",\"P125022\",\"P104144\",\"P111906\",\"P103803\",\"P132137\",\"P104781\",\"P125885,P126546,P143502\",\"P116196\",\"P127668\",\"P103380\",\"P499320\",\"P141796\",\"P134046\",\"P134046\",\"P103141\",\"P134756\",\"P134758\",\"P512773\",\"P141796\",\"P104185\",\"P141796\",\"P332256\",\"P103269\",\"P125632\",\"P122581\",\"P124322,P125777\",\"P141796\",\"P141796\",\"P125628\",\"P141796\",\"P125959\",\"P135198\",\"P124318\",\"P124318\",\"P106289\",\"P293217\",\"P293217\",\"P141796\",\"P135148\",\"P512776\",\"P128401\",\"P134044\",\"P480801\",\"P134760\",\"P131604\",\"P128401\",\"P141796\",\"P134758\",\"P125632\",\"P101430,P126814,P144254,P432670\",\"P111905\",\"P129821\",\"P134756\",\"P141796\",\"P321080\",\"P116196\",\"P141796\",\"P141796\",\"P104113\",\"P512775\",\"P103022\",\"P131604\"],\"start\":[\"2[00]PN\",\"2[00]PN\",\"2[00]PN\",\"2[00]PN\",\"2[00]PN\",\"2[00]PN\",\"2[00]PN\",\"2[00]PN\",\"2[00]PN\",\"2[00]PN\",\"Amurili[]PN\",\"Amurili[]PN\",\"Amurili[]PN\",\"Amurili[]PN\",\"Amurili[]PN\",\"Huba[]PN\",\"Huba[]PN\",\"Huba[]PN\",\"Itutu\\u02bea[]PN\",\"Itutu\\u02bea[]PN\",\"Lugalkugzu[]PN\",\"Lugalkugzu[]PN\",\"Lugalkugzu[]PN\",\"Lugalkugzu[]PN\",\"Lugalkugzu[]PN\",\"A.x[00]PN\",\"Dayyanummi\\u0161ar[]PN\",\"Dayyanummi\\u0161ar[]PN\",\"Dayyanummi\\u0161ar[]PN\",\"Dayyanummi\\u0161ar[]PN\",\"Abba[]PN\",\"Abba[]PN\",\"lugal[king]N\",\"lugal[king]N\",\"lugal[king]N\",\"lugal[king]N\",\"lugal[king]N\",\"lugal[king]N\",\"lugal[king]N\",\"lugal[king]N\",\"lugal[king]N\",\"lugal[king]N\",\"lugal[king]N\",\"lugal[king]N\",\"lugal[king]N\",\"Abisimti[]PN\",\"Abisimti[]PN\",\"Abumba\\u0161ti[]PN\",\"Abuni[]PN\",\"Abuni[]PN\",\"Abuni[]PN\",\"Abu\\u1e6dab[]PN\",\"Adadillat[]PN\",\"Ludi\\u014birak[]PN\",\"Ludi\\u014birak[]PN\",\"Ludi\\u014birak[]PN\",\"Ludi\\u014birak[]PN\",\"Agalum[]PN\",\"Agu\\u02bea[]PN\",\"\\u0160u\\u02beE\\u0161tar[]PN\",\"Ahan\\u0161ibu[]PN\",\"Ahi\\u02beilum[]PN\",\"Ahuni[]PN\",\"Ahuni[]PN\",\"Ahuni[]PN\",\"Ea\\u02beili[]PN\",\"Ea\\u02beili[]PN\",\"Ea\\u02beili[]PN\",\"Lisin[]PN\",\"Ahu\\u0161uni[]PN\",\"Alid[]PN\",\"Alid[]PN\",\"Alla[]PN\",\"AmurEa[]PN\",\"Anebabdu[]PN\",\"AradNannak[]PN\",\"AradNannak[]PN\",\"AradNannak[]PN\",\"LuNannak[]PN\",\"LuNannak[]PN\",\"LuNannak[]PN\",\"Ariphuppi[]PN\",\"Zizuh[]PN\",\"Atakkal\\u0161um[]PN\",\"Aya\\u014bu[]PN\",\"Aya\\u014bu[]PN\",\"Aya\\u014bu[]PN\",\"Ba.zi[00]PN\",\"Ba.zi[00]PN\",\"Batugrad[]PN\",\"Baza[]PN\",\"Baza[]PN\",\"Belili[]PN\",\"Illa\\u02bei[]PN\",\"Beli\\u02beili[]PN\",\"Beli\\u02beili[]PN\",\"Beli\\u02beili[]PN\",\"Budu[]PN\",\"Bu\\u0161am[]PN\",\"PuzurA\\u0161\\u0161ur[]PN\",\"Bu\\u02bea[]PN\",\"Edudu\\u02bea[]PN\",\"Dada[]PN\",\"Dada[]PN\",\"Dada[]PN\",\"Daya[]PN\",\"Endi\\u014bir\\u014bu[]PN\",\"Enlil[]DN\",\"\\u0160e\\u0161kala[]PN\",\"\\u0160e\\u0161kala[]PN\",\"\\u0160e\\u0161kala[]PN\",\"Ennumili[]PN\",\"Ennumili[]PN\",\"GA.na.na.tum[]PN\",\"Gabidanum[]PN\",\"Galzudabulsin[]PN\",\"Ilabu\\u02beigadu[]PN\",\"Haburitum[]DN\",\"Ha\\u0161ipatal[]PN\",\"\\u0160u\\u02beEnlil[]PN\",\"\\u0160u\\u02beEnlil[]PN\",\"Hu.un.ha.ab.UR[]PN\",\"Iabti[]PN\",\"Igirumah[]PN\",\"Ilag\\u0161uqir[]PN\",\"Ilallum[]PN\",\"Ilallum[]PN\",\"Ilallum[]PN\",\"Im.x[00]PN\",\"Inimanizid[]PN\",\"Inzu[]PN\",\"Puzurili[]PN\",\"Puzurili[]PN\",\"Puzurili[]PN\",\"Puzurili[]PN\",\"Puzurili[]PN\",\"Nirida\\u014bal[]PN\",\"Nirida\\u014bal[]PN\",\"KA.x[00]PN\",\"X.x[00]PN\",\"X.x[00]PN\",\"Kubatum[]PN\",\"Kubatum[]PN\",\"Lamahar[]PN\",\"LuNan\\u0161ek[]PN\",\"UrBa\\u02beuk[]PN\",\"Lubanda[]PN\",\"Lugalituda[]PN\",\"Lugaltida[]PN\",\"Lukala[]PN\",\"Lusaga[]PN\",\"ME.{d}I\\u0161taran[]PN\",\"ME.{d}I\\u0161taran[]PN\",\"Me\\u0161i\\u02bead[]PN\",\"\\u0160u\\u0161ug[]PN\",\"Na.an.na[]PN\",\"Nabasag[]PN\",\"Nam.ra.ak[00]PN\",\"Namhani[]PN\",\"Namhani[]PN\",\"Nanna[]DN\",\"Naramili[]PN\",\"Naramili[]PN\",\"Nawirili[]PN\",\"Nig\\u2082.il\\u2082[00]PN\",\"Nig\\u2082.x[00]PN\",\"Nihelu[]PN\",\"Ninegalak[]DN\",\"Ningal[]DN\",\"UrNingalak[]PN\",\"Ningilin[]DN\",\"Ninhursa\\u014bak[]DN\",\"Ninkala[]PN\",\"Ninlil[]DN\",\"Ninlil[]DN\",\"Ninlilemana\\u014b[]PN\",\"Ninurta[]DN\",\"Nin\\u0161uburak[]DN\",\"Ni\\u014birinimginak[]PN\",\"Nurili[]PN\",\"Nurili[]PN\",\"Nurili[]PN\",\"Nur\\u0160ama\\u0161[]PN\",\"Nuska[]DN\",\"PuzurE\\u0161tar[]PN\",\"PuzurE\\u0161tar[]PN\",\"Ribagada[]PN\",\"Rigmu\\u0161[]PN\",\"Rimili[]PN\",\"\\u0160uru\\u0161kin[]PN\",\"Ri\\u1e63ili[]PN\",\"TaddinE\\u0161tar[]PN\",\"TuramDagan[]PN\",\"TuramDagan[]PN\",\"Uba[]PN\",\"Ubarum[]PN\",\"Ubarum[]PN\",\"Ululal[]PN\",\"Ululal[]PN\",\"UrI\\u0161kurak[]PN\",\"\\u0160unundu[]PN\",\"Zariq[]PN\",\"\\u0160alimni\\u02bea\\u0161[]PN\",\"\\u0160atSu\\u02been[]PN\",\"sukkalmah[official]N\",\"\\u0160arakam[]PN\",\"\\u0160arrumili[]PN\",\"\\u0160arrumili[]PN\",\"\\u0160ebba[]PN\",\"\\u0160ennam[]PN\",\"\\u0160eteli[]PN\",\"\\u0160e\\u0161ani[]PN\",\"\\u0160uSu\\u02beenili[]PN\",\"\\u0160ubram[]PN\",\"\\u0160ulgimati[]PN\",\"\\u0160ulgimi\\u0161ar[]PN\",\"\\u0160ulgir[]RN\",\"\\u0160ulgiradda\\u014bu[]PN\"],\"weight\":[1,1,1,1,1,1,1,1,1,1,1,1,1,9,1,1,1,1,1,1,1,1,1,1,1,1,1,2,1,1,1,1,1,1,1,3,4,1,1,1,1,1,1,1,3,1,1,1,1,1,1,1,1,1,1,1,1,1,1,1,1,1,1,1,2,2,1,1,2,1,1,1,1,1,2,1,1,1,1,1,1,1,1,1,3,1,1,2,1,1,1,1,1,1,1,1,1,1,1,1,1,1,1,1,1,1,1,1,1,1,1,1,1,1,1,1,1,1,1,1,1,1,1,1,1,1,1,1,1,1,1,2,1,6,1,1,1,1,1,1,1,1,1,1,1,1,1,1,1,1,1,1,1,1,1,1,1,1,1,1,1,1,3,1,1,1,1,1,1,1,1,1,1,1,1,1,1,1,1,1,1,2,1,1,1,1,1,1,1,1,1,1,1,1,1,1,1,1,1,1,1,1,1,1,1,4,1,1,1,1,1,1,1,1,1,1,1,1]},\"selected\":{\"id\":\"1079\",\"type\":\"Selection\"},\"selection_policy\":{\"id\":\"1080\",\"type\":\"UnionRenderers\"}},\"id\":\"1016\",\"type\":\"ColumnDataSource\"},{\"attributes\":{\"data_source\":{\"id\":\"1016\",\"type\":\"ColumnDataSource\"},\"glyph\":{\"id\":\"1039\",\"type\":\"MultiLine\"},\"hover_glyph\":{\"id\":\"1049\",\"type\":\"MultiLine\"},\"muted_glyph\":null,\"selection_glyph\":{\"id\":\"1044\",\"type\":\"MultiLine\"},\"view\":{\"id\":\"1018\",\"type\":\"CDSView\"}},\"id\":\"1017\",\"type\":\"GlyphRenderer\"},{\"attributes\":{},\"id\":\"1054\",\"type\":\"NodesAndLinkedEdges\"},{\"attributes\":{\"callback\":null,\"end\":2,\"start\":-2},\"id\":\"1003\",\"type\":\"Range1d\"},{\"attributes\":{\"source\":{\"id\":\"1016\",\"type\":\"ColumnDataSource\"}},\"id\":\"1018\",\"type\":\"CDSView\"},{\"attributes\":{},\"id\":\"1065\",\"type\":\"LinearScale\"},{\"attributes\":{},\"id\":\"1066\",\"type\":\"LinearScale\"},{\"attributes\":{},\"id\":\"1078\",\"type\":\"UnionRenderers\"},{\"attributes\":{\"graph_layout\":{\"2[00]PN\":[1.8999999894983268,-2.617848504726042e-09],\"A.x[00]PN\":[1.794871218722195,0.6232471810092111],\"Abba[]PN\":[1.7492347735644258,0.7417395962291164],\"Abisimti[]PN\":[1.695785744981745,0.8569192568271347],\"Abumba\\u0161ti[]PN\":[1.6347629747455719,0.9682716733923796],\"Abuni[]PN\":[1.6014953397304699,1.0223564808772645],\"Abu\\u1e6dab[]PN\":[1.5664389395282794,1.0752995137109165],\"Adadillat[]PN\":[1.4911188449125965,1.1775248111178447],\"Agalum[]PN\":[1.4091389266592367,1.2744910596005556],\"Agu\\u02bea[]PN\":[1.320865657965124,1.3657649691555163],\"Ahan\\u0161ibu[]PN\":[1.2266929182427746,1.4509391837600643],\"Ahi\\u02beilum[]PN\":[1.1775248084848566,1.4911188475455845],\"Ahuni[]PN\":[1.127041426876173,1.5296330741141804],\"Ahu\\u0161uni[]PN\":[0.9682716707593916,1.63476297737856],\"Alid[]PN\":[0.9131052803736336,1.6662049280897016],\"Alla[]PN\":[0.8569191975697342,1.695785747614733],\"Alla\\u0161arrum[]PN\":[-1.6347630984960695,-0.968271452130427],\"Amabarag[]PN\":[1.274490830469918,-1.409139161025571],\"AmurEa[]PN\":[0.7417395369717161,1.7492347761974139],\"Amurili[]PN\":[1.8989389612591479,0.06348845642126304],\"Anaa[]PN\":[-1.1270412108801964,-1.5296333058475267],\"Anebabdu[]PN\":[0.5629234931352949,1.8146947486365193],\"Apili[]PN\":[-1.6014953502321427,-1.0223564861129615],\"AradNannak[]PN\":[0.5019712769169473,1.832491461701121],\"Ariphuppi[]PN\":[0.31602576656656817,1.8735335152871906],\"Atakkal\\u0161um[]PN\":[0.19018173310683448,1.8904578726546641],\"Aya\\u014bu[]PN\":[0.12690599075088047,1.8957570116628466],\"Ba.zi[00]PN\":[-0.0634884713679996,1.898938963892136],\"Balala[]PN\":[1.3657649665225284,1.3208655473492872],\"Batugrad[]PN\":[-0.19018189932564153,1.8904578726546641],\"Baza[]PN\":[-0.25324521519855153,1.8830472093088264],\"Belili[]PN\":[-0.4404582913322661,1.8482414287558304],\"Beli\\u02beili[]PN\":[-0.5629236735102051,1.8146947486365193],\"Budu[]PN\":[-0.6828747335930229,1.7730431898755898],\"Bu\\u0161am[]PN\":[-0.7417397173466264,1.7492347761974139],\"Bu\\u02bea[]PN\":[-0.8569193779446445,1.695785747614733],\"Dada[]PN\":[-0.9682716812610644,1.63476297737856],\"Dari\\u0161matum[]PN\":[1.695785744981745,-0.8569192054384194],\"Daya[]PN\":[-1.1270415506266707,1.5296330741141804],\"Dayyanummi\\u0161ar[]PN\":[1.7730431872426018,0.6828747823487501],\"Dudu[]PN\":[1.814694859252356,-0.5629232745063305],\"Ea\\u02beili[]PN\":[1.0752995110779284,1.5664389421612674],\"Edudu\\u02bea[]PN\":[-0.9131052342508943,1.6662049280897016],\"Endi\\u014bir\\u014bu[]PN\":[-1.2266928154956227,1.450939297008889],\"Enlil[]DN\":[-1.2744909542204157,1.4091390425410495],\"Ennumili[]PN\":[-1.3657648637753765,1.320865660598112],\"E\\u0161tarnada[]PN\":[-1.450939304877574,1.2266928076269379],\"GA.na.na.tum[]PN\":[-1.4091390504097343,1.2744909463517309],\"Gabidanum[]PN\":[-1.4911187421654446,1.1775249243666694],\"Galzudabulsin[]PN\":[-1.5296330819828652,1.1270415427579858],\"GemeNannak[]PN\":[1.3208658844627734,-1.3657647478935637],\"Ge\\u0161.\\u0161a\\u2083[00]DN\":[-0.6828750167150848,-1.7730430818624618],\"Ginuna[]PN\":[1.740643663635011e-08,-1.8999999973670116],\"Haburitum[]DN\":[-1.601495236983318,1.0223565941260893],\"Ha\\u0161ipatal[]PN\":[-1.6662049359583864,0.9131051697577968],\"HidutAmarSu\\u02been[]PN\":[-1.022356601994774,1.601495229114633],\"Hu.un.ha.ab.UR[]PN\":[-1.7234727149119835,0.7997760515807738],\"Huba[]PN\":[1.8957570090298586,0.12690600753997155],\"Iabti[]PN\":[-1.7492348973149234,0.7417394829802917],\"Igirumah[]PN\":[-1.77304308449545,0.6828748955975749],\"Ilabu\\u02beigadu[]PN\":[-1.566439063278777,1.075299287213267],\"Ilag\\u0161uqir[]PN\":[-1.7948712292238678,0.6232472376336234],\"Ilallum[]PN\":[-1.814694756505204,0.5629234391438706],\"Illa\\u02bei[]PN\":[-0.501971230794208,1.832491461701121],\"Il\\u0161urabi[]PN\":[0.31602607800083626,-1.8735334072740628],\"Im.x[00]PN\":[-1.8482414366245155,0.4404582551513749],\"Inanak[]DN\":[-1.6347629852472447,0.9682715601435549],\"Inimanizid[]PN\":[-1.8619272173503194,0.37845319292143725],\"Inzu[]PN\":[-1.8735334099070509,0.31602591076058717],\"Itutu\\u02bea[]PN\":[1.890457870021676,0.19018180652033798],\"KA.x[00]PN\":[-1.8989389717608207,0.0634884351871084],\"KAL.bi.si[]PN\":[1.5296330714811923,1.1270415427579858],\"KinatNunu[]PN\":[0.799775765825724,-1.7234728255278202],\"Kubatum[]PN\":[-1.8989389717608207,-0.0634883200959291],\"Kur\\u014birini\\u0161e[]PN\":[-1.1775249322353543,1.4911187342967598],\"Lamahar[]PN\":[-1.8957570195315314,-0.12690602693177164],\"Liludan[]PN\":[0.6828747797157622,1.7730431898755898],\"Lisin[]PN\":[1.0223564782442764,1.6014953423634577],\"LuNannak[]PN\":[0.44045833745500546,1.8482414287558304],\"LuNan\\u0161ek[]PN\":[-1.890457880523349,-0.1901819816292721],\"Lubanda[]PN\":[-1.8735335231558756,-0.3160258027474594],\"Ludi\\u014birak[]PN\":[1.4509391811270764,1.2266929208757626],\"Lugal.x[00]PN\":[1.8830472066758386,0.2532452356420727],\"LugalAnabtum[]PN\":[1.6662050387055383,-0.9131050617446691],\"Lugalituda[]PN\":[-1.8146946432563793,-0.5629237841260419],\"Lugalkugzu[]PN\":[1.8735335126542028,0.3160257691995562],\"Lugaltida[]PN\":[-1.749234670817274,-0.7417397713380507],\"Lugula[]PN\":[0.6232472916250478,1.794871221355183],\"Lukala[]PN\":[-1.7234728281608083,-0.7997759435676461],\"Lusaga[]PN\":[-1.695785755483418,-0.8569192620628318],\"Lu\\u02beAmarSu\\u02beenak[]PN\":[-0.06348813869957687,-1.8989389691278327],\"ME.E\\u2082.a[]PN\":[-1.2744910674692405,-1.4091389345279215],\"ME.{d}I\\u0161taran[]PN\":[-1.6662048227095616,-0.9131054581155558],\"Ma.lum\\u2093[00]PN\":[-0.6232472455023085,1.794871221355183],\"Meslamta\\u02bee\\u02bea[]DN\":[1.3657649665225284,-1.3208655525849842],\"Me\\u0161i\\u02bead[]PN\":[-1.5664388367811275,-1.075299632195438],\"Mulliltumnuri[]PN\":[-0.25324490376428344,-1.8830472145445234],\"Na.an.na[]PN\":[-1.4911188554142694,-1.1775248163535414],\"Na.x[00]PN\":[-1.8619272173503194,-0.37845353790360853],\"Nabasag[]PN\":[-1.4509390783799245,-1.2266930393602842],\"Nam.ra.ak[00]PN\":[-1.4091390504097343,-1.2744908383386029],\"Namhani[]PN\":[-1.3657649770242013,-1.320865665833809],\"Nanna[]DN\":[-1.3208654419691472,-1.365765087640038],\"Naramili[]PN\":[-1.2266929287444475,-1.4509391889957612],\"Nawar\\u0161en[]PN\":[-0.5629235602613804,-1.814694753872216],\"Nawirili[]PN\":[-1.177525045484179,-1.491118626283632],\"Nig\\u2082.il\\u2082[00]PN\":[-1.0752995215796013,-1.5664389473969642],\"Nig\\u2082.x[00]PN\":[-1.0223567152435988,-1.6014951211015052],\"Nihelu[]PN\":[-0.9682713415145902,-1.6347632091119062],\"Ninegalak[]DN\":[-0.9131053474997191,-1.6662048200765738],\"Ningal[]DN\":[-0.8569194911934692,-1.695785639601605],\"Ningilin[]DN\":[-0.7417396040978016,-1.7492347814331108],\"Ninhursa\\u014bak[]DN\":[-0.6232469057558342,-1.7948713398397045],\"Ninkala[]PN\":[-0.5019715139162699,-1.8324913536879932],\"Ninlil[]DN\":[-0.37845334235115324,-1.8619272147173316],\"Ninlilemana\\u014b[]PN\":[-0.31602606019030316,-1.8735334072740628],\"Ninurta[]DN\":[-0.19018180023291986,-1.8904578778903611],\"Nin\\u0161uburak[]DN\":[-0.12690628437461537,-1.8957570168985436],\"Nirida\\u014bal[]PN\":[-1.890457880523349,0.19018165080320393],\"Ni\\u014birinimginak[]PN\":[0.06348817066621314,-1.8989389691278327],\"Nuhilum[]PN\":[1.6662048122078887,0.9131053396310339],\"Nurili[]PN\":[0.12690631634125163,-1.8957570168985436],\"Nur\\u0160ama\\u0161[]PN\":[0.19018183219955614,-1.8904578778903611],\"Nuska[]DN\":[0.25324492157481654,-1.8830472145445234],\"PuzurA\\u0161\\u0161ur[]PN\":[-0.799776059449459,1.7234727070432987],\"PuzurErra[]PN\":[1.8619272068486465,0.3784533627946744],\"PuzurE\\u0161tar[]PN\":[0.3784533884738926,-1.8619272147173316],\"Puzurili[]PN\":[-1.8830472171775114,0.2532452073298665],\"Qurdilum[]PN\":[-0.3160257204438289,1.8735335152871906],\"Ribagada[]PN\":[0.44045799770853117,-1.8482415472403522],\"Rigmu\\u0161[]PN\":[0.5019715600390092,-1.8324913536879932],\"Rimili[]PN\":[0.5629236063841196,-1.814694753872216],\"Ri\\u1e63ili[]PN\":[0.6828750628378241,-1.7730430818624618],\"Simat\\u0161arrim[]PN\":[-1.832491356320981,0.50197139279876],\"Su\\u02beenillat[]PN\":[-1.8957570195315314,0.1269061349448994],\"Taburha\\u1e6d\\u1e6dum[]PN\":[1.1270413136273483,-1.5296333058475267],\"TaddinE\\u0161tar[]PN\":[0.7417396502205409,-1.7492347814331108],\"Taddinkiza[]PN\":[-0.440457979897998,-1.8482415472403522],\"Tah\\u0161atal[]PN\":[-1.7948713424726925,-0.6232471296204958],\"TuramDagan[]PN\":[0.8569195373162085,-1.695785639601605],\"Uba[]PN\":[0.913105336998046,-1.6662048200765738],\"Ubarum[]PN\":[0.9682713310129173,-1.6347630958630814],\"Ululal[]PN\":[1.022356704741926,-1.6014951211015052],\"UrBa\\u02beuk[]PN\":[-1.8830472171775114,-0.25324507100453253],\"UrEninnuk[]PN\":[0.06348851749073896,1.898938963892136],\"UrIgalimak[]PN\":[-1.7730431977442747,-0.6828747875844472],\"UrI\\u0161kurak[]PN\":[1.0752995110779284,-1.5664389473969642],\"UrKugnunak[]PN\":[1.8482414261228426,0.44045828346358107],\"UrNannak[]PN\":[0.37845327522506783,1.8619272094816346],\"UrNan\\u0161ek[]PN\":[1.8482414261228426,-0.44045854350913377],\"UrNingalak[]PN\":[-0.799775776327397,-1.7234728255278202],\"Urmes[]PN\":[-0.1269059446281411,1.8957570116628466],\"Utu\\u02beadgal[]PN\":[1.832491459068133,0.5019712795499353],\"Waqar\\u0160uSu\\u02been[]PN\":[-0.378453455599978,1.8619272094816346],\"X.mu[00]DN\":[-1.8482414366245155,-0.4404581471382471],\"X.x[00]PN\":[-1.9,-1.6872112353528744e-07],\"Zanum[]PN\":[1.409138813410412,-1.2744911780850772],\"Zariq[]PN\":[1.2266929182427746,-1.4509391889957612],\"Zeri[]PN\":[1.7492348868132506,-0.7417393183427516],\"Zizuh[]PN\":[0.253245289633497,1.8830472093088264],\"lugal[king]N\":[1.7234727044103106,0.7997760515807738],\"sukkalmah[official]N\":[1.566439166025929,-1.0752991792001392],\"\\u014airine\\u02beisag[]PN\":[-8.83024740294708e-08,1.8999999921313149],\"\\u0160alimni\\u02bea\\u0161[]PN\":[1.450939407624726,-1.22669269961381],\"\\u0160arakam[]PN\":[1.6014953397304699,-1.0223564861129615],\"\\u0160arrumili[]PN\":[1.634762861496747,-0.968271905125726],\"\\u0160atSu\\u02been[]PN\":[1.4911188449125965,-1.1775248163535414],\"\\u0160ebba[]PN\":[1.7234725911614859,-0.7997762833141204],\"\\u0160ennam[]PN\":[1.7730431872426018,-0.6828747309600348],\"\\u0160eteli[]PN\":[1.794871218722195,-0.6232474693669701],\"\\u0160etelili[]PN\":[-1.8324914695698058,-0.5019712847856324],\"\\u0160e\\u0161ani[]PN\":[1.832491459068133,-0.50197122816122],\"\\u0160e\\u0161kala[]PN\":[-1.3208657817156215,1.3657648559066915],\"\\u0160uSu\\u02beenili[]PN\":[1.8619273200974713,-0.3784530565961033],\"\\u0160uSu\\u02beenmigirE\\u0161tar[]PN\":[-1.0752994083307765,1.5664390554100922],\"\\u0160ubram[]PN\":[1.8735335126542028,-0.316025746123047],\"\\u0160ulgimati[]PN\":[1.8830472066758386,-0.2532454956876254],\"\\u0160ulgimi\\u0161ar[]PN\":[1.890457870021676,-0.19018148616566377],\"\\u0160ulgir[]RN\":[1.8957570090298586,-0.12690597030735926],\"\\u0160ulgiradda\\u014bu[]PN\":[1.8989389612591479,-0.06348873062291885],\"\\u0160ulgirama[]PN\":[1.5296329582323676,-1.1270417744913321],\"\\u0160ulgirgalzu[]PN\":[0.7997761055721982,1.7234727070432987],\"\\u0160unundu[]PN\":[1.1775250349825062,-1.491118626283632],\"\\u0160uru\\u0161kin[]PN\":[0.6232469518785735,-1.7948713398397045],\"\\u0160u\\u0160ulgi[]PN\":[1.8146947460035312,0.5629236090171077],\"\\u0160u\\u0161ug[]PN\":[-1.52963319523169,-1.1270414347448579],\"\\u0160u\\u02beEnlil[]PN\":[-1.695785755483418,0.8569193700759594],\"\\u0160u\\u02beE\\u0161tar[]PN\":[1.2744909437187428,1.4091390425410495]}},\"id\":\"1019\",\"type\":\"StaticLayoutProvider\"},{\"attributes\":{\"fill_color\":{\"value\":\"#abdda4\"},\"size\":{\"field\":\"degree\",\"units\":\"screen\"}},\"id\":\"1029\",\"type\":\"Circle\"},{\"attributes\":{\"callback\":null,\"tooltips\":[[\"name\",\"@name\"],[\"degree\",\"@value\"]]},\"id\":\"1058\",\"type\":\"HoverTool\"},{\"attributes\":{\"fill_color\":{\"value\":\"#fdae61\"},\"size\":{\"field\":\"degree\",\"units\":\"screen\"}},\"id\":\"1024\",\"type\":\"Circle\"},{\"attributes\":{},\"id\":\"1080\",\"type\":\"UnionRenderers\"},{\"attributes\":{},\"id\":\"1056\",\"type\":\"EdgesAndLinkedNodes\"},{\"attributes\":{},\"id\":\"1077\",\"type\":\"Selection\"},{\"attributes\":{\"overlay\":{\"id\":\"1076\",\"type\":\"BoxAnnotation\"}},\"id\":\"1059\",\"type\":\"BoxZoomTool\"},{\"attributes\":{},\"id\":\"1079\",\"type\":\"Selection\"},{\"attributes\":{\"edge_renderer\":{\"id\":\"1017\",\"type\":\"GlyphRenderer\"},\"inspection_policy\":{\"id\":\"1054\",\"type\":\"NodesAndLinkedEdges\"},\"layout_provider\":{\"id\":\"1019\",\"type\":\"StaticLayoutProvider\"},\"node_renderer\":{\"id\":\"1013\",\"type\":\"GlyphRenderer\"},\"selection_policy\":{\"id\":\"1056\",\"type\":\"EdgesAndLinkedNodes\"}},\"id\":\"1010\",\"type\":\"GraphRenderer\"},{\"attributes\":{},\"id\":\"1060\",\"type\":\"ResetTool\"},{\"attributes\":{\"active_drag\":\"auto\",\"active_inspect\":\"auto\",\"active_multi\":null,\"active_scroll\":\"auto\",\"active_tap\":\"auto\",\"tools\":[{\"id\":\"1058\",\"type\":\"HoverTool\"},{\"id\":\"1059\",\"type\":\"BoxZoomTool\"},{\"id\":\"1060\",\"type\":\"ResetTool\"}]},\"id\":\"1061\",\"type\":\"Toolbar\"},{\"attributes\":{\"fill_color\":{\"value\":\"#2b83ba\"},\"size\":{\"field\":\"degree\",\"units\":\"screen\"}},\"id\":\"1034\",\"type\":\"Circle\"},{\"attributes\":{\"callback\":null,\"data\":{\"degree\":[13,10,6,4,15,17,14,2,6,5,2,15,3,18,2,1,1,5,3,1,2,24,1,1,1,7,3,1,4,7,3,1,2,1,1,1,1,1,1,4,5,1,1,2,1,4,1,1,2,2,2,2,1,1,1,2,4,1,1,1,2,1,2,3,1,1,2,2,1,2,4,2,1,1,1,1,3,1,1,1,4,1,1,1,1,5,1,1,2,1,7,3,1,2,3,3,1,1,3,1,2,1,1,1,1,1,1,1,1,3,1,1,1,2,1,1,1,2,1,2,2,1,1,1,1,1,1,1,2,1,1,1,1,1,1,2,2,1,1,1,1,3,1,4,1,1,1,2,1,1,1,2,1,2,1,2,1,3,2,1,1,2,1,1,1,1,1,2,2,1,1,1,2,1,1,1,1,1,1,1,1,1,1,1,1,1,1,1],\"index\":[\"2[00]PN\",\"Amurili[]PN\",\"Huba[]PN\",\"Itutu\\u02bea[]PN\",\"Lugal.x[00]PN\",\"Lugalkugzu[]PN\",\"PuzurErra[]PN\",\"UrKugnunak[]PN\",\"Utu\\u02beadgal[]PN\",\"\\u0160u\\u0160ulgi[]PN\",\"A.x[00]PN\",\"Dayyanummi\\u0161ar[]PN\",\"Abba[]PN\",\"lugal[king]N\",\"Abisimti[]PN\",\"Nuhilum[]PN\",\"Abumba\\u0161ti[]PN\",\"Abuni[]PN\",\"Abu\\u1e6dab[]PN\",\"KAL.bi.si[]PN\",\"Adadillat[]PN\",\"Ludi\\u014birak[]PN\",\"Agalum[]PN\",\"Balala[]PN\",\"Agu\\u02bea[]PN\",\"\\u0160u\\u02beE\\u0161tar[]PN\",\"Ahan\\u0161ibu[]PN\",\"Ahi\\u02beilum[]PN\",\"Ahuni[]PN\",\"Ea\\u02beili[]PN\",\"Lisin[]PN\",\"Ahu\\u0161uni[]PN\",\"Alid[]PN\",\"Alla[]PN\",\"\\u0160ulgirgalzu[]PN\",\"AmurEa[]PN\",\"Liludan[]PN\",\"Lugula[]PN\",\"Anebabdu[]PN\",\"AradNannak[]PN\",\"LuNannak[]PN\",\"UrNannak[]PN\",\"Ariphuppi[]PN\",\"Zizuh[]PN\",\"Atakkal\\u0161um[]PN\",\"Aya\\u014bu[]PN\",\"UrEninnuk[]PN\",\"\\u014airine\\u02beisag[]PN\",\"Ba.zi[00]PN\",\"Urmes[]PN\",\"Batugrad[]PN\",\"Baza[]PN\",\"Qurdilum[]PN\",\"Waqar\\u0160uSu\\u02been[]PN\",\"Belili[]PN\",\"Illa\\u02bei[]PN\",\"Beli\\u02beili[]PN\",\"Ma.lum\\u2093[00]PN\",\"Budu[]PN\",\"Bu\\u0161am[]PN\",\"PuzurA\\u0161\\u0161ur[]PN\",\"Bu\\u02bea[]PN\",\"Edudu\\u02bea[]PN\",\"Dada[]PN\",\"HidutAmarSu\\u02been[]PN\",\"\\u0160uSu\\u02beenmigirE\\u0161tar[]PN\",\"Daya[]PN\",\"Kur\\u014birini\\u0161e[]PN\",\"Endi\\u014bir\\u014bu[]PN\",\"Enlil[]DN\",\"\\u0160e\\u0161kala[]PN\",\"Ennumili[]PN\",\"GA.na.na.tum[]PN\",\"E\\u0161tarnada[]PN\",\"Gabidanum[]PN\",\"Galzudabulsin[]PN\",\"Ilabu\\u02beigadu[]PN\",\"Haburitum[]DN\",\"Inanak[]DN\",\"Ha\\u0161ipatal[]PN\",\"\\u0160u\\u02beEnlil[]PN\",\"Hu.un.ha.ab.UR[]PN\",\"Iabti[]PN\",\"Igirumah[]PN\",\"Ilag\\u0161uqir[]PN\",\"Ilallum[]PN\",\"Simat\\u0161arrim[]PN\",\"Im.x[00]PN\",\"Inimanizid[]PN\",\"Inzu[]PN\",\"Puzurili[]PN\",\"Nirida\\u014bal[]PN\",\"Su\\u02beenillat[]PN\",\"KA.x[00]PN\",\"X.x[00]PN\",\"Kubatum[]PN\",\"Lamahar[]PN\",\"LuNan\\u0161ek[]PN\",\"UrBa\\u02beuk[]PN\",\"Lubanda[]PN\",\"Na.x[00]PN\",\"X.mu[00]DN\",\"\\u0160etelili[]PN\",\"Lugalituda[]PN\",\"Tah\\u0161atal[]PN\",\"UrIgalimak[]PN\",\"Lugaltida[]PN\",\"Lukala[]PN\",\"Lusaga[]PN\",\"ME.{d}I\\u0161taran[]PN\",\"Alla\\u0161arrum[]PN\",\"Apili[]PN\",\"Me\\u0161i\\u02bead[]PN\",\"\\u0160u\\u0161ug[]PN\",\"Na.an.na[]PN\",\"Nabasag[]PN\",\"Nam.ra.ak[00]PN\",\"Namhani[]PN\",\"Nanna[]DN\",\"ME.E\\u2082.a[]PN\",\"Naramili[]PN\",\"Nawirili[]PN\",\"Anaa[]PN\",\"Nig\\u2082.il\\u2082[00]PN\",\"Nig\\u2082.x[00]PN\",\"Nihelu[]PN\",\"Ninegalak[]DN\",\"Ningal[]DN\",\"UrNingalak[]PN\",\"Ningilin[]DN\",\"Ge\\u0161.\\u0161a\\u2083[00]DN\",\"Ninhursa\\u014bak[]DN\",\"Nawar\\u0161en[]PN\",\"Ninkala[]PN\",\"Taddinkiza[]PN\",\"Ninlil[]DN\",\"Ninlilemana\\u014b[]PN\",\"Mulliltumnuri[]PN\",\"Ninurta[]DN\",\"Nin\\u0161uburak[]DN\",\"Lu\\u02beAmarSu\\u02beenak[]PN\",\"Ginuna[]PN\",\"Ni\\u014birinimginak[]PN\",\"Nurili[]PN\",\"Nur\\u0160ama\\u0161[]PN\",\"Nuska[]DN\",\"Il\\u0161urabi[]PN\",\"PuzurE\\u0161tar[]PN\",\"Ribagada[]PN\",\"Rigmu\\u0161[]PN\",\"Rimili[]PN\",\"\\u0160uru\\u0161kin[]PN\",\"Ri\\u1e63ili[]PN\",\"TaddinE\\u0161tar[]PN\",\"KinatNunu[]PN\",\"TuramDagan[]PN\",\"Uba[]PN\",\"Ubarum[]PN\",\"Ululal[]PN\",\"UrI\\u0161kurak[]PN\",\"Taburha\\u1e6d\\u1e6dum[]PN\",\"\\u0160unundu[]PN\",\"Zariq[]PN\",\"Amabarag[]PN\",\"GemeNannak[]PN\",\"Meslamta\\u02bee\\u02bea[]DN\",\"Zanum[]PN\",\"\\u0160alimni\\u02bea\\u0161[]PN\",\"\\u0160atSu\\u02been[]PN\",\"\\u0160ulgirama[]PN\",\"sukkalmah[official]N\",\"\\u0160arakam[]PN\",\"\\u0160arrumili[]PN\",\"LugalAnabtum[]PN\",\"Dari\\u0161matum[]PN\",\"\\u0160ebba[]PN\",\"Zeri[]PN\",\"\\u0160ennam[]PN\",\"\\u0160eteli[]PN\",\"Dudu[]PN\",\"\\u0160e\\u0161ani[]PN\",\"UrNan\\u0161ek[]PN\",\"\\u0160uSu\\u02beenili[]PN\",\"\\u0160ubram[]PN\",\"\\u0160ulgimati[]PN\",\"\\u0160ulgimi\\u0161ar[]PN\",\"\\u0160ulgir[]RN\",\"\\u0160ulgiradda\\u014bu[]PN\"],\"name\":[\"2[00]PN\",\"Amurili[]PN\",\"Huba[]PN\",\"Itutu\\u02bea[]PN\",\"Lugal.x[00]PN\",\"Lugalkugzu[]PN\",\"PuzurErra[]PN\",\"UrKugnunak[]PN\",\"Utu\\u02beadgal[]PN\",\"\\u0160u\\u0160ulgi[]PN\",\"A.x[00]PN\",\"Dayyanummi\\u0161ar[]PN\",\"Abba[]PN\",\"lugal[king]N\",\"Abisimti[]PN\",\"Nuhilum[]PN\",\"Abumba\\u0161ti[]PN\",\"Abuni[]PN\",\"Abu\\u1e6dab[]PN\",\"KAL.bi.si[]PN\",\"Adadillat[]PN\",\"Ludi\\u014birak[]PN\",\"Agalum[]PN\",\"Balala[]PN\",\"Agu\\u02bea[]PN\",\"\\u0160u\\u02beE\\u0161tar[]PN\",\"Ahan\\u0161ibu[]PN\",\"Ahi\\u02beilum[]PN\",\"Ahuni[]PN\",\"Ea\\u02beili[]PN\",\"Lisin[]PN\",\"Ahu\\u0161uni[]PN\",\"Alid[]PN\",\"Alla[]PN\",\"\\u0160ulgirgalzu[]PN\",\"AmurEa[]PN\",\"Liludan[]PN\",\"Lugula[]PN\",\"Anebabdu[]PN\",\"AradNannak[]PN\",\"LuNannak[]PN\",\"UrNannak[]PN\",\"Ariphuppi[]PN\",\"Zizuh[]PN\",\"Atakkal\\u0161um[]PN\",\"Aya\\u014bu[]PN\",\"UrEninnuk[]PN\",\"\\u014airine\\u02beisag[]PN\",\"Ba.zi[00]PN\",\"Urmes[]PN\",\"Batugrad[]PN\",\"Baza[]PN\",\"Qurdilum[]PN\",\"Waqar\\u0160uSu\\u02been[]PN\",\"Belili[]PN\",\"Illa\\u02bei[]PN\",\"Beli\\u02beili[]PN\",\"Ma.lum\\u2093[00]PN\",\"Budu[]PN\",\"Bu\\u0161am[]PN\",\"PuzurA\\u0161\\u0161ur[]PN\",\"Bu\\u02bea[]PN\",\"Edudu\\u02bea[]PN\",\"Dada[]PN\",\"HidutAmarSu\\u02been[]PN\",\"\\u0160uSu\\u02beenmigirE\\u0161tar[]PN\",\"Daya[]PN\",\"Kur\\u014birini\\u0161e[]PN\",\"Endi\\u014bir\\u014bu[]PN\",\"Enlil[]DN\",\"\\u0160e\\u0161kala[]PN\",\"Ennumili[]PN\",\"GA.na.na.tum[]PN\",\"E\\u0161tarnada[]PN\",\"Gabidanum[]PN\",\"Galzudabulsin[]PN\",\"Ilabu\\u02beigadu[]PN\",\"Haburitum[]DN\",\"Inanak[]DN\",\"Ha\\u0161ipatal[]PN\",\"\\u0160u\\u02beEnlil[]PN\",\"Hu.un.ha.ab.UR[]PN\",\"Iabti[]PN\",\"Igirumah[]PN\",\"Ilag\\u0161uqir[]PN\",\"Ilallum[]PN\",\"Simat\\u0161arrim[]PN\",\"Im.x[00]PN\",\"Inimanizid[]PN\",\"Inzu[]PN\",\"Puzurili[]PN\",\"Nirida\\u014bal[]PN\",\"Su\\u02beenillat[]PN\",\"KA.x[00]PN\",\"X.x[00]PN\",\"Kubatum[]PN\",\"Lamahar[]PN\",\"LuNan\\u0161ek[]PN\",\"UrBa\\u02beuk[]PN\",\"Lubanda[]PN\",\"Na.x[00]PN\",\"X.mu[00]DN\",\"\\u0160etelili[]PN\",\"Lugalituda[]PN\",\"Tah\\u0161atal[]PN\",\"UrIgalimak[]PN\",\"Lugaltida[]PN\",\"Lukala[]PN\",\"Lusaga[]PN\",\"ME.{d}I\\u0161taran[]PN\",\"Alla\\u0161arrum[]PN\",\"Apili[]PN\",\"Me\\u0161i\\u02bead[]PN\",\"\\u0160u\\u0161ug[]PN\",\"Na.an.na[]PN\",\"Nabasag[]PN\",\"Nam.ra.ak[00]PN\",\"Namhani[]PN\",\"Nanna[]DN\",\"ME.E\\u2082.a[]PN\",\"Naramili[]PN\",\"Nawirili[]PN\",\"Anaa[]PN\",\"Nig\\u2082.il\\u2082[00]PN\",\"Nig\\u2082.x[00]PN\",\"Nihelu[]PN\",\"Ninegalak[]DN\",\"Ningal[]DN\",\"UrNingalak[]PN\",\"Ningilin[]DN\",\"Ge\\u0161.\\u0161a\\u2083[00]DN\",\"Ninhursa\\u014bak[]DN\",\"Nawar\\u0161en[]PN\",\"Ninkala[]PN\",\"Taddinkiza[]PN\",\"Ninlil[]DN\",\"Ninlilemana\\u014b[]PN\",\"Mulliltumnuri[]PN\",\"Ninurta[]DN\",\"Nin\\u0161uburak[]DN\",\"Lu\\u02beAmarSu\\u02beenak[]PN\",\"Ginuna[]PN\",\"Ni\\u014birinimginak[]PN\",\"Nurili[]PN\",\"Nur\\u0160ama\\u0161[]PN\",\"Nuska[]DN\",\"Il\\u0161urabi[]PN\",\"PuzurE\\u0161tar[]PN\",\"Ribagada[]PN\",\"Rigmu\\u0161[]PN\",\"Rimili[]PN\",\"\\u0160uru\\u0161kin[]PN\",\"Ri\\u1e63ili[]PN\",\"TaddinE\\u0161tar[]PN\",\"KinatNunu[]PN\",\"TuramDagan[]PN\",\"Uba[]PN\",\"Ubarum[]PN\",\"Ululal[]PN\",\"UrI\\u0161kurak[]PN\",\"Taburha\\u1e6d\\u1e6dum[]PN\",\"\\u0160unundu[]PN\",\"Zariq[]PN\",\"Amabarag[]PN\",\"GemeNannak[]PN\",\"Meslamta\\u02bee\\u02bea[]DN\",\"Zanum[]PN\",\"\\u0160alimni\\u02bea\\u0161[]PN\",\"\\u0160atSu\\u02been[]PN\",\"\\u0160ulgirama[]PN\",\"sukkalmah[official]N\",\"\\u0160arakam[]PN\",\"\\u0160arrumili[]PN\",\"LugalAnabtum[]PN\",\"Dari\\u0161matum[]PN\",\"\\u0160ebba[]PN\",\"Zeri[]PN\",\"\\u0160ennam[]PN\",\"\\u0160eteli[]PN\",\"Dudu[]PN\",\"\\u0160e\\u0161ani[]PN\",\"UrNan\\u0161ek[]PN\",\"\\u0160uSu\\u02beenili[]PN\",\"\\u0160ubram[]PN\",\"\\u0160ulgimati[]PN\",\"\\u0160ulgimi\\u0161ar[]PN\",\"\\u0160ulgir[]RN\",\"\\u0160ulgiradda\\u014bu[]PN\"],\"node_size\":[39,30,18,12,45,51,42,6,18,15,6,45,9,54,6,3,3,15,9,3,6,72,3,3,3,21,9,3,12,21,9,3,6,3,3,3,3,3,3,12,15,3,3,6,3,12,3,3,6,6,6,6,3,3,3,6,12,3,3,3,6,3,6,9,3,3,6,6,3,6,12,6,3,3,3,3,9,3,3,3,12,3,3,3,3,15,3,3,6,3,21,9,3,6,9,9,3,3,9,3,6,3,3,3,3,3,3,3,3,9,3,3,3,6,3,3,3,6,3,6,6,3,3,3,3,3,3,3,6,3,3,3,3,3,3,6,6,3,3,3,3,9,3,12,3,3,3,6,3,3,3,6,3,6,3,6,3,9,6,3,3,6,3,3,3,3,3,6,6,3,3,3,6,3,3,3,3,3,3,3,3,3,3,3,3,3,3,3]},\"selected\":{\"id\":\"1077\",\"type\":\"Selection\"},\"selection_policy\":{\"id\":\"1078\",\"type\":\"UnionRenderers\"}},\"id\":\"1012\",\"type\":\"ColumnDataSource\"},{\"attributes\":{\"line_alpha\":{\"value\":0.8},\"line_color\":{\"value\":\"#CCCCCC\"},\"line_width\":{\"field\":\"weight\"}},\"id\":\"1039\",\"type\":\"MultiLine\"},{\"attributes\":{\"data_source\":{\"id\":\"1012\",\"type\":\"ColumnDataSource\"},\"glyph\":{\"id\":\"1034\",\"type\":\"Circle\"},\"hover_glyph\":{\"id\":\"1029\",\"type\":\"Circle\"},\"muted_glyph\":null,\"selection_glyph\":{\"id\":\"1024\",\"type\":\"Circle\"},\"view\":{\"id\":\"1014\",\"type\":\"CDSView\"}},\"id\":\"1013\",\"type\":\"GlyphRenderer\"},{\"attributes\":{\"line_color\":{\"value\":\"#abdda4\"},\"line_width\":{\"field\":\"weight\"}},\"id\":\"1049\",\"type\":\"MultiLine\"},{\"attributes\":{\"source\":{\"id\":\"1012\",\"type\":\"ColumnDataSource\"}},\"id\":\"1014\",\"type\":\"CDSView\"},{\"attributes\":{\"text\":\"Drehem Treasure Archive\"},\"id\":\"1007\",\"type\":\"Title\"},{\"attributes\":{\"callback\":null,\"end\":2,\"start\":-2},\"id\":\"1002\",\"type\":\"Range1d\"},{\"attributes\":{\"bottom_units\":\"screen\",\"fill_alpha\":{\"value\":0.5},\"fill_color\":{\"value\":\"lightgrey\"},\"left_units\":\"screen\",\"level\":\"overlay\",\"line_alpha\":{\"value\":1.0},\"line_color\":{\"value\":\"black\"},\"line_dash\":[4,4],\"line_width\":{\"value\":2},\"render_mode\":\"css\",\"right_units\":\"screen\",\"top_units\":\"screen\"},\"id\":\"1076\",\"type\":\"BoxAnnotation\"},{\"attributes\":{\"line_color\":{\"value\":\"#fdae61\"},\"line_width\":{\"field\":\"weight\"}},\"id\":\"1044\",\"type\":\"MultiLine\"}],\"root_ids\":[\"1004\"]},\"title\":\"Bokeh Application\",\"version\":\"1.4.0\"}};\n",
       "  var render_items = [{\"docid\":\"7e534fd0-1ea7-4019-9c8a-b0752ffda466\",\"roots\":{\"1004\":\"3483ce68-f863-44c4-8e44-2c24d801e99c\"}}];\n",
       "  root.Bokeh.embed.embed_items_notebook(docs_json, render_items);\n",
       "\n",
       "  }\n",
       "  if (root.Bokeh !== undefined) {\n",
       "    embed_document(root);\n",
       "  } else {\n",
       "    var attempts = 0;\n",
       "    var timer = setInterval(function(root) {\n",
       "      if (root.Bokeh !== undefined) {\n",
       "        clearInterval(timer);\n",
       "        embed_document(root);\n",
       "      } else {\n",
       "        attempts++;\n",
       "        if (attempts > 100) {\n",
       "          clearInterval(timer);\n",
       "          console.log(\"Bokeh: ERROR: Unable to run BokehJS code because BokehJS library is missing\");\n",
       "        }\n",
       "      }\n",
       "    }, 10, root)\n",
       "  }\n",
       "})(window);"
      ],
      "application/vnd.bokehjs_exec.v0+json": ""
     },
     "metadata": {
      "application/vnd.bokehjs_exec.v0+json": {
       "id": "1004"
      }
     },
     "output_type": "display_data"
    }
   ],
   "source": [
    "# Show with Bokeh\n",
    "plot = Plot(plot_width=1000, plot_height=900,\n",
    "            x_range=Range1d(-2, 2), y_range=Range1d(-2, 2))\n",
    "plot.title.text = \"Drehem Treasure Archive\"\n",
    "\n",
    "graph_renderer = from_networkx(G, nx.circular_layout, scale=1.9, center=(0, 0))\n",
    "#graph_renderer.edge_renderer.data_source.data[\"line_width\"] = [G.get_edge_data(a,b)['weight'] for a, b in G.edges()]\n",
    "#graph_renderer.edge_renderer.glyph.line_width = {'field': 'line_width'}\n",
    "graph_renderer.edge_renderer.glyph.line_alpha = 0.8\n",
    "graph_renderer.node_renderer.selection_glyph = Circle(size='degree', fill_color=Spectral4[2])\n",
    "graph_renderer.node_renderer.hover_glyph = Circle(size='degree', fill_color=Spectral4[1])\n",
    "graph_renderer.node_renderer.glyph = Circle(size='degree', fill_color=Spectral4[0])\n",
    "graph_renderer.edge_renderer.glyph = MultiLine(line_color=\"#CCCCCC\", line_alpha=0.8, line_width = 'weight')\n",
    "graph_renderer.edge_renderer.selection_glyph = MultiLine(line_color=Spectral4[2], line_width = 'weight')\n",
    "graph_renderer.edge_renderer.hover_glyph = MultiLine(line_color=Spectral4[1], line_width =  'weight')\n",
    "\n",
    "graph_renderer.inspection_policy = NodesAndLinkedEdges()\n",
    "graph_renderer.selection_policy = EdgesAndLinkedNodes()\n",
    "\n",
    "node_hover_tool = HoverTool(tooltips=[(\"name\", \"@name\"), ('degree', '@value')])\n",
    "plot.renderers.append(graph_renderer)\n",
    "plot.add_tools(node_hover_tool, BoxZoomTool(), ResetTool())\n",
    "output_file(\"vis/interactive_graphs.html\")\n",
    "show(plot)"
   ]
  },
  {
   "cell_type": "markdown",
   "metadata": {},
   "source": [
    "# Tooltips for Edges\n",
    "The following code draws a network of the Drehem Treasure Archive. By selecting a node (click on the node) the node and all its direct neighbors are highlighted and the button below the drawing links to the collection of texts in ORACC from which these edges come.\n",
    "# TODO\n",
    "The list of P numbers is currently not unique - a P number may provide more than one relevant edge."
   ]
  },
  {
   "cell_type": "code",
   "execution_count": null,
   "metadata": {},
   "outputs": [],
   "source": [
    "plot = Plot(plot_width = 900, plot_height = 900,\n",
    "            x_range = Range1d(-1.1, 1.1), y_range = Range1d(-1.1, 1.1))\n",
    "plot.title.text = \"Drehem Treasure Archive\"\n",
    "\n",
    "plot.add_tools(HoverTool(tooltips = [('Text ID', '@id_text'), ('start', '@start'), ('end', '@end')]), \n",
    "               TapTool(), BoxSelectTool(), ResetTool(), BoxZoomTool(), SaveTool())\n",
    "\n",
    "graph_renderer = from_networkx(G, nx.circular_layout, scale = 1, center = (0, 0))\n",
    "\n",
    "graph_renderer.node_renderer.glyph = Circle(size = 'node_size', fill_color = Spectral4[0])\n",
    "graph_renderer.node_renderer.selection_glyph = Circle(size = 'node_size', fill_color = Spectral4[2])\n",
    "graph_renderer.node_renderer.hover_glyph = Circle(size = 'node_size', fill_color = Spectral4[1])\n",
    "\n",
    "graph_renderer.edge_renderer.glyph = MultiLine(line_color = \"#CCCCCC\", line_alpha = 0.8, line_width = 5)\n",
    "graph_renderer.edge_renderer.selection_glyph = MultiLine(line_color = Spectral4[2], line_width = 5)\n",
    "graph_renderer.edge_renderer.hover_glyph = MultiLine(line_color = Spectral4[1], line_width = 5)\n",
    "\n",
    "graph_renderer.selection_policy = NodesAndLinkedEdges()\n",
    "graph_renderer.inspection_policy = EdgesAndLinkedNodes()\n",
    "\n",
    "plot.renderers.append(graph_renderer)\n",
    "\n",
    "info_text_ids = TextInput(title = 'Text IDs:', value = '')\n",
    "info_start_end = TextInput(title = 'Start => End Values:', value = '')\n",
    "url = \"http://oracc.org/epsd2/admin/ur3/\"\n",
    "esource = graph_renderer.edge_renderer.data_source\n",
    "code = \"\"\"  start_end_values = []\n",
    "            text_ids = []\n",
    "            for(idx in esource.selected.indices)\n",
    "            {\n",
    "                index = esource.selected.indices[idx]\n",
    "                start_end_values.push(esource.data['start'][index] + '=>' + esource.data['end'][index] ); \n",
    "                text_ids.push(esource.data['id_text'][index]) \n",
    "            }\n",
    "            info_start_end.value = String(start_end_values);\n",
    "            info_text_ids.value = String(text_ids);\"\"\"\n",
    "code2 = \"\"\" urlnew = url.concat(info_text_ids.value);\n",
    "            window.open(urlnew)\"\"\"\n",
    "callback = CustomJS(args = dict(esource = esource, \n",
    "                                info_text_ids = info_text_ids, \n",
    "                                info_start_end = info_start_end), \n",
    "                    code = code)\n",
    "plot.select_one(TapTool).callback = callback\n",
    "button = Button(label=\"Click to open text editions\", button_type=\"success\")\n",
    "button.js_on_click(CustomJS(args = dict(url=url, info_text_ids=info_text_ids), \n",
    "                        code=code2))\n",
    "show(Column(plot, info_start_end, info_text_ids, button))"
   ]
  },
  {
   "cell_type": "code",
   "execution_count": 38,
   "metadata": {},
   "outputs": [
    {
     "data": {
      "text/html": [
       "\n",
       "\n",
       "\n",
       "\n",
       "\n",
       "\n",
       "  <div class=\"bk-root\" id=\"9cea3bef-8a7f-43f7-a0d5-f52cb214ebde\" data-root-id=\"1502\"></div>\n"
      ]
     },
     "metadata": {},
     "output_type": "display_data"
    },
    {
     "data": {
      "application/javascript": [
       "(function(root) {\n",
       "  function embed_document(root) {\n",
       "    \n",
       "  var docs_json = {\"79350d0b-d18b-451c-b456-339c4a0d02b0\":{\"roots\":{\"references\":[{\"attributes\":{\"children\":[{\"id\":\"1413\",\"type\":\"Plot\"},{\"id\":\"1476\",\"type\":\"TextInput\"},{\"id\":\"1475\",\"type\":\"TextInput\"},{\"id\":\"1500\",\"type\":\"Button\"}]},\"id\":\"1502\",\"type\":\"Column\"},{\"attributes\":{\"plot_height\":900,\"plot_width\":900,\"renderers\":[{\"id\":\"1431\",\"type\":\"GraphRenderer\"}],\"title\":{\"id\":\"1416\",\"type\":\"Title\"},\"toolbar\":{\"id\":\"1423\",\"type\":\"Toolbar\"},\"x_range\":{\"id\":\"1411\",\"type\":\"Range1d\"},\"x_scale\":{\"id\":\"1483\",\"type\":\"LinearScale\"},\"y_range\":{\"id\":\"1412\",\"type\":\"Range1d\"},\"y_scale\":{\"id\":\"1484\",\"type\":\"LinearScale\"}},\"id\":\"1413\",\"type\":\"Plot\"},{\"attributes\":{\"data_source\":{\"id\":\"1433\",\"type\":\"ColumnDataSource\"},\"glyph\":{\"id\":\"1441\",\"type\":\"Circle\"},\"hover_glyph\":{\"id\":\"1451\",\"type\":\"Circle\"},\"muted_glyph\":null,\"selection_glyph\":{\"id\":\"1446\",\"type\":\"Circle\"},\"view\":{\"id\":\"1435\",\"type\":\"CDSView\"}},\"id\":\"1434\",\"type\":\"GlyphRenderer\"},{\"attributes\":{},\"id\":\"1498\",\"type\":\"Selection\"},{\"attributes\":{\"callback\":{\"id\":\"1481\",\"type\":\"CustomJS\"}},\"id\":\"1418\",\"type\":\"TapTool\"},{\"attributes\":{},\"id\":\"1420\",\"type\":\"ResetTool\"},{\"attributes\":{\"source\":{\"id\":\"1433\",\"type\":\"ColumnDataSource\"}},\"id\":\"1435\",\"type\":\"CDSView\"},{\"attributes\":{\"active_drag\":\"auto\",\"active_inspect\":\"auto\",\"active_multi\":null,\"active_scroll\":\"auto\",\"active_tap\":\"auto\",\"tools\":[{\"id\":\"1417\",\"type\":\"HoverTool\"},{\"id\":\"1418\",\"type\":\"TapTool\"},{\"id\":\"1419\",\"type\":\"BoxSelectTool\"},{\"id\":\"1420\",\"type\":\"ResetTool\"},{\"id\":\"1421\",\"type\":\"BoxZoomTool\"},{\"id\":\"1422\",\"type\":\"SaveTool\"}]},\"id\":\"1423\",\"type\":\"Toolbar\"},{\"attributes\":{},\"id\":\"1471\",\"type\":\"NodesAndLinkedEdges\"},{\"attributes\":{},\"id\":\"1497\",\"type\":\"UnionRenderers\"},{\"attributes\":{},\"id\":\"1499\",\"type\":\"UnionRenderers\"},{\"attributes\":{\"bottom_units\":\"screen\",\"fill_alpha\":{\"value\":0.5},\"fill_color\":{\"value\":\"lightgrey\"},\"left_units\":\"screen\",\"level\":\"overlay\",\"line_alpha\":{\"value\":1.0},\"line_color\":{\"value\":\"black\"},\"line_dash\":[4,4],\"line_width\":{\"value\":2},\"render_mode\":\"css\",\"right_units\":\"screen\",\"top_units\":\"screen\"},\"id\":\"1495\",\"type\":\"BoxAnnotation\"},{\"attributes\":{\"callback\":null,\"data\":{\"edge_size\":[[3,3,3,3,3,3,3,3,3,3,3,3,3,27,3,3,3,3,3,3,3,3,3,3,3,3,3,6,3,3,3,3,3,3,3,9,12,3,3,3,3,3,3,3,9,3,3,3,3,3,3,3,3,3,3,3,3,3,3,3,3,3,3,3,6,6,3,3,6,3,3,3,3,3,6,3,3,3,3,3,3,3,3,3,9,3,3,6,3,3,3,3,3,3,3,3,3,3,3,3,3,3,3,3,3,3,3,3,3,3,3,3,3,3,3,3,3,3,3,3,3,3,3,3,3,3,3,3,3,3,3,6,3,18,3,3,3,3,3,3,3,3,3,3,3,3,3,3,3,3,3,3,3,3,3,3,3,3,3,3,3,3,9,3,3,3,3,3,3,3,3,3,3,3,3,3,3,3,3,3,3,6,3,3,3,3,3,3,3,3,3,3,3,3,3,3,3,3,3,3,3,3,3,3,3,12,3,3,3,3,3,3,3,3,3,3,3,3],[3,3,3,3,3,3,3,3,3,3,3,3,3,27,3,3,3,3,3,3,3,3,3,3,3,3,3,6,3,3,3,3,3,3,3,9,12,3,3,3,3,3,3,3,9,3,3,3,3,3,3,3,3,3,3,3,3,3,3,3,3,3,3,3,6,6,3,3,6,3,3,3,3,3,6,3,3,3,3,3,3,3,3,3,9,3,3,6,3,3,3,3,3,3,3,3,3,3,3,3,3,3,3,3,3,3,3,3,3,3,3,3,3,3,3,3,3,3,3,3,3,3,3,3,3,3,3,3,3,3,3,6,3,18,3,3,3,3,3,3,3,3,3,3,3,3,3,3,3,3,3,3,3,3,3,3,3,3,3,3,3,3,9,3,3,3,3,3,3,3,3,3,3,3,3,3,3,3,3,3,3,6,3,3,3,3,3,3,3,3,3,3,3,3,3,3,3,3,3,3,3,3,3,3,3,12,3,3,3,3,3,3,3,3,3,3,3,3],[3,3,3,3,3,3,3,3,3,3,3,3,3,27,3,3,3,3,3,3,3,3,3,3,3,3,3,6,3,3,3,3,3,3,3,9,12,3,3,3,3,3,3,3,9,3,3,3,3,3,3,3,3,3,3,3,3,3,3,3,3,3,3,3,6,6,3,3,6,3,3,3,3,3,6,3,3,3,3,3,3,3,3,3,9,3,3,6,3,3,3,3,3,3,3,3,3,3,3,3,3,3,3,3,3,3,3,3,3,3,3,3,3,3,3,3,3,3,3,3,3,3,3,3,3,3,3,3,3,3,3,6,3,18,3,3,3,3,3,3,3,3,3,3,3,3,3,3,3,3,3,3,3,3,3,3,3,3,3,3,3,3,9,3,3,3,3,3,3,3,3,3,3,3,3,3,3,3,3,3,3,6,3,3,3,3,3,3,3,3,3,3,3,3,3,3,3,3,3,3,3,3,3,3,3,12,3,3,3,3,3,3,3,3,3,3,3,3],[3,3,3,3,3,3,3,3,3,3,3,3,3,27,3,3,3,3,3,3,3,3,3,3,3,3,3,6,3,3,3,3,3,3,3,9,12,3,3,3,3,3,3,3,9,3,3,3,3,3,3,3,3,3,3,3,3,3,3,3,3,3,3,3,6,6,3,3,6,3,3,3,3,3,6,3,3,3,3,3,3,3,3,3,9,3,3,6,3,3,3,3,3,3,3,3,3,3,3,3,3,3,3,3,3,3,3,3,3,3,3,3,3,3,3,3,3,3,3,3,3,3,3,3,3,3,3,3,3,3,3,6,3,18,3,3,3,3,3,3,3,3,3,3,3,3,3,3,3,3,3,3,3,3,3,3,3,3,3,3,3,3,9,3,3,3,3,3,3,3,3,3,3,3,3,3,3,3,3,3,3,6,3,3,3,3,3,3,3,3,3,3,3,3,3,3,3,3,3,3,3,3,3,3,3,12,3,3,3,3,3,3,3,3,3,3,3,3],[3,3,3,3,3,3,3,3,3,3,3,3,3,27,3,3,3,3,3,3,3,3,3,3,3,3,3,6,3,3,3,3,3,3,3,9,12,3,3,3,3,3,3,3,9,3,3,3,3,3,3,3,3,3,3,3,3,3,3,3,3,3,3,3,6,6,3,3,6,3,3,3,3,3,6,3,3,3,3,3,3,3,3,3,9,3,3,6,3,3,3,3,3,3,3,3,3,3,3,3,3,3,3,3,3,3,3,3,3,3,3,3,3,3,3,3,3,3,3,3,3,3,3,3,3,3,3,3,3,3,3,6,3,18,3,3,3,3,3,3,3,3,3,3,3,3,3,3,3,3,3,3,3,3,3,3,3,3,3,3,3,3,9,3,3,3,3,3,3,3,3,3,3,3,3,3,3,3,3,3,3,6,3,3,3,3,3,3,3,3,3,3,3,3,3,3,3,3,3,3,3,3,3,3,3,12,3,3,3,3,3,3,3,3,3,3,3,3],[3,3,3,3,3,3,3,3,3,3,3,3,3,27,3,3,3,3,3,3,3,3,3,3,3,3,3,6,3,3,3,3,3,3,3,9,12,3,3,3,3,3,3,3,9,3,3,3,3,3,3,3,3,3,3,3,3,3,3,3,3,3,3,3,6,6,3,3,6,3,3,3,3,3,6,3,3,3,3,3,3,3,3,3,9,3,3,6,3,3,3,3,3,3,3,3,3,3,3,3,3,3,3,3,3,3,3,3,3,3,3,3,3,3,3,3,3,3,3,3,3,3,3,3,3,3,3,3,3,3,3,6,3,18,3,3,3,3,3,3,3,3,3,3,3,3,3,3,3,3,3,3,3,3,3,3,3,3,3,3,3,3,9,3,3,3,3,3,3,3,3,3,3,3,3,3,3,3,3,3,3,6,3,3,3,3,3,3,3,3,3,3,3,3,3,3,3,3,3,3,3,3,3,3,3,12,3,3,3,3,3,3,3,3,3,3,3,3],[3,3,3,3,3,3,3,3,3,3,3,3,3,27,3,3,3,3,3,3,3,3,3,3,3,3,3,6,3,3,3,3,3,3,3,9,12,3,3,3,3,3,3,3,9,3,3,3,3,3,3,3,3,3,3,3,3,3,3,3,3,3,3,3,6,6,3,3,6,3,3,3,3,3,6,3,3,3,3,3,3,3,3,3,9,3,3,6,3,3,3,3,3,3,3,3,3,3,3,3,3,3,3,3,3,3,3,3,3,3,3,3,3,3,3,3,3,3,3,3,3,3,3,3,3,3,3,3,3,3,3,6,3,18,3,3,3,3,3,3,3,3,3,3,3,3,3,3,3,3,3,3,3,3,3,3,3,3,3,3,3,3,9,3,3,3,3,3,3,3,3,3,3,3,3,3,3,3,3,3,3,6,3,3,3,3,3,3,3,3,3,3,3,3,3,3,3,3,3,3,3,3,3,3,3,12,3,3,3,3,3,3,3,3,3,3,3,3],[3,3,3,3,3,3,3,3,3,3,3,3,3,27,3,3,3,3,3,3,3,3,3,3,3,3,3,6,3,3,3,3,3,3,3,9,12,3,3,3,3,3,3,3,9,3,3,3,3,3,3,3,3,3,3,3,3,3,3,3,3,3,3,3,6,6,3,3,6,3,3,3,3,3,6,3,3,3,3,3,3,3,3,3,9,3,3,6,3,3,3,3,3,3,3,3,3,3,3,3,3,3,3,3,3,3,3,3,3,3,3,3,3,3,3,3,3,3,3,3,3,3,3,3,3,3,3,3,3,3,3,6,3,18,3,3,3,3,3,3,3,3,3,3,3,3,3,3,3,3,3,3,3,3,3,3,3,3,3,3,3,3,9,3,3,3,3,3,3,3,3,3,3,3,3,3,3,3,3,3,3,6,3,3,3,3,3,3,3,3,3,3,3,3,3,3,3,3,3,3,3,3,3,3,3,12,3,3,3,3,3,3,3,3,3,3,3,3],[3,3,3,3,3,3,3,3,3,3,3,3,3,27,3,3,3,3,3,3,3,3,3,3,3,3,3,6,3,3,3,3,3,3,3,9,12,3,3,3,3,3,3,3,9,3,3,3,3,3,3,3,3,3,3,3,3,3,3,3,3,3,3,3,6,6,3,3,6,3,3,3,3,3,6,3,3,3,3,3,3,3,3,3,9,3,3,6,3,3,3,3,3,3,3,3,3,3,3,3,3,3,3,3,3,3,3,3,3,3,3,3,3,3,3,3,3,3,3,3,3,3,3,3,3,3,3,3,3,3,3,6,3,18,3,3,3,3,3,3,3,3,3,3,3,3,3,3,3,3,3,3,3,3,3,3,3,3,3,3,3,3,9,3,3,3,3,3,3,3,3,3,3,3,3,3,3,3,3,3,3,6,3,3,3,3,3,3,3,3,3,3,3,3,3,3,3,3,3,3,3,3,3,3,3,12,3,3,3,3,3,3,3,3,3,3,3,3],[3,3,3,3,3,3,3,3,3,3,3,3,3,27,3,3,3,3,3,3,3,3,3,3,3,3,3,6,3,3,3,3,3,3,3,9,12,3,3,3,3,3,3,3,9,3,3,3,3,3,3,3,3,3,3,3,3,3,3,3,3,3,3,3,6,6,3,3,6,3,3,3,3,3,6,3,3,3,3,3,3,3,3,3,9,3,3,6,3,3,3,3,3,3,3,3,3,3,3,3,3,3,3,3,3,3,3,3,3,3,3,3,3,3,3,3,3,3,3,3,3,3,3,3,3,3,3,3,3,3,3,6,3,18,3,3,3,3,3,3,3,3,3,3,3,3,3,3,3,3,3,3,3,3,3,3,3,3,3,3,3,3,9,3,3,3,3,3,3,3,3,3,3,3,3,3,3,3,3,3,3,6,3,3,3,3,3,3,3,3,3,3,3,3,3,3,3,3,3,3,3,3,3,3,3,12,3,3,3,3,3,3,3,3,3,3,3,3],[3,3,3,3,3,3,3,3,3,3,3,3,3,27,3,3,3,3,3,3,3,3,3,3,3,3,3,6,3,3,3,3,3,3,3,9,12,3,3,3,3,3,3,3,9,3,3,3,3,3,3,3,3,3,3,3,3,3,3,3,3,3,3,3,6,6,3,3,6,3,3,3,3,3,6,3,3,3,3,3,3,3,3,3,9,3,3,6,3,3,3,3,3,3,3,3,3,3,3,3,3,3,3,3,3,3,3,3,3,3,3,3,3,3,3,3,3,3,3,3,3,3,3,3,3,3,3,3,3,3,3,6,3,18,3,3,3,3,3,3,3,3,3,3,3,3,3,3,3,3,3,3,3,3,3,3,3,3,3,3,3,3,9,3,3,3,3,3,3,3,3,3,3,3,3,3,3,3,3,3,3,6,3,3,3,3,3,3,3,3,3,3,3,3,3,3,3,3,3,3,3,3,3,3,3,12,3,3,3,3,3,3,3,3,3,3,3,3],[3,3,3,3,3,3,3,3,3,3,3,3,3,27,3,3,3,3,3,3,3,3,3,3,3,3,3,6,3,3,3,3,3,3,3,9,12,3,3,3,3,3,3,3,9,3,3,3,3,3,3,3,3,3,3,3,3,3,3,3,3,3,3,3,6,6,3,3,6,3,3,3,3,3,6,3,3,3,3,3,3,3,3,3,9,3,3,6,3,3,3,3,3,3,3,3,3,3,3,3,3,3,3,3,3,3,3,3,3,3,3,3,3,3,3,3,3,3,3,3,3,3,3,3,3,3,3,3,3,3,3,6,3,18,3,3,3,3,3,3,3,3,3,3,3,3,3,3,3,3,3,3,3,3,3,3,3,3,3,3,3,3,9,3,3,3,3,3,3,3,3,3,3,3,3,3,3,3,3,3,3,6,3,3,3,3,3,3,3,3,3,3,3,3,3,3,3,3,3,3,3,3,3,3,3,12,3,3,3,3,3,3,3,3,3,3,3,3],[3,3,3,3,3,3,3,3,3,3,3,3,3,27,3,3,3,3,3,3,3,3,3,3,3,3,3,6,3,3,3,3,3,3,3,9,12,3,3,3,3,3,3,3,9,3,3,3,3,3,3,3,3,3,3,3,3,3,3,3,3,3,3,3,6,6,3,3,6,3,3,3,3,3,6,3,3,3,3,3,3,3,3,3,9,3,3,6,3,3,3,3,3,3,3,3,3,3,3,3,3,3,3,3,3,3,3,3,3,3,3,3,3,3,3,3,3,3,3,3,3,3,3,3,3,3,3,3,3,3,3,6,3,18,3,3,3,3,3,3,3,3,3,3,3,3,3,3,3,3,3,3,3,3,3,3,3,3,3,3,3,3,9,3,3,3,3,3,3,3,3,3,3,3,3,3,3,3,3,3,3,6,3,3,3,3,3,3,3,3,3,3,3,3,3,3,3,3,3,3,3,3,3,3,3,12,3,3,3,3,3,3,3,3,3,3,3,3],[3,3,3,3,3,3,3,3,3,3,3,3,3,27,3,3,3,3,3,3,3,3,3,3,3,3,3,6,3,3,3,3,3,3,3,9,12,3,3,3,3,3,3,3,9,3,3,3,3,3,3,3,3,3,3,3,3,3,3,3,3,3,3,3,6,6,3,3,6,3,3,3,3,3,6,3,3,3,3,3,3,3,3,3,9,3,3,6,3,3,3,3,3,3,3,3,3,3,3,3,3,3,3,3,3,3,3,3,3,3,3,3,3,3,3,3,3,3,3,3,3,3,3,3,3,3,3,3,3,3,3,6,3,18,3,3,3,3,3,3,3,3,3,3,3,3,3,3,3,3,3,3,3,3,3,3,3,3,3,3,3,3,9,3,3,3,3,3,3,3,3,3,3,3,3,3,3,3,3,3,3,6,3,3,3,3,3,3,3,3,3,3,3,3,3,3,3,3,3,3,3,3,3,3,3,12,3,3,3,3,3,3,3,3,3,3,3,3],[3,3,3,3,3,3,3,3,3,3,3,3,3,27,3,3,3,3,3,3,3,3,3,3,3,3,3,6,3,3,3,3,3,3,3,9,12,3,3,3,3,3,3,3,9,3,3,3,3,3,3,3,3,3,3,3,3,3,3,3,3,3,3,3,6,6,3,3,6,3,3,3,3,3,6,3,3,3,3,3,3,3,3,3,9,3,3,6,3,3,3,3,3,3,3,3,3,3,3,3,3,3,3,3,3,3,3,3,3,3,3,3,3,3,3,3,3,3,3,3,3,3,3,3,3,3,3,3,3,3,3,6,3,18,3,3,3,3,3,3,3,3,3,3,3,3,3,3,3,3,3,3,3,3,3,3,3,3,3,3,3,3,9,3,3,3,3,3,3,3,3,3,3,3,3,3,3,3,3,3,3,6,3,3,3,3,3,3,3,3,3,3,3,3,3,3,3,3,3,3,3,3,3,3,3,12,3,3,3,3,3,3,3,3,3,3,3,3],[3,3,3,3,3,3,3,3,3,3,3,3,3,27,3,3,3,3,3,3,3,3,3,3,3,3,3,6,3,3,3,3,3,3,3,9,12,3,3,3,3,3,3,3,9,3,3,3,3,3,3,3,3,3,3,3,3,3,3,3,3,3,3,3,6,6,3,3,6,3,3,3,3,3,6,3,3,3,3,3,3,3,3,3,9,3,3,6,3,3,3,3,3,3,3,3,3,3,3,3,3,3,3,3,3,3,3,3,3,3,3,3,3,3,3,3,3,3,3,3,3,3,3,3,3,3,3,3,3,3,3,6,3,18,3,3,3,3,3,3,3,3,3,3,3,3,3,3,3,3,3,3,3,3,3,3,3,3,3,3,3,3,9,3,3,3,3,3,3,3,3,3,3,3,3,3,3,3,3,3,3,6,3,3,3,3,3,3,3,3,3,3,3,3,3,3,3,3,3,3,3,3,3,3,3,12,3,3,3,3,3,3,3,3,3,3,3,3],[3,3,3,3,3,3,3,3,3,3,3,3,3,27,3,3,3,3,3,3,3,3,3,3,3,3,3,6,3,3,3,3,3,3,3,9,12,3,3,3,3,3,3,3,9,3,3,3,3,3,3,3,3,3,3,3,3,3,3,3,3,3,3,3,6,6,3,3,6,3,3,3,3,3,6,3,3,3,3,3,3,3,3,3,9,3,3,6,3,3,3,3,3,3,3,3,3,3,3,3,3,3,3,3,3,3,3,3,3,3,3,3,3,3,3,3,3,3,3,3,3,3,3,3,3,3,3,3,3,3,3,6,3,18,3,3,3,3,3,3,3,3,3,3,3,3,3,3,3,3,3,3,3,3,3,3,3,3,3,3,3,3,9,3,3,3,3,3,3,3,3,3,3,3,3,3,3,3,3,3,3,6,3,3,3,3,3,3,3,3,3,3,3,3,3,3,3,3,3,3,3,3,3,3,3,12,3,3,3,3,3,3,3,3,3,3,3,3],[3,3,3,3,3,3,3,3,3,3,3,3,3,27,3,3,3,3,3,3,3,3,3,3,3,3,3,6,3,3,3,3,3,3,3,9,12,3,3,3,3,3,3,3,9,3,3,3,3,3,3,3,3,3,3,3,3,3,3,3,3,3,3,3,6,6,3,3,6,3,3,3,3,3,6,3,3,3,3,3,3,3,3,3,9,3,3,6,3,3,3,3,3,3,3,3,3,3,3,3,3,3,3,3,3,3,3,3,3,3,3,3,3,3,3,3,3,3,3,3,3,3,3,3,3,3,3,3,3,3,3,6,3,18,3,3,3,3,3,3,3,3,3,3,3,3,3,3,3,3,3,3,3,3,3,3,3,3,3,3,3,3,9,3,3,3,3,3,3,3,3,3,3,3,3,3,3,3,3,3,3,6,3,3,3,3,3,3,3,3,3,3,3,3,3,3,3,3,3,3,3,3,3,3,3,12,3,3,3,3,3,3,3,3,3,3,3,3],[3,3,3,3,3,3,3,3,3,3,3,3,3,27,3,3,3,3,3,3,3,3,3,3,3,3,3,6,3,3,3,3,3,3,3,9,12,3,3,3,3,3,3,3,9,3,3,3,3,3,3,3,3,3,3,3,3,3,3,3,3,3,3,3,6,6,3,3,6,3,3,3,3,3,6,3,3,3,3,3,3,3,3,3,9,3,3,6,3,3,3,3,3,3,3,3,3,3,3,3,3,3,3,3,3,3,3,3,3,3,3,3,3,3,3,3,3,3,3,3,3,3,3,3,3,3,3,3,3,3,3,6,3,18,3,3,3,3,3,3,3,3,3,3,3,3,3,3,3,3,3,3,3,3,3,3,3,3,3,3,3,3,9,3,3,3,3,3,3,3,3,3,3,3,3,3,3,3,3,3,3,6,3,3,3,3,3,3,3,3,3,3,3,3,3,3,3,3,3,3,3,3,3,3,3,12,3,3,3,3,3,3,3,3,3,3,3,3],[3,3,3,3,3,3,3,3,3,3,3,3,3,27,3,3,3,3,3,3,3,3,3,3,3,3,3,6,3,3,3,3,3,3,3,9,12,3,3,3,3,3,3,3,9,3,3,3,3,3,3,3,3,3,3,3,3,3,3,3,3,3,3,3,6,6,3,3,6,3,3,3,3,3,6,3,3,3,3,3,3,3,3,3,9,3,3,6,3,3,3,3,3,3,3,3,3,3,3,3,3,3,3,3,3,3,3,3,3,3,3,3,3,3,3,3,3,3,3,3,3,3,3,3,3,3,3,3,3,3,3,6,3,18,3,3,3,3,3,3,3,3,3,3,3,3,3,3,3,3,3,3,3,3,3,3,3,3,3,3,3,3,9,3,3,3,3,3,3,3,3,3,3,3,3,3,3,3,3,3,3,6,3,3,3,3,3,3,3,3,3,3,3,3,3,3,3,3,3,3,3,3,3,3,3,12,3,3,3,3,3,3,3,3,3,3,3,3],[3,3,3,3,3,3,3,3,3,3,3,3,3,27,3,3,3,3,3,3,3,3,3,3,3,3,3,6,3,3,3,3,3,3,3,9,12,3,3,3,3,3,3,3,9,3,3,3,3,3,3,3,3,3,3,3,3,3,3,3,3,3,3,3,6,6,3,3,6,3,3,3,3,3,6,3,3,3,3,3,3,3,3,3,9,3,3,6,3,3,3,3,3,3,3,3,3,3,3,3,3,3,3,3,3,3,3,3,3,3,3,3,3,3,3,3,3,3,3,3,3,3,3,3,3,3,3,3,3,3,3,6,3,18,3,3,3,3,3,3,3,3,3,3,3,3,3,3,3,3,3,3,3,3,3,3,3,3,3,3,3,3,9,3,3,3,3,3,3,3,3,3,3,3,3,3,3,3,3,3,3,6,3,3,3,3,3,3,3,3,3,3,3,3,3,3,3,3,3,3,3,3,3,3,3,12,3,3,3,3,3,3,3,3,3,3,3,3],[3,3,3,3,3,3,3,3,3,3,3,3,3,27,3,3,3,3,3,3,3,3,3,3,3,3,3,6,3,3,3,3,3,3,3,9,12,3,3,3,3,3,3,3,9,3,3,3,3,3,3,3,3,3,3,3,3,3,3,3,3,3,3,3,6,6,3,3,6,3,3,3,3,3,6,3,3,3,3,3,3,3,3,3,9,3,3,6,3,3,3,3,3,3,3,3,3,3,3,3,3,3,3,3,3,3,3,3,3,3,3,3,3,3,3,3,3,3,3,3,3,3,3,3,3,3,3,3,3,3,3,6,3,18,3,3,3,3,3,3,3,3,3,3,3,3,3,3,3,3,3,3,3,3,3,3,3,3,3,3,3,3,9,3,3,3,3,3,3,3,3,3,3,3,3,3,3,3,3,3,3,6,3,3,3,3,3,3,3,3,3,3,3,3,3,3,3,3,3,3,3,3,3,3,3,12,3,3,3,3,3,3,3,3,3,3,3,3],[3,3,3,3,3,3,3,3,3,3,3,3,3,27,3,3,3,3,3,3,3,3,3,3,3,3,3,6,3,3,3,3,3,3,3,9,12,3,3,3,3,3,3,3,9,3,3,3,3,3,3,3,3,3,3,3,3,3,3,3,3,3,3,3,6,6,3,3,6,3,3,3,3,3,6,3,3,3,3,3,3,3,3,3,9,3,3,6,3,3,3,3,3,3,3,3,3,3,3,3,3,3,3,3,3,3,3,3,3,3,3,3,3,3,3,3,3,3,3,3,3,3,3,3,3,3,3,3,3,3,3,6,3,18,3,3,3,3,3,3,3,3,3,3,3,3,3,3,3,3,3,3,3,3,3,3,3,3,3,3,3,3,9,3,3,3,3,3,3,3,3,3,3,3,3,3,3,3,3,3,3,6,3,3,3,3,3,3,3,3,3,3,3,3,3,3,3,3,3,3,3,3,3,3,3,12,3,3,3,3,3,3,3,3,3,3,3,3],[3,3,3,3,3,3,3,3,3,3,3,3,3,27,3,3,3,3,3,3,3,3,3,3,3,3,3,6,3,3,3,3,3,3,3,9,12,3,3,3,3,3,3,3,9,3,3,3,3,3,3,3,3,3,3,3,3,3,3,3,3,3,3,3,6,6,3,3,6,3,3,3,3,3,6,3,3,3,3,3,3,3,3,3,9,3,3,6,3,3,3,3,3,3,3,3,3,3,3,3,3,3,3,3,3,3,3,3,3,3,3,3,3,3,3,3,3,3,3,3,3,3,3,3,3,3,3,3,3,3,3,6,3,18,3,3,3,3,3,3,3,3,3,3,3,3,3,3,3,3,3,3,3,3,3,3,3,3,3,3,3,3,9,3,3,3,3,3,3,3,3,3,3,3,3,3,3,3,3,3,3,6,3,3,3,3,3,3,3,3,3,3,3,3,3,3,3,3,3,3,3,3,3,3,3,12,3,3,3,3,3,3,3,3,3,3,3,3],[3,3,3,3,3,3,3,3,3,3,3,3,3,27,3,3,3,3,3,3,3,3,3,3,3,3,3,6,3,3,3,3,3,3,3,9,12,3,3,3,3,3,3,3,9,3,3,3,3,3,3,3,3,3,3,3,3,3,3,3,3,3,3,3,6,6,3,3,6,3,3,3,3,3,6,3,3,3,3,3,3,3,3,3,9,3,3,6,3,3,3,3,3,3,3,3,3,3,3,3,3,3,3,3,3,3,3,3,3,3,3,3,3,3,3,3,3,3,3,3,3,3,3,3,3,3,3,3,3,3,3,6,3,18,3,3,3,3,3,3,3,3,3,3,3,3,3,3,3,3,3,3,3,3,3,3,3,3,3,3,3,3,9,3,3,3,3,3,3,3,3,3,3,3,3,3,3,3,3,3,3,6,3,3,3,3,3,3,3,3,3,3,3,3,3,3,3,3,3,3,3,3,3,3,3,12,3,3,3,3,3,3,3,3,3,3,3,3],[3,3,3,3,3,3,3,3,3,3,3,3,3,27,3,3,3,3,3,3,3,3,3,3,3,3,3,6,3,3,3,3,3,3,3,9,12,3,3,3,3,3,3,3,9,3,3,3,3,3,3,3,3,3,3,3,3,3,3,3,3,3,3,3,6,6,3,3,6,3,3,3,3,3,6,3,3,3,3,3,3,3,3,3,9,3,3,6,3,3,3,3,3,3,3,3,3,3,3,3,3,3,3,3,3,3,3,3,3,3,3,3,3,3,3,3,3,3,3,3,3,3,3,3,3,3,3,3,3,3,3,6,3,18,3,3,3,3,3,3,3,3,3,3,3,3,3,3,3,3,3,3,3,3,3,3,3,3,3,3,3,3,9,3,3,3,3,3,3,3,3,3,3,3,3,3,3,3,3,3,3,6,3,3,3,3,3,3,3,3,3,3,3,3,3,3,3,3,3,3,3,3,3,3,3,12,3,3,3,3,3,3,3,3,3,3,3,3],[3,3,3,3,3,3,3,3,3,3,3,3,3,27,3,3,3,3,3,3,3,3,3,3,3,3,3,6,3,3,3,3,3,3,3,9,12,3,3,3,3,3,3,3,9,3,3,3,3,3,3,3,3,3,3,3,3,3,3,3,3,3,3,3,6,6,3,3,6,3,3,3,3,3,6,3,3,3,3,3,3,3,3,3,9,3,3,6,3,3,3,3,3,3,3,3,3,3,3,3,3,3,3,3,3,3,3,3,3,3,3,3,3,3,3,3,3,3,3,3,3,3,3,3,3,3,3,3,3,3,3,6,3,18,3,3,3,3,3,3,3,3,3,3,3,3,3,3,3,3,3,3,3,3,3,3,3,3,3,3,3,3,9,3,3,3,3,3,3,3,3,3,3,3,3,3,3,3,3,3,3,6,3,3,3,3,3,3,3,3,3,3,3,3,3,3,3,3,3,3,3,3,3,3,3,12,3,3,3,3,3,3,3,3,3,3,3,3],[3,3,3,3,3,3,3,3,3,3,3,3,3,27,3,3,3,3,3,3,3,3,3,3,3,3,3,6,3,3,3,3,3,3,3,9,12,3,3,3,3,3,3,3,9,3,3,3,3,3,3,3,3,3,3,3,3,3,3,3,3,3,3,3,6,6,3,3,6,3,3,3,3,3,6,3,3,3,3,3,3,3,3,3,9,3,3,6,3,3,3,3,3,3,3,3,3,3,3,3,3,3,3,3,3,3,3,3,3,3,3,3,3,3,3,3,3,3,3,3,3,3,3,3,3,3,3,3,3,3,3,6,3,18,3,3,3,3,3,3,3,3,3,3,3,3,3,3,3,3,3,3,3,3,3,3,3,3,3,3,3,3,9,3,3,3,3,3,3,3,3,3,3,3,3,3,3,3,3,3,3,6,3,3,3,3,3,3,3,3,3,3,3,3,3,3,3,3,3,3,3,3,3,3,3,12,3,3,3,3,3,3,3,3,3,3,3,3],[3,3,3,3,3,3,3,3,3,3,3,3,3,27,3,3,3,3,3,3,3,3,3,3,3,3,3,6,3,3,3,3,3,3,3,9,12,3,3,3,3,3,3,3,9,3,3,3,3,3,3,3,3,3,3,3,3,3,3,3,3,3,3,3,6,6,3,3,6,3,3,3,3,3,6,3,3,3,3,3,3,3,3,3,9,3,3,6,3,3,3,3,3,3,3,3,3,3,3,3,3,3,3,3,3,3,3,3,3,3,3,3,3,3,3,3,3,3,3,3,3,3,3,3,3,3,3,3,3,3,3,6,3,18,3,3,3,3,3,3,3,3,3,3,3,3,3,3,3,3,3,3,3,3,3,3,3,3,3,3,3,3,9,3,3,3,3,3,3,3,3,3,3,3,3,3,3,3,3,3,3,6,3,3,3,3,3,3,3,3,3,3,3,3,3,3,3,3,3,3,3,3,3,3,3,12,3,3,3,3,3,3,3,3,3,3,3,3],[3,3,3,3,3,3,3,3,3,3,3,3,3,27,3,3,3,3,3,3,3,3,3,3,3,3,3,6,3,3,3,3,3,3,3,9,12,3,3,3,3,3,3,3,9,3,3,3,3,3,3,3,3,3,3,3,3,3,3,3,3,3,3,3,6,6,3,3,6,3,3,3,3,3,6,3,3,3,3,3,3,3,3,3,9,3,3,6,3,3,3,3,3,3,3,3,3,3,3,3,3,3,3,3,3,3,3,3,3,3,3,3,3,3,3,3,3,3,3,3,3,3,3,3,3,3,3,3,3,3,3,6,3,18,3,3,3,3,3,3,3,3,3,3,3,3,3,3,3,3,3,3,3,3,3,3,3,3,3,3,3,3,9,3,3,3,3,3,3,3,3,3,3,3,3,3,3,3,3,3,3,6,3,3,3,3,3,3,3,3,3,3,3,3,3,3,3,3,3,3,3,3,3,3,3,12,3,3,3,3,3,3,3,3,3,3,3,3],[3,3,3,3,3,3,3,3,3,3,3,3,3,27,3,3,3,3,3,3,3,3,3,3,3,3,3,6,3,3,3,3,3,3,3,9,12,3,3,3,3,3,3,3,9,3,3,3,3,3,3,3,3,3,3,3,3,3,3,3,3,3,3,3,6,6,3,3,6,3,3,3,3,3,6,3,3,3,3,3,3,3,3,3,9,3,3,6,3,3,3,3,3,3,3,3,3,3,3,3,3,3,3,3,3,3,3,3,3,3,3,3,3,3,3,3,3,3,3,3,3,3,3,3,3,3,3,3,3,3,3,6,3,18,3,3,3,3,3,3,3,3,3,3,3,3,3,3,3,3,3,3,3,3,3,3,3,3,3,3,3,3,9,3,3,3,3,3,3,3,3,3,3,3,3,3,3,3,3,3,3,6,3,3,3,3,3,3,3,3,3,3,3,3,3,3,3,3,3,3,3,3,3,3,3,12,3,3,3,3,3,3,3,3,3,3,3,3],[3,3,3,3,3,3,3,3,3,3,3,3,3,27,3,3,3,3,3,3,3,3,3,3,3,3,3,6,3,3,3,3,3,3,3,9,12,3,3,3,3,3,3,3,9,3,3,3,3,3,3,3,3,3,3,3,3,3,3,3,3,3,3,3,6,6,3,3,6,3,3,3,3,3,6,3,3,3,3,3,3,3,3,3,9,3,3,6,3,3,3,3,3,3,3,3,3,3,3,3,3,3,3,3,3,3,3,3,3,3,3,3,3,3,3,3,3,3,3,3,3,3,3,3,3,3,3,3,3,3,3,6,3,18,3,3,3,3,3,3,3,3,3,3,3,3,3,3,3,3,3,3,3,3,3,3,3,3,3,3,3,3,9,3,3,3,3,3,3,3,3,3,3,3,3,3,3,3,3,3,3,6,3,3,3,3,3,3,3,3,3,3,3,3,3,3,3,3,3,3,3,3,3,3,3,12,3,3,3,3,3,3,3,3,3,3,3,3],[3,3,3,3,3,3,3,3,3,3,3,3,3,27,3,3,3,3,3,3,3,3,3,3,3,3,3,6,3,3,3,3,3,3,3,9,12,3,3,3,3,3,3,3,9,3,3,3,3,3,3,3,3,3,3,3,3,3,3,3,3,3,3,3,6,6,3,3,6,3,3,3,3,3,6,3,3,3,3,3,3,3,3,3,9,3,3,6,3,3,3,3,3,3,3,3,3,3,3,3,3,3,3,3,3,3,3,3,3,3,3,3,3,3,3,3,3,3,3,3,3,3,3,3,3,3,3,3,3,3,3,6,3,18,3,3,3,3,3,3,3,3,3,3,3,3,3,3,3,3,3,3,3,3,3,3,3,3,3,3,3,3,9,3,3,3,3,3,3,3,3,3,3,3,3,3,3,3,3,3,3,6,3,3,3,3,3,3,3,3,3,3,3,3,3,3,3,3,3,3,3,3,3,3,3,12,3,3,3,3,3,3,3,3,3,3,3,3],[3,3,3,3,3,3,3,3,3,3,3,3,3,27,3,3,3,3,3,3,3,3,3,3,3,3,3,6,3,3,3,3,3,3,3,9,12,3,3,3,3,3,3,3,9,3,3,3,3,3,3,3,3,3,3,3,3,3,3,3,3,3,3,3,6,6,3,3,6,3,3,3,3,3,6,3,3,3,3,3,3,3,3,3,9,3,3,6,3,3,3,3,3,3,3,3,3,3,3,3,3,3,3,3,3,3,3,3,3,3,3,3,3,3,3,3,3,3,3,3,3,3,3,3,3,3,3,3,3,3,3,6,3,18,3,3,3,3,3,3,3,3,3,3,3,3,3,3,3,3,3,3,3,3,3,3,3,3,3,3,3,3,9,3,3,3,3,3,3,3,3,3,3,3,3,3,3,3,3,3,3,6,3,3,3,3,3,3,3,3,3,3,3,3,3,3,3,3,3,3,3,3,3,3,3,12,3,3,3,3,3,3,3,3,3,3,3,3],[3,3,3,3,3,3,3,3,3,3,3,3,3,27,3,3,3,3,3,3,3,3,3,3,3,3,3,6,3,3,3,3,3,3,3,9,12,3,3,3,3,3,3,3,9,3,3,3,3,3,3,3,3,3,3,3,3,3,3,3,3,3,3,3,6,6,3,3,6,3,3,3,3,3,6,3,3,3,3,3,3,3,3,3,9,3,3,6,3,3,3,3,3,3,3,3,3,3,3,3,3,3,3,3,3,3,3,3,3,3,3,3,3,3,3,3,3,3,3,3,3,3,3,3,3,3,3,3,3,3,3,6,3,18,3,3,3,3,3,3,3,3,3,3,3,3,3,3,3,3,3,3,3,3,3,3,3,3,3,3,3,3,9,3,3,3,3,3,3,3,3,3,3,3,3,3,3,3,3,3,3,6,3,3,3,3,3,3,3,3,3,3,3,3,3,3,3,3,3,3,3,3,3,3,3,12,3,3,3,3,3,3,3,3,3,3,3,3],[3,3,3,3,3,3,3,3,3,3,3,3,3,27,3,3,3,3,3,3,3,3,3,3,3,3,3,6,3,3,3,3,3,3,3,9,12,3,3,3,3,3,3,3,9,3,3,3,3,3,3,3,3,3,3,3,3,3,3,3,3,3,3,3,6,6,3,3,6,3,3,3,3,3,6,3,3,3,3,3,3,3,3,3,9,3,3,6,3,3,3,3,3,3,3,3,3,3,3,3,3,3,3,3,3,3,3,3,3,3,3,3,3,3,3,3,3,3,3,3,3,3,3,3,3,3,3,3,3,3,3,6,3,18,3,3,3,3,3,3,3,3,3,3,3,3,3,3,3,3,3,3,3,3,3,3,3,3,3,3,3,3,9,3,3,3,3,3,3,3,3,3,3,3,3,3,3,3,3,3,3,6,3,3,3,3,3,3,3,3,3,3,3,3,3,3,3,3,3,3,3,3,3,3,3,12,3,3,3,3,3,3,3,3,3,3,3,3],[3,3,3,3,3,3,3,3,3,3,3,3,3,27,3,3,3,3,3,3,3,3,3,3,3,3,3,6,3,3,3,3,3,3,3,9,12,3,3,3,3,3,3,3,9,3,3,3,3,3,3,3,3,3,3,3,3,3,3,3,3,3,3,3,6,6,3,3,6,3,3,3,3,3,6,3,3,3,3,3,3,3,3,3,9,3,3,6,3,3,3,3,3,3,3,3,3,3,3,3,3,3,3,3,3,3,3,3,3,3,3,3,3,3,3,3,3,3,3,3,3,3,3,3,3,3,3,3,3,3,3,6,3,18,3,3,3,3,3,3,3,3,3,3,3,3,3,3,3,3,3,3,3,3,3,3,3,3,3,3,3,3,9,3,3,3,3,3,3,3,3,3,3,3,3,3,3,3,3,3,3,6,3,3,3,3,3,3,3,3,3,3,3,3,3,3,3,3,3,3,3,3,3,3,3,12,3,3,3,3,3,3,3,3,3,3,3,3],[3,3,3,3,3,3,3,3,3,3,3,3,3,27,3,3,3,3,3,3,3,3,3,3,3,3,3,6,3,3,3,3,3,3,3,9,12,3,3,3,3,3,3,3,9,3,3,3,3,3,3,3,3,3,3,3,3,3,3,3,3,3,3,3,6,6,3,3,6,3,3,3,3,3,6,3,3,3,3,3,3,3,3,3,9,3,3,6,3,3,3,3,3,3,3,3,3,3,3,3,3,3,3,3,3,3,3,3,3,3,3,3,3,3,3,3,3,3,3,3,3,3,3,3,3,3,3,3,3,3,3,6,3,18,3,3,3,3,3,3,3,3,3,3,3,3,3,3,3,3,3,3,3,3,3,3,3,3,3,3,3,3,9,3,3,3,3,3,3,3,3,3,3,3,3,3,3,3,3,3,3,6,3,3,3,3,3,3,3,3,3,3,3,3,3,3,3,3,3,3,3,3,3,3,3,12,3,3,3,3,3,3,3,3,3,3,3,3],[3,3,3,3,3,3,3,3,3,3,3,3,3,27,3,3,3,3,3,3,3,3,3,3,3,3,3,6,3,3,3,3,3,3,3,9,12,3,3,3,3,3,3,3,9,3,3,3,3,3,3,3,3,3,3,3,3,3,3,3,3,3,3,3,6,6,3,3,6,3,3,3,3,3,6,3,3,3,3,3,3,3,3,3,9,3,3,6,3,3,3,3,3,3,3,3,3,3,3,3,3,3,3,3,3,3,3,3,3,3,3,3,3,3,3,3,3,3,3,3,3,3,3,3,3,3,3,3,3,3,3,6,3,18,3,3,3,3,3,3,3,3,3,3,3,3,3,3,3,3,3,3,3,3,3,3,3,3,3,3,3,3,9,3,3,3,3,3,3,3,3,3,3,3,3,3,3,3,3,3,3,6,3,3,3,3,3,3,3,3,3,3,3,3,3,3,3,3,3,3,3,3,3,3,3,12,3,3,3,3,3,3,3,3,3,3,3,3],[3,3,3,3,3,3,3,3,3,3,3,3,3,27,3,3,3,3,3,3,3,3,3,3,3,3,3,6,3,3,3,3,3,3,3,9,12,3,3,3,3,3,3,3,9,3,3,3,3,3,3,3,3,3,3,3,3,3,3,3,3,3,3,3,6,6,3,3,6,3,3,3,3,3,6,3,3,3,3,3,3,3,3,3,9,3,3,6,3,3,3,3,3,3,3,3,3,3,3,3,3,3,3,3,3,3,3,3,3,3,3,3,3,3,3,3,3,3,3,3,3,3,3,3,3,3,3,3,3,3,3,6,3,18,3,3,3,3,3,3,3,3,3,3,3,3,3,3,3,3,3,3,3,3,3,3,3,3,3,3,3,3,9,3,3,3,3,3,3,3,3,3,3,3,3,3,3,3,3,3,3,6,3,3,3,3,3,3,3,3,3,3,3,3,3,3,3,3,3,3,3,3,3,3,3,12,3,3,3,3,3,3,3,3,3,3,3,3],[3,3,3,3,3,3,3,3,3,3,3,3,3,27,3,3,3,3,3,3,3,3,3,3,3,3,3,6,3,3,3,3,3,3,3,9,12,3,3,3,3,3,3,3,9,3,3,3,3,3,3,3,3,3,3,3,3,3,3,3,3,3,3,3,6,6,3,3,6,3,3,3,3,3,6,3,3,3,3,3,3,3,3,3,9,3,3,6,3,3,3,3,3,3,3,3,3,3,3,3,3,3,3,3,3,3,3,3,3,3,3,3,3,3,3,3,3,3,3,3,3,3,3,3,3,3,3,3,3,3,3,6,3,18,3,3,3,3,3,3,3,3,3,3,3,3,3,3,3,3,3,3,3,3,3,3,3,3,3,3,3,3,9,3,3,3,3,3,3,3,3,3,3,3,3,3,3,3,3,3,3,6,3,3,3,3,3,3,3,3,3,3,3,3,3,3,3,3,3,3,3,3,3,3,3,12,3,3,3,3,3,3,3,3,3,3,3,3],[3,3,3,3,3,3,3,3,3,3,3,3,3,27,3,3,3,3,3,3,3,3,3,3,3,3,3,6,3,3,3,3,3,3,3,9,12,3,3,3,3,3,3,3,9,3,3,3,3,3,3,3,3,3,3,3,3,3,3,3,3,3,3,3,6,6,3,3,6,3,3,3,3,3,6,3,3,3,3,3,3,3,3,3,9,3,3,6,3,3,3,3,3,3,3,3,3,3,3,3,3,3,3,3,3,3,3,3,3,3,3,3,3,3,3,3,3,3,3,3,3,3,3,3,3,3,3,3,3,3,3,6,3,18,3,3,3,3,3,3,3,3,3,3,3,3,3,3,3,3,3,3,3,3,3,3,3,3,3,3,3,3,9,3,3,3,3,3,3,3,3,3,3,3,3,3,3,3,3,3,3,6,3,3,3,3,3,3,3,3,3,3,3,3,3,3,3,3,3,3,3,3,3,3,3,12,3,3,3,3,3,3,3,3,3,3,3,3],[3,3,3,3,3,3,3,3,3,3,3,3,3,27,3,3,3,3,3,3,3,3,3,3,3,3,3,6,3,3,3,3,3,3,3,9,12,3,3,3,3,3,3,3,9,3,3,3,3,3,3,3,3,3,3,3,3,3,3,3,3,3,3,3,6,6,3,3,6,3,3,3,3,3,6,3,3,3,3,3,3,3,3,3,9,3,3,6,3,3,3,3,3,3,3,3,3,3,3,3,3,3,3,3,3,3,3,3,3,3,3,3,3,3,3,3,3,3,3,3,3,3,3,3,3,3,3,3,3,3,3,6,3,18,3,3,3,3,3,3,3,3,3,3,3,3,3,3,3,3,3,3,3,3,3,3,3,3,3,3,3,3,9,3,3,3,3,3,3,3,3,3,3,3,3,3,3,3,3,3,3,6,3,3,3,3,3,3,3,3,3,3,3,3,3,3,3,3,3,3,3,3,3,3,3,12,3,3,3,3,3,3,3,3,3,3,3,3],[3,3,3,3,3,3,3,3,3,3,3,3,3,27,3,3,3,3,3,3,3,3,3,3,3,3,3,6,3,3,3,3,3,3,3,9,12,3,3,3,3,3,3,3,9,3,3,3,3,3,3,3,3,3,3,3,3,3,3,3,3,3,3,3,6,6,3,3,6,3,3,3,3,3,6,3,3,3,3,3,3,3,3,3,9,3,3,6,3,3,3,3,3,3,3,3,3,3,3,3,3,3,3,3,3,3,3,3,3,3,3,3,3,3,3,3,3,3,3,3,3,3,3,3,3,3,3,3,3,3,3,6,3,18,3,3,3,3,3,3,3,3,3,3,3,3,3,3,3,3,3,3,3,3,3,3,3,3,3,3,3,3,9,3,3,3,3,3,3,3,3,3,3,3,3,3,3,3,3,3,3,6,3,3,3,3,3,3,3,3,3,3,3,3,3,3,3,3,3,3,3,3,3,3,3,12,3,3,3,3,3,3,3,3,3,3,3,3],[3,3,3,3,3,3,3,3,3,3,3,3,3,27,3,3,3,3,3,3,3,3,3,3,3,3,3,6,3,3,3,3,3,3,3,9,12,3,3,3,3,3,3,3,9,3,3,3,3,3,3,3,3,3,3,3,3,3,3,3,3,3,3,3,6,6,3,3,6,3,3,3,3,3,6,3,3,3,3,3,3,3,3,3,9,3,3,6,3,3,3,3,3,3,3,3,3,3,3,3,3,3,3,3,3,3,3,3,3,3,3,3,3,3,3,3,3,3,3,3,3,3,3,3,3,3,3,3,3,3,3,6,3,18,3,3,3,3,3,3,3,3,3,3,3,3,3,3,3,3,3,3,3,3,3,3,3,3,3,3,3,3,9,3,3,3,3,3,3,3,3,3,3,3,3,3,3,3,3,3,3,6,3,3,3,3,3,3,3,3,3,3,3,3,3,3,3,3,3,3,3,3,3,3,3,12,3,3,3,3,3,3,3,3,3,3,3,3],[3,3,3,3,3,3,3,3,3,3,3,3,3,27,3,3,3,3,3,3,3,3,3,3,3,3,3,6,3,3,3,3,3,3,3,9,12,3,3,3,3,3,3,3,9,3,3,3,3,3,3,3,3,3,3,3,3,3,3,3,3,3,3,3,6,6,3,3,6,3,3,3,3,3,6,3,3,3,3,3,3,3,3,3,9,3,3,6,3,3,3,3,3,3,3,3,3,3,3,3,3,3,3,3,3,3,3,3,3,3,3,3,3,3,3,3,3,3,3,3,3,3,3,3,3,3,3,3,3,3,3,6,3,18,3,3,3,3,3,3,3,3,3,3,3,3,3,3,3,3,3,3,3,3,3,3,3,3,3,3,3,3,9,3,3,3,3,3,3,3,3,3,3,3,3,3,3,3,3,3,3,6,3,3,3,3,3,3,3,3,3,3,3,3,3,3,3,3,3,3,3,3,3,3,3,12,3,3,3,3,3,3,3,3,3,3,3,3],[3,3,3,3,3,3,3,3,3,3,3,3,3,27,3,3,3,3,3,3,3,3,3,3,3,3,3,6,3,3,3,3,3,3,3,9,12,3,3,3,3,3,3,3,9,3,3,3,3,3,3,3,3,3,3,3,3,3,3,3,3,3,3,3,6,6,3,3,6,3,3,3,3,3,6,3,3,3,3,3,3,3,3,3,9,3,3,6,3,3,3,3,3,3,3,3,3,3,3,3,3,3,3,3,3,3,3,3,3,3,3,3,3,3,3,3,3,3,3,3,3,3,3,3,3,3,3,3,3,3,3,6,3,18,3,3,3,3,3,3,3,3,3,3,3,3,3,3,3,3,3,3,3,3,3,3,3,3,3,3,3,3,9,3,3,3,3,3,3,3,3,3,3,3,3,3,3,3,3,3,3,6,3,3,3,3,3,3,3,3,3,3,3,3,3,3,3,3,3,3,3,3,3,3,3,12,3,3,3,3,3,3,3,3,3,3,3,3],[3,3,3,3,3,3,3,3,3,3,3,3,3,27,3,3,3,3,3,3,3,3,3,3,3,3,3,6,3,3,3,3,3,3,3,9,12,3,3,3,3,3,3,3,9,3,3,3,3,3,3,3,3,3,3,3,3,3,3,3,3,3,3,3,6,6,3,3,6,3,3,3,3,3,6,3,3,3,3,3,3,3,3,3,9,3,3,6,3,3,3,3,3,3,3,3,3,3,3,3,3,3,3,3,3,3,3,3,3,3,3,3,3,3,3,3,3,3,3,3,3,3,3,3,3,3,3,3,3,3,3,6,3,18,3,3,3,3,3,3,3,3,3,3,3,3,3,3,3,3,3,3,3,3,3,3,3,3,3,3,3,3,9,3,3,3,3,3,3,3,3,3,3,3,3,3,3,3,3,3,3,6,3,3,3,3,3,3,3,3,3,3,3,3,3,3,3,3,3,3,3,3,3,3,3,12,3,3,3,3,3,3,3,3,3,3,3,3],[3,3,3,3,3,3,3,3,3,3,3,3,3,27,3,3,3,3,3,3,3,3,3,3,3,3,3,6,3,3,3,3,3,3,3,9,12,3,3,3,3,3,3,3,9,3,3,3,3,3,3,3,3,3,3,3,3,3,3,3,3,3,3,3,6,6,3,3,6,3,3,3,3,3,6,3,3,3,3,3,3,3,3,3,9,3,3,6,3,3,3,3,3,3,3,3,3,3,3,3,3,3,3,3,3,3,3,3,3,3,3,3,3,3,3,3,3,3,3,3,3,3,3,3,3,3,3,3,3,3,3,6,3,18,3,3,3,3,3,3,3,3,3,3,3,3,3,3,3,3,3,3,3,3,3,3,3,3,3,3,3,3,9,3,3,3,3,3,3,3,3,3,3,3,3,3,3,3,3,3,3,6,3,3,3,3,3,3,3,3,3,3,3,3,3,3,3,3,3,3,3,3,3,3,3,12,3,3,3,3,3,3,3,3,3,3,3,3],[3,3,3,3,3,3,3,3,3,3,3,3,3,27,3,3,3,3,3,3,3,3,3,3,3,3,3,6,3,3,3,3,3,3,3,9,12,3,3,3,3,3,3,3,9,3,3,3,3,3,3,3,3,3,3,3,3,3,3,3,3,3,3,3,6,6,3,3,6,3,3,3,3,3,6,3,3,3,3,3,3,3,3,3,9,3,3,6,3,3,3,3,3,3,3,3,3,3,3,3,3,3,3,3,3,3,3,3,3,3,3,3,3,3,3,3,3,3,3,3,3,3,3,3,3,3,3,3,3,3,3,6,3,18,3,3,3,3,3,3,3,3,3,3,3,3,3,3,3,3,3,3,3,3,3,3,3,3,3,3,3,3,9,3,3,3,3,3,3,3,3,3,3,3,3,3,3,3,3,3,3,6,3,3,3,3,3,3,3,3,3,3,3,3,3,3,3,3,3,3,3,3,3,3,3,12,3,3,3,3,3,3,3,3,3,3,3,3],[3,3,3,3,3,3,3,3,3,3,3,3,3,27,3,3,3,3,3,3,3,3,3,3,3,3,3,6,3,3,3,3,3,3,3,9,12,3,3,3,3,3,3,3,9,3,3,3,3,3,3,3,3,3,3,3,3,3,3,3,3,3,3,3,6,6,3,3,6,3,3,3,3,3,6,3,3,3,3,3,3,3,3,3,9,3,3,6,3,3,3,3,3,3,3,3,3,3,3,3,3,3,3,3,3,3,3,3,3,3,3,3,3,3,3,3,3,3,3,3,3,3,3,3,3,3,3,3,3,3,3,6,3,18,3,3,3,3,3,3,3,3,3,3,3,3,3,3,3,3,3,3,3,3,3,3,3,3,3,3,3,3,9,3,3,3,3,3,3,3,3,3,3,3,3,3,3,3,3,3,3,6,3,3,3,3,3,3,3,3,3,3,3,3,3,3,3,3,3,3,3,3,3,3,3,12,3,3,3,3,3,3,3,3,3,3,3,3],[3,3,3,3,3,3,3,3,3,3,3,3,3,27,3,3,3,3,3,3,3,3,3,3,3,3,3,6,3,3,3,3,3,3,3,9,12,3,3,3,3,3,3,3,9,3,3,3,3,3,3,3,3,3,3,3,3,3,3,3,3,3,3,3,6,6,3,3,6,3,3,3,3,3,6,3,3,3,3,3,3,3,3,3,9,3,3,6,3,3,3,3,3,3,3,3,3,3,3,3,3,3,3,3,3,3,3,3,3,3,3,3,3,3,3,3,3,3,3,3,3,3,3,3,3,3,3,3,3,3,3,6,3,18,3,3,3,3,3,3,3,3,3,3,3,3,3,3,3,3,3,3,3,3,3,3,3,3,3,3,3,3,9,3,3,3,3,3,3,3,3,3,3,3,3,3,3,3,3,3,3,6,3,3,3,3,3,3,3,3,3,3,3,3,3,3,3,3,3,3,3,3,3,3,3,12,3,3,3,3,3,3,3,3,3,3,3,3],[3,3,3,3,3,3,3,3,3,3,3,3,3,27,3,3,3,3,3,3,3,3,3,3,3,3,3,6,3,3,3,3,3,3,3,9,12,3,3,3,3,3,3,3,9,3,3,3,3,3,3,3,3,3,3,3,3,3,3,3,3,3,3,3,6,6,3,3,6,3,3,3,3,3,6,3,3,3,3,3,3,3,3,3,9,3,3,6,3,3,3,3,3,3,3,3,3,3,3,3,3,3,3,3,3,3,3,3,3,3,3,3,3,3,3,3,3,3,3,3,3,3,3,3,3,3,3,3,3,3,3,6,3,18,3,3,3,3,3,3,3,3,3,3,3,3,3,3,3,3,3,3,3,3,3,3,3,3,3,3,3,3,9,3,3,3,3,3,3,3,3,3,3,3,3,3,3,3,3,3,3,6,3,3,3,3,3,3,3,3,3,3,3,3,3,3,3,3,3,3,3,3,3,3,3,12,3,3,3,3,3,3,3,3,3,3,3,3],[3,3,3,3,3,3,3,3,3,3,3,3,3,27,3,3,3,3,3,3,3,3,3,3,3,3,3,6,3,3,3,3,3,3,3,9,12,3,3,3,3,3,3,3,9,3,3,3,3,3,3,3,3,3,3,3,3,3,3,3,3,3,3,3,6,6,3,3,6,3,3,3,3,3,6,3,3,3,3,3,3,3,3,3,9,3,3,6,3,3,3,3,3,3,3,3,3,3,3,3,3,3,3,3,3,3,3,3,3,3,3,3,3,3,3,3,3,3,3,3,3,3,3,3,3,3,3,3,3,3,3,6,3,18,3,3,3,3,3,3,3,3,3,3,3,3,3,3,3,3,3,3,3,3,3,3,3,3,3,3,3,3,9,3,3,3,3,3,3,3,3,3,3,3,3,3,3,3,3,3,3,6,3,3,3,3,3,3,3,3,3,3,3,3,3,3,3,3,3,3,3,3,3,3,3,12,3,3,3,3,3,3,3,3,3,3,3,3],[3,3,3,3,3,3,3,3,3,3,3,3,3,27,3,3,3,3,3,3,3,3,3,3,3,3,3,6,3,3,3,3,3,3,3,9,12,3,3,3,3,3,3,3,9,3,3,3,3,3,3,3,3,3,3,3,3,3,3,3,3,3,3,3,6,6,3,3,6,3,3,3,3,3,6,3,3,3,3,3,3,3,3,3,9,3,3,6,3,3,3,3,3,3,3,3,3,3,3,3,3,3,3,3,3,3,3,3,3,3,3,3,3,3,3,3,3,3,3,3,3,3,3,3,3,3,3,3,3,3,3,6,3,18,3,3,3,3,3,3,3,3,3,3,3,3,3,3,3,3,3,3,3,3,3,3,3,3,3,3,3,3,9,3,3,3,3,3,3,3,3,3,3,3,3,3,3,3,3,3,3,6,3,3,3,3,3,3,3,3,3,3,3,3,3,3,3,3,3,3,3,3,3,3,3,12,3,3,3,3,3,3,3,3,3,3,3,3],[3,3,3,3,3,3,3,3,3,3,3,3,3,27,3,3,3,3,3,3,3,3,3,3,3,3,3,6,3,3,3,3,3,3,3,9,12,3,3,3,3,3,3,3,9,3,3,3,3,3,3,3,3,3,3,3,3,3,3,3,3,3,3,3,6,6,3,3,6,3,3,3,3,3,6,3,3,3,3,3,3,3,3,3,9,3,3,6,3,3,3,3,3,3,3,3,3,3,3,3,3,3,3,3,3,3,3,3,3,3,3,3,3,3,3,3,3,3,3,3,3,3,3,3,3,3,3,3,3,3,3,6,3,18,3,3,3,3,3,3,3,3,3,3,3,3,3,3,3,3,3,3,3,3,3,3,3,3,3,3,3,3,9,3,3,3,3,3,3,3,3,3,3,3,3,3,3,3,3,3,3,6,3,3,3,3,3,3,3,3,3,3,3,3,3,3,3,3,3,3,3,3,3,3,3,12,3,3,3,3,3,3,3,3,3,3,3,3],[3,3,3,3,3,3,3,3,3,3,3,3,3,27,3,3,3,3,3,3,3,3,3,3,3,3,3,6,3,3,3,3,3,3,3,9,12,3,3,3,3,3,3,3,9,3,3,3,3,3,3,3,3,3,3,3,3,3,3,3,3,3,3,3,6,6,3,3,6,3,3,3,3,3,6,3,3,3,3,3,3,3,3,3,9,3,3,6,3,3,3,3,3,3,3,3,3,3,3,3,3,3,3,3,3,3,3,3,3,3,3,3,3,3,3,3,3,3,3,3,3,3,3,3,3,3,3,3,3,3,3,6,3,18,3,3,3,3,3,3,3,3,3,3,3,3,3,3,3,3,3,3,3,3,3,3,3,3,3,3,3,3,9,3,3,3,3,3,3,3,3,3,3,3,3,3,3,3,3,3,3,6,3,3,3,3,3,3,3,3,3,3,3,3,3,3,3,3,3,3,3,3,3,3,3,12,3,3,3,3,3,3,3,3,3,3,3,3],[3,3,3,3,3,3,3,3,3,3,3,3,3,27,3,3,3,3,3,3,3,3,3,3,3,3,3,6,3,3,3,3,3,3,3,9,12,3,3,3,3,3,3,3,9,3,3,3,3,3,3,3,3,3,3,3,3,3,3,3,3,3,3,3,6,6,3,3,6,3,3,3,3,3,6,3,3,3,3,3,3,3,3,3,9,3,3,6,3,3,3,3,3,3,3,3,3,3,3,3,3,3,3,3,3,3,3,3,3,3,3,3,3,3,3,3,3,3,3,3,3,3,3,3,3,3,3,3,3,3,3,6,3,18,3,3,3,3,3,3,3,3,3,3,3,3,3,3,3,3,3,3,3,3,3,3,3,3,3,3,3,3,9,3,3,3,3,3,3,3,3,3,3,3,3,3,3,3,3,3,3,6,3,3,3,3,3,3,3,3,3,3,3,3,3,3,3,3,3,3,3,3,3,3,3,12,3,3,3,3,3,3,3,3,3,3,3,3],[3,3,3,3,3,3,3,3,3,3,3,3,3,27,3,3,3,3,3,3,3,3,3,3,3,3,3,6,3,3,3,3,3,3,3,9,12,3,3,3,3,3,3,3,9,3,3,3,3,3,3,3,3,3,3,3,3,3,3,3,3,3,3,3,6,6,3,3,6,3,3,3,3,3,6,3,3,3,3,3,3,3,3,3,9,3,3,6,3,3,3,3,3,3,3,3,3,3,3,3,3,3,3,3,3,3,3,3,3,3,3,3,3,3,3,3,3,3,3,3,3,3,3,3,3,3,3,3,3,3,3,6,3,18,3,3,3,3,3,3,3,3,3,3,3,3,3,3,3,3,3,3,3,3,3,3,3,3,3,3,3,3,9,3,3,3,3,3,3,3,3,3,3,3,3,3,3,3,3,3,3,6,3,3,3,3,3,3,3,3,3,3,3,3,3,3,3,3,3,3,3,3,3,3,3,12,3,3,3,3,3,3,3,3,3,3,3,3],[3,3,3,3,3,3,3,3,3,3,3,3,3,27,3,3,3,3,3,3,3,3,3,3,3,3,3,6,3,3,3,3,3,3,3,9,12,3,3,3,3,3,3,3,9,3,3,3,3,3,3,3,3,3,3,3,3,3,3,3,3,3,3,3,6,6,3,3,6,3,3,3,3,3,6,3,3,3,3,3,3,3,3,3,9,3,3,6,3,3,3,3,3,3,3,3,3,3,3,3,3,3,3,3,3,3,3,3,3,3,3,3,3,3,3,3,3,3,3,3,3,3,3,3,3,3,3,3,3,3,3,6,3,18,3,3,3,3,3,3,3,3,3,3,3,3,3,3,3,3,3,3,3,3,3,3,3,3,3,3,3,3,9,3,3,3,3,3,3,3,3,3,3,3,3,3,3,3,3,3,3,6,3,3,3,3,3,3,3,3,3,3,3,3,3,3,3,3,3,3,3,3,3,3,3,12,3,3,3,3,3,3,3,3,3,3,3,3],[3,3,3,3,3,3,3,3,3,3,3,3,3,27,3,3,3,3,3,3,3,3,3,3,3,3,3,6,3,3,3,3,3,3,3,9,12,3,3,3,3,3,3,3,9,3,3,3,3,3,3,3,3,3,3,3,3,3,3,3,3,3,3,3,6,6,3,3,6,3,3,3,3,3,6,3,3,3,3,3,3,3,3,3,9,3,3,6,3,3,3,3,3,3,3,3,3,3,3,3,3,3,3,3,3,3,3,3,3,3,3,3,3,3,3,3,3,3,3,3,3,3,3,3,3,3,3,3,3,3,3,6,3,18,3,3,3,3,3,3,3,3,3,3,3,3,3,3,3,3,3,3,3,3,3,3,3,3,3,3,3,3,9,3,3,3,3,3,3,3,3,3,3,3,3,3,3,3,3,3,3,6,3,3,3,3,3,3,3,3,3,3,3,3,3,3,3,3,3,3,3,3,3,3,3,12,3,3,3,3,3,3,3,3,3,3,3,3],[3,3,3,3,3,3,3,3,3,3,3,3,3,27,3,3,3,3,3,3,3,3,3,3,3,3,3,6,3,3,3,3,3,3,3,9,12,3,3,3,3,3,3,3,9,3,3,3,3,3,3,3,3,3,3,3,3,3,3,3,3,3,3,3,6,6,3,3,6,3,3,3,3,3,6,3,3,3,3,3,3,3,3,3,9,3,3,6,3,3,3,3,3,3,3,3,3,3,3,3,3,3,3,3,3,3,3,3,3,3,3,3,3,3,3,3,3,3,3,3,3,3,3,3,3,3,3,3,3,3,3,6,3,18,3,3,3,3,3,3,3,3,3,3,3,3,3,3,3,3,3,3,3,3,3,3,3,3,3,3,3,3,9,3,3,3,3,3,3,3,3,3,3,3,3,3,3,3,3,3,3,6,3,3,3,3,3,3,3,3,3,3,3,3,3,3,3,3,3,3,3,3,3,3,3,12,3,3,3,3,3,3,3,3,3,3,3,3],[3,3,3,3,3,3,3,3,3,3,3,3,3,27,3,3,3,3,3,3,3,3,3,3,3,3,3,6,3,3,3,3,3,3,3,9,12,3,3,3,3,3,3,3,9,3,3,3,3,3,3,3,3,3,3,3,3,3,3,3,3,3,3,3,6,6,3,3,6,3,3,3,3,3,6,3,3,3,3,3,3,3,3,3,9,3,3,6,3,3,3,3,3,3,3,3,3,3,3,3,3,3,3,3,3,3,3,3,3,3,3,3,3,3,3,3,3,3,3,3,3,3,3,3,3,3,3,3,3,3,3,6,3,18,3,3,3,3,3,3,3,3,3,3,3,3,3,3,3,3,3,3,3,3,3,3,3,3,3,3,3,3,9,3,3,3,3,3,3,3,3,3,3,3,3,3,3,3,3,3,3,6,3,3,3,3,3,3,3,3,3,3,3,3,3,3,3,3,3,3,3,3,3,3,3,12,3,3,3,3,3,3,3,3,3,3,3,3],[3,3,3,3,3,3,3,3,3,3,3,3,3,27,3,3,3,3,3,3,3,3,3,3,3,3,3,6,3,3,3,3,3,3,3,9,12,3,3,3,3,3,3,3,9,3,3,3,3,3,3,3,3,3,3,3,3,3,3,3,3,3,3,3,6,6,3,3,6,3,3,3,3,3,6,3,3,3,3,3,3,3,3,3,9,3,3,6,3,3,3,3,3,3,3,3,3,3,3,3,3,3,3,3,3,3,3,3,3,3,3,3,3,3,3,3,3,3,3,3,3,3,3,3,3,3,3,3,3,3,3,6,3,18,3,3,3,3,3,3,3,3,3,3,3,3,3,3,3,3,3,3,3,3,3,3,3,3,3,3,3,3,9,3,3,3,3,3,3,3,3,3,3,3,3,3,3,3,3,3,3,6,3,3,3,3,3,3,3,3,3,3,3,3,3,3,3,3,3,3,3,3,3,3,3,12,3,3,3,3,3,3,3,3,3,3,3,3],[3,3,3,3,3,3,3,3,3,3,3,3,3,27,3,3,3,3,3,3,3,3,3,3,3,3,3,6,3,3,3,3,3,3,3,9,12,3,3,3,3,3,3,3,9,3,3,3,3,3,3,3,3,3,3,3,3,3,3,3,3,3,3,3,6,6,3,3,6,3,3,3,3,3,6,3,3,3,3,3,3,3,3,3,9,3,3,6,3,3,3,3,3,3,3,3,3,3,3,3,3,3,3,3,3,3,3,3,3,3,3,3,3,3,3,3,3,3,3,3,3,3,3,3,3,3,3,3,3,3,3,6,3,18,3,3,3,3,3,3,3,3,3,3,3,3,3,3,3,3,3,3,3,3,3,3,3,3,3,3,3,3,9,3,3,3,3,3,3,3,3,3,3,3,3,3,3,3,3,3,3,6,3,3,3,3,3,3,3,3,3,3,3,3,3,3,3,3,3,3,3,3,3,3,3,12,3,3,3,3,3,3,3,3,3,3,3,3],[3,3,3,3,3,3,3,3,3,3,3,3,3,27,3,3,3,3,3,3,3,3,3,3,3,3,3,6,3,3,3,3,3,3,3,9,12,3,3,3,3,3,3,3,9,3,3,3,3,3,3,3,3,3,3,3,3,3,3,3,3,3,3,3,6,6,3,3,6,3,3,3,3,3,6,3,3,3,3,3,3,3,3,3,9,3,3,6,3,3,3,3,3,3,3,3,3,3,3,3,3,3,3,3,3,3,3,3,3,3,3,3,3,3,3,3,3,3,3,3,3,3,3,3,3,3,3,3,3,3,3,6,3,18,3,3,3,3,3,3,3,3,3,3,3,3,3,3,3,3,3,3,3,3,3,3,3,3,3,3,3,3,9,3,3,3,3,3,3,3,3,3,3,3,3,3,3,3,3,3,3,6,3,3,3,3,3,3,3,3,3,3,3,3,3,3,3,3,3,3,3,3,3,3,3,12,3,3,3,3,3,3,3,3,3,3,3,3],[3,3,3,3,3,3,3,3,3,3,3,3,3,27,3,3,3,3,3,3,3,3,3,3,3,3,3,6,3,3,3,3,3,3,3,9,12,3,3,3,3,3,3,3,9,3,3,3,3,3,3,3,3,3,3,3,3,3,3,3,3,3,3,3,6,6,3,3,6,3,3,3,3,3,6,3,3,3,3,3,3,3,3,3,9,3,3,6,3,3,3,3,3,3,3,3,3,3,3,3,3,3,3,3,3,3,3,3,3,3,3,3,3,3,3,3,3,3,3,3,3,3,3,3,3,3,3,3,3,3,3,6,3,18,3,3,3,3,3,3,3,3,3,3,3,3,3,3,3,3,3,3,3,3,3,3,3,3,3,3,3,3,9,3,3,3,3,3,3,3,3,3,3,3,3,3,3,3,3,3,3,6,3,3,3,3,3,3,3,3,3,3,3,3,3,3,3,3,3,3,3,3,3,3,3,12,3,3,3,3,3,3,3,3,3,3,3,3],[3,3,3,3,3,3,3,3,3,3,3,3,3,27,3,3,3,3,3,3,3,3,3,3,3,3,3,6,3,3,3,3,3,3,3,9,12,3,3,3,3,3,3,3,9,3,3,3,3,3,3,3,3,3,3,3,3,3,3,3,3,3,3,3,6,6,3,3,6,3,3,3,3,3,6,3,3,3,3,3,3,3,3,3,9,3,3,6,3,3,3,3,3,3,3,3,3,3,3,3,3,3,3,3,3,3,3,3,3,3,3,3,3,3,3,3,3,3,3,3,3,3,3,3,3,3,3,3,3,3,3,6,3,18,3,3,3,3,3,3,3,3,3,3,3,3,3,3,3,3,3,3,3,3,3,3,3,3,3,3,3,3,9,3,3,3,3,3,3,3,3,3,3,3,3,3,3,3,3,3,3,6,3,3,3,3,3,3,3,3,3,3,3,3,3,3,3,3,3,3,3,3,3,3,3,12,3,3,3,3,3,3,3,3,3,3,3,3],[3,3,3,3,3,3,3,3,3,3,3,3,3,27,3,3,3,3,3,3,3,3,3,3,3,3,3,6,3,3,3,3,3,3,3,9,12,3,3,3,3,3,3,3,9,3,3,3,3,3,3,3,3,3,3,3,3,3,3,3,3,3,3,3,6,6,3,3,6,3,3,3,3,3,6,3,3,3,3,3,3,3,3,3,9,3,3,6,3,3,3,3,3,3,3,3,3,3,3,3,3,3,3,3,3,3,3,3,3,3,3,3,3,3,3,3,3,3,3,3,3,3,3,3,3,3,3,3,3,3,3,6,3,18,3,3,3,3,3,3,3,3,3,3,3,3,3,3,3,3,3,3,3,3,3,3,3,3,3,3,3,3,9,3,3,3,3,3,3,3,3,3,3,3,3,3,3,3,3,3,3,6,3,3,3,3,3,3,3,3,3,3,3,3,3,3,3,3,3,3,3,3,3,3,3,12,3,3,3,3,3,3,3,3,3,3,3,3],[3,3,3,3,3,3,3,3,3,3,3,3,3,27,3,3,3,3,3,3,3,3,3,3,3,3,3,6,3,3,3,3,3,3,3,9,12,3,3,3,3,3,3,3,9,3,3,3,3,3,3,3,3,3,3,3,3,3,3,3,3,3,3,3,6,6,3,3,6,3,3,3,3,3,6,3,3,3,3,3,3,3,3,3,9,3,3,6,3,3,3,3,3,3,3,3,3,3,3,3,3,3,3,3,3,3,3,3,3,3,3,3,3,3,3,3,3,3,3,3,3,3,3,3,3,3,3,3,3,3,3,6,3,18,3,3,3,3,3,3,3,3,3,3,3,3,3,3,3,3,3,3,3,3,3,3,3,3,3,3,3,3,9,3,3,3,3,3,3,3,3,3,3,3,3,3,3,3,3,3,3,6,3,3,3,3,3,3,3,3,3,3,3,3,3,3,3,3,3,3,3,3,3,3,3,12,3,3,3,3,3,3,3,3,3,3,3,3],[3,3,3,3,3,3,3,3,3,3,3,3,3,27,3,3,3,3,3,3,3,3,3,3,3,3,3,6,3,3,3,3,3,3,3,9,12,3,3,3,3,3,3,3,9,3,3,3,3,3,3,3,3,3,3,3,3,3,3,3,3,3,3,3,6,6,3,3,6,3,3,3,3,3,6,3,3,3,3,3,3,3,3,3,9,3,3,6,3,3,3,3,3,3,3,3,3,3,3,3,3,3,3,3,3,3,3,3,3,3,3,3,3,3,3,3,3,3,3,3,3,3,3,3,3,3,3,3,3,3,3,6,3,18,3,3,3,3,3,3,3,3,3,3,3,3,3,3,3,3,3,3,3,3,3,3,3,3,3,3,3,3,9,3,3,3,3,3,3,3,3,3,3,3,3,3,3,3,3,3,3,6,3,3,3,3,3,3,3,3,3,3,3,3,3,3,3,3,3,3,3,3,3,3,3,12,3,3,3,3,3,3,3,3,3,3,3,3],[3,3,3,3,3,3,3,3,3,3,3,3,3,27,3,3,3,3,3,3,3,3,3,3,3,3,3,6,3,3,3,3,3,3,3,9,12,3,3,3,3,3,3,3,9,3,3,3,3,3,3,3,3,3,3,3,3,3,3,3,3,3,3,3,6,6,3,3,6,3,3,3,3,3,6,3,3,3,3,3,3,3,3,3,9,3,3,6,3,3,3,3,3,3,3,3,3,3,3,3,3,3,3,3,3,3,3,3,3,3,3,3,3,3,3,3,3,3,3,3,3,3,3,3,3,3,3,3,3,3,3,6,3,18,3,3,3,3,3,3,3,3,3,3,3,3,3,3,3,3,3,3,3,3,3,3,3,3,3,3,3,3,9,3,3,3,3,3,3,3,3,3,3,3,3,3,3,3,3,3,3,6,3,3,3,3,3,3,3,3,3,3,3,3,3,3,3,3,3,3,3,3,3,3,3,12,3,3,3,3,3,3,3,3,3,3,3,3],[3,3,3,3,3,3,3,3,3,3,3,3,3,27,3,3,3,3,3,3,3,3,3,3,3,3,3,6,3,3,3,3,3,3,3,9,12,3,3,3,3,3,3,3,9,3,3,3,3,3,3,3,3,3,3,3,3,3,3,3,3,3,3,3,6,6,3,3,6,3,3,3,3,3,6,3,3,3,3,3,3,3,3,3,9,3,3,6,3,3,3,3,3,3,3,3,3,3,3,3,3,3,3,3,3,3,3,3,3,3,3,3,3,3,3,3,3,3,3,3,3,3,3,3,3,3,3,3,3,3,3,6,3,18,3,3,3,3,3,3,3,3,3,3,3,3,3,3,3,3,3,3,3,3,3,3,3,3,3,3,3,3,9,3,3,3,3,3,3,3,3,3,3,3,3,3,3,3,3,3,3,6,3,3,3,3,3,3,3,3,3,3,3,3,3,3,3,3,3,3,3,3,3,3,3,12,3,3,3,3,3,3,3,3,3,3,3,3],[3,3,3,3,3,3,3,3,3,3,3,3,3,27,3,3,3,3,3,3,3,3,3,3,3,3,3,6,3,3,3,3,3,3,3,9,12,3,3,3,3,3,3,3,9,3,3,3,3,3,3,3,3,3,3,3,3,3,3,3,3,3,3,3,6,6,3,3,6,3,3,3,3,3,6,3,3,3,3,3,3,3,3,3,9,3,3,6,3,3,3,3,3,3,3,3,3,3,3,3,3,3,3,3,3,3,3,3,3,3,3,3,3,3,3,3,3,3,3,3,3,3,3,3,3,3,3,3,3,3,3,6,3,18,3,3,3,3,3,3,3,3,3,3,3,3,3,3,3,3,3,3,3,3,3,3,3,3,3,3,3,3,9,3,3,3,3,3,3,3,3,3,3,3,3,3,3,3,3,3,3,6,3,3,3,3,3,3,3,3,3,3,3,3,3,3,3,3,3,3,3,3,3,3,3,12,3,3,3,3,3,3,3,3,3,3,3,3],[3,3,3,3,3,3,3,3,3,3,3,3,3,27,3,3,3,3,3,3,3,3,3,3,3,3,3,6,3,3,3,3,3,3,3,9,12,3,3,3,3,3,3,3,9,3,3,3,3,3,3,3,3,3,3,3,3,3,3,3,3,3,3,3,6,6,3,3,6,3,3,3,3,3,6,3,3,3,3,3,3,3,3,3,9,3,3,6,3,3,3,3,3,3,3,3,3,3,3,3,3,3,3,3,3,3,3,3,3,3,3,3,3,3,3,3,3,3,3,3,3,3,3,3,3,3,3,3,3,3,3,6,3,18,3,3,3,3,3,3,3,3,3,3,3,3,3,3,3,3,3,3,3,3,3,3,3,3,3,3,3,3,9,3,3,3,3,3,3,3,3,3,3,3,3,3,3,3,3,3,3,6,3,3,3,3,3,3,3,3,3,3,3,3,3,3,3,3,3,3,3,3,3,3,3,12,3,3,3,3,3,3,3,3,3,3,3,3],[3,3,3,3,3,3,3,3,3,3,3,3,3,27,3,3,3,3,3,3,3,3,3,3,3,3,3,6,3,3,3,3,3,3,3,9,12,3,3,3,3,3,3,3,9,3,3,3,3,3,3,3,3,3,3,3,3,3,3,3,3,3,3,3,6,6,3,3,6,3,3,3,3,3,6,3,3,3,3,3,3,3,3,3,9,3,3,6,3,3,3,3,3,3,3,3,3,3,3,3,3,3,3,3,3,3,3,3,3,3,3,3,3,3,3,3,3,3,3,3,3,3,3,3,3,3,3,3,3,3,3,6,3,18,3,3,3,3,3,3,3,3,3,3,3,3,3,3,3,3,3,3,3,3,3,3,3,3,3,3,3,3,9,3,3,3,3,3,3,3,3,3,3,3,3,3,3,3,3,3,3,6,3,3,3,3,3,3,3,3,3,3,3,3,3,3,3,3,3,3,3,3,3,3,3,12,3,3,3,3,3,3,3,3,3,3,3,3],[3,3,3,3,3,3,3,3,3,3,3,3,3,27,3,3,3,3,3,3,3,3,3,3,3,3,3,6,3,3,3,3,3,3,3,9,12,3,3,3,3,3,3,3,9,3,3,3,3,3,3,3,3,3,3,3,3,3,3,3,3,3,3,3,6,6,3,3,6,3,3,3,3,3,6,3,3,3,3,3,3,3,3,3,9,3,3,6,3,3,3,3,3,3,3,3,3,3,3,3,3,3,3,3,3,3,3,3,3,3,3,3,3,3,3,3,3,3,3,3,3,3,3,3,3,3,3,3,3,3,3,6,3,18,3,3,3,3,3,3,3,3,3,3,3,3,3,3,3,3,3,3,3,3,3,3,3,3,3,3,3,3,9,3,3,3,3,3,3,3,3,3,3,3,3,3,3,3,3,3,3,6,3,3,3,3,3,3,3,3,3,3,3,3,3,3,3,3,3,3,3,3,3,3,3,12,3,3,3,3,3,3,3,3,3,3,3,3],[3,3,3,3,3,3,3,3,3,3,3,3,3,27,3,3,3,3,3,3,3,3,3,3,3,3,3,6,3,3,3,3,3,3,3,9,12,3,3,3,3,3,3,3,9,3,3,3,3,3,3,3,3,3,3,3,3,3,3,3,3,3,3,3,6,6,3,3,6,3,3,3,3,3,6,3,3,3,3,3,3,3,3,3,9,3,3,6,3,3,3,3,3,3,3,3,3,3,3,3,3,3,3,3,3,3,3,3,3,3,3,3,3,3,3,3,3,3,3,3,3,3,3,3,3,3,3,3,3,3,3,6,3,18,3,3,3,3,3,3,3,3,3,3,3,3,3,3,3,3,3,3,3,3,3,3,3,3,3,3,3,3,9,3,3,3,3,3,3,3,3,3,3,3,3,3,3,3,3,3,3,6,3,3,3,3,3,3,3,3,3,3,3,3,3,3,3,3,3,3,3,3,3,3,3,12,3,3,3,3,3,3,3,3,3,3,3,3],[3,3,3,3,3,3,3,3,3,3,3,3,3,27,3,3,3,3,3,3,3,3,3,3,3,3,3,6,3,3,3,3,3,3,3,9,12,3,3,3,3,3,3,3,9,3,3,3,3,3,3,3,3,3,3,3,3,3,3,3,3,3,3,3,6,6,3,3,6,3,3,3,3,3,6,3,3,3,3,3,3,3,3,3,9,3,3,6,3,3,3,3,3,3,3,3,3,3,3,3,3,3,3,3,3,3,3,3,3,3,3,3,3,3,3,3,3,3,3,3,3,3,3,3,3,3,3,3,3,3,3,6,3,18,3,3,3,3,3,3,3,3,3,3,3,3,3,3,3,3,3,3,3,3,3,3,3,3,3,3,3,3,9,3,3,3,3,3,3,3,3,3,3,3,3,3,3,3,3,3,3,6,3,3,3,3,3,3,3,3,3,3,3,3,3,3,3,3,3,3,3,3,3,3,3,12,3,3,3,3,3,3,3,3,3,3,3,3],[3,3,3,3,3,3,3,3,3,3,3,3,3,27,3,3,3,3,3,3,3,3,3,3,3,3,3,6,3,3,3,3,3,3,3,9,12,3,3,3,3,3,3,3,9,3,3,3,3,3,3,3,3,3,3,3,3,3,3,3,3,3,3,3,6,6,3,3,6,3,3,3,3,3,6,3,3,3,3,3,3,3,3,3,9,3,3,6,3,3,3,3,3,3,3,3,3,3,3,3,3,3,3,3,3,3,3,3,3,3,3,3,3,3,3,3,3,3,3,3,3,3,3,3,3,3,3,3,3,3,3,6,3,18,3,3,3,3,3,3,3,3,3,3,3,3,3,3,3,3,3,3,3,3,3,3,3,3,3,3,3,3,9,3,3,3,3,3,3,3,3,3,3,3,3,3,3,3,3,3,3,6,3,3,3,3,3,3,3,3,3,3,3,3,3,3,3,3,3,3,3,3,3,3,3,12,3,3,3,3,3,3,3,3,3,3,3,3],[3,3,3,3,3,3,3,3,3,3,3,3,3,27,3,3,3,3,3,3,3,3,3,3,3,3,3,6,3,3,3,3,3,3,3,9,12,3,3,3,3,3,3,3,9,3,3,3,3,3,3,3,3,3,3,3,3,3,3,3,3,3,3,3,6,6,3,3,6,3,3,3,3,3,6,3,3,3,3,3,3,3,3,3,9,3,3,6,3,3,3,3,3,3,3,3,3,3,3,3,3,3,3,3,3,3,3,3,3,3,3,3,3,3,3,3,3,3,3,3,3,3,3,3,3,3,3,3,3,3,3,6,3,18,3,3,3,3,3,3,3,3,3,3,3,3,3,3,3,3,3,3,3,3,3,3,3,3,3,3,3,3,9,3,3,3,3,3,3,3,3,3,3,3,3,3,3,3,3,3,3,6,3,3,3,3,3,3,3,3,3,3,3,3,3,3,3,3,3,3,3,3,3,3,3,12,3,3,3,3,3,3,3,3,3,3,3,3],[3,3,3,3,3,3,3,3,3,3,3,3,3,27,3,3,3,3,3,3,3,3,3,3,3,3,3,6,3,3,3,3,3,3,3,9,12,3,3,3,3,3,3,3,9,3,3,3,3,3,3,3,3,3,3,3,3,3,3,3,3,3,3,3,6,6,3,3,6,3,3,3,3,3,6,3,3,3,3,3,3,3,3,3,9,3,3,6,3,3,3,3,3,3,3,3,3,3,3,3,3,3,3,3,3,3,3,3,3,3,3,3,3,3,3,3,3,3,3,3,3,3,3,3,3,3,3,3,3,3,3,6,3,18,3,3,3,3,3,3,3,3,3,3,3,3,3,3,3,3,3,3,3,3,3,3,3,3,3,3,3,3,9,3,3,3,3,3,3,3,3,3,3,3,3,3,3,3,3,3,3,6,3,3,3,3,3,3,3,3,3,3,3,3,3,3,3,3,3,3,3,3,3,3,3,12,3,3,3,3,3,3,3,3,3,3,3,3],[3,3,3,3,3,3,3,3,3,3,3,3,3,27,3,3,3,3,3,3,3,3,3,3,3,3,3,6,3,3,3,3,3,3,3,9,12,3,3,3,3,3,3,3,9,3,3,3,3,3,3,3,3,3,3,3,3,3,3,3,3,3,3,3,6,6,3,3,6,3,3,3,3,3,6,3,3,3,3,3,3,3,3,3,9,3,3,6,3,3,3,3,3,3,3,3,3,3,3,3,3,3,3,3,3,3,3,3,3,3,3,3,3,3,3,3,3,3,3,3,3,3,3,3,3,3,3,3,3,3,3,6,3,18,3,3,3,3,3,3,3,3,3,3,3,3,3,3,3,3,3,3,3,3,3,3,3,3,3,3,3,3,9,3,3,3,3,3,3,3,3,3,3,3,3,3,3,3,3,3,3,6,3,3,3,3,3,3,3,3,3,3,3,3,3,3,3,3,3,3,3,3,3,3,3,12,3,3,3,3,3,3,3,3,3,3,3,3],[3,3,3,3,3,3,3,3,3,3,3,3,3,27,3,3,3,3,3,3,3,3,3,3,3,3,3,6,3,3,3,3,3,3,3,9,12,3,3,3,3,3,3,3,9,3,3,3,3,3,3,3,3,3,3,3,3,3,3,3,3,3,3,3,6,6,3,3,6,3,3,3,3,3,6,3,3,3,3,3,3,3,3,3,9,3,3,6,3,3,3,3,3,3,3,3,3,3,3,3,3,3,3,3,3,3,3,3,3,3,3,3,3,3,3,3,3,3,3,3,3,3,3,3,3,3,3,3,3,3,3,6,3,18,3,3,3,3,3,3,3,3,3,3,3,3,3,3,3,3,3,3,3,3,3,3,3,3,3,3,3,3,9,3,3,3,3,3,3,3,3,3,3,3,3,3,3,3,3,3,3,6,3,3,3,3,3,3,3,3,3,3,3,3,3,3,3,3,3,3,3,3,3,3,3,12,3,3,3,3,3,3,3,3,3,3,3,3],[3,3,3,3,3,3,3,3,3,3,3,3,3,27,3,3,3,3,3,3,3,3,3,3,3,3,3,6,3,3,3,3,3,3,3,9,12,3,3,3,3,3,3,3,9,3,3,3,3,3,3,3,3,3,3,3,3,3,3,3,3,3,3,3,6,6,3,3,6,3,3,3,3,3,6,3,3,3,3,3,3,3,3,3,9,3,3,6,3,3,3,3,3,3,3,3,3,3,3,3,3,3,3,3,3,3,3,3,3,3,3,3,3,3,3,3,3,3,3,3,3,3,3,3,3,3,3,3,3,3,3,6,3,18,3,3,3,3,3,3,3,3,3,3,3,3,3,3,3,3,3,3,3,3,3,3,3,3,3,3,3,3,9,3,3,3,3,3,3,3,3,3,3,3,3,3,3,3,3,3,3,6,3,3,3,3,3,3,3,3,3,3,3,3,3,3,3,3,3,3,3,3,3,3,3,12,3,3,3,3,3,3,3,3,3,3,3,3],[3,3,3,3,3,3,3,3,3,3,3,3,3,27,3,3,3,3,3,3,3,3,3,3,3,3,3,6,3,3,3,3,3,3,3,9,12,3,3,3,3,3,3,3,9,3,3,3,3,3,3,3,3,3,3,3,3,3,3,3,3,3,3,3,6,6,3,3,6,3,3,3,3,3,6,3,3,3,3,3,3,3,3,3,9,3,3,6,3,3,3,3,3,3,3,3,3,3,3,3,3,3,3,3,3,3,3,3,3,3,3,3,3,3,3,3,3,3,3,3,3,3,3,3,3,3,3,3,3,3,3,6,3,18,3,3,3,3,3,3,3,3,3,3,3,3,3,3,3,3,3,3,3,3,3,3,3,3,3,3,3,3,9,3,3,3,3,3,3,3,3,3,3,3,3,3,3,3,3,3,3,6,3,3,3,3,3,3,3,3,3,3,3,3,3,3,3,3,3,3,3,3,3,3,3,12,3,3,3,3,3,3,3,3,3,3,3,3],[3,3,3,3,3,3,3,3,3,3,3,3,3,27,3,3,3,3,3,3,3,3,3,3,3,3,3,6,3,3,3,3,3,3,3,9,12,3,3,3,3,3,3,3,9,3,3,3,3,3,3,3,3,3,3,3,3,3,3,3,3,3,3,3,6,6,3,3,6,3,3,3,3,3,6,3,3,3,3,3,3,3,3,3,9,3,3,6,3,3,3,3,3,3,3,3,3,3,3,3,3,3,3,3,3,3,3,3,3,3,3,3,3,3,3,3,3,3,3,3,3,3,3,3,3,3,3,3,3,3,3,6,3,18,3,3,3,3,3,3,3,3,3,3,3,3,3,3,3,3,3,3,3,3,3,3,3,3,3,3,3,3,9,3,3,3,3,3,3,3,3,3,3,3,3,3,3,3,3,3,3,6,3,3,3,3,3,3,3,3,3,3,3,3,3,3,3,3,3,3,3,3,3,3,3,12,3,3,3,3,3,3,3,3,3,3,3,3],[3,3,3,3,3,3,3,3,3,3,3,3,3,27,3,3,3,3,3,3,3,3,3,3,3,3,3,6,3,3,3,3,3,3,3,9,12,3,3,3,3,3,3,3,9,3,3,3,3,3,3,3,3,3,3,3,3,3,3,3,3,3,3,3,6,6,3,3,6,3,3,3,3,3,6,3,3,3,3,3,3,3,3,3,9,3,3,6,3,3,3,3,3,3,3,3,3,3,3,3,3,3,3,3,3,3,3,3,3,3,3,3,3,3,3,3,3,3,3,3,3,3,3,3,3,3,3,3,3,3,3,6,3,18,3,3,3,3,3,3,3,3,3,3,3,3,3,3,3,3,3,3,3,3,3,3,3,3,3,3,3,3,9,3,3,3,3,3,3,3,3,3,3,3,3,3,3,3,3,3,3,6,3,3,3,3,3,3,3,3,3,3,3,3,3,3,3,3,3,3,3,3,3,3,3,12,3,3,3,3,3,3,3,3,3,3,3,3],[3,3,3,3,3,3,3,3,3,3,3,3,3,27,3,3,3,3,3,3,3,3,3,3,3,3,3,6,3,3,3,3,3,3,3,9,12,3,3,3,3,3,3,3,9,3,3,3,3,3,3,3,3,3,3,3,3,3,3,3,3,3,3,3,6,6,3,3,6,3,3,3,3,3,6,3,3,3,3,3,3,3,3,3,9,3,3,6,3,3,3,3,3,3,3,3,3,3,3,3,3,3,3,3,3,3,3,3,3,3,3,3,3,3,3,3,3,3,3,3,3,3,3,3,3,3,3,3,3,3,3,6,3,18,3,3,3,3,3,3,3,3,3,3,3,3,3,3,3,3,3,3,3,3,3,3,3,3,3,3,3,3,9,3,3,3,3,3,3,3,3,3,3,3,3,3,3,3,3,3,3,6,3,3,3,3,3,3,3,3,3,3,3,3,3,3,3,3,3,3,3,3,3,3,3,12,3,3,3,3,3,3,3,3,3,3,3,3],[3,3,3,3,3,3,3,3,3,3,3,3,3,27,3,3,3,3,3,3,3,3,3,3,3,3,3,6,3,3,3,3,3,3,3,9,12,3,3,3,3,3,3,3,9,3,3,3,3,3,3,3,3,3,3,3,3,3,3,3,3,3,3,3,6,6,3,3,6,3,3,3,3,3,6,3,3,3,3,3,3,3,3,3,9,3,3,6,3,3,3,3,3,3,3,3,3,3,3,3,3,3,3,3,3,3,3,3,3,3,3,3,3,3,3,3,3,3,3,3,3,3,3,3,3,3,3,3,3,3,3,6,3,18,3,3,3,3,3,3,3,3,3,3,3,3,3,3,3,3,3,3,3,3,3,3,3,3,3,3,3,3,9,3,3,3,3,3,3,3,3,3,3,3,3,3,3,3,3,3,3,6,3,3,3,3,3,3,3,3,3,3,3,3,3,3,3,3,3,3,3,3,3,3,3,12,3,3,3,3,3,3,3,3,3,3,3,3],[3,3,3,3,3,3,3,3,3,3,3,3,3,27,3,3,3,3,3,3,3,3,3,3,3,3,3,6,3,3,3,3,3,3,3,9,12,3,3,3,3,3,3,3,9,3,3,3,3,3,3,3,3,3,3,3,3,3,3,3,3,3,3,3,6,6,3,3,6,3,3,3,3,3,6,3,3,3,3,3,3,3,3,3,9,3,3,6,3,3,3,3,3,3,3,3,3,3,3,3,3,3,3,3,3,3,3,3,3,3,3,3,3,3,3,3,3,3,3,3,3,3,3,3,3,3,3,3,3,3,3,6,3,18,3,3,3,3,3,3,3,3,3,3,3,3,3,3,3,3,3,3,3,3,3,3,3,3,3,3,3,3,9,3,3,3,3,3,3,3,3,3,3,3,3,3,3,3,3,3,3,6,3,3,3,3,3,3,3,3,3,3,3,3,3,3,3,3,3,3,3,3,3,3,3,12,3,3,3,3,3,3,3,3,3,3,3,3],[3,3,3,3,3,3,3,3,3,3,3,3,3,27,3,3,3,3,3,3,3,3,3,3,3,3,3,6,3,3,3,3,3,3,3,9,12,3,3,3,3,3,3,3,9,3,3,3,3,3,3,3,3,3,3,3,3,3,3,3,3,3,3,3,6,6,3,3,6,3,3,3,3,3,6,3,3,3,3,3,3,3,3,3,9,3,3,6,3,3,3,3,3,3,3,3,3,3,3,3,3,3,3,3,3,3,3,3,3,3,3,3,3,3,3,3,3,3,3,3,3,3,3,3,3,3,3,3,3,3,3,6,3,18,3,3,3,3,3,3,3,3,3,3,3,3,3,3,3,3,3,3,3,3,3,3,3,3,3,3,3,3,9,3,3,3,3,3,3,3,3,3,3,3,3,3,3,3,3,3,3,6,3,3,3,3,3,3,3,3,3,3,3,3,3,3,3,3,3,3,3,3,3,3,3,12,3,3,3,3,3,3,3,3,3,3,3,3],[3,3,3,3,3,3,3,3,3,3,3,3,3,27,3,3,3,3,3,3,3,3,3,3,3,3,3,6,3,3,3,3,3,3,3,9,12,3,3,3,3,3,3,3,9,3,3,3,3,3,3,3,3,3,3,3,3,3,3,3,3,3,3,3,6,6,3,3,6,3,3,3,3,3,6,3,3,3,3,3,3,3,3,3,9,3,3,6,3,3,3,3,3,3,3,3,3,3,3,3,3,3,3,3,3,3,3,3,3,3,3,3,3,3,3,3,3,3,3,3,3,3,3,3,3,3,3,3,3,3,3,6,3,18,3,3,3,3,3,3,3,3,3,3,3,3,3,3,3,3,3,3,3,3,3,3,3,3,3,3,3,3,9,3,3,3,3,3,3,3,3,3,3,3,3,3,3,3,3,3,3,6,3,3,3,3,3,3,3,3,3,3,3,3,3,3,3,3,3,3,3,3,3,3,3,12,3,3,3,3,3,3,3,3,3,3,3,3],[3,3,3,3,3,3,3,3,3,3,3,3,3,27,3,3,3,3,3,3,3,3,3,3,3,3,3,6,3,3,3,3,3,3,3,9,12,3,3,3,3,3,3,3,9,3,3,3,3,3,3,3,3,3,3,3,3,3,3,3,3,3,3,3,6,6,3,3,6,3,3,3,3,3,6,3,3,3,3,3,3,3,3,3,9,3,3,6,3,3,3,3,3,3,3,3,3,3,3,3,3,3,3,3,3,3,3,3,3,3,3,3,3,3,3,3,3,3,3,3,3,3,3,3,3,3,3,3,3,3,3,6,3,18,3,3,3,3,3,3,3,3,3,3,3,3,3,3,3,3,3,3,3,3,3,3,3,3,3,3,3,3,9,3,3,3,3,3,3,3,3,3,3,3,3,3,3,3,3,3,3,6,3,3,3,3,3,3,3,3,3,3,3,3,3,3,3,3,3,3,3,3,3,3,3,12,3,3,3,3,3,3,3,3,3,3,3,3],[3,3,3,3,3,3,3,3,3,3,3,3,3,27,3,3,3,3,3,3,3,3,3,3,3,3,3,6,3,3,3,3,3,3,3,9,12,3,3,3,3,3,3,3,9,3,3,3,3,3,3,3,3,3,3,3,3,3,3,3,3,3,3,3,6,6,3,3,6,3,3,3,3,3,6,3,3,3,3,3,3,3,3,3,9,3,3,6,3,3,3,3,3,3,3,3,3,3,3,3,3,3,3,3,3,3,3,3,3,3,3,3,3,3,3,3,3,3,3,3,3,3,3,3,3,3,3,3,3,3,3,6,3,18,3,3,3,3,3,3,3,3,3,3,3,3,3,3,3,3,3,3,3,3,3,3,3,3,3,3,3,3,9,3,3,3,3,3,3,3,3,3,3,3,3,3,3,3,3,3,3,6,3,3,3,3,3,3,3,3,3,3,3,3,3,3,3,3,3,3,3,3,3,3,3,12,3,3,3,3,3,3,3,3,3,3,3,3],[3,3,3,3,3,3,3,3,3,3,3,3,3,27,3,3,3,3,3,3,3,3,3,3,3,3,3,6,3,3,3,3,3,3,3,9,12,3,3,3,3,3,3,3,9,3,3,3,3,3,3,3,3,3,3,3,3,3,3,3,3,3,3,3,6,6,3,3,6,3,3,3,3,3,6,3,3,3,3,3,3,3,3,3,9,3,3,6,3,3,3,3,3,3,3,3,3,3,3,3,3,3,3,3,3,3,3,3,3,3,3,3,3,3,3,3,3,3,3,3,3,3,3,3,3,3,3,3,3,3,3,6,3,18,3,3,3,3,3,3,3,3,3,3,3,3,3,3,3,3,3,3,3,3,3,3,3,3,3,3,3,3,9,3,3,3,3,3,3,3,3,3,3,3,3,3,3,3,3,3,3,6,3,3,3,3,3,3,3,3,3,3,3,3,3,3,3,3,3,3,3,3,3,3,3,12,3,3,3,3,3,3,3,3,3,3,3,3],[3,3,3,3,3,3,3,3,3,3,3,3,3,27,3,3,3,3,3,3,3,3,3,3,3,3,3,6,3,3,3,3,3,3,3,9,12,3,3,3,3,3,3,3,9,3,3,3,3,3,3,3,3,3,3,3,3,3,3,3,3,3,3,3,6,6,3,3,6,3,3,3,3,3,6,3,3,3,3,3,3,3,3,3,9,3,3,6,3,3,3,3,3,3,3,3,3,3,3,3,3,3,3,3,3,3,3,3,3,3,3,3,3,3,3,3,3,3,3,3,3,3,3,3,3,3,3,3,3,3,3,6,3,18,3,3,3,3,3,3,3,3,3,3,3,3,3,3,3,3,3,3,3,3,3,3,3,3,3,3,3,3,9,3,3,3,3,3,3,3,3,3,3,3,3,3,3,3,3,3,3,6,3,3,3,3,3,3,3,3,3,3,3,3,3,3,3,3,3,3,3,3,3,3,3,12,3,3,3,3,3,3,3,3,3,3,3,3],[3,3,3,3,3,3,3,3,3,3,3,3,3,27,3,3,3,3,3,3,3,3,3,3,3,3,3,6,3,3,3,3,3,3,3,9,12,3,3,3,3,3,3,3,9,3,3,3,3,3,3,3,3,3,3,3,3,3,3,3,3,3,3,3,6,6,3,3,6,3,3,3,3,3,6,3,3,3,3,3,3,3,3,3,9,3,3,6,3,3,3,3,3,3,3,3,3,3,3,3,3,3,3,3,3,3,3,3,3,3,3,3,3,3,3,3,3,3,3,3,3,3,3,3,3,3,3,3,3,3,3,6,3,18,3,3,3,3,3,3,3,3,3,3,3,3,3,3,3,3,3,3,3,3,3,3,3,3,3,3,3,3,9,3,3,3,3,3,3,3,3,3,3,3,3,3,3,3,3,3,3,6,3,3,3,3,3,3,3,3,3,3,3,3,3,3,3,3,3,3,3,3,3,3,3,12,3,3,3,3,3,3,3,3,3,3,3,3],[3,3,3,3,3,3,3,3,3,3,3,3,3,27,3,3,3,3,3,3,3,3,3,3,3,3,3,6,3,3,3,3,3,3,3,9,12,3,3,3,3,3,3,3,9,3,3,3,3,3,3,3,3,3,3,3,3,3,3,3,3,3,3,3,6,6,3,3,6,3,3,3,3,3,6,3,3,3,3,3,3,3,3,3,9,3,3,6,3,3,3,3,3,3,3,3,3,3,3,3,3,3,3,3,3,3,3,3,3,3,3,3,3,3,3,3,3,3,3,3,3,3,3,3,3,3,3,3,3,3,3,6,3,18,3,3,3,3,3,3,3,3,3,3,3,3,3,3,3,3,3,3,3,3,3,3,3,3,3,3,3,3,9,3,3,3,3,3,3,3,3,3,3,3,3,3,3,3,3,3,3,6,3,3,3,3,3,3,3,3,3,3,3,3,3,3,3,3,3,3,3,3,3,3,3,12,3,3,3,3,3,3,3,3,3,3,3,3],[3,3,3,3,3,3,3,3,3,3,3,3,3,27,3,3,3,3,3,3,3,3,3,3,3,3,3,6,3,3,3,3,3,3,3,9,12,3,3,3,3,3,3,3,9,3,3,3,3,3,3,3,3,3,3,3,3,3,3,3,3,3,3,3,6,6,3,3,6,3,3,3,3,3,6,3,3,3,3,3,3,3,3,3,9,3,3,6,3,3,3,3,3,3,3,3,3,3,3,3,3,3,3,3,3,3,3,3,3,3,3,3,3,3,3,3,3,3,3,3,3,3,3,3,3,3,3,3,3,3,3,6,3,18,3,3,3,3,3,3,3,3,3,3,3,3,3,3,3,3,3,3,3,3,3,3,3,3,3,3,3,3,9,3,3,3,3,3,3,3,3,3,3,3,3,3,3,3,3,3,3,6,3,3,3,3,3,3,3,3,3,3,3,3,3,3,3,3,3,3,3,3,3,3,3,12,3,3,3,3,3,3,3,3,3,3,3,3],[3,3,3,3,3,3,3,3,3,3,3,3,3,27,3,3,3,3,3,3,3,3,3,3,3,3,3,6,3,3,3,3,3,3,3,9,12,3,3,3,3,3,3,3,9,3,3,3,3,3,3,3,3,3,3,3,3,3,3,3,3,3,3,3,6,6,3,3,6,3,3,3,3,3,6,3,3,3,3,3,3,3,3,3,9,3,3,6,3,3,3,3,3,3,3,3,3,3,3,3,3,3,3,3,3,3,3,3,3,3,3,3,3,3,3,3,3,3,3,3,3,3,3,3,3,3,3,3,3,3,3,6,3,18,3,3,3,3,3,3,3,3,3,3,3,3,3,3,3,3,3,3,3,3,3,3,3,3,3,3,3,3,9,3,3,3,3,3,3,3,3,3,3,3,3,3,3,3,3,3,3,6,3,3,3,3,3,3,3,3,3,3,3,3,3,3,3,3,3,3,3,3,3,3,3,12,3,3,3,3,3,3,3,3,3,3,3,3],[3,3,3,3,3,3,3,3,3,3,3,3,3,27,3,3,3,3,3,3,3,3,3,3,3,3,3,6,3,3,3,3,3,3,3,9,12,3,3,3,3,3,3,3,9,3,3,3,3,3,3,3,3,3,3,3,3,3,3,3,3,3,3,3,6,6,3,3,6,3,3,3,3,3,6,3,3,3,3,3,3,3,3,3,9,3,3,6,3,3,3,3,3,3,3,3,3,3,3,3,3,3,3,3,3,3,3,3,3,3,3,3,3,3,3,3,3,3,3,3,3,3,3,3,3,3,3,3,3,3,3,6,3,18,3,3,3,3,3,3,3,3,3,3,3,3,3,3,3,3,3,3,3,3,3,3,3,3,3,3,3,3,9,3,3,3,3,3,3,3,3,3,3,3,3,3,3,3,3,3,3,6,3,3,3,3,3,3,3,3,3,3,3,3,3,3,3,3,3,3,3,3,3,3,3,12,3,3,3,3,3,3,3,3,3,3,3,3],[3,3,3,3,3,3,3,3,3,3,3,3,3,27,3,3,3,3,3,3,3,3,3,3,3,3,3,6,3,3,3,3,3,3,3,9,12,3,3,3,3,3,3,3,9,3,3,3,3,3,3,3,3,3,3,3,3,3,3,3,3,3,3,3,6,6,3,3,6,3,3,3,3,3,6,3,3,3,3,3,3,3,3,3,9,3,3,6,3,3,3,3,3,3,3,3,3,3,3,3,3,3,3,3,3,3,3,3,3,3,3,3,3,3,3,3,3,3,3,3,3,3,3,3,3,3,3,3,3,3,3,6,3,18,3,3,3,3,3,3,3,3,3,3,3,3,3,3,3,3,3,3,3,3,3,3,3,3,3,3,3,3,9,3,3,3,3,3,3,3,3,3,3,3,3,3,3,3,3,3,3,6,3,3,3,3,3,3,3,3,3,3,3,3,3,3,3,3,3,3,3,3,3,3,3,12,3,3,3,3,3,3,3,3,3,3,3,3],[3,3,3,3,3,3,3,3,3,3,3,3,3,27,3,3,3,3,3,3,3,3,3,3,3,3,3,6,3,3,3,3,3,3,3,9,12,3,3,3,3,3,3,3,9,3,3,3,3,3,3,3,3,3,3,3,3,3,3,3,3,3,3,3,6,6,3,3,6,3,3,3,3,3,6,3,3,3,3,3,3,3,3,3,9,3,3,6,3,3,3,3,3,3,3,3,3,3,3,3,3,3,3,3,3,3,3,3,3,3,3,3,3,3,3,3,3,3,3,3,3,3,3,3,3,3,3,3,3,3,3,6,3,18,3,3,3,3,3,3,3,3,3,3,3,3,3,3,3,3,3,3,3,3,3,3,3,3,3,3,3,3,9,3,3,3,3,3,3,3,3,3,3,3,3,3,3,3,3,3,3,6,3,3,3,3,3,3,3,3,3,3,3,3,3,3,3,3,3,3,3,3,3,3,3,12,3,3,3,3,3,3,3,3,3,3,3,3],[3,3,3,3,3,3,3,3,3,3,3,3,3,27,3,3,3,3,3,3,3,3,3,3,3,3,3,6,3,3,3,3,3,3,3,9,12,3,3,3,3,3,3,3,9,3,3,3,3,3,3,3,3,3,3,3,3,3,3,3,3,3,3,3,6,6,3,3,6,3,3,3,3,3,6,3,3,3,3,3,3,3,3,3,9,3,3,6,3,3,3,3,3,3,3,3,3,3,3,3,3,3,3,3,3,3,3,3,3,3,3,3,3,3,3,3,3,3,3,3,3,3,3,3,3,3,3,3,3,3,3,6,3,18,3,3,3,3,3,3,3,3,3,3,3,3,3,3,3,3,3,3,3,3,3,3,3,3,3,3,3,3,9,3,3,3,3,3,3,3,3,3,3,3,3,3,3,3,3,3,3,6,3,3,3,3,3,3,3,3,3,3,3,3,3,3,3,3,3,3,3,3,3,3,3,12,3,3,3,3,3,3,3,3,3,3,3,3],[3,3,3,3,3,3,3,3,3,3,3,3,3,27,3,3,3,3,3,3,3,3,3,3,3,3,3,6,3,3,3,3,3,3,3,9,12,3,3,3,3,3,3,3,9,3,3,3,3,3,3,3,3,3,3,3,3,3,3,3,3,3,3,3,6,6,3,3,6,3,3,3,3,3,6,3,3,3,3,3,3,3,3,3,9,3,3,6,3,3,3,3,3,3,3,3,3,3,3,3,3,3,3,3,3,3,3,3,3,3,3,3,3,3,3,3,3,3,3,3,3,3,3,3,3,3,3,3,3,3,3,6,3,18,3,3,3,3,3,3,3,3,3,3,3,3,3,3,3,3,3,3,3,3,3,3,3,3,3,3,3,3,9,3,3,3,3,3,3,3,3,3,3,3,3,3,3,3,3,3,3,6,3,3,3,3,3,3,3,3,3,3,3,3,3,3,3,3,3,3,3,3,3,3,3,12,3,3,3,3,3,3,3,3,3,3,3,3],[3,3,3,3,3,3,3,3,3,3,3,3,3,27,3,3,3,3,3,3,3,3,3,3,3,3,3,6,3,3,3,3,3,3,3,9,12,3,3,3,3,3,3,3,9,3,3,3,3,3,3,3,3,3,3,3,3,3,3,3,3,3,3,3,6,6,3,3,6,3,3,3,3,3,6,3,3,3,3,3,3,3,3,3,9,3,3,6,3,3,3,3,3,3,3,3,3,3,3,3,3,3,3,3,3,3,3,3,3,3,3,3,3,3,3,3,3,3,3,3,3,3,3,3,3,3,3,3,3,3,3,6,3,18,3,3,3,3,3,3,3,3,3,3,3,3,3,3,3,3,3,3,3,3,3,3,3,3,3,3,3,3,9,3,3,3,3,3,3,3,3,3,3,3,3,3,3,3,3,3,3,6,3,3,3,3,3,3,3,3,3,3,3,3,3,3,3,3,3,3,3,3,3,3,3,12,3,3,3,3,3,3,3,3,3,3,3,3],[3,3,3,3,3,3,3,3,3,3,3,3,3,27,3,3,3,3,3,3,3,3,3,3,3,3,3,6,3,3,3,3,3,3,3,9,12,3,3,3,3,3,3,3,9,3,3,3,3,3,3,3,3,3,3,3,3,3,3,3,3,3,3,3,6,6,3,3,6,3,3,3,3,3,6,3,3,3,3,3,3,3,3,3,9,3,3,6,3,3,3,3,3,3,3,3,3,3,3,3,3,3,3,3,3,3,3,3,3,3,3,3,3,3,3,3,3,3,3,3,3,3,3,3,3,3,3,3,3,3,3,6,3,18,3,3,3,3,3,3,3,3,3,3,3,3,3,3,3,3,3,3,3,3,3,3,3,3,3,3,3,3,9,3,3,3,3,3,3,3,3,3,3,3,3,3,3,3,3,3,3,6,3,3,3,3,3,3,3,3,3,3,3,3,3,3,3,3,3,3,3,3,3,3,3,12,3,3,3,3,3,3,3,3,3,3,3,3],[3,3,3,3,3,3,3,3,3,3,3,3,3,27,3,3,3,3,3,3,3,3,3,3,3,3,3,6,3,3,3,3,3,3,3,9,12,3,3,3,3,3,3,3,9,3,3,3,3,3,3,3,3,3,3,3,3,3,3,3,3,3,3,3,6,6,3,3,6,3,3,3,3,3,6,3,3,3,3,3,3,3,3,3,9,3,3,6,3,3,3,3,3,3,3,3,3,3,3,3,3,3,3,3,3,3,3,3,3,3,3,3,3,3,3,3,3,3,3,3,3,3,3,3,3,3,3,3,3,3,3,6,3,18,3,3,3,3,3,3,3,3,3,3,3,3,3,3,3,3,3,3,3,3,3,3,3,3,3,3,3,3,9,3,3,3,3,3,3,3,3,3,3,3,3,3,3,3,3,3,3,6,3,3,3,3,3,3,3,3,3,3,3,3,3,3,3,3,3,3,3,3,3,3,3,12,3,3,3,3,3,3,3,3,3,3,3,3],[3,3,3,3,3,3,3,3,3,3,3,3,3,27,3,3,3,3,3,3,3,3,3,3,3,3,3,6,3,3,3,3,3,3,3,9,12,3,3,3,3,3,3,3,9,3,3,3,3,3,3,3,3,3,3,3,3,3,3,3,3,3,3,3,6,6,3,3,6,3,3,3,3,3,6,3,3,3,3,3,3,3,3,3,9,3,3,6,3,3,3,3,3,3,3,3,3,3,3,3,3,3,3,3,3,3,3,3,3,3,3,3,3,3,3,3,3,3,3,3,3,3,3,3,3,3,3,3,3,3,3,6,3,18,3,3,3,3,3,3,3,3,3,3,3,3,3,3,3,3,3,3,3,3,3,3,3,3,3,3,3,3,9,3,3,3,3,3,3,3,3,3,3,3,3,3,3,3,3,3,3,6,3,3,3,3,3,3,3,3,3,3,3,3,3,3,3,3,3,3,3,3,3,3,3,12,3,3,3,3,3,3,3,3,3,3,3,3],[3,3,3,3,3,3,3,3,3,3,3,3,3,27,3,3,3,3,3,3,3,3,3,3,3,3,3,6,3,3,3,3,3,3,3,9,12,3,3,3,3,3,3,3,9,3,3,3,3,3,3,3,3,3,3,3,3,3,3,3,3,3,3,3,6,6,3,3,6,3,3,3,3,3,6,3,3,3,3,3,3,3,3,3,9,3,3,6,3,3,3,3,3,3,3,3,3,3,3,3,3,3,3,3,3,3,3,3,3,3,3,3,3,3,3,3,3,3,3,3,3,3,3,3,3,3,3,3,3,3,3,6,3,18,3,3,3,3,3,3,3,3,3,3,3,3,3,3,3,3,3,3,3,3,3,3,3,3,3,3,3,3,9,3,3,3,3,3,3,3,3,3,3,3,3,3,3,3,3,3,3,6,3,3,3,3,3,3,3,3,3,3,3,3,3,3,3,3,3,3,3,3,3,3,3,12,3,3,3,3,3,3,3,3,3,3,3,3],[3,3,3,3,3,3,3,3,3,3,3,3,3,27,3,3,3,3,3,3,3,3,3,3,3,3,3,6,3,3,3,3,3,3,3,9,12,3,3,3,3,3,3,3,9,3,3,3,3,3,3,3,3,3,3,3,3,3,3,3,3,3,3,3,6,6,3,3,6,3,3,3,3,3,6,3,3,3,3,3,3,3,3,3,9,3,3,6,3,3,3,3,3,3,3,3,3,3,3,3,3,3,3,3,3,3,3,3,3,3,3,3,3,3,3,3,3,3,3,3,3,3,3,3,3,3,3,3,3,3,3,6,3,18,3,3,3,3,3,3,3,3,3,3,3,3,3,3,3,3,3,3,3,3,3,3,3,3,3,3,3,3,9,3,3,3,3,3,3,3,3,3,3,3,3,3,3,3,3,3,3,6,3,3,3,3,3,3,3,3,3,3,3,3,3,3,3,3,3,3,3,3,3,3,3,12,3,3,3,3,3,3,3,3,3,3,3,3],[3,3,3,3,3,3,3,3,3,3,3,3,3,27,3,3,3,3,3,3,3,3,3,3,3,3,3,6,3,3,3,3,3,3,3,9,12,3,3,3,3,3,3,3,9,3,3,3,3,3,3,3,3,3,3,3,3,3,3,3,3,3,3,3,6,6,3,3,6,3,3,3,3,3,6,3,3,3,3,3,3,3,3,3,9,3,3,6,3,3,3,3,3,3,3,3,3,3,3,3,3,3,3,3,3,3,3,3,3,3,3,3,3,3,3,3,3,3,3,3,3,3,3,3,3,3,3,3,3,3,3,6,3,18,3,3,3,3,3,3,3,3,3,3,3,3,3,3,3,3,3,3,3,3,3,3,3,3,3,3,3,3,9,3,3,3,3,3,3,3,3,3,3,3,3,3,3,3,3,3,3,6,3,3,3,3,3,3,3,3,3,3,3,3,3,3,3,3,3,3,3,3,3,3,3,12,3,3,3,3,3,3,3,3,3,3,3,3],[3,3,3,3,3,3,3,3,3,3,3,3,3,27,3,3,3,3,3,3,3,3,3,3,3,3,3,6,3,3,3,3,3,3,3,9,12,3,3,3,3,3,3,3,9,3,3,3,3,3,3,3,3,3,3,3,3,3,3,3,3,3,3,3,6,6,3,3,6,3,3,3,3,3,6,3,3,3,3,3,3,3,3,3,9,3,3,6,3,3,3,3,3,3,3,3,3,3,3,3,3,3,3,3,3,3,3,3,3,3,3,3,3,3,3,3,3,3,3,3,3,3,3,3,3,3,3,3,3,3,3,6,3,18,3,3,3,3,3,3,3,3,3,3,3,3,3,3,3,3,3,3,3,3,3,3,3,3,3,3,3,3,9,3,3,3,3,3,3,3,3,3,3,3,3,3,3,3,3,3,3,6,3,3,3,3,3,3,3,3,3,3,3,3,3,3,3,3,3,3,3,3,3,3,3,12,3,3,3,3,3,3,3,3,3,3,3,3],[3,3,3,3,3,3,3,3,3,3,3,3,3,27,3,3,3,3,3,3,3,3,3,3,3,3,3,6,3,3,3,3,3,3,3,9,12,3,3,3,3,3,3,3,9,3,3,3,3,3,3,3,3,3,3,3,3,3,3,3,3,3,3,3,6,6,3,3,6,3,3,3,3,3,6,3,3,3,3,3,3,3,3,3,9,3,3,6,3,3,3,3,3,3,3,3,3,3,3,3,3,3,3,3,3,3,3,3,3,3,3,3,3,3,3,3,3,3,3,3,3,3,3,3,3,3,3,3,3,3,3,6,3,18,3,3,3,3,3,3,3,3,3,3,3,3,3,3,3,3,3,3,3,3,3,3,3,3,3,3,3,3,9,3,3,3,3,3,3,3,3,3,3,3,3,3,3,3,3,3,3,6,3,3,3,3,3,3,3,3,3,3,3,3,3,3,3,3,3,3,3,3,3,3,3,12,3,3,3,3,3,3,3,3,3,3,3,3],[3,3,3,3,3,3,3,3,3,3,3,3,3,27,3,3,3,3,3,3,3,3,3,3,3,3,3,6,3,3,3,3,3,3,3,9,12,3,3,3,3,3,3,3,9,3,3,3,3,3,3,3,3,3,3,3,3,3,3,3,3,3,3,3,6,6,3,3,6,3,3,3,3,3,6,3,3,3,3,3,3,3,3,3,9,3,3,6,3,3,3,3,3,3,3,3,3,3,3,3,3,3,3,3,3,3,3,3,3,3,3,3,3,3,3,3,3,3,3,3,3,3,3,3,3,3,3,3,3,3,3,6,3,18,3,3,3,3,3,3,3,3,3,3,3,3,3,3,3,3,3,3,3,3,3,3,3,3,3,3,3,3,9,3,3,3,3,3,3,3,3,3,3,3,3,3,3,3,3,3,3,6,3,3,3,3,3,3,3,3,3,3,3,3,3,3,3,3,3,3,3,3,3,3,3,12,3,3,3,3,3,3,3,3,3,3,3,3],[3,3,3,3,3,3,3,3,3,3,3,3,3,27,3,3,3,3,3,3,3,3,3,3,3,3,3,6,3,3,3,3,3,3,3,9,12,3,3,3,3,3,3,3,9,3,3,3,3,3,3,3,3,3,3,3,3,3,3,3,3,3,3,3,6,6,3,3,6,3,3,3,3,3,6,3,3,3,3,3,3,3,3,3,9,3,3,6,3,3,3,3,3,3,3,3,3,3,3,3,3,3,3,3,3,3,3,3,3,3,3,3,3,3,3,3,3,3,3,3,3,3,3,3,3,3,3,3,3,3,3,6,3,18,3,3,3,3,3,3,3,3,3,3,3,3,3,3,3,3,3,3,3,3,3,3,3,3,3,3,3,3,9,3,3,3,3,3,3,3,3,3,3,3,3,3,3,3,3,3,3,6,3,3,3,3,3,3,3,3,3,3,3,3,3,3,3,3,3,3,3,3,3,3,3,12,3,3,3,3,3,3,3,3,3,3,3,3],[3,3,3,3,3,3,3,3,3,3,3,3,3,27,3,3,3,3,3,3,3,3,3,3,3,3,3,6,3,3,3,3,3,3,3,9,12,3,3,3,3,3,3,3,9,3,3,3,3,3,3,3,3,3,3,3,3,3,3,3,3,3,3,3,6,6,3,3,6,3,3,3,3,3,6,3,3,3,3,3,3,3,3,3,9,3,3,6,3,3,3,3,3,3,3,3,3,3,3,3,3,3,3,3,3,3,3,3,3,3,3,3,3,3,3,3,3,3,3,3,3,3,3,3,3,3,3,3,3,3,3,6,3,18,3,3,3,3,3,3,3,3,3,3,3,3,3,3,3,3,3,3,3,3,3,3,3,3,3,3,3,3,9,3,3,3,3,3,3,3,3,3,3,3,3,3,3,3,3,3,3,6,3,3,3,3,3,3,3,3,3,3,3,3,3,3,3,3,3,3,3,3,3,3,3,12,3,3,3,3,3,3,3,3,3,3,3,3],[3,3,3,3,3,3,3,3,3,3,3,3,3,27,3,3,3,3,3,3,3,3,3,3,3,3,3,6,3,3,3,3,3,3,3,9,12,3,3,3,3,3,3,3,9,3,3,3,3,3,3,3,3,3,3,3,3,3,3,3,3,3,3,3,6,6,3,3,6,3,3,3,3,3,6,3,3,3,3,3,3,3,3,3,9,3,3,6,3,3,3,3,3,3,3,3,3,3,3,3,3,3,3,3,3,3,3,3,3,3,3,3,3,3,3,3,3,3,3,3,3,3,3,3,3,3,3,3,3,3,3,6,3,18,3,3,3,3,3,3,3,3,3,3,3,3,3,3,3,3,3,3,3,3,3,3,3,3,3,3,3,3,9,3,3,3,3,3,3,3,3,3,3,3,3,3,3,3,3,3,3,6,3,3,3,3,3,3,3,3,3,3,3,3,3,3,3,3,3,3,3,3,3,3,3,12,3,3,3,3,3,3,3,3,3,3,3,3],[3,3,3,3,3,3,3,3,3,3,3,3,3,27,3,3,3,3,3,3,3,3,3,3,3,3,3,6,3,3,3,3,3,3,3,9,12,3,3,3,3,3,3,3,9,3,3,3,3,3,3,3,3,3,3,3,3,3,3,3,3,3,3,3,6,6,3,3,6,3,3,3,3,3,6,3,3,3,3,3,3,3,3,3,9,3,3,6,3,3,3,3,3,3,3,3,3,3,3,3,3,3,3,3,3,3,3,3,3,3,3,3,3,3,3,3,3,3,3,3,3,3,3,3,3,3,3,3,3,3,3,6,3,18,3,3,3,3,3,3,3,3,3,3,3,3,3,3,3,3,3,3,3,3,3,3,3,3,3,3,3,3,9,3,3,3,3,3,3,3,3,3,3,3,3,3,3,3,3,3,3,6,3,3,3,3,3,3,3,3,3,3,3,3,3,3,3,3,3,3,3,3,3,3,3,12,3,3,3,3,3,3,3,3,3,3,3,3],[3,3,3,3,3,3,3,3,3,3,3,3,3,27,3,3,3,3,3,3,3,3,3,3,3,3,3,6,3,3,3,3,3,3,3,9,12,3,3,3,3,3,3,3,9,3,3,3,3,3,3,3,3,3,3,3,3,3,3,3,3,3,3,3,6,6,3,3,6,3,3,3,3,3,6,3,3,3,3,3,3,3,3,3,9,3,3,6,3,3,3,3,3,3,3,3,3,3,3,3,3,3,3,3,3,3,3,3,3,3,3,3,3,3,3,3,3,3,3,3,3,3,3,3,3,3,3,3,3,3,3,6,3,18,3,3,3,3,3,3,3,3,3,3,3,3,3,3,3,3,3,3,3,3,3,3,3,3,3,3,3,3,9,3,3,3,3,3,3,3,3,3,3,3,3,3,3,3,3,3,3,6,3,3,3,3,3,3,3,3,3,3,3,3,3,3,3,3,3,3,3,3,3,3,3,12,3,3,3,3,3,3,3,3,3,3,3,3],[3,3,3,3,3,3,3,3,3,3,3,3,3,27,3,3,3,3,3,3,3,3,3,3,3,3,3,6,3,3,3,3,3,3,3,9,12,3,3,3,3,3,3,3,9,3,3,3,3,3,3,3,3,3,3,3,3,3,3,3,3,3,3,3,6,6,3,3,6,3,3,3,3,3,6,3,3,3,3,3,3,3,3,3,9,3,3,6,3,3,3,3,3,3,3,3,3,3,3,3,3,3,3,3,3,3,3,3,3,3,3,3,3,3,3,3,3,3,3,3,3,3,3,3,3,3,3,3,3,3,3,6,3,18,3,3,3,3,3,3,3,3,3,3,3,3,3,3,3,3,3,3,3,3,3,3,3,3,3,3,3,3,9,3,3,3,3,3,3,3,3,3,3,3,3,3,3,3,3,3,3,6,3,3,3,3,3,3,3,3,3,3,3,3,3,3,3,3,3,3,3,3,3,3,3,12,3,3,3,3,3,3,3,3,3,3,3,3],[3,3,3,3,3,3,3,3,3,3,3,3,3,27,3,3,3,3,3,3,3,3,3,3,3,3,3,6,3,3,3,3,3,3,3,9,12,3,3,3,3,3,3,3,9,3,3,3,3,3,3,3,3,3,3,3,3,3,3,3,3,3,3,3,6,6,3,3,6,3,3,3,3,3,6,3,3,3,3,3,3,3,3,3,9,3,3,6,3,3,3,3,3,3,3,3,3,3,3,3,3,3,3,3,3,3,3,3,3,3,3,3,3,3,3,3,3,3,3,3,3,3,3,3,3,3,3,3,3,3,3,6,3,18,3,3,3,3,3,3,3,3,3,3,3,3,3,3,3,3,3,3,3,3,3,3,3,3,3,3,3,3,9,3,3,3,3,3,3,3,3,3,3,3,3,3,3,3,3,3,3,6,3,3,3,3,3,3,3,3,3,3,3,3,3,3,3,3,3,3,3,3,3,3,3,12,3,3,3,3,3,3,3,3,3,3,3,3],[3,3,3,3,3,3,3,3,3,3,3,3,3,27,3,3,3,3,3,3,3,3,3,3,3,3,3,6,3,3,3,3,3,3,3,9,12,3,3,3,3,3,3,3,9,3,3,3,3,3,3,3,3,3,3,3,3,3,3,3,3,3,3,3,6,6,3,3,6,3,3,3,3,3,6,3,3,3,3,3,3,3,3,3,9,3,3,6,3,3,3,3,3,3,3,3,3,3,3,3,3,3,3,3,3,3,3,3,3,3,3,3,3,3,3,3,3,3,3,3,3,3,3,3,3,3,3,3,3,3,3,6,3,18,3,3,3,3,3,3,3,3,3,3,3,3,3,3,3,3,3,3,3,3,3,3,3,3,3,3,3,3,9,3,3,3,3,3,3,3,3,3,3,3,3,3,3,3,3,3,3,6,3,3,3,3,3,3,3,3,3,3,3,3,3,3,3,3,3,3,3,3,3,3,3,12,3,3,3,3,3,3,3,3,3,3,3,3],[3,3,3,3,3,3,3,3,3,3,3,3,3,27,3,3,3,3,3,3,3,3,3,3,3,3,3,6,3,3,3,3,3,3,3,9,12,3,3,3,3,3,3,3,9,3,3,3,3,3,3,3,3,3,3,3,3,3,3,3,3,3,3,3,6,6,3,3,6,3,3,3,3,3,6,3,3,3,3,3,3,3,3,3,9,3,3,6,3,3,3,3,3,3,3,3,3,3,3,3,3,3,3,3,3,3,3,3,3,3,3,3,3,3,3,3,3,3,3,3,3,3,3,3,3,3,3,3,3,3,3,6,3,18,3,3,3,3,3,3,3,3,3,3,3,3,3,3,3,3,3,3,3,3,3,3,3,3,3,3,3,3,9,3,3,3,3,3,3,3,3,3,3,3,3,3,3,3,3,3,3,6,3,3,3,3,3,3,3,3,3,3,3,3,3,3,3,3,3,3,3,3,3,3,3,12,3,3,3,3,3,3,3,3,3,3,3,3],[3,3,3,3,3,3,3,3,3,3,3,3,3,27,3,3,3,3,3,3,3,3,3,3,3,3,3,6,3,3,3,3,3,3,3,9,12,3,3,3,3,3,3,3,9,3,3,3,3,3,3,3,3,3,3,3,3,3,3,3,3,3,3,3,6,6,3,3,6,3,3,3,3,3,6,3,3,3,3,3,3,3,3,3,9,3,3,6,3,3,3,3,3,3,3,3,3,3,3,3,3,3,3,3,3,3,3,3,3,3,3,3,3,3,3,3,3,3,3,3,3,3,3,3,3,3,3,3,3,3,3,6,3,18,3,3,3,3,3,3,3,3,3,3,3,3,3,3,3,3,3,3,3,3,3,3,3,3,3,3,3,3,9,3,3,3,3,3,3,3,3,3,3,3,3,3,3,3,3,3,3,6,3,3,3,3,3,3,3,3,3,3,3,3,3,3,3,3,3,3,3,3,3,3,3,12,3,3,3,3,3,3,3,3,3,3,3,3],[3,3,3,3,3,3,3,3,3,3,3,3,3,27,3,3,3,3,3,3,3,3,3,3,3,3,3,6,3,3,3,3,3,3,3,9,12,3,3,3,3,3,3,3,9,3,3,3,3,3,3,3,3,3,3,3,3,3,3,3,3,3,3,3,6,6,3,3,6,3,3,3,3,3,6,3,3,3,3,3,3,3,3,3,9,3,3,6,3,3,3,3,3,3,3,3,3,3,3,3,3,3,3,3,3,3,3,3,3,3,3,3,3,3,3,3,3,3,3,3,3,3,3,3,3,3,3,3,3,3,3,6,3,18,3,3,3,3,3,3,3,3,3,3,3,3,3,3,3,3,3,3,3,3,3,3,3,3,3,3,3,3,9,3,3,3,3,3,3,3,3,3,3,3,3,3,3,3,3,3,3,6,3,3,3,3,3,3,3,3,3,3,3,3,3,3,3,3,3,3,3,3,3,3,3,12,3,3,3,3,3,3,3,3,3,3,3,3],[3,3,3,3,3,3,3,3,3,3,3,3,3,27,3,3,3,3,3,3,3,3,3,3,3,3,3,6,3,3,3,3,3,3,3,9,12,3,3,3,3,3,3,3,9,3,3,3,3,3,3,3,3,3,3,3,3,3,3,3,3,3,3,3,6,6,3,3,6,3,3,3,3,3,6,3,3,3,3,3,3,3,3,3,9,3,3,6,3,3,3,3,3,3,3,3,3,3,3,3,3,3,3,3,3,3,3,3,3,3,3,3,3,3,3,3,3,3,3,3,3,3,3,3,3,3,3,3,3,3,3,6,3,18,3,3,3,3,3,3,3,3,3,3,3,3,3,3,3,3,3,3,3,3,3,3,3,3,3,3,3,3,9,3,3,3,3,3,3,3,3,3,3,3,3,3,3,3,3,3,3,6,3,3,3,3,3,3,3,3,3,3,3,3,3,3,3,3,3,3,3,3,3,3,3,12,3,3,3,3,3,3,3,3,3,3,3,3],[3,3,3,3,3,3,3,3,3,3,3,3,3,27,3,3,3,3,3,3,3,3,3,3,3,3,3,6,3,3,3,3,3,3,3,9,12,3,3,3,3,3,3,3,9,3,3,3,3,3,3,3,3,3,3,3,3,3,3,3,3,3,3,3,6,6,3,3,6,3,3,3,3,3,6,3,3,3,3,3,3,3,3,3,9,3,3,6,3,3,3,3,3,3,3,3,3,3,3,3,3,3,3,3,3,3,3,3,3,3,3,3,3,3,3,3,3,3,3,3,3,3,3,3,3,3,3,3,3,3,3,6,3,18,3,3,3,3,3,3,3,3,3,3,3,3,3,3,3,3,3,3,3,3,3,3,3,3,3,3,3,3,9,3,3,3,3,3,3,3,3,3,3,3,3,3,3,3,3,3,3,6,3,3,3,3,3,3,3,3,3,3,3,3,3,3,3,3,3,3,3,3,3,3,3,12,3,3,3,3,3,3,3,3,3,3,3,3],[3,3,3,3,3,3,3,3,3,3,3,3,3,27,3,3,3,3,3,3,3,3,3,3,3,3,3,6,3,3,3,3,3,3,3,9,12,3,3,3,3,3,3,3,9,3,3,3,3,3,3,3,3,3,3,3,3,3,3,3,3,3,3,3,6,6,3,3,6,3,3,3,3,3,6,3,3,3,3,3,3,3,3,3,9,3,3,6,3,3,3,3,3,3,3,3,3,3,3,3,3,3,3,3,3,3,3,3,3,3,3,3,3,3,3,3,3,3,3,3,3,3,3,3,3,3,3,3,3,3,3,6,3,18,3,3,3,3,3,3,3,3,3,3,3,3,3,3,3,3,3,3,3,3,3,3,3,3,3,3,3,3,9,3,3,3,3,3,3,3,3,3,3,3,3,3,3,3,3,3,3,6,3,3,3,3,3,3,3,3,3,3,3,3,3,3,3,3,3,3,3,3,3,3,3,12,3,3,3,3,3,3,3,3,3,3,3,3],[3,3,3,3,3,3,3,3,3,3,3,3,3,27,3,3,3,3,3,3,3,3,3,3,3,3,3,6,3,3,3,3,3,3,3,9,12,3,3,3,3,3,3,3,9,3,3,3,3,3,3,3,3,3,3,3,3,3,3,3,3,3,3,3,6,6,3,3,6,3,3,3,3,3,6,3,3,3,3,3,3,3,3,3,9,3,3,6,3,3,3,3,3,3,3,3,3,3,3,3,3,3,3,3,3,3,3,3,3,3,3,3,3,3,3,3,3,3,3,3,3,3,3,3,3,3,3,3,3,3,3,6,3,18,3,3,3,3,3,3,3,3,3,3,3,3,3,3,3,3,3,3,3,3,3,3,3,3,3,3,3,3,9,3,3,3,3,3,3,3,3,3,3,3,3,3,3,3,3,3,3,6,3,3,3,3,3,3,3,3,3,3,3,3,3,3,3,3,3,3,3,3,3,3,3,12,3,3,3,3,3,3,3,3,3,3,3,3],[3,3,3,3,3,3,3,3,3,3,3,3,3,27,3,3,3,3,3,3,3,3,3,3,3,3,3,6,3,3,3,3,3,3,3,9,12,3,3,3,3,3,3,3,9,3,3,3,3,3,3,3,3,3,3,3,3,3,3,3,3,3,3,3,6,6,3,3,6,3,3,3,3,3,6,3,3,3,3,3,3,3,3,3,9,3,3,6,3,3,3,3,3,3,3,3,3,3,3,3,3,3,3,3,3,3,3,3,3,3,3,3,3,3,3,3,3,3,3,3,3,3,3,3,3,3,3,3,3,3,3,6,3,18,3,3,3,3,3,3,3,3,3,3,3,3,3,3,3,3,3,3,3,3,3,3,3,3,3,3,3,3,9,3,3,3,3,3,3,3,3,3,3,3,3,3,3,3,3,3,3,6,3,3,3,3,3,3,3,3,3,3,3,3,3,3,3,3,3,3,3,3,3,3,3,12,3,3,3,3,3,3,3,3,3,3,3,3],[3,3,3,3,3,3,3,3,3,3,3,3,3,27,3,3,3,3,3,3,3,3,3,3,3,3,3,6,3,3,3,3,3,3,3,9,12,3,3,3,3,3,3,3,9,3,3,3,3,3,3,3,3,3,3,3,3,3,3,3,3,3,3,3,6,6,3,3,6,3,3,3,3,3,6,3,3,3,3,3,3,3,3,3,9,3,3,6,3,3,3,3,3,3,3,3,3,3,3,3,3,3,3,3,3,3,3,3,3,3,3,3,3,3,3,3,3,3,3,3,3,3,3,3,3,3,3,3,3,3,3,6,3,18,3,3,3,3,3,3,3,3,3,3,3,3,3,3,3,3,3,3,3,3,3,3,3,3,3,3,3,3,9,3,3,3,3,3,3,3,3,3,3,3,3,3,3,3,3,3,3,6,3,3,3,3,3,3,3,3,3,3,3,3,3,3,3,3,3,3,3,3,3,3,3,12,3,3,3,3,3,3,3,3,3,3,3,3],[3,3,3,3,3,3,3,3,3,3,3,3,3,27,3,3,3,3,3,3,3,3,3,3,3,3,3,6,3,3,3,3,3,3,3,9,12,3,3,3,3,3,3,3,9,3,3,3,3,3,3,3,3,3,3,3,3,3,3,3,3,3,3,3,6,6,3,3,6,3,3,3,3,3,6,3,3,3,3,3,3,3,3,3,9,3,3,6,3,3,3,3,3,3,3,3,3,3,3,3,3,3,3,3,3,3,3,3,3,3,3,3,3,3,3,3,3,3,3,3,3,3,3,3,3,3,3,3,3,3,3,6,3,18,3,3,3,3,3,3,3,3,3,3,3,3,3,3,3,3,3,3,3,3,3,3,3,3,3,3,3,3,9,3,3,3,3,3,3,3,3,3,3,3,3,3,3,3,3,3,3,6,3,3,3,3,3,3,3,3,3,3,3,3,3,3,3,3,3,3,3,3,3,3,3,12,3,3,3,3,3,3,3,3,3,3,3,3],[3,3,3,3,3,3,3,3,3,3,3,3,3,27,3,3,3,3,3,3,3,3,3,3,3,3,3,6,3,3,3,3,3,3,3,9,12,3,3,3,3,3,3,3,9,3,3,3,3,3,3,3,3,3,3,3,3,3,3,3,3,3,3,3,6,6,3,3,6,3,3,3,3,3,6,3,3,3,3,3,3,3,3,3,9,3,3,6,3,3,3,3,3,3,3,3,3,3,3,3,3,3,3,3,3,3,3,3,3,3,3,3,3,3,3,3,3,3,3,3,3,3,3,3,3,3,3,3,3,3,3,6,3,18,3,3,3,3,3,3,3,3,3,3,3,3,3,3,3,3,3,3,3,3,3,3,3,3,3,3,3,3,9,3,3,3,3,3,3,3,3,3,3,3,3,3,3,3,3,3,3,6,3,3,3,3,3,3,3,3,3,3,3,3,3,3,3,3,3,3,3,3,3,3,3,12,3,3,3,3,3,3,3,3,3,3,3,3],[3,3,3,3,3,3,3,3,3,3,3,3,3,27,3,3,3,3,3,3,3,3,3,3,3,3,3,6,3,3,3,3,3,3,3,9,12,3,3,3,3,3,3,3,9,3,3,3,3,3,3,3,3,3,3,3,3,3,3,3,3,3,3,3,6,6,3,3,6,3,3,3,3,3,6,3,3,3,3,3,3,3,3,3,9,3,3,6,3,3,3,3,3,3,3,3,3,3,3,3,3,3,3,3,3,3,3,3,3,3,3,3,3,3,3,3,3,3,3,3,3,3,3,3,3,3,3,3,3,3,3,6,3,18,3,3,3,3,3,3,3,3,3,3,3,3,3,3,3,3,3,3,3,3,3,3,3,3,3,3,3,3,9,3,3,3,3,3,3,3,3,3,3,3,3,3,3,3,3,3,3,6,3,3,3,3,3,3,3,3,3,3,3,3,3,3,3,3,3,3,3,3,3,3,3,12,3,3,3,3,3,3,3,3,3,3,3,3],[3,3,3,3,3,3,3,3,3,3,3,3,3,27,3,3,3,3,3,3,3,3,3,3,3,3,3,6,3,3,3,3,3,3,3,9,12,3,3,3,3,3,3,3,9,3,3,3,3,3,3,3,3,3,3,3,3,3,3,3,3,3,3,3,6,6,3,3,6,3,3,3,3,3,6,3,3,3,3,3,3,3,3,3,9,3,3,6,3,3,3,3,3,3,3,3,3,3,3,3,3,3,3,3,3,3,3,3,3,3,3,3,3,3,3,3,3,3,3,3,3,3,3,3,3,3,3,3,3,3,3,6,3,18,3,3,3,3,3,3,3,3,3,3,3,3,3,3,3,3,3,3,3,3,3,3,3,3,3,3,3,3,9,3,3,3,3,3,3,3,3,3,3,3,3,3,3,3,3,3,3,6,3,3,3,3,3,3,3,3,3,3,3,3,3,3,3,3,3,3,3,3,3,3,3,12,3,3,3,3,3,3,3,3,3,3,3,3],[3,3,3,3,3,3,3,3,3,3,3,3,3,27,3,3,3,3,3,3,3,3,3,3,3,3,3,6,3,3,3,3,3,3,3,9,12,3,3,3,3,3,3,3,9,3,3,3,3,3,3,3,3,3,3,3,3,3,3,3,3,3,3,3,6,6,3,3,6,3,3,3,3,3,6,3,3,3,3,3,3,3,3,3,9,3,3,6,3,3,3,3,3,3,3,3,3,3,3,3,3,3,3,3,3,3,3,3,3,3,3,3,3,3,3,3,3,3,3,3,3,3,3,3,3,3,3,3,3,3,3,6,3,18,3,3,3,3,3,3,3,3,3,3,3,3,3,3,3,3,3,3,3,3,3,3,3,3,3,3,3,3,9,3,3,3,3,3,3,3,3,3,3,3,3,3,3,3,3,3,3,6,3,3,3,3,3,3,3,3,3,3,3,3,3,3,3,3,3,3,3,3,3,3,3,12,3,3,3,3,3,3,3,3,3,3,3,3],[3,3,3,3,3,3,3,3,3,3,3,3,3,27,3,3,3,3,3,3,3,3,3,3,3,3,3,6,3,3,3,3,3,3,3,9,12,3,3,3,3,3,3,3,9,3,3,3,3,3,3,3,3,3,3,3,3,3,3,3,3,3,3,3,6,6,3,3,6,3,3,3,3,3,6,3,3,3,3,3,3,3,3,3,9,3,3,6,3,3,3,3,3,3,3,3,3,3,3,3,3,3,3,3,3,3,3,3,3,3,3,3,3,3,3,3,3,3,3,3,3,3,3,3,3,3,3,3,3,3,3,6,3,18,3,3,3,3,3,3,3,3,3,3,3,3,3,3,3,3,3,3,3,3,3,3,3,3,3,3,3,3,9,3,3,3,3,3,3,3,3,3,3,3,3,3,3,3,3,3,3,6,3,3,3,3,3,3,3,3,3,3,3,3,3,3,3,3,3,3,3,3,3,3,3,12,3,3,3,3,3,3,3,3,3,3,3,3],[3,3,3,3,3,3,3,3,3,3,3,3,3,27,3,3,3,3,3,3,3,3,3,3,3,3,3,6,3,3,3,3,3,3,3,9,12,3,3,3,3,3,3,3,9,3,3,3,3,3,3,3,3,3,3,3,3,3,3,3,3,3,3,3,6,6,3,3,6,3,3,3,3,3,6,3,3,3,3,3,3,3,3,3,9,3,3,6,3,3,3,3,3,3,3,3,3,3,3,3,3,3,3,3,3,3,3,3,3,3,3,3,3,3,3,3,3,3,3,3,3,3,3,3,3,3,3,3,3,3,3,6,3,18,3,3,3,3,3,3,3,3,3,3,3,3,3,3,3,3,3,3,3,3,3,3,3,3,3,3,3,3,9,3,3,3,3,3,3,3,3,3,3,3,3,3,3,3,3,3,3,6,3,3,3,3,3,3,3,3,3,3,3,3,3,3,3,3,3,3,3,3,3,3,3,12,3,3,3,3,3,3,3,3,3,3,3,3],[3,3,3,3,3,3,3,3,3,3,3,3,3,27,3,3,3,3,3,3,3,3,3,3,3,3,3,6,3,3,3,3,3,3,3,9,12,3,3,3,3,3,3,3,9,3,3,3,3,3,3,3,3,3,3,3,3,3,3,3,3,3,3,3,6,6,3,3,6,3,3,3,3,3,6,3,3,3,3,3,3,3,3,3,9,3,3,6,3,3,3,3,3,3,3,3,3,3,3,3,3,3,3,3,3,3,3,3,3,3,3,3,3,3,3,3,3,3,3,3,3,3,3,3,3,3,3,3,3,3,3,6,3,18,3,3,3,3,3,3,3,3,3,3,3,3,3,3,3,3,3,3,3,3,3,3,3,3,3,3,3,3,9,3,3,3,3,3,3,3,3,3,3,3,3,3,3,3,3,3,3,6,3,3,3,3,3,3,3,3,3,3,3,3,3,3,3,3,3,3,3,3,3,3,3,12,3,3,3,3,3,3,3,3,3,3,3,3],[3,3,3,3,3,3,3,3,3,3,3,3,3,27,3,3,3,3,3,3,3,3,3,3,3,3,3,6,3,3,3,3,3,3,3,9,12,3,3,3,3,3,3,3,9,3,3,3,3,3,3,3,3,3,3,3,3,3,3,3,3,3,3,3,6,6,3,3,6,3,3,3,3,3,6,3,3,3,3,3,3,3,3,3,9,3,3,6,3,3,3,3,3,3,3,3,3,3,3,3,3,3,3,3,3,3,3,3,3,3,3,3,3,3,3,3,3,3,3,3,3,3,3,3,3,3,3,3,3,3,3,6,3,18,3,3,3,3,3,3,3,3,3,3,3,3,3,3,3,3,3,3,3,3,3,3,3,3,3,3,3,3,9,3,3,3,3,3,3,3,3,3,3,3,3,3,3,3,3,3,3,6,3,3,3,3,3,3,3,3,3,3,3,3,3,3,3,3,3,3,3,3,3,3,3,12,3,3,3,3,3,3,3,3,3,3,3,3],[3,3,3,3,3,3,3,3,3,3,3,3,3,27,3,3,3,3,3,3,3,3,3,3,3,3,3,6,3,3,3,3,3,3,3,9,12,3,3,3,3,3,3,3,9,3,3,3,3,3,3,3,3,3,3,3,3,3,3,3,3,3,3,3,6,6,3,3,6,3,3,3,3,3,6,3,3,3,3,3,3,3,3,3,9,3,3,6,3,3,3,3,3,3,3,3,3,3,3,3,3,3,3,3,3,3,3,3,3,3,3,3,3,3,3,3,3,3,3,3,3,3,3,3,3,3,3,3,3,3,3,6,3,18,3,3,3,3,3,3,3,3,3,3,3,3,3,3,3,3,3,3,3,3,3,3,3,3,3,3,3,3,9,3,3,3,3,3,3,3,3,3,3,3,3,3,3,3,3,3,3,6,3,3,3,3,3,3,3,3,3,3,3,3,3,3,3,3,3,3,3,3,3,3,3,12,3,3,3,3,3,3,3,3,3,3,3,3],[3,3,3,3,3,3,3,3,3,3,3,3,3,27,3,3,3,3,3,3,3,3,3,3,3,3,3,6,3,3,3,3,3,3,3,9,12,3,3,3,3,3,3,3,9,3,3,3,3,3,3,3,3,3,3,3,3,3,3,3,3,3,3,3,6,6,3,3,6,3,3,3,3,3,6,3,3,3,3,3,3,3,3,3,9,3,3,6,3,3,3,3,3,3,3,3,3,3,3,3,3,3,3,3,3,3,3,3,3,3,3,3,3,3,3,3,3,3,3,3,3,3,3,3,3,3,3,3,3,3,3,6,3,18,3,3,3,3,3,3,3,3,3,3,3,3,3,3,3,3,3,3,3,3,3,3,3,3,3,3,3,3,9,3,3,3,3,3,3,3,3,3,3,3,3,3,3,3,3,3,3,6,3,3,3,3,3,3,3,3,3,3,3,3,3,3,3,3,3,3,3,3,3,3,3,12,3,3,3,3,3,3,3,3,3,3,3,3],[3,3,3,3,3,3,3,3,3,3,3,3,3,27,3,3,3,3,3,3,3,3,3,3,3,3,3,6,3,3,3,3,3,3,3,9,12,3,3,3,3,3,3,3,9,3,3,3,3,3,3,3,3,3,3,3,3,3,3,3,3,3,3,3,6,6,3,3,6,3,3,3,3,3,6,3,3,3,3,3,3,3,3,3,9,3,3,6,3,3,3,3,3,3,3,3,3,3,3,3,3,3,3,3,3,3,3,3,3,3,3,3,3,3,3,3,3,3,3,3,3,3,3,3,3,3,3,3,3,3,3,6,3,18,3,3,3,3,3,3,3,3,3,3,3,3,3,3,3,3,3,3,3,3,3,3,3,3,3,3,3,3,9,3,3,3,3,3,3,3,3,3,3,3,3,3,3,3,3,3,3,6,3,3,3,3,3,3,3,3,3,3,3,3,3,3,3,3,3,3,3,3,3,3,3,12,3,3,3,3,3,3,3,3,3,3,3,3],[3,3,3,3,3,3,3,3,3,3,3,3,3,27,3,3,3,3,3,3,3,3,3,3,3,3,3,6,3,3,3,3,3,3,3,9,12,3,3,3,3,3,3,3,9,3,3,3,3,3,3,3,3,3,3,3,3,3,3,3,3,3,3,3,6,6,3,3,6,3,3,3,3,3,6,3,3,3,3,3,3,3,3,3,9,3,3,6,3,3,3,3,3,3,3,3,3,3,3,3,3,3,3,3,3,3,3,3,3,3,3,3,3,3,3,3,3,3,3,3,3,3,3,3,3,3,3,3,3,3,3,6,3,18,3,3,3,3,3,3,3,3,3,3,3,3,3,3,3,3,3,3,3,3,3,3,3,3,3,3,3,3,9,3,3,3,3,3,3,3,3,3,3,3,3,3,3,3,3,3,3,6,3,3,3,3,3,3,3,3,3,3,3,3,3,3,3,3,3,3,3,3,3,3,3,12,3,3,3,3,3,3,3,3,3,3,3,3],[3,3,3,3,3,3,3,3,3,3,3,3,3,27,3,3,3,3,3,3,3,3,3,3,3,3,3,6,3,3,3,3,3,3,3,9,12,3,3,3,3,3,3,3,9,3,3,3,3,3,3,3,3,3,3,3,3,3,3,3,3,3,3,3,6,6,3,3,6,3,3,3,3,3,6,3,3,3,3,3,3,3,3,3,9,3,3,6,3,3,3,3,3,3,3,3,3,3,3,3,3,3,3,3,3,3,3,3,3,3,3,3,3,3,3,3,3,3,3,3,3,3,3,3,3,3,3,3,3,3,3,6,3,18,3,3,3,3,3,3,3,3,3,3,3,3,3,3,3,3,3,3,3,3,3,3,3,3,3,3,3,3,9,3,3,3,3,3,3,3,3,3,3,3,3,3,3,3,3,3,3,6,3,3,3,3,3,3,3,3,3,3,3,3,3,3,3,3,3,3,3,3,3,3,3,12,3,3,3,3,3,3,3,3,3,3,3,3],[3,3,3,3,3,3,3,3,3,3,3,3,3,27,3,3,3,3,3,3,3,3,3,3,3,3,3,6,3,3,3,3,3,3,3,9,12,3,3,3,3,3,3,3,9,3,3,3,3,3,3,3,3,3,3,3,3,3,3,3,3,3,3,3,6,6,3,3,6,3,3,3,3,3,6,3,3,3,3,3,3,3,3,3,9,3,3,6,3,3,3,3,3,3,3,3,3,3,3,3,3,3,3,3,3,3,3,3,3,3,3,3,3,3,3,3,3,3,3,3,3,3,3,3,3,3,3,3,3,3,3,6,3,18,3,3,3,3,3,3,3,3,3,3,3,3,3,3,3,3,3,3,3,3,3,3,3,3,3,3,3,3,9,3,3,3,3,3,3,3,3,3,3,3,3,3,3,3,3,3,3,6,3,3,3,3,3,3,3,3,3,3,3,3,3,3,3,3,3,3,3,3,3,3,3,12,3,3,3,3,3,3,3,3,3,3,3,3],[3,3,3,3,3,3,3,3,3,3,3,3,3,27,3,3,3,3,3,3,3,3,3,3,3,3,3,6,3,3,3,3,3,3,3,9,12,3,3,3,3,3,3,3,9,3,3,3,3,3,3,3,3,3,3,3,3,3,3,3,3,3,3,3,6,6,3,3,6,3,3,3,3,3,6,3,3,3,3,3,3,3,3,3,9,3,3,6,3,3,3,3,3,3,3,3,3,3,3,3,3,3,3,3,3,3,3,3,3,3,3,3,3,3,3,3,3,3,3,3,3,3,3,3,3,3,3,3,3,3,3,6,3,18,3,3,3,3,3,3,3,3,3,3,3,3,3,3,3,3,3,3,3,3,3,3,3,3,3,3,3,3,9,3,3,3,3,3,3,3,3,3,3,3,3,3,3,3,3,3,3,6,3,3,3,3,3,3,3,3,3,3,3,3,3,3,3,3,3,3,3,3,3,3,3,12,3,3,3,3,3,3,3,3,3,3,3,3],[3,3,3,3,3,3,3,3,3,3,3,3,3,27,3,3,3,3,3,3,3,3,3,3,3,3,3,6,3,3,3,3,3,3,3,9,12,3,3,3,3,3,3,3,9,3,3,3,3,3,3,3,3,3,3,3,3,3,3,3,3,3,3,3,6,6,3,3,6,3,3,3,3,3,6,3,3,3,3,3,3,3,3,3,9,3,3,6,3,3,3,3,3,3,3,3,3,3,3,3,3,3,3,3,3,3,3,3,3,3,3,3,3,3,3,3,3,3,3,3,3,3,3,3,3,3,3,3,3,3,3,6,3,18,3,3,3,3,3,3,3,3,3,3,3,3,3,3,3,3,3,3,3,3,3,3,3,3,3,3,3,3,9,3,3,3,3,3,3,3,3,3,3,3,3,3,3,3,3,3,3,6,3,3,3,3,3,3,3,3,3,3,3,3,3,3,3,3,3,3,3,3,3,3,3,12,3,3,3,3,3,3,3,3,3,3,3,3],[3,3,3,3,3,3,3,3,3,3,3,3,3,27,3,3,3,3,3,3,3,3,3,3,3,3,3,6,3,3,3,3,3,3,3,9,12,3,3,3,3,3,3,3,9,3,3,3,3,3,3,3,3,3,3,3,3,3,3,3,3,3,3,3,6,6,3,3,6,3,3,3,3,3,6,3,3,3,3,3,3,3,3,3,9,3,3,6,3,3,3,3,3,3,3,3,3,3,3,3,3,3,3,3,3,3,3,3,3,3,3,3,3,3,3,3,3,3,3,3,3,3,3,3,3,3,3,3,3,3,3,6,3,18,3,3,3,3,3,3,3,3,3,3,3,3,3,3,3,3,3,3,3,3,3,3,3,3,3,3,3,3,9,3,3,3,3,3,3,3,3,3,3,3,3,3,3,3,3,3,3,6,3,3,3,3,3,3,3,3,3,3,3,3,3,3,3,3,3,3,3,3,3,3,3,12,3,3,3,3,3,3,3,3,3,3,3,3],[3,3,3,3,3,3,3,3,3,3,3,3,3,27,3,3,3,3,3,3,3,3,3,3,3,3,3,6,3,3,3,3,3,3,3,9,12,3,3,3,3,3,3,3,9,3,3,3,3,3,3,3,3,3,3,3,3,3,3,3,3,3,3,3,6,6,3,3,6,3,3,3,3,3,6,3,3,3,3,3,3,3,3,3,9,3,3,6,3,3,3,3,3,3,3,3,3,3,3,3,3,3,3,3,3,3,3,3,3,3,3,3,3,3,3,3,3,3,3,3,3,3,3,3,3,3,3,3,3,3,3,6,3,18,3,3,3,3,3,3,3,3,3,3,3,3,3,3,3,3,3,3,3,3,3,3,3,3,3,3,3,3,9,3,3,3,3,3,3,3,3,3,3,3,3,3,3,3,3,3,3,6,3,3,3,3,3,3,3,3,3,3,3,3,3,3,3,3,3,3,3,3,3,3,3,12,3,3,3,3,3,3,3,3,3,3,3,3],[3,3,3,3,3,3,3,3,3,3,3,3,3,27,3,3,3,3,3,3,3,3,3,3,3,3,3,6,3,3,3,3,3,3,3,9,12,3,3,3,3,3,3,3,9,3,3,3,3,3,3,3,3,3,3,3,3,3,3,3,3,3,3,3,6,6,3,3,6,3,3,3,3,3,6,3,3,3,3,3,3,3,3,3,9,3,3,6,3,3,3,3,3,3,3,3,3,3,3,3,3,3,3,3,3,3,3,3,3,3,3,3,3,3,3,3,3,3,3,3,3,3,3,3,3,3,3,3,3,3,3,6,3,18,3,3,3,3,3,3,3,3,3,3,3,3,3,3,3,3,3,3,3,3,3,3,3,3,3,3,3,3,9,3,3,3,3,3,3,3,3,3,3,3,3,3,3,3,3,3,3,6,3,3,3,3,3,3,3,3,3,3,3,3,3,3,3,3,3,3,3,3,3,3,3,12,3,3,3,3,3,3,3,3,3,3,3,3],[3,3,3,3,3,3,3,3,3,3,3,3,3,27,3,3,3,3,3,3,3,3,3,3,3,3,3,6,3,3,3,3,3,3,3,9,12,3,3,3,3,3,3,3,9,3,3,3,3,3,3,3,3,3,3,3,3,3,3,3,3,3,3,3,6,6,3,3,6,3,3,3,3,3,6,3,3,3,3,3,3,3,3,3,9,3,3,6,3,3,3,3,3,3,3,3,3,3,3,3,3,3,3,3,3,3,3,3,3,3,3,3,3,3,3,3,3,3,3,3,3,3,3,3,3,3,3,3,3,3,3,6,3,18,3,3,3,3,3,3,3,3,3,3,3,3,3,3,3,3,3,3,3,3,3,3,3,3,3,3,3,3,9,3,3,3,3,3,3,3,3,3,3,3,3,3,3,3,3,3,3,6,3,3,3,3,3,3,3,3,3,3,3,3,3,3,3,3,3,3,3,3,3,3,3,12,3,3,3,3,3,3,3,3,3,3,3,3],[3,3,3,3,3,3,3,3,3,3,3,3,3,27,3,3,3,3,3,3,3,3,3,3,3,3,3,6,3,3,3,3,3,3,3,9,12,3,3,3,3,3,3,3,9,3,3,3,3,3,3,3,3,3,3,3,3,3,3,3,3,3,3,3,6,6,3,3,6,3,3,3,3,3,6,3,3,3,3,3,3,3,3,3,9,3,3,6,3,3,3,3,3,3,3,3,3,3,3,3,3,3,3,3,3,3,3,3,3,3,3,3,3,3,3,3,3,3,3,3,3,3,3,3,3,3,3,3,3,3,3,6,3,18,3,3,3,3,3,3,3,3,3,3,3,3,3,3,3,3,3,3,3,3,3,3,3,3,3,3,3,3,9,3,3,3,3,3,3,3,3,3,3,3,3,3,3,3,3,3,3,6,3,3,3,3,3,3,3,3,3,3,3,3,3,3,3,3,3,3,3,3,3,3,3,12,3,3,3,3,3,3,3,3,3,3,3,3],[3,3,3,3,3,3,3,3,3,3,3,3,3,27,3,3,3,3,3,3,3,3,3,3,3,3,3,6,3,3,3,3,3,3,3,9,12,3,3,3,3,3,3,3,9,3,3,3,3,3,3,3,3,3,3,3,3,3,3,3,3,3,3,3,6,6,3,3,6,3,3,3,3,3,6,3,3,3,3,3,3,3,3,3,9,3,3,6,3,3,3,3,3,3,3,3,3,3,3,3,3,3,3,3,3,3,3,3,3,3,3,3,3,3,3,3,3,3,3,3,3,3,3,3,3,3,3,3,3,3,3,6,3,18,3,3,3,3,3,3,3,3,3,3,3,3,3,3,3,3,3,3,3,3,3,3,3,3,3,3,3,3,9,3,3,3,3,3,3,3,3,3,3,3,3,3,3,3,3,3,3,6,3,3,3,3,3,3,3,3,3,3,3,3,3,3,3,3,3,3,3,3,3,3,3,12,3,3,3,3,3,3,3,3,3,3,3,3],[3,3,3,3,3,3,3,3,3,3,3,3,3,27,3,3,3,3,3,3,3,3,3,3,3,3,3,6,3,3,3,3,3,3,3,9,12,3,3,3,3,3,3,3,9,3,3,3,3,3,3,3,3,3,3,3,3,3,3,3,3,3,3,3,6,6,3,3,6,3,3,3,3,3,6,3,3,3,3,3,3,3,3,3,9,3,3,6,3,3,3,3,3,3,3,3,3,3,3,3,3,3,3,3,3,3,3,3,3,3,3,3,3,3,3,3,3,3,3,3,3,3,3,3,3,3,3,3,3,3,3,6,3,18,3,3,3,3,3,3,3,3,3,3,3,3,3,3,3,3,3,3,3,3,3,3,3,3,3,3,3,3,9,3,3,3,3,3,3,3,3,3,3,3,3,3,3,3,3,3,3,6,3,3,3,3,3,3,3,3,3,3,3,3,3,3,3,3,3,3,3,3,3,3,3,12,3,3,3,3,3,3,3,3,3,3,3,3],[3,3,3,3,3,3,3,3,3,3,3,3,3,27,3,3,3,3,3,3,3,3,3,3,3,3,3,6,3,3,3,3,3,3,3,9,12,3,3,3,3,3,3,3,9,3,3,3,3,3,3,3,3,3,3,3,3,3,3,3,3,3,3,3,6,6,3,3,6,3,3,3,3,3,6,3,3,3,3,3,3,3,3,3,9,3,3,6,3,3,3,3,3,3,3,3,3,3,3,3,3,3,3,3,3,3,3,3,3,3,3,3,3,3,3,3,3,3,3,3,3,3,3,3,3,3,3,3,3,3,3,6,3,18,3,3,3,3,3,3,3,3,3,3,3,3,3,3,3,3,3,3,3,3,3,3,3,3,3,3,3,3,9,3,3,3,3,3,3,3,3,3,3,3,3,3,3,3,3,3,3,6,3,3,3,3,3,3,3,3,3,3,3,3,3,3,3,3,3,3,3,3,3,3,3,12,3,3,3,3,3,3,3,3,3,3,3,3],[3,3,3,3,3,3,3,3,3,3,3,3,3,27,3,3,3,3,3,3,3,3,3,3,3,3,3,6,3,3,3,3,3,3,3,9,12,3,3,3,3,3,3,3,9,3,3,3,3,3,3,3,3,3,3,3,3,3,3,3,3,3,3,3,6,6,3,3,6,3,3,3,3,3,6,3,3,3,3,3,3,3,3,3,9,3,3,6,3,3,3,3,3,3,3,3,3,3,3,3,3,3,3,3,3,3,3,3,3,3,3,3,3,3,3,3,3,3,3,3,3,3,3,3,3,3,3,3,3,3,3,6,3,18,3,3,3,3,3,3,3,3,3,3,3,3,3,3,3,3,3,3,3,3,3,3,3,3,3,3,3,3,9,3,3,3,3,3,3,3,3,3,3,3,3,3,3,3,3,3,3,6,3,3,3,3,3,3,3,3,3,3,3,3,3,3,3,3,3,3,3,3,3,3,3,12,3,3,3,3,3,3,3,3,3,3,3,3],[3,3,3,3,3,3,3,3,3,3,3,3,3,27,3,3,3,3,3,3,3,3,3,3,3,3,3,6,3,3,3,3,3,3,3,9,12,3,3,3,3,3,3,3,9,3,3,3,3,3,3,3,3,3,3,3,3,3,3,3,3,3,3,3,6,6,3,3,6,3,3,3,3,3,6,3,3,3,3,3,3,3,3,3,9,3,3,6,3,3,3,3,3,3,3,3,3,3,3,3,3,3,3,3,3,3,3,3,3,3,3,3,3,3,3,3,3,3,3,3,3,3,3,3,3,3,3,3,3,3,3,6,3,18,3,3,3,3,3,3,3,3,3,3,3,3,3,3,3,3,3,3,3,3,3,3,3,3,3,3,3,3,9,3,3,3,3,3,3,3,3,3,3,3,3,3,3,3,3,3,3,6,3,3,3,3,3,3,3,3,3,3,3,3,3,3,3,3,3,3,3,3,3,3,3,12,3,3,3,3,3,3,3,3,3,3,3,3],[3,3,3,3,3,3,3,3,3,3,3,3,3,27,3,3,3,3,3,3,3,3,3,3,3,3,3,6,3,3,3,3,3,3,3,9,12,3,3,3,3,3,3,3,9,3,3,3,3,3,3,3,3,3,3,3,3,3,3,3,3,3,3,3,6,6,3,3,6,3,3,3,3,3,6,3,3,3,3,3,3,3,3,3,9,3,3,6,3,3,3,3,3,3,3,3,3,3,3,3,3,3,3,3,3,3,3,3,3,3,3,3,3,3,3,3,3,3,3,3,3,3,3,3,3,3,3,3,3,3,3,6,3,18,3,3,3,3,3,3,3,3,3,3,3,3,3,3,3,3,3,3,3,3,3,3,3,3,3,3,3,3,9,3,3,3,3,3,3,3,3,3,3,3,3,3,3,3,3,3,3,6,3,3,3,3,3,3,3,3,3,3,3,3,3,3,3,3,3,3,3,3,3,3,3,12,3,3,3,3,3,3,3,3,3,3,3,3],[3,3,3,3,3,3,3,3,3,3,3,3,3,27,3,3,3,3,3,3,3,3,3,3,3,3,3,6,3,3,3,3,3,3,3,9,12,3,3,3,3,3,3,3,9,3,3,3,3,3,3,3,3,3,3,3,3,3,3,3,3,3,3,3,6,6,3,3,6,3,3,3,3,3,6,3,3,3,3,3,3,3,3,3,9,3,3,6,3,3,3,3,3,3,3,3,3,3,3,3,3,3,3,3,3,3,3,3,3,3,3,3,3,3,3,3,3,3,3,3,3,3,3,3,3,3,3,3,3,3,3,6,3,18,3,3,3,3,3,3,3,3,3,3,3,3,3,3,3,3,3,3,3,3,3,3,3,3,3,3,3,3,9,3,3,3,3,3,3,3,3,3,3,3,3,3,3,3,3,3,3,6,3,3,3,3,3,3,3,3,3,3,3,3,3,3,3,3,3,3,3,3,3,3,3,12,3,3,3,3,3,3,3,3,3,3,3,3],[3,3,3,3,3,3,3,3,3,3,3,3,3,27,3,3,3,3,3,3,3,3,3,3,3,3,3,6,3,3,3,3,3,3,3,9,12,3,3,3,3,3,3,3,9,3,3,3,3,3,3,3,3,3,3,3,3,3,3,3,3,3,3,3,6,6,3,3,6,3,3,3,3,3,6,3,3,3,3,3,3,3,3,3,9,3,3,6,3,3,3,3,3,3,3,3,3,3,3,3,3,3,3,3,3,3,3,3,3,3,3,3,3,3,3,3,3,3,3,3,3,3,3,3,3,3,3,3,3,3,3,6,3,18,3,3,3,3,3,3,3,3,3,3,3,3,3,3,3,3,3,3,3,3,3,3,3,3,3,3,3,3,9,3,3,3,3,3,3,3,3,3,3,3,3,3,3,3,3,3,3,6,3,3,3,3,3,3,3,3,3,3,3,3,3,3,3,3,3,3,3,3,3,3,3,12,3,3,3,3,3,3,3,3,3,3,3,3],[3,3,3,3,3,3,3,3,3,3,3,3,3,27,3,3,3,3,3,3,3,3,3,3,3,3,3,6,3,3,3,3,3,3,3,9,12,3,3,3,3,3,3,3,9,3,3,3,3,3,3,3,3,3,3,3,3,3,3,3,3,3,3,3,6,6,3,3,6,3,3,3,3,3,6,3,3,3,3,3,3,3,3,3,9,3,3,6,3,3,3,3,3,3,3,3,3,3,3,3,3,3,3,3,3,3,3,3,3,3,3,3,3,3,3,3,3,3,3,3,3,3,3,3,3,3,3,3,3,3,3,6,3,18,3,3,3,3,3,3,3,3,3,3,3,3,3,3,3,3,3,3,3,3,3,3,3,3,3,3,3,3,9,3,3,3,3,3,3,3,3,3,3,3,3,3,3,3,3,3,3,6,3,3,3,3,3,3,3,3,3,3,3,3,3,3,3,3,3,3,3,3,3,3,3,12,3,3,3,3,3,3,3,3,3,3,3,3],[3,3,3,3,3,3,3,3,3,3,3,3,3,27,3,3,3,3,3,3,3,3,3,3,3,3,3,6,3,3,3,3,3,3,3,9,12,3,3,3,3,3,3,3,9,3,3,3,3,3,3,3,3,3,3,3,3,3,3,3,3,3,3,3,6,6,3,3,6,3,3,3,3,3,6,3,3,3,3,3,3,3,3,3,9,3,3,6,3,3,3,3,3,3,3,3,3,3,3,3,3,3,3,3,3,3,3,3,3,3,3,3,3,3,3,3,3,3,3,3,3,3,3,3,3,3,3,3,3,3,3,6,3,18,3,3,3,3,3,3,3,3,3,3,3,3,3,3,3,3,3,3,3,3,3,3,3,3,3,3,3,3,9,3,3,3,3,3,3,3,3,3,3,3,3,3,3,3,3,3,3,6,3,3,3,3,3,3,3,3,3,3,3,3,3,3,3,3,3,3,3,3,3,3,3,12,3,3,3,3,3,3,3,3,3,3,3,3],[3,3,3,3,3,3,3,3,3,3,3,3,3,27,3,3,3,3,3,3,3,3,3,3,3,3,3,6,3,3,3,3,3,3,3,9,12,3,3,3,3,3,3,3,9,3,3,3,3,3,3,3,3,3,3,3,3,3,3,3,3,3,3,3,6,6,3,3,6,3,3,3,3,3,6,3,3,3,3,3,3,3,3,3,9,3,3,6,3,3,3,3,3,3,3,3,3,3,3,3,3,3,3,3,3,3,3,3,3,3,3,3,3,3,3,3,3,3,3,3,3,3,3,3,3,3,3,3,3,3,3,6,3,18,3,3,3,3,3,3,3,3,3,3,3,3,3,3,3,3,3,3,3,3,3,3,3,3,3,3,3,3,9,3,3,3,3,3,3,3,3,3,3,3,3,3,3,3,3,3,3,6,3,3,3,3,3,3,3,3,3,3,3,3,3,3,3,3,3,3,3,3,3,3,3,12,3,3,3,3,3,3,3,3,3,3,3,3],[3,3,3,3,3,3,3,3,3,3,3,3,3,27,3,3,3,3,3,3,3,3,3,3,3,3,3,6,3,3,3,3,3,3,3,9,12,3,3,3,3,3,3,3,9,3,3,3,3,3,3,3,3,3,3,3,3,3,3,3,3,3,3,3,6,6,3,3,6,3,3,3,3,3,6,3,3,3,3,3,3,3,3,3,9,3,3,6,3,3,3,3,3,3,3,3,3,3,3,3,3,3,3,3,3,3,3,3,3,3,3,3,3,3,3,3,3,3,3,3,3,3,3,3,3,3,3,3,3,3,3,6,3,18,3,3,3,3,3,3,3,3,3,3,3,3,3,3,3,3,3,3,3,3,3,3,3,3,3,3,3,3,9,3,3,3,3,3,3,3,3,3,3,3,3,3,3,3,3,3,3,6,3,3,3,3,3,3,3,3,3,3,3,3,3,3,3,3,3,3,3,3,3,3,3,12,3,3,3,3,3,3,3,3,3,3,3,3],[3,3,3,3,3,3,3,3,3,3,3,3,3,27,3,3,3,3,3,3,3,3,3,3,3,3,3,6,3,3,3,3,3,3,3,9,12,3,3,3,3,3,3,3,9,3,3,3,3,3,3,3,3,3,3,3,3,3,3,3,3,3,3,3,6,6,3,3,6,3,3,3,3,3,6,3,3,3,3,3,3,3,3,3,9,3,3,6,3,3,3,3,3,3,3,3,3,3,3,3,3,3,3,3,3,3,3,3,3,3,3,3,3,3,3,3,3,3,3,3,3,3,3,3,3,3,3,3,3,3,3,6,3,18,3,3,3,3,3,3,3,3,3,3,3,3,3,3,3,3,3,3,3,3,3,3,3,3,3,3,3,3,9,3,3,3,3,3,3,3,3,3,3,3,3,3,3,3,3,3,3,6,3,3,3,3,3,3,3,3,3,3,3,3,3,3,3,3,3,3,3,3,3,3,3,12,3,3,3,3,3,3,3,3,3,3,3,3],[3,3,3,3,3,3,3,3,3,3,3,3,3,27,3,3,3,3,3,3,3,3,3,3,3,3,3,6,3,3,3,3,3,3,3,9,12,3,3,3,3,3,3,3,9,3,3,3,3,3,3,3,3,3,3,3,3,3,3,3,3,3,3,3,6,6,3,3,6,3,3,3,3,3,6,3,3,3,3,3,3,3,3,3,9,3,3,6,3,3,3,3,3,3,3,3,3,3,3,3,3,3,3,3,3,3,3,3,3,3,3,3,3,3,3,3,3,3,3,3,3,3,3,3,3,3,3,3,3,3,3,6,3,18,3,3,3,3,3,3,3,3,3,3,3,3,3,3,3,3,3,3,3,3,3,3,3,3,3,3,3,3,9,3,3,3,3,3,3,3,3,3,3,3,3,3,3,3,3,3,3,6,3,3,3,3,3,3,3,3,3,3,3,3,3,3,3,3,3,3,3,3,3,3,3,12,3,3,3,3,3,3,3,3,3,3,3,3],[3,3,3,3,3,3,3,3,3,3,3,3,3,27,3,3,3,3,3,3,3,3,3,3,3,3,3,6,3,3,3,3,3,3,3,9,12,3,3,3,3,3,3,3,9,3,3,3,3,3,3,3,3,3,3,3,3,3,3,3,3,3,3,3,6,6,3,3,6,3,3,3,3,3,6,3,3,3,3,3,3,3,3,3,9,3,3,6,3,3,3,3,3,3,3,3,3,3,3,3,3,3,3,3,3,3,3,3,3,3,3,3,3,3,3,3,3,3,3,3,3,3,3,3,3,3,3,3,3,3,3,6,3,18,3,3,3,3,3,3,3,3,3,3,3,3,3,3,3,3,3,3,3,3,3,3,3,3,3,3,3,3,9,3,3,3,3,3,3,3,3,3,3,3,3,3,3,3,3,3,3,6,3,3,3,3,3,3,3,3,3,3,3,3,3,3,3,3,3,3,3,3,3,3,3,12,3,3,3,3,3,3,3,3,3,3,3,3],[3,3,3,3,3,3,3,3,3,3,3,3,3,27,3,3,3,3,3,3,3,3,3,3,3,3,3,6,3,3,3,3,3,3,3,9,12,3,3,3,3,3,3,3,9,3,3,3,3,3,3,3,3,3,3,3,3,3,3,3,3,3,3,3,6,6,3,3,6,3,3,3,3,3,6,3,3,3,3,3,3,3,3,3,9,3,3,6,3,3,3,3,3,3,3,3,3,3,3,3,3,3,3,3,3,3,3,3,3,3,3,3,3,3,3,3,3,3,3,3,3,3,3,3,3,3,3,3,3,3,3,6,3,18,3,3,3,3,3,3,3,3,3,3,3,3,3,3,3,3,3,3,3,3,3,3,3,3,3,3,3,3,9,3,3,3,3,3,3,3,3,3,3,3,3,3,3,3,3,3,3,6,3,3,3,3,3,3,3,3,3,3,3,3,3,3,3,3,3,3,3,3,3,3,3,12,3,3,3,3,3,3,3,3,3,3,3,3],[3,3,3,3,3,3,3,3,3,3,3,3,3,27,3,3,3,3,3,3,3,3,3,3,3,3,3,6,3,3,3,3,3,3,3,9,12,3,3,3,3,3,3,3,9,3,3,3,3,3,3,3,3,3,3,3,3,3,3,3,3,3,3,3,6,6,3,3,6,3,3,3,3,3,6,3,3,3,3,3,3,3,3,3,9,3,3,6,3,3,3,3,3,3,3,3,3,3,3,3,3,3,3,3,3,3,3,3,3,3,3,3,3,3,3,3,3,3,3,3,3,3,3,3,3,3,3,3,3,3,3,6,3,18,3,3,3,3,3,3,3,3,3,3,3,3,3,3,3,3,3,3,3,3,3,3,3,3,3,3,3,3,9,3,3,3,3,3,3,3,3,3,3,3,3,3,3,3,3,3,3,6,3,3,3,3,3,3,3,3,3,3,3,3,3,3,3,3,3,3,3,3,3,3,3,12,3,3,3,3,3,3,3,3,3,3,3,3],[3,3,3,3,3,3,3,3,3,3,3,3,3,27,3,3,3,3,3,3,3,3,3,3,3,3,3,6,3,3,3,3,3,3,3,9,12,3,3,3,3,3,3,3,9,3,3,3,3,3,3,3,3,3,3,3,3,3,3,3,3,3,3,3,6,6,3,3,6,3,3,3,3,3,6,3,3,3,3,3,3,3,3,3,9,3,3,6,3,3,3,3,3,3,3,3,3,3,3,3,3,3,3,3,3,3,3,3,3,3,3,3,3,3,3,3,3,3,3,3,3,3,3,3,3,3,3,3,3,3,3,6,3,18,3,3,3,3,3,3,3,3,3,3,3,3,3,3,3,3,3,3,3,3,3,3,3,3,3,3,3,3,9,3,3,3,3,3,3,3,3,3,3,3,3,3,3,3,3,3,3,6,3,3,3,3,3,3,3,3,3,3,3,3,3,3,3,3,3,3,3,3,3,3,3,12,3,3,3,3,3,3,3,3,3,3,3,3],[3,3,3,3,3,3,3,3,3,3,3,3,3,27,3,3,3,3,3,3,3,3,3,3,3,3,3,6,3,3,3,3,3,3,3,9,12,3,3,3,3,3,3,3,9,3,3,3,3,3,3,3,3,3,3,3,3,3,3,3,3,3,3,3,6,6,3,3,6,3,3,3,3,3,6,3,3,3,3,3,3,3,3,3,9,3,3,6,3,3,3,3,3,3,3,3,3,3,3,3,3,3,3,3,3,3,3,3,3,3,3,3,3,3,3,3,3,3,3,3,3,3,3,3,3,3,3,3,3,3,3,6,3,18,3,3,3,3,3,3,3,3,3,3,3,3,3,3,3,3,3,3,3,3,3,3,3,3,3,3,3,3,9,3,3,3,3,3,3,3,3,3,3,3,3,3,3,3,3,3,3,6,3,3,3,3,3,3,3,3,3,3,3,3,3,3,3,3,3,3,3,3,3,3,3,12,3,3,3,3,3,3,3,3,3,3,3,3],[3,3,3,3,3,3,3,3,3,3,3,3,3,27,3,3,3,3,3,3,3,3,3,3,3,3,3,6,3,3,3,3,3,3,3,9,12,3,3,3,3,3,3,3,9,3,3,3,3,3,3,3,3,3,3,3,3,3,3,3,3,3,3,3,6,6,3,3,6,3,3,3,3,3,6,3,3,3,3,3,3,3,3,3,9,3,3,6,3,3,3,3,3,3,3,3,3,3,3,3,3,3,3,3,3,3,3,3,3,3,3,3,3,3,3,3,3,3,3,3,3,3,3,3,3,3,3,3,3,3,3,6,3,18,3,3,3,3,3,3,3,3,3,3,3,3,3,3,3,3,3,3,3,3,3,3,3,3,3,3,3,3,9,3,3,3,3,3,3,3,3,3,3,3,3,3,3,3,3,3,3,6,3,3,3,3,3,3,3,3,3,3,3,3,3,3,3,3,3,3,3,3,3,3,3,12,3,3,3,3,3,3,3,3,3,3,3,3],[3,3,3,3,3,3,3,3,3,3,3,3,3,27,3,3,3,3,3,3,3,3,3,3,3,3,3,6,3,3,3,3,3,3,3,9,12,3,3,3,3,3,3,3,9,3,3,3,3,3,3,3,3,3,3,3,3,3,3,3,3,3,3,3,6,6,3,3,6,3,3,3,3,3,6,3,3,3,3,3,3,3,3,3,9,3,3,6,3,3,3,3,3,3,3,3,3,3,3,3,3,3,3,3,3,3,3,3,3,3,3,3,3,3,3,3,3,3,3,3,3,3,3,3,3,3,3,3,3,3,3,6,3,18,3,3,3,3,3,3,3,3,3,3,3,3,3,3,3,3,3,3,3,3,3,3,3,3,3,3,3,3,9,3,3,3,3,3,3,3,3,3,3,3,3,3,3,3,3,3,3,6,3,3,3,3,3,3,3,3,3,3,3,3,3,3,3,3,3,3,3,3,3,3,3,12,3,3,3,3,3,3,3,3,3,3,3,3],[3,3,3,3,3,3,3,3,3,3,3,3,3,27,3,3,3,3,3,3,3,3,3,3,3,3,3,6,3,3,3,3,3,3,3,9,12,3,3,3,3,3,3,3,9,3,3,3,3,3,3,3,3,3,3,3,3,3,3,3,3,3,3,3,6,6,3,3,6,3,3,3,3,3,6,3,3,3,3,3,3,3,3,3,9,3,3,6,3,3,3,3,3,3,3,3,3,3,3,3,3,3,3,3,3,3,3,3,3,3,3,3,3,3,3,3,3,3,3,3,3,3,3,3,3,3,3,3,3,3,3,6,3,18,3,3,3,3,3,3,3,3,3,3,3,3,3,3,3,3,3,3,3,3,3,3,3,3,3,3,3,3,9,3,3,3,3,3,3,3,3,3,3,3,3,3,3,3,3,3,3,6,3,3,3,3,3,3,3,3,3,3,3,3,3,3,3,3,3,3,3,3,3,3,3,12,3,3,3,3,3,3,3,3,3,3,3,3],[3,3,3,3,3,3,3,3,3,3,3,3,3,27,3,3,3,3,3,3,3,3,3,3,3,3,3,6,3,3,3,3,3,3,3,9,12,3,3,3,3,3,3,3,9,3,3,3,3,3,3,3,3,3,3,3,3,3,3,3,3,3,3,3,6,6,3,3,6,3,3,3,3,3,6,3,3,3,3,3,3,3,3,3,9,3,3,6,3,3,3,3,3,3,3,3,3,3,3,3,3,3,3,3,3,3,3,3,3,3,3,3,3,3,3,3,3,3,3,3,3,3,3,3,3,3,3,3,3,3,3,6,3,18,3,3,3,3,3,3,3,3,3,3,3,3,3,3,3,3,3,3,3,3,3,3,3,3,3,3,3,3,9,3,3,3,3,3,3,3,3,3,3,3,3,3,3,3,3,3,3,6,3,3,3,3,3,3,3,3,3,3,3,3,3,3,3,3,3,3,3,3,3,3,3,12,3,3,3,3,3,3,3,3,3,3,3,3],[3,3,3,3,3,3,3,3,3,3,3,3,3,27,3,3,3,3,3,3,3,3,3,3,3,3,3,6,3,3,3,3,3,3,3,9,12,3,3,3,3,3,3,3,9,3,3,3,3,3,3,3,3,3,3,3,3,3,3,3,3,3,3,3,6,6,3,3,6,3,3,3,3,3,6,3,3,3,3,3,3,3,3,3,9,3,3,6,3,3,3,3,3,3,3,3,3,3,3,3,3,3,3,3,3,3,3,3,3,3,3,3,3,3,3,3,3,3,3,3,3,3,3,3,3,3,3,3,3,3,3,6,3,18,3,3,3,3,3,3,3,3,3,3,3,3,3,3,3,3,3,3,3,3,3,3,3,3,3,3,3,3,9,3,3,3,3,3,3,3,3,3,3,3,3,3,3,3,3,3,3,6,3,3,3,3,3,3,3,3,3,3,3,3,3,3,3,3,3,3,3,3,3,3,3,12,3,3,3,3,3,3,3,3,3,3,3,3],[3,3,3,3,3,3,3,3,3,3,3,3,3,27,3,3,3,3,3,3,3,3,3,3,3,3,3,6,3,3,3,3,3,3,3,9,12,3,3,3,3,3,3,3,9,3,3,3,3,3,3,3,3,3,3,3,3,3,3,3,3,3,3,3,6,6,3,3,6,3,3,3,3,3,6,3,3,3,3,3,3,3,3,3,9,3,3,6,3,3,3,3,3,3,3,3,3,3,3,3,3,3,3,3,3,3,3,3,3,3,3,3,3,3,3,3,3,3,3,3,3,3,3,3,3,3,3,3,3,3,3,6,3,18,3,3,3,3,3,3,3,3,3,3,3,3,3,3,3,3,3,3,3,3,3,3,3,3,3,3,3,3,9,3,3,3,3,3,3,3,3,3,3,3,3,3,3,3,3,3,3,6,3,3,3,3,3,3,3,3,3,3,3,3,3,3,3,3,3,3,3,3,3,3,3,12,3,3,3,3,3,3,3,3,3,3,3,3],[3,3,3,3,3,3,3,3,3,3,3,3,3,27,3,3,3,3,3,3,3,3,3,3,3,3,3,6,3,3,3,3,3,3,3,9,12,3,3,3,3,3,3,3,9,3,3,3,3,3,3,3,3,3,3,3,3,3,3,3,3,3,3,3,6,6,3,3,6,3,3,3,3,3,6,3,3,3,3,3,3,3,3,3,9,3,3,6,3,3,3,3,3,3,3,3,3,3,3,3,3,3,3,3,3,3,3,3,3,3,3,3,3,3,3,3,3,3,3,3,3,3,3,3,3,3,3,3,3,3,3,6,3,18,3,3,3,3,3,3,3,3,3,3,3,3,3,3,3,3,3,3,3,3,3,3,3,3,3,3,3,3,9,3,3,3,3,3,3,3,3,3,3,3,3,3,3,3,3,3,3,6,3,3,3,3,3,3,3,3,3,3,3,3,3,3,3,3,3,3,3,3,3,3,3,12,3,3,3,3,3,3,3,3,3,3,3,3],[3,3,3,3,3,3,3,3,3,3,3,3,3,27,3,3,3,3,3,3,3,3,3,3,3,3,3,6,3,3,3,3,3,3,3,9,12,3,3,3,3,3,3,3,9,3,3,3,3,3,3,3,3,3,3,3,3,3,3,3,3,3,3,3,6,6,3,3,6,3,3,3,3,3,6,3,3,3,3,3,3,3,3,3,9,3,3,6,3,3,3,3,3,3,3,3,3,3,3,3,3,3,3,3,3,3,3,3,3,3,3,3,3,3,3,3,3,3,3,3,3,3,3,3,3,3,3,3,3,3,3,6,3,18,3,3,3,3,3,3,3,3,3,3,3,3,3,3,3,3,3,3,3,3,3,3,3,3,3,3,3,3,9,3,3,3,3,3,3,3,3,3,3,3,3,3,3,3,3,3,3,6,3,3,3,3,3,3,3,3,3,3,3,3,3,3,3,3,3,3,3,3,3,3,3,12,3,3,3,3,3,3,3,3,3,3,3,3],[3,3,3,3,3,3,3,3,3,3,3,3,3,27,3,3,3,3,3,3,3,3,3,3,3,3,3,6,3,3,3,3,3,3,3,9,12,3,3,3,3,3,3,3,9,3,3,3,3,3,3,3,3,3,3,3,3,3,3,3,3,3,3,3,6,6,3,3,6,3,3,3,3,3,6,3,3,3,3,3,3,3,3,3,9,3,3,6,3,3,3,3,3,3,3,3,3,3,3,3,3,3,3,3,3,3,3,3,3,3,3,3,3,3,3,3,3,3,3,3,3,3,3,3,3,3,3,3,3,3,3,6,3,18,3,3,3,3,3,3,3,3,3,3,3,3,3,3,3,3,3,3,3,3,3,3,3,3,3,3,3,3,9,3,3,3,3,3,3,3,3,3,3,3,3,3,3,3,3,3,3,6,3,3,3,3,3,3,3,3,3,3,3,3,3,3,3,3,3,3,3,3,3,3,3,12,3,3,3,3,3,3,3,3,3,3,3,3],[3,3,3,3,3,3,3,3,3,3,3,3,3,27,3,3,3,3,3,3,3,3,3,3,3,3,3,6,3,3,3,3,3,3,3,9,12,3,3,3,3,3,3,3,9,3,3,3,3,3,3,3,3,3,3,3,3,3,3,3,3,3,3,3,6,6,3,3,6,3,3,3,3,3,6,3,3,3,3,3,3,3,3,3,9,3,3,6,3,3,3,3,3,3,3,3,3,3,3,3,3,3,3,3,3,3,3,3,3,3,3,3,3,3,3,3,3,3,3,3,3,3,3,3,3,3,3,3,3,3,3,6,3,18,3,3,3,3,3,3,3,3,3,3,3,3,3,3,3,3,3,3,3,3,3,3,3,3,3,3,3,3,9,3,3,3,3,3,3,3,3,3,3,3,3,3,3,3,3,3,3,6,3,3,3,3,3,3,3,3,3,3,3,3,3,3,3,3,3,3,3,3,3,3,3,12,3,3,3,3,3,3,3,3,3,3,3,3],[3,3,3,3,3,3,3,3,3,3,3,3,3,27,3,3,3,3,3,3,3,3,3,3,3,3,3,6,3,3,3,3,3,3,3,9,12,3,3,3,3,3,3,3,9,3,3,3,3,3,3,3,3,3,3,3,3,3,3,3,3,3,3,3,6,6,3,3,6,3,3,3,3,3,6,3,3,3,3,3,3,3,3,3,9,3,3,6,3,3,3,3,3,3,3,3,3,3,3,3,3,3,3,3,3,3,3,3,3,3,3,3,3,3,3,3,3,3,3,3,3,3,3,3,3,3,3,3,3,3,3,6,3,18,3,3,3,3,3,3,3,3,3,3,3,3,3,3,3,3,3,3,3,3,3,3,3,3,3,3,3,3,9,3,3,3,3,3,3,3,3,3,3,3,3,3,3,3,3,3,3,6,3,3,3,3,3,3,3,3,3,3,3,3,3,3,3,3,3,3,3,3,3,3,3,12,3,3,3,3,3,3,3,3,3,3,3,3],[3,3,3,3,3,3,3,3,3,3,3,3,3,27,3,3,3,3,3,3,3,3,3,3,3,3,3,6,3,3,3,3,3,3,3,9,12,3,3,3,3,3,3,3,9,3,3,3,3,3,3,3,3,3,3,3,3,3,3,3,3,3,3,3,6,6,3,3,6,3,3,3,3,3,6,3,3,3,3,3,3,3,3,3,9,3,3,6,3,3,3,3,3,3,3,3,3,3,3,3,3,3,3,3,3,3,3,3,3,3,3,3,3,3,3,3,3,3,3,3,3,3,3,3,3,3,3,3,3,3,3,6,3,18,3,3,3,3,3,3,3,3,3,3,3,3,3,3,3,3,3,3,3,3,3,3,3,3,3,3,3,3,9,3,3,3,3,3,3,3,3,3,3,3,3,3,3,3,3,3,3,6,3,3,3,3,3,3,3,3,3,3,3,3,3,3,3,3,3,3,3,3,3,3,3,12,3,3,3,3,3,3,3,3,3,3,3,3],[3,3,3,3,3,3,3,3,3,3,3,3,3,27,3,3,3,3,3,3,3,3,3,3,3,3,3,6,3,3,3,3,3,3,3,9,12,3,3,3,3,3,3,3,9,3,3,3,3,3,3,3,3,3,3,3,3,3,3,3,3,3,3,3,6,6,3,3,6,3,3,3,3,3,6,3,3,3,3,3,3,3,3,3,9,3,3,6,3,3,3,3,3,3,3,3,3,3,3,3,3,3,3,3,3,3,3,3,3,3,3,3,3,3,3,3,3,3,3,3,3,3,3,3,3,3,3,3,3,3,3,6,3,18,3,3,3,3,3,3,3,3,3,3,3,3,3,3,3,3,3,3,3,3,3,3,3,3,3,3,3,3,9,3,3,3,3,3,3,3,3,3,3,3,3,3,3,3,3,3,3,6,3,3,3,3,3,3,3,3,3,3,3,3,3,3,3,3,3,3,3,3,3,3,3,12,3,3,3,3,3,3,3,3,3,3,3,3],[3,3,3,3,3,3,3,3,3,3,3,3,3,27,3,3,3,3,3,3,3,3,3,3,3,3,3,6,3,3,3,3,3,3,3,9,12,3,3,3,3,3,3,3,9,3,3,3,3,3,3,3,3,3,3,3,3,3,3,3,3,3,3,3,6,6,3,3,6,3,3,3,3,3,6,3,3,3,3,3,3,3,3,3,9,3,3,6,3,3,3,3,3,3,3,3,3,3,3,3,3,3,3,3,3,3,3,3,3,3,3,3,3,3,3,3,3,3,3,3,3,3,3,3,3,3,3,3,3,3,3,6,3,18,3,3,3,3,3,3,3,3,3,3,3,3,3,3,3,3,3,3,3,3,3,3,3,3,3,3,3,3,9,3,3,3,3,3,3,3,3,3,3,3,3,3,3,3,3,3,3,6,3,3,3,3,3,3,3,3,3,3,3,3,3,3,3,3,3,3,3,3,3,3,3,12,3,3,3,3,3,3,3,3,3,3,3,3],[3,3,3,3,3,3,3,3,3,3,3,3,3,27,3,3,3,3,3,3,3,3,3,3,3,3,3,6,3,3,3,3,3,3,3,9,12,3,3,3,3,3,3,3,9,3,3,3,3,3,3,3,3,3,3,3,3,3,3,3,3,3,3,3,6,6,3,3,6,3,3,3,3,3,6,3,3,3,3,3,3,3,3,3,9,3,3,6,3,3,3,3,3,3,3,3,3,3,3,3,3,3,3,3,3,3,3,3,3,3,3,3,3,3,3,3,3,3,3,3,3,3,3,3,3,3,3,3,3,3,3,6,3,18,3,3,3,3,3,3,3,3,3,3,3,3,3,3,3,3,3,3,3,3,3,3,3,3,3,3,3,3,9,3,3,3,3,3,3,3,3,3,3,3,3,3,3,3,3,3,3,6,3,3,3,3,3,3,3,3,3,3,3,3,3,3,3,3,3,3,3,3,3,3,3,12,3,3,3,3,3,3,3,3,3,3,3,3],[3,3,3,3,3,3,3,3,3,3,3,3,3,27,3,3,3,3,3,3,3,3,3,3,3,3,3,6,3,3,3,3,3,3,3,9,12,3,3,3,3,3,3,3,9,3,3,3,3,3,3,3,3,3,3,3,3,3,3,3,3,3,3,3,6,6,3,3,6,3,3,3,3,3,6,3,3,3,3,3,3,3,3,3,9,3,3,6,3,3,3,3,3,3,3,3,3,3,3,3,3,3,3,3,3,3,3,3,3,3,3,3,3,3,3,3,3,3,3,3,3,3,3,3,3,3,3,3,3,3,3,6,3,18,3,3,3,3,3,3,3,3,3,3,3,3,3,3,3,3,3,3,3,3,3,3,3,3,3,3,3,3,9,3,3,3,3,3,3,3,3,3,3,3,3,3,3,3,3,3,3,6,3,3,3,3,3,3,3,3,3,3,3,3,3,3,3,3,3,3,3,3,3,3,3,12,3,3,3,3,3,3,3,3,3,3,3,3],[3,3,3,3,3,3,3,3,3,3,3,3,3,27,3,3,3,3,3,3,3,3,3,3,3,3,3,6,3,3,3,3,3,3,3,9,12,3,3,3,3,3,3,3,9,3,3,3,3,3,3,3,3,3,3,3,3,3,3,3,3,3,3,3,6,6,3,3,6,3,3,3,3,3,6,3,3,3,3,3,3,3,3,3,9,3,3,6,3,3,3,3,3,3,3,3,3,3,3,3,3,3,3,3,3,3,3,3,3,3,3,3,3,3,3,3,3,3,3,3,3,3,3,3,3,3,3,3,3,3,3,6,3,18,3,3,3,3,3,3,3,3,3,3,3,3,3,3,3,3,3,3,3,3,3,3,3,3,3,3,3,3,9,3,3,3,3,3,3,3,3,3,3,3,3,3,3,3,3,3,3,6,3,3,3,3,3,3,3,3,3,3,3,3,3,3,3,3,3,3,3,3,3,3,3,12,3,3,3,3,3,3,3,3,3,3,3,3],[3,3,3,3,3,3,3,3,3,3,3,3,3,27,3,3,3,3,3,3,3,3,3,3,3,3,3,6,3,3,3,3,3,3,3,9,12,3,3,3,3,3,3,3,9,3,3,3,3,3,3,3,3,3,3,3,3,3,3,3,3,3,3,3,6,6,3,3,6,3,3,3,3,3,6,3,3,3,3,3,3,3,3,3,9,3,3,6,3,3,3,3,3,3,3,3,3,3,3,3,3,3,3,3,3,3,3,3,3,3,3,3,3,3,3,3,3,3,3,3,3,3,3,3,3,3,3,3,3,3,3,6,3,18,3,3,3,3,3,3,3,3,3,3,3,3,3,3,3,3,3,3,3,3,3,3,3,3,3,3,3,3,9,3,3,3,3,3,3,3,3,3,3,3,3,3,3,3,3,3,3,6,3,3,3,3,3,3,3,3,3,3,3,3,3,3,3,3,3,3,3,3,3,3,3,12,3,3,3,3,3,3,3,3,3,3,3,3],[3,3,3,3,3,3,3,3,3,3,3,3,3,27,3,3,3,3,3,3,3,3,3,3,3,3,3,6,3,3,3,3,3,3,3,9,12,3,3,3,3,3,3,3,9,3,3,3,3,3,3,3,3,3,3,3,3,3,3,3,3,3,3,3,6,6,3,3,6,3,3,3,3,3,6,3,3,3,3,3,3,3,3,3,9,3,3,6,3,3,3,3,3,3,3,3,3,3,3,3,3,3,3,3,3,3,3,3,3,3,3,3,3,3,3,3,3,3,3,3,3,3,3,3,3,3,3,3,3,3,3,6,3,18,3,3,3,3,3,3,3,3,3,3,3,3,3,3,3,3,3,3,3,3,3,3,3,3,3,3,3,3,9,3,3,3,3,3,3,3,3,3,3,3,3,3,3,3,3,3,3,6,3,3,3,3,3,3,3,3,3,3,3,3,3,3,3,3,3,3,3,3,3,3,3,12,3,3,3,3,3,3,3,3,3,3,3,3],[3,3,3,3,3,3,3,3,3,3,3,3,3,27,3,3,3,3,3,3,3,3,3,3,3,3,3,6,3,3,3,3,3,3,3,9,12,3,3,3,3,3,3,3,9,3,3,3,3,3,3,3,3,3,3,3,3,3,3,3,3,3,3,3,6,6,3,3,6,3,3,3,3,3,6,3,3,3,3,3,3,3,3,3,9,3,3,6,3,3,3,3,3,3,3,3,3,3,3,3,3,3,3,3,3,3,3,3,3,3,3,3,3,3,3,3,3,3,3,3,3,3,3,3,3,3,3,3,3,3,3,6,3,18,3,3,3,3,3,3,3,3,3,3,3,3,3,3,3,3,3,3,3,3,3,3,3,3,3,3,3,3,9,3,3,3,3,3,3,3,3,3,3,3,3,3,3,3,3,3,3,6,3,3,3,3,3,3,3,3,3,3,3,3,3,3,3,3,3,3,3,3,3,3,3,12,3,3,3,3,3,3,3,3,3,3,3,3],[3,3,3,3,3,3,3,3,3,3,3,3,3,27,3,3,3,3,3,3,3,3,3,3,3,3,3,6,3,3,3,3,3,3,3,9,12,3,3,3,3,3,3,3,9,3,3,3,3,3,3,3,3,3,3,3,3,3,3,3,3,3,3,3,6,6,3,3,6,3,3,3,3,3,6,3,3,3,3,3,3,3,3,3,9,3,3,6,3,3,3,3,3,3,3,3,3,3,3,3,3,3,3,3,3,3,3,3,3,3,3,3,3,3,3,3,3,3,3,3,3,3,3,3,3,3,3,3,3,3,3,6,3,18,3,3,3,3,3,3,3,3,3,3,3,3,3,3,3,3,3,3,3,3,3,3,3,3,3,3,3,3,9,3,3,3,3,3,3,3,3,3,3,3,3,3,3,3,3,3,3,6,3,3,3,3,3,3,3,3,3,3,3,3,3,3,3,3,3,3,3,3,3,3,3,12,3,3,3,3,3,3,3,3,3,3,3,3],[3,3,3,3,3,3,3,3,3,3,3,3,3,27,3,3,3,3,3,3,3,3,3,3,3,3,3,6,3,3,3,3,3,3,3,9,12,3,3,3,3,3,3,3,9,3,3,3,3,3,3,3,3,3,3,3,3,3,3,3,3,3,3,3,6,6,3,3,6,3,3,3,3,3,6,3,3,3,3,3,3,3,3,3,9,3,3,6,3,3,3,3,3,3,3,3,3,3,3,3,3,3,3,3,3,3,3,3,3,3,3,3,3,3,3,3,3,3,3,3,3,3,3,3,3,3,3,3,3,3,3,6,3,18,3,3,3,3,3,3,3,3,3,3,3,3,3,3,3,3,3,3,3,3,3,3,3,3,3,3,3,3,9,3,3,3,3,3,3,3,3,3,3,3,3,3,3,3,3,3,3,6,3,3,3,3,3,3,3,3,3,3,3,3,3,3,3,3,3,3,3,3,3,3,3,12,3,3,3,3,3,3,3,3,3,3,3,3],[3,3,3,3,3,3,3,3,3,3,3,3,3,27,3,3,3,3,3,3,3,3,3,3,3,3,3,6,3,3,3,3,3,3,3,9,12,3,3,3,3,3,3,3,9,3,3,3,3,3,3,3,3,3,3,3,3,3,3,3,3,3,3,3,6,6,3,3,6,3,3,3,3,3,6,3,3,3,3,3,3,3,3,3,9,3,3,6,3,3,3,3,3,3,3,3,3,3,3,3,3,3,3,3,3,3,3,3,3,3,3,3,3,3,3,3,3,3,3,3,3,3,3,3,3,3,3,3,3,3,3,6,3,18,3,3,3,3,3,3,3,3,3,3,3,3,3,3,3,3,3,3,3,3,3,3,3,3,3,3,3,3,9,3,3,3,3,3,3,3,3,3,3,3,3,3,3,3,3,3,3,6,3,3,3,3,3,3,3,3,3,3,3,3,3,3,3,3,3,3,3,3,3,3,3,12,3,3,3,3,3,3,3,3,3,3,3,3],[3,3,3,3,3,3,3,3,3,3,3,3,3,27,3,3,3,3,3,3,3,3,3,3,3,3,3,6,3,3,3,3,3,3,3,9,12,3,3,3,3,3,3,3,9,3,3,3,3,3,3,3,3,3,3,3,3,3,3,3,3,3,3,3,6,6,3,3,6,3,3,3,3,3,6,3,3,3,3,3,3,3,3,3,9,3,3,6,3,3,3,3,3,3,3,3,3,3,3,3,3,3,3,3,3,3,3,3,3,3,3,3,3,3,3,3,3,3,3,3,3,3,3,3,3,3,3,3,3,3,3,6,3,18,3,3,3,3,3,3,3,3,3,3,3,3,3,3,3,3,3,3,3,3,3,3,3,3,3,3,3,3,9,3,3,3,3,3,3,3,3,3,3,3,3,3,3,3,3,3,3,6,3,3,3,3,3,3,3,3,3,3,3,3,3,3,3,3,3,3,3,3,3,3,3,12,3,3,3,3,3,3,3,3,3,3,3,3],[3,3,3,3,3,3,3,3,3,3,3,3,3,27,3,3,3,3,3,3,3,3,3,3,3,3,3,6,3,3,3,3,3,3,3,9,12,3,3,3,3,3,3,3,9,3,3,3,3,3,3,3,3,3,3,3,3,3,3,3,3,3,3,3,6,6,3,3,6,3,3,3,3,3,6,3,3,3,3,3,3,3,3,3,9,3,3,6,3,3,3,3,3,3,3,3,3,3,3,3,3,3,3,3,3,3,3,3,3,3,3,3,3,3,3,3,3,3,3,3,3,3,3,3,3,3,3,3,3,3,3,6,3,18,3,3,3,3,3,3,3,3,3,3,3,3,3,3,3,3,3,3,3,3,3,3,3,3,3,3,3,3,9,3,3,3,3,3,3,3,3,3,3,3,3,3,3,3,3,3,3,6,3,3,3,3,3,3,3,3,3,3,3,3,3,3,3,3,3,3,3,3,3,3,3,12,3,3,3,3,3,3,3,3,3,3,3,3],[3,3,3,3,3,3,3,3,3,3,3,3,3,27,3,3,3,3,3,3,3,3,3,3,3,3,3,6,3,3,3,3,3,3,3,9,12,3,3,3,3,3,3,3,9,3,3,3,3,3,3,3,3,3,3,3,3,3,3,3,3,3,3,3,6,6,3,3,6,3,3,3,3,3,6,3,3,3,3,3,3,3,3,3,9,3,3,6,3,3,3,3,3,3,3,3,3,3,3,3,3,3,3,3,3,3,3,3,3,3,3,3,3,3,3,3,3,3,3,3,3,3,3,3,3,3,3,3,3,3,3,6,3,18,3,3,3,3,3,3,3,3,3,3,3,3,3,3,3,3,3,3,3,3,3,3,3,3,3,3,3,3,9,3,3,3,3,3,3,3,3,3,3,3,3,3,3,3,3,3,3,6,3,3,3,3,3,3,3,3,3,3,3,3,3,3,3,3,3,3,3,3,3,3,3,12,3,3,3,3,3,3,3,3,3,3,3,3],[3,3,3,3,3,3,3,3,3,3,3,3,3,27,3,3,3,3,3,3,3,3,3,3,3,3,3,6,3,3,3,3,3,3,3,9,12,3,3,3,3,3,3,3,9,3,3,3,3,3,3,3,3,3,3,3,3,3,3,3,3,3,3,3,6,6,3,3,6,3,3,3,3,3,6,3,3,3,3,3,3,3,3,3,9,3,3,6,3,3,3,3,3,3,3,3,3,3,3,3,3,3,3,3,3,3,3,3,3,3,3,3,3,3,3,3,3,3,3,3,3,3,3,3,3,3,3,3,3,3,3,6,3,18,3,3,3,3,3,3,3,3,3,3,3,3,3,3,3,3,3,3,3,3,3,3,3,3,3,3,3,3,9,3,3,3,3,3,3,3,3,3,3,3,3,3,3,3,3,3,3,6,3,3,3,3,3,3,3,3,3,3,3,3,3,3,3,3,3,3,3,3,3,3,3,12,3,3,3,3,3,3,3,3,3,3,3,3],[3,3,3,3,3,3,3,3,3,3,3,3,3,27,3,3,3,3,3,3,3,3,3,3,3,3,3,6,3,3,3,3,3,3,3,9,12,3,3,3,3,3,3,3,9,3,3,3,3,3,3,3,3,3,3,3,3,3,3,3,3,3,3,3,6,6,3,3,6,3,3,3,3,3,6,3,3,3,3,3,3,3,3,3,9,3,3,6,3,3,3,3,3,3,3,3,3,3,3,3,3,3,3,3,3,3,3,3,3,3,3,3,3,3,3,3,3,3,3,3,3,3,3,3,3,3,3,3,3,3,3,6,3,18,3,3,3,3,3,3,3,3,3,3,3,3,3,3,3,3,3,3,3,3,3,3,3,3,3,3,3,3,9,3,3,3,3,3,3,3,3,3,3,3,3,3,3,3,3,3,3,6,3,3,3,3,3,3,3,3,3,3,3,3,3,3,3,3,3,3,3,3,3,3,3,12,3,3,3,3,3,3,3,3,3,3,3,3],[3,3,3,3,3,3,3,3,3,3,3,3,3,27,3,3,3,3,3,3,3,3,3,3,3,3,3,6,3,3,3,3,3,3,3,9,12,3,3,3,3,3,3,3,9,3,3,3,3,3,3,3,3,3,3,3,3,3,3,3,3,3,3,3,6,6,3,3,6,3,3,3,3,3,6,3,3,3,3,3,3,3,3,3,9,3,3,6,3,3,3,3,3,3,3,3,3,3,3,3,3,3,3,3,3,3,3,3,3,3,3,3,3,3,3,3,3,3,3,3,3,3,3,3,3,3,3,3,3,3,3,6,3,18,3,3,3,3,3,3,3,3,3,3,3,3,3,3,3,3,3,3,3,3,3,3,3,3,3,3,3,3,9,3,3,3,3,3,3,3,3,3,3,3,3,3,3,3,3,3,3,6,3,3,3,3,3,3,3,3,3,3,3,3,3,3,3,3,3,3,3,3,3,3,3,12,3,3,3,3,3,3,3,3,3,3,3,3],[3,3,3,3,3,3,3,3,3,3,3,3,3,27,3,3,3,3,3,3,3,3,3,3,3,3,3,6,3,3,3,3,3,3,3,9,12,3,3,3,3,3,3,3,9,3,3,3,3,3,3,3,3,3,3,3,3,3,3,3,3,3,3,3,6,6,3,3,6,3,3,3,3,3,6,3,3,3,3,3,3,3,3,3,9,3,3,6,3,3,3,3,3,3,3,3,3,3,3,3,3,3,3,3,3,3,3,3,3,3,3,3,3,3,3,3,3,3,3,3,3,3,3,3,3,3,3,3,3,3,3,6,3,18,3,3,3,3,3,3,3,3,3,3,3,3,3,3,3,3,3,3,3,3,3,3,3,3,3,3,3,3,9,3,3,3,3,3,3,3,3,3,3,3,3,3,3,3,3,3,3,6,3,3,3,3,3,3,3,3,3,3,3,3,3,3,3,3,3,3,3,3,3,3,3,12,3,3,3,3,3,3,3,3,3,3,3,3],[3,3,3,3,3,3,3,3,3,3,3,3,3,27,3,3,3,3,3,3,3,3,3,3,3,3,3,6,3,3,3,3,3,3,3,9,12,3,3,3,3,3,3,3,9,3,3,3,3,3,3,3,3,3,3,3,3,3,3,3,3,3,3,3,6,6,3,3,6,3,3,3,3,3,6,3,3,3,3,3,3,3,3,3,9,3,3,6,3,3,3,3,3,3,3,3,3,3,3,3,3,3,3,3,3,3,3,3,3,3,3,3,3,3,3,3,3,3,3,3,3,3,3,3,3,3,3,3,3,3,3,6,3,18,3,3,3,3,3,3,3,3,3,3,3,3,3,3,3,3,3,3,3,3,3,3,3,3,3,3,3,3,9,3,3,3,3,3,3,3,3,3,3,3,3,3,3,3,3,3,3,6,3,3,3,3,3,3,3,3,3,3,3,3,3,3,3,3,3,3,3,3,3,3,3,12,3,3,3,3,3,3,3,3,3,3,3,3],[3,3,3,3,3,3,3,3,3,3,3,3,3,27,3,3,3,3,3,3,3,3,3,3,3,3,3,6,3,3,3,3,3,3,3,9,12,3,3,3,3,3,3,3,9,3,3,3,3,3,3,3,3,3,3,3,3,3,3,3,3,3,3,3,6,6,3,3,6,3,3,3,3,3,6,3,3,3,3,3,3,3,3,3,9,3,3,6,3,3,3,3,3,3,3,3,3,3,3,3,3,3,3,3,3,3,3,3,3,3,3,3,3,3,3,3,3,3,3,3,3,3,3,3,3,3,3,3,3,3,3,6,3,18,3,3,3,3,3,3,3,3,3,3,3,3,3,3,3,3,3,3,3,3,3,3,3,3,3,3,3,3,9,3,3,3,3,3,3,3,3,3,3,3,3,3,3,3,3,3,3,6,3,3,3,3,3,3,3,3,3,3,3,3,3,3,3,3,3,3,3,3,3,3,3,12,3,3,3,3,3,3,3,3,3,3,3,3],[3,3,3,3,3,3,3,3,3,3,3,3,3,27,3,3,3,3,3,3,3,3,3,3,3,3,3,6,3,3,3,3,3,3,3,9,12,3,3,3,3,3,3,3,9,3,3,3,3,3,3,3,3,3,3,3,3,3,3,3,3,3,3,3,6,6,3,3,6,3,3,3,3,3,6,3,3,3,3,3,3,3,3,3,9,3,3,6,3,3,3,3,3,3,3,3,3,3,3,3,3,3,3,3,3,3,3,3,3,3,3,3,3,3,3,3,3,3,3,3,3,3,3,3,3,3,3,3,3,3,3,6,3,18,3,3,3,3,3,3,3,3,3,3,3,3,3,3,3,3,3,3,3,3,3,3,3,3,3,3,3,3,9,3,3,3,3,3,3,3,3,3,3,3,3,3,3,3,3,3,3,6,3,3,3,3,3,3,3,3,3,3,3,3,3,3,3,3,3,3,3,3,3,3,3,12,3,3,3,3,3,3,3,3,3,3,3,3],[3,3,3,3,3,3,3,3,3,3,3,3,3,27,3,3,3,3,3,3,3,3,3,3,3,3,3,6,3,3,3,3,3,3,3,9,12,3,3,3,3,3,3,3,9,3,3,3,3,3,3,3,3,3,3,3,3,3,3,3,3,3,3,3,6,6,3,3,6,3,3,3,3,3,6,3,3,3,3,3,3,3,3,3,9,3,3,6,3,3,3,3,3,3,3,3,3,3,3,3,3,3,3,3,3,3,3,3,3,3,3,3,3,3,3,3,3,3,3,3,3,3,3,3,3,3,3,3,3,3,3,6,3,18,3,3,3,3,3,3,3,3,3,3,3,3,3,3,3,3,3,3,3,3,3,3,3,3,3,3,3,3,9,3,3,3,3,3,3,3,3,3,3,3,3,3,3,3,3,3,3,6,3,3,3,3,3,3,3,3,3,3,3,3,3,3,3,3,3,3,3,3,3,3,3,12,3,3,3,3,3,3,3,3,3,3,3,3],[3,3,3,3,3,3,3,3,3,3,3,3,3,27,3,3,3,3,3,3,3,3,3,3,3,3,3,6,3,3,3,3,3,3,3,9,12,3,3,3,3,3,3,3,9,3,3,3,3,3,3,3,3,3,3,3,3,3,3,3,3,3,3,3,6,6,3,3,6,3,3,3,3,3,6,3,3,3,3,3,3,3,3,3,9,3,3,6,3,3,3,3,3,3,3,3,3,3,3,3,3,3,3,3,3,3,3,3,3,3,3,3,3,3,3,3,3,3,3,3,3,3,3,3,3,3,3,3,3,3,3,6,3,18,3,3,3,3,3,3,3,3,3,3,3,3,3,3,3,3,3,3,3,3,3,3,3,3,3,3,3,3,9,3,3,3,3,3,3,3,3,3,3,3,3,3,3,3,3,3,3,6,3,3,3,3,3,3,3,3,3,3,3,3,3,3,3,3,3,3,3,3,3,3,3,12,3,3,3,3,3,3,3,3,3,3,3,3],[3,3,3,3,3,3,3,3,3,3,3,3,3,27,3,3,3,3,3,3,3,3,3,3,3,3,3,6,3,3,3,3,3,3,3,9,12,3,3,3,3,3,3,3,9,3,3,3,3,3,3,3,3,3,3,3,3,3,3,3,3,3,3,3,6,6,3,3,6,3,3,3,3,3,6,3,3,3,3,3,3,3,3,3,9,3,3,6,3,3,3,3,3,3,3,3,3,3,3,3,3,3,3,3,3,3,3,3,3,3,3,3,3,3,3,3,3,3,3,3,3,3,3,3,3,3,3,3,3,3,3,6,3,18,3,3,3,3,3,3,3,3,3,3,3,3,3,3,3,3,3,3,3,3,3,3,3,3,3,3,3,3,9,3,3,3,3,3,3,3,3,3,3,3,3,3,3,3,3,3,3,6,3,3,3,3,3,3,3,3,3,3,3,3,3,3,3,3,3,3,3,3,3,3,3,12,3,3,3,3,3,3,3,3,3,3,3,3],[3,3,3,3,3,3,3,3,3,3,3,3,3,27,3,3,3,3,3,3,3,3,3,3,3,3,3,6,3,3,3,3,3,3,3,9,12,3,3,3,3,3,3,3,9,3,3,3,3,3,3,3,3,3,3,3,3,3,3,3,3,3,3,3,6,6,3,3,6,3,3,3,3,3,6,3,3,3,3,3,3,3,3,3,9,3,3,6,3,3,3,3,3,3,3,3,3,3,3,3,3,3,3,3,3,3,3,3,3,3,3,3,3,3,3,3,3,3,3,3,3,3,3,3,3,3,3,3,3,3,3,6,3,18,3,3,3,3,3,3,3,3,3,3,3,3,3,3,3,3,3,3,3,3,3,3,3,3,3,3,3,3,9,3,3,3,3,3,3,3,3,3,3,3,3,3,3,3,3,3,3,6,3,3,3,3,3,3,3,3,3,3,3,3,3,3,3,3,3,3,3,3,3,3,3,12,3,3,3,3,3,3,3,3,3,3,3,3],[3,3,3,3,3,3,3,3,3,3,3,3,3,27,3,3,3,3,3,3,3,3,3,3,3,3,3,6,3,3,3,3,3,3,3,9,12,3,3,3,3,3,3,3,9,3,3,3,3,3,3,3,3,3,3,3,3,3,3,3,3,3,3,3,6,6,3,3,6,3,3,3,3,3,6,3,3,3,3,3,3,3,3,3,9,3,3,6,3,3,3,3,3,3,3,3,3,3,3,3,3,3,3,3,3,3,3,3,3,3,3,3,3,3,3,3,3,3,3,3,3,3,3,3,3,3,3,3,3,3,3,6,3,18,3,3,3,3,3,3,3,3,3,3,3,3,3,3,3,3,3,3,3,3,3,3,3,3,3,3,3,3,9,3,3,3,3,3,3,3,3,3,3,3,3,3,3,3,3,3,3,6,3,3,3,3,3,3,3,3,3,3,3,3,3,3,3,3,3,3,3,3,3,3,3,12,3,3,3,3,3,3,3,3,3,3,3,3],[3,3,3,3,3,3,3,3,3,3,3,3,3,27,3,3,3,3,3,3,3,3,3,3,3,3,3,6,3,3,3,3,3,3,3,9,12,3,3,3,3,3,3,3,9,3,3,3,3,3,3,3,3,3,3,3,3,3,3,3,3,3,3,3,6,6,3,3,6,3,3,3,3,3,6,3,3,3,3,3,3,3,3,3,9,3,3,6,3,3,3,3,3,3,3,3,3,3,3,3,3,3,3,3,3,3,3,3,3,3,3,3,3,3,3,3,3,3,3,3,3,3,3,3,3,3,3,3,3,3,3,6,3,18,3,3,3,3,3,3,3,3,3,3,3,3,3,3,3,3,3,3,3,3,3,3,3,3,3,3,3,3,9,3,3,3,3,3,3,3,3,3,3,3,3,3,3,3,3,3,3,6,3,3,3,3,3,3,3,3,3,3,3,3,3,3,3,3,3,3,3,3,3,3,3,12,3,3,3,3,3,3,3,3,3,3,3,3],[3,3,3,3,3,3,3,3,3,3,3,3,3,27,3,3,3,3,3,3,3,3,3,3,3,3,3,6,3,3,3,3,3,3,3,9,12,3,3,3,3,3,3,3,9,3,3,3,3,3,3,3,3,3,3,3,3,3,3,3,3,3,3,3,6,6,3,3,6,3,3,3,3,3,6,3,3,3,3,3,3,3,3,3,9,3,3,6,3,3,3,3,3,3,3,3,3,3,3,3,3,3,3,3,3,3,3,3,3,3,3,3,3,3,3,3,3,3,3,3,3,3,3,3,3,3,3,3,3,3,3,6,3,18,3,3,3,3,3,3,3,3,3,3,3,3,3,3,3,3,3,3,3,3,3,3,3,3,3,3,3,3,9,3,3,3,3,3,3,3,3,3,3,3,3,3,3,3,3,3,3,6,3,3,3,3,3,3,3,3,3,3,3,3,3,3,3,3,3,3,3,3,3,3,3,12,3,3,3,3,3,3,3,3,3,3,3,3],[3,3,3,3,3,3,3,3,3,3,3,3,3,27,3,3,3,3,3,3,3,3,3,3,3,3,3,6,3,3,3,3,3,3,3,9,12,3,3,3,3,3,3,3,9,3,3,3,3,3,3,3,3,3,3,3,3,3,3,3,3,3,3,3,6,6,3,3,6,3,3,3,3,3,6,3,3,3,3,3,3,3,3,3,9,3,3,6,3,3,3,3,3,3,3,3,3,3,3,3,3,3,3,3,3,3,3,3,3,3,3,3,3,3,3,3,3,3,3,3,3,3,3,3,3,3,3,3,3,3,3,6,3,18,3,3,3,3,3,3,3,3,3,3,3,3,3,3,3,3,3,3,3,3,3,3,3,3,3,3,3,3,9,3,3,3,3,3,3,3,3,3,3,3,3,3,3,3,3,3,3,6,3,3,3,3,3,3,3,3,3,3,3,3,3,3,3,3,3,3,3,3,3,3,3,12,3,3,3,3,3,3,3,3,3,3,3,3],[3,3,3,3,3,3,3,3,3,3,3,3,3,27,3,3,3,3,3,3,3,3,3,3,3,3,3,6,3,3,3,3,3,3,3,9,12,3,3,3,3,3,3,3,9,3,3,3,3,3,3,3,3,3,3,3,3,3,3,3,3,3,3,3,6,6,3,3,6,3,3,3,3,3,6,3,3,3,3,3,3,3,3,3,9,3,3,6,3,3,3,3,3,3,3,3,3,3,3,3,3,3,3,3,3,3,3,3,3,3,3,3,3,3,3,3,3,3,3,3,3,3,3,3,3,3,3,3,3,3,3,6,3,18,3,3,3,3,3,3,3,3,3,3,3,3,3,3,3,3,3,3,3,3,3,3,3,3,3,3,3,3,9,3,3,3,3,3,3,3,3,3,3,3,3,3,3,3,3,3,3,6,3,3,3,3,3,3,3,3,3,3,3,3,3,3,3,3,3,3,3,3,3,3,3,12,3,3,3,3,3,3,3,3,3,3,3,3],[3,3,3,3,3,3,3,3,3,3,3,3,3,27,3,3,3,3,3,3,3,3,3,3,3,3,3,6,3,3,3,3,3,3,3,9,12,3,3,3,3,3,3,3,9,3,3,3,3,3,3,3,3,3,3,3,3,3,3,3,3,3,3,3,6,6,3,3,6,3,3,3,3,3,6,3,3,3,3,3,3,3,3,3,9,3,3,6,3,3,3,3,3,3,3,3,3,3,3,3,3,3,3,3,3,3,3,3,3,3,3,3,3,3,3,3,3,3,3,3,3,3,3,3,3,3,3,3,3,3,3,6,3,18,3,3,3,3,3,3,3,3,3,3,3,3,3,3,3,3,3,3,3,3,3,3,3,3,3,3,3,3,9,3,3,3,3,3,3,3,3,3,3,3,3,3,3,3,3,3,3,6,3,3,3,3,3,3,3,3,3,3,3,3,3,3,3,3,3,3,3,3,3,3,3,12,3,3,3,3,3,3,3,3,3,3,3,3],[3,3,3,3,3,3,3,3,3,3,3,3,3,27,3,3,3,3,3,3,3,3,3,3,3,3,3,6,3,3,3,3,3,3,3,9,12,3,3,3,3,3,3,3,9,3,3,3,3,3,3,3,3,3,3,3,3,3,3,3,3,3,3,3,6,6,3,3,6,3,3,3,3,3,6,3,3,3,3,3,3,3,3,3,9,3,3,6,3,3,3,3,3,3,3,3,3,3,3,3,3,3,3,3,3,3,3,3,3,3,3,3,3,3,3,3,3,3,3,3,3,3,3,3,3,3,3,3,3,3,3,6,3,18,3,3,3,3,3,3,3,3,3,3,3,3,3,3,3,3,3,3,3,3,3,3,3,3,3,3,3,3,9,3,3,3,3,3,3,3,3,3,3,3,3,3,3,3,3,3,3,6,3,3,3,3,3,3,3,3,3,3,3,3,3,3,3,3,3,3,3,3,3,3,3,12,3,3,3,3,3,3,3,3,3,3,3,3]],\"end\":[\"2[00]PN\",\"Amurili[]PN\",\"Huba[]PN\",\"Itutu\\u02bea[]PN\",\"Lugal.x[00]PN\",\"Lugalkugzu[]PN\",\"PuzurErra[]PN\",\"UrKugnunak[]PN\",\"Utu\\u02beadgal[]PN\",\"\\u0160u\\u0160ulgi[]PN\",\"Liludan[]PN\",\"Ludi\\u014birak[]PN\",\"Lugal.x[00]PN\",\"Lugalkugzu[]PN\",\"Lugula[]PN\",\"A.x[00]PN\",\"Ahan\\u0161ibu[]PN\",\"Dayyanummi\\u0161ar[]PN\",\"Nirida\\u014bal[]PN\",\"Su\\u02beenillat[]PN\",\"Ludi\\u014birak[]PN\",\"Lugal.x[00]PN\",\"Tah\\u0161atal[]PN\",\"UrIgalimak[]PN\",\"\\u0160u\\u02beE\\u0161tar[]PN\",\"Dayyanummi\\u0161ar[]PN\",\"Abuni[]PN\",\"Ahan\\u0161ibu[]PN\",\"Huba[]PN\",\"Kur\\u014birini\\u0161e[]PN\",\"Abba[]PN\",\"lugal[king]N\",\"2[00]PN\",\"Amabarag[]PN\",\"GemeNannak[]PN\",\"Kubatum[]PN\",\"ME.{d}I\\u0161taran[]PN\",\"Meslamta\\u02bee\\u02bea[]DN\",\"Ninlilemana\\u014b[]PN\",\"TaddinE\\u0161tar[]PN\",\"Zanum[]PN\",\"\\u0160alimni\\u02bea\\u0161[]PN\",\"\\u0160atSu\\u02been[]PN\",\"\\u0160ulgirama[]PN\",\"\\u0160u\\u02beEnlil[]PN\",\"Lugal.x[00]PN\",\"Nuhilum[]PN\",\"Lugal.x[00]PN\",\"Abu\\u1e6dab[]PN\",\"KAL.bi.si[]PN\",\"PuzurErra[]PN\",\"PuzurErra[]PN\",\"Ludi\\u014birak[]PN\",\"Aya\\u014bu[]PN\",\"Na.x[00]PN\",\"X.mu[00]DN\",\"\\u0160etelili[]PN\",\"Balala[]PN\",\"\\u0160u\\u02beE\\u0161tar[]PN\",\"Lugalkugzu[]PN\",\"Huba[]PN\",\"Lugalkugzu[]PN\",\"Amurili[]PN\",\"Ea\\u02beili[]PN\",\"Lisin[]PN\",\"Kur\\u014birini\\u0161e[]PN\",\"Lugalkugzu[]PN\",\"lugal[king]N\",\"Ludi\\u014birak[]PN\",\"\\u0160u\\u02beE\\u0161tar[]PN\",\"Amurili[]PN\",\"Ludi\\u014birak[]PN\",\"\\u0160ulgirgalzu[]PN\",\"Dayyanummi\\u0161ar[]PN\",\"Amurili[]PN\",\"LuNannak[]PN\",\"Ludi\\u014birak[]PN\",\"UrNannak[]PN\",\"Dayyanummi\\u0161ar[]PN\",\"Lugal.x[00]PN\",\"lugal[king]N\",\"Zizuh[]PN\",\"Dayyanummi\\u0161ar[]PN\",\"Lisin[]PN\",\"PuzurErra[]PN\",\"UrEninnuk[]PN\",\"\\u014airine\\u02beisag[]PN\",\"Ea\\u02beili[]PN\",\"Urmes[]PN\",\"Ludi\\u014birak[]PN\",\"Qurdilum[]PN\",\"Waqar\\u0160uSu\\u02been[]PN\",\"Illa\\u02bei[]PN\",\"Ludi\\u014birak[]PN\",\"Ea\\u02beili[]PN\",\"Ludi\\u014birak[]PN\",\"Ma.lum\\u2093[00]PN\",\"PuzurErra[]PN\",\"PuzurA\\u0161\\u0161ur[]PN\",\"Il\\u0161urabi[]PN\",\"Edudu\\u02bea[]PN\",\"Utu\\u02beadgal[]PN\",\"AradNannak[]PN\",\"HidutAmarSu\\u02been[]PN\",\"\\u0160uSu\\u02beenmigirE\\u0161tar[]PN\",\"Lugal.x[00]PN\",\"Itutu\\u02bea[]PN\",\"\\u0160e\\u0161kala[]PN\",\"Adadillat[]PN\",\"Daya[]PN\",\"PuzurErra[]PN\",\"Ludi\\u014birak[]PN\",\"Utu\\u02beadgal[]PN\",\"E\\u0161tarnada[]PN\",\"Ludi\\u014birak[]PN\",\"Ilabu\\u02beigadu[]PN\",\"Ilabu\\u02beigadu[]PN\",\"Inanak[]DN\",\"\\u0160u\\u02beEnlil[]PN\",\"Abu\\u1e6dab[]PN\",\"Dayyanummi\\u0161ar[]PN\",\"PuzurErra[]PN\",\"Batugrad[]PN\",\"Dayyanummi\\u0161ar[]PN\",\"Utu\\u02beadgal[]PN\",\"Ludi\\u014birak[]PN\",\"PuzurErra[]PN\",\"Simat\\u0161arrim[]PN\",\"PuzurErra[]PN\",\"\\u0160u\\u0160ulgi[]PN\",\"Puzurili[]PN\",\"Amurili[]PN\",\"Dayyanummi\\u0161ar[]PN\",\"Nurili[]PN\",\"UrKugnunak[]PN\",\"\\u0160u\\u02beE\\u0161tar[]PN\",\"Ginuna[]PN\",\"lugal[king]N\",\"X.x[00]PN\",\"Na.x[00]PN\",\"\\u0160unundu[]PN\",\"KA.x[00]PN\",\"Lugal.x[00]PN\",\"PuzurErra[]PN\",\"UrBa\\u02beuk[]PN\",\"Abuni[]PN\",\"\\u0160u\\u02beE\\u0161tar[]PN\",\"Lugalkugzu[]PN\",\"Lugalkugzu[]PN\",\"PuzurErra[]PN\",\"Ahuni[]PN\",\"Alla\\u0161arrum[]PN\",\"Apili[]PN\",\"\\u0160u\\u0161ug[]PN\",\"Ludi\\u014birak[]PN\",\"Utu\\u02beadgal[]PN\",\"Ludi\\u014birak[]PN\",\"PuzurErra[]PN\",\"LuNannak[]PN\",\"Lugalkugzu[]PN\",\"ME.E\\u2082.a[]PN\",\"Beli\\u02beili[]PN\",\"Lugalkugzu[]PN\",\"Anaa[]PN\",\"2[00]PN\",\"Ilallum[]PN\",\"Dayyanummi\\u0161ar[]PN\",\"\\u0160u\\u0160ulgi[]PN\",\"UrNingalak[]PN\",\"Dayyanummi\\u0161ar[]PN\",\"Ge\\u0161.\\u0161a\\u2083[00]DN\",\"Nawar\\u0161en[]PN\",\"Taddinkiza[]PN\",\"Enlil[]DN\",\"\\u0160u\\u0160ulgi[]PN\",\"Mulliltumnuri[]PN\",\"Inimanizid[]PN\",\"Lu\\u02beAmarSu\\u02beenak[]PN\",\"Ludi\\u014birak[]PN\",\"Ginuna[]PN\",\"Utu\\u02beadgal[]PN\",\"\\u0160u\\u02beE\\u0161tar[]PN\",\"Lugal.x[00]PN\",\"\\u0160u\\u0160ulgi[]PN\",\"Ea\\u02beili[]PN\",\"Lugal.x[00]PN\",\"Lugalkugzu[]PN\",\"ME.E\\u2082.a[]PN\",\"\\u0160uru\\u0161kin[]PN\",\"Ludi\\u014birak[]PN\",\"UrBa\\u02beuk[]PN\",\"KinatNunu[]PN\",\"Ludi\\u014birak[]PN\",\"Lugal.x[00]PN\",\"Urmes[]PN\",\"Ilallum[]PN\",\"PuzurErra[]PN\",\"Dayyanummi\\u0161ar[]PN\",\"PuzurErra[]PN\",\"Taburha\\u1e6d\\u1e6dum[]PN\",\"Ludi\\u014birak[]PN\",\"Ubarum[]PN\",\"Lugal.x[00]PN\",\"Dari\\u0161matum[]PN\",\"Ginuna[]PN\",\"Lugalkugzu[]PN\",\"LugalAnabtum[]PN\",\"Lugalkugzu[]PN\",\"Zeri[]PN\",\"Lugal.x[00]PN\",\"Dudu[]PN\",\"UrNan\\u0161ek[]PN\",\"Lugal.x[00]PN\",\"Lugal.x[00]PN\",\"Ludi\\u014birak[]PN\",\"Puzurili[]PN\",\"lugal[king]N\",\"Ludi\\u014birak[]PN\"],\"id_text\":[\"P127321\",\"P129700\",\"P134048\",\"P126620\",\"P141796\",\"P126546\",\"P134755\",\"P200497\",\"P122581\",\"P141796\",\"P124619\",\"P135151\",\"P141796\",\"P102169,P104018,P116210,P125951,P125959,P126044,P144365,P144782,P145356\",\"P145198\",\"P134047\",\"P103541\",\"P134043\",\"P123610\",\"P135194\",\"P127666\",\"P141796\",\"P113826\",\"P106150\",\"P125777\",\"P134047\",\"P107887\",\"P134038,P134040\",\"P134048\",\"P134042\",\"P200373\",\"P200373\",\"P134048\",\"P321080\",\"P332256\",\"P141796,P144477,P332256\",\"P113886,P124925,P127667,P135067\",\"P117455\",\"P104185\",\"P293217\",\"P103951\",\"P141796\",\"P134758\",\"P134761\",\"P117445,P134759,P321080\",\"P141796\",\"P111905\",\"P141796\",\"P134759\",\"P134756\",\"P103369\",\"P134759\",\"P512776\",\"P200373\",\"P126360\",\"P126360\",\"P103804\",\"P103787\",\"P113914\",\"P141790\",\"P134045\",\"P414557\",\"P116201\",\"P125628\",\"P125753,P126577\",\"P113749,P113750\",\"P106144\",\"P407247\",\"P126577,P144357\",\"P129753\",\"P116201\",\"P116201\",\"P125872\",\"P103282\",\"P129700,P201042\",\"P134041\",\"P144305\",\"P111903\",\"P131578\",\"P141796\",\"P111906\",\"P499321\",\"P499321\",\"P144357\",\"P103494,P117033,P131678\",\"P299073\",\"P126051\",\"P125850,P132148\",\"P301283\",\"P104098\",\"P127667\",\"P134760\",\"P124318\",\"P124318\",\"P113021\",\"P512777\",\"P113021\",\"P109268\",\"P134757\",\"P141796\",\"P108385\",\"P135196\",\"P103763\",\"P218167\",\"P111903\",\"P141796\",\"P113699\",\"P103752\",\"P512776\",\"P141796\",\"P103752\",\"P127666\",\"P122581\",\"P300949\",\"P299538\",\"P116199\",\"P116199\",\"P142964\",\"P131578\",\"P134759\",\"P131578\",\"P134759\",\"P104098\",\"P104202\",\"P122581\",\"P103380\",\"P103347\",\"P512776\",\"P104144\",\"P141796\",\"P433582\",\"P129700,P201042\",\"P127301\",\"P109182,P116200,P126029,P144136,P145204,P299556\",\"P200497\",\"P291956\",\"P125632\",\"P103787\",\"P131636\",\"P126360\",\"P131604\",\"P131636\",\"P141796\",\"P134759\",\"P107887\",\"P107887\",\"P129753\",\"P101430\",\"P126814\",\"P131649\",\"P144356\",\"P135067\",\"P135067\",\"P131604\",\"P131604\",\"P122581\",\"P125022\",\"P104144\",\"P111906\",\"P103803\",\"P132137\",\"P104781\",\"P125885,P126546,P143502\",\"P116196\",\"P127668\",\"P103380\",\"P499320\",\"P141796\",\"P134046\",\"P134046\",\"P103141\",\"P134756\",\"P134758\",\"P512773\",\"P141796\",\"P104185\",\"P141796\",\"P332256\",\"P103269\",\"P125632\",\"P122581\",\"P124322,P125777\",\"P141796\",\"P141796\",\"P125628\",\"P141796\",\"P125959\",\"P135198\",\"P124318\",\"P124318\",\"P106289\",\"P293217\",\"P293217\",\"P141796\",\"P135148\",\"P512776\",\"P128401\",\"P134044\",\"P480801\",\"P134760\",\"P131604\",\"P128401\",\"P141796\",\"P134758\",\"P125632\",\"P101430,P126814,P144254,P432670\",\"P111905\",\"P129821\",\"P134756\",\"P141796\",\"P321080\",\"P116196\",\"P141796\",\"P141796\",\"P104113\",\"P512775\",\"P103022\",\"P131604\"],\"start\":[\"2[00]PN\",\"2[00]PN\",\"2[00]PN\",\"2[00]PN\",\"2[00]PN\",\"2[00]PN\",\"2[00]PN\",\"2[00]PN\",\"2[00]PN\",\"2[00]PN\",\"Amurili[]PN\",\"Amurili[]PN\",\"Amurili[]PN\",\"Amurili[]PN\",\"Amurili[]PN\",\"Huba[]PN\",\"Huba[]PN\",\"Huba[]PN\",\"Itutu\\u02bea[]PN\",\"Itutu\\u02bea[]PN\",\"Lugalkugzu[]PN\",\"Lugalkugzu[]PN\",\"Lugalkugzu[]PN\",\"Lugalkugzu[]PN\",\"Lugalkugzu[]PN\",\"A.x[00]PN\",\"Dayyanummi\\u0161ar[]PN\",\"Dayyanummi\\u0161ar[]PN\",\"Dayyanummi\\u0161ar[]PN\",\"Dayyanummi\\u0161ar[]PN\",\"Abba[]PN\",\"Abba[]PN\",\"lugal[king]N\",\"lugal[king]N\",\"lugal[king]N\",\"lugal[king]N\",\"lugal[king]N\",\"lugal[king]N\",\"lugal[king]N\",\"lugal[king]N\",\"lugal[king]N\",\"lugal[king]N\",\"lugal[king]N\",\"lugal[king]N\",\"lugal[king]N\",\"Abisimti[]PN\",\"Abisimti[]PN\",\"Abumba\\u0161ti[]PN\",\"Abuni[]PN\",\"Abuni[]PN\",\"Abuni[]PN\",\"Abu\\u1e6dab[]PN\",\"Adadillat[]PN\",\"Ludi\\u014birak[]PN\",\"Ludi\\u014birak[]PN\",\"Ludi\\u014birak[]PN\",\"Ludi\\u014birak[]PN\",\"Agalum[]PN\",\"Agu\\u02bea[]PN\",\"\\u0160u\\u02beE\\u0161tar[]PN\",\"Ahan\\u0161ibu[]PN\",\"Ahi\\u02beilum[]PN\",\"Ahuni[]PN\",\"Ahuni[]PN\",\"Ahuni[]PN\",\"Ea\\u02beili[]PN\",\"Ea\\u02beili[]PN\",\"Ea\\u02beili[]PN\",\"Lisin[]PN\",\"Ahu\\u0161uni[]PN\",\"Alid[]PN\",\"Alid[]PN\",\"Alla[]PN\",\"AmurEa[]PN\",\"Anebabdu[]PN\",\"AradNannak[]PN\",\"AradNannak[]PN\",\"AradNannak[]PN\",\"LuNannak[]PN\",\"LuNannak[]PN\",\"LuNannak[]PN\",\"Ariphuppi[]PN\",\"Zizuh[]PN\",\"Atakkal\\u0161um[]PN\",\"Aya\\u014bu[]PN\",\"Aya\\u014bu[]PN\",\"Aya\\u014bu[]PN\",\"Ba.zi[00]PN\",\"Ba.zi[00]PN\",\"Batugrad[]PN\",\"Baza[]PN\",\"Baza[]PN\",\"Belili[]PN\",\"Illa\\u02bei[]PN\",\"Beli\\u02beili[]PN\",\"Beli\\u02beili[]PN\",\"Beli\\u02beili[]PN\",\"Budu[]PN\",\"Bu\\u0161am[]PN\",\"PuzurA\\u0161\\u0161ur[]PN\",\"Bu\\u02bea[]PN\",\"Edudu\\u02bea[]PN\",\"Dada[]PN\",\"Dada[]PN\",\"Dada[]PN\",\"Daya[]PN\",\"Endi\\u014bir\\u014bu[]PN\",\"Enlil[]DN\",\"\\u0160e\\u0161kala[]PN\",\"\\u0160e\\u0161kala[]PN\",\"\\u0160e\\u0161kala[]PN\",\"Ennumili[]PN\",\"Ennumili[]PN\",\"GA.na.na.tum[]PN\",\"Gabidanum[]PN\",\"Galzudabulsin[]PN\",\"Ilabu\\u02beigadu[]PN\",\"Haburitum[]DN\",\"Ha\\u0161ipatal[]PN\",\"\\u0160u\\u02beEnlil[]PN\",\"\\u0160u\\u02beEnlil[]PN\",\"Hu.un.ha.ab.UR[]PN\",\"Iabti[]PN\",\"Igirumah[]PN\",\"Ilag\\u0161uqir[]PN\",\"Ilallum[]PN\",\"Ilallum[]PN\",\"Ilallum[]PN\",\"Im.x[00]PN\",\"Inimanizid[]PN\",\"Inzu[]PN\",\"Puzurili[]PN\",\"Puzurili[]PN\",\"Puzurili[]PN\",\"Puzurili[]PN\",\"Puzurili[]PN\",\"Nirida\\u014bal[]PN\",\"Nirida\\u014bal[]PN\",\"KA.x[00]PN\",\"X.x[00]PN\",\"X.x[00]PN\",\"Kubatum[]PN\",\"Kubatum[]PN\",\"Lamahar[]PN\",\"LuNan\\u0161ek[]PN\",\"UrBa\\u02beuk[]PN\",\"Lubanda[]PN\",\"Lugalituda[]PN\",\"Lugaltida[]PN\",\"Lukala[]PN\",\"Lusaga[]PN\",\"ME.{d}I\\u0161taran[]PN\",\"ME.{d}I\\u0161taran[]PN\",\"Me\\u0161i\\u02bead[]PN\",\"\\u0160u\\u0161ug[]PN\",\"Na.an.na[]PN\",\"Nabasag[]PN\",\"Nam.ra.ak[00]PN\",\"Namhani[]PN\",\"Namhani[]PN\",\"Nanna[]DN\",\"Naramili[]PN\",\"Naramili[]PN\",\"Nawirili[]PN\",\"Nig\\u2082.il\\u2082[00]PN\",\"Nig\\u2082.x[00]PN\",\"Nihelu[]PN\",\"Ninegalak[]DN\",\"Ningal[]DN\",\"UrNingalak[]PN\",\"Ningilin[]DN\",\"Ninhursa\\u014bak[]DN\",\"Ninkala[]PN\",\"Ninlil[]DN\",\"Ninlil[]DN\",\"Ninlilemana\\u014b[]PN\",\"Ninurta[]DN\",\"Nin\\u0161uburak[]DN\",\"Ni\\u014birinimginak[]PN\",\"Nurili[]PN\",\"Nurili[]PN\",\"Nurili[]PN\",\"Nur\\u0160ama\\u0161[]PN\",\"Nuska[]DN\",\"PuzurE\\u0161tar[]PN\",\"PuzurE\\u0161tar[]PN\",\"Ribagada[]PN\",\"Rigmu\\u0161[]PN\",\"Rimili[]PN\",\"\\u0160uru\\u0161kin[]PN\",\"Ri\\u1e63ili[]PN\",\"TaddinE\\u0161tar[]PN\",\"TuramDagan[]PN\",\"TuramDagan[]PN\",\"Uba[]PN\",\"Ubarum[]PN\",\"Ubarum[]PN\",\"Ululal[]PN\",\"Ululal[]PN\",\"UrI\\u0161kurak[]PN\",\"\\u0160unundu[]PN\",\"Zariq[]PN\",\"\\u0160alimni\\u02bea\\u0161[]PN\",\"\\u0160atSu\\u02been[]PN\",\"sukkalmah[official]N\",\"\\u0160arakam[]PN\",\"\\u0160arrumili[]PN\",\"\\u0160arrumili[]PN\",\"\\u0160ebba[]PN\",\"\\u0160ennam[]PN\",\"\\u0160eteli[]PN\",\"\\u0160e\\u0161ani[]PN\",\"\\u0160uSu\\u02beenili[]PN\",\"\\u0160ubram[]PN\",\"\\u0160ulgimati[]PN\",\"\\u0160ulgimi\\u0161ar[]PN\",\"\\u0160ulgir[]RN\",\"\\u0160ulgiradda\\u014bu[]PN\"],\"weight\":[1,1,1,1,1,1,1,1,1,1,1,1,1,9,1,1,1,1,1,1,1,1,1,1,1,1,1,2,1,1,1,1,1,1,1,3,4,1,1,1,1,1,1,1,3,1,1,1,1,1,1,1,1,1,1,1,1,1,1,1,1,1,1,1,2,2,1,1,2,1,1,1,1,1,2,1,1,1,1,1,1,1,1,1,3,1,1,2,1,1,1,1,1,1,1,1,1,1,1,1,1,1,1,1,1,1,1,1,1,1,1,1,1,1,1,1,1,1,1,1,1,1,1,1,1,1,1,1,1,1,1,2,1,6,1,1,1,1,1,1,1,1,1,1,1,1,1,1,1,1,1,1,1,1,1,1,1,1,1,1,1,1,3,1,1,1,1,1,1,1,1,1,1,1,1,1,1,1,1,1,1,2,1,1,1,1,1,1,1,1,1,1,1,1,1,1,1,1,1,1,1,1,1,1,1,4,1,1,1,1,1,1,1,1,1,1,1,1]},\"selected\":{\"id\":\"1498\",\"type\":\"Selection\"},\"selection_policy\":{\"id\":\"1499\",\"type\":\"UnionRenderers\"}},\"id\":\"1437\",\"type\":\"ColumnDataSource\"},{\"attributes\":{\"args\":{\"esource\":{\"id\":\"1437\",\"type\":\"ColumnDataSource\"},\"info_start_end\":{\"id\":\"1476\",\"type\":\"TextInput\"},\"info_text_ids\":{\"id\":\"1475\",\"type\":\"TextInput\"}},\"code\":\"  start_end_values = []\\n            text_ids = []\\n            for(idx in esource.selected.indices)\\n            {\\n                index = esource.selected.indices[idx]\\n                start_end_values.push(esource.data['start'][index] + '=>' + esource.data['end'][index] ); \\n                text_ids.push(esource.data['id_text'][index]) \\n            }\\n            info_start_end.value = String(start_end_values);\\n            info_text_ids.value = String(text_ids);\"},\"id\":\"1481\",\"type\":\"CustomJS\"},{\"attributes\":{},\"id\":\"1483\",\"type\":\"LinearScale\"},{\"attributes\":{\"data_source\":{\"id\":\"1437\",\"type\":\"ColumnDataSource\"},\"glyph\":{\"id\":\"1456\",\"type\":\"MultiLine\"},\"hover_glyph\":{\"id\":\"1466\",\"type\":\"MultiLine\"},\"muted_glyph\":null,\"selection_glyph\":{\"id\":\"1461\",\"type\":\"MultiLine\"},\"view\":{\"id\":\"1439\",\"type\":\"CDSView\"}},\"id\":\"1438\",\"type\":\"GlyphRenderer\"},{\"attributes\":{},\"id\":\"1473\",\"type\":\"EdgesAndLinkedNodes\"},{\"attributes\":{\"callback\":null,\"title\":\"Text IDs:\"},\"id\":\"1475\",\"type\":\"TextInput\"},{\"attributes\":{\"source\":{\"id\":\"1437\",\"type\":\"ColumnDataSource\"}},\"id\":\"1439\",\"type\":\"CDSView\"},{\"attributes\":{\"text\":\"Drehem Treasure Archive\"},\"id\":\"1416\",\"type\":\"Title\"},{\"attributes\":{\"args\":{\"info_text_ids\":{\"id\":\"1475\",\"type\":\"TextInput\"},\"url\":\"http://oracc.org/epsd2/admin/ur3/\"},\"code\":\" urlnew = url.concat(info_text_ids.value);\\n            window.open(urlnew)\"},\"id\":\"1501\",\"type\":\"CustomJS\"},{\"attributes\":{\"line_color\":{\"value\":\"#fdae61\"},\"line_width\":{\"value\":5}},\"id\":\"1461\",\"type\":\"MultiLine\"},{\"attributes\":{\"fill_color\":{\"value\":\"#fdae61\"},\"size\":{\"field\":\"node_size\",\"units\":\"screen\"}},\"id\":\"1446\",\"type\":\"Circle\"},{\"attributes\":{\"callback\":null,\"title\":\"Start => End Values:\"},\"id\":\"1476\",\"type\":\"TextInput\"},{\"attributes\":{\"callback\":null,\"end\":1.1,\"start\":-1.1},\"id\":\"1411\",\"type\":\"Range1d\"},{\"attributes\":{\"button_type\":\"success\",\"callback\":null,\"icon\":null,\"js_event_callbacks\":{\"button_click\":[{\"id\":\"1501\",\"type\":\"CustomJS\"}]},\"label\":\"Click to open text editions\"},\"id\":\"1500\",\"type\":\"Button\"},{\"attributes\":{\"fill_color\":{\"value\":\"#2b83ba\"},\"size\":{\"field\":\"node_size\",\"units\":\"screen\"}},\"id\":\"1441\",\"type\":\"Circle\"},{\"attributes\":{\"callback\":null,\"end\":1.1,\"start\":-1.1},\"id\":\"1412\",\"type\":\"Range1d\"},{\"attributes\":{},\"id\":\"1422\",\"type\":\"SaveTool\"},{\"attributes\":{\"graph_layout\":{\"2[00]PN\":[0.9999999944728036,-1.3778150024873906e-09],\"A.x[00]PN\":[0.9446690624853658,0.3280248321101111],\"Abba[]PN\":[0.9206498808233821,0.3903892611732192],\"Abisimti[]PN\":[0.892518813148287,0.45101013517217614],\"Abumba\\u0161ti[]PN\":[0.8604015656555641,0.5096166702065156],\"Abuni[]PN\":[0.8428922840686683,0.538082358356455],\"Abu\\u1e6dab[]PN\":[0.8244415471201471,0.5659471124794297],\"Adadillat[]PN\":[0.7847993920592614,0.6197499005883393],\"Agalum[]PN\":[0.7416520666627562,0.6707847682108188],\"Agu\\u02bea[]PN\":[0.6951924515605916,0.7188236679765876],\"Ahan\\u0161ibu[]PN\":[0.6456278517067235,0.7636522019789813],\"Ahi\\u02beilum[]PN\":[0.6197498992025562,0.7847993934450446],\"Ahuni[]PN\":[0.5931796983558806,0.8050700390074633],\"Ahu\\u0161uni[]PN\":[0.5096166688207324,0.8604015670413473],\"Alid[]PN\":[0.48058172651243874,0.8769499621524746],\"Alla[]PN\":[0.45101010398407065,0.8925188145340701],\"Alla\\u0161arrum[]PN\":[-0.8604016307874051,-0.5096165537528563],\"Amabarag[]PN\":[0.6707846476157464,-0.7416521900134585],\"AmurEa[]PN\":[0.3903892299851138,0.9206498822091652],\"Amurili[]PN\":[0.9994415585574463,0.033414977063822654],\"Anaa[]PN\":[-0.5931795846737876,-0.8050701609723825],\"Anebabdu[]PN\":[0.2962755227027868,0.9551024992823786],\"Apili[]PN\":[-0.8428922895958646,-0.538082361112085],\"AradNannak[]PN\":[0.2641954089036565,0.9644691903690111],\"Ariphuppi[]PN\":[0.1663293508245096,0.9860702712037847],\"Atakkal\\u0161um[]PN\":[0.1000956490035971,0.9949778277129812],\"Aya\\u014bu[]PN\":[0.06679262671098972,0.9977668482436035],\"Ba.zi[00]PN\":[-0.0334149849305261,0.9994415599432295],\"Balala[]PN\":[0.7188236665908044,0.6951923933417301],\"Batugrad[]PN\":[-0.10009573648717976,0.9949778277129812],\"Baza[]PN\":[-0.1332869553676587,0.991077478583593],\"Belili[]PN\":[-0.23182015333277164,0.972758646713595],\"Beli\\u02beili[]PN\":[-0.2962756176369501,0.9551024992823786],\"Budu[]PN\":[-0.3594077545226436,0.9331806262503104],\"Bu\\u0161am[]PN\":[-0.390389324919277,0.9206498822091652],\"Bu\\u02bea[]PN\":[-0.45101019891823396,0.8925188145340701],\"Dada[]PN\":[-0.5096166743479287,0.8604015670413473],\"Dari\\u0161matum[]PN\":[0.892518813148287,-0.45101010812548387],\"Daya[]PN\":[-0.5931797634877214,0.8050700390074633],\"Dayyanummi\\u0161ar[]PN\":[0.9331806248645274,0.35940778018355274],\"Dudu[]PN\":[0.9551025575012401,-0.2962754076349108],\"Ea\\u02beili[]PN\":[0.5659471110936466,0.8244415485059302],\"Edudu\\u02bea[]PN\":[-0.4805817022373128,0.8769499621524746],\"Endi\\u014bir\\u014bu[]PN\":[-0.6456277976292751,0.7636522615836259],\"Enlil[]DN\":[-0.6707847127475872,0.741652127653184],\"Ennumili[]PN\":[-0.718823612513356,0.6951924529463748],\"E\\u0161tarnada[]PN\":[-0.763652265725039,0.645627793487862],\"GA.na.na.tum[]PN\":[-0.741652131794597,0.6707847086061741],\"Gabidanum[]PN\":[-0.784799337981813,0.6197499601929839],\"Galzudabulsin[]PN\":[-0.8050700431488764,0.5931797593463083],\"GemeNannak[]PN\":[0.6951925707698808,-0.7188235515229283],\"Ge\\u0161.\\u0161a\\u2083[00]DN\":[-0.35940790353425517,-0.9331805694012958],\"Ginuna[]PN\":[9.161282440184268e-09,-0.9999999986142167],\"Haburitum[]DN\":[-0.84289222999122,0.5380824179610997],\"Ha\\u0161ipatal[]PN\":[-0.8769499662938877,0.4805816682935773],\"HidutAmarSu\\u02been[]PN\":[-0.5380824221025128,0.8428922258498069],\"Hu.un.ha.ab.UR[]PN\":[-0.9070909025852545,0.420934763989881],\"Huba[]PN\":[0.9977668468578204,0.06679263554735346],\"Iabti[]PN\":[-0.920649945955223,0.3903892015685746],\"Igirumah[]PN\":[-0.933180570787079,0.35940783978819735],\"Ilabu\\u02beigadu[]PN\":[-0.8244416122519879,0.5659469932701405],\"Ilag\\u0161uqir[]PN\":[-0.944669068012562,0.3280248619124334],\"Ilallum[]PN\":[-0.9551025034237917,0.29627549428624766],\"Illa\\u02bei[]PN\":[-0.26419538462853054,0.9644691903690111],\"Il\\u0161urabi[]PN\":[0.16632951473728227,-0.9860702143547699],\"Im.x[00]PN\":[-0.9727586508550081,0.23182013429019732],\"Inanak[]DN\":[-0.8604015711827604,0.509616610601871],\"Inimanizid[]PN\":[-0.9799616933422735,0.19918589101128278],\"Inzu[]PN\":[-0.9860702157405531,0.16632942671609852],\"Itutu\\u02bea[]PN\":[0.994977826327198,0.10009568764228315],\"KA.x[00]PN\":[-0.9994415640846426,0.033414965887951786],\"KAL.bi.si[]PN\":[0.8050700376216802,0.5931797593463083],\"KinatNunu[]PN\":[0.4209346135924863,-0.907090960804116],\"Kubatum[]PN\":[-0.9994415640846426,-0.033414905313646895],\"Kur\\u014birini\\u0161e[]PN\":[-0.619749964334397,0.7847993338403999],\"Lamahar[]PN\":[-0.9977668523850166,-0.06679264575356403],\"Liludan[]PN\":[0.3594077787977696,0.9331806262503104],\"Lisin[]PN\":[0.5380823569706719,0.8428922854544515],\"LuNannak[]PN\":[0.2318201776078976,0.972758646713595],\"LuNan\\u0161ek[]PN\":[-0.9949778318543943,-0.10009577980488006],\"Lubanda[]PN\":[-0.9860702753451978,-0.1663293698670839],\"Ludi\\u014birak[]PN\":[0.7636522005931982,0.6456278530925067],\"Lugal.x[00]PN\":[0.9910774771978098,0.13328696612740668],\"LugalAnabtum[]PN\":[0.876950020371336,-0.48058161144456274],\"Lugalituda[]PN\":[-0.955102443819147,-0.29627567585581155],\"Lugalkugzu[]PN\":[0.9860702698180015,0.16632935221029277],\"Lugaltida[]PN\":[-0.9206498267459338,-0.3903893533358162],\"Lugula[]PN\":[0.32802489032897253,0.9446690638711489],\"Lukala[]PN\":[-0.9070909621898992,-0.42093470714086645],\"Lusaga[]PN\":[-0.8925188186754832,-0.4510101379278062],\"Lu\\u02beAmarSu\\u02beenak[]PN\":[-0.03341480984188256,-0.9994415626988594],\"ME.E\\u2082.a[]PN\":[-0.6707847723522319,-0.7416520708041693],\"ME.{d}I\\u0161taran[]PN\":[-0.876949906689243,-0.48058182006081884],\"Ma.lum\\u2093[00]PN\":[-0.32802486605384656,0.9446690638711489],\"Meslamta\\u02bee\\u02bea[]DN\":[0.7188236665908044,-0.69519239609736],\"Me\\u0161i\\u02bead[]PN\":[-0.8244414930426986,-0.5659471748397042],\"Mulliltumnuri[]PN\":[-0.133286791454886,-0.9910774813392229],\"Na.an.na[]PN\":[-0.7847993975864577,-0.6197499033439693],\"Na.x[00]PN\":[-0.9799616933422735,-0.1991860725808466],\"Nabasag[]PN\":[-0.7636521465157498,-0.6456279154527812],\"Nam.ra.ak[00]PN\":[-0.741652131794597,-0.6707846517571595],\"Namhani[]PN\":[-0.7188236721180007,-0.6951924557020047],\"Nanna[]DN\":[-0.6951923378784987,-0.7188237303368621],\"Naramili[]PN\":[-0.6456278572339198,-0.7636522047346112],\"Nawar\\u0161en[]PN\":[-0.2962755580323055,-0.9551025020380085],\"Nawirili[]PN\":[-0.6197500239390417,-0.7847992769913853],\"Nig\\u2082.il\\u2082[00]PN\":[-0.5659471166208428,-0.8244415512615602],\"Nig\\u2082.x[00]PN\":[-0.5380824817071573,-0.8428921690007922],\"Nihelu[]PN\":[-0.5096164955339948,-0.8604016890062665],\"Ninegalak[]DN\":[-0.4805817618419574,-0.8769499053034598],\"Ningal[]DN\":[-0.45101025852287857,-0.8925187576850554],\"Ningilin[]DN\":[-0.3903892653146324,-0.9206498849647952],\"Ninhursa\\u014bak[]DN\":[-0.32802468723991274,-0.9446691262314235],\"Ninkala[]PN\":[-0.2641955336401421,-0.9644691335199964],\"Ninlil[]DN\":[-0.19918596965850172,-0.9799616919564903],\"Ninlilemana\\u014b[]PN\":[-0.16632950536331745,-0.9860702143547699],\"Ninurta[]DN\":[-0.10009568433311573,-0.9949778304686111],\"Nin\\u0161uburak[]DN\":[-0.06679278124979757,-0.9977668509992335],\"Nirida\\u014bal[]PN\":[-0.9949778318543943,0.1000956056858968],\"Ni\\u014birinimginak[]PN\":[0.03341482666642796,-0.9994415626988594],\"Nuhilum[]PN\":[0.8769499011620467,0.48058175770054423],\"Nurili[]PN\":[0.06679279807434298,-0.9977668509992335],\"Nur\\u0160ama\\u0161[]PN\":[0.10009570115766113,-0.9949778304686111],\"Nuska[]DN\":[0.1332868008288508,-0.9910774813392229],\"PuzurA\\u0161\\u0161ur[]PN\":[-0.4209347681312942,0.9070908984438414],\"PuzurErra[]PN\":[0.9799616878150772,0.1991859804182497],\"PuzurE\\u0161tar[]PN\":[0.19918599393362768,-0.9799616919564903],\"Puzurili[]PN\":[-0.9910774827250061,0.13328695122624554],\"Qurdilum[]PN\":[-0.16632932654938362,0.9860702712037847],\"Ribagada[]PN\":[0.23181999879396378,-0.9727587090738696],\"Rigmu\\u0161[]PN\":[0.264195557915268,-0.9644691335199964],\"Rimili[]PN\":[0.2962755823074314,-0.9551025020380085],\"Ri\\u1e63ili[]PN\":[0.3594079278093811,-0.9331805694012958],\"Simat\\u0161arrim[]PN\":[-0.9644691349057796,0.26419546989408427],\"Su\\u02beenillat[]PN\":[-0.9977668523850166,0.06679270260257865],\"Taburha\\u1e6d\\u1e6dum[]PN\":[0.5931796387512359,-0.8050701609723825],\"TaddinE\\u0161tar[]PN\":[0.3903892895897584,-0.9206498849647952],\"Taddinkiza[]PN\":[-0.23181998941999898,-0.9727587090738696],\"Tah\\u0161atal[]PN\":[-0.9446691276172067,-0.3280248050634188],\"TuramDagan[]PN\":[0.4510102827980045,-0.8925187576850554],\"Uba[]PN\":[0.4805817563147611,-0.8769499053034598],\"Ubarum[]PN\":[0.5096164900067987,-0.8604016294016219],\"Ululal[]PN\":[0.5380824761799611,-0.8428921690007922],\"UrBa\\u02beuk[]PN\":[-0.9910774827250061,-0.13328687947606976],\"UrEninnuk[]PN\":[0.03341500920565209,0.9994415599432295],\"UrIgalimak[]PN\":[-0.9331806303917235,-0.3594077829391828],\"UrI\\u0161kurak[]PN\":[0.5659471110936466,-0.8244415512615602],\"UrKugnunak[]PN\":[0.9727586453278119,0.2318201491913585],\"UrNannak[]PN\":[0.19918593432898307,0.9799616892008604],\"UrNan\\u0161ek[]PN\":[0.9727586453278119,-0.23182028605743885],\"UrNingalak[]PN\":[-0.42093461911968266,-0.907090960804116],\"Urmes[]PN\":[-0.06679260243586374,0.9977668482436035],\"Utu\\u02beadgal[]PN\":[0.964469188983228,0.26419541028943966],\"Waqar\\u0160uSu\\u02been[]PN\":[-0.19918602926314632,0.9799616892008604],\"X.mu[00]DN\":[-0.9727586508550081,-0.23182007744118271],\"X.x[00]PN\":[-1.0,-8.880059133436181e-08],\"Zanum[]PN\":[0.7416520070581116,-0.6707848305710933],\"Zariq[]PN\":[0.6456278517067235,-0.7636522047346112],\"Zeri[]PN\":[0.9206499404280267,-0.39038911491723777],\"Zizuh[]PN\":[0.1332869945439458,0.991077478583593],\"lugal[king]N\":[0.9070908970580582,0.420934763989881],\"sukkalmah[official]N\":[0.8244416663294363,-0.5659469364211258],\"\\u014airine\\u02beisag[]PN\":[-4.647498633130042e-08,0.9999999958585868],\"\\u0160alimni\\u02bea\\u0161[]PN\":[0.7636523198024874,-0.6456277366388474],\"\\u0160arakam[]PN\":[0.8428922840686683,-0.538082361112085],\"\\u0160arrumili[]PN\":[0.8604015060509196,-0.5096167921714347],\"\\u0160atSu\\u02been[]PN\":[0.7847993920592614,-0.6197499033439693],\"\\u0160ebba[]PN\":[0.9070908374534137,-0.4209348859548003],\"\\u0160ennam[]PN\":[0.9331806248645274,-0.35940775313686046],\"\\u0160eteli[]PN\":[0.9446690624853658,-0.3280249838773526],\"\\u0160etelili[]PN\":[-0.9644691945104242,-0.2641954130450697],\"\\u0160e\\u0161ani[]PN\":[0.964469188983228,-0.2641953832427474],\"\\u0160e\\u0161kala[]PN\":[-0.6951925166924324,0.7188236083719429],\"\\u0160uSu\\u02beenili[]PN\":[0.9799617474197219,-0.199185819261107],\"\\u0160uSu\\u02beenmigirE\\u0161tar[]PN\":[-0.5659470570161982,0.8244416081105749],\"\\u0160ubram[]PN\":[0.9860702698180015,-0.1663293400647616],\"\\u0160ulgimati[]PN\":[0.9910774771978098,-0.13328710299348703],\"\\u0160ulgimi\\u0161ar[]PN\":[0.994977826327198,-0.10009551903455988],\"\\u0160ulgir[]RN\":[0.9977668468578204,-0.06679261595124172],\"\\u0160ulgiradda\\u014bu[]PN\":[0.9994415585574463,-0.03341512138048361],\"\\u0160ulgirama[]PN\":[0.8050699780170356,-0.5931798813112275],\"\\u0160ulgirgalzu[]PN\":[0.4209347924064202,0.9070908984438414],\"\\u0160unundu[]PN\":[0.6197500184118454,-0.7847992769913853],\"\\u0160uru\\u0161kin[]PN\":[0.3280247115150387,-0.9446691262314235],\"\\u0160u\\u0160ulgi[]PN\":[0.9551024978965954,0.29627558369321455],\"\\u0160u\\u0161ug[]PN\":[-0.8050701027535211,-0.5931797024972937],\"\\u0160u\\u02beEnlil[]PN\":[-0.8925188186754832,0.45101019477682075],\"\\u0160u\\u02beE\\u0161tar[]PN\":[0.670784707220391,0.741652127653184]}},\"id\":\"1440\",\"type\":\"StaticLayoutProvider\"},{\"attributes\":{\"overlay\":{\"id\":\"1495\",\"type\":\"BoxAnnotation\"}},\"id\":\"1421\",\"type\":\"BoxZoomTool\"},{\"attributes\":{\"callback\":null,\"overlay\":{\"id\":\"1494\",\"type\":\"BoxAnnotation\"}},\"id\":\"1419\",\"type\":\"BoxSelectTool\"},{\"attributes\":{},\"id\":\"1484\",\"type\":\"LinearScale\"},{\"attributes\":{\"fill_color\":{\"value\":\"#abdda4\"},\"size\":{\"field\":\"node_size\",\"units\":\"screen\"}},\"id\":\"1451\",\"type\":\"Circle\"},{\"attributes\":{\"edge_renderer\":{\"id\":\"1438\",\"type\":\"GlyphRenderer\"},\"inspection_policy\":{\"id\":\"1473\",\"type\":\"EdgesAndLinkedNodes\"},\"layout_provider\":{\"id\":\"1440\",\"type\":\"StaticLayoutProvider\"},\"node_renderer\":{\"id\":\"1434\",\"type\":\"GlyphRenderer\"},\"selection_policy\":{\"id\":\"1471\",\"type\":\"NodesAndLinkedEdges\"}},\"id\":\"1431\",\"type\":\"GraphRenderer\"},{\"attributes\":{\"line_alpha\":{\"value\":0.8},\"line_color\":{\"value\":\"#CCCCCC\"},\"line_width\":{\"value\":5}},\"id\":\"1456\",\"type\":\"MultiLine\"},{\"attributes\":{\"line_color\":{\"value\":\"#abdda4\"},\"line_width\":{\"value\":5}},\"id\":\"1466\",\"type\":\"MultiLine\"},{\"attributes\":{\"bottom_units\":\"screen\",\"fill_alpha\":{\"value\":0.5},\"fill_color\":{\"value\":\"lightgrey\"},\"left_units\":\"screen\",\"level\":\"overlay\",\"line_alpha\":{\"value\":1.0},\"line_color\":{\"value\":\"black\"},\"line_dash\":[4,4],\"line_width\":{\"value\":2},\"render_mode\":\"css\",\"right_units\":\"screen\",\"top_units\":\"screen\"},\"id\":\"1494\",\"type\":\"BoxAnnotation\"},{\"attributes\":{\"callback\":null,\"data\":{\"degree\":[13,10,6,4,15,17,14,2,6,5,2,15,3,18,2,1,1,5,3,1,2,24,1,1,1,7,3,1,4,7,3,1,2,1,1,1,1,1,1,4,5,1,1,2,1,4,1,1,2,2,2,2,1,1,1,2,4,1,1,1,2,1,2,3,1,1,2,2,1,2,4,2,1,1,1,1,3,1,1,1,4,1,1,1,1,5,1,1,2,1,7,3,1,2,3,3,1,1,3,1,2,1,1,1,1,1,1,1,1,3,1,1,1,2,1,1,1,2,1,2,2,1,1,1,1,1,1,1,2,1,1,1,1,1,1,2,2,1,1,1,1,3,1,4,1,1,1,2,1,1,1,2,1,2,1,2,1,3,2,1,1,2,1,1,1,1,1,2,2,1,1,1,2,1,1,1,1,1,1,1,1,1,1,1,1,1,1,1],\"index\":[\"2[00]PN\",\"Amurili[]PN\",\"Huba[]PN\",\"Itutu\\u02bea[]PN\",\"Lugal.x[00]PN\",\"Lugalkugzu[]PN\",\"PuzurErra[]PN\",\"UrKugnunak[]PN\",\"Utu\\u02beadgal[]PN\",\"\\u0160u\\u0160ulgi[]PN\",\"A.x[00]PN\",\"Dayyanummi\\u0161ar[]PN\",\"Abba[]PN\",\"lugal[king]N\",\"Abisimti[]PN\",\"Nuhilum[]PN\",\"Abumba\\u0161ti[]PN\",\"Abuni[]PN\",\"Abu\\u1e6dab[]PN\",\"KAL.bi.si[]PN\",\"Adadillat[]PN\",\"Ludi\\u014birak[]PN\",\"Agalum[]PN\",\"Balala[]PN\",\"Agu\\u02bea[]PN\",\"\\u0160u\\u02beE\\u0161tar[]PN\",\"Ahan\\u0161ibu[]PN\",\"Ahi\\u02beilum[]PN\",\"Ahuni[]PN\",\"Ea\\u02beili[]PN\",\"Lisin[]PN\",\"Ahu\\u0161uni[]PN\",\"Alid[]PN\",\"Alla[]PN\",\"\\u0160ulgirgalzu[]PN\",\"AmurEa[]PN\",\"Liludan[]PN\",\"Lugula[]PN\",\"Anebabdu[]PN\",\"AradNannak[]PN\",\"LuNannak[]PN\",\"UrNannak[]PN\",\"Ariphuppi[]PN\",\"Zizuh[]PN\",\"Atakkal\\u0161um[]PN\",\"Aya\\u014bu[]PN\",\"UrEninnuk[]PN\",\"\\u014airine\\u02beisag[]PN\",\"Ba.zi[00]PN\",\"Urmes[]PN\",\"Batugrad[]PN\",\"Baza[]PN\",\"Qurdilum[]PN\",\"Waqar\\u0160uSu\\u02been[]PN\",\"Belili[]PN\",\"Illa\\u02bei[]PN\",\"Beli\\u02beili[]PN\",\"Ma.lum\\u2093[00]PN\",\"Budu[]PN\",\"Bu\\u0161am[]PN\",\"PuzurA\\u0161\\u0161ur[]PN\",\"Bu\\u02bea[]PN\",\"Edudu\\u02bea[]PN\",\"Dada[]PN\",\"HidutAmarSu\\u02been[]PN\",\"\\u0160uSu\\u02beenmigirE\\u0161tar[]PN\",\"Daya[]PN\",\"Kur\\u014birini\\u0161e[]PN\",\"Endi\\u014bir\\u014bu[]PN\",\"Enlil[]DN\",\"\\u0160e\\u0161kala[]PN\",\"Ennumili[]PN\",\"GA.na.na.tum[]PN\",\"E\\u0161tarnada[]PN\",\"Gabidanum[]PN\",\"Galzudabulsin[]PN\",\"Ilabu\\u02beigadu[]PN\",\"Haburitum[]DN\",\"Inanak[]DN\",\"Ha\\u0161ipatal[]PN\",\"\\u0160u\\u02beEnlil[]PN\",\"Hu.un.ha.ab.UR[]PN\",\"Iabti[]PN\",\"Igirumah[]PN\",\"Ilag\\u0161uqir[]PN\",\"Ilallum[]PN\",\"Simat\\u0161arrim[]PN\",\"Im.x[00]PN\",\"Inimanizid[]PN\",\"Inzu[]PN\",\"Puzurili[]PN\",\"Nirida\\u014bal[]PN\",\"Su\\u02beenillat[]PN\",\"KA.x[00]PN\",\"X.x[00]PN\",\"Kubatum[]PN\",\"Lamahar[]PN\",\"LuNan\\u0161ek[]PN\",\"UrBa\\u02beuk[]PN\",\"Lubanda[]PN\",\"Na.x[00]PN\",\"X.mu[00]DN\",\"\\u0160etelili[]PN\",\"Lugalituda[]PN\",\"Tah\\u0161atal[]PN\",\"UrIgalimak[]PN\",\"Lugaltida[]PN\",\"Lukala[]PN\",\"Lusaga[]PN\",\"ME.{d}I\\u0161taran[]PN\",\"Alla\\u0161arrum[]PN\",\"Apili[]PN\",\"Me\\u0161i\\u02bead[]PN\",\"\\u0160u\\u0161ug[]PN\",\"Na.an.na[]PN\",\"Nabasag[]PN\",\"Nam.ra.ak[00]PN\",\"Namhani[]PN\",\"Nanna[]DN\",\"ME.E\\u2082.a[]PN\",\"Naramili[]PN\",\"Nawirili[]PN\",\"Anaa[]PN\",\"Nig\\u2082.il\\u2082[00]PN\",\"Nig\\u2082.x[00]PN\",\"Nihelu[]PN\",\"Ninegalak[]DN\",\"Ningal[]DN\",\"UrNingalak[]PN\",\"Ningilin[]DN\",\"Ge\\u0161.\\u0161a\\u2083[00]DN\",\"Ninhursa\\u014bak[]DN\",\"Nawar\\u0161en[]PN\",\"Ninkala[]PN\",\"Taddinkiza[]PN\",\"Ninlil[]DN\",\"Ninlilemana\\u014b[]PN\",\"Mulliltumnuri[]PN\",\"Ninurta[]DN\",\"Nin\\u0161uburak[]DN\",\"Lu\\u02beAmarSu\\u02beenak[]PN\",\"Ginuna[]PN\",\"Ni\\u014birinimginak[]PN\",\"Nurili[]PN\",\"Nur\\u0160ama\\u0161[]PN\",\"Nuska[]DN\",\"Il\\u0161urabi[]PN\",\"PuzurE\\u0161tar[]PN\",\"Ribagada[]PN\",\"Rigmu\\u0161[]PN\",\"Rimili[]PN\",\"\\u0160uru\\u0161kin[]PN\",\"Ri\\u1e63ili[]PN\",\"TaddinE\\u0161tar[]PN\",\"KinatNunu[]PN\",\"TuramDagan[]PN\",\"Uba[]PN\",\"Ubarum[]PN\",\"Ululal[]PN\",\"UrI\\u0161kurak[]PN\",\"Taburha\\u1e6d\\u1e6dum[]PN\",\"\\u0160unundu[]PN\",\"Zariq[]PN\",\"Amabarag[]PN\",\"GemeNannak[]PN\",\"Meslamta\\u02bee\\u02bea[]DN\",\"Zanum[]PN\",\"\\u0160alimni\\u02bea\\u0161[]PN\",\"\\u0160atSu\\u02been[]PN\",\"\\u0160ulgirama[]PN\",\"sukkalmah[official]N\",\"\\u0160arakam[]PN\",\"\\u0160arrumili[]PN\",\"LugalAnabtum[]PN\",\"Dari\\u0161matum[]PN\",\"\\u0160ebba[]PN\",\"Zeri[]PN\",\"\\u0160ennam[]PN\",\"\\u0160eteli[]PN\",\"Dudu[]PN\",\"\\u0160e\\u0161ani[]PN\",\"UrNan\\u0161ek[]PN\",\"\\u0160uSu\\u02beenili[]PN\",\"\\u0160ubram[]PN\",\"\\u0160ulgimati[]PN\",\"\\u0160ulgimi\\u0161ar[]PN\",\"\\u0160ulgir[]RN\",\"\\u0160ulgiradda\\u014bu[]PN\"],\"name\":[\"2[00]PN\",\"Amurili[]PN\",\"Huba[]PN\",\"Itutu\\u02bea[]PN\",\"Lugal.x[00]PN\",\"Lugalkugzu[]PN\",\"PuzurErra[]PN\",\"UrKugnunak[]PN\",\"Utu\\u02beadgal[]PN\",\"\\u0160u\\u0160ulgi[]PN\",\"A.x[00]PN\",\"Dayyanummi\\u0161ar[]PN\",\"Abba[]PN\",\"lugal[king]N\",\"Abisimti[]PN\",\"Nuhilum[]PN\",\"Abumba\\u0161ti[]PN\",\"Abuni[]PN\",\"Abu\\u1e6dab[]PN\",\"KAL.bi.si[]PN\",\"Adadillat[]PN\",\"Ludi\\u014birak[]PN\",\"Agalum[]PN\",\"Balala[]PN\",\"Agu\\u02bea[]PN\",\"\\u0160u\\u02beE\\u0161tar[]PN\",\"Ahan\\u0161ibu[]PN\",\"Ahi\\u02beilum[]PN\",\"Ahuni[]PN\",\"Ea\\u02beili[]PN\",\"Lisin[]PN\",\"Ahu\\u0161uni[]PN\",\"Alid[]PN\",\"Alla[]PN\",\"\\u0160ulgirgalzu[]PN\",\"AmurEa[]PN\",\"Liludan[]PN\",\"Lugula[]PN\",\"Anebabdu[]PN\",\"AradNannak[]PN\",\"LuNannak[]PN\",\"UrNannak[]PN\",\"Ariphuppi[]PN\",\"Zizuh[]PN\",\"Atakkal\\u0161um[]PN\",\"Aya\\u014bu[]PN\",\"UrEninnuk[]PN\",\"\\u014airine\\u02beisag[]PN\",\"Ba.zi[00]PN\",\"Urmes[]PN\",\"Batugrad[]PN\",\"Baza[]PN\",\"Qurdilum[]PN\",\"Waqar\\u0160uSu\\u02been[]PN\",\"Belili[]PN\",\"Illa\\u02bei[]PN\",\"Beli\\u02beili[]PN\",\"Ma.lum\\u2093[00]PN\",\"Budu[]PN\",\"Bu\\u0161am[]PN\",\"PuzurA\\u0161\\u0161ur[]PN\",\"Bu\\u02bea[]PN\",\"Edudu\\u02bea[]PN\",\"Dada[]PN\",\"HidutAmarSu\\u02been[]PN\",\"\\u0160uSu\\u02beenmigirE\\u0161tar[]PN\",\"Daya[]PN\",\"Kur\\u014birini\\u0161e[]PN\",\"Endi\\u014bir\\u014bu[]PN\",\"Enlil[]DN\",\"\\u0160e\\u0161kala[]PN\",\"Ennumili[]PN\",\"GA.na.na.tum[]PN\",\"E\\u0161tarnada[]PN\",\"Gabidanum[]PN\",\"Galzudabulsin[]PN\",\"Ilabu\\u02beigadu[]PN\",\"Haburitum[]DN\",\"Inanak[]DN\",\"Ha\\u0161ipatal[]PN\",\"\\u0160u\\u02beEnlil[]PN\",\"Hu.un.ha.ab.UR[]PN\",\"Iabti[]PN\",\"Igirumah[]PN\",\"Ilag\\u0161uqir[]PN\",\"Ilallum[]PN\",\"Simat\\u0161arrim[]PN\",\"Im.x[00]PN\",\"Inimanizid[]PN\",\"Inzu[]PN\",\"Puzurili[]PN\",\"Nirida\\u014bal[]PN\",\"Su\\u02beenillat[]PN\",\"KA.x[00]PN\",\"X.x[00]PN\",\"Kubatum[]PN\",\"Lamahar[]PN\",\"LuNan\\u0161ek[]PN\",\"UrBa\\u02beuk[]PN\",\"Lubanda[]PN\",\"Na.x[00]PN\",\"X.mu[00]DN\",\"\\u0160etelili[]PN\",\"Lugalituda[]PN\",\"Tah\\u0161atal[]PN\",\"UrIgalimak[]PN\",\"Lugaltida[]PN\",\"Lukala[]PN\",\"Lusaga[]PN\",\"ME.{d}I\\u0161taran[]PN\",\"Alla\\u0161arrum[]PN\",\"Apili[]PN\",\"Me\\u0161i\\u02bead[]PN\",\"\\u0160u\\u0161ug[]PN\",\"Na.an.na[]PN\",\"Nabasag[]PN\",\"Nam.ra.ak[00]PN\",\"Namhani[]PN\",\"Nanna[]DN\",\"ME.E\\u2082.a[]PN\",\"Naramili[]PN\",\"Nawirili[]PN\",\"Anaa[]PN\",\"Nig\\u2082.il\\u2082[00]PN\",\"Nig\\u2082.x[00]PN\",\"Nihelu[]PN\",\"Ninegalak[]DN\",\"Ningal[]DN\",\"UrNingalak[]PN\",\"Ningilin[]DN\",\"Ge\\u0161.\\u0161a\\u2083[00]DN\",\"Ninhursa\\u014bak[]DN\",\"Nawar\\u0161en[]PN\",\"Ninkala[]PN\",\"Taddinkiza[]PN\",\"Ninlil[]DN\",\"Ninlilemana\\u014b[]PN\",\"Mulliltumnuri[]PN\",\"Ninurta[]DN\",\"Nin\\u0161uburak[]DN\",\"Lu\\u02beAmarSu\\u02beenak[]PN\",\"Ginuna[]PN\",\"Ni\\u014birinimginak[]PN\",\"Nurili[]PN\",\"Nur\\u0160ama\\u0161[]PN\",\"Nuska[]DN\",\"Il\\u0161urabi[]PN\",\"PuzurE\\u0161tar[]PN\",\"Ribagada[]PN\",\"Rigmu\\u0161[]PN\",\"Rimili[]PN\",\"\\u0160uru\\u0161kin[]PN\",\"Ri\\u1e63ili[]PN\",\"TaddinE\\u0161tar[]PN\",\"KinatNunu[]PN\",\"TuramDagan[]PN\",\"Uba[]PN\",\"Ubarum[]PN\",\"Ululal[]PN\",\"UrI\\u0161kurak[]PN\",\"Taburha\\u1e6d\\u1e6dum[]PN\",\"\\u0160unundu[]PN\",\"Zariq[]PN\",\"Amabarag[]PN\",\"GemeNannak[]PN\",\"Meslamta\\u02bee\\u02bea[]DN\",\"Zanum[]PN\",\"\\u0160alimni\\u02bea\\u0161[]PN\",\"\\u0160atSu\\u02been[]PN\",\"\\u0160ulgirama[]PN\",\"sukkalmah[official]N\",\"\\u0160arakam[]PN\",\"\\u0160arrumili[]PN\",\"LugalAnabtum[]PN\",\"Dari\\u0161matum[]PN\",\"\\u0160ebba[]PN\",\"Zeri[]PN\",\"\\u0160ennam[]PN\",\"\\u0160eteli[]PN\",\"Dudu[]PN\",\"\\u0160e\\u0161ani[]PN\",\"UrNan\\u0161ek[]PN\",\"\\u0160uSu\\u02beenili[]PN\",\"\\u0160ubram[]PN\",\"\\u0160ulgimati[]PN\",\"\\u0160ulgimi\\u0161ar[]PN\",\"\\u0160ulgir[]RN\",\"\\u0160ulgiradda\\u014bu[]PN\"],\"node_size\":[39,30,18,12,45,51,42,6,18,15,6,45,9,54,6,3,3,15,9,3,6,72,3,3,3,21,9,3,12,21,9,3,6,3,3,3,3,3,3,12,15,3,3,6,3,12,3,3,6,6,6,6,3,3,3,6,12,3,3,3,6,3,6,9,3,3,6,6,3,6,12,6,3,3,3,3,9,3,3,3,12,3,3,3,3,15,3,3,6,3,21,9,3,6,9,9,3,3,9,3,6,3,3,3,3,3,3,3,3,9,3,3,3,6,3,3,3,6,3,6,6,3,3,3,3,3,3,3,6,3,3,3,3,3,3,6,6,3,3,3,3,9,3,12,3,3,3,6,3,3,3,6,3,6,3,6,3,9,6,3,3,6,3,3,3,3,3,6,6,3,3,3,6,3,3,3,3,3,3,3,3,3,3,3,3,3,3,3]},\"selected\":{\"id\":\"1496\",\"type\":\"Selection\"},\"selection_policy\":{\"id\":\"1497\",\"type\":\"UnionRenderers\"}},\"id\":\"1433\",\"type\":\"ColumnDataSource\"},{\"attributes\":{},\"id\":\"1496\",\"type\":\"Selection\"},{\"attributes\":{\"callback\":null,\"tooltips\":[[\"Text ID\",\"@id_text\"],[\"start\",\"@start\"],[\"end\",\"@end\"]]},\"id\":\"1417\",\"type\":\"HoverTool\"}],\"root_ids\":[\"1502\"]},\"title\":\"Bokeh Application\",\"version\":\"1.4.0\"}};\n",
       "  var render_items = [{\"docid\":\"79350d0b-d18b-451c-b456-339c4a0d02b0\",\"roots\":{\"1502\":\"9cea3bef-8a7f-43f7-a0d5-f52cb214ebde\"}}];\n",
       "  root.Bokeh.embed.embed_items_notebook(docs_json, render_items);\n",
       "\n",
       "  }\n",
       "  if (root.Bokeh !== undefined) {\n",
       "    embed_document(root);\n",
       "  } else {\n",
       "    var attempts = 0;\n",
       "    var timer = setInterval(function(root) {\n",
       "      if (root.Bokeh !== undefined) {\n",
       "        clearInterval(timer);\n",
       "        embed_document(root);\n",
       "      } else {\n",
       "        attempts++;\n",
       "        if (attempts > 100) {\n",
       "          clearInterval(timer);\n",
       "          console.log(\"Bokeh: ERROR: Unable to run BokehJS code because BokehJS library is missing\");\n",
       "        }\n",
       "      }\n",
       "    }, 10, root)\n",
       "  }\n",
       "})(window);"
      ],
      "application/vnd.bokehjs_exec.v0+json": ""
     },
     "metadata": {
      "application/vnd.bokehjs_exec.v0+json": {
       "id": "1502"
      }
     },
     "output_type": "display_data"
    }
   ],
   "source": [
    "plot = Plot(plot_width = 900, plot_height = 900,\n",
    "            x_range = Range1d(-1.1, 1.1), y_range = Range1d(-1.1, 1.1))\n",
    "plot.title.text = \"Drehem Treasure Archive\"\n",
    "\n",
    "plot.add_tools(HoverTool(tooltips = [('Text ID', '@id_text'), ('start', '@start'), ('end', '@end')]), \n",
    "               TapTool(), BoxSelectTool(), ResetTool(), BoxZoomTool(), SaveTool())\n",
    "\n",
    "graph_renderer = from_networkx(G, nx.circular_layout, scale = 1, center = (0, 0))\n",
    "\n",
    "graph_renderer.node_renderer.glyph = Circle(size = 'node_size', fill_color = Spectral4[0])\n",
    "graph_renderer.node_renderer.selection_glyph = Circle(size = 'node_size', fill_color = Spectral4[2])\n",
    "graph_renderer.node_renderer.hover_glyph = Circle(size = 'node_size', fill_color = Spectral4[1])\n",
    "\n",
    "graph_renderer.edge_renderer.glyph = MultiLine(line_color = \"#CCCCCC\", line_alpha = 0.8, line_width = 5)\n",
    "graph_renderer.edge_renderer.selection_glyph = MultiLine(line_color = Spectral4[2], line_width = 5)\n",
    "graph_renderer.edge_renderer.hover_glyph = MultiLine(line_color = Spectral4[1], line_width = 5)\n",
    "\n",
    "graph_renderer.selection_policy = NodesAndLinkedEdges()\n",
    "graph_renderer.inspection_policy = EdgesAndLinkedNodes()\n",
    "\n",
    "plot.renderers.append(graph_renderer)\n",
    "\n",
    "info_text_ids = TextInput(title = 'Text IDs:', value = '')\n",
    "info_start_end = TextInput(title = 'Start => End Values:', value = '')\n",
    "url = \"http://oracc.org/epsd2/admin/ur3/\"\n",
    "esource = graph_renderer.edge_renderer.data_source\n",
    "code = \"\"\"  start_end_values = []\n",
    "            text_ids = []\n",
    "            for(idx in esource.selected.indices)\n",
    "            {\n",
    "                index = esource.selected.indices[idx]\n",
    "                start_end_values.push(esource.data['start'][index] + '=>' + esource.data['end'][index] ); \n",
    "                text_ids.push(esource.data['id_text'][index]) \n",
    "            }\n",
    "            info_start_end.value = String(start_end_values);\n",
    "            info_text_ids.value = String(text_ids);\"\"\"\n",
    "code2 = \"\"\" urlnew = url.concat(info_text_ids.value);\n",
    "            window.open(urlnew)\"\"\"\n",
    "callback = CustomJS(args = dict(esource = esource, \n",
    "                                info_text_ids = info_text_ids, \n",
    "                                info_start_end = info_start_end), \n",
    "                    code = code)\n",
    "plot.select_one(TapTool).callback = callback\n",
    "button = Button(label=\"Click to open text editions\", button_type=\"success\")\n",
    "button.js_on_click(CustomJS(args = dict(url=url, info_text_ids=info_text_ids), \n",
    "                        code=code2))\n",
    "show(Column(plot, info_start_end, info_text_ids, button))"
   ]
  },
  {
   "cell_type": "code",
   "execution_count": null,
   "metadata": {},
   "outputs": [],
   "source": []
  }
 ],
 "metadata": {
  "kernelspec": {
   "display_name": "Python 3",
   "language": "python",
   "name": "python3"
  },
  "language_info": {
   "codemirror_mode": {
    "name": "ipython",
    "version": 3
   },
   "file_extension": ".py",
   "mimetype": "text/x-python",
   "name": "python",
   "nbconvert_exporter": "python",
   "pygments_lexer": "ipython3",
   "version": "3.7.6"
  },
  "toc-autonumbering": true,
  "toc-showcode": false,
  "toc-showtags": false
 },
 "nbformat": 4,
 "nbformat_minor": 4
}
