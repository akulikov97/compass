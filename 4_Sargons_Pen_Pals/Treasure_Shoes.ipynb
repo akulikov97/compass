{
 "cells": [
  {
   "cell_type": "markdown",
   "metadata": {},
   "source": [
    "# The Treasure And Shoe Archive from Drehem\n",
    "\n",
    "The Treasure and Shoe archive from Drehem (ancient Puzriš-Dagan) is a relatively small archive of administrative texts that date to the 21st century BCE and deal with valuable objects (made of metals and stone) and leather objects (shoes and belts, etc.. The archive was studied in detail by Paola Paoletti in her book *Der König und sein Kreis* (2012). The present notebook essentially takes the texts edited and studied by Paoletti, assigning roles to personal names in each text. This data is then used to study the network of persons involved in this archive. The network is drawn in an interactive plot.\n",
    "\n",
    "This notebook goes through several steps: \n",
    "* Data acquisition\n",
    "* Data cleaning\n",
    "* Defining Nodes\n",
    "* Assigning roles\n",
    "* Defining edges\n",
    "* Creating a Network (using networkx)\n",
    "* Plotting the network (using bokeh)"
   ]
  },
  {
   "cell_type": "markdown",
   "metadata": {},
   "source": [
    "# Import the Necessary Modules\n",
    "Here we import the modules necessary for data acquisition and data cleaning and for assignment of roles and edges."
   ]
  },
  {
   "cell_type": "code",
   "execution_count": 1,
   "metadata": {},
   "outputs": [],
   "source": [
    "import warnings\n",
    "warnings.simplefilter(action='ignore', category=FutureWarning) # this suppresses a warning about pandas from tqdmimport pandas as pd\n",
    "import os\n",
    "import sys\n",
    "import zipfile\n",
    "import json\n",
    "import pandas as pd\n",
    "from tqdm.auto import tqdm\n",
    "tqdm.pandas()\n",
    "from ipywidgets import interact\n",
    "import re\n",
    "import pickle\n",
    "util_dir = os.path.abspath('../utils')\n",
    "sys.path.append(util_dir)\n",
    "from utils import *"
   ]
  },
  {
   "cell_type": "markdown",
   "metadata": {},
   "source": [
    "# The Corpus\n",
    "\n",
    "A list of P numbers (text ID numbers) of texts that belong to the Treasure/Shoe archive is available in the directory `csv`, kindly made available by Paolo Paoletti. This list contains some additional information, for instance where a text was published, and to which sub-archive it belongs. The latter information may be used later on to separate the Treasure texts from the leather texts (or to color those differently in the plot).\n",
    "\n",
    "One of the texts studied in her book still remains unpublished and is therefore not included (this is U.30117). Several additional Treasury texts were published by [Nawalla Al-Mutawalli and Walther Sallaberger 2018](https://doi-org.libproxy.berkeley.edu/10.1515/za-2017-0101) and one additional leather text is found in [RSO 83 (2010), 345 text 14](http://oracc.org/epsd2/admin/ur3/P433582). Another leather text was identified among the photographs of texts from the Louvre ([AO 11393](http://oracc.org/epsd2/admin/ur3/P493329)) made available on [CDLI](http://cli.ucla.edu/P493329).\n",
    "\n",
    "The corpus used here is, therefore, not exactly identical to what was used in Paoletti's book - but it is very close. At the moment of writing the corpus that is being used includes 288 documents."
   ]
  },
  {
   "cell_type": "code",
   "execution_count": 2,
   "metadata": {},
   "outputs": [],
   "source": [
    "file = 'csv/treasury_shoes2.txt'\n",
    "tr_df = pd.read_csv(file, encoding='utf8')\n",
    "ids = list(tr_df['id_text'])\n",
    "ids.sort()"
   ]
  },
  {
   "cell_type": "markdown",
   "metadata": {},
   "source": [
    "# Downloading the Corpus\n",
    "When running this notebook for the first time (or after a major update of the Ur III corpus on [epsd2](http://oracc.org/epsd2/admin/ur3) it is necessary to download the entire Ur III corpus in JSON format. If you already have the file `epsd2-admin-ur3.zip` in the `jsonzip` directory you may comment out the command that does the download, by placing a hashmark (#) in front of it as follows: \n",
    "\n",
    "``` python\n",
    "#oracc_download([project])\n",
    "```\n",
    "\n",
    "Remove the hashmark and run the cell again to download a fresh copy (this is a large file and may take a while, depending on your computer and your connection)."
   ]
  },
  {
   "cell_type": "code",
   "execution_count": 3,
   "metadata": {},
   "outputs": [],
   "source": [
    "project = 'epsd2/admin/ur3'\n",
    "#oracc_download([project]);"
   ]
  },
  {
   "cell_type": "markdown",
   "metadata": {},
   "source": [
    "# The Parsejson function\n",
    "\n",
    "The `parsejson()` function used here differs in one way from the ones demonstrated in Chapter 2.1. The code looks for a `key` `ftype` (meaning field type) among the lemmatization data. The only value that `ftype` may take in this corpus is `yn`, indicating that a word is part of a year name. By including that data we may easily exclude year names from our analysis. We will, of course, consider the dating of each texts (that is part of the metadata). The vocabulary of the year names, however, is irrelevant for understanding the transactions and connections described in this corpus."
   ]
  },
  {
   "cell_type": "code",
   "execution_count": 4,
   "metadata": {},
   "outputs": [],
   "source": [
    "def parsejson(text):\n",
    "    for JSONobject in text[\"cdl\"]:\n",
    "        if \"cdl\" in JSONobject: \n",
    "            parsejson(JSONobject)\n",
    "        if \"label\" in JSONobject:\n",
    "            meta_d[\"label\"] = JSONobject['label']\n",
    "        if \"f\" in JSONobject:\n",
    "            lemma = JSONobject[\"f\"]\n",
    "            if \"ftype\" in JSONobject:\n",
    "                lemma['ftype'] = JSONobject['ftype'] # this picks up YN for year name\n",
    "            lemma[\"id_word\"] = JSONobject[\"ref\"]\n",
    "            lemma['label'] = meta_d[\"label\"]\n",
    "            lemma[\"id_text\"] = meta_d[\"id_text\"]\n",
    "            lemm_l.append(lemma)\n",
    "        if \"strict\" in JSONobject and JSONobject[\"strict\"] == \"1\":\n",
    "            lemma = {key: JSONobject[key] for key in dollar_keys}\n",
    "            lemma[\"id_word\"] = JSONobject[\"ref\"]\n",
    "            lemma[\"id_text\"] = meta_d[\"id_text\"]\n",
    "            lemm_l.append(lemma)\n",
    "    return"
   ]
  },
  {
   "cell_type": "markdown",
   "metadata": {},
   "source": [
    "# Call the Parser on Treasury Texts\n",
    "\n",
    "The variable `ids`, created above, holds all the P numbers of the documents we are interested in. This list is used to define the list of files to be extracted from the `zip` file and to be sent to the parser. Otherwise, the code below is identical to the code in Chapter 2.1."
   ]
  },
  {
   "cell_type": "code",
   "execution_count": 5,
   "metadata": {},
   "outputs": [
    {
     "data": {
      "application/vnd.jupyter.widget-view+json": {
       "model_id": "0dccc31a48204f2292f5741c0b504c89",
       "version_major": 2,
       "version_minor": 0
      },
      "text/plain": [
       "HBox(children=(FloatProgress(value=0.0, description='epsd2/admin/ur3', max=288.0, style=ProgressStyle(descript…"
      ]
     },
     "metadata": {},
     "output_type": "display_data"
    },
    {
     "name": "stdout",
     "output_type": "stream",
     "text": [
      "epsd2/admin/ur3/P143238 is not available or not complete\n",
      "\n"
     ]
    }
   ],
   "source": [
    "lemm_l = []\n",
    "meta_d = {\"label\": None, \"id_text\": None}\n",
    "dollar_keys = [\"extent\", \"scope\", \"state\"]\n",
    "file = f\"jsonzip/{project.replace('/', '-')}.zip\"\n",
    "try:\n",
    "    z = zipfile.ZipFile(file) \n",
    "except:\n",
    "    print(f\"{file} does not exist or is not a proper ZIP file\")\n",
    "files = z.namelist() # list of all the files in the ZIP file\n",
    "files = [name for name in files if name[-12:-5] in ids] # select only those of the treasury/leather archive\n",
    "for filename in tqdm(files, desc = project):\n",
    "    id_text = project + filename[-13:-5] \n",
    "    meta_d[\"id_text\"] = id_text\n",
    "    try:\n",
    "        st = z.read(filename).decode('utf-8')\n",
    "        data_json = json.loads(st)           \n",
    "        parsejson(data_json)\n",
    "    except:\n",
    "        print(f'{id_text} is not available or not complete')\n",
    "z.close()"
   ]
  },
  {
   "cell_type": "markdown",
   "metadata": {},
   "source": [
    "# DataFrame\n",
    "\n",
    "The `parsejson()` function has filled the list of lists `lemm_l` with data. This list  is read into a DataFrame for further manipulation. We remove commas and spaces from Guide Words and simplify the field `id_text` to read \"P433582\" instead of \"epsd2/admin/ur3/P433582\" (all documents derive from [epsd2/admin/ur3](http://oracc.org/epsd2/admin/ur3)).\n",
    "\n",
    "Finally the code adds a field `id_line` in order to keep track of the lines in a document. Since lines are meaningful units in Sumerian texts, this will be an important tool. \n",
    "\n",
    "All of these steps are identical (or very similar) to steps explained in Chapter 2.1."
   ]
  },
  {
   "cell_type": "code",
   "execution_count": 6,
   "metadata": {},
   "outputs": [],
   "source": [
    "words = pd.DataFrame(lemm_l).fillna('')\n",
    "keep = ['extent', 'scope', 'state', 'id_word', 'id_text', 'form', 'cf', 'gw', 'pos', 'ftype', 'label']\n",
    "words = words[keep]\n",
    "words['gw'] = words['gw'].replace([' ', ','], ['', ''], regex=True)\n",
    "words['id_text'] = [i[-7:] for i in words['id_text']]\n",
    "words['id_line'] = [int(i.split('.')[1]) for i in words['id_word']]"
   ]
  },
  {
   "cell_type": "markdown",
   "metadata": {},
   "source": [
    "# Creating a Lemma Field\n",
    "\n",
    "The `lemma` field strings Citation Form, Guide Word, and Part of Speech together and is dealt with in the same way as in Chapter 2.1 Words that remain unlemmatized (e.g. because of illegible or broken signs) are represented by their `form` and numbers receive the POS 'NU'. \n",
    "\n",
    "In the DataFrame (physical) breaks and text divisions (marked by horizontal rulings on the tablet, blank lines, and the like) are preserved in the field `state`. Such demarcations have their own entry in the DataFrame and receive their own line ID, but they do not have data in fields such as `form`. In order to keep track of breaks we will define two different types: logical and physical breaks. The keywords break_physical and break_logical are included in the `lemma` column. "
   ]
  },
  {
   "cell_type": "code",
   "execution_count": 7,
   "metadata": {},
   "outputs": [
    {
     "data": {
      "text/html": [
       "<div>\n",
       "<style scoped>\n",
       "    .dataframe tbody tr th:only-of-type {\n",
       "        vertical-align: middle;\n",
       "    }\n",
       "\n",
       "    .dataframe tbody tr th {\n",
       "        vertical-align: top;\n",
       "    }\n",
       "\n",
       "    .dataframe thead th {\n",
       "        text-align: right;\n",
       "    }\n",
       "</style>\n",
       "<table border=\"1\" class=\"dataframe\">\n",
       "  <thead>\n",
       "    <tr style=\"text-align: right;\">\n",
       "      <th></th>\n",
       "      <th>extent</th>\n",
       "      <th>scope</th>\n",
       "      <th>state</th>\n",
       "      <th>id_word</th>\n",
       "      <th>id_text</th>\n",
       "      <th>form</th>\n",
       "      <th>cf</th>\n",
       "      <th>gw</th>\n",
       "      <th>pos</th>\n",
       "      <th>ftype</th>\n",
       "      <th>label</th>\n",
       "      <th>id_line</th>\n",
       "      <th>lemma</th>\n",
       "    </tr>\n",
       "  </thead>\n",
       "  <tbody>\n",
       "    <tr>\n",
       "      <th>0</th>\n",
       "      <td>n</td>\n",
       "      <td>line</td>\n",
       "      <td>missing</td>\n",
       "      <td>P104232.3</td>\n",
       "      <td>P104232</td>\n",
       "      <td></td>\n",
       "      <td></td>\n",
       "      <td></td>\n",
       "      <td></td>\n",
       "      <td></td>\n",
       "      <td></td>\n",
       "      <td>3</td>\n",
       "      <td>break_physical</td>\n",
       "    </tr>\n",
       "    <tr>\n",
       "      <th>1</th>\n",
       "      <td></td>\n",
       "      <td></td>\n",
       "      <td></td>\n",
       "      <td>P104232.5.1</td>\n",
       "      <td>P104232</td>\n",
       "      <td>šu</td>\n",
       "      <td>šu</td>\n",
       "      <td>hand</td>\n",
       "      <td>N</td>\n",
       "      <td></td>\n",
       "      <td>r 1</td>\n",
       "      <td>5</td>\n",
       "      <td>šu[hand]N</td>\n",
       "    </tr>\n",
       "    <tr>\n",
       "      <th>2</th>\n",
       "      <td></td>\n",
       "      <td></td>\n",
       "      <td></td>\n",
       "      <td>P104232.5.2</td>\n",
       "      <td>P104232</td>\n",
       "      <td>ba-ti</td>\n",
       "      <td>teŋ</td>\n",
       "      <td>near</td>\n",
       "      <td>V/i</td>\n",
       "      <td></td>\n",
       "      <td>r 1</td>\n",
       "      <td>5</td>\n",
       "      <td>teŋ[near]V/i</td>\n",
       "    </tr>\n",
       "    <tr>\n",
       "      <th>3</th>\n",
       "      <td></td>\n",
       "      <td></td>\n",
       "      <td></td>\n",
       "      <td>P104232.6.1</td>\n",
       "      <td>P104232</td>\n",
       "      <td>ša₃</td>\n",
       "      <td>šag</td>\n",
       "      <td>heart</td>\n",
       "      <td>N</td>\n",
       "      <td></td>\n",
       "      <td>r 2</td>\n",
       "      <td>6</td>\n",
       "      <td>šag[heart]N</td>\n",
       "    </tr>\n",
       "    <tr>\n",
       "      <th>4</th>\n",
       "      <td></td>\n",
       "      <td></td>\n",
       "      <td></td>\n",
       "      <td>P104232.6.2</td>\n",
       "      <td>P104232</td>\n",
       "      <td>puzur₄-iš-{d}da-gan</td>\n",
       "      <td>Puzrišdagan</td>\n",
       "      <td>1</td>\n",
       "      <td>SN</td>\n",
       "      <td></td>\n",
       "      <td>r 2</td>\n",
       "      <td>6</td>\n",
       "      <td>Puzrišdagan[1]SN</td>\n",
       "    </tr>\n",
       "    <tr>\n",
       "      <th>5</th>\n",
       "      <td></td>\n",
       "      <td></td>\n",
       "      <td></td>\n",
       "      <td>P104232.7.1</td>\n",
       "      <td>P104232</td>\n",
       "      <td>iti</td>\n",
       "      <td>itud</td>\n",
       "      <td>moon</td>\n",
       "      <td>N</td>\n",
       "      <td></td>\n",
       "      <td>r 3</td>\n",
       "      <td>7</td>\n",
       "      <td>itud[moon]N</td>\n",
       "    </tr>\n",
       "    <tr>\n",
       "      <th>6</th>\n",
       "      <td></td>\n",
       "      <td></td>\n",
       "      <td></td>\n",
       "      <td>P104232.7.2</td>\n",
       "      <td>P104232</td>\n",
       "      <td>ki-siki-{d}nin-a-zu</td>\n",
       "      <td>Kisikininazuk</td>\n",
       "      <td>1</td>\n",
       "      <td>MN</td>\n",
       "      <td></td>\n",
       "      <td>r 3</td>\n",
       "      <td>7</td>\n",
       "      <td>Kisikininazuk[1]MN</td>\n",
       "    </tr>\n",
       "    <tr>\n",
       "      <th>7</th>\n",
       "      <td></td>\n",
       "      <td></td>\n",
       "      <td></td>\n",
       "      <td>P104232.7.3</td>\n",
       "      <td>P104232</td>\n",
       "      <td>min-kam</td>\n",
       "      <td>min</td>\n",
       "      <td>two</td>\n",
       "      <td>NU</td>\n",
       "      <td></td>\n",
       "      <td>r 3</td>\n",
       "      <td>7</td>\n",
       "      <td>min[two]NU</td>\n",
       "    </tr>\n",
       "    <tr>\n",
       "      <th>8</th>\n",
       "      <td></td>\n",
       "      <td></td>\n",
       "      <td></td>\n",
       "      <td>P104232.8.1</td>\n",
       "      <td>P104232</td>\n",
       "      <td>mu</td>\n",
       "      <td>mu</td>\n",
       "      <td>year</td>\n",
       "      <td>N</td>\n",
       "      <td>yn</td>\n",
       "      <td>r 4</td>\n",
       "      <td>8</td>\n",
       "      <td>mu[year]N</td>\n",
       "    </tr>\n",
       "    <tr>\n",
       "      <th>9</th>\n",
       "      <td></td>\n",
       "      <td></td>\n",
       "      <td></td>\n",
       "      <td>P104232.8.2</td>\n",
       "      <td>P104232</td>\n",
       "      <td>si-mu-ru-um{ki}</td>\n",
       "      <td>Si.mu.ru.um</td>\n",
       "      <td>00</td>\n",
       "      <td>SN</td>\n",
       "      <td>yn</td>\n",
       "      <td>r 4</td>\n",
       "      <td>8</td>\n",
       "      <td>Si.mu.ru.um[00]SN</td>\n",
       "    </tr>\n",
       "  </tbody>\n",
       "</table>\n",
       "</div>"
      ],
      "text/plain": [
       "  extent scope    state      id_word  id_text                 form  \\\n",
       "0      n  line  missing    P104232.3  P104232                        \n",
       "1                        P104232.5.1  P104232                   šu   \n",
       "2                        P104232.5.2  P104232                ba-ti   \n",
       "3                        P104232.6.1  P104232                  ša₃   \n",
       "4                        P104232.6.2  P104232  puzur₄-iš-{d}da-gan   \n",
       "5                        P104232.7.1  P104232                  iti   \n",
       "6                        P104232.7.2  P104232  ki-siki-{d}nin-a-zu   \n",
       "7                        P104232.7.3  P104232              min-kam   \n",
       "8                        P104232.8.1  P104232                   mu   \n",
       "9                        P104232.8.2  P104232      si-mu-ru-um{ki}   \n",
       "\n",
       "              cf     gw  pos ftype label  id_line               lemma  \n",
       "0                                               3      break_physical  \n",
       "1             šu   hand    N         r 1        5           šu[hand]N  \n",
       "2            teŋ   near  V/i         r 1        5        teŋ[near]V/i  \n",
       "3            šag  heart    N         r 2        6         šag[heart]N  \n",
       "4    Puzrišdagan      1   SN         r 2        6    Puzrišdagan[1]SN  \n",
       "5           itud   moon    N         r 3        7         itud[moon]N  \n",
       "6  Kisikininazuk      1   MN         r 3        7  Kisikininazuk[1]MN  \n",
       "7            min    two   NU         r 3        7          min[two]NU  \n",
       "8             mu   year    N    yn   r 4        8           mu[year]N  \n",
       "9    Si.mu.ru.um     00   SN    yn   r 4        8   Si.mu.ru.um[00]SN  "
      ]
     },
     "execution_count": 7,
     "metadata": {},
     "output_type": "execute_result"
    }
   ],
   "source": [
    "physical_break = ['illegible', 'traces', 'missing', 'effaced']\n",
    "logical_break = ['other', 'blank', 'ruling']\n",
    "words['lemma'] = words[\"cf\"] + '[' + words[\"gw\"] + ']' + words[\"pos\"]\n",
    "words.loc[words[\"cf\"] == \"\" , 'lemma'] = words['form'] + '[NA]NA'\n",
    "words.loc[words[\"pos\"] == \"n\" , 'lemma'] = words['form'] + '[]NU'\n",
    "words.loc[words[\"state\"].isin(logical_break), 'lemma'] = \"break_logical\"\n",
    "words.loc[words[\"state\"].isin(physical_break), 'lemma'] = \"break_physical\"\n",
    "words.head(10)"
   ]
  },
  {
   "cell_type": "markdown",
   "metadata": {},
   "source": [
    "# Proper Nouns in the Ur III Corpus\n",
    "## The Name Authority\n",
    "\n",
    "In order to build a network of interactions between individuals in the Treasury corpus we need to be able to extract proper nouns. The lemmatization of proper nouns in this corpus is still in early stages, so that we cannot fully rely on the lemmatized data as represented in our DataFrame. A list of all proper nouns from Drehem texts was put together by John Carnahan and Niek Veldhuis, based on the Drehem texts in [BDTNS](http://bdtns.filol.csic.es/), December 2016. This list includes the form of each name (in transliteration) plus a normalization of that name in [epsd2](http://oracc.org/epsd2) style. The list includes spelling variants as well as names with morphology. Thus, **Ur-{d}en-lil₂**, **Ur-{d}en-lil₂-la₂**, and **Ur-{d}en-lil₂-la₂-ta** are all listed seperately, and are all associated with the same name, as follows: \n",
    "```csv\n",
    "Ur-{d}En-lil₂,UrEnlilak[]PN,\n",
    "Ur-{d}En-lil₂-la₂,UrEnlilak[]PN,\n",
    "Ur-{d}En-lil₂-la₂-še₃,UrEnlilak[]PN,\n",
    "Ur-{d}En-lil₂-la₂-ka-še₃,UrEnlilak[]PN,\n",
    "Ur-{d}En-lil₂-la₂-ka-ta,UrEnlilak[]PN,\n",
    "Ur-{d}En-lil₂-la₂-ke₄,UrEnlilak[]PN,\n",
    "Ur-{d}En-lil₂-la₂-ta,UrEnlilak[]PN,\n",
    "Ur-{d}En-lil₂-ta,UrEnlilak[]PN,\n",
    "```\n",
    "Similarly, name instances that have different spellings but belong to the same person are associated with one normalized form of that name, as in: \n",
    "```csv\n",
    "{d}Šul-gi-si-im-ti,Šulgisimti[]PN, \n",
    "{d}Šul-gi-si-im-tum,Šulgisimti[]PN,\n",
    "```\n",
    "\n",
    "The list includes all name forms from Drehem (in 2016), currently almost 6,000 entries. \n",
    "\n",
    "We will use this list (`drehem_norm_names.csv`, available in the `Normalized` directory) to find proper nouns (Personal Names, Divine Names, Geographical Names, etc.) in our DataFrame and to create more reliable lemmatizations than [epsd2](http://oracc.org/epsd2) can offer today."
   ]
  },
  {
   "cell_type": "code",
   "execution_count": 8,
   "metadata": {},
   "outputs": [
    {
     "data": {
      "text/html": [
       "<div>\n",
       "<style scoped>\n",
       "    .dataframe tbody tr th:only-of-type {\n",
       "        vertical-align: middle;\n",
       "    }\n",
       "\n",
       "    .dataframe tbody tr th {\n",
       "        vertical-align: top;\n",
       "    }\n",
       "\n",
       "    .dataframe thead th {\n",
       "        text-align: right;\n",
       "    }\n",
       "</style>\n",
       "<table border=\"1\" class=\"dataframe\">\n",
       "  <thead>\n",
       "    <tr style=\"text-align: right;\">\n",
       "      <th></th>\n",
       "      <th>transliteration</th>\n",
       "      <th>normalization</th>\n",
       "      <th>remarks</th>\n",
       "    </tr>\n",
       "  </thead>\n",
       "  <tbody>\n",
       "    <tr>\n",
       "      <th>0</th>\n",
       "      <td>A-AN-ba-az</td>\n",
       "      <td>A.AN.ba.az[]PN</td>\n",
       "      <td>MVN 13 464 r 10 (copy/photo)</td>\n",
       "    </tr>\n",
       "    <tr>\n",
       "      <th>1</th>\n",
       "      <td>A-KU-um</td>\n",
       "      <td>A.KU.um[]PN</td>\n",
       "      <td>Aegyptus 10, 270 27 o 7 (copy)</td>\n",
       "    </tr>\n",
       "    <tr>\n",
       "      <th>2</th>\n",
       "      <td>A-KU.KU-ta</td>\n",
       "      <td>A.KU.KU[]PN</td>\n",
       "      <td>AnOr 12 277 o i 17' (copy)</td>\n",
       "    </tr>\n",
       "    <tr>\n",
       "      <th>3</th>\n",
       "      <td>A-NI-ta</td>\n",
       "      <td>A.NI[]PN</td>\n",
       "      <td>Babyl. 7 pl. 22 18 o 3 (copy)</td>\n",
       "    </tr>\n",
       "    <tr>\n",
       "      <th>4</th>\n",
       "      <td>A-U.E₂-nu-tuku</td>\n",
       "      <td>A.U.E₂.nu.tuku[]PN</td>\n",
       "      <td>AnOr 07 150 o 2: A-U.KID-nu-tuku IŠ (copy/photo)</td>\n",
       "    </tr>\n",
       "    <tr>\n",
       "      <th>...</th>\n",
       "      <td>...</td>\n",
       "      <td>...</td>\n",
       "      <td>...</td>\n",
       "    </tr>\n",
       "    <tr>\n",
       "      <th>5802</th>\n",
       "      <td>{d}utu</td>\n",
       "      <td>Utu[]DN</td>\n",
       "      <td></td>\n",
       "    </tr>\n",
       "    <tr>\n",
       "      <th>5803</th>\n",
       "      <td>{d}utu-bar-ra</td>\n",
       "      <td>Utubara[]DN</td>\n",
       "      <td></td>\n",
       "    </tr>\n",
       "    <tr>\n",
       "      <th>5804</th>\n",
       "      <td>Ma₂-gur₈-mah</td>\n",
       "      <td>Magurmah[]ON</td>\n",
       "      <td></td>\n",
       "    </tr>\n",
       "    <tr>\n",
       "      <th>5805</th>\n",
       "      <td>Ma₂-dara₃-abzu</td>\n",
       "      <td>Madaraʾabzu[]ON</td>\n",
       "      <td></td>\n",
       "    </tr>\n",
       "    <tr>\n",
       "      <th>5806</th>\n",
       "      <td>Lugal-uri₅{ki}-e-ki-ag₂</td>\n",
       "      <td>LugalUrimekiʾaŋ[]ON</td>\n",
       "      <td></td>\n",
       "    </tr>\n",
       "  </tbody>\n",
       "</table>\n",
       "<p>5807 rows × 3 columns</p>\n",
       "</div>"
      ],
      "text/plain": [
       "              transliteration        normalization  \\\n",
       "0                  A-AN-ba-az       A.AN.ba.az[]PN   \n",
       "1                     A-KU-um          A.KU.um[]PN   \n",
       "2                  A-KU.KU-ta          A.KU.KU[]PN   \n",
       "3                     A-NI-ta             A.NI[]PN   \n",
       "4              A-U.E₂-nu-tuku   A.U.E₂.nu.tuku[]PN   \n",
       "...                       ...                  ...   \n",
       "5802                   {d}utu              Utu[]DN   \n",
       "5803            {d}utu-bar-ra          Utubara[]DN   \n",
       "5804             Ma₂-gur₈-mah         Magurmah[]ON   \n",
       "5805           Ma₂-dara₃-abzu      Madaraʾabzu[]ON   \n",
       "5806  Lugal-uri₅{ki}-e-ki-ag₂  LugalUrimekiʾaŋ[]ON   \n",
       "\n",
       "                                               remarks  \n",
       "0                         MVN 13 464 r 10 (copy/photo)  \n",
       "1                       Aegyptus 10, 270 27 o 7 (copy)  \n",
       "2                           AnOr 12 277 o i 17' (copy)  \n",
       "3                        Babyl. 7 pl. 22 18 o 3 (copy)  \n",
       "4     AnOr 07 150 o 2: A-U.KID-nu-tuku IŠ (copy/photo)  \n",
       "...                                                ...  \n",
       "5802                                                    \n",
       "5803                                                    \n",
       "5804                                                    \n",
       "5805                                                    \n",
       "5806                                                    \n",
       "\n",
       "[5807 rows x 3 columns]"
      ]
     },
     "execution_count": 8,
     "metadata": {},
     "output_type": "execute_result"
    }
   ],
   "source": [
    "normdf = pd.read_csv('Normalized/drehem_norm_names.csv', encoding='utf8')\n",
    "normdf"
   ]
  },
  {
   "cell_type": "markdown",
   "metadata": {},
   "source": [
    "# Reduce Names to Sign Sequences\n",
    "\n",
    "Many Proper Nouns may validly be transcribed in different ways. Sometimes that is the case because the name is not fully understood or of foreign origin. The city name **a-dam-DUN{ki}** is read variously **a-dam-šah₂{ki}**, **a-dam-dun{ki}**, or **a-dam-DUN{ki}** by different scholars. For a network, the correct reading is of less importance than a consistent reading. All these readings reflect a sign sequence **A DAM DUN KI**, a sequence of signs that cannot plausibly be anything else than a reference to this city.\n",
    "\n",
    "We will, therefore, use the ORACC Global Sign List ([ogsl](http://oracc.org/ogsl) to transform each name form in our name authority into a sequence of signs. We will do the same with the column `form` of our DataFrame to find matching sign sequences.\n",
    "\n",
    "Much of the code in the following cells is equivalent to code in Chapter 2.4, where we developed a tool for searching signs in [bdtns](http://bdtns.filol.csic.es/) data.\n",
    "\n",
    "# Download OGSL\n",
    "\n",
    "Using code developed in Chapter 2, download the file `ogsl.zip`, which contains all of the [OGSL](http://oracc.org/ogsl) data (sign names and sign readings) in JSON format."
   ]
  },
  {
   "cell_type": "code",
   "execution_count": 9,
   "metadata": {},
   "outputs": [
    {
     "name": "stdout",
     "output_type": "stream",
     "text": [
      "Saving http://build-oracc.museum.upenn.edu/json/ogsl.zip as jsonzip/ogsl.zip.\n"
     ]
    },
    {
     "data": {
      "application/vnd.jupyter.widget-view+json": {
       "model_id": "f30d0ff562934dc79a30df3c6ddf12be",
       "version_major": 2,
       "version_minor": 0
      },
      "text/plain": [
       "HBox(children=(FloatProgress(value=0.0, description='ogsl', max=208823.0, style=ProgressStyle(description_widt…"
      ]
     },
     "metadata": {},
     "output_type": "display_data"
    }
   ],
   "source": [
    "oracc_download(['ogsl']);"
   ]
  },
  {
   "cell_type": "markdown",
   "metadata": {},
   "source": [
    "# Sign Equivalencies\n",
    "\n",
    "In the Ur III period, some signs that are differentiated in [OGSL](http://oracc.org/ogsl) have fallen together. For instance, **DUR₂** and **KU**, which are separate in the Fara period, are represented by the same sign in Ur III. Such signs are listed in the following dictionary. A compiled regular expression is used to replace sign names where appropriate."
   ]
  },
  {
   "cell_type": "code",
   "execution_count": 10,
   "metadata": {},
   "outputs": [],
   "source": [
    "equiv = {'ANŠE' : 'GIR₃', \n",
    "        'DUR₂' : 'KU', \n",
    "        'NAM₂' : 'TUG₂', \n",
    "        'TIL' : 'BAD', \n",
    "        'NI₂' : 'IM',\n",
    "        'ŠAR₂' : 'HI', \n",
    "        }\n",
    "w = re.compile(r'\\w+') # replace whole words only - do not replace TILLA with BADLA.\n",
    "           # but do replace |SAL.ANŠE| with |SAL.GIR₃|"
   ]
  },
  {
   "cell_type": "markdown",
   "metadata": {},
   "source": [
    "# Parse OGSL\n",
    "The parse function uses the `equiv` dictionary and the compiled regular expression to fill a dictionary, associating each valid sign reading with a sign name."
   ]
  },
  {
   "cell_type": "code",
   "execution_count": 11,
   "metadata": {},
   "outputs": [],
   "source": [
    "def parseogsljson(data_json):\n",
    "    for key, value in data_json[\"signs\"].items():\n",
    "        key = re.sub(w, lambda m: equiv.get(m.group(), m.group()), key)\n",
    "        if \"values\" in value:\n",
    "            for n in value[\"values\"]:\n",
    "                d2[n] = key\n",
    "    return"
   ]
  },
  {
   "cell_type": "markdown",
   "metadata": {},
   "source": [
    "# Call the OGSL parser\n",
    "Calling  the function in the previous cell, a dictionary is formed where each `key` is a sign value and each `value` a sign name."
   ]
  },
  {
   "cell_type": "code",
   "execution_count": 12,
   "metadata": {},
   "outputs": [
    {
     "name": "stdout",
     "output_type": "stream",
     "text": [
      "\n"
     ]
    }
   ],
   "source": [
    "d2 = {}  # this empty dictionary is filled by the parsejson() function, called in this cell.\n",
    "file = \"jsonzip/ogsl.zip\"\n",
    "z = zipfile.ZipFile(file) \n",
    "filename = \"ogsl/ogsl-sl.json\"\n",
    "signlist = z.read(filename).decode('utf-8')\n",
    "data_json = json.loads(signlist)                # make it into a json object (essentially a dictionary)\n",
    "parseogsljson(data_json)  \n",
    "with open('output/ogsl_dict.p', 'wb') as p:\n",
    "    pickle.dump(d2, p)  "
   ]
  },
  {
   "cell_type": "code",
   "execution_count": 13,
   "metadata": {},
   "outputs": [],
   "source": [
    "separators = ['{', '}', '-']\n",
    "separators2 = ['.', '+', '|']  # used in compound signs\n",
    "#operators = ['&', '%', '@', '×']\n",
    "flags = \"][?<>⸢⸣⌈⌉*/\" # note that ! is omitted from flags, because it is dealt with separately\n",
    "table = str.maketrans(dict.fromkeys(flags))"
   ]
  },
  {
   "cell_type": "code",
   "execution_count": 14,
   "metadata": {},
   "outputs": [],
   "source": [
    "def signnames(translit):  \n",
    "    \"\"\"This function takes a string of transliterated cuneiform text and translates that string into a string of\n",
    "    sign names, separated by spaces. In order to work it needs the variables separators, separators2, flags, and table defined above. The variable table\n",
    "    is used by the translate() method to translate all flags (except for !) to None. The function also needs a dictionary, called d2, that has as\n",
    "    keys sign readings and sign names as corresponding values. In case a key is not found, the sign reading is replaced by itself.\"\"\"\n",
    "    signnames_l = []\n",
    "    translit = translit.translate(table).lower()  # remove flags, half brackets, square brackets.\n",
    "    translit = translit.replace('...', 'x')\n",
    "    for s in separators: # split transliterated form into signs   \n",
    "        translit = translit.replace(s, ' ').strip()\n",
    "    s_l = translit.split() # s_l is a list that contains the sequence of transliterated signs without separators or flags\n",
    "    s_l = [d2.get(sign, sign) for sign in s_l] # replace each transliterated sign with its sign name.\n",
    "    # Now take care of some special situations: signs with qualifiers, compound signs.\n",
    "    for sign in s_l:\n",
    "        if '!' in sign: # corrected sign, as in ka!(SAG), get only the corrected reading.\n",
    "            sign = sign.split('!(')[0]\n",
    "            sign = sign.replace('!', '') # remove remaining exclamation marks\n",
    "        elif sign[-1] == ')' and '(' in sign: # qualified sign, as in ziₓ(SIG₇) - get only the qualifier\n",
    "            sign = sign.split('(')[1][:-1]\n",
    "        if '×' in sign: #compound. Compound like |KA×NINDA| to be replaced by |KA×GAR|\n",
    "            sign_l = sign.replace('|', '').split('×')\n",
    "            #replace individual signs of the compound by OGSL names\n",
    "            sign_l = [d2.get(sign, sign) for sign in sign_l] \n",
    "            # if user enters |KA*EŠ| this is transformed to ['KA', '|U.U.U|']. The pipes around U.U.U must be replaced by brackets\n",
    "            sign_l = [f'({sign[1:-1]})' if len(sign) > 1 and sign[0] == '|' else sign for sign in sign_l]\n",
    "            sign = f\"|{'×'.join(sign_l)}|\"  #put the sign together again with enclosing pipes.\n",
    "        elif '.' in sign or '+' in sign: # using elif, so that compounds like |UD×(U.U.U)| are not further analyzed.\n",
    "            for s in separators2:\n",
    "                sign = sign.replace(s, ' ').strip() \n",
    "            sign_l = sign.split()  # compound sign split into multiple signs\n",
    "            sign_l = [d2.get(sign, sign) for sign in sign_l]\n",
    "            for se in separators2:   # in case d2.get returns a compound sign name\n",
    "                sign_l = [si.replace(se, ' ').strip() for si in sign_l]\n",
    "            signnames_l.extend(sign_l)\n",
    "            continue\n",
    "        sign = d2.get(sign, sign)\n",
    "        signnames_l.append(sign)\n",
    "    # add space before and after each line so that each sign representation is enclosed in spaces\n",
    "    signnames = f\" {' '.join(signnames_l).upper()} \" \n",
    "    return signnames"
   ]
  },
  {
   "cell_type": "markdown",
   "metadata": {},
   "source": [
    "# Create a Column Sign_Names\n",
    "Use the function in the cell above to add a new column column, called `sign_names` to  the name authority (the DataFrame `normdf`) and to the `words` DataFrame."
   ]
  },
  {
   "cell_type": "code",
   "execution_count": 15,
   "metadata": {},
   "outputs": [
    {
     "data": {
      "application/vnd.jupyter.widget-view+json": {
       "model_id": "529dab4a68df495cba9b2fc8e9113695",
       "version_major": 2,
       "version_minor": 0
      },
      "text/plain": [
       "HBox(children=(FloatProgress(value=0.0, max=5807.0), HTML(value='')))"
      ]
     },
     "metadata": {},
     "output_type": "display_data"
    },
    {
     "name": "stdout",
     "output_type": "stream",
     "text": [
      "\n"
     ]
    },
    {
     "data": {
      "application/vnd.jupyter.widget-view+json": {
       "model_id": "19305a3a2af14f95b128a570f919152b",
       "version_major": 2,
       "version_minor": 0
      },
      "text/plain": [
       "HBox(children=(FloatProgress(value=0.0, max=11477.0), HTML(value='')))"
      ]
     },
     "metadata": {},
     "output_type": "display_data"
    },
    {
     "name": "stdout",
     "output_type": "stream",
     "text": [
      "\n"
     ]
    }
   ],
   "source": [
    "normdf[\"sign_names\"] = normdf[\"transliteration\"].progress_map(signnames)\n",
    "words['sign_names'] = words['form'].progress_map(signnames)"
   ]
  },
  {
   "cell_type": "markdown",
   "metadata": {},
   "source": [
    "# Proper Noun Dictionary\n",
    "Transform the Name Authority in a dictionary with `sign_names` as key and `normalization` as value and use this dictionary to transform words marked as Proper Nouns or 'X' (unknown) in the Part of Speech (`pos`) column into normalized names."
   ]
  },
  {
   "cell_type": "code",
   "execution_count": 16,
   "metadata": {},
   "outputs": [
    {
     "data": {
      "application/vnd.jupyter.widget-view+json": {
       "model_id": "1f398a7ed26943a8afabd0e278146603",
       "version_major": 2,
       "version_minor": 0
      },
      "text/plain": [
       "HBox(children=(FloatProgress(value=0.0, max=11477.0), HTML(value='')))"
      ]
     },
     "metadata": {},
     "output_type": "display_data"
    },
    {
     "name": "stdout",
     "output_type": "stream",
     "text": [
      "\n"
     ]
    }
   ],
   "source": [
    "proper_nouns = ['RN', 'PN', 'DN', 'AN', 'WN', 'ON', 'TN', 'CN', 'GN', 'SN']\n",
    "normd2 = dict(zip(normdf['sign_names'], normdf['normalization']))\n",
    "words.loc[words.pos.isin(proper_nouns + ['X']), 'lemma'] = words.progress_apply(lambda x: normd2.get(x['sign_names'], x['lemma']), axis=1)"
   ]
  },
  {
   "cell_type": "markdown",
   "metadata": {},
   "source": [
    "# Apply Corrections\n",
    "The Ur III data sets as represented in [epsd2/admin/ur3](http://oracc.org/epsd2/admin/ur3) may still contain errors, which will  surface later in the process. For instance, a name does not show up in the analysis, because it has not been lemmatized as a name. Or, the other way around, a word may have been falsely lemmatized as a name. When found, such errors can be corrected (temporarily, until they get corrected in the source files) in the file `corrections.csv` in the directory `Normalized`, associating forms with correct lemmatizations. The final line of code in this cell will correct the column `pos` when necessary."
   ]
  },
  {
   "cell_type": "code",
   "execution_count": 17,
   "metadata": {},
   "outputs": [
    {
     "data": {
      "application/vnd.jupyter.widget-view+json": {
       "model_id": "0849a60938ec47308f7872b6fca9f1db",
       "version_major": 2,
       "version_minor": 0
      },
      "text/plain": [
       "HBox(children=(FloatProgress(value=0.0, max=11477.0), HTML(value='')))"
      ]
     },
     "metadata": {},
     "output_type": "display_data"
    },
    {
     "name": "stdout",
     "output_type": "stream",
     "text": [
      "\n"
     ]
    }
   ],
   "source": [
    "corrections = pd.read_csv('Normalized/corrections.csv', encoding='utf8')\n",
    "corr_d = dict(zip(corrections['form'], corrections['corr']))\n",
    "words.loc[words.pos.isin(proper_nouns + ['X']), 'lemma'] = words.progress_apply(lambda x: corr_d.get(x['form'], x['lemma']), axis =1)\n",
    "words['pos'] = [w.split(']')[-1] if ']' in w else '' for w in words['lemma']]"
   ]
  },
  {
   "cell_type": "markdown",
   "metadata": {},
   "source": [
    "# Document Typology\n",
    "Different types of documents will be treated differently. In the Treasure Archive the main document types are Intake, Expenditure, and Transfer.\n",
    "\n",
    "|  type           | keyword         | lemma(s)              | description |\n",
    "|----------------|------------------|-----------------------|-------------|\n",
    "| Intake      | mu-kuₓ(DU)      | mu.DU\\[delivery\\]N      | materials delivered to the administration |\n",
    "| Expenditure | ba-zi or zi-ga  | zig[rise]V/i          | materials expended by the administration |\n",
    "| Transfer    | šu ba-ti        | šu\\[hand\\]N teŋ\\[near\\]V/i | materials transfered from one office to another |\n",
    "\n",
    "In the great majority of cases they canbe identified simply by looking  for the keyword lemmas.\n",
    "\n",
    "This typology is discussed in much detail in Paoletti's *Der König und sein Kreis* (2012), Chapter 2.1 and 3.1."
   ]
  },
  {
   "cell_type": "code",
   "execution_count": 18,
   "metadata": {},
   "outputs": [],
   "source": [
    "texttype = []\n",
    "for i in ids:\n",
    "    ttype = ''\n",
    "    text = list(words.loc[words.id_text == i, 'lemma'])\n",
    "    if 'mu.DU[delivery]N' in text:\n",
    "        ttype = 'intake'\n",
    "    elif 'zig[rise]V/i' in text:\n",
    "        ttype = 'expenditure'\n",
    "    elif 'teŋ[near]V/i' in text: \n",
    "        ttype = 'transfer'\n",
    "    texttype.append(ttype)\n",
    "treasure = dict(zip(ids, texttype))"
   ]
  },
  {
   "cell_type": "markdown",
   "metadata": {},
   "source": [
    "# Proper Nouns\n",
    "\n",
    "For the node list, select Personal Names (PN) and Royal Names (RN) but skip those that appear in Year Names or Seals. Add lugal (king) sukkalmah (prime minister) and nin (queen), because these actors may be mentioned without personal name."
   ]
  },
  {
   "cell_type": "code",
   "execution_count": 19,
   "metadata": {},
   "outputs": [],
   "source": [
    "unnamed = {'lugal[king]N', 'nin[queen]N', 'sukkalmah[official]N'}\n",
    "names = set(words.loc[words.pos.isin(['PN', 'RN', 'DN']), 'lemma'])\n",
    "actors = unnamed | names\n",
    "seal = list(words.loc[words.label.str.contains('seal'), 'id_word'])\n",
    "yn = list(words.loc[words.ftype == 'yn', 'id_word'])\n",
    "exclude = seal + yn\n",
    "PNs = words.loc[(words.lemma.isin(actors)) & (~words.id_word.isin(exclude))].copy()"
   ]
  },
  {
   "cell_type": "markdown",
   "metadata": {},
   "source": [
    "# Define keywords and the corresponding roles\n",
    "The accounts use key words to indicate the particular role of each person in a document. Some of these key words (or key phrases, in some instances) follow the Proper Noun, others precede it. Thus when the word **ŋiri\\[foot\\]N** immediately precedes a Personal Name, that person is an intermediary (or transporter). A Personal Name followed by **šu\\[hand\\]N teŋ\\[near\\]V/i** marks the recipient of goods.\n",
    "\n",
    "The keywords are associated with a role in two separate dictionaries."
   ]
  },
  {
   "cell_type": "code",
   "execution_count": 20,
   "metadata": {},
   "outputs": [],
   "source": [
    "key_post = {'mu.DU[delivery]N': 'deliverer', 'maškim[administrator]N' : 'representative', \n",
    "               'zig[rise]V/i' : 'expender',\n",
    "               'šu[hand]N teŋ[near]V/i': 'recipient' , 'šu[hand]N us[follow]V/t': 'sender'}\n",
    "key_pre =  {'ŋiri[foot]N' : 'intermediary', \n",
    "            'arua[offering]N' : 'offerer', 'kišib[seal]N' : 'sealer', \n",
    "            'gabari[copy]N kišib[seal]N' : 'sealer', 'mu.DU[delivery]N' : 'deliverer',\n",
    "            'mu[name]N' : 'reason', 'ki[place]N' : 'source', 'kiŋ[work]N ak[do]V/t' : 'producer'}"
   ]
  },
  {
   "cell_type": "markdown",
   "metadata": {},
   "source": [
    "# Determine the Role of each PN\n",
    "The role of a personal name in an administrative texts is determined by keywords before of after the name. The keywords and their corresponding roles are defined in the dictionaries `key_post` and `key_pre` in the preceding cell.\n",
    "\n",
    "The DataFrame `PNs`, created above, is an extract from the DataFrame `words` and therefore uses the same indexes. If the index of a Personal Name in `PNs` is `i`, then the word before that name is `words.loc[i-1]`.\n",
    "\n",
    "We iterate over the index numbers in `PNs` to determine which keywords are found before or after. Before doing so we determine the extent of a document by finding the lowest and highest index number with the same `id_text` as the personal name we are dealing with. Similarly, we can define the extent of the line on which the name is found by finding the lowest and highest index number of the words within the document that share the same `id_line`. With these index numbers we can easily see whether a name is in first position in a line (its index equals the lowest index of that line) or what the last word is in the line in which a PN appears. We can also check to make sure that when we inspect the next line, this line still belongs to the same document. Working with indexes this way is very fast and flexible - we do not have to look up the P number (in `id_text`) every time, or check the `id_line` field.\n",
    "\n",
    "Keywords that come *after* the name may be separated from that name by one or more positions, as in:\n",
    "> \tARAD₂-{d}nanna sukkal maškim\t\t\tAradNanna the messenger was representative.\" \n",
    "\n",
    "In practice the keyword is always the last word on the line, or the first on the next line, as in:\n",
    "> \tlu₂-{d}nanna šagina nag-suki-ke₄ \t\tLuNanna the military leader of Nagsu </br>\n",
    "> \tšu ba-ti \t\t\t\t\t\t\t\treceived\n",
    "\n",
    "Therefore, if the PN is the first word on the line, we can check  to see if the last word on the line is a keyword and, if so, assign a role to the PN. We can also look at the first word (or two words) of the next line, to see if there is a keyword in that position. Any word following the PN that is not a keyword is considered an attribute (a father's name, a profession, etc.).\n",
    "\n",
    "If the PN is not the first word on the line (its index number is higher than the lowest index number of that line), one possibility is that it is preceded by a keyword, as in:\n",
    "> \tki lu₂-dingir-ra-ta\t\t\t\t\tfrom Ludingira\n",
    "\n",
    "If there is a preceding keyword, we use the `key_pre` dictionary to assign a role. But a PN later in the line may also be the name of a parent (PN1 dumu PN2) or some other relative, or, occasionally, the name of an employer, as in:\n",
    "> \tgiri₃ a-bu-du₁₀ lu₂ a-bu-ni-ka\t\tTransporter: Abuṭāb the man of Abuni\n",
    "\n",
    "In the case of Abuni, his name is not preceded by a keyword, but there is another PN earlier in the line. Abuni does not have a role in the document directly, but he is involved indirectly by his relation of authority to Abuṭāb. In such cases the role is defined as 'relation'. \n",
    "\n",
    "If none of these methods results in a role assignment, we fall back to default roles. Default roles are different for different document types. Transfer texts (keywords šu ba-ti) and Intake (mu.DU\\[delivery\\]N) may record deliveries by multiple people who are not specifically marked with a keyword. The default in those texts is \"source\". Expenditure texts (zi-ga or ba-zi) may record expenditures to various people, notmarked specifically. Here the default is \"recipient\".\n",
    "\n",
    "The code takes care of a few special cases. If a name is preceded by u\\[and\\]CNJ the role of that name is the same as the role of the preceding name. The expression ki PN-še₃ (\"to the place of\") appears a few times in this archive, but is otherwise very rare in Ur III. It uses the same keyword ki\\[place\\]N as the very common expression ki PN-ta (\"from the place of\") but has the opposite meaning. Since the morphology (-ta vs. -še₃) is not available in the `lemma` column we have to use the `form` column to check for such instances. The expression kin ak, which precedes the name of a craftsman (finished work of ...) may be found on the line preceding the name.\n",
    "\n",
    "Much of the code here might be used in the same way for other Ur III archives, but it is likely that there will be other keywords and other special cases that need to be taken care of."
   ]
  },
  {
   "cell_type": "code",
   "execution_count": 21,
   "metadata": {},
   "outputs": [],
   "source": [
    "role = []\n",
    "attribute = []\n",
    "for i in PNs.index:                           # the index of PNs is identical to the one of words\n",
    "    Pno = PNs.loc[i]['id_text']                    # the text ID (P number)\n",
    "    lineno = PNs.loc[i]['id_line']                 # the line number in which the PN appears\n",
    "    text = words.loc[words.id_text == Pno]                # the entire text\n",
    "    line = text.loc[text.id_line == lineno] #  the line with the PN\n",
    "    mnw = min(line.index)                 # index no of firstword in line\n",
    "    mxw = max(line.index)                   # index no. of last word in line\n",
    "    mn = min(text.index)                    # index no. of firstword in text\n",
    "    mx = max(text.index)                    # index no. of last word in text\n",
    "    mxl = text.loc[mx]['id_line']          # highest line number in text\n",
    "    if lineno < mxl:                       # check that nextline is still in the same text\n",
    "        nextlno = words.loc[mxw+1]['id_line']\n",
    "        nextline = text.loc[text.id_line == nextlno] # words in nextline\n",
    "    else:\n",
    "        nextline = line\n",
    "    attr = []\n",
    "    r = ''\n",
    "    if i < mxw:  # PN is not the last word of the line\n",
    "        attr = list(line.loc[i+1:]['lemma'])   # all words following a PN are attributes\n",
    "        attr = [w for w in attr if not w in key_post]  # except for keywords\n",
    "        if len(attr) > 1: \n",
    "            if ' '.join(attr[-2:]) in key_post: # or multi-word keywords\n",
    "                attr = []\n",
    "    if mnw == i:               # PN in first position\n",
    "        r = key_post.get(line.loc[mxw]['lemma'], r)    # keyword appears in same line in last position\n",
    "        r = key_post.get(words.loc[mxw+1]['lemma'], r) # or in the next line in first position\n",
    "        if len(line) > 1: \n",
    "            lastwords = ' '.join(list(line[-2:]['lemma'])) # two-word keywords (as in šu ba-ti)\n",
    "            r = key_post.get(lastwords, r)\n",
    "        if len(nextline) > 1:               # two-word keyword appearing in first position in next line\n",
    "            firstwords = ' '.join(list(nextline[:2]['lemma']))\n",
    "            r = key_post.get(firstwords, r) \n",
    "        if i > mn + 1:  # special case: if kin ak is found on preceding line \n",
    "            preceding2words = ' '.join(list(words.loc[i-2:i-1]['lemma']))\n",
    "            if preceding2words == 'kiŋ[work]N ak[do]V/t': \n",
    "                r = 'producer'\n",
    "    elif i > mnw:             # PN appears further in line with keyword(s) preceding\n",
    "        firstwords = ' '.join(list(line.loc[mnw:i-1]['lemma']))  # join all words before PN\n",
    "        r = key_pre.get(firstwords, r)        # ŋiri₃ PN; ki PN-ta; kin ak PN; etc\n",
    "        if line.loc[mnw]['lemma'] == 'ki[place]N' and line.loc[mxw]['form'].endswith('-še₃'): \n",
    "            r = 'destination'              # special case: ki PN-še₃         \n",
    "        if r == '':                # role has not been filled yet\n",
    "            PN = [w for w in line.loc[mnw:i-1]['lemma'] if w in list(PNs['lemma'])] # is there another PN previously in the line?\n",
    "            if PN:\n",
    "                if words.loc[i-1]['lemma'] == 'u[and]CNJ':\n",
    "                    r = role[-1]               # same role as previous PN\n",
    "                else:\n",
    "                    r = 'relation'             # as in PN dumu PN\n",
    "            elif treasure.get(Pno) == 'expenditure': # commodities + PN: recipient\n",
    "                r = 'recipient'\n",
    "            else:                              # if there is no preceding PN: drop the name\n",
    "                r = 'none'                     # this may  need refinement\n",
    "        if PNs.loc[i]['lemma'] in unnamed and words.loc[i-1]['lemma'] in list(PNs['lemma']):  \n",
    "            r = 'none'       # 'unnamed' person is preceded by name\n",
    "    if r == '' :\n",
    "        if treasure.get(Pno) == 'expenditure': # default role for zi-ga/ba-zi texts\n",
    "            r = 'recipient'\n",
    "        elif treasure.get(Pno) == 'intake' or treasure.get(Pno) == 'transfer':    # default role for mu-DU texts\n",
    "            r = 'source'\n",
    "    role.append(r)\n",
    "    attribute.append(' '.join(attr))\n",
    "PNs['role'] = role\n",
    "PNs['attribute'] = attribute"
   ]
  },
  {
   "cell_type": "markdown",
   "metadata": {},
   "source": [
    "# Show results in a table with links for checking\n",
    "The code in the following two cells does not add or change anything, but allows to check the results. In the second cell one may enter a condition to restrict the output to a particular text, a particular kind of role, or lemma, for instance\n",
    "```python\n",
    "return PNs2.loc[PNs2.role == \"producer\", ['id_word', 'form', 'pos', 'lemma', 'role', 'attribute']][:rows].style\n",
    "```\n",
    "to see only the name instances that have received the role 'producer'. \n",
    "\n",
    "The Pandas `style` method creates links out of properly formated HTML anchor (<a>) tags. The links are made by adding the `id_word` field to the URL for the ur3 database."
   ]
  },
  {
   "cell_type": "code",
   "execution_count": 22,
   "metadata": {},
   "outputs": [],
   "source": [
    "anchor = '<a href=\"http://build-oracc.museum.upenn.edu/epsd2/admin/ur3/{}\", target=\"_blank\">{}</a>'\n",
    "PNs2 = PNs.copy()\n",
    "PNs2['id_word'] = [anchor.format(val,val) for val in PNs['id_word']]"
   ]
  },
  {
   "cell_type": "code",
   "execution_count": 23,
   "metadata": {},
   "outputs": [
    {
     "data": {
      "application/vnd.jupyter.widget-view+json": {
       "model_id": "af45bbb4c9d54f11b9a4ebd1e5e9af3b",
       "version_major": 2,
       "version_minor": 0
      },
      "text/plain": [
       "interactive(children=(IntSlider(value=25, description='rows', max=1062, min=1), Output()), _dom_classes=('widg…"
      ]
     },
     "metadata": {},
     "output_type": "display_data"
    }
   ],
   "source": [
    "@interact(rows = (1, len(PNs2), 1))\n",
    "def showpns(rows = 25): \n",
    "    return PNs2[['id_word', 'form', 'pos', 'lemma', 'role', 'attribute']][:rows].style"
   ]
  },
  {
   "cell_type": "markdown",
   "metadata": {},
   "source": [
    "# Create Edges\n",
    "In order to create edges we need to decide what the direction is of the movement. For instance, goods go from a 'source' to an 'intermediary' and from there to a 'recipient'. This example creates two edges: \n",
    "> source => intermediary </br>\n",
    "> intermediary => recipient\n",
    "\n",
    "Each edge is a separate row in a new dataframe, whith four columns: `source`, `target`, `id_text`, and `edgetype`.\n",
    "\n",
    "In order to create an edge we find a name, check its role, and then look for a name with an appropriate role further on in the text. In an Intake document, if we find an `intermediary` (keyword ŋiri₃) we want to find a matching `recipient` (šu ba-ti) - this will be the first PN with role `recipient` after our `intermediary`. If we find a `recipient` we want to find a matching `expender` later in the text. In an Intake document we will not find one, because the `recipient`is found at the end with the keywords šu ba-ti (that edge has already been made wehn the `source` or the `intermediary` was encountered earlier in the text). In Expenditure documents, however, a list of recipients comes first, each one potentially followed by a `repesentative` or `intermediary` with an `expender` at the end. By  searching only forwards we avoid making double edges.\n",
    "\n",
    "This way we can take care of multiple transaction texts, where we may have multiple pairs of \"source\" and \"intermediary\" (or \"representative\") and one recipient at the end, or multiple \"recipients\" followed by one \"expender\".\n",
    "\n",
    "The one exception is for the role \"relation\" in a line like: \n",
    "> \tgiri₃ a-bu-du₁₀ lu₂ a-bu-ni-ka\t\tTransporter: Abuṭāb the man of Abuni\n",
    "\n",
    "Here, Abuni has the role 'relation', which always points backwards in the document. The \"relation\" (here: Abuni) is the Source, and the first name encountered before this one is the Target (here Abuṭāb), whatever its role. Since, in this case, Abuṭāb has the role \"intermediary\" he will have three edges ([Trouvaille 86](http://oracc.org/epsd2/admin/ur3/P134759)):\n",
    "\n",
    " | source | target |\n",
    " |--------|-----------|\n",
    " | Abuni  | Abuṭāb |\n",
    " |Šu-Enlil | Abuṭāb |\n",
    " |Abuṭāb | PuzurErra |\n",
    " \n",
    " Šu-Enlil, who sends his goods through Abuṭāb to PuzurErra, is qualified himself as \"son\"of the king\", so that he, in turn, will appear in  another edge in which the king is Source, and Šu-Enli Target.\n",
    " \n",
    " These edges are of different kinds. By default all edges are of the type \"transaction\", except for those that express a relationship (familial or otherwise), those are marked as \"relation\"."
   ]
  },
  {
   "cell_type": "code",
   "execution_count": 24,
   "metadata": {},
   "outputs": [],
   "source": [
    "edges = []\n",
    "for Pno in ids:                              # one document ID at a time\n",
    "    people = PNs.index[PNs.id_text == Pno]    # indexes of all the people in that document\n",
    "    for p in people:                       # iterate over those indexes\n",
    "        rest = PNs.loc[p+1 : max(people)].index # indexes of all other name instances, later in this text\n",
    "        source = ''\n",
    "        target = ''\n",
    "        edgetype = 'transaction'\n",
    "        role = PNs.loc[p]['role']\n",
    "        if role in ['intermediary', 'representative']:\n",
    "            if treasure.get(Pno) == 'expenditure':\n",
    "                target = PNs.loc[p]['lemma']\n",
    "                q = [n for n in rest if PNs.loc[n]['role'] in ['source', 'expender']]  # look for source after the target\n",
    "                if q:\n",
    "                    source = PNs.loc[q[0]]['lemma'] \n",
    "            else:\n",
    "                source = PNs.loc[p]['lemma']\n",
    "                q = [n for n in rest if PNs.loc[n]['role'] in ['recipient', 'sealer']]  # look for target after the source\n",
    "                if q:\n",
    "                    target = PNs.loc[q[0]]['lemma']  \n",
    "        elif role in ['sender', 'deliverer', 'source', 'producer']:\n",
    "            source = PNs.loc[p]['lemma']\n",
    "            q = [n for n in rest if PNs.loc[n]['role'] in ['recipient', 'sealer', 'intermediary']] \n",
    "            if q:\n",
    "                target = PNs.loc[q[0]]['lemma']\n",
    "        elif role == 'relation':\n",
    "            source = PNs.loc[p]['lemma']\n",
    "            q = [n for n in people if n < p]\n",
    "            if q:\n",
    "                target = PNs.loc[q[-1]]['lemma']\n",
    "                edgetype = 'relation'\n",
    "        elif role in ['recipient', 'sealer']:\n",
    "            target = PNs.loc[p]['lemma']\n",
    "            q = [n for n in rest if PNs.loc[n]['role'] in ['representative', 'source', 'intermediary', 'expender']]\n",
    "            if q:\n",
    "                source = PNs.loc[q[0]]['lemma']\n",
    "        if source and target:\n",
    "            edges.append([source, target, Pno, edgetype])"
   ]
  },
  {
   "cell_type": "markdown",
   "metadata": {},
   "source": [
    "# Show results in a table with links for checking\n",
    "The code in the following two cells does not add or change anything, but allows to check the results. In the second cell one may enter a condition to restrict the output to a particular document, or a particular type of edge for instance\n",
    "```python\n",
    "return edgs2.loc[edgs2.duplicated()][:rows].style\n",
    "```\n",
    "\n",
    "To inspect all edges, simply write: \n",
    "```python\n",
    "return edgs2[:rows].style\n",
    "```\n",
    "\n",
    "to check if there are edges between the same people from the same text. \n",
    "\n",
    "The Pandas `style` method creates links out of properly formated HTML anchor (\\<a\\>) tags. The links are created by adding the field `id_word` to the URL for the ur3 database."
   ]
  },
  {
   "cell_type": "code",
   "execution_count": 25,
   "metadata": {},
   "outputs": [],
   "source": [
    "edgs = pd.DataFrame(edges)\n",
    "edgs.columns = ['source', 'target', 'id_text', 'edge_type']\n",
    "anchor = '<a href=\"http://build-oracc.museum.upenn.edu/epsd2/admin/ur3/{}\", target=\"_blank\">{}</a>'\n",
    "edgs2 = edgs.copy()\n",
    "edgs2['id_text'] = [anchor.format(val,val) for val in edgs['id_text']]"
   ]
  },
  {
   "cell_type": "code",
   "execution_count": 26,
   "metadata": {},
   "outputs": [
    {
     "data": {
      "application/vnd.jupyter.widget-view+json": {
       "model_id": "ed26a31fe5894e5d9965246159d4d046",
       "version_major": 2,
       "version_minor": 0
      },
      "text/plain": [
       "interactive(children=(IntSlider(value=25, description='rows', max=543, min=1), Output()), _dom_classes=('widge…"
      ]
     },
     "metadata": {},
     "output_type": "display_data"
    }
   ],
   "source": [
    "@interact(rows = (1, len(edgs2), 1))\n",
    "def showedges(rows = 25): \n",
    "    return edgs2.loc[edgs2.duplicated()][:rows].style"
   ]
  },
  {
   "cell_type": "markdown",
   "metadata": {},
   "source": [
    "# Duplicate Edges\n",
    "For various reasons a single document may create duplicate edges. In large summary texts we may encounter the same two people who interact at different points in time and those are true duplicates that should increase the weight of the edge. More common, however, are two other situations. First, illegible or partly legible names may be represented as identical, resulting in multiple transaction between a Mr or Mrs X and a recipient or expender. Second, the same realtionship may be expressed multiple times, for instance Me-ištaran dumu-munus lugal (Me-Ištaran the daughter of the king).\n",
    "\n",
    "For the time being, all duplicate edges are removed."
   ]
  },
  {
   "cell_type": "code",
   "execution_count": 27,
   "metadata": {},
   "outputs": [],
   "source": [
    "edgs = edgs.drop_duplicates()"
   ]
  },
  {
   "cell_type": "markdown",
   "metadata": {},
   "source": [
    "# Merge Edges\n",
    "Edges that connect the same people, but originate in different documents are merged. The number of merged edges becomes the weight of the edge. The field `id_text` now becomes a sequence of P numbers separated by commas, as in: \"P125753,P126577\". Such comma-separated lists can be used in a URL to inspect multiple documents (for instance http://oracc.org/epsd2/admin/ur3/P125753,P126577)."
   ]
  },
  {
   "cell_type": "code",
   "execution_count": 28,
   "metadata": {},
   "outputs": [
    {
     "data": {
      "text/html": [
       "<div>\n",
       "<style scoped>\n",
       "    .dataframe tbody tr th:only-of-type {\n",
       "        vertical-align: middle;\n",
       "    }\n",
       "\n",
       "    .dataframe tbody tr th {\n",
       "        vertical-align: top;\n",
       "    }\n",
       "\n",
       "    .dataframe thead th {\n",
       "        text-align: right;\n",
       "    }\n",
       "</style>\n",
       "<table border=\"1\" class=\"dataframe\">\n",
       "  <thead>\n",
       "    <tr style=\"text-align: right;\">\n",
       "      <th></th>\n",
       "      <th>source</th>\n",
       "      <th>target</th>\n",
       "      <th>edge_type</th>\n",
       "      <th>id_text</th>\n",
       "      <th>weight</th>\n",
       "    </tr>\n",
       "  </thead>\n",
       "  <tbody>\n",
       "    <tr>\n",
       "      <th>0</th>\n",
       "      <td>A.x[00]PN</td>\n",
       "      <td>Dayyanummišar[]PN</td>\n",
       "      <td>transaction</td>\n",
       "      <td>P134047</td>\n",
       "      <td>1</td>\n",
       "    </tr>\n",
       "    <tr>\n",
       "      <th>1</th>\n",
       "      <td>Abisimti[]PN</td>\n",
       "      <td>Damu[]DN</td>\n",
       "      <td>transaction</td>\n",
       "      <td>P144477</td>\n",
       "      <td>1</td>\n",
       "    </tr>\n",
       "    <tr>\n",
       "      <th>2</th>\n",
       "      <td>Abisimti[]PN</td>\n",
       "      <td>Gunura[]DN</td>\n",
       "      <td>transaction</td>\n",
       "      <td>P144477</td>\n",
       "      <td>1</td>\n",
       "    </tr>\n",
       "    <tr>\n",
       "      <th>3</th>\n",
       "      <td>Abisimti[]PN</td>\n",
       "      <td>Lugal.x[00]PN</td>\n",
       "      <td>transaction</td>\n",
       "      <td>P141796</td>\n",
       "      <td>1</td>\n",
       "    </tr>\n",
       "    <tr>\n",
       "      <th>4</th>\n",
       "      <td>Abisimti[]PN</td>\n",
       "      <td>Ninisinak[]DN</td>\n",
       "      <td>transaction</td>\n",
       "      <td>P144477</td>\n",
       "      <td>1</td>\n",
       "    </tr>\n",
       "    <tr>\n",
       "      <th>...</th>\n",
       "      <td>...</td>\n",
       "      <td>...</td>\n",
       "      <td>...</td>\n",
       "      <td>...</td>\n",
       "      <td>...</td>\n",
       "    </tr>\n",
       "    <tr>\n",
       "      <th>452</th>\n",
       "      <td>ŠuʾEštar[]PN</td>\n",
       "      <td>Urniŋarak[]PN</td>\n",
       "      <td>transaction</td>\n",
       "      <td>P290169</td>\n",
       "      <td>1</td>\n",
       "    </tr>\n",
       "    <tr>\n",
       "      <th>453</th>\n",
       "      <td>ŠuʾEštar[]PN</td>\n",
       "      <td>X.x[00]PN</td>\n",
       "      <td>transaction</td>\n",
       "      <td>P290169</td>\n",
       "      <td>1</td>\n",
       "    </tr>\n",
       "    <tr>\n",
       "      <th>454</th>\n",
       "      <td>ŠuʾEštar[]PN</td>\n",
       "      <td>Šulgiʾabi[]PN</td>\n",
       "      <td>transaction</td>\n",
       "      <td>P127861</td>\n",
       "      <td>1</td>\n",
       "    </tr>\n",
       "    <tr>\n",
       "      <th>455</th>\n",
       "      <td>ŠuʾEštar[]PN</td>\n",
       "      <td>Šulgiʾili[]PN</td>\n",
       "      <td>transaction</td>\n",
       "      <td>P127861</td>\n",
       "      <td>1</td>\n",
       "    </tr>\n",
       "    <tr>\n",
       "      <th>456</th>\n",
       "      <td>ŠuʾEštar[]PN</td>\n",
       "      <td>ŠuʾEštar[]PN</td>\n",
       "      <td>transaction</td>\n",
       "      <td>P127861</td>\n",
       "      <td>1</td>\n",
       "    </tr>\n",
       "  </tbody>\n",
       "</table>\n",
       "<p>457 rows × 5 columns</p>\n",
       "</div>"
      ],
      "text/plain": [
       "           source             target    edge_type  id_text  weight\n",
       "0       A.x[00]PN  Dayyanummišar[]PN  transaction  P134047       1\n",
       "1    Abisimti[]PN           Damu[]DN  transaction  P144477       1\n",
       "2    Abisimti[]PN         Gunura[]DN  transaction  P144477       1\n",
       "3    Abisimti[]PN      Lugal.x[00]PN  transaction  P141796       1\n",
       "4    Abisimti[]PN      Ninisinak[]DN  transaction  P144477       1\n",
       "..            ...                ...          ...      ...     ...\n",
       "452  ŠuʾEštar[]PN      Urniŋarak[]PN  transaction  P290169       1\n",
       "453  ŠuʾEštar[]PN          X.x[00]PN  transaction  P290169       1\n",
       "454  ŠuʾEštar[]PN      Šulgiʾabi[]PN  transaction  P127861       1\n",
       "455  ŠuʾEštar[]PN      Šulgiʾili[]PN  transaction  P127861       1\n",
       "456  ŠuʾEštar[]PN       ŠuʾEštar[]PN  transaction  P127861       1\n",
       "\n",
       "[457 rows x 5 columns]"
      ]
     },
     "execution_count": 28,
     "metadata": {},
     "output_type": "execute_result"
    }
   ],
   "source": [
    "edgs2 = edgs.groupby(['source', 'target', 'edge_type']).agg({'id_text': list}).reset_index()\n",
    "edgs2['weight'] = [len(i) for i in edgs2['id_text']]\n",
    "edgs2['id_text'] = [','.join(i)for i in edgs2['id_text']]\n",
    "edgs2"
   ]
  },
  {
   "cell_type": "markdown",
   "metadata": {},
   "source": [
    "# Import Networkx\n",
    "Networkx is the main module in Python for network analysis."
   ]
  },
  {
   "cell_type": "code",
   "execution_count": 29,
   "metadata": {},
   "outputs": [],
   "source": [
    "import networkx as nx\n",
    "import matplotlib.pyplot as plt"
   ]
  },
  {
   "cell_type": "markdown",
   "metadata": {},
   "source": [
    "# Create initial Directed Graph\n",
    "Networkx may create a network directly from the edgelist that was created in Pandas. The node list is created from the edge list. Node attributes need to be added separately."
   ]
  },
  {
   "cell_type": "code",
   "execution_count": 30,
   "metadata": {},
   "outputs": [],
   "source": [
    "G=nx.convert_matrix.from_pandas_edgelist(edgs2, source = 'source', target = 'target', \n",
    "                                         edge_attr = ['id_text', 'weight', 'edge_type'],\n",
    "                                        create_using = nx.DiGraph())"
   ]
  },
  {
   "cell_type": "code",
   "execution_count": 32,
   "metadata": {},
   "outputs": [],
   "source": [
    "node_attr = {name : name for name in G.nodes}\n",
    "degree = {name : G.degree[name] for name in G.nodes}\n",
    "node_size = {name : G.degree[name]*3 for name in G.nodes}\n",
    "edge_size = [G[a][b]['weight'] for (a,b) in G.edges]\n",
    "nx.set_node_attributes(G, node_attr, \"name\")\n",
    "nx.set_node_attributes(G, degree, \"degree\")\n",
    "nx.set_node_attributes(G, node_size, \"node_size\")\n",
    "#nx.set_edge_attributes(G, edge_size, \"edge_size\")"
   ]
  },
  {
   "cell_type": "markdown",
   "metadata": {},
   "source": [
    "# Import Bokeh\n",
    "The networkx module has facilities for displaying a network, but the options are limited. The Bokeh module has a much wider range of possibilities for drawing, inspecting, and exporting a network graph. The `from_networkx` function in Bokeh allows efficient import of nodes and edges."
   ]
  },
  {
   "cell_type": "code",
   "execution_count": 33,
   "metadata": {},
   "outputs": [
    {
     "data": {
      "text/html": [
       "\n",
       "    <div class=\"bk-root\">\n",
       "        <a href=\"https://bokeh.org\" target=\"_blank\" class=\"bk-logo bk-logo-small bk-logo-notebook\"></a>\n",
       "        <span id=\"1001\">Loading BokehJS ...</span>\n",
       "    </div>"
      ]
     },
     "metadata": {},
     "output_type": "display_data"
    },
    {
     "data": {
      "application/javascript": [
       "\n",
       "(function(root) {\n",
       "  function now() {\n",
       "    return new Date();\n",
       "  }\n",
       "\n",
       "  var force = true;\n",
       "\n",
       "  if (typeof root._bokeh_onload_callbacks === \"undefined\" || force === true) {\n",
       "    root._bokeh_onload_callbacks = [];\n",
       "    root._bokeh_is_loading = undefined;\n",
       "  }\n",
       "\n",
       "  var JS_MIME_TYPE = 'application/javascript';\n",
       "  var HTML_MIME_TYPE = 'text/html';\n",
       "  var EXEC_MIME_TYPE = 'application/vnd.bokehjs_exec.v0+json';\n",
       "  var CLASS_NAME = 'output_bokeh rendered_html';\n",
       "\n",
       "  /**\n",
       "   * Render data to the DOM node\n",
       "   */\n",
       "  function render(props, node) {\n",
       "    var script = document.createElement(\"script\");\n",
       "    node.appendChild(script);\n",
       "  }\n",
       "\n",
       "  /**\n",
       "   * Handle when an output is cleared or removed\n",
       "   */\n",
       "  function handleClearOutput(event, handle) {\n",
       "    var cell = handle.cell;\n",
       "\n",
       "    var id = cell.output_area._bokeh_element_id;\n",
       "    var server_id = cell.output_area._bokeh_server_id;\n",
       "    // Clean up Bokeh references\n",
       "    if (id != null && id in Bokeh.index) {\n",
       "      Bokeh.index[id].model.document.clear();\n",
       "      delete Bokeh.index[id];\n",
       "    }\n",
       "\n",
       "    if (server_id !== undefined) {\n",
       "      // Clean up Bokeh references\n",
       "      var cmd = \"from bokeh.io.state import curstate; print(curstate().uuid_to_server['\" + server_id + \"'].get_sessions()[0].document.roots[0]._id)\";\n",
       "      cell.notebook.kernel.execute(cmd, {\n",
       "        iopub: {\n",
       "          output: function(msg) {\n",
       "            var id = msg.content.text.trim();\n",
       "            if (id in Bokeh.index) {\n",
       "              Bokeh.index[id].model.document.clear();\n",
       "              delete Bokeh.index[id];\n",
       "            }\n",
       "          }\n",
       "        }\n",
       "      });\n",
       "      // Destroy server and session\n",
       "      var cmd = \"import bokeh.io.notebook as ion; ion.destroy_server('\" + server_id + \"')\";\n",
       "      cell.notebook.kernel.execute(cmd);\n",
       "    }\n",
       "  }\n",
       "\n",
       "  /**\n",
       "   * Handle when a new output is added\n",
       "   */\n",
       "  function handleAddOutput(event, handle) {\n",
       "    var output_area = handle.output_area;\n",
       "    var output = handle.output;\n",
       "\n",
       "    // limit handleAddOutput to display_data with EXEC_MIME_TYPE content only\n",
       "    if ((output.output_type != \"display_data\") || (!output.data.hasOwnProperty(EXEC_MIME_TYPE))) {\n",
       "      return\n",
       "    }\n",
       "\n",
       "    var toinsert = output_area.element.find(\".\" + CLASS_NAME.split(' ')[0]);\n",
       "\n",
       "    if (output.metadata[EXEC_MIME_TYPE][\"id\"] !== undefined) {\n",
       "      toinsert[toinsert.length - 1].firstChild.textContent = output.data[JS_MIME_TYPE];\n",
       "      // store reference to embed id on output_area\n",
       "      output_area._bokeh_element_id = output.metadata[EXEC_MIME_TYPE][\"id\"];\n",
       "    }\n",
       "    if (output.metadata[EXEC_MIME_TYPE][\"server_id\"] !== undefined) {\n",
       "      var bk_div = document.createElement(\"div\");\n",
       "      bk_div.innerHTML = output.data[HTML_MIME_TYPE];\n",
       "      var script_attrs = bk_div.children[0].attributes;\n",
       "      for (var i = 0; i < script_attrs.length; i++) {\n",
       "        toinsert[toinsert.length - 1].firstChild.setAttribute(script_attrs[i].name, script_attrs[i].value);\n",
       "      }\n",
       "      // store reference to server id on output_area\n",
       "      output_area._bokeh_server_id = output.metadata[EXEC_MIME_TYPE][\"server_id\"];\n",
       "    }\n",
       "  }\n",
       "\n",
       "  function register_renderer(events, OutputArea) {\n",
       "\n",
       "    function append_mime(data, metadata, element) {\n",
       "      // create a DOM node to render to\n",
       "      var toinsert = this.create_output_subarea(\n",
       "        metadata,\n",
       "        CLASS_NAME,\n",
       "        EXEC_MIME_TYPE\n",
       "      );\n",
       "      this.keyboard_manager.register_events(toinsert);\n",
       "      // Render to node\n",
       "      var props = {data: data, metadata: metadata[EXEC_MIME_TYPE]};\n",
       "      render(props, toinsert[toinsert.length - 1]);\n",
       "      element.append(toinsert);\n",
       "      return toinsert\n",
       "    }\n",
       "\n",
       "    /* Handle when an output is cleared or removed */\n",
       "    events.on('clear_output.CodeCell', handleClearOutput);\n",
       "    events.on('delete.Cell', handleClearOutput);\n",
       "\n",
       "    /* Handle when a new output is added */\n",
       "    events.on('output_added.OutputArea', handleAddOutput);\n",
       "\n",
       "    /**\n",
       "     * Register the mime type and append_mime function with output_area\n",
       "     */\n",
       "    OutputArea.prototype.register_mime_type(EXEC_MIME_TYPE, append_mime, {\n",
       "      /* Is output safe? */\n",
       "      safe: true,\n",
       "      /* Index of renderer in `output_area.display_order` */\n",
       "      index: 0\n",
       "    });\n",
       "  }\n",
       "\n",
       "  // register the mime type if in Jupyter Notebook environment and previously unregistered\n",
       "  if (root.Jupyter !== undefined) {\n",
       "    var events = require('base/js/events');\n",
       "    var OutputArea = require('notebook/js/outputarea').OutputArea;\n",
       "\n",
       "    if (OutputArea.prototype.mime_types().indexOf(EXEC_MIME_TYPE) == -1) {\n",
       "      register_renderer(events, OutputArea);\n",
       "    }\n",
       "  }\n",
       "\n",
       "  \n",
       "  if (typeof (root._bokeh_timeout) === \"undefined\" || force === true) {\n",
       "    root._bokeh_timeout = Date.now() + 5000;\n",
       "    root._bokeh_failed_load = false;\n",
       "  }\n",
       "\n",
       "  var NB_LOAD_WARNING = {'data': {'text/html':\n",
       "     \"<div style='background-color: #fdd'>\\n\"+\n",
       "     \"<p>\\n\"+\n",
       "     \"BokehJS does not appear to have successfully loaded. If loading BokehJS from CDN, this \\n\"+\n",
       "     \"may be due to a slow or bad network connection. Possible fixes:\\n\"+\n",
       "     \"</p>\\n\"+\n",
       "     \"<ul>\\n\"+\n",
       "     \"<li>re-rerun `output_notebook()` to attempt to load from CDN again, or</li>\\n\"+\n",
       "     \"<li>use INLINE resources instead, as so:</li>\\n\"+\n",
       "     \"</ul>\\n\"+\n",
       "     \"<code>\\n\"+\n",
       "     \"from bokeh.resources import INLINE\\n\"+\n",
       "     \"output_notebook(resources=INLINE)\\n\"+\n",
       "     \"</code>\\n\"+\n",
       "     \"</div>\"}};\n",
       "\n",
       "  function display_loaded() {\n",
       "    var el = document.getElementById(\"1001\");\n",
       "    if (el != null) {\n",
       "      el.textContent = \"BokehJS is loading...\";\n",
       "    }\n",
       "    if (root.Bokeh !== undefined) {\n",
       "      if (el != null) {\n",
       "        el.textContent = \"BokehJS \" + root.Bokeh.version + \" successfully loaded.\";\n",
       "      }\n",
       "    } else if (Date.now() < root._bokeh_timeout) {\n",
       "      setTimeout(display_loaded, 100)\n",
       "    }\n",
       "  }\n",
       "\n",
       "\n",
       "  function run_callbacks() {\n",
       "    try {\n",
       "      root._bokeh_onload_callbacks.forEach(function(callback) {\n",
       "        if (callback != null)\n",
       "          callback();\n",
       "      });\n",
       "    } finally {\n",
       "      delete root._bokeh_onload_callbacks\n",
       "    }\n",
       "    console.debug(\"Bokeh: all callbacks have finished\");\n",
       "  }\n",
       "\n",
       "  function load_libs(css_urls, js_urls, callback) {\n",
       "    if (css_urls == null) css_urls = [];\n",
       "    if (js_urls == null) js_urls = [];\n",
       "\n",
       "    root._bokeh_onload_callbacks.push(callback);\n",
       "    if (root._bokeh_is_loading > 0) {\n",
       "      console.debug(\"Bokeh: BokehJS is being loaded, scheduling callback at\", now());\n",
       "      return null;\n",
       "    }\n",
       "    if (js_urls == null || js_urls.length === 0) {\n",
       "      run_callbacks();\n",
       "      return null;\n",
       "    }\n",
       "    console.debug(\"Bokeh: BokehJS not loaded, scheduling load and callback at\", now());\n",
       "    root._bokeh_is_loading = css_urls.length + js_urls.length;\n",
       "\n",
       "    function on_load() {\n",
       "      root._bokeh_is_loading--;\n",
       "      if (root._bokeh_is_loading === 0) {\n",
       "        console.debug(\"Bokeh: all BokehJS libraries/stylesheets loaded\");\n",
       "        run_callbacks()\n",
       "      }\n",
       "    }\n",
       "\n",
       "    function on_error() {\n",
       "      console.error(\"failed to load \" + url);\n",
       "    }\n",
       "\n",
       "    for (var i = 0; i < css_urls.length; i++) {\n",
       "      var url = css_urls[i];\n",
       "      const element = document.createElement(\"link\");\n",
       "      element.onload = on_load;\n",
       "      element.onerror = on_error;\n",
       "      element.rel = \"stylesheet\";\n",
       "      element.type = \"text/css\";\n",
       "      element.href = url;\n",
       "      console.debug(\"Bokeh: injecting link tag for BokehJS stylesheet: \", url);\n",
       "      document.body.appendChild(element);\n",
       "    }\n",
       "\n",
       "    for (var i = 0; i < js_urls.length; i++) {\n",
       "      var url = js_urls[i];\n",
       "      var element = document.createElement('script');\n",
       "      element.onload = on_load;\n",
       "      element.onerror = on_error;\n",
       "      element.async = false;\n",
       "      element.src = url;\n",
       "      console.debug(\"Bokeh: injecting script tag for BokehJS library: \", url);\n",
       "      document.head.appendChild(element);\n",
       "    }\n",
       "  };var element = document.getElementById(\"1001\");\n",
       "  if (element == null) {\n",
       "    console.error(\"Bokeh: ERROR: autoload.js configured with elementid '1001' but no matching script tag was found. \")\n",
       "    return false;\n",
       "  }\n",
       "\n",
       "  function inject_raw_css(css) {\n",
       "    const element = document.createElement(\"style\");\n",
       "    element.appendChild(document.createTextNode(css));\n",
       "    document.body.appendChild(element);\n",
       "  }\n",
       "\n",
       "  \n",
       "  var js_urls = [\"https://cdn.pydata.org/bokeh/release/bokeh-1.4.0.min.js\", \"https://cdn.pydata.org/bokeh/release/bokeh-widgets-1.4.0.min.js\", \"https://cdn.pydata.org/bokeh/release/bokeh-tables-1.4.0.min.js\", \"https://cdn.pydata.org/bokeh/release/bokeh-gl-1.4.0.min.js\"];\n",
       "  var css_urls = [];\n",
       "  \n",
       "\n",
       "  var inline_js = [\n",
       "    function(Bokeh) {\n",
       "      Bokeh.set_log_level(\"info\");\n",
       "    },\n",
       "    function(Bokeh) {\n",
       "    \n",
       "    \n",
       "    }\n",
       "  ];\n",
       "\n",
       "  function run_inline_js() {\n",
       "    \n",
       "    if (root.Bokeh !== undefined || force === true) {\n",
       "      \n",
       "    for (var i = 0; i < inline_js.length; i++) {\n",
       "      inline_js[i].call(root, root.Bokeh);\n",
       "    }\n",
       "    if (force === true) {\n",
       "        display_loaded();\n",
       "      }} else if (Date.now() < root._bokeh_timeout) {\n",
       "      setTimeout(run_inline_js, 100);\n",
       "    } else if (!root._bokeh_failed_load) {\n",
       "      console.log(\"Bokeh: BokehJS failed to load within specified timeout.\");\n",
       "      root._bokeh_failed_load = true;\n",
       "    } else if (force !== true) {\n",
       "      var cell = $(document.getElementById(\"1001\")).parents('.cell').data().cell;\n",
       "      cell.output_area.append_execute_result(NB_LOAD_WARNING)\n",
       "    }\n",
       "\n",
       "  }\n",
       "\n",
       "  if (root._bokeh_is_loading === 0) {\n",
       "    console.debug(\"Bokeh: BokehJS loaded, going straight to plotting\");\n",
       "    run_inline_js();\n",
       "  } else {\n",
       "    load_libs(css_urls, js_urls, function() {\n",
       "      console.debug(\"Bokeh: BokehJS plotting callback run at\", now());\n",
       "      run_inline_js();\n",
       "    });\n",
       "  }\n",
       "}(window));"
      ],
      "application/vnd.bokehjs_load.v0+json": "\n(function(root) {\n  function now() {\n    return new Date();\n  }\n\n  var force = true;\n\n  if (typeof root._bokeh_onload_callbacks === \"undefined\" || force === true) {\n    root._bokeh_onload_callbacks = [];\n    root._bokeh_is_loading = undefined;\n  }\n\n  \n\n  \n  if (typeof (root._bokeh_timeout) === \"undefined\" || force === true) {\n    root._bokeh_timeout = Date.now() + 5000;\n    root._bokeh_failed_load = false;\n  }\n\n  var NB_LOAD_WARNING = {'data': {'text/html':\n     \"<div style='background-color: #fdd'>\\n\"+\n     \"<p>\\n\"+\n     \"BokehJS does not appear to have successfully loaded. If loading BokehJS from CDN, this \\n\"+\n     \"may be due to a slow or bad network connection. Possible fixes:\\n\"+\n     \"</p>\\n\"+\n     \"<ul>\\n\"+\n     \"<li>re-rerun `output_notebook()` to attempt to load from CDN again, or</li>\\n\"+\n     \"<li>use INLINE resources instead, as so:</li>\\n\"+\n     \"</ul>\\n\"+\n     \"<code>\\n\"+\n     \"from bokeh.resources import INLINE\\n\"+\n     \"output_notebook(resources=INLINE)\\n\"+\n     \"</code>\\n\"+\n     \"</div>\"}};\n\n  function display_loaded() {\n    var el = document.getElementById(\"1001\");\n    if (el != null) {\n      el.textContent = \"BokehJS is loading...\";\n    }\n    if (root.Bokeh !== undefined) {\n      if (el != null) {\n        el.textContent = \"BokehJS \" + root.Bokeh.version + \" successfully loaded.\";\n      }\n    } else if (Date.now() < root._bokeh_timeout) {\n      setTimeout(display_loaded, 100)\n    }\n  }\n\n\n  function run_callbacks() {\n    try {\n      root._bokeh_onload_callbacks.forEach(function(callback) {\n        if (callback != null)\n          callback();\n      });\n    } finally {\n      delete root._bokeh_onload_callbacks\n    }\n    console.debug(\"Bokeh: all callbacks have finished\");\n  }\n\n  function load_libs(css_urls, js_urls, callback) {\n    if (css_urls == null) css_urls = [];\n    if (js_urls == null) js_urls = [];\n\n    root._bokeh_onload_callbacks.push(callback);\n    if (root._bokeh_is_loading > 0) {\n      console.debug(\"Bokeh: BokehJS is being loaded, scheduling callback at\", now());\n      return null;\n    }\n    if (js_urls == null || js_urls.length === 0) {\n      run_callbacks();\n      return null;\n    }\n    console.debug(\"Bokeh: BokehJS not loaded, scheduling load and callback at\", now());\n    root._bokeh_is_loading = css_urls.length + js_urls.length;\n\n    function on_load() {\n      root._bokeh_is_loading--;\n      if (root._bokeh_is_loading === 0) {\n        console.debug(\"Bokeh: all BokehJS libraries/stylesheets loaded\");\n        run_callbacks()\n      }\n    }\n\n    function on_error() {\n      console.error(\"failed to load \" + url);\n    }\n\n    for (var i = 0; i < css_urls.length; i++) {\n      var url = css_urls[i];\n      const element = document.createElement(\"link\");\n      element.onload = on_load;\n      element.onerror = on_error;\n      element.rel = \"stylesheet\";\n      element.type = \"text/css\";\n      element.href = url;\n      console.debug(\"Bokeh: injecting link tag for BokehJS stylesheet: \", url);\n      document.body.appendChild(element);\n    }\n\n    for (var i = 0; i < js_urls.length; i++) {\n      var url = js_urls[i];\n      var element = document.createElement('script');\n      element.onload = on_load;\n      element.onerror = on_error;\n      element.async = false;\n      element.src = url;\n      console.debug(\"Bokeh: injecting script tag for BokehJS library: \", url);\n      document.head.appendChild(element);\n    }\n  };var element = document.getElementById(\"1001\");\n  if (element == null) {\n    console.error(\"Bokeh: ERROR: autoload.js configured with elementid '1001' but no matching script tag was found. \")\n    return false;\n  }\n\n  function inject_raw_css(css) {\n    const element = document.createElement(\"style\");\n    element.appendChild(document.createTextNode(css));\n    document.body.appendChild(element);\n  }\n\n  \n  var js_urls = [\"https://cdn.pydata.org/bokeh/release/bokeh-1.4.0.min.js\", \"https://cdn.pydata.org/bokeh/release/bokeh-widgets-1.4.0.min.js\", \"https://cdn.pydata.org/bokeh/release/bokeh-tables-1.4.0.min.js\", \"https://cdn.pydata.org/bokeh/release/bokeh-gl-1.4.0.min.js\"];\n  var css_urls = [];\n  \n\n  var inline_js = [\n    function(Bokeh) {\n      Bokeh.set_log_level(\"info\");\n    },\n    function(Bokeh) {\n    \n    \n    }\n  ];\n\n  function run_inline_js() {\n    \n    if (root.Bokeh !== undefined || force === true) {\n      \n    for (var i = 0; i < inline_js.length; i++) {\n      inline_js[i].call(root, root.Bokeh);\n    }\n    if (force === true) {\n        display_loaded();\n      }} else if (Date.now() < root._bokeh_timeout) {\n      setTimeout(run_inline_js, 100);\n    } else if (!root._bokeh_failed_load) {\n      console.log(\"Bokeh: BokehJS failed to load within specified timeout.\");\n      root._bokeh_failed_load = true;\n    } else if (force !== true) {\n      var cell = $(document.getElementById(\"1001\")).parents('.cell').data().cell;\n      cell.output_area.append_execute_result(NB_LOAD_WARNING)\n    }\n\n  }\n\n  if (root._bokeh_is_loading === 0) {\n    console.debug(\"Bokeh: BokehJS loaded, going straight to plotting\");\n    run_inline_js();\n  } else {\n    load_libs(css_urls, js_urls, function() {\n      console.debug(\"Bokeh: BokehJS plotting callback run at\", now());\n      run_inline_js();\n    });\n  }\n}(window));"
     },
     "metadata": {},
     "output_type": "display_data"
    }
   ],
   "source": [
    "from bokeh.io import output_file, show\n",
    "from bokeh.models import (BoxSelectTool, Circle, EdgesAndLinkedNodes, HoverTool,\n",
    "                          MultiLine, NodesAndLinkedEdges, Plot, Range1d, TapTool,\n",
    "                         BoxZoomTool, ResetTool, OpenURL, CustomJS, Column, SaveTool)\n",
    "from bokeh.palettes import Spectral4\n",
    "from bokeh.plotting import figure, output_notebook\n",
    "from bokeh.models.graphs import from_networkx\n",
    "from bokeh.models import TextInput, Button\n",
    "output_notebook()"
   ]
  },
  {
   "cell_type": "markdown",
   "metadata": {},
   "source": [
    "# Tooltips for Nodes\n",
    "This graph provides tooltips for each node, containing the name and the degree. By computing other characteristics of the node, one may easily display other attributes in the tooltip. \n",
    "\n",
    "The edges are not displayed by default, but light up when the mouse hovers over a node."
   ]
  },
  {
   "cell_type": "code",
   "execution_count": null,
   "metadata": {},
   "outputs": [],
   "source": [
    "plot = Plot(plot_width=900, plot_height=900,\n",
    "            x_range=Range1d(-1.1, 1.1), y_range=Range1d(-1.1, 1.1))\n",
    "plot.title.text = \"Treasure Archive Drehem\"\n",
    "\n",
    "node_hover_tool = HoverTool(tooltips=[(\"name\", \"@name\"), (\"degree\", \"@degree\")])\n",
    "plot.add_tools(node_hover_tool, BoxZoomTool(), ResetTool())\n",
    "\n",
    "graph_renderer = from_networkx(G, nx.spring_layout, scale=1, center=(0, 0))\n",
    "\n",
    "graph_renderer.node_renderer.glyph = Circle(size='node_size', fill_color=Spectral4[0])\n",
    "graph_renderer.edge_renderer.glyph = MultiLine(line_color=Spectral4[1], line_alpha=0.8, line_width='edge_size')\n",
    "plot.renderers.append(graph_renderer)\n",
    "\n",
    "output_file(\"interactive_graphs.html\")\n",
    "show(plot)"
   ]
  },
  {
   "cell_type": "markdown",
   "metadata": {},
   "source": [
    "# Display a Single Text"
   ]
  },
  {
   "cell_type": "code",
   "execution_count": 36,
   "metadata": {},
   "outputs": [
    {
     "data": {
      "image/png": "[encoded data removed]",
      "text/plain": [
       "<Figure size 432x288 with 1 Axes>"
      ]
     },
     "metadata": {},
     "output_type": "display_data"
    }
   ],
   "source": [
    "P = \"P135067\"\n",
    "H = nx.DiGraph((u,v,e) for u,v,e in G.edges(data=True) if P in e['id_text'])\n",
    "for edge in H.edges(): \n",
    "    edge\n",
    "nx.draw(H,with_labels=True,node_size=3000)\n",
    "plt.show()"
   ]
  },
  {
   "cell_type": "code",
   "execution_count": 35,
   "metadata": {},
   "outputs": [
    {
     "data": {
      "text/html": [
       "\n",
       "\n",
       "\n",
       "\n",
       "\n",
       "\n",
       "  <div class=\"bk-root\" id=\"d9b5d2f2-1bb8-430c-ad27-358c0e8a98f1\" data-root-id=\"1225\"></div>\n"
      ]
     },
     "metadata": {},
     "output_type": "display_data"
    },
    {
     "data": {
      "application/javascript": [
       "(function(root) {\n",
       "  function embed_document(root) {\n",
       "    \n",
       "  var docs_json = {\"043b260e-764d-4479-8587-87f02d672f35\":{\"roots\":{\"references\":[{\"attributes\":{\"below\":[{\"id\":\"1232\",\"type\":\"LinearAxis\"}],\"center\":[{\"id\":\"1236\",\"type\":\"Grid\"},{\"id\":\"1241\",\"type\":\"Grid\"}],\"left\":[{\"id\":\"1237\",\"type\":\"LinearAxis\"}],\"plot_height\":700,\"plot_width\":700,\"renderers\":[{\"id\":\"1260\",\"type\":\"GraphRenderer\"}],\"title\":{\"id\":\"1257\",\"type\":\"Title\"},\"toolbar\":{\"id\":\"1248\",\"type\":\"Toolbar\"},\"x_range\":{\"id\":\"1223\",\"type\":\"Range1d\"},\"x_scale\":{\"id\":\"1228\",\"type\":\"LinearScale\"},\"y_range\":{\"id\":\"1224\",\"type\":\"Range1d\"},\"y_scale\":{\"id\":\"1230\",\"type\":\"LinearScale\"}},\"id\":\"1225\",\"subtype\":\"Figure\",\"type\":\"Plot\"},{\"attributes\":{},\"id\":\"1242\",\"type\":\"PanTool\"},{\"attributes\":{},\"id\":\"1243\",\"type\":\"WheelZoomTool\"},{\"attributes\":{},\"id\":\"1290\",\"type\":\"NodesAndLinkedEdges\"},{\"attributes\":{\"source\":{\"id\":\"1266\",\"type\":\"ColumnDataSource\"}},\"id\":\"1268\",\"type\":\"CDSView\"},{\"attributes\":{\"callback\":null,\"data\":{\"degree\":[3,32,9,1,1,14,1,2,1,1,5,3,2,42,5,1,6,3,2,2,72,1,3,1,21,5,6,29,1,21,10,13,3,2,17,2,8,5,2,1,2,1,2,1,2,1,3,1,2,28,1,1,1,1,3,1,1,3,1,2,1,2,8,2,1,3,2,2,2,9,5,1,1,1,1,1,2,1,4,5,2,4,5,1,1,1,2,2,3,3,1,2,4,2,1,1,2,5,2,2,1,1,2,9,6,1,2,1,5,4,1,1,1,1,1,3,10,4,5,5,2,12,4,5,2,2,2,1,2,1,3,3,1,1,1,1,1,1,2,1,1,1,1,5,1,2,1,9,10,3,2,1,2,1,2,4,1,1,1,4,3,1,1,1,1,1,1,1,1,2,1,2,2,2,3,4,1,1,1,3,4,1,1,3,4,5,3,3,13,3,6,2,1,2,2,2,1,1,1,1,1,1,2,1,2,1,2,1,1,3,3,1,1,2,3,1,1,1,1,2,1,2,1,1,3,2,2,2,1,1,1,1,1,2,3,1,2,1,2,1,1,1,1,1,1,1,3,2,1,3,1,1,1,1,1,2,1,2,1,1,3,4,1,2,3,1,2,2,1,1,1,1,2,1,1,2,1,2,2,1,1,1,1,1,1,1,1,2,1,1,1,1,1,1,1,1],\"index\":[\"A.x[00]PN\",\"Dayyanummi\\u0161ar[]PN\",\"Abisimti[]PN\",\"Damu[]DN\",\"Gunura[]DN\",\"Lugal.x[00]PN\",\"Ninisinak[]DN\",\"Nuhilum[]PN\",\"\\u0160umah[]DN\",\"Abumba\\u0161ti[]PN\",\"Abuni[]PN\",\"Abu\\u1e6dab[]PN\",\"KAL.bi.si[]PN\",\"PuzurErra[]PN\",\"AbuniramAni[]PN\",\"KinatU\\u02beu[]PN\",\"Kubatum[]PN\",\"TaddinE\\u0161tar[]PN\",\"\\u0160eteli[]PN\",\"Adadillat[]PN\",\"Ludi\\u014birak[]PN\",\"Agalum[]PN\",\"Balala[]PN\",\"Agu\\u02bea[]PN\",\"\\u0160u\\u02beE\\u0161tar[]PN\",\"Ahan\\u0161ibu[]PN\",\"Huba[]PN\",\"lugal[king]N\",\"Ahi\\u02beilum[]PN\",\"Lugalkugzu[]PN\",\"Ahuni[]PN\",\"Amurili[]PN\",\"Apili[]PN\",\"Dari\\u0161matum[]PN\",\"Ea\\u02beili[]PN\",\"Lammar[]DN\",\"Lisin[]PN\",\"ME.{d}I\\u0161taran[]PN\",\"Taddinkiza[]PN\",\"Ahu\\u0161uni[]PN\",\"Alid[]PN\",\"Alla[]PN\",\"\\u0160ulgirgalzu[]PN\",\"AmurEa[]PN\",\"IbbiSu\\u02beenmi\\u0161ar[]PN\",\"Liludan[]PN\",\"Lugula[]PN\",\"Anebabdu[]PN\",\"Alla\\u0161arrum[]PN\",\"AradNannak[]PN\",\"Addalal[]PN\",\"Amaknum[]PN\",\"AmarSu\\u02beenak[]RN\",\"AtalAmurru[]PN\",\"Babati[]PN\",\"Bu\\u0161udu[]PN\",\"Da\\u0161ug[]PN\",\"Enkik[]DN\",\"Ennam\\u0161ita\\u0160ulgirakebagub[]PN\",\"HidutAmarSu\\u02been[]PN\",\"IM.da.A\\u2082[]PN\",\"Kurbilak[]PN\",\"LuNannak[]PN\",\"Nawar\\u0161en[]PN\",\"Niza[]PN\",\"PuzurA\\u0161\\u0161ur[]PN\",\"UrNannak[]PN\",\"Zanum[]PN\",\"Zeri[]PN\",\"\\u0160u\\u0160ulgi[]PN\",\"Arad\\u014bu[]PN\",\"Adda[]PN\",\"Idabeli[]PN\",\"Nur\\u0160ulgi[]PN\",\"Palilum[]PN\",\"Ariphuppi[]PN\",\"Zizuh[]PN\",\"Atakkal\\u0161um[]PN\",\"Atu[]PN\",\"Inanak[]DN\",\"Meslamta\\u02bee\\u02bea[]DN\",\"Ninlil[]DN\",\"Aya\\u014bu[]PN\",\"UrEninnuk[]PN\",\"\\u014airine\\u02beisag[]PN\",\"\\u0160uNin\\u0161ubur[]PN\",\"Batugrad[]PN\",\"Baza[]PN\",\"Qurdilum[]PN\",\"Waqar\\u0160uSu\\u02been[]PN\",\"Belili[]PN\",\"Illa\\u02bei[]PN\",\"Beli\\u02beili[]PN\",\"Budu[]PN\",\"Bu\\u0161am[]PN\",\"Bu\\u02bea[]PN\",\"Edudu\\u02bea[]PN\",\"Dada[]PN\",\"\\u0160uSu\\u02beenmigirE\\u0161tar[]PN\",\"Daya[]PN\",\"Ahbabu[]PN\",\"Apila\\u0161a[]PN\",\"BurMama[]PN\",\"Ilallum[]PN\",\"Kur\\u014birini\\u0161e[]PN\",\"Lubalasagak[]PN\",\"Lugalinimginak[]PN\",\"Luka\\u0161\\u014bu[]PN\",\"Nanna[]DN\",\"Nirida\\u014bal[]PN\",\"Urgu[]PN\",\"X.i\\u2083.li\\u2082[00]PN\",\"Zukukum[]PN\",\"Baza\\u014bu[]PN\",\"Dinikun[]PN\",\"I\\u1e6dib\\u0161inat[]PN\",\"Nurili[]PN\",\"\\u0160ulgirkalamametebi[]PN\",\"\\u0160u\\u02beEnlil[]PN\",\"Utu\\u02beadgal[]PN\",\"Endi\\u014bir\\u014bu[]PN\",\"Itutu\\u02bea[]PN\",\"Enlil[]DN\",\"\\u0160e\\u0161kala[]PN\",\"Ennumili[]PN\",\"Erbeli[]PN\",\"Anaa[]PN\",\"GA.na.na.tum[]PN\",\"E\\u0161tarnada[]PN\",\"Gabidanum[]PN\",\"Galzudabulsin[]PN\",\"Ilabu\\u02beigadu[]PN\",\"UrDamuk[]PN\",\"Haburitum[]DN\",\"Ha\\u0161ipatal[]PN\",\"Hu.un.ha.ab.UR[]PN\",\"Iabti[]PN\",\"GemeEnlilak[]PN\",\"Idudu[]PN\",\"Igirumah[]PN\",\"Ilag\\u0161uqir[]PN\",\"Simat\\u0161arrim[]PN\",\"UrHendursa\\u014bak[]PN\",\"\\u0160etelili[]PN\",\"Im.x[00]PN\",\"Inimanizid[]PN\",\"Inzu[]PN\",\"Puzurili[]PN\",\"Ninlilama\\u014bu[]PN\",\"Nurmati\\u0161u[]PN\",\"Rigmu\\u0161[]PN\",\"Su\\u02beenillat[]PN\",\"Ninkala[]PN\",\"\\u0160ulgisimti[]PN\",\"KA.x[00]PN\",\"X.x[00]PN\",\"KAL.LA.ma.AD[]PN\",\"\\u0160u\\u02beEa[]PN\",\"Lamahar[]PN\",\"UrBa\\u02beuk[]PN\",\"La\\u02beili\\u0161[]PN\",\"\\u0160agtakugzu[]PN\",\"LuNan\\u0161ek[]PN\",\"Lubanda[]PN\",\"Ahuwaqar[]PN\",\"AradBa\\u02beuk[]PN\",\"Ba.x[00]PN\",\"Enu\\u02bea[]PN\",\"Errabani[]PN\",\"Gula[]DN\",\"Inimkug[]PN\",\"Lugalmagure[]PN\",\"Na.x[00]PN\",\"Nannakam[]PN\",\"Nannapalil[]PN\",\"Nawirili[]PN\",\"Ninegalakesi[]DN\",\"Ningalenunak[]DN\",\"Ninsumunak[]DN\",\"NurAdad[]PN\",\"PuzurE\\u0161tar[]PN\",\"Puzur\\u0160akan[]PN\",\"Puzuzu[]PN\",\"Re\\u02beiSu\\u02been[]PN\",\"Ribagada[]PN\",\"Ri\\u1e63ili[]PN\",\"Su\\u02beenabu\\u0161u[]PN\",\"Su\\u02beenal\\u0161u[]PN\",\"Tah\\u0161atal[]PN\",\"Ur\\u0160uSu\\u02beenak[]PN\",\"Utami\\u0161aram[]PN\",\"X.mu[00]DN\",\"Zuruh[]PN\",\"\\u0160uKabta[]PN\",\"\\u0160uSu\\u02beennaramEnlil[]PN\",\"\\u0160ulgirama[]PN\",\"Anatal[]PN\",\"Lugalituda[]PN\",\"UrIgalimak[]PN\",\"Lugaltida[]PN\",\"Lukala[]PN\",\"Lusaga[]PN\",\"Lu\\u2082.x[00]PN\",\"Allatum[]DN\",\"Ge\\u0161.\\u0161a\\u2083[00]DN\",\"Me\\u0161i\\u02bead[]PN\",\"\\u0160u\\u0161ug[]PN\",\"Na.an.na[]PN\",\"Nabasag[]PN\",\"Namhani[]PN\",\"ME.E\\u2082.a[]PN\",\"Enni\\u0161Agum[]PN\",\"Ninni\\u014bar[]DN\",\"Naramili[]PN\",\"Nintiluga[]DN\",\"Nig\\u2082.x[00]PN\",\"Nihelu[]PN\",\"Ninegalak[]DN\",\"Ningal[]DN\",\"UrNingalak[]PN\",\"Ningilin[]DN\",\"Ninhursa\\u014bak[]DN\",\"Ri.x[00]PN\",\"X[1]DN\",\"\\u0160atSu\\u02been[]PN\",\"Ninlilemana\\u014b[]PN\",\"Mulliltumnuri[]PN\",\"Ninurta[]DN\",\"Nin\\u0161uburak[]DN\",\"Lu\\u02beAmarSu\\u02beenak[]PN\",\"Ni\\u014birinimginak[]PN\",\"Aki\\u02bea[]PN\",\"Ginuna[]PN\",\"sukkalmah[official]N\",\"Zariq[]PN\",\"\\u0160ama\\u0161tillati[]PN\",\"Nur\\u0160ama\\u0161[]PN\",\"Nuska[]DN\",\"Papan\\u0161en[]PN\",\"Masagsag[]PN\",\"Il\\u0161urabi[]PN\",\"Annunitum[]DN\",\"Anumilum[]PN\",\"Hendursa\\u014bak[]DN\",\"KugUtu[]PN\",\"Nalu[]PN\",\"Ululal[]PN\",\"Watarum[]PN\",\"\\u0160ulginuri[]PN\",\"UrA\\u0161arak[]PN\",\"UrKugnunak[]PN\",\"Rabi\\u02beah[]PN\",\"Ba\\u02beu[]DN\",\"Nin\\u014birsuk[]DN\",\"Rimili[]PN\",\"\\u0160uru\\u0161kin[]PN\",\"AtuMamak[]PN\",\"UrNan\\u0161ek[]PN\",\"Libur\\u0160ulgi[]PN\",\"KinatNunu[]PN\",\"Hun\\u0160ulgi[]PN\",\"TuramDagan[]PN\",\"Uba[]PN\",\"Urmes[]PN\",\"Ubarum[]PN\",\"UrI\\u0161kurak[]PN\",\"Taburha\\u1e6d\\u1e6dum[]PN\",\"Urni\\u014barak[]PN\",\"Gude\\u02bea[]PN\",\"\\u0160uMama[]PN\",\"Matili[]PN\",\"X.x[00]DN\",\"\\u0160unundu[]PN\",\"Amabarag[]PN\",\"GemeNannak[]PN\",\"\\u0160alimni\\u02bea\\u0161[]PN\",\"\\u0160arakam[]PN\",\"\\u0160arrumili[]PN\",\"LugalAnabtum[]PN\",\"\\u0160ebba[]PN\",\"\\u0160ennam[]PN\",\"Dudu[]PN\",\"\\u0160e\\u0161ani[]PN\",\"\\u0160uSu\\u02beenili[]PN\",\"Taribu[]PN\",\"\\u0160ubram[]PN\",\"\\u0160ulgimati[]PN\",\"\\u0160ulgimi\\u0161ar[]PN\",\"\\u0160ulgir[]RN\",\"\\u0160ulgiradda\\u014bu[]PN\",\"UrSu\\u02beenak[]PN\",\"\\u0160uSu\\u02beenlilabbirha\\u1e6d\\u1e6dam[]PN\",\"Anati[]PN\",\"Ihtanassassunut[]PN\",\"\\u0160ulgi\\u02beabi[]PN\",\"\\u0160ulgi\\u02beili[]PN\"],\"name\":[\"A.x[00]PN\",\"Dayyanummi\\u0161ar[]PN\",\"Abisimti[]PN\",\"Damu[]DN\",\"Gunura[]DN\",\"Lugal.x[00]PN\",\"Ninisinak[]DN\",\"Nuhilum[]PN\",\"\\u0160umah[]DN\",\"Abumba\\u0161ti[]PN\",\"Abuni[]PN\",\"Abu\\u1e6dab[]PN\",\"KAL.bi.si[]PN\",\"PuzurErra[]PN\",\"AbuniramAni[]PN\",\"KinatU\\u02beu[]PN\",\"Kubatum[]PN\",\"TaddinE\\u0161tar[]PN\",\"\\u0160eteli[]PN\",\"Adadillat[]PN\",\"Ludi\\u014birak[]PN\",\"Agalum[]PN\",\"Balala[]PN\",\"Agu\\u02bea[]PN\",\"\\u0160u\\u02beE\\u0161tar[]PN\",\"Ahan\\u0161ibu[]PN\",\"Huba[]PN\",\"lugal[king]N\",\"Ahi\\u02beilum[]PN\",\"Lugalkugzu[]PN\",\"Ahuni[]PN\",\"Amurili[]PN\",\"Apili[]PN\",\"Dari\\u0161matum[]PN\",\"Ea\\u02beili[]PN\",\"Lammar[]DN\",\"Lisin[]PN\",\"ME.{d}I\\u0161taran[]PN\",\"Taddinkiza[]PN\",\"Ahu\\u0161uni[]PN\",\"Alid[]PN\",\"Alla[]PN\",\"\\u0160ulgirgalzu[]PN\",\"AmurEa[]PN\",\"IbbiSu\\u02beenmi\\u0161ar[]PN\",\"Liludan[]PN\",\"Lugula[]PN\",\"Anebabdu[]PN\",\"Alla\\u0161arrum[]PN\",\"AradNannak[]PN\",\"Addalal[]PN\",\"Amaknum[]PN\",\"AmarSu\\u02beenak[]RN\",\"AtalAmurru[]PN\",\"Babati[]PN\",\"Bu\\u0161udu[]PN\",\"Da\\u0161ug[]PN\",\"Enkik[]DN\",\"Ennam\\u0161ita\\u0160ulgirakebagub[]PN\",\"HidutAmarSu\\u02been[]PN\",\"IM.da.A\\u2082[]PN\",\"Kurbilak[]PN\",\"LuNannak[]PN\",\"Nawar\\u0161en[]PN\",\"Niza[]PN\",\"PuzurA\\u0161\\u0161ur[]PN\",\"UrNannak[]PN\",\"Zanum[]PN\",\"Zeri[]PN\",\"\\u0160u\\u0160ulgi[]PN\",\"Arad\\u014bu[]PN\",\"Adda[]PN\",\"Idabeli[]PN\",\"Nur\\u0160ulgi[]PN\",\"Palilum[]PN\",\"Ariphuppi[]PN\",\"Zizuh[]PN\",\"Atakkal\\u0161um[]PN\",\"Atu[]PN\",\"Inanak[]DN\",\"Meslamta\\u02bee\\u02bea[]DN\",\"Ninlil[]DN\",\"Aya\\u014bu[]PN\",\"UrEninnuk[]PN\",\"\\u014airine\\u02beisag[]PN\",\"\\u0160uNin\\u0161ubur[]PN\",\"Batugrad[]PN\",\"Baza[]PN\",\"Qurdilum[]PN\",\"Waqar\\u0160uSu\\u02been[]PN\",\"Belili[]PN\",\"Illa\\u02bei[]PN\",\"Beli\\u02beili[]PN\",\"Budu[]PN\",\"Bu\\u0161am[]PN\",\"Bu\\u02bea[]PN\",\"Edudu\\u02bea[]PN\",\"Dada[]PN\",\"\\u0160uSu\\u02beenmigirE\\u0161tar[]PN\",\"Daya[]PN\",\"Ahbabu[]PN\",\"Apila\\u0161a[]PN\",\"BurMama[]PN\",\"Ilallum[]PN\",\"Kur\\u014birini\\u0161e[]PN\",\"Lubalasagak[]PN\",\"Lugalinimginak[]PN\",\"Luka\\u0161\\u014bu[]PN\",\"Nanna[]DN\",\"Nirida\\u014bal[]PN\",\"Urgu[]PN\",\"X.i\\u2083.li\\u2082[00]PN\",\"Zukukum[]PN\",\"Baza\\u014bu[]PN\",\"Dinikun[]PN\",\"I\\u1e6dib\\u0161inat[]PN\",\"Nurili[]PN\",\"\\u0160ulgirkalamametebi[]PN\",\"\\u0160u\\u02beEnlil[]PN\",\"Utu\\u02beadgal[]PN\",\"Endi\\u014bir\\u014bu[]PN\",\"Itutu\\u02bea[]PN\",\"Enlil[]DN\",\"\\u0160e\\u0161kala[]PN\",\"Ennumili[]PN\",\"Erbeli[]PN\",\"Anaa[]PN\",\"GA.na.na.tum[]PN\",\"E\\u0161tarnada[]PN\",\"Gabidanum[]PN\",\"Galzudabulsin[]PN\",\"Ilabu\\u02beigadu[]PN\",\"UrDamuk[]PN\",\"Haburitum[]DN\",\"Ha\\u0161ipatal[]PN\",\"Hu.un.ha.ab.UR[]PN\",\"Iabti[]PN\",\"GemeEnlilak[]PN\",\"Idudu[]PN\",\"Igirumah[]PN\",\"Ilag\\u0161uqir[]PN\",\"Simat\\u0161arrim[]PN\",\"UrHendursa\\u014bak[]PN\",\"\\u0160etelili[]PN\",\"Im.x[00]PN\",\"Inimanizid[]PN\",\"Inzu[]PN\",\"Puzurili[]PN\",\"Ninlilama\\u014bu[]PN\",\"Nurmati\\u0161u[]PN\",\"Rigmu\\u0161[]PN\",\"Su\\u02beenillat[]PN\",\"Ninkala[]PN\",\"\\u0160ulgisimti[]PN\",\"KA.x[00]PN\",\"X.x[00]PN\",\"KAL.LA.ma.AD[]PN\",\"\\u0160u\\u02beEa[]PN\",\"Lamahar[]PN\",\"UrBa\\u02beuk[]PN\",\"La\\u02beili\\u0161[]PN\",\"\\u0160agtakugzu[]PN\",\"LuNan\\u0161ek[]PN\",\"Lubanda[]PN\",\"Ahuwaqar[]PN\",\"AradBa\\u02beuk[]PN\",\"Ba.x[00]PN\",\"Enu\\u02bea[]PN\",\"Errabani[]PN\",\"Gula[]DN\",\"Inimkug[]PN\",\"Lugalmagure[]PN\",\"Na.x[00]PN\",\"Nannakam[]PN\",\"Nannapalil[]PN\",\"Nawirili[]PN\",\"Ninegalakesi[]DN\",\"Ningalenunak[]DN\",\"Ninsumunak[]DN\",\"NurAdad[]PN\",\"PuzurE\\u0161tar[]PN\",\"Puzur\\u0160akan[]PN\",\"Puzuzu[]PN\",\"Re\\u02beiSu\\u02been[]PN\",\"Ribagada[]PN\",\"Ri\\u1e63ili[]PN\",\"Su\\u02beenabu\\u0161u[]PN\",\"Su\\u02beenal\\u0161u[]PN\",\"Tah\\u0161atal[]PN\",\"Ur\\u0160uSu\\u02beenak[]PN\",\"Utami\\u0161aram[]PN\",\"X.mu[00]DN\",\"Zuruh[]PN\",\"\\u0160uKabta[]PN\",\"\\u0160uSu\\u02beennaramEnlil[]PN\",\"\\u0160ulgirama[]PN\",\"Anatal[]PN\",\"Lugalituda[]PN\",\"UrIgalimak[]PN\",\"Lugaltida[]PN\",\"Lukala[]PN\",\"Lusaga[]PN\",\"Lu\\u2082.x[00]PN\",\"Allatum[]DN\",\"Ge\\u0161.\\u0161a\\u2083[00]DN\",\"Me\\u0161i\\u02bead[]PN\",\"\\u0160u\\u0161ug[]PN\",\"Na.an.na[]PN\",\"Nabasag[]PN\",\"Namhani[]PN\",\"ME.E\\u2082.a[]PN\",\"Enni\\u0161Agum[]PN\",\"Ninni\\u014bar[]DN\",\"Naramili[]PN\",\"Nintiluga[]DN\",\"Nig\\u2082.x[00]PN\",\"Nihelu[]PN\",\"Ninegalak[]DN\",\"Ningal[]DN\",\"UrNingalak[]PN\",\"Ningilin[]DN\",\"Ninhursa\\u014bak[]DN\",\"Ri.x[00]PN\",\"X[1]DN\",\"\\u0160atSu\\u02been[]PN\",\"Ninlilemana\\u014b[]PN\",\"Mulliltumnuri[]PN\",\"Ninurta[]DN\",\"Nin\\u0161uburak[]DN\",\"Lu\\u02beAmarSu\\u02beenak[]PN\",\"Ni\\u014birinimginak[]PN\",\"Aki\\u02bea[]PN\",\"Ginuna[]PN\",\"sukkalmah[official]N\",\"Zariq[]PN\",\"\\u0160ama\\u0161tillati[]PN\",\"Nur\\u0160ama\\u0161[]PN\",\"Nuska[]DN\",\"Papan\\u0161en[]PN\",\"Masagsag[]PN\",\"Il\\u0161urabi[]PN\",\"Annunitum[]DN\",\"Anumilum[]PN\",\"Hendursa\\u014bak[]DN\",\"KugUtu[]PN\",\"Nalu[]PN\",\"Ululal[]PN\",\"Watarum[]PN\",\"\\u0160ulginuri[]PN\",\"UrA\\u0161arak[]PN\",\"UrKugnunak[]PN\",\"Rabi\\u02beah[]PN\",\"Ba\\u02beu[]DN\",\"Nin\\u014birsuk[]DN\",\"Rimili[]PN\",\"\\u0160uru\\u0161kin[]PN\",\"AtuMamak[]PN\",\"UrNan\\u0161ek[]PN\",\"Libur\\u0160ulgi[]PN\",\"KinatNunu[]PN\",\"Hun\\u0160ulgi[]PN\",\"TuramDagan[]PN\",\"Uba[]PN\",\"Urmes[]PN\",\"Ubarum[]PN\",\"UrI\\u0161kurak[]PN\",\"Taburha\\u1e6d\\u1e6dum[]PN\",\"Urni\\u014barak[]PN\",\"Gude\\u02bea[]PN\",\"\\u0160uMama[]PN\",\"Matili[]PN\",\"X.x[00]DN\",\"\\u0160unundu[]PN\",\"Amabarag[]PN\",\"GemeNannak[]PN\",\"\\u0160alimni\\u02bea\\u0161[]PN\",\"\\u0160arakam[]PN\",\"\\u0160arrumili[]PN\",\"LugalAnabtum[]PN\",\"\\u0160ebba[]PN\",\"\\u0160ennam[]PN\",\"Dudu[]PN\",\"\\u0160e\\u0161ani[]PN\",\"\\u0160uSu\\u02beenili[]PN\",\"Taribu[]PN\",\"\\u0160ubram[]PN\",\"\\u0160ulgimati[]PN\",\"\\u0160ulgimi\\u0161ar[]PN\",\"\\u0160ulgir[]RN\",\"\\u0160ulgiradda\\u014bu[]PN\",\"UrSu\\u02beenak[]PN\",\"\\u0160uSu\\u02beenlilabbirha\\u1e6d\\u1e6dam[]PN\",\"Anati[]PN\",\"Ihtanassassunut[]PN\",\"\\u0160ulgi\\u02beabi[]PN\",\"\\u0160ulgi\\u02beili[]PN\"],\"node_size\":[9,96,27,3,3,42,3,6,3,3,15,9,6,126,15,3,18,9,6,6,216,3,9,3,63,15,18,87,3,63,30,39,9,6,51,6,24,15,6,3,6,3,6,3,6,3,9,3,6,84,3,3,3,3,9,3,3,9,3,6,3,6,24,6,3,9,6,6,6,27,15,3,3,3,3,3,6,3,12,15,6,12,15,3,3,3,6,6,9,9,3,6,12,6,3,3,6,15,6,6,3,3,6,27,18,3,6,3,15,12,3,3,3,3,3,9,30,12,15,15,6,36,12,15,6,6,6,3,6,3,9,9,3,3,3,3,3,3,6,3,3,3,3,15,3,6,3,27,30,9,6,3,6,3,6,12,3,3,3,12,9,3,3,3,3,3,3,3,3,6,3,6,6,6,9,12,3,3,3,9,12,3,3,9,12,15,9,9,39,9,18,6,3,6,6,6,3,3,3,3,3,3,6,3,6,3,6,3,3,9,9,3,3,6,9,3,3,3,3,6,3,6,3,3,9,6,6,6,3,3,3,3,3,6,9,3,6,3,6,3,3,3,3,3,3,3,9,6,3,9,3,3,3,3,3,6,3,6,3,3,9,12,3,6,9,3,6,6,3,3,3,3,6,3,3,6,3,6,6,3,3,3,3,3,3,3,3,6,3,3,3,3,3,3,3,3]},\"selected\":{\"id\":\"1330\",\"type\":\"Selection\"},\"selection_policy\":{\"id\":\"1331\",\"type\":\"UnionRenderers\"}},\"id\":\"1262\",\"type\":\"ColumnDataSource\"},{\"attributes\":{\"overlay\":{\"id\":\"1327\",\"type\":\"BoxAnnotation\"}},\"id\":\"1244\",\"type\":\"BoxZoomTool\"},{\"attributes\":{},\"id\":\"1330\",\"type\":\"Selection\"},{\"attributes\":{},\"id\":\"1245\",\"type\":\"SaveTool\"},{\"attributes\":{\"source\":{\"id\":\"1262\",\"type\":\"ColumnDataSource\"}},\"id\":\"1264\",\"type\":\"CDSView\"},{\"attributes\":{\"edge_renderer\":{\"id\":\"1267\",\"type\":\"GlyphRenderer\"},\"inspection_policy\":{\"id\":\"1290\",\"type\":\"NodesAndLinkedEdges\"},\"layout_provider\":{\"id\":\"1269\",\"type\":\"StaticLayoutProvider\"},\"node_renderer\":{\"id\":\"1263\",\"type\":\"GlyphRenderer\"},\"selection_policy\":{\"id\":\"1326\",\"type\":\"NodesOnly\"}},\"id\":\"1260\",\"type\":\"GraphRenderer\"},{\"attributes\":{\"data_source\":{\"id\":\"1262\",\"type\":\"ColumnDataSource\"},\"glyph\":{\"id\":\"1270\",\"type\":\"Circle\"},\"hover_glyph\":{\"id\":\"1275\",\"type\":\"Circle\"},\"muted_glyph\":null,\"view\":{\"id\":\"1264\",\"type\":\"CDSView\"}},\"id\":\"1263\",\"type\":\"GlyphRenderer\"},{\"attributes\":{},\"id\":\"1246\",\"type\":\"ResetTool\"},{\"attributes\":{},\"id\":\"1247\",\"type\":\"HelpTool\"},{\"attributes\":{\"bottom_units\":\"screen\",\"fill_alpha\":{\"value\":0.5},\"fill_color\":{\"value\":\"lightgrey\"},\"left_units\":\"screen\",\"level\":\"overlay\",\"line_alpha\":{\"value\":1.0},\"line_color\":{\"value\":\"black\"},\"line_dash\":[4,4],\"line_width\":{\"value\":2},\"render_mode\":\"css\",\"right_units\":\"screen\",\"top_units\":\"screen\"},\"id\":\"1327\",\"type\":\"BoxAnnotation\"},{\"attributes\":{\"graph_layout\":{\"A.x[00]PN\":[0.9999999988492535,1.1196935498365946e-09],\"Abisimti[]PN\":[0.9990989554351928,0.042441205262426625],\"Abumba\\u0161ti[]PN\":[0.9818067539355423,0.1898828157912688],\"Abuni[]PN\":[0.9775552142331189,0.210679263760308],\"AbuniramAni[]PN\":[0.9561667431305111,0.2928227492144445],\"Abu\\u1e6dab[]PN\":[0.9728632558109432,0.23138079133264863],\"Adadillat[]PN\":[0.9197659481883587,0.3924672610409683],\"Adda[]PN\":[0.0636379345228408,0.997973024847393],\"Addalal[]PN\":[0.48769488872990036,0.8730141521922037],\"Agalum[]PN\":[0.902280448825918,0.43114963237560083],\"Agu\\u02bea[]PN\":[0.8831689347558254,0.4690550273641338],\"Ahan\\u0161ibu[]PN\":[0.862465917067367,0.506115139083731],\"Ahbabu[]PN\":[-0.5243073696298416,0.851529061960523],\"Ahi\\u02beilum[]PN\":[0.8285096874186505,0.5599747901121392],\"Ahuni[]PN\":[0.8039970984682833,0.5946332220801683],\"Ahuwaqar[]PN\":[-0.9428774704223103,-0.3331398054931471],\"Ahu\\u0161uni[]PN\":[0.6764591924411953,0.7364801171392389],\"Aki\\u02bea[]PN\":[0.18988293384981167,-0.9818067528469018],\"Alid[]PN\":[0.6606747500340949,0.7506722810675923],\"Alla[]PN\":[0.6445925824266747,0.764526248241869],\"Allatum[]DN\":[-0.39246737916161717,-0.9197659470997182],\"Alla\\u0161arrum[]PN\":[0.5243073099630907,0.8515291215651678],\"Amabarag[]PN\":[0.8831689347558254,-0.469055054927069],\"Amaknum[]PN\":[0.46905505601570957,0.883168935906572],\"AmarSu\\u02beenak[]RN\":[0.4502037758244149,0.89292585861751],\"AmurEa[]PN\":[0.6115643970960719,0.7911946775867034],\"Amurili[]PN\":[0.7911946764359568,0.6115643386421739],\"Anaa[]PN\":[-0.8929258575288694,0.45020371737051673],\"Anatal[]PN\":[-0.5243071908159075,-0.8515291789304253],\"Anati[]PN\":[0.9963974941230626,-0.08480584499964434],\"Anebabdu[]PN\":[0.5422632091815721,0.8402086498142324],\"Annunitum[]DN\":[0.3924673790995112,-0.9197658874950734],\"Anumilum[]PN\":[0.4119012648905106,-0.9112284758148744],\"Apila\\u0161a[]PN\":[-0.5422632092436782,0.840208709418877],\"Apili[]PN\":[0.7780357590236276,0.6282200221409806],\"AradBa\\u02beuk[]PN\":[-0.9355940212574919,-0.35307758895051344],\"AradNannak[]PN\":[0.5061151379329843,0.8624659182181136],\"Arad\\u014bu[]PN\":[0.08480598019873549,0.9963974952738092],\"Ariphuppi[]PN\":[-0.02122533322109328,0.9997746944430014],\"Atakkal\\u0161um[]PN\":[-0.06363789733204385,0.997973024847393],\"AtalAmurru[]PN\":[0.43114963122485433,0.9022804499766646],\"AtuMamak[]PN\":[0.6606748096387396,-0.7506722192235605],\"Atu[]PN\":[-0.08480595045851912,0.9963974952738092],\"Aya\\u014bu[]PN\":[-0.16900081916727097,0.9856159091156848],\"Ba.x[00]PN\":[-0.9278889884406492,-0.37285652602973124],\"Babati[]PN\":[0.4119012350881882,0.9112284780542615],\"Balala[]PN\":[0.8929258574667633,0.45020374717283906],\"Batugrad[]PN\":[-0.25197803949043096,0.9677329659823268],\"Baza[]PN\":[-0.27246180149332855,0.9621666074222752],\"Baza\\u014bu[]PN\":[-0.736480175655243,0.6764591339872972],\"Ba\\u02beu[]DN\":[0.5946332209294217,-0.8039970973796428],\"Belili[]PN\":[-0.3331397470392489,0.9428774715109508],\"Beli\\u02beili[]PN\":[-0.3728564973781554,0.9278890491339344],\"Budu[]PN\":[-0.39246731955697245,0.9197659493391053],\"BurMama[]PN\":[-0.5599747294188541,0.8285096885693971],\"Bu\\u0161am[]PN\":[-0.41190120534797187,0.9112285376589062],\"Bu\\u0161udu[]PN\":[0.3924672300878994,0.9197660089437499],\"Bu\\u02bea[]PN\":[-0.431149690891605,0.9022803903720199],\"Dada[]PN\":[-0.4690549368685262,0.8831689955112166],\"Damu[]DN\":[0.9979730236966464,0.0636378984206844],\"Dari\\u0161matum[]PN\":[0.7645262470911224,0.6445925835774213],\"Daya[]PN\":[-0.5061150783904458,0.8624659778227582],\"Dayyanummi\\u0161ar[]PN\":[0.9997746932922548,0.021225384601152808],\"Da\\u0161ug[]PN\":[0.3728565271183718,0.9278889895292897],\"Dinikun[]PN\":[-0.7506722799789518,0.6606747511848415],\"Dudu[]PN\":[0.949736117222184,-0.3130516395171808],\"Ea\\u02beili[]PN\":[0.7506722799168457,0.6606747511848415],\"Edudu\\u02bea[]PN\":[-0.45020374608419855,0.89292585861751],\"Endi\\u014bir\\u014bu[]PN\":[-0.8285096874807566,0.5599746709028498],\"Enkik[]DN\":[0.3530777092484434,0.9355940223461324],\"Enlil[]DN\":[-0.8515291204765273,0.5243073707184821],\"Ennam\\u0161ita\\u0160ulgirakebagub[]PN\":[0.33313977677946527,0.9428774715109508],\"Enni\\u0161Agum[]PN\":[-0.23138070083704101,-0.9728632547223027],\"Ennumili[]PN\":[-0.8730140914989184,0.48769497928761396],\"Enu\\u02bea[]PN\":[-0.9197660078551094,-0.39246722899925884],\"Erbeli[]PN\":[-0.8831689944225761,0.46905490815484435],\"Errabani[]PN\":[-0.9112284173609763,-0.4119013532088371],\"E\\u0161tarnada[]PN\":[-0.9112285365702657,0.41190117663429004],\"GA.na.na.tum[]PN\":[-0.9022803892833794,0.43114969198024555],\"Gabidanum[]PN\":[-0.9197659482504648,0.3924672908432907],\"Galzudabulsin[]PN\":[-0.9278890480452939,0.3728563792575066],\"GemeEnlilak[]PN\":[-0.9728632558730493,0.23138085093729335],\"GemeNannak[]PN\":[0.8929257978621187,-0.4502038641427414],\"Ge\\u0161.\\u0161a\\u2083[00]DN\":[-0.3728566463897672,-0.9278889276852579],\"Ginuna[]PN\":[0.2106792924118838,-0.9775552131444784],\"Gude\\u02bea[]PN\":[0.8285096278140057,-0.5599748474773969],\"Gula[]DN\":[-0.9022804488880241,-0.43114963013621377],\"Gunura[]DN\":[0.9963974941230626,0.0848059291954179],\"Haburitum[]DN\":[-0.9497360576796454,0.31305173116353496],\"Ha\\u0161ipatal[]PN\":[-0.9561667431926172,0.2928227790167669],\"Hendursa\\u014bak[]DN\":[0.4311495716202096,-0.9022804477372774],\"HidutAmarSu\\u02been[]PN\":[0.31305178961743313,0.9497360587682859],\"Hu.un.ha.ab.UR[]PN\":[-0.96216654672899,0.2724619217912585],\"Huba[]PN\":[0.8515291204144212,0.5243072515091927],\"Hun\\u0160ulgi[]PN\":[0.7219562522123351,-0.6919386963973257],\"IM.da.A\\u2082[]PN\":[0.2928227182613756,0.9561667442812577],\"Iabti[]PN\":[-0.9677329648936863,0.2519780405790715],\"IbbiSu\\u02beenmi\\u0161ar[]PN\":[0.5946331613247771,0.8039971592236747],\"Idabeli[]PN\":[0.04244120783697037,0.9990989565859394],\"Idudu[]PN\":[-0.9775552738998697,0.2106791892545021],\"Igirumah[]PN\":[-0.9818067539976484,0.18988284559359117],\"Ihtanassassunut[]PN\":[0.9979730236966464,-0.06363791853303907],\"Ilabu\\u02beigadu[]PN\":[-0.9355940212574919,0.3530776507945453],\"Ilag\\u0161uqir[]PN\":[-0.9856159080270442,0.16900092456403978],\"Ilallum[]PN\":[-0.5774341219469122,0.816437304225462],\"Illa\\u02bei[]PN\":[-0.35307767950822705,0.9355940223461324],\"Il\\u0161urabi[]PN\":[0.3728566761299836,-0.9278889276852579],\"Im.x[00]PN\":[-0.9963974941851687,0.08480593664599849],\"Inanak[]DN\":[-0.10593578210657496,0.9943729639116351],\"Inimanizid[]PN\":[-0.9979730237587525,0.06363801017939323],\"Inimkug[]PN\":[-0.8929259171335141,-0.4502036555264849],\"Inzu[]PN\":[-0.9990989554972989,0.04244116800952368],\"Itutu\\u02bea[]PN\":[-0.8402087083302365,0.5422632103323187],\"I\\u1e6dib\\u0161inat[]PN\":[-0.7645263067578731,0.6445925239727767],\"KA.x[00]PN\":[-0.9919004429511903,-0.12701780967882792],\"KAL.LA.ma.AD[]PN\":[-0.9856159080270442,-0.16900086272000794],\"KAL.bi.si[]PN\":[0.9677329648315802,0.25197807038139386],\"KinatNunu[]PN\":[0.7071067086574898,-0.7071068863827834],\"KinatU\\u02beu[]PN\":[0.9497360576175393,0.31305182057050207],\"Kubatum[]PN\":[0.9428774703602042,0.3331398077325342],\"KugUtu[]PN\":[0.4502035970104808,-0.8929259159827675],\"Kurbilak[]PN\":[0.2724618312335449,0.9621666074222752],\"Kur\\u014birini\\u0161e[]PN\":[-0.5946331613868832,0.8039971592236747],\"Lamahar[]PN\":[-0.977555214295225,-0.21067936582904911],\"Lammar[]DN\":[0.7364801159884923,0.676459193591942],\"La\\u02beili\\u0161[]PN\":[-0.9677329648936863,-0.2519779787350397],\"Libur\\u0160ulgi[]PN\":[0.6919388166952557,-0.7219561319144051],\"Liludan[]PN\":[0.5774340622801615,0.816437304225462],\"Lisin[]PN\":[0.721956073398401,0.691938877450647],\"LuNannak[]PN\":[0.2519780692306473,0.9677329659823268],\"LuNan\\u0161ek[]PN\":[-0.9561667431926172,-0.29282271717273506],\"Lubalasagak[]PN\":[-0.6115644567628228,0.7911946179820586],\"Lubanda[]PN\":[-0.9497359980750008,-0.313051907738082],\"Ludi\\u014birak[]PN\":[0.9112284769035149,0.41190123623893476],\"Lugal.x[00]PN\":[0.9943729627608885,0.10593573849173199],\"LugalAnabtum[]PN\":[0.9278889883785431,-0.37285649622740885],\"Lugalinimginak[]PN\":[-0.6282200210523401,0.7780357601743743],\"Lugalituda[]PN\":[-0.5061151379950904,-0.8624659159787265],\"Lugalkugzu[]PN\":[0.8164373030747154,0.5774340634309081],\"Lugalmagure[]PN\":[-0.8831689348179315,-0.469055054927069],\"Lugaltida[]PN\":[-0.46905520508942733,-0.8831688740625401],\"Lugula[]PN\":[0.5599747889613926,0.8285096289647523],\"Lukala[]PN\":[-0.4502035672702644,-0.8929259159827675],\"Luka\\u0161\\u014bu[]PN\":[-0.6445925228841362,0.7645263078465137],\"Lusaga[]PN\":[-0.4311495418799932,-0.9022805073419222],\"Lu\\u02beAmarSu\\u02beenak[]PN\":[0.14804249982225828,-0.988981006302614],\"Lu\\u2082.x[00]PN\":[-0.4119012649526166,-0.9112284758148744],\"ME.E\\u2082.a[]PN\":[-0.2519778904788192,-0.9677329637429397],\"ME.{d}I\\u0161taran[]PN\":[0.7071067682621346,0.7071067694128812],\"Masagsag[]PN\":[0.3530775304345093,-0.93559407971139],\"Matili[]PN\":[0.8515290012051318,-0.5243074876883844],\"Meslamta\\u02bee\\u02bea[]DN\":[-0.1270177810272521,0.9919004440398308],\"Me\\u0161i\\u02bead[]PN\":[-0.35307750069429295,-0.93559407971139],\"Mulliltumnuri[]PN\":[0.0848060323527996,-0.996397493034422],\"Na.an.na[]PN\":[-0.3130518194818615,-0.9497360565288988],\"Na.x[00]PN\":[-0.8730141511035632,-0.4876949174435821],\"Nabasag[]PN\":[-0.2928228673350934,-0.9561666824372258],\"Nalu[]PN\":[0.46905520502732134,-0.8831688144578954],\"Namhani[]PN\":[-0.27246198030726265,-0.9621665455782434],\"Nanna[]DN\":[-0.660674750096201,0.7506722810675923],\"Nannakam[]PN\":[-0.8624658575248283,-0.5061152560536333],\"Nannapalil[]PN\":[-0.8515291204765273,-0.5243073088744502],\"Naramili[]PN\":[-0.1898829190107565,-0.9818067528469018],\"Nawar\\u0161en[]PN\":[0.2313807752807409,0.9728632569616898],\"Nawirili[]PN\":[-0.8402087083302365,-0.5422631484882868],\"Nig\\u2082.x[00]PN\":[-0.1480424700820419,-0.988981006302614],\"Nihelu[]PN\":[-0.12701772142260742,-0.9919004418004437],\"Ninegalak[]DN\":[-0.10593572995251084,-0.994372961672248],\"Ninegalakesi[]DN\":[-0.8285096278761118,-0.5599748474773969],\"Ningal[]DN\":[-0.08480601006316382,-0.996397493034422],\"Ningalenunak[]DN\":[-0.8164373627414663,-0.577434061191521],\"Ningilin[]DN\":[-0.042441003008110184,-0.9990989543465523],\"Ninhursa\\u014bak[]DN\":[-0.021225277341738867,-0.9997746922036143],\"Ninisinak[]DN\":[0.9919004428890842,0.1270178268193762],\"Ninkala[]PN\":[-0.9963974941851687,-0.08480587480196669],\"Ninlil[]DN\":[-0.14804264889597604,0.9889809489373563],\"Ninlilama\\u014bu[]PN\":[-0.9999999989113595,-8.630308292575254e-08],\"Ninlilemana\\u014b[]PN\":[0.06363810588619434,-0.9979730226080059],\"Ninni\\u014bar[]DN\":[-0.21067926267166742,-0.9775552131444784],\"Ninsumunak[]DN\":[-0.8039970389257447,-0.594633279445426],\"Nintiluga[]DN\":[-0.1690009979812051,-0.985615847271653],\"Ninurta[]DN\":[0.10593575224214663,-0.994372961672248],\"Nin\\u014birsuk[]DN\":[0.6115643374914272,-0.7911947349519609],\"Nin\\u0161uburak[]DN\":[0.1270177362616626,-0.9919004418004437],\"Nirida\\u014bal[]PN\":[-0.6764591328986567,0.7364801171392389],\"Niza[]PN\":[0.21067923280723908,0.9775552749885102],\"Ni\\u014birinimginak[]PN\":[0.16900102772142145,-0.985615847271653],\"Nuhilum[]PN\":[0.9889809477866097,0.14804266488577777],\"NurAdad[]PN\":[-0.7911946764980629,-0.6115643960074314],\"Nurili[]PN\":[-0.7780357590857337,0.6282199625363359],\"Nurmati\\u0161u[]PN\":[-0.9997746933543609,-0.021225374911185122],\"Nur\\u0160ama\\u0161[]PN\":[0.29282289707530973,-0.9561666824372258],\"Nur\\u0160ulgi[]PN\":[0.02122536482395479,0.9997746944430014],\"Nuska[]DN\":[0.3130518194197555,-0.9497360565288988],\"Palilum[]PN\":[-4.374244123577062e-08,1.0],\"Papan\\u0161en[]PN\":[0.3331397171748206,-0.9428774692715637],\"PuzurA\\u0161\\u0161ur[]PN\":[0.18988276993703873,0.9818067550862889],\"PuzurErra[]PN\":[0.9621666062715286,0.2724618025819691],\"PuzurE\\u0161tar[]PN\":[-0.7780358186903785,-0.6282199602969488],\"Puzurili[]PN\":[-0.9997746933543609,0.021225440480507222],\"Puzur\\u0160akan[]PN\":[-0.7645262471532285,-0.644592640942679],\"Puzuzu[]PN\":[-0.7506723395835966,-0.6606746893408096],\"Qurdilum[]PN\":[-0.29282280773044866,0.9561667442812577],\"Rabi\\u02beah[]PN\":[0.5774341814894509,-0.8164372423814302],\"Re\\u02beiSu\\u02been[]PN\":[-0.736480175655243,-0.6764591317479101],\"Ri.x[00]PN\":[1.1893827627174792e-08,-0.999999997760613],\"Ribagada[]PN\":[-0.721956073460507,-0.6919388752112599],\"Rigmu\\u0161[]PN\":[-0.9990989554972989,-0.04244110244020158],\"Rimili[]PN\":[0.6282199017809447,-0.7780358175396319],\"Ri\\u1e63ili[]PN\":[-0.7071068279288854,-0.7071067075688493],\"Simat\\u0161arrim[]PN\":[-0.9889810074533606,0.14804263508345542],\"Su\\u02beenabu\\u0161u[]PN\":[-0.6919388167573618,-0.7219561319144051],\"Su\\u02beenal\\u0161u[]PN\":[-0.6764591925033014,-0.7364801148998518],\"Su\\u02beenillat[]PN\":[-0.9979730237587525,-0.06363794088478084],\"Taburha\\u1e6d\\u1e6dum[]PN\":[0.8039972176775727,-0.5946330410268471],\"TaddinE\\u0161tar[]PN\":[0.9355940211953858,0.3530776805968676],\"Taddinkiza[]PN\":[0.6919388762999004,0.7219560745491476],\"Tah\\u0161atal[]PN\":[-0.6606748097008457,-0.7506722192235605],\"Taribu[]PN\":[0.9677329052269354,-0.2519781873512962],\"TuramDagan[]PN\":[0.7364802351977816,-0.6764590721432654],\"Uba[]PN\":[0.7506723395214905,-0.6606746893408096],\"Ubarum[]PN\":[0.7780356398143383,-0.6282200795062383],\"Ululal[]PN\":[0.48769506754383446,-0.8730140307435271],\"UrA\\u0161arak[]PN\":[0.5422630899722827,-0.8402087667841347],\"UrBa\\u02beuk[]PN\":[-0.9728632558730493,-0.2313807890932615],\"UrDamuk[]PN\":[-0.9428774108176656,0.33313986733717893],\"UrEninnuk[]PN\":[-0.1898828445049506,0.9818067550862889],\"UrHendursa\\u014bak[]PN\":[-0.9919004429511903,0.12701788642402093],\"UrIgalimak[]PN\":[-0.4876950378036181,-0.8730140307435271],\"UrI\\u0161kurak[]PN\":[0.7911945572266673,-0.6115645748213656],\"UrKugnunak[]PN\":[0.5599749677753267,-0.8285095075160758],\"UrNannak[]PN\":[0.16900084890748734,0.9856159091156848],\"UrNan\\u0161ek[]PN\":[0.67645925204584,-0.736480055295207],\"UrNingalak[]PN\":[-0.06363808359655856,-0.9979730226080059],\"UrSu\\u02beenak[]PN\":[0.9919003832844395,-0.12701803319624558],\"Urgu[]PN\":[-0.6919389359666512,0.7219560149445029],\"Urmes[]PN\":[0.7645262470911224,-0.6445925813380342],\"Urni\\u014barak[]PN\":[0.8164373626793602,-0.5774340015868763],\"Ur\\u0160uSu\\u02beenak[]PN\":[-0.6445927613027149,-0.7645261267931924],\"Utami\\u0161aram[]PN\":[-0.628219842238406,-0.7780358771442766],\"Utu\\u02beadgal[]PN\":[-0.8164373031368215,0.5774341230355527],\"Waqar\\u0160uSu\\u02been[]PN\":[-0.31305184928418384,0.9497360587682859],\"Watarum[]PN\":[0.5061151379329843,-0.8624659159787265],\"X.i\\u2083.li\\u2082[00]PN\":[-0.7071067683242407,0.7071067694128812],\"X.mu[00]DN\":[-0.6115642779488887,-0.7911947349519609],\"X.x[00]DN\":[0.8624659766720116,-0.5061150176350544],\"X.x[00]PN\":[-0.9889810074533606,-0.1480425732394236],\"X[1]DN\":[0.02122530149401979,-0.9997746922036143],\"Zanum[]PN\":[0.14804267863619242,0.9889809489373563],\"Zariq[]PN\":[0.2519778904167132,-0.9677329637429397],\"Zeri[]PN\":[0.1270178107674685,0.9919004440398308],\"Zizuh[]PN\":[-0.04244117809675401,0.9990989565859394],\"Zukukum[]PN\":[-0.7219560138558624,0.6919389370552917],\"Zuruh[]PN\":[-0.5946331613868832,-0.8039970973796428],\"lugal[king]N\":[0.8402086486634858,0.5422632103323187],\"sukkalmah[official]N\":[0.2313807156760962,-0.9728632547223027],\"\\u014airine\\u02beisag[]PN\":[-0.21067932227631214,0.9775552153838655],\"\\u0160agtakugzu[]PN\":[-0.9621666063336347,-0.2724618599472267],\"\\u0160alimni\\u02bea\\u0161[]PN\":[0.9022803296166285,-0.4311498387524702],\"\\u0160ama\\u0161tillati[]PN\":[0.27246201004747905,-0.9621665455782434],\"\\u0160arakam[]PN\":[0.9112285365081596,-0.41190111479025826],\"\\u0160arrumili[]PN\":[0.9197660077930033,-0.39246722899925884],\"\\u0160atSu\\u02been[]PN\":[0.042441025297745946,-0.9990989543465523],\"\\u0160ebba[]PN\":[0.935593961590741,-0.35307779756676994],\"\\u0160ennam[]PN\":[0.9428773511509148,-0.3331400141094036],\"\\u0160eteli[]PN\":[0.9278890479831878,0.37285646866447364],\"\\u0160etelili[]PN\":[-0.9943729628229946,0.10593565653534551],\"\\u0160e\\u0161ani[]PN\":[0.9561667431305111,-0.29282271717273506],\"\\u0160e\\u0161kala[]PN\":[-0.8624659767341177,0.5061150794790863],\"\\u0160uKabta[]PN\":[-0.577434181551557,-0.8164372423814302],\"\\u0160uMama[]PN\":[0.8402085890588411,-0.542263327302221],\"\\u0160uNin\\u0161ubur[]PN\":[-0.23138074554052454,0.9728632569616898],\"\\u0160uSu\\u02beenili[]PN\":[0.9621666062715286,-0.2724618301449043],\"\\u0160uSu\\u02beenlilabbirha\\u1e6d\\u1e6dam[]PN\":[0.9943730223655333,-0.10593556488899136],\"\\u0160uSu\\u02beenmigirE\\u0161tar[]PN\":[-0.4876949781989734,0.8730140925875589],\"\\u0160uSu\\u02beennaramEnlil[]PN\":[-0.5599749678374328,-0.8285095075160758],\"\\u0160ubram[]PN\":[0.9728631962062986,-0.231380997709518],\"\\u0160ulgimati[]PN\":[0.9775552738377636,-0.2106791125093091],\"\\u0160ulgimi\\u0161ar[]PN\":[0.9818067539355423,-0.18988275394723697],\"\\u0160ulginuri[]PN\":[0.524307250358446,-0.8515291789304253],\"\\u0160ulgir[]RN\":[0.9856159079649381,-0.16900084781884678],\"\\u0160ulgiradda\\u014bu[]PN\":[0.9889809477866097,-0.14804278185568007],\"\\u0160ulgirama[]PN\":[-0.5422630304297441,-0.8402087667841347],\"\\u0160ulgirgalzu[]PN\":[0.6282199613855893,0.7780357601743743],\"\\u0160ulgirkalamametebi[]PN\":[-0.7911946168934181,0.6115644578514633],\"\\u0160ulgisimti[]PN\":[-0.9943729628229946,-0.10593582565931196],\"\\u0160ulgi\\u02beabi[]PN\":[0.9990989554351928,-0.04244131478174835],\"\\u0160ulgi\\u02beili[]PN\":[0.9997746932922548,-0.021225589115377044],\"\\u0160umah[]DN\":[0.9856159079649381,0.16900082025591154],\"\\u0160unundu[]PN\":[0.8730141510414571,-0.4876948876412598],\"\\u0160uru\\u0161kin[]PN\":[0.6445927612406088,-0.7645261267931924],\"\\u0160u\\u0160ulgi[]PN\":[0.10593570008808251,0.9943729639116351],\"\\u0160u\\u0161ug[]PN\":[-0.3331397172369266,-0.9428774692715637],\"\\u0160u\\u02beEa[]PN\":[-0.9818067539976484,-0.18988276884839816],\"\\u0160u\\u02beEnlil[]PN\":[-0.8039971581350341,0.594633102870879],\"\\u0160u\\u02beE\\u0161tar[]PN\":[0.8730140914368123,0.4876949494852916]}},\"id\":\"1269\",\"type\":\"StaticLayoutProvider\"},{\"attributes\":{},\"id\":\"1230\",\"type\":\"LinearScale\"},{\"attributes\":{\"formatter\":{\"id\":\"1314\",\"type\":\"BasicTickFormatter\"},\"ticker\":{\"id\":\"1233\",\"type\":\"BasicTicker\"}},\"id\":\"1232\",\"type\":\"LinearAxis\"},{\"attributes\":{},\"id\":\"1233\",\"type\":\"BasicTicker\"},{\"attributes\":{},\"id\":\"1316\",\"type\":\"BasicTickFormatter\"},{\"attributes\":{},\"id\":\"1238\",\"type\":\"BasicTicker\"},{\"attributes\":{},\"id\":\"1314\",\"type\":\"BasicTickFormatter\"},{\"attributes\":{},\"id\":\"1228\",\"type\":\"LinearScale\"},{\"attributes\":{\"ticker\":{\"id\":\"1233\",\"type\":\"BasicTicker\"}},\"id\":\"1236\",\"type\":\"Grid\"},{\"attributes\":{\"fill_color\":{\"value\":\"#abdda4\"},\"size\":{\"field\":\"node_size\",\"units\":\"screen\"}},\"id\":\"1275\",\"type\":\"Circle\"},{\"attributes\":{\"formatter\":{\"id\":\"1316\",\"type\":\"BasicTickFormatter\"},\"ticker\":{\"id\":\"1238\",\"type\":\"BasicTicker\"}},\"id\":\"1237\",\"type\":\"LinearAxis\"},{\"attributes\":{\"active_drag\":\"auto\",\"active_inspect\":\"auto\",\"active_multi\":null,\"active_scroll\":\"auto\",\"active_tap\":\"auto\",\"tools\":[{\"id\":\"1242\",\"type\":\"PanTool\"},{\"id\":\"1243\",\"type\":\"WheelZoomTool\"},{\"id\":\"1244\",\"type\":\"BoxZoomTool\"},{\"id\":\"1245\",\"type\":\"SaveTool\"},{\"id\":\"1246\",\"type\":\"ResetTool\"},{\"id\":\"1247\",\"type\":\"HelpTool\"},{\"id\":\"1255\",\"type\":\"HoverTool\"}]},\"id\":\"1248\",\"type\":\"Toolbar\"},{\"attributes\":{},\"id\":\"1326\",\"type\":\"NodesOnly\"},{\"attributes\":{\"callback\":null,\"data\":{\"edge_type\":[\"transaction\",\"transaction\",\"transaction\",\"transaction\",\"transaction\",\"transaction\",\"transaction\",\"transaction\",\"transaction\",\"transaction\",\"transaction\",\"transaction\",\"transaction\",\"transaction\",\"transaction\",\"transaction\",\"transaction\",\"transaction\",\"transaction\",\"transaction\",\"transaction\",\"transaction\",\"transaction\",\"transaction\",\"transaction\",\"transaction\",\"relation\",\"transaction\",\"transaction\",\"relation\",\"relation\",\"transaction\",\"transaction\",\"transaction\",\"transaction\",\"transaction\",\"transaction\",\"transaction\",\"transaction\",\"transaction\",\"transaction\",\"transaction\",\"transaction\",\"transaction\",\"transaction\",\"transaction\",\"transaction\",\"transaction\",\"transaction\",\"transaction\",\"transaction\",\"transaction\",\"transaction\",\"transaction\",\"transaction\",\"transaction\",\"transaction\",\"transaction\",\"transaction\",\"transaction\",\"transaction\",\"transaction\",\"transaction\",\"transaction\",\"transaction\",\"transaction\",\"transaction\",\"transaction\",\"relation\",\"relation\",\"transaction\",\"transaction\",\"transaction\",\"transaction\",\"transaction\",\"transaction\",\"transaction\",\"transaction\",\"transaction\",\"transaction\",\"transaction\",\"transaction\",\"transaction\",\"transaction\",\"transaction\",\"transaction\",\"transaction\",\"transaction\",\"transaction\",\"transaction\",\"transaction\",\"transaction\",\"transaction\",\"transaction\",\"transaction\",\"transaction\",\"transaction\",\"transaction\",\"transaction\",\"transaction\",\"transaction\",\"transaction\",\"transaction\",\"transaction\",\"transaction\",\"transaction\",\"transaction\",\"transaction\",\"transaction\",\"transaction\",\"transaction\",\"transaction\",\"transaction\",\"transaction\",\"transaction\",\"transaction\",\"transaction\",\"transaction\",\"transaction\",\"transaction\",\"transaction\",\"transaction\",\"transaction\",\"relation\",\"transaction\",\"transaction\",\"transaction\",\"transaction\",\"transaction\",\"transaction\",\"transaction\",\"transaction\",\"transaction\",\"transaction\",\"transaction\",\"transaction\",\"transaction\",\"transaction\",\"transaction\",\"transaction\",\"transaction\",\"transaction\",\"transaction\",\"relation\",\"relation\",\"relation\",\"transaction\",\"relation\",\"relation\",\"relation\",\"relation\",\"relation\",\"relation\",\"relation\",\"relation\",\"relation\",\"transaction\",\"transaction\",\"transaction\",\"transaction\",\"transaction\",\"transaction\",\"transaction\",\"transaction\",\"transaction\",\"transaction\",\"transaction\",\"transaction\",\"transaction\",\"transaction\",\"transaction\",\"transaction\",\"transaction\",\"transaction\",\"transaction\",\"transaction\",\"transaction\",\"transaction\",\"transaction\",\"transaction\",\"transaction\",\"transaction\",\"transaction\",\"transaction\",\"transaction\",\"relation\",\"transaction\",\"transaction\",\"transaction\",\"transaction\",\"transaction\",\"transaction\",\"transaction\",\"transaction\",\"relation\",\"relation\",\"transaction\",\"transaction\",\"transaction\",\"relation\",\"transaction\",\"transaction\",\"transaction\",\"transaction\",\"transaction\",\"transaction\",\"transaction\",\"transaction\",\"transaction\",\"transaction\",\"transaction\",\"transaction\",\"transaction\",\"transaction\",\"transaction\",\"transaction\",\"transaction\",\"transaction\",\"transaction\",\"transaction\",\"transaction\",\"relation\",\"transaction\",\"transaction\",\"transaction\",\"transaction\",\"transaction\",\"transaction\",\"transaction\",\"transaction\",\"transaction\",\"relation\",\"relation\",\"transaction\",\"transaction\",\"transaction\",\"transaction\",\"transaction\",\"transaction\",\"transaction\",\"transaction\",\"transaction\",\"transaction\",\"transaction\",\"transaction\",\"relation\",\"transaction\",\"transaction\",\"transaction\",\"transaction\",\"transaction\",\"relation\",\"relation\",\"transaction\",\"transaction\",\"relation\",\"transaction\",\"transaction\",\"transaction\",\"transaction\",\"relation\",\"transaction\",\"transaction\",\"relation\",\"relation\",\"relation\",\"transaction\",\"transaction\",\"transaction\",\"relation\",\"transaction\",\"transaction\",\"transaction\",\"transaction\",\"transaction\",\"transaction\",\"relation\",\"transaction\",\"transaction\",\"transaction\",\"transaction\",\"transaction\",\"transaction\",\"transaction\",\"transaction\",\"transaction\",\"transaction\",\"transaction\",\"transaction\",\"transaction\",\"transaction\",\"transaction\",\"transaction\",\"transaction\",\"transaction\",\"transaction\",\"transaction\",\"transaction\",\"transaction\",\"transaction\",\"relation\",\"relation\",\"relation\",\"transaction\",\"transaction\",\"transaction\",\"transaction\",\"relation\",\"transaction\",\"transaction\",\"transaction\",\"transaction\",\"relation\",\"transaction\",\"transaction\",\"relation\",\"transaction\",\"transaction\",\"transaction\",\"transaction\",\"transaction\",\"transaction\",\"transaction\",\"transaction\",\"transaction\",\"transaction\",\"transaction\",\"transaction\",\"transaction\",\"transaction\",\"transaction\",\"transaction\",\"transaction\",\"transaction\",\"transaction\",\"transaction\",\"transaction\",\"transaction\",\"transaction\",\"transaction\",\"transaction\",\"transaction\",\"relation\",\"transaction\",\"transaction\",\"relation\",\"transaction\",\"transaction\",\"transaction\",\"transaction\",\"transaction\",\"relation\",\"transaction\",\"transaction\",\"transaction\",\"transaction\",\"transaction\",\"relation\",\"transaction\",\"transaction\",\"transaction\",\"transaction\",\"transaction\",\"transaction\",\"transaction\",\"transaction\",\"transaction\",\"transaction\",\"transaction\",\"transaction\",\"transaction\",\"relation\",\"transaction\",\"transaction\",\"transaction\",\"transaction\",\"transaction\",\"transaction\",\"transaction\",\"transaction\",\"transaction\",\"transaction\",\"transaction\",\"transaction\",\"transaction\",\"transaction\",\"transaction\",\"transaction\",\"transaction\",\"transaction\",\"transaction\",\"transaction\",\"transaction\",\"transaction\",\"transaction\",\"transaction\",\"transaction\",\"transaction\",\"transaction\",\"transaction\",\"relation\",\"transaction\",\"transaction\",\"transaction\",\"relation\",\"transaction\",\"transaction\",\"transaction\",\"transaction\",\"transaction\",\"transaction\",\"relation\",\"transaction\",\"relation\",\"relation\",\"relation\",\"relation\",\"relation\",\"relation\",\"transaction\",\"transaction\",\"transaction\",\"transaction\",\"transaction\",\"transaction\",\"transaction\",\"transaction\",\"transaction\",\"transaction\",\"transaction\",\"relation\",\"transaction\",\"transaction\",\"transaction\",\"transaction\",\"transaction\",\"transaction\",\"relation\",\"transaction\",\"relation\",\"transaction\",\"transaction\",\"transaction\",\"transaction\",\"transaction\",\"relation\",\"transaction\",\"relation\",\"transaction\",\"relation\",\"transaction\",\"transaction\",\"transaction\",\"transaction\",\"transaction\",\"relation\",\"transaction\"],\"end\":[\"Dayyanummi\\u0161ar[]PN\",\"A.x[00]PN\",\"Abuni[]PN\",\"Ahan\\u0161ibu[]PN\",\"Ahbabu[]PN\",\"Apila\\u0161a[]PN\",\"AradNannak[]PN\",\"BurMama[]PN\",\"Huba[]PN\",\"Ilallum[]PN\",\"Inanak[]DN\",\"Kur\\u014birini\\u0161e[]PN\",\"Lubalasagak[]PN\",\"Lugalinimginak[]PN\",\"Lugalkugzu[]PN\",\"Luka\\u0161\\u014bu[]PN\",\"Nanna[]DN\",\"Nirida\\u014bal[]PN\",\"Urgu[]PN\",\"X.i\\u2083.li\\u2082[00]PN\",\"Zukukum[]PN\",\"lugal[king]N\",\"Damu[]DN\",\"Gunura[]DN\",\"Lugal.x[00]PN\",\"Ninisinak[]DN\",\"Nuhilum[]PN\",\"\\u0160umah[]DN\",\"Lugal.x[00]PN\",\"Abu\\u1e6dab[]PN\",\"KAL.bi.si[]PN\",\"PuzurErra[]PN\",\"PuzurErra[]PN\",\"Ahuni[]PN\",\"Annunitum[]DN\",\"Anumilum[]PN\",\"AradNannak[]PN\",\"Atu[]PN\",\"Aya\\u014bu[]PN\",\"Balala[]PN\",\"Dada[]PN\",\"Enkik[]DN\",\"Enlil[]DN\",\"Hendursa\\u014bak[]DN\",\"Ilallum[]PN\",\"Inanak[]DN\",\"KugUtu[]PN\",\"La\\u02beili\\u0161[]PN\",\"Lisin[]PN\",\"LuNannak[]PN\",\"Lugalkugzu[]PN\",\"Nalu[]PN\",\"Namhani[]PN\",\"Nanna[]DN\",\"Ninlil[]DN\",\"Ninurta[]DN\",\"Puzurili[]PN\",\"Ululal[]PN\",\"Utami\\u0161aram[]PN\",\"Watarum[]PN\",\"lugal[king]N\",\"\\u0160ulginuri[]PN\",\"KinatU\\u02beu[]PN\",\"Kubatum[]PN\",\"TaddinE\\u0161tar[]PN\",\"\\u0160eteli[]PN\",\"KA.x[00]PN\",\"Lugal.x[00]PN\",\"KinatNunu[]PN\",\"Dudu[]PN\",\"Ludi\\u014birak[]PN\",\"Abisimti[]PN\",\"Ahan\\u0161ibu[]PN\",\"Ahuwaqar[]PN\",\"Amurili[]PN\",\"AradBa\\u02beuk[]PN\",\"AradNannak[]PN\",\"Arad\\u014bu[]PN\",\"Aya\\u014bu[]PN\",\"Ba.x[00]PN\",\"Babati[]PN\",\"BurMama[]PN\",\"Dada[]PN\",\"Enu\\u02bea[]PN\",\"Erbeli[]PN\",\"Errabani[]PN\",\"Gula[]DN\",\"Inimkug[]PN\",\"Lisin[]PN\",\"Lugalkugzu[]PN\",\"Lugalmagure[]PN\",\"Na.x[00]PN\",\"Nanna[]DN\",\"Nannakam[]PN\",\"Nannapalil[]PN\",\"Nawirili[]PN\",\"Ninegalakesi[]DN\",\"Ningalenunak[]DN\",\"Ninlilama\\u014bu[]PN\",\"Ninsumunak[]DN\",\"NurAdad[]PN\",\"PuzurErra[]PN\",\"PuzurE\\u0161tar[]PN\",\"Puzur\\u0160akan[]PN\",\"Puzuzu[]PN\",\"Qurdilum[]PN\",\"Re\\u02beiSu\\u02been[]PN\",\"Ribagada[]PN\",\"Ri\\u1e63ili[]PN\",\"Su\\u02beenabu\\u0161u[]PN\",\"Su\\u02beenal\\u0161u[]PN\",\"Tah\\u0161atal[]PN\",\"Ur\\u0160uSu\\u02beenak[]PN\",\"Utami\\u0161aram[]PN\",\"Waqar\\u0160uSu\\u02been[]PN\",\"X.mu[00]DN\",\"Zuruh[]PN\",\"lugal[king]N\",\"\\u0160etelili[]PN\",\"\\u0160uKabta[]PN\",\"\\u0160uSu\\u02beennaramEnlil[]PN\",\"\\u0160ulgirama[]PN\",\"\\u0160u\\u0160ulgi[]PN\",\"Balala[]PN\",\"\\u0160u\\u02beE\\u0161tar[]PN\",\"Anati[]PN\",\"Beli\\u02beili[]PN\",\"Hun\\u0160ulgi[]PN\",\"Ihtanassassunut[]PN\",\"Lugalkugzu[]PN\",\"Papan\\u0161en[]PN\",\"Tah\\u0161atal[]PN\",\"Urni\\u014barak[]PN\",\"X.x[00]PN\",\"\\u0160ulgi\\u02beabi[]PN\",\"\\u0160ulgi\\u02beili[]PN\",\"\\u0160u\\u02beE\\u0161tar[]PN\",\"Huba[]PN\",\"lugal[king]N\",\"A.x[00]PN\",\"Ahan\\u0161ibu[]PN\",\"Dayyanummi\\u0161ar[]PN\",\"lugal[king]N\",\"Amabarag[]PN\",\"GemeNannak[]PN\",\"Kubatum[]PN\",\"Lugalkugzu[]PN\",\"ME.{d}I\\u0161taran[]PN\",\"Meslamta\\u02bee\\u02bea[]DN\",\"Ninlilemana\\u014b[]PN\",\"TaddinE\\u0161tar[]PN\",\"Zanum[]PN\",\"\\u0160alimni\\u02bea\\u0161[]PN\",\"\\u0160atSu\\u02been[]PN\",\"\\u0160ulgirama[]PN\",\"\\u0160u\\u02beEnlil[]PN\",\"Lugalkugzu[]PN\",\"Ludi\\u014birak[]PN\",\"Lugal.x[00]PN\",\"Tah\\u0161atal[]PN\",\"UrIgalimak[]PN\",\"\\u0160u\\u02beE\\u0161tar[]PN\",\"Amurili[]PN\",\"Apili[]PN\",\"Dari\\u0161matum[]PN\",\"Ea\\u02beili[]PN\",\"Lammar[]DN\",\"Lisin[]PN\",\"ME.{d}I\\u0161taran[]PN\",\"Taddinkiza[]PN\",\"IbbiSu\\u02beenmi\\u0161ar[]PN\",\"Liludan[]PN\",\"Ludi\\u014birak[]PN\",\"Lugal.x[00]PN\",\"Lugalkugzu[]PN\",\"Lugula[]PN\",\"Alla\\u0161arrum[]PN\",\"Baza\\u014bu[]PN\",\"Budu[]PN\",\"Dinikun[]PN\",\"Ea\\u02beili[]PN\",\"I\\u1e6dib\\u0161inat[]PN\",\"Kur\\u014birini\\u0161e[]PN\",\"Lugalkugzu[]PN\",\"Nurili[]PN\",\"lugal[king]N\",\"\\u0160ulgirkalamametebi[]PN\",\"\\u0160u\\u02beEnlil[]PN\",\"\\u0160u\\u02beE\\u0161tar[]PN\",\"UrBa\\u02beuk[]PN\",\"Abisimti[]PN\",\"Inanak[]DN\",\"Ludi\\u014birak[]PN\",\"lugal[king]N\",\"Alla\\u0161arrum[]PN\",\"Apili[]PN\",\"\\u0160u\\u02beE\\u0161tar[]PN\",\"Amurili[]PN\",\"Ludi\\u014birak[]PN\",\"\\u0160ulgirgalzu[]PN\",\"Dayyanummi\\u0161ar[]PN\",\"GemeEnlilak[]PN\",\"Nurili[]PN\",\"Amurili[]PN\",\"Addalal[]PN\",\"Amaknum[]PN\",\"AmarSu\\u02beenak[]RN\",\"AtalAmurru[]PN\",\"Babati[]PN\",\"Bu\\u0161udu[]PN\",\"Da\\u0161ug[]PN\",\"Enkik[]DN\",\"Ennam\\u0161ita\\u0160ulgirakebagub[]PN\",\"HidutAmarSu\\u02been[]PN\",\"IM.da.A\\u2082[]PN\",\"Kurbilak[]PN\",\"LuNannak[]PN\",\"Ludi\\u014birak[]PN\",\"Nawar\\u0161en[]PN\",\"Niza[]PN\",\"PuzurA\\u0161\\u0161ur[]PN\",\"UrNannak[]PN\",\"Zanum[]PN\",\"Zeri[]PN\",\"lugal[king]N\",\"\\u0160ulgirgalzu[]PN\",\"\\u0160u\\u0160ulgi[]PN\",\"\\u0160uNin\\u0161ubur[]PN\",\"Dayyanummi\\u0161ar[]PN\",\"Enkik[]DN\",\"Lugal.x[00]PN\",\"lugal[king]N\",\"Il\\u0161urabi[]PN\",\"\\u0160uSu\\u02beenlilabbirha\\u1e6d\\u1e6dam[]PN\",\"\\u0160uSu\\u02beenmigirE\\u0161tar[]PN\",\"Adda[]PN\",\"Idabeli[]PN\",\"Nur\\u0160ulgi[]PN\",\"Palilum[]PN\",\"Zizuh[]PN\",\"Dayyanummi\\u0161ar[]PN\",\"Lisin[]PN\",\"Inanak[]DN\",\"Meslamta\\u02bee\\u02bea[]DN\",\"Ninlil[]DN\",\"Enlil[]DN\",\"\\u0160u\\u0160ulgi[]PN\",\"PuzurErra[]PN\",\"UrEninnuk[]PN\",\"\\u014airine\\u02beisag[]PN\",\"Ludi\\u014birak[]PN\",\"Qurdilum[]PN\",\"Waqar\\u0160uSu\\u02been[]PN\",\"Ninhursa\\u014bak[]DN\",\"Taburha\\u1e6d\\u1e6dum[]PN\",\"Illa\\u02bei[]PN\",\"Ludi\\u014birak[]PN\",\"Ea\\u02beili[]PN\",\"Ludi\\u014birak[]PN\",\"PuzurErra[]PN\",\"PuzurA\\u0161\\u0161ur[]PN\",\"Edudu\\u02bea[]PN\",\"Utu\\u02beadgal[]PN\",\"AradNannak[]PN\",\"HidutAmarSu\\u02been[]PN\",\"\\u0160uSu\\u02beenmigirE\\u0161tar[]PN\",\"Lugal.x[00]PN\",\"Ludi\\u014birak[]PN\",\"PuzurErra[]PN\",\"Simat\\u0161arrim[]PN\",\"UrHendursa\\u014bak[]PN\",\"\\u0160etelili[]PN\",\"lugal[king]N\",\"\\u0160u\\u02beEa[]PN\",\"Anatal[]PN\",\"ME.E\\u2082.a[]PN\",\"lugal[king]N\",\"Ninkala[]PN\",\"\\u0160ulgisimti[]PN\",\"Ginuna[]PN\",\"Nirida\\u014bal[]PN\",\"Utu\\u02beadgal[]PN\",\"sukkalmah[official]N\",\"\\u0160u\\u02beE\\u0161tar[]PN\",\"UrSu\\u02beenak[]PN\",\"Zariq[]PN\",\"Abu\\u1e6dab[]PN\",\"Dayyanummi\\u0161ar[]PN\",\"Itutu\\u02bea[]PN\",\"lugal[king]N\",\"Galzudabulsin[]PN\",\"Itutu\\u02bea[]PN\",\"Kur\\u014birini\\u0161e[]PN\",\"Ninlilama\\u014bu[]PN\",\"Nirida\\u014bal[]PN\",\"Nurmati\\u0161u[]PN\",\"Rigmu\\u0161[]PN\",\"Su\\u02beenillat[]PN\",\"lugal[king]N\",\"\\u0160etelili[]PN\",\"\\u0160e\\u0161kala[]PN\",\"Adadillat[]PN\",\"Daya[]PN\",\"PuzurErra[]PN\",\"Ludi\\u014birak[]PN\",\"Utu\\u02beadgal[]PN\",\"Anaa[]PN\",\"E\\u0161tarnada[]PN\",\"Ludi\\u014birak[]PN\",\"Ilabu\\u02beigadu[]PN\",\"UrDamuk[]PN\",\"Ilabu\\u02beigadu[]PN\",\"Inanak[]DN\",\"\\u0160u\\u02beEnlil[]PN\",\"PuzurErra[]PN\",\"Batugrad[]PN\",\"Kur\\u014birini\\u0161e[]PN\",\"Lugula[]PN\",\"Dayyanummi\\u0161ar[]PN\",\"Utu\\u02beadgal[]PN\",\"LugalAnabtum[]PN\",\"sukkalmah[official]N\",\"PuzurErra[]PN\",\"\\u0160u\\u0160ulgi[]PN\",\"Puzurili[]PN\",\"Amurili[]PN\",\"Dayyanummi\\u0161ar[]PN\",\"Nurili[]PN\",\"UrA\\u0161arak[]PN\",\"UrKugnunak[]PN\",\"\\u0160u\\u02beE\\u0161tar[]PN\",\"Ea\\u02beili[]PN\",\"LuNannak[]PN\",\"ME.E\\u2082.a[]PN\",\"Ri.x[00]PN\",\"UrNannak[]PN\",\"X[1]DN\",\"\\u0160atSu\\u02been[]PN\",\"\\u0160e\\u0161kala[]PN\",\"Zariq[]PN\",\"\\u0160ama\\u0161tillati[]PN\",\"ME.E\\u2082.a[]PN\",\"Taddinkiza[]PN\",\"X.x[00]PN\",\"Na.x[00]PN\",\"\\u0160unundu[]PN\",\"Nurili[]PN\",\"PuzurErra[]PN\",\"Abuni[]PN\",\"Abisimti[]PN\",\"\\u0160agtakugzu[]PN\",\"UrBa\\u02beuk[]PN\",\"\\u0160u\\u02beE\\u0161tar[]PN\",\"KAL.bi.si[]PN\",\"Enni\\u0161Agum[]PN\",\"Gula[]DN\",\"Ninni\\u014bar[]DN\",\"Anaa[]PN\",\"Nintiluga[]DN\",\"X.mu[00]DN\",\"Aki\\u02bea[]PN\",\"Mulliltumnuri[]PN\",\"Balala[]PN\",\"Ea\\u02beili[]PN\",\"Lugal.x[00]PN\",\"Ba\\u02beu[]DN\",\"Nin\\u014birsuk[]DN\",\"Kubatum[]PN\",\"Lugalkugzu[]PN\",\"AtuMamak[]PN\",\"Nuhilum[]PN\",\"UrBa\\u02beuk[]PN\",\"UrNan\\u0161ek[]PN\",\"E\\u0161tarnada[]PN\",\"Libur\\u0160ulgi[]PN\",\"Nanna[]DN\",\"lugal[king]N\",\"AradNannak[]PN\",\"Hun\\u0160ulgi[]PN\",\"Kurbilak[]PN\",\"Nur\\u0160ama\\u0161[]PN\",\"Ribagada[]PN\",\"Tah\\u0161atal[]PN\",\"TuramDagan[]PN\",\"\\u0160u\\u0160ulgi[]PN\",\"\\u0160u\\u02beE\\u0161tar[]PN\",\"Gude\\u02bea[]PN\",\"\\u0160uMama[]PN\",\"Lugalkugzu[]PN\",\"ME.{d}I\\u0161taran[]PN\",\"Matili[]PN\",\"lugal[king]N\",\"Nintiluga[]DN\",\"Taribu[]PN\",\"Lugalkugzu[]PN\",\"Lugalkugzu[]PN\",\"PuzurErra[]PN\",\"Ahuni[]PN\",\"Allatum[]DN\",\"Ge\\u0161.\\u0161a\\u2083[00]DN\",\"\\u0160u\\u0161ug[]PN\",\"Ludi\\u014birak[]PN\",\"Utu\\u02beadgal[]PN\",\"Ludi\\u014birak[]PN\",\"LuNannak[]PN\",\"Lugalkugzu[]PN\",\"Beli\\u02beili[]PN\",\"Lugalkugzu[]PN\",\"Ilallum[]PN\",\"Dayyanummi\\u0161ar[]PN\",\"\\u0160u\\u0160ulgi[]PN\",\"UrNingalak[]PN\",\"Dayyanummi\\u0161ar[]PN\",\"Ge\\u0161.\\u0161a\\u2083[00]DN\",\"Nawar\\u0161en[]PN\",\"Dari\\u0161matum[]PN\",\"Mulliltumnuri[]PN\",\"Inimanizid[]PN\",\"Lu\\u02beAmarSu\\u02beenak[]PN\",\"Ludi\\u014birak[]PN\",\"Ubarum[]PN\",\"Lugal.x[00]PN\",\"\\u0160u\\u0160ulgi[]PN\",\"Masagsag[]PN\",\"Dayyanummi\\u0161ar[]PN\",\"PuzurErra[]PN\",\"Enlil[]DN\",\"Amurili[]PN\",\"Nurili[]PN\",\"Amurili[]PN\",\"\\u0160uru\\u0161kin[]PN\",\"Ludi\\u014birak[]PN\",\"Kubatum[]PN\",\"Ludi\\u014birak[]PN\",\"Lugal.x[00]PN\",\"Urmes[]PN\",\"AbuniramAni[]PN\",\"Ilallum[]PN\",\"PuzurErra[]PN\",\"Taburha\\u1e6d\\u1e6dum[]PN\",\"Hun\\u0160ulgi[]PN\",\"Nintiluga[]DN\",\"Ludi\\u014birak[]PN\",\"Lugal.x[00]PN\",\"Lugalkugzu[]PN\",\"LugalAnabtum[]PN\",\"Lugalkugzu[]PN\",\"Zeri[]PN\",\"Lugal.x[00]PN\",\"UrNan\\u0161ek[]PN\",\"Lugal.x[00]PN\",\"Lugal.x[00]PN\",\"Ludi\\u014birak[]PN\",\"Puzurili[]PN\",\"\\u0160ulgirkalamametebi[]PN\",\"lugal[king]N\",\"Ludi\\u014birak[]PN\"],\"id_text\":[\"P134047\",\"P106862\",\"P107887,P134039\",\"P134038,P134040,P134045\",\"P134039\",\"P134039\",\"P103951,P131654,P134041,P499319\",\"P134039\",\"P103541,P134039,P134040,P134048\",\"P106862\",\"P103996\",\"P134042\",\"P116204\",\"P131654,P499319\",\"P134039\",\"P116204\",\"P116204\",\"P106862\",\"P103996\",\"P499322\",\"P134039\",\"P134040,P134042\",\"P144477\",\"P144477\",\"P141796\",\"P144477\",\"P111905\",\"P144477\",\"P141796\",\"P134759\",\"P134756\",\"P103369\",\"P134759\",\"P134758\",\"P118491\",\"P103787\",\"P103763,P134758,P211187\",\"P117455\",\"P143617\",\"P103787\",\"P103763,P103787\",\"P103980\",\"P103351\",\"P103351\",\"P303586\",\"P102924\",\"P104058\",\"P111904\",\"P407247\",\"P127304\",\"P102855\",\"P124927\",\"P126485\",\"P131656\",\"P103351\",\"P103351\",\"P103916\",\"P103348\",\"P103022,P103638,P124590\",\"P512773\",\"P103022,P103763,P103787,P111906,P118491,P131656\",\"P103787\",\"P301283\",\"P301283\",\"P301283\",\"P301283\",\"P131636\",\"P141796\",\"P293217\",\"P321080\",\"P512776\",\"P144477\",\"P111905\",\"P108670\",\"P144954\",\"P303682\",\"P103506,P103793,P124926,P124927,P125872,P128644,P134756,P134757,P218167,P303682\",\"P131638\",\"P200373\",\"P116196\",\"P129775\",\"P332169\",\"P108670\",\"P108670\",\"P116196\",\"P332169\",\"P103814,P104110\",\"P108670\",\"P142964\",\"P103308,P127669\",\"P134756\",\"P126360\",\"P212348\",\"P124926\",\"P144477\",\"P103086,P116196\",\"P103814\",\"P212348\",\"P111903\",\"P103302\",\"P104185\",\"P124927\",\"P144954\",\"P332169\",\"P332169\",\"P127667\",\"P103277\",\"P128340\",\"P111905,P116196\",\"P300949\",\"P125033\",\"P108670\",\"P108670\",\"P113886\",\"P134760\",\"P126360\",\"P108670\",\"P104110\",\"P103804,P111905\",\"P131639\",\"P111903\",\"P134761\",\"P111903\",\"P103787\",\"P113914\",\"P125850\",\"P201026\",\"P127861\",\"P130904\",\"P141790\",\"P124226\",\"P290169\",\"P290169\",\"P290169\",\"P127861\",\"P127861\",\"P127861\",\"P134045\",\"P134045\",\"P134047\",\"P103541\",\"P134043\",\"P103541\",\"P321080\",\"P332256\",\"P141796,P144477,P332256\",\"P125959\",\"P113886,P124925,P127667,P135067\",\"P117455\",\"P104185\",\"P293217\",\"P103951\",\"P141796\",\"P134758\",\"P134761\",\"P117445,P134759,P321080\",\"P414557\",\"P127666\",\"P141796\",\"P113826\",\"P106150\",\"P125777\",\"P116201\",\"P135067\",\"P134758\",\"P125628\",\"P106289\",\"P125753,P126577\",\"P124925\",\"P134758\",\"P200026\",\"P124619\",\"P135151\",\"P141796\",\"P102169,P104018,P116210,P125951,P125959,P126044,P144365,P144782,P145356\",\"P145198\",\"P135067\",\"P132148\",\"P117445\",\"P125850\",\"P117445,P132148\",\"P125850\",\"P113749,P113750,P143716\",\"P106144\",\"P125632\",\"P407247\",\"P122747\",\"P117445\",\"P125850\",\"P106289\",\"P142964\",\"P142964\",\"P126577,P144357\",\"P407247\",\"P135067\",\"P135067\",\"P129753\",\"P116201\",\"P116201\",\"P125872\",\"P103282\",\"P200026\",\"P104784,P116200,P126029,P134312,P200028,P299556\",\"P129700,P201042\",\"P211187\",\"P124926\",\"P103506\",\"P103951\",\"P125999\",\"P128644\",\"P134756\",\"P103793\",\"P103793\",\"P218167\",\"P499319\",\"P103506\",\"P134041\",\"P144305\",\"P134756\",\"P124926\",\"P134757\",\"P111903\",\"P103951\",\"P134756\",\"P103793\",\"P125872\",\"P499319\",\"P129775\",\"P131578\",\"P127304\",\"P141796\",\"P111906\",\"P141796\",\"P296650\",\"P111903\",\"P131638\",\"P131638\",\"P131638\",\"P131638\",\"P499321\",\"P499321\",\"P144357\",\"P117455\",\"P117455\",\"P117455\",\"P512773\",\"P141796\",\"P103494,P117033,P131678\",\"P299073\",\"P126051\",\"P104098\",\"P127667\",\"P134760\",\"P127667\",\"P134760\",\"P124318\",\"P124318\",\"P113021\",\"P512777\",\"P109268\",\"P134757\",\"P108385\",\"P135196\",\"P103763\",\"P218167\",\"P111903\",\"P141796\",\"P103380\",\"P103347\",\"P512776\",\"P303586\",\"P303586\",\"P135056\",\"P135056\",\"P131654\",\"P132137\",\"P103787\",\"P125850\",\"P125850\",\"P125632\",\"P125632\",\"P122581\",\"P125632\",\"P124322,P125777\",\"P122747\",\"P103799\",\"P134759\",\"P131578\",\"P113699\",\"P113699\",\"P126009\",\"P123610\",\"P135056\",\"P126009\",\"P123610\",\"P134011\",\"P135198\",\"P135194\",\"P113656\",\"P135056\",\"P103752\",\"P512776\",\"P141796\",\"P103752\",\"P127666\",\"P122581\",\"P116196\",\"P300949\",\"P299538\",\"P116199\",\"P126009\",\"P116199\",\"P142964\",\"P131578\",\"P134759\",\"P104098\",\"P111897\",\"P115630\",\"P104202\",\"P122581\",\"P111905\",\"P135056\",\"P104144\",\"P141796\",\"P433582\",\"P129700,P201042\",\"P127301\",\"P109182,P116200,P126029,P144136,P145204,P299556\",\"P291956\",\"P200497\",\"P291956\",\"P126009\",\"P111903\",\"P126009\",\"P126009\",\"P111903\",\"P126009\",\"P126009\",\"P111903\",\"P134011\",\"P134011\",\"P135198\",\"P134758\",\"P131636\",\"P126360\",\"P131604\",\"P112830\",\"P134759\",\"P107887\",\"P111904\",\"P111904\",\"P107887\",\"P129753\",\"P134756\",\"P124926\",\"P144477\",\"P144477\",\"P116196\",\"P103086\",\"P103086\",\"P104185\",\"P104185\",\"P144954\",\"P125628\",\"P141796\",\"P103277\",\"P103277\",\"P125999\",\"P125959\",\"P116196\",\"P111905\",\"P106289\",\"P116196\",\"P300949\",\"P300949\",\"P125033\",\"P125033\",\"P125999\",\"P116209\",\"P296650\",\"P110441\",\"P125999\",\"P296650\",\"P125999\",\"P296650\",\"P116209\",\"P108670\",\"P108670\",\"P103638\",\"P113886\",\"P124590\",\"P103638\",\"P131639\",\"P111903\",\"P101430\",\"P126814\",\"P131649\",\"P144356\",\"P103141\",\"P103141\",\"P131604\",\"P131604\",\"P122581\",\"P125022\",\"P111906\",\"P103803\",\"P104781\",\"P125885,P126546,P143502\",\"P103380\",\"P499320\",\"P141796\",\"P134046\",\"P134046\",\"P103141\",\"P134756\",\"P134758\",\"P104185\",\"P141796\",\"P332256\",\"P103269\",\"P128401\",\"P141796\",\"P141796\",\"P124226\",\"P134044\",\"P480801\",\"P512773\",\"P201042\",\"P109182,P130417\",\"P129700\",\"P124318\",\"P124318\",\"P125999\",\"P293217\",\"P141796\",\"P135148\",\"P301283\",\"P512776\",\"P128401\",\"P134760\",\"P290169\",\"P104097\",\"P131604\",\"P141796\",\"P101430,P126814,P144254,P432670\",\"P111905\",\"P129821\",\"P134756\",\"P141796\",\"P116196\",\"P141796\",\"P141796\",\"P104113\",\"P512775\",\"P103799\",\"P103022\",\"P131604\"],\"start\":[\"A.x[00]PN\",\"Dayyanummi\\u0161ar[]PN\",\"Dayyanummi\\u0161ar[]PN\",\"Dayyanummi\\u0161ar[]PN\",\"Dayyanummi\\u0161ar[]PN\",\"Dayyanummi\\u0161ar[]PN\",\"Dayyanummi\\u0161ar[]PN\",\"Dayyanummi\\u0161ar[]PN\",\"Dayyanummi\\u0161ar[]PN\",\"Dayyanummi\\u0161ar[]PN\",\"Dayyanummi\\u0161ar[]PN\",\"Dayyanummi\\u0161ar[]PN\",\"Dayyanummi\\u0161ar[]PN\",\"Dayyanummi\\u0161ar[]PN\",\"Dayyanummi\\u0161ar[]PN\",\"Dayyanummi\\u0161ar[]PN\",\"Dayyanummi\\u0161ar[]PN\",\"Dayyanummi\\u0161ar[]PN\",\"Dayyanummi\\u0161ar[]PN\",\"Dayyanummi\\u0161ar[]PN\",\"Dayyanummi\\u0161ar[]PN\",\"Dayyanummi\\u0161ar[]PN\",\"Abisimti[]PN\",\"Abisimti[]PN\",\"Abisimti[]PN\",\"Abisimti[]PN\",\"Abisimti[]PN\",\"Abisimti[]PN\",\"Abumba\\u0161ti[]PN\",\"Abuni[]PN\",\"Abuni[]PN\",\"Abuni[]PN\",\"Abu\\u1e6dab[]PN\",\"PuzurErra[]PN\",\"PuzurErra[]PN\",\"PuzurErra[]PN\",\"PuzurErra[]PN\",\"PuzurErra[]PN\",\"PuzurErra[]PN\",\"PuzurErra[]PN\",\"PuzurErra[]PN\",\"PuzurErra[]PN\",\"PuzurErra[]PN\",\"PuzurErra[]PN\",\"PuzurErra[]PN\",\"PuzurErra[]PN\",\"PuzurErra[]PN\",\"PuzurErra[]PN\",\"PuzurErra[]PN\",\"PuzurErra[]PN\",\"PuzurErra[]PN\",\"PuzurErra[]PN\",\"PuzurErra[]PN\",\"PuzurErra[]PN\",\"PuzurErra[]PN\",\"PuzurErra[]PN\",\"PuzurErra[]PN\",\"PuzurErra[]PN\",\"PuzurErra[]PN\",\"PuzurErra[]PN\",\"PuzurErra[]PN\",\"PuzurErra[]PN\",\"AbuniramAni[]PN\",\"AbuniramAni[]PN\",\"AbuniramAni[]PN\",\"AbuniramAni[]PN\",\"Kubatum[]PN\",\"Kubatum[]PN\",\"TaddinE\\u0161tar[]PN\",\"\\u0160eteli[]PN\",\"Adadillat[]PN\",\"Ludi\\u014birak[]PN\",\"Ludi\\u014birak[]PN\",\"Ludi\\u014birak[]PN\",\"Ludi\\u014birak[]PN\",\"Ludi\\u014birak[]PN\",\"Ludi\\u014birak[]PN\",\"Ludi\\u014birak[]PN\",\"Ludi\\u014birak[]PN\",\"Ludi\\u014birak[]PN\",\"Ludi\\u014birak[]PN\",\"Ludi\\u014birak[]PN\",\"Ludi\\u014birak[]PN\",\"Ludi\\u014birak[]PN\",\"Ludi\\u014birak[]PN\",\"Ludi\\u014birak[]PN\",\"Ludi\\u014birak[]PN\",\"Ludi\\u014birak[]PN\",\"Ludi\\u014birak[]PN\",\"Ludi\\u014birak[]PN\",\"Ludi\\u014birak[]PN\",\"Ludi\\u014birak[]PN\",\"Ludi\\u014birak[]PN\",\"Ludi\\u014birak[]PN\",\"Ludi\\u014birak[]PN\",\"Ludi\\u014birak[]PN\",\"Ludi\\u014birak[]PN\",\"Ludi\\u014birak[]PN\",\"Ludi\\u014birak[]PN\",\"Ludi\\u014birak[]PN\",\"Ludi\\u014birak[]PN\",\"Ludi\\u014birak[]PN\",\"Ludi\\u014birak[]PN\",\"Ludi\\u014birak[]PN\",\"Ludi\\u014birak[]PN\",\"Ludi\\u014birak[]PN\",\"Ludi\\u014birak[]PN\",\"Ludi\\u014birak[]PN\",\"Ludi\\u014birak[]PN\",\"Ludi\\u014birak[]PN\",\"Ludi\\u014birak[]PN\",\"Ludi\\u014birak[]PN\",\"Ludi\\u014birak[]PN\",\"Ludi\\u014birak[]PN\",\"Ludi\\u014birak[]PN\",\"Ludi\\u014birak[]PN\",\"Ludi\\u014birak[]PN\",\"Ludi\\u014birak[]PN\",\"Ludi\\u014birak[]PN\",\"Ludi\\u014birak[]PN\",\"Ludi\\u014birak[]PN\",\"Ludi\\u014birak[]PN\",\"Ludi\\u014birak[]PN\",\"Agalum[]PN\",\"Agu\\u02bea[]PN\",\"\\u0160u\\u02beE\\u0161tar[]PN\",\"\\u0160u\\u02beE\\u0161tar[]PN\",\"\\u0160u\\u02beE\\u0161tar[]PN\",\"\\u0160u\\u02beE\\u0161tar[]PN\",\"\\u0160u\\u02beE\\u0161tar[]PN\",\"\\u0160u\\u02beE\\u0161tar[]PN\",\"\\u0160u\\u02beE\\u0161tar[]PN\",\"\\u0160u\\u02beE\\u0161tar[]PN\",\"\\u0160u\\u02beE\\u0161tar[]PN\",\"\\u0160u\\u02beE\\u0161tar[]PN\",\"\\u0160u\\u02beE\\u0161tar[]PN\",\"\\u0160u\\u02beE\\u0161tar[]PN\",\"Ahan\\u0161ibu[]PN\",\"Ahan\\u0161ibu[]PN\",\"Huba[]PN\",\"Huba[]PN\",\"Huba[]PN\",\"Huba[]PN\",\"lugal[king]N\",\"lugal[king]N\",\"lugal[king]N\",\"lugal[king]N\",\"lugal[king]N\",\"lugal[king]N\",\"lugal[king]N\",\"lugal[king]N\",\"lugal[king]N\",\"lugal[king]N\",\"lugal[king]N\",\"lugal[king]N\",\"lugal[king]N\",\"Ahi\\u02beilum[]PN\",\"Lugalkugzu[]PN\",\"Lugalkugzu[]PN\",\"Lugalkugzu[]PN\",\"Lugalkugzu[]PN\",\"Lugalkugzu[]PN\",\"Ahuni[]PN\",\"Ahuni[]PN\",\"Ahuni[]PN\",\"Ahuni[]PN\",\"Ahuni[]PN\",\"Ahuni[]PN\",\"Ahuni[]PN\",\"Ahuni[]PN\",\"Amurili[]PN\",\"Amurili[]PN\",\"Amurili[]PN\",\"Amurili[]PN\",\"Amurili[]PN\",\"Amurili[]PN\",\"Apili[]PN\",\"Ea\\u02beili[]PN\",\"Ea\\u02beili[]PN\",\"Ea\\u02beili[]PN\",\"Ea\\u02beili[]PN\",\"Ea\\u02beili[]PN\",\"Ea\\u02beili[]PN\",\"Ea\\u02beili[]PN\",\"Ea\\u02beili[]PN\",\"Ea\\u02beili[]PN\",\"Ea\\u02beili[]PN\",\"Ea\\u02beili[]PN\",\"Ea\\u02beili[]PN\",\"Lammar[]DN\",\"Lisin[]PN\",\"Lisin[]PN\",\"Lisin[]PN\",\"Lisin[]PN\",\"ME.{d}I\\u0161taran[]PN\",\"ME.{d}I\\u0161taran[]PN\",\"Ahu\\u0161uni[]PN\",\"Alid[]PN\",\"Alid[]PN\",\"Alla[]PN\",\"AmurEa[]PN\",\"IbbiSu\\u02beenmi\\u0161ar[]PN\",\"Lugula[]PN\",\"Anebabdu[]PN\",\"AradNannak[]PN\",\"AradNannak[]PN\",\"AradNannak[]PN\",\"AradNannak[]PN\",\"AradNannak[]PN\",\"AradNannak[]PN\",\"AradNannak[]PN\",\"AradNannak[]PN\",\"AradNannak[]PN\",\"AradNannak[]PN\",\"AradNannak[]PN\",\"AradNannak[]PN\",\"AradNannak[]PN\",\"AradNannak[]PN\",\"AradNannak[]PN\",\"AradNannak[]PN\",\"AradNannak[]PN\",\"AradNannak[]PN\",\"AradNannak[]PN\",\"AradNannak[]PN\",\"AradNannak[]PN\",\"AradNannak[]PN\",\"AradNannak[]PN\",\"Babati[]PN\",\"LuNannak[]PN\",\"LuNannak[]PN\",\"LuNannak[]PN\",\"LuNannak[]PN\",\"PuzurA\\u0161\\u0161ur[]PN\",\"\\u0160u\\u0160ulgi[]PN\",\"\\u0160u\\u0160ulgi[]PN\",\"Arad\\u014bu[]PN\",\"Arad\\u014bu[]PN\",\"Arad\\u014bu[]PN\",\"Arad\\u014bu[]PN\",\"Ariphuppi[]PN\",\"Zizuh[]PN\",\"Atakkal\\u0161um[]PN\",\"Atu[]PN\",\"Atu[]PN\",\"Atu[]PN\",\"Ninlil[]DN\",\"Ninlil[]DN\",\"Aya\\u014bu[]PN\",\"Aya\\u014bu[]PN\",\"Aya\\u014bu[]PN\",\"Batugrad[]PN\",\"Baza[]PN\",\"Baza[]PN\",\"Qurdilum[]PN\",\"Waqar\\u0160uSu\\u02been[]PN\",\"Belili[]PN\",\"Illa\\u02bei[]PN\",\"Beli\\u02beili[]PN\",\"Beli\\u02beili[]PN\",\"Budu[]PN\",\"Bu\\u0161am[]PN\",\"Bu\\u02bea[]PN\",\"Edudu\\u02bea[]PN\",\"Dada[]PN\",\"Dada[]PN\",\"Dada[]PN\",\"Daya[]PN\",\"Ilallum[]PN\",\"Ilallum[]PN\",\"Ilallum[]PN\",\"Ilallum[]PN\",\"Ilallum[]PN\",\"Kur\\u014birini\\u0161e[]PN\",\"Kur\\u014birini\\u0161e[]PN\",\"Lugalinimginak[]PN\",\"Nanna[]DN\",\"Nirida\\u014bal[]PN\",\"I\\u1e6dib\\u0161inat[]PN\",\"I\\u1e6dib\\u0161inat[]PN\",\"Nurili[]PN\",\"Nurili[]PN\",\"Nurili[]PN\",\"Nurili[]PN\",\"Nurili[]PN\",\"\\u0160ulgirkalamametebi[]PN\",\"\\u0160ulgirkalamametebi[]PN\",\"\\u0160u\\u02beEnlil[]PN\",\"\\u0160u\\u02beEnlil[]PN\",\"Endi\\u014bir\\u014bu[]PN\",\"Endi\\u014bir\\u014bu[]PN\",\"Itutu\\u02bea[]PN\",\"Itutu\\u02bea[]PN\",\"Itutu\\u02bea[]PN\",\"Itutu\\u02bea[]PN\",\"Itutu\\u02bea[]PN\",\"Itutu\\u02bea[]PN\",\"Itutu\\u02bea[]PN\",\"Itutu\\u02bea[]PN\",\"Itutu\\u02bea[]PN\",\"Itutu\\u02bea[]PN\",\"Enlil[]DN\",\"\\u0160e\\u0161kala[]PN\",\"\\u0160e\\u0161kala[]PN\",\"\\u0160e\\u0161kala[]PN\",\"Ennumili[]PN\",\"Ennumili[]PN\",\"Erbeli[]PN\",\"GA.na.na.tum[]PN\",\"Gabidanum[]PN\",\"Galzudabulsin[]PN\",\"Galzudabulsin[]PN\",\"Ilabu\\u02beigadu[]PN\",\"Haburitum[]DN\",\"Ha\\u0161ipatal[]PN\",\"Hu.un.ha.ab.UR[]PN\",\"Iabti[]PN\",\"Idudu[]PN\",\"Idudu[]PN\",\"Igirumah[]PN\",\"Ilag\\u0161uqir[]PN\",\"\\u0160etelili[]PN\",\"\\u0160etelili[]PN\",\"Im.x[00]PN\",\"Inimanizid[]PN\",\"Inzu[]PN\",\"Puzurili[]PN\",\"Puzurili[]PN\",\"Puzurili[]PN\",\"Puzurili[]PN\",\"Puzurili[]PN\",\"Puzurili[]PN\",\"Ninlilama\\u014bu[]PN\",\"Ninlilama\\u014bu[]PN\",\"Ninlilama\\u014bu[]PN\",\"Ninlilama\\u014bu[]PN\",\"Ninlilama\\u014bu[]PN\",\"Ninlilama\\u014bu[]PN\",\"Ninlilama\\u014bu[]PN\",\"Ninlilama\\u014bu[]PN\",\"Nurmati\\u0161u[]PN\",\"Nurmati\\u0161u[]PN\",\"Rigmu\\u0161[]PN\",\"Ninkala[]PN\",\"KA.x[00]PN\",\"X.x[00]PN\",\"X.x[00]PN\",\"KAL.LA.ma.AD[]PN\",\"Lamahar[]PN\",\"UrBa\\u02beuk[]PN\",\"La\\u02beili\\u0161[]PN\",\"La\\u02beili\\u0161[]PN\",\"LuNan\\u0161ek[]PN\",\"Lubanda[]PN\",\"Lugalmagure[]PN\",\"Nannakam[]PN\",\"Nannapalil[]PN\",\"Nannapalil[]PN\",\"Nawirili[]PN\",\"Nawirili[]PN\",\"Nawirili[]PN\",\"NurAdad[]PN\",\"NurAdad[]PN\",\"PuzurE\\u0161tar[]PN\",\"PuzurE\\u0161tar[]PN\",\"PuzurE\\u0161tar[]PN\",\"Re\\u02beiSu\\u02been[]PN\",\"Re\\u02beiSu\\u02been[]PN\",\"Ribagada[]PN\",\"Ribagada[]PN\",\"Ri\\u1e63ili[]PN\",\"Ri\\u1e63ili[]PN\",\"Ri\\u1e63ili[]PN\",\"Ri\\u1e63ili[]PN\",\"Su\\u02beenabu\\u0161u[]PN\",\"Su\\u02beenabu\\u0161u[]PN\",\"Su\\u02beenal\\u0161u[]PN\",\"Su\\u02beenal\\u0161u[]PN\",\"Tah\\u0161atal[]PN\",\"Tah\\u0161atal[]PN\",\"Tah\\u0161atal[]PN\",\"Tah\\u0161atal[]PN\",\"Tah\\u0161atal[]PN\",\"Tah\\u0161atal[]PN\",\"Tah\\u0161atal[]PN\",\"Tah\\u0161atal[]PN\",\"Tah\\u0161atal[]PN\",\"Ur\\u0160uSu\\u02beenak[]PN\",\"Ur\\u0160uSu\\u02beenak[]PN\",\"Utami\\u0161aram[]PN\",\"Utami\\u0161aram[]PN\",\"Utami\\u0161aram[]PN\",\"Utami\\u0161aram[]PN\",\"\\u0160uKabta[]PN\",\"\\u0160uSu\\u02beennaramEnlil[]PN\",\"Lugalituda[]PN\",\"Lugaltida[]PN\",\"Lukala[]PN\",\"Lusaga[]PN\",\"Lu\\u2082.x[00]PN\",\"Lu\\u2082.x[00]PN\",\"Me\\u0161i\\u02bead[]PN\",\"\\u0160u\\u0161ug[]PN\",\"Na.an.na[]PN\",\"Nabasag[]PN\",\"Namhani[]PN\",\"Namhani[]PN\",\"Naramili[]PN\",\"Naramili[]PN\",\"Nig\\u2082.x[00]PN\",\"Nihelu[]PN\",\"Ninegalak[]DN\",\"Ningal[]DN\",\"UrNingalak[]PN\",\"Ningilin[]DN\",\"Ninhursa\\u014bak[]DN\",\"\\u0160atSu\\u02been[]PN\",\"Ninlilemana\\u014b[]PN\",\"Ninurta[]DN\",\"Nin\\u0161uburak[]DN\",\"Ni\\u014birinimginak[]PN\",\"Zariq[]PN\",\"Nur\\u0160ama\\u0161[]PN\",\"Nuska[]DN\",\"Papan\\u0161en[]PN\",\"Ululal[]PN\",\"Ululal[]PN\",\"Watarum[]PN\",\"UrA\\u0161arak[]PN\",\"UrA\\u0161arak[]PN\",\"Rabi\\u02beah[]PN\",\"Rimili[]PN\",\"\\u0160uru\\u0161kin[]PN\",\"TuramDagan[]PN\",\"TuramDagan[]PN\",\"TuramDagan[]PN\",\"Uba[]PN\",\"Urmes[]PN\",\"Ubarum[]PN\",\"Ubarum[]PN\",\"UrI\\u0161kurak[]PN\",\"Urni\\u014barak[]PN\",\"X.x[00]DN\",\"\\u0160unundu[]PN\",\"\\u0160alimni\\u02bea\\u0161[]PN\",\"\\u0160arakam[]PN\",\"\\u0160arrumili[]PN\",\"\\u0160arrumili[]PN\",\"\\u0160ebba[]PN\",\"\\u0160ennam[]PN\",\"\\u0160e\\u0161ani[]PN\",\"\\u0160uSu\\u02beenili[]PN\",\"\\u0160ubram[]PN\",\"\\u0160ulgimati[]PN\",\"\\u0160ulgimi\\u0161ar[]PN\",\"\\u0160ulgimi\\u0161ar[]PN\",\"\\u0160ulgir[]RN\",\"\\u0160ulgiradda\\u014bu[]PN\"],\"weight\":[1,1,2,3,1,1,4,1,4,1,1,1,1,2,1,1,1,1,1,1,1,2,1,1,1,1,1,1,1,1,1,1,1,1,1,1,3,1,1,1,2,1,1,1,1,1,1,1,1,1,1,1,1,1,1,1,1,1,3,1,6,1,1,1,1,1,1,1,1,1,1,1,1,1,1,1,10,1,1,1,1,1,1,1,1,1,2,1,1,2,1,1,1,1,1,2,1,1,1,1,1,1,1,1,1,1,1,1,2,1,1,1,1,1,1,1,1,1,2,1,1,1,1,1,1,1,1,1,1,1,1,1,1,1,1,1,1,1,1,1,1,1,1,1,1,3,1,4,1,1,1,1,1,1,1,3,1,1,1,1,1,1,1,1,1,1,1,2,1,1,1,1,1,1,9,1,1,1,1,1,2,1,3,1,1,1,1,1,1,1,1,1,2,1,1,1,1,1,1,1,1,1,6,2,1,1,1,1,1,1,1,1,1,1,1,1,1,1,1,1,1,1,1,1,1,1,1,1,1,1,1,1,1,1,1,1,1,1,1,1,1,1,1,1,1,1,1,3,1,1,1,1,1,1,1,1,1,1,1,1,1,1,1,1,1,1,1,1,1,1,1,1,1,1,1,1,1,1,1,1,1,1,1,2,1,1,1,1,1,1,1,1,1,1,1,1,1,1,1,1,1,1,1,1,1,1,1,1,1,1,1,1,1,1,1,1,1,1,1,1,1,1,1,1,1,2,1,6,1,1,1,1,1,1,1,1,1,1,1,1,1,1,1,1,1,1,1,1,1,1,1,1,1,1,1,1,1,1,1,1,1,1,1,1,1,1,1,1,1,1,1,1,1,1,1,1,1,1,1,1,1,1,1,1,1,1,1,1,1,1,1,1,1,1,1,1,1,1,1,1,1,1,1,1,1,1,1,3,1,1,1,1,1,1,1,1,1,1,1,1,1,1,1,1,1,1,1,1,2,1,1,1,1,1,1,1,1,1,1,1,1,1,1,1,4,1,1,1,1,1,1,1,1,1,1,1,1]},\"selected\":{\"id\":\"1328\",\"type\":\"Selection\"},\"selection_policy\":{\"id\":\"1329\",\"type\":\"UnionRenderers\"}},\"id\":\"1266\",\"type\":\"ColumnDataSource\"},{\"attributes\":{\"callback\":null,\"end\":1.1,\"start\":-1.1},\"id\":\"1223\",\"type\":\"Range1d\"},{\"attributes\":{},\"id\":\"1329\",\"type\":\"UnionRenderers\"},{\"attributes\":{\"callback\":null,\"tooltips\":[[\"name\",\"@name\"],[\"degree\",\"@degree\"]]},\"id\":\"1255\",\"type\":\"HoverTool\"},{\"attributes\":{},\"id\":\"1328\",\"type\":\"Selection\"},{\"attributes\":{\"line_color\":{\"value\":\"#abdda4\"},\"line_width\":{\"value\":5}},\"id\":\"1285\",\"type\":\"MultiLine\"},{\"attributes\":{\"fill_color\":{\"value\":\"#2b83ba\"},\"size\":{\"field\":\"node_size\",\"units\":\"screen\"}},\"id\":\"1270\",\"type\":\"Circle\"},{\"attributes\":{},\"id\":\"1331\",\"type\":\"UnionRenderers\"},{\"attributes\":{\"dimension\":1,\"ticker\":{\"id\":\"1238\",\"type\":\"BasicTicker\"}},\"id\":\"1241\",\"type\":\"Grid\"},{\"attributes\":{\"data_source\":{\"id\":\"1266\",\"type\":\"ColumnDataSource\"},\"glyph\":{\"id\":\"1280\",\"type\":\"MultiLine\"},\"hover_glyph\":{\"id\":\"1285\",\"type\":\"MultiLine\"},\"muted_glyph\":null,\"view\":{\"id\":\"1268\",\"type\":\"CDSView\"}},\"id\":\"1267\",\"type\":\"GlyphRenderer\"},{\"attributes\":{\"line_alpha\":{\"value\":0},\"line_width\":{\"field\":\"weight\"}},\"id\":\"1280\",\"type\":\"MultiLine\"},{\"attributes\":{\"callback\":null,\"end\":1.1,\"start\":-1.1},\"id\":\"1224\",\"type\":\"Range1d\"},{\"attributes\":{\"text\":\"Drehem Treasure Archive: the Nodes\"},\"id\":\"1257\",\"type\":\"Title\"}],\"root_ids\":[\"1225\"]},\"title\":\"Bokeh Application\",\"version\":\"1.4.0\"}};\n",
       "  var render_items = [{\"docid\":\"043b260e-764d-4479-8587-87f02d672f35\",\"roots\":{\"1225\":\"d9b5d2f2-1bb8-430c-ad27-358c0e8a98f1\"}}];\n",
       "  root.Bokeh.embed.embed_items_notebook(docs_json, render_items);\n",
       "\n",
       "  }\n",
       "  if (root.Bokeh !== undefined) {\n",
       "    embed_document(root);\n",
       "  } else {\n",
       "    var attempts = 0;\n",
       "    var timer = setInterval(function(root) {\n",
       "      if (root.Bokeh !== undefined) {\n",
       "        clearInterval(timer);\n",
       "        embed_document(root);\n",
       "      } else {\n",
       "        attempts++;\n",
       "        if (attempts > 100) {\n",
       "          clearInterval(timer);\n",
       "          console.log(\"Bokeh: ERROR: Unable to run BokehJS code because BokehJS library is missing\");\n",
       "        }\n",
       "      }\n",
       "    }, 10, root)\n",
       "  }\n",
       "})(window);"
      ],
      "application/vnd.bokehjs_exec.v0+json": ""
     },
     "metadata": {
      "application/vnd.bokehjs_exec.v0+json": {
       "id": "1225"
      }
     },
     "output_type": "display_data"
    }
   ],
   "source": [
    "plot = figure(plot_width=700, plot_height=700,\n",
    "            x_range=Range1d(-1.1,1.1), y_range=Range1d(-1.1,1.1))\n",
    "\n",
    "node_hover_tool = HoverTool(tooltips=[(\"name\", \"@name\"), (\"degree\", \"@degree\")])\n",
    "plot.add_tools(node_hover_tool)\n",
    "plot.title.text = \"Drehem Treasure Archive: the Nodes\"\n",
    "\n",
    "r = from_networkx(G, nx.circular_layout, scale=1, center=(0,0))\n",
    "\n",
    "r.node_renderer.glyph = Circle(size='node_size', fill_color='#2b83ba')\n",
    "r.node_renderer.hover_glyph = Circle(size='node_size', fill_color='#abdda4')\n",
    "\n",
    "r.edge_renderer.glyph = MultiLine(line_alpha=0, line_width='weight')  # zero line alpha\n",
    "r.edge_renderer.hover_glyph = MultiLine(line_color='#abdda4', line_width=5)\n",
    "\n",
    "r.inspection_policy = NodesAndLinkedEdges()\n",
    "plot.renderers.append(r)\n",
    "\n",
    "show(plot)"
   ]
  },
  {
   "cell_type": "code",
   "execution_count": null,
   "metadata": {},
   "outputs": [],
   "source": [
    "plot = Plot(plot_width=1000, plot_height=900,\n",
    "            x_range=Range1d(-2, 2), y_range=Range1d(-2, 2))\n",
    "plot.title.text = \"Drehem Treasure Archive\"\n",
    "\n",
    "graph_renderer = from_networkx(G, nx.circular_layout, scale=1.9, center=(0, 0))\n",
    "#graph_renderer.edge_renderer.data_source.data[\"line_width\"] = [G.get_edge_data(a,b)['weight'] for a, b in G.edges()]\n",
    "#graph_renderer.edge_renderer.glyph.line_width = {'field': 'line_width'}\n",
    "graph_renderer.edge_renderer.glyph.line_alpha = 0.8\n",
    "graph_renderer.node_renderer.selection_glyph = Circle(size='degree', fill_color=Spectral4[2])\n",
    "graph_renderer.node_renderer.hover_glyph = Circle(size='degree', fill_color=Spectral4[1])\n",
    "graph_renderer.node_renderer.glyph = Circle(size='degree', fill_color=Spectral4[0])\n",
    "graph_renderer.edge_renderer.glyph = MultiLine(line_color=\"#CCCCCC\", line_alpha=0.8, line_width = 'weight')\n",
    "graph_renderer.edge_renderer.selection_glyph = MultiLine(line_color=Spectral4[2], line_width = 'weight')\n",
    "graph_renderer.edge_renderer.hover_glyph = MultiLine(line_color=Spectral4[1], line_width =  'weight')\n",
    "\n",
    "graph_renderer.inspection_policy = NodesAndLinkedEdges()\n",
    "graph_renderer.selection_policy = EdgesAndLinkedNodes()\n",
    "\n",
    "node_hover_tool = HoverTool(tooltips=[(\"name\", \"@name\"), ('degree', '@value')])\n",
    "plot.renderers.append(graph_renderer)\n",
    "plot.add_tools(node_hover_tool, BoxZoomTool(), ResetTool())\n",
    "output_file(\"vis/interactive_graphs.html\")\n",
    "show(plot)"
   ]
  },
  {
   "cell_type": "markdown",
   "metadata": {},
   "source": [
    "# Tooltips for Edges\n",
    "The following code draws a network of the Drehem Treasure Archive. By selecting a node (click on the node) the node and all its direct neighbors are highlighted and the button below the drawing links to the collection of texts in ORACC from which these edges come.\n",
    "# TODO\n",
    "The list of P numbers is currently not unique - a P number may provide more than one relevant edge."
   ]
  },
  {
   "cell_type": "code",
   "execution_count": null,
   "metadata": {},
   "outputs": [],
   "source": [
    "plot = Plot(plot_width = 900, plot_height = 900,\n",
    "            x_range = Range1d(-1.1, 1.1), y_range = Range1d(-1.1, 1.1))\n",
    "plot.title.text = \"Drehem Treasure Archive\"\n",
    "\n",
    "plot.add_tools(HoverTool(tooltips = [('Text ID', '@id_text'), ('start', '@start'), ('end', '@end')]), \n",
    "               TapTool(), BoxSelectTool(), ResetTool(), BoxZoomTool(), SaveTool())\n",
    "\n",
    "graph_renderer = from_networkx(G, nx.circular_layout, scale = 1, center = (0, 0))\n",
    "\n",
    "graph_renderer.node_renderer.glyph = Circle(size = 'node_size', fill_color = Spectral4[0])\n",
    "graph_renderer.node_renderer.selection_glyph = Circle(size = 'node_size', fill_color = Spectral4[2])\n",
    "graph_renderer.node_renderer.hover_glyph = Circle(size = 'node_size', fill_color = Spectral4[1])\n",
    "\n",
    "graph_renderer.edge_renderer.glyph = MultiLine(line_color = \"#CCCCCC\", line_alpha = 0.8, line_width = 5)\n",
    "graph_renderer.edge_renderer.selection_glyph = MultiLine(line_color = Spectral4[2], line_width = 5)\n",
    "graph_renderer.edge_renderer.hover_glyph = MultiLine(line_color = Spectral4[1], line_width = 5)\n",
    "\n",
    "graph_renderer.selection_policy = NodesAndLinkedEdges()\n",
    "graph_renderer.inspection_policy = EdgesAndLinkedNodes()\n",
    "\n",
    "plot.renderers.append(graph_renderer)\n",
    "\n",
    "info_text_ids = TextInput(title = 'Text IDs:', value = '')\n",
    "info_start_end = TextInput(title = 'Start => End Values:', value = '')\n",
    "url = \"http://oracc.org/epsd2/admin/ur3/\"\n",
    "esource = graph_renderer.edge_renderer.data_source\n",
    "code = \"\"\"  start_end_values = []\n",
    "            text_ids = []\n",
    "            for(idx in esource.selected.indices)\n",
    "            {\n",
    "                index = esource.selected.indices[idx]\n",
    "                start_end_values.push(esource.data['start'][index] + '=>' + esource.data['end'][index] ); \n",
    "                text_ids.push(esource.data['id_text'][index]) \n",
    "            }\n",
    "            info_start_end.value = String(start_end_values);\n",
    "            info_text_ids.value = String(text_ids);\"\"\"\n",
    "code2 = \"\"\" urlnew = url.concat(info_text_ids.value);\n",
    "            window.open(urlnew)\"\"\"\n",
    "callback = CustomJS(args = dict(esource = esource, \n",
    "                                info_text_ids = info_text_ids, \n",
    "                                info_start_end = info_start_end), \n",
    "                    code = code)\n",
    "plot.select_one(TapTool).callback = callback\n",
    "button = Button(label=\"Click to open text editions\", button_type=\"success\")\n",
    "button.js_on_click(CustomJS(args = dict(url=url, info_text_ids=info_text_ids), \n",
    "                        code=code2))\n",
    "show(Column(plot, info_start_end, info_text_ids, button))"
   ]
  },
  {
   "cell_type": "code",
   "execution_count": null,
   "metadata": {},
   "outputs": [],
   "source": [
    "plot = Plot(plot_width = 900, plot_height = 900,\n",
    "            x_range = Range1d(-1.1, 1.1), y_range = Range1d(-1.1, 1.1))\n",
    "plot.title.text = \"Drehem Treasure Archive\"\n",
    "\n",
    "plot.add_tools(HoverTool(tooltips = [('Text ID', '@id_text'), ('start', '@start'), ('end', '@end')]), \n",
    "               TapTool(), BoxSelectTool(), ResetTool(), BoxZoomTool(), SaveTool())\n",
    "\n",
    "graph_renderer = from_networkx(G, nx.circular_layout, scale = 1, center = (0, 0))\n",
    "\n",
    "graph_renderer.node_renderer.glyph = Circle(size = 'node_size', fill_color = Spectral4[0])\n",
    "graph_renderer.node_renderer.selection_glyph = Circle(size = 'node_size', fill_color = Spectral4[2])\n",
    "graph_renderer.node_renderer.hover_glyph = Circle(size = 'node_size', fill_color = Spectral4[1])\n",
    "\n",
    "graph_renderer.edge_renderer.glyph = MultiLine(line_color = \"#CCCCCC\", line_alpha = 0.8, line_width = 5)\n",
    "graph_renderer.edge_renderer.selection_glyph = MultiLine(line_color = Spectral4[2], line_width = 5)\n",
    "graph_renderer.edge_renderer.hover_glyph = MultiLine(line_color = Spectral4[1], line_width = 5)\n",
    "\n",
    "graph_renderer.selection_policy = NodesAndLinkedEdges()\n",
    "graph_renderer.inspection_policy = EdgesAndLinkedNodes()\n",
    "\n",
    "plot.renderers.append(graph_renderer)\n",
    "\n",
    "info_text_ids = TextInput(title = 'Text IDs:', value = '')\n",
    "info_start_end = TextInput(title = 'Start => End Values:', value = '')\n",
    "url = \"http://oracc.org/epsd2/admin/ur3/\"\n",
    "esource = graph_renderer.edge_renderer.data_source\n",
    "code = \"\"\"  start_end_values = []\n",
    "            text_ids = []\n",
    "            for(idx in esource.selected.indices)\n",
    "            {\n",
    "                index = esource.selected.indices[idx]\n",
    "                start_end_values.push(esource.data['start'][index] + '=>' + esource.data['end'][index] ); \n",
    "                text_ids.push(esource.data['id_text'][index]) \n",
    "            }\n",
    "            info_start_end.value = String(start_end_values);\n",
    "            info_text_ids.value = String(text_ids);\"\"\"\n",
    "code2 = \"\"\" urlnew = url.concat(info_text_ids.value);\n",
    "            window.open(urlnew)\"\"\"\n",
    "callback = CustomJS(args = dict(esource = esource, \n",
    "                                info_text_ids = info_text_ids, \n",
    "                                info_start_end = info_start_end), \n",
    "                    code = code)\n",
    "plot.select_one(TapTool).callback = callback\n",
    "button = Button(label=\"Click to open text editions\", button_type=\"success\")\n",
    "button.js_on_click(CustomJS(args = dict(url=url, info_text_ids=info_text_ids), \n",
    "                        code=code2))\n",
    "show(Column(plot, info_start_end, info_text_ids, button))"
   ]
  },
  {
   "cell_type": "code",
   "execution_count": null,
   "metadata": {},
   "outputs": [],
   "source": []
  }
 ],
 "metadata": {
  "kernelspec": {
   "display_name": "Python 3",
   "language": "python",
   "name": "python3"
  },
  "language_info": {
   "codemirror_mode": {
    "name": "ipython",
    "version": 3
   },
   "file_extension": ".py",
   "mimetype": "text/x-python",
   "name": "python",
   "nbconvert_exporter": "python",
   "pygments_lexer": "ipython3",
   "version": "3.7.6"
  },
  "toc-autonumbering": true,
  "toc-showcode": false,
  "toc-showtags": false
 },
 "nbformat": 4,
 "nbformat_minor": 4
}
