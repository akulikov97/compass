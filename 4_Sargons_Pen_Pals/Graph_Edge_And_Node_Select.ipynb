{
 "cells": [
  {
   "cell_type": "markdown",
   "metadata": {},
   "source": [
    "## Bokeh Select Nodes and Edges  \n",
    "\n",
    "Zachary's Karate Club graph  \n",
    "Data file from:\n",
    "http://vlado.fmf.uni-lj.si/pub/networks/data/Ucinet/UciData.htm  \n",
    "Reference:\n",
    "Zachary W. (1977).  \n",
    "An information flow model for conflict and fission in small groups.  \n",
    "Journal of Anthropological Research, 33, 452-473.  \n"
   ]
  },
  {
   "cell_type": "markdown",
   "metadata": {},
   "source": [
    "#### Import modules that will be used"
   ]
  },
  {
   "cell_type": "code",
   "execution_count": 1,
   "metadata": {},
   "outputs": [
    {
     "data": {
      "text/html": [
       "\n",
       "    <div class=\"bk-root\">\n",
       "        <a href=\"https://bokeh.org\" target=\"_blank\" class=\"bk-logo bk-logo-small bk-logo-notebook\"></a>\n",
       "        <span id=\"1001\">Loading BokehJS ...</span>\n",
       "    </div>"
      ]
     },
     "metadata": {},
     "output_type": "display_data"
    },
    {
     "data": {
      "application/javascript": [
       "\n",
       "(function(root) {\n",
       "  function now() {\n",
       "    return new Date();\n",
       "  }\n",
       "\n",
       "  var force = true;\n",
       "\n",
       "  if (typeof root._bokeh_onload_callbacks === \"undefined\" || force === true) {\n",
       "    root._bokeh_onload_callbacks = [];\n",
       "    root._bokeh_is_loading = undefined;\n",
       "  }\n",
       "\n",
       "  var JS_MIME_TYPE = 'application/javascript';\n",
       "  var HTML_MIME_TYPE = 'text/html';\n",
       "  var EXEC_MIME_TYPE = 'application/vnd.bokehjs_exec.v0+json';\n",
       "  var CLASS_NAME = 'output_bokeh rendered_html';\n",
       "\n",
       "  /**\n",
       "   * Render data to the DOM node\n",
       "   */\n",
       "  function render(props, node) {\n",
       "    var script = document.createElement(\"script\");\n",
       "    node.appendChild(script);\n",
       "  }\n",
       "\n",
       "  /**\n",
       "   * Handle when an output is cleared or removed\n",
       "   */\n",
       "  function handleClearOutput(event, handle) {\n",
       "    var cell = handle.cell;\n",
       "\n",
       "    var id = cell.output_area._bokeh_element_id;\n",
       "    var server_id = cell.output_area._bokeh_server_id;\n",
       "    // Clean up Bokeh references\n",
       "    if (id != null && id in Bokeh.index) {\n",
       "      Bokeh.index[id].model.document.clear();\n",
       "      delete Bokeh.index[id];\n",
       "    }\n",
       "\n",
       "    if (server_id !== undefined) {\n",
       "      // Clean up Bokeh references\n",
       "      var cmd = \"from bokeh.io.state import curstate; print(curstate().uuid_to_server['\" + server_id + \"'].get_sessions()[0].document.roots[0]._id)\";\n",
       "      cell.notebook.kernel.execute(cmd, {\n",
       "        iopub: {\n",
       "          output: function(msg) {\n",
       "            var id = msg.content.text.trim();\n",
       "            if (id in Bokeh.index) {\n",
       "              Bokeh.index[id].model.document.clear();\n",
       "              delete Bokeh.index[id];\n",
       "            }\n",
       "          }\n",
       "        }\n",
       "      });\n",
       "      // Destroy server and session\n",
       "      var cmd = \"import bokeh.io.notebook as ion; ion.destroy_server('\" + server_id + \"')\";\n",
       "      cell.notebook.kernel.execute(cmd);\n",
       "    }\n",
       "  }\n",
       "\n",
       "  /**\n",
       "   * Handle when a new output is added\n",
       "   */\n",
       "  function handleAddOutput(event, handle) {\n",
       "    var output_area = handle.output_area;\n",
       "    var output = handle.output;\n",
       "\n",
       "    // limit handleAddOutput to display_data with EXEC_MIME_TYPE content only\n",
       "    if ((output.output_type != \"display_data\") || (!output.data.hasOwnProperty(EXEC_MIME_TYPE))) {\n",
       "      return\n",
       "    }\n",
       "\n",
       "    var toinsert = output_area.element.find(\".\" + CLASS_NAME.split(' ')[0]);\n",
       "\n",
       "    if (output.metadata[EXEC_MIME_TYPE][\"id\"] !== undefined) {\n",
       "      toinsert[toinsert.length - 1].firstChild.textContent = output.data[JS_MIME_TYPE];\n",
       "      // store reference to embed id on output_area\n",
       "      output_area._bokeh_element_id = output.metadata[EXEC_MIME_TYPE][\"id\"];\n",
       "    }\n",
       "    if (output.metadata[EXEC_MIME_TYPE][\"server_id\"] !== undefined) {\n",
       "      var bk_div = document.createElement(\"div\");\n",
       "      bk_div.innerHTML = output.data[HTML_MIME_TYPE];\n",
       "      var script_attrs = bk_div.children[0].attributes;\n",
       "      for (var i = 0; i < script_attrs.length; i++) {\n",
       "        toinsert[toinsert.length - 1].firstChild.setAttribute(script_attrs[i].name, script_attrs[i].value);\n",
       "      }\n",
       "      // store reference to server id on output_area\n",
       "      output_area._bokeh_server_id = output.metadata[EXEC_MIME_TYPE][\"server_id\"];\n",
       "    }\n",
       "  }\n",
       "\n",
       "  function register_renderer(events, OutputArea) {\n",
       "\n",
       "    function append_mime(data, metadata, element) {\n",
       "      // create a DOM node to render to\n",
       "      var toinsert = this.create_output_subarea(\n",
       "        metadata,\n",
       "        CLASS_NAME,\n",
       "        EXEC_MIME_TYPE\n",
       "      );\n",
       "      this.keyboard_manager.register_events(toinsert);\n",
       "      // Render to node\n",
       "      var props = {data: data, metadata: metadata[EXEC_MIME_TYPE]};\n",
       "      render(props, toinsert[toinsert.length - 1]);\n",
       "      element.append(toinsert);\n",
       "      return toinsert\n",
       "    }\n",
       "\n",
       "    /* Handle when an output is cleared or removed */\n",
       "    events.on('clear_output.CodeCell', handleClearOutput);\n",
       "    events.on('delete.Cell', handleClearOutput);\n",
       "\n",
       "    /* Handle when a new output is added */\n",
       "    events.on('output_added.OutputArea', handleAddOutput);\n",
       "\n",
       "    /**\n",
       "     * Register the mime type and append_mime function with output_area\n",
       "     */\n",
       "    OutputArea.prototype.register_mime_type(EXEC_MIME_TYPE, append_mime, {\n",
       "      /* Is output safe? */\n",
       "      safe: true,\n",
       "      /* Index of renderer in `output_area.display_order` */\n",
       "      index: 0\n",
       "    });\n",
       "  }\n",
       "\n",
       "  // register the mime type if in Jupyter Notebook environment and previously unregistered\n",
       "  if (root.Jupyter !== undefined) {\n",
       "    var events = require('base/js/events');\n",
       "    var OutputArea = require('notebook/js/outputarea').OutputArea;\n",
       "\n",
       "    if (OutputArea.prototype.mime_types().indexOf(EXEC_MIME_TYPE) == -1) {\n",
       "      register_renderer(events, OutputArea);\n",
       "    }\n",
       "  }\n",
       "\n",
       "  \n",
       "  if (typeof (root._bokeh_timeout) === \"undefined\" || force === true) {\n",
       "    root._bokeh_timeout = Date.now() + 5000;\n",
       "    root._bokeh_failed_load = false;\n",
       "  }\n",
       "\n",
       "  var NB_LOAD_WARNING = {'data': {'text/html':\n",
       "     \"<div style='background-color: #fdd'>\\n\"+\n",
       "     \"<p>\\n\"+\n",
       "     \"BokehJS does not appear to have successfully loaded. If loading BokehJS from CDN, this \\n\"+\n",
       "     \"may be due to a slow or bad network connection. Possible fixes:\\n\"+\n",
       "     \"</p>\\n\"+\n",
       "     \"<ul>\\n\"+\n",
       "     \"<li>re-rerun `output_notebook()` to attempt to load from CDN again, or</li>\\n\"+\n",
       "     \"<li>use INLINE resources instead, as so:</li>\\n\"+\n",
       "     \"</ul>\\n\"+\n",
       "     \"<code>\\n\"+\n",
       "     \"from bokeh.resources import INLINE\\n\"+\n",
       "     \"output_notebook(resources=INLINE)\\n\"+\n",
       "     \"</code>\\n\"+\n",
       "     \"</div>\"}};\n",
       "\n",
       "  function display_loaded() {\n",
       "    var el = document.getElementById(\"1001\");\n",
       "    if (el != null) {\n",
       "      el.textContent = \"BokehJS is loading...\";\n",
       "    }\n",
       "    if (root.Bokeh !== undefined) {\n",
       "      if (el != null) {\n",
       "        el.textContent = \"BokehJS \" + root.Bokeh.version + \" successfully loaded.\";\n",
       "      }\n",
       "    } else if (Date.now() < root._bokeh_timeout) {\n",
       "      setTimeout(display_loaded, 100)\n",
       "    }\n",
       "  }\n",
       "\n",
       "\n",
       "  function run_callbacks() {\n",
       "    try {\n",
       "      root._bokeh_onload_callbacks.forEach(function(callback) {\n",
       "        if (callback != null)\n",
       "          callback();\n",
       "      });\n",
       "    } finally {\n",
       "      delete root._bokeh_onload_callbacks\n",
       "    }\n",
       "    console.debug(\"Bokeh: all callbacks have finished\");\n",
       "  }\n",
       "\n",
       "  function load_libs(css_urls, js_urls, callback) {\n",
       "    if (css_urls == null) css_urls = [];\n",
       "    if (js_urls == null) js_urls = [];\n",
       "\n",
       "    root._bokeh_onload_callbacks.push(callback);\n",
       "    if (root._bokeh_is_loading > 0) {\n",
       "      console.debug(\"Bokeh: BokehJS is being loaded, scheduling callback at\", now());\n",
       "      return null;\n",
       "    }\n",
       "    if (js_urls == null || js_urls.length === 0) {\n",
       "      run_callbacks();\n",
       "      return null;\n",
       "    }\n",
       "    console.debug(\"Bokeh: BokehJS not loaded, scheduling load and callback at\", now());\n",
       "    root._bokeh_is_loading = css_urls.length + js_urls.length;\n",
       "\n",
       "    function on_load() {\n",
       "      root._bokeh_is_loading--;\n",
       "      if (root._bokeh_is_loading === 0) {\n",
       "        console.debug(\"Bokeh: all BokehJS libraries/stylesheets loaded\");\n",
       "        run_callbacks()\n",
       "      }\n",
       "    }\n",
       "\n",
       "    function on_error() {\n",
       "      console.error(\"failed to load \" + url);\n",
       "    }\n",
       "\n",
       "    for (var i = 0; i < css_urls.length; i++) {\n",
       "      var url = css_urls[i];\n",
       "      const element = document.createElement(\"link\");\n",
       "      element.onload = on_load;\n",
       "      element.onerror = on_error;\n",
       "      element.rel = \"stylesheet\";\n",
       "      element.type = \"text/css\";\n",
       "      element.href = url;\n",
       "      console.debug(\"Bokeh: injecting link tag for BokehJS stylesheet: \", url);\n",
       "      document.body.appendChild(element);\n",
       "    }\n",
       "\n",
       "    for (var i = 0; i < js_urls.length; i++) {\n",
       "      var url = js_urls[i];\n",
       "      var element = document.createElement('script');\n",
       "      element.onload = on_load;\n",
       "      element.onerror = on_error;\n",
       "      element.async = false;\n",
       "      element.src = url;\n",
       "      console.debug(\"Bokeh: injecting script tag for BokehJS library: \", url);\n",
       "      document.head.appendChild(element);\n",
       "    }\n",
       "  };var element = document.getElementById(\"1001\");\n",
       "  if (element == null) {\n",
       "    console.error(\"Bokeh: ERROR: autoload.js configured with elementid '1001' but no matching script tag was found. \")\n",
       "    return false;\n",
       "  }\n",
       "\n",
       "  function inject_raw_css(css) {\n",
       "    const element = document.createElement(\"style\");\n",
       "    element.appendChild(document.createTextNode(css));\n",
       "    document.body.appendChild(element);\n",
       "  }\n",
       "\n",
       "  \n",
       "  var js_urls = [\"https://cdn.pydata.org/bokeh/release/bokeh-1.4.0.min.js\", \"https://cdn.pydata.org/bokeh/release/bokeh-widgets-1.4.0.min.js\", \"https://cdn.pydata.org/bokeh/release/bokeh-tables-1.4.0.min.js\", \"https://cdn.pydata.org/bokeh/release/bokeh-gl-1.4.0.min.js\"];\n",
       "  var css_urls = [];\n",
       "  \n",
       "\n",
       "  var inline_js = [\n",
       "    function(Bokeh) {\n",
       "      Bokeh.set_log_level(\"info\");\n",
       "    },\n",
       "    function(Bokeh) {\n",
       "    \n",
       "    \n",
       "    }\n",
       "  ];\n",
       "\n",
       "  function run_inline_js() {\n",
       "    \n",
       "    if (root.Bokeh !== undefined || force === true) {\n",
       "      \n",
       "    for (var i = 0; i < inline_js.length; i++) {\n",
       "      inline_js[i].call(root, root.Bokeh);\n",
       "    }\n",
       "    if (force === true) {\n",
       "        display_loaded();\n",
       "      }} else if (Date.now() < root._bokeh_timeout) {\n",
       "      setTimeout(run_inline_js, 100);\n",
       "    } else if (!root._bokeh_failed_load) {\n",
       "      console.log(\"Bokeh: BokehJS failed to load within specified timeout.\");\n",
       "      root._bokeh_failed_load = true;\n",
       "    } else if (force !== true) {\n",
       "      var cell = $(document.getElementById(\"1001\")).parents('.cell').data().cell;\n",
       "      cell.output_area.append_execute_result(NB_LOAD_WARNING)\n",
       "    }\n",
       "\n",
       "  }\n",
       "\n",
       "  if (root._bokeh_is_loading === 0) {\n",
       "    console.debug(\"Bokeh: BokehJS loaded, going straight to plotting\");\n",
       "    run_inline_js();\n",
       "  } else {\n",
       "    load_libs(css_urls, js_urls, function() {\n",
       "      console.debug(\"Bokeh: BokehJS plotting callback run at\", now());\n",
       "      run_inline_js();\n",
       "    });\n",
       "  }\n",
       "}(window));"
      ],
      "application/vnd.bokehjs_load.v0+json": "\n(function(root) {\n  function now() {\n    return new Date();\n  }\n\n  var force = true;\n\n  if (typeof root._bokeh_onload_callbacks === \"undefined\" || force === true) {\n    root._bokeh_onload_callbacks = [];\n    root._bokeh_is_loading = undefined;\n  }\n\n  \n\n  \n  if (typeof (root._bokeh_timeout) === \"undefined\" || force === true) {\n    root._bokeh_timeout = Date.now() + 5000;\n    root._bokeh_failed_load = false;\n  }\n\n  var NB_LOAD_WARNING = {'data': {'text/html':\n     \"<div style='background-color: #fdd'>\\n\"+\n     \"<p>\\n\"+\n     \"BokehJS does not appear to have successfully loaded. If loading BokehJS from CDN, this \\n\"+\n     \"may be due to a slow or bad network connection. Possible fixes:\\n\"+\n     \"</p>\\n\"+\n     \"<ul>\\n\"+\n     \"<li>re-rerun `output_notebook()` to attempt to load from CDN again, or</li>\\n\"+\n     \"<li>use INLINE resources instead, as so:</li>\\n\"+\n     \"</ul>\\n\"+\n     \"<code>\\n\"+\n     \"from bokeh.resources import INLINE\\n\"+\n     \"output_notebook(resources=INLINE)\\n\"+\n     \"</code>\\n\"+\n     \"</div>\"}};\n\n  function display_loaded() {\n    var el = document.getElementById(\"1001\");\n    if (el != null) {\n      el.textContent = \"BokehJS is loading...\";\n    }\n    if (root.Bokeh !== undefined) {\n      if (el != null) {\n        el.textContent = \"BokehJS \" + root.Bokeh.version + \" successfully loaded.\";\n      }\n    } else if (Date.now() < root._bokeh_timeout) {\n      setTimeout(display_loaded, 100)\n    }\n  }\n\n\n  function run_callbacks() {\n    try {\n      root._bokeh_onload_callbacks.forEach(function(callback) {\n        if (callback != null)\n          callback();\n      });\n    } finally {\n      delete root._bokeh_onload_callbacks\n    }\n    console.debug(\"Bokeh: all callbacks have finished\");\n  }\n\n  function load_libs(css_urls, js_urls, callback) {\n    if (css_urls == null) css_urls = [];\n    if (js_urls == null) js_urls = [];\n\n    root._bokeh_onload_callbacks.push(callback);\n    if (root._bokeh_is_loading > 0) {\n      console.debug(\"Bokeh: BokehJS is being loaded, scheduling callback at\", now());\n      return null;\n    }\n    if (js_urls == null || js_urls.length === 0) {\n      run_callbacks();\n      return null;\n    }\n    console.debug(\"Bokeh: BokehJS not loaded, scheduling load and callback at\", now());\n    root._bokeh_is_loading = css_urls.length + js_urls.length;\n\n    function on_load() {\n      root._bokeh_is_loading--;\n      if (root._bokeh_is_loading === 0) {\n        console.debug(\"Bokeh: all BokehJS libraries/stylesheets loaded\");\n        run_callbacks()\n      }\n    }\n\n    function on_error() {\n      console.error(\"failed to load \" + url);\n    }\n\n    for (var i = 0; i < css_urls.length; i++) {\n      var url = css_urls[i];\n      const element = document.createElement(\"link\");\n      element.onload = on_load;\n      element.onerror = on_error;\n      element.rel = \"stylesheet\";\n      element.type = \"text/css\";\n      element.href = url;\n      console.debug(\"Bokeh: injecting link tag for BokehJS stylesheet: \", url);\n      document.body.appendChild(element);\n    }\n\n    for (var i = 0; i < js_urls.length; i++) {\n      var url = js_urls[i];\n      var element = document.createElement('script');\n      element.onload = on_load;\n      element.onerror = on_error;\n      element.async = false;\n      element.src = url;\n      console.debug(\"Bokeh: injecting script tag for BokehJS library: \", url);\n      document.head.appendChild(element);\n    }\n  };var element = document.getElementById(\"1001\");\n  if (element == null) {\n    console.error(\"Bokeh: ERROR: autoload.js configured with elementid '1001' but no matching script tag was found. \")\n    return false;\n  }\n\n  function inject_raw_css(css) {\n    const element = document.createElement(\"style\");\n    element.appendChild(document.createTextNode(css));\n    document.body.appendChild(element);\n  }\n\n  \n  var js_urls = [\"https://cdn.pydata.org/bokeh/release/bokeh-1.4.0.min.js\", \"https://cdn.pydata.org/bokeh/release/bokeh-widgets-1.4.0.min.js\", \"https://cdn.pydata.org/bokeh/release/bokeh-tables-1.4.0.min.js\", \"https://cdn.pydata.org/bokeh/release/bokeh-gl-1.4.0.min.js\"];\n  var css_urls = [];\n  \n\n  var inline_js = [\n    function(Bokeh) {\n      Bokeh.set_log_level(\"info\");\n    },\n    function(Bokeh) {\n    \n    \n    }\n  ];\n\n  function run_inline_js() {\n    \n    if (root.Bokeh !== undefined || force === true) {\n      \n    for (var i = 0; i < inline_js.length; i++) {\n      inline_js[i].call(root, root.Bokeh);\n    }\n    if (force === true) {\n        display_loaded();\n      }} else if (Date.now() < root._bokeh_timeout) {\n      setTimeout(run_inline_js, 100);\n    } else if (!root._bokeh_failed_load) {\n      console.log(\"Bokeh: BokehJS failed to load within specified timeout.\");\n      root._bokeh_failed_load = true;\n    } else if (force !== true) {\n      var cell = $(document.getElementById(\"1001\")).parents('.cell').data().cell;\n      cell.output_area.append_execute_result(NB_LOAD_WARNING)\n    }\n\n  }\n\n  if (root._bokeh_is_loading === 0) {\n    console.debug(\"Bokeh: BokehJS loaded, going straight to plotting\");\n    run_inline_js();\n  } else {\n    load_libs(css_urls, js_urls, function() {\n      console.debug(\"Bokeh: BokehJS plotting callback run at\", now());\n      run_inline_js();\n    });\n  }\n}(window));"
     },
     "metadata": {},
     "output_type": "display_data"
    }
   ],
   "source": [
    "import networkx as nx\n",
    "\n",
    "from bokeh.io import show, curdoc, output_notebook\n",
    "from bokeh.layouts import Row, Column\n",
    "from bokeh.models import Plot, Range1d, MultiLine, Circle, HoverTool, TapTool, BoxSelectTool\n",
    "from bokeh.models.graphs import from_networkx, NodesAndLinkedEdges, EdgesAndLinkedNodes\n",
    "from bokeh.palettes import Spectral4\n",
    "\n",
    "output_notebook()"
   ]
  },
  {
   "cell_type": "markdown",
   "metadata": {},
   "source": [
    "### Load test data  \n",
    "\n",
    "These examples us some test data that comes with NetworkX "
   ]
  },
  {
   "cell_type": "code",
   "execution_count": 2,
   "metadata": {},
   "outputs": [],
   "source": [
    "G=nx.karate_club_graph()"
   ]
  },
  {
   "cell_type": "markdown",
   "metadata": {},
   "source": [
    "### Create a convenience function to create the plots\n",
    "\n",
    "This function takes a layout NetworkX layout function and options policies to use when creating the plot that is returned.\n",
    "\n",
    "Inspection Policy - Behavior of hHover tool\n",
    "Selection Policy - Behavior of election tool or programatic selection behavior"
   ]
  },
  {
   "cell_type": "code",
   "execution_count": 3,
   "metadata": {},
   "outputs": [],
   "source": [
    "def create_graph(layout_func, inspection_policy=None, selection_policy=None, **kwargs):\n",
    "\n",
    "    plot = Plot(plot_width=400, plot_height=400,\n",
    "                x_range=Range1d(-1.1,1.1), y_range=Range1d(-1.1,1.1))\n",
    "    graph_renderer = from_networkx(G, layout_func, **kwargs)\n",
    "\n",
    "    graph_renderer.node_renderer.glyph = Circle(size=15, fill_color=Spectral4[0])\n",
    "    graph_renderer.node_renderer.selection_glyph = Circle(size=15, fill_color=Spectral4[2])\n",
    "    graph_renderer.node_renderer.hover_glyph = Circle(size=15, fill_color=Spectral4[1])\n",
    "\n",
    "    graph_renderer.edge_renderer.glyph = MultiLine(line_color=\"#CCCCCC\", line_alpha=0.8, line_width=5)\n",
    "    graph_renderer.edge_renderer.selection_glyph = MultiLine(line_color=Spectral4[2], line_width=5)\n",
    "    graph_renderer.edge_renderer.hover_glyph = MultiLine(line_color=Spectral4[1], line_width=5)\n",
    "\n",
    "    graph_renderer.inspection_policy = inspection_policy\n",
    "    graph_renderer.selection_policy = selection_policy\n",
    "\n",
    "    plot.renderers.append(graph_renderer)\n",
    "\n",
    "    return plot"
   ]
  },
  {
   "cell_type": "markdown",
   "metadata": {},
   "source": [
    "#### Plot with a Hover tool that highlights the edges connected to a point"
   ]
  },
  {
   "cell_type": "code",
   "execution_count": 4,
   "metadata": {},
   "outputs": [],
   "source": [
    "plot_1 = create_graph(nx.circular_layout, inspection_policy=NodesAndLinkedEdges(), scale=1, center=(0,0))\n",
    "plot_1.title.text = \"Hover highlight node and adjacent edges (Circular Layout))\"\n",
    "plot_1.add_tools(HoverTool(tooltips=None))"
   ]
  },
  {
   "cell_type": "markdown",
   "metadata": {},
   "source": [
    "#### Plot that highlights edges of a selected node (clicked)  \n",
    "You can select multiple points using the Box Tool and by SHIFT-CLICK"
   ]
  },
  {
   "cell_type": "code",
   "execution_count": 5,
   "metadata": {},
   "outputs": [],
   "source": [
    "plot_2 = create_graph(nx.spring_layout, selection_policy=NodesAndLinkedEdges(), scale=2, center=(0,0))\n",
    "plot_2.title.text = \"Highlight selected nodes and adjacent edges (Spring Layout))\"\n",
    "plot_2.add_tools(TapTool(), BoxSelectTool())"
   ]
  },
  {
   "cell_type": "markdown",
   "metadata": {},
   "source": [
    "#### Plot that highlights the nodes adjacent to the edge where the cursor is hovering"
   ]
  },
  {
   "cell_type": "code",
   "execution_count": 10,
   "metadata": {},
   "outputs": [],
   "source": [
    "plot_3 = create_graph(nx.random_layout, inspection_policy=EdgesAndLinkedNodes(), center=(0,0))\n",
    "plot_3.title.text = \"Hover highight edge and attached nodes (Random Layout)\"\n",
    "plot_3.add_tools(HoverTool(tooltips=None))"
   ]
  },
  {
   "cell_type": "markdown",
   "metadata": {},
   "source": [
    "#### Plot that highlights adjacent nodes to selected edges (clicked)  \n",
    "You can select multiple edges using the Box Tool and by SHIFT-CLICK"
   ]
  },
  {
   "cell_type": "code",
   "execution_count": 11,
   "metadata": {},
   "outputs": [],
   "source": [
    "plot_4 = create_graph(nx.fruchterman_reingold_layout, selection_policy=EdgesAndLinkedNodes(), scale=2, center=(0,0), dim=2)\n",
    "plot_4.title.text = \"Highlight selected edges and adjacent nodes (FR Layout)\"\n",
    "plot_4.add_tools(TapTool())\n",
    "\n"
   ]
  },
  {
   "cell_type": "markdown",
   "metadata": {},
   "source": [
    "#### Layout plots in a grid and show"
   ]
  },
  {
   "cell_type": "code",
   "execution_count": 14,
   "metadata": {},
   "outputs": [
    {
     "data": {
      "text/html": [
       "\n",
       "\n",
       "\n",
       "\n",
       "\n",
       "\n",
       "  <div class=\"bk-root\" id=\"c77e1c8f-9f44-4a43-a4f2-84e87960d913\" data-root-id=\"2151\"></div>\n"
      ]
     },
     "metadata": {},
     "output_type": "display_data"
    },
    {
     "data": {
      "application/javascript": [
       "(function(root) {\n",
       "  function embed_document(root) {\n",
       "    \n",
       "  var docs_json = {\"46c8c76c-63e8-4295-9d80-5455634dc174\":{\"roots\":{\"references\":[{\"attributes\":{\"children\":[{\"id\":\"2149\",\"type\":\"Row\"},{\"id\":\"2150\",\"type\":\"Row\"}]},\"id\":\"2151\",\"type\":\"Column\"},{\"attributes\":{\"data_source\":{\"id\":\"1069\",\"type\":\"ColumnDataSource\"},\"glyph\":{\"id\":\"1088\",\"type\":\"MultiLine\"},\"hover_glyph\":{\"id\":\"1098\",\"type\":\"MultiLine\"},\"muted_glyph\":null,\"selection_glyph\":{\"id\":\"1093\",\"type\":\"MultiLine\"},\"view\":{\"id\":\"1071\",\"type\":\"CDSView\"}},\"id\":\"1070\",\"type\":\"GlyphRenderer\"},{\"attributes\":{\"source\":{\"id\":\"1069\",\"type\":\"ColumnDataSource\"}},\"id\":\"1071\",\"type\":\"CDSView\"},{\"attributes\":{\"children\":[{\"id\":\"1005\",\"type\":\"Plot\"},{\"id\":\"1058\",\"type\":\"Plot\"}]},\"id\":\"2149\",\"type\":\"Row\"},{\"attributes\":{\"graph_layout\":{\"0\":[1.0,5.200874811222461e-09],\"1\":[0.9829730987698075,0.18374951687777052],\"10\":[-0.2736629534524478,0.9618256731695953],\"11\":[-0.4457383143150295,0.8951633020694276],\"12\":[-0.6026346669454482,0.7980172083092125],\"13\":[-0.7390088423744644,0.6736956880896635],\"14\":[-0.8502171619409874,0.5264321613022418],\"15\":[-0.9324721677053746,0.3612417925562752],\"16\":[-0.9829730970167299,0.1837495317789317],\"17\":[-0.9999999982469223,-8.222190168562394e-08],\"18\":[-0.9829730970167299,-0.18374946177253734],\"19\":[-0.9324722273100193,-0.36124172254988085],\"2\":[0.932472229063097,0.36124167334698576],\"20\":[-0.8502171619409874,-0.5264320912958473],\"21\":[-0.7390089019791091,-0.6736956776879138],\"22\":[-0.6026347265500929,-0.7980171383028182],\"23\":[-0.44573837391967425,-0.895163291667678],\"24\":[-0.27366289384780307,-0.9618256627678456],\"25\":[-0.0922681605182429,-0.9957342087090403],\"26\":[0.09226818462306245,-0.9957342087090403],\"27\":[0.27366292540320325,-0.9618256627678456],\"28\":[0.44573837567275204,-0.895163291667678],\"29\":[0.6026347283031706,-0.7980171383028182],\"3\":[0.8502171040894204,0.5264321613022418],\"30\":[0.7390087845228973,-0.6736957968972033],\"31\":[0.8502170444847756,-0.5264322701097816],\"32\":[0.932472229063097,-0.36124169274755846],\"33\":[0.9829730987698075,-0.18374944687137618],\"4\":[0.7390089037321868,0.6736956284850187],\"5\":[0.6026346686985259,0.7980172083092125],\"6\":[0.4457383458704297,0.8951633020694276],\"7\":[0.27366298500784797,0.9618256731695953],\"8\":[0.09226837088757722,0.9957341595061452],\"9\":[-0.09226833188159647,0.9957341595061452]}},\"id\":\"1019\",\"type\":\"StaticLayoutProvider\"},{\"attributes\":{\"callback\":null,\"data\":{\"club\":[\"Mr. Hi\",\"Mr. Hi\",\"Mr. Hi\",\"Mr. Hi\",\"Mr. Hi\",\"Mr. Hi\",\"Mr. Hi\",\"Mr. Hi\",\"Mr. Hi\",\"Officer\",\"Mr. Hi\",\"Mr. Hi\",\"Mr. Hi\",\"Mr. Hi\",\"Officer\",\"Officer\",\"Mr. Hi\",\"Mr. Hi\",\"Officer\",\"Mr. Hi\",\"Officer\",\"Mr. Hi\",\"Officer\",\"Officer\",\"Officer\",\"Officer\",\"Officer\",\"Officer\",\"Officer\",\"Officer\",\"Officer\",\"Officer\",\"Officer\",\"Officer\"],\"index\":[0,1,2,3,4,5,6,7,8,9,10,11,12,13,14,15,16,17,18,19,20,21,22,23,24,25,26,27,28,29,30,31,32,33]},\"selected\":{\"id\":\"2308\",\"type\":\"Selection\"},\"selection_policy\":{\"id\":\"2307\",\"type\":\"UnionRenderers\"}},\"id\":\"1597\",\"type\":\"ColumnDataSource\"},{\"attributes\":{\"callback\":null,\"end\":1.1,\"start\":-1.1},\"id\":\"1004\",\"type\":\"Range1d\"},{\"attributes\":{\"data_source\":{\"id\":\"1597\",\"type\":\"ColumnDataSource\"},\"glyph\":{\"id\":\"1605\",\"type\":\"Circle\"},\"hover_glyph\":{\"id\":\"1615\",\"type\":\"Circle\"},\"muted_glyph\":null,\"selection_glyph\":{\"id\":\"1610\",\"type\":\"Circle\"},\"view\":{\"id\":\"1599\",\"type\":\"CDSView\"}},\"id\":\"1598\",\"type\":\"GlyphRenderer\"},{\"attributes\":{\"edge_renderer\":{\"id\":\"1602\",\"type\":\"GlyphRenderer\"},\"inspection_policy\":{\"id\":\"1587\",\"type\":\"EdgesAndLinkedNodes\"},\"layout_provider\":{\"id\":\"1604\",\"type\":\"StaticLayoutProvider\"},\"node_renderer\":{\"id\":\"1598\",\"type\":\"GlyphRenderer\"},\"selection_policy\":null},\"id\":\"1595\",\"type\":\"GraphRenderer\"},{\"attributes\":{\"graph_layout\":{\"0\":[0.853505599506063,0.34681050677555375],\"1\":[0.640286157794528,-0.1475494341924496],\"10\":[1.5769372620040352,0.9598881542478453],\"11\":[1.8753744014166807,0.43491648877352346],\"12\":[1.4767528894620656,0.26254895847772003],\"13\":[0.22234596021361924,0.15071063354143388],\"14\":[-1.2332764731674564,0.31241787734675647],\"15\":[-1.5219063375487187,0.002384312784246554],\"16\":[1.3624067907389075,2.0],\"17\":[1.3707989829763265,-0.11080666020259118],\"18\":[-1.5309169519184105,-0.5994198063480629],\"19\":[0.2427990181753895,-0.22766559975283873],\"2\":[0.03351153280719509,-0.08032812086882826],\"20\":[-1.6687658957077514,-0.3213923549084565],\"21\":[1.2497990256319207,-0.37553314608933086],\"22\":[-1.3664509184578382,-0.8251046997231232],\"23\":[-0.9934668798268377,-0.8550077433675825],\"24\":[-0.23946890130783702,-1.463168666774154],\"25\":[-0.6079932626191673,-1.4153366148479463],\"26\":[-1.6453570306169565,0.26486662850043413],\"27\":[-0.4708289789648755,-0.8830851274998833],\"28\":[-0.4103093093790797,-0.5388700473199428],\"29\":[-1.3683170967429072,-0.2698326779137876],\"3\":[0.8280402016053737,0.07011889556402132],\"30\":[-0.2880011115400037,-0.1504059085254556],\"31\":[-0.14143518982619097,-0.6508505330783765],\"32\":[-0.9321552078297384,-0.30504763865142187],\"33\":[-0.806883261584527,-0.21736229683178104],\"4\":[1.257702029946712,1.0279363972321025],\"5\":[1.370905671755282,1.3405514065973585],\"6\":[1.0863891078682708,1.388182695186073],\"7\":[0.5875225298906369,0.25603633337439696],\"8\":[-0.2187574220255379,0.18081242935257869],\"9\":[-0.5907869327291776,0.4385853591419684]}},\"id\":\"1072\",\"type\":\"StaticLayoutProvider\"},{\"attributes\":{},\"id\":\"1226\",\"type\":\"Selection\"},{\"attributes\":{\"data_source\":{\"id\":\"1601\",\"type\":\"ColumnDataSource\"},\"glyph\":{\"id\":\"1620\",\"type\":\"MultiLine\"},\"hover_glyph\":{\"id\":\"1630\",\"type\":\"MultiLine\"},\"muted_glyph\":null,\"selection_glyph\":{\"id\":\"1625\",\"type\":\"MultiLine\"},\"view\":{\"id\":\"1603\",\"type\":\"CDSView\"}},\"id\":\"1602\",\"type\":\"GlyphRenderer\"},{\"attributes\":{\"line_color\":{\"value\":\"#fdae61\"},\"line_width\":{\"value\":5}},\"id\":\"1040\",\"type\":\"MultiLine\"},{\"attributes\":{},\"id\":\"2310\",\"type\":\"Selection\"},{\"attributes\":{\"source\":{\"id\":\"1601\",\"type\":\"ColumnDataSource\"}},\"id\":\"1603\",\"type\":\"CDSView\"},{\"attributes\":{\"line_alpha\":{\"value\":0.8},\"line_color\":{\"value\":\"#CCCCCC\"},\"line_width\":{\"value\":5}},\"id\":\"1088\",\"type\":\"MultiLine\"},{\"attributes\":{\"callback\":null,\"end\":1.1,\"start\":-1.1},\"id\":\"1057\",\"type\":\"Range1d\"},{\"attributes\":{\"plot_height\":400,\"plot_width\":400,\"renderers\":[{\"id\":\"1010\",\"type\":\"GraphRenderer\"}],\"title\":{\"id\":\"1052\",\"type\":\"Title\"},\"toolbar\":{\"id\":\"1054\",\"type\":\"Toolbar\"},\"x_range\":{\"id\":\"1003\",\"type\":\"Range1d\"},\"x_scale\":{\"id\":\"1184\",\"type\":\"LinearScale\"},\"y_range\":{\"id\":\"1004\",\"type\":\"Range1d\"},\"y_scale\":{\"id\":\"1185\",\"type\":\"LinearScale\"}},\"id\":\"1005\",\"type\":\"Plot\"},{\"attributes\":{\"fill_color\":{\"value\":\"#abdda4\"},\"size\":{\"units\":\"screen\",\"value\":15}},\"id\":\"1083\",\"type\":\"Circle\"},{\"attributes\":{\"line_color\":{\"value\":\"#abdda4\"},\"line_width\":{\"value\":5}},\"id\":\"1630\",\"type\":\"MultiLine\"},{\"attributes\":{},\"id\":\"1224\",\"type\":\"Selection\"},{\"attributes\":{\"callback\":null,\"data\":{\"end\":[1,2,3,4,5,6,7,8,10,11,12,13,17,19,21,31,2,3,7,13,17,19,21,30,3,7,8,9,13,27,28,32,7,12,13,6,10,6,10,16,16,30,32,33,33,33,32,33,32,33,32,33,33,32,33,32,33,25,27,29,32,33,25,27,31,31,29,33,33,31,33,32,33,32,33,32,33,33],\"start\":[0,0,0,0,0,0,0,0,0,0,0,0,0,0,0,0,1,1,1,1,1,1,1,1,2,2,2,2,2,2,2,2,3,3,3,4,4,5,5,5,6,8,8,8,9,13,14,14,15,15,18,18,19,20,20,22,22,23,23,23,23,23,24,24,24,25,26,26,27,28,28,29,29,30,30,31,31,32]},\"selected\":{\"id\":\"2310\",\"type\":\"Selection\"},\"selection_policy\":{\"id\":\"2309\",\"type\":\"UnionRenderers\"}},\"id\":\"1601\",\"type\":\"ColumnDataSource\"},{\"attributes\":{\"children\":[{\"id\":\"1590\",\"type\":\"Plot\"},{\"id\":\"1643\",\"type\":\"Plot\"}]},\"id\":\"2150\",\"type\":\"Row\"},{\"attributes\":{\"source\":{\"id\":\"1597\",\"type\":\"ColumnDataSource\"}},\"id\":\"1599\",\"type\":\"CDSView\"},{\"attributes\":{\"line_alpha\":{\"value\":0.8},\"line_color\":{\"value\":\"#CCCCCC\"},\"line_width\":{\"value\":5}},\"id\":\"1620\",\"type\":\"MultiLine\"},{\"attributes\":{\"fill_color\":{\"value\":\"#abdda4\"},\"size\":{\"units\":\"screen\",\"value\":15}},\"id\":\"1615\",\"type\":\"Circle\"},{\"attributes\":{\"line_color\":{\"value\":\"#abdda4\"},\"line_width\":{\"value\":5}},\"id\":\"1098\",\"type\":\"MultiLine\"},{\"attributes\":{\"fill_color\":{\"value\":\"#fdae61\"},\"size\":{\"units\":\"screen\",\"value\":15}},\"id\":\"1610\",\"type\":\"Circle\"},{\"attributes\":{\"callback\":null},\"id\":\"1106\",\"type\":\"TapTool\"},{\"attributes\":{\"fill_color\":{\"value\":\"#2b83ba\"},\"size\":{\"units\":\"screen\",\"value\":15}},\"id\":\"1020\",\"type\":\"Circle\"},{\"attributes\":{\"line_alpha\":{\"value\":0.8},\"line_color\":{\"value\":\"#CCCCCC\"},\"line_width\":{\"value\":5}},\"id\":\"1035\",\"type\":\"MultiLine\"},{\"attributes\":{\"line_color\":{\"value\":\"#fdae61\"},\"line_width\":{\"value\":5}},\"id\":\"1625\",\"type\":\"MultiLine\"},{\"attributes\":{},\"id\":\"2309\",\"type\":\"UnionRenderers\"},{\"attributes\":{\"active_drag\":\"auto\",\"active_inspect\":\"auto\",\"active_multi\":null,\"active_scroll\":\"auto\",\"active_tap\":\"auto\",\"tools\":[{\"id\":\"1106\",\"type\":\"TapTool\"},{\"id\":\"1107\",\"type\":\"BoxSelectTool\"}]},\"id\":\"1108\",\"type\":\"Toolbar\"},{\"attributes\":{\"callback\":null,\"overlay\":{\"id\":\"1220\",\"type\":\"BoxAnnotation\"}},\"id\":\"1107\",\"type\":\"BoxSelectTool\"},{\"attributes\":{},\"id\":\"1184\",\"type\":\"LinearScale\"},{\"attributes\":{},\"id\":\"1790\",\"type\":\"UnionRenderers\"},{\"attributes\":{},\"id\":\"1792\",\"type\":\"UnionRenderers\"},{\"attributes\":{},\"id\":\"1185\",\"type\":\"LinearScale\"},{\"attributes\":{},\"id\":\"1793\",\"type\":\"Selection\"},{\"attributes\":{\"fill_color\":{\"value\":\"#fdae61\"},\"size\":{\"units\":\"screen\",\"value\":15}},\"id\":\"1025\",\"type\":\"Circle\"},{\"attributes\":{\"bottom_units\":\"screen\",\"fill_alpha\":{\"value\":0.5},\"fill_color\":{\"value\":\"lightgrey\"},\"left_units\":\"screen\",\"level\":\"overlay\",\"line_alpha\":{\"value\":1.0},\"line_color\":{\"value\":\"black\"},\"line_dash\":[4,4],\"line_width\":{\"value\":2},\"render_mode\":\"css\",\"right_units\":\"screen\",\"top_units\":\"screen\"},\"id\":\"1220\",\"type\":\"BoxAnnotation\"},{\"attributes\":{},\"id\":\"1188\",\"type\":\"LinearScale\"},{\"attributes\":{},\"id\":\"2307\",\"type\":\"UnionRenderers\"},{\"attributes\":{},\"id\":\"1189\",\"type\":\"LinearScale\"},{\"attributes\":{\"text\":\"Hover highlight node and adjacent edges (Circular Layout))\"},\"id\":\"1052\",\"type\":\"Title\"},{\"attributes\":{},\"id\":\"1791\",\"type\":\"Selection\"},{\"attributes\":{},\"id\":\"1221\",\"type\":\"UnionRenderers\"},{\"attributes\":{\"callback\":null,\"end\":1.1,\"start\":-1.1},\"id\":\"1003\",\"type\":\"Range1d\"},{\"attributes\":{},\"id\":\"1002\",\"type\":\"NodesAndLinkedEdges\"},{\"attributes\":{},\"id\":\"1225\",\"type\":\"UnionRenderers\"},{\"attributes\":{\"callback\":null,\"data\":{\"club\":[\"Mr. Hi\",\"Mr. Hi\",\"Mr. Hi\",\"Mr. Hi\",\"Mr. Hi\",\"Mr. Hi\",\"Mr. Hi\",\"Mr. Hi\",\"Mr. Hi\",\"Officer\",\"Mr. Hi\",\"Mr. Hi\",\"Mr. Hi\",\"Mr. Hi\",\"Officer\",\"Officer\",\"Mr. Hi\",\"Mr. Hi\",\"Officer\",\"Mr. Hi\",\"Officer\",\"Mr. Hi\",\"Officer\",\"Officer\",\"Officer\",\"Officer\",\"Officer\",\"Officer\",\"Officer\",\"Officer\",\"Officer\",\"Officer\",\"Officer\",\"Officer\"],\"index\":[0,1,2,3,4,5,6,7,8,9,10,11,12,13,14,15,16,17,18,19,20,21,22,23,24,25,26,27,28,29,30,31,32,33]},\"selected\":{\"id\":\"1222\",\"type\":\"Selection\"},\"selection_policy\":{\"id\":\"1221\",\"type\":\"UnionRenderers\"}},\"id\":\"1012\",\"type\":\"ColumnDataSource\"},{\"attributes\":{},\"id\":\"1227\",\"type\":\"UnionRenderers\"},{\"attributes\":{\"edge_renderer\":{\"id\":\"1017\",\"type\":\"GlyphRenderer\"},\"inspection_policy\":{\"id\":\"1002\",\"type\":\"NodesAndLinkedEdges\"},\"layout_provider\":{\"id\":\"1019\",\"type\":\"StaticLayoutProvider\"},\"node_renderer\":{\"id\":\"1013\",\"type\":\"GlyphRenderer\"},\"selection_policy\":null},\"id\":\"1010\",\"type\":\"GraphRenderer\"},{\"attributes\":{\"plot_height\":400,\"plot_width\":400,\"renderers\":[{\"id\":\"1063\",\"type\":\"GraphRenderer\"}],\"title\":{\"id\":\"1105\",\"type\":\"Title\"},\"toolbar\":{\"id\":\"1108\",\"type\":\"Toolbar\"},\"x_range\":{\"id\":\"1056\",\"type\":\"Range1d\"},\"x_scale\":{\"id\":\"1188\",\"type\":\"LinearScale\"},\"y_range\":{\"id\":\"1057\",\"type\":\"Range1d\"},\"y_scale\":{\"id\":\"1189\",\"type\":\"LinearScale\"}},\"id\":\"1058\",\"type\":\"Plot\"},{\"attributes\":{},\"id\":\"1222\",\"type\":\"Selection\"},{\"attributes\":{\"data_source\":{\"id\":\"1012\",\"type\":\"ColumnDataSource\"},\"glyph\":{\"id\":\"1020\",\"type\":\"Circle\"},\"hover_glyph\":{\"id\":\"1030\",\"type\":\"Circle\"},\"muted_glyph\":null,\"selection_glyph\":{\"id\":\"1025\",\"type\":\"Circle\"},\"view\":{\"id\":\"1014\",\"type\":\"CDSView\"}},\"id\":\"1013\",\"type\":\"GlyphRenderer\"},{\"attributes\":{},\"id\":\"1228\",\"type\":\"Selection\"},{\"attributes\":{\"source\":{\"id\":\"1012\",\"type\":\"ColumnDataSource\"}},\"id\":\"1014\",\"type\":\"CDSView\"},{\"attributes\":{\"callback\":null,\"data\":{\"club\":[\"Mr. Hi\",\"Mr. Hi\",\"Mr. Hi\",\"Mr. Hi\",\"Mr. Hi\",\"Mr. Hi\",\"Mr. Hi\",\"Mr. Hi\",\"Mr. Hi\",\"Officer\",\"Mr. Hi\",\"Mr. Hi\",\"Mr. Hi\",\"Mr. Hi\",\"Officer\",\"Officer\",\"Mr. Hi\",\"Mr. Hi\",\"Officer\",\"Mr. Hi\",\"Officer\",\"Mr. Hi\",\"Officer\",\"Officer\",\"Officer\",\"Officer\",\"Officer\",\"Officer\",\"Officer\",\"Officer\",\"Officer\",\"Officer\",\"Officer\",\"Officer\"],\"index\":[0,1,2,3,4,5,6,7,8,9,10,11,12,13,14,15,16,17,18,19,20,21,22,23,24,25,26,27,28,29,30,31,32,33]},\"selected\":{\"id\":\"1791\",\"type\":\"Selection\"},\"selection_policy\":{\"id\":\"1790\",\"type\":\"UnionRenderers\"}},\"id\":\"1650\",\"type\":\"ColumnDataSource\"},{\"attributes\":{\"callback\":null},\"id\":\"1691\",\"type\":\"TapTool\"},{\"attributes\":{\"fill_color\":{\"value\":\"#fdae61\"},\"size\":{\"units\":\"screen\",\"value\":15}},\"id\":\"1663\",\"type\":\"Circle\"},{\"attributes\":{\"callback\":null,\"tooltips\":null},\"id\":\"1638\",\"type\":\"HoverTool\"},{\"attributes\":{\"callback\":null,\"data\":{\"end\":[1,2,3,4,5,6,7,8,10,11,12,13,17,19,21,31,2,3,7,13,17,19,21,30,3,7,8,9,13,27,28,32,7,12,13,6,10,6,10,16,16,30,32,33,33,33,32,33,32,33,32,33,33,32,33,32,33,25,27,29,32,33,25,27,31,31,29,33,33,31,33,32,33,32,33,32,33,33],\"start\":[0,0,0,0,0,0,0,0,0,0,0,0,0,0,0,0,1,1,1,1,1,1,1,1,2,2,2,2,2,2,2,2,3,3,3,4,4,5,5,5,6,8,8,8,9,13,14,14,15,15,18,18,19,20,20,22,22,23,23,23,23,23,24,24,24,25,26,26,27,28,28,29,29,30,30,31,31,32]},\"selected\":{\"id\":\"1224\",\"type\":\"Selection\"},\"selection_policy\":{\"id\":\"1223\",\"type\":\"UnionRenderers\"}},\"id\":\"1016\",\"type\":\"ColumnDataSource\"},{\"attributes\":{},\"id\":\"1753\",\"type\":\"LinearScale\"},{\"attributes\":{\"data_source\":{\"id\":\"1016\",\"type\":\"ColumnDataSource\"},\"glyph\":{\"id\":\"1035\",\"type\":\"MultiLine\"},\"hover_glyph\":{\"id\":\"1045\",\"type\":\"MultiLine\"},\"muted_glyph\":null,\"selection_glyph\":{\"id\":\"1040\",\"type\":\"MultiLine\"},\"view\":{\"id\":\"1018\",\"type\":\"CDSView\"}},\"id\":\"1017\",\"type\":\"GlyphRenderer\"},{\"attributes\":{\"edge_renderer\":{\"id\":\"1655\",\"type\":\"GlyphRenderer\"},\"inspection_policy\":null,\"layout_provider\":{\"id\":\"1657\",\"type\":\"StaticLayoutProvider\"},\"node_renderer\":{\"id\":\"1651\",\"type\":\"GlyphRenderer\"},\"selection_policy\":{\"id\":\"1640\",\"type\":\"EdgesAndLinkedNodes\"}},\"id\":\"1648\",\"type\":\"GraphRenderer\"},{\"attributes\":{},\"id\":\"1055\",\"type\":\"NodesAndLinkedEdges\"},{\"attributes\":{\"fill_color\":{\"value\":\"#abdda4\"},\"size\":{\"units\":\"screen\",\"value\":15}},\"id\":\"1030\",\"type\":\"Circle\"},{\"attributes\":{\"text\":\"Highlight selected nodes and adjacent edges (Spring Layout))\"},\"id\":\"1105\",\"type\":\"Title\"},{\"attributes\":{},\"id\":\"1587\",\"type\":\"EdgesAndLinkedNodes\"},{\"attributes\":{\"source\":{\"id\":\"1016\",\"type\":\"ColumnDataSource\"}},\"id\":\"1018\",\"type\":\"CDSView\"},{\"attributes\":{\"text\":\"Hover highight edge and attached nodes (Random Layout)\"},\"id\":\"1637\",\"type\":\"Title\"},{\"attributes\":{\"data_source\":{\"id\":\"1650\",\"type\":\"ColumnDataSource\"},\"glyph\":{\"id\":\"1658\",\"type\":\"Circle\"},\"hover_glyph\":{\"id\":\"1668\",\"type\":\"Circle\"},\"muted_glyph\":null,\"selection_glyph\":{\"id\":\"1663\",\"type\":\"Circle\"},\"view\":{\"id\":\"1652\",\"type\":\"CDSView\"}},\"id\":\"1651\",\"type\":\"GlyphRenderer\"},{\"attributes\":{\"callback\":null,\"end\":1.1,\"start\":-1.1},\"id\":\"1056\",\"type\":\"Range1d\"},{\"attributes\":{\"source\":{\"id\":\"1650\",\"type\":\"ColumnDataSource\"}},\"id\":\"1652\",\"type\":\"CDSView\"},{\"attributes\":{\"callback\":null,\"data\":{\"end\":[1,2,3,4,5,6,7,8,10,11,12,13,17,19,21,31,2,3,7,13,17,19,21,30,3,7,8,9,13,27,28,32,7,12,13,6,10,6,10,16,16,30,32,33,33,33,32,33,32,33,32,33,33,32,33,32,33,25,27,29,32,33,25,27,31,31,29,33,33,31,33,32,33,32,33,32,33,33],\"start\":[0,0,0,0,0,0,0,0,0,0,0,0,0,0,0,0,1,1,1,1,1,1,1,1,2,2,2,2,2,2,2,2,3,3,3,4,4,5,5,5,6,8,8,8,9,13,14,14,15,15,18,18,19,20,20,22,22,23,23,23,23,23,24,24,24,25,26,26,27,28,28,29,29,30,30,31,31,32]},\"selected\":{\"id\":\"1793\",\"type\":\"Selection\"},\"selection_policy\":{\"id\":\"1792\",\"type\":\"UnionRenderers\"}},\"id\":\"1654\",\"type\":\"ColumnDataSource\"},{\"attributes\":{\"graph_layout\":{\"0\":[0.28826677799224854,0.28169071674346924],\"1\":[0.7444389462471008,0.9545751810073853],\"10\":[0.8092014789581299,0.627705454826355],\"11\":[0.7295048236846924,0.3730294108390808],\"12\":[0.34888115525245667,0.7063804864883423],\"13\":[0.2027186155319214,0.4331686794757843],\"14\":[0.8270243406295776,0.22663579881191254],\"15\":[0.545190155506134,0.9509549140930176],\"16\":[0.676408052444458,0.7701366543769836],\"17\":[0.7072516679763794,0.9866493940353394],\"18\":[0.3910713791847229,0.5616084933280945],\"19\":[0.7357851266860962,0.05717107653617859],\"2\":[0.20703262090682983,0.18704573810100555],\"20\":[0.4533346891403198,0.11757209897041321],\"21\":[0.10358159244060516,0.12785016000270844],\"22\":[0.39960700273513794,0.3490526080131531],\"23\":[0.016599945724010468,0.47539329528808594],\"24\":[0.1941259503364563,0.2911691963672638],\"25\":[0.8573187589645386,0.13723592460155487],\"26\":[0.7580912709236145,0.35231709480285645],\"27\":[0.550371527671814,0.5646394491195679],\"28\":[0.8946039080619812,0.645469605922699],\"29\":[0.07732538878917694,0.9132040143013],\"3\":[0.018734026700258255,0.14692983031272888],\"30\":[0.9221432209014893,0.5442144870758057],\"31\":[0.687315046787262,0.28467023372650146],\"32\":[0.420764297246933,0.49061986804008484],\"33\":[0.34404054284095764,0.0492561012506485],\"4\":[0.2227700799703598,0.7119870185852051],\"5\":[0.7028537392616272,0.9821009635925293],\"6\":[0.07569120824337006,0.8050118684768677],\"7\":[0.10099075734615326,0.8567323088645935],\"8\":[0.260191410779953,0.6567569375038147],\"9\":[0.5019389986991882,0.9996402859687805]}},\"id\":\"1604\",\"type\":\"StaticLayoutProvider\"},{\"attributes\":{\"data_source\":{\"id\":\"1654\",\"type\":\"ColumnDataSource\"},\"glyph\":{\"id\":\"1673\",\"type\":\"MultiLine\"},\"hover_glyph\":{\"id\":\"1683\",\"type\":\"MultiLine\"},\"muted_glyph\":null,\"selection_glyph\":{\"id\":\"1678\",\"type\":\"MultiLine\"},\"view\":{\"id\":\"1656\",\"type\":\"CDSView\"}},\"id\":\"1655\",\"type\":\"GlyphRenderer\"},{\"attributes\":{\"line_color\":{\"value\":\"#abdda4\"},\"line_width\":{\"value\":5}},\"id\":\"1045\",\"type\":\"MultiLine\"},{\"attributes\":{\"fill_color\":{\"value\":\"#2b83ba\"},\"size\":{\"units\":\"screen\",\"value\":15}},\"id\":\"1073\",\"type\":\"Circle\"},{\"attributes\":{},\"id\":\"2259\",\"type\":\"LinearScale\"},{\"attributes\":{\"active_drag\":\"auto\",\"active_inspect\":\"auto\",\"active_multi\":null,\"active_scroll\":\"auto\",\"active_tap\":\"auto\",\"tools\":[{\"id\":\"1638\",\"type\":\"HoverTool\"}]},\"id\":\"1639\",\"type\":\"Toolbar\"},{\"attributes\":{\"source\":{\"id\":\"1654\",\"type\":\"ColumnDataSource\"}},\"id\":\"1656\",\"type\":\"CDSView\"},{\"attributes\":{},\"id\":\"1754\",\"type\":\"LinearScale\"},{\"attributes\":{\"active_drag\":\"auto\",\"active_inspect\":\"auto\",\"active_multi\":null,\"active_scroll\":\"auto\",\"active_tap\":\"auto\",\"tools\":[{\"id\":\"1053\",\"type\":\"HoverTool\"}]},\"id\":\"1054\",\"type\":\"Toolbar\"},{\"attributes\":{\"text\":\"Highlight selected edges and adjacent nodes (FR Layout)\"},\"id\":\"1690\",\"type\":\"Title\"},{\"attributes\":{\"callback\":null,\"tooltips\":null},\"id\":\"1053\",\"type\":\"HoverTool\"},{\"attributes\":{\"callback\":null,\"end\":1.1,\"start\":-1.1},\"id\":\"1641\",\"type\":\"Range1d\"},{\"attributes\":{},\"id\":\"2308\",\"type\":\"Selection\"},{\"attributes\":{},\"id\":\"1640\",\"type\":\"EdgesAndLinkedNodes\"},{\"attributes\":{\"fill_color\":{\"value\":\"#abdda4\"},\"size\":{\"units\":\"screen\",\"value\":15}},\"id\":\"1668\",\"type\":\"Circle\"},{\"attributes\":{\"fill_color\":{\"value\":\"#2b83ba\"},\"size\":{\"units\":\"screen\",\"value\":15}},\"id\":\"1658\",\"type\":\"Circle\"},{\"attributes\":{\"plot_height\":400,\"plot_width\":400,\"renderers\":[{\"id\":\"1595\",\"type\":\"GraphRenderer\"}],\"title\":{\"id\":\"1637\",\"type\":\"Title\"},\"toolbar\":{\"id\":\"1639\",\"type\":\"Toolbar\"},\"x_range\":{\"id\":\"1588\",\"type\":\"Range1d\"},\"x_scale\":{\"id\":\"2258\",\"type\":\"LinearScale\"},\"y_range\":{\"id\":\"1589\",\"type\":\"Range1d\"},\"y_scale\":{\"id\":\"2259\",\"type\":\"LinearScale\"}},\"id\":\"1590\",\"type\":\"Plot\"},{\"attributes\":{\"fill_color\":{\"value\":\"#2b83ba\"},\"size\":{\"units\":\"screen\",\"value\":15}},\"id\":\"1605\",\"type\":\"Circle\"},{\"attributes\":{\"line_color\":{\"value\":\"#fdae61\"},\"line_width\":{\"value\":5}},\"id\":\"1093\",\"type\":\"MultiLine\"},{\"attributes\":{},\"id\":\"1223\",\"type\":\"UnionRenderers\"},{\"attributes\":{\"plot_height\":400,\"plot_width\":400,\"renderers\":[{\"id\":\"1648\",\"type\":\"GraphRenderer\"}],\"title\":{\"id\":\"1690\",\"type\":\"Title\"},\"toolbar\":{\"id\":\"1692\",\"type\":\"Toolbar\"},\"x_range\":{\"id\":\"1641\",\"type\":\"Range1d\"},\"x_scale\":{\"id\":\"1753\",\"type\":\"LinearScale\"},\"y_range\":{\"id\":\"1642\",\"type\":\"Range1d\"},\"y_scale\":{\"id\":\"1754\",\"type\":\"LinearScale\"}},\"id\":\"1643\",\"type\":\"Plot\"},{\"attributes\":{\"line_alpha\":{\"value\":0.8},\"line_color\":{\"value\":\"#CCCCCC\"},\"line_width\":{\"value\":5}},\"id\":\"1673\",\"type\":\"MultiLine\"},{\"attributes\":{\"callback\":null,\"end\":1.1,\"start\":-1.1},\"id\":\"1642\",\"type\":\"Range1d\"},{\"attributes\":{\"callback\":null,\"data\":{\"club\":[\"Mr. Hi\",\"Mr. Hi\",\"Mr. Hi\",\"Mr. Hi\",\"Mr. Hi\",\"Mr. Hi\",\"Mr. Hi\",\"Mr. Hi\",\"Mr. Hi\",\"Officer\",\"Mr. Hi\",\"Mr. Hi\",\"Mr. Hi\",\"Mr. Hi\",\"Officer\",\"Officer\",\"Mr. Hi\",\"Mr. Hi\",\"Officer\",\"Mr. Hi\",\"Officer\",\"Mr. Hi\",\"Officer\",\"Officer\",\"Officer\",\"Officer\",\"Officer\",\"Officer\",\"Officer\",\"Officer\",\"Officer\",\"Officer\",\"Officer\",\"Officer\"],\"index\":[0,1,2,3,4,5,6,7,8,9,10,11,12,13,14,15,16,17,18,19,20,21,22,23,24,25,26,27,28,29,30,31,32,33]},\"selected\":{\"id\":\"1226\",\"type\":\"Selection\"},\"selection_policy\":{\"id\":\"1225\",\"type\":\"UnionRenderers\"}},\"id\":\"1065\",\"type\":\"ColumnDataSource\"},{\"attributes\":{\"edge_renderer\":{\"id\":\"1070\",\"type\":\"GlyphRenderer\"},\"inspection_policy\":null,\"layout_provider\":{\"id\":\"1072\",\"type\":\"StaticLayoutProvider\"},\"node_renderer\":{\"id\":\"1066\",\"type\":\"GlyphRenderer\"},\"selection_policy\":{\"id\":\"1055\",\"type\":\"NodesAndLinkedEdges\"}},\"id\":\"1063\",\"type\":\"GraphRenderer\"},{\"attributes\":{\"callback\":null,\"end\":1.1,\"start\":-1.1},\"id\":\"1589\",\"type\":\"Range1d\"},{\"attributes\":{\"callback\":null,\"end\":1.1,\"start\":-1.1},\"id\":\"1588\",\"type\":\"Range1d\"},{\"attributes\":{\"fill_color\":{\"value\":\"#fdae61\"},\"size\":{\"units\":\"screen\",\"value\":15}},\"id\":\"1078\",\"type\":\"Circle\"},{\"attributes\":{\"line_color\":{\"value\":\"#fdae61\"},\"line_width\":{\"value\":5}},\"id\":\"1678\",\"type\":\"MultiLine\"},{\"attributes\":{\"graph_layout\":{\"0\":[0.7119026403112158,0.14379077864034565],\"1\":[0.399980753800273,0.34733315766755846],\"10\":[1.2212866761451222,-0.22246892402899504],\"11\":[1.424120933090914,0.5341435703477014],\"12\":[0.79356040973006,0.8940552324120098],\"13\":[0.07209216895894535,0.38246289498294594],\"14\":[-1.3433745047757912,-0.1246242940574275],\"15\":[-1.2467521854844597,0.1772937020492109],\"16\":[2.0,-0.4661503358614722],\"17\":[0.927503130874817,0.6360340545471906],\"18\":[-1.30282193932524,-0.41921167594460207],\"19\":[0.15525467990780192,-0.02757363935146583],\"2\":[-0.049536898210056,0.2093776586873448],\"20\":[-1.1166358195998314,0.3796114809429013],\"21\":[0.9958607260502742,0.3784789923882727],\"22\":[-1.1037571972057099,-0.5746037824276043],\"23\":[-0.805502212836684,-0.593549755847832],\"24\":[-0.20358716375432845,-0.9804066470668167],\"25\":[-0.4876934274803042,-1.0139882638151498],\"26\":[-1.5421883312646856,0.002808131368047185],\"27\":[-0.4130408426892705,-0.47454205333662874],\"28\":[-0.4518150797589491,0.03877034997834095],\"29\":[-1.1671911631462006,-0.2647723301433575],\"3\":[0.38165721723578905,0.6549545022996982],\"30\":[-0.34205858755705365,0.27156625916002763],\"31\":[-0.17870865491496277,-0.391600052656201],\"32\":[-0.798822874302807,-0.13155530956994752],\"33\":[-0.7236362733237404,-0.03974190338910127],\"4\":[1.3873534073035094,0.058114224411544464],\"5\":[1.4669855693995462,-0.3429071680675572],\"6\":[1.5811076730586793,-0.1340045205455239],\"7\":[0.5043321868503747,0.5295759473810009],\"8\":[-0.14734328023021495,-0.006644145399914364],\"9\":[-0.5985317368570333,0.5699738642454576]}},\"id\":\"1657\",\"type\":\"StaticLayoutProvider\"},{\"attributes\":{\"data_source\":{\"id\":\"1065\",\"type\":\"ColumnDataSource\"},\"glyph\":{\"id\":\"1073\",\"type\":\"Circle\"},\"hover_glyph\":{\"id\":\"1083\",\"type\":\"Circle\"},\"muted_glyph\":null,\"selection_glyph\":{\"id\":\"1078\",\"type\":\"Circle\"},\"view\":{\"id\":\"1067\",\"type\":\"CDSView\"}},\"id\":\"1066\",\"type\":\"GlyphRenderer\"},{\"attributes\":{\"source\":{\"id\":\"1065\",\"type\":\"ColumnDataSource\"}},\"id\":\"1067\",\"type\":\"CDSView\"},{\"attributes\":{\"active_drag\":\"auto\",\"active_inspect\":\"auto\",\"active_multi\":null,\"active_scroll\":\"auto\",\"active_tap\":\"auto\",\"tools\":[{\"id\":\"1691\",\"type\":\"TapTool\"}]},\"id\":\"1692\",\"type\":\"Toolbar\"},{\"attributes\":{},\"id\":\"2258\",\"type\":\"LinearScale\"},{\"attributes\":{\"line_color\":{\"value\":\"#abdda4\"},\"line_width\":{\"value\":5}},\"id\":\"1683\",\"type\":\"MultiLine\"},{\"attributes\":{\"callback\":null,\"data\":{\"end\":[1,2,3,4,5,6,7,8,10,11,12,13,17,19,21,31,2,3,7,13,17,19,21,30,3,7,8,9,13,27,28,32,7,12,13,6,10,6,10,16,16,30,32,33,33,33,32,33,32,33,32,33,33,32,33,32,33,25,27,29,32,33,25,27,31,31,29,33,33,31,33,32,33,32,33,32,33,33],\"start\":[0,0,0,0,0,0,0,0,0,0,0,0,0,0,0,0,1,1,1,1,1,1,1,1,2,2,2,2,2,2,2,2,3,3,3,4,4,5,5,5,6,8,8,8,9,13,14,14,15,15,18,18,19,20,20,22,22,23,23,23,23,23,24,24,24,25,26,26,27,28,28,29,29,30,30,31,31,32]},\"selected\":{\"id\":\"1228\",\"type\":\"Selection\"},\"selection_policy\":{\"id\":\"1227\",\"type\":\"UnionRenderers\"}},\"id\":\"1069\",\"type\":\"ColumnDataSource\"}],\"root_ids\":[\"2151\"]},\"title\":\"Bokeh Application\",\"version\":\"1.4.0\"}};\n",
       "  var render_items = [{\"docid\":\"46c8c76c-63e8-4295-9d80-5455634dc174\",\"roots\":{\"2151\":\"c77e1c8f-9f44-4a43-a4f2-84e87960d913\"}}];\n",
       "  root.Bokeh.embed.embed_items_notebook(docs_json, render_items);\n",
       "\n",
       "  }\n",
       "  if (root.Bokeh !== undefined) {\n",
       "    embed_document(root);\n",
       "  } else {\n",
       "    var attempts = 0;\n",
       "    var timer = setInterval(function(root) {\n",
       "      if (root.Bokeh !== undefined) {\n",
       "        clearInterval(timer);\n",
       "        embed_document(root);\n",
       "      } else {\n",
       "        attempts++;\n",
       "        if (attempts > 100) {\n",
       "          clearInterval(timer);\n",
       "          console.log(\"Bokeh: ERROR: Unable to run BokehJS code because BokehJS library is missing\");\n",
       "        }\n",
       "      }\n",
       "    }, 10, root)\n",
       "  }\n",
       "})(window);"
      ],
      "application/vnd.bokehjs_exec.v0+json": ""
     },
     "metadata": {
      "application/vnd.bokehjs_exec.v0+json": {
       "id": "2151"
      }
     },
     "output_type": "display_data"
    }
   ],
   "source": [
    "layout = Column(Row(plot_1, plot_2), Row(plot_3, plot_4))\n",
    "show(layout)"
   ]
  },
  {
   "cell_type": "code",
   "execution_count": null,
   "metadata": {
    "collapsed": true,
    "jupyter": {
     "outputs_hidden": true
    }
   },
   "outputs": [],
   "source": []
  }
 ],
 "metadata": {
  "kernelspec": {
   "display_name": "Python 3",
   "language": "python",
   "name": "python3"
  },
  "language_info": {
   "codemirror_mode": {
    "name": "ipython",
    "version": 3
   },
   "file_extension": ".py",
   "mimetype": "text/x-python",
   "name": "python",
   "nbconvert_exporter": "python",
   "pygments_lexer": "ipython3",
   "version": "3.7.6"
  }
 },
 "nbformat": 4,
 "nbformat_minor": 4
}
