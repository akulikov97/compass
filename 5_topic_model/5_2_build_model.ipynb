{
 "cells": [
  {
   "cell_type": "markdown",
   "metadata": {},
   "source": [
    "# Build Topic Model\n",
    "The present notebook will use the data collected in section 5.1 to compute and explore a topic model. In essence, a topic model consists of two sets of probability distributions. First, the probability that a *word* belongs to a certain topic (Topic/Term probability). Second, the probability of a *topic* to appear in a document (Document/Topic probability). These probabilities are never 0, that is, each word has some probability (even if very small) to be part of each topic and each topic has some probability (even if very small) to appear in a document.\n",
    "\n",
    "A standard way to inspect a topic model is to look at the top-ten words of a topic (the ten words with the highest probability in each particular topic). Similarly, we can pull the ten most important documents for each topic (the documents in which this topic has the highest probability).\n",
    "\n",
    "For a more thorough analysis we may create full probability tables: a topic/term probability table and a document/topic probability table. These tables give a fuller account of the model and will be used for the visualizations (5.3). "
   ]
  },
  {
   "cell_type": "code",
   "execution_count": 1,
   "metadata": {},
   "outputs": [],
   "source": [
    "import numpy as np\n",
    "import pandas as pd\n",
    "from gensim import corpora, models, utils\n",
    "import gensim\n",
    "import pickle"
   ]
  },
  {
   "cell_type": "markdown",
   "metadata": {},
   "source": [
    "# Read in the texts\n",
    "[For test purposes one may select only the first 100 documents. Remove the hashmark (#) from the first line of the following cell if you wish to do that]"
   ]
  },
  {
   "cell_type": "code",
   "execution_count": 2,
   "metadata": {
    "collapsed": false,
    "jupyter": {
     "outputs_hidden": false
    }
   },
   "outputs": [],
   "source": [
    "pickled = 'output/data_for_topic_model.p'\n",
    "df = pd.read_pickle(pickled)\n",
    "texts = df['lemma']"
   ]
  },
  {
   "cell_type": "markdown",
   "metadata": {},
   "source": [
    "# POS-filter\n",
    "The variable `posfilter` holds the last two characters of lemmatized words with allowed Part of Speech tags. If, for instance, you wish to select Verbs, Adjectives, and Nouns (in Akkadian), posfilter will be `[']n', 'aj', ']v']`. Note that one-character pos-tags need the right bracket!\n",
    "The POS labels are:\n",
    "* \"n\", #Nouns\n",
    "* \"v\", #Verbs\n",
    "* \"aj\", #Adjectives\n",
    "* \"av\", #Adverbs\n",
    "* \"an\", #Agricultural Name\n",
    "* \"cn\", #Celestial Name\n",
    "* \"dn\", #Divine Name\n",
    "* \"en\", #Ethnicity Name\n",
    "* \"fn\", #Field Name\n",
    "* \"gn\", #Geographical Name (lands, etc.)\n",
    "* \"ln\", #Lineage Name (ancestral clan)\n",
    "* \"mn\", #Month Name\n",
    "* \"on\", #Object Name\n",
    "* \"pn\", #Personal Name\n",
    "* \"qn\", #Quarter (of a city) Name\n",
    "* \"rn\", #Royal Name\n",
    "* \"sn\", #Settlement Name\n",
    "* \"tn\", #Temple Name\n",
    "* \"wn\", #Watercourse Name\n",
    "* \"yn\", #Year Name\n",
    "* \"nu\", #Numeral\n"
   ]
  },
  {
   "cell_type": "code",
   "execution_count": 3,
   "metadata": {
    "collapsed": false,
    "jupyter": {
     "outputs_hidden": false
    }
   },
   "outputs": [],
   "source": [
    "posfilter = [']n', ']v', 'aj']\n",
    "#include nouns, verbs, and adjectives, not numerals, prepositions or proper nouns\n",
    "texts = [[word for word in text if word[-2:] in posfilter] for text in texts]"
   ]
  },
  {
   "cell_type": "markdown",
   "metadata": {},
   "source": [
    "# Stop words\n",
    "\n",
    "Stop words are very frequent words that are not able to distinguish between topics. This includes, for instance, prepositions - but those can also be filtered out by the POS filter. The following nouns and verbs are too frequent to contribute to the analysis. Note that this list of stop words was assembled for the SAAo corpus - another corpus may require a different list, or none at all. In a cell further below the dictionary is built - leaving out words that appear in more than 80 percent of the documents (or whatever the 'no_above' parameter is set too) making the use of a stop word list mostyly unnecessary. The only advantage of an explicit list of stop words is that it makes it possible to filter out documents or text fragments that remain with too few words to be meaningful.\n",
    "\n",
    "The 'stoplist' cell can be omitted entirely or adapted to your purposes."
   ]
  },
  {
   "cell_type": "code",
   "execution_count": 4,
   "metadata": {
    "collapsed": false,
    "jupyter": {
     "outputs_hidden": false
    }
   },
   "outputs": [],
   "source": [
    "stoplist = [\n",
    "'šarru[king]n',\n",
    "'bēlu[lord]n',\n",
    "'libbu[interior]n',\n",
    "'muhhu[skull]n',\n",
    "'ardu[slave]n',\n",
    "'šulmu[completeness]n',\n",
    "'šapāru[send]v',\n",
    "'alāku[go]v',\n",
    "'qabû[say]v',\n",
    "'pānu[front]n',\n",
    "'māru[son]n',\n",
    "'bītu[house]n',\n",
    "'epēšu[do]v',\n",
    "'wabālu[bring]v',\n",
    "'šakānu[put]v',\n",
    "'amāru[see]v',\n",
    "'bašû[exist]v',\n",
    "'našû[lift]v',\n",
    "'izuzzu[stand]v',\n",
    "'ūmu[day]n',\n",
    "'ṭābu[good]aj',\n",
    "'mādu[many]aj',\n",
    "'nadānu[give]v',\n",
    "'tadānu[give]v',\n",
    "'ṣehru[small]aj',\n",
    "'mimmû[all]n',\n",
    "'gimru[totality]n',\n",
    "'gabbu[totality]n',\n",
    "'šâlu[ask]v',\n",
    "'šemû[hear]v',\n",
    "'ūmu[day]n',\n",
    "'awātu[word]n',\n",
    "'erēbu[enter]v'\n",
    "]\n",
    "texts = [[word for word in text if word not in stoplist] for text in texts]\n"
   ]
  },
  {
   "cell_type": "markdown",
   "metadata": {},
   "source": [
    "# Filter out texts that have too few words left\n",
    "Identify texts that have at least 10 lemmas left and use that as a mask to filter  the list `texts` as well as the dataframe `df`. "
   ]
  },
  {
   "cell_type": "code",
   "execution_count": 18,
   "metadata": {
    "collapsed": false,
    "jupyter": {
     "outputs_hidden": false
    }
   },
   "outputs": [],
   "source": [
    "bo = [len(text)>9 for text in texts]\n",
    "df = df[bo]\n",
    "texts = [texts[i] for i in range(0, len(texts)) if bo[i]]"
   ]
  },
  {
   "cell_type": "markdown",
   "metadata": {},
   "source": [
    "How many documents did we start with, and how many do we have left?"
   ]
  },
  {
   "cell_type": "code",
   "execution_count": 19,
   "metadata": {
    "collapsed": false,
    "jupyter": {
     "outputs_hidden": false
    }
   },
   "outputs": [
    {
     "data": {
      "text/plain": [
       "(3006, 3006)"
      ]
     },
     "execution_count": 19,
     "metadata": {},
     "output_type": "execute_result"
    }
   ],
   "source": [
    "len(bo), len(df)"
   ]
  },
  {
   "cell_type": "markdown",
   "metadata": {},
   "source": [
    "# Dictionary\n",
    "create the gensim Dictionary and filter for words that are too common or too rare (no_above may be set too low here)."
   ]
  },
  {
   "cell_type": "code",
   "execution_count": 20,
   "metadata": {
    "collapsed": false,
    "jupyter": {
     "outputs_hidden": false
    }
   },
   "outputs": [],
   "source": [
    "dictionary = corpora.Dictionary(texts)\n",
    "dictionary.filter_extremes(no_below=1, no_above=0.8)\n",
    "## CHECK - is this done correctly?"
   ]
  },
  {
   "cell_type": "code",
   "execution_count": 21,
   "metadata": {
    "collapsed": false,
    "jupyter": {
     "outputs_hidden": false
    }
   },
   "outputs": [],
   "source": [
    "corpus = [dictionary.doc2bow(doc) for doc in texts]"
   ]
  },
  {
   "cell_type": "markdown",
   "metadata": {},
   "source": [
    "# Compute the Model\n",
    "\n",
    "Set the seed, indicate the number of topics (default set to 10) and run the model.\n",
    "\n",
    "The visualization (section 5.3) will fail if the number of topics is higher than 25. "
   ]
  },
  {
   "cell_type": "code",
   "execution_count": 9,
   "metadata": {},
   "outputs": [
    {
     "name": "stdin",
     "output_type": "stream",
     "text": [
      "Number of topics:  10\n"
     ]
    }
   ],
   "source": [
    "ntopics = int(input(\"Number of topics: \") or 10)\n",
    "if ntopics > 25:\n",
    "    ntopics = 25"
   ]
  },
  {
   "cell_type": "code",
   "execution_count": 10,
   "metadata": {
    "collapsed": false,
    "jupyter": {
     "outputs_hidden": false
    }
   },
   "outputs": [],
   "source": [
    "seed = 15\n",
    "np.random.seed(seed)\n",
    "# Creating the object for LDA model using gensim library\n",
    "Lda = gensim.models.ldamodel.LdaModel\n",
    "# Running and Training LDA model on the document term matrix.\n",
    "ldamodel = Lda(corpus, num_topics=ntopics, id2word = dictionary, passes=50)"
   ]
  },
  {
   "cell_type": "markdown",
   "metadata": {},
   "source": [
    "List the top 10 words and their probabilities in all topics. Note: the topic numbers here are not the ones used in the visualizations in 5.3! (The topics are the same, but not their numbers)."
   ]
  },
  {
   "cell_type": "code",
   "execution_count": 13,
   "metadata": {
    "collapsed": false,
    "jupyter": {
     "outputs_hidden": false
    }
   },
   "outputs": [
    {
     "data": {
      "text/plain": [
       "[(0,\n",
       "  [('qû[unit]n', 0.039634343),\n",
       "   ('ilu[god]n', 0.02959446),\n",
       "   ('šikaru[beer]n', 0.024415387),\n",
       "   ('karānu[vine]n', 0.022837134),\n",
       "   ('šamnu[oil]n', 0.020545267),\n",
       "   ('kusāpu[bread]n', 0.017754514),\n",
       "   ('zamāru[sing]v', 0.016015612),\n",
       "   ('dišpu[honey]n', 0.014499569),\n",
       "   ('nīqu[offering]n', 0.01421817),\n",
       "   ('naqû[pour-(a-libation)]v', 0.014005929)]),\n",
       " (1,\n",
       "  [('nišu[people]n', 0.06957513),\n",
       "   ('imēru[unit]n', 0.06602787),\n",
       "   ('eqlu[field]n', 0.057719853),\n",
       "   ('immeru[sheep]n', 0.04232107),\n",
       "   ('ikkaru[farmer]n', 0.041318834),\n",
       "   ('alpu[ox]n', 0.03420751),\n",
       "   ('kirû[garden]n', 0.03134715),\n",
       "   ('sinništu[woman]n', 0.02788458),\n",
       "   ('tarbaṣu[courtyard]n', 0.025301296),\n",
       "   ('lawû[surround]v', 0.024567384)]),\n",
       " (2,\n",
       "  [('rabû[big-one]n', 0.072569),\n",
       "   ('pīhātu[responsibility]n', 0.039937504),\n",
       "   ('ša-rēši[eunuch]n', 0.024973528),\n",
       "   ('ša-qurbūti[close-follower]n', 0.024012562),\n",
       "   ('ṣābu[people]n', 0.02039524),\n",
       "   ('ēkallu[palace]n', 0.019527601),\n",
       "   ('šaknu[appointee]n', 0.018716713),\n",
       "   ('kiṣru[knot]n', 0.017702574),\n",
       "   ('sāmu[red]aj', 0.016577499),\n",
       "   ('erû[copper]n', 0.015379081)]),\n",
       " (3,\n",
       "  [('rabû[big]aj', 0.06285335),\n",
       "   ('ilūtu[divinity]n', 0.03957602),\n",
       "   ('šalmu[intact]aj', 0.02897752),\n",
       "   ('immeru[sheep]n', 0.0269972),\n",
       "   ('luʾʾû[sullied]aj', 0.02615884),\n",
       "   ('pû[mouth]n', 0.020512162),\n",
       "   ('bīru[divination]n', 0.018859278),\n",
       "   ('qātu[hand]n', 0.016692936),\n",
       "   ('kīnu[permanent]aj', 0.014568683),\n",
       "   ('apālu[pay]v', 0.014333504)]),\n",
       " (4,\n",
       "  [('mātu[land]n', 0.075853825),\n",
       "   ('ilu[god]n', 0.04970808),\n",
       "   ('rabû[big]aj', 0.03146585),\n",
       "   ('pû[mouth]n', 0.02448076),\n",
       "   ('kīnu[permanent]aj', 0.01919215),\n",
       "   ('damqu[good]aj', 0.017011443),\n",
       "   ('ridûtu[appropriation]n', 0.016817296),\n",
       "   ('qaqqaru[ground]n', 0.013882009),\n",
       "   ('tāmartu[view(ing)]n', 0.013589835),\n",
       "   ('qarnu[horn]n', 0.013363848)]),\n",
       " (5,\n",
       "  [('manû[unit]n', 0.10020748),\n",
       "   ('dabābu[speak]v', 0.066831104),\n",
       "   ('dīnu[legal-decision]n', 0.06499847),\n",
       "   ('ṣarpu[silver]n', 0.05806933),\n",
       "   ('kaspu[silver]n', 0.048194498),\n",
       "   ('târu[turn]v', 0.045686338),\n",
       "   ('leqû[take]v', 0.041241325),\n",
       "   ('hurāṣu[gold]n', 0.036770284),\n",
       "   ('tadnu[given]aj', 0.026006833),\n",
       "   ('laššu[(there)-is-not]v', 0.025136227)]),\n",
       " (6,\n",
       "  [('šību[witness]n', 0.3387776),\n",
       "   ('eqlu[field]n', 0.042801615),\n",
       "   ('kunukku[seal]n', 0.033540647),\n",
       "   ('līmu[eponym-(of-year)]n', 0.032820813),\n",
       "   ('rabû[big-one]n', 0.030491369),\n",
       "   ('ṭupšarru[scribe]n', 0.02640953),\n",
       "   ('ṣarpu[silver]n', 0.02530768),\n",
       "   ('imēru[unit]n', 0.019081272),\n",
       "   ('appatu[bridle]n', 0.017523084),\n",
       "   ('mukillu[holder]n', 0.017498845)]),\n",
       " (7,\n",
       "  [('mātu[land]n', 0.05590758),\n",
       "   ('nakru[strange]aj', 0.02305693),\n",
       "   ('antalû[eclipse]n', 0.021988716),\n",
       "   ('arhu[month]n', 0.016103955),\n",
       "   ('šamû[sky]n', 0.014555388),\n",
       "   ('kakkabu[star]n', 0.013757924),\n",
       "   ('šattu[year]n', 0.013737102),\n",
       "   ('lumnu[evil]n', 0.013388256),\n",
       "   ('nadû[throw-(down)]v', 0.012341534),\n",
       "   ('ebūru[harvest]n', 0.012279437)]),\n",
       " (8,\n",
       "  [('sisû[horse]n', 0.1263002),\n",
       "   ('šangû[priest]n', 0.030795228),\n",
       "   ('abnu[stone]n', 0.027708482),\n",
       "   ('eršu[bed]n', 0.018503167),\n",
       "   ('kūdanu[mule]n', 0.01774307),\n",
       "   ('atānu[she-ass]n', 0.017600203),\n",
       "   ('našû[lifted]aj', 0.016233511),\n",
       "   ('iškāru[work-assignment]n', 0.013676937),\n",
       "   ('sallu[tray]n', 0.012744728),\n",
       "   ('akītu[(a-cultic-festival)]n', 0.011498664)]),\n",
       " (9,\n",
       "  [('ilu[god]n', 0.021005254),\n",
       "   ('ālu[city]n', 0.015470622),\n",
       "   ('ṣabātu[seize]v', 0.015385229),\n",
       "   ('qātu[hand]n', 0.015371295),\n",
       "   ('mātu[land]n', 0.015135435),\n",
       "   ('karābu[pray]v', 0.013725479),\n",
       "   ('ṭēmu[(fore)thought]n', 0.012764619),\n",
       "   ('ṣābu[people]n', 0.012683461),\n",
       "   ('wadû[know]v', 0.012183323),\n",
       "   ('ēkallu[palace]n', 0.009725392)])]"
      ]
     },
     "execution_count": 13,
     "metadata": {},
     "output_type": "execute_result"
    }
   ],
   "source": [
    "ldamodel.show_topics(ntopics, formatted = False)"
   ]
  },
  {
   "cell_type": "markdown",
   "metadata": {},
   "source": [
    "# Document/Topic Probability\n",
    "The function `get_document_topics()` will list the probability of the topics in a single document. In order to get all the topics set the argument `minimum_probability` to zero. "
   ]
  },
  {
   "cell_type": "code",
   "execution_count": 14,
   "metadata": {
    "collapsed": false,
    "jupyter": {
     "outputs_hidden": false
    }
   },
   "outputs": [
    {
     "data": {
      "text/plain": [
       "[(0, 0.044934507),\n",
       " (1, 0.0038660131),\n",
       " (2, 0.046452247),\n",
       " (3, 0.0038658625),\n",
       " (4, 0.0038665223),\n",
       " (5, 0.0038663503),\n",
       " (6, 0.087799765),\n",
       " (7, 0.09957184),\n",
       " (8, 0.0038660103),\n",
       " (9, 0.7019109)]"
      ]
     },
     "execution_count": 14,
     "metadata": {},
     "output_type": "execute_result"
    }
   ],
   "source": [
    "ldamodel.get_document_topics(corpus[1], minimum_probability=0)"
   ]
  },
  {
   "cell_type": "markdown",
   "metadata": {},
   "source": [
    "# Create Document/Topic Probability Table\n",
    "A Document/Topiuc probability table is a table (DataFrame), where each row represents a document and each column a topuic. Each cell has the probability of a particular topic in a particular document. The sum of each row is 1 (probability distribution).\n",
    "\n",
    "In order to create a full Document/Topic probability table we iterate over the entire corpus with the `get_document_topics()` function. This creates a list of lists (`list_of_doctopics`) where each list represents the probability of each topic in a document. The probability is represented in a tuple (topic_number, probability). The `list_of_probabilities` preserves only the probabilities. This list of lists is transformed into a DataFrame, whith as index the index of the original DataFrame with the tokenized data.  "
   ]
  },
  {
   "cell_type": "code",
   "execution_count": 15,
   "metadata": {
    "collapsed": false,
    "jupyter": {
     "outputs_hidden": false
    }
   },
   "outputs": [
    {
     "data": {
      "text/html": [
       "<div>\n",
       "<style scoped>\n",
       "    .dataframe tbody tr th:only-of-type {\n",
       "        vertical-align: middle;\n",
       "    }\n",
       "\n",
       "    .dataframe tbody tr th {\n",
       "        vertical-align: top;\n",
       "    }\n",
       "\n",
       "    .dataframe thead th {\n",
       "        text-align: right;\n",
       "    }\n",
       "</style>\n",
       "<table border=\"1\" class=\"dataframe\">\n",
       "  <thead>\n",
       "    <tr style=\"text-align: right;\">\n",
       "      <th></th>\n",
       "      <th>0</th>\n",
       "      <th>1</th>\n",
       "      <th>2</th>\n",
       "      <th>3</th>\n",
       "      <th>4</th>\n",
       "      <th>5</th>\n",
       "      <th>6</th>\n",
       "      <th>7</th>\n",
       "      <th>8</th>\n",
       "      <th>9</th>\n",
       "    </tr>\n",
       "  </thead>\n",
       "  <tbody>\n",
       "    <tr>\n",
       "      <td>P224378</td>\n",
       "      <td>0.009094</td>\n",
       "      <td>0.009094</td>\n",
       "      <td>0.009096</td>\n",
       "      <td>0.009096</td>\n",
       "      <td>0.009097</td>\n",
       "      <td>0.102053</td>\n",
       "      <td>0.009094</td>\n",
       "      <td>0.009095</td>\n",
       "      <td>0.009094</td>\n",
       "      <td>0.825185</td>\n",
       "    </tr>\n",
       "    <tr>\n",
       "      <td>P224382</td>\n",
       "      <td>0.044935</td>\n",
       "      <td>0.003866</td>\n",
       "      <td>0.046453</td>\n",
       "      <td>0.003866</td>\n",
       "      <td>0.003867</td>\n",
       "      <td>0.003866</td>\n",
       "      <td>0.087804</td>\n",
       "      <td>0.099572</td>\n",
       "      <td>0.003866</td>\n",
       "      <td>0.701906</td>\n",
       "    </tr>\n",
       "    <tr>\n",
       "      <td>P224383</td>\n",
       "      <td>0.003334</td>\n",
       "      <td>0.003334</td>\n",
       "      <td>0.320284</td>\n",
       "      <td>0.003334</td>\n",
       "      <td>0.003334</td>\n",
       "      <td>0.003335</td>\n",
       "      <td>0.003334</td>\n",
       "      <td>0.003334</td>\n",
       "      <td>0.003335</td>\n",
       "      <td>0.653042</td>\n",
       "    </tr>\n",
       "    <tr>\n",
       "      <td>P224386</td>\n",
       "      <td>0.006667</td>\n",
       "      <td>0.006667</td>\n",
       "      <td>0.006668</td>\n",
       "      <td>0.006668</td>\n",
       "      <td>0.006669</td>\n",
       "      <td>0.006667</td>\n",
       "      <td>0.006667</td>\n",
       "      <td>0.006669</td>\n",
       "      <td>0.156555</td>\n",
       "      <td>0.790102</td>\n",
       "    </tr>\n",
       "    <tr>\n",
       "      <td>P224388</td>\n",
       "      <td>0.006669</td>\n",
       "      <td>0.006671</td>\n",
       "      <td>0.098229</td>\n",
       "      <td>0.006670</td>\n",
       "      <td>0.006670</td>\n",
       "      <td>0.006670</td>\n",
       "      <td>0.006670</td>\n",
       "      <td>0.006670</td>\n",
       "      <td>0.006670</td>\n",
       "      <td>0.848412</td>\n",
       "    </tr>\n",
       "  </tbody>\n",
       "</table>\n",
       "</div>"
      ],
      "text/plain": [
       "                0         1         2         3         4         5         6  \\\n",
       "P224378  0.009094  0.009094  0.009096  0.009096  0.009097  0.102053  0.009094   \n",
       "P224382  0.044935  0.003866  0.046453  0.003866  0.003867  0.003866  0.087804   \n",
       "P224383  0.003334  0.003334  0.320284  0.003334  0.003334  0.003335  0.003334   \n",
       "P224386  0.006667  0.006667  0.006668  0.006668  0.006669  0.006667  0.006667   \n",
       "P224388  0.006669  0.006671  0.098229  0.006670  0.006670  0.006670  0.006670   \n",
       "\n",
       "                7         8         9  \n",
       "P224378  0.009095  0.009094  0.825185  \n",
       "P224382  0.099572  0.003866  0.701906  \n",
       "P224383  0.003334  0.003335  0.653042  \n",
       "P224386  0.006669  0.156555  0.790102  \n",
       "P224388  0.006670  0.006670  0.848412  "
      ]
     },
     "execution_count": 15,
     "metadata": {},
     "output_type": "execute_result"
    }
   ],
   "source": [
    "list_of_doctopics = [ldamodel.get_document_topics(corpus[i], minimum_probability=0) for i in range(len(corpus))]\n",
    "list_of_probabilities = [[probability for label,probability in distribution] for distribution in list_of_doctopics]\n",
    "d_t_df = pd.DataFrame(list_of_probabilities)\n",
    "d_t_df = d_t_df.set_index(df.index)\n",
    "d_t_df.head()"
   ]
  },
  {
   "cell_type": "markdown",
   "metadata": {},
   "source": [
    "We can use the above table to find the ten highest scoring documents per topic with the pandas function 'nlargest'. First add the 'designation' as a separate ccolumn to the table."
   ]
  },
  {
   "cell_type": "code",
   "execution_count": 16,
   "metadata": {},
   "outputs": [
    {
     "data": {
      "text/html": [
       "<div>\n",
       "<style scoped>\n",
       "    .dataframe tbody tr th:only-of-type {\n",
       "        vertical-align: middle;\n",
       "    }\n",
       "\n",
       "    .dataframe tbody tr th {\n",
       "        vertical-align: top;\n",
       "    }\n",
       "\n",
       "    .dataframe thead th {\n",
       "        text-align: right;\n",
       "    }\n",
       "</style>\n",
       "<table border=\"1\" class=\"dataframe\">\n",
       "  <thead>\n",
       "    <tr style=\"text-align: right;\">\n",
       "      <th></th>\n",
       "      <th>designation</th>\n",
       "      <th>0</th>\n",
       "      <th>1</th>\n",
       "      <th>2</th>\n",
       "      <th>3</th>\n",
       "      <th>4</th>\n",
       "      <th>5</th>\n",
       "      <th>6</th>\n",
       "      <th>7</th>\n",
       "      <th>8</th>\n",
       "      <th>9</th>\n",
       "    </tr>\n",
       "  </thead>\n",
       "  <tbody>\n",
       "    <tr>\n",
       "      <td>P224378</td>\n",
       "      <td>Take Over the Kingship!</td>\n",
       "      <td>0.009094</td>\n",
       "      <td>0.009094</td>\n",
       "      <td>0.009096</td>\n",
       "      <td>0.009096</td>\n",
       "      <td>0.009097</td>\n",
       "      <td>0.102053</td>\n",
       "      <td>0.009094</td>\n",
       "      <td>0.009095</td>\n",
       "      <td>0.009094</td>\n",
       "      <td>0.825185</td>\n",
       "    </tr>\n",
       "    <tr>\n",
       "      <td>P224382</td>\n",
       "      <td>Family Affairs</td>\n",
       "      <td>0.044935</td>\n",
       "      <td>0.003866</td>\n",
       "      <td>0.046453</td>\n",
       "      <td>0.003866</td>\n",
       "      <td>0.003867</td>\n",
       "      <td>0.003866</td>\n",
       "      <td>0.087804</td>\n",
       "      <td>0.099572</td>\n",
       "      <td>0.003866</td>\n",
       "      <td>0.701906</td>\n",
       "    </tr>\n",
       "    <tr>\n",
       "      <td>P224383</td>\n",
       "      <td>Šubrian King Protecting Deserters</td>\n",
       "      <td>0.003334</td>\n",
       "      <td>0.003334</td>\n",
       "      <td>0.320284</td>\n",
       "      <td>0.003334</td>\n",
       "      <td>0.003334</td>\n",
       "      <td>0.003335</td>\n",
       "      <td>0.003334</td>\n",
       "      <td>0.003334</td>\n",
       "      <td>0.003335</td>\n",
       "      <td>0.653042</td>\n",
       "    </tr>\n",
       "    <tr>\n",
       "      <td>P224386</td>\n",
       "      <td>Specialists Reviving the Land</td>\n",
       "      <td>0.006667</td>\n",
       "      <td>0.006667</td>\n",
       "      <td>0.006668</td>\n",
       "      <td>0.006668</td>\n",
       "      <td>0.006669</td>\n",
       "      <td>0.006667</td>\n",
       "      <td>0.006667</td>\n",
       "      <td>0.006669</td>\n",
       "      <td>0.156555</td>\n",
       "      <td>0.790102</td>\n",
       "    </tr>\n",
       "    <tr>\n",
       "      <td>P224388</td>\n",
       "      <td>Elamite King and the Men of Mukin-zeri</td>\n",
       "      <td>0.006669</td>\n",
       "      <td>0.006671</td>\n",
       "      <td>0.098229</td>\n",
       "      <td>0.006670</td>\n",
       "      <td>0.006670</td>\n",
       "      <td>0.006670</td>\n",
       "      <td>0.006670</td>\n",
       "      <td>0.006670</td>\n",
       "      <td>0.006670</td>\n",
       "      <td>0.848412</td>\n",
       "    </tr>\n",
       "    <tr>\n",
       "      <td>...</td>\n",
       "      <td>...</td>\n",
       "      <td>...</td>\n",
       "      <td>...</td>\n",
       "      <td>...</td>\n",
       "      <td>...</td>\n",
       "      <td>...</td>\n",
       "      <td>...</td>\n",
       "      <td>...</td>\n",
       "      <td>...</td>\n",
       "      <td>...</td>\n",
       "      <td>...</td>\n",
       "    </tr>\n",
       "    <tr>\n",
       "      <td>X900011</td>\n",
       "      <td>Reclaiming Runaway Servants</td>\n",
       "      <td>0.002942</td>\n",
       "      <td>0.002943</td>\n",
       "      <td>0.002942</td>\n",
       "      <td>0.002942</td>\n",
       "      <td>0.002942</td>\n",
       "      <td>0.002942</td>\n",
       "      <td>0.245046</td>\n",
       "      <td>0.002942</td>\n",
       "      <td>0.373325</td>\n",
       "      <td>0.361034</td>\n",
       "    </tr>\n",
       "    <tr>\n",
       "      <td>X900012</td>\n",
       "      <td>Receiving Tribute Horses; Constructing Kar-Šar...</td>\n",
       "      <td>0.002084</td>\n",
       "      <td>0.002084</td>\n",
       "      <td>0.477666</td>\n",
       "      <td>0.002084</td>\n",
       "      <td>0.002084</td>\n",
       "      <td>0.002084</td>\n",
       "      <td>0.002084</td>\n",
       "      <td>0.002084</td>\n",
       "      <td>0.053267</td>\n",
       "      <td>0.454479</td>\n",
       "    </tr>\n",
       "    <tr>\n",
       "      <td>X900013</td>\n",
       "      <td>Midas of Phrygia Seeks Detente</td>\n",
       "      <td>0.001164</td>\n",
       "      <td>0.001163</td>\n",
       "      <td>0.001164</td>\n",
       "      <td>0.001163</td>\n",
       "      <td>0.001164</td>\n",
       "      <td>0.001164</td>\n",
       "      <td>0.001164</td>\n",
       "      <td>0.001163</td>\n",
       "      <td>0.014563</td>\n",
       "      <td>0.976129</td>\n",
       "    </tr>\n",
       "    <tr>\n",
       "      <td>X900014</td>\n",
       "      <td>Report on a Festival and on Bull Colossi</td>\n",
       "      <td>0.002273</td>\n",
       "      <td>0.002273</td>\n",
       "      <td>0.979539</td>\n",
       "      <td>0.002273</td>\n",
       "      <td>0.002273</td>\n",
       "      <td>0.002274</td>\n",
       "      <td>0.002273</td>\n",
       "      <td>0.002273</td>\n",
       "      <td>0.002274</td>\n",
       "      <td>0.002274</td>\n",
       "    </tr>\n",
       "    <tr>\n",
       "      <td>X900016</td>\n",
       "      <td>Tell Tayinat Version of Esarhaddon’s Successio...</td>\n",
       "      <td>0.017076</td>\n",
       "      <td>0.017978</td>\n",
       "      <td>0.029130</td>\n",
       "      <td>0.015266</td>\n",
       "      <td>0.551528</td>\n",
       "      <td>0.008439</td>\n",
       "      <td>0.011909</td>\n",
       "      <td>0.015563</td>\n",
       "      <td>0.000098</td>\n",
       "      <td>0.333015</td>\n",
       "    </tr>\n",
       "  </tbody>\n",
       "</table>\n",
       "<p>3010 rows × 11 columns</p>\n",
       "</div>"
      ],
      "text/plain": [
       "                                               designation         0  \\\n",
       "P224378                            Take Over the Kingship!  0.009094   \n",
       "P224382                                     Family Affairs  0.044935   \n",
       "P224383                  Šubrian King Protecting Deserters  0.003334   \n",
       "P224386                      Specialists Reviving the Land  0.006667   \n",
       "P224388             Elamite King and the Men of Mukin-zeri  0.006669   \n",
       "...                                                    ...       ...   \n",
       "X900011                        Reclaiming Runaway Servants  0.002942   \n",
       "X900012  Receiving Tribute Horses; Constructing Kar-Šar...  0.002084   \n",
       "X900013                     Midas of Phrygia Seeks Detente  0.001164   \n",
       "X900014           Report on a Festival and on Bull Colossi  0.002273   \n",
       "X900016  Tell Tayinat Version of Esarhaddon’s Successio...  0.017076   \n",
       "\n",
       "                1         2         3         4         5         6         7  \\\n",
       "P224378  0.009094  0.009096  0.009096  0.009097  0.102053  0.009094  0.009095   \n",
       "P224382  0.003866  0.046453  0.003866  0.003867  0.003866  0.087804  0.099572   \n",
       "P224383  0.003334  0.320284  0.003334  0.003334  0.003335  0.003334  0.003334   \n",
       "P224386  0.006667  0.006668  0.006668  0.006669  0.006667  0.006667  0.006669   \n",
       "P224388  0.006671  0.098229  0.006670  0.006670  0.006670  0.006670  0.006670   \n",
       "...           ...       ...       ...       ...       ...       ...       ...   \n",
       "X900011  0.002943  0.002942  0.002942  0.002942  0.002942  0.245046  0.002942   \n",
       "X900012  0.002084  0.477666  0.002084  0.002084  0.002084  0.002084  0.002084   \n",
       "X900013  0.001163  0.001164  0.001163  0.001164  0.001164  0.001164  0.001163   \n",
       "X900014  0.002273  0.979539  0.002273  0.002273  0.002274  0.002273  0.002273   \n",
       "X900016  0.017978  0.029130  0.015266  0.551528  0.008439  0.011909  0.015563   \n",
       "\n",
       "                8         9  \n",
       "P224378  0.009094  0.825185  \n",
       "P224382  0.003866  0.701906  \n",
       "P224383  0.003335  0.653042  \n",
       "P224386  0.156555  0.790102  \n",
       "P224388  0.006670  0.848412  \n",
       "...           ...       ...  \n",
       "X900011  0.373325  0.361034  \n",
       "X900012  0.053267  0.454479  \n",
       "X900013  0.014563  0.976129  \n",
       "X900014  0.002274  0.002274  \n",
       "X900016  0.000098  0.333015  \n",
       "\n",
       "[3010 rows x 11 columns]"
      ]
     },
     "execution_count": 16,
     "metadata": {},
     "output_type": "execute_result"
    }
   ],
   "source": [
    "d_t_df_w_desig = pd.merge(df['designation'], d_t_df, left_index=True, right_index=True)\n",
    "d_t_df_w_desig"
   ]
  },
  {
   "cell_type": "markdown",
   "metadata": {},
   "source": [
    "The following code goes through the (numbered) columns of the table which hold the probabilities of each of the topics (the columns) in each of the documents (the rows). The highest ten probabilities are selected, together with a brief descriptipon of the text (designation). "
   ]
  },
  {
   "cell_type": "code",
   "execution_count": 17,
   "metadata": {},
   "outputs": [
    {
     "data": {
      "text/html": [
       "<div>\n",
       "<style scoped>\n",
       "    .dataframe tbody tr th:only-of-type {\n",
       "        vertical-align: middle;\n",
       "    }\n",
       "\n",
       "    .dataframe tbody tr th {\n",
       "        vertical-align: top;\n",
       "    }\n",
       "\n",
       "    .dataframe thead th {\n",
       "        text-align: right;\n",
       "    }\n",
       "</style>\n",
       "<table border=\"1\" class=\"dataframe\">\n",
       "  <thead>\n",
       "    <tr style=\"text-align: right;\">\n",
       "      <th></th>\n",
       "      <th>designation</th>\n",
       "      <th>probability</th>\n",
       "      <th>topic</th>\n",
       "    </tr>\n",
       "  </thead>\n",
       "  <tbody>\n",
       "    <tr>\n",
       "      <td>P336282</td>\n",
       "      <td>Unplaced Fragment of the Text of No. 69</td>\n",
       "      <td>0.976921</td>\n",
       "      <td>0</td>\n",
       "    </tr>\n",
       "    <tr>\n",
       "      <td>P335833</td>\n",
       "      <td>Aššur Temple Offerings, Day 10</td>\n",
       "      <td>0.974283</td>\n",
       "      <td>0</td>\n",
       "    </tr>\n",
       "    <tr>\n",
       "      <td>P282529</td>\n",
       "      <td>Rituals on [Shebat 23?]</td>\n",
       "      <td>0.955194</td>\n",
       "      <td>0</td>\n",
       "    </tr>\n",
       "    <tr>\n",
       "      <td>P425166</td>\n",
       "      <td>Fragment of a Ritual for Singer</td>\n",
       "      <td>0.952630</td>\n",
       "      <td>0</td>\n",
       "    </tr>\n",
       "    <tr>\n",
       "      <td>P336141</td>\n",
       "      <td>Rituals on Shebat 23-25</td>\n",
       "      <td>0.944188</td>\n",
       "      <td>0</td>\n",
       "    </tr>\n",
       "    <tr>\n",
       "      <td>...</td>\n",
       "      <td>...</td>\n",
       "      <td>...</td>\n",
       "      <td>...</td>\n",
       "    </tr>\n",
       "    <tr>\n",
       "      <td>P238349</td>\n",
       "      <td>Restoring the Privileges of Nemed-Lagudu</td>\n",
       "      <td>0.979058</td>\n",
       "      <td>9</td>\n",
       "    </tr>\n",
       "    <tr>\n",
       "      <td>P313432</td>\n",
       "      <td>More on the Conspiracy of Sasi</td>\n",
       "      <td>0.977818</td>\n",
       "      <td>9</td>\n",
       "    </tr>\n",
       "    <tr>\n",
       "      <td>P334315</td>\n",
       "      <td>Prophylactic Rituals for the Royal Family</td>\n",
       "      <td>0.977492</td>\n",
       "      <td>9</td>\n",
       "    </tr>\n",
       "    <tr>\n",
       "      <td>P334746</td>\n",
       "      <td>Plea to the King to Cure Sickness</td>\n",
       "      <td>0.976309</td>\n",
       "      <td>9</td>\n",
       "    </tr>\n",
       "    <tr>\n",
       "      <td>P237963</td>\n",
       "      <td>Inviting the King to Babylon to Establish its ...</td>\n",
       "      <td>0.976308</td>\n",
       "      <td>9</td>\n",
       "    </tr>\n",
       "  </tbody>\n",
       "</table>\n",
       "<p>100 rows × 3 columns</p>\n",
       "</div>"
      ],
      "text/plain": [
       "                                               designation  probability  topic\n",
       "P336282            Unplaced Fragment of the Text of No. 69     0.976921      0\n",
       "P335833                     Aššur Temple Offerings, Day 10     0.974283      0\n",
       "P282529                            Rituals on [Shebat 23?]     0.955194      0\n",
       "P425166                    Fragment of a Ritual for Singer     0.952630      0\n",
       "P336141                            Rituals on Shebat 23-25     0.944188      0\n",
       "...                                                    ...          ...    ...\n",
       "P238349           Restoring the Privileges of Nemed-Lagudu     0.979058      9\n",
       "P313432                     More on the Conspiracy of Sasi     0.977818      9\n",
       "P334315          Prophylactic Rituals for the Royal Family     0.977492      9\n",
       "P334746                  Plea to the King to Cure Sickness     0.976309      9\n",
       "P237963  Inviting the King to Babylon to Establish its ...     0.976308      9\n",
       "\n",
       "[100 rows x 3 columns]"
      ]
     },
     "execution_count": 17,
     "metadata": {},
     "output_type": "execute_result"
    }
   ],
   "source": [
    "doctop = []\n",
    "for i in range(ntopics):\n",
    "    t = d_t_df_w_desig.nlargest(10, i)[['designation', i]]\n",
    "    t['topic'] = i\n",
    "    t = t.rename(columns = {i :'probability'})\n",
    "    doctop.append(t)\n",
    "doctop_df = pd.concat(doctop, axis=0)\n",
    "doctop_df"
   ]
  },
  {
   "cell_type": "markdown",
   "metadata": {},
   "source": [
    "# Renumber Topics\n",
    "Rename the topics (columns) to start with 1, in accordance with the pyLDAvis visualization."
   ]
  },
  {
   "cell_type": "code",
   "execution_count": null,
   "metadata": {
    "collapsed": false,
    "jupyter": {
     "outputs_hidden": false
    }
   },
   "outputs": [],
   "source": [
    "topics = [i+1 for i in range(ntopics)]\n",
    "d_t_df.columns = topics\n",
    "d_t_df"
   ]
  },
  {
   "cell_type": "markdown",
   "metadata": {},
   "source": [
    "# Create Topic / Term table\n",
    "This is a table with N rows (the number of topics) and M columns (the number of individual terms in the Dictionary). The table indicates the probability of each term in each topic."
   ]
  },
  {
   "cell_type": "code",
   "execution_count": null,
   "metadata": {},
   "outputs": [],
   "source": [
    "topic_term = ldamodel.show_topics(ntopics, formatted=False, num_words=len(dictionary))"
   ]
  },
  {
   "cell_type": "markdown",
   "metadata": {},
   "source": [
    "The object `topic_term` is a list of list. Each topic is represented by a list of tuples in the form `(word, probability)`. The following code pulls out the probabilities for each word in each topic (`topic_term[i][1]`) and creates a list of DataFrames with the words as index (rows) and the probabilities as the only column. The DataFrames are concatenated to a single DataFrame. "
   ]
  },
  {
   "cell_type": "code",
   "execution_count": null,
   "metadata": {
    "collapsed": false,
    "jupyter": {
     "outputs_hidden": false
    }
   },
   "outputs": [],
   "source": [
    "topic_term_list = [pd.DataFrame(topic_term[i][1]).set_index(0) for i in range(ntopics)]\n",
    "t_t_df_ = pd.concat(topic_term_list, axis=1, ignore_index=True, sort=True)\n",
    "t_t_df_.head()"
   ]
  },
  {
   "cell_type": "markdown",
   "metadata": {},
   "source": [
    "Rename the columns to start with 1, and Transpose to Topic/Term matrix."
   ]
  },
  {
   "cell_type": "code",
   "execution_count": null,
   "metadata": {
    "collapsed": false,
    "jupyter": {
     "outputs_hidden": false
    }
   },
   "outputs": [],
   "source": [
    "t_t_df_.columns = topics\n",
    "t_t_df = t_t_df_.T\n",
    "t_t_df"
   ]
  },
  {
   "cell_type": "code",
   "execution_count": null,
   "metadata": {},
   "outputs": [],
   "source": [
    "#just checking\n",
    "t_t_df['ēkallu[palace]n']"
   ]
  },
  {
   "cell_type": "markdown",
   "metadata": {},
   "source": [
    "# Export Data"
   ]
  },
  {
   "cell_type": "code",
   "execution_count": null,
   "metadata": {},
   "outputs": [],
   "source": [
    "topic_model = {'dictionary': dictionary,\n",
    "                  'corpus' : corpus,\n",
    "                  'ldamodel' : ldamodel,\n",
    "                  't_t_df' : t_t_df,\n",
    "                  'd_t_df' : d_t_df,\n",
    "               'df' : df,\n",
    "              'ntopics' : ntopics,\n",
    "              'texts' : texts}"
   ]
  },
  {
   "cell_type": "code",
   "execution_count": null,
   "metadata": {},
   "outputs": [],
   "source": [
    "with open('output/topic_model.p', 'wb') as w:\n",
    "    pickle.dump(topic_model, w)"
   ]
  },
  {
   "cell_type": "code",
   "execution_count": null,
   "metadata": {},
   "outputs": [],
   "source": []
  }
 ],
 "metadata": {
  "kernelspec": {
   "display_name": "Python 3",
   "language": "python",
   "name": "python3"
  },
  "language_info": {
   "codemirror_mode": {
    "name": "ipython",
    "version": 3
   },
   "file_extension": ".py",
   "mimetype": "text/x-python",
   "name": "python",
   "nbconvert_exporter": "python",
   "pygments_lexer": "ipython3",
   "version": "3.6.7"
  }
 },
 "nbformat": 4,
 "nbformat_minor": 4
}
