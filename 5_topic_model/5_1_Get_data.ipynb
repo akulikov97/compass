{
 "cells": [
  {
   "cell_type": "markdown",
   "metadata": {},
   "source": [
    "# 5.1 Acquire Data for Topic Model: State Archives of Assyria\n",
    "\n",
    "The data acquisition techniques discussed in section 2.1 are applied here to gather all the data from State Archives from Assyria Online ([SAAo](http://oracc.org/saao)). In the next notebook this data will be used for creating a topic model. "
   ]
  },
  {
   "cell_type": "markdown",
   "metadata": {},
   "source": [
    "# 5.1.0 Preparation: Import modules"
   ]
  },
  {
   "cell_type": "code",
   "execution_count": 1,
   "metadata": {},
   "outputs": [],
   "source": [
    "import os\n",
    "import sys\n",
    "util_dir = os.path.abspath('../utils')\n",
    "sys.path.append(util_dir)\n",
    "from utils import *\n",
    "import pandas as pd"
   ]
  },
  {
   "cell_type": "markdown",
   "metadata": {},
   "source": [
    "### 5.1.1 Get data\n",
    "The module `utils` in the `utils` directory of Compass includes the function `get_data()` which essentially runs the same code as the Extended ORACC Parser (2.1.3; see there for explanation of the code). Its only parameter is a string with [ORACC](http://oracc.org) project names, separated by commas. It returns a Pandas DataFrame in which each word is represented by a row.\n",
    "\n",
    "If you wish to build a topic model with a different set of texts, you may replace the list of subprojects (separated by commas) with any other list of valid [ORACC](http://oracc.org) (sub)projects. Note, however, that the code below (and in the next notebook) uses field names that are specific for the [SAAo](http://oracc.org/saao) catalogs (in particular the field 'title'). [ORACC](http://oracc.org) data sets essentially all have the same structure, but catalogs vary widely in the fields they include (the fields 'id_text' and 'designation' are obligatory and are found in all)."
   ]
  },
  {
   "cell_type": "code",
   "execution_count": 2,
   "metadata": {},
   "outputs": [
    {
     "name": "stdout",
     "output_type": "stream",
     "text": [
      "Downloading JSON\n",
      "Saving http://oracc.org/saao/saa10/json/saao-saa10.zip as jsonzip/saao-saa10.zip.\n"
     ]
    },
    {
     "data": {
      "application/vnd.jupyter.widget-view+json": {
       "model_id": "7bbdbf1782f747c586fc2041398c12b7",
       "version_major": 2,
       "version_minor": 0
      },
      "text/plain": [
       "HBox(children=(IntProgress(value=1, bar_style='info', description='saao/saa10', max=1, style=ProgressStyle(des…"
      ]
     },
     "metadata": {},
     "output_type": "display_data"
    },
    {
     "name": "stdout",
     "output_type": "stream",
     "text": [
      "\n",
      "Saving http://oracc.org/saao/saa15/json/saao-saa15.zip as jsonzip/saao-saa15.zip.\n"
     ]
    },
    {
     "data": {
      "application/vnd.jupyter.widget-view+json": {
       "model_id": "d84f399021b5413abfd2c0786ae80da9",
       "version_major": 2,
       "version_minor": 0
      },
      "text/plain": [
       "HBox(children=(IntProgress(value=1, bar_style='info', description='saao/saa15', max=1, style=ProgressStyle(des…"
      ]
     },
     "metadata": {},
     "output_type": "display_data"
    },
    {
     "name": "stdout",
     "output_type": "stream",
     "text": [
      "\n",
      "Saving http://oracc.org/saao/saa17/json/saao-saa17.zip as jsonzip/saao-saa17.zip.\n"
     ]
    },
    {
     "data": {
      "application/vnd.jupyter.widget-view+json": {
       "model_id": "ab9e133caa7744a8b95e9cc281e37c6a",
       "version_major": 2,
       "version_minor": 0
      },
      "text/plain": [
       "HBox(children=(IntProgress(value=1, bar_style='info', description='saao/saa17', max=1, style=ProgressStyle(des…"
      ]
     },
     "metadata": {},
     "output_type": "display_data"
    },
    {
     "name": "stdout",
     "output_type": "stream",
     "text": [
      "\n",
      "Saving http://oracc.org/saao/saa08/json/saao-saa08.zip as jsonzip/saao-saa08.zip.\n"
     ]
    },
    {
     "data": {
      "application/vnd.jupyter.widget-view+json": {
       "model_id": "050c7ce9cdbc4a63b1259e9f36af744a",
       "version_major": 2,
       "version_minor": 0
      },
      "text/plain": [
       "HBox(children=(IntProgress(value=1, bar_style='info', description='saao/saa08', max=1, style=ProgressStyle(des…"
      ]
     },
     "metadata": {},
     "output_type": "display_data"
    },
    {
     "name": "stdout",
     "output_type": "stream",
     "text": [
      "\n",
      "Saving http://oracc.org/saao/saa01/json/saao-saa01.zip as jsonzip/saao-saa01.zip.\n"
     ]
    },
    {
     "data": {
      "application/vnd.jupyter.widget-view+json": {
       "model_id": "1a44e4cfde0041de811186dbb571bea1",
       "version_major": 2,
       "version_minor": 0
      },
      "text/plain": [
       "HBox(children=(IntProgress(value=1, bar_style='info', description='saao/saa01', max=1, style=ProgressStyle(des…"
      ]
     },
     "metadata": {},
     "output_type": "display_data"
    },
    {
     "name": "stdout",
     "output_type": "stream",
     "text": [
      "\n",
      "Saving http://oracc.org/saao/saa16/json/saao-saa16.zip as jsonzip/saao-saa16.zip.\n"
     ]
    },
    {
     "data": {
      "application/vnd.jupyter.widget-view+json": {
       "model_id": "e4889abe54b546c2bd792c7de75cfdff",
       "version_major": 2,
       "version_minor": 0
      },
      "text/plain": [
       "HBox(children=(IntProgress(value=1, bar_style='info', description='saao/saa16', max=1, style=ProgressStyle(des…"
      ]
     },
     "metadata": {},
     "output_type": "display_data"
    },
    {
     "name": "stdout",
     "output_type": "stream",
     "text": [
      "\n",
      "Saving http://oracc.org/saao/saa19/json/saao-saa19.zip as jsonzip/saao-saa19.zip.\n"
     ]
    },
    {
     "data": {
      "application/vnd.jupyter.widget-view+json": {
       "model_id": "9f39ecfb012443ddbac43432a1f9cd5e",
       "version_major": 2,
       "version_minor": 0
      },
      "text/plain": [
       "HBox(children=(IntProgress(value=1, bar_style='info', description='saao/saa19', max=1, style=ProgressStyle(des…"
      ]
     },
     "metadata": {},
     "output_type": "display_data"
    },
    {
     "name": "stdout",
     "output_type": "stream",
     "text": [
      "\n",
      "Saving http://oracc.org/saao/saa06/json/saao-saa06.zip as jsonzip/saao-saa06.zip.\n"
     ]
    },
    {
     "data": {
      "application/vnd.jupyter.widget-view+json": {
       "model_id": "3f40ddaa040f40f0878ad754247f2d45",
       "version_major": 2,
       "version_minor": 0
      },
      "text/plain": [
       "HBox(children=(IntProgress(value=1, bar_style='info', description='saao/saa06', max=1, style=ProgressStyle(des…"
      ]
     },
     "metadata": {},
     "output_type": "display_data"
    },
    {
     "name": "stdout",
     "output_type": "stream",
     "text": [
      "\n",
      "Saving http://oracc.org/saao/saa05/json/saao-saa05.zip as jsonzip/saao-saa05.zip.\n"
     ]
    },
    {
     "data": {
      "application/vnd.jupyter.widget-view+json": {
       "model_id": "c54b317498cd4ba1921611c59b3ee377",
       "version_major": 2,
       "version_minor": 0
      },
      "text/plain": [
       "HBox(children=(IntProgress(value=1, bar_style='info', description='saao/saa05', max=1, style=ProgressStyle(des…"
      ]
     },
     "metadata": {},
     "output_type": "display_data"
    },
    {
     "name": "stdout",
     "output_type": "stream",
     "text": [
      "\n",
      "Saving http://oracc.org/saao/saa09/json/saao-saa09.zip as jsonzip/saao-saa09.zip.\n"
     ]
    },
    {
     "data": {
      "application/vnd.jupyter.widget-view+json": {
       "model_id": "52902d21026f4e7b8c58467c470be81c",
       "version_major": 2,
       "version_minor": 0
      },
      "text/plain": [
       "HBox(children=(IntProgress(value=1, bar_style='info', description='saao/saa09', max=1, style=ProgressStyle(des…"
      ]
     },
     "metadata": {},
     "output_type": "display_data"
    },
    {
     "name": "stdout",
     "output_type": "stream",
     "text": [
      "\n",
      "Saving http://oracc.org/saao/saa11/json/saao-saa11.zip as jsonzip/saao-saa11.zip.\n"
     ]
    },
    {
     "data": {
      "application/vnd.jupyter.widget-view+json": {
       "model_id": "42089606be294d4988ee80f096f6e6b1",
       "version_major": 2,
       "version_minor": 0
      },
      "text/plain": [
       "HBox(children=(IntProgress(value=1, bar_style='info', description='saao/saa11', max=1, style=ProgressStyle(des…"
      ]
     },
     "metadata": {},
     "output_type": "display_data"
    },
    {
     "name": "stdout",
     "output_type": "stream",
     "text": [
      "\n",
      "Saving http://oracc.org/saao/saa04/json/saao-saa04.zip as jsonzip/saao-saa04.zip.\n"
     ]
    },
    {
     "data": {
      "application/vnd.jupyter.widget-view+json": {
       "model_id": "2ddd2c5dc7434b2ca83afd5ec89cc2eb",
       "version_major": 2,
       "version_minor": 0
      },
      "text/plain": [
       "HBox(children=(IntProgress(value=1, bar_style='info', description='saao/saa04', max=1, style=ProgressStyle(des…"
      ]
     },
     "metadata": {},
     "output_type": "display_data"
    },
    {
     "name": "stdout",
     "output_type": "stream",
     "text": [
      "\n",
      "Saving http://oracc.org/saao/saa03/json/saao-saa03.zip as jsonzip/saao-saa03.zip.\n"
     ]
    },
    {
     "data": {
      "application/vnd.jupyter.widget-view+json": {
       "model_id": "f28ebc5ec2db45088a64bb64d39b7196",
       "version_major": 2,
       "version_minor": 0
      },
      "text/plain": [
       "HBox(children=(IntProgress(value=1, bar_style='info', description='saao/saa03', max=1, style=ProgressStyle(des…"
      ]
     },
     "metadata": {},
     "output_type": "display_data"
    },
    {
     "name": "stdout",
     "output_type": "stream",
     "text": [
      "\n",
      "Saving http://oracc.org/saao/saa13/json/saao-saa13.zip as jsonzip/saao-saa13.zip.\n"
     ]
    },
    {
     "data": {
      "application/vnd.jupyter.widget-view+json": {
       "model_id": "74d868db33a44e0c929b8a0a55a1e7cd",
       "version_major": 2,
       "version_minor": 0
      },
      "text/plain": [
       "HBox(children=(IntProgress(value=1, bar_style='info', description='saao/saa13', max=1, style=ProgressStyle(des…"
      ]
     },
     "metadata": {},
     "output_type": "display_data"
    },
    {
     "name": "stdout",
     "output_type": "stream",
     "text": [
      "\n",
      "Saving http://oracc.org/saao/saa14/json/saao-saa14.zip as jsonzip/saao-saa14.zip.\n"
     ]
    },
    {
     "data": {
      "application/vnd.jupyter.widget-view+json": {
       "model_id": "ae1d3101f3af4bedb4502c58d09d5184",
       "version_major": 2,
       "version_minor": 0
      },
      "text/plain": [
       "HBox(children=(IntProgress(value=1, bar_style='info', description='saao/saa14', max=1, style=ProgressStyle(des…"
      ]
     },
     "metadata": {},
     "output_type": "display_data"
    },
    {
     "name": "stdout",
     "output_type": "stream",
     "text": [
      "\n",
      "Saving http://oracc.org/saao/saa18/json/saao-saa18.zip as jsonzip/saao-saa18.zip.\n"
     ]
    },
    {
     "data": {
      "application/vnd.jupyter.widget-view+json": {
       "model_id": "7293416b810b40fba26f01297c52c545",
       "version_major": 2,
       "version_minor": 0
      },
      "text/plain": [
       "HBox(children=(IntProgress(value=1, bar_style='info', description='saao/saa18', max=1, style=ProgressStyle(des…"
      ]
     },
     "metadata": {},
     "output_type": "display_data"
    },
    {
     "name": "stdout",
     "output_type": "stream",
     "text": [
      "\n",
      "Saving http://oracc.org/saao/saa21/json/saao-saa21.zip as jsonzip/saao-saa21.zip.\n"
     ]
    },
    {
     "data": {
      "application/vnd.jupyter.widget-view+json": {
       "model_id": "5052035231544400b6572c4ea98d8579",
       "version_major": 2,
       "version_minor": 0
      },
      "text/plain": [
       "HBox(children=(IntProgress(value=1, bar_style='info', description='saao/saa21', max=1, style=ProgressStyle(des…"
      ]
     },
     "metadata": {},
     "output_type": "display_data"
    },
    {
     "name": "stdout",
     "output_type": "stream",
     "text": [
      "\n",
      "Saving http://oracc.org/saao/saa02/json/saao-saa02.zip as jsonzip/saao-saa02.zip.\n"
     ]
    },
    {
     "data": {
      "application/vnd.jupyter.widget-view+json": {
       "model_id": "af82225cce23482d89a89ef1d463915b",
       "version_major": 2,
       "version_minor": 0
      },
      "text/plain": [
       "HBox(children=(IntProgress(value=1, bar_style='info', description='saao/saa02', max=1, style=ProgressStyle(des…"
      ]
     },
     "metadata": {},
     "output_type": "display_data"
    },
    {
     "name": "stdout",
     "output_type": "stream",
     "text": [
      "\n",
      "Saving http://oracc.org/saao/saa20/json/saao-saa20.zip as jsonzip/saao-saa20.zip.\n"
     ]
    },
    {
     "data": {
      "application/vnd.jupyter.widget-view+json": {
       "model_id": "69aecf09d26d44dd862463a56daf6679",
       "version_major": 2,
       "version_minor": 0
      },
      "text/plain": [
       "HBox(children=(IntProgress(value=1, bar_style='info', description='saao/saa20', max=1, style=ProgressStyle(des…"
      ]
     },
     "metadata": {},
     "output_type": "display_data"
    },
    {
     "name": "stdout",
     "output_type": "stream",
     "text": [
      "\n",
      "Saving http://oracc.org/saao/saa07/json/saao-saa07.zip as jsonzip/saao-saa07.zip.\n"
     ]
    },
    {
     "data": {
      "application/vnd.jupyter.widget-view+json": {
       "model_id": "3302876e1845435191ea618bcf6b0e37",
       "version_major": 2,
       "version_minor": 0
      },
      "text/plain": [
       "HBox(children=(IntProgress(value=1, bar_style='info', description='saao/saa07', max=1, style=ProgressStyle(des…"
      ]
     },
     "metadata": {},
     "output_type": "display_data"
    },
    {
     "name": "stdout",
     "output_type": "stream",
     "text": [
      "\n",
      "Saving http://oracc.org/saao/saa12/json/saao-saa12.zip as jsonzip/saao-saa12.zip.\n"
     ]
    },
    {
     "data": {
      "application/vnd.jupyter.widget-view+json": {
       "model_id": "b632120c2c254a3b9dffa46f93848a0e",
       "version_major": 2,
       "version_minor": 0
      },
      "text/plain": [
       "HBox(children=(IntProgress(value=1, bar_style='info', description='saao/saa12', max=1, style=ProgressStyle(des…"
      ]
     },
     "metadata": {},
     "output_type": "display_data"
    },
    {
     "name": "stdout",
     "output_type": "stream",
     "text": [
      "\n",
      "Parsing JSON\n"
     ]
    },
    {
     "data": {
      "application/vnd.jupyter.widget-view+json": {
       "model_id": "d55ae714990648c094dcfb435978385e",
       "version_major": 2,
       "version_minor": 0
      },
      "text/plain": [
       "HBox(children=(IntProgress(value=0, description='saao/saa10', max=389, style=ProgressStyle(description_width='…"
      ]
     },
     "metadata": {},
     "output_type": "display_data"
    },
    {
     "name": "stdout",
     "output_type": "stream",
     "text": [
      "\n"
     ]
    },
    {
     "data": {
      "application/vnd.jupyter.widget-view+json": {
       "model_id": "e7fb949ae7b84d10926bade4c2c974a8",
       "version_major": 2,
       "version_minor": 0
      },
      "text/plain": [
       "HBox(children=(IntProgress(value=0, description='saao/saa15', max=389, style=ProgressStyle(description_width='…"
      ]
     },
     "metadata": {},
     "output_type": "display_data"
    },
    {
     "name": "stdout",
     "output_type": "stream",
     "text": [
      "saao/saa15/P314095 is not available or not complete\n",
      "\n"
     ]
    },
    {
     "data": {
      "application/vnd.jupyter.widget-view+json": {
       "model_id": "a9e8f2d9e98745e9b02165d96cb4965a",
       "version_major": 2,
       "version_minor": 0
      },
      "text/plain": [
       "HBox(children=(IntProgress(value=0, description='saao/saa17', max=207, style=ProgressStyle(description_width='…"
      ]
     },
     "metadata": {},
     "output_type": "display_data"
    },
    {
     "name": "stdout",
     "output_type": "stream",
     "text": [
      "\n"
     ]
    },
    {
     "data": {
      "application/vnd.jupyter.widget-view+json": {
       "model_id": "8fc42fc83dc04aa5959d6752774c5604",
       "version_major": 2,
       "version_minor": 0
      },
      "text/plain": [
       "HBox(children=(IntProgress(value=0, description='saao/saa08', max=568, style=ProgressStyle(description_width='…"
      ]
     },
     "metadata": {},
     "output_type": "display_data"
    },
    {
     "name": "stdout",
     "output_type": "stream",
     "text": [
      "\n"
     ]
    },
    {
     "data": {
      "application/vnd.jupyter.widget-view+json": {
       "model_id": "30c23e9db6bc409589aa86e499668fd5",
       "version_major": 2,
       "version_minor": 0
      },
      "text/plain": [
       "HBox(children=(IntProgress(value=0, description='saao/saa01', max=264, style=ProgressStyle(description_width='…"
      ]
     },
     "metadata": {},
     "output_type": "display_data"
    },
    {
     "name": "stdout",
     "output_type": "stream",
     "text": [
      "\n"
     ]
    },
    {
     "data": {
      "application/vnd.jupyter.widget-view+json": {
       "model_id": "6922743b02974bf99a92f995738e0722",
       "version_major": 2,
       "version_minor": 0
      },
      "text/plain": [
       "HBox(children=(IntProgress(value=0, description='saao/saa16', max=246, style=ProgressStyle(description_width='…"
      ]
     },
     "metadata": {},
     "output_type": "display_data"
    },
    {
     "name": "stdout",
     "output_type": "stream",
     "text": [
      "\n"
     ]
    },
    {
     "data": {
      "application/vnd.jupyter.widget-view+json": {
       "model_id": "637bf01d0ff442c4bc3d2e265fd22265",
       "version_major": 2,
       "version_minor": 0
      },
      "text/plain": [
       "HBox(children=(IntProgress(value=0, description='saao/saa19', max=229, style=ProgressStyle(description_width='…"
      ]
     },
     "metadata": {},
     "output_type": "display_data"
    },
    {
     "name": "stdout",
     "output_type": "stream",
     "text": [
      "\n"
     ]
    },
    {
     "data": {
      "application/vnd.jupyter.widget-view+json": {
       "model_id": "921c37ff6f184bf1a081eae32bbc1970",
       "version_major": 2,
       "version_minor": 0
      },
      "text/plain": [
       "HBox(children=(IntProgress(value=0, description='saao/saa06', max=350, style=ProgressStyle(description_width='…"
      ]
     },
     "metadata": {},
     "output_type": "display_data"
    },
    {
     "name": "stdout",
     "output_type": "stream",
     "text": [
      "saao/saa06/P335204 is not available or not complete\n",
      "saao/saa06/P335372 is not available or not complete\n",
      "saao/saa06/P335226 is not available or not complete\n",
      "saao/saa06/P335202 is not available or not complete\n",
      "saao/saa06/P335322 is not available or not complete\n",
      "saao/saa06/P335176 is not available or not complete\n",
      "\n"
     ]
    },
    {
     "data": {
      "application/vnd.jupyter.widget-view+json": {
       "model_id": "f61f9bf2bf8f4610a773dc32c53bd7a9",
       "version_major": 2,
       "version_minor": 0
      },
      "text/plain": [
       "HBox(children=(IntProgress(value=0, description='saao/saa05', max=300, style=ProgressStyle(description_width='…"
      ]
     },
     "metadata": {},
     "output_type": "display_data"
    },
    {
     "name": "stdout",
     "output_type": "stream",
     "text": [
      "\n"
     ]
    },
    {
     "data": {
      "application/vnd.jupyter.widget-view+json": {
       "model_id": "dc9977fdb3a34ee382f56b663a8b8a1b",
       "version_major": 2,
       "version_minor": 0
      },
      "text/plain": [
       "HBox(children=(IntProgress(value=0, description='saao/saa09', max=11, style=ProgressStyle(description_width='i…"
      ]
     },
     "metadata": {},
     "output_type": "display_data"
    },
    {
     "name": "stdout",
     "output_type": "stream",
     "text": [
      "\n"
     ]
    },
    {
     "data": {
      "application/vnd.jupyter.widget-view+json": {
       "model_id": "aa215a72601b469ba9a590e623be1e1b",
       "version_major": 2,
       "version_minor": 0
      },
      "text/plain": [
       "HBox(children=(IntProgress(value=0, description='saao/saa11', max=234, style=ProgressStyle(description_width='…"
      ]
     },
     "metadata": {},
     "output_type": "display_data"
    },
    {
     "name": "stdout",
     "output_type": "stream",
     "text": [
      "saao/saa11/P336708 is not available or not complete\n",
      "saao/saa11/P335756 is not available or not complete\n",
      "saao/saa11/P336803 is not available or not complete\n",
      "saao/saa11/P336687 is not available or not complete\n",
      "saao/saa11/P335782 is not available or not complete\n",
      "saao/saa11/P335685 is not available or not complete\n",
      "saao/saa11/P335633 is not available or not complete\n",
      "saao/saa11/P335697 is not available or not complete\n",
      "saao/saa11/P335588 is not available or not complete\n",
      "saao/saa11/P335808 is not available or not complete\n",
      "\n"
     ]
    },
    {
     "data": {
      "application/vnd.jupyter.widget-view+json": {
       "model_id": "2c8cf9c0131d47e68005b40288987f0a",
       "version_major": 2,
       "version_minor": 0
      },
      "text/plain": [
       "HBox(children=(IntProgress(value=0, description='saao/saa04', max=353, style=ProgressStyle(description_width='…"
      ]
     },
     "metadata": {},
     "output_type": "display_data"
    },
    {
     "name": "stdout",
     "output_type": "stream",
     "text": [
      "\n"
     ]
    },
    {
     "data": {
      "application/vnd.jupyter.widget-view+json": {
       "model_id": "c231d8c39fa84a8eb317e948676a67c8",
       "version_major": 2,
       "version_minor": 0
      },
      "text/plain": [
       "HBox(children=(IntProgress(value=0, description='saao/saa03', max=52, style=ProgressStyle(description_width='i…"
      ]
     },
     "metadata": {},
     "output_type": "display_data"
    },
    {
     "name": "stdout",
     "output_type": "stream",
     "text": [
      "\n"
     ]
    },
    {
     "data": {
      "application/vnd.jupyter.widget-view+json": {
       "model_id": "1e5b46c92fd1436e815fe4b189f737bf",
       "version_major": 2,
       "version_minor": 0
      },
      "text/plain": [
       "HBox(children=(IntProgress(value=0, description='saao/saa13', max=210, style=ProgressStyle(description_width='…"
      ]
     },
     "metadata": {},
     "output_type": "display_data"
    },
    {
     "name": "stdout",
     "output_type": "stream",
     "text": [
      "saao/saa13/P334893 is not available or not complete\n",
      "\n"
     ]
    },
    {
     "data": {
      "application/vnd.jupyter.widget-view+json": {
       "model_id": "d6b5dda4d7794376bf34adf0fe4992fb",
       "version_major": 2,
       "version_minor": 0
      },
      "text/plain": [
       "HBox(children=(IntProgress(value=0, description='saao/saa14', max=479, style=ProgressStyle(description_width='…"
      ]
     },
     "metadata": {},
     "output_type": "display_data"
    },
    {
     "name": "stdout",
     "output_type": "stream",
     "text": [
      "saao/saa14/P335107 is not available or not complete\n",
      "saao/saa14/P335943 is not available or not complete\n",
      "saao/saa14/P335080 is not available or not complete\n",
      "saao/saa14/P224949 is not available or not complete\n",
      "saao/saa14/P335180 is not available or not complete\n",
      "saao/saa14/P335257 is not available or not complete\n",
      "saao/saa14/P335154 is not available or not complete\n",
      "saao/saa14/P334991 is not available or not complete\n",
      "saao/saa14/P335415 is not available or not complete\n",
      "saao/saa14/P335196 is not available or not complete\n",
      "saao/saa14/P336196 is not available or not complete\n",
      "saao/saa14/P335459 is not available or not complete\n",
      "saao/saa14/P335079 is not available or not complete\n",
      "saao/saa14/P335574 is not available or not complete\n",
      "saao/saa14/P335305 is not available or not complete\n",
      "saao/saa14/P335587 is not available or not complete\n",
      "saao/saa14/P334977 is not available or not complete\n",
      "saao/saa14/P335038 is not available or not complete\n",
      "saao/saa14/P335197 is not available or not complete\n",
      "saao/saa14/P336194 is not available or not complete\n",
      "saao/saa14/P336029 is not available or not complete\n",
      "saao/saa14/P335530 is not available or not complete\n",
      "saao/saa14/P335489 is not available or not complete\n",
      "saao/saa14/P335263 is not available or not complete\n",
      "saao/saa14/P335081 is not available or not complete\n",
      "\n"
     ]
    },
    {
     "data": {
      "application/vnd.jupyter.widget-view+json": {
       "model_id": "1b57ea6635b64a6dbfe5f00d6c8f154a",
       "version_major": 2,
       "version_minor": 0
      },
      "text/plain": [
       "HBox(children=(IntProgress(value=0, description='saao/saa18', max=204, style=ProgressStyle(description_width='…"
      ]
     },
     "metadata": {},
     "output_type": "display_data"
    },
    {
     "name": "stdout",
     "output_type": "stream",
     "text": [
      "\n"
     ]
    },
    {
     "data": {
      "application/vnd.jupyter.widget-view+json": {
       "model_id": "b8d685133f4c44cba166ad6d43714454",
       "version_major": 2,
       "version_minor": 0
      },
      "text/plain": [
       "HBox(children=(IntProgress(value=0, description='saao/saa21', max=161, style=ProgressStyle(description_width='…"
      ]
     },
     "metadata": {},
     "output_type": "display_data"
    },
    {
     "name": "stdout",
     "output_type": "stream",
     "text": [
      "\n"
     ]
    },
    {
     "data": {
      "application/vnd.jupyter.widget-view+json": {
       "model_id": "92ff9f2a509046a9889640fea6dd5b66",
       "version_major": 2,
       "version_minor": 0
      },
      "text/plain": [
       "HBox(children=(IntProgress(value=0, description='saao/saa02', max=15, style=ProgressStyle(description_width='i…"
      ]
     },
     "metadata": {},
     "output_type": "display_data"
    },
    {
     "name": "stdout",
     "output_type": "stream",
     "text": [
      "\n"
     ]
    },
    {
     "data": {
      "application/vnd.jupyter.widget-view+json": {
       "model_id": "cb1d6df9cd6c4e93989a28019e3c8146",
       "version_major": 2,
       "version_minor": 0
      },
      "text/plain": [
       "HBox(children=(IntProgress(value=0, description='saao/saa20', max=55, style=ProgressStyle(description_width='i…"
      ]
     },
     "metadata": {},
     "output_type": "display_data"
    },
    {
     "name": "stdout",
     "output_type": "stream",
     "text": [
      "\n"
     ]
    },
    {
     "data": {
      "application/vnd.jupyter.widget-view+json": {
       "model_id": "4e8232d0e4914886bcc0690471c43e56",
       "version_major": 2,
       "version_minor": 0
      },
      "text/plain": [
       "HBox(children=(IntProgress(value=0, description='saao/saa07', max=219, style=ProgressStyle(description_width='…"
      ]
     },
     "metadata": {},
     "output_type": "display_data"
    },
    {
     "name": "stdout",
     "output_type": "stream",
     "text": [
      "saao/saa07/P335888 is not available or not complete\n",
      "saao/saa07/P335691 is not available or not complete\n",
      "saao/saa07/P335783 is not available or not complete\n",
      "saao/saa07/P335681 is not available or not complete\n",
      "saao/saa07/P335792 is not available or not complete\n",
      "saao/saa07/P335865 is not available or not complete\n",
      "saao/saa07/P335884 is not available or not complete\n",
      "saao/saa07/P335781 is not available or not complete\n",
      "saao/saa07/P335875 is not available or not complete\n",
      "saao/saa07/P335923 is not available or not complete\n",
      "saao/saa07/P335898 is not available or not complete\n",
      "saao/saa07/P335866 is not available or not complete\n",
      "\n"
     ]
    },
    {
     "data": {
      "application/vnd.jupyter.widget-view+json": {
       "model_id": "abee26a47b74435cb039e2282081f84b",
       "version_major": 2,
       "version_minor": 0
      },
      "text/plain": [
       "HBox(children=(IntProgress(value=0, description='saao/saa12', max=98, style=ProgressStyle(description_width='i…"
      ]
     },
     "metadata": {},
     "output_type": "display_data"
    },
    {
     "name": "stdout",
     "output_type": "stream",
     "text": [
      "\n"
     ]
    }
   ],
   "source": [
    "projects = \"\"\"saao/saa01,\n",
    "                saao/saa02,\n",
    "                saao/saa03,\n",
    "                saao/saa04,\n",
    "                saao/saa05,\n",
    "                saao/saa06,\n",
    "                saao/saa07,\n",
    "                saao/saa08,\n",
    "                saao/saa09,\n",
    "                saao/saa10,\n",
    "                saao/saa11,\n",
    "                saao/saa12,\n",
    "                saao/saa13,\n",
    "                saao/saa14,\n",
    "                saao/saa15,\n",
    "                saao/saa16,\n",
    "                saao/saa17,\n",
    "                saao/saa18,\n",
    "                saao/saa19,\n",
    "                saao/saa20,\n",
    "                saao/saa21\"\"\"\n",
    "words = get_data(projects)"
   ]
  },
  {
   "cell_type": "markdown",
   "metadata": {},
   "source": [
    "Create lemma column and collect all lemmas of a single document in a list."
   ]
  },
  {
   "cell_type": "code",
   "execution_count": 3,
   "metadata": {},
   "outputs": [],
   "source": [
    "words = words.fillna('')\n",
    "words = words.loc[words.cf != '']\n",
    "words[\"lemma\"] = words['cf'] + '[' + words['gw'] + ']' + words['pos']\n",
    "words['lemma'] = words['lemma'].str.lower()\n",
    "docs = words['lemma'].groupby(words['id_text']).apply(list)"
   ]
  },
  {
   "cell_type": "code",
   "execution_count": 4,
   "metadata": {},
   "outputs": [
    {
     "data": {
      "text/html": [
       "<div>\n",
       "<style scoped>\n",
       "    .dataframe tbody tr th:only-of-type {\n",
       "        vertical-align: middle;\n",
       "    }\n",
       "\n",
       "    .dataframe tbody tr th {\n",
       "        vertical-align: top;\n",
       "    }\n",
       "\n",
       "    .dataframe thead th {\n",
       "        text-align: right;\n",
       "    }\n",
       "</style>\n",
       "<table border=\"1\" class=\"dataframe\">\n",
       "  <thead>\n",
       "    <tr style=\"text-align: right;\">\n",
       "      <th></th>\n",
       "      <th>id_text</th>\n",
       "      <th>lemma</th>\n",
       "    </tr>\n",
       "  </thead>\n",
       "  <tbody>\n",
       "    <tr>\n",
       "      <td>P224485</td>\n",
       "      <td>saao/saa01/P224485</td>\n",
       "      <td>[awātu[word]n, šarru[king]n, ana[to]prp, aššur...</td>\n",
       "    </tr>\n",
       "    <tr>\n",
       "      <td>P313416</td>\n",
       "      <td>saao/saa01/P313416</td>\n",
       "      <td>[ana[to]prp, šarru[king]n, bēlu[lord]n, ardu[s...</td>\n",
       "    </tr>\n",
       "    <tr>\n",
       "      <td>P313417</td>\n",
       "      <td>saao/saa01/P313417</td>\n",
       "      <td>[ana[to]prp, šarru[king]n, bēlu[lord]n, ardu[s...</td>\n",
       "    </tr>\n",
       "    <tr>\n",
       "      <td>P313425</td>\n",
       "      <td>saao/saa01/P313425</td>\n",
       "      <td>[ana[to]prp, šarru[king]n, bēlu[lord]n, ardu[s...</td>\n",
       "    </tr>\n",
       "    <tr>\n",
       "      <td>P313427</td>\n",
       "      <td>saao/saa01/P313427</td>\n",
       "      <td>[ana[to]prp, šarru[king]n, bēlu[lord]n, ardu[s...</td>\n",
       "    </tr>\n",
       "    <tr>\n",
       "      <td>...</td>\n",
       "      <td>...</td>\n",
       "      <td>...</td>\n",
       "    </tr>\n",
       "    <tr>\n",
       "      <td>P452805</td>\n",
       "      <td>saao/saa21/P452805</td>\n",
       "      <td>[awātu[word]n, šarru[king]n, ana[to]prp, nabu-...</td>\n",
       "    </tr>\n",
       "    <tr>\n",
       "      <td>P452858</td>\n",
       "      <td>saao/saa21/P452858</td>\n",
       "      <td>[maṣṣartu[observation]n, ša[of]det, šarru[king...</td>\n",
       "    </tr>\n",
       "    <tr>\n",
       "      <td>P452901</td>\n",
       "      <td>saao/saa21/P452901</td>\n",
       "      <td>[qabû[say]v, ša[of]det, nišu[people]n, šanû[do...</td>\n",
       "    </tr>\n",
       "    <tr>\n",
       "      <td>X210106</td>\n",
       "      <td>saao/saa21/X210106</td>\n",
       "      <td>[awātu[word]n, šarru[king]n, ana[to]prp, hunda...</td>\n",
       "    </tr>\n",
       "    <tr>\n",
       "      <td>X211891</td>\n",
       "      <td>saao/saa21/X211891</td>\n",
       "      <td>[alāku[go]v, ana[to]prp, aššur-bani-apli[assur...</td>\n",
       "    </tr>\n",
       "  </tbody>\n",
       "</table>\n",
       "<p>4955 rows × 2 columns</p>\n",
       "</div>"
      ],
      "text/plain": [
       "                    id_text                                              lemma\n",
       "P224485  saao/saa01/P224485  [awātu[word]n, šarru[king]n, ana[to]prp, aššur...\n",
       "P313416  saao/saa01/P313416  [ana[to]prp, šarru[king]n, bēlu[lord]n, ardu[s...\n",
       "P313417  saao/saa01/P313417  [ana[to]prp, šarru[king]n, bēlu[lord]n, ardu[s...\n",
       "P313425  saao/saa01/P313425  [ana[to]prp, šarru[king]n, bēlu[lord]n, ardu[s...\n",
       "P313427  saao/saa01/P313427  [ana[to]prp, šarru[king]n, bēlu[lord]n, ardu[s...\n",
       "...                     ...                                                ...\n",
       "P452805  saao/saa21/P452805  [awātu[word]n, šarru[king]n, ana[to]prp, nabu-...\n",
       "P452858  saao/saa21/P452858  [maṣṣartu[observation]n, ša[of]det, šarru[king...\n",
       "P452901  saao/saa21/P452901  [qabû[say]v, ša[of]det, nišu[people]n, šanû[do...\n",
       "X210106  saao/saa21/X210106  [awātu[word]n, šarru[king]n, ana[to]prp, hunda...\n",
       "X211891  saao/saa21/X211891  [alāku[go]v, ana[to]prp, aššur-bani-apli[assur...\n",
       "\n",
       "[4955 rows x 2 columns]"
      ]
     },
     "execution_count": 4,
     "metadata": {},
     "output_type": "execute_result"
    }
   ],
   "source": [
    "docs_df = pd.DataFrame(docs).reset_index()\n",
    "docs_df.index = [idt[-7:] for idt in docs_df.id_text]\n",
    "docs_df"
   ]
  },
  {
   "cell_type": "markdown",
   "metadata": {},
   "source": [
    "# Get metadata from catalog file."
   ]
  },
  {
   "cell_type": "code",
   "execution_count": 10,
   "metadata": {},
   "outputs": [
    {
     "data": {
      "text/html": [
       "<div>\n",
       "<style scoped>\n",
       "    .dataframe tbody tr th:only-of-type {\n",
       "        vertical-align: middle;\n",
       "    }\n",
       "\n",
       "    .dataframe tbody tr th {\n",
       "        vertical-align: top;\n",
       "    }\n",
       "\n",
       "    .dataframe thead th {\n",
       "        text-align: right;\n",
       "    }\n",
       "</style>\n",
       "<table border=\"1\" class=\"dataframe\">\n",
       "  <thead>\n",
       "    <tr style=\"text-align: right;\">\n",
       "      <th></th>\n",
       "      <th>accession_no</th>\n",
       "      <th>ancient_author</th>\n",
       "      <th>archive</th>\n",
       "      <th>astron_date</th>\n",
       "      <th>ch_name</th>\n",
       "      <th>ch_no</th>\n",
       "      <th>ch_num_name</th>\n",
       "      <th>credits</th>\n",
       "      <th>date</th>\n",
       "      <th>designation</th>\n",
       "      <th>...</th>\n",
       "      <th>ruler</th>\n",
       "      <th>script</th>\n",
       "      <th>script_remarks</th>\n",
       "      <th>script_type</th>\n",
       "      <th>short_title</th>\n",
       "      <th>subgenre</th>\n",
       "      <th>title</th>\n",
       "      <th>trans</th>\n",
       "      <th>vol_title</th>\n",
       "      <th>volume</th>\n",
       "    </tr>\n",
       "  </thead>\n",
       "  <tbody>\n",
       "    <tr>\n",
       "      <td>P224485</td>\n",
       "      <td>NaN</td>\n",
       "      <td>Sargon II</td>\n",
       "      <td>099 - Miscellaneous</td>\n",
       "      <td>NaN</td>\n",
       "      <td>Royal Letters</td>\n",
       "      <td>Ch. 1</td>\n",
       "      <td>Ch. 1 (Royal Letters)</td>\n",
       "      <td>Adapted from Simo Parpola, The Correspondence ...</td>\n",
       "      <td>721-705</td>\n",
       "      <td>SAA 01 001</td>\n",
       "      <td>...</td>\n",
       "      <td>Sargon II</td>\n",
       "      <td>Neo-Assyrian</td>\n",
       "      <td>inscribed</td>\n",
       "      <td>Cuneiform</td>\n",
       "      <td>Sargon Letters 1</td>\n",
       "      <td>NaN</td>\n",
       "      <td>Midas Of Phrygia Seeks Detente</td>\n",
       "      <td>[en]</td>\n",
       "      <td>The Correspondence of Sargon II, Part I: Lette...</td>\n",
       "      <td>SAA 1</td>\n",
       "    </tr>\n",
       "    <tr>\n",
       "      <td>P313416</td>\n",
       "      <td>NaN</td>\n",
       "      <td>Sin-ašared</td>\n",
       "      <td>099 - Miscellaneous</td>\n",
       "      <td>NaN</td>\n",
       "      <td>Miscellaneous Letters</td>\n",
       "      <td>Ch. 7</td>\n",
       "      <td>Ch. 7 (Miscellaneous Letters)</td>\n",
       "      <td>Adapted from Simo Parpola, The Correspondence ...</td>\n",
       "      <td>721-705</td>\n",
       "      <td>SAA 01 158</td>\n",
       "      <td>...</td>\n",
       "      <td>Sargon II</td>\n",
       "      <td>Neo-Assyrian</td>\n",
       "      <td>inscribed</td>\n",
       "      <td>Cuneiform</td>\n",
       "      <td>Sargon Letters 1</td>\n",
       "      <td>NaN</td>\n",
       "      <td>Gold and Silver Objects Sent to the King</td>\n",
       "      <td>[en]</td>\n",
       "      <td>The Correspondence of Sargon II, Part I: Lette...</td>\n",
       "      <td>SAA 1</td>\n",
       "    </tr>\n",
       "    <tr>\n",
       "      <td>P313417</td>\n",
       "      <td>NaN</td>\n",
       "      <td>Mannu-ki-Aššur-le’i</td>\n",
       "      <td>099 - Miscellaneous</td>\n",
       "      <td>NaN</td>\n",
       "      <td>Letters from Guzana and Naṣibina</td>\n",
       "      <td>Ch. 13</td>\n",
       "      <td>Ch. 13 (Letters from Guzana and Naṣibina)</td>\n",
       "      <td>Adapted from Simo Parpola, The Correspondence ...</td>\n",
       "      <td>721-705</td>\n",
       "      <td>SAA 01 233</td>\n",
       "      <td>...</td>\n",
       "      <td>Sargon II</td>\n",
       "      <td>Neo-Assyrian</td>\n",
       "      <td>inscribed</td>\n",
       "      <td>Cuneiform</td>\n",
       "      <td>Sargon Letters 1</td>\n",
       "      <td>NaN</td>\n",
       "      <td>More Land to Bel-duri</td>\n",
       "      <td>[en]</td>\n",
       "      <td>The Correspondence of Sargon II, Part I: Lette...</td>\n",
       "      <td>SAA 1</td>\n",
       "    </tr>\n",
       "    <tr>\n",
       "      <td>P313425</td>\n",
       "      <td>NaN</td>\n",
       "      <td>Bel-liqbi</td>\n",
       "      <td>099 - Miscellaneous</td>\n",
       "      <td>NaN</td>\n",
       "      <td>Letters from Western Provinces</td>\n",
       "      <td>Ch. 8</td>\n",
       "      <td>Ch. 8 (Letters from Western Provinces)</td>\n",
       "      <td>Adapted from Simo Parpola, The Correspondence ...</td>\n",
       "      <td>721-705</td>\n",
       "      <td>SAA 01 179</td>\n",
       "      <td>...</td>\n",
       "      <td>Sargon II</td>\n",
       "      <td>Neo-Assyrian</td>\n",
       "      <td>inscribed</td>\n",
       "      <td>Cuneiform</td>\n",
       "      <td>Sargon Letters 1</td>\n",
       "      <td>NaN</td>\n",
       "      <td>No Iron to the Arabs!</td>\n",
       "      <td>[en]</td>\n",
       "      <td>The Correspondence of Sargon II, Part I: Lette...</td>\n",
       "      <td>SAA 1</td>\n",
       "    </tr>\n",
       "    <tr>\n",
       "      <td>P313427</td>\n",
       "      <td>NaN</td>\n",
       "      <td>Nabu-zer-ketti-lešir</td>\n",
       "      <td>099 - Miscellaneous</td>\n",
       "      <td>NaN</td>\n",
       "      <td>Miscellaneous Letters</td>\n",
       "      <td>Ch. 7</td>\n",
       "      <td>Ch. 7 (Miscellaneous Letters)</td>\n",
       "      <td>Adapted from Simo Parpola, The Correspondence ...</td>\n",
       "      <td>721-705</td>\n",
       "      <td>SAA 01 152</td>\n",
       "      <td>...</td>\n",
       "      <td>Sargon II</td>\n",
       "      <td>Neo-Assyrian</td>\n",
       "      <td>inscribed</td>\n",
       "      <td>Cuneiform</td>\n",
       "      <td>Sargon Letters 1</td>\n",
       "      <td>NaN</td>\n",
       "      <td>The Affair of Gidgidanu and His Brothers</td>\n",
       "      <td>[en]</td>\n",
       "      <td>The Correspondence of Sargon II, Part I: Lette...</td>\n",
       "      <td>SAA 1</td>\n",
       "    </tr>\n",
       "    <tr>\n",
       "      <td>...</td>\n",
       "      <td>...</td>\n",
       "      <td>...</td>\n",
       "      <td>...</td>\n",
       "      <td>...</td>\n",
       "      <td>...</td>\n",
       "      <td>...</td>\n",
       "      <td>...</td>\n",
       "      <td>...</td>\n",
       "      <td>...</td>\n",
       "      <td>...</td>\n",
       "      <td>...</td>\n",
       "      <td>...</td>\n",
       "      <td>...</td>\n",
       "      <td>...</td>\n",
       "      <td>...</td>\n",
       "      <td>...</td>\n",
       "      <td>...</td>\n",
       "      <td>...</td>\n",
       "      <td>...</td>\n",
       "      <td>...</td>\n",
       "      <td>...</td>\n",
       "    </tr>\n",
       "    <tr>\n",
       "      <td>P452805</td>\n",
       "      <td>1883-01-18, 0096</td>\n",
       "      <td>Assurbanipal</td>\n",
       "      <td>099 - Miscellaneous</td>\n",
       "      <td>NaN</td>\n",
       "      <td>Letters to Uruk, Ur, and Kissik</td>\n",
       "      <td>Ch. 2</td>\n",
       "      <td>Ch. 2 (Letters to Uruk, Ur, and Kissik)</td>\n",
       "      <td>Adapted from Simo Parpola, The Correspondence ...</td>\n",
       "      <td>652-648</td>\n",
       "      <td>SAA 21 026</td>\n",
       "      <td>...</td>\n",
       "      <td>Assurbanipal</td>\n",
       "      <td>Neo-Assyrian</td>\n",
       "      <td>inscribed</td>\n",
       "      <td>Cuneiform</td>\n",
       "      <td>Assurbanipal Letters 1</td>\n",
       "      <td>NaN</td>\n",
       "      <td>You Did Well With the Bit-Amukanians</td>\n",
       "      <td>[en]</td>\n",
       "      <td>The Correspondence of Assurbanipal, Part I: Le...</td>\n",
       "      <td>SAA 21</td>\n",
       "    </tr>\n",
       "    <tr>\n",
       "      <td>P452858</td>\n",
       "      <td>1889-04-26 Bu, 0057</td>\n",
       "      <td>Assurbanipal</td>\n",
       "      <td>099 - Miscellaneous</td>\n",
       "      <td>NaN</td>\n",
       "      <td>Letters to Elam</td>\n",
       "      <td>Ch. 5</td>\n",
       "      <td>Ch. 5 (Letters to Elam)</td>\n",
       "      <td>Adapted from Simo Parpola, The Correspondence ...</td>\n",
       "      <td>649-648</td>\n",
       "      <td>SAA 21 068</td>\n",
       "      <td>...</td>\n",
       "      <td>Assurbanipal</td>\n",
       "      <td>Neo-Assyrian</td>\n",
       "      <td>inscribed</td>\n",
       "      <td>Cuneiform</td>\n",
       "      <td>Assurbanipal Letters 1</td>\n",
       "      <td>NaN</td>\n",
       "      <td>Why Did [You] Side with Indabibi?</td>\n",
       "      <td>[en]</td>\n",
       "      <td>The Correspondence of Assurbanipal, Part I: Le...</td>\n",
       "      <td>SAA 21</td>\n",
       "    </tr>\n",
       "    <tr>\n",
       "      <td>P452901</td>\n",
       "      <td>1891-05-09 Bu, 0165</td>\n",
       "      <td>Assurbanipal</td>\n",
       "      <td>099 - Miscellaneous</td>\n",
       "      <td>NaN</td>\n",
       "      <td>Letters to Gambulu and Raši</td>\n",
       "      <td>Ch. 4</td>\n",
       "      <td>Ch. 4 (Letters to Gambulu and Raši)</td>\n",
       "      <td>Adapted from Simo Parpola, The Correspondence ...</td>\n",
       "      <td>646*-XIII-27</td>\n",
       "      <td>SAA 21 057</td>\n",
       "      <td>...</td>\n",
       "      <td>Assurbanipal</td>\n",
       "      <td>Neo-Assyrian</td>\n",
       "      <td>inscribed</td>\n",
       "      <td>Cuneiform</td>\n",
       "      <td>Assurbanipal Letters 1</td>\n",
       "      <td>NaN</td>\n",
       "      <td>Invading Elam (646-XII-27)</td>\n",
       "      <td>[en]</td>\n",
       "      <td>The Correspondence of Assurbanipal, Part I: Le...</td>\n",
       "      <td>SAA 21</td>\n",
       "    </tr>\n",
       "    <tr>\n",
       "      <td>X210106</td>\n",
       "      <td>NaN</td>\n",
       "      <td>Assurbanipal</td>\n",
       "      <td>099 - Miscellaneous</td>\n",
       "      <td>NaN</td>\n",
       "      <td>Letters to Vassal Rulers, and Miscellany</td>\n",
       "      <td>Ch. 6</td>\n",
       "      <td>Ch. 6 (Letters to Vassal Rulers, and Miscellany)</td>\n",
       "      <td>Adapted from Simo Parpola, The Correspondence ...</td>\n",
       "      <td>647*-VI-13</td>\n",
       "      <td>SAA 21 075</td>\n",
       "      <td>...</td>\n",
       "      <td>Assurbanipal</td>\n",
       "      <td>Neo-Assyrian</td>\n",
       "      <td>inscribed</td>\n",
       "      <td>Cuneiform</td>\n",
       "      <td>Assurbanipal Letters 1</td>\n",
       "      <td>NaN</td>\n",
       "      <td>Granting the Kingship of Dilmun (647-VI-13)</td>\n",
       "      <td>[en]</td>\n",
       "      <td>The Correspondence of Assurbanipal, Part I: Le...</td>\n",
       "      <td>SAA 21</td>\n",
       "    </tr>\n",
       "    <tr>\n",
       "      <td>X211891</td>\n",
       "      <td>1891-05-09 Bu, 0057 + 1891-05-09 Bu, 0185</td>\n",
       "      <td>NaN</td>\n",
       "      <td>099 - Miscellaneous</td>\n",
       "      <td>NaN</td>\n",
       "      <td>Varia and Unassigned</td>\n",
       "      <td>Ch. 10</td>\n",
       "      <td>Ch. 10 (Varia and Unassigned)</td>\n",
       "      <td>Adapted from Simo Parpola, The Correspondence ...</td>\n",
       "      <td>NaN</td>\n",
       "      <td>SAA 21 140</td>\n",
       "      <td>...</td>\n",
       "      <td>Assurbanipal</td>\n",
       "      <td>Neo-Assyrian</td>\n",
       "      <td>inscribed</td>\n",
       "      <td>Cuneiform</td>\n",
       "      <td>Assurbanipal Letters 1</td>\n",
       "      <td>NaN</td>\n",
       "      <td>Appeal to Assurbanipal</td>\n",
       "      <td>[en]</td>\n",
       "      <td>The Correspondence of Assurbanipal, Part I: Le...</td>\n",
       "      <td>SAA 21</td>\n",
       "    </tr>\n",
       "  </tbody>\n",
       "</table>\n",
       "<p>5036 rows × 41 columns</p>\n",
       "</div>"
      ],
      "text/plain": [
       "                                      accession_no        ancient_author  \\\n",
       "P224485                                        NaN             Sargon II   \n",
       "P313416                                        NaN            Sin-ašared   \n",
       "P313417                                        NaN   Mannu-ki-Aššur-le’i   \n",
       "P313425                                        NaN             Bel-liqbi   \n",
       "P313427                                        NaN  Nabu-zer-ketti-lešir   \n",
       "...                                            ...                   ...   \n",
       "P452805                           1883-01-18, 0096          Assurbanipal   \n",
       "P452858                        1889-04-26 Bu, 0057          Assurbanipal   \n",
       "P452901                        1891-05-09 Bu, 0165          Assurbanipal   \n",
       "X210106                                        NaN          Assurbanipal   \n",
       "X211891  1891-05-09 Bu, 0057 + 1891-05-09 Bu, 0185                   NaN   \n",
       "\n",
       "                     archive astron_date  \\\n",
       "P224485  099 - Miscellaneous         NaN   \n",
       "P313416  099 - Miscellaneous         NaN   \n",
       "P313417  099 - Miscellaneous         NaN   \n",
       "P313425  099 - Miscellaneous         NaN   \n",
       "P313427  099 - Miscellaneous         NaN   \n",
       "...                      ...         ...   \n",
       "P452805  099 - Miscellaneous         NaN   \n",
       "P452858  099 - Miscellaneous         NaN   \n",
       "P452901  099 - Miscellaneous         NaN   \n",
       "X210106  099 - Miscellaneous         NaN   \n",
       "X211891  099 - Miscellaneous         NaN   \n",
       "\n",
       "                                          ch_name   ch_no  \\\n",
       "P224485                             Royal Letters   Ch. 1   \n",
       "P313416                     Miscellaneous Letters   Ch. 7   \n",
       "P313417          Letters from Guzana and Naṣibina  Ch. 13   \n",
       "P313425            Letters from Western Provinces   Ch. 8   \n",
       "P313427                     Miscellaneous Letters   Ch. 7   \n",
       "...                                           ...     ...   \n",
       "P452805           Letters to Uruk, Ur, and Kissik   Ch. 2   \n",
       "P452858                           Letters to Elam   Ch. 5   \n",
       "P452901               Letters to Gambulu and Raši   Ch. 4   \n",
       "X210106  Letters to Vassal Rulers, and Miscellany   Ch. 6   \n",
       "X211891                      Varia and Unassigned  Ch. 10   \n",
       "\n",
       "                                              ch_num_name  \\\n",
       "P224485                             Ch. 1 (Royal Letters)   \n",
       "P313416                     Ch. 7 (Miscellaneous Letters)   \n",
       "P313417         Ch. 13 (Letters from Guzana and Naṣibina)   \n",
       "P313425            Ch. 8 (Letters from Western Provinces)   \n",
       "P313427                     Ch. 7 (Miscellaneous Letters)   \n",
       "...                                                   ...   \n",
       "P452805           Ch. 2 (Letters to Uruk, Ur, and Kissik)   \n",
       "P452858                           Ch. 5 (Letters to Elam)   \n",
       "P452901               Ch. 4 (Letters to Gambulu and Raši)   \n",
       "X210106  Ch. 6 (Letters to Vassal Rulers, and Miscellany)   \n",
       "X211891                     Ch. 10 (Varia and Unassigned)   \n",
       "\n",
       "                                                   credits          date  \\\n",
       "P224485  Adapted from Simo Parpola, The Correspondence ...       721-705   \n",
       "P313416  Adapted from Simo Parpola, The Correspondence ...       721-705   \n",
       "P313417  Adapted from Simo Parpola, The Correspondence ...       721-705   \n",
       "P313425  Adapted from Simo Parpola, The Correspondence ...       721-705   \n",
       "P313427  Adapted from Simo Parpola, The Correspondence ...       721-705   \n",
       "...                                                    ...           ...   \n",
       "P452805  Adapted from Simo Parpola, The Correspondence ...       652-648   \n",
       "P452858  Adapted from Simo Parpola, The Correspondence ...       649-648   \n",
       "P452901  Adapted from Simo Parpola, The Correspondence ...  646*-XIII-27   \n",
       "X210106  Adapted from Simo Parpola, The Correspondence ...    647*-VI-13   \n",
       "X211891  Adapted from Simo Parpola, The Correspondence ...           NaN   \n",
       "\n",
       "        designation  ...         ruler        script script_remarks  \\\n",
       "P224485  SAA 01 001  ...     Sargon II  Neo-Assyrian      inscribed   \n",
       "P313416  SAA 01 158  ...     Sargon II  Neo-Assyrian      inscribed   \n",
       "P313417  SAA 01 233  ...     Sargon II  Neo-Assyrian      inscribed   \n",
       "P313425  SAA 01 179  ...     Sargon II  Neo-Assyrian      inscribed   \n",
       "P313427  SAA 01 152  ...     Sargon II  Neo-Assyrian      inscribed   \n",
       "...             ...  ...           ...           ...            ...   \n",
       "P452805  SAA 21 026  ...  Assurbanipal  Neo-Assyrian      inscribed   \n",
       "P452858  SAA 21 068  ...  Assurbanipal  Neo-Assyrian      inscribed   \n",
       "P452901  SAA 21 057  ...  Assurbanipal  Neo-Assyrian      inscribed   \n",
       "X210106  SAA 21 075  ...  Assurbanipal  Neo-Assyrian      inscribed   \n",
       "X211891  SAA 21 140  ...  Assurbanipal  Neo-Assyrian      inscribed   \n",
       "\n",
       "        script_type             short_title subgenre  \\\n",
       "P224485   Cuneiform        Sargon Letters 1      NaN   \n",
       "P313416   Cuneiform        Sargon Letters 1      NaN   \n",
       "P313417   Cuneiform        Sargon Letters 1      NaN   \n",
       "P313425   Cuneiform        Sargon Letters 1      NaN   \n",
       "P313427   Cuneiform        Sargon Letters 1      NaN   \n",
       "...             ...                     ...      ...   \n",
       "P452805   Cuneiform  Assurbanipal Letters 1      NaN   \n",
       "P452858   Cuneiform  Assurbanipal Letters 1      NaN   \n",
       "P452901   Cuneiform  Assurbanipal Letters 1      NaN   \n",
       "X210106   Cuneiform  Assurbanipal Letters 1      NaN   \n",
       "X211891   Cuneiform  Assurbanipal Letters 1      NaN   \n",
       "\n",
       "                                               title trans  \\\n",
       "P224485               Midas Of Phrygia Seeks Detente  [en]   \n",
       "P313416     Gold and Silver Objects Sent to the King  [en]   \n",
       "P313417                        More Land to Bel-duri  [en]   \n",
       "P313425                        No Iron to the Arabs!  [en]   \n",
       "P313427     The Affair of Gidgidanu and His Brothers  [en]   \n",
       "...                                              ...   ...   \n",
       "P452805         You Did Well With the Bit-Amukanians  [en]   \n",
       "P452858            Why Did [You] Side with Indabibi?  [en]   \n",
       "P452901                   Invading Elam (646-XII-27)  [en]   \n",
       "X210106  Granting the Kingship of Dilmun (647-VI-13)  [en]   \n",
       "X211891                       Appeal to Assurbanipal  [en]   \n",
       "\n",
       "                                                 vol_title  volume  \n",
       "P224485  The Correspondence of Sargon II, Part I: Lette...   SAA 1  \n",
       "P313416  The Correspondence of Sargon II, Part I: Lette...   SAA 1  \n",
       "P313417  The Correspondence of Sargon II, Part I: Lette...   SAA 1  \n",
       "P313425  The Correspondence of Sargon II, Part I: Lette...   SAA 1  \n",
       "P313427  The Correspondence of Sargon II, Part I: Lette...   SAA 1  \n",
       "...                                                    ...     ...  \n",
       "P452805  The Correspondence of Assurbanipal, Part I: Le...  SAA 21  \n",
       "P452858  The Correspondence of Assurbanipal, Part I: Le...  SAA 21  \n",
       "P452901  The Correspondence of Assurbanipal, Part I: Le...  SAA 21  \n",
       "X210106  The Correspondence of Assurbanipal, Part I: Le...  SAA 21  \n",
       "X211891  The Correspondence of Assurbanipal, Part I: Le...  SAA 21  \n",
       "\n",
       "[5036 rows x 41 columns]"
      ]
     },
     "execution_count": 10,
     "metadata": {},
     "output_type": "execute_result"
    }
   ],
   "source": [
    "df = pd.DataFrame() # create an empty dataframe\n",
    "p = projects.split(',')\n",
    "p = [pro.lower().strip() for pro in p]\n",
    "for project in p:\n",
    "    file = \"jsonzip/\" + project.replace(\"/\", \"-\") + \".zip\"\n",
    "    try:\n",
    "        z = zipfile.ZipFile(file)       # create a Zipfile object\n",
    "    except:\n",
    "        print(file + \" does not exist or is not a proper ZIP file\")\n",
    "        continue\n",
    "    try:\n",
    "        st = z.read(project + '/catalogue.json').decode('utf-8')  #read and decode the catalogue.json file of one project\n",
    "                                                                # the result is a string object\n",
    "    except:\n",
    "        print(project + '/catalogue.json' + ' is not available or not complete')\n",
    "        continue\n",
    "    cat = json.loads(st)\n",
    "    cat = cat['members']  # select the 'members' node \n",
    "    for item in cat.values():\n",
    "        item[\"project\"] = project # add project name as separate field\n",
    "    cat_df = pd.DataFrame(cat).T\n",
    "    df = pd.concat([df, cat_df], sort=True)  # sort=True is necessary in case catalogs have a different sets of fields\n",
    "df"
   ]
  },
  {
   "cell_type": "markdown",
   "metadata": {},
   "source": [
    "# For SAAo only: The 'title' field\n",
    "[ORACC](http://oracc.org) projects may have a variety of fields - only the fields 'id_text' and 'designation' are obligatory. The content of the field 'designation' is usually an abbreviation for a text publication plus a text number (as in MVN 12 14)', indicating where the original cuneiform text may be found (in some cases 'designation' may also be a museum number). For analyzing a topic model 'designation' is not a very helpful field. \n",
    "\n",
    "The [SAAo](http://oracc.org/saao) catalogues include a field 'title' that provides a brief, somewhat impressionistic, summary of the text in question such as 'Transporting logs and hauling a threshold stone'. We will copy this field to the field 'designation' so that it is available to the analysis of the topic model in the Bokeh visualization (section 5.3). This cell may be skipped if you include data from any other [ORACC](http://oracc.org) project."
   ]
  },
  {
   "cell_type": "code",
   "execution_count": 11,
   "metadata": {},
   "outputs": [],
   "source": [
    "if 'title' in df.columns:\n",
    "    df['designation'] = df['title']"
   ]
  },
  {
   "cell_type": "markdown",
   "metadata": {},
   "source": [
    "# Merge Catalog and Text Data"
   ]
  },
  {
   "cell_type": "code",
   "execution_count": 12,
   "metadata": {
    "collapsed": false,
    "jupyter": {
     "outputs_hidden": false
    }
   },
   "outputs": [
    {
     "data": {
      "text/html": [
       "<div>\n",
       "<style scoped>\n",
       "    .dataframe tbody tr th:only-of-type {\n",
       "        vertical-align: middle;\n",
       "    }\n",
       "\n",
       "    .dataframe tbody tr th {\n",
       "        vertical-align: top;\n",
       "    }\n",
       "\n",
       "    .dataframe thead th {\n",
       "        text-align: right;\n",
       "    }\n",
       "</style>\n",
       "<table border=\"1\" class=\"dataframe\">\n",
       "  <thead>\n",
       "    <tr style=\"text-align: right;\">\n",
       "      <th></th>\n",
       "      <th>designation</th>\n",
       "      <th>id_text</th>\n",
       "      <th>lemma</th>\n",
       "    </tr>\n",
       "  </thead>\n",
       "  <tbody>\n",
       "    <tr>\n",
       "      <td>P224378</td>\n",
       "      <td>Take Over the Kingship!</td>\n",
       "      <td>saao/saa19/P224378</td>\n",
       "      <td>[ardu[slave]n, ana[to]prp, dinānu[substitution...</td>\n",
       "    </tr>\n",
       "    <tr>\n",
       "      <td>P224379</td>\n",
       "      <td>Banquet</td>\n",
       "      <td>saao/saa19/P224379</td>\n",
       "      <td>[ana[to]prp, šarru[king]n, bēlu[lord]n, ardu[s...</td>\n",
       "    </tr>\n",
       "    <tr>\n",
       "      <td>P224380</td>\n",
       "      <td>Business with Kummeans</td>\n",
       "      <td>saao/saa19/P224380</td>\n",
       "      <td>[ana[to]prp, šarru[king]n, bēlu[lord]n, ardu[s...</td>\n",
       "    </tr>\n",
       "    <tr>\n",
       "      <td>P224381</td>\n",
       "      <td>I Shall Keep my Watch</td>\n",
       "      <td>saao/saa19/P224381</td>\n",
       "      <td>[ana[to]prp, šarru[king]n, bēlu[lord]n, ardu[s...</td>\n",
       "    </tr>\n",
       "    <tr>\n",
       "      <td>P224382</td>\n",
       "      <td>Family Affairs</td>\n",
       "      <td>saao/saa19/P224382</td>\n",
       "      <td>[ṭuppu[tablet]n, data[1]pn, ana[to]prp, šumu-i...</td>\n",
       "    </tr>\n",
       "  </tbody>\n",
       "</table>\n",
       "</div>"
      ],
      "text/plain": [
       "                     designation             id_text  \\\n",
       "P224378  Take Over the Kingship!  saao/saa19/P224378   \n",
       "P224379                  Banquet  saao/saa19/P224379   \n",
       "P224380   Business with Kummeans  saao/saa19/P224380   \n",
       "P224381    I Shall Keep my Watch  saao/saa19/P224381   \n",
       "P224382           Family Affairs  saao/saa19/P224382   \n",
       "\n",
       "                                                     lemma  \n",
       "P224378  [ardu[slave]n, ana[to]prp, dinānu[substitution...  \n",
       "P224379  [ana[to]prp, šarru[king]n, bēlu[lord]n, ardu[s...  \n",
       "P224380  [ana[to]prp, šarru[king]n, bēlu[lord]n, ardu[s...  \n",
       "P224381  [ana[to]prp, šarru[king]n, bēlu[lord]n, ardu[s...  \n",
       "P224382  [ṭuppu[tablet]n, data[1]pn, ana[to]prp, šumu-i...  "
      ]
     },
     "execution_count": 12,
     "metadata": {},
     "output_type": "execute_result"
    }
   ],
   "source": [
    "df = df['designation']\n",
    "df = pd.merge(df, docs_df, right_index=True, left_index=True, how='inner')\n",
    "df.head()"
   ]
  },
  {
   "cell_type": "markdown",
   "metadata": {},
   "source": [
    "# Pickle"
   ]
  },
  {
   "cell_type": "code",
   "execution_count": 13,
   "metadata": {},
   "outputs": [],
   "source": [
    "pickled = 'output/data_for_topic_model.p'\n",
    "df.to_pickle(pickled)"
   ]
  },
  {
   "cell_type": "code",
   "execution_count": null,
   "metadata": {},
   "outputs": [],
   "source": []
  }
 ],
 "metadata": {
  "kernelspec": {
   "display_name": "Python 3",
   "language": "python",
   "name": "python3"
  },
  "language_info": {
   "codemirror_mode": {
    "name": "ipython",
    "version": 3
   },
   "file_extension": ".py",
   "mimetype": "text/x-python",
   "name": "python",
   "nbconvert_exporter": "python",
   "pygments_lexer": "ipython3",
   "version": "3.7.4"
  }
 },
 "nbformat": 4,
 "nbformat_minor": 4
}
