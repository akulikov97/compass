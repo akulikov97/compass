{
 "cells": [
  {
   "cell_type": "code",
   "execution_count": 2,
   "metadata": {},
   "outputs": [
    {
     "data": {
      "text/html": [
       "\n",
       "    <div class=\"bk-root\">\n",
       "        <a href=\"https://bokeh.pydata.org\" target=\"_blank\" class=\"bk-logo bk-logo-small bk-logo-notebook\"></a>\n",
       "        <span id=\"1001\">Loading BokehJS ...</span>\n",
       "    </div>"
      ]
     },
     "metadata": {},
     "output_type": "display_data"
    },
    {
     "data": {
      "application/javascript": [
       "\n",
       "(function(root) {\n",
       "  function now() {\n",
       "    return new Date();\n",
       "  }\n",
       "\n",
       "  var force = true;\n",
       "\n",
       "  if (typeof (root._bokeh_onload_callbacks) === \"undefined\" || force === true) {\n",
       "    root._bokeh_onload_callbacks = [];\n",
       "    root._bokeh_is_loading = undefined;\n",
       "  }\n",
       "\n",
       "  var JS_MIME_TYPE = 'application/javascript';\n",
       "  var HTML_MIME_TYPE = 'text/html';\n",
       "  var EXEC_MIME_TYPE = 'application/vnd.bokehjs_exec.v0+json';\n",
       "  var CLASS_NAME = 'output_bokeh rendered_html';\n",
       "\n",
       "  /**\n",
       "   * Render data to the DOM node\n",
       "   */\n",
       "  function render(props, node) {\n",
       "    var script = document.createElement(\"script\");\n",
       "    node.appendChild(script);\n",
       "  }\n",
       "\n",
       "  /**\n",
       "   * Handle when an output is cleared or removed\n",
       "   */\n",
       "  function handleClearOutput(event, handle) {\n",
       "    var cell = handle.cell;\n",
       "\n",
       "    var id = cell.output_area._bokeh_element_id;\n",
       "    var server_id = cell.output_area._bokeh_server_id;\n",
       "    // Clean up Bokeh references\n",
       "    if (id != null && id in Bokeh.index) {\n",
       "      Bokeh.index[id].model.document.clear();\n",
       "      delete Bokeh.index[id];\n",
       "    }\n",
       "\n",
       "    if (server_id !== undefined) {\n",
       "      // Clean up Bokeh references\n",
       "      var cmd = \"from bokeh.io.state import curstate; print(curstate().uuid_to_server['\" + server_id + \"'].get_sessions()[0].document.roots[0]._id)\";\n",
       "      cell.notebook.kernel.execute(cmd, {\n",
       "        iopub: {\n",
       "          output: function(msg) {\n",
       "            var id = msg.content.text.trim();\n",
       "            if (id in Bokeh.index) {\n",
       "              Bokeh.index[id].model.document.clear();\n",
       "              delete Bokeh.index[id];\n",
       "            }\n",
       "          }\n",
       "        }\n",
       "      });\n",
       "      // Destroy server and session\n",
       "      var cmd = \"import bokeh.io.notebook as ion; ion.destroy_server('\" + server_id + \"')\";\n",
       "      cell.notebook.kernel.execute(cmd);\n",
       "    }\n",
       "  }\n",
       "\n",
       "  /**\n",
       "   * Handle when a new output is added\n",
       "   */\n",
       "  function handleAddOutput(event, handle) {\n",
       "    var output_area = handle.output_area;\n",
       "    var output = handle.output;\n",
       "\n",
       "    // limit handleAddOutput to display_data with EXEC_MIME_TYPE content only\n",
       "    if ((output.output_type != \"display_data\") || (!output.data.hasOwnProperty(EXEC_MIME_TYPE))) {\n",
       "      return\n",
       "    }\n",
       "\n",
       "    var toinsert = output_area.element.find(\".\" + CLASS_NAME.split(' ')[0]);\n",
       "\n",
       "    if (output.metadata[EXEC_MIME_TYPE][\"id\"] !== undefined) {\n",
       "      toinsert[toinsert.length - 1].firstChild.textContent = output.data[JS_MIME_TYPE];\n",
       "      // store reference to embed id on output_area\n",
       "      output_area._bokeh_element_id = output.metadata[EXEC_MIME_TYPE][\"id\"];\n",
       "    }\n",
       "    if (output.metadata[EXEC_MIME_TYPE][\"server_id\"] !== undefined) {\n",
       "      var bk_div = document.createElement(\"div\");\n",
       "      bk_div.innerHTML = output.data[HTML_MIME_TYPE];\n",
       "      var script_attrs = bk_div.children[0].attributes;\n",
       "      for (var i = 0; i < script_attrs.length; i++) {\n",
       "        toinsert[toinsert.length - 1].firstChild.setAttribute(script_attrs[i].name, script_attrs[i].value);\n",
       "      }\n",
       "      // store reference to server id on output_area\n",
       "      output_area._bokeh_server_id = output.metadata[EXEC_MIME_TYPE][\"server_id\"];\n",
       "    }\n",
       "  }\n",
       "\n",
       "  function register_renderer(events, OutputArea) {\n",
       "\n",
       "    function append_mime(data, metadata, element) {\n",
       "      // create a DOM node to render to\n",
       "      var toinsert = this.create_output_subarea(\n",
       "        metadata,\n",
       "        CLASS_NAME,\n",
       "        EXEC_MIME_TYPE\n",
       "      );\n",
       "      this.keyboard_manager.register_events(toinsert);\n",
       "      // Render to node\n",
       "      var props = {data: data, metadata: metadata[EXEC_MIME_TYPE]};\n",
       "      render(props, toinsert[toinsert.length - 1]);\n",
       "      element.append(toinsert);\n",
       "      return toinsert\n",
       "    }\n",
       "\n",
       "    /* Handle when an output is cleared or removed */\n",
       "    events.on('clear_output.CodeCell', handleClearOutput);\n",
       "    events.on('delete.Cell', handleClearOutput);\n",
       "\n",
       "    /* Handle when a new output is added */\n",
       "    events.on('output_added.OutputArea', handleAddOutput);\n",
       "\n",
       "    /**\n",
       "     * Register the mime type and append_mime function with output_area\n",
       "     */\n",
       "    OutputArea.prototype.register_mime_type(EXEC_MIME_TYPE, append_mime, {\n",
       "      /* Is output safe? */\n",
       "      safe: true,\n",
       "      /* Index of renderer in `output_area.display_order` */\n",
       "      index: 0\n",
       "    });\n",
       "  }\n",
       "\n",
       "  // register the mime type if in Jupyter Notebook environment and previously unregistered\n",
       "  if (root.Jupyter !== undefined) {\n",
       "    var events = require('base/js/events');\n",
       "    var OutputArea = require('notebook/js/outputarea').OutputArea;\n",
       "\n",
       "    if (OutputArea.prototype.mime_types().indexOf(EXEC_MIME_TYPE) == -1) {\n",
       "      register_renderer(events, OutputArea);\n",
       "    }\n",
       "  }\n",
       "\n",
       "  \n",
       "  if (typeof (root._bokeh_timeout) === \"undefined\" || force === true) {\n",
       "    root._bokeh_timeout = Date.now() + 5000;\n",
       "    root._bokeh_failed_load = false;\n",
       "  }\n",
       "\n",
       "  var NB_LOAD_WARNING = {'data': {'text/html':\n",
       "     \"<div style='background-color: #fdd'>\\n\"+\n",
       "     \"<p>\\n\"+\n",
       "     \"BokehJS does not appear to have successfully loaded. If loading BokehJS from CDN, this \\n\"+\n",
       "     \"may be due to a slow or bad network connection. Possible fixes:\\n\"+\n",
       "     \"</p>\\n\"+\n",
       "     \"<ul>\\n\"+\n",
       "     \"<li>re-rerun `output_notebook()` to attempt to load from CDN again, or</li>\\n\"+\n",
       "     \"<li>use INLINE resources instead, as so:</li>\\n\"+\n",
       "     \"</ul>\\n\"+\n",
       "     \"<code>\\n\"+\n",
       "     \"from bokeh.resources import INLINE\\n\"+\n",
       "     \"output_notebook(resources=INLINE)\\n\"+\n",
       "     \"</code>\\n\"+\n",
       "     \"</div>\"}};\n",
       "\n",
       "  function display_loaded() {\n",
       "    var el = document.getElementById(\"1001\");\n",
       "    if (el != null) {\n",
       "      el.textContent = \"BokehJS is loading...\";\n",
       "    }\n",
       "    if (root.Bokeh !== undefined) {\n",
       "      if (el != null) {\n",
       "        el.textContent = \"BokehJS \" + root.Bokeh.version + \" successfully loaded.\";\n",
       "      }\n",
       "    } else if (Date.now() < root._bokeh_timeout) {\n",
       "      setTimeout(display_loaded, 100)\n",
       "    }\n",
       "  }\n",
       "\n",
       "\n",
       "  function run_callbacks() {\n",
       "    try {\n",
       "      root._bokeh_onload_callbacks.forEach(function(callback) { callback() });\n",
       "    }\n",
       "    finally {\n",
       "      delete root._bokeh_onload_callbacks\n",
       "    }\n",
       "    console.info(\"Bokeh: all callbacks have finished\");\n",
       "  }\n",
       "\n",
       "  function load_libs(js_urls, callback) {\n",
       "    root._bokeh_onload_callbacks.push(callback);\n",
       "    if (root._bokeh_is_loading > 0) {\n",
       "      console.log(\"Bokeh: BokehJS is being loaded, scheduling callback at\", now());\n",
       "      return null;\n",
       "    }\n",
       "    if (js_urls == null || js_urls.length === 0) {\n",
       "      run_callbacks();\n",
       "      return null;\n",
       "    }\n",
       "    console.log(\"Bokeh: BokehJS not loaded, scheduling load and callback at\", now());\n",
       "    root._bokeh_is_loading = js_urls.length;\n",
       "    for (var i = 0; i < js_urls.length; i++) {\n",
       "      var url = js_urls[i];\n",
       "      var s = document.createElement('script');\n",
       "      s.src = url;\n",
       "      s.async = false;\n",
       "      s.onreadystatechange = s.onload = function() {\n",
       "        root._bokeh_is_loading--;\n",
       "        if (root._bokeh_is_loading === 0) {\n",
       "          console.log(\"Bokeh: all BokehJS libraries loaded\");\n",
       "          run_callbacks()\n",
       "        }\n",
       "      };\n",
       "      s.onerror = function() {\n",
       "        console.warn(\"failed to load library \" + url);\n",
       "      };\n",
       "      console.log(\"Bokeh: injecting script tag for BokehJS library: \", url);\n",
       "      document.getElementsByTagName(\"head\")[0].appendChild(s);\n",
       "    }\n",
       "  };var element = document.getElementById(\"1001\");\n",
       "  if (element == null) {\n",
       "    console.log(\"Bokeh: ERROR: autoload.js configured with elementid '1001' but no matching script tag was found. \")\n",
       "    return false;\n",
       "  }\n",
       "\n",
       "  var js_urls = [\"https://cdn.pydata.org/bokeh/release/bokeh-1.0.1.min.js\", \"https://cdn.pydata.org/bokeh/release/bokeh-widgets-1.0.1.min.js\", \"https://cdn.pydata.org/bokeh/release/bokeh-tables-1.0.1.min.js\", \"https://cdn.pydata.org/bokeh/release/bokeh-gl-1.0.1.min.js\"];\n",
       "\n",
       "  var inline_js = [\n",
       "    function(Bokeh) {\n",
       "      Bokeh.set_log_level(\"info\");\n",
       "    },\n",
       "    \n",
       "    function(Bokeh) {\n",
       "      \n",
       "    },\n",
       "    function(Bokeh) {\n",
       "      console.log(\"Bokeh: injecting CSS: https://cdn.pydata.org/bokeh/release/bokeh-1.0.1.min.css\");\n",
       "      Bokeh.embed.inject_css(\"https://cdn.pydata.org/bokeh/release/bokeh-1.0.1.min.css\");\n",
       "      console.log(\"Bokeh: injecting CSS: https://cdn.pydata.org/bokeh/release/bokeh-widgets-1.0.1.min.css\");\n",
       "      Bokeh.embed.inject_css(\"https://cdn.pydata.org/bokeh/release/bokeh-widgets-1.0.1.min.css\");\n",
       "      console.log(\"Bokeh: injecting CSS: https://cdn.pydata.org/bokeh/release/bokeh-tables-1.0.1.min.css\");\n",
       "      Bokeh.embed.inject_css(\"https://cdn.pydata.org/bokeh/release/bokeh-tables-1.0.1.min.css\");\n",
       "    }\n",
       "  ];\n",
       "\n",
       "  function run_inline_js() {\n",
       "    \n",
       "    if ((root.Bokeh !== undefined) || (force === true)) {\n",
       "      for (var i = 0; i < inline_js.length; i++) {\n",
       "        inline_js[i].call(root, root.Bokeh);\n",
       "      }if (force === true) {\n",
       "        display_loaded();\n",
       "      }} else if (Date.now() < root._bokeh_timeout) {\n",
       "      setTimeout(run_inline_js, 100);\n",
       "    } else if (!root._bokeh_failed_load) {\n",
       "      console.log(\"Bokeh: BokehJS failed to load within specified timeout.\");\n",
       "      root._bokeh_failed_load = true;\n",
       "    } else if (force !== true) {\n",
       "      var cell = $(document.getElementById(\"1001\")).parents('.cell').data().cell;\n",
       "      cell.output_area.append_execute_result(NB_LOAD_WARNING)\n",
       "    }\n",
       "\n",
       "  }\n",
       "\n",
       "  if (root._bokeh_is_loading === 0) {\n",
       "    console.log(\"Bokeh: BokehJS loaded, going straight to plotting\");\n",
       "    run_inline_js();\n",
       "  } else {\n",
       "    load_libs(js_urls, function() {\n",
       "      console.log(\"Bokeh: BokehJS plotting callback run at\", now());\n",
       "      run_inline_js();\n",
       "    });\n",
       "  }\n",
       "}(window));"
      ],
      "application/vnd.bokehjs_load.v0+json": "\n(function(root) {\n  function now() {\n    return new Date();\n  }\n\n  var force = true;\n\n  if (typeof (root._bokeh_onload_callbacks) === \"undefined\" || force === true) {\n    root._bokeh_onload_callbacks = [];\n    root._bokeh_is_loading = undefined;\n  }\n\n  \n\n  \n  if (typeof (root._bokeh_timeout) === \"undefined\" || force === true) {\n    root._bokeh_timeout = Date.now() + 5000;\n    root._bokeh_failed_load = false;\n  }\n\n  var NB_LOAD_WARNING = {'data': {'text/html':\n     \"<div style='background-color: #fdd'>\\n\"+\n     \"<p>\\n\"+\n     \"BokehJS does not appear to have successfully loaded. If loading BokehJS from CDN, this \\n\"+\n     \"may be due to a slow or bad network connection. Possible fixes:\\n\"+\n     \"</p>\\n\"+\n     \"<ul>\\n\"+\n     \"<li>re-rerun `output_notebook()` to attempt to load from CDN again, or</li>\\n\"+\n     \"<li>use INLINE resources instead, as so:</li>\\n\"+\n     \"</ul>\\n\"+\n     \"<code>\\n\"+\n     \"from bokeh.resources import INLINE\\n\"+\n     \"output_notebook(resources=INLINE)\\n\"+\n     \"</code>\\n\"+\n     \"</div>\"}};\n\n  function display_loaded() {\n    var el = document.getElementById(\"1001\");\n    if (el != null) {\n      el.textContent = \"BokehJS is loading...\";\n    }\n    if (root.Bokeh !== undefined) {\n      if (el != null) {\n        el.textContent = \"BokehJS \" + root.Bokeh.version + \" successfully loaded.\";\n      }\n    } else if (Date.now() < root._bokeh_timeout) {\n      setTimeout(display_loaded, 100)\n    }\n  }\n\n\n  function run_callbacks() {\n    try {\n      root._bokeh_onload_callbacks.forEach(function(callback) { callback() });\n    }\n    finally {\n      delete root._bokeh_onload_callbacks\n    }\n    console.info(\"Bokeh: all callbacks have finished\");\n  }\n\n  function load_libs(js_urls, callback) {\n    root._bokeh_onload_callbacks.push(callback);\n    if (root._bokeh_is_loading > 0) {\n      console.log(\"Bokeh: BokehJS is being loaded, scheduling callback at\", now());\n      return null;\n    }\n    if (js_urls == null || js_urls.length === 0) {\n      run_callbacks();\n      return null;\n    }\n    console.log(\"Bokeh: BokehJS not loaded, scheduling load and callback at\", now());\n    root._bokeh_is_loading = js_urls.length;\n    for (var i = 0; i < js_urls.length; i++) {\n      var url = js_urls[i];\n      var s = document.createElement('script');\n      s.src = url;\n      s.async = false;\n      s.onreadystatechange = s.onload = function() {\n        root._bokeh_is_loading--;\n        if (root._bokeh_is_loading === 0) {\n          console.log(\"Bokeh: all BokehJS libraries loaded\");\n          run_callbacks()\n        }\n      };\n      s.onerror = function() {\n        console.warn(\"failed to load library \" + url);\n      };\n      console.log(\"Bokeh: injecting script tag for BokehJS library: \", url);\n      document.getElementsByTagName(\"head\")[0].appendChild(s);\n    }\n  };var element = document.getElementById(\"1001\");\n  if (element == null) {\n    console.log(\"Bokeh: ERROR: autoload.js configured with elementid '1001' but no matching script tag was found. \")\n    return false;\n  }\n\n  var js_urls = [\"https://cdn.pydata.org/bokeh/release/bokeh-1.0.1.min.js\", \"https://cdn.pydata.org/bokeh/release/bokeh-widgets-1.0.1.min.js\", \"https://cdn.pydata.org/bokeh/release/bokeh-tables-1.0.1.min.js\", \"https://cdn.pydata.org/bokeh/release/bokeh-gl-1.0.1.min.js\"];\n\n  var inline_js = [\n    function(Bokeh) {\n      Bokeh.set_log_level(\"info\");\n    },\n    \n    function(Bokeh) {\n      \n    },\n    function(Bokeh) {\n      console.log(\"Bokeh: injecting CSS: https://cdn.pydata.org/bokeh/release/bokeh-1.0.1.min.css\");\n      Bokeh.embed.inject_css(\"https://cdn.pydata.org/bokeh/release/bokeh-1.0.1.min.css\");\n      console.log(\"Bokeh: injecting CSS: https://cdn.pydata.org/bokeh/release/bokeh-widgets-1.0.1.min.css\");\n      Bokeh.embed.inject_css(\"https://cdn.pydata.org/bokeh/release/bokeh-widgets-1.0.1.min.css\");\n      console.log(\"Bokeh: injecting CSS: https://cdn.pydata.org/bokeh/release/bokeh-tables-1.0.1.min.css\");\n      Bokeh.embed.inject_css(\"https://cdn.pydata.org/bokeh/release/bokeh-tables-1.0.1.min.css\");\n    }\n  ];\n\n  function run_inline_js() {\n    \n    if ((root.Bokeh !== undefined) || (force === true)) {\n      for (var i = 0; i < inline_js.length; i++) {\n        inline_js[i].call(root, root.Bokeh);\n      }if (force === true) {\n        display_loaded();\n      }} else if (Date.now() < root._bokeh_timeout) {\n      setTimeout(run_inline_js, 100);\n    } else if (!root._bokeh_failed_load) {\n      console.log(\"Bokeh: BokehJS failed to load within specified timeout.\");\n      root._bokeh_failed_load = true;\n    } else if (force !== true) {\n      var cell = $(document.getElementById(\"1001\")).parents('.cell').data().cell;\n      cell.output_area.append_execute_result(NB_LOAD_WARNING)\n    }\n\n  }\n\n  if (root._bokeh_is_loading === 0) {\n    console.log(\"Bokeh: BokehJS loaded, going straight to plotting\");\n    run_inline_js();\n  } else {\n    load_libs(js_urls, function() {\n      console.log(\"Bokeh: BokehJS plotting callback run at\", now());\n      run_inline_js();\n    });\n  }\n}(window));"
     },
     "metadata": {},
     "output_type": "display_data"
    }
   ],
   "source": [
    "import os\n",
    "import gensim\n",
    "import warnings\n",
    "import pickle\n",
    "import numpy as np\n",
    "import pandas as pd\n",
    "from sklearn.feature_extraction.text import CountVectorizer, TfidfVectorizer\n",
    "from sklearn.manifold import MDS, TSNE\n",
    "from scipy.spatial.distance import pdist, squareform\n",
    "import pyLDAvis.gensim\n",
    "from bokeh.models import ColumnDataSource, OpenURL, TapTool, HoverTool, CustomJS, Title\n",
    "from bokeh.models.widgets import Slider\n",
    "from bokeh.plotting import figure, output_file, output_notebook, save, show, reset_output\n",
    "from bokeh.layouts import widgetbox, column\n",
    "output_notebook()"
   ]
  },
  {
   "cell_type": "code",
   "execution_count": 3,
   "metadata": {},
   "outputs": [],
   "source": [
    "ldamodel = gensim.models.ldamodel.LdaModel.load('output/ldasaved')\n",
    "dictionary = gensim.corpora.Dictionary.load('output/ldadict')\n",
    "corpus = gensim.corpora.MmCorpus('output/ldacorpus')"
   ]
  },
  {
   "cell_type": "markdown",
   "metadata": {},
   "source": [
    "# Get the Model\n"
   ]
  },
  {
   "cell_type": "code",
   "execution_count": 4,
   "metadata": {
    "collapsed": false,
    "jupyter": {
     "outputs_hidden": false
    }
   },
   "outputs": [],
   "source": [
    "with open('output/topic_model.p', 'rb') as r:\n",
    "    topic_model = pickle.load(r)"
   ]
  },
  {
   "cell_type": "code",
   "execution_count": 5,
   "metadata": {
    "collapsed": false,
    "jupyter": {
     "outputs_hidden": false
    }
   },
   "outputs": [
    {
     "data": {
      "text/plain": [
       "[(0,\n",
       "  [('qû[unit]n', 0.053382657),\n",
       "   ('karānu[vine]n', 0.031626757),\n",
       "   ('šikaru[beer]n', 0.030481339),\n",
       "   ('šamnu[oil]n', 0.02594168),\n",
       "   ('kusāpu[bread]n', 0.025353106),\n",
       "   ('zamāru[sing]v', 0.021011204),\n",
       "   ('dišpu[honey]n', 0.018200744),\n",
       "   ('naqû[pour-(a-libation)]v', 0.017905407),\n",
       "   ('immeru[sheep]n', 0.017024096),\n",
       "   ('kaptukkû[two-sūtu-container]n', 0.013798216)]),\n",
       " (1,\n",
       "  [('rabû[big]aj', 0.02772635),\n",
       "   ('abu[father]n', 0.021949498),\n",
       "   ('ilu[god]n', 0.021935958),\n",
       "   ('ahu[brother]n', 0.020562295),\n",
       "   ('adû[(treaty-)oath]n', 0.015737671),\n",
       "   ('ridûtu[appropriation]n', 0.01515395),\n",
       "   ('šarrūtu[kingship]n', 0.012755803),\n",
       "   ('ṣabātu[seize]v', 0.012666813),\n",
       "   ('ṭuppu[tablet]n', 0.012434676),\n",
       "   ('antalû[eclipse]n', 0.0123058995)]),\n",
       " (2,\n",
       "  [('šību[witness]n', 0.15905823),\n",
       "   ('manû[unit]n', 0.046707977),\n",
       "   ('ṣarpu[silver]n', 0.036156394),\n",
       "   ('eqlu[field]n', 0.03523169),\n",
       "   ('dīnu[legal-decision]n', 0.026832364),\n",
       "   ('dabābu[speak]v', 0.025840912),\n",
       "   ('imēru[unit]n', 0.022776565),\n",
       "   ('rabû[big-one]n', 0.022477102),\n",
       "   ('nišu[people]n', 0.020923903),\n",
       "   ('kaspu[silver]n', 0.020464316)]),\n",
       " (3,\n",
       "  [('sisû[horse]n', 0.05560765),\n",
       "   ('ilu[god]n', 0.029495735),\n",
       "   ('nasāhu[tear-out]v', 0.020779395),\n",
       "   ('karāru[put-(down)]v', 0.02022343),\n",
       "   ('qātu[hand]n', 0.020173818),\n",
       "   ('šangû[priest]n', 0.017447028),\n",
       "   ('nīqu[offering]n', 0.01602036),\n",
       "   ('etēqu[proceed]v', 0.015823444),\n",
       "   ('ašābu[sit-(down)]v', 0.015689649),\n",
       "   ('qerēbu[approach]v', 0.014869179)]),\n",
       " (4,\n",
       "  [('ṣābu[people]n', 0.030471846),\n",
       "   ('ṭēmu[(fore)thought]n', 0.024270274),\n",
       "   ('wadû[know]v', 0.02272635),\n",
       "   ('ālu[city]n', 0.019785646),\n",
       "   ('dullu[trouble]n', 0.018912297),\n",
       "   ('qātu[hand]n', 0.018063325),\n",
       "   ('ṣabātu[seize]v', 0.01741054),\n",
       "   ('šipru[sending]n', 0.016656771),\n",
       "   ('karābu[pray]v', 0.016009644),\n",
       "   ('maṣṣartu[observation]n', 0.015705908)]),\n",
       " (5,\n",
       "  [('rabû[big]aj', 0.075067714),\n",
       "   ('ilūtu[divinity]n', 0.04804891),\n",
       "   ('šalmu[intact]aj', 0.033984117),\n",
       "   ('luʾʾû[sullied]aj', 0.033626355),\n",
       "   ('immeru[sheep]n', 0.03256907),\n",
       "   ('pû[mouth]n', 0.025950009),\n",
       "   ('bīru[divination]n', 0.024209898),\n",
       "   ('qātu[hand]n', 0.019437134),\n",
       "   ('haṭû[defective]aj', 0.016913805),\n",
       "   ('ašru[place]n', 0.01690949)]),\n",
       " (6,\n",
       "  [('šumēlu[left-side]n', 0.047697194),\n",
       "   ('šaknu[placed]aj', 0.044095125),\n",
       "   ('imittu[right-side]n', 0.031997584),\n",
       "   ('ubānu[finger]n', 0.030799186),\n",
       "   ('padānu[way]n', 0.023661597),\n",
       "   ('qablu[hips]n', 0.02035366),\n",
       "   ('martu[gall-bladder]n', 0.02027923),\n",
       "   ('išdu[foundation]n', 0.019536389),\n",
       "   ('ṣēru[back]n', 0.018239731),\n",
       "   ('rabû[big]aj', 0.017678097)]),\n",
       " (7,\n",
       "  [('immeru[sheep]n', 0.07470712),\n",
       "   ('alpu[ox]n', 0.057068888),\n",
       "   ('rabû[big-one]n', 0.049675364),\n",
       "   ('pīhātu[responsibility]n', 0.04509695),\n",
       "   ('ēkallu[palace]n', 0.03690441),\n",
       "   ('eleppu[ship]n', 0.02098159),\n",
       "   ('nāgiru[herald]n', 0.016648363),\n",
       "   ('iṣṣūru[bird]n', 0.014830403),\n",
       "   ('ša-rēši[eunuch]n', 0.014171729),\n",
       "   ('sinništu[woman]n', 0.013528801)]),\n",
       " (8,\n",
       "  [('mātu[land]n', 0.068526044),\n",
       "   ('nakru[strange]aj', 0.026936939),\n",
       "   ('lawû[surround]v', 0.020771649),\n",
       "   ('tarbaṣu[courtyard]n', 0.019736724),\n",
       "   ('pūtu[forehead]n', 0.012262462),\n",
       "   ('šamû[sky]n', 0.011717323),\n",
       "   ('kakkabu[star]n', 0.011635147),\n",
       "   ('zunnu[rain]n', 0.011007151),\n",
       "   ('lumnu[evil]n', 0.010442309),\n",
       "   ('ebūru[harvest]n', 0.010088553)]),\n",
       " (9,\n",
       "  [('ilu[god]n', 0.062786005),\n",
       "   ('mātu[land]n', 0.04861716),\n",
       "   ('pû[mouth]n', 0.02173472),\n",
       "   ('kīnu[permanent]aj', 0.014799158),\n",
       "   ('balāṭu[live]v', 0.013249111),\n",
       "   ('damqu[good]aj', 0.012408712),\n",
       "   ('ṭūbu[goodness]n', 0.011779626),\n",
       "   ('arku[long]aj', 0.011187184),\n",
       "   ('nišu[people]n', 0.011180394),\n",
       "   ('kânu[be(come)-permanent]v', 0.010923878)])]"
      ]
     },
     "execution_count": 5,
     "metadata": {},
     "output_type": "execute_result"
    }
   ],
   "source": [
    "ntopics = len(ldamodel.show_topics())\n",
    "ldamodel.show_topics(ntopics, formatted = False)"
   ]
  },
  {
   "cell_type": "markdown",
   "metadata": {},
   "source": [
    "# pyLDAvis\n",
    "Use pyLDAvis to visualize the topic model. By default, pyLDAvis will order the topics by [prevalence](https://github.com/bmabey/pyLDAvis/issues/59) (topic 1 is the most prevalent topic). That means that the topic numbers in the visualization do not agree with the topic numbers in the lda model. To prevent this behaviour one may use `sort_topics=False` in the `prepare` command. The advantage of ordering the topics by prevalence, however, is that new instances of the lda model are more comparable (that is, the same topic will receive the same number). Note that the library was written in Java for R, and so the numbering in the visualization begins with 1 (not with 0). The topic numbers in the Document/Topic and Topic/Term matrices below will be adjusted to be compatible with the pyLDAvis visualization.\n",
    "\n",
    "PyLDAvis needs a large output box. The `%%html` lines below create such a box (for the code see [here](http://stackoverflow.com/questions/18770504/resize-ipython-notebook-output-window)). "
   ]
  },
  {
   "cell_type": "code",
   "execution_count": 6,
   "metadata": {},
   "outputs": [
    {
     "data": {
      "text/html": [
       "<style>\n",
       ".output_wrapper, .output {\n",
       "    height:auto !important;\n",
       "    max-height:1000px;  /* your desired max-height here */\n",
       "}\n",
       ".output_scroll {\n",
       "    box-shadow:none !important;\n",
       "    webkit-box-shadow:none !important;\n",
       "}\n",
       "</style>\n"
      ],
      "text/plain": [
       "<IPython.core.display.HTML object>"
      ]
     },
     "metadata": {},
     "output_type": "display_data"
    }
   ],
   "source": [
    "%%html\n",
    "<style>\n",
    ".output_wrapper, .output {\n",
    "    height:auto !important;\n",
    "    max-height:1000px;  /* your desired max-height here */\n",
    "}\n",
    ".output_scroll {\n",
    "    box-shadow:none !important;\n",
    "    webkit-box-shadow:none !important;\n",
    "}\n",
    "</style>\n"
   ]
  },
  {
   "cell_type": "code",
   "execution_count": 8,
   "metadata": {
    "collapsed": false,
    "jupyter": {
     "outputs_hidden": false
    }
   },
   "outputs": [
    {
     "data": {
      "text/html": [
       "\n",
       "<link rel=\"stylesheet\" type=\"text/css\" href=\"https://cdn.rawgit.com/bmabey/pyLDAvis/files/ldavis.v1.0.0.css\">\n",
       "\n",
       "\n",
       "<div id=\"ldavis_el2778348004379688629131768\"></div>\n",
       "<script type=\"text/javascript\">\n",
       "\n",
       "var ldavis_el2778348004379688629131768_data = {\"mdsDat\": {\"x\": [-0.2521160821802502, 0.07909546609361578, -0.19689547012931946, -0.023781790741030224, 0.0456790135520993, 0.05750525880420016, 0.11664905830642723, -0.20155761090073984, 0.1825165154994214, 0.19290564169557542], \"y\": [-0.13780802235547718, 0.09564847956093202, 0.23049306665752933, 0.0759751810474214, 0.13721482807087418, -0.222481872206775, -0.19951508992590544, -0.07916759750801276, 0.04793224836763967, 0.05170877829177378], \"topics\": [1, 2, 3, 4, 5, 6, 7, 8, 9, 10], \"cluster\": [1, 1, 1, 1, 1, 1, 1, 1, 1, 1], \"Freq\": [5.869814872741699, 9.038970947265625, 22.236892700195312, 6.631607532501221, 16.621410369873047, 12.16391372680664, 5.140347957611084, 3.1064412593841553, 7.132684230804443, 12.057917594909668]}, \"tinfo\": {\"Category\": [\"Default\", \"Default\", \"Default\", \"Default\", \"Default\", \"Default\", \"Default\", \"Default\", \"Default\", \"Default\", \"Default\", \"Default\", \"Default\", \"Default\", \"Default\", \"Default\", \"Default\", \"Default\", \"Default\", \"Default\", \"Default\", \"Default\", \"Default\", \"Default\", \"Default\", \"Default\", \"Default\", \"Default\", \"Default\", \"Default\", \"Topic1\", \"Topic1\", \"Topic1\", \"Topic1\", \"Topic1\", \"Topic1\", \"Topic1\", \"Topic1\", \"Topic1\", \"Topic1\", \"Topic1\", \"Topic1\", \"Topic1\", \"Topic1\", \"Topic1\", \"Topic1\", \"Topic1\", \"Topic1\", \"Topic1\", \"Topic1\", \"Topic1\", \"Topic1\", \"Topic1\", \"Topic1\", \"Topic1\", \"Topic1\", \"Topic1\", \"Topic1\", \"Topic1\", \"Topic1\", \"Topic1\", \"Topic1\", \"Topic1\", \"Topic1\", \"Topic1\", \"Topic1\", \"Topic1\", \"Topic1\", \"Topic1\", \"Topic1\", \"Topic1\", \"Topic1\", \"Topic1\", \"Topic1\", \"Topic1\", \"Topic1\", \"Topic1\", \"Topic1\", \"Topic1\", \"Topic1\", \"Topic1\", \"Topic1\", \"Topic2\", \"Topic2\", \"Topic2\", \"Topic2\", \"Topic2\", \"Topic2\", \"Topic2\", \"Topic2\", \"Topic2\", \"Topic2\", \"Topic2\", \"Topic2\", \"Topic2\", \"Topic2\", \"Topic2\", \"Topic2\", \"Topic2\", \"Topic2\", \"Topic2\", \"Topic2\", \"Topic2\", \"Topic2\", \"Topic2\", \"Topic2\", \"Topic2\", \"Topic2\", \"Topic2\", \"Topic2\", \"Topic2\", \"Topic2\", \"Topic2\", \"Topic2\", \"Topic2\", \"Topic2\", \"Topic2\", \"Topic2\", \"Topic2\", \"Topic2\", \"Topic2\", \"Topic2\", \"Topic2\", \"Topic2\", \"Topic2\", \"Topic2\", \"Topic2\", \"Topic2\", \"Topic2\", \"Topic2\", \"Topic2\", \"Topic2\", \"Topic2\", \"Topic2\", \"Topic2\", \"Topic2\", \"Topic2\", \"Topic2\", \"Topic2\", \"Topic2\", \"Topic2\", \"Topic2\", \"Topic2\", \"Topic2\", \"Topic2\", \"Topic2\", \"Topic2\", \"Topic2\", \"Topic2\", \"Topic2\", \"Topic2\", \"Topic2\", \"Topic3\", \"Topic3\", \"Topic3\", \"Topic3\", \"Topic3\", \"Topic3\", \"Topic3\", \"Topic3\", \"Topic3\", \"Topic3\", \"Topic3\", \"Topic3\", \"Topic3\", \"Topic3\", \"Topic3\", \"Topic3\", \"Topic3\", \"Topic3\", \"Topic3\", \"Topic3\", \"Topic3\", \"Topic3\", \"Topic3\", \"Topic3\", \"Topic3\", \"Topic3\", \"Topic3\", \"Topic3\", \"Topic3\", \"Topic3\", \"Topic3\", \"Topic3\", \"Topic3\", \"Topic3\", \"Topic3\", \"Topic3\", \"Topic3\", \"Topic3\", \"Topic3\", \"Topic3\", \"Topic3\", \"Topic3\", \"Topic3\", \"Topic3\", \"Topic3\", \"Topic3\", \"Topic3\", \"Topic3\", \"Topic3\", \"Topic3\", \"Topic3\", \"Topic3\", \"Topic3\", \"Topic3\", \"Topic3\", \"Topic4\", \"Topic4\", \"Topic4\", \"Topic4\", \"Topic4\", \"Topic4\", \"Topic4\", \"Topic4\", \"Topic4\", \"Topic4\", \"Topic4\", \"Topic4\", \"Topic4\", \"Topic4\", \"Topic4\", \"Topic4\", \"Topic4\", \"Topic4\", \"Topic4\", \"Topic4\", \"Topic4\", \"Topic4\", \"Topic4\", \"Topic4\", \"Topic4\", \"Topic4\", \"Topic4\", \"Topic4\", \"Topic4\", \"Topic4\", \"Topic4\", \"Topic4\", \"Topic4\", \"Topic4\", \"Topic4\", \"Topic4\", \"Topic4\", \"Topic4\", \"Topic4\", \"Topic4\", \"Topic4\", \"Topic4\", \"Topic4\", \"Topic4\", \"Topic4\", \"Topic4\", \"Topic4\", \"Topic4\", \"Topic4\", \"Topic4\", \"Topic4\", \"Topic4\", \"Topic4\", \"Topic4\", \"Topic4\", \"Topic4\", \"Topic4\", \"Topic4\", \"Topic4\", \"Topic5\", \"Topic5\", \"Topic5\", \"Topic5\", \"Topic5\", \"Topic5\", \"Topic5\", \"Topic5\", \"Topic5\", \"Topic5\", \"Topic5\", \"Topic5\", \"Topic5\", \"Topic5\", \"Topic5\", \"Topic5\", \"Topic5\", \"Topic5\", \"Topic5\", \"Topic5\", \"Topic5\", \"Topic5\", \"Topic5\", \"Topic5\", \"Topic5\", \"Topic5\", \"Topic5\", \"Topic5\", \"Topic5\", \"Topic5\", \"Topic5\", \"Topic5\", \"Topic5\", \"Topic5\", \"Topic5\", \"Topic5\", \"Topic5\", \"Topic5\", \"Topic5\", \"Topic5\", \"Topic5\", \"Topic5\", \"Topic5\", \"Topic5\", \"Topic5\", \"Topic5\", \"Topic5\", \"Topic5\", \"Topic5\", \"Topic5\", \"Topic5\", \"Topic5\", \"Topic5\", \"Topic5\", \"Topic5\", \"Topic5\", \"Topic5\", \"Topic5\", \"Topic5\", \"Topic5\", \"Topic5\", \"Topic5\", \"Topic5\", \"Topic5\", \"Topic5\", \"Topic5\", \"Topic5\", \"Topic5\", \"Topic5\", \"Topic5\", \"Topic5\", \"Topic6\", \"Topic6\", \"Topic6\", \"Topic6\", \"Topic6\", \"Topic6\", \"Topic6\", \"Topic6\", \"Topic6\", \"Topic6\", \"Topic6\", \"Topic6\", \"Topic6\", \"Topic6\", \"Topic6\", \"Topic6\", \"Topic6\", \"Topic6\", \"Topic6\", \"Topic6\", \"Topic6\", \"Topic6\", \"Topic6\", \"Topic6\", \"Topic6\", \"Topic6\", \"Topic6\", \"Topic6\", \"Topic6\", \"Topic6\", \"Topic6\", \"Topic6\", \"Topic6\", \"Topic6\", \"Topic6\", \"Topic6\", \"Topic6\", \"Topic6\", \"Topic6\", \"Topic6\", \"Topic6\", \"Topic6\", \"Topic6\", \"Topic6\", \"Topic6\", \"Topic6\", \"Topic6\", \"Topic6\", \"Topic6\", \"Topic6\", \"Topic6\", \"Topic6\", \"Topic7\", \"Topic7\", \"Topic7\", \"Topic7\", \"Topic7\", \"Topic7\", \"Topic7\", \"Topic7\", \"Topic7\", \"Topic7\", \"Topic7\", \"Topic7\", \"Topic7\", \"Topic7\", \"Topic7\", \"Topic7\", \"Topic7\", \"Topic7\", \"Topic7\", \"Topic7\", \"Topic7\", \"Topic7\", \"Topic7\", \"Topic7\", \"Topic7\", \"Topic7\", \"Topic7\", \"Topic7\", \"Topic7\", \"Topic7\", \"Topic7\", \"Topic7\", \"Topic7\", \"Topic7\", \"Topic7\", \"Topic7\", \"Topic7\", \"Topic7\", \"Topic7\", \"Topic7\", \"Topic7\", \"Topic7\", \"Topic7\", \"Topic7\", \"Topic7\", \"Topic7\", \"Topic7\", \"Topic7\", \"Topic7\", \"Topic7\", \"Topic7\", \"Topic7\", \"Topic8\", \"Topic8\", \"Topic8\", \"Topic8\", \"Topic8\", \"Topic8\", \"Topic8\", \"Topic8\", \"Topic8\", \"Topic8\", \"Topic8\", \"Topic8\", \"Topic8\", \"Topic8\", \"Topic8\", \"Topic8\", \"Topic8\", \"Topic8\", \"Topic8\", \"Topic8\", \"Topic8\", \"Topic8\", \"Topic8\", \"Topic8\", \"Topic8\", \"Topic8\", \"Topic8\", \"Topic8\", \"Topic8\", \"Topic8\", \"Topic8\", \"Topic8\", \"Topic8\", \"Topic8\", \"Topic8\", \"Topic8\", \"Topic8\", \"Topic8\", \"Topic8\", \"Topic8\", \"Topic8\", \"Topic8\", \"Topic8\", \"Topic8\", \"Topic8\", \"Topic8\", \"Topic8\", \"Topic8\", \"Topic8\", \"Topic8\", \"Topic8\", \"Topic8\", \"Topic8\", \"Topic8\", \"Topic8\", \"Topic8\", \"Topic8\", \"Topic8\", \"Topic8\", \"Topic8\", \"Topic8\", \"Topic9\", \"Topic9\", \"Topic9\", \"Topic9\", \"Topic9\", \"Topic9\", \"Topic9\", \"Topic9\", \"Topic9\", \"Topic9\", \"Topic9\", \"Topic9\", \"Topic9\", \"Topic9\", \"Topic9\", \"Topic9\", \"Topic9\", \"Topic9\", \"Topic9\", \"Topic9\", \"Topic9\", \"Topic9\", \"Topic9\", \"Topic9\", \"Topic9\", \"Topic9\", \"Topic9\", \"Topic9\", \"Topic9\", \"Topic9\", \"Topic9\", \"Topic9\", \"Topic9\", \"Topic9\", \"Topic9\", \"Topic9\", \"Topic9\", \"Topic9\", \"Topic9\", \"Topic9\", \"Topic9\", \"Topic9\", \"Topic9\", \"Topic9\", \"Topic9\", \"Topic9\", \"Topic9\", \"Topic9\", \"Topic9\", \"Topic9\", \"Topic9\", \"Topic9\", \"Topic9\", \"Topic9\", \"Topic9\", \"Topic9\", \"Topic9\", \"Topic9\", \"Topic9\", \"Topic10\", \"Topic10\", \"Topic10\", \"Topic10\", \"Topic10\", \"Topic10\", \"Topic10\", \"Topic10\", \"Topic10\", \"Topic10\", \"Topic10\", \"Topic10\", \"Topic10\", \"Topic10\", \"Topic10\", \"Topic10\", \"Topic10\", \"Topic10\", \"Topic10\", \"Topic10\", \"Topic10\", \"Topic10\", \"Topic10\", \"Topic10\", \"Topic10\", \"Topic10\", \"Topic10\", \"Topic10\", \"Topic10\", \"Topic10\", \"Topic10\", \"Topic10\", \"Topic10\", \"Topic10\", \"Topic10\", \"Topic10\", \"Topic10\", \"Topic10\", \"Topic10\", \"Topic10\", \"Topic10\", \"Topic10\", \"Topic10\", \"Topic10\", \"Topic10\", \"Topic10\", \"Topic10\", \"Topic10\", \"Topic10\", \"Topic10\", \"Topic10\", \"Topic10\", \"Topic10\", \"Topic10\", \"Topic10\", \"Topic10\", \"Topic10\", \"Topic10\", \"Topic10\", \"Topic10\"], \"Freq\": [3672.0, 1561.0, 789.0, 1474.0, 1102.0, 979.0, 1352.0, 843.0, 642.0, 453.0, 871.0, 359.0, 420.0, 425.0, 530.0, 363.0, 596.0, 261.0, 587.0, 310.0, 473.0, 753.0, 728.0, 802.0, 306.0, 493.0, 936.0, 486.0, 533.0, 407.0, 128.02587890625, 84.0755615234375, 74.25640106201172, 73.16424560546875, 67.71026611328125, 65.52815246582031, 55.33401870727539, 51.75014877319336, 50.25375747680664, 46.98158264160156, 185.7294921875, 38.160362243652344, 36.07141876220703, 36.069122314453125, 35.87654495239258, 35.10626983642578, 31.702529907226562, 30.92790412902832, 30.616518020629883, 30.61344337463379, 28.434484481811523, 27.84215545654297, 26.748750686645508, 26.252634048461914, 25.161663055419922, 25.16149139404297, 24.070589065551758, 24.0655574798584, 22.977622985839844, 22.29138946533203, 109.10157775878906, 110.90113067626953, 325.2722473144531, 192.7087860107422, 158.068359375, 154.48204040527344, 46.532264709472656, 48.83686447143555, 31.527189254760742, 42.7535514831543, 34.64495086669922, 76.27484130859375, 55.62908172607422, 103.73155975341797, 44.92510223388672, 48.68292999267578, 57.236602783203125, 47.44596481323242, 60.89461898803711, 42.103092193603516, 49.689517974853516, 47.84062576293945, 56.14574432373047, 38.08609390258789, 35.69182586669922, 147.66647338867188, 25.21727180480957, 24.293819427490234, 22.014060974121094, 21.698881149291992, 21.102367401123047, 20.40167236328125, 18.65728187561035, 17.36065673828125, 17.32319450378418, 16.949417114257812, 16.65308952331543, 16.507896423339844, 15.13513469696045, 14.219274520874023, 14.2130126953125, 14.02248477935791, 13.428032875061035, 12.945279121398926, 12.354002952575684, 11.908269882202148, 11.76123046875, 11.647221565246582, 11.537175178527832, 11.056578636169434, 10.462079048156738, 10.352226257324219, 26.857236862182617, 115.4661865234375, 29.604557037353516, 31.458932876586914, 40.836605072021484, 142.18942260742188, 33.03595733642578, 75.46416473388672, 28.031295776367188, 41.18018341064453, 39.462684631347656, 119.6876220703125, 205.95201110839844, 74.44425964355469, 48.13134002685547, 116.67449188232422, 108.40660858154297, 33.57982635498047, 192.93589782714844, 61.453975677490234, 63.90407180786133, 76.16548919677734, 260.15618896484375, 88.07986450195312, 205.82496643066406, 79.02874755859375, 118.85263061523438, 88.07360076904297, 56.56294631958008, 68.40032958984375, 57.0710563659668, 98.81405639648438, 114.6263198852539, 65.34239196777344, 87.64510345458984, 69.61219787597656, 79.0363998413086, 62.079994201660156, 60.80472183227539, 60.485443115234375, 3671.577392578125, 472.3824768066406, 249.03793334960938, 239.7166290283203, 236.81158447265625, 217.05055236816406, 125.40144348144531, 107.38790130615234, 255.58558654785156, 834.6063232421875, 77.18309783935547, 65.23259735107422, 64.310546875, 256.81170654296875, 238.503662109375, 42.359962463378906, 34.669471740722656, 1078.1708984375, 31.438827514648438, 29.945602416992188, 29.01058578491211, 28.515663146972656, 27.061634063720703, 25.666324615478516, 23.70693588256836, 59.561927795410156, 23.2780704498291, 19.86731719970703, 19.457128524780273, 18.494234085083008, 113.47371673583984, 813.2611694335938, 51.93589782714844, 442.6759033203125, 369.8569641113281, 247.67576599121094, 63.81242752075195, 525.7566528320312, 315.68206787109375, 169.7853240966797, 619.3776245117188, 351.4662780761719, 246.1641082763672, 333.6326904296875, 314.812255859375, 110.10225677490234, 425.8252868652344, 596.49169921875, 169.4207763671875, 263.16766357421875, 518.8440551757812, 482.9912414550781, 235.19595336914062, 221.70765686035156, 184.17369079589844, 98.03642272949219, 48.46959686279297, 38.63151550292969, 36.06023025512695, 31.762174606323242, 30.11359214782715, 29.08348274230957, 26.369470596313477, 22.111968994140625, 21.259300231933594, 20.5311222076416, 18.694433212280273, 16.592191696166992, 16.34186363220215, 15.753555297851562, 15.315632820129395, 13.994039535522461, 13.277519226074219, 70.10736083984375, 12.74519157409668, 11.67800521850586, 10.726212501525879, 51.10416030883789, 9.075784683227539, 60.32593536376953, 8.371931076049805, 94.76384735107422, 6.981863021850586, 6.977386474609375, 6.761240482330322, 36.25733947753906, 382.80340576171875, 13.9575777053833, 139.2182159423828, 143.0454864501953, 36.094058990478516, 35.83203887939453, 99.49140930175781, 78.16065979003906, 120.10545349121094, 84.44158935546875, 102.3595199584961, 108.9286880493164, 108.00764465332031, 60.43777847290039, 110.28425598144531, 66.2314224243164, 86.41433715820312, 203.048828125, 138.87669372558594, 63.8289794921875, 89.86981964111328, 79.82431030273438, 75.64142608642578, 77.35259246826172, 54.744285583496094, 43.79014205932617, 49.830780029296875, 47.12364959716797, 64.17106628417969, 63.32183837890625, 49.47392272949219, 47.327857971191406, 39.41085433959961, 38.11459732055664, 65.6507568359375, 31.43714714050293, 29.39657974243164, 28.376182556152344, 28.19980239868164, 26.356189727783203, 25.413814544677734, 24.467561721801758, 23.669288635253906, 23.300996780395508, 20.627187728881836, 42.47945022583008, 19.532575607299805, 19.386070251464844, 19.385778427124023, 16.995010375976562, 16.493057250976562, 38.643272399902344, 15.842109680175781, 15.699308395385742, 15.248531341552734, 86.55480194091797, 81.4168701171875, 14.101696014404297, 36.074974060058594, 287.39630126953125, 75.75987243652344, 66.49857330322266, 418.75982666015625, 178.7546844482422, 326.31317138671875, 56.05033874511719, 101.31541442871094, 392.12091064453125, 270.9900817871094, 138.28443908691406, 525.7619018554688, 151.7734375, 69.69645690917969, 168.5117950439453, 45.20762634277344, 173.21029663085938, 98.8011245727539, 177.6676025390625, 93.16889190673828, 104.17456817626953, 75.92218780517578, 300.4018249511719, 276.2307434082031, 183.8584442138672, 197.998291015625, 341.3819580078125, 194.18084716796875, 311.6650085449219, 175.79678344726562, 270.2689208984375, 136.03140258789062, 191.1670379638672, 120.21199035644531, 254.5131072998047, 199.4219970703125, 195.583984375, 158.162353515625, 122.46440887451172, 113.6766128540039, 424.5956726074219, 305.6952819824219, 213.56845092773438, 208.6279296875, 174.96653747558594, 170.232177734375, 126.00448608398438, 115.53620147705078, 110.23719787597656, 103.69544982910156, 101.6898193359375, 97.4774398803711, 96.31387329101562, 95.4315414428711, 78.0157241821289, 62.12884521484375, 178.31124877929688, 54.3025016784668, 83.70430755615234, 130.06031799316406, 37.18373107910156, 26.733644485473633, 20.776212692260742, 124.94145202636719, 18.735002517700195, 18.025888442993164, 18.025888442993164, 16.14876937866211, 13.98028564453125, 606.7074584960938, 206.50662231445312, 100.36097717285156, 103.79424285888672, 196.5449676513672, 99.94488525390625, 429.11309814453125, 93.33351135253906, 213.5139617919922, 947.8704223632812, 186.9641571044922, 131.5762939453125, 411.2454833984375, 327.6674499511719, 181.85646057128906, 193.546142578125, 165.4862823486328, 245.43020629882812, 108.31559753417969, 133.7803497314453, 117.70318603515625, 134.3543243408203, 121.18829345703125, 126.25802612304688, 108.20975494384766, 76.56653594970703, 69.14688873291016, 52.66511154174805, 51.621585845947266, 46.006866455078125, 44.07941436767578, 41.6351318359375, 40.39194107055664, 164.34413146972656, 34.15561294555664, 33.77235412597656, 31.929941177368164, 27.154983520507812, 23.67136001586914, 22.868057250976562, 21.062313079833984, 18.49365234375, 18.375831604003906, 18.135805130004883, 17.537466049194336, 16.851442337036133, 14.002945899963379, 13.76317024230957, 13.21634578704834, 13.122103691101074, 10.835912704467773, 10.54662036895752, 10.074601173400879, 77.35869598388672, 38.814395904541016, 254.51171875, 87.85806274414062, 108.6069107055664, 170.73876953125, 235.29110717773438, 104.24596405029297, 80.04502868652344, 38.15242004394531, 49.88623809814453, 50.57948684692383, 97.32701110839844, 85.18058776855469, 79.87007141113281, 51.45553970336914, 86.43111419677734, 94.33013153076172, 52.71638107299805, 54.72201919555664, 52.9581413269043, 42.20962905883789, 31.019329071044922, 30.684940338134766, 30.417221069335938, 24.61017608642578, 16.887887954711914, 16.19863510131836, 37.945892333984375, 13.945932388305664, 13.874674797058105, 13.036463737487793, 12.590353012084961, 11.953383445739746, 9.315231323242188, 9.315024375915527, 8.4675874710083, 7.996427536010742, 7.996321201324463, 7.161152362823486, 6.676981449127197, 6.335811614990234, 67.65875244140625, 5.73389196395874, 5.217629909515381, 5.015623569488525, 5.012263774871826, 18.299373626708984, 4.638271331787109, 4.638271331787109, 4.511544227600098, 4.412714958190918, 20.054445266723633, 53.685516357421875, 15.382376670837402, 184.02847290039062, 22.791259765625, 17.86141014099121, 17.21460723876953, 43.34498977661133, 26.906417846679688, 42.3537712097168, 42.904720306396484, 240.90599060058594, 47.82319259643555, 145.42288208007812, 38.90259552001953, 22.251625061035156, 26.39365005493164, 160.186767578125, 119.00463104248047, 20.678762435913086, 31.218273162841797, 18.185792922973633, 21.33689308166504, 45.699180603027344, 28.241151809692383, 43.62594985961914, 23.60724639892578, 28.957773208618164, 27.108388900756836, 29.239212036132812, 22.56955337524414, 51.87644958496094, 46.87395095825195, 46.60896682739258, 45.36833572387695, 199.44525146484375, 34.27460861206055, 32.91767120361328, 30.359102249145508, 28.894622802734375, 27.726511001586914, 26.82500648498535, 24.636966705322266, 22.01111602783203, 21.78520965576172, 21.40914535522461, 21.145000457763672, 19.979063034057617, 19.8289852142334, 19.71552276611328, 18.509065628051758, 18.502634048461914, 16.857452392578125, 16.367002487182617, 15.748559951782227, 15.692227363586426, 64.90784454345703, 15.035370826721191, 14.978704452514648, 14.324822425842285, 13.843404769897461, 153.79649353027344, 146.1337432861328, 67.32716369628906, 86.14842224121094, 81.49864196777344, 49.013587951660156, 77.31646728515625, 47.59926986694336, 49.51539611816406, 74.69720458984375, 42.04534149169922, 37.415287017822266, 74.08692932128906, 507.3774108886719, 72.0767593383789, 41.536319732666016, 28.214691162109375, 49.10417175292969, 86.75686645507812, 90.79315948486328, 57.87702178955078, 57.193450927734375, 49.44768524169922, 43.84458923339844, 58.267452239990234, 60.965335845947266, 60.57004928588867, 50.865028381347656, 44.157325744628906, 78.40589904785156, 74.38662719726562, 70.57303619384766, 65.03196716308594, 55.29233932495117, 52.708980560302734, 50.848812103271484, 45.680389404296875, 42.88964080810547, 40.560916900634766, 38.69430160522461, 37.165809631347656, 36.709983825683594, 35.904052734375, 32.5488395690918, 78.52996063232422, 27.979398727416992, 27.645784378051758, 26.676862716674805, 50.023536682128906, 24.730077743530273, 24.213481903076172, 24.07388687133789, 23.407062530517578, 23.374967575073242, 23.28399085998535, 22.65200424194336, 21.928810119628906, 21.679027557373047, 21.67576026916504, 80.17278289794922, 38.34378433227539, 140.02821350097656, 147.44371032714844, 91.32539367675781, 109.10820007324219, 785.8825073242188, 66.30166625976562, 101.18278503417969, 136.73245239257812, 130.8122100830078, 165.8370361328125, 608.5333251953125, 71.08503723144531, 110.74193572998047, 130.33938598632812, 185.2387237548828, 76.81598663330078, 272.050048828125, 155.31788635253906, 74.40769958496094, 135.7801055908203, 87.96588897705078, 114.50523376464844, 92.03274536132812, 139.94322204589844, 125.51961517333984, 81.44063568115234, 73.60653686523438, 74.6073226928711], \"Term\": [\"\\u0161\\u012bbu[witness]n\", \"m\\u0101tu[land]n\", \"immeru[sheep]n\", \"rab\\u00fb[big]aj\", \"man\\u00fb[unit]n\", \"rab\\u00fb[big-one]n\", \"ilu[god]n\", \"\\u1e63arpu[silver]n\", \"il\\u016btu[divinity]n\", \"sis\\u00fb[horse]n\", \"eqlu[field]n\", \"q\\u00fb[unit]n\", \"p\\u012bh\\u0101tu[responsibility]n\", \"lu\\u02be\\u02be\\u00fb[sullied]aj\", \"\\u0161almu[intact]aj\", \"\\u0161aknu[placed]aj\", \"\\u0113kallu[palace]n\", \"alpu[ox]n\", \"im\\u0113ru[unit]n\", \"\\u0161um\\u0113lu[left-side]n\", \"kaspu[silver]n\", \"d\\u012bnu[legal-decision]n\", \"\\u1e63\\u0101bu[people]n\", \"p\\u00fb[mouth]n\", \"b\\u012bru[divination]n\", \"wad\\u00fb[know]v\", \"dab\\u0101bu[speak]v\", \"\\u1e6d\\u0113mu[(fore)thought]n\", \"ahu[brother]n\", \"hur\\u0101\\u1e63u[gold]n\", \"zam\\u0101ru[sing]v\", \"kaptukk\\u00fb[two-s\\u016btu-container]n\", \"sulukannu[(a-food-container)]n\", \"imittu[support]n\", \"ma\\u0161t\\u012btu[(allowance-of)-drink]n\", \"sallu[tray]n\", \"nishu[extract(ion)]n\", \"sar\\u0101qu[strew]v\", \"serqu[strewn-offering]n\", \"maziu[(a-metal-vessel)]n\", \"\\u0161ikaru[beer]n\", \"qad\\u016btu[silt]n\", \"p\\u0113mu[(upper)-thigh]n\", \"kurk\\u00fb[goose]n\", \"\\u1e6d\\u012bdu[clay]n\", \"\\u0161u\\u02beu[chick-pea?]n\", \"sukann\\u012bnu[dove]n\", \"hinhinu[(a-kind-of-spice?)]n\", \"andah\\u0161u[(an-alliaceous-plant)]n\", \"ha\\u0161l\\u0101tu[bruised-(grain)]n\", \"serdu[olive-tree]n\", \"supurgillu[quince]n\", \"\\u0161er\\u0161erratu[chain]n\", \"kullu[nut(-kernel)]n\", \"alapp\\u0101nu[sweet-pomegranate]n\", \"m\\u00ea-\\u0161\\u012bri[meat-broth]n\", \"bud\\u00fb[(a-cake?)]n\", \"m\\u016b\\u0161abu[dwelling]n\", \"kam\\u0101nu[(a-loaf-or-cake)]n\", \"gur\\u0161u[chapel]n\", \"naq\\u00fb[pour-(a-libation)]v\", \"di\\u0161pu[honey]n\", \"q\\u00fb[unit]n\", \"kar\\u0101nu[vine]n\", \"\\u0161amnu[oil]n\", \"kus\\u0101pu[bread]n\", \"n\\u0101ru[musician]n\", \"\\u0161ama\\u0161\\u0161amm\\u016b[sesame]n\", \"ukultu[food]n\", \"er\\u0161u[bed]n\", \"mayy\\u0101lu[bed]n\", \"alpu[ox]n\", \"er\\u00fb[copper]n\", \"immeru[sheep]n\", \"i\\u1e63\\u1e63\\u016bru[bird]n\", \"nad\\u00fb[throw-(down)]v\", \"gin\\u00fb[regular-contribution-(to-temple)]n\", \"rak\\u0101su[bind]v\", \"im\\u0113ru[unit]n\", \"akalu[bread]n\", \"ilu[god]n\", \"q\\u0101tu[hand]n\", \"aklu[overseer]n\", \"m\\u0101m\\u012btu[oath]n\", \"maqq\\u00fb[libation-(vessel)]n\", \"ad\\u00fb[(treaty-)oath]n\", \"\\u0161ab\\u0101\\u0161u[gather]v\", \"nas\\u0101ku[throw-(down)]v\", \"q\\u0113mu[flour]n\", \"en\\u016bma-anu-enlil[(astrological-omen-series)]n\", \"\\u0161\\u0101t-urri[(the-watch)-of-dawn]n\", \"\\u0161am\\u00fb[heaven]n\", \"r\\u012bbu[earthquake]n\", \"bul\\u1e6du[life]n\", \"\\u0161umma-izbu[(anomaly-omen-series)]n\", \"erru[intestine(s)]n\", \"\\u0161iptu[incantation]n\", \"\\u0101\\u0161ip\\u016btu[exorcism]n\", \"n\\u0113pe\\u0161u[activity]n\", \"z\\u012bqtu[torch]n\", \"nip\\u0161u[tuft]n\", \"pagru[body]n\", \"tup\\u0161ikku[brick-carrying-frame]n\", \"berqu[lightning-(flash)]n\", \"gimillu[requital]n\", \"lam\\u0101du[learn]v\", \"nekelm\\u00fb[frown-at]v\", \"bar\\u0101qu[lighten]v\", \"\\u0161eb\\u0113ru[break]v\", \"\\u0101kilu[that-eats]n\", \"\\u1e63al\\u0101lu[lie-(down)]v\", \"t\\u0101n\\u0113hu[moaning]n\", \"b\\u0101rtu[rebellion]n\", \"antal\\u00fb[eclipse]n\", \"\\u0161an\\u00fb[be(come)-changed]v\", \"r\\u00e2bu[quake]v\", \"\\u0161as\\u00fb[shout]v\", \"rid\\u00fbtu[appropriation]n\", \"er\\u1e63etu[earth]n\", \"ha\\u1e6d\\u00fb[do-wrong]v\", \"\\u1e63i\\u0101tu[distant-time]n\", \"l\\u0113\\u02beu[board]n\", \"tam\\u00fb[swear]v\", \"\\u0161arr\\u016btu[kingship]n\", \"abu[father]n\", \"\\u1e6d\\u0101btu[goodness]n\", \"\\u0161\\u012bmtu[fate]n\", \"\\u1e6duppu[tablet]n\", \"m\\u0101rtu[daughter]n\", \"lemnu[bad]aj\", \"ahu[brother]n\", \"rub\\u00fb[prince]n\", \"\\u0161an\\u00fb[(an)other]aj\", \"ummu[mother]n\", \"rab\\u00fb[big]aj\", \"qaqqaru[ground]n\", \"ilu[god]n\", \"z\\u0113ru[seed(s)]n\", \"\\u1e63ab\\u0101tu[seize]v\", \"\\u0161umu[name]n\", \"ki\\u0161\\u0161atu[totality]n\", \"m\\u00fb[water]n\", \"hal\\u0101qu[be(come)-lost]v\", \"q\\u0101tu[hand]n\", \"m\\u0101tu[land]n\", \"\\u0161\\u012bru[flesh]n\", \"ni\\u0161u[people]n\", \"damqu[good]aj\", \"p\\u00fb[mouth]n\", \"ak\\u0101lu[eat]v\", \"sinni\\u0161tu[woman]n\", \"\\u0113kallu[palace]n\", \"\\u0161\\u012bbu[witness]n\", \"kaspu[silver]n\", \"\\u0161iqlu[unit]n\", \"appatu[bridle]n\", \"leq\\u00fb[taken]aj\", \"zarpu[purchased]aj\", \"\\u1e63upru[nail]n\", \"tillatu[vine]n\", \"tadnu[given]aj\", \"\\u1e63arpu[silver]n\", \"nukaribbu[gardener]n\", \"sakru[refined]aj\", \"\\u0161a-\\u0161\\u0113pi[(king\\u02bes)-personal-guard]n\", \"ikkaru[farmer]n\", \"mukillu[holder]n\", \"nahallu[stream]n\", \"\\u0161akintu[(a-female-official)]n\", \"man\\u00fb[unit]n\", \"i\\u0161paru[weaver]n\", \"qal\\u012btu[parched-grain]n\", \"\\u0161uqultu[weight]n\", \"nurm\\u00fb[pomegranate]n\", \"agannu[bowl]n\", \"saddinu[(a-tunic)]n\", \"\\u1e63arr\\u0101pu[goldsmith]n\", \"rab\\u00fb[to-be-big]v\", \"\\u1e63uhurtu[the-young-youth(s)]n\", \"harbakkannu[(a-kind-of-horse)]n\", \"takkussu[reed-stem]n\", \"mazr\\u016btu[(area-or-state-of)-cultivation]n\", \"burku[knee]n\", \"eqlu[field]n\", \"\\u1e63\\u0101bitu[recipient]n\", \"leq\\u00fb[take]v\", \"kunukku[seal]n\", \"gammuru[finished]aj\", \"adru[threshing-floor]n\", \"im\\u0113ru[unit]n\", \"kir\\u00fb[garden]n\", \"ta\\u0161l\\u012b\\u0161u[third-man-on-chariot]n\", \"d\\u012bnu[legal-decision]n\", \"l\\u012bmu[eponym-(of-year)]n\", \"ki\\u1e63ru[knot]n\", \"\\u1e6dup\\u0161arru[scribe]n\", \"hur\\u0101\\u1e63u[gold]n\", \"zaq\\u0101pu[fix-upright]v\", \"t\\u00e2ru[turn]v\", \"dab\\u0101bu[speak]v\", \"bu\\u02be\\u02be\\u00fb[look-for]v\", \"sinni\\u0161tu[woman]n\", \"rab\\u00fb[big-one]n\", \"ni\\u0161u[people]n\", \"la\\u0161\\u0161u[(there)-is-not]v\", \"napi\\u0161tu[throat]n\", \"aw\\u012blu[man]n\", \"\\u0161awiru[ring]n\", \"at\\u0101nu[she-ass]n\", \"emdu[(an-aromatic-tree)]n\", \"\\u0161a-t\\u0113lissi[purification-device]n\", \"ak\\u012btu[(a-cultic-festival)]n\", \"silqu[boiled-meat]n\", \"p\\u016btuhhu[responsibility]n\", \"irginu[(a-breed-or-colour-of-horse)]n\", \"tibku[layer]n\", \"bibbulu[(day-of-the)-new-moon]n\", \"un\\u012bqu[female-kid]n\", \"kupp\\u00fb[snow]n\", \"p\\u012blu[limestone]n\", \"\\u0161alh\\u00fb[outer-wall]n\", \"qut\\u0101ru[incense]n\", \"mu\\u1e6d\\u00fb[deficit]n\", \"dum\\u0101q\\u016b[jewellery]n\", \"kalzu[precinct?]n\", \"\\u1e6dabtu[salt]n\", \"tabku[(grain)-store]n\", \"es\\u0113pu[gather-together]v\", \"qersu[cart]n\", \"kal\\u00fb[lamentation-priest]n\", \"s\\u012bru[(meaning-uncertain)]n\", \"k\\u016bdanu[mule]n\", \"n\\u0101rtu[female-musician]n\", \"\\u0161\\u0113htu[incense-burner]n\", \"lubbu\\u0161u[clothed]aj\", \"harru[water-channel]n\", \"namark\\u00fb[late]aj\", \"kin\\u016bnu[brazier]n\", \"sis\\u00fb[horse]n\", \"gizill\\u00fb[torch]n\", \"kar\\u0101ru[put-(down)]v\", \"nas\\u0101hu[tear-out]v\", \"na\\u0161\\u0101qu[kiss]v\", \"hep\\u00fb[broken]aj\", \"gam\\u0101ru[complete]v\", \"pa\\u0161\\u0161uru[table]n\", \"\\u0161ang\\u00fb[priest]n\", \"b\\u0101bu[gate]n\", \"qer\\u0113bu[approach]v\", \"et\\u0113qu[proceed]v\", \"a\\u0161\\u0101bu[sit-(down)]v\", \"mugerru[chariot]n\", \"n\\u012bqu[offering]n\", \"teb\\u00fb[arise]v\", \"mah\\u0101ru[face]v\", \"ilu[god]n\", \"q\\u0101tu[hand]n\", \"na\\u0161\\u00fb[lifted]aj\", \"hur\\u0101\\u1e63u[gold]n\", \"ap\\u0101lu[pay]v\", \"a\\u1e63\\u00fb[go-out]v\", \"\\u0113kallu[palace]n\", \"el\\u00fb[go-up]v\", \"ar\\u0101du[go-down]v\", \"dullu[trouble]n\", \"kar\\u0101bu[pray]v\", \"le\\u02be\\u00fb[be-able]v\", \"y\\u0101nu[(there)-is-not]v\", \"din\\u0101nu[substitution]n\", \"palhu[fearful]aj\", \"ra\\u1e63\\u0101pu[build]v\", \"har\\u0101\\u1e63u[break-off]v\", \"ab\\u0101ku[lead-away]v\", \"gabar\\u00fb[copy]n\", \"parri\\u1e63u[criminal]n\", \"madbaru[steppe]n\", \"taq\\u0101nu[be(come)-secure]v\", \"gal\\u00fb[be(come)-deported]v\", \"har\\u0101du[be(come)-awake]v\", \"mad\\u0101du[measure-(out)]v\", \"a\\u0161\\u0101ru[muster]v\", \"u\\u0161\\u0161u[foundation(s)]n\", \"pur\\u0161umu[old-(man)]n\", \"\\u0161i\\u0101ru[morning]n\", \"nad\\u00fb[throw-down]v\", \"u\\u1e63\\u1e63u\\u1e63u[interrogate]v\", \"\\u0161\\u012bbu[old-man]n\", \"rah\\u0101\\u1e63u[trust]v\", \"namark\\u00fb[be(come)-late]v\", \"battu[side]n\", \"ha\\u1e63\\u0101nu[hug]v\", \"pu\\u0101gu[take-away-forcibly-from]v\", \"wuss\\u00fb[identify]v\", \"\\u0161ipirtu[message]n\", \"mag\\u0101ru[consent]v\", \"q\\u0101lu[silent]aj\", \"nah\\u0101su[(re)cede]v\", \"\\u0161ipru[sending]n\", \"hubtu[robbery]n\", \"kal\\u00fb[hold-(back)]v\", \"\\u1e6d\\u0113mu[(fore)thought]n\", \"dibbu[words]n\", \"dullu[trouble]n\", \"q\\u012bpu[representative]n\", \"ram\\u00fb[slacken]v\", \"wad\\u00fb[know]v\", \"ma\\u1e63\\u1e63artu[observation]n\", \"pal\\u0101hu[fear]v\", \"\\u1e63\\u0101bu[people]n\", \"birtu[fort]n\", \"mat\\u0101hu[lift]v\", \"sah\\u0101ru[go-around]v\", \"ma\\u1e63\\u00fb[correspond]v\", \"paq\\u0101du[entrust]v\", \"h\\u012b\\u1e6du[error]n\", \"na\\u1e63\\u0101ru[guard]v\", \"\\u0161a\\u1e6d\\u0101ru[write]v\", \"egertu[inscribed-tablet]n\", \"kamsu[squatting]aj\", \"\\u1e63ab\\u0101tu[seize]v\", \"kar\\u0101bu[pray]v\", \"el\\u00fb[go-up]v\", \"em\\u016bqu[strength]n\", \"\\u0101lu[city]n\", \"a\\u1e63\\u00fb[go-out]v\", \"q\\u0101tu[hand]n\", \"p\\u012bh\\u0101tu[responsibility]n\", \"dab\\u0101bu[speak]v\", \"mah\\u0101ru[face]v\", \"\\u0113kallu[palace]n\", \"d\\u00e2ku[kill]v\", \"m\\u0101tu[land]n\", \"ni\\u0161u[people]n\", \"rab\\u00fb[big-one]n\", \"ahu[brother]n\", \"la\\u0161\\u0161u[(there)-is-not]v\", \"p\\u00fb[mouth]n\", \"lu\\u02be\\u02be\\u00fb[sullied]aj\", \"b\\u012bru[divination]n\", \"ha\\u1e6d\\u00fb[defective]aj\", \"bar\\u00fb[see]v\", \"lab\\u0161u[clothed]aj\", \"ar\\u0161u[dirty]aj\", \"ma\\u1e6d\\u00fb[small]aj\", \"l\\u0101pitu[one-who-touches]n\", \"b\\u0113ru[distant]aj\", \"par\\u0101du[be(come)-scared]v\", \"k\\u016bnu[firmness]n\", \"\\u0101meru[that-sees]n\", \"\\u0161up\\u00ealu[exchange]v\", \"\\u0161\\u0113m\\u00fb[hearer]n\", \"lu\\u02be\\u02be\\u00fb[sully]v\", \"ad\\u0101nu[fixed-time]n\", \"\\u1e63ub\\u0101tu[textile]n\", \"\\u0161iknu[act-of-putting]n\", \"ni\\u0101ru[papyrus]n\", \"qab\\u016btu[bowl]n\", \"\\u0161um\\u00fb[roast-meat]n\", \"b\\u0113l-zak\\u0101r-\\u0161umi[subject-of-the-query]n\", \"\\u0113dum\\u0101nu[single]aj\", \"nashu[torn]aj\", \"urhu[way]n\", \"pirittu[terror]n\", \"gilittu[terror]n\", \"takkassu[(small)-block-of-stone]n\", \"kakkabtu[star]n\", \"il\\u016btu[divinity]n\", \"tam\\u012btu[oath]n\", \"u\\u1e63urtu[design]n\", \"pa\\u0161\\u0101\\u0161u[anoint]v\", \"annu[(word-of)-consent]n\", \"en\\u00fb[change]v\", \"\\u0161almu[intact]aj\", \"san\\u0101qu[check]v\", \"a\\u0161ru[place]n\", \"rab\\u00fb[big]aj\", \"gin\\u00fb[regular-contribution-(to-temple)]n\", \"b\\u0101r\\u00fb[diviner]n\", \"immeru[sheep]n\", \"p\\u00fb[mouth]n\", \"ap\\u0101lu[pay]v\", \"k\\u012bnu[permanent]aj\", \"n\\u012bqu[offering]n\", \"q\\u0101tu[hand]n\", \"lap\\u0101tu[touch]v\", \"p\\u016btu[forehead]n\", \"\\u0161at\\u00fb[drink]v\", \"\\u1e63\\u0101bu[people]n\", \"ak\\u0101lu[eat]v\", \"pad\\u0101nu[way]n\", \"martu[gall-bladder]n\", \"kaskasu[gristly-extension-of-breast-bone]n\", \"eb\\u00fb[thick]aj\", \"ha\\u0161\\u00fb[lung(s)]n\", \"qabl\\u012btu[centre]n\", \"el\\u012btu[that-which-is-above]n\", \"u\\u0161\\u0161uru[exempt]aj\", \"ub\\u0101n-ha\\u0161\\u00ea[finger-of-the-lung-(a-part-of-the-liver)]n\", \"laptu[touched]aj\", \"ub\\u0101nu[finger]n\", \"kal\\u012btu[kidney]n\", \"er\\u0161emmakku[(an-emesal-cult-song)]n\", \"\\u0161apl\\u012btu[lower-part]n\", \"er\\u0161ahung\\u00fb[(an-emesal-cultic-prayer)]n\", \"\\u0161\\u012blu[depression]n\", \"pa\\u0161\\u1e6du[erased]aj\", \"\\u1e63amdu[bound-up]aj\", \"nabalkutu[having-crossed-over]aj\", \"n\\u012bd-kuss\\u00ee[base-of-the-throne-(a-feature-of-the-liver)]n\", \"k\\u012bd\\u012btu[exterior-part]n\", \"naglabu[razor]n\", \"kap\\u1e63u[bent-up]aj\", \"t\\u012bru[turned]aj\", \"pi\\u1e6dru[release]n\", \"\\u0161allatu[booty]n\", \"rah\\u1e63u[submerged]aj\", \"lar\\u00fb[branch]n\", \"\\u1e63uppu[decorated]aj\", \"ruqqu[thinness]n\", \"t\\u012br\\u0101nu[coils]n\", \"kar\\u0161u[stomach]n\", \"\\u0161um\\u0113lu[left-side]n\", \"pa\\u1e6dru[released]aj\", \"qablu[hips]n\", \"imittu[right-side]n\", \"\\u0161aknu[placed]aj\", \"i\\u0161du[foundation]n\", \"mazz\\u0101zu[position]n\", \"kub\\u0161u[headcloth]n\", \"nad\\u00fb[placed]aj\", \"\\u1e63ibtu[interest]n\", \"\\u1e63\\u0113ru[back]n\", \"kakku[stick]n\", \"r\\u0113\\u0161u[head]n\", \"dan\\u0101nu[be(come)-strong]v\", \"\\u0161almu[intact]aj\", \"rab\\u00fb[big]aj\", \"nakru[enemy]n\", \"ap\\u0101lu[pay]v\", \"k\\u012bnu[permanent]aj\", \"\\u0161\\u0113pu[foot]n\", \"p\\u016btu[opening]n\", \"aladlamm\\u00fb[human-headed-bull-colossus]n\", \"sisalhu[(a-qualification-of-sheep-and-oxen)]n\", \"d\\u012bku[killed]aj\", \"ma\\u0161kuru[(inflatable)-animal-skin]n\", \"parsu[cut-off]aj\", \"upnu[(cupped)-hand]n\", \"\\u0161andabakku[governor-of-nippur]n\", \"kakkullu[mash-tub]n\", \"qabalt\\u012bu[central]aj\", \"askuppu[(threshold)-slab]n\", \"b\\u016brtu[cow]n\", \"\\u1e63arh\\u016btu[heat]n\", \"bayy\\u0101du[(meaning-unknown)]n\", \"bik\\u012btu[weeping]n\", \"kirrutu[(a-meal)]n\", \"hallam[(a-qualification-of-meat)]n\", \"kabsu[continuous]aj\", \"hal\\u1e63u[fortress]n\", \"ra\\u1e63pu[built]aj\", \"eleppu[ship]n\", \"musukkannu[magan-tree]n\", \"urd\\u0101n\\u016btu[servitude]n\", \"turruku[very-dark]aj\", \"almattu[widow]n\", \"\\u0161a-b\\u0113ti-\\u0161anie[domestic-servant]n\", \"\\u1e63ap\\u0101ru[press-down]v\", \"ed\\u0113du[be(come)-pointed]v\", \"r\\u0101\\u1e6du[water-channel]n\", \"tar\\u0101\\u1e63u[be(come)-in-order]v\", \"kissatu[fodder]n\", \"n\\u0101giru[herald]n\", \"li\\u0161\\u0101nu[tongue]n\", \"alpu[ox]n\", \"n\\u016bnu[fish]n\", \"rabiu[big]aj\", \"e\\u1e63\\u0113du[harvest]v\", \"im\\u0113ru[donkey]n\", \"naptanu[meal(-time)]n\", \"y\\u0101bilu[ram]n\", \"\\u0161appatu[(a-pottery-vessel)]n\", \"immeru[sheep]n\", \"i\\u1e63\\u1e63\\u016bru[bird]n\", \"p\\u012bh\\u0101tu[responsibility]n\", \"\\u0161\\u0101q\\u00fb[butler]n\", \"amru[seen]aj\", \"\\u0161a-p\\u0113thalli[rider]n\", \"rab\\u00fb[big-one]n\", \"\\u0113kallu[palace]n\", \"kall\\u0101pu[outrider]n\", \"maddattu[payment]n\", \"zakk\\u00fb[(official)-freed]n\", \"\\u0161a-p\\u0101n-\\u0113kalli[palace-supervisor]n\", \"\\u0161a-r\\u0113\\u0161i[eunuch]n\", \"rabiu[big-one]n\", \"sinni\\u0161tu[woman]n\", \"nuhatimmu[cook]n\", \"\\u0161\\u012bru[flesh]n\", \"dannu[strong]aj\", \"\\u0101lu[city]n\", \"ma\\u0161ennu[(an-administrator)]n\", \"bibbu[(a-kind-of-wild-sheep)]n\", \"rab\\u00fb[set]v\", \"mah\\u012bru[market-price]n\", \"rigmu[voice]n\", \"nakru[strange]aj\", \"imbaru[fog]n\", \"rah\\u0101\\u1e63u[flood]v\", \"urnatu[(a-garment)]n\", \"\\u0161ar\\u016bru[brilliance]n\", \"maq\\u0101\\u1e6du[(a-garment)]n\", \"nukurtu[enmity]n\", \"tib\\u00fbtu[rise]n\", \"nad\\u0101ru[be(come)-wild]v\", \"naq\\u0101ru[demolish]v\", \"al\\u0101du[give-birth-(to)]v\", \"s\\u0101yu[(a-qualification-of-textiles-perhaps-'knotted')]aj\", \"es\\u0113ru[enclose]v\", \"nindanu[rod]n\", \"urpatu[cloud]n\", \"\\u0161up\\u0101l\\u012btu-halluptu[reinforced-lower-garment]n\", \"\\u0161aptu[lip]n\", \"ba\\u02belu[large]aj\", \"izbu[misbirth]n\", \"zumm\\u00fb[be(come)-deprived-of]v\", \"qat\\u0101ru[smoke]v\", \"\\u1e6deh\\u00fb[be(come)-near-to]v\", \"nargallu[chief-musician]n\", \"er\\u0113b-\\u0161am\\u0161i[west]n\", \"ebbu[bright]aj\", \"hal\\u0101pu[slip-into]v\", \"law\\u00fb[surround]v\", \"tarba\\u1e63u[courtyard]n\", \"m\\u012blu[high-water]n\", \"kakkabu[star]n\", \"zunnu[rain]n\", \"nap\\u0101hu[blow]v\", \"lumnu[evil]n\", \"i\\u0161\\u0101tu[fire]n\", \"zan\\u0101nu[rain]v\", \"eb\\u016bru[harvest]n\", \"miqittu[(down)fall]n\", \"\\u0161\\u012bp\\u0101tu[wool]n\", \"e\\u0161\\u0113ru[be(come)-straight]v\", \"m\\u0101tu[land]n\", \"nad\\u00fb[throw-(down)]v\", \"r\\u00e2mu[love]v\", \"b\\u0113ru[double-hour]n\", \"ittu[sign]n\", \"\\u0161am\\u00fb[sky]n\", \"p\\u016btu[forehead]n\", \"t\\u0101martu[view(ing)]n\", \"m\\u016b\\u0161u[night]n\", \"ra\\u0161\\u00fb[acquire]v\", \"\\u1e63almu[black]aj\", \"kakku[stick]n\", \"ka\\u0161\\u0101du[reach]v\", \"ak\\u0101lu[eat]v\", \"arhu[month]n\", \"dannu[strong]aj\", \"rap\\u0101\\u0161u[be(come)-broad]v\", \"h\\u016bdu[happiness]n\", \"ag\\u00fb[tiara]n\", \"d\\u0101r\\u00fb[lasting]aj\", \"lab\\u0101ru[be(come)-old]v\", \"rab\\u0101\\u1e63u[sit]v\", \"\\u0161ut\\u0101t\\u00fb[being-in-opposition]aj\", \"\\u0161itqulu[balanced]aj\", \"a\\u0161ar\\u0113d\\u016btu[pre-eminence]n\", \"atw\\u00fb[speech]n\", \"rab\\u00fb[be(come)-big]v\", \"b\\u0113l\\u016btu[rule]n\", \"apru[covered-(with)]aj\", \"\\u0161ar\\u0101ku[present]v\", \"n\\u012b\\u0161u[(oath-on-the)-life]n\", \"\\u1e6di\\u0101bu[be(come)-good]v\", \"b\\u0101n\\u00fb[creator]n\", \"mal\\u0101ku[discuss]v\", \"ed\\u0113ru[embrace]v\", \"qerbu[centre]n\", \"\\u0161\\u012bb\\u016btu[old-age]n\", \"bir\\u0161u[felt]n\", \"\\u1e63erru[snake]n\", \"qer\\u012btu[banquet]n\", \"litt\\u016btu[(extreme)-old-age]n\", \"qib\\u012btu[speech]n\", \"n\\u0113melu[profit]n\", \"nab\\u00fb[name]v\", \"lamassu[(female)-tutelary-deity]n\", \"m\\u0101h\\u0101zu[shrine]n\", \"has\\u0101su[be(come)-conscious]v\", \"zikru[utterance]n\", \"arku[long]aj\", \"\\u1e6d\\u016bbu[goodness]n\", \"uznu[ear]n\", \"s\\u0101mu[red]aj\", \"ilu[god]n\", \"ammatu[unit]n\", \"qarnu[horn]n\", \"k\\u00e2nu[be(come)-permanent]v\", \"kuss\\u00fb[chair]n\", \"bal\\u0101\\u1e6du[live]v\", \"m\\u0101tu[land]n\", \"\\u1e63almu[effigy]n\", \"kittu[truth]n\", \"\\u0161am\\u00fb[sky]n\", \"k\\u012bnu[permanent]aj\", \"pal\\u00fb[period-of-office]n\", \"p\\u00fb[mouth]n\", \"damqu[good]aj\", \"t\\u0101martu[view(ing)]n\", \"kar\\u0101bu[pray]v\", \"\\u1e63\\u0113ru[back]n\", \"\\u0161attu[year]n\", \"qaqqaru[ground]n\", \"ni\\u0161u[people]n\", \"rab\\u00fb[big]aj\", \"\\u0161umu[name]n\", \"\\u0161\\u012bru[flesh]n\", \"\\u0101lu[city]n\"], \"Total\": [3672.0, 1561.0, 789.0, 1474.0, 1102.0, 979.0, 1352.0, 843.0, 642.0, 453.0, 871.0, 359.0, 420.0, 425.0, 530.0, 363.0, 596.0, 261.0, 587.0, 310.0, 473.0, 753.0, 728.0, 802.0, 306.0, 493.0, 936.0, 486.0, 533.0, 407.0, 128.83245849609375, 84.88207244873047, 75.06291198730469, 73.97079467773438, 68.51678466796875, 66.33467864990234, 56.14059066772461, 52.55668640136719, 51.0602912902832, 47.78810119628906, 189.32131958007812, 38.966880798339844, 36.87794494628906, 36.87569808959961, 36.68330001831055, 35.91278839111328, 32.50929641723633, 31.734455108642578, 31.423036575317383, 31.420042037963867, 29.241003036499023, 28.648693084716797, 27.55531883239746, 27.05914878845215, 25.96817970275879, 25.968013763427734, 24.877107620239258, 24.872196197509766, 23.7841796875, 23.097986221313477, 113.93283081054688, 118.47288513183594, 359.213623046875, 210.47789001464844, 190.67950439453125, 189.96731567382812, 52.47235870361328, 61.58363342285156, 34.91761016845703, 60.4036750793457, 41.8978157043457, 261.0258483886719, 140.9291229248047, 789.3847045898438, 93.47077178955078, 134.3728485107422, 244.9177703857422, 131.5375213623047, 587.3689575195312, 89.60891723632812, 1352.0352783203125, 958.7062377929688, 56.93910598754883, 38.87948989868164, 36.48579025268555, 151.7484893798828, 26.010665893554688, 25.08717918395996, 22.80799674987793, 22.492231369018555, 21.89581298828125, 21.19501304626465, 19.45072364807129, 18.15402603149414, 18.116546630859375, 17.742830276489258, 17.44655418395996, 17.30124855041504, 15.928534507751465, 15.013500213623047, 15.007194519042969, 14.815858840942383, 14.221415519714355, 13.738687515258789, 13.14735221862793, 12.701663970947266, 12.554564476013184, 12.44063663482666, 12.330574989318848, 11.849923133850098, 11.255450248718262, 11.14556884765625, 29.11002540588379, 133.04391479492188, 33.019935607910156, 35.2957763671875, 47.568355560302734, 183.96669006347656, 38.15361022949219, 94.07537841796875, 32.68399429321289, 51.54172134399414, 49.565860748291016, 189.08291625976562, 364.1741943359375, 111.88217163085938, 66.07337951660156, 204.29367065429688, 188.58016967773438, 42.715904235839844, 533.9286499023438, 109.16788482666016, 121.73954010009766, 161.92376708984375, 1474.29736328125, 264.328857421875, 1352.0352783203125, 226.21397399902344, 505.573974609375, 291.0708923339844, 124.12458038330078, 218.49368286132812, 193.15252685546875, 958.7062377929688, 1561.2401123046875, 309.55462646484375, 910.5003662109375, 399.72344970703125, 802.5576782226562, 418.3172912597656, 387.534912109375, 596.5065307617188, 3672.36474609375, 473.1697082519531, 249.8251495361328, 240.50389099121094, 237.5987548828125, 217.8377227783203, 126.18864440917969, 108.17508697509766, 257.8866882324219, 843.07080078125, 77.9703598022461, 66.019775390625, 65.09786224365234, 260.7232666015625, 242.1706085205078, 43.14714813232422, 35.45677947998047, 1102.9400634765625, 32.22610855102539, 30.73435401916504, 29.79778480529785, 29.3057918548584, 27.849788665771484, 26.453571319580078, 24.4942626953125, 61.54741287231445, 24.065263748168945, 20.655088424682617, 20.245023727416992, 19.281389236450195, 118.85633087158203, 871.612060546875, 54.274200439453125, 474.13067626953125, 399.17529296875, 265.83685302734375, 66.95866394042969, 587.3689575195312, 352.7104797363281, 190.6502227783203, 753.5516967773438, 422.770751953125, 301.1429443359375, 428.244384765625, 407.70977783203125, 125.92693328857422, 626.3976440429688, 936.1692504882812, 213.8394317626953, 387.534912109375, 979.2272338867188, 910.5003662109375, 363.0890197753906, 370.2236328125, 339.5039367675781, 98.83062744140625, 49.2638053894043, 39.42567443847656, 36.85446548461914, 32.55641174316406, 30.907756805419922, 29.877710342407227, 27.163604736328125, 22.9061279296875, 22.05363655090332, 21.32527732849121, 19.488632202148438, 17.38660430908203, 17.13611602783203, 16.547828674316406, 16.1098575592041, 14.788236618041992, 14.072165489196777, 74.44458770751953, 13.539424896240234, 12.472286224365234, 11.52040958404541, 54.92429733276367, 9.86993408203125, 65.83767700195312, 9.166206359863281, 105.44403076171875, 7.776029586791992, 7.771662712097168, 7.555451393127441, 40.88719177246094, 453.13568115234375, 15.993847846984863, 182.72610473632812, 194.09413146972656, 45.26231002807617, 45.55027770996094, 152.5686798095703, 116.77771759033203, 199.70033264160156, 152.64047241210938, 215.9261932373047, 242.94871520996094, 267.007568359375, 120.7611312866211, 316.0054016113281, 152.8184814453125, 264.2777099609375, 1352.0352783203125, 958.7062377929688, 181.302978515625, 407.70977783203125, 317.0179138183594, 411.2544860839844, 596.5065307617188, 282.79632568359375, 110.21094512939453, 380.40826416015625, 459.7230224609375, 64.93602752685547, 64.0868148803711, 50.23888397216797, 48.09285354614258, 40.175804138183594, 38.879547119140625, 67.064453125, 32.202144622802734, 30.161540985107422, 29.14133644104004, 28.964746475219727, 27.121187210083008, 26.178747177124023, 25.232500076293945, 24.434249877929688, 24.066205978393555, 21.39217758178711, 44.07227325439453, 20.297565460205078, 20.15102767944336, 20.150732040405273, 17.75995445251465, 17.258056640625, 40.477176666259766, 16.607160568237305, 16.46424674987793, 16.013530731201172, 91.01365661621094, 85.7120590209961, 14.866687774658203, 38.306217193603516, 313.346435546875, 81.42747497558594, 71.45618438720703, 486.2436218261719, 201.56895446777344, 380.40826416015625, 61.03242492675781, 115.71307373046875, 493.6269836425781, 334.17401123046875, 164.70169067382812, 728.3740844726562, 187.20529174804688, 80.16471099853516, 223.8596649169922, 49.536651611328125, 232.13430786132812, 122.2123031616211, 243.96902465820312, 115.27420043945312, 132.9297332763672, 90.96200561523438, 505.573974609375, 459.7230224609375, 282.79632568359375, 312.00494384765625, 713.659423828125, 411.2544860839844, 958.7062377929688, 420.094482421875, 936.1692504882812, 264.2777099609375, 596.5065307617188, 233.47975158691406, 1561.2401123046875, 910.5003662109375, 979.2272338867188, 533.9286499023438, 363.0890197753906, 802.5576782226562, 425.3821716308594, 306.4818115234375, 214.35499572753906, 209.41452026367188, 175.7530975341797, 171.01873779296875, 126.79109954833984, 116.3227310180664, 111.02372741699219, 104.48198699951172, 102.47637176513672, 98.26399230957031, 97.10041046142578, 96.21807098388672, 78.80225372314453, 62.9153938293457, 180.6743927001953, 55.08906173706055, 85.12728118896484, 132.71994018554688, 37.971763610839844, 27.520177841186523, 21.56294059753418, 130.042724609375, 19.52182960510254, 18.812416076660156, 18.812416076660156, 16.935733795166016, 14.767306327819824, 642.9696655273438, 225.04852294921875, 108.85205078125, 113.12670135498047, 222.6033935546875, 110.7627944946289, 530.3547973632812, 106.04771423339844, 262.6505432128906, 1474.29736328125, 244.9177703857422, 168.03326416015625, 789.3847045898438, 802.5576782226562, 317.0179138183594, 432.3455810546875, 316.0054016113281, 958.7062377929688, 135.9940948486328, 282.90203857421875, 182.0428924560547, 728.3740844726562, 418.3172912597656, 127.04462432861328, 108.9963607788086, 77.3531265258789, 69.93348693847656, 53.45170593261719, 52.408180236816406, 46.79347229003906, 44.866065979003906, 42.42172622680664, 41.178565979003906, 167.84628295898438, 34.94268035888672, 34.558956146240234, 32.716548919677734, 27.94161033630371, 24.457950592041016, 23.654645919799805, 21.84891128540039, 19.28028106689453, 19.162416458129883, 18.922391891479492, 18.325002670288086, 17.638044357299805, 14.789545059204102, 14.549764633178711, 14.003424644470215, 13.908686637878418, 11.622509002685547, 11.333351135253906, 10.861190795898438, 84.37332153320312, 42.34242630004883, 310.580078125, 104.84809112548828, 134.05564880371094, 218.5937957763672, 363.12957763671875, 147.7729949951172, 108.78211975097656, 46.29983901977539, 63.98750686645508, 65.17306518554688, 191.67617797851562, 187.63385009765625, 248.86666870117188, 115.32657623291016, 530.3547973632812, 1474.29736328125, 187.2729949951172, 317.0179138183594, 432.3455810546875, 294.9749755859375, 31.811323165893555, 31.476959228515625, 31.20920181274414, 25.402311325073242, 17.679916381835938, 16.991167068481445, 39.95670700073242, 14.738067626953125, 14.666666030883789, 13.828721046447754, 13.382437705993652, 12.745363235473633, 10.107219696044922, 10.10701847076416, 9.260064125061035, 8.788414001464844, 8.788310050964355, 7.953272342681885, 7.46898078918457, 7.127868175506592, 76.35704040527344, 6.525925159454346, 6.010276794433594, 5.807711124420166, 5.804367542266846, 21.26251220703125, 5.43035888671875, 5.43035888671875, 5.304038047790527, 5.2047858238220215, 24.112611770629883, 67.44963073730469, 18.702463150024414, 261.0258483886719, 29.407255172729492, 23.584131240844727, 22.914810180664062, 66.16480255126953, 40.346920013427734, 75.88224792480469, 79.2189712524414, 789.3847045898438, 93.47077178955078, 420.094482421875, 75.0759506225586, 34.2034797668457, 44.49879455566406, 979.2272338867188, 596.5065307617188, 31.20608901977539, 67.73214721679688, 28.040538787841797, 41.86940002441406, 329.51885986328125, 94.7752914428711, 387.534912109375, 66.63115692138672, 309.55462646484375, 315.92364501953125, 713.659423828125, 94.84503173828125, 52.668609619140625, 47.666141510009766, 47.401153564453125, 46.16048812866211, 203.08734130859375, 35.06675338745117, 33.70984649658203, 31.15125846862793, 29.68680763244629, 28.518661499023438, 27.617177963256836, 25.429311752319336, 22.803258895874023, 22.577377319335938, 22.201292037963867, 21.937143325805664, 20.7712345123291, 20.62112045288086, 20.50767707824707, 19.30126190185547, 19.295001983642578, 17.64961051940918, 17.1591854095459, 16.541120529174805, 16.484394073486328, 68.30123901367188, 15.82790470123291, 15.770853042602539, 15.117244720458984, 14.635661125183105, 170.13038635253906, 165.98439025878906, 74.6040267944336, 97.34403228759766, 93.66209411621094, 55.76163101196289, 94.64463806152344, 58.320289611816406, 62.01155090332031, 102.59027099609375, 51.637779235839844, 46.78245544433594, 118.2531509399414, 1561.2401123046875, 134.3728485107422, 59.35258483886719, 33.4884147644043, 85.2341079711914, 247.0479736328125, 282.90203857421875, 132.982421875, 134.3378448486328, 101.46768951416016, 76.59554290771484, 187.63385009765625, 231.32420349121094, 418.3172912597656, 279.155029296875, 315.92364501953125, 79.18756103515625, 75.16825103759766, 71.35472106933594, 65.81365203857422, 56.073970794677734, 53.49061965942383, 51.63042449951172, 46.46208572387695, 43.6712760925293, 41.342529296875, 39.476009368896484, 37.94758987426758, 37.49162292480469, 36.68571853637695, 33.33063507080078, 80.51622772216797, 28.761178970336914, 28.427509307861328, 27.45847511291504, 51.49291229248047, 25.511737823486328, 24.995250701904297, 24.856081008911133, 24.188865661621094, 24.156635284423828, 24.065778732299805, 23.433696746826172, 22.710542678833008, 22.46070098876953, 22.45749855041504, 87.19208526611328, 40.7860107421875, 162.65399169921875, 171.84872436523438, 108.08521270751953, 137.36900329589844, 1352.0352783203125, 80.629638671875, 135.54962158203125, 197.271728515625, 193.62510681152344, 287.87847900390625, 1561.2401123046875, 99.94647216796875, 191.697998046875, 247.0479736328125, 432.3455810546875, 113.95586395263672, 802.5576782226562, 399.72344970703125, 132.982421875, 459.7230224609375, 191.67617797851562, 403.8944091796875, 264.328857421875, 910.5003662109375, 1474.29736328125, 291.0708923339844, 309.55462646484375, 713.659423828125], \"loglift\": [30.0, 29.0, 28.0, 27.0, 26.0, 25.0, 24.0, 23.0, 22.0, 21.0, 20.0, 19.0, 18.0, 17.0, 16.0, 15.0, 14.0, 13.0, 12.0, 11.0, 10.0, 9.0, 8.0, 7.0, 6.0, 5.0, 4.0, 3.0, 2.0, 1.0, 2.8290998935699463, 2.8257999420166016, 2.82450008392334, 2.824399948120117, 2.823499917984009, 2.8231000900268555, 2.8208999633789062, 2.8199000358581543, 2.8194000720977783, 2.8183000087738037, 2.816200017929077, 2.8143999576568604, 2.813199996948242, 2.813199996948242, 2.8131000995635986, 2.8125998973846436, 2.8101999759674072, 2.8096001148223877, 2.809299945831299, 2.809299945831299, 2.8073999881744385, 2.80679988861084, 2.8055999279022217, 2.8050999641418457, 2.803800106048584, 2.803800106048584, 2.8024001121520996, 2.8024001121520996, 2.800800085067749, 2.799799919128418, 2.7920000553131104, 2.7692999839782715, 2.7360999584198, 2.7471001148223877, 2.6477999687194824, 2.6285998821258545, 2.7151999473571777, 2.6033999919891357, 2.7332000732421875, 2.4897000789642334, 2.6452999114990234, 1.6051000356674194, 1.9057999849319458, 0.805899977684021, 2.1026999950408936, 1.820099949836731, 1.381600022315979, 1.815600037574768, 0.5687999725341797, 2.0799999237060547, -0.4681999981403351, -0.1624000072479248, 2.3896000385284424, 2.382999897003174, 2.3815999031066895, 2.3763999938964844, 2.3726000785827637, 2.371500015258789, 2.3682000637054443, 2.3677000999450684, 2.3666999340057373, 2.365499973297119, 2.361999988555908, 2.3589000701904297, 2.358799934387207, 2.3578999042510986, 2.357100009918213, 2.3566999435424805, 2.3524999618530273, 2.349299907684326, 2.349299907684326, 2.348599910736084, 2.3461999893188477, 2.344099998474121, 2.341399908065796, 2.339099884033203, 2.3382999897003174, 2.3376998901367188, 2.337100028991699, 2.3343000411987305, 2.3304998874664307, 2.3297998905181885, 2.3231000900268555, 2.261899948120117, 2.2943999767303467, 2.2885000705718994, 2.250999927520752, 2.1459999084472656, 2.2595999240875244, 2.183199882507324, 2.2500998973846436, 2.1791999340057373, 2.1756999492645264, 1.9463000297546387, 1.8336000442504883, 1.9961999654769897, 2.0868000984191895, 1.843500018119812, 1.850000023841858, 2.1630001068115234, 1.385699987411499, 1.8289999961853027, 1.7590999603271484, 1.649399995803833, 0.6690000295639038, 1.3047000169754028, 0.5213000178337097, 1.3519999980926514, 0.9557999968528748, 1.2081999778747559, 1.6176999807357788, 1.2422000169754028, 1.184399962425232, 0.13130000233650208, -0.2079000025987625, 0.8481000065803528, 0.06289999932050705, 0.6557999849319458, 0.08569999784231186, 0.4957999885082245, 0.5515000224113464, 0.11490000039339066, 1.5032000541687012, 1.5017999410629272, 1.5003000497817993, 1.500100016593933, 1.500100016593933, 1.4997999668121338, 1.4972000122070312, 1.4960999488830566, 1.4945000410079956, 1.493299961090088, 1.493299961090088, 1.4914000034332275, 1.4911999702453613, 1.4882999658584595, 1.4881999492645264, 1.4850000143051147, 1.4809999465942383, 1.4807000160217285, 1.478700041770935, 1.4773999452590942, 1.4766000509262085, 1.476099967956543, 1.4746999740600586, 1.4731999635696411, 1.4707000255584717, 1.4706000089645386, 1.4701999425888062, 1.4644999504089355, 1.4637000560760498, 1.4616999626159668, 1.4571000337600708, 1.4341000318527222, 1.4594000577926636, 1.4348000288009644, 1.4270999431610107, 1.4327000379562378, 1.455299973487854, 1.3926000595092773, 1.3925000429153442, 1.3875000476837158, 1.3072999715805054, 1.3186999559402466, 1.301800012588501, 1.2538000345230103, 1.2447999715805054, 1.3690999746322632, 1.1174999475479126, 1.0527000427246094, 1.2705999612808228, 1.1164000034332275, 0.8683000206947327, 0.8694000244140625, 1.069200038909912, 0.9907000064849854, 0.8917999863624573, 2.7053000926971436, 2.6970999240875244, 2.693000078201294, 2.691499948501587, 2.6886000633239746, 2.687299966812134, 2.6863999366760254, 2.6837000846862793, 2.677999973297119, 2.6765999794006348, 2.6754000186920166, 2.6717000007629395, 2.666599988937378, 2.6658999919891357, 2.664099931716919, 2.6628000736236572, 2.658099889755249, 2.6552000045776367, 2.6533000469207764, 2.652899980545044, 2.6475000381469727, 2.641900062561035, 2.641200065612793, 2.6294000148773193, 2.6259000301361084, 2.6226999759674072, 2.6064999103546143, 2.605600118637085, 2.6054999828338623, 2.602299928665161, 2.593100070953369, 2.5446999073028564, 2.5771000385284424, 2.4414000511169434, 2.408099889755249, 2.486999988555908, 2.473299980163574, 2.285799980163574, 2.311800003051758, 2.204900026321411, 2.121299982070923, 1.9668999910354614, 1.9112000465393066, 1.8082000017166138, 2.0211000442504883, 1.660599946975708, 1.8772000074386597, 1.5954999923706055, 0.8173999786376953, 0.7813000082969666, 1.6693999767303467, 1.2010999917984009, 1.3342000246047974, 1.0200999975204468, 0.6705999970436096, 1.0713000297546387, 1.7903000116348267, 0.6807000041007996, 0.43549999594688416, 1.7826000452041626, 1.7825000286102295, 1.779099941253662, 1.77839994430542, 1.7753000259399414, 1.7746000289916992, 1.7732000350952148, 1.770400047302246, 1.7688000202178955, 1.767899990081787, 1.767699956893921, 1.7659000158309937, 1.764799952507019, 1.763700008392334, 1.7626999616622925, 1.7621999979019165, 1.7581000328063965, 1.757699966430664, 1.756100058555603, 1.7558000087738037, 1.7558000087738037, 1.750499963760376, 1.7490999698638916, 1.7481000423431396, 1.7473000288009644, 1.746899962425232, 1.7454999685287476, 1.7441999912261963, 1.7431000471115112, 1.7417000532150269, 1.7345000505447388, 1.7079999446868896, 1.7223000526428223, 1.722599983215332, 1.6450999975204468, 1.674399971961975, 1.6411000490188599, 1.7093000411987305, 1.6615999937057495, 1.5642999410629272, 1.5849000215530396, 1.6196999549865723, 1.468500018119812, 1.5846999883651733, 1.6545000076293945, 1.5104999542236328, 1.7029999494552612, 1.5017000436782837, 1.5817999839782715, 1.4773999452590942, 1.5815999507904053, 1.5506999492645264, 1.613700032234192, 1.273900032043457, 1.285099983215332, 1.3638999462127686, 1.3396999835968018, 1.0571000576019287, 1.044100046157837, 0.670799970626831, 0.92330002784729, 0.5521000027656555, 1.1303999423980713, 0.656499981880188, 1.1305999755859375, -0.01940000057220459, 0.2759000062942505, 0.18369999527931213, 0.5777999758720398, 0.7077000141143799, -0.1599999964237213, 2.10479998588562, 2.104099988937378, 2.1029999256134033, 2.1029000282287598, 2.1022000312805176, 2.102099895477295, 2.1005001068115234, 2.099900007247925, 2.099600076675415, 2.099100112915039, 2.0989999771118164, 2.0987000465393066, 2.098599910736084, 2.0985000133514404, 2.0966999530792236, 2.094099998474121, 2.0934998989105225, 2.0922999382019043, 2.0897998809814453, 2.0864999294281006, 2.085700035095215, 2.077699899673462, 2.069499969482422, 2.066699981689453, 2.0655999183654785, 2.063999891281128, 2.063999891281128, 2.0590999126434326, 2.0518999099731445, 2.0485999584198, 2.020699977874756, 2.0255000591278076, 2.0206000804901123, 1.982200026512146, 2.0039000511169434, 1.8948999643325806, 1.9789999723434448, 1.8996000289916992, 1.6649999618530273, 1.8366999626159668, 1.8621000051498413, 1.4545999765396118, 1.2108999490737915, 1.5509999990463257, 1.3029999732971191, 1.4598000049591064, 0.7440999746322632, 1.87909996509552, 1.357800006866455, 1.6706000566482544, 0.4163999855518341, 0.8677999973297119, 2.9618000984191895, 2.9607999324798584, 2.9577999114990234, 2.956700086593628, 2.953200101852417, 2.952899932861328, 2.9511001110076904, 2.9504001140594482, 2.9493000507354736, 2.9488000869750977, 2.947000026702881, 2.9453001022338867, 2.944999933242798, 2.943700075149536, 2.939500093460083, 2.9354000091552734, 2.9342000484466553, 2.9314000606536865, 2.9263999462127686, 2.926100015640259, 2.925600051879883, 2.924099922180176, 2.9223999977111816, 2.9133999347686768, 2.9124999046325684, 2.9102001190185547, 2.9098000526428223, 2.8980000019073486, 2.8961000442504883, 2.892899990081787, 2.8812999725341797, 2.8810999393463135, 2.7690000534057617, 2.791300058364868, 2.757499933242798, 2.7209999561309814, 2.53410005569458, 2.6191000938415527, 2.66129994392395, 2.7744998931884766, 2.719099998474121, 2.7144999504089355, 2.290299892425537, 2.178299903869629, 1.8315000534057617, 2.1610000133514404, 1.1539000272750854, 0.21889999508857727, 1.7003999948501587, 1.211400032043457, 0.8683000206947327, 1.023800015449524, 3.446500062942505, 3.446199893951416, 3.446000099182129, 3.440000057220459, 3.4258999824523926, 3.4238998889923096, 3.420099973678589, 3.4163999557495117, 3.4161999225616455, 3.4126999378204346, 3.4107000827789307, 3.4075000286102295, 3.3901000022888184, 3.3901000022888184, 3.382200002670288, 3.3773000240325928, 3.3773000240325928, 3.36680006980896, 3.359600067138672, 3.3538999557495117, 3.3506999015808105, 3.3422999382019043, 3.3303000926971436, 3.3250999450683594, 3.325000047683716, 3.3215999603271484, 3.313999891281128, 3.313999891281128, 3.3099000453948975, 3.3066000938415527, 3.287400007247925, 3.243499994277954, 3.2762999534606934, 3.1222000122070312, 3.2167999744415283, 3.1937999725341797, 3.185699939727783, 3.0487000942230225, 3.066499948501587, 2.8886001110076904, 2.8585000038146973, 2.2848000526428223, 2.8015999794006348, 2.410900115966797, 2.814300060272217, 3.041800022125244, 2.949399948120117, 1.6612999439239502, 1.8597999811172485, 3.0601999759674072, 2.6970999240875244, 3.0387001037597656, 2.797600030899048, 1.4960999488830566, 2.260999917984009, 1.287500023841858, 2.4340999126434326, 1.1023999452590942, 1.0160000324249268, 0.2768000066280365, 2.0360000133514404, 2.6252999305725098, 2.623699903488159, 2.6236000061035156, 2.623199939727783, 2.6224000453948975, 2.6175999641418457, 2.6166999340057373, 2.6147000789642334, 2.6133999824523926, 2.612299919128418, 2.6113998889923096, 2.608799934387207, 2.60509991645813, 2.60479998588562, 2.6041998863220215, 2.6036999225616455, 2.601599931716919, 2.601300001144409, 2.601099967956543, 2.598599910736084, 2.5985000133514404, 2.594599962234497, 2.5931999683380127, 2.591399908065796, 2.591200113296509, 2.5894999504089355, 2.589099884033203, 2.588900089263916, 2.5866000652313232, 2.5848000049591064, 2.5394999980926514, 2.5130999088287354, 2.537899971008301, 2.5183000564575195, 2.5013999938964844, 2.5114998817443848, 2.4382998943328857, 2.437299966812134, 2.4154000282287598, 2.323199987411499, 2.434999942779541, 2.417099952697754, 2.1728999614715576, 1.5164999961853027, 2.0176000595092773, 2.283600091934204, 2.469099998474121, 2.0889999866485596, 1.593999981880188, 1.503999948501587, 1.8085999488830566, 1.7865999937057495, 1.9217000007629395, 2.0826001167297363, 1.4709999561309814, 1.3070000410079956, 0.7080000042915344, 0.9379000067710876, 0.6726999878883362, 2.1054999828338623, 2.1050000190734863, 2.1043999195098877, 2.1034998893737793, 2.1013998985290527, 2.1006999015808105, 2.1001999378204346, 2.0985000133514404, 2.097399950027466, 2.096400022506714, 2.095400094985962, 2.094599962234497, 2.094399929046631, 2.093899965286255, 2.0917000770568848, 2.0905001163482666, 2.087899923324585, 2.087599992752075, 2.0866000652313232, 2.0864999294281006, 2.0843000411987305, 2.083699941635132, 2.0834999084472656, 2.0826001167297363, 2.0826001167297363, 2.08240008354187, 2.0815000534057617, 2.080399990081787, 2.0799999237060547, 2.0799999237060547, 2.0315001010894775, 2.0536999702453613, 1.9657000303268433, 1.9622999429702759, 1.9470000267028809, 1.88510000705719, 1.5729000568389893, 1.919800043106079, 1.8229999542236328, 1.748900055885315, 1.7232999801635742, 1.5638999938964844, 1.17330002784729, 1.7747000455856323, 1.5666999816894531, 1.4759999513626099, 1.267899990081787, 1.7210999727249146, 1.0335999727249146, 1.1700999736785889, 1.5348000526428223, 0.8959000110626221, 1.3365999460220337, 0.8549000024795532, 1.0604000091552734, 0.24269999563694, -0.3479999899864197, 0.8417999744415283, 0.6790000200271606, -0.14270000159740448], \"logprob\": [30.0, 29.0, 28.0, 27.0, 26.0, 25.0, 24.0, 23.0, 22.0, 21.0, 20.0, 19.0, 18.0, 17.0, 16.0, 15.0, 14.0, 13.0, 12.0, 11.0, 10.0, 9.0, 8.0, 7.0, 6.0, 5.0, 4.0, 3.0, 2.0, 1.0, -3.8626999855041504, -4.283199787139893, -4.407400131225586, -4.4222002029418945, -4.49970006942749, -4.53249979019165, -4.701499938964844, -4.768499851226807, -4.797800064086914, -4.865200042724609, -3.490600109100342, -5.0731000900268555, -5.12939977645874, -5.129499912261963, -5.134799957275391, -5.156599998474121, -5.258500099182129, -5.283299922943115, -5.293399810791016, -5.293499946594238, -5.367300033569336, -5.388400077819824, -5.428400039672852, -5.447199821472168, -5.48960018157959, -5.48960018157959, -5.533899784088135, -5.534200191497803, -5.580399990081787, -5.6107001304626465, -4.02269983291626, -4.00629997253418, -2.930299997329712, -3.4537999629974365, -3.651900053024292, -3.6749000549316406, -4.874800205230713, -4.826399803161621, -5.264100074768066, -4.959499835968018, -5.1697998046875, -4.3805999755859375, -4.696199893951416, -4.0731000900268555, -4.909900188446045, -4.829599857330322, -4.667699813842773, -4.855299949645996, -4.605800151824951, -4.974800109863281, -4.809100151062012, -4.847099781036377, -5.11870002746582, -5.506800174713135, -5.571700096130371, -4.151700019836426, -5.919099807739258, -5.956399917602539, -6.054999828338623, -6.069399833679199, -6.097300052642822, -6.13100004196167, -6.220399856567383, -6.292399883270264, -6.294600009918213, -6.316400051116943, -6.334099769592285, -6.342800140380859, -6.429599761962891, -6.492099761962891, -6.492499828338623, -6.50600004196167, -6.549300193786621, -6.585899829864502, -6.632699966430664, -6.669400215148926, -6.68179988861084, -6.6915998458862305, -6.701099872589111, -6.743599891662598, -6.798900127410889, -6.809500217437744, -5.856100082397461, -4.39769983291626, -5.758699893951416, -5.697999954223633, -5.437099933624268, -4.189499855041504, -5.649099826812744, -4.822999954223633, -5.813300132751465, -5.428699970245361, -5.47130012512207, -4.361800193786621, -3.819000005722046, -4.836599826812744, -5.27269983291626, -4.38730001449585, -4.4608001708984375, -5.632699966430664, -3.8842999935150146, -5.02839994430542, -4.989299774169922, -4.813700199127197, -3.585400104522705, -4.668399810791016, -3.8196001052856445, -4.776800155639648, -4.368800163269043, -4.668499946594238, -5.111299991607666, -4.921299934387207, -5.102399826049805, -4.553400039672852, -4.40500020980835, -4.9670000076293945, -4.673399925231934, -4.90369987487793, -4.776700019836426, -5.018199920654297, -5.039000034332275, -5.044300079345703, -1.8385000228881836, -3.8891000747680664, -4.529300212860107, -4.567399978637695, -4.579599857330322, -4.6666998863220215, -5.2153000831604, -5.3703999519348145, -4.503300189971924, -3.3199000358581543, -5.700699806213379, -5.868899822235107, -5.8831000328063965, -4.498499870300293, -4.572500228881836, -6.3007001876831055, -6.500999927520752, -3.063800096511841, -6.598800182342529, -6.647500038146973, -6.679200172424316, -6.696400165557861, -6.748700141906738, -6.801700115203857, -6.881100177764893, -5.959799766540527, -6.899400234222412, -7.057799816131592, -7.07859992980957, -7.12939977645874, -5.315299987792969, -3.3457999229431152, -6.09689998626709, -3.9539999961853027, -4.133699893951416, -4.5346999168396, -5.890900135040283, -3.7820000648498535, -4.292099952697754, -4.912300109863281, -3.6180999279022217, -4.184700012207031, -4.540900230407715, -4.236800193786621, -4.294899940490723, -5.3454999923706055, -3.992799997329712, -3.6558001041412354, -4.9145002365112305, -4.474100112915039, -3.795300006866455, -3.8668999671936035, -4.586400032043457, -4.645500183105469, -4.830999851226807, -4.2515997886657715, -4.955999851226807, -5.1828999519348145, -5.251800060272217, -5.378699779510498, -5.432000160217285, -5.466800212860107, -5.564700126647949, -5.740799903869629, -5.780200004577637, -5.815000057220459, -5.908699989318848, -6.0279998779296875, -6.0432000160217285, -6.079899787902832, -6.108099937438965, -6.198299884796143, -6.250899791717529, -4.586900234222412, -6.291800022125244, -6.379199981689453, -6.464300155639648, -4.90310001373291, -6.63129997253418, -4.737199783325195, -6.712100028991699, -4.285600185394287, -6.893599987030029, -6.8942999839782715, -6.92579984664917, -5.246300220489502, -2.889400005340576, -6.200900077819824, -3.900899887084961, -3.873800039291382, -5.250800132751465, -5.2581000328063965, -4.2368998527526855, -4.4781999588012695, -4.048600196838379, -4.400899887084961, -4.208499908447266, -4.146299839019775, -4.154799938201904, -4.735300064086914, -4.133900165557861, -4.643799781799316, -4.377799987792969, -3.5234999656677246, -3.90339994430542, -4.680699825286865, -4.338600158691406, -4.457099914550781, -4.511000156402588, -4.48859977722168, -4.8343000411987305, -5.057499885559082, -4.928299903869629, -4.9842000007629395, -5.594200134277344, -5.607600212097168, -5.854400157928467, -5.89870023727417, -6.0817999839782715, -6.115200042724609, -5.571499824523926, -6.307799816131592, -6.374899864196777, -6.410200119018555, -6.416500091552734, -6.484099864959717, -6.520500183105469, -6.558499813079834, -6.591599941253662, -6.6072998046875, -6.7291998863220215, -6.006800174713135, -6.783699989318848, -6.791200160980225, -6.791299819946289, -6.922900199890137, -6.952899932861328, -6.101399898529053, -6.993100166320801, -7.002200126647949, -7.031300067901611, -5.295000076293945, -5.356200218200684, -7.109499931335449, -6.170199871063232, -4.094900131225586, -5.428199768066406, -5.558599948883057, -3.7184998989105225, -4.569799900054932, -3.967900037765503, -5.729599952697754, -5.137599945068359, -3.7841999530792236, -4.15369987487793, -4.826499938964844, -3.490999937057495, -4.733399868011475, -5.51170015335083, -4.628799915313721, -5.944499969482422, -4.60129976272583, -5.162700176239014, -4.575900077819824, -5.221399784088135, -5.1097002029418945, -5.42609977722168, -4.0507001876831055, -4.1346001625061035, -4.541600227355957, -4.46750020980835, -3.922800064086914, -4.486999988555908, -4.013899803161621, -4.58650016784668, -4.156400203704834, -4.842899799346924, -4.502699851989746, -4.9664998054504395, -4.216400146484375, -4.460400104522705, -4.479800224304199, -4.692200183868408, -4.947999954223633, -5.02239990234375, -3.392400026321411, -3.7209999561309814, -4.079599857330322, -4.103000164031982, -4.2789998054504395, -4.306399822235107, -4.6072998046875, -4.693999767303467, -4.740900039672852, -4.80210018157959, -4.821700096130371, -4.863999843597412, -4.875999927520752, -4.885200023651123, -5.086699962615967, -5.3144001960754395, -4.2600998878479, -5.448999881744385, -5.016300201416016, -4.5756001472473145, -5.827700138092041, -6.157700061798096, -6.409800052642822, -4.615699768066406, -6.513199806213379, -6.551799774169922, -6.551799774169922, -6.6616997718811035, -6.8059000968933105, -3.0355000495910645, -4.11329984664917, -4.834799766540527, -4.801199913024902, -4.162700176239014, -4.839000225067139, -3.3819000720977783, -4.907400131225586, -4.079899787902832, -2.589400053024292, -4.212699890136719, -4.564000129699707, -3.4244000911712646, -3.651599884033203, -4.2403998374938965, -4.178100109100342, -4.334700107574463, -3.9405999183654785, -4.758500099182129, -4.547399997711182, -4.6753997802734375, -4.543099880218506, -4.646200180053711, -3.7439000606536865, -3.898200035095215, -4.244100093841553, -4.3460001945495605, -4.618299961090088, -4.638299942016602, -4.753399848937988, -4.796199798583984, -4.853300094604492, -4.883600234985352, -3.480299949645996, -5.051300048828125, -5.062600135803223, -5.11870002746582, -5.280700206756592, -5.418000221252441, -5.452499866485596, -5.5346999168396, -5.66480016708374, -5.671199798583984, -5.684299945831299, -5.717899799346924, -5.757800102233887, -5.942999839782715, -5.96019983291626, -6.000800132751465, -6.007900238037109, -6.199399948120117, -6.226399898529053, -6.272200107574463, -4.233799934387207, -4.923399925231934, -3.0429000854492188, -4.106500148773193, -3.8945000171661377, -3.4421000480651855, -3.1214001178741455, -3.935499906539917, -4.1996002197265625, -4.9405999183654785, -4.672500133514404, -4.658699989318848, -4.004199981689453, -4.137499809265137, -4.2017998695373535, -4.641499996185303, -4.122900009155273, -4.035399913787842, -4.617300033569336, -4.579999923706055, -4.61269998550415, -4.839600086212158, -4.644000053405762, -4.654799938201904, -4.663599967956543, -4.875400066375732, -5.251999855041504, -5.293700218200684, -4.442399978637695, -5.443399906158447, -5.448500156402588, -5.510799884796143, -5.5457000732421875, -5.597599983215332, -5.84689998626709, -5.8470001220703125, -5.942299842834473, -5.999599933624268, -5.999599933624268, -6.109899997711182, -6.179900169372559, -6.232399940490723, -3.8640999794006348, -6.332200050354004, -6.426499843597412, -6.466000080108643, -6.466700077056885, -5.1717000007629395, -6.5441999435424805, -6.5441999435424805, -6.571899890899658, -6.594099998474121, -5.080100059509277, -4.095399856567383, -5.345399856567383, -2.8635001182556152, -4.952199935913086, -5.195899963378906, -5.232800006866455, -4.3094000816345215, -4.786200046539307, -4.332499980926514, -4.3196001052856445, -2.5941998958587646, -4.211100101470947, -3.098900079727173, -4.417500019073486, -4.976200103759766, -4.805500030517578, -3.00219988822937, -3.2994000911712646, -5.049499988555908, -4.637599945068359, -5.1778998374938965, -5.018099784851074, -4.256499767303467, -4.737800121307373, -4.3028998374938965, -4.916999816894531, -4.712699890136719, -4.77869987487793, -4.703100204467773, -4.961999893188477, -4.960899829864502, -5.062300205230713, -5.067999839782715, -5.09499979019165, -3.614300012588501, -5.375400066375732, -5.415800094604492, -5.496699810028076, -5.54610013961792, -5.587399959564209, -5.620500087738037, -5.70550012588501, -5.81820011138916, -5.82859992980957, -5.8460001945495605, -5.858399868011475, -5.91510009765625, -5.922699928283691, -5.928400039672852, -5.991499900817871, -5.9918999671936035, -6.085000038146973, -6.114500045776367, -6.1529998779296875, -6.156599998474121, -4.736800193786621, -6.199399948120117, -6.203199863433838, -6.247799873352051, -6.2820000648498535, -3.8742001056671143, -3.925299882888794, -4.700200080871582, -4.453700065612793, -4.509200096130371, -5.0177001953125, -4.5619001388549805, -5.046999931335449, -5.007500171661377, -4.596399784088135, -5.171000003814697, -5.287700176239014, -4.604599952697754, -2.680500030517578, -4.6321001052856445, -5.183199882507324, -5.570000171661377, -5.015900135040283, -4.446700096130371, -4.401199817657471, -4.851500034332275, -4.863399982452393, -5.008900165557861, -5.1290998458862305, -4.844799995422363, -4.799499988555908, -4.806000232696533, -4.980599880218506, -5.122000217437744, -5.07289981842041, -5.1255998611450195, -5.178199768066406, -5.260000228881836, -5.4222002029418945, -5.46999979019165, -5.50600004196167, -5.6132001876831055, -5.676199913024902, -5.73199987411499, -5.779099941253662, -5.819399833679199, -5.8317999839782715, -5.854000091552734, -5.952099800109863, -5.071400165557861, -6.103400230407715, -6.1153998374938965, -6.151000022888184, -5.522299766540527, -6.226799964904785, -6.247900009155273, -6.253699779510498, -6.281799793243408, -6.283199787139893, -6.287099838256836, -6.314599990844727, -6.3470001220703125, -6.358500003814697, -6.35860013961792, -5.050600051879883, -5.7881999015808105, -4.493000030517578, -4.441400051116943, -4.920400142669678, -4.742499828338623, -2.7679998874664307, -5.240600109100342, -4.81790018081665, -4.5167999267578125, -4.561100006103516, -4.323800086975098, -3.0237998962402344, -5.171000003814697, -4.72760009765625, -4.564700126647949, -4.213200092315674, -5.093400001525879, -3.8287999629974365, -4.389400005340576, -5.12529993057251, -4.523799896240234, -4.957900047302246, -4.694200038909912, -4.912700176239014, -4.493599891662598, -4.602399826049805, -5.034999847412109, -5.136099815368652, -5.122600078582764]}, \"token.table\": {\"Topic\": [2, 5, 9, 10, 5, 6, 3, 8, 2, 7, 6, 3, 10, 2, 3, 5, 1, 2, 5, 9, 10, 2, 1, 2, 3, 4, 5, 6, 9, 4, 8, 1, 8, 1, 8, 9, 3, 10, 7, 8, 10, 1, 6, 7, 2, 10, 3, 10, 4, 6, 7, 3, 4, 5, 6, 7, 8, 9, 10, 5, 7, 9, 10, 1, 4, 5, 7, 10, 6, 8, 10, 4, 2, 3, 5, 6, 7, 10, 2, 6, 7, 9, 2, 4, 5, 9, 10, 5, 2, 3, 4, 5, 6, 7, 8, 9, 2, 4, 5, 6, 9, 10, 6, 2, 1, 5, 8, 9, 2, 9, 4, 8, 5, 6, 7, 8, 9, 10, 1, 2, 1, 3, 10, 2, 3, 5, 1, 3, 4, 8, 9, 10, 10, 2, 9, 2, 3, 6, 7, 6, 10, 6, 5, 9, 6, 8, 2, 3, 5, 6, 7, 2, 3, 5, 6, 7, 8, 9, 10, 1, 2, 3, 4, 5, 6, 8, 9, 10, 5, 6, 7, 9, 5, 6, 7, 9, 5, 1, 2, 1, 4, 5, 4, 2, 5, 6, 9, 10, 10, 8, 3, 5, 6, 10, 9, 7, 5, 9, 10, 8, 10, 2, 3, 5, 1, 6, 8, 3, 4, 5, 6, 10, 7, 4, 5, 6, 7, 10, 2, 6, 8, 2, 2, 3, 5, 2, 1, 3, 9, 7, 7, 1, 2, 9, 2, 10, 4, 9, 1, 4, 5, 9, 10, 4, 7, 9, 10, 3, 8, 5, 5, 2, 3, 4, 8, 2, 4, 5, 6, 2, 1, 6, 4, 9, 1, 8, 9, 2, 5, 7, 9, 8, 3, 4, 5, 5, 2, 10, 1, 7, 5, 6, 2, 5, 6, 4, 5, 1, 5, 6, 3, 4, 10, 2, 5, 10, 3, 5, 1, 2, 4, 5, 7, 9, 10, 6, 7, 9, 2, 4, 7, 9, 1, 1, 6, 7, 8, 2, 4, 5, 8, 1, 3, 4, 2, 5, 9, 10, 9, 7, 10, 3, 6, 9, 1, 8, 8, 6, 9, 10, 6, 7, 9, 10, 8, 3, 8, 4, 4, 5, 1, 4, 7, 4, 5, 10, 1, 1, 7, 4, 5, 10, 1, 4, 4, 5, 7, 10, 7, 3, 4, 5, 6, 7, 9, 10, 4, 10, 8, 2, 3, 5, 4, 8, 5, 6, 9, 10, 2, 9, 10, 3, 5, 7, 9, 1, 2, 3, 6, 7, 4, 1, 2, 3, 5, 10, 1, 5, 10, 1, 5, 9, 10, 7, 6, 7, 10, 2, 4, 6, 10, 6, 10, 2, 7, 2, 6, 9, 10, 7, 4, 9, 3, 5, 9, 2, 6, 10, 3, 5, 6, 7, 9, 3, 5, 10, 4, 8, 4, 9, 10, 6, 6, 6, 2, 4, 2, 3, 4, 6, 7, 5, 4, 7, 8, 5, 4, 5, 6, 1, 2, 3, 4, 5, 9, 10, 9, 10, 1, 3, 2, 9, 7, 4, 5, 9, 1, 3, 10, 1, 3, 7, 9, 10, 1, 3, 4, 5, 8, 8, 1, 5, 8, 2, 5, 8, 10, 6, 2, 7, 9, 1, 2, 3, 4, 5, 3, 4, 8, 4, 1, 1, 2, 3, 4, 5, 6, 10, 2, 2, 3, 4, 1, 2, 3, 5, 7, 9, 10, 9, 10, 1, 2, 5, 6, 9, 10, 7, 10, 2, 7, 9, 1, 2, 7, 9, 5, 9, 7, 3, 5, 9, 2, 5, 6, 7, 10, 9, 10, 5, 4, 2, 3, 5, 10, 1, 8, 10, 7, 9, 10, 1, 10, 9, 9, 1, 2, 6, 2, 4, 9, 2, 4, 5, 8, 9, 2, 4, 10, 2, 4, 5, 10, 2, 9, 2, 1, 3, 6, 2, 3, 5, 10, 1, 3, 4, 8, 3, 9, 3, 1, 3, 4, 8, 4, 1, 3, 10, 10, 2, 7, 1, 4, 6, 8, 10, 10, 2, 8, 9, 7, 2, 5, 9, 10, 2, 5, 9, 10, 1, 2, 5, 6, 7, 5, 8, 6, 2, 6, 1, 4, 7, 4, 7, 6, 7, 5, 5, 2, 5, 6, 7, 10, 1, 2, 3, 5, 7, 8, 4, 4, 5, 6, 9, 8, 4, 8, 2, 5, 7, 7, 3, 6, 1, 3, 2, 3, 4, 5, 9, 10, 9, 10, 9, 6, 10, 4, 1, 4, 5, 6, 9, 10, 10, 10, 4, 1, 3, 5, 1, 2, 3, 4, 5, 6, 7, 8, 10, 2, 3, 5, 2, 4, 5, 7, 8, 1, 8, 10, 1, 2, 3, 5, 6, 7, 8, 1, 2, 3, 6, 7, 8, 10, 9, 3, 10, 10, 9, 5, 7, 1, 2, 3, 4, 5, 2, 4, 5, 7, 10, 2, 7, 9, 10, 8, 5, 2, 6, 7, 9, 2, 7, 9, 10, 7, 2, 8, 5, 9, 8, 2, 3, 4, 5, 7, 10, 2, 3, 2, 4, 5, 8, 9, 3, 1, 6, 9, 1, 1, 1, 4, 2, 3, 4, 8, 9, 8, 3, 4, 6, 7, 1, 1, 1, 4, 10, 9, 4, 4, 2, 3, 6, 3, 2, 5, 2, 6, 5, 4, 9, 8, 1, 3, 5, 4, 5, 6, 7, 9, 4, 9, 3, 2, 8, 2, 3, 4, 5, 6, 9, 9, 10, 2, 7, 6, 7, 7, 2, 7, 1, 2, 2, 3, 6, 4, 1, 8, 8, 6, 9, 9, 5, 10, 5, 7, 6, 7, 5, 5, 6, 7, 5, 1, 8, 5, 3, 8, 1, 6, 9, 3, 5, 3, 4, 10, 9, 6, 9, 1, 2, 3, 5, 7, 10, 2, 2, 2, 3, 5, 6, 7, 8, 9, 10, 6, 2, 6, 2, 3, 4, 5, 6, 7, 8, 9, 10, 3, 8, 3, 4, 5, 8, 3, 5, 8, 2, 3, 5, 6, 7, 8, 4, 3, 2, 3, 2, 3, 4, 5, 7, 10, 4, 7, 1, 2, 6, 7, 1, 9, 1, 2, 10, 2, 2, 4, 9, 10, 8, 1, 3, 4, 2, 5, 7, 9, 10, 2, 9, 7, 1, 8, 9, 2, 8, 10, 10, 9, 2, 9, 2, 3, 4, 5, 6, 7, 9, 10, 3, 5, 6, 10, 4, 2, 5, 6, 2, 1, 1, 4, 6, 4, 5, 7, 2, 5, 6, 7, 2, 3, 10, 2, 5, 2, 2, 4, 5, 6, 7, 10, 6, 1, 4, 7, 9, 6, 9, 3, 10, 1, 1, 3, 4, 8, 2, 1, 4, 6, 2, 3, 4, 5, 7, 9, 10, 5, 3, 10, 7, 2, 10, 3, 9, 10, 1, 2, 6, 7, 8, 10, 2, 4, 5, 6, 7, 9, 4, 7, 9, 10, 2, 3, 6, 9, 10, 2, 7, 8, 8, 3, 10, 3, 10, 2, 7, 8, 2, 10, 1, 6, 3, 7, 3, 3, 7, 2, 4, 5, 6, 7, 10, 1, 7, 9, 10, 1, 4, 9, 10, 5, 10, 2, 3, 5, 10, 2, 3, 4, 5, 6, 2, 5, 2, 5, 6, 7, 10, 1, 5, 6, 7, 10], \"Freq\": [0.5656633377075195, 0.18672382831573486, 0.046680957078933716, 0.200453519821167, 0.9841278791427612, 0.014911028556525707, 0.9558135867118835, 0.02986917458474636, 0.9752979874610901, 0.01976955495774746, 0.9854503870010376, 0.9694867134094238, 0.9950287938117981, 0.3614715039730072, 0.3408695161342621, 0.2959196865558624, 0.46870335936546326, 0.14507484436035156, 0.11159603297710419, 0.06695762276649475, 0.1897132694721222, 0.9835068583488464, 0.052591659128665924, 0.14821285009384155, 0.1266980916261673, 0.03824847936630249, 0.20080451667308807, 0.2892541289329529, 0.14582233130931854, 0.9829093217849731, 0.984847366809845, 0.9627166986465454, 0.8614202737808228, 0.29115891456604004, 0.7049110531806946, 0.9458909034729004, 0.1736334264278412, 0.8185575604438782, 0.058473583310842514, 0.6432093977928162, 0.26313111186027527, 0.9865373969078064, 0.8849819898605347, 0.1123073622584343, 0.8643762469291687, 0.1277773529291153, 0.9979048371315002, 0.9868870973587036, 0.25235167145729065, 0.5741000771522522, 0.17349177598953247, 0.1826941817998886, 0.017911193892359734, 0.15045402944087982, 0.20776985585689545, 0.014328955672681332, 0.05731582269072533, 0.1826941817998886, 0.18985866010189056, 0.0491841584444046, 0.01229603961110115, 0.0737762376666069, 0.8607227802276611, 0.009073508903384209, 0.3992343842983246, 0.42645493149757385, 0.018147017806768417, 0.14517614245414734, 0.9940431118011475, 0.9714224338531494, 0.9917148351669312, 0.9743461608886719, 0.08541874587535858, 0.5419672131538391, 0.15316464006900787, 0.12370990216732025, 0.09425516426563263, 0.9846289157867432, 0.08756882697343826, 0.8147708177566528, 0.0304587222635746, 0.06853212416172028, 0.1011207327246666, 0.4044829308986664, 0.35204994678497314, 0.03745212033390999, 0.1011207327246666, 0.9822278022766113, 0.048631686717271805, 0.11671604961156845, 0.1848004162311554, 0.4717273712158203, 0.06078961119055748, 0.01945267617702484, 0.014589506201446056, 0.08267387002706528, 0.10768432915210724, 0.09378957748413086, 0.14936858415603638, 0.031263191252946854, 0.04168425500392914, 0.5766322016716003, 0.998020589351654, 0.9645808339118958, 0.024705279618501663, 0.9635059237480164, 0.8904703259468079, 0.9631940722465515, 0.9462330341339111, 0.9873053431510925, 0.9522238969802856, 0.8639249205589294, 0.8119428753852844, 0.0908093973994255, 0.005341729149222374, 0.05875902250409126, 0.032050374895334244, 0.9601824283599854, 0.9647423624992371, 0.9364314079284668, 0.02524055726826191, 0.950727641582489, 0.016827037557959557, 0.051440466195344925, 0.7903125882148743, 0.15432140231132507, 0.02620537020266056, 0.02620537020266056, 0.5503127574920654, 0.06551342457532883, 0.01310268510133028, 0.3144644498825073, 0.9735345244407654, 0.9275155067443848, 0.06870485097169876, 0.08331684023141861, 0.059512026607990265, 0.7855587601661682, 0.07141443341970444, 0.9810982942581177, 0.9750289916992188, 0.9907792210578918, 0.14930535852909088, 0.8361100554466248, 0.9984279274940491, 0.9415188431739807, 0.012818194925785065, 0.6366370320320129, 0.28840938210487366, 0.05875005945563316, 0.002136365743353963, 0.17512106895446777, 0.06254324316978455, 0.06254324316978455, 0.26518332958221436, 0.027519026771187782, 0.007505188696086407, 0.012508648447692394, 0.38776808977127075, 0.12028222531080246, 0.09495965391397476, 0.17409269511699677, 0.0031653218902647495, 0.2690523564815521, 0.018991930410265923, 0.08546368777751923, 0.13927416503429413, 0.09179433435201645, 0.2514598071575165, 0.02601308561861515, 0.4422224462032318, 0.26880186796188354, 0.8880335688591003, 0.07441622018814087, 0.014883244410157204, 0.01984432525932789, 0.9753401279449463, 0.9369232654571533, 0.05908524990081787, 0.010515018366277218, 0.1314377337694168, 0.8569740056991577, 0.9466984272003174, 0.1584719866514206, 0.5139632225036621, 0.2270004153251648, 0.05996237322688103, 0.0342642143368721, 0.9876370429992676, 0.9841623902320862, 0.8214433193206787, 0.027868028730154037, 0.14066718518733978, 0.009289342910051346, 0.9260947108268738, 0.9866517782211304, 0.07798010110855103, 0.7310634851455688, 0.19495025277137756, 0.9207494854927063, 0.9833029508590698, 0.15797820687294006, 0.052659399807453156, 0.7823682427406311, 0.013096368871629238, 0.09167458862066269, 0.8905531167984009, 0.10608341544866562, 0.19448626041412354, 0.6506449580192566, 0.017680568620562553, 0.028288910165429115, 0.9830430746078491, 0.9892030954360962, 0.634605348110199, 0.2884569764137268, 0.06410154700279236, 0.012820309959352016, 0.06319811940193176, 0.9028302431106567, 0.02708490751683712, 0.9781154990196228, 0.04818657413125038, 0.932754397392273, 0.018356790766119957, 0.9581335186958313, 0.3973628580570221, 0.6031400561332703, 0.9511216878890991, 0.9663007855415344, 0.9838260412216187, 0.7118772268295288, 0.19866341352462769, 0.08277641981840134, 0.8649247288703918, 0.10483935475349426, 0.9621331691741943, 0.9628700613975525, 0.004116095136851072, 0.4486543536186218, 0.3992612063884735, 0.11936675757169724, 0.02881266549229622, 0.16067224740982056, 0.01691286824643612, 0.6257761120796204, 0.1944979876279831, 0.2181994915008545, 0.7418782711029053, 0.962668776512146, 0.9586601257324219, 0.026331940665841103, 0.932902991771698, 0.0075234114192426205, 0.03385535255074501, 0.09176195412874222, 0.648888111114502, 0.25562259554862976, 0.9568148851394653, 0.9127312898635864, 0.2327311784029007, 0.7635215520858765, 0.8753365874290466, 0.06252404302358627, 0.9524639844894409, 0.9103001356124878, 0.956567645072937, 0.2951035797595978, 0.5125483274459839, 0.015531767159700394, 0.17602668702602386, 0.9372095465660095, 0.9682844281196594, 0.9007081389427185, 0.9549731016159058, 0.9773776531219482, 0.06881358474493027, 0.917514443397522, 0.9866313934326172, 0.9915492534637451, 0.9634398221969604, 0.9983438849449158, 0.7972330451011658, 0.0850381925702095, 0.10629773885011673, 0.790335476398468, 0.197583869099617, 0.9768562316894531, 0.9333459138870239, 0.061404336243867874, 0.7726083993911743, 0.220745250582695, 0.0049054501578211784, 0.1881970912218094, 0.810065746307373, 0.9844582080841064, 0.9857194423675537, 0.011506453156471252, 0.036981284618377686, 0.1523628830909729, 0.15014401078224182, 0.05917005240917206, 0.007396256551146507, 0.013313261792063713, 0.581345796585083, 0.9440569877624512, 0.055990200489759445, 0.9695793390274048, 0.013724085874855518, 0.13724085688591003, 0.7822728753089905, 0.06862042844295502, 0.9868759512901306, 0.13174818456172943, 0.5206586718559265, 0.041804712265729904, 0.30530107021331787, 0.04534132778644562, 0.18136531114578247, 0.1057964339852333, 0.6498923897743225, 0.10385295003652573, 0.8955188989639282, 0.9571630954742432, 0.15252110362052917, 0.09385913610458374, 0.574887216091156, 0.1759858876466751, 0.9324451684951782, 0.7037822008132935, 0.2909868657588959, 0.9619529247283936, 0.1714669167995453, 0.8230412006378174, 0.4814339280128479, 0.5135295391082764, 0.8801408410072327, 0.9480401873588562, 0.883464515209198, 0.10272843390703201, 0.13323822617530823, 0.4530099332332611, 0.30911266803741455, 0.10126104950904846, 0.9545454978942871, 0.3204502761363983, 0.6729456186294556, 0.9238094687461853, 0.05597836151719093, 0.9236429333686829, 0.05462063476443291, 0.9285507798194885, 0.9730221033096313, 0.06596160680055618, 0.8355136513710022, 0.08794880658388138, 0.967029333114624, 0.9896082878112793, 0.9638257026672363, 0.10223547369241714, 0.6003614664077759, 0.29583030939102173, 0.9169608950614929, 0.08076857775449753, 0.7607013583183289, 0.235324889421463, 0.9210619926452637, 0.0708509236574173, 0.9954348802566528, 0.9975279569625854, 0.047552309930324554, 0.3198973536491394, 0.0648440569639206, 0.0648440569639206, 0.26369917392730713, 0.24208448827266693, 0.8804713487625122, 0.0978301465511322, 0.9102894067764282, 0.08505559712648392, 0.8959189653396606, 0.017011119052767754, 0.12441621720790863, 0.829441487789154, 0.2138780802488327, 0.02608269266784191, 0.17736230790615082, 0.579035758972168, 0.45921605825424194, 0.20946697890758514, 0.3303132951259613, 0.8168877959251404, 0.17931683361530304, 0.8207371830940247, 0.1511884331703186, 0.9608579874038696, 0.03757747635245323, 0.9269110560417175, 0.007515495177358389, 0.02755681611597538, 0.9749273061752319, 0.9762526750564575, 0.2788894474506378, 0.020658478140830994, 0.020658478140830994, 0.6765651702880859, 0.8106657862663269, 0.17371408641338348, 0.01052812673151493, 0.025345750153064728, 0.1470053493976593, 0.1317979097366333, 0.6944735646247864, 0.9512539505958557, 0.44871512055397034, 0.12258712202310562, 0.42789843678474426, 0.07594435662031174, 0.9113322496414185, 0.9953513741493225, 0.9808472394943237, 0.9957150220870972, 0.9794885516166687, 0.9447581171989441, 0.9713791608810425, 0.051472824066877365, 0.7941521406173706, 0.13971194624900818, 0.007353260647505522, 0.9464393854141235, 0.09404551982879639, 0.9051880836486816, 0.6472241878509521, 0.3360057473182678, 0.013770727440714836, 0.7959564328193665, 0.04682096838951111, 0.16387338936328888, 0.934341549873352, 0.04218246415257454, 0.006327369716018438, 0.0042182463221251965, 0.012654739432036877, 0.9974799752235413, 0.9855853915214539, 0.9521193504333496, 0.1604066789150238, 0.8020333647727966, 0.9002023339271545, 0.8135696053504944, 0.17961926758289337, 0.9991015791893005, 0.9898194074630737, 0.9972255825996399, 0.7954720854759216, 0.19401757419109344, 0.05913370102643967, 0.8302372097969055, 0.011826740577816963, 0.030749525874853134, 0.06859509646892548, 0.9608344435691833, 0.4576851725578308, 0.07382018864154816, 0.4576851725578308, 0.9511542916297913, 0.011666969396173954, 0.9450245499610901, 0.03500090911984444, 0.015135593712329865, 0.03783898428082466, 0.034055083990097046, 0.3254152536392212, 0.5146101713180542, 0.03027118742465973, 0.045406781136989594, 0.9915370345115662, 0.9849614500999451, 0.02176002226769924, 0.9773876667022705, 0.9866855144500732, 0.9818132519721985, 0.990858793258667, 0.03742295131087303, 0.8732022047042847, 0.08732021600008011, 0.8353657722473145, 0.04773518443107605, 0.11933796107769012, 0.9835084080696106, 0.9335426688194275, 0.735414981842041, 0.12869761884212494, 0.12869761884212494, 0.13706569373607635, 0.28467491269111633, 0.05271757394075394, 0.2741313874721527, 0.24250084161758423, 0.9615430235862732, 0.9924575686454773, 0.9084182977676392, 0.0807482898235321, 0.0837886855006218, 0.810954749584198, 0.0418943427503109, 0.05984905734658241, 0.9937605857849121, 0.0580969974398613, 0.1161939948797226, 0.8133580088615417, 0.049684859812259674, 0.11593133956193924, 0.31467077136039734, 0.49684861302375793, 0.01656161993741989, 0.9869075417518616, 0.012387961149215698, 0.9194098711013794, 0.9311069250106812, 0.9627228379249573, 0.12357337027788162, 0.31122180819511414, 0.05034470558166504, 0.20137882232666016, 0.24714674055576324, 0.05949828773736954, 0.9796282649040222, 0.9773790836334229, 0.5727007389068604, 0.40301162004470825, 0.01590835303068161, 0.0019215494394302368, 0.07365939021110535, 0.037149954587221146, 0.16333170235157013, 0.009607747197151184, 0.32474184036254883, 0.3900745213031769, 0.8980748653411865, 0.0938287153840065, 0.9649328589439392, 0.05210743099451065, 0.05955135077238083, 0.36475202441215515, 0.4243033826351166, 0.09677094221115112, 0.9335963726043701, 0.968713104724884, 0.14065246284008026, 0.7814025282859802, 0.0781402513384819, 0.3646570146083832, 0.037209898233413696, 0.05953583866357803, 0.5358225107192993, 0.9853398203849792, 0.9647743701934814, 0.982264518737793, 0.9734131097793579, 0.939795196056366, 0.05221084505319595, 0.08543676882982254, 0.4805818498134613, 0.12281535565853119, 0.28300929069519043, 0.026698991656303406, 0.9798739552497864, 0.014771969057619572, 0.9271032214164734, 0.9264833331108093, 0.10264066606760025, 0.5996375679969788, 0.12965136766433716, 0.16746634244918823, 0.17349527776241302, 0.6691960692405701, 0.148710235953331, 0.035866957157850266, 0.8787404298782349, 0.07173391431570053, 0.9567040205001831, 0.035108406096696854, 0.9744267463684082, 0.9476933479309082, 0.023069340735673904, 0.015379561111330986, 0.9612225294113159, 0.21638984978199005, 0.736755907535553, 0.04121711477637291, 0.956663966178894, 0.3530002534389496, 0.5184691548347473, 0.03309377655386925, 0.09376569837331772, 0.0662803128361702, 0.79536372423172, 0.1325606256723404, 0.18444964289665222, 0.04098881036043167, 0.7296008467674255, 0.04508769139647484, 0.9558276534080505, 0.9698793888092041, 0.9328858852386475, 0.9796833395957947, 0.011747115291655064, 0.9867576956748962, 0.0966501533985138, 0.5304775238037109, 0.21856114268302917, 0.1537616103887558, 0.030015988275408745, 0.39020785689353943, 0.22511990368366241, 0.36019185185432434, 0.9875547885894775, 0.977652370929718, 0.9895654916763306, 0.014825877733528614, 0.11860702186822891, 0.059303510934114456, 0.8005974292755127, 0.8727710843086243, 0.8957096934318542, 0.05717295780777931, 0.038115307688713074, 0.9814925789833069, 0.9417062401771545, 0.939338743686676, 0.075948067009449, 0.3480953276157379, 0.5221429467201233, 0.0126580111682415, 0.03480952978134155, 0.9900801181793213, 0.10201564431190491, 0.7821199297904968, 0.10201564431190491, 0.9917774796485901, 0.9449334144592285, 0.9772761464118958, 0.31591176986694336, 0.6757001876831055, 0.10928849875926971, 0.8378784656524658, 0.012143165804445744, 0.036429498344659805, 0.008615701459348202, 0.017231402918696404, 0.7452582120895386, 0.146466925740242, 0.08184916526079178, 0.9614893198013306, 0.941665768623352, 0.9953868985176086, 0.07955681532621384, 0.919323205947876, 0.325404554605484, 0.6679356694221497, 0.9723248481750488, 0.15260173380374908, 0.8393095135688782, 0.9568148851394653, 0.9622148871421814, 0.9816672205924988, 0.9718027114868164, 0.09843529015779495, 0.14204587042331696, 0.4086933732032776, 0.012460163794457912, 0.33891645073890686, 0.9761932492256165, 0.02380416914820671, 0.20471584796905518, 0.4189533591270447, 0.007141250651329756, 0.34516045451164246, 0.9777642488479614, 0.09897419065237045, 0.10604377090930939, 0.47366219758987427, 0.3216661214828491, 0.9744957685470581, 0.970623254776001, 0.9400724768638611, 0.06713629513978958, 0.11935342103242874, 0.8130951523780823, 0.9922115206718445, 0.0150693254545331, 0.9795061945915222, 0.9751871228218079, 0.9761064052581787, 0.33291861414909363, 0.06431382894515991, 0.162676140666008, 0.05296432599425316, 0.034048497676849365, 0.3480512797832489, 0.25083065032958984, 0.7451145648956299, 0.9706149697303772, 0.01942014880478382, 0.9710074067115784, 0.9548271894454956, 0.13430514931678772, 0.47238364815711975, 0.26397907733917236, 0.00926242396235466, 0.08799303323030472, 0.03241848573088646, 0.9508507251739502, 0.9557139277458191, 0.9668942093849182, 0.904754102230072, 0.0918673425912857, 0.9417027235031128, 0.0500674732029438, 0.10326416790485382, 0.04589518532156944, 0.1449870616197586, 0.32543858885765076, 0.255552738904953, 0.0250337366014719, 0.013559941202402115, 0.03650753200054169, 0.9645739793777466, 0.0655389353632927, 0.9175450801849365, 0.21102546155452728, 0.1371665596961975, 0.3376407325267792, 0.01055127289146185, 0.2954356372356415, 0.21200695633888245, 0.7632250785827637, 0.9879418015480042, 0.008169707842171192, 0.02655154839158058, 0.5300097465515137, 0.20015783607959747, 0.05923037976026535, 0.01327577419579029, 0.16339415311813354, 0.018992098048329353, 0.17635519802570343, 0.008139470592141151, 0.6430181860923767, 0.06375918537378311, 0.004069735296070576, 0.08546444028615952, 0.9860248565673828, 0.9748582243919373, 0.016247635707259178, 0.9908279180526733, 0.9789424538612366, 0.9572096467018127, 0.934667706489563, 0.35731250047683716, 0.16725265979766846, 0.1900598406791687, 0.16725265979766846, 0.11403590440750122, 0.05185239389538765, 0.05185239389538765, 0.872848629951477, 0.017284132540225983, 0.9850031733512878, 0.21681778132915497, 0.2069624364376068, 0.4829123318195343, 0.08869818598031998, 0.8417664170265198, 0.9707335233688354, 0.7718788385391235, 0.21199490129947662, 0.010871533304452896, 0.9748597145080566, 0.5587723851203918, 0.10992243885993958, 0.22900508344173431, 0.10076223313808441, 0.9207093715667725, 0.8782920837402344, 0.08499600738286972, 0.286423921585083, 0.7076355814933777, 0.9426779747009277, 0.08840075135231018, 0.02009107917547226, 0.16072863340377808, 0.3013661801815033, 0.32145726680755615, 0.10849183052778244, 0.9768273830413818, 0.9828540682792664, 0.053605012595653534, 0.16528211534023285, 0.7549372315406799, 0.008934169076383114, 0.017868338152766228, 0.9845534563064575, 0.9949547052383423, 0.87696373462677, 0.11315660923719406, 0.9894078969955444, 0.9575594663619995, 0.979234516620636, 0.9706301093101501, 0.15740516781806946, 0.6786485314369202, 0.007741237990558147, 0.11353816092014313, 0.04128660261631012, 0.9612549543380737, 0.05958480387926102, 0.8452214598655701, 0.08386009186506271, 0.011034222319722176, 0.9843338131904602, 0.9858397245407104, 0.9773569703102112, 0.2038305550813675, 0.7934831976890564, 0.9572805166244507, 0.9118601679801941, 0.9601589441299438, 0.007755344267934561, 0.9926840662956238, 0.9447479844093323, 0.9385022521018982, 0.7868319153785706, 0.18157659471035004, 0.07998275011777878, 0.919801652431488, 0.9666923880577087, 0.11446859687566757, 0.8796007633209229, 0.7685234546661377, 0.0104904156178236, 0.8916853070259094, 0.09965894371271133, 0.4318849444389343, 0.24866102635860443, 0.013087422586977482, 0.05889340117573738, 0.24866102635860443, 0.9604417085647583, 0.9831174612045288, 0.9891371726989746, 0.9141143560409546, 0.8609243631362915, 0.05587505176663399, 0.6800791621208191, 0.035121459513902664, 0.14687156677246094, 0.06705006211996078, 0.014367870055139065, 0.43614786863327026, 0.5564645528793335, 0.8972175717353821, 0.9466146230697632, 0.07111252844333649, 0.9126107692718506, 0.9900587201118469, 0.017873497679829597, 0.9770845174789429, 0.9164429903030396, 0.08591653406620026, 0.4693566560745239, 0.5187626481056213, 0.01235149148851633, 0.9847468733787537, 0.025027086958289146, 0.9510293006896973, 0.8319084644317627, 0.9732694029808044, 0.9630429744720459, 0.9752445220947266, 0.1480313539505005, 0.8419283032417297, 0.9556969404220581, 0.9806966185569763, 0.9186781644821167, 0.07349424809217453, 0.9428799748420715, 0.7941219210624695, 0.20055629312992096, 0.004051642492413521, 0.9367078542709351, 0.43488430976867676, 0.5534891486167908, 0.983041524887085, 0.32096388936042786, 0.6419277787208557, 0.9935384392738342, 0.19351233541965485, 0.8063014149665833, 0.8735224008560181, 0.11911669373512268, 0.9961543679237366, 0.0490364208817482, 0.9316920042037964, 0.9672863483428955, 0.11744345724582672, 0.8648108839988708, 0.057467713952064514, 0.3492268919944763, 0.08399127423763275, 0.4155357778072357, 0.0044205933809280396, 0.08399127423763275, 0.9324941039085388, 0.9282760620117188, 0.06305528432130814, 0.15553636848926544, 0.47781896591186523, 0.08687617629766464, 0.036431942135095596, 0.04063563048839569, 0.033629488199949265, 0.10509214550256729, 0.9871367812156677, 0.9825880527496338, 0.9738931655883789, 0.10058565437793732, 0.1676427572965622, 0.12908492982387543, 0.3201976716518402, 0.00838213786482811, 0.011734993197023869, 0.1994948834180832, 0.0318521223962307, 0.030175697058439255, 0.09406226128339767, 0.8465603590011597, 0.28660547733306885, 0.04776758328080177, 0.14330273866653442, 0.5015596151351929, 0.08989007771015167, 0.31461524963378906, 0.5842854976654053, 0.12138910591602325, 0.3368547558784485, 0.2427782118320465, 0.12442383170127869, 0.030347276479005814, 0.13959747552871704, 0.9768151640892029, 0.9831352233886719, 0.9611441493034363, 0.9871172904968262, 0.04681524634361267, 0.030292216688394547, 0.013769189827144146, 0.16523027420043945, 0.6471518874168396, 0.09363049268722534, 0.9337005019187927, 0.9283443689346313, 0.009427650831639767, 0.016969772055745125, 0.8088924884796143, 0.16215559840202332, 0.7956659197807312, 0.19485697150230408, 0.8286155462265015, 0.08915483951568604, 0.07866603136062622, 0.9436181783676147, 0.044525764882564545, 0.07286034524440765, 0.3521583080291748, 0.5262135863304138, 0.9499210119247437, 0.20030011236667633, 0.1952926069498062, 0.6009003520011902, 0.5257124900817871, 0.361427366733551, 0.04928554967045784, 0.02464277483522892, 0.032857030630111694, 0.9085420370101929, 0.0908542051911354, 0.9780982732772827, 0.45443660020828247, 0.5427992939949036, 0.9847109913825989, 0.6346421837806702, 0.005288685206323862, 0.3596305847167969, 0.9813082814216614, 0.9768648743629456, 0.8619175553321838, 0.12613427639007568, 0.019807156175374985, 0.20302335917949677, 0.04704199731349945, 0.16836082935333252, 0.1881679892539978, 0.012379473075270653, 0.07922862470149994, 0.28472787141799927, 0.06591852754354477, 0.10437100380659103, 0.6481989026069641, 0.18676917254924774, 0.991595447063446, 0.1301245242357254, 0.8067720532417297, 0.05204980820417404, 0.9731906056404114, 0.9798471331596375, 0.9824566841125488, 0.015846075490117073, 0.9802308678627014, 0.021974723786115646, 0.9559004902839661, 0.021974723786115646, 0.006382711697369814, 0.9159191250801086, 0.054253049194812775, 0.022339491173624992, 0.9744044542312622, 0.9966970682144165, 0.9900545477867126, 0.022690001875162125, 0.952980101108551, 0.9383686780929565, 0.3023318350315094, 0.017177945002913475, 0.17521505057811737, 0.1649082750082016, 0.058405015617609024, 0.2782827317714691, 0.9744082689285278, 0.028978032991290092, 0.0965934470295906, 0.8210442662239075, 0.05151650309562683, 0.9886673092842102, 0.9843915700912476, 0.9732267260551453, 0.9877896904945374, 0.9745832085609436, 0.09323891252279282, 0.30635643005371094, 0.06659922003746033, 0.5194739699363708, 0.9590874910354614, 0.09483703970909119, 0.9009519219398499, 0.98734050989151, 0.09831342101097107, 0.14916519820690155, 0.11526401340961456, 0.3220612108707428, 0.14238496124744415, 0.10170353949069977, 0.06780236214399338, 0.9428938031196594, 0.9999006986618042, 0.9799410700798035, 0.9812759757041931, 0.7264650464057922, 0.25728970766067505, 0.08550214022397995, 0.7908948063850403, 0.10687767714262009, 0.07106984406709671, 0.2099790871143341, 0.31658387184143066, 0.06783939898014069, 0.09368298202753067, 0.23905311524868011, 0.2353760451078415, 0.04351489990949631, 0.5933849811553955, 0.10680929571390152, 0.009889749810099602, 0.007911799475550652, 0.37861210107803345, 0.02611117996275425, 0.5744459629058838, 0.013055589981377125, 0.13006962835788727, 0.07003749161958694, 0.060032133013010025, 0.02001071162521839, 0.7103802561759949, 0.8884584307670593, 0.9611462950706482, 0.9207494854927063, 0.8904526233673096, 0.9904268980026245, 0.009489119984209538, 0.9798212647438049, 0.9655584692955017, 0.12275009602308273, 0.7825318574905396, 0.0920625701546669, 0.8566884398460388, 0.12238406389951706, 0.011069637723267078, 0.9851977229118347, 0.955734372138977, 0.9705867171287537, 0.9905804395675659, 0.9580979347229004, 0.03684991970658302, 0.006864604540169239, 0.0247125755995512, 0.7221564054489136, 0.18397140502929688, 0.0494251511991024, 0.010983367450535297, 0.020868530496954918, 0.506061851978302, 0.010434265248477459, 0.4591076374053955, 0.05373124033212662, 0.9402967095375061, 0.9516664743423462, 0.043923068791627884, 0.012419856153428555, 0.9811686873435974, 0.5727049708366394, 0.1517423391342163, 0.23495587706565857, 0.03915931284427643, 0.03736184537410736, 0.7799285054206848, 0.025686267763376236, 0.15178249776363373, 0.00467023067176342, 0.6614100933074951, 0.33070504665374756, 0.02056582272052765, 0.8617079854011536, 0.018509240821003914, 0.05758430436253548, 0.0411316454410553, 0.9813730120658875, 0.0872860699892044, 0.03491443023085594, 0.01745721511542797, 0.855403482913971], \"Term\": [\"abu[father]n\", \"abu[father]n\", \"abu[father]n\", \"abu[father]n\", \"ab\\u0101ku[lead-away]v\", \"ab\\u0101ku[lead-away]v\", \"adru[threshing-floor]n\", \"adru[threshing-floor]n\", \"ad\\u00fb[(treaty-)oath]n\", \"ad\\u00fb[(treaty-)oath]n\", \"ad\\u0101nu[fixed-time]n\", \"agannu[bowl]n\", \"ag\\u00fb[tiara]n\", \"ahu[brother]n\", \"ahu[brother]n\", \"ahu[brother]n\", \"akalu[bread]n\", \"akalu[bread]n\", \"akalu[bread]n\", \"akalu[bread]n\", \"akalu[bread]n\", \"aklu[overseer]n\", \"ak\\u0101lu[eat]v\", \"ak\\u0101lu[eat]v\", \"ak\\u0101lu[eat]v\", \"ak\\u0101lu[eat]v\", \"ak\\u0101lu[eat]v\", \"ak\\u0101lu[eat]v\", \"ak\\u0101lu[eat]v\", \"ak\\u012btu[(a-cultic-festival)]n\", \"aladlamm\\u00fb[human-headed-bull-colossus]n\", \"alapp\\u0101nu[sweet-pomegranate]n\", \"almattu[widow]n\", \"alpu[ox]n\", \"alpu[ox]n\", \"al\\u0101du[give-birth-(to)]v\", \"ammatu[unit]n\", \"ammatu[unit]n\", \"amru[seen]aj\", \"amru[seen]aj\", \"amru[seen]aj\", \"andah\\u0161u[(an-alliaceous-plant)]n\", \"annu[(word-of)-consent]n\", \"annu[(word-of)-consent]n\", \"antal\\u00fb[eclipse]n\", \"antal\\u00fb[eclipse]n\", \"appatu[bridle]n\", \"apru[covered-(with)]aj\", \"ap\\u0101lu[pay]v\", \"ap\\u0101lu[pay]v\", \"ap\\u0101lu[pay]v\", \"arhu[month]n\", \"arhu[month]n\", \"arhu[month]n\", \"arhu[month]n\", \"arhu[month]n\", \"arhu[month]n\", \"arhu[month]n\", \"arhu[month]n\", \"arku[long]aj\", \"arku[long]aj\", \"arku[long]aj\", \"arku[long]aj\", \"ar\\u0101du[go-down]v\", \"ar\\u0101du[go-down]v\", \"ar\\u0101du[go-down]v\", \"ar\\u0101du[go-down]v\", \"ar\\u0101du[go-down]v\", \"ar\\u0161u[dirty]aj\", \"askuppu[(threshold)-slab]n\", \"atw\\u00fb[speech]n\", \"at\\u0101nu[she-ass]n\", \"aw\\u012blu[man]n\", \"aw\\u012blu[man]n\", \"aw\\u012blu[man]n\", \"aw\\u012blu[man]n\", \"aw\\u012blu[man]n\", \"a\\u0161ar\\u0113d\\u016btu[pre-eminence]n\", \"a\\u0161ru[place]n\", \"a\\u0161ru[place]n\", \"a\\u0161ru[place]n\", \"a\\u0161ru[place]n\", \"a\\u0161\\u0101bu[sit-(down)]v\", \"a\\u0161\\u0101bu[sit-(down)]v\", \"a\\u0161\\u0101bu[sit-(down)]v\", \"a\\u0161\\u0101bu[sit-(down)]v\", \"a\\u0161\\u0101bu[sit-(down)]v\", \"a\\u0161\\u0101ru[muster]v\", \"a\\u1e63\\u00fb[go-out]v\", \"a\\u1e63\\u00fb[go-out]v\", \"a\\u1e63\\u00fb[go-out]v\", \"a\\u1e63\\u00fb[go-out]v\", \"a\\u1e63\\u00fb[go-out]v\", \"a\\u1e63\\u00fb[go-out]v\", \"a\\u1e63\\u00fb[go-out]v\", \"a\\u1e63\\u00fb[go-out]v\", \"bal\\u0101\\u1e6du[live]v\", \"bal\\u0101\\u1e6du[live]v\", \"bal\\u0101\\u1e6du[live]v\", \"bal\\u0101\\u1e6du[live]v\", \"bal\\u0101\\u1e6du[live]v\", \"bal\\u0101\\u1e6du[live]v\", \"bar\\u00fb[see]v\", \"bar\\u0101qu[lighten]v\", \"battu[side]n\", \"battu[side]n\", \"bayy\\u0101du[(meaning-unknown)]n\", \"ba\\u02belu[large]aj\", \"berqu[lightning-(flash)]n\", \"bibbu[(a-kind-of-wild-sheep)]n\", \"bibbulu[(day-of-the)-new-moon]n\", \"bik\\u012btu[weeping]n\", \"birtu[fort]n\", \"birtu[fort]n\", \"birtu[fort]n\", \"birtu[fort]n\", \"birtu[fort]n\", \"bir\\u0161u[felt]n\", \"bud\\u00fb[(a-cake?)]n\", \"bul\\u1e6du[life]n\", \"burku[knee]n\", \"burku[knee]n\", \"burku[knee]n\", \"bu\\u02be\\u02be\\u00fb[look-for]v\", \"bu\\u02be\\u02be\\u00fb[look-for]v\", \"bu\\u02be\\u02be\\u00fb[look-for]v\", \"b\\u0101bu[gate]n\", \"b\\u0101bu[gate]n\", \"b\\u0101bu[gate]n\", \"b\\u0101bu[gate]n\", \"b\\u0101bu[gate]n\", \"b\\u0101bu[gate]n\", \"b\\u0101n\\u00fb[creator]n\", \"b\\u0101rtu[rebellion]n\", \"b\\u0101rtu[rebellion]n\", \"b\\u0101r\\u00fb[diviner]n\", \"b\\u0101r\\u00fb[diviner]n\", \"b\\u0101r\\u00fb[diviner]n\", \"b\\u0101r\\u00fb[diviner]n\", \"b\\u0113l-zak\\u0101r-\\u0161umi[subject-of-the-query]n\", \"b\\u0113l\\u016btu[rule]n\", \"b\\u0113ru[distant]aj\", \"b\\u0113ru[double-hour]n\", \"b\\u0113ru[double-hour]n\", \"b\\u012bru[divination]n\", \"b\\u016brtu[cow]n\", \"dab\\u0101bu[speak]v\", \"dab\\u0101bu[speak]v\", \"dab\\u0101bu[speak]v\", \"dab\\u0101bu[speak]v\", \"dab\\u0101bu[speak]v\", \"damqu[good]aj\", \"damqu[good]aj\", \"damqu[good]aj\", \"damqu[good]aj\", \"damqu[good]aj\", \"damqu[good]aj\", \"damqu[good]aj\", \"damqu[good]aj\", \"dannu[strong]aj\", \"dannu[strong]aj\", \"dannu[strong]aj\", \"dannu[strong]aj\", \"dannu[strong]aj\", \"dannu[strong]aj\", \"dannu[strong]aj\", \"dannu[strong]aj\", \"dannu[strong]aj\", \"dan\\u0101nu[be(come)-strong]v\", \"dan\\u0101nu[be(come)-strong]v\", \"dan\\u0101nu[be(come)-strong]v\", \"dan\\u0101nu[be(come)-strong]v\", \"dibbu[words]n\", \"dibbu[words]n\", \"dibbu[words]n\", \"dibbu[words]n\", \"din\\u0101nu[substitution]n\", \"di\\u0161pu[honey]n\", \"di\\u0161pu[honey]n\", \"dullu[trouble]n\", \"dullu[trouble]n\", \"dullu[trouble]n\", \"dum\\u0101q\\u016b[jewellery]n\", \"d\\u00e2ku[kill]v\", \"d\\u00e2ku[kill]v\", \"d\\u00e2ku[kill]v\", \"d\\u00e2ku[kill]v\", \"d\\u00e2ku[kill]v\", \"d\\u0101r\\u00fb[lasting]aj\", \"d\\u012bku[killed]aj\", \"d\\u012bnu[legal-decision]n\", \"d\\u012bnu[legal-decision]n\", \"d\\u012bnu[legal-decision]n\", \"d\\u012bnu[legal-decision]n\", \"ebbu[bright]aj\", \"eb\\u00fb[thick]aj\", \"eb\\u016bru[harvest]n\", \"eb\\u016bru[harvest]n\", \"eb\\u016bru[harvest]n\", \"ed\\u0113du[be(come)-pointed]v\", \"ed\\u0113ru[embrace]v\", \"egertu[inscribed-tablet]n\", \"egertu[inscribed-tablet]n\", \"egertu[inscribed-tablet]n\", \"eleppu[ship]n\", \"eleppu[ship]n\", \"eleppu[ship]n\", \"el\\u00fb[go-up]v\", \"el\\u00fb[go-up]v\", \"el\\u00fb[go-up]v\", \"el\\u00fb[go-up]v\", \"el\\u00fb[go-up]v\", \"el\\u012btu[that-which-is-above]n\", \"emdu[(an-aromatic-tree)]n\", \"em\\u016bqu[strength]n\", \"em\\u016bqu[strength]n\", \"em\\u016bqu[strength]n\", \"em\\u016bqu[strength]n\", \"en\\u00fb[change]v\", \"en\\u00fb[change]v\", \"en\\u00fb[change]v\", \"en\\u016bma-anu-enlil[(astrological-omen-series)]n\", \"eqlu[field]n\", \"eqlu[field]n\", \"eqlu[field]n\", \"erru[intestine(s)]n\", \"er\\u00fb[copper]n\", \"er\\u00fb[copper]n\", \"er\\u0113b-\\u0161am\\u0161i[west]n\", \"er\\u0161ahung\\u00fb[(an-emesal-cultic-prayer)]n\", \"er\\u0161emmakku[(an-emesal-cult-song)]n\", \"er\\u0161u[bed]n\", \"er\\u0161u[bed]n\", \"er\\u0161u[bed]n\", \"er\\u1e63etu[earth]n\", \"er\\u1e63etu[earth]n\", \"es\\u0113pu[gather-together]v\", \"es\\u0113ru[enclose]v\", \"et\\u0113qu[proceed]v\", \"et\\u0113qu[proceed]v\", \"et\\u0113qu[proceed]v\", \"et\\u0113qu[proceed]v\", \"et\\u0113qu[proceed]v\", \"e\\u0161\\u0113ru[be(come)-straight]v\", \"e\\u0161\\u0113ru[be(come)-straight]v\", \"e\\u0161\\u0113ru[be(come)-straight]v\", \"e\\u0161\\u0113ru[be(come)-straight]v\", \"e\\u1e63\\u0113du[harvest]v\", \"e\\u1e63\\u0113du[harvest]v\", \"gabar\\u00fb[copy]n\", \"gal\\u00fb[be(come)-deported]v\", \"gammuru[finished]aj\", \"gammuru[finished]aj\", \"gammuru[finished]aj\", \"gammuru[finished]aj\", \"gam\\u0101ru[complete]v\", \"gam\\u0101ru[complete]v\", \"gam\\u0101ru[complete]v\", \"gilittu[terror]n\", \"gimillu[requital]n\", \"gin\\u00fb[regular-contribution-(to-temple)]n\", \"gin\\u00fb[regular-contribution-(to-temple)]n\", \"gizill\\u00fb[torch]n\", \"gizill\\u00fb[torch]n\", \"gur\\u0161u[chapel]n\", \"hallam[(a-qualification-of-meat)]n\", \"hal\\u0101pu[slip-into]v\", \"hal\\u0101qu[be(come)-lost]v\", \"hal\\u0101qu[be(come)-lost]v\", \"hal\\u0101qu[be(come)-lost]v\", \"hal\\u0101qu[be(come)-lost]v\", \"hal\\u1e63u[fortress]n\", \"harbakkannu[(a-kind-of-horse)]n\", \"harru[water-channel]n\", \"har\\u0101du[be(come)-awake]v\", \"har\\u0101\\u1e63u[break-off]v\", \"has\\u0101su[be(come)-conscious]v\", \"has\\u0101su[be(come)-conscious]v\", \"ha\\u0161l\\u0101tu[bruised-(grain)]n\", \"ha\\u0161\\u00fb[lung(s)]n\", \"ha\\u1e63\\u0101nu[hug]v\", \"ha\\u1e6d\\u00fb[defective]aj\", \"ha\\u1e6d\\u00fb[do-wrong]v\", \"ha\\u1e6d\\u00fb[do-wrong]v\", \"ha\\u1e6d\\u00fb[do-wrong]v\", \"hep\\u00fb[broken]aj\", \"hep\\u00fb[broken]aj\", \"hinhinu[(a-kind-of-spice?)]n\", \"hubtu[robbery]n\", \"hubtu[robbery]n\", \"hur\\u0101\\u1e63u[gold]n\", \"hur\\u0101\\u1e63u[gold]n\", \"hur\\u0101\\u1e63u[gold]n\", \"h\\u012b\\u1e6du[error]n\", \"h\\u012b\\u1e6du[error]n\", \"h\\u016bdu[happiness]n\", \"ikkaru[farmer]n\", \"ikkaru[farmer]n\", \"ilu[god]n\", \"ilu[god]n\", \"ilu[god]n\", \"ilu[god]n\", \"ilu[god]n\", \"ilu[god]n\", \"ilu[god]n\", \"il\\u016btu[divinity]n\", \"il\\u016btu[divinity]n\", \"imbaru[fog]n\", \"imittu[right-side]n\", \"imittu[right-side]n\", \"imittu[right-side]n\", \"imittu[right-side]n\", \"imittu[support]n\", \"immeru[sheep]n\", \"immeru[sheep]n\", \"immeru[sheep]n\", \"immeru[sheep]n\", \"im\\u0113ru[donkey]n\", \"im\\u0113ru[donkey]n\", \"im\\u0113ru[donkey]n\", \"im\\u0113ru[donkey]n\", \"im\\u0113ru[unit]n\", \"im\\u0113ru[unit]n\", \"irginu[(a-breed-or-colour-of-horse)]n\", \"ittu[sign]n\", \"ittu[sign]n\", \"ittu[sign]n\", \"ittu[sign]n\", \"izbu[misbirth]n\", \"i\\u0161du[foundation]n\", \"i\\u0161du[foundation]n\", \"i\\u0161paru[weaver]n\", \"i\\u0161\\u0101tu[fire]n\", \"i\\u0161\\u0101tu[fire]n\", \"i\\u1e63\\u1e63\\u016bru[bird]n\", \"i\\u1e63\\u1e63\\u016bru[bird]n\", \"kabsu[continuous]aj\", \"kakkabtu[star]n\", \"kakkabu[star]n\", \"kakkabu[star]n\", \"kakku[stick]n\", \"kakku[stick]n\", \"kakku[stick]n\", \"kakku[stick]n\", \"kakkullu[mash-tub]n\", \"kall\\u0101pu[outrider]n\", \"kall\\u0101pu[outrider]n\", \"kalzu[precinct?]n\", \"kal\\u00fb[hold-(back)]v\", \"kal\\u00fb[hold-(back)]v\", \"kal\\u00fb[lamentation-priest]n\", \"kal\\u00fb[lamentation-priest]n\", \"kal\\u012btu[kidney]n\", \"kamsu[squatting]aj\", \"kamsu[squatting]aj\", \"kamsu[squatting]aj\", \"kam\\u0101nu[(a-loaf-or-cake)]n\", \"kaptukk\\u00fb[two-s\\u016btu-container]n\", \"kap\\u1e63u[bent-up]aj\", \"kar\\u0101bu[pray]v\", \"kar\\u0101bu[pray]v\", \"kar\\u0101bu[pray]v\", \"kar\\u0101nu[vine]n\", \"kar\\u0101nu[vine]n\", \"kar\\u0101ru[put-(down)]v\", \"kar\\u0101ru[put-(down)]v\", \"kar\\u0161u[stomach]n\", \"kar\\u0161u[stomach]n\", \"kaskasu[gristly-extension-of-breast-bone]n\", \"kaspu[silver]n\", \"ka\\u0161\\u0101du[reach]v\", \"ka\\u0161\\u0101du[reach]v\", \"ka\\u0161\\u0101du[reach]v\", \"ka\\u0161\\u0101du[reach]v\", \"ka\\u0161\\u0101du[reach]v\", \"ka\\u0161\\u0101du[reach]v\", \"kin\\u016bnu[brazier]n\", \"kin\\u016bnu[brazier]n\", \"kirrutu[(a-meal)]n\", \"kir\\u00fb[garden]n\", \"kir\\u00fb[garden]n\", \"kir\\u00fb[garden]n\", \"kissatu[fodder]n\", \"kissatu[fodder]n\", \"kittu[truth]n\", \"kittu[truth]n\", \"kittu[truth]n\", \"kittu[truth]n\", \"ki\\u0161\\u0161atu[totality]n\", \"ki\\u0161\\u0161atu[totality]n\", \"ki\\u0161\\u0161atu[totality]n\", \"ki\\u1e63ru[knot]n\", \"ki\\u1e63ru[knot]n\", \"kub\\u0161u[headcloth]n\", \"kub\\u0161u[headcloth]n\", \"kullu[nut(-kernel)]n\", \"kunukku[seal]n\", \"kunukku[seal]n\", \"kunukku[seal]n\", \"kunukku[seal]n\", \"kupp\\u00fb[snow]n\", \"kurk\\u00fb[goose]n\", \"kuss\\u00fb[chair]n\", \"kuss\\u00fb[chair]n\", \"kuss\\u00fb[chair]n\", \"kuss\\u00fb[chair]n\", \"kus\\u0101pu[bread]n\", \"kus\\u0101pu[bread]n\", \"kus\\u0101pu[bread]n\", \"k\\u00e2nu[be(come)-permanent]v\", \"k\\u00e2nu[be(come)-permanent]v\", \"k\\u00e2nu[be(come)-permanent]v\", \"k\\u00e2nu[be(come)-permanent]v\", \"k\\u012bd\\u012btu[exterior-part]n\", \"k\\u012bnu[permanent]aj\", \"k\\u012bnu[permanent]aj\", \"k\\u012bnu[permanent]aj\", \"k\\u016bdanu[mule]n\", \"k\\u016bdanu[mule]n\", \"k\\u016bnu[firmness]n\", \"lab\\u0101ru[be(come)-old]v\", \"lab\\u0161u[clothed]aj\", \"lamassu[(female)-tutelary-deity]n\", \"lam\\u0101du[learn]v\", \"laptu[touched]aj\", \"lap\\u0101tu[touch]v\", \"lap\\u0101tu[touch]v\", \"lap\\u0101tu[touch]v\", \"lap\\u0101tu[touch]v\", \"lar\\u00fb[branch]n\", \"law\\u00fb[surround]v\", \"law\\u00fb[surround]v\", \"la\\u0161\\u0161u[(there)-is-not]v\", \"la\\u0161\\u0161u[(there)-is-not]v\", \"la\\u0161\\u0161u[(there)-is-not]v\", \"lemnu[bad]aj\", \"lemnu[bad]aj\", \"lemnu[bad]aj\", \"leq\\u00fb[take]v\", \"leq\\u00fb[take]v\", \"leq\\u00fb[take]v\", \"leq\\u00fb[take]v\", \"leq\\u00fb[take]v\", \"leq\\u00fb[taken]aj\", \"le\\u02be\\u00fb[be-able]v\", \"litt\\u016btu[(extreme)-old-age]n\", \"li\\u0161\\u0101nu[tongue]n\", \"li\\u0161\\u0101nu[tongue]n\", \"lubbu\\u0161u[clothed]aj\", \"lumnu[evil]n\", \"lumnu[evil]n\", \"lu\\u02be\\u02be\\u00fb[sullied]aj\", \"lu\\u02be\\u02be\\u00fb[sully]v\", \"l\\u0101pitu[one-who-touches]n\", \"l\\u0113\\u02beu[board]n\", \"l\\u0113\\u02beu[board]n\", \"l\\u012bmu[eponym-(of-year)]n\", \"l\\u012bmu[eponym-(of-year)]n\", \"l\\u012bmu[eponym-(of-year)]n\", \"l\\u012bmu[eponym-(of-year)]n\", \"l\\u012bmu[eponym-(of-year)]n\", \"madbaru[steppe]n\", \"maddattu[payment]n\", \"maddattu[payment]n\", \"maddattu[payment]n\", \"mad\\u0101du[measure-(out)]v\", \"mag\\u0101ru[consent]v\", \"mag\\u0101ru[consent]v\", \"mag\\u0101ru[consent]v\", \"mah\\u0101ru[face]v\", \"mah\\u0101ru[face]v\", \"mah\\u0101ru[face]v\", \"mah\\u0101ru[face]v\", \"mah\\u0101ru[face]v\", \"mah\\u0101ru[face]v\", \"mah\\u0101ru[face]v\", \"mah\\u012bru[market-price]n\", \"mal\\u0101ku[discuss]v\", \"man\\u00fb[unit]n\", \"man\\u00fb[unit]n\", \"maqq\\u00fb[libation-(vessel)]n\", \"maq\\u0101\\u1e6du[(a-garment)]n\", \"martu[gall-bladder]n\", \"mat\\u0101hu[lift]v\", \"mat\\u0101hu[lift]v\", \"mat\\u0101hu[lift]v\", \"mayy\\u0101lu[bed]n\", \"mayy\\u0101lu[bed]n\", \"mayy\\u0101lu[bed]n\", \"maziu[(a-metal-vessel)]n\", \"mazr\\u016btu[(area-or-state-of)-cultivation]n\", \"mazz\\u0101zu[position]n\", \"mazz\\u0101zu[position]n\", \"mazz\\u0101zu[position]n\", \"ma\\u0161ennu[(an-administrator)]n\", \"ma\\u0161ennu[(an-administrator)]n\", \"ma\\u0161ennu[(an-administrator)]n\", \"ma\\u0161ennu[(an-administrator)]n\", \"ma\\u0161ennu[(an-administrator)]n\", \"ma\\u0161kuru[(inflatable)-animal-skin]n\", \"ma\\u0161t\\u012btu[(allowance-of)-drink]n\", \"ma\\u1e63\\u00fb[correspond]v\", \"ma\\u1e63\\u00fb[correspond]v\", \"ma\\u1e63\\u1e63artu[observation]n\", \"ma\\u1e63\\u1e63artu[observation]n\", \"ma\\u1e63\\u1e63artu[observation]n\", \"ma\\u1e63\\u1e63artu[observation]n\", \"ma\\u1e6d\\u00fb[small]aj\", \"miqittu[(down)fall]n\", \"miqittu[(down)fall]n\", \"miqittu[(down)fall]n\", \"mugerru[chariot]n\", \"mugerru[chariot]n\", \"mugerru[chariot]n\", \"mugerru[chariot]n\", \"mugerru[chariot]n\", \"mukillu[holder]n\", \"mukillu[holder]n\", \"musukkannu[magan-tree]n\", \"mu\\u1e6d\\u00fb[deficit]n\", \"m\\u00ea-\\u0161\\u012bri[meat-broth]n\", \"m\\u00fb[water]n\", \"m\\u00fb[water]n\", \"m\\u00fb[water]n\", \"m\\u00fb[water]n\", \"m\\u00fb[water]n\", \"m\\u00fb[water]n\", \"m\\u0101h\\u0101zu[shrine]n\", \"m\\u0101m\\u012btu[oath]n\", \"m\\u0101rtu[daughter]n\", \"m\\u0101rtu[daughter]n\", \"m\\u0101rtu[daughter]n\", \"m\\u0101tu[land]n\", \"m\\u0101tu[land]n\", \"m\\u0101tu[land]n\", \"m\\u0101tu[land]n\", \"m\\u0101tu[land]n\", \"m\\u0101tu[land]n\", \"m\\u0101tu[land]n\", \"m\\u012blu[high-water]n\", \"m\\u012blu[high-water]n\", \"m\\u016b\\u0161abu[dwelling]n\", \"m\\u016b\\u0161u[night]n\", \"m\\u016b\\u0161u[night]n\", \"m\\u016b\\u0161u[night]n\", \"m\\u016b\\u0161u[night]n\", \"m\\u016b\\u0161u[night]n\", \"nabalkutu[having-crossed-over]aj\", \"nab\\u00fb[name]v\", \"nad\\u00fb[placed]aj\", \"nad\\u00fb[placed]aj\", \"nad\\u00fb[placed]aj\", \"nad\\u00fb[throw-(down)]v\", \"nad\\u00fb[throw-(down)]v\", \"nad\\u00fb[throw-(down)]v\", \"nad\\u00fb[throw-(down)]v\", \"nad\\u00fb[throw-down]v\", \"nad\\u0101ru[be(come)-wild]v\", \"naglabu[razor]n\", \"nahallu[stream]n\", \"nah\\u0101su[(re)cede]v\", \"nah\\u0101su[(re)cede]v\", \"nakru[enemy]n\", \"nakru[enemy]n\", \"nakru[enemy]n\", \"nakru[enemy]n\", \"nakru[enemy]n\", \"nakru[strange]aj\", \"nakru[strange]aj\", \"namark\\u00fb[be(come)-late]v\", \"namark\\u00fb[late]aj\", \"napi\\u0161tu[throat]n\", \"napi\\u0161tu[throat]n\", \"napi\\u0161tu[throat]n\", \"napi\\u0161tu[throat]n\", \"naptanu[meal(-time)]n\", \"naptanu[meal(-time)]n\", \"naptanu[meal(-time)]n\", \"nap\\u0101hu[blow]v\", \"nap\\u0101hu[blow]v\", \"nap\\u0101hu[blow]v\", \"naq\\u00fb[pour-(a-libation)]v\", \"naq\\u00fb[pour-(a-libation)]v\", \"naq\\u0101ru[demolish]v\", \"nargallu[chief-musician]n\", \"nashu[torn]aj\", \"nashu[torn]aj\", \"nashu[torn]aj\", \"nas\\u0101hu[tear-out]v\", \"nas\\u0101hu[tear-out]v\", \"nas\\u0101hu[tear-out]v\", \"nas\\u0101ku[throw-(down)]v\", \"na\\u0161\\u00fb[lifted]aj\", \"na\\u0161\\u00fb[lifted]aj\", \"na\\u0161\\u00fb[lifted]aj\", \"na\\u0161\\u00fb[lifted]aj\", \"na\\u0161\\u0101qu[kiss]v\", \"na\\u0161\\u0101qu[kiss]v\", \"na\\u0161\\u0101qu[kiss]v\", \"na\\u1e63\\u0101ru[guard]v\", \"na\\u1e63\\u0101ru[guard]v\", \"na\\u1e63\\u0101ru[guard]v\", \"na\\u1e63\\u0101ru[guard]v\", \"nekelm\\u00fb[frown-at]v\", \"nindanu[rod]n\", \"nip\\u0161u[tuft]n\", \"nishu[extract(ion)]n\", \"ni\\u0101ru[papyrus]n\", \"ni\\u0101ru[papyrus]n\", \"ni\\u0161u[people]n\", \"ni\\u0161u[people]n\", \"ni\\u0161u[people]n\", \"ni\\u0161u[people]n\", \"nuhatimmu[cook]n\", \"nuhatimmu[cook]n\", \"nuhatimmu[cook]n\", \"nuhatimmu[cook]n\", \"nukaribbu[gardener]n\", \"nukurtu[enmity]n\", \"nurm\\u00fb[pomegranate]n\", \"n\\u0101giru[herald]n\", \"n\\u0101giru[herald]n\", \"n\\u0101giru[herald]n\", \"n\\u0101giru[herald]n\", \"n\\u0101rtu[female-musician]n\", \"n\\u0101ru[musician]n\", \"n\\u0101ru[musician]n\", \"n\\u0101ru[musician]n\", \"n\\u0113melu[profit]n\", \"n\\u0113pe\\u0161u[activity]n\", \"n\\u012bd-kuss\\u00ee[base-of-the-throne-(a-feature-of-the-liver)]n\", \"n\\u012bqu[offering]n\", \"n\\u012bqu[offering]n\", \"n\\u012bqu[offering]n\", \"n\\u012bqu[offering]n\", \"n\\u012bqu[offering]n\", \"n\\u012b\\u0161u[(oath-on-the)-life]n\", \"n\\u016bnu[fish]n\", \"n\\u016bnu[fish]n\", \"n\\u016bnu[fish]n\", \"pad\\u0101nu[way]n\", \"pagru[body]n\", \"palhu[fearful]aj\", \"pal\\u00fb[period-of-office]n\", \"pal\\u00fb[period-of-office]n\", \"pal\\u0101hu[fear]v\", \"pal\\u0101hu[fear]v\", \"pal\\u0101hu[fear]v\", \"pal\\u0101hu[fear]v\", \"paq\\u0101du[entrust]v\", \"paq\\u0101du[entrust]v\", \"paq\\u0101du[entrust]v\", \"paq\\u0101du[entrust]v\", \"paq\\u0101du[entrust]v\", \"parri\\u1e63u[criminal]n\", \"parsu[cut-off]aj\", \"par\\u0101du[be(come)-scared]v\", \"pa\\u0161\\u0101\\u0161u[anoint]v\", \"pa\\u0161\\u0101\\u0161u[anoint]v\", \"pa\\u0161\\u0161uru[table]n\", \"pa\\u0161\\u0161uru[table]n\", \"pa\\u0161\\u1e6du[erased]aj\", \"pa\\u1e6dru[released]aj\", \"pa\\u1e6dru[released]aj\", \"pirittu[terror]n\", \"pi\\u1e6dru[release]n\", \"pur\\u0161umu[old-(man)]n\", \"pu\\u0101gu[take-away-forcibly-from]v\", \"p\\u00fb[mouth]n\", \"p\\u00fb[mouth]n\", \"p\\u00fb[mouth]n\", \"p\\u00fb[mouth]n\", \"p\\u00fb[mouth]n\", \"p\\u0113mu[(upper)-thigh]n\", \"p\\u012bh\\u0101tu[responsibility]n\", \"p\\u012bh\\u0101tu[responsibility]n\", \"p\\u012bh\\u0101tu[responsibility]n\", \"p\\u012bh\\u0101tu[responsibility]n\", \"p\\u012bh\\u0101tu[responsibility]n\", \"p\\u012blu[limestone]n\", \"p\\u016btu[forehead]n\", \"p\\u016btu[forehead]n\", \"p\\u016btu[forehead]n\", \"p\\u016btu[forehead]n\", \"p\\u016btu[opening]n\", \"p\\u016btuhhu[responsibility]n\", \"qabalt\\u012bu[central]aj\", \"qablu[hips]n\", \"qablu[hips]n\", \"qablu[hips]n\", \"qabl\\u012btu[centre]n\", \"qab\\u016btu[bowl]n\", \"qab\\u016btu[bowl]n\", \"qad\\u016btu[silt]n\", \"qal\\u012btu[parched-grain]n\", \"qaqqaru[ground]n\", \"qaqqaru[ground]n\", \"qaqqaru[ground]n\", \"qaqqaru[ground]n\", \"qaqqaru[ground]n\", \"qaqqaru[ground]n\", \"qarnu[horn]n\", \"qarnu[horn]n\", \"qat\\u0101ru[smoke]v\", \"qerbu[centre]n\", \"qerbu[centre]n\", \"qersu[cart]n\", \"qer\\u0113bu[approach]v\", \"qer\\u0113bu[approach]v\", \"qer\\u0113bu[approach]v\", \"qer\\u0113bu[approach]v\", \"qer\\u0113bu[approach]v\", \"qer\\u0113bu[approach]v\", \"qer\\u012btu[banquet]n\", \"qib\\u012btu[speech]n\", \"qut\\u0101ru[incense]n\", \"q\\u00fb[unit]n\", \"q\\u00fb[unit]n\", \"q\\u0101lu[silent]aj\", \"q\\u0101tu[hand]n\", \"q\\u0101tu[hand]n\", \"q\\u0101tu[hand]n\", \"q\\u0101tu[hand]n\", \"q\\u0101tu[hand]n\", \"q\\u0101tu[hand]n\", \"q\\u0101tu[hand]n\", \"q\\u0101tu[hand]n\", \"q\\u0101tu[hand]n\", \"q\\u0113mu[flour]n\", \"q\\u012bpu[representative]n\", \"q\\u012bpu[representative]n\", \"rabiu[big-one]n\", \"rabiu[big-one]n\", \"rabiu[big-one]n\", \"rabiu[big-one]n\", \"rabiu[big-one]n\", \"rabiu[big]aj\", \"rabiu[big]aj\", \"rab\\u00fb[be(come)-big]v\", \"rab\\u00fb[big-one]n\", \"rab\\u00fb[big-one]n\", \"rab\\u00fb[big-one]n\", \"rab\\u00fb[big-one]n\", \"rab\\u00fb[big-one]n\", \"rab\\u00fb[big-one]n\", \"rab\\u00fb[big-one]n\", \"rab\\u00fb[big]aj\", \"rab\\u00fb[big]aj\", \"rab\\u00fb[big]aj\", \"rab\\u00fb[big]aj\", \"rab\\u00fb[big]aj\", \"rab\\u00fb[big]aj\", \"rab\\u00fb[big]aj\", \"rab\\u00fb[set]v\", \"rab\\u00fb[to-be-big]v\", \"rab\\u00fb[to-be-big]v\", \"rab\\u0101\\u1e63u[sit]v\", \"rah\\u0101\\u1e63u[flood]v\", \"rah\\u0101\\u1e63u[trust]v\", \"rah\\u1e63u[submerged]aj\", \"rak\\u0101su[bind]v\", \"rak\\u0101su[bind]v\", \"rak\\u0101su[bind]v\", \"rak\\u0101su[bind]v\", \"rak\\u0101su[bind]v\", \"ram\\u00fb[slacken]v\", \"ram\\u00fb[slacken]v\", \"ram\\u00fb[slacken]v\", \"ram\\u00fb[slacken]v\", \"rap\\u0101\\u0161u[be(come)-broad]v\", \"ra\\u0161\\u00fb[acquire]v\", \"ra\\u0161\\u00fb[acquire]v\", \"ra\\u0161\\u00fb[acquire]v\", \"ra\\u0161\\u00fb[acquire]v\", \"ra\\u1e63pu[built]aj\", \"ra\\u1e63\\u0101pu[build]v\", \"rid\\u00fbtu[appropriation]n\", \"rid\\u00fbtu[appropriation]n\", \"rid\\u00fbtu[appropriation]n\", \"rigmu[voice]n\", \"rub\\u00fb[prince]n\", \"rub\\u00fb[prince]n\", \"rub\\u00fb[prince]n\", \"rub\\u00fb[prince]n\", \"ruqqu[thinness]n\", \"r\\u00e2bu[quake]v\", \"r\\u00e2bu[quake]v\", \"r\\u00e2mu[love]v\", \"r\\u00e2mu[love]v\", \"r\\u0101\\u1e6du[water-channel]n\", \"r\\u0113\\u0161u[head]n\", \"r\\u0113\\u0161u[head]n\", \"r\\u0113\\u0161u[head]n\", \"r\\u0113\\u0161u[head]n\", \"r\\u0113\\u0161u[head]n\", \"r\\u0113\\u0161u[head]n\", \"r\\u012bbu[earthquake]n\", \"saddinu[(a-tunic)]n\", \"sah\\u0101ru[go-around]v\", \"sah\\u0101ru[go-around]v\", \"sah\\u0101ru[go-around]v\", \"sah\\u0101ru[go-around]v\", \"sah\\u0101ru[go-around]v\", \"sakru[refined]aj\", \"sallu[tray]n\", \"san\\u0101qu[check]v\", \"san\\u0101qu[check]v\", \"sar\\u0101qu[strew]v\", \"serdu[olive-tree]n\", \"serqu[strewn-offering]n\", \"silqu[boiled-meat]n\", \"sinni\\u0161tu[woman]n\", \"sinni\\u0161tu[woman]n\", \"sinni\\u0161tu[woman]n\", \"sinni\\u0161tu[woman]n\", \"sinni\\u0161tu[woman]n\", \"sisalhu[(a-qualification-of-sheep-and-oxen)]n\", \"sis\\u00fb[horse]n\", \"sis\\u00fb[horse]n\", \"sis\\u00fb[horse]n\", \"sis\\u00fb[horse]n\", \"sukann\\u012bnu[dove]n\", \"sulukannu[(a-food-container)]n\", \"supurgillu[quince]n\", \"s\\u0101mu[red]aj\", \"s\\u0101mu[red]aj\", \"s\\u0101yu[(a-qualification-of-textiles-perhaps-'knotted')]aj\", \"s\\u012bru[(meaning-uncertain)]n\", \"tabku[(grain)-store]n\", \"tadnu[given]aj\", \"tadnu[given]aj\", \"takkassu[(small)-block-of-stone]n\", \"takkussu[reed-stem]n\", \"tam\\u00fb[swear]v\", \"tam\\u00fb[swear]v\", \"tam\\u012btu[oath]n\", \"tam\\u012btu[oath]n\", \"taq\\u0101nu[be(come)-secure]v\", \"tarba\\u1e63u[courtyard]n\", \"tarba\\u1e63u[courtyard]n\", \"tar\\u0101\\u1e63u[be(come)-in-order]v\", \"ta\\u0161l\\u012b\\u0161u[third-man-on-chariot]n\", \"ta\\u0161l\\u012b\\u0161u[third-man-on-chariot]n\", \"ta\\u0161l\\u012b\\u0161u[third-man-on-chariot]n\", \"teb\\u00fb[arise]v\", \"teb\\u00fb[arise]v\", \"teb\\u00fb[arise]v\", \"teb\\u00fb[arise]v\", \"teb\\u00fb[arise]v\", \"tibku[layer]n\", \"tib\\u00fbtu[rise]n\", \"tillatu[vine]n\", \"tup\\u0161ikku[brick-carrying-frame]n\", \"turruku[very-dark]aj\", \"t\\u00e2ru[turn]v\", \"t\\u00e2ru[turn]v\", \"t\\u00e2ru[turn]v\", \"t\\u00e2ru[turn]v\", \"t\\u00e2ru[turn]v\", \"t\\u00e2ru[turn]v\", \"t\\u0101martu[view(ing)]n\", \"t\\u0101martu[view(ing)]n\", \"t\\u0101n\\u0113hu[moaning]n\", \"t\\u012bru[turned]aj\", \"t\\u012br\\u0101nu[coils]n\", \"t\\u012br\\u0101nu[coils]n\", \"ub\\u0101n-ha\\u0161\\u00ea[finger-of-the-lung-(a-part-of-the-liver)]n\", \"ub\\u0101nu[finger]n\", \"ub\\u0101nu[finger]n\", \"ukultu[food]n\", \"ukultu[food]n\", \"ummu[mother]n\", \"ummu[mother]n\", \"ummu[mother]n\", \"un\\u012bqu[female-kid]n\", \"upnu[(cupped)-hand]n\", \"upnu[(cupped)-hand]n\", \"urd\\u0101n\\u016btu[servitude]n\", \"urhu[way]n\", \"urnatu[(a-garment)]n\", \"urpatu[cloud]n\", \"uznu[ear]n\", \"uznu[ear]n\", \"u\\u0161\\u0161u[foundation(s)]n\", \"u\\u0161\\u0161uru[exempt]aj\", \"u\\u1e63urtu[design]n\", \"u\\u1e63urtu[design]n\", \"u\\u1e63\\u1e63u\\u1e63u[interrogate]v\", \"wad\\u00fb[know]v\", \"wad\\u00fb[know]v\", \"wad\\u00fb[know]v\", \"wuss\\u00fb[identify]v\", \"y\\u0101bilu[ram]n\", \"y\\u0101bilu[ram]n\", \"y\\u0101nu[(there)-is-not]v\", \"zakk\\u00fb[(official)-freed]n\", \"zakk\\u00fb[(official)-freed]n\", \"zam\\u0101ru[sing]v\", \"zan\\u0101nu[rain]v\", \"zan\\u0101nu[rain]v\", \"zaq\\u0101pu[fix-upright]v\", \"zaq\\u0101pu[fix-upright]v\", \"zarpu[purchased]aj\", \"zikru[utterance]n\", \"zikru[utterance]n\", \"zumm\\u00fb[be(come)-deprived-of]v\", \"zunnu[rain]n\", \"zunnu[rain]n\", \"z\\u0113ru[seed(s)]n\", \"z\\u0113ru[seed(s)]n\", \"z\\u0113ru[seed(s)]n\", \"z\\u0113ru[seed(s)]n\", \"z\\u0113ru[seed(s)]n\", \"z\\u0113ru[seed(s)]n\", \"z\\u012bqtu[torch]n\", \"\\u0101kilu[that-eats]n\", \"\\u0101lu[city]n\", \"\\u0101lu[city]n\", \"\\u0101lu[city]n\", \"\\u0101lu[city]n\", \"\\u0101lu[city]n\", \"\\u0101lu[city]n\", \"\\u0101lu[city]n\", \"\\u0101lu[city]n\", \"\\u0101meru[that-sees]n\", \"\\u0101\\u0161ip\\u016btu[exorcism]n\", \"\\u0113dum\\u0101nu[single]aj\", \"\\u0113kallu[palace]n\", \"\\u0113kallu[palace]n\", \"\\u0113kallu[palace]n\", \"\\u0113kallu[palace]n\", \"\\u0113kallu[palace]n\", \"\\u0113kallu[palace]n\", \"\\u0113kallu[palace]n\", \"\\u0113kallu[palace]n\", \"\\u0113kallu[palace]n\", \"\\u0161a-b\\u0113ti-\\u0161anie[domestic-servant]n\", \"\\u0161a-b\\u0113ti-\\u0161anie[domestic-servant]n\", \"\\u0161a-p\\u0101n-\\u0113kalli[palace-supervisor]n\", \"\\u0161a-p\\u0101n-\\u0113kalli[palace-supervisor]n\", \"\\u0161a-p\\u0101n-\\u0113kalli[palace-supervisor]n\", \"\\u0161a-p\\u0101n-\\u0113kalli[palace-supervisor]n\", \"\\u0161a-p\\u0113thalli[rider]n\", \"\\u0161a-p\\u0113thalli[rider]n\", \"\\u0161a-p\\u0113thalli[rider]n\", \"\\u0161a-r\\u0113\\u0161i[eunuch]n\", \"\\u0161a-r\\u0113\\u0161i[eunuch]n\", \"\\u0161a-r\\u0113\\u0161i[eunuch]n\", \"\\u0161a-r\\u0113\\u0161i[eunuch]n\", \"\\u0161a-r\\u0113\\u0161i[eunuch]n\", \"\\u0161a-r\\u0113\\u0161i[eunuch]n\", \"\\u0161a-t\\u0113lissi[purification-device]n\", \"\\u0161a-\\u0161\\u0113pi[(king\\u02bes)-personal-guard]n\", \"\\u0161ab\\u0101\\u0161u[gather]v\", \"\\u0161akintu[(a-female-official)]n\", \"\\u0161aknu[placed]aj\", \"\\u0161aknu[placed]aj\", \"\\u0161aknu[placed]aj\", \"\\u0161aknu[placed]aj\", \"\\u0161aknu[placed]aj\", \"\\u0161aknu[placed]aj\", \"\\u0161alh\\u00fb[outer-wall]n\", \"\\u0161allatu[booty]n\", \"\\u0161almu[intact]aj\", \"\\u0161almu[intact]aj\", \"\\u0161almu[intact]aj\", \"\\u0161almu[intact]aj\", \"\\u0161ama\\u0161\\u0161amm\\u016b[sesame]n\", \"\\u0161ama\\u0161\\u0161amm\\u016b[sesame]n\", \"\\u0161amnu[oil]n\", \"\\u0161amnu[oil]n\", \"\\u0161amnu[oil]n\", \"\\u0161am\\u00fb[heaven]n\", \"\\u0161am\\u00fb[sky]n\", \"\\u0161am\\u00fb[sky]n\", \"\\u0161am\\u00fb[sky]n\", \"\\u0161am\\u00fb[sky]n\", \"\\u0161andabakku[governor-of-nippur]n\", \"\\u0161ang\\u00fb[priest]n\", \"\\u0161ang\\u00fb[priest]n\", \"\\u0161ang\\u00fb[priest]n\", \"\\u0161an\\u00fb[(an)other]aj\", \"\\u0161an\\u00fb[(an)other]aj\", \"\\u0161an\\u00fb[(an)other]aj\", \"\\u0161an\\u00fb[(an)other]aj\", \"\\u0161an\\u00fb[(an)other]aj\", \"\\u0161an\\u00fb[be(come)-changed]v\", \"\\u0161an\\u00fb[be(come)-changed]v\", \"\\u0161apl\\u012btu[lower-part]n\", \"\\u0161appatu[(a-pottery-vessel)]n\", \"\\u0161appatu[(a-pottery-vessel)]n\", \"\\u0161aptu[lip]n\", \"\\u0161arr\\u016btu[kingship]n\", \"\\u0161arr\\u016btu[kingship]n\", \"\\u0161arr\\u016btu[kingship]n\", \"\\u0161ar\\u0101ku[present]v\", \"\\u0161ar\\u016bru[brilliance]n\", \"\\u0161as\\u00fb[shout]v\", \"\\u0161as\\u00fb[shout]v\", \"\\u0161attu[year]n\", \"\\u0161attu[year]n\", \"\\u0161attu[year]n\", \"\\u0161attu[year]n\", \"\\u0161attu[year]n\", \"\\u0161attu[year]n\", \"\\u0161attu[year]n\", \"\\u0161attu[year]n\", \"\\u0161at\\u00fb[drink]v\", \"\\u0161at\\u00fb[drink]v\", \"\\u0161at\\u00fb[drink]v\", \"\\u0161at\\u00fb[drink]v\", \"\\u0161awiru[ring]n\", \"\\u0161a\\u1e6d\\u0101ru[write]v\", \"\\u0161a\\u1e6d\\u0101ru[write]v\", \"\\u0161a\\u1e6d\\u0101ru[write]v\", \"\\u0161eb\\u0113ru[break]v\", \"\\u0161er\\u0161erratu[chain]n\", \"\\u0161ikaru[beer]n\", \"\\u0161ikaru[beer]n\", \"\\u0161iknu[act-of-putting]n\", \"\\u0161ipirtu[message]n\", \"\\u0161ipirtu[message]n\", \"\\u0161ipirtu[message]n\", \"\\u0161ipru[sending]n\", \"\\u0161ipru[sending]n\", \"\\u0161ipru[sending]n\", \"\\u0161ipru[sending]n\", \"\\u0161iptu[incantation]n\", \"\\u0161iqlu[unit]n\", \"\\u0161itqulu[balanced]aj\", \"\\u0161i\\u0101ru[morning]n\", \"\\u0161i\\u0101ru[morning]n\", \"\\u0161umma-izbu[(anomaly-omen-series)]n\", \"\\u0161umu[name]n\", \"\\u0161umu[name]n\", \"\\u0161umu[name]n\", \"\\u0161umu[name]n\", \"\\u0161umu[name]n\", \"\\u0161umu[name]n\", \"\\u0161um\\u00fb[roast-meat]n\", \"\\u0161um\\u0113lu[left-side]n\", \"\\u0161um\\u0113lu[left-side]n\", \"\\u0161um\\u0113lu[left-side]n\", \"\\u0161um\\u0113lu[left-side]n\", \"\\u0161up\\u00ealu[exchange]v\", \"\\u0161up\\u0101l\\u012btu-halluptu[reinforced-lower-garment]n\", \"\\u0161uqultu[weight]n\", \"\\u0161ut\\u0101t\\u00fb[being-in-opposition]aj\", \"\\u0161u\\u02beu[chick-pea?]n\", \"\\u0161\\u0101q\\u00fb[butler]n\", \"\\u0161\\u0101q\\u00fb[butler]n\", \"\\u0161\\u0101q\\u00fb[butler]n\", \"\\u0161\\u0101q\\u00fb[butler]n\", \"\\u0161\\u0101t-urri[(the-watch)-of-dawn]n\", \"\\u0161\\u0113htu[incense-burner]n\", \"\\u0161\\u0113htu[incense-burner]n\", \"\\u0161\\u0113m\\u00fb[hearer]n\", \"\\u0161\\u0113pu[foot]n\", \"\\u0161\\u0113pu[foot]n\", \"\\u0161\\u0113pu[foot]n\", \"\\u0161\\u0113pu[foot]n\", \"\\u0161\\u0113pu[foot]n\", \"\\u0161\\u0113pu[foot]n\", \"\\u0161\\u0113pu[foot]n\", \"\\u0161\\u012bbu[old-man]n\", \"\\u0161\\u012bbu[witness]n\", \"\\u0161\\u012bb\\u016btu[old-age]n\", \"\\u0161\\u012blu[depression]n\", \"\\u0161\\u012bmtu[fate]n\", \"\\u0161\\u012bmtu[fate]n\", \"\\u0161\\u012bp\\u0101tu[wool]n\", \"\\u0161\\u012bp\\u0101tu[wool]n\", \"\\u0161\\u012bp\\u0101tu[wool]n\", \"\\u0161\\u012bru[flesh]n\", \"\\u0161\\u012bru[flesh]n\", \"\\u0161\\u012bru[flesh]n\", \"\\u0161\\u012bru[flesh]n\", \"\\u0161\\u012bru[flesh]n\", \"\\u0161\\u012bru[flesh]n\", \"\\u1e63ab\\u0101tu[seize]v\", \"\\u1e63ab\\u0101tu[seize]v\", \"\\u1e63ab\\u0101tu[seize]v\", \"\\u1e63ab\\u0101tu[seize]v\", \"\\u1e63ab\\u0101tu[seize]v\", \"\\u1e63ab\\u0101tu[seize]v\", \"\\u1e63almu[black]aj\", \"\\u1e63almu[black]aj\", \"\\u1e63almu[black]aj\", \"\\u1e63almu[black]aj\", \"\\u1e63almu[effigy]n\", \"\\u1e63almu[effigy]n\", \"\\u1e63almu[effigy]n\", \"\\u1e63almu[effigy]n\", \"\\u1e63almu[effigy]n\", \"\\u1e63al\\u0101lu[lie-(down)]v\", \"\\u1e63amdu[bound-up]aj\", \"\\u1e63ap\\u0101ru[press-down]v\", \"\\u1e63arh\\u016btu[heat]n\", \"\\u1e63arpu[silver]n\", \"\\u1e63arpu[silver]n\", \"\\u1e63arr\\u0101pu[goldsmith]n\", \"\\u1e63erru[snake]n\", \"\\u1e63ibtu[interest]n\", \"\\u1e63ibtu[interest]n\", \"\\u1e63ibtu[interest]n\", \"\\u1e63i\\u0101tu[distant-time]n\", \"\\u1e63i\\u0101tu[distant-time]n\", \"\\u1e63ub\\u0101tu[textile]n\", \"\\u1e63ub\\u0101tu[textile]n\", \"\\u1e63uhurtu[the-young-youth(s)]n\", \"\\u1e63uppu[decorated]aj\", \"\\u1e63upru[nail]n\", \"\\u1e63\\u0101bitu[recipient]n\", \"\\u1e63\\u0101bitu[recipient]n\", \"\\u1e63\\u0101bu[people]n\", \"\\u1e63\\u0101bu[people]n\", \"\\u1e63\\u0101bu[people]n\", \"\\u1e63\\u0101bu[people]n\", \"\\u1e63\\u0101bu[people]n\", \"\\u1e63\\u0101bu[people]n\", \"\\u1e63\\u0113ru[back]n\", \"\\u1e63\\u0113ru[back]n\", \"\\u1e63\\u0113ru[back]n\", \"\\u1e63\\u0113ru[back]n\", \"\\u1e6dabtu[salt]n\", \"\\u1e6dabtu[salt]n\", \"\\u1e6deh\\u00fb[be(come)-near-to]v\", \"\\u1e6deh\\u00fb[be(come)-near-to]v\", \"\\u1e6di\\u0101bu[be(come)-good]v\", \"\\u1e6di\\u0101bu[be(come)-good]v\", \"\\u1e6duppu[tablet]n\", \"\\u1e6duppu[tablet]n\", \"\\u1e6duppu[tablet]n\", \"\\u1e6duppu[tablet]n\", \"\\u1e6dup\\u0161arru[scribe]n\", \"\\u1e6dup\\u0161arru[scribe]n\", \"\\u1e6dup\\u0161arru[scribe]n\", \"\\u1e6dup\\u0161arru[scribe]n\", \"\\u1e6dup\\u0161arru[scribe]n\", \"\\u1e6d\\u0101btu[goodness]n\", \"\\u1e6d\\u0101btu[goodness]n\", \"\\u1e6d\\u0113mu[(fore)thought]n\", \"\\u1e6d\\u0113mu[(fore)thought]n\", \"\\u1e6d\\u0113mu[(fore)thought]n\", \"\\u1e6d\\u0113mu[(fore)thought]n\", \"\\u1e6d\\u0113mu[(fore)thought]n\", \"\\u1e6d\\u012bdu[clay]n\", \"\\u1e6d\\u016bbu[goodness]n\", \"\\u1e6d\\u016bbu[goodness]n\", \"\\u1e6d\\u016bbu[goodness]n\", \"\\u1e6d\\u016bbu[goodness]n\"]}, \"R\": 30, \"lambda.step\": 0.01, \"plot.opts\": {\"xlab\": \"PC1\", \"ylab\": \"PC2\"}, \"topic.order\": [1, 2, 3, 4, 5, 6, 7, 8, 9, 10]};\n",
       "\n",
       "function LDAvis_load_lib(url, callback){\n",
       "  var s = document.createElement('script');\n",
       "  s.src = url;\n",
       "  s.async = true;\n",
       "  s.onreadystatechange = s.onload = callback;\n",
       "  s.onerror = function(){console.warn(\"failed to load library \" + url);};\n",
       "  document.getElementsByTagName(\"head\")[0].appendChild(s);\n",
       "}\n",
       "\n",
       "if(typeof(LDAvis) !== \"undefined\"){\n",
       "   // already loaded: just create the visualization\n",
       "   !function(LDAvis){\n",
       "       new LDAvis(\"#\" + \"ldavis_el2778348004379688629131768\", ldavis_el2778348004379688629131768_data);\n",
       "   }(LDAvis);\n",
       "}else if(typeof define === \"function\" && define.amd){\n",
       "   // require.js is available: use it to load d3/LDAvis\n",
       "   require.config({paths: {d3: \"https://cdnjs.cloudflare.com/ajax/libs/d3/3.5.5/d3.min\"}});\n",
       "   require([\"d3\"], function(d3){\n",
       "      window.d3 = d3;\n",
       "      LDAvis_load_lib(\"https://cdn.rawgit.com/bmabey/pyLDAvis/files/ldavis.v1.0.0.js\", function(){\n",
       "        new LDAvis(\"#\" + \"ldavis_el2778348004379688629131768\", ldavis_el2778348004379688629131768_data);\n",
       "      });\n",
       "    });\n",
       "}else{\n",
       "    // require.js not available: dynamically load d3 & LDAvis\n",
       "    LDAvis_load_lib(\"https://cdnjs.cloudflare.com/ajax/libs/d3/3.5.5/d3.min.js\", function(){\n",
       "         LDAvis_load_lib(\"https://cdn.rawgit.com/bmabey/pyLDAvis/files/ldavis.v1.0.0.js\", function(){\n",
       "                 new LDAvis(\"#\" + \"ldavis_el2778348004379688629131768\", ldavis_el2778348004379688629131768_data);\n",
       "            })\n",
       "         });\n",
       "}\n",
       "</script>"
      ],
      "text/plain": [
       "<IPython.core.display.HTML object>"
      ]
     },
     "execution_count": 8,
     "metadata": {},
     "output_type": "execute_result"
    }
   ],
   "source": [
    "warnings.simplefilter(action='ignore', category=FutureWarning)\n",
    "pyLDAvis.enable_notebook()\n",
    "vis = pyLDAvis.gensim.prepare(ldamodel, corpus, dictionary, sort_topics=False)\n",
    "if not os.path.exists('vis'):\n",
    "    os.makedirs('vis')\n",
    "pyLDAvis.save_html(vis, 'vis/lda_terms.html')\n",
    "pyLDAvis.display(vis)"
   ]
  },
  {
   "cell_type": "markdown",
   "metadata": {},
   "source": [
    "# Visualize the Documents 1: Using MDS\n",
    "While pyLDAvis is an excellent tool for exploring the topic/term aspect of a topic model (the words and their probabilities in each topic) it does not provide access to the document/topic aspect (the probability distribution of topics in each document). The visualization below plots all the documents according to their (cosine) distances (using Multi-Dimensional Scaling) in the Document/Term DataFrame. Each document (data point in the visualization) is colored according to the most prevalent topic and the size of the dot represents the probability of the most prevalent topic in that document."
   ]
  },
  {
   "cell_type": "markdown",
   "metadata": {},
   "source": [
    "Compute the distances between each of the documents. Use either the Document/Topic Dataframe or the Document/Term Dataframe (constructed below) to measure distance.\n",
    "\n",
    "Since the data is already in list format, CountVectorizer does not need to preprocess or tokenize. The only way to prevent CountVectorizer from doing so is by creating dummy functions for the preprocessor and the tokenizer. These functions simply return the argument they receive."
   ]
  },
  {
   "cell_type": "code",
   "execution_count": 9,
   "metadata": {
    "collapsed": false,
    "jupyter": {
     "outputs_hidden": false
    }
   },
   "outputs": [
    {
     "data": {
      "text/html": [
       "<div>\n",
       "<style scoped>\n",
       "    .dataframe tbody tr th:only-of-type {\n",
       "        vertical-align: middle;\n",
       "    }\n",
       "\n",
       "    .dataframe tbody tr th {\n",
       "        vertical-align: top;\n",
       "    }\n",
       "\n",
       "    .dataframe thead th {\n",
       "        text-align: right;\n",
       "    }\n",
       "</style>\n",
       "<table border=\"1\" class=\"dataframe\">\n",
       "  <thead>\n",
       "    <tr style=\"text-align: right;\">\n",
       "      <th></th>\n",
       "      <th>aban-bāšti[(a-stone)]n</th>\n",
       "      <th>aban-lamassi[(a-precious-stone)]n</th>\n",
       "      <th>aban-râmi['love'-stone]n</th>\n",
       "      <th>abati[(meaning-unknown)]n</th>\n",
       "      <th>abašmû[(a-stone)]n</th>\n",
       "      <th>abbušu[(meaning-unknown)]n</th>\n",
       "      <th>abbūtu[fatherhood]n</th>\n",
       "      <th>abiktu[defeat]n</th>\n",
       "      <th>abku[captive]n</th>\n",
       "      <th>ablu[brought]aj</th>\n",
       "      <th>...</th>\n",
       "      <th>ṭēmūtu[of-order]n</th>\n",
       "      <th>ṭīdu[clay]n</th>\n",
       "      <th>ṭīmu[yarn]n</th>\n",
       "      <th>ṭīpu[addition]n</th>\n",
       "      <th>ṭīru[impression]n</th>\n",
       "      <th>ṭūbtu[peace]n</th>\n",
       "      <th>ṭūbu[goodness]n</th>\n",
       "      <th>ṭūbātu[happiness]n</th>\n",
       "      <th>ṭūdu[way]n</th>\n",
       "      <th>ṭūru[opopanax]n</th>\n",
       "    </tr>\n",
       "  </thead>\n",
       "  <tbody>\n",
       "    <tr>\n",
       "      <td>P224378</td>\n",
       "      <td>0</td>\n",
       "      <td>0</td>\n",
       "      <td>0</td>\n",
       "      <td>0</td>\n",
       "      <td>0</td>\n",
       "      <td>0</td>\n",
       "      <td>0</td>\n",
       "      <td>0</td>\n",
       "      <td>0</td>\n",
       "      <td>0</td>\n",
       "      <td>...</td>\n",
       "      <td>0</td>\n",
       "      <td>0</td>\n",
       "      <td>0</td>\n",
       "      <td>0</td>\n",
       "      <td>0</td>\n",
       "      <td>0</td>\n",
       "      <td>0</td>\n",
       "      <td>0</td>\n",
       "      <td>0</td>\n",
       "      <td>0</td>\n",
       "    </tr>\n",
       "    <tr>\n",
       "      <td>P224382</td>\n",
       "      <td>0</td>\n",
       "      <td>0</td>\n",
       "      <td>0</td>\n",
       "      <td>0</td>\n",
       "      <td>0</td>\n",
       "      <td>0</td>\n",
       "      <td>0</td>\n",
       "      <td>0</td>\n",
       "      <td>0</td>\n",
       "      <td>0</td>\n",
       "      <td>...</td>\n",
       "      <td>0</td>\n",
       "      <td>0</td>\n",
       "      <td>0</td>\n",
       "      <td>0</td>\n",
       "      <td>0</td>\n",
       "      <td>0</td>\n",
       "      <td>0</td>\n",
       "      <td>0</td>\n",
       "      <td>0</td>\n",
       "      <td>0</td>\n",
       "    </tr>\n",
       "    <tr>\n",
       "      <td>P224383</td>\n",
       "      <td>0</td>\n",
       "      <td>0</td>\n",
       "      <td>0</td>\n",
       "      <td>0</td>\n",
       "      <td>0</td>\n",
       "      <td>0</td>\n",
       "      <td>0</td>\n",
       "      <td>0</td>\n",
       "      <td>0</td>\n",
       "      <td>0</td>\n",
       "      <td>...</td>\n",
       "      <td>0</td>\n",
       "      <td>0</td>\n",
       "      <td>0</td>\n",
       "      <td>0</td>\n",
       "      <td>0</td>\n",
       "      <td>0</td>\n",
       "      <td>0</td>\n",
       "      <td>0</td>\n",
       "      <td>0</td>\n",
       "      <td>0</td>\n",
       "    </tr>\n",
       "    <tr>\n",
       "      <td>P224386</td>\n",
       "      <td>0</td>\n",
       "      <td>0</td>\n",
       "      <td>0</td>\n",
       "      <td>0</td>\n",
       "      <td>0</td>\n",
       "      <td>0</td>\n",
       "      <td>0</td>\n",
       "      <td>0</td>\n",
       "      <td>0</td>\n",
       "      <td>0</td>\n",
       "      <td>...</td>\n",
       "      <td>0</td>\n",
       "      <td>0</td>\n",
       "      <td>0</td>\n",
       "      <td>0</td>\n",
       "      <td>0</td>\n",
       "      <td>0</td>\n",
       "      <td>0</td>\n",
       "      <td>0</td>\n",
       "      <td>0</td>\n",
       "      <td>0</td>\n",
       "    </tr>\n",
       "    <tr>\n",
       "      <td>P224388</td>\n",
       "      <td>0</td>\n",
       "      <td>0</td>\n",
       "      <td>0</td>\n",
       "      <td>0</td>\n",
       "      <td>0</td>\n",
       "      <td>0</td>\n",
       "      <td>0</td>\n",
       "      <td>0</td>\n",
       "      <td>0</td>\n",
       "      <td>0</td>\n",
       "      <td>...</td>\n",
       "      <td>0</td>\n",
       "      <td>0</td>\n",
       "      <td>0</td>\n",
       "      <td>0</td>\n",
       "      <td>0</td>\n",
       "      <td>0</td>\n",
       "      <td>0</td>\n",
       "      <td>0</td>\n",
       "      <td>0</td>\n",
       "      <td>0</td>\n",
       "    </tr>\n",
       "  </tbody>\n",
       "</table>\n",
       "<p>5 rows × 4502 columns</p>\n",
       "</div>"
      ],
      "text/plain": [
       "         aban-bāšti[(a-stone)]n  aban-lamassi[(a-precious-stone)]n  \\\n",
       "P224378                       0                                  0   \n",
       "P224382                       0                                  0   \n",
       "P224383                       0                                  0   \n",
       "P224386                       0                                  0   \n",
       "P224388                       0                                  0   \n",
       "\n",
       "         aban-râmi['love'-stone]n  abati[(meaning-unknown)]n  \\\n",
       "P224378                         0                          0   \n",
       "P224382                         0                          0   \n",
       "P224383                         0                          0   \n",
       "P224386                         0                          0   \n",
       "P224388                         0                          0   \n",
       "\n",
       "         abašmû[(a-stone)]n  abbušu[(meaning-unknown)]n  abbūtu[fatherhood]n  \\\n",
       "P224378                   0                           0                    0   \n",
       "P224382                   0                           0                    0   \n",
       "P224383                   0                           0                    0   \n",
       "P224386                   0                           0                    0   \n",
       "P224388                   0                           0                    0   \n",
       "\n",
       "         abiktu[defeat]n  abku[captive]n  ablu[brought]aj  ...  \\\n",
       "P224378                0               0                0  ...   \n",
       "P224382                0               0                0  ...   \n",
       "P224383                0               0                0  ...   \n",
       "P224386                0               0                0  ...   \n",
       "P224388                0               0                0  ...   \n",
       "\n",
       "         ṭēmūtu[of-order]n  ṭīdu[clay]n  ṭīmu[yarn]n  ṭīpu[addition]n  \\\n",
       "P224378                  0            0            0                0   \n",
       "P224382                  0            0            0                0   \n",
       "P224383                  0            0            0                0   \n",
       "P224386                  0            0            0                0   \n",
       "P224388                  0            0            0                0   \n",
       "\n",
       "         ṭīru[impression]n  ṭūbtu[peace]n  ṭūbu[goodness]n  \\\n",
       "P224378                  0              0                0   \n",
       "P224382                  0              0                0   \n",
       "P224383                  0              0                0   \n",
       "P224386                  0              0                0   \n",
       "P224388                  0              0                0   \n",
       "\n",
       "         ṭūbātu[happiness]n  ṭūdu[way]n  ṭūru[opopanax]n  \n",
       "P224378                   0           0                0  \n",
       "P224382                   0           0                0  \n",
       "P224383                   0           0                0  \n",
       "P224386                   0           0                0  \n",
       "P224388                   0           0                0  \n",
       "\n",
       "[5 rows x 4502 columns]"
      ]
     },
     "execution_count": 9,
     "metadata": {},
     "output_type": "execute_result"
    }
   ],
   "source": [
    "df = topic_model['df']\n",
    "texts = topic_model['texts']\n",
    "cv = CountVectorizer(analyzer='word', preprocessor=lambda x: x, tokenizer=lambda x: x)\n",
    "dtm = cv.fit_transform(texts)\n",
    "dtm_df = pd.DataFrame(dtm.toarray(), columns = cv.get_feature_names(), index = df.index.values)\n",
    "dtm_df.head()"
   ]
  },
  {
   "cell_type": "code",
   "execution_count": 10,
   "metadata": {
    "collapsed": false,
    "jupyter": {
     "outputs_hidden": false
    }
   },
   "outputs": [],
   "source": [
    "dist = squareform(pdist(dtm_df, 'cosine'))"
   ]
  },
  {
   "cell_type": "markdown",
   "metadata": {},
   "source": [
    "Compute the position of each document using Multi-Dimensional Scaling. The variable `pos` holds the `x` and `y`  coordinates."
   ]
  },
  {
   "cell_type": "code",
   "execution_count": null,
   "metadata": {
    "collapsed": false,
    "jupyter": {
     "outputs_hidden": false
    }
   },
   "outputs": [],
   "source": [
    "seed = 15\n",
    "mds = MDS(n_components=2, max_iter=3000,\n",
    "       random_state=seed, dissimilarity=\"precomputed\", n_jobs=1)\n",
    "pos = mds.fit_transform(dist)"
   ]
  },
  {
   "cell_type": "markdown",
   "metadata": {},
   "source": [
    "Create lists of x and y values (coordinates)."
   ]
  },
  {
   "cell_type": "code",
   "execution_count": null,
   "metadata": {
    "collapsed": false,
    "jupyter": {
     "outputs_hidden": false
    }
   },
   "outputs": [],
   "source": [
    "mds_x = [x for x, y in pos]\n",
    "mds_y = [y for x, y in pos]"
   ]
  },
  {
   "cell_type": "markdown",
   "metadata": {},
   "source": [
    "Create lists of the most prevalent topic, the probability of the most prevalent topic, and the text name for each document. These lists are used in the tooltips of the Bokeh visualization."
   ]
  },
  {
   "cell_type": "code",
   "execution_count": null,
   "metadata": {
    "collapsed": false,
    "jupyter": {
     "outputs_hidden": false
    }
   },
   "outputs": [],
   "source": [
    "d_t_df = topic_model['d_t_df']\n",
    "prevalent_topic = d_t_df.idxmax(axis=1)\n",
    "probability = d_t_df.max(axis=1)\n",
    "designation = list(df['designation'])"
   ]
  },
  {
   "cell_type": "code",
   "execution_count": null,
   "metadata": {
    "collapsed": false,
    "jupyter": {
     "outputs_hidden": false
    }
   },
   "outputs": [],
   "source": [
    "len(prevalent_topic), len(probability), len(designation)"
   ]
  },
  {
   "cell_type": "markdown",
   "metadata": {},
   "source": [
    "# Define Colors\n",
    "\n",
    "Create a colormap. "
   ]
  },
  {
   "cell_type": "code",
   "execution_count": null,
   "metadata": {
    "collapsed": false,
    "jupyter": {
     "outputs_hidden": false
    }
   },
   "outputs": [],
   "source": [
    "colormap = {0: 'grey', 1: \"orange\", 2: \"olive\", 3: \"firebrick\", \n",
    "          4: \"gold\", 5: \"red\", 6: \"fuchsia\", 7: \"green\", \n",
    "          8: \"blue\", 9: \"purple\", 10: \"aqua\", 11: \"yellow\", \n",
    "          12: \"indigo\", 13: \"blueviolet\", 14: \"beige\", 15:\"navy\", 16: 'chocolate',\n",
    "          17: 'azure', 18: 'coral', 19: 'crimson', 20: 'darkblue', 21: 'darkkhaki', \n",
    "          22: 'darkseagreen', 23: 'darkturquoise', 24: 'deeppink', 25: 'black'}"
   ]
  },
  {
   "cell_type": "markdown",
   "metadata": {},
   "source": [
    "Create a dictionary, to be used by Bokeh for drawing the visualization. In the dictionary each key is a feature and each value is a list with the values of that feature for each data point. All lists (all values) should be of equal length (the number of data points). The features include x and y coordinates, color, size, etc. "
   ]
  },
  {
   "cell_type": "code",
   "execution_count": null,
   "metadata": {
    "collapsed": false,
    "jupyter": {
     "outputs_hidden": false
    }
   },
   "outputs": [],
   "source": [
    "d_mds = dict(\n",
    "        x=mds_x,\n",
    "        y=mds_y,\n",
    "        id_text=list(df.id_text),\n",
    "        size = probability/max(probability)*15,\n",
    "        probability = probability,\n",
    "        topic = prevalent_topic,\n",
    "        color = [colormap[n] for n in prevalent_topic],\n",
    "        alpha = [0.5] * len(mds_x),\n",
    "        designation = designation\n",
    "    )\n",
    "instructions = [\n",
    "    \"Highlight (color) one or two topics by moving the sliders. If both sliders are 0, all topics are colored.\",\n",
    "    \"Hover over a data point for more information. Click on a data point to go to the document edition.\",\n",
    "    \"Use the toolbar to zoom, pan, reset, or save as .png.\"]"
   ]
  },
  {
   "cell_type": "markdown",
   "metadata": {},
   "source": [
    "# JavaScript Code\n",
    "Interactive features in Bokeh, such as sliders, use a callback function that is activated when a certain event takes place. This event can be a mouse movement, a click, or a change in the slider. Custom callback functions need to be written in JavaScript.\n",
    "\n"
   ]
  },
  {
   "cell_type": "code",
   "execution_count": null,
   "metadata": {},
   "outputs": [],
   "source": [
    "code = \"\"\"\n",
    "        var data = source.data;\n",
    "        topic = data['topic']\n",
    "        for (i = 0; i < topic.length; i++) {\n",
    "            data.alpha[i] = 0.5\n",
    "            data.color[i] = cm[topic[i]]\n",
    "            if ((topic1.value == 0) && (topic2.value == 0)) {\n",
    "                continue;\n",
    "            } else if ((topic[i] == topic1.value) || (topic[i] == topic2.value)) {\n",
    "                continue;\n",
    "            } else {\n",
    "                data.color[i] = 'grey'\n",
    "                data.alpha[i] = '0.1'\n",
    "            } \n",
    "        }\n",
    "        source.change.emit();\n",
    "        \"\"\""
   ]
  },
  {
   "cell_type": "markdown",
   "metadata": {},
   "source": [
    "Draw the visualization. The visualization provides various tools for further exploration:\n",
    "- tooltips (provides topic, probability, text name and URL)\n",
    "- box zoom\n",
    "- wheel zoom\n",
    "- pan\n",
    "- reset\n",
    "- link to document edition\n",
    "- save the visualization\n",
    "\n",
    "In addition, the visualization has two sliders that allow the user to select two topics."
   ]
  },
  {
   "cell_type": "code",
   "execution_count": null,
   "metadata": {
    "collapsed": false,
    "jupyter": {
     "outputs_hidden": false
    }
   },
   "outputs": [],
   "source": [
    "def drawviz(data, title, outputfile):\n",
    "    source_mds = ColumnDataSource(data=data)\n",
    "    p = figure(\n",
    "        plot_width=1000, plot_height=1000,\n",
    "        tools=\"tap,pan,wheel_zoom,box_zoom,reset,save\", \n",
    "        title=title)\n",
    "    p.add_tools(HoverTool(\n",
    "        tooltips=[\n",
    "            (\"url\", \"http://oracc.org/\" + \"@id_text\"),\n",
    "            ((\"topic, probability\"), (\"@topic, @probability\")),\n",
    "            (\"designation\", \"@designation\")\n",
    "        ]\n",
    "        ))\n",
    "\n",
    "    p.circle('x', \n",
    "         'y', \n",
    "         color='color', \n",
    "         fill_alpha='alpha', \n",
    "         size='size', \n",
    "         source=source_mds\n",
    "         )\n",
    "    p.axis.visible = False\n",
    "\n",
    "    slider1 = Slider(start=0, end=ntopics, value=0, step=1, title=\"Topic A\")\n",
    "    slider2 = Slider(start=0, end=ntopics, value=0, step=1, title=\"Topic B\")\n",
    "\n",
    "    callback = CustomJS(args=dict(source=source_mds, topic1 = slider1, \n",
    "                              topic2 = slider2, cm = colormap), code = code)\n",
    "    slider1.js_on_change('value', callback)\n",
    "    slider2.js_on_change('value', callback)\n",
    "    \n",
    "    url = \"http://oracc.museum.upenn.edu/@id_text\"\n",
    "    taptool = p.select(type=TapTool)\n",
    "    taptool.callback = OpenURL(url=url)\n",
    "\n",
    "    for line in instructions:\n",
    "        p.add_layout(Title(text=line), 'below')\n",
    "\n",
    "    layout = column(slider1, slider2, p)\n",
    "    show(layout)\n",
    "    output_file(outputfile)\n",
    "    save(layout);"
   ]
  },
  {
   "cell_type": "code",
   "execution_count": null,
   "metadata": {},
   "outputs": [],
   "source": [
    "reset_output()\n",
    "output_notebook()\n",
    "title = \"Projection with MDS. Size of the circle represents prevalence of the topic.\"\n",
    "outputfile = 'vis/mds1.html'\n",
    "drawviz(d_mds, title, 'vis/mds1.html')"
   ]
  },
  {
   "cell_type": "markdown",
   "metadata": {},
   "source": [
    "## Alternative: plotting based on Document/Topic table\n",
    "The following visualization uses the same approach, but takes the document/topic table as the basis for distance measurements. Documents that share approximately the same distribution of topics will be plotted n the same region. Since the sum of each row in the document/topic table is 1 the distance matrix is computed with euclidean distance (not cosine)."
   ]
  },
  {
   "cell_type": "code",
   "execution_count": null,
   "metadata": {
    "collapsed": false,
    "jupyter": {
     "outputs_hidden": false
    }
   },
   "outputs": [],
   "source": [
    "dist_dt = squareform(pdist(d_t_df))"
   ]
  },
  {
   "cell_type": "code",
   "execution_count": null,
   "metadata": {},
   "outputs": [],
   "source": [
    "mds = MDS(n_components=2, max_iter=3000,\n",
    "       random_state=seed, dissimilarity=\"precomputed\", n_jobs=1)\n",
    "pos = mds.fit_transform(dist_dt)"
   ]
  },
  {
   "cell_type": "code",
   "execution_count": null,
   "metadata": {},
   "outputs": [],
   "source": [
    "d_mds2 = d_mds.copy() # the data source is the same as for the previous visualization, except for the x and y coordinates.\n",
    "d_mds2['x'] = [x for x, y in pos]\n",
    "d_mds2['y'] = [y for x, y in pos]"
   ]
  },
  {
   "cell_type": "code",
   "execution_count": null,
   "metadata": {},
   "outputs": [],
   "source": [
    "reset_output()\n",
    "output_notebook()\n",
    "title = \"Projection with MDS, based on Document/Topic distribution. Size of the circle represents prevalence of the topic.\"\n",
    "outputfile = 'vis/mds2.html'\n",
    "drawviz(d_mds2, title, outputfile)"
   ]
  },
  {
   "cell_type": "markdown",
   "metadata": {},
   "source": [
    "# Visualize the Documents 2: Using TSNE"
   ]
  },
  {
   "cell_type": "markdown",
   "metadata": {},
   "source": [
    "# TSNE based on Document/Term Matrix (Cosine distance)\n",
    "\n",
    "Cosine distances have been computed earlier; the matrix is stored in the variable `dist`."
   ]
  },
  {
   "cell_type": "code",
   "execution_count": null,
   "metadata": {
    "collapsed": false,
    "jupyter": {
     "outputs_hidden": false
    }
   },
   "outputs": [],
   "source": [
    "X = dist\n",
    "tsne = TSNE(n_components = 2, random_state=0, metric=\"precomputed\")\n",
    "X_tsne = tsne.fit_transform(X)"
   ]
  },
  {
   "cell_type": "code",
   "execution_count": null,
   "metadata": {},
   "outputs": [],
   "source": [
    "d_tsne = d_mds.copy() # the data source is the same as for the previous visualization, except for the x and y coordinates.\n",
    "d_tsne['x'] = [x for x, y in X_tsne]\n",
    "d_tsne['y'] = [y for x, y in X_tsne]"
   ]
  },
  {
   "cell_type": "code",
   "execution_count": null,
   "metadata": {},
   "outputs": [],
   "source": [
    "title = \"Projection with tSNE. Size of the circle represents prevalence of the topic.\"\n",
    "outputfile = 'vis/tsne1.html'\n",
    "drawviz(d_tsne, title, outputfile)"
   ]
  },
  {
   "cell_type": "markdown",
   "metadata": {},
   "source": [
    "# TSNE based on Document/Topic Matrix"
   ]
  },
  {
   "cell_type": "code",
   "execution_count": null,
   "metadata": {
    "collapsed": false,
    "jupyter": {
     "outputs_hidden": false
    }
   },
   "outputs": [],
   "source": [
    "X = dist_dt\n",
    "tsne = TSNE(n_components = 2, random_state=0, metric=\"precomputed\")\n",
    "X_tsne = tsne.fit_transform(X)"
   ]
  },
  {
   "cell_type": "code",
   "execution_count": null,
   "metadata": {},
   "outputs": [],
   "source": [
    "d_tsne2 = d_mds.copy() # the data source is the same as for the previous visualization, except for the x and y coordinates.\n",
    "d_tsne2['x'] = [x for x, y in X_tsne]\n",
    "d_tsne2['y'] = [y for x, y in X_tsne]"
   ]
  },
  {
   "cell_type": "code",
   "execution_count": null,
   "metadata": {},
   "outputs": [],
   "source": [
    "title = \"Projection with tSNE, based on Document/Topic distribution. Size of the circle represents prevalence of the topic.\"\n",
    "outputfile = 'vis/tsne2.html'\n",
    "drawviz(d_tsne2, title, outputfile)"
   ]
  },
  {
   "cell_type": "code",
   "execution_count": null,
   "metadata": {},
   "outputs": [],
   "source": []
  }
 ],
 "metadata": {
  "anaconda-cloud": {},
  "kernelspec": {
   "display_name": "Python 3",
   "language": "python",
   "name": "python3"
  },
  "language_info": {
   "codemirror_mode": {
    "name": "ipython",
    "version": 3
   },
   "file_extension": ".py",
   "mimetype": "text/x-python",
   "name": "python",
   "nbconvert_exporter": "python",
   "pygments_lexer": "ipython3",
   "version": "3.6.7"
  }
 },
 "nbformat": 4,
 "nbformat_minor": 4
}
