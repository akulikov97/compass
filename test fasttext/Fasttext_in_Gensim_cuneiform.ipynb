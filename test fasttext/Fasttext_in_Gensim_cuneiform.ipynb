{
 "cells": [
  {
   "cell_type": "markdown",
   "metadata": {},
   "source": [
    "# Fasttext implementation in Gensim\n",
    "For code examples etc. see the [tutorial](https://github.com/RaRe-Technologies/gensim/blob/de8657e9b8d5192750296b6765175c31c8bb3298/docs/notebooks/FastText_Tutorial.ipynb).\n",
    "\n",
    "Currently the code includes two types of warning suppression - check in future installations whether they are still necessary. The first warning only occurs on Windows machines and tells the user that an alternative function will be used. The second warnings line suppresses the \"FutureWarning: Conversion of the second argument of issubdtype from `int` to `np.signedinteger` is deprecated\" warning which comes from Numpy."
   ]
  },
  {
   "cell_type": "code",
   "execution_count": 6,
   "metadata": {},
   "outputs": [],
   "source": [
    "import warnings\n",
    "warnings.filterwarnings(action='ignore', category=UserWarning, module='gensim')\n",
    "warnings.filterwarnings(action='ignore', category=FutureWarning, module='gensim' )\n",
    "import gensim\n",
    "import pickle\n",
    "import pandas as pd\n",
    "from gensim.models.word2vec import LineSentence\n",
    "from gensim.models.fasttext import FastText as FT_gensim"
   ]
  },
  {
   "cell_type": "code",
   "execution_count": 2,
   "metadata": {},
   "outputs": [],
   "source": [
    "file = \"corpus/sux_utf8.txt\"\n",
    "data = LineSentence(file)"
   ]
  },
  {
   "cell_type": "code",
   "execution_count": 3,
   "metadata": {},
   "outputs": [],
   "source": [
    "model_gensim = FT_gensim(data, min_count=5, window=10, size=100, negative=20, sorted_vocab=1, min_n=1, \n",
    "                         max_n=6, sg=1, iter=100)\n",
    "# iter is for epochs; sg is skipgram (sg = 0 is cbow)"
   ]
  },
  {
   "cell_type": "code",
   "execution_count": 10,
   "metadata": {},
   "outputs": [],
   "source": [
    "filename = \"model/model_cuneiform.model\"\n",
    "model_gensim.save(filename)"
   ]
  },
  {
   "cell_type": "code",
   "execution_count": 7,
   "metadata": {},
   "outputs": [],
   "source": [
    "with open(\"output/ogsl.p\", \"rb\") as p:\n",
    "    o = pd.read_pickle(p)\n",
    "d = dict(zip(o[\"value\"], o[\"utf8\"]))"
   ]
  },
  {
   "cell_type": "code",
   "execution_count": 8,
   "metadata": {},
   "outputs": [],
   "source": [
    "def cun(text): \n",
    "    \"\"\"transform transliterated input into cuneiform. Use unicode subscript numbers and separate all signs with hyphens; separate words with blanks\n",
    "    Examples: 'ma-an-gi₄'; 'd-en-lil₂ nibru-ki'.\n",
    "    Transliteration style (sugal₇ vs. sukkal; dug₄ vs. du₁₁; gen vs. ŋen; etc.) and capitalization are unimportant.\n",
    "    \"\"\"\n",
    "    cun_line = []\n",
    "    words = text.lower().split()\n",
    "    for word in words: \n",
    "        signs = word.lower().split('-')\n",
    "        seq = [d[s] if s in d else s for s in signs]\n",
    "        seq = ''.join(seq)\n",
    "        cun_line.append(seq)\n",
    "    line = ' '.join(cun_line)\n",
    "    return(line)"
   ]
  },
  {
   "cell_type": "code",
   "execution_count": 6,
   "metadata": {},
   "outputs": [],
   "source": [
    "def nearestcun(text, n=10, word_freq=None):\n",
    "    \"\"\"input transliteration of a word form, signs separated by hyphens.\n",
    "    Examples: \"ma-an-gi₄\", \"d-en-lil₂\", or \"urim₅-ki\".\n",
    "    Transliteration style (gu₄ vs. gud; gen vs. ŋen) is unimportant\n",
    "    The result is fed to nearest_words.\n",
    "    n is the number of nearest neigbors that nearest_words will return\n",
    "    word_freq is the minimum word frequency for a neighbor to be considered\"\"\"\n",
    "    word = cun(text)\n",
    "    return model_gensim.wv.most_similar(positive=[word], topn=n)"
   ]
  },
  {
   "cell_type": "code",
   "execution_count": 7,
   "metadata": {},
   "outputs": [
    {
     "data": {
      "text/plain": [
       "[('𒄑𒀜𒍑', 0.76911461353302),\n",
       " ('𒄑𒀜', 0.7375223636627197),\n",
       " ('𒄑𒄀𒈲', 0.7371855974197388),\n",
       " ('𒄤𒋧𒄤', 0.732872486114502),\n",
       " ('𒄑𒈣𒁍𒁕', 0.7244366407394409),\n",
       " ('𒄑𒈪𒌷𒍝', 0.7211812138557434),\n",
       " ('𒄑𒄷𒋛', 0.718241810798645),\n",
       " ('𒄑𒍣𒃶', 0.7150076031684875),\n",
       " ('𒄑𒀜𒆰', 0.7129932641983032),\n",
       " ('𒄑𒀀𒁕', 0.7123159170150757),\n",
       " ('𒄑𒈨𒁶', 0.7120527029037476),\n",
       " ('𒄑𒋗𒉽𒉽', 0.7095718383789062),\n",
       " ('𒄑𒋾𒋾', 0.7089521884918213),\n",
       " ('𒄑𒀀𒊏', 0.7083549499511719),\n",
       " ('𒄑𒇲𒉌', 0.7068991661071777)]"
      ]
     },
     "execution_count": 7,
     "metadata": {},
     "output_type": "execute_result"
    }
   ],
   "source": [
    "nearestcun(\"ŋeš-ad-da\", 15)"
   ]
  },
  {
   "cell_type": "markdown",
   "metadata": {},
   "source": [
    "example\n",
    "model_wrapper.most_similar(positive=['baghdad', 'england'], negative=['london'])"
   ]
  },
  {
   "cell_type": "code",
   "execution_count": 8,
   "metadata": {},
   "outputs": [
    {
     "data": {
      "text/plain": [
       "[('𒇇', 0.9742987155914307),\n",
       " ('𒈧', 0.9709023237228394),\n",
       " ('𒇻', 0.9708880186080933)]"
      ]
     },
     "execution_count": 8,
     "metadata": {},
     "output_type": "execute_result"
    }
   ],
   "source": [
    "model_gensim.wv.most_similar(positive=[cun(\"gud\"), cun(\"sila₄\")], negative=[cun(\"amar\")], topn=3)"
   ]
  },
  {
   "cell_type": "code",
   "execution_count": 9,
   "metadata": {},
   "outputs": [
    {
     "data": {
      "text/plain": [
       "'𒀫'"
      ]
     },
     "execution_count": 9,
     "metadata": {},
     "output_type": "execute_result"
    }
   ],
   "source": [
    "model_gensim.wv.doesnt_match([cun(\"sila₄\"), cun(\"udu\"), cun(\"u₈\"), cun(\"amar\")])"
   ]
  },
  {
   "cell_type": "code",
   "execution_count": 20,
   "metadata": {},
   "outputs": [
    {
     "data": {
      "text/plain": [
       "[('𒀭', 0.9684085249900818),\n",
       " ('𒈤', 0.9660917520523071),\n",
       " ('𒆠', 0.9650214910507202)]"
      ]
     },
     "execution_count": 20,
     "metadata": {},
     "output_type": "execute_result"
    }
   ],
   "source": [
    "model_gensim.wv.most_similar(positive=[cun(\"lugal\"), cun(\"munus\")], negative=[cun(\"nita₂\")], topn=3)"
   ]
  },
  {
   "cell_type": "code",
   "execution_count": 31,
   "metadata": {},
   "outputs": [
    {
     "data": {
      "text/plain": [
       "[('𒁕𒁕', 0.951117217540741),\n",
       " ('𒌤𒀀', 0.9501250982284546),\n",
       " ('𒉺', 0.9496690034866333),\n",
       " ('𒉺𒀠', 0.9495517015457153),\n",
       " ('𒆠𒀀', 0.9494520425796509),\n",
       " ('𒁀𒊷', 0.9493198394775391),\n",
       " ('𒌨𒈩', 0.9478766918182373),\n",
       " ('𒌨𒇷', 0.9475545883178711),\n",
       " ('𒆠', 0.9475405216217041),\n",
       " ('𒈗𒀀', 0.9465681314468384)]"
      ]
     },
     "execution_count": 31,
     "metadata": {},
     "output_type": "execute_result"
    }
   ],
   "source": [
    "model_gensim.wv.most_similar(positive=[cun(\"lugal\"), cun(\"nu-banda₃\")], negative=[cun(\"sukkal-mah\")])"
   ]
  },
  {
   "cell_type": "code",
   "execution_count": 58,
   "metadata": {},
   "outputs": [
    {
     "data": {
      "text/plain": [
       "[('𒊺𒇷', 0.8900678157806396),\n",
       " ('𒄞𒆪𒊒', 0.8851251602172852),\n",
       " ('𒋗𒌫𒈨', 0.8850780725479126),\n",
       " ('𒋆𒃵𒃵𒈠', 0.8815943002700806),\n",
       " ('𒋢𒁲', 0.8805724382400513),\n",
       " ('𒋆𒅎', 0.8791651725769043),\n",
       " ('𒍝𒁀𒈝', 0.8783516883850098),\n",
       " ('𒃵𒃵𒈠', 0.8764652013778687),\n",
       " ('𒉺𒅇𒆪', 0.8720640540122986),\n",
       " ('𒇴𒃲', 0.8666182160377502)]"
      ]
     },
     "execution_count": 58,
     "metadata": {},
     "output_type": "execute_result"
    }
   ],
   "source": [
    "model_gensim.wv.most_similar(cun(\"šim-gig\"), topn=10)"
   ]
  },
  {
   "cell_type": "code",
   "execution_count": 42,
   "metadata": {},
   "outputs": [],
   "source": [
    "with open(\"output/utf8_lemm_d.p\", \"rb\") as p:\n",
    "    utf8_lemm_d = pickle.load(p)"
   ]
  },
  {
   "cell_type": "code",
   "execution_count": 46,
   "metadata": {},
   "outputs": [],
   "source": [
    "def similar(translit, topn=10):\n",
    "    c = cun(translit)\n",
    "    sim = model_gensim.wv.most_similar(c, topn =topn)\n",
    "    sim_utf8 = [item[0] for item in sim]\n",
    "    sim_utf8 = [utf8_lemm_d[item] for item in sim_utf8]\n",
    "    sim_z = zip(sim, sim_utf8)\n",
    "    return dict(sim_z)"
   ]
  },
  {
   "cell_type": "code",
   "execution_count": 55,
   "metadata": {},
   "outputs": [
    {
     "data": {
      "text/plain": [
       "{('𒄎', 0.9597214460372925): {'lulim', 'lulim[stag]N', '|GIR₃×(LU.IGI)|'},\n",
       " ('𒀫', 0.9346693158149719): {'AMAR',\n",
       "  'amar',\n",
       "  'amar[young]N',\n",
       "  'zur',\n",
       "  'zur[break]V/t',\n",
       "  'zur[grain-pile]N',\n",
       "  'zur[roil]V/t',\n",
       "  'zur[take-care-of]V/t'},\n",
       " ('𒁰', 0.9322395324707031): {'DARA₃',\n",
       "  'dara₃',\n",
       "  'dar₃',\n",
       "  'durah',\n",
       "  'durah[goat]N'},\n",
       " ('𒈦𒆕', 0.9320837259292603): {'Mašda[1]RN',\n",
       "  'mas-da₃',\n",
       "  'maš-da₃',\n",
       "  'maš-du₃',\n",
       "  'maš-gag',\n",
       "  'maš-kak',\n",
       "  'mašda[gazelle]N',\n",
       "  'mašda[stone]N',\n",
       "  'mašgaʾen[a-social-status-or-profession]N',\n",
       "  '|MAŠ.GAG|',\n",
       "  '|MAŠ.KAK|'},\n",
       " ('𒊾', 0.9314689636230469): {'kiši[ant]N',\n",
       "  'kiši₆',\n",
       "  'sabar₂',\n",
       "  'ŠEG₉',\n",
       "  'šeg[animal]N',\n",
       "  'šeg[frost]N',\n",
       "  'šeg₉',\n",
       "  'šenbar',\n",
       "  'šeŋbar[animal]N'},\n",
       " ('𒁱', 0.9258366823196411): {'DARA₄',\n",
       "  'dara[red]V/i',\n",
       "  'dara₄',\n",
       "  'durah[goat]N',\n",
       "  'ganam[ewe]N',\n",
       "  'inna[fleece]N',\n",
       "  'lahar[ewe]N',\n",
       "  'u[ewe]N',\n",
       "  'u[sheep-ewe]N'},\n",
       " ('𒊾X', 0.9255743026733398): {'ŠEG₉-x', 'šeg₉-x', 'šeŋbar[animal]N'},\n",
       " ('𒆸𒁀', 0.9248313307762146): {'gur[thick]V/i',\n",
       "  'hab[malodorous]V/i',\n",
       "  'kilib[total]N',\n",
       "  'lagab[block]N',\n",
       "  'nigin₂-ba'},\n",
       " ('𒇻', 0.9237345457077026): {'LU',\n",
       "  'UDU',\n",
       "  'eze[sheep]N',\n",
       "  'gur(LU)',\n",
       "  'lu',\n",
       "  'lu[abundant]V/i',\n",
       "  'lu[mix]V/t',\n",
       "  'lu[person]N',\n",
       "  'lu[sheep]N',\n",
       "  'lug',\n",
       "  'lug[live]V/i',\n",
       "  'udu',\n",
       "  'udu[sheep]N'},\n",
       " ('𒄎𒊩', 0.9232164621353149): {'lulim-munus'}}"
      ]
     },
     "execution_count": 55,
     "metadata": {},
     "output_type": "execute_result"
    }
   ],
   "source": [
    "similar(\"šeg₉-bar\")"
   ]
  },
  {
   "cell_type": "code",
   "execution_count": null,
   "metadata": {},
   "outputs": [],
   "source": []
  }
 ],
 "metadata": {
  "kernelspec": {
   "display_name": "Python 3",
   "language": "python",
   "name": "python3"
  },
  "language_info": {
   "codemirror_mode": {
    "name": "ipython",
    "version": 3
   },
   "file_extension": ".py",
   "mimetype": "text/x-python",
   "name": "python",
   "nbconvert_exporter": "python",
   "pygments_lexer": "ipython3",
   "version": "3.7.0"
  }
 },
 "nbformat": 4,
 "nbformat_minor": 2
}
