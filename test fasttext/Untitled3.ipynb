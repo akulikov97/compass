{
 "cells": [
  {
   "cell_type": "code",
   "execution_count": 15,
   "metadata": {
    "collapsed": false
   },
   "outputs": [
    {
     "name": "stderr",
     "output_type": "stream",
     "text": [
      "C:\\Users\\veldhuis\\AppData\\Local\\Continuum\\Anaconda3\\lib\\site-packages\\gensim\\utils.py:1212: UserWarning: detected Windows; aliasing chunkize to chunkize_serial\n",
      "  warnings.warn(\"detected Windows; aliasing chunkize to chunkize_serial\")\n"
     ]
    }
   ],
   "source": [
    "from gensim.models import word2vec"
   ]
  },
  {
   "cell_type": "code",
   "execution_count": 16,
   "metadata": {
    "collapsed": false
   },
   "outputs": [],
   "source": [
    "sentences = word2vec.LineSentence('corpus/sux_tl.txt')"
   ]
  },
  {
   "cell_type": "code",
   "execution_count": 17,
   "metadata": {
    "collapsed": false
   },
   "outputs": [],
   "source": [
    "model = word2vec.Word2Vec(sentences, size=100, window=5, \n",
    "                              min_count=1, sg=1, alpha=0.025, iter=5, batch_words=10000, workers=1)"
   ]
  },
  {
   "cell_type": "code",
   "execution_count": 18,
   "metadata": {
    "collapsed": false
   },
   "outputs": [
    {
     "data": {
      "text/plain": [
       "array([-0.1812892 , -0.33047327, -0.14787573, -0.31164044, -0.40646404,\n",
       "       -1.1148844 ,  0.38376945,  0.30329108, -0.7302181 , -0.09886739,\n",
       "        0.08773896,  0.40660217, -0.42329973, -0.01972872, -0.4716165 ,\n",
       "        0.6192823 ,  0.46529606,  0.880005  ,  0.56814843, -0.26326147,\n",
       "        0.3371394 , -0.6323962 ,  0.01744318,  0.44238096,  0.61813426,\n",
       "       -0.09895213,  0.47836342,  0.02330465, -0.48008025,  0.03422524,\n",
       "        0.27279177, -0.24486768,  0.34587815,  0.6072725 ,  0.5407402 ,\n",
       "       -0.47864005, -0.9366037 ,  0.58238673,  0.11827014, -0.39430884,\n",
       "       -0.23239747,  0.2945421 , -0.06885839,  0.07847539, -0.74979526,\n",
       "       -0.23651353,  0.02725957, -0.6083348 ,  0.45918143, -0.4292157 ,\n",
       "        0.8893342 ,  0.19810097, -0.22068614, -0.30282244,  0.09725627,\n",
       "       -0.11930912, -0.11481862,  0.07181495,  0.56863713,  0.31232235,\n",
       "        0.06556349,  0.17925356,  0.19207095, -0.26270172, -0.02084127,\n",
       "        0.6546829 ,  0.4543399 ,  0.8312509 ,  0.19641338,  0.62616706,\n",
       "       -0.59037966,  0.18783458, -0.03810623,  0.01175131,  0.0415825 ,\n",
       "        0.30675456,  0.3320326 , -0.97733414,  0.61446404,  0.20871724,\n",
       "        0.3249904 , -0.10028104,  0.7615915 , -0.40093887, -0.5610535 ,\n",
       "        0.4536804 , -0.05774828,  0.285461  ,  0.4305748 ,  0.17816961,\n",
       "        0.38234267, -0.24952574, -0.08790782,  0.02124961, -0.0787753 ,\n",
       "       -0.01048014,  1.0455991 , -0.25958294, -0.2211523 , -0.05230958],\n",
       "      dtype=float32)"
      ]
     },
     "execution_count": 18,
     "metadata": {},
     "output_type": "execute_result"
    }
   ],
   "source": [
    "model.wv[\"lugal\"]"
   ]
  },
  {
   "cell_type": "code",
   "execution_count": 19,
   "metadata": {
    "collapsed": false
   },
   "outputs": [
    {
     "name": "stderr",
     "output_type": "stream",
     "text": [
      "C:\\Users\\veldhuis\\AppData\\Local\\Continuum\\Anaconda3\\lib\\site-packages\\gensim\\matutils.py:737: FutureWarning: Conversion of the second argument of issubdtype from `int` to `np.signedinteger` is deprecated. In future, it will be treated as `np.int32 == np.dtype(int).type`.\n",
      "  if np.issubdtype(vec.dtype, np.int):\n"
     ]
    },
    {
     "data": {
      "text/plain": [
       "0.5488589"
      ]
     },
     "execution_count": 19,
     "metadata": {},
     "output_type": "execute_result"
    }
   ],
   "source": [
    "model.wv.similarity(\"lugal\", \"ereš\")"
   ]
  },
  {
   "cell_type": "code",
   "execution_count": 20,
   "metadata": {
    "collapsed": false
   },
   "outputs": [
    {
     "name": "stderr",
     "output_type": "stream",
     "text": [
      "C:\\Users\\veldhuis\\AppData\\Local\\Continuum\\Anaconda3\\lib\\site-packages\\gensim\\matutils.py:737: FutureWarning: Conversion of the second argument of issubdtype from `int` to `np.signedinteger` is deprecated. In future, it will be treated as `np.int32 == np.dtype(int).type`.\n",
      "  if np.issubdtype(vec.dtype, np.int):\n"
     ]
    },
    {
     "data": {
      "text/plain": [
       "[('{d}kar-ra-du', 0.9391958713531494),\n",
       " ('u₄-sakar-gu-la', 0.936005175113678),\n",
       " ('nig₂-{geš}tag-ga', 0.9295024275779724),\n",
       " ('{d}pa-bil₂-sag', 0.9252927899360657),\n",
       " ('{d}en-ki-nin-ul-gur₃', 0.9251142740249634),\n",
       " ('ki-zah₃-še₃', 0.9239692687988281),\n",
       " ('{d}nin-ša₃-ge-pa₃-da', 0.9236398935317993),\n",
       " ('{d}balag', 0.921384871006012),\n",
       " ('{d}e₂-sag-kal-la', 0.9208574891090393),\n",
       " ('{d}kur-ra-igi-gal₂', 0.9193475246429443)]"
      ]
     },
     "execution_count": 20,
     "metadata": {},
     "output_type": "execute_result"
    }
   ],
   "source": [
    "model.wv.most_similar(\"bar-ba-zi-ga\")"
   ]
  },
  {
   "cell_type": "code",
   "execution_count": 21,
   "metadata": {
    "collapsed": true
   },
   "outputs": [],
   "source": [
    "wild_animals = [\n",
    "    \"ur-mah\", \n",
    "    \"ur-bar-ra\", \n",
    "    \"az\", \n",
    "    \"ur\", \n",
    "    \"peš₂\", \n",
    "    \"ZUBUD\", \n",
    "    \"alim\", \n",
    "    \"maš-da₃\", \n",
    "    \"muš\", \n",
    "    \"šeg₉\", \n",
    "    \"šeg₉-bar\", \n",
    "    \"lulim\", \n",
    "    \"am\", \n",
    "    \"šah₂\"]\n",
    "dom_animals = [\n",
    "    \"udu\", \n",
    "    \"sila₄\", \n",
    "    \"u₈\", \n",
    "    \"kir₁₁\", \n",
    "    \"uz₃\", \n",
    "    \"maš₂\", \n",
    "    \"maš₂-gal\", \n",
    "    \"gu₄\", \n",
    "    \"ab₂\", \n",
    "    \"amar\", \n",
    "    \"anše\", \n",
    "    \"eme₅\", \n",
    "    \"dur₃\"] \n",
    "animals = wild_animals.copy()\n",
    "animals.extend(dom_animals)"
   ]
  },
  {
   "cell_type": "code",
   "execution_count": 22,
   "metadata": {
    "collapsed": false
   },
   "outputs": [
    {
     "name": "stderr",
     "output_type": "stream",
     "text": [
      "C:\\Users\\veldhuis\\AppData\\Local\\Continuum\\Anaconda3\\lib\\site-packages\\gensim\\matutils.py:737: FutureWarning: Conversion of the second argument of issubdtype from `int` to `np.signedinteger` is deprecated. In future, it will be treated as `np.int32 == np.dtype(int).type`.\n",
      "  if np.issubdtype(vec.dtype, np.int):\n"
     ]
    }
   ],
   "source": [
    "close_to_dom = model.wv.most_similar(dom_animals, topn=50)"
   ]
  },
  {
   "cell_type": "code",
   "execution_count": 23,
   "metadata": {
    "collapsed": false
   },
   "outputs": [
    {
     "data": {
      "text/plain": [
       "[('ur-{d}šara₂-ka-kam', 0.8762315511703491),\n",
       " ('maš-gal', 0.8715767860412598),\n",
       " ('{munus}si-as₂-gar₃', 0.8628400564193726),\n",
       " ('e₂-tur₃-še₃', 0.8599249124526978),\n",
       " ('anše-edin-na-nita₂', 0.8595695495605469),\n",
       " ('bi-ze₂-ze₂', 0.8582769632339478),\n",
       " ('dingir-ra-bi₂-ta', 0.8582595586776733),\n",
       " ('lugal-KA-kam', 0.857851505279541),\n",
       " ('epsd2/admin/u3adm/P123789', 0.8578311204910278),\n",
       " ('maš₂-nita', 0.8574753999710083),\n",
       " ('eš₃-eš₃-še₃', 0.8565026521682739),\n",
       " ('5(aš@c@90)', 0.8562175035476685),\n",
       " ('maš₂-še₃', 0.8561000227928162),\n",
       " ('maš₂-x', 0.8558298945426941),\n",
       " ('ur-{d}suen-ka-kam', 0.855816125869751),\n",
       " ('u-bar-ta', 0.8556749224662781),\n",
       " ('{munus}as₂-gar₃', 0.8554868698120117),\n",
       " ('šu-da-da-ta', 0.8549882173538208),\n",
       " ('epsd2/admin/u3adm/P390976', 0.8546238541603088),\n",
       " ('hu-un-gu-ur₂-bi-ta', 0.8533362150192261),\n",
       " ('ur-{d}suen-kam', 0.8530315160751343),\n",
       " ('MAŠ@t', 0.8520200848579407),\n",
       " ('lulim-munus', 0.8510517477989197),\n",
       " ('gu₄-gal', 0.8503450751304626),\n",
       " ('{munus}aš₂-gar₃', 0.8502446413040161),\n",
       " ('epsd2/admin/oakk/P215215', 0.8487964868545532),\n",
       " ('šu-nigin₂-ba', 0.8485550880432129),\n",
       " ('ab₂-še₃', 0.8483655452728271),\n",
       " ('gukkal-gun₃-a', 0.8480877876281738),\n",
       " ('NE-um-še₃', 0.8480859994888306),\n",
       " ('maš-da₃-munus', 0.8469924926757812),\n",
       " ('utuwa', 0.8469498157501221),\n",
       " ('a-bi₂-nar-e', 0.8459650278091431),\n",
       " ('epsd2/admin/u3adm/P128826', 0.8459190726280212),\n",
       " ('epsd2/admin/u3adm/P127514', 0.8458570241928101),\n",
       " ('maš₂-gal-gal', 0.8456007838249207),\n",
       " ('gu₄-ab₂', 0.8455825448036194),\n",
       " ('gidlam₂', 0.8455696105957031),\n",
       " ('šu-gu₄', 0.845081090927124),\n",
       " ('maš₂-nita₂', 0.8450361490249634),\n",
       " ('nu-uk-ra-nu-um', 0.8442786335945129),\n",
       " ('2(aš@c@90)', 0.844096302986145),\n",
       " ('e₃-li', 0.8438719511032104),\n",
       " ('e₂-gibil₄-ta', 0.8438350558280945),\n",
       " ('in-za-mu', 0.8437570929527283),\n",
       " ('epsd2/admin/u3adm/P142979', 0.8436801433563232),\n",
       " ('epsd2/admin/u3adm/P212177', 0.8434231281280518),\n",
       " ('hi-ir', 0.8425626158714294),\n",
       " ('šabra{ki}-ta', 0.8424175977706909),\n",
       " ('sila₄-ga', 0.8423137664794922)]"
      ]
     },
     "execution_count": 23,
     "metadata": {},
     "output_type": "execute_result"
    }
   ],
   "source": [
    "close_to_dom"
   ]
  },
  {
   "cell_type": "code",
   "execution_count": 50,
   "metadata": {
    "collapsed": false
   },
   "outputs": [
    {
     "name": "stderr",
     "output_type": "stream",
     "text": [
      "C:\\Users\\veldhuis\\AppData\\Local\\Continuum\\Anaconda3\\lib\\site-packages\\gensim\\matutils.py:737: FutureWarning: Conversion of the second argument of issubdtype from `int` to `np.signedinteger` is deprecated. In future, it will be treated as `np.int32 == np.dtype(int).type`.\n",
      "  if np.issubdtype(vec.dtype, np.int):\n"
     ]
    }
   ],
   "source": [
    "x = [model.wv.similarity('ur-mah', word) for word in animals]\n",
    "y = [model.wv.similarity('udu', word) for word in animals]"
   ]
  },
  {
   "cell_type": "code",
   "execution_count": 51,
   "metadata": {
    "collapsed": false
   },
   "outputs": [
    {
     "name": "stdout",
     "output_type": "stream",
     "text": [
      "Populating the interactive namespace from numpy and matplotlib\n"
     ]
    }
   ],
   "source": [
    "#Visualization parameters\n",
    "%pylab inline\n",
    "matplotlib.style.use('ggplot')"
   ]
  },
  {
   "cell_type": "code",
   "execution_count": 56,
   "metadata": {
    "collapsed": false,
    "scrolled": true
   },
   "outputs": [
    {
     "data": {
      "image/png": "[encoded data removed]",
      "text/plain": [
       "<matplotlib.figure.Figure at 0x183f3320>"
      ]
     },
     "metadata": {},
     "output_type": "display_data"
    }
   ],
   "source": [
    "import matplotlib\n",
    "matplotlib.font_manager._rebuild()\n",
    "rcParams['font.family'] = 'sans-serif'\n",
    "rcParams['font.weight'] = 'bold'                  # you can omit this, it's the default\n",
    "rcParams['font.size'] = '24'\n",
    "rcParams['font.sans-serif'] = ['DejaVu']\n",
    "_, ax = plt.subplots(figsize=(20,20))\n",
    "ax.scatter(x, y, alpha=1, color='b')\n",
    "for i in range(len(animals)):\n",
    "    ax.annotate(animals[i], (x[i], y[i]))\n",
    "ax.set_xlim(.25, 1.1)\n",
    "ax.set_ylim(.4, 1.1)\n",
    "plt.plot([0, 1], [0, 1], linestyle='--');"
   ]
  },
  {
   "cell_type": "code",
   "execution_count": 28,
   "metadata": {
    "collapsed": false
   },
   "outputs": [
    {
     "name": "stdout",
     "output_type": "stream",
     "text": [
      "[]\n"
     ]
    },
    {
     "name": "stderr",
     "output_type": "stream",
     "text": [
      "C:\\Users\\veldhuis\\AppData\\Local\\Continuum\\Anaconda3\\lib\\site-packages\\matplotlib\\font_manager.py:273: UserWarning: Matplotlib is building the font cache using fc-list. This may take a moment.\n",
      "  warnings.warn('Matplotlib is building the font cache using fc-list. This may take a moment.')\n"
     ]
    }
   ],
   "source": [
    "import  matplotlib.font_manager\n",
    "flist = matplotlib.font_manager.get_fontconfig_fonts()\n",
    "names = [matplotlib.font_manager.FontProperties(fname=fname).get_name() for fname in flist]\n",
    "print(names)"
   ]
  },
  {
   "cell_type": "code",
   "execution_count": 29,
   "metadata": {
    "collapsed": false
   },
   "outputs": [
    {
     "data": {
      "text/plain": [
       "{}"
      ]
     },
     "execution_count": 29,
     "metadata": {},
     "output_type": "execute_result"
    }
   ],
   "source": [
    "flist"
   ]
  },
  {
   "cell_type": "code",
   "execution_count": 30,
   "metadata": {
    "collapsed": false
   },
   "outputs": [
    {
     "data": {
      "text/plain": [
       "'C:\\\\Users\\\\veldhuis\\\\.matplotlib'"
      ]
     },
     "execution_count": 30,
     "metadata": {},
     "output_type": "execute_result"
    }
   ],
   "source": [
    "matplotlib.font_manager.get_cachedir()"
   ]
  },
  {
   "cell_type": "code",
   "execution_count": 29,
   "metadata": {
    "collapsed": false
   },
   "outputs": [
    {
     "name": "stderr",
     "output_type": "stream",
     "text": [
      "'sudo' is not recognized as an internal or external command,\n",
      "operable program or batch file.\n"
     ]
    }
   ],
   "source": [
    "! sudo apt-get install msttcorefonts -qq"
   ]
  },
  {
   "cell_type": "code",
   "execution_count": 2,
   "metadata": {
    "collapsed": false
   },
   "outputs": [
    {
     "data": {
      "text/plain": [
       "'C:\\\\Users\\\\veldhuis\\\\.matplotlib'"
      ]
     },
     "execution_count": 2,
     "metadata": {},
     "output_type": "execute_result"
    }
   ],
   "source": [
    "import matplotlib as mpl\n",
    "mpl.get_configdir()"
   ]
  },
  {
   "cell_type": "code",
   "execution_count": 3,
   "metadata": {
    "collapsed": false
   },
   "outputs": [
    {
     "data": {
      "text/plain": [
       "'C:\\\\Users\\\\veldhuis\\\\AppData\\\\Local\\\\Continuum\\\\Anaconda3\\\\lib\\\\site-packages\\\\matplotlib\\\\__init__.py'"
      ]
     },
     "execution_count": 3,
     "metadata": {},
     "output_type": "execute_result"
    }
   ],
   "source": [
    "matplotlib.__file__"
   ]
  },
  {
   "cell_type": "code",
   "execution_count": 48,
   "metadata": {
    "collapsed": false
   },
   "outputs": [
    {
     "name": "stderr",
     "output_type": "stream",
     "text": [
      "C:\\Users\\veldhuis\\AppData\\Local\\Continuum\\Anaconda3\\lib\\site-packages\\matplotlib\\font_manager.py:1288: UserWarning: findfont: Font family ['DejaVuSans'] not found. Falling back to Bitstream Vera Sans\n",
      "  (prop.get_family(), self.defaultFamily[fontext]))\n"
     ]
    },
    {
     "data": {
      "text/plain": [
       "'C:\\\\Users\\\\veldhuis\\\\AppData\\\\Local\\\\Continuum\\\\Anaconda3\\\\lib\\\\site-packages\\\\matplotlib\\\\mpl-data\\\\fonts\\\\ttf\\\\VeraBd.ttf'"
      ]
     },
     "execution_count": 48,
     "metadata": {},
     "output_type": "execute_result"
    }
   ],
   "source": [
    "from matplotlib import font_manager\n",
    "font_manager.findfont(\"DejaVuSans\")"
   ]
  },
  {
   "cell_type": "code",
   "execution_count": 13,
   "metadata": {
    "collapsed": true
   },
   "outputs": [],
   "source": [
    "matplotlib.rcParams['font.size'] = 12\n",
    "matplotlib.rcParams['font.family'] = 'DejaVu'"
   ]
  },
  {
   "cell_type": "code",
   "execution_count": 31,
   "metadata": {
    "collapsed": false
   },
   "outputs": [
    {
     "data": {
      "text/plain": [
       "'C:\\\\Users\\\\veldhuis\\\\AppData\\\\Local\\\\Continuum\\\\Anaconda3\\\\lib\\\\site-packages\\\\matplotlib\\\\mpl-data\\\\matplotlibrc'"
      ]
     },
     "execution_count": 31,
     "metadata": {},
     "output_type": "execute_result"
    }
   ],
   "source": [
    "matplotlib.matplotlib_fname()"
   ]
  },
  {
   "cell_type": "code",
   "execution_count": 37,
   "metadata": {
    "collapsed": true
   },
   "outputs": [],
   "source": [
    "x = \"C:\\\\Users\\\\veldhuis\\\\AppData\\\\Local\\\\Continuum\\\\Anaconda3\\\\lib\\\\site-packages\\\\matplotlib\\\\mpl-data\\\\matplotlibrc\""
   ]
  },
  {
   "cell_type": "code",
   "execution_count": 47,
   "metadata": {
    "collapsed": false
   },
   "outputs": [
    {
     "ename": "SyntaxError",
     "evalue": "EOL while scanning string literal (<ipython-input-47-2feb8948c1a2>, line 1)",
     "output_type": "error",
     "traceback": [
      "\u001b[1;36m  File \u001b[1;32m\"<ipython-input-47-2feb8948c1a2>\"\u001b[1;36m, line \u001b[1;32m1\u001b[0m\n\u001b[1;33m    x = re.sub(r\"\\\\\\\\\", \"\\\", x)\u001b[0m\n\u001b[1;37m                               ^\u001b[0m\n\u001b[1;31mSyntaxError\u001b[0m\u001b[1;31m:\u001b[0m EOL while scanning string literal\n"
     ]
    }
   ],
   "source": [
    "x = re.sub(r\"\\\\\\\\\", \"\\\", x)"
   ]
  },
  {
   "cell_type": "code",
   "execution_count": 43,
   "metadata": {
    "collapsed": false
   },
   "outputs": [
    {
     "data": {
      "text/plain": [
       "'C:\\\\Users\\\\veldhuis\\\\AppData\\\\Local\\\\Continuum\\\\Anaconda3\\\\lib\\\\site-packages\\\\matplotlib\\\\mpl-data\\\\matplotlibrc'"
      ]
     },
     "execution_count": 43,
     "metadata": {},
     "output_type": "execute_result"
    }
   ],
   "source": [
    "x"
   ]
  },
  {
   "cell_type": "code",
   "execution_count": null,
   "metadata": {
    "collapsed": true
   },
   "outputs": [],
   "source": []
  }
 ],
 "metadata": {
  "kernelspec": {
   "display_name": "Python 3",
   "language": "python",
   "name": "python3"
  },
  "language_info": {
   "codemirror_mode": {
    "name": "ipython",
    "version": 3
   },
   "file_extension": ".py",
   "mimetype": "text/x-python",
   "name": "python",
   "nbconvert_exporter": "python",
   "pygments_lexer": "ipython3",
   "version": "3.5.2"
  }
 },
 "nbformat": 4,
 "nbformat_minor": 0
}
