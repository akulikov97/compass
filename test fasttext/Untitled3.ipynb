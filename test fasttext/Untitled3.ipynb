{
 "cells": [
  {
   "cell_type": "code",
   "execution_count": 1,
   "metadata": {
    "collapsed": false
   },
   "outputs": [
    {
     "name": "stderr",
     "output_type": "stream",
     "text": [
      "C:\\Users\\veldhuis\\AppData\\Local\\Continuum\\Anaconda3\\lib\\site-packages\\gensim\\utils.py:1212: UserWarning: detected Windows; aliasing chunkize to chunkize_serial\n",
      "  warnings.warn(\"detected Windows; aliasing chunkize to chunkize_serial\")\n"
     ]
    }
   ],
   "source": [
    "from gensim.models import word2vec"
   ]
  },
  {
   "cell_type": "code",
   "execution_count": 2,
   "metadata": {
    "collapsed": false
   },
   "outputs": [],
   "source": [
    "sentences = word2vec.LineSentence('corpus/sux_tl.txt')"
   ]
  },
  {
   "cell_type": "code",
   "execution_count": 3,
   "metadata": {
    "collapsed": false
   },
   "outputs": [],
   "source": [
    "model = word2vec.Word2Vec(sentences, size=100, window=5, \n",
    "                              min_count=1, sg=1, alpha=0.025, iter=5, batch_words=10000, workers=1)"
   ]
  },
  {
   "cell_type": "code",
   "execution_count": 4,
   "metadata": {
    "collapsed": false
   },
   "outputs": [
    {
     "data": {
      "text/plain": [
       "array([-0.5694736 , -0.09865896,  0.392327  ,  0.03783992, -0.09865949,\n",
       "       -0.26648673,  0.30673528,  0.96830064, -0.07230695,  0.20667411,\n",
       "        0.3021158 , -0.1230892 ,  0.25436416,  0.9177539 ,  0.23027326,\n",
       "       -0.12677273, -0.0655011 , -0.09075333,  0.8633488 ,  0.49568826,\n",
       "       -0.348398  , -0.37363157, -0.11565714,  0.53011584,  0.20651542,\n",
       "       -1.01221   , -0.323386  ,  0.01407473,  0.14681666,  0.26598775,\n",
       "        0.3958554 ,  0.30981946, -1.1136835 ,  0.9938485 , -0.42774558,\n",
       "        0.06694485,  0.02965583,  0.56990683, -0.96666056,  0.24836452,\n",
       "       -0.23739932, -0.4829988 , -0.03282329,  0.3997695 , -0.35020456,\n",
       "       -0.08439534, -0.3567403 , -0.36506045,  0.20846386, -0.20117734,\n",
       "       -0.4156679 ,  0.5427395 ,  0.3167441 ,  0.33287093, -0.6362123 ,\n",
       "        1.0201862 , -0.222486  ,  0.09006781, -0.44213748, -0.31710428,\n",
       "        0.08056598,  0.07798815, -0.31892693, -0.615636  , -0.56660205,\n",
       "        0.3111352 ,  0.0458193 , -0.12731229,  0.02005094,  0.06842143,\n",
       "        0.35113814, -0.07842562,  0.05393727, -0.11339986, -0.80724543,\n",
       "       -0.01591459, -0.53349936, -0.6417201 , -0.3675887 , -0.32426506,\n",
       "        0.4501151 ,  0.13175318,  0.44688857,  0.139352  ,  0.2910153 ,\n",
       "        0.19142908, -0.10455599, -0.3872908 , -0.50947475,  0.14304206,\n",
       "       -0.2701498 ,  0.1510767 , -0.38101658,  0.7763475 , -0.22510257,\n",
       "       -0.7628732 ,  0.26084247, -0.06568015, -0.09178245, -0.9449527 ],\n",
       "      dtype=float32)"
      ]
     },
     "execution_count": 4,
     "metadata": {},
     "output_type": "execute_result"
    }
   ],
   "source": [
    "model.wv[\"lugal\"]"
   ]
  },
  {
   "cell_type": "code",
   "execution_count": 5,
   "metadata": {
    "collapsed": false
   },
   "outputs": [
    {
     "name": "stderr",
     "output_type": "stream",
     "text": [
      "C:\\Users\\veldhuis\\AppData\\Local\\Continuum\\Anaconda3\\lib\\site-packages\\gensim\\matutils.py:737: FutureWarning: Conversion of the second argument of issubdtype from `int` to `np.signedinteger` is deprecated. In future, it will be treated as `np.int32 == np.dtype(int).type`.\n",
      "  if np.issubdtype(vec.dtype, np.int):\n"
     ]
    },
    {
     "data": {
      "text/plain": [
       "0.52600384"
      ]
     },
     "execution_count": 5,
     "metadata": {},
     "output_type": "execute_result"
    }
   ],
   "source": [
    "model.wv.similarity(\"lugal\", \"ereš\")"
   ]
  },
  {
   "cell_type": "code",
   "execution_count": 6,
   "metadata": {
    "collapsed": false
   },
   "outputs": [
    {
     "name": "stderr",
     "output_type": "stream",
     "text": [
      "C:\\Users\\veldhuis\\AppData\\Local\\Continuum\\Anaconda3\\lib\\site-packages\\gensim\\matutils.py:737: FutureWarning: Conversion of the second argument of issubdtype from `int` to `np.signedinteger` is deprecated. In future, it will be treated as `np.int32 == np.dtype(int).type`.\n",
      "  if np.issubdtype(vec.dtype, np.int):\n"
     ]
    },
    {
     "data": {
      "text/plain": [
       "[('{d}kar-ra-du', 0.9404615163803101),\n",
       " ('u₄-sakar-gu-la', 0.9378107190132141),\n",
       " ('nig₂-{geš}tag-ga', 0.9318299889564514),\n",
       " ('{d}en-ki-nin-ul-gur₃', 0.9315259456634521),\n",
       " ('ki-zah₃-še₃', 0.9271495342254639),\n",
       " ('{d}pa-bil₂-sag', 0.9270225763320923),\n",
       " ('nu-banda₃-me-eš₂', 0.9228475093841553),\n",
       " ('{d}e₂-sag-kal-la', 0.922206699848175),\n",
       " ('gu₂-gu₂-mu-e₃', 0.921699047088623),\n",
       " ('{d}nin-ša₃-ge-pa₃-da', 0.9216105341911316)]"
      ]
     },
     "execution_count": 6,
     "metadata": {},
     "output_type": "execute_result"
    }
   ],
   "source": [
    "model.wv.most_similar(\"bar-ba-zi-ga\")"
   ]
  },
  {
   "cell_type": "code",
   "execution_count": 11,
   "metadata": {
    "collapsed": true
   },
   "outputs": [],
   "source": [
    "wild_animals = [\n",
    "    \"ur-mah\", \n",
    "    \"ur-bar-ra\", \n",
    "    \"az\", \n",
    "    \"ur\", \n",
    "    \"peš₂\", \n",
    "    \"ZUBUD\", \n",
    "    \"alim\", \n",
    "    \"maš-da₃\", \n",
    "    \"muš\", \n",
    "    \"šeg₉\", \n",
    "    \"šeg₉-bar\", \n",
    "    \"lulim\", \n",
    "    \"am\", \n",
    "    \"šah₂\"]\n",
    "dom_animals = [\n",
    "    \"udu\", \n",
    "    \"sila₄\", \n",
    "    \"u₈\", \n",
    "    \"kir₁₁\", \n",
    "    \"uz₃\", \n",
    "    \"maš₂\", \n",
    "    \"maš₂-gal\", \n",
    "    \"gu₄\", \n",
    "    \"ab₂\", \n",
    "    \"amar\", \n",
    "    \"anše\", \n",
    "    \"eme₅\", \n",
    "    \"dur₃\"] \n",
    "animals = wild_animals.copy()\n",
    "animals.extend(dom_animals)"
   ]
  },
  {
   "cell_type": "code",
   "execution_count": 17,
   "metadata": {
    "collapsed": false
   },
   "outputs": [
    {
     "name": "stderr",
     "output_type": "stream",
     "text": [
      "C:\\Users\\veldhuis\\AppData\\Local\\Continuum\\Anaconda3\\lib\\site-packages\\gensim\\matutils.py:737: FutureWarning: Conversion of the second argument of issubdtype from `int` to `np.signedinteger` is deprecated. In future, it will be treated as `np.int32 == np.dtype(int).type`.\n",
      "  if np.issubdtype(vec.dtype, np.int):\n"
     ]
    }
   ],
   "source": [
    "close_to_dom = model.wv.most_similar(dom_animals, topn=50)"
   ]
  },
  {
   "cell_type": "code",
   "execution_count": 18,
   "metadata": {
    "collapsed": false
   },
   "outputs": [
    {
     "data": {
      "text/plain": [
       "[('ur-{d}šara₂-ka-kam', 0.8773618340492249),\n",
       " ('maš-gal', 0.8736413717269897),\n",
       " ('{munus}si-as₂-gar₃', 0.8654313087463379),\n",
       " ('maš₂-x', 0.8610615730285645),\n",
       " ('šu-da-da-ta', 0.8591404557228088),\n",
       " ('dingir-ra-bi₂-ta', 0.8590073585510254),\n",
       " ('lugal-KA-kam', 0.8587957620620728),\n",
       " ('bi-ze₂-ze₂', 0.8587485551834106),\n",
       " ('eš₃-eš₃-še₃', 0.858207106590271),\n",
       " ('ur-{d}suen-ka-kam', 0.8579636812210083),\n",
       " ('{munus}as₂-gar₃', 0.8577833771705627),\n",
       " ('epsd2/admin/u3adm/P212177', 0.8552045822143555),\n",
       " ('maš₂-nita', 0.8551744818687439),\n",
       " ('anše-edin-na-nita₂', 0.8549911975860596),\n",
       " ('u-bar-ta', 0.8544607162475586),\n",
       " ('ur-{d}suen-kam', 0.8544323444366455),\n",
       " ('e₂-tur₃-še₃', 0.8540495038032532),\n",
       " ('5(aš@c@90)', 0.853683590888977),\n",
       " ('a-bi₂-nar-e', 0.8531194925308228),\n",
       " ('epsd2/admin/oakk/P215215', 0.8529052734375),\n",
       " ('gu₄-gal', 0.8525466918945312),\n",
       " ('hu-un-gu-ur₂-bi-ta', 0.8522056341171265),\n",
       " ('šeš-zi-mu-ta', 0.8516905903816223),\n",
       " ('maš₂-še₃', 0.850780725479126),\n",
       " ('maš-da₃-munus', 0.8503545522689819),\n",
       " ('NE-um-še₃', 0.8503326177597046),\n",
       " ('{munus}aš₂-gar₃', 0.8495521545410156),\n",
       " ('utuwa', 0.8492476344108582),\n",
       " ('epsd2/admin/u3adm/P390976', 0.8489816188812256),\n",
       " ('hi-ir', 0.8488212823867798),\n",
       " ('e₃-li', 0.8487067222595215),\n",
       " ('1(GEŠ₂@c)', 0.8479369878768921),\n",
       " ('ab₂-še₃', 0.8476042747497559),\n",
       " ('{d}x-du₁₀', 0.8474868535995483),\n",
       " ('e₂-gibil₄-ta', 0.8472223877906799),\n",
       " ('e₂-tu-tu', 0.8464840650558472),\n",
       " ('ku-bar-hi-x', 0.8463850021362305),\n",
       " ('epsd2/admin/u3adm/P123789', 0.846384584903717),\n",
       " ('šu-gu₄', 0.8462450504302979),\n",
       " ('2(aš@c@90)', 0.8459794521331787),\n",
       " ('MAŠ@t', 0.8454391956329346),\n",
       " ('maš₂-gal-gal', 0.8452683687210083),\n",
       " ('epsd2/admin/u3adm/P109634', 0.8452681303024292),\n",
       " ('maš₂-nita₂', 0.8445982933044434),\n",
       " ('li-ik-du-ni', 0.8444468379020691),\n",
       " ('3(aš@c@90)', 0.8442264795303345),\n",
       " ('epsd2/admin/u3adm/P128826', 0.8442212343215942),\n",
       " ('gukkal-gun₃-a', 0.8440507650375366),\n",
       " ('šu-nigin₂-ba', 0.8438879251480103),\n",
       " ('lulim-munus', 0.8433247804641724)]"
      ]
     },
     "execution_count": 18,
     "metadata": {},
     "output_type": "execute_result"
    }
   ],
   "source": [
    "close_to_dom"
   ]
  },
  {
   "cell_type": "code",
   "execution_count": 13,
   "metadata": {
    "collapsed": false
   },
   "outputs": [
    {
     "name": "stderr",
     "output_type": "stream",
     "text": [
      "C:\\Users\\veldhuis\\AppData\\Local\\Continuum\\Anaconda3\\lib\\site-packages\\gensim\\matutils.py:737: FutureWarning: Conversion of the second argument of issubdtype from `int` to `np.signedinteger` is deprecated. In future, it will be treated as `np.int32 == np.dtype(int).type`.\n",
      "  if np.issubdtype(vec.dtype, np.int):\n"
     ]
    }
   ],
   "source": [
    "x = [model.wv.similarity('ur-mah', word) for word in animals]\n",
    "y = [model.wv.similarity('udu', word) for word in animals]"
   ]
  },
  {
   "cell_type": "code",
   "execution_count": 15,
   "metadata": {
    "collapsed": false
   },
   "outputs": [
    {
     "name": "stdout",
     "output_type": "stream",
     "text": [
      "Populating the interactive namespace from numpy and matplotlib\n"
     ]
    }
   ],
   "source": [
    "#Visualization parameters\n",
    "%pylab inline\n",
    "matplotlib.style.use('ggplot')"
   ]
  },
  {
   "cell_type": "code",
   "execution_count": 27,
   "metadata": {
    "collapsed": false
   },
   "outputs": [
    {
     "name": "stderr",
     "output_type": "stream",
     "text": [
      "C:\\Users\\veldhuis\\AppData\\Local\\Continuum\\Anaconda3\\lib\\site-packages\\matplotlib\\font_manager.py:1288: UserWarning: findfont: Font family ['sans-serif'] not found. Falling back to Bitstream Vera Sans\n",
      "  (prop.get_family(), self.defaultFamily[fontext]))\n"
     ]
    },
    {
     "data": {
      "image/png": "[encoded data removed]",
      "text/plain": [
       "<matplotlib.figure.Figure at 0x1a226198>"
      ]
     },
     "metadata": {},
     "output_type": "display_data"
    }
   ],
   "source": [
    "import matplotlib\n",
    "rcParams['font.family'] = 'sans-serif'\n",
    "rcParams['font.weight'] = 'regular'                  # you can omit this, it's the default\n",
    "rcParams['font.sans-serif'] = ['Noto Sans Tibetan']\n",
    "_, ax = plt.subplots(figsize=(20,20))\n",
    "ax.scatter(x, y, alpha=1, color='b')\n",
    "for i in range(len(animals)):\n",
    "    ax.annotate(animals[i], (x[i], y[i]))\n",
    "ax.set_xlim(.25, 1.1)\n",
    "ax.set_ylim(.4, 1.1)\n",
    "plt.plot([0, 1], [0, 1], linestyle='--');"
   ]
  },
  {
   "cell_type": "code",
   "execution_count": 26,
   "metadata": {
    "collapsed": false
   },
   "outputs": [
    {
     "name": "stdout",
     "output_type": "stream",
     "text": [
      "[]\n"
     ]
    },
    {
     "name": "stderr",
     "output_type": "stream",
     "text": [
      "C:\\Users\\veldhuis\\AppData\\Local\\Continuum\\Anaconda3\\lib\\site-packages\\matplotlib\\font_manager.py:273: UserWarning: Matplotlib is building the font cache using fc-list. This may take a moment.\n",
      "  warnings.warn('Matplotlib is building the font cache using fc-list. This may take a moment.')\n"
     ]
    }
   ],
   "source": [
    "import  matplotlib.font_manager\n",
    "flist = matplotlib.font_manager.get_fontconfig_fonts()\n",
    "names = [matplotlib.font_manager.FontProperties(fname=fname).get_name() for fname in flist]\n",
    "print(names)"
   ]
  },
  {
   "cell_type": "code",
   "execution_count": 28,
   "metadata": {
    "collapsed": false
   },
   "outputs": [
    {
     "data": {
      "text/plain": [
       "'C:\\\\Users\\\\veldhuis\\\\.matplotlib'"
      ]
     },
     "execution_count": 28,
     "metadata": {},
     "output_type": "execute_result"
    }
   ],
   "source": [
    "matplotlib.font_manager.get_cachedir()"
   ]
  },
  {
   "cell_type": "code",
   "execution_count": 29,
   "metadata": {
    "collapsed": false
   },
   "outputs": [
    {
     "name": "stderr",
     "output_type": "stream",
     "text": [
      "'sudo' is not recognized as an internal or external command,\n",
      "operable program or batch file.\n"
     ]
    }
   ],
   "source": [
    "! sudo apt-get install msttcorefonts -qq"
   ]
  },
  {
   "cell_type": "code",
   "execution_count": null,
   "metadata": {
    "collapsed": true
   },
   "outputs": [],
   "source": []
  }
 ],
 "metadata": {
  "kernelspec": {
   "display_name": "Python 3",
   "language": "python",
   "name": "python3"
  },
  "language_info": {
   "codemirror_mode": {
    "name": "ipython",
    "version": 3
   },
   "file_extension": ".py",
   "mimetype": "text/x-python",
   "name": "python",
   "nbconvert_exporter": "python",
   "pygments_lexer": "ipython3",
   "version": "3.5.2"
  }
 },
 "nbformat": 4,
 "nbformat_minor": 0
}
