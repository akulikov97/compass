{
 "cells": [
  {
   "cell_type": "markdown",
   "metadata": {},
   "source": [
    "# Fasttext implementation in Gensim\n",
    "For code examples etc. see the [tutorial](https://github.com/RaRe-Technologies/gensim/blob/de8657e9b8d5192750296b6765175c31c8bb3298/docs/notebooks/FastText_Tutorial.ipynb).\n",
    "\n",
    "Currently the code includes two types of warning suppression - check in future installations whether they are still necessary. The first warning only occurs on Windows machines and tells the user that an alternative function will be used. The second warnings line suppresses the \"FutureWarning: Conversion of the second argument of issubdtype from `int` to `np.signedinteger` is deprecated\" warning which comes from Numpy."
   ]
  },
  {
   "cell_type": "code",
   "execution_count": 6,
   "metadata": {},
   "outputs": [],
   "source": [
    "import warnings\n",
    "warnings.filterwarnings(action='ignore', category=UserWarning, module='gensim')\n",
    "warnings.filterwarnings(action='ignore', category=FutureWarning, module='gensim' )\n",
    "import gensim\n",
    "import pickle\n",
    "from gensim.models.word2vec import LineSentence\n",
    "from gensim.models.fasttext import FastText as FT_gensim"
   ]
  },
  {
   "cell_type": "code",
   "execution_count": 8,
   "metadata": {
    "collapsed": true
   },
   "outputs": [],
   "source": [
    "file = \"corpus/sux_utf8.txt\"\n",
    "data = LineSentence(file)"
   ]
  },
  {
   "cell_type": "code",
   "execution_count": 9,
   "metadata": {
    "collapsed": true
   },
   "outputs": [],
   "source": [
    "model_gensim = FT_gensim(data, min_count=5, window=10, size=100, negative=20, sorted_vocab=1, min_n=1, \n",
    "                         max_n=6, sg=1, iter=100)\n",
    "# iter is for epochs; sg is skipgram (sg = 0 is cbow)"
   ]
  },
  {
   "cell_type": "code",
   "execution_count": 11,
   "metadata": {
    "collapsed": true
   },
   "outputs": [],
   "source": [
    "with open(\"output/ogsl.p\", \"rb\") as p:\n",
    "    o = pickle.load(p)\n",
    "d = dict(zip(o[\"value\"], o[\"utf8\"]))"
   ]
  },
  {
   "cell_type": "code",
   "execution_count": 20,
   "metadata": {
    "collapsed": true
   },
   "outputs": [],
   "source": [
    "def cun(text): \n",
    "    \"\"\"transform transliterated input into cuneiform. Use unicode subscript numbers and separate all signs with hyphens; separate words with blanks\n",
    "    Examples: 'ma-an-gi₄'; 'd-en-lil₂ nibru-ki'.\n",
    "    Transliteration style (sugal₇ vs. sukkal; dug₄ vs. du₁₁; gen vs. ŋen; etc.) and capitalization are unimportant.\n",
    "    \"\"\"\n",
    "    cun_line = []\n",
    "    words = text.lower().split()\n",
    "    for word in words: \n",
    "        signs = word.lower().split('-')\n",
    "        seq = [d[s] if s in d else s for s in signs]\n",
    "        seq = ''.join(seq)\n",
    "        cun_line.append(seq)\n",
    "    line = ' '.join(cun_line)\n",
    "    return(line)"
   ]
  },
  {
   "cell_type": "code",
   "execution_count": 24,
   "metadata": {
    "collapsed": true
   },
   "outputs": [],
   "source": [
    "def nearestcun(text, n=10, word_freq=None):\n",
    "    \"\"\"input transliteration of a word form, signs separated by hyphens.\n",
    "    Examples: \"ma-an-gi₄\", \"d-en-lil₂\", or \"urim₅-ki\".\n",
    "    Transliteration style (gu₄ vs. gud; gen vs. ŋen) is unimportant\n",
    "    The result is fed to nearest_words.\n",
    "    n is the number of nearest neigbors that nearest_words will return\n",
    "    word_freq is the minimum word frequency for a neighbor to be considered\"\"\"\n",
    "    word = cun(text)\n",
    "    return model_gensim.wv.most_similar(positive=[word])"
   ]
  },
  {
   "cell_type": "code",
   "execution_count": 26,
   "metadata": {},
   "outputs": [
    {
     "data": {
      "text/plain": [
       "[('𒌨𒂠', 0.7202852964401245),\n",
       " ('𒌨𒂠𒁶', 0.6840295791625977),\n",
       " ('𒌨𒁇', 0.6684911251068115),\n",
       " ('𒌨𒂠𒊏', 0.6628358960151672),\n",
       " ('𒌨𒊩𒌨', 0.6617624759674072),\n",
       " ('𒌨𒁇𒊏', 0.6486069560050964),\n",
       " ('𒌨𒂠𒂠', 0.6349743604660034),\n",
       " ('𒌨𒈤𒁶', 0.6264798045158386),\n",
       " ('𒌨𒂠𒊏𒅗', 0.6139445900917053),\n",
       " ('𒆪𒌌𒋾', 0.5975202322006226)]"
      ]
     },
     "execution_count": 26,
     "metadata": {},
     "output_type": "execute_result"
    }
   ],
   "source": [
    "nearestcun(\"ur-mah\")"
   ]
  },
  {
   "cell_type": "code",
   "execution_count": 28,
   "metadata": {},
   "outputs": [
    {
     "data": {
      "text/plain": [
       "[('𒌨𒂠𒂠', 0.7906512022018433),\n",
       " ('𒌨𒊏', 0.7796335220336914),\n",
       " ('𒌨𒊏𒆤', 0.7416032552719116),\n",
       " ('𒌨𒈩𒌉', 0.7353944778442383),\n",
       " ('𒌨𒂠𒊏𒆤', 0.7347965836524963),\n",
       " ('𒌨𒆤', 0.7313037514686584),\n",
       " ('𒄿𒆪𒈨𒊬', 0.7218989133834839),\n",
       " ('𒌨𒂠𒊏𒂠', 0.7049010992050171),\n",
       " ('𒄷𒈨', 0.695325493812561),\n",
       " ('𒀲𒋙𒀭𒈨', 0.6947768926620483)]"
      ]
     },
     "execution_count": 28,
     "metadata": {},
     "output_type": "execute_result"
    }
   ],
   "source": [
    "model_gensim.wv.most_similar(positive=[cun(\"ku-ul-ti\"), cun(\"sipad\")])"
   ]
  },
  {
   "cell_type": "code",
   "execution_count": null,
   "metadata": {
    "collapsed": true
   },
   "outputs": [],
   "source": []
  }
 ],
 "metadata": {
  "kernelspec": {
   "display_name": "Python 3",
   "language": "python",
   "name": "python3"
  },
  "language_info": {
   "codemirror_mode": {
    "name": "ipython",
    "version": 3
   },
   "file_extension": ".py",
   "mimetype": "text/x-python",
   "name": "python",
   "nbconvert_exporter": "python",
   "pygments_lexer": "ipython3",
   "version": "3.7.0"
  }
 },
 "nbformat": 4,
 "nbformat_minor": 2
}
