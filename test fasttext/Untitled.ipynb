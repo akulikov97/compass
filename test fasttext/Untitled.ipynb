{
 "cells": [
  {
   "cell_type": "code",
   "execution_count": null,
   "metadata": {
    "collapsed": false
   },
   "outputs": [],
   "source": [
    "import pickle\n",
    "#import fasttext\n",
    "import pandas as pd"
   ]
  },
  {
   "cell_type": "code",
   "execution_count": null,
   "metadata": {
    "collapsed": false
   },
   "outputs": [],
   "source": [
    "with open(\"output/ogsl.p\", \"rb\") as p:\n",
    "    ogsl_df = pickle.load(p)"
   ]
  },
  {
   "cell_type": "code",
   "execution_count": null,
   "metadata": {
    "collapsed": false
   },
   "outputs": [],
   "source": [
    "no_utf8 = ogsl_df[ogsl_df[\"utf8\"]==\"\"]"
   ]
  },
  {
   "cell_type": "code",
   "execution_count": null,
   "metadata": {
    "collapsed": true
   },
   "outputs": [],
   "source": [
    "s_names = list(no_utf8[\"name\"])"
   ]
  },
  {
   "cell_type": "code",
   "execution_count": null,
   "metadata": {
    "collapsed": false
   },
   "outputs": [],
   "source": [
    "s_names_2 = []\n",
    "for name in s_names:\n",
    "    name = name.replace(\"|\", \"\")\n",
    "    names = name.split(\".\")\n",
    "    s_names_2.append(names)"
   ]
  },
  {
   "cell_type": "code",
   "execution_count": null,
   "metadata": {
    "collapsed": false
   },
   "outputs": [],
   "source": [
    "temp_l = []\n",
    "for entry in s_names_2: \n",
    "    hex_ = \"\"\n",
    "    utf8 = \"\"\n",
    "    for name in entry: \n",
    "        if name in list(ogsl_df[\"name\"].replace(\"\\|\", \"\", regex=True)): \n",
    "            idx = ogsl_df.index[ogsl_df[\"name\"].replace(\"\\|\", \"\", regex=True)==name][0]\n",
    "            hex_ = hex_ + \".\" + ogsl_df.iloc[idx][\"hex\"]\n",
    "            utf8 = utf8 + ogsl_df.iloc[idx][\"utf8\"]\n",
    "        else: \n",
    "            hex_ = hex_ + \".None\"\n",
    "            utf8 = utf8 + \".None\"\n",
    "        l = [entry, hex_, utf8]\n",
    "    temp_l.append(l)"
   ]
  },
  {
   "cell_type": "code",
   "execution_count": null,
   "metadata": {
    "collapsed": false
   },
   "outputs": [],
   "source": [
    "temp_l"
   ]
  },
  {
   "cell_type": "code",
   "execution_count": null,
   "metadata": {
    "collapsed": false
   },
   "outputs": [],
   "source": [
    "new_l = []\n",
    "for entry in temp_l: \n",
    "    if \"None\" in entry[1] or entry[2] == \"\": \n",
    "        print(entry)\n",
    "    else: \n",
    "        new_l.append(entry)\n"
   ]
  },
  {
   "cell_type": "code",
   "execution_count": null,
   "metadata": {
    "collapsed": false
   },
   "outputs": [],
   "source": [
    "new_l"
   ]
  },
  {
   "cell_type": "code",
   "execution_count": null,
   "metadata": {
    "collapsed": true
   },
   "outputs": [],
   "source": []
  }
 ],
 "metadata": {
  "kernelspec": {
   "display_name": "Python 3",
   "language": "python",
   "name": "python3"
  },
  "language_info": {
   "codemirror_mode": {
    "name": "ipython",
    "version": 3
   },
   "file_extension": ".py",
   "mimetype": "text/x-python",
   "name": "python",
   "nbconvert_exporter": "python",
   "pygments_lexer": "ipython3",
   "version": "3.5.2"
  }
 },
 "nbformat": 4,
 "nbformat_minor": 2
}
