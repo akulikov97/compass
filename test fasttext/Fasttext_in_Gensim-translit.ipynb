{
 "cells": [
  {
   "cell_type": "markdown",
   "metadata": {},
   "source": [
    "# Fasttext implementation in Gensim\n",
    "## In transliteration.\n",
    "For code examples etc. see the [tutorial](https://github.com/RaRe-Technologies/gensim/blob/de8657e9b8d5192750296b6765175c31c8bb3298/docs/notebooks/FastText_Tutorial.ipynb).\n",
    "\n",
    "Currently the code includes two types of warning suppression - check in future installations whether they are still necessary. The first warning only occurs on Windows machines and tells the user that an alternative function will be used. The second warnings line suppresses the \"FutureWarning: Conversion of the second argument of issubdtype from `int` to `np.signedinteger` is deprecated\" warning which comes from Numpy."
   ]
  },
  {
   "cell_type": "code",
   "execution_count": 6,
   "metadata": {
    "collapsed": true
   },
   "outputs": [],
   "source": [
    "import warnings\n",
    "warnings.filterwarnings(action='ignore', category=UserWarning, module='gensim')\n",
    "warnings.filterwarnings(action='ignore', category=FutureWarning, module='gensim' )\n",
    "import gensim\n",
    "import pickle\n",
    "from gensim.models.word2vec import LineSentence\n",
    "from gensim.models.fasttext import FastText as FT_gensim"
   ]
  },
  {
   "cell_type": "code",
   "execution_count": 8,
   "metadata": {
    "collapsed": true
   },
   "outputs": [],
   "source": [
    "file = \"corpus/sux_tl.txt\"\n",
    "data = LineSentence(file)"
   ]
  },
  {
   "cell_type": "code",
   "execution_count": 9,
   "metadata": {
    "collapsed": true
   },
   "outputs": [],
   "source": [
    "model_gensim = FT_gensim(data, min_count=5, window=10, size=100, negative=20, sorted_vocab=1, min_n=1, \n",
    "                         max_n=6, sg=1, iter=100)\n",
    "# iter is for epochs; sg is skipgram (sg = 0 is cbow)"
   ]
  },
  {
   "cell_type": "code",
   "execution_count": 28,
   "metadata": {
    "collapsed": false
   },
   "outputs": [
    {
     "data": {
      "text/plain": [
       "[('𒌨𒂠𒂠', 0.7906512022018433),\n",
       " ('𒌨𒊏', 0.7796335220336914),\n",
       " ('𒌨𒊏𒆤', 0.7416032552719116),\n",
       " ('𒌨𒈩𒌉', 0.7353944778442383),\n",
       " ('𒌨𒂠𒊏𒆤', 0.7347965836524963),\n",
       " ('𒌨𒆤', 0.7313037514686584),\n",
       " ('𒄿𒆪𒈨𒊬', 0.7218989133834839),\n",
       " ('𒌨𒂠𒊏𒂠', 0.7049010992050171),\n",
       " ('𒄷𒈨', 0.695325493812561),\n",
       " ('𒀲𒋙𒀭𒈨', 0.6947768926620483)]"
      ]
     },
     "execution_count": 28,
     "metadata": {},
     "output_type": "execute_result"
    }
   ],
   "source": [
    "model_gensim.wv.most_similar(positive=[\"ur-mah\"])"
   ]
  },
  {
   "cell_type": "code",
   "execution_count": null,
   "metadata": {
    "collapsed": true
   },
   "outputs": [],
   "source": [
    "filename = \"corpus/model_tl.model\"\n",
    "model_gensim.save(filename)"
   ]
  }
 ],
 "metadata": {
  "kernelspec": {
   "display_name": "Python 3",
   "language": "python",
   "name": "python3"
  },
  "language_info": {
   "codemirror_mode": {
    "name": "ipython",
    "version": 3
   },
   "file_extension": ".py",
   "mimetype": "text/x-python",
   "name": "python",
   "nbconvert_exporter": "python",
   "pygments_lexer": "ipython3",
   "version": "3.5.2"
  }
 },
 "nbformat": 4,
 "nbformat_minor": 2
}
