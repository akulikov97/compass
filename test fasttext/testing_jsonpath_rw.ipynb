{
 "cells": [
  {
   "cell_type": "code",
   "execution_count": 6,
   "metadata": {
    "collapsed": true
   },
   "outputs": [],
   "source": [
    "import jsonpath_rw as jp\n",
    "import pandas as pd\n",
    "import json"
   ]
  },
  {
   "cell_type": "code",
   "execution_count": 3,
   "metadata": {
    "collapsed": true
   },
   "outputs": [],
   "source": [
    "file = 'jsonzip/epsd2/admin/u3adm/corpusjson/P000001.json'\n",
    "with open(file, 'r') as r:\n",
    "    j = json.load(r)"
   ]
  },
  {
   "cell_type": "code",
   "execution_count": 113,
   "metadata": {
    "collapsed": true
   },
   "outputs": [],
   "source": [
    "def parsejson(text):\n",
    "    for JSONobject in text[\"cdl\"]:\n",
    "        if \"cdl\" in JSONobject: \n",
    "            parsejson(JSONobject)\n",
    "        if \"f\" in JSONobject:\n",
    "            id_word = JSONobject[\"ref\"]\n",
    "            for sign in JSONobject[\"f\"]:\n",
    "                p = jp.parse(\"'this'.gdl..[s, v, c, form]\")\n",
    "                l = p.find(sign)\n",
    "                s_l = [s.value for s in l]\n",
    "                print(s_l)\n",
    "                for s in s_l:\n",
    "                    signs.append(s)"
   ]
  },
  {
   "cell_type": "code",
   "execution_count": 114,
   "metadata": {
    "collapsed": false
   },
   "outputs": [
    {
     "name": "stdout",
     "output_type": "stream",
     "text": [
      "[]\n",
      "[]\n",
      "[]\n",
      "[]\n",
      "[]\n",
      "[]\n",
      "[]\n",
      "[]\n",
      "[]\n",
      "[]\n",
      "[]\n",
      "[]\n",
      "[]\n",
      "[]\n",
      "[]\n",
      "[]\n",
      "[]\n",
      "[]\n",
      "[]\n",
      "[]\n",
      "[]\n",
      "[]\n",
      "[]\n",
      "[]\n",
      "[]\n",
      "[]\n",
      "[]\n",
      "[]\n",
      "[]\n",
      "[]\n",
      "[]\n",
      "[]\n",
      "[]\n",
      "[]\n",
      "[]\n",
      "[]\n",
      "[]\n",
      "[]\n",
      "[]\n",
      "[]\n",
      "[]\n",
      "[]\n",
      "[]\n",
      "[]\n",
      "[]\n",
      "[]\n",
      "[]\n",
      "[]\n",
      "[]\n",
      "[]\n",
      "[]\n",
      "[]\n",
      "[]\n",
      "[]\n",
      "[]\n",
      "[]\n",
      "[]\n",
      "[]\n",
      "[]\n",
      "[]\n",
      "[]\n",
      "[]\n",
      "[]\n",
      "[]\n",
      "[]\n",
      "[]\n",
      "[]\n",
      "[]\n",
      "[]\n",
      "[]\n",
      "[]\n",
      "[]\n",
      "[]\n",
      "[]\n",
      "[]\n",
      "[]\n",
      "[]\n",
      "[]\n",
      "[]\n",
      "[]\n",
      "[]\n",
      "[]\n",
      "[]\n",
      "[]\n",
      "[]\n",
      "[]\n",
      "[]\n",
      "[]\n",
      "[]\n",
      "[]\n",
      "[]\n",
      "[]\n",
      "[]\n",
      "[]\n",
      "[]\n",
      "[]\n",
      "[]\n",
      "[]\n",
      "[]\n",
      "[]\n",
      "[]\n",
      "[]\n",
      "[]\n",
      "[]\n",
      "[]\n",
      "[]\n",
      "[]\n",
      "[]\n",
      "[]\n",
      "[]\n",
      "[]\n",
      "[]\n",
      "[]\n",
      "[]\n",
      "[]\n",
      "[]\n",
      "[]\n",
      "[]\n",
      "[]\n",
      "[]\n",
      "[]\n",
      "[]\n",
      "[]\n",
      "[]\n",
      "[]\n",
      "[]\n",
      "[]\n",
      "[]\n",
      "[]\n",
      "[]\n",
      "[]\n",
      "[]\n",
      "[]\n",
      "[]\n",
      "[]\n",
      "[]\n",
      "[]\n",
      "[]\n",
      "[]\n",
      "[]\n",
      "[]\n",
      "[]\n",
      "[]\n",
      "[]\n",
      "[]\n",
      "[]\n",
      "[]\n",
      "[]\n",
      "[]\n",
      "[]\n",
      "[]\n",
      "[]\n",
      "[]\n",
      "[]\n",
      "[]\n",
      "[]\n",
      "[]\n",
      "[]\n",
      "[]\n",
      "[]\n",
      "[]\n",
      "[]\n",
      "[]\n",
      "[]\n",
      "[]\n",
      "[]\n",
      "[]\n",
      "[]\n",
      "[]\n",
      "[]\n",
      "[]\n",
      "[]\n",
      "[]\n",
      "[]\n",
      "[]\n",
      "[]\n",
      "[]\n",
      "[]\n",
      "[]\n",
      "[]\n",
      "[]\n",
      "[]\n",
      "[]\n",
      "[]\n",
      "[]\n",
      "[]\n",
      "[]\n",
      "[]\n",
      "[]\n",
      "[]\n",
      "[]\n",
      "[]\n",
      "[]\n",
      "[]\n",
      "[]\n",
      "[]\n",
      "[]\n",
      "[]\n",
      "[]\n",
      "[]\n",
      "[]\n",
      "[]\n",
      "[]\n",
      "[]\n",
      "[]\n",
      "[]\n",
      "[]\n",
      "[]\n",
      "[]\n",
      "[]\n",
      "[]\n",
      "[]\n",
      "[]\n",
      "[]\n",
      "[]\n",
      "[]\n",
      "[]\n"
     ]
    },
    {
     "data": {
      "text/plain": [
       "[]"
      ]
     },
     "execution_count": 114,
     "metadata": {},
     "output_type": "execute_result"
    }
   ],
   "source": [
    "#gdl = jp.parse(\"$..gdl\")\n",
    "#p = jp.parse(\"`this`.[s, v, c, form]\")\n",
    "signs = []\n",
    "parsejson(j)\n",
    "signs"
   ]
  },
  {
   "cell_type": "code",
   "execution_count": 112,
   "metadata": {
    "collapsed": false
   },
   "outputs": [
    {
     "data": {
      "text/plain": [
       "[]"
      ]
     },
     "execution_count": 112,
     "metadata": {},
     "output_type": "execute_result"
    }
   ],
   "source": [
    "s_l"
   ]
  },
  {
   "cell_type": "code",
   "execution_count": 141,
   "metadata": {
    "collapsed": false
   },
   "outputs": [],
   "source": [
    "match = gdl.find(j)"
   ]
  },
  {
   "cell_type": "code",
   "execution_count": 146,
   "metadata": {
    "collapsed": true
   },
   "outputs": [],
   "source": [
    "p = jp.parse(\"`this`..[s, v, c, form]\")"
   ]
  },
  {
   "cell_type": "code",
   "execution_count": 147,
   "metadata": {
    "collapsed": true
   },
   "outputs": [],
   "source": [
    "match_l = [m.value for m in match]"
   ]
  },
  {
   "cell_type": "code",
   "execution_count": 148,
   "metadata": {
    "collapsed": false
   },
   "outputs": [],
   "source": [
    "signs = []\n",
    "for m in match_l:\n",
    "    l = p.find(m)\n",
    "    s_l = [s.value for s in l]\n",
    "    for s in s_l:\n",
    "        signs.append(s)"
   ]
  },
  {
   "cell_type": "code",
   "execution_count": 149,
   "metadata": {
    "collapsed": false
   },
   "outputs": [
    {
     "data": {
      "text/plain": [
       "['lagab',\n",
       " 'na₄',\n",
       " 'hu',\n",
       " 'ri₂',\n",
       " 'zi',\n",
       " 'ki',\n",
       " 'la₂',\n",
       " 'bi',\n",
       " '1(diš)',\n",
       " 'diš',\n",
       " 'gun₂',\n",
       " '2(u)',\n",
       " 'u',\n",
       " '3(diš)',\n",
       " 'diš',\n",
       " '2/3(diš)',\n",
       " 'diš',\n",
       " 'ma',\n",
       " 'na',\n",
       " 'mu',\n",
       " 'ma',\n",
       " 'al',\n",
       " 'tum',\n",
       " 'še₃',\n",
       " 'ki',\n",
       " 'd',\n",
       " 'šul',\n",
       " 'gi',\n",
       " 'mi',\n",
       " 'šar',\n",
       " 'ta',\n",
       " 'puzur₄',\n",
       " 'i₃',\n",
       " 'li₂',\n",
       " 'šu',\n",
       " 'ba',\n",
       " 'ti',\n",
       " 'iti',\n",
       " 'ezem',\n",
       " 'mah',\n",
       " 'u₄',\n",
       " '2(u)',\n",
       " 'u',\n",
       " 'ba',\n",
       " 'ra',\n",
       " 'zal',\n",
       " 'mu',\n",
       " 'ur',\n",
       " 'bil₂',\n",
       " 'lum',\n",
       " 'ki',\n",
       " 'ba',\n",
       " 'hul']"
      ]
     },
     "execution_count": 149,
     "metadata": {},
     "output_type": "execute_result"
    }
   ],
   "source": [
    "signs"
   ]
  },
  {
   "cell_type": "code",
   "execution_count": 150,
   "metadata": {
    "collapsed": false
   },
   "outputs": [
    {
     "data": {
      "text/plain": [
       "[[{'id': 'P000001.2.1.0', 'v': 'lagab'}],\n",
       " [{'det': 'semantic',\n",
       "   'pos': 'pre',\n",
       "   'seq': [{'id': 'P000001.2.2.0', 'v': 'na₄'}]},\n",
       "  {'delim': '-', 'id': 'P000001.2.2.1', 'v': 'hu'},\n",
       "  {'delim': '-', 'id': 'P000001.2.2.2', 'v': 'ri₂'},\n",
       "  {'id': 'P000001.2.2.3', 'v': 'zi'}],\n",
       " [{'delim': '-', 'id': 'P000001.3.1.0', 'v': 'ki'},\n",
       "  {'delim': '-', 'id': 'P000001.3.1.1', 'v': 'la₂'},\n",
       "  {'id': 'P000001.3.1.2', 'v': 'bi'}],\n",
       " [{'form': '1(diš)',\n",
       "   'id': 'P000001.3.2.0',\n",
       "   'n': 'n',\n",
       "   'seq': [{'r': '1'}, {'v': 'diš'}]}],\n",
       " [{'id': 'P000001.3.3.0', 'v': 'gun₂'}],\n",
       " [{'form': '2(u)',\n",
       "   'id': 'P000001.3.4.0',\n",
       "   'n': 'n',\n",
       "   'seq': [{'r': '2'}, {'v': 'u'}]}],\n",
       " [{'form': '3(diš)',\n",
       "   'id': 'P000001.3.5.0',\n",
       "   'n': 'n',\n",
       "   'seq': [{'r': '3'}, {'v': 'diš'}]}],\n",
       " [{'form': '2/3(diš)',\n",
       "   'id': 'P000001.3.6.0',\n",
       "   'n': 'n',\n",
       "   'seq': [{'r': '2/3'}, {'v': 'diš'}]}],\n",
       " [{'delim': '-', 'id': 'P000001.3.7.0', 'v': 'ma'},\n",
       "  {'id': 'P000001.3.7.1', 'v': 'na'}],\n",
       " [{'id': 'P000001.4.1.0', 'v': 'mu'}],\n",
       " [{'delim': '-', 'id': 'P000001.4.2.0', 'v': 'ma'},\n",
       "  {'delim': '-', 'id': 'P000001.4.2.1', 'v': 'al'},\n",
       "  {'delim': '-', 'id': 'P000001.4.2.2', 'v': 'tum'},\n",
       "  {'id': 'P000001.4.2.3', 'v': 'še₃'}],\n",
       " [{'break': 'damaged',\n",
       "   'hc': '1',\n",
       "   'ho': '1',\n",
       "   'id': 'P000001.6.1.0',\n",
       "   'v': 'ki'}],\n",
       " [{'det': 'semantic',\n",
       "   'pos': 'pre',\n",
       "   'seq': [{'id': 'P000001.6.2.0', 'v': 'd'}]},\n",
       "  {'delim': '-', 'id': 'P000001.6.2.1', 'v': 'šul'},\n",
       "  {'delim': '-', 'id': 'P000001.6.2.2', 'v': 'gi'},\n",
       "  {'delim': '-', 'id': 'P000001.6.2.3', 'v': 'mi'},\n",
       "  {'delim': '-', 'id': 'P000001.6.2.4', 'v': 'šar'},\n",
       "  {'id': 'P000001.6.2.5', 'v': 'ta'}],\n",
       " [{'delim': '-', 'id': 'P000001.7.1.0', 'v': 'puzur₄'},\n",
       "  {'delim': '-', 'id': 'P000001.7.1.1', 'v': 'i₃'},\n",
       "  {'id': 'P000001.7.1.2', 'v': 'li₂'}],\n",
       " [{'id': 'P000001.8.1.0', 'v': 'šu'}],\n",
       " [{'delim': '-', 'id': 'P000001.8.2.0', 'v': 'ba'},\n",
       "  {'id': 'P000001.8.2.1', 'v': 'ti'}],\n",
       " [{'id': 'P000001.9.1.0', 'v': 'iti'}],\n",
       " [{'delim': '-', 'id': 'P000001.9.2.0', 'v': 'ezem'},\n",
       "  {'id': 'P000001.9.2.1', 'v': 'mah'}],\n",
       " [{'id': 'P000001.9.3.0', 'v': 'u₄'}],\n",
       " [{'form': '2(u)',\n",
       "   'id': 'P000001.9.4.0',\n",
       "   'n': 'n',\n",
       "   'seq': [{'r': '2'}, {'v': 'u'}]}],\n",
       " [{'delim': '-', 'id': 'P000001.9.5.0', 'v': 'ba'},\n",
       "  {'delim': '-', 'id': 'P000001.9.5.1', 'v': 'ra'},\n",
       "  {'id': 'P000001.9.5.2', 'v': 'zal'}],\n",
       " [{'id': 'P000001.10.1.0', 'v': 'mu'}],\n",
       " [{'delim': '-', 'id': 'P000001.10.2.0', 'v': 'ur'},\n",
       "  {'delim': '-', 'id': 'P000001.10.2.1', 'v': 'bil₂'},\n",
       "  {'id': 'P000001.10.2.2', 'v': 'lum'},\n",
       "  {'det': 'semantic',\n",
       "   'pos': 'post',\n",
       "   'seq': [{'id': 'P000001.10.2.3', 'v': 'ki'}]}],\n",
       " [{'delim': '-', 'id': 'P000001.10.3.0', 'v': 'ba'},\n",
       "  {'id': 'P000001.10.3.1', 'v': 'hul'}]]"
      ]
     },
     "execution_count": 150,
     "metadata": {},
     "output_type": "execute_result"
    }
   ],
   "source": [
    "parse"
   ]
  },
  {
   "cell_type": "code",
   "execution_count": 48,
   "metadata": {
    "collapsed": false
   },
   "outputs": [
    {
     "ename": "AttributeError",
     "evalue": "'list' object has no attribute 'value'",
     "output_type": "error",
     "traceback": [
      "\u001b[0;31m---------------------------------------------------------------------------\u001b[0m",
      "\u001b[0;31mAttributeError\u001b[0m                            Traceback (most recent call last)",
      "\u001b[0;32m<ipython-input-48-f72bd701339e>\u001b[0m in \u001b[0;36m<module>\u001b[0;34m()\u001b[0m\n\u001b[0;32m----> 1\u001b[0;31m \u001b[0mtest\u001b[0m \u001b[0;34m=\u001b[0m \u001b[0mlist_\u001b[0m\u001b[0;34m[\u001b[0m\u001b[0;36m0\u001b[0m\u001b[0;34m]\u001b[0m\u001b[0;34m.\u001b[0m\u001b[0mvalue\u001b[0m\u001b[0;34m\u001b[0m\u001b[0m\n\u001b[0m",
      "\u001b[0;31mAttributeError\u001b[0m: 'list' object has no attribute 'value'"
     ]
    }
   ],
   "source": [
    "test = list_[0].value"
   ]
  },
  {
   "cell_type": "code",
   "execution_count": null,
   "metadata": {
    "collapsed": true
   },
   "outputs": [],
   "source": []
  },
  {
   "cell_type": "code",
   "execution_count": 46,
   "metadata": {
    "collapsed": true
   },
   "outputs": [],
   "source": [
    "l = p.find(test)"
   ]
  },
  {
   "cell_type": "code",
   "execution_count": 47,
   "metadata": {
    "collapsed": false
   },
   "outputs": [
    {
     "data": {
      "text/plain": [
       "[]"
      ]
     },
     "execution_count": 47,
     "metadata": {},
     "output_type": "execute_result"
    }
   ],
   "source": [
    "l"
   ]
  },
  {
   "cell_type": "code",
   "execution_count": 10,
   "metadata": {
    "collapsed": false
   },
   "outputs": [],
   "source": [
    "signs = []\n",
    "for match in gdl.find(j):\n",
    "    l = p.find(match)\n",
    "    signs.append(l)"
   ]
  },
  {
   "cell_type": "code",
   "execution_count": 11,
   "metadata": {
    "collapsed": false
   },
   "outputs": [
    {
     "data": {
      "text/plain": [
       "[[],\n",
       " [],\n",
       " [],\n",
       " [],\n",
       " [],\n",
       " [],\n",
       " [],\n",
       " [],\n",
       " [],\n",
       " [],\n",
       " [],\n",
       " [],\n",
       " [],\n",
       " [],\n",
       " [],\n",
       " [],\n",
       " [],\n",
       " [],\n",
       " [],\n",
       " [],\n",
       " [],\n",
       " [],\n",
       " [],\n",
       " []]"
      ]
     },
     "execution_count": 11,
     "metadata": {},
     "output_type": "execute_result"
    }
   ],
   "source": [
    "signs"
   ]
  },
  {
   "cell_type": "code",
   "execution_count": 188,
   "metadata": {
    "collapsed": false
   },
   "outputs": [],
   "source": [
    "c = jp.parse(\"`this`[*].[v, form]|`this`[*].seq[0].v\")"
   ]
  },
  {
   "cell_type": "code",
   "execution_count": 189,
   "metadata": {
    "collapsed": true
   },
   "outputs": [],
   "source": [
    "child = []\n",
    "for m in match_l:\n",
    "    l = c.find(m)\n",
    "    s_l = [s.value for s in l]\n",
    "    for s in s_l:\n",
    "        child.append(s)"
   ]
  },
  {
   "cell_type": "code",
   "execution_count": 190,
   "metadata": {
    "collapsed": false
   },
   "outputs": [
    {
     "data": {
      "text/plain": [
       "['na₄', 'd', 'ki']"
      ]
     },
     "execution_count": 190,
     "metadata": {},
     "output_type": "execute_result"
    }
   ],
   "source": [
    "child"
   ]
  },
  {
   "cell_type": "code",
   "execution_count": null,
   "metadata": {
    "collapsed": true
   },
   "outputs": [],
   "source": []
  }
 ],
 "metadata": {
  "kernelspec": {
   "display_name": "Python 3",
   "language": "python",
   "name": "python3"
  },
  "language_info": {
   "codemirror_mode": {
    "name": "ipython",
    "version": 3
   },
   "file_extension": ".py",
   "mimetype": "text/x-python",
   "name": "python",
   "nbconvert_exporter": "python",
   "pygments_lexer": "ipython3",
   "version": "3.6.0"
  }
 },
 "nbformat": 4,
 "nbformat_minor": 2
}
