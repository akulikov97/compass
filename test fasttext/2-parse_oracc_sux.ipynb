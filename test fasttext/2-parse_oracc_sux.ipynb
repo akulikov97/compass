{
 "cells": [
  {
   "cell_type": "markdown",
   "metadata": {},
   "source": [
    "# Extract Signs from ORACC JSON\n",
    "The code in this notebook will parse [ORACC](http://oracc.org) `JSON` files to extract signs from the Sumerian texts of one or more projects. "
   ]
  },
  {
   "cell_type": "code",
   "execution_count": 1,
   "metadata": {},
   "outputs": [],
   "source": [
    "import pandas as pd\n",
    "import zipfile\n",
    "import json\n",
    "import tqdm\n",
    "import requests\n",
    "import errno\n",
    "import os\n",
    "import pickle\n",
    "import re"
   ]
  },
  {
   "cell_type": "markdown",
   "metadata": {},
   "source": [
    "## 0 Create Directories, if Necessary\n",
    "The two directories needed for this script are `jsonzip` and `output`. If they do not exist they are created, else: do nothing.\n",
    "\n",
    "For the code, see [Stack Overflow](http://stackoverflow.com/questions/18973418/os-mkdirpath-returns-oserror-when-directory-does-not-exist)."
   ]
  },
  {
   "cell_type": "code",
   "execution_count": 2,
   "metadata": {},
   "outputs": [],
   "source": [
    "directories = ['jsonzip', 'output', 'corpus']\n",
    "for d in directories:\n",
    "    try:\n",
    "        os.mkdir(d)\n",
    "    except OSError as exc:\n",
    "        if exc.errno !=errno.EEXIST:\n",
    "            raise\n",
    "        pass"
   ]
  },
  {
   "cell_type": "markdown",
   "metadata": {},
   "source": [
    "## 1.1 Input Project Names\n",
    "Provide a list of one or more project names, separated by commas. Note that subprojects must be listed separately, they are not included in the main project. For instance:\n",
    "\n",
    "`epsd2/admin/ed3a, epsd2/admin/ed3b, epsd2/admin/ebla, epsd2/admin/oakk, epsd2/admin/lagash2, epsd2/admin/u3adm, epsd2/admin/u3let, epsd2/admin/u3leg, epsd2/admin/oldbab, epsd2/literary, epsd2/emesal, epsd2/earlylit, epsd2/royal, epsd2/praxis, dcclt, obmc, ckst, blms`"
   ]
  },
  {
   "cell_type": "code",
   "execution_count": 3,
   "metadata": {},
   "outputs": [
    {
     "name": "stdout",
     "output_type": "stream",
     "text": [
      "Project(s): epsd2/admin/ed3a, epsd2/admin/ed3b, epsd2/admin/ebla, epsd2/admin/oakk, epsd2/admin/lagash2, epsd2/admin/u3adm, epsd2/admin/u3let, epsd2/admin/u3leg, epsd2/admin/oldbab, epsd2/literary, epsd2/emesal, epsd2/earlylit, epsd2/royal, epsd2/praxis, dcclt, obmc, ckst, blms\n"
     ]
    }
   ],
   "source": [
    "projects = input('Project(s): ').lower()"
   ]
  },
  {
   "cell_type": "markdown",
   "metadata": {},
   "source": [
    "## 1.2 Split the List of Projects\n",
    "Split the list of projects and create a list of project names."
   ]
  },
  {
   "cell_type": "code",
   "execution_count": 4,
   "metadata": {},
   "outputs": [],
   "source": [
    "p = projects.split(',')               # split at each comma and make a list called `p`\n",
    "p = [x.strip() for x in p]        # strip spaces left and right of each entry in `p`"
   ]
  },
  {
   "cell_type": "markdown",
   "metadata": {},
   "source": [
    "## 1.3 Download the ZIP files\n",
    "For each project in the list download all the `json` files from `http://build-oracc.museum.upenn.edu/json/`. The file is called `PROJECT.zip` (for instance: `dcclt.zip`). For subprojects the file is called `PROJECT-SUBPROJECT.zip` (for instance `cams-gkab.zip`). \n",
    "\n",
    "For larger projects (such as [DCCLT](http://oracc.org/dcclt)) the `zip` file may be 25Mb or more. Downloading may take some time and it may be necessary to chunk the downloading process. The `iter_content()` function in the `requests` library takes care of that.\n",
    "\n",
    "If you have downloaded the files by hand (and put them in the `jsonzip` directory) you may skip this cell and jump directly to section [2.1 The Parsejson() function](#head21)."
   ]
  },
  {
   "cell_type": "code",
   "execution_count": null,
   "metadata": {},
   "outputs": [],
   "source": [
    "CHUNK = 16 * 1024\n",
    "for project in tqdm.tqdm(p):\n",
    "    project = project.replace('/', '-')\n",
    "    url = \"http://build-oracc.museum.upenn.edu/json/\" + project + \".zip\"\n",
    "    file = 'jsonzip/' + project + '.zip'\n",
    "    r = requests.get(url)\n",
    "    if r.status_code == 200:\n",
    "        print(\"Downloading \" + url + \" saving as \" + file)\n",
    "        with open(file, 'wb') as f:\n",
    "            for c in r.iter_content(chunk_size=CHUNK):\n",
    "                f.write(c)\n",
    "    else:\n",
    "        print(url + \" does not exist.\")"
   ]
  },
  {
   "cell_type": "markdown",
   "metadata": {},
   "source": [
    "## <a name=\"head21\"></a>2.1 The `parsejson()` function\n",
    "The `parsejson()` function will \"dig into\" the `json` file (transformed into a dictionary) until it finds the relevant data. The `json` file consists of a hierarchy of `cdl` nodes; only the lowest nodes contain lemmatization data. The function goes down this hierarchy by calling itself when another `cdl` node is encountered. For nore information about the data hierarchy in the [ORACC](http://oracc.org) `json` files, see [ORACC Open Data](http://oracc.museum.upenn.edu/doc/opendata/index.html).\n",
    "\n",
    "The argument of the `parsejson()` function is a `JSON` object, a dictionary that initially contains the entire contents of the original JSON file. The code takes the key `cdl` which itself contains an array (a list) of `JSON` objects. Iterating through these objects, if an object contains another `cdl` node, the function calls itself with this object as first argument. This way the function digs deeper and deeper into the `JSON` tree, until it does not encounter a `cdl` key anymore. Here we are at the level of individual words. The code checks for a key `f`, if it exists the signs are in the node `gdl` within the `f` node. "
   ]
  },
  {
   "cell_type": "code",
   "execution_count": 5,
   "metadata": {},
   "outputs": [],
   "source": [
    "def parsejson_signs(text):\n",
    "    for JSONobject in text[\"cdl\"]:\n",
    "        field = ''\n",
    "        if \"cdl\" in JSONobject: \n",
    "            parsejson_signs(JSONobject)\n",
    "        if \"type\" in JSONobject and JSONobject[\"type\"] == \"field-start\":\n",
    "            field = JSONobject[\"subtype\"]\n",
    "        if \"f\" in JSONobject and not field in ['sg', 'pr']: # skip the fields \"sign\" and \"pronunciation\"\n",
    "                                # in lexical texts\n",
    "            if JSONobject[\"f\"][\"lang\"][:3] == \"sux\": #only Sumerian and Emesal\n",
    "                word = JSONobject[\"f\"]\n",
    "                f = word[\"form\"]\n",
    "                if \"sexified\" in word[\"gdl\"][0]:\n",
    "                    f = word[\"gdl\"][0][\"sexified\"]\n",
    "                if \"cf\" in word:\n",
    "                    lemm = word[\"cf\"] + '[' + word[\"gw\"] + \"]\" + word[\"pos\"]\n",
    "                    lemm = lemm.replace(' ', '-') # remove commas and spaces from lemm\n",
    "                    lemm = lemm.replace(',', '')\n",
    "                else:\n",
    "                    lemm = word[\"form\"] # if word is unlemmatized\n",
    "                all_.append(f)\n",
    "                lemm_.append(lemm)\n",
    "    return"
   ]
  },
  {
   "cell_type": "markdown",
   "metadata": {},
   "source": [
    "## 2.2 Call the `parsejson()` function for every `JSON` file\n",
    "The code in this cell will iterate through the list of projects entered above (1.1). For each project the `JSON` zip file is located in the directory `jsonzip`, named PROJECT.zip. \n",
    "\n",
    "Each of these files is extracted from the `zip` file and read with the command `json.loads()`, which reads the json data and transforms it into a Python dictionary (a sequence of keys and values).\n",
    "\n",
    "This dictionary, which is called `text` is now sent to the `parsejson()` function. The function adds signs to the `sign_l` list."
   ]
  },
  {
   "cell_type": "code",
   "execution_count": 6,
   "metadata": {},
   "outputs": [
    {
     "name": "stderr",
     "output_type": "stream",
     "text": [
      "100%|██████████| 778/778 [00:00<00:00, 1416.74it/s]\n",
      "100%|██████████| 3157/3157 [00:03<00:00, 983.41it/s] \n",
      "100%|██████████| 157/157 [00:00<00:00, 1103.31it/s]\n",
      "  0%|          | 0/4944 [00:00<?, ?it/s]"
     ]
    },
    {
     "name": "stdout",
     "output_type": "stream",
     "text": [
      "epsd2/admin/ebla/P241764 is not available or not complete\n",
      "epsd2/admin/ebla/P315437 is not available or not complete\n",
      "epsd2/admin/ebla/P315459 is not available or not complete\n"
     ]
    },
    {
     "name": "stderr",
     "output_type": "stream",
     "text": [
      "  7%|▋         | 339/4944 [00:00<00:02, 1711.49it/s]"
     ]
    },
    {
     "name": "stdout",
     "output_type": "stream",
     "text": [
      "epsd2/admin/oakk/P214626 is not available or not complete\n",
      "epsd2/admin/oakk/P214912 is not available or not complete\n"
     ]
    },
    {
     "name": "stderr",
     "output_type": "stream",
     "text": [
      " 17%|█▋        | 855/4944 [00:00<00:02, 1735.51it/s]"
     ]
    },
    {
     "name": "stdout",
     "output_type": "stream",
     "text": [
      "epsd2/admin/oakk/P253329 is not available or not complete\n",
      "epsd2/admin/oakk/P464928 is not available or not complete\n",
      "epsd2/admin/oakk/P212881 is not available or not complete\n",
      "epsd2/admin/oakk/P212864 is not available or not complete\n",
      "epsd2/admin/oakk/P328942 is not available or not complete\n",
      "epsd2/admin/oakk/P323603 is not available or not complete\n"
     ]
    },
    {
     "name": "stderr",
     "output_type": "stream",
     "text": [
      " 25%|██▍       | 1217/4944 [00:00<00:02, 1764.23it/s]"
     ]
    },
    {
     "name": "stdout",
     "output_type": "stream",
     "text": [
      "epsd2/admin/oakk/P212935 is not available or not complete\n"
     ]
    },
    {
     "name": "stderr",
     "output_type": "stream",
     "text": [
      " 35%|███▌      | 1734/4944 [00:01<00:01, 1735.39it/s]"
     ]
    },
    {
     "name": "stdout",
     "output_type": "stream",
     "text": [
      "epsd2/admin/oakk/P215676 is not available or not complete\n",
      "epsd2/admin/oakk/P212840 is not available or not complete\n",
      "epsd2/admin/oakk/P216881 is not available or not complete\n"
     ]
    },
    {
     "name": "stderr",
     "output_type": "stream",
     "text": [
      " 42%|████▏     | 2072/4944 [00:01<00:01, 1660.08it/s]"
     ]
    },
    {
     "name": "stdout",
     "output_type": "stream",
     "text": [
      "epsd2/admin/oakk/P215241 is not available or not complete\n",
      "epsd2/admin/oakk/P215748 is not available or not complete\n",
      "epsd2/admin/oakk/P212856 is not available or not complete\n",
      "epsd2/admin/oakk/P392042 is not available or not complete\n"
     ]
    },
    {
     "name": "stderr",
     "output_type": "stream",
     "text": [
      " 49%|████▊     | 2400/4944 [00:01<00:01, 1604.97it/s]"
     ]
    },
    {
     "name": "stdout",
     "output_type": "stream",
     "text": [
      "epsd2/admin/oakk/P212847 is not available or not complete\n",
      "epsd2/admin/oakk/P212862 is not available or not complete\n",
      "epsd2/admin/oakk/P212830 is not available or not complete\n"
     ]
    },
    {
     "name": "stderr",
     "output_type": "stream",
     "text": [
      " 62%|██████▏   | 3051/4944 [00:01<00:01, 1456.19it/s]"
     ]
    },
    {
     "name": "stdout",
     "output_type": "stream",
     "text": [
      "epsd2/admin/oakk/P472370 is not available or not complete\n"
     ]
    },
    {
     "name": "stderr",
     "output_type": "stream",
     "text": [
      " 71%|███████   | 3496/4944 [00:02<00:01, 1425.52it/s]"
     ]
    },
    {
     "name": "stdout",
     "output_type": "stream",
     "text": [
      "epsd2/admin/oakk/P329051 is not available or not complete\n"
     ]
    },
    {
     "name": "stderr",
     "output_type": "stream",
     "text": [
      " 80%|████████  | 3963/4944 [00:02<00:00, 1514.72it/s]"
     ]
    },
    {
     "name": "stdout",
     "output_type": "stream",
     "text": [
      "epsd2/admin/oakk/P322994 is not available or not complete\n",
      "epsd2/admin/oakk/P323554 is not available or not complete\n",
      "epsd2/admin/oakk/P328973 is not available or not complete\n",
      "epsd2/admin/oakk/P213098 is not available or not complete\n",
      "epsd2/admin/oakk/P215321 is not available or not complete\n"
     ]
    },
    {
     "name": "stderr",
     "output_type": "stream",
     "text": [
      " 86%|████████▌ | 4263/4944 [00:02<00:00, 1411.20it/s]"
     ]
    },
    {
     "name": "stdout",
     "output_type": "stream",
     "text": [
      "epsd2/admin/oakk/P329059 is not available or not complete\n",
      "epsd2/admin/oakk/P212885 is not available or not complete\n",
      "epsd2/admin/oakk/P215706 is not available or not complete\n",
      "epsd2/admin/oakk/P212883 is not available or not complete\n",
      "epsd2/admin/oakk/P453070 is not available or not complete\n"
     ]
    },
    {
     "name": "stderr",
     "output_type": "stream",
     "text": [
      " 95%|█████████▌| 4700/4944 [00:03<00:00, 1355.75it/s]"
     ]
    },
    {
     "name": "stdout",
     "output_type": "stream",
     "text": [
      "epsd2/admin/oakk/P215695 is not available or not complete\n",
      "epsd2/admin/oakk/P323550 is not available or not complete\n",
      "epsd2/admin/oakk/P212850 is not available or not complete\n"
     ]
    },
    {
     "name": "stderr",
     "output_type": "stream",
     "text": [
      "100%|██████████| 4944/4944 [00:03<00:00, 1529.92it/s]\n",
      " 23%|██▎       | 116/494 [00:00<00:00, 1154.83it/s]"
     ]
    },
    {
     "name": "stdout",
     "output_type": "stream",
     "text": [
      "epsd2/admin/oakk/P214804 is not available or not complete\n",
      "epsd2/admin/oakk/P214742 is not available or not complete\n"
     ]
    },
    {
     "name": "stderr",
     "output_type": "stream",
     "text": [
      "100%|██████████| 494/494 [00:00<00:00, 1217.38it/s]\n",
      "  0%|          | 285/71496 [00:00<01:16, 929.46it/s]"
     ]
    },
    {
     "name": "stdout",
     "output_type": "stream",
     "text": [
      "epsd2/admin/u3adm/P511905 is not available or not complete\n",
      "epsd2/admin/u3adm/P511471 is not available or not complete\n"
     ]
    },
    {
     "name": "stderr",
     "output_type": "stream",
     "text": [
      "  1%|          | 645/71496 [00:00<01:04, 1092.69it/s]"
     ]
    },
    {
     "name": "stdout",
     "output_type": "stream",
     "text": [
      "epsd2/admin/u3adm/P109084 is not available or not complete\n",
      "epsd2/admin/u3adm/P511973 is not available or not complete\n",
      "epsd2/admin/u3adm/P504596 is not available or not complete\n"
     ]
    },
    {
     "name": "stderr",
     "output_type": "stream",
     "text": [
      "  1%|▏         | 942/71496 [00:00<01:14, 948.85it/s] "
     ]
    },
    {
     "name": "stdout",
     "output_type": "stream",
     "text": [
      "epsd2/admin/u3adm/P414560 is not available or not complete\n",
      "epsd2/admin/u3adm/P512114 is not available or not complete\n",
      "epsd2/admin/u3adm/P109115 is not available or not complete\n",
      "epsd2/admin/u3adm/P511467 is not available or not complete\n",
      "epsd2/admin/u3adm/P511979 is not available or not complete\n"
     ]
    },
    {
     "name": "stderr",
     "output_type": "stream",
     "text": [
      "  2%|▏         | 1562/71496 [00:01<01:27, 802.97it/s] "
     ]
    },
    {
     "name": "stdout",
     "output_type": "stream",
     "text": [
      "epsd2/admin/u3adm/P105380 is not available or not complete\n",
      "epsd2/admin/u3adm/P512156 is not available or not complete\n",
      "epsd2/admin/u3adm/P414575 is not available or not complete\n"
     ]
    },
    {
     "name": "stderr",
     "output_type": "stream",
     "text": [
      "  3%|▎         | 1931/71496 [00:02<01:19, 873.61it/s]"
     ]
    },
    {
     "name": "stdout",
     "output_type": "stream",
     "text": [
      "epsd2/admin/u3adm/P497673 is not available or not complete\n",
      "epsd2/admin/u3adm/P476069 is not available or not complete\n",
      "epsd2/admin/u3adm/P474548 is not available or not complete\n",
      "epsd2/admin/u3adm/P474558 is not available or not complete\n",
      "epsd2/admin/u3adm/P511901 is not available or not complete\n"
     ]
    },
    {
     "name": "stderr",
     "output_type": "stream",
     "text": [
      "  3%|▎         | 2108/71496 [00:02<01:21, 848.75it/s]"
     ]
    },
    {
     "name": "stdout",
     "output_type": "stream",
     "text": [
      "epsd2/admin/u3adm/P414535 is not available or not complete\n",
      "epsd2/admin/u3adm/P414516 is not available or not complete\n",
      "epsd2/admin/u3adm/P497679 is not available or not complete\n"
     ]
    },
    {
     "name": "stderr",
     "output_type": "stream",
     "text": [
      "  3%|▎         | 2458/71496 [00:02<01:24, 815.49it/s]"
     ]
    },
    {
     "name": "stdout",
     "output_type": "stream",
     "text": [
      "epsd2/admin/u3adm/P511956 is not available or not complete\n"
     ]
    },
    {
     "name": "stderr",
     "output_type": "stream",
     "text": [
      "  4%|▍         | 2772/71496 [00:03<01:12, 947.33it/s]"
     ]
    },
    {
     "name": "stdout",
     "output_type": "stream",
     "text": [
      "epsd2/admin/u3adm/P109129 is not available or not complete\n",
      "epsd2/admin/u3adm/P474539 is not available or not complete\n",
      "epsd2/admin/u3adm/P474557 is not available or not complete\n"
     ]
    },
    {
     "name": "stderr",
     "output_type": "stream",
     "text": [
      "  5%|▍         | 3278/71496 [00:03<01:11, 956.19it/s]"
     ]
    },
    {
     "name": "stdout",
     "output_type": "stream",
     "text": [
      "epsd2/admin/u3adm/P511912 is not available or not complete\n",
      "epsd2/admin/u3adm/P105361 is not available or not complete\n"
     ]
    },
    {
     "name": "stderr",
     "output_type": "stream",
     "text": [
      "  5%|▍         | 3483/71496 [00:03<01:09, 983.68it/s]"
     ]
    },
    {
     "name": "stdout",
     "output_type": "stream",
     "text": [
      "epsd2/admin/u3adm/P511969 is not available or not complete\n",
      "epsd2/admin/u3adm/P512144 is not available or not complete\n",
      "epsd2/admin/u3adm/P511526 is not available or not complete\n"
     ]
    },
    {
     "name": "stderr",
     "output_type": "stream",
     "text": [
      "  5%|▌         | 3914/71496 [00:04<01:05, 1025.33it/s]"
     ]
    },
    {
     "name": "stdout",
     "output_type": "stream",
     "text": [
      "epsd2/admin/u3adm/P497669 is not available or not complete\n",
      "epsd2/admin/u3adm/P511402 is not available or not complete\n"
     ]
    },
    {
     "name": "stderr",
     "output_type": "stream",
     "text": [
      "  6%|▌         | 4234/71496 [00:04<01:04, 1049.62it/s]"
     ]
    },
    {
     "name": "stdout",
     "output_type": "stream",
     "text": [
      "epsd2/admin/u3adm/P511446 is not available or not complete\n",
      "epsd2/admin/u3adm/P474535 is not available or not complete\n"
     ]
    },
    {
     "name": "stderr",
     "output_type": "stream",
     "text": [
      "  7%|▋         | 4838/71496 [00:05<01:11, 929.78it/s] "
     ]
    },
    {
     "name": "stdout",
     "output_type": "stream",
     "text": [
      "epsd2/admin/u3adm/P114110 is not available or not complete\n",
      "epsd2/admin/u3adm/P105638 is not available or not complete\n"
     ]
    },
    {
     "name": "stderr",
     "output_type": "stream",
     "text": [
      "  7%|▋         | 5114/71496 [00:05<01:33, 708.36it/s]"
     ]
    },
    {
     "name": "stdout",
     "output_type": "stream",
     "text": [
      "epsd2/admin/u3adm/P511983 is not available or not complete\n",
      "epsd2/admin/u3adm/P512131 is not available or not complete\n",
      "epsd2/admin/u3adm/P512108 is not available or not complete\n"
     ]
    },
    {
     "name": "stderr",
     "output_type": "stream",
     "text": [
      "  8%|▊         | 5776/71496 [00:06<01:13, 889.98it/s]"
     ]
    },
    {
     "name": "stdout",
     "output_type": "stream",
     "text": [
      "epsd2/admin/u3adm/P511949 is not available or not complete\n",
      "epsd2/admin/u3adm/P474534 is not available or not complete\n"
     ]
    },
    {
     "name": "stderr",
     "output_type": "stream",
     "text": [
      "  9%|▊         | 6226/71496 [00:06<01:21, 803.23it/s]"
     ]
    },
    {
     "name": "stdout",
     "output_type": "stream",
     "text": [
      "epsd2/admin/u3adm/P512140 is not available or not complete\n",
      "epsd2/admin/u3adm/P414550 is not available or not complete\n",
      "epsd2/admin/u3adm/P105530 is not available or not complete\n",
      "epsd2/admin/u3adm/P511911 is not available or not complete\n"
     ]
    },
    {
     "name": "stderr",
     "output_type": "stream",
     "text": [
      "  9%|▉         | 6402/71496 [00:07<01:19, 813.73it/s]"
     ]
    },
    {
     "name": "stdout",
     "output_type": "stream",
     "text": [
      "epsd2/admin/u3adm/P511876 is not available or not complete\n",
      "epsd2/admin/u3adm/P511987 is not available or not complete\n"
     ]
    },
    {
     "name": "stderr",
     "output_type": "stream",
     "text": [
      " 10%|▉         | 6836/71496 [00:07<01:21, 793.78it/s]"
     ]
    },
    {
     "name": "stdout",
     "output_type": "stream",
     "text": [
      "epsd2/admin/u3adm/P511926 is not available or not complete\n"
     ]
    },
    {
     "name": "stderr",
     "output_type": "stream",
     "text": [
      " 10%|▉         | 6997/71496 [00:07<01:24, 760.55it/s]"
     ]
    },
    {
     "name": "stdout",
     "output_type": "stream",
     "text": [
      "epsd2/admin/u3adm/P414571 is not available or not complete\n",
      "epsd2/admin/u3adm/P476056 is not available or not complete\n"
     ]
    },
    {
     "name": "stderr",
     "output_type": "stream",
     "text": [
      " 10%|█         | 7257/71496 [00:08<01:18, 822.00it/s]"
     ]
    },
    {
     "name": "stdout",
     "output_type": "stream",
     "text": [
      "epsd2/admin/u3adm/P476078 is not available or not complete\n",
      "epsd2/admin/u3adm/P478289 is not available or not complete\n",
      "epsd2/admin/u3adm/P414521 is not available or not complete\n",
      "epsd2/admin/u3adm/P114184 is not available or not complete\n"
     ]
    },
    {
     "name": "stderr",
     "output_type": "stream",
     "text": [
      " 10%|█         | 7434/71496 [00:08<01:15, 847.33it/s]"
     ]
    },
    {
     "name": "stdout",
     "output_type": "stream",
     "text": [
      "epsd2/admin/u3adm/P512146 is not available or not complete\n",
      "epsd2/admin/u3adm/P139502 is not available or not complete\n",
      "epsd2/admin/u3adm/P329926 is not available or not complete\n"
     ]
    },
    {
     "name": "stderr",
     "output_type": "stream",
     "text": [
      " 11%|█         | 7677/71496 [00:08<01:43, 616.76it/s]"
     ]
    },
    {
     "name": "stdout",
     "output_type": "stream",
     "text": [
      "epsd2/admin/u3adm/P511916 is not available or not complete\n",
      "epsd2/admin/u3adm/P511435 is not available or not complete\n",
      "epsd2/admin/u3adm/P476061 is not available or not complete\n"
     ]
    },
    {
     "name": "stderr",
     "output_type": "stream",
     "text": [
      " 11%|█         | 7822/71496 [00:09<01:37, 655.87it/s]"
     ]
    },
    {
     "name": "stdout",
     "output_type": "stream",
     "text": [
      "epsd2/admin/u3adm/P512147 is not available or not complete\n"
     ]
    },
    {
     "name": "stderr",
     "output_type": "stream",
     "text": [
      " 11%|█▏        | 8135/71496 [00:09<01:26, 733.11it/s]"
     ]
    },
    {
     "name": "stdout",
     "output_type": "stream",
     "text": [
      "epsd2/admin/u3adm/P474544 is not available or not complete\n"
     ]
    },
    {
     "name": "stderr",
     "output_type": "stream",
     "text": [
      " 12%|█▏        | 8352/71496 [00:09<01:32, 684.92it/s]"
     ]
    },
    {
     "name": "stdout",
     "output_type": "stream",
     "text": [
      "epsd2/admin/u3adm/P476067 is not available or not complete\n",
      "epsd2/admin/u3adm/P511976 is not available or not complete\n"
     ]
    },
    {
     "name": "stderr",
     "output_type": "stream",
     "text": [
      " 12%|█▏        | 8571/71496 [00:10<01:38, 639.54it/s]"
     ]
    },
    {
     "name": "stdout",
     "output_type": "stream",
     "text": [
      "epsd2/admin/u3adm/P474530 is not available or not complete\n",
      "epsd2/admin/u3adm/P476062 is not available or not complete\n"
     ]
    },
    {
     "name": "stderr",
     "output_type": "stream",
     "text": [
      " 12%|█▏        | 8698/71496 [00:10<01:46, 590.02it/s]"
     ]
    },
    {
     "name": "stdout",
     "output_type": "stream",
     "text": [
      "epsd2/admin/u3adm/P139503 is not available or not complete\n"
     ]
    },
    {
     "name": "stderr",
     "output_type": "stream",
     "text": [
      " 13%|█▎        | 8991/71496 [00:10<01:53, 550.83it/s]"
     ]
    },
    {
     "name": "stdout",
     "output_type": "stream",
     "text": [
      "epsd2/admin/u3adm/P512107 is not available or not complete\n"
     ]
    },
    {
     "name": "stderr",
     "output_type": "stream",
     "text": [
      " 13%|█▎        | 9182/71496 [00:11<01:43, 604.54it/s]"
     ]
    },
    {
     "name": "stdout",
     "output_type": "stream",
     "text": [
      "epsd2/admin/u3adm/P511909 is not available or not complete\n",
      "epsd2/admin/u3adm/P511621 is not available or not complete\n",
      "epsd2/admin/u3adm/P511558 is not available or not complete\n",
      "epsd2/admin/u3adm/P512137 is not available or not complete\n",
      "epsd2/admin/u3adm/P512103 is not available or not complete\n"
     ]
    },
    {
     "name": "stderr",
     "output_type": "stream",
     "text": [
      " 13%|█▎        | 9610/71496 [00:11<01:29, 693.55it/s]"
     ]
    },
    {
     "name": "stdout",
     "output_type": "stream",
     "text": [
      "epsd2/admin/u3adm/P108848 is not available or not complete\n"
     ]
    },
    {
     "name": "stderr",
     "output_type": "stream",
     "text": [
      " 14%|█▎        | 9754/71496 [00:12<01:29, 690.56it/s]"
     ]
    },
    {
     "name": "stdout",
     "output_type": "stream",
     "text": [
      "epsd2/admin/u3adm/P511555 is not available or not complete\n"
     ]
    },
    {
     "name": "stderr",
     "output_type": "stream",
     "text": [
      " 14%|█▍        | 9894/71496 [00:12<01:32, 669.43it/s]"
     ]
    },
    {
     "name": "stdout",
     "output_type": "stream",
     "text": [
      "epsd2/admin/u3adm/P478307 is not available or not complete\n"
     ]
    },
    {
     "name": "stderr",
     "output_type": "stream",
     "text": [
      " 14%|█▍        | 10099/71496 [00:12<01:36, 633.14it/s]"
     ]
    },
    {
     "name": "stdout",
     "output_type": "stream",
     "text": [
      "epsd2/admin/u3adm/P511609 is not available or not complete\n",
      "epsd2/admin/u3adm/P430694 is not available or not complete\n",
      "epsd2/admin/u3adm/P274567 is not available or not complete\n"
     ]
    },
    {
     "name": "stderr",
     "output_type": "stream",
     "text": [
      " 14%|█▍        | 10222/71496 [00:12<01:58, 517.46it/s]"
     ]
    },
    {
     "name": "stdout",
     "output_type": "stream",
     "text": [
      "epsd2/admin/u3adm/P511990 is not available or not complete\n",
      "epsd2/admin/u3adm/P414548 is not available or not complete\n",
      "epsd2/admin/u3adm/P312454 is not available or not complete\n"
     ]
    },
    {
     "name": "stderr",
     "output_type": "stream",
     "text": [
      " 15%|█▍        | 10678/71496 [00:13<01:35, 636.53it/s]"
     ]
    },
    {
     "name": "stdout",
     "output_type": "stream",
     "text": [
      "epsd2/admin/u3adm/P511455 is not available or not complete\n"
     ]
    },
    {
     "name": "stderr",
     "output_type": "stream",
     "text": [
      " 15%|█▌        | 11072/71496 [00:14<01:32, 651.57it/s]"
     ]
    },
    {
     "name": "stdout",
     "output_type": "stream",
     "text": [
      "epsd2/admin/u3adm/P511612 is not available or not complete\n",
      "epsd2/admin/u3adm/P478279 is not available or not complete\n",
      "epsd2/admin/u3adm/P414533 is not available or not complete\n",
      "epsd2/admin/u3adm/P329888 is not available or not complete\n",
      "epsd2/admin/u3adm/P511544 is not available or not complete\n"
     ]
    },
    {
     "name": "stderr",
     "output_type": "stream",
     "text": [
      " 16%|█▌        | 11266/71496 [00:14<01:40, 600.92it/s]"
     ]
    },
    {
     "name": "stdout",
     "output_type": "stream",
     "text": [
      "epsd2/admin/u3adm/P511589 is not available or not complete\n"
     ]
    },
    {
     "name": "stderr",
     "output_type": "stream",
     "text": [
      " 16%|█▌        | 11401/71496 [00:14<01:34, 636.90it/s]"
     ]
    },
    {
     "name": "stdout",
     "output_type": "stream",
     "text": [
      "epsd2/admin/u3adm/P109109 is not available or not complete\n",
      "epsd2/admin/u3adm/P105447 is not available or not complete\n",
      "epsd2/admin/u3adm/P512159 is not available or not complete\n",
      "epsd2/admin/u3adm/P512150 is not available or not complete\n"
     ]
    },
    {
     "name": "stderr",
     "output_type": "stream",
     "text": [
      " 17%|█▋        | 11840/71496 [00:15<01:45, 567.85it/s]"
     ]
    },
    {
     "name": "stdout",
     "output_type": "stream",
     "text": [
      "epsd2/admin/u3adm/P476065 is not available or not complete\n",
      "epsd2/admin/u3adm/P511632 is not available or not complete\n",
      "epsd2/admin/u3adm/P511906 is not available or not complete\n"
     ]
    },
    {
     "name": "stderr",
     "output_type": "stream",
     "text": [
      " 17%|█▋        | 11955/71496 [00:15<01:45, 562.78it/s]"
     ]
    },
    {
     "name": "stdout",
     "output_type": "stream",
     "text": [
      "epsd2/admin/u3adm/P478293 is not available or not complete\n",
      "epsd2/admin/u3adm/P512141 is not available or not complete\n"
     ]
    },
    {
     "name": "stderr",
     "output_type": "stream",
     "text": [
      " 17%|█▋        | 12069/71496 [00:15<01:47, 552.87it/s]"
     ]
    },
    {
     "name": "stdout",
     "output_type": "stream",
     "text": [
      "epsd2/admin/u3adm/P474560 is not available or not complete\n"
     ]
    },
    {
     "name": "stderr",
     "output_type": "stream",
     "text": [
      " 17%|█▋        | 12297/71496 [00:16<01:50, 538.03it/s]"
     ]
    },
    {
     "name": "stdout",
     "output_type": "stream",
     "text": [
      "epsd2/admin/u3adm/P113145 is not available or not complete\n",
      "epsd2/admin/u3adm/P109096 is not available or not complete\n"
     ]
    },
    {
     "name": "stderr",
     "output_type": "stream",
     "text": [
      " 17%|█▋        | 12412/71496 [00:16<01:46, 554.78it/s]"
     ]
    },
    {
     "name": "stdout",
     "output_type": "stream",
     "text": [
      "epsd2/admin/u3adm/P414519 is not available or not complete\n",
      "epsd2/admin/u3adm/P478297 is not available or not complete\n",
      "epsd2/admin/u3adm/P511989 is not available or not complete\n"
     ]
    },
    {
     "name": "stderr",
     "output_type": "stream",
     "text": [
      " 18%|█▊        | 12640/71496 [00:16<01:47, 549.99it/s]"
     ]
    },
    {
     "name": "stdout",
     "output_type": "stream",
     "text": [
      "epsd2/admin/u3adm/P512102 is not available or not complete\n"
     ]
    },
    {
     "name": "stderr",
     "output_type": "stream",
     "text": [
      " 18%|█▊        | 12811/71496 [00:17<01:45, 555.21it/s]"
     ]
    },
    {
     "name": "stdout",
     "output_type": "stream",
     "text": [
      "epsd2/admin/u3adm/P129990 is not available or not complete\n",
      "epsd2/admin/u3adm/P478284 is not available or not complete\n"
     ]
    },
    {
     "name": "stderr",
     "output_type": "stream",
     "text": [
      " 18%|█▊        | 12926/71496 [00:17<01:48, 539.32it/s]"
     ]
    },
    {
     "name": "stdout",
     "output_type": "stream",
     "text": [
      "epsd2/admin/u3adm/P477691 is not available or not complete\n",
      "epsd2/admin/u3adm/P511434 is not available or not complete\n",
      "epsd2/admin/u3adm/P476082 is not available or not complete\n"
     ]
    },
    {
     "name": "stderr",
     "output_type": "stream",
     "text": [
      "\r",
      " 18%|█▊        | 12982/71496 [00:17<01:47, 543.49it/s]"
     ]
    },
    {
     "name": "stdout",
     "output_type": "stream",
     "text": [
      "epsd2/admin/u3adm/P511396 is not available or not complete\n",
      "epsd2/admin/u3adm/P511591 is not available or not complete\n"
     ]
    },
    {
     "name": "stderr",
     "output_type": "stream",
     "text": [
      " 18%|█▊        | 13135/71496 [00:17<02:05, 464.72it/s]"
     ]
    },
    {
     "name": "stdout",
     "output_type": "stream",
     "text": [
      "epsd2/admin/u3adm/P478294 is not available or not complete\n"
     ]
    },
    {
     "name": "stderr",
     "output_type": "stream",
     "text": [
      " 19%|█▉        | 13558/71496 [00:18<01:56, 498.67it/s]"
     ]
    },
    {
     "name": "stdout",
     "output_type": "stream",
     "text": [
      "epsd2/admin/u3adm/P142626 is not available or not complete\n",
      "epsd2/admin/u3adm/P512118 is not available or not complete\n",
      "epsd2/admin/u3adm/P414529 is not available or not complete\n",
      "epsd2/admin/u3adm/P511963 is not available or not complete\n",
      "epsd2/admin/u3adm/P105378 is not available or not complete\n"
     ]
    },
    {
     "name": "stderr",
     "output_type": "stream",
     "text": [
      " 19%|█▉        | 13667/71496 [00:18<01:51, 519.45it/s]"
     ]
    },
    {
     "name": "stdout",
     "output_type": "stream",
     "text": [
      "epsd2/admin/u3adm/P105309 is not available or not complete\n",
      "epsd2/admin/u3adm/P512138 is not available or not complete\n"
     ]
    },
    {
     "name": "stderr",
     "output_type": "stream",
     "text": [
      " 19%|█▉        | 13899/71496 [00:19<01:43, 557.08it/s]"
     ]
    },
    {
     "name": "stdout",
     "output_type": "stream",
     "text": [
      "epsd2/admin/u3adm/P477698 is not available or not complete\n",
      "epsd2/admin/u3adm/P511941 is not available or not complete\n"
     ]
    },
    {
     "name": "stderr",
     "output_type": "stream",
     "text": [
      " 20%|█▉        | 14119/71496 [00:19<02:01, 473.13it/s]"
     ]
    },
    {
     "name": "stdout",
     "output_type": "stream",
     "text": [
      "epsd2/admin/u3adm/P511608 is not available or not complete\n",
      "epsd2/admin/u3adm/P512121 is not available or not complete\n",
      "epsd2/admin/u3adm/P474531 is not available or not complete\n"
     ]
    },
    {
     "name": "stderr",
     "output_type": "stream",
     "text": [
      " 20%|██        | 14348/71496 [00:20<01:43, 550.49it/s]"
     ]
    },
    {
     "name": "stdout",
     "output_type": "stream",
     "text": [
      "epsd2/admin/u3adm/P476074 is not available or not complete\n"
     ]
    },
    {
     "name": "stderr",
     "output_type": "stream",
     "text": [
      " 20%|██        | 14584/71496 [00:20<01:38, 577.08it/s]"
     ]
    },
    {
     "name": "stdout",
     "output_type": "stream",
     "text": [
      "epsd2/admin/u3adm/P105340 is not available or not complete\n",
      "epsd2/admin/u3adm/P476063 is not available or not complete\n",
      "epsd2/admin/u3adm/P361750 is not available or not complete\n"
     ]
    },
    {
     "name": "stderr",
     "output_type": "stream",
     "text": [
      " 21%|██        | 14822/71496 [00:21<01:38, 575.40it/s]"
     ]
    },
    {
     "name": "stdout",
     "output_type": "stream",
     "text": [
      "epsd2/admin/u3adm/P430674 is not available or not complete\n",
      "epsd2/admin/u3adm/P511915 is not available or not complete\n",
      "epsd2/admin/u3adm/P512134 is not available or not complete\n"
     ]
    },
    {
     "name": "stderr",
     "output_type": "stream",
     "text": [
      " 21%|██        | 15003/71496 [00:21<01:37, 577.85it/s]"
     ]
    },
    {
     "name": "stdout",
     "output_type": "stream",
     "text": [
      "epsd2/admin/u3adm/P333133 is not available or not complete\n",
      "epsd2/admin/u3adm/P414576 is not available or not complete\n"
     ]
    },
    {
     "name": "stderr",
     "output_type": "stream",
     "text": [
      " 21%|██        | 15180/71496 [00:21<01:41, 555.61it/s]"
     ]
    },
    {
     "name": "stdout",
     "output_type": "stream",
     "text": [
      "epsd2/admin/u3adm/P511412 is not available or not complete\n",
      "epsd2/admin/u3adm/P477695 is not available or not complete\n"
     ]
    },
    {
     "name": "stderr",
     "output_type": "stream",
     "text": [
      " 21%|██▏       | 15309/71496 [00:22<01:34, 596.64it/s]"
     ]
    },
    {
     "name": "stdout",
     "output_type": "stream",
     "text": [
      "epsd2/admin/u3adm/P105542 is not available or not complete\n",
      "epsd2/admin/u3adm/P109091 is not available or not complete\n"
     ]
    },
    {
     "name": "stderr",
     "output_type": "stream",
     "text": [
      " 22%|██▏       | 15490/71496 [00:22<01:39, 564.63it/s]"
     ]
    },
    {
     "name": "stdout",
     "output_type": "stream",
     "text": [
      "epsd2/admin/u3adm/P120695 is not available or not complete\n"
     ]
    },
    {
     "name": "stderr",
     "output_type": "stream",
     "text": [
      " 22%|██▏       | 15602/71496 [00:22<01:48, 515.11it/s]"
     ]
    },
    {
     "name": "stdout",
     "output_type": "stream",
     "text": [
      "epsd2/admin/u3adm/P114180 is not available or not complete\n",
      "epsd2/admin/u3adm/P109121 is not available or not complete\n"
     ]
    },
    {
     "name": "stderr",
     "output_type": "stream",
     "text": [
      " 22%|██▏       | 15751/71496 [00:22<02:00, 462.65it/s]"
     ]
    },
    {
     "name": "stdout",
     "output_type": "stream",
     "text": [
      "epsd2/admin/u3adm/P476076 is not available or not complete\n",
      "epsd2/admin/u3adm/P114143 is not available or not complete\n"
     ]
    },
    {
     "name": "stderr",
     "output_type": "stream",
     "text": [
      " 22%|██▏       | 15845/71496 [00:23<02:00, 463.04it/s]"
     ]
    },
    {
     "name": "stdout",
     "output_type": "stream",
     "text": [
      "epsd2/admin/u3adm/P414553 is not available or not complete\n"
     ]
    },
    {
     "name": "stderr",
     "output_type": "stream",
     "text": [
      " 22%|██▏       | 16085/71496 [00:23<02:02, 452.87it/s]"
     ]
    },
    {
     "name": "stdout",
     "output_type": "stream",
     "text": [
      "epsd2/admin/u3adm/P497674 is not available or not complete\n",
      "epsd2/admin/u3adm/P114107 is not available or not complete\n"
     ]
    },
    {
     "name": "stderr",
     "output_type": "stream",
     "text": [
      " 23%|██▎       | 16329/71496 [00:24<02:04, 444.87it/s]"
     ]
    },
    {
     "name": "stdout",
     "output_type": "stream",
     "text": [
      "epsd2/admin/u3adm/P109123 is not available or not complete\n"
     ]
    },
    {
     "name": "stderr",
     "output_type": "stream",
     "text": [
      "\r",
      " 23%|██▎       | 16374/71496 [00:24<02:07, 430.76it/s]"
     ]
    },
    {
     "name": "stdout",
     "output_type": "stream",
     "text": [
      "epsd2/admin/u3adm/P511913 is not available or not complete\n"
     ]
    },
    {
     "name": "stderr",
     "output_type": "stream",
     "text": [
      " 23%|██▎       | 16549/71496 [00:24<02:24, 379.84it/s]"
     ]
    },
    {
     "name": "stdout",
     "output_type": "stream",
     "text": [
      "epsd2/admin/u3adm/P511527 is not available or not complete\n",
      "epsd2/admin/u3adm/P497670 is not available or not complete\n",
      "epsd2/admin/u3adm/P414561 is not available or not complete\n",
      "epsd2/admin/u3adm/P112322 is not available or not complete\n"
     ]
    },
    {
     "name": "stderr",
     "output_type": "stream",
     "text": [
      " 23%|██▎       | 16775/71496 [00:25<02:10, 420.52it/s]"
     ]
    },
    {
     "name": "stdout",
     "output_type": "stream",
     "text": [
      "epsd2/admin/u3adm/P248996 is not available or not complete\n"
     ]
    },
    {
     "name": "stderr",
     "output_type": "stream",
     "text": [
      " 24%|██▍       | 17013/71496 [00:25<02:02, 446.41it/s]"
     ]
    },
    {
     "name": "stdout",
     "output_type": "stream",
     "text": [
      "epsd2/admin/u3adm/P139504 is not available or not complete\n"
     ]
    },
    {
     "name": "stderr",
     "output_type": "stream",
     "text": [
      " 24%|██▍       | 17203/71496 [00:26<01:59, 453.36it/s]"
     ]
    },
    {
     "name": "stdout",
     "output_type": "stream",
     "text": [
      "epsd2/admin/u3adm/P511925 is not available or not complete\n"
     ]
    },
    {
     "name": "stderr",
     "output_type": "stream",
     "text": [
      " 24%|██▍       | 17345/71496 [00:26<01:56, 464.88it/s]"
     ]
    },
    {
     "name": "stdout",
     "output_type": "stream",
     "text": [
      "epsd2/admin/u3adm/P105307 is not available or not complete\n",
      "epsd2/admin/u3adm/P511945 is not available or not complete\n"
     ]
    },
    {
     "name": "stderr",
     "output_type": "stream",
     "text": [
      " 24%|██▍       | 17441/71496 [00:26<01:56, 463.67it/s]"
     ]
    },
    {
     "name": "stdout",
     "output_type": "stream",
     "text": [
      "epsd2/admin/u3adm/P512153 is not available or not complete\n"
     ]
    },
    {
     "name": "stderr",
     "output_type": "stream",
     "text": [
      " 25%|██▍       | 17771/71496 [00:27<01:58, 452.94it/s]"
     ]
    },
    {
     "name": "stdout",
     "output_type": "stream",
     "text": [
      "epsd2/admin/u3adm/P511619 is not available or not complete\n",
      "epsd2/admin/u3adm/P511603 is not available or not complete\n"
     ]
    },
    {
     "name": "stderr",
     "output_type": "stream",
     "text": [
      " 26%|██▌       | 18354/71496 [00:28<02:06, 420.84it/s]"
     ]
    },
    {
     "name": "stdout",
     "output_type": "stream",
     "text": [
      "epsd2/admin/u3adm/P511978 is not available or not complete\n",
      "epsd2/admin/u3adm/P474538 is not available or not complete\n"
     ]
    },
    {
     "name": "stderr",
     "output_type": "stream",
     "text": [
      " 26%|██▌       | 18624/71496 [00:29<02:02, 432.77it/s]"
     ]
    },
    {
     "name": "stdout",
     "output_type": "stream",
     "text": [
      "epsd2/admin/u3adm/P511423 is not available or not complete\n",
      "epsd2/admin/u3adm/P511931 is not available or not complete\n"
     ]
    },
    {
     "name": "stderr",
     "output_type": "stream",
     "text": [
      " 26%|██▌       | 18712/71496 [00:29<02:04, 425.42it/s]"
     ]
    },
    {
     "name": "stdout",
     "output_type": "stream",
     "text": [
      "epsd2/admin/u3adm/P511980 is not available or not complete\n"
     ]
    },
    {
     "name": "stderr",
     "output_type": "stream",
     "text": [
      " 27%|██▋       | 19081/71496 [00:30<01:57, 445.23it/s]"
     ]
    },
    {
     "name": "stdout",
     "output_type": "stream",
     "text": [
      "epsd2/admin/u3adm/P511902 is not available or not complete\n",
      "epsd2/admin/u3adm/P511487 is not available or not complete\n",
      "epsd2/admin/u3adm/P139501 is not available or not complete\n"
     ]
    },
    {
     "name": "stderr",
     "output_type": "stream",
     "text": [
      " 27%|██▋       | 19364/71496 [00:31<02:00, 433.86it/s]"
     ]
    },
    {
     "name": "stdout",
     "output_type": "stream",
     "text": [
      "epsd2/admin/u3adm/P511924 is not available or not complete\n"
     ]
    },
    {
     "name": "stderr",
     "output_type": "stream",
     "text": [
      " 28%|██▊       | 19710/71496 [00:32<01:48, 477.01it/s]"
     ]
    },
    {
     "name": "stdout",
     "output_type": "stream",
     "text": [
      "epsd2/admin/u3adm/P114108 is not available or not complete\n",
      "epsd2/admin/u3adm/P144316 is not available or not complete\n",
      "epsd2/admin/u3adm/P430673 is not available or not complete\n",
      "epsd2/admin/u3adm/P511569 is not available or not complete\n"
     ]
    },
    {
     "name": "stderr",
     "output_type": "stream",
     "text": [
      " 28%|██▊       | 19812/71496 [00:32<01:48, 477.90it/s]"
     ]
    },
    {
     "name": "stdout",
     "output_type": "stream",
     "text": [
      "epsd2/admin/u3adm/P114181 is not available or not complete\n",
      "epsd2/admin/u3adm/P414523 is not available or not complete\n",
      "epsd2/admin/u3adm/P268222 is not available or not complete\n",
      "epsd2/admin/u3adm/P114151 is not available or not complete\n"
     ]
    },
    {
     "name": "stderr",
     "output_type": "stream",
     "text": [
      " 28%|██▊       | 19909/71496 [00:32<01:49, 470.10it/s]"
     ]
    },
    {
     "name": "stdout",
     "output_type": "stream",
     "text": [
      "epsd2/admin/u3adm/P109103 is not available or not complete\n",
      "epsd2/admin/u3adm/P511878 is not available or not complete\n"
     ]
    },
    {
     "name": "stderr",
     "output_type": "stream",
     "text": [
      " 28%|██▊       | 20148/71496 [00:33<01:53, 452.97it/s]"
     ]
    },
    {
     "name": "stdout",
     "output_type": "stream",
     "text": [
      "epsd2/admin/u3adm/P511919 is not available or not complete\n"
     ]
    },
    {
     "name": "stderr",
     "output_type": "stream",
     "text": [
      " 29%|██▊       | 20383/71496 [00:33<01:54, 447.38it/s]"
     ]
    },
    {
     "name": "stdout",
     "output_type": "stream",
     "text": [
      "epsd2/admin/u3adm/P414528 is not available or not complete\n"
     ]
    },
    {
     "name": "stderr",
     "output_type": "stream",
     "text": [
      " 29%|██▉       | 20574/71496 [00:33<01:50, 461.92it/s]"
     ]
    },
    {
     "name": "stdout",
     "output_type": "stream",
     "text": [
      "epsd2/admin/u3adm/P511975 is not available or not complete\n",
      "epsd2/admin/u3adm/P476088 is not available or not complete\n"
     ]
    },
    {
     "name": "stderr",
     "output_type": "stream",
     "text": [
      " 29%|██▉       | 20668/71496 [00:34<01:53, 448.86it/s]"
     ]
    },
    {
     "name": "stdout",
     "output_type": "stream",
     "text": [
      "epsd2/admin/u3adm/P430672 is not available or not complete\n",
      "epsd2/admin/u3adm/P511927 is not available or not complete\n"
     ]
    },
    {
     "name": "stderr",
     "output_type": "stream",
     "text": [
      " 29%|██▉       | 20761/71496 [00:34<01:53, 447.12it/s]"
     ]
    },
    {
     "name": "stdout",
     "output_type": "stream",
     "text": [
      "epsd2/admin/u3adm/P511974 is not available or not complete\n"
     ]
    },
    {
     "name": "stderr",
     "output_type": "stream",
     "text": [
      " 29%|██▉       | 20850/71496 [00:34<01:58, 426.20it/s]"
     ]
    },
    {
     "name": "stdout",
     "output_type": "stream",
     "text": [
      "epsd2/admin/u3adm/P511439 is not available or not complete\n"
     ]
    },
    {
     "name": "stderr",
     "output_type": "stream",
     "text": [
      " 29%|██▉       | 20977/71496 [00:34<02:04, 404.38it/s]"
     ]
    },
    {
     "name": "stdout",
     "output_type": "stream",
     "text": [
      "epsd2/admin/u3adm/P511917 is not available or not complete\n",
      "epsd2/admin/u3adm/P478301 is not available or not complete\n"
     ]
    },
    {
     "name": "stderr",
     "output_type": "stream",
     "text": [
      " 30%|██▉       | 21268/71496 [00:35<02:08, 389.83it/s]"
     ]
    },
    {
     "name": "stdout",
     "output_type": "stream",
     "text": [
      "epsd2/admin/u3adm/P511582 is not available or not complete\n",
      "epsd2/admin/u3adm/P109114 is not available or not complete\n"
     ]
    },
    {
     "name": "stderr",
     "output_type": "stream",
     "text": [
      " 30%|███       | 21523/71496 [00:36<02:02, 408.12it/s]"
     ]
    },
    {
     "name": "stdout",
     "output_type": "stream",
     "text": [
      "epsd2/admin/u3adm/P474541 is not available or not complete\n"
     ]
    },
    {
     "name": "stderr",
     "output_type": "stream",
     "text": [
      " 30%|███       | 21734/71496 [00:36<01:59, 414.72it/s]"
     ]
    },
    {
     "name": "stdout",
     "output_type": "stream",
     "text": [
      "epsd2/admin/u3adm/P511928 is not available or not complete\n"
     ]
    },
    {
     "name": "stderr",
     "output_type": "stream",
     "text": [
      " 31%|███       | 21942/71496 [00:37<02:00, 411.57it/s]"
     ]
    },
    {
     "name": "stdout",
     "output_type": "stream",
     "text": [
      "epsd2/admin/u3adm/P103285 is not available or not complete\n"
     ]
    },
    {
     "name": "stderr",
     "output_type": "stream",
     "text": [
      " 31%|███       | 22106/71496 [00:37<02:08, 383.74it/s]"
     ]
    },
    {
     "name": "stdout",
     "output_type": "stream",
     "text": [
      "epsd2/admin/u3adm/P432386 is not available or not complete\n"
     ]
    },
    {
     "name": "stderr",
     "output_type": "stream",
     "text": [
      " 31%|███       | 22259/71496 [00:38<02:42, 302.36it/s]"
     ]
    },
    {
     "name": "stdout",
     "output_type": "stream",
     "text": [
      "epsd2/admin/u3adm/P109100 is not available or not complete\n",
      "epsd2/admin/u3adm/P511950 is not available or not complete\n"
     ]
    },
    {
     "name": "stderr",
     "output_type": "stream",
     "text": [
      " 31%|███▏      | 22377/71496 [00:38<02:18, 355.04it/s]"
     ]
    },
    {
     "name": "stdout",
     "output_type": "stream",
     "text": [
      "epsd2/admin/u3adm/P511579 is not available or not complete\n"
     ]
    },
    {
     "name": "stderr",
     "output_type": "stream",
     "text": [
      " 32%|███▏      | 22582/71496 [00:39<02:02, 398.54it/s]"
     ]
    },
    {
     "name": "stdout",
     "output_type": "stream",
     "text": [
      "epsd2/admin/u3adm/P414552 is not available or not complete\n"
     ]
    },
    {
     "name": "stderr",
     "output_type": "stream",
     "text": [
      " 32%|███▏      | 22781/71496 [00:39<02:08, 377.81it/s]"
     ]
    },
    {
     "name": "stdout",
     "output_type": "stream",
     "text": [
      "epsd2/admin/u3adm/P511431 is not available or not complete\n",
      "epsd2/admin/u3adm/P249240 is not available or not complete\n"
     ]
    },
    {
     "name": "stderr",
     "output_type": "stream",
     "text": [
      " 32%|███▏      | 23083/71496 [00:40<02:03, 393.39it/s]"
     ]
    },
    {
     "name": "stdout",
     "output_type": "stream",
     "text": [
      "epsd2/admin/u3adm/P114103 is not available or not complete\n"
     ]
    },
    {
     "name": "stderr",
     "output_type": "stream",
     "text": [
      " 32%|███▏      | 23164/71496 [00:40<02:03, 392.70it/s]"
     ]
    },
    {
     "name": "stdout",
     "output_type": "stream",
     "text": [
      "epsd2/admin/u3adm/P114106 is not available or not complete\n",
      "epsd2/admin/u3adm/P414562 is not available or not complete\n",
      "epsd2/admin/u3adm/P476057 is not available or not complete\n",
      "epsd2/admin/u3adm/P512157 is not available or not complete\n"
     ]
    },
    {
     "name": "stderr",
     "output_type": "stream",
     "text": [
      " 33%|███▎      | 23329/71496 [00:41<02:00, 399.81it/s]"
     ]
    },
    {
     "name": "stdout",
     "output_type": "stream",
     "text": [
      "epsd2/admin/u3adm/P476077 is not available or not complete\n"
     ]
    },
    {
     "name": "stderr",
     "output_type": "stream",
     "text": [
      " 33%|███▎      | 23531/71496 [00:41<02:04, 385.24it/s]"
     ]
    },
    {
     "name": "stdout",
     "output_type": "stream",
     "text": [
      "epsd2/admin/u3adm/P512100 is not available or not complete\n",
      "epsd2/admin/u3adm/P144092 is not available or not complete\n"
     ]
    },
    {
     "name": "stderr",
     "output_type": "stream",
     "text": [
      " 33%|███▎      | 23610/71496 [00:41<02:05, 381.76it/s]"
     ]
    },
    {
     "name": "stdout",
     "output_type": "stream",
     "text": [
      "epsd2/admin/u3adm/P512185 is not available or not complete\n",
      "epsd2/admin/u3adm/P478299 is not available or not complete\n"
     ]
    },
    {
     "name": "stderr",
     "output_type": "stream",
     "text": [
      " 33%|███▎      | 23853/71496 [00:42<02:00, 395.64it/s]"
     ]
    },
    {
     "name": "stdout",
     "output_type": "stream",
     "text": [
      "epsd2/admin/u3adm/P511960 is not available or not complete\n",
      "epsd2/admin/u3adm/P511965 is not available or not complete\n"
     ]
    },
    {
     "name": "stderr",
     "output_type": "stream",
     "text": [
      " 34%|███▍      | 24132/71496 [00:43<02:00, 391.84it/s]"
     ]
    },
    {
     "name": "stdout",
     "output_type": "stream",
     "text": [
      "epsd2/admin/u3adm/P109090 is not available or not complete\n"
     ]
    },
    {
     "name": "stderr",
     "output_type": "stream",
     "text": [
      " 34%|███▍      | 24288/71496 [00:43<02:13, 353.44it/s]"
     ]
    },
    {
     "name": "stdout",
     "output_type": "stream",
     "text": [
      "epsd2/admin/u3adm/P109089 is not available or not complete\n"
     ]
    },
    {
     "name": "stderr",
     "output_type": "stream",
     "text": [
      " 34%|███▍      | 24431/71496 [00:43<02:17, 341.77it/s]"
     ]
    },
    {
     "name": "stdout",
     "output_type": "stream",
     "text": [
      "epsd2/admin/u3adm/P330479 is not available or not complete\n"
     ]
    },
    {
     "name": "stderr",
     "output_type": "stream",
     "text": [
      " 34%|███▍      | 24622/71496 [00:44<02:06, 370.36it/s]"
     ]
    },
    {
     "name": "stdout",
     "output_type": "stream",
     "text": [
      "epsd2/admin/u3adm/P105537 is not available or not complete\n",
      "epsd2/admin/u3adm/P414555 is not available or not complete\n"
     ]
    },
    {
     "name": "stderr",
     "output_type": "stream",
     "text": [
      " 35%|███▌      | 25041/71496 [00:45<02:02, 379.59it/s]"
     ]
    },
    {
     "name": "stdout",
     "output_type": "stream",
     "text": [
      "epsd2/admin/u3adm/P476084 is not available or not complete\n"
     ]
    },
    {
     "name": "stderr",
     "output_type": "stream",
     "text": [
      " 36%|███▌      | 25448/71496 [00:46<02:11, 349.72it/s]"
     ]
    },
    {
     "name": "stdout",
     "output_type": "stream",
     "text": [
      "epsd2/admin/u3adm/P512149 is not available or not complete\n",
      "epsd2/admin/u3adm/P511943 is not available or not complete\n"
     ]
    },
    {
     "name": "stderr",
     "output_type": "stream",
     "text": [
      " 36%|███▌      | 25561/71496 [00:47<02:06, 362.94it/s]"
     ]
    },
    {
     "name": "stdout",
     "output_type": "stream",
     "text": [
      "epsd2/admin/u3adm/P114185 is not available or not complete\n",
      "epsd2/admin/u3adm/P476058 is not available or not complete\n",
      "epsd2/admin/u3adm/P512106 is not available or not complete\n"
     ]
    },
    {
     "name": "stderr",
     "output_type": "stream",
     "text": [
      " 36%|███▌      | 25637/71496 [00:47<02:04, 369.61it/s]"
     ]
    },
    {
     "name": "stdout",
     "output_type": "stream",
     "text": [
      "epsd2/admin/u3adm/P511464 is not available or not complete\n",
      "epsd2/admin/u3adm/P330391 is not available or not complete\n",
      "epsd2/admin/u3adm/P331094 is not available or not complete\n"
     ]
    },
    {
     "name": "stderr",
     "output_type": "stream",
     "text": [
      " 36%|███▌      | 25790/71496 [00:47<02:06, 362.43it/s]"
     ]
    },
    {
     "name": "stdout",
     "output_type": "stream",
     "text": [
      "epsd2/admin/u3adm/P478308 is not available or not complete\n"
     ]
    },
    {
     "name": "stderr",
     "output_type": "stream",
     "text": [
      " 37%|███▋      | 26259/71496 [00:49<02:52, 262.44it/s]"
     ]
    },
    {
     "name": "stdout",
     "output_type": "stream",
     "text": [
      "epsd2/admin/u3adm/P474529 is not available or not complete\n"
     ]
    },
    {
     "name": "stderr",
     "output_type": "stream",
     "text": [
      " 37%|███▋      | 26406/71496 [00:49<02:17, 327.84it/s]"
     ]
    },
    {
     "name": "stdout",
     "output_type": "stream",
     "text": [
      "epsd2/admin/u3adm/P511880 is not available or not complete\n"
     ]
    },
    {
     "name": "stderr",
     "output_type": "stream",
     "text": [
      " 37%|███▋      | 26736/71496 [00:50<02:10, 343.70it/s]"
     ]
    },
    {
     "name": "stdout",
     "output_type": "stream",
     "text": [
      "epsd2/admin/u3adm/P511448 is not available or not complete\n"
     ]
    },
    {
     "name": "stderr",
     "output_type": "stream",
     "text": [
      " 38%|███▊      | 26876/71496 [00:51<02:17, 325.53it/s]"
     ]
    },
    {
     "name": "stdout",
     "output_type": "stream",
     "text": [
      "epsd2/admin/u3adm/P474536 is not available or not complete\n"
     ]
    },
    {
     "name": "stderr",
     "output_type": "stream",
     "text": [
      " 38%|███▊      | 27049/71496 [00:51<02:12, 336.65it/s]"
     ]
    },
    {
     "name": "stdout",
     "output_type": "stream",
     "text": [
      "epsd2/admin/u3adm/P511410 is not available or not complete\n"
     ]
    },
    {
     "name": "stderr",
     "output_type": "stream",
     "text": [
      " 38%|███▊      | 27158/71496 [00:51<02:06, 350.54it/s]"
     ]
    },
    {
     "name": "stdout",
     "output_type": "stream",
     "text": [
      "epsd2/admin/u3adm/P109113 is not available or not complete\n"
     ]
    },
    {
     "name": "stderr",
     "output_type": "stream",
     "text": [
      " 38%|███▊      | 27265/71496 [00:52<02:08, 345.13it/s]"
     ]
    },
    {
     "name": "stdout",
     "output_type": "stream",
     "text": [
      "epsd2/admin/u3adm/P500140 is not available or not complete\n"
     ]
    },
    {
     "name": "stderr",
     "output_type": "stream",
     "text": [
      " 38%|███▊      | 27408/71496 [00:52<02:09, 341.08it/s]"
     ]
    },
    {
     "name": "stdout",
     "output_type": "stream",
     "text": [
      "epsd2/admin/u3adm/P105305 is not available or not complete\n",
      "epsd2/admin/u3adm/P478290 is not available or not complete\n"
     ]
    },
    {
     "name": "stderr",
     "output_type": "stream",
     "text": [
      " 39%|███▊      | 27588/71496 [00:53<02:06, 347.29it/s]"
     ]
    },
    {
     "name": "stdout",
     "output_type": "stream",
     "text": [
      "epsd2/admin/u3adm/P114105 is not available or not complete\n"
     ]
    },
    {
     "name": "stderr",
     "output_type": "stream",
     "text": [
      " 39%|███▊      | 27659/71496 [00:53<02:07, 344.60it/s]"
     ]
    },
    {
     "name": "stdout",
     "output_type": "stream",
     "text": [
      "epsd2/admin/u3adm/P331645 is not available or not complete\n",
      "epsd2/admin/u3adm/P414530 is not available or not complete\n"
     ]
    },
    {
     "name": "stderr",
     "output_type": "stream",
     "text": [
      " 39%|███▉      | 27768/71496 [00:53<02:06, 344.95it/s]"
     ]
    },
    {
     "name": "stdout",
     "output_type": "stream",
     "text": [
      "epsd2/admin/u3adm/P512109 is not available or not complete\n",
      "epsd2/admin/u3adm/P511853 is not available or not complete\n"
     ]
    },
    {
     "name": "stderr",
     "output_type": "stream",
     "text": [
      " 39%|███▉      | 28046/71496 [00:54<02:09, 335.49it/s]"
     ]
    },
    {
     "name": "stdout",
     "output_type": "stream",
     "text": [
      "epsd2/admin/u3adm/P511961 is not available or not complete\n",
      "epsd2/admin/u3adm/P511453 is not available or not complete\n",
      "epsd2/admin/u3adm/P129994 is not available or not complete\n"
     ]
    },
    {
     "name": "stderr",
     "output_type": "stream",
     "text": [
      " 39%|███▉      | 28157/71496 [00:54<02:02, 355.12it/s]"
     ]
    },
    {
     "name": "stdout",
     "output_type": "stream",
     "text": [
      "epsd2/admin/u3adm/P478296 is not available or not complete\n",
      "epsd2/admin/u3adm/P478305 is not available or not complete\n"
     ]
    },
    {
     "name": "stderr",
     "output_type": "stream",
     "text": [
      " 40%|███▉      | 28411/71496 [00:55<02:02, 351.94it/s]"
     ]
    },
    {
     "name": "stdout",
     "output_type": "stream",
     "text": [
      "epsd2/admin/u3adm/P512115 is not available or not complete\n",
      "epsd2/admin/u3adm/P512099 is not available or not complete\n"
     ]
    },
    {
     "name": "stderr",
     "output_type": "stream",
     "text": [
      " 40%|████      | 28662/71496 [00:56<02:02, 350.18it/s]"
     ]
    },
    {
     "name": "stdout",
     "output_type": "stream",
     "text": [
      "epsd2/admin/u3adm/P512160 is not available or not complete\n",
      "epsd2/admin/u3adm/P476055 is not available or not complete\n"
     ]
    },
    {
     "name": "stderr",
     "output_type": "stream",
     "text": [
      " 40%|████      | 28931/71496 [00:57<02:35, 273.71it/s]"
     ]
    },
    {
     "name": "stdout",
     "output_type": "stream",
     "text": [
      "epsd2/admin/u3adm/P414563 is not available or not complete\n",
      "epsd2/admin/u3adm/P322406 is not available or not complete\n",
      "epsd2/admin/u3adm/P139506 is not available or not complete\n"
     ]
    },
    {
     "name": "stderr",
     "output_type": "stream",
     "text": [
      " 41%|████      | 29098/71496 [00:57<02:11, 321.95it/s]"
     ]
    },
    {
     "name": "stdout",
     "output_type": "stream",
     "text": [
      "epsd2/admin/u3adm/P511629 is not available or not complete\n"
     ]
    },
    {
     "name": "stderr",
     "output_type": "stream",
     "text": [
      " 41%|████      | 29452/71496 [00:58<02:02, 343.55it/s]"
     ]
    },
    {
     "name": "stdout",
     "output_type": "stream",
     "text": [
      "epsd2/admin/u3adm/P109080 is not available or not complete\n"
     ]
    },
    {
     "name": "stderr",
     "output_type": "stream",
     "text": [
      " 41%|████▏     | 29667/71496 [00:59<02:03, 338.27it/s]"
     ]
    },
    {
     "name": "stdout",
     "output_type": "stream",
     "text": [
      "epsd2/admin/u3adm/P511910 is not available or not complete\n",
      "epsd2/admin/u3adm/P109095 is not available or not complete\n"
     ]
    },
    {
     "name": "stderr",
     "output_type": "stream",
     "text": [
      " 42%|████▏     | 29842/71496 [00:59<02:05, 332.64it/s]"
     ]
    },
    {
     "name": "stdout",
     "output_type": "stream",
     "text": [
      "epsd2/admin/u3adm/P476087 is not available or not complete\n"
     ]
    },
    {
     "name": "stderr",
     "output_type": "stream",
     "text": [
      " 42%|████▏     | 29945/71496 [01:00<02:04, 333.24it/s]"
     ]
    },
    {
     "name": "stdout",
     "output_type": "stream",
     "text": [
      "epsd2/admin/u3adm/P114148 is not available or not complete\n",
      "epsd2/admin/u3adm/P512145 is not available or not complete\n",
      "epsd2/admin/u3adm/P511416 is not available or not complete\n"
     ]
    },
    {
     "name": "stderr",
     "output_type": "stream",
     "text": [
      " 42%|████▏     | 30046/71496 [01:00<02:09, 320.79it/s]"
     ]
    },
    {
     "name": "stdout",
     "output_type": "stream",
     "text": [
      "epsd2/admin/u3adm/P109097 is not available or not complete\n",
      "epsd2/admin/u3adm/P511865 is not available or not complete\n"
     ]
    },
    {
     "name": "stderr",
     "output_type": "stream",
     "text": [
      " 42%|████▏     | 30355/71496 [01:01<02:05, 328.85it/s]"
     ]
    },
    {
     "name": "stdout",
     "output_type": "stream",
     "text": [
      "epsd2/admin/u3adm/P474551 is not available or not complete\n",
      "epsd2/admin/u3adm/P511614 is not available or not complete\n"
     ]
    },
    {
     "name": "stderr",
     "output_type": "stream",
     "text": [
      " 43%|████▎     | 30563/71496 [01:02<02:04, 327.96it/s]"
     ]
    },
    {
     "name": "stdout",
     "output_type": "stream",
     "text": [
      "epsd2/admin/u3adm/P512148 is not available or not complete\n",
      "epsd2/admin/u3adm/P474553 is not available or not complete\n"
     ]
    },
    {
     "name": "stderr",
     "output_type": "stream",
     "text": [
      " 43%|████▎     | 30629/71496 [01:02<02:08, 317.53it/s]"
     ]
    },
    {
     "name": "stdout",
     "output_type": "stream",
     "text": [
      "epsd2/admin/u3adm/P512130 is not available or not complete\n",
      "epsd2/admin/u3adm/P105297 is not available or not complete\n",
      "epsd2/admin/u3adm/P511985 is not available or not complete\n"
     ]
    },
    {
     "name": "stderr",
     "output_type": "stream",
     "text": [
      " 43%|████▎     | 30726/71496 [01:02<02:10, 313.37it/s]"
     ]
    },
    {
     "name": "stdout",
     "output_type": "stream",
     "text": [
      "epsd2/admin/u3adm/P109118 is not available or not complete\n",
      "epsd2/admin/u3adm/P511456 is not available or not complete\n",
      "epsd2/admin/u3adm/P414524 is not available or not complete\n"
     ]
    },
    {
     "name": "stderr",
     "output_type": "stream",
     "text": [
      " 44%|████▍     | 31362/71496 [01:04<01:59, 336.72it/s]"
     ]
    },
    {
     "name": "stdout",
     "output_type": "stream",
     "text": [
      "epsd2/admin/u3adm/P113246 is not available or not complete\n",
      "epsd2/admin/u3adm/P248913 is not available or not complete\n",
      "epsd2/admin/u3adm/P511630 is not available or not complete\n"
     ]
    },
    {
     "name": "stderr",
     "output_type": "stream",
     "text": [
      " 44%|████▍     | 31467/71496 [01:04<01:58, 337.09it/s]"
     ]
    },
    {
     "name": "stdout",
     "output_type": "stream",
     "text": [
      "epsd2/admin/u3adm/P474549 is not available or not complete\n",
      "epsd2/admin/u3adm/P511954 is not available or not complete\n",
      "epsd2/admin/u3adm/P249111 is not available or not complete\n",
      "epsd2/admin/u3adm/P414566 is not available or not complete\n"
     ]
    },
    {
     "name": "stderr",
     "output_type": "stream",
     "text": [
      " 44%|████▍     | 31568/71496 [01:05<02:02, 326.98it/s]"
     ]
    },
    {
     "name": "stdout",
     "output_type": "stream",
     "text": [
      "epsd2/admin/u3adm/P109111 is not available or not complete\n",
      "epsd2/admin/u3adm/P512127 is not available or not complete\n"
     ]
    },
    {
     "name": "stderr",
     "output_type": "stream",
     "text": [
      " 44%|████▍     | 31668/71496 [01:05<02:03, 322.81it/s]"
     ]
    },
    {
     "name": "stdout",
     "output_type": "stream",
     "text": [
      "epsd2/admin/u3adm/P476053 is not available or not complete\n",
      "epsd2/admin/u3adm/P511415 is not available or not complete\n"
     ]
    },
    {
     "name": "stderr",
     "output_type": "stream",
     "text": [
      " 44%|████▍     | 31768/71496 [01:05<02:03, 321.99it/s]"
     ]
    },
    {
     "name": "stdout",
     "output_type": "stream",
     "text": [
      "epsd2/admin/u3adm/P112316 is not available or not complete\n"
     ]
    },
    {
     "name": "stderr",
     "output_type": "stream",
     "text": [
      " 45%|████▍     | 31833/71496 [01:06<02:20, 282.74it/s]"
     ]
    },
    {
     "name": "stdout",
     "output_type": "stream",
     "text": [
      "epsd2/admin/u3adm/P477696 is not available or not complete\n",
      "epsd2/admin/u3adm/P109127 is not available or not complete\n"
     ]
    },
    {
     "name": "stderr",
     "output_type": "stream",
     "text": [
      " 45%|████▍     | 31996/71496 [01:06<02:04, 317.53it/s]"
     ]
    },
    {
     "name": "stdout",
     "output_type": "stream",
     "text": [
      "epsd2/admin/u3adm/P512091 is not available or not complete\n",
      "epsd2/admin/u3adm/P114146 is not available or not complete\n",
      "epsd2/admin/u3adm/P511404 is not available or not complete\n",
      "epsd2/admin/u3adm/P332487 is not available or not complete\n"
     ]
    },
    {
     "name": "stderr",
     "output_type": "stream",
     "text": [
      " 45%|████▍     | 32060/71496 [01:06<02:06, 311.17it/s]"
     ]
    },
    {
     "name": "stdout",
     "output_type": "stream",
     "text": [
      "epsd2/admin/u3adm/P474555 is not available or not complete\n"
     ]
    },
    {
     "name": "stderr",
     "output_type": "stream",
     "text": [
      " 45%|████▌     | 32183/71496 [01:07<02:35, 252.71it/s]"
     ]
    },
    {
     "name": "stdout",
     "output_type": "stream",
     "text": [
      "epsd2/admin/u3adm/P476079 is not available or not complete\n"
     ]
    },
    {
     "name": "stderr",
     "output_type": "stream",
     "text": [
      " 45%|████▌     | 32314/71496 [01:07<02:11, 297.89it/s]"
     ]
    },
    {
     "name": "stdout",
     "output_type": "stream",
     "text": [
      "epsd2/admin/u3adm/P109122 is not available or not complete\n"
     ]
    },
    {
     "name": "stderr",
     "output_type": "stream",
     "text": [
      " 45%|████▌     | 32409/71496 [01:08<02:11, 297.77it/s]"
     ]
    },
    {
     "name": "stdout",
     "output_type": "stream",
     "text": [
      "epsd2/admin/u3adm/P512125 is not available or not complete\n"
     ]
    },
    {
     "name": "stderr",
     "output_type": "stream",
     "text": [
      " 46%|████▌     | 32542/71496 [01:08<02:03, 314.81it/s]"
     ]
    },
    {
     "name": "stdout",
     "output_type": "stream",
     "text": [
      "epsd2/admin/u3adm/P512143 is not available or not complete\n",
      "epsd2/admin/u3adm/P478310 is not available or not complete\n"
     ]
    },
    {
     "name": "stderr",
     "output_type": "stream",
     "text": [
      " 46%|████▌     | 32639/71496 [01:08<02:07, 305.86it/s]"
     ]
    },
    {
     "name": "stdout",
     "output_type": "stream",
     "text": [
      "epsd2/admin/u3adm/P511958 is not available or not complete\n"
     ]
    },
    {
     "name": "stderr",
     "output_type": "stream",
     "text": [
      " 46%|████▋     | 33136/71496 [01:10<01:59, 320.15it/s]"
     ]
    },
    {
     "name": "stdout",
     "output_type": "stream",
     "text": [
      "epsd2/admin/u3adm/P511440 is not available or not complete\n",
      "epsd2/admin/u3adm/P477694 is not available or not complete\n",
      "epsd2/admin/u3adm/P511984 is not available or not complete\n"
     ]
    },
    {
     "name": "stderr",
     "output_type": "stream",
     "text": [
      " 47%|████▋     | 33335/71496 [01:11<01:58, 323.10it/s]"
     ]
    },
    {
     "name": "stdout",
     "output_type": "stream",
     "text": [
      "epsd2/admin/u3adm/P477693 is not available or not complete\n",
      "epsd2/admin/u3adm/P511474 is not available or not complete\n"
     ]
    },
    {
     "name": "stderr",
     "output_type": "stream",
     "text": [
      " 47%|████▋     | 33401/71496 [01:11<01:58, 321.43it/s]"
     ]
    },
    {
     "name": "stdout",
     "output_type": "stream",
     "text": [
      "epsd2/admin/u3adm/P478278 is not available or not complete\n",
      "epsd2/admin/u3adm/P414522 is not available or not complete\n"
     ]
    },
    {
     "name": "stderr",
     "output_type": "stream",
     "text": [
      " 47%|████▋     | 33534/71496 [01:11<02:01, 311.60it/s]"
     ]
    },
    {
     "name": "stdout",
     "output_type": "stream",
     "text": [
      "epsd2/admin/u3adm/P454532 is not available or not complete\n",
      "epsd2/admin/u3adm/P430677 is not available or not complete\n"
     ]
    },
    {
     "name": "stderr",
     "output_type": "stream",
     "text": [
      " 47%|████▋     | 33878/71496 [01:12<02:03, 304.05it/s]"
     ]
    },
    {
     "name": "stdout",
     "output_type": "stream",
     "text": [
      "epsd2/admin/u3adm/P105310 is not available or not complete\n",
      "epsd2/admin/u3adm/P511977 is not available or not complete\n"
     ]
    },
    {
     "name": "stderr",
     "output_type": "stream",
     "text": [
      " 48%|████▊     | 33972/71496 [01:13<02:05, 298.34it/s]"
     ]
    },
    {
     "name": "stdout",
     "output_type": "stream",
     "text": [
      "epsd2/admin/u3adm/P414551 is not available or not complete\n"
     ]
    },
    {
     "name": "stderr",
     "output_type": "stream",
     "text": [
      " 48%|████▊     | 34092/71496 [01:13<02:07, 292.83it/s]"
     ]
    },
    {
     "name": "stdout",
     "output_type": "stream",
     "text": [
      "epsd2/admin/u3adm/P114182 is not available or not complete\n",
      "epsd2/admin/u3adm/P511599 is not available or not complete\n"
     ]
    },
    {
     "name": "stderr",
     "output_type": "stream",
     "text": [
      " 48%|████▊     | 34182/71496 [01:13<02:13, 279.14it/s]"
     ]
    },
    {
     "name": "stdout",
     "output_type": "stream",
     "text": [
      "epsd2/admin/u3adm/P511918 is not available or not complete\n",
      "epsd2/admin/u3adm/P511581 is not available or not complete\n"
     ]
    },
    {
     "name": "stderr",
     "output_type": "stream",
     "text": [
      " 48%|████▊     | 34275/71496 [01:14<02:04, 297.78it/s]"
     ]
    },
    {
     "name": "stdout",
     "output_type": "stream",
     "text": [
      "epsd2/admin/u3adm/P414520 is not available or not complete\n"
     ]
    },
    {
     "name": "stderr",
     "output_type": "stream",
     "text": [
      " 48%|████▊     | 34429/71496 [01:14<02:06, 293.20it/s]"
     ]
    },
    {
     "name": "stdout",
     "output_type": "stream",
     "text": [
      "epsd2/admin/u3adm/P105362 is not available or not complete\n",
      "epsd2/admin/u3adm/P478281 is not available or not complete\n"
     ]
    },
    {
     "name": "stderr",
     "output_type": "stream",
     "text": [
      " 48%|████▊     | 34650/71496 [01:15<01:57, 312.74it/s]"
     ]
    },
    {
     "name": "stdout",
     "output_type": "stream",
     "text": [
      "epsd2/admin/u3adm/P511602 is not available or not complete\n",
      "epsd2/admin/u3adm/P511930 is not available or not complete\n",
      "epsd2/admin/u3adm/P477687 is not available or not complete\n"
     ]
    },
    {
     "name": "stderr",
     "output_type": "stream",
     "text": [
      " 49%|████▉     | 34991/71496 [01:16<02:05, 290.74it/s]"
     ]
    },
    {
     "name": "stdout",
     "output_type": "stream",
     "text": [
      "epsd2/admin/u3adm/P511920 is not available or not complete\n",
      "epsd2/admin/u3adm/P511964 is not available or not complete\n"
     ]
    },
    {
     "name": "stderr",
     "output_type": "stream",
     "text": [
      " 49%|████▉     | 35143/71496 [01:17<02:01, 298.24it/s]"
     ]
    },
    {
     "name": "stdout",
     "output_type": "stream",
     "text": [
      "epsd2/admin/u3adm/P476081 is not available or not complete\n"
     ]
    },
    {
     "name": "stderr",
     "output_type": "stream",
     "text": [
      " 49%|████▉     | 35325/71496 [01:17<02:12, 272.66it/s]"
     ]
    },
    {
     "name": "stdout",
     "output_type": "stream",
     "text": [
      "epsd2/admin/u3adm/P511957 is not available or not complete\n"
     ]
    },
    {
     "name": "stderr",
     "output_type": "stream",
     "text": [
      " 50%|████▉     | 35510/71496 [01:18<02:11, 274.03it/s]"
     ]
    },
    {
     "name": "stdout",
     "output_type": "stream",
     "text": [
      "epsd2/admin/u3adm/P511546 is not available or not complete\n"
     ]
    },
    {
     "name": "stderr",
     "output_type": "stream",
     "text": [
      " 50%|████▉     | 35605/71496 [01:18<02:01, 295.91it/s]"
     ]
    },
    {
     "name": "stdout",
     "output_type": "stream",
     "text": [
      "epsd2/admin/u3adm/P511981 is not available or not complete\n"
     ]
    },
    {
     "name": "stderr",
     "output_type": "stream",
     "text": [
      " 50%|█████     | 35915/71496 [01:19<02:03, 287.36it/s]"
     ]
    },
    {
     "name": "stdout",
     "output_type": "stream",
     "text": [
      "epsd2/admin/u3adm/P511450 is not available or not complete\n",
      "epsd2/admin/u3adm/P114179 is not available or not complete\n"
     ]
    },
    {
     "name": "stderr",
     "output_type": "stream",
     "text": [
      " 50%|█████     | 36092/71496 [01:20<02:05, 282.89it/s]"
     ]
    },
    {
     "name": "stdout",
     "output_type": "stream",
     "text": [
      "epsd2/admin/u3adm/P511594 is not available or not complete\n",
      "epsd2/admin/u3adm/P361749 is not available or not complete\n"
     ]
    },
    {
     "name": "stderr",
     "output_type": "stream",
     "text": [
      " 51%|█████     | 36215/71496 [01:20<02:02, 287.60it/s]"
     ]
    },
    {
     "name": "stdout",
     "output_type": "stream",
     "text": [
      "epsd2/admin/u3adm/P476070 is not available or not complete\n",
      "epsd2/admin/u3adm/P114150 is not available or not complete\n",
      "epsd2/admin/u3adm/P476072 is not available or not complete\n"
     ]
    },
    {
     "name": "stderr",
     "output_type": "stream",
     "text": [
      " 51%|█████     | 36613/71496 [01:22<01:58, 294.01it/s]"
     ]
    },
    {
     "name": "stdout",
     "output_type": "stream",
     "text": [
      "epsd2/admin/u3adm/P109128 is not available or not complete\n"
     ]
    },
    {
     "name": "stderr",
     "output_type": "stream",
     "text": [
      " 52%|█████▏    | 37169/71496 [01:24<02:02, 280.13it/s]"
     ]
    },
    {
     "name": "stdout",
     "output_type": "stream",
     "text": [
      "epsd2/admin/u3adm/P511929 is not available or not complete\n"
     ]
    },
    {
     "name": "stderr",
     "output_type": "stream",
     "text": [
      " 52%|█████▏    | 37229/71496 [01:24<01:58, 288.10it/s]"
     ]
    },
    {
     "name": "stdout",
     "output_type": "stream",
     "text": [
      "epsd2/admin/u3adm/P511578 is not available or not complete\n"
     ]
    },
    {
     "name": "stderr",
     "output_type": "stream",
     "text": [
      " 52%|█████▏    | 37320/71496 [01:24<01:56, 293.65it/s]"
     ]
    },
    {
     "name": "stdout",
     "output_type": "stream",
     "text": [
      "epsd2/admin/u3adm/P511542 is not available or not complete\n",
      "epsd2/admin/u3adm/P511858 is not available or not complete\n"
     ]
    },
    {
     "name": "stderr",
     "output_type": "stream",
     "text": [
      " 53%|█████▎    | 37588/71496 [01:25<02:05, 270.09it/s]"
     ]
    },
    {
     "name": "stdout",
     "output_type": "stream",
     "text": [
      "epsd2/admin/u3adm/P511908 is not available or not complete\n"
     ]
    },
    {
     "name": "stderr",
     "output_type": "stream",
     "text": [
      " 53%|█████▎    | 37740/71496 [01:26<01:57, 288.29it/s]"
     ]
    },
    {
     "name": "stdout",
     "output_type": "stream",
     "text": [
      "epsd2/admin/u3adm/P478298 is not available or not complete\n"
     ]
    },
    {
     "name": "stderr",
     "output_type": "stream",
     "text": [
      " 53%|█████▎    | 37860/71496 [01:26<01:54, 292.56it/s]"
     ]
    },
    {
     "name": "stdout",
     "output_type": "stream",
     "text": [
      "epsd2/admin/u3adm/P474554 is not available or not complete\n",
      "epsd2/admin/u3adm/P511874 is not available or not complete\n",
      "epsd2/admin/u3adm/P511904 is not available or not complete\n"
     ]
    },
    {
     "name": "stderr",
     "output_type": "stream",
     "text": [
      " 53%|█████▎    | 38036/71496 [01:27<01:59, 280.16it/s]"
     ]
    },
    {
     "name": "stdout",
     "output_type": "stream",
     "text": [
      "epsd2/admin/u3adm/P512155 is not available or not complete\n"
     ]
    },
    {
     "name": "stderr",
     "output_type": "stream",
     "text": [
      " 53%|█████▎    | 38154/71496 [01:27<01:57, 282.88it/s]"
     ]
    },
    {
     "name": "stdout",
     "output_type": "stream",
     "text": [
      "epsd2/admin/u3adm/P139508 is not available or not complete\n",
      "epsd2/admin/u3adm/P497672 is not available or not complete\n"
     ]
    },
    {
     "name": "stderr",
     "output_type": "stream",
     "text": [
      " 54%|█████▎    | 38392/71496 [01:28<02:33, 215.70it/s]"
     ]
    },
    {
     "name": "stdout",
     "output_type": "stream",
     "text": [
      "epsd2/admin/u3adm/P112317 is not available or not complete\n"
     ]
    },
    {
     "name": "stderr",
     "output_type": "stream",
     "text": [
      " 54%|█████▍    | 38507/71496 [01:29<02:04, 264.43it/s]"
     ]
    },
    {
     "name": "stdout",
     "output_type": "stream",
     "text": [
      "epsd2/admin/u3adm/P511585 is not available or not complete\n"
     ]
    },
    {
     "name": "stderr",
     "output_type": "stream",
     "text": [
      " 54%|█████▍    | 38730/71496 [01:29<02:01, 269.02it/s]"
     ]
    },
    {
     "name": "stdout",
     "output_type": "stream",
     "text": [
      "epsd2/admin/u3adm/P200536 is not available or not complete\n",
      "epsd2/admin/u3adm/P414527 is not available or not complete\n"
     ]
    },
    {
     "name": "stderr",
     "output_type": "stream",
     "text": [
      " 54%|█████▍    | 38817/71496 [01:30<01:56, 280.71it/s]"
     ]
    },
    {
     "name": "stdout",
     "output_type": "stream",
     "text": [
      "epsd2/admin/u3adm/P511855 is not available or not complete\n"
     ]
    },
    {
     "name": "stderr",
     "output_type": "stream",
     "text": [
      " 55%|█████▍    | 38987/71496 [01:30<01:58, 274.08it/s]"
     ]
    },
    {
     "name": "stdout",
     "output_type": "stream",
     "text": [
      "epsd2/admin/u3adm/P103265 is not available or not complete\n"
     ]
    },
    {
     "name": "stderr",
     "output_type": "stream",
     "text": [
      " 55%|█████▍    | 39075/71496 [01:31<01:54, 282.30it/s]"
     ]
    },
    {
     "name": "stdout",
     "output_type": "stream",
     "text": [
      "epsd2/admin/u3adm/P109104 is not available or not complete\n",
      "epsd2/admin/u3adm/P109107 is not available or not complete\n"
     ]
    },
    {
     "name": "stderr",
     "output_type": "stream",
     "text": [
      " 55%|█████▌    | 39517/71496 [01:32<01:56, 275.58it/s]"
     ]
    },
    {
     "name": "stdout",
     "output_type": "stream",
     "text": [
      "epsd2/admin/u3adm/P511549 is not available or not complete\n",
      "epsd2/admin/u3adm/P512123 is not available or not complete\n",
      "epsd2/admin/u3adm/P511986 is not available or not complete\n"
     ]
    },
    {
     "name": "stderr",
     "output_type": "stream",
     "text": [
      " 55%|█████▌    | 39632/71496 [01:33<01:55, 275.46it/s]"
     ]
    },
    {
     "name": "stdout",
     "output_type": "stream",
     "text": [
      "epsd2/admin/u3adm/P474533 is not available or not complete\n",
      "epsd2/admin/u3adm/P430676 is not available or not complete\n",
      "epsd2/admin/u3adm/P511894 is not available or not complete\n"
     ]
    },
    {
     "name": "stderr",
     "output_type": "stream",
     "text": [
      " 56%|█████▌    | 39688/71496 [01:33<01:57, 270.59it/s]"
     ]
    },
    {
     "name": "stdout",
     "output_type": "stream",
     "text": [
      "epsd2/admin/u3adm/P474528 is not available or not complete\n"
     ]
    },
    {
     "name": "stderr",
     "output_type": "stream",
     "text": [
      " 56%|█████▌    | 39923/71496 [01:34<01:50, 284.99it/s]"
     ]
    },
    {
     "name": "stdout",
     "output_type": "stream",
     "text": [
      "epsd2/admin/u3adm/P474556 is not available or not complete\n",
      "epsd2/admin/u3adm/P511948 is not available or not complete\n"
     ]
    },
    {
     "name": "stderr",
     "output_type": "stream",
     "text": [
      " 56%|█████▌    | 40070/71496 [01:34<01:51, 281.74it/s]"
     ]
    },
    {
     "name": "stdout",
     "output_type": "stream",
     "text": [
      "epsd2/admin/u3adm/P113879 is not available or not complete\n",
      "epsd2/admin/u3adm/P511967 is not available or not complete\n"
     ]
    },
    {
     "name": "stderr",
     "output_type": "stream",
     "text": [
      " 56%|█████▌    | 40186/71496 [01:35<01:51, 280.87it/s]"
     ]
    },
    {
     "name": "stdout",
     "output_type": "stream",
     "text": [
      "epsd2/admin/u3adm/P511568 is not available or not complete\n",
      "epsd2/admin/u3adm/P109117 is not available or not complete\n"
     ]
    },
    {
     "name": "stderr",
     "output_type": "stream",
     "text": [
      " 56%|█████▋    | 40327/71496 [01:35<01:59, 260.93it/s]"
     ]
    },
    {
     "name": "stdout",
     "output_type": "stream",
     "text": [
      "epsd2/admin/u3adm/P474537 is not available or not complete\n",
      "epsd2/admin/u3adm/P105308 is not available or not complete\n"
     ]
    },
    {
     "name": "stderr",
     "output_type": "stream",
     "text": [
      " 57%|█████▋    | 40468/71496 [01:36<01:52, 276.21it/s]"
     ]
    },
    {
     "name": "stdout",
     "output_type": "stream",
     "text": [
      "epsd2/admin/u3adm/P333132 is not available or not complete\n"
     ]
    },
    {
     "name": "stderr",
     "output_type": "stream",
     "text": [
      " 57%|█████▋    | 40753/71496 [01:37<01:50, 277.61it/s]"
     ]
    },
    {
     "name": "stdout",
     "output_type": "stream",
     "text": [
      "epsd2/admin/u3adm/P511411 is not available or not complete\n"
     ]
    },
    {
     "name": "stderr",
     "output_type": "stream",
     "text": [
      " 58%|█████▊    | 41268/71496 [01:39<01:47, 280.46it/s]"
     ]
    },
    {
     "name": "stdout",
     "output_type": "stream",
     "text": [
      "epsd2/admin/u3adm/P105383 is not available or not complete\n"
     ]
    },
    {
     "name": "stderr",
     "output_type": "stream",
     "text": [
      " 58%|█████▊    | 41438/71496 [01:39<01:51, 268.77it/s]"
     ]
    },
    {
     "name": "stdout",
     "output_type": "stream",
     "text": [
      "epsd2/admin/u3adm/P474527 is not available or not complete\n"
     ]
    },
    {
     "name": "stderr",
     "output_type": "stream",
     "text": [
      " 58%|█████▊    | 41521/71496 [01:40<01:50, 271.27it/s]"
     ]
    },
    {
     "name": "stdout",
     "output_type": "stream",
     "text": [
      "epsd2/admin/u3adm/P414517 is not available or not complete\n"
     ]
    },
    {
     "name": "stderr",
     "output_type": "stream",
     "text": [
      " 58%|█████▊    | 41744/71496 [01:40<01:51, 267.76it/s]"
     ]
    },
    {
     "name": "stdout",
     "output_type": "stream",
     "text": [
      "epsd2/admin/u3adm/P511955 is not available or not complete\n"
     ]
    },
    {
     "name": "stderr",
     "output_type": "stream",
     "text": [
      " 59%|█████▊    | 41936/71496 [01:41<01:49, 269.72it/s]"
     ]
    },
    {
     "name": "stdout",
     "output_type": "stream",
     "text": [
      "epsd2/admin/u3adm/P430671 is not available or not complete\n",
      "epsd2/admin/u3adm/P511490 is not available or not complete\n",
      "epsd2/admin/u3adm/P477699 is not available or not complete\n"
     ]
    },
    {
     "name": "stderr",
     "output_type": "stream",
     "text": [
      " 59%|█████▉    | 42050/71496 [01:42<01:46, 275.26it/s]"
     ]
    },
    {
     "name": "stdout",
     "output_type": "stream",
     "text": [
      "epsd2/admin/u3adm/P478285 is not available or not complete\n"
     ]
    },
    {
     "name": "stderr",
     "output_type": "stream",
     "text": [
      " 59%|█████▉    | 42105/71496 [01:42<01:50, 266.45it/s]"
     ]
    },
    {
     "name": "stdout",
     "output_type": "stream",
     "text": [
      "epsd2/admin/u3adm/P114142 is not available or not complete\n",
      "epsd2/admin/u3adm/P414532 is not available or not complete\n"
     ]
    },
    {
     "name": "stderr",
     "output_type": "stream",
     "text": [
      " 59%|█████▉    | 42216/71496 [01:42<01:47, 271.68it/s]"
     ]
    },
    {
     "name": "stdout",
     "output_type": "stream",
     "text": [
      "epsd2/admin/u3adm/P109085 is not available or not complete\n"
     ]
    },
    {
     "name": "stderr",
     "output_type": "stream",
     "text": [
      " 59%|█████▉    | 42425/71496 [01:43<02:02, 237.86it/s]"
     ]
    },
    {
     "name": "stdout",
     "output_type": "stream",
     "text": [
      "epsd2/admin/u3adm/P511408 is not available or not complete\n",
      "epsd2/admin/u3adm/P474532 is not available or not complete\n"
     ]
    },
    {
     "name": "stderr",
     "output_type": "stream",
     "text": [
      " 60%|█████▉    | 42797/71496 [01:45<01:57, 243.89it/s]"
     ]
    },
    {
     "name": "stdout",
     "output_type": "stream",
     "text": [
      "epsd2/admin/u3adm/P105551 is not available or not complete\n"
     ]
    },
    {
     "name": "stderr",
     "output_type": "stream",
     "text": [
      " 60%|██████    | 43112/71496 [01:46<01:53, 250.49it/s]"
     ]
    },
    {
     "name": "stdout",
     "output_type": "stream",
     "text": [
      "epsd2/admin/u3adm/P511537 is not available or not complete\n"
     ]
    },
    {
     "name": "stderr",
     "output_type": "stream",
     "text": [
      " 60%|██████    | 43193/71496 [01:46<01:49, 258.82it/s]"
     ]
    },
    {
     "name": "stdout",
     "output_type": "stream",
     "text": [
      "epsd2/admin/u3adm/P511959 is not available or not complete\n"
     ]
    },
    {
     "name": "stderr",
     "output_type": "stream",
     "text": [
      " 61%|██████    | 43403/71496 [01:47<01:50, 255.11it/s]"
     ]
    },
    {
     "name": "stdout",
     "output_type": "stream",
     "text": [
      "epsd2/admin/u3adm/P476060 is not available or not complete\n"
     ]
    },
    {
     "name": "stderr",
     "output_type": "stream",
     "text": [
      " 61%|██████    | 43455/71496 [01:47<01:50, 254.24it/s]"
     ]
    },
    {
     "name": "stdout",
     "output_type": "stream",
     "text": [
      "epsd2/admin/u3adm/P476080 is not available or not complete\n"
     ]
    },
    {
     "name": "stderr",
     "output_type": "stream",
     "text": [
      " 61%|██████    | 43610/71496 [01:48<01:53, 245.34it/s]"
     ]
    },
    {
     "name": "stdout",
     "output_type": "stream",
     "text": [
      "epsd2/admin/u3adm/P333130 is not available or not complete\n"
     ]
    },
    {
     "name": "stderr",
     "output_type": "stream",
     "text": [
      " 61%|██████▏   | 43890/71496 [01:49<01:55, 239.28it/s]"
     ]
    },
    {
     "name": "stdout",
     "output_type": "stream",
     "text": [
      "epsd2/admin/u3adm/P105544 is not available or not complete\n"
     ]
    },
    {
     "name": "stderr",
     "output_type": "stream",
     "text": [
      " 62%|██████▏   | 43992/71496 [01:49<01:50, 248.85it/s]"
     ]
    },
    {
     "name": "stdout",
     "output_type": "stream",
     "text": [
      "epsd2/admin/u3adm/P511885 is not available or not complete\n",
      "epsd2/admin/u3adm/P497676 is not available or not complete\n",
      "epsd2/admin/u3adm/P511492 is not available or not complete\n"
     ]
    },
    {
     "name": "stderr",
     "output_type": "stream",
     "text": [
      " 62%|██████▏   | 44119/71496 [01:50<01:52, 243.91it/s]"
     ]
    },
    {
     "name": "stdout",
     "output_type": "stream",
     "text": [
      "epsd2/admin/u3adm/P109124 is not available or not complete\n",
      "epsd2/admin/u3adm/P477700 is not available or not complete\n"
     ]
    },
    {
     "name": "stderr",
     "output_type": "stream",
     "text": [
      " 62%|██████▏   | 44171/71496 [01:50<01:48, 251.47it/s]"
     ]
    },
    {
     "name": "stdout",
     "output_type": "stream",
     "text": [
      "epsd2/admin/u3adm/P109106 is not available or not complete\n",
      "epsd2/admin/u3adm/P105304 is not available or not complete\n"
     ]
    },
    {
     "name": "stderr",
     "output_type": "stream",
     "text": [
      " 62%|██████▏   | 44429/71496 [01:51<01:51, 242.03it/s]"
     ]
    },
    {
     "name": "stdout",
     "output_type": "stream",
     "text": [
      "epsd2/admin/u3adm/P109131 is not available or not complete\n"
     ]
    },
    {
     "name": "stderr",
     "output_type": "stream",
     "text": [
      " 63%|██████▎   | 45072/71496 [01:54<01:40, 262.54it/s]"
     ]
    },
    {
     "name": "stdout",
     "output_type": "stream",
     "text": [
      "epsd2/admin/u3adm/P511970 is not available or not complete\n",
      "epsd2/admin/u3adm/P414559 is not available or not complete\n"
     ]
    },
    {
     "name": "stderr",
     "output_type": "stream",
     "text": [
      " 63%|██████▎   | 45126/71496 [01:54<01:41, 260.11it/s]"
     ]
    },
    {
     "name": "stdout",
     "output_type": "stream",
     "text": [
      "epsd2/admin/u3adm/P511921 is not available or not complete\n"
     ]
    },
    {
     "name": "stderr",
     "output_type": "stream",
     "text": [
      " 63%|██████▎   | 45207/71496 [01:54<01:40, 260.61it/s]"
     ]
    },
    {
     "name": "stdout",
     "output_type": "stream",
     "text": [
      "epsd2/admin/u3adm/P474525 is not available or not complete\n",
      "epsd2/admin/u3adm/P512117 is not available or not complete\n",
      "epsd2/admin/u3adm/P497678 is not available or not complete\n"
     ]
    },
    {
     "name": "stderr",
     "output_type": "stream",
     "text": [
      " 63%|██████▎   | 45260/71496 [01:54<01:43, 254.02it/s]"
     ]
    },
    {
     "name": "stdout",
     "output_type": "stream",
     "text": [
      "epsd2/admin/u3adm/P109081 is not available or not complete\n"
     ]
    },
    {
     "name": "stderr",
     "output_type": "stream",
     "text": [
      " 63%|██████▎   | 45360/71496 [01:55<02:08, 203.12it/s]"
     ]
    },
    {
     "name": "stdout",
     "output_type": "stream",
     "text": [
      "epsd2/admin/u3adm/P114178 is not available or not complete\n"
     ]
    },
    {
     "name": "stderr",
     "output_type": "stream",
     "text": [
      " 64%|██████▎   | 45410/71496 [01:55<02:00, 216.65it/s]"
     ]
    },
    {
     "name": "stdout",
     "output_type": "stream",
     "text": [
      "epsd2/admin/u3adm/P511424 is not available or not complete\n"
     ]
    },
    {
     "name": "stderr",
     "output_type": "stream",
     "text": [
      " 64%|██████▎   | 45537/71496 [01:56<01:46, 243.49it/s]"
     ]
    },
    {
     "name": "stdout",
     "output_type": "stream",
     "text": [
      "epsd2/admin/u3adm/P511426 is not available or not complete\n"
     ]
    },
    {
     "name": "stderr",
     "output_type": "stream",
     "text": [
      " 64%|██████▍   | 45640/71496 [01:56<01:46, 242.16it/s]"
     ]
    },
    {
     "name": "stdout",
     "output_type": "stream",
     "text": [
      "epsd2/admin/u3adm/P511523 is not available or not complete\n"
     ]
    },
    {
     "name": "stderr",
     "output_type": "stream",
     "text": [
      " 64%|██████▍   | 45795/71496 [01:57<01:43, 248.82it/s]"
     ]
    },
    {
     "name": "stdout",
     "output_type": "stream",
     "text": [
      "epsd2/admin/u3adm/P109119 is not available or not complete\n"
     ]
    },
    {
     "name": "stderr",
     "output_type": "stream",
     "text": [
      " 64%|██████▍   | 45920/71496 [01:57<01:46, 239.72it/s]"
     ]
    },
    {
     "name": "stdout",
     "output_type": "stream",
     "text": [
      "epsd2/admin/u3adm/P511483 is not available or not complete\n"
     ]
    },
    {
     "name": "stderr",
     "output_type": "stream",
     "text": [
      " 64%|██████▍   | 45996/71496 [01:58<01:45, 241.18it/s]"
     ]
    },
    {
     "name": "stdout",
     "output_type": "stream",
     "text": [
      "epsd2/admin/u3adm/P511437 is not available or not complete\n"
     ]
    },
    {
     "name": "stderr",
     "output_type": "stream",
     "text": [
      " 65%|██████▍   | 46174/71496 [01:58<01:41, 249.77it/s]"
     ]
    },
    {
     "name": "stdout",
     "output_type": "stream",
     "text": [
      "epsd2/admin/u3adm/P511932 is not available or not complete\n",
      "epsd2/admin/u3adm/P478309 is not available or not complete\n"
     ]
    },
    {
     "name": "stderr",
     "output_type": "stream",
     "text": [
      " 65%|██████▍   | 46303/71496 [01:59<01:42, 245.49it/s]"
     ]
    },
    {
     "name": "stdout",
     "output_type": "stream",
     "text": [
      "epsd2/admin/u3adm/P511953 is not available or not complete\n",
      "epsd2/admin/u3adm/P476051 is not available or not complete\n",
      "epsd2/admin/u3adm/P476075 is not available or not complete\n",
      "epsd2/admin/u3adm/P474552 is not available or not complete\n",
      "epsd2/admin/u3adm/P512126 is not available or not complete\n"
     ]
    },
    {
     "name": "stderr",
     "output_type": "stream",
     "text": [
      " 65%|██████▌   | 46506/71496 [02:00<01:44, 240.22it/s]"
     ]
    },
    {
     "name": "stdout",
     "output_type": "stream",
     "text": [
      "epsd2/admin/u3adm/P511852 is not available or not complete\n"
     ]
    },
    {
     "name": "stderr",
     "output_type": "stream",
     "text": [
      " 65%|██████▌   | 46684/71496 [02:01<01:39, 249.07it/s]"
     ]
    },
    {
     "name": "stdout",
     "output_type": "stream",
     "text": [
      "epsd2/admin/u3adm/P512119 is not available or not complete\n"
     ]
    },
    {
     "name": "stderr",
     "output_type": "stream",
     "text": [
      " 66%|██████▌   | 46836/71496 [02:01<01:43, 238.70it/s]"
     ]
    },
    {
     "name": "stdout",
     "output_type": "stream",
     "text": [
      "epsd2/admin/u3adm/P478288 is not available or not complete\n"
     ]
    },
    {
     "name": "stderr",
     "output_type": "stream",
     "text": [
      " 66%|██████▌   | 46960/71496 [02:02<01:40, 243.84it/s]"
     ]
    },
    {
     "name": "stdout",
     "output_type": "stream",
     "text": [
      "epsd2/admin/u3adm/P109105 is not available or not complete\n"
     ]
    },
    {
     "name": "stderr",
     "output_type": "stream",
     "text": [
      " 66%|██████▌   | 47086/71496 [02:02<01:44, 232.86it/s]"
     ]
    },
    {
     "name": "stdout",
     "output_type": "stream",
     "text": [
      "epsd2/admin/u3adm/P330388 is not available or not complete\n"
     ]
    },
    {
     "name": "stderr",
     "output_type": "stream",
     "text": [
      " 66%|██████▌   | 47159/71496 [02:03<01:44, 232.61it/s]"
     ]
    },
    {
     "name": "stdout",
     "output_type": "stream",
     "text": [
      "epsd2/admin/u3adm/P511536 is not available or not complete\n"
     ]
    },
    {
     "name": "stderr",
     "output_type": "stream",
     "text": [
      " 66%|██████▌   | 47236/71496 [02:03<01:39, 243.34it/s]"
     ]
    },
    {
     "name": "stdout",
     "output_type": "stream",
     "text": [
      "epsd2/admin/u3adm/P476071 is not available or not complete\n"
     ]
    },
    {
     "name": "stderr",
     "output_type": "stream",
     "text": [
      " 66%|██████▋   | 47439/71496 [02:04<01:37, 247.77it/s]"
     ]
    },
    {
     "name": "stdout",
     "output_type": "stream",
     "text": [
      "epsd2/admin/u3adm/P112321 is not available or not complete\n",
      "epsd2/admin/u3adm/P476059 is not available or not complete\n",
      "epsd2/admin/u3adm/P511881 is not available or not complete\n",
      "epsd2/admin/u3adm/P497677 is not available or not complete\n"
     ]
    },
    {
     "name": "stderr",
     "output_type": "stream",
     "text": [
      " 66%|██████▋   | 47539/71496 [02:04<01:40, 239.04it/s]"
     ]
    },
    {
     "name": "stdout",
     "output_type": "stream",
     "text": [
      "epsd2/admin/u3adm/P474543 is not available or not complete\n"
     ]
    },
    {
     "name": "stderr",
     "output_type": "stream",
     "text": [
      " 67%|██████▋   | 47817/71496 [02:05<01:37, 242.46it/s]"
     ]
    },
    {
     "name": "stdout",
     "output_type": "stream",
     "text": [
      "epsd2/admin/u3adm/P511944 is not available or not complete\n"
     ]
    },
    {
     "name": "stderr",
     "output_type": "stream",
     "text": [
      " 67%|██████▋   | 47918/71496 [02:06<01:39, 238.01it/s]"
     ]
    },
    {
     "name": "stdout",
     "output_type": "stream",
     "text": [
      "epsd2/admin/u3adm/P476717 is not available or not complete\n"
     ]
    },
    {
     "name": "stderr",
     "output_type": "stream",
     "text": [
      " 67%|██████▋   | 48043/71496 [02:06<01:36, 242.97it/s]"
     ]
    },
    {
     "name": "stdout",
     "output_type": "stream",
     "text": [
      "epsd2/admin/u3adm/P511971 is not available or not complete\n"
     ]
    },
    {
     "name": "stderr",
     "output_type": "stream",
     "text": [
      " 67%|██████▋   | 48167/71496 [02:07<01:40, 231.77it/s]"
     ]
    },
    {
     "name": "stdout",
     "output_type": "stream",
     "text": [
      "epsd2/admin/u3adm/P109130 is not available or not complete\n"
     ]
    },
    {
     "name": "stderr",
     "output_type": "stream",
     "text": [
      " 68%|██████▊   | 48318/71496 [02:07<01:37, 237.43it/s]"
     ]
    },
    {
     "name": "stdout",
     "output_type": "stream",
     "text": [
      "epsd2/admin/u3adm/P511968 is not available or not complete\n",
      "epsd2/admin/u3adm/P414570 is not available or not complete\n"
     ]
    },
    {
     "name": "stderr",
     "output_type": "stream",
     "text": [
      " 68%|██████▊   | 48487/71496 [02:08<01:38, 234.57it/s]"
     ]
    },
    {
     "name": "stdout",
     "output_type": "stream",
     "text": [
      "epsd2/admin/u3adm/P478302 is not available or not complete\n"
     ]
    },
    {
     "name": "stderr",
     "output_type": "stream",
     "text": [
      " 68%|██████▊   | 48585/71496 [02:09<01:58, 193.23it/s]"
     ]
    },
    {
     "name": "stdout",
     "output_type": "stream",
     "text": [
      "epsd2/admin/u3adm/P512133 is not available or not complete\n"
     ]
    },
    {
     "name": "stderr",
     "output_type": "stream",
     "text": [
      " 69%|██████▊   | 49081/71496 [02:11<01:35, 235.65it/s]"
     ]
    },
    {
     "name": "stdout",
     "output_type": "stream",
     "text": [
      "epsd2/admin/u3adm/P476085 is not available or not complete\n",
      "epsd2/admin/u3adm/P474547 is not available or not complete\n"
     ]
    },
    {
     "name": "stderr",
     "output_type": "stream",
     "text": [
      " 69%|██████▉   | 49329/71496 [02:12<01:30, 243.82it/s]"
     ]
    },
    {
     "name": "stdout",
     "output_type": "stream",
     "text": [
      "epsd2/admin/u3adm/P511942 is not available or not complete\n",
      "epsd2/admin/u3adm/P511429 is not available or not complete\n",
      "epsd2/admin/u3adm/P474546 is not available or not complete\n"
     ]
    },
    {
     "name": "stderr",
     "output_type": "stream",
     "text": [
      " 69%|██████▉   | 49429/71496 [02:12<01:33, 235.78it/s]"
     ]
    },
    {
     "name": "stdout",
     "output_type": "stream",
     "text": [
      "epsd2/admin/u3adm/P476052 is not available or not complete\n"
     ]
    },
    {
     "name": "stderr",
     "output_type": "stream",
     "text": [
      " 69%|██████▉   | 49530/71496 [02:13<01:30, 242.01it/s]"
     ]
    },
    {
     "name": "stdout",
     "output_type": "stream",
     "text": [
      "epsd2/admin/u3adm/P478304 is not available or not complete\n",
      "epsd2/admin/u3adm/P512161 is not available or not complete\n"
     ]
    },
    {
     "name": "stderr",
     "output_type": "stream",
     "text": [
      " 69%|██████▉   | 49580/71496 [02:13<01:32, 237.61it/s]"
     ]
    },
    {
     "name": "stdout",
     "output_type": "stream",
     "text": [
      "epsd2/admin/u3adm/P511457 is not available or not complete\n"
     ]
    },
    {
     "name": "stderr",
     "output_type": "stream",
     "text": [
      " 69%|██████▉   | 49628/71496 [02:13<01:33, 234.78it/s]"
     ]
    },
    {
     "name": "stdout",
     "output_type": "stream",
     "text": [
      "epsd2/admin/u3adm/P476086 is not available or not complete\n",
      "epsd2/admin/u3adm/P512158 is not available or not complete\n"
     ]
    },
    {
     "name": "stderr",
     "output_type": "stream",
     "text": [
      " 70%|██████▉   | 49887/71496 [02:14<01:34, 228.07it/s]"
     ]
    },
    {
     "name": "stdout",
     "output_type": "stream",
     "text": [
      "epsd2/admin/u3adm/P128551 is not available or not complete\n"
     ]
    },
    {
     "name": "stderr",
     "output_type": "stream",
     "text": [
      " 70%|██████▉   | 49980/71496 [02:15<01:34, 227.42it/s]"
     ]
    },
    {
     "name": "stdout",
     "output_type": "stream",
     "text": [
      "epsd2/admin/u3adm/P139505 is not available or not complete\n"
     ]
    },
    {
     "name": "stderr",
     "output_type": "stream",
     "text": [
      " 70%|███████   | 50118/71496 [02:15<01:39, 213.93it/s]"
     ]
    },
    {
     "name": "stdout",
     "output_type": "stream",
     "text": [
      "epsd2/admin/u3adm/P105330 is not available or not complete\n",
      "epsd2/admin/u3adm/P414554 is not available or not complete\n"
     ]
    },
    {
     "name": "stderr",
     "output_type": "stream",
     "text": [
      " 70%|███████   | 50189/71496 [02:16<01:35, 224.19it/s]"
     ]
    },
    {
     "name": "stdout",
     "output_type": "stream",
     "text": [
      "epsd2/admin/u3adm/P478295 is not available or not complete\n",
      "epsd2/admin/u3adm/P511946 is not available or not complete\n"
     ]
    },
    {
     "name": "stderr",
     "output_type": "stream",
     "text": [
      " 70%|███████   | 50395/71496 [02:17<01:40, 210.84it/s]"
     ]
    },
    {
     "name": "stdout",
     "output_type": "stream",
     "text": [
      "epsd2/admin/u3adm/P477689 is not available or not complete\n"
     ]
    },
    {
     "name": "stderr",
     "output_type": "stream",
     "text": [
      " 71%|███████   | 50464/71496 [02:17<01:37, 216.11it/s]"
     ]
    },
    {
     "name": "stdout",
     "output_type": "stream",
     "text": [
      "epsd2/admin/u3adm/P511417 is not available or not complete\n"
     ]
    },
    {
     "name": "stderr",
     "output_type": "stream",
     "text": [
      " 71%|███████   | 50650/71496 [02:18<01:38, 212.61it/s]"
     ]
    },
    {
     "name": "stdout",
     "output_type": "stream",
     "text": [
      "epsd2/admin/u3adm/P511866 is not available or not complete\n"
     ]
    },
    {
     "name": "stderr",
     "output_type": "stream",
     "text": [
      " 71%|███████   | 50786/71496 [02:18<01:36, 213.98it/s]"
     ]
    },
    {
     "name": "stdout",
     "output_type": "stream",
     "text": [
      "epsd2/admin/u3adm/P511557 is not available or not complete\n"
     ]
    },
    {
     "name": "stderr",
     "output_type": "stream",
     "text": [
      " 71%|███████   | 50924/71496 [02:19<01:32, 221.91it/s]"
     ]
    },
    {
     "name": "stdout",
     "output_type": "stream",
     "text": [
      "epsd2/admin/u3adm/P511560 is not available or not complete\n"
     ]
    },
    {
     "name": "stderr",
     "output_type": "stream",
     "text": [
      " 71%|███████▏  | 51060/71496 [02:20<02:09, 157.42it/s]"
     ]
    },
    {
     "name": "stdout",
     "output_type": "stream",
     "text": [
      "epsd2/admin/u3adm/P476716 is not available or not complete\n"
     ]
    },
    {
     "name": "stderr",
     "output_type": "stream",
     "text": [
      " 72%|███████▏  | 51174/71496 [02:20<01:39, 205.00it/s]"
     ]
    },
    {
     "name": "stdout",
     "output_type": "stream",
     "text": [
      "epsd2/admin/u3adm/P511620 is not available or not complete\n"
     ]
    },
    {
     "name": "stderr",
     "output_type": "stream",
     "text": [
      " 72%|███████▏  | 51244/71496 [02:21<01:32, 218.13it/s]"
     ]
    },
    {
     "name": "stdout",
     "output_type": "stream",
     "text": [
      "epsd2/admin/u3adm/P512151 is not available or not complete\n"
     ]
    },
    {
     "name": "stderr",
     "output_type": "stream",
     "text": [
      " 72%|███████▏  | 51387/71496 [02:21<01:29, 224.26it/s]"
     ]
    },
    {
     "name": "stdout",
     "output_type": "stream",
     "text": [
      "epsd2/admin/u3adm/P512116 is not available or not complete\n"
     ]
    },
    {
     "name": "stderr",
     "output_type": "stream",
     "text": [
      " 72%|███████▏  | 51480/71496 [02:22<01:32, 217.45it/s]"
     ]
    },
    {
     "name": "stdout",
     "output_type": "stream",
     "text": [
      "epsd2/admin/u3adm/P474550 is not available or not complete\n"
     ]
    },
    {
     "name": "stderr",
     "output_type": "stream",
     "text": [
      " 72%|███████▏  | 51633/71496 [02:23<01:33, 211.77it/s]"
     ]
    },
    {
     "name": "stdout",
     "output_type": "stream",
     "text": [
      "epsd2/admin/u3adm/P113137 is not available or not complete\n",
      "epsd2/admin/u3adm/P511413 is not available or not complete\n"
     ]
    },
    {
     "name": "stderr",
     "output_type": "stream",
     "text": [
      " 72%|███████▏  | 51794/71496 [02:23<01:31, 215.31it/s]"
     ]
    },
    {
     "name": "stdout",
     "output_type": "stream",
     "text": [
      "epsd2/admin/u3adm/P511631 is not available or not complete\n"
     ]
    },
    {
     "name": "stderr",
     "output_type": "stream",
     "text": [
      " 73%|███████▎  | 51838/71496 [02:24<01:35, 205.38it/s]"
     ]
    },
    {
     "name": "stdout",
     "output_type": "stream",
     "text": [
      "epsd2/admin/u3adm/P109125 is not available or not complete\n",
      "epsd2/admin/u3adm/P511580 is not available or not complete\n"
     ]
    },
    {
     "name": "stderr",
     "output_type": "stream",
     "text": [
      " 73%|███████▎  | 51994/71496 [02:24<01:30, 214.84it/s]"
     ]
    },
    {
     "name": "stdout",
     "output_type": "stream",
     "text": [
      "epsd2/admin/u3adm/P511854 is not available or not complete\n"
     ]
    },
    {
     "name": "stderr",
     "output_type": "stream",
     "text": [
      " 73%|███████▎  | 52273/71496 [02:26<01:27, 218.57it/s]"
     ]
    },
    {
     "name": "stdout",
     "output_type": "stream",
     "text": [
      "epsd2/admin/u3adm/P511590 is not available or not complete\n"
     ]
    },
    {
     "name": "stderr",
     "output_type": "stream",
     "text": [
      " 73%|███████▎  | 52318/71496 [02:26<01:28, 216.09it/s]"
     ]
    },
    {
     "name": "stdout",
     "output_type": "stream",
     "text": [
      "epsd2/admin/u3adm/P114145 is not available or not complete\n",
      "epsd2/admin/u3adm/P511451 is not available or not complete\n"
     ]
    },
    {
     "name": "stderr",
     "output_type": "stream",
     "text": [
      " 74%|███████▎  | 52641/71496 [02:27<01:24, 221.84it/s]"
     ]
    },
    {
     "name": "stdout",
     "output_type": "stream",
     "text": [
      "epsd2/admin/u3adm/P511903 is not available or not complete\n"
     ]
    },
    {
     "name": "stderr",
     "output_type": "stream",
     "text": [
      " 74%|███████▍  | 53119/71496 [02:29<01:20, 228.41it/s]"
     ]
    },
    {
     "name": "stdout",
     "output_type": "stream",
     "text": [
      "epsd2/admin/u3adm/P112320 is not available or not complete\n"
     ]
    },
    {
     "name": "stderr",
     "output_type": "stream",
     "text": [
      " 74%|███████▍  | 53234/71496 [02:30<01:23, 218.51it/s]"
     ]
    },
    {
     "name": "stdout",
     "output_type": "stream",
     "text": [
      "epsd2/admin/u3adm/P512104 is not available or not complete\n"
     ]
    },
    {
     "name": "stderr",
     "output_type": "stream",
     "text": [
      " 75%|███████▍  | 53435/71496 [02:31<01:23, 216.53it/s]"
     ]
    },
    {
     "name": "stdout",
     "output_type": "stream",
     "text": [
      "epsd2/admin/u3adm/P474559 is not available or not complete\n"
     ]
    },
    {
     "name": "stderr",
     "output_type": "stream",
     "text": [
      " 75%|███████▌  | 53636/71496 [02:32<01:26, 206.61it/s]"
     ]
    },
    {
     "name": "stdout",
     "output_type": "stream",
     "text": [
      "epsd2/admin/u3adm/P512105 is not available or not complete\n"
     ]
    },
    {
     "name": "stderr",
     "output_type": "stream",
     "text": [
      " 75%|███████▌  | 53816/71496 [02:33<01:20, 218.92it/s]"
     ]
    },
    {
     "name": "stdout",
     "output_type": "stream",
     "text": [
      "epsd2/admin/u3adm/P105543 is not available or not complete\n",
      "epsd2/admin/u3adm/P511940 is not available or not complete\n"
     ]
    },
    {
     "name": "stderr",
     "output_type": "stream",
     "text": [
      " 76%|███████▌  | 54292/71496 [02:35<01:22, 209.08it/s]"
     ]
    },
    {
     "name": "stdout",
     "output_type": "stream",
     "text": [
      "epsd2/admin/u3adm/P511553 is not available or not complete\n",
      "epsd2/admin/u3adm/P108847 is not available or not complete\n"
     ]
    },
    {
     "name": "stderr",
     "output_type": "stream",
     "text": [
      " 76%|███████▌  | 54355/71496 [02:35<01:24, 204.05it/s]"
     ]
    },
    {
     "name": "stdout",
     "output_type": "stream",
     "text": [
      "epsd2/admin/u3adm/P109094 is not available or not complete\n",
      "epsd2/admin/u3adm/P333129 is not available or not complete\n"
     ]
    },
    {
     "name": "stderr",
     "output_type": "stream",
     "text": [
      " 76%|███████▌  | 54465/71496 [02:36<01:21, 209.51it/s]"
     ]
    },
    {
     "name": "stdout",
     "output_type": "stream",
     "text": [
      "epsd2/admin/u3adm/P102530 is not available or not complete\n",
      "epsd2/admin/u3adm/P512135 is not available or not complete\n"
     ]
    },
    {
     "name": "stderr",
     "output_type": "stream",
     "text": [
      " 76%|███████▋  | 54664/71496 [02:37<01:22, 204.20it/s]"
     ]
    },
    {
     "name": "stdout",
     "output_type": "stream",
     "text": [
      "epsd2/admin/u3adm/P414525 is not available or not complete\n"
     ]
    },
    {
     "name": "stderr",
     "output_type": "stream",
     "text": [
      " 77%|███████▋  | 54835/71496 [02:38<01:20, 207.66it/s]"
     ]
    },
    {
     "name": "stdout",
     "output_type": "stream",
     "text": [
      "epsd2/admin/u3adm/P433131 is not available or not complete\n"
     ]
    },
    {
     "name": "stderr",
     "output_type": "stream",
     "text": [
      " 77%|███████▋  | 54902/71496 [02:38<01:17, 213.69it/s]"
     ]
    },
    {
     "name": "stdout",
     "output_type": "stream",
     "text": [
      "epsd2/admin/u3adm/P478292 is not available or not complete\n"
     ]
    },
    {
     "name": "stderr",
     "output_type": "stream",
     "text": [
      " 77%|███████▋  | 55281/71496 [02:40<01:14, 218.92it/s]"
     ]
    },
    {
     "name": "stdout",
     "output_type": "stream",
     "text": [
      "epsd2/admin/u3adm/P511605 is not available or not complete\n",
      "epsd2/admin/u3adm/P474545 is not available or not complete\n",
      "epsd2/admin/u3adm/P114315 is not available or not complete\n"
     ]
    },
    {
     "name": "stderr",
     "output_type": "stream",
     "text": [
      " 77%|███████▋  | 55349/71496 [02:40<01:13, 220.06it/s]"
     ]
    },
    {
     "name": "stdout",
     "output_type": "stream",
     "text": [
      "epsd2/admin/u3adm/P512129 is not available or not complete\n"
     ]
    },
    {
     "name": "stderr",
     "output_type": "stream",
     "text": [
      " 78%|███████▊  | 55599/71496 [02:41<01:13, 215.26it/s]"
     ]
    },
    {
     "name": "stdout",
     "output_type": "stream",
     "text": [
      "epsd2/admin/u3adm/P478312 is not available or not complete\n"
     ]
    },
    {
     "name": "stderr",
     "output_type": "stream",
     "text": [
      " 78%|███████▊  | 55665/71496 [02:41<01:14, 211.99it/s]"
     ]
    },
    {
     "name": "stdout",
     "output_type": "stream",
     "text": [
      "epsd2/admin/u3adm/P511907 is not available or not complete\n"
     ]
    },
    {
     "name": "stderr",
     "output_type": "stream",
     "text": [
      " 78%|███████▊  | 55750/71496 [02:42<01:18, 200.53it/s]"
     ]
    },
    {
     "name": "stdout",
     "output_type": "stream",
     "text": [
      "epsd2/admin/u3adm/P333128 is not available or not complete\n"
     ]
    },
    {
     "name": "stderr",
     "output_type": "stream",
     "text": [
      " 78%|███████▊  | 55792/71496 [02:42<01:19, 197.51it/s]"
     ]
    },
    {
     "name": "stdout",
     "output_type": "stream",
     "text": [
      "epsd2/admin/u3adm/P414534 is not available or not complete\n",
      "epsd2/admin/u3adm/P112796 is not available or not complete\n"
     ]
    },
    {
     "name": "stderr",
     "output_type": "stream",
     "text": [
      " 78%|███████▊  | 55896/71496 [02:43<01:16, 203.45it/s]"
     ]
    },
    {
     "name": "stdout",
     "output_type": "stream",
     "text": [
      "epsd2/admin/u3adm/P511992 is not available or not complete\n",
      "epsd2/admin/u3adm/P476715 is not available or not complete\n"
     ]
    },
    {
     "name": "stderr",
     "output_type": "stream",
     "text": [
      " 78%|███████▊  | 55959/71496 [02:43<01:16, 202.88it/s]"
     ]
    },
    {
     "name": "stdout",
     "output_type": "stream",
     "text": [
      "epsd2/admin/u3adm/P114147 is not available or not complete\n",
      "epsd2/admin/u3adm/P414526 is not available or not complete\n"
     ]
    },
    {
     "name": "stderr",
     "output_type": "stream",
     "text": [
      " 79%|███████▊  | 56150/71496 [02:44<01:18, 196.51it/s]"
     ]
    },
    {
     "name": "stdout",
     "output_type": "stream",
     "text": [
      "epsd2/admin/u3adm/P476064 is not available or not complete\n"
     ]
    },
    {
     "name": "stderr",
     "output_type": "stream",
     "text": [
      " 79%|███████▊  | 56303/71496 [02:45<01:11, 211.76it/s]"
     ]
    },
    {
     "name": "stdout",
     "output_type": "stream",
     "text": [
      "epsd2/admin/u3adm/P511550 is not available or not complete\n",
      "epsd2/admin/u3adm/P109098 is not available or not complete\n"
     ]
    },
    {
     "name": "stderr",
     "output_type": "stream",
     "text": [
      " 79%|███████▉  | 56412/71496 [02:45<01:15, 200.58it/s]"
     ]
    },
    {
     "name": "stdout",
     "output_type": "stream",
     "text": [
      "epsd2/admin/u3adm/P139507 is not available or not complete\n",
      "epsd2/admin/u3adm/P478303 is not available or not complete\n"
     ]
    },
    {
     "name": "stderr",
     "output_type": "stream",
     "text": [
      " 79%|███████▉  | 56543/71496 [02:46<01:11, 208.98it/s]"
     ]
    },
    {
     "name": "stdout",
     "output_type": "stream",
     "text": [
      "epsd2/admin/u3adm/P414567 is not available or not complete\n"
     ]
    },
    {
     "name": "stderr",
     "output_type": "stream",
     "text": [
      " 79%|███████▉  | 56610/71496 [02:46<01:09, 215.36it/s]"
     ]
    },
    {
     "name": "stdout",
     "output_type": "stream",
     "text": [
      "epsd2/admin/u3adm/P511856 is not available or not complete\n"
     ]
    },
    {
     "name": "stderr",
     "output_type": "stream",
     "text": [
      " 80%|███████▉  | 57156/71496 [02:49<01:07, 211.47it/s]"
     ]
    },
    {
     "name": "stdout",
     "output_type": "stream",
     "text": [
      "epsd2/admin/u3adm/P477688 is not available or not complete\n"
     ]
    },
    {
     "name": "stderr",
     "output_type": "stream",
     "text": [
      " 80%|████████  | 57289/71496 [02:50<01:05, 215.72it/s]"
     ]
    },
    {
     "name": "stdout",
     "output_type": "stream",
     "text": [
      "epsd2/admin/u3adm/P477697 is not available or not complete\n",
      "epsd2/admin/u3adm/P511863 is not available or not complete\n"
     ]
    },
    {
     "name": "stderr",
     "output_type": "stream",
     "text": [
      " 80%|████████  | 57378/71496 [02:50<01:05, 215.34it/s]"
     ]
    },
    {
     "name": "stdout",
     "output_type": "stream",
     "text": [
      "epsd2/admin/u3adm/P512128 is not available or not complete\n"
     ]
    },
    {
     "name": "stderr",
     "output_type": "stream",
     "text": [
      " 80%|████████  | 57532/71496 [02:51<01:05, 212.40it/s]"
     ]
    },
    {
     "name": "stdout",
     "output_type": "stream",
     "text": [
      "epsd2/admin/u3adm/P511436 is not available or not complete\n"
     ]
    },
    {
     "name": "stderr",
     "output_type": "stream",
     "text": [
      " 81%|████████  | 57621/71496 [02:51<01:07, 206.49it/s]"
     ]
    },
    {
     "name": "stdout",
     "output_type": "stream",
     "text": [
      "epsd2/admin/u3adm/P511556 is not available or not complete\n",
      "epsd2/admin/u3adm/P511458 is not available or not complete\n"
     ]
    },
    {
     "name": "stderr",
     "output_type": "stream",
     "text": [
      " 81%|████████  | 57882/71496 [02:52<01:05, 207.95it/s]"
     ]
    },
    {
     "name": "stdout",
     "output_type": "stream",
     "text": [
      "epsd2/admin/u3adm/P511430 is not available or not complete\n",
      "epsd2/admin/u3adm/P512142 is not available or not complete\n"
     ]
    },
    {
     "name": "stderr",
     "output_type": "stream",
     "text": [
      " 81%|████████  | 57990/71496 [02:53<01:07, 200.80it/s]"
     ]
    },
    {
     "name": "stdout",
     "output_type": "stream",
     "text": [
      "epsd2/admin/u3adm/P105381 is not available or not complete\n"
     ]
    },
    {
     "name": "stderr",
     "output_type": "stream",
     "text": [
      " 81%|████████▏ | 58161/71496 [02:54<01:04, 207.21it/s]"
     ]
    },
    {
     "name": "stdout",
     "output_type": "stream",
     "text": [
      "epsd2/admin/u3adm/P414568 is not available or not complete\n"
     ]
    },
    {
     "name": "stderr",
     "output_type": "stream",
     "text": [
      " 81%|████████▏ | 58204/71496 [02:54<01:04, 205.42it/s]"
     ]
    },
    {
     "name": "stdout",
     "output_type": "stream",
     "text": [
      "epsd2/admin/u3adm/P511972 is not available or not complete\n",
      "epsd2/admin/u3adm/P512098 is not available or not complete\n"
     ]
    },
    {
     "name": "stderr",
     "output_type": "stream",
     "text": [
      " 82%|████████▏ | 58418/71496 [02:55<01:02, 210.48it/s]"
     ]
    },
    {
     "name": "stdout",
     "output_type": "stream",
     "text": [
      "epsd2/admin/u3adm/P109126 is not available or not complete\n"
     ]
    },
    {
     "name": "stderr",
     "output_type": "stream",
     "text": [
      " 82%|████████▏ | 58722/71496 [02:56<01:00, 209.87it/s]"
     ]
    },
    {
     "name": "stdout",
     "output_type": "stream",
     "text": [
      "epsd2/admin/u3adm/P511875 is not available or not complete\n"
     ]
    },
    {
     "name": "stderr",
     "output_type": "stream",
     "text": [
      " 82%|████████▏ | 58786/71496 [02:57<01:02, 203.33it/s]"
     ]
    },
    {
     "name": "stdout",
     "output_type": "stream",
     "text": [
      "epsd2/admin/u3adm/P105306 is not available or not complete\n"
     ]
    },
    {
     "name": "stderr",
     "output_type": "stream",
     "text": [
      " 82%|████████▏ | 58980/71496 [02:58<00:59, 210.25it/s]"
     ]
    },
    {
     "name": "stdout",
     "output_type": "stream",
     "text": [
      "epsd2/admin/u3adm/P511857 is not available or not complete\n"
     ]
    },
    {
     "name": "stderr",
     "output_type": "stream",
     "text": [
      " 83%|████████▎ | 59046/71496 [02:58<00:59, 208.93it/s]"
     ]
    },
    {
     "name": "stdout",
     "output_type": "stream",
     "text": [
      "epsd2/admin/u3adm/P105422 is not available or not complete\n"
     ]
    },
    {
     "name": "stderr",
     "output_type": "stream",
     "text": [
      " 83%|████████▎ | 59343/71496 [03:00<00:58, 208.68it/s]"
     ]
    },
    {
     "name": "stdout",
     "output_type": "stream",
     "text": [
      "epsd2/admin/u3adm/P105454 is not available or not complete\n",
      "epsd2/admin/u3adm/P114177 is not available or not complete\n"
     ]
    },
    {
     "name": "stderr",
     "output_type": "stream",
     "text": [
      " 83%|████████▎ | 59470/71496 [03:00<00:58, 204.26it/s]"
     ]
    },
    {
     "name": "stdout",
     "output_type": "stream",
     "text": [
      "epsd2/admin/u3adm/P511454 is not available or not complete\n",
      "epsd2/admin/u3adm/P511982 is not available or not complete\n"
     ]
    },
    {
     "name": "stderr",
     "output_type": "stream",
     "text": [
      " 83%|████████▎ | 59598/71496 [03:01<00:57, 208.13it/s]"
     ]
    },
    {
     "name": "stdout",
     "output_type": "stream",
     "text": [
      "epsd2/admin/u3adm/P511409 is not available or not complete\n",
      "epsd2/admin/u3adm/P109110 is not available or not complete\n"
     ]
    },
    {
     "name": "stderr",
     "output_type": "stream",
     "text": [
      " 84%|████████▎ | 59810/71496 [03:02<00:58, 198.47it/s]"
     ]
    },
    {
     "name": "stdout",
     "output_type": "stream",
     "text": [
      "epsd2/admin/u3adm/P478300 is not available or not complete\n",
      "epsd2/admin/u3adm/P476068 is not available or not complete\n"
     ]
    },
    {
     "name": "stderr",
     "output_type": "stream",
     "text": [
      " 84%|████████▎ | 59852/71496 [03:02<00:57, 202.01it/s]"
     ]
    },
    {
     "name": "stdout",
     "output_type": "stream",
     "text": [
      "epsd2/admin/u3adm/P109116 is not available or not complete\n",
      "epsd2/admin/u3adm/P512139 is not available or not complete\n"
     ]
    },
    {
     "name": "stderr",
     "output_type": "stream",
     "text": [
      " 84%|████████▍ | 59957/71496 [03:03<00:57, 202.09it/s]"
     ]
    },
    {
     "name": "stdout",
     "output_type": "stream",
     "text": [
      "epsd2/admin/u3adm/P109108 is not available or not complete\n"
     ]
    },
    {
     "name": "stderr",
     "output_type": "stream",
     "text": [
      " 84%|████████▍ | 60041/71496 [03:03<00:56, 202.09it/s]"
     ]
    },
    {
     "name": "stdout",
     "output_type": "stream",
     "text": [
      "epsd2/admin/u3adm/P511468 is not available or not complete\n"
     ]
    },
    {
     "name": "stderr",
     "output_type": "stream",
     "text": [
      " 84%|████████▍ | 60127/71496 [03:03<00:54, 208.68it/s]"
     ]
    },
    {
     "name": "stdout",
     "output_type": "stream",
     "text": [
      "epsd2/admin/u3adm/P512124 is not available or not complete\n"
     ]
    },
    {
     "name": "stderr",
     "output_type": "stream",
     "text": [
      " 84%|████████▍ | 60169/71496 [03:04<00:55, 204.49it/s]"
     ]
    },
    {
     "name": "stdout",
     "output_type": "stream",
     "text": [
      "epsd2/admin/u3adm/P455737 is not available or not complete\n"
     ]
    },
    {
     "name": "stderr",
     "output_type": "stream",
     "text": [
      " 84%|████████▍ | 60233/71496 [03:04<00:55, 202.05it/s]"
     ]
    },
    {
     "name": "stdout",
     "output_type": "stream",
     "text": [
      "epsd2/admin/u3adm/P512120 is not available or not complete\n"
     ]
    },
    {
     "name": "stderr",
     "output_type": "stream",
     "text": [
      " 84%|████████▍ | 60340/71496 [03:04<00:55, 201.18it/s]"
     ]
    },
    {
     "name": "stdout",
     "output_type": "stream",
     "text": [
      "epsd2/admin/u3adm/P511588 is not available or not complete\n"
     ]
    },
    {
     "name": "stderr",
     "output_type": "stream",
     "text": [
      " 85%|████████▍ | 60529/71496 [03:06<01:11, 153.96it/s]"
     ]
    },
    {
     "name": "stdout",
     "output_type": "stream",
     "text": [
      "epsd2/admin/u3adm/P474540 is not available or not complete\n"
     ]
    },
    {
     "name": "stderr",
     "output_type": "stream",
     "text": [
      " 85%|████████▍ | 60611/71496 [03:06<00:58, 186.33it/s]"
     ]
    },
    {
     "name": "stdout",
     "output_type": "stream",
     "text": [
      "epsd2/admin/u3adm/P511472 is not available or not complete\n",
      "epsd2/admin/u3adm/P511923 is not available or not complete\n"
     ]
    },
    {
     "name": "stderr",
     "output_type": "stream",
     "text": [
      " 85%|████████▌ | 60861/71496 [03:07<00:52, 201.70it/s]"
     ]
    },
    {
     "name": "stdout",
     "output_type": "stream",
     "text": [
      "epsd2/admin/u3adm/P511962 is not available or not complete\n"
     ]
    },
    {
     "name": "stderr",
     "output_type": "stream",
     "text": [
      " 86%|████████▌ | 61510/71496 [03:11<00:51, 192.41it/s]"
     ]
    },
    {
     "name": "stdout",
     "output_type": "stream",
     "text": [
      "epsd2/admin/u3adm/P478306 is not available or not complete\n"
     ]
    },
    {
     "name": "stderr",
     "output_type": "stream",
     "text": [
      " 87%|████████▋ | 61860/71496 [03:13<00:48, 198.04it/s]"
     ]
    },
    {
     "name": "stdout",
     "output_type": "stream",
     "text": [
      "epsd2/admin/u3adm/P105265 is not available or not complete\n"
     ]
    },
    {
     "name": "stderr",
     "output_type": "stream",
     "text": [
      " 87%|████████▋ | 61923/71496 [03:13<00:47, 201.69it/s]"
     ]
    },
    {
     "name": "stdout",
     "output_type": "stream",
     "text": [
      "epsd2/admin/u3adm/P109112 is not available or not complete\n"
     ]
    },
    {
     "name": "stderr",
     "output_type": "stream",
     "text": [
      " 87%|████████▋ | 62211/71496 [03:15<00:47, 196.80it/s]"
     ]
    },
    {
     "name": "stdout",
     "output_type": "stream",
     "text": [
      "epsd2/admin/u3adm/P109101 is not available or not complete\n"
     ]
    },
    {
     "name": "stderr",
     "output_type": "stream",
     "text": [
      " 87%|████████▋ | 62333/71496 [03:15<00:49, 186.44it/s]"
     ]
    },
    {
     "name": "stdout",
     "output_type": "stream",
     "text": [
      "epsd2/admin/u3adm/P504807 is not available or not complete\n"
     ]
    },
    {
     "name": "stderr",
     "output_type": "stream",
     "text": [
      " 87%|████████▋ | 62371/71496 [03:15<00:49, 183.90it/s]"
     ]
    },
    {
     "name": "stdout",
     "output_type": "stream",
     "text": [
      "epsd2/admin/u3adm/P114144 is not available or not complete\n",
      "epsd2/admin/u3adm/P109120 is not available or not complete\n"
     ]
    },
    {
     "name": "stderr",
     "output_type": "stream",
     "text": [
      " 87%|████████▋ | 62467/71496 [03:16<00:50, 179.70it/s]"
     ]
    },
    {
     "name": "stdout",
     "output_type": "stream",
     "text": [
      "epsd2/admin/u3adm/P511600 is not available or not complete\n"
     ]
    },
    {
     "name": "stderr",
     "output_type": "stream",
     "text": [
      " 87%|████████▋ | 62526/71496 [03:16<00:48, 185.71it/s]"
     ]
    },
    {
     "name": "stdout",
     "output_type": "stream",
     "text": [
      "epsd2/admin/u3adm/P414549 is not available or not complete\n"
     ]
    },
    {
     "name": "stderr",
     "output_type": "stream",
     "text": [
      " 88%|████████▊ | 62768/71496 [03:17<00:44, 198.11it/s]"
     ]
    },
    {
     "name": "stdout",
     "output_type": "stream",
     "text": [
      "epsd2/admin/u3adm/P477690 is not available or not complete\n"
     ]
    },
    {
     "name": "stderr",
     "output_type": "stream",
     "text": [
      " 88%|████████▊ | 62912/71496 [03:18<00:42, 200.64it/s]"
     ]
    },
    {
     "name": "stdout",
     "output_type": "stream",
     "text": [
      "epsd2/admin/u3adm/P298522 is not available or not complete\n"
     ]
    },
    {
     "name": "stderr",
     "output_type": "stream",
     "text": [
      " 88%|████████▊ | 62972/71496 [03:19<00:48, 177.58it/s]"
     ]
    },
    {
     "name": "stdout",
     "output_type": "stream",
     "text": [
      "epsd2/admin/u3adm/P511403 is not available or not complete\n"
     ]
    },
    {
     "name": "stderr",
     "output_type": "stream",
     "text": [
      " 88%|████████▊ | 63066/71496 [03:19<00:46, 180.35it/s]"
     ]
    },
    {
     "name": "stdout",
     "output_type": "stream",
     "text": [
      "epsd2/admin/u3adm/P474526 is not available or not complete\n",
      "epsd2/admin/u3adm/P112319 is not available or not complete\n"
     ]
    },
    {
     "name": "stderr",
     "output_type": "stream",
     "text": [
      " 88%|████████▊ | 63225/71496 [03:20<00:43, 189.94it/s]"
     ]
    },
    {
     "name": "stdout",
     "output_type": "stream",
     "text": [
      "epsd2/admin/u3adm/P511626 is not available or not complete\n",
      "epsd2/admin/u3adm/P331067 is not available or not complete\n"
     ]
    },
    {
     "name": "stderr",
     "output_type": "stream",
     "text": [
      " 89%|████████▊ | 63364/71496 [03:21<00:43, 188.17it/s]"
     ]
    },
    {
     "name": "stdout",
     "output_type": "stream",
     "text": [
      "epsd2/admin/u3adm/P114183 is not available or not complete\n"
     ]
    },
    {
     "name": "stderr",
     "output_type": "stream",
     "text": [
      " 89%|████████▊ | 63404/71496 [03:21<00:42, 190.93it/s]"
     ]
    },
    {
     "name": "stdout",
     "output_type": "stream",
     "text": [
      "epsd2/admin/u3adm/P109092 is not available or not complete\n"
     ]
    },
    {
     "name": "stderr",
     "output_type": "stream",
     "text": [
      " 89%|████████▉ | 63526/71496 [03:21<00:40, 196.80it/s]"
     ]
    },
    {
     "name": "stdout",
     "output_type": "stream",
     "text": [
      "epsd2/admin/u3adm/P512112 is not available or not complete\n"
     ]
    },
    {
     "name": "stderr",
     "output_type": "stream",
     "text": [
      " 89%|████████▉ | 63729/71496 [03:23<00:48, 161.34it/s]"
     ]
    },
    {
     "name": "stdout",
     "output_type": "stream",
     "text": [
      "epsd2/admin/u3adm/P511922 is not available or not complete\n"
     ]
    },
    {
     "name": "stderr",
     "output_type": "stream",
     "text": [
      " 90%|████████▉ | 64014/71496 [03:24<00:37, 197.23it/s]"
     ]
    },
    {
     "name": "stdout",
     "output_type": "stream",
     "text": [
      "epsd2/admin/u3adm/P511428 is not available or not complete\n",
      "epsd2/admin/u3adm/P129991 is not available or not complete\n"
     ]
    },
    {
     "name": "stderr",
     "output_type": "stream",
     "text": [
      " 90%|█████████ | 64495/71496 [03:27<00:37, 186.67it/s]"
     ]
    },
    {
     "name": "stdout",
     "output_type": "stream",
     "text": [
      "epsd2/admin/u3adm/P414556 is not available or not complete\n"
     ]
    },
    {
     "name": "stderr",
     "output_type": "stream",
     "text": [
      " 91%|█████████ | 64768/71496 [03:28<00:35, 188.11it/s]"
     ]
    },
    {
     "name": "stdout",
     "output_type": "stream",
     "text": [
      "epsd2/admin/u3adm/P414558 is not available or not complete\n"
     ]
    },
    {
     "name": "stderr",
     "output_type": "stream",
     "text": [
      " 91%|█████████ | 64845/71496 [03:29<00:36, 184.75it/s]"
     ]
    },
    {
     "name": "stdout",
     "output_type": "stream",
     "text": [
      "epsd2/admin/u3adm/P511624 is not available or not complete\n"
     ]
    },
    {
     "name": "stderr",
     "output_type": "stream",
     "text": [
      " 91%|█████████ | 64884/71496 [03:29<00:34, 189.00it/s]"
     ]
    },
    {
     "name": "stdout",
     "output_type": "stream",
     "text": [
      "epsd2/admin/u3adm/P113128 is not available or not complete\n"
     ]
    },
    {
     "name": "stderr",
     "output_type": "stream",
     "text": [
      " 91%|█████████ | 64944/71496 [03:29<00:34, 189.56it/s]"
     ]
    },
    {
     "name": "stdout",
     "output_type": "stream",
     "text": [
      "epsd2/admin/u3adm/P108851 is not available or not complete\n",
      "epsd2/admin/u3adm/P476066 is not available or not complete\n"
     ]
    },
    {
     "name": "stderr",
     "output_type": "stream",
     "text": [
      " 91%|█████████ | 65102/71496 [03:30<00:33, 193.35it/s]"
     ]
    },
    {
     "name": "stdout",
     "output_type": "stream",
     "text": [
      "epsd2/admin/u3adm/P511421 is not available or not complete\n"
     ]
    },
    {
     "name": "stderr",
     "output_type": "stream",
     "text": [
      " 91%|█████████ | 65222/71496 [03:31<00:33, 188.00it/s]"
     ]
    },
    {
     "name": "stdout",
     "output_type": "stream",
     "text": [
      "epsd2/admin/u3adm/P511993 is not available or not complete\n"
     ]
    },
    {
     "name": "stderr",
     "output_type": "stream",
     "text": [
      " 91%|█████████▏| 65298/71496 [03:31<00:33, 184.07it/s]"
     ]
    },
    {
     "name": "stdout",
     "output_type": "stream",
     "text": [
      "epsd2/admin/u3adm/P105369 is not available or not complete\n"
     ]
    },
    {
     "name": "stderr",
     "output_type": "stream",
     "text": [
      " 92%|█████████▏| 65803/71496 [03:34<00:30, 188.73it/s]"
     ]
    },
    {
     "name": "stdout",
     "output_type": "stream",
     "text": [
      "epsd2/admin/u3adm/P511952 is not available or not complete\n"
     ]
    },
    {
     "name": "stderr",
     "output_type": "stream",
     "text": [
      " 92%|█████████▏| 65982/71496 [03:35<00:28, 191.31it/s]"
     ]
    },
    {
     "name": "stdout",
     "output_type": "stream",
     "text": [
      "epsd2/admin/u3adm/P511991 is not available or not complete\n",
      "epsd2/admin/u3adm/P478311 is not available or not complete\n"
     ]
    },
    {
     "name": "stderr",
     "output_type": "stream",
     "text": [
      " 92%|█████████▏| 66080/71496 [03:35<00:29, 181.51it/s]"
     ]
    },
    {
     "name": "stdout",
     "output_type": "stream",
     "text": [
      "epsd2/admin/u3adm/P108843 is not available or not complete\n"
     ]
    },
    {
     "name": "stderr",
     "output_type": "stream",
     "text": [
      " 93%|█████████▎| 66156/71496 [03:36<00:29, 182.15it/s]"
     ]
    },
    {
     "name": "stdout",
     "output_type": "stream",
     "text": [
      "epsd2/admin/u3adm/P511864 is not available or not complete\n"
     ]
    },
    {
     "name": "stderr",
     "output_type": "stream",
     "text": [
      " 93%|█████████▎| 66195/71496 [03:36<00:28, 184.77it/s]"
     ]
    },
    {
     "name": "stdout",
     "output_type": "stream",
     "text": [
      "epsd2/admin/u3adm/P114149 is not available or not complete\n",
      "epsd2/admin/u3adm/P512110 is not available or not complete\n"
     ]
    },
    {
     "name": "stderr",
     "output_type": "stream",
     "text": [
      " 93%|█████████▎| 66233/71496 [03:36<00:28, 182.70it/s]"
     ]
    },
    {
     "name": "stdout",
     "output_type": "stream",
     "text": [
      "epsd2/admin/u3adm/P333127 is not available or not complete\n",
      "epsd2/admin/u3adm/P511625 is not available or not complete\n"
     ]
    },
    {
     "name": "stderr",
     "output_type": "stream",
     "text": [
      " 93%|█████████▎| 66389/71496 [03:37<00:26, 189.43it/s]"
     ]
    },
    {
     "name": "stdout",
     "output_type": "stream",
     "text": [
      "epsd2/admin/u3adm/P474542 is not available or not complete\n"
     ]
    },
    {
     "name": "stderr",
     "output_type": "stream",
     "text": [
      " 93%|█████████▎| 66661/71496 [03:39<00:26, 185.94it/s]"
     ]
    },
    {
     "name": "stdout",
     "output_type": "stream",
     "text": [
      "epsd2/admin/u3adm/P114104 is not available or not complete\n"
     ]
    },
    {
     "name": "stderr",
     "output_type": "stream",
     "text": [
      " 93%|█████████▎| 66720/71496 [03:39<00:25, 186.34it/s]"
     ]
    },
    {
     "name": "stdout",
     "output_type": "stream",
     "text": [
      "epsd2/admin/u3adm/P476083 is not available or not complete\n"
     ]
    },
    {
     "name": "stderr",
     "output_type": "stream",
     "text": [
      " 94%|█████████▎| 66897/71496 [03:40<00:24, 187.07it/s]"
     ]
    },
    {
     "name": "stdout",
     "output_type": "stream",
     "text": [
      "epsd2/admin/u3adm/P414547 is not available or not complete\n"
     ]
    },
    {
     "name": "stderr",
     "output_type": "stream",
     "text": [
      " 94%|█████████▍| 67368/71496 [03:43<00:22, 180.60it/s]"
     ]
    },
    {
     "name": "stdout",
     "output_type": "stream",
     "text": [
      "epsd2/admin/u3adm/P511494 is not available or not complete\n"
     ]
    },
    {
     "name": "stderr",
     "output_type": "stream",
     "text": [
      " 94%|█████████▍| 67481/71496 [03:43<00:22, 179.35it/s]"
     ]
    },
    {
     "name": "stdout",
     "output_type": "stream",
     "text": [
      "epsd2/admin/u3adm/P511947 is not available or not complete\n"
     ]
    },
    {
     "name": "stderr",
     "output_type": "stream",
     "text": [
      " 95%|█████████▍| 67669/71496 [03:44<00:21, 177.97it/s]"
     ]
    },
    {
     "name": "stdout",
     "output_type": "stream",
     "text": [
      "epsd2/admin/u3adm/P430675 is not available or not complete\n"
     ]
    },
    {
     "name": "stderr",
     "output_type": "stream",
     "text": [
      " 95%|█████████▌| 67955/71496 [03:46<00:19, 184.87it/s]"
     ]
    },
    {
     "name": "stdout",
     "output_type": "stream",
     "text": [
      "epsd2/admin/u3adm/P512152 is not available or not complete\n"
     ]
    },
    {
     "name": "stderr",
     "output_type": "stream",
     "text": [
      " 95%|█████████▌| 68069/71496 [03:47<00:19, 176.12it/s]"
     ]
    },
    {
     "name": "stdout",
     "output_type": "stream",
     "text": [
      "epsd2/admin/u3adm/P512101 is not available or not complete\n"
     ]
    },
    {
     "name": "stderr",
     "output_type": "stream",
     "text": [
      " 96%|█████████▌| 68451/71496 [03:49<00:16, 185.99it/s]"
     ]
    },
    {
     "name": "stdout",
     "output_type": "stream",
     "text": [
      "epsd2/admin/u3adm/P511966 is not available or not complete\n"
     ]
    },
    {
     "name": "stderr",
     "output_type": "stream",
     "text": [
      " 96%|█████████▌| 68546/71496 [03:49<00:16, 184.19it/s]"
     ]
    },
    {
     "name": "stdout",
     "output_type": "stream",
     "text": [
      "epsd2/admin/u3adm/P414572 is not available or not complete\n"
     ]
    },
    {
     "name": "stderr",
     "output_type": "stream",
     "text": [
      " 96%|█████████▋| 68867/71496 [03:51<00:14, 176.00it/s]"
     ]
    },
    {
     "name": "stdout",
     "output_type": "stream",
     "text": [
      "epsd2/admin/u3adm/P512122 is not available or not complete\n",
      "epsd2/admin/u3adm/P114111 is not available or not complete\n"
     ]
    },
    {
     "name": "stderr",
     "output_type": "stream",
     "text": [
      " 96%|█████████▋| 68962/71496 [03:52<00:13, 183.19it/s]"
     ]
    },
    {
     "name": "stdout",
     "output_type": "stream",
     "text": [
      "epsd2/admin/u3adm/P511988 is not available or not complete\n"
     ]
    },
    {
     "name": "stderr",
     "output_type": "stream",
     "text": [
      " 97%|█████████▋| 69376/71496 [03:54<00:12, 172.83it/s]"
     ]
    },
    {
     "name": "stdout",
     "output_type": "stream",
     "text": [
      "epsd2/admin/u3adm/P512154 is not available or not complete\n",
      "epsd2/admin/u3adm/P511432 is not available or not complete\n"
     ]
    },
    {
     "name": "stderr",
     "output_type": "stream",
     "text": [
      " 97%|█████████▋| 69432/71496 [03:54<00:11, 176.83it/s]"
     ]
    },
    {
     "name": "stdout",
     "output_type": "stream",
     "text": [
      "epsd2/admin/u3adm/P511914 is not available or not complete\n"
     ]
    },
    {
     "name": "stderr",
     "output_type": "stream",
     "text": [
      " 97%|█████████▋| 69488/71496 [03:55<00:11, 176.15it/s]"
     ]
    },
    {
     "name": "stdout",
     "output_type": "stream",
     "text": [
      "epsd2/admin/u3adm/P476073 is not available or not complete\n",
      "epsd2/admin/u3adm/P106706 is not available or not complete\n"
     ]
    },
    {
     "name": "stderr",
     "output_type": "stream",
     "text": [
      " 97%|█████████▋| 69582/71496 [03:55<00:10, 181.50it/s]"
     ]
    },
    {
     "name": "stdout",
     "output_type": "stream",
     "text": [
      "epsd2/admin/u3adm/P512136 is not available or not complete\n",
      "epsd2/admin/u3adm/P477692 is not available or not complete\n"
     ]
    },
    {
     "name": "stderr",
     "output_type": "stream",
     "text": [
      " 97%|█████████▋| 69676/71496 [03:56<00:10, 177.51it/s]"
     ]
    },
    {
     "name": "stdout",
     "output_type": "stream",
     "text": [
      "epsd2/admin/u3adm/P478291 is not available or not complete\n"
     ]
    },
    {
     "name": "stderr",
     "output_type": "stream",
     "text": [
      " 98%|█████████▊| 69784/71496 [03:56<00:09, 175.64it/s]"
     ]
    },
    {
     "name": "stdout",
     "output_type": "stream",
     "text": [
      "epsd2/admin/u3adm/P414531 is not available or not complete\n"
     ]
    },
    {
     "name": "stderr",
     "output_type": "stream",
     "text": [
      " 98%|█████████▊| 69859/71496 [03:57<00:09, 180.27it/s]"
     ]
    },
    {
     "name": "stdout",
     "output_type": "stream",
     "text": [
      "epsd2/admin/u3adm/P478286 is not available or not complete\n",
      "epsd2/admin/u3adm/P512132 is not available or not complete\n"
     ]
    },
    {
     "name": "stderr",
     "output_type": "stream",
     "text": [
      " 98%|█████████▊| 69986/71496 [03:58<00:09, 164.19it/s]"
     ]
    },
    {
     "name": "stdout",
     "output_type": "stream",
     "text": [
      "epsd2/admin/u3adm/P113106 is not available or not complete\n",
      "epsd2/admin/u3adm/P105482 is not available or not complete\n"
     ]
    },
    {
     "name": "stderr",
     "output_type": "stream",
     "text": [
      " 98%|█████████▊| 70020/71496 [03:58<00:09, 162.45it/s]"
     ]
    },
    {
     "name": "stdout",
     "output_type": "stream",
     "text": [
      "epsd2/admin/u3adm/P118067 is not available or not complete\n"
     ]
    },
    {
     "name": "stderr",
     "output_type": "stream",
     "text": [
      " 98%|█████████▊| 70161/71496 [03:59<00:07, 173.52it/s]"
     ]
    },
    {
     "name": "stdout",
     "output_type": "stream",
     "text": [
      "epsd2/admin/u3adm/P511951 is not available or not complete\n",
      "epsd2/admin/u3adm/P109102 is not available or not complete\n"
     ]
    },
    {
     "name": "stderr",
     "output_type": "stream",
     "text": [
      " 98%|█████████▊| 70305/71496 [03:59<00:06, 173.99it/s]"
     ]
    },
    {
     "name": "stdout",
     "output_type": "stream",
     "text": [
      "epsd2/admin/u3adm/P331079 is not available or not complete\n"
     ]
    },
    {
     "name": "stderr",
     "output_type": "stream",
     "text": [
      " 99%|█████████▊| 70482/71496 [04:01<00:06, 165.16it/s]"
     ]
    },
    {
     "name": "stdout",
     "output_type": "stream",
     "text": [
      "epsd2/admin/u3adm/P512113 is not available or not complete\n"
     ]
    },
    {
     "name": "stderr",
     "output_type": "stream",
     "text": [
      " 99%|█████████▊| 70588/71496 [04:01<00:05, 170.93it/s]"
     ]
    },
    {
     "name": "stdout",
     "output_type": "stream",
     "text": [
      "epsd2/admin/u3adm/P511862 is not available or not complete\n",
      "epsd2/admin/u3adm/P511938 is not available or not complete\n"
     ]
    },
    {
     "name": "stderr",
     "output_type": "stream",
     "text": [
      " 99%|█████████▉| 70679/71496 [04:02<00:04, 174.05it/s]"
     ]
    },
    {
     "name": "stdout",
     "output_type": "stream",
     "text": [
      "epsd2/admin/u3adm/P476054 is not available or not complete\n"
     ]
    },
    {
     "name": "stderr",
     "output_type": "stream",
     "text": [
      " 99%|█████████▉| 71030/71496 [04:04<00:02, 177.93it/s]"
     ]
    },
    {
     "name": "stdout",
     "output_type": "stream",
     "text": [
      "epsd2/admin/u3adm/P512097 is not available or not complete\n",
      "epsd2/admin/u3adm/P511577 is not available or not complete\n"
     ]
    },
    {
     "name": "stderr",
     "output_type": "stream",
     "text": [
      "100%|█████████▉| 71139/71496 [04:04<00:02, 174.60it/s]"
     ]
    },
    {
     "name": "stdout",
     "output_type": "stream",
     "text": [
      "epsd2/admin/u3adm/P511541 is not available or not complete\n"
     ]
    },
    {
     "name": "stderr",
     "output_type": "stream",
     "text": [
      "100%|█████████▉| 71286/71496 [04:05<00:01, 172.65it/s]"
     ]
    },
    {
     "name": "stdout",
     "output_type": "stream",
     "text": [
      "epsd2/admin/u3adm/P109086 is not available or not complete\n"
     ]
    },
    {
     "name": "stderr",
     "output_type": "stream",
     "text": [
      "100%|█████████▉| 71377/71496 [04:06<00:00, 174.29it/s]"
     ]
    },
    {
     "name": "stdout",
     "output_type": "stream",
     "text": [
      "epsd2/admin/u3adm/P511470 is not available or not complete\n",
      "epsd2/admin/u3adm/P511479 is not available or not complete\n"
     ]
    },
    {
     "name": "stderr",
     "output_type": "stream",
     "text": [
      "100%|██████████| 71496/71496 [04:06<00:00, 289.57it/s]\n",
      "100%|██████████| 129/129 [00:00<00:00, 182.64it/s]\n",
      "  0%|          | 0/181 [00:00<?, ?it/s]"
     ]
    },
    {
     "name": "stdout",
     "output_type": "stream",
     "text": [
      "epsd2/admin/u3let/P117704 is not available or not complete\n"
     ]
    },
    {
     "name": "stderr",
     "output_type": "stream",
     "text": [
      " 56%|█████▌    | 101/181 [00:00<00:00, 320.40it/s]"
     ]
    },
    {
     "name": "stdout",
     "output_type": "stream",
     "text": [
      "epsd2/admin/u3leg/P200594 is not available or not complete\n",
      "epsd2/admin/u3leg/P111367 is not available or not complete\n"
     ]
    },
    {
     "name": "stderr",
     "output_type": "stream",
     "text": [
      "100%|██████████| 181/181 [00:00<00:00, 335.64it/s]\n",
      "  2%|▏         | 35/1424 [00:00<00:08, 164.77it/s]"
     ]
    },
    {
     "name": "stdout",
     "output_type": "stream",
     "text": [
      "epsd2/admin/oldbab/P261325 is not available or not complete\n",
      "epsd2/admin/oldbab/P276387 is not available or not complete\n",
      "epsd2/admin/oldbab/P256736 is not available or not complete\n"
     ]
    },
    {
     "name": "stderr",
     "output_type": "stream",
     "text": [
      " 12%|█▏        | 165/1424 [00:00<00:06, 181.45it/s]"
     ]
    },
    {
     "name": "stdout",
     "output_type": "stream",
     "text": [
      "epsd2/admin/oldbab/P283591 is not available or not complete\n",
      "epsd2/admin/oldbab/P283651 is not available or not complete\n",
      "epsd2/admin/oldbab/P270645 is not available or not complete\n",
      "epsd2/admin/oldbab/P257364 is not available or not complete\n",
      "epsd2/admin/oldbab/P259281 is not available or not complete\n"
     ]
    },
    {
     "name": "stderr",
     "output_type": "stream",
     "text": [
      " 20%|█▉        | 280/1424 [00:01<00:06, 186.74it/s]"
     ]
    },
    {
     "name": "stdout",
     "output_type": "stream",
     "text": [
      "epsd2/admin/oldbab/P224351 is not available or not complete\n"
     ]
    },
    {
     "name": "stderr",
     "output_type": "stream",
     "text": [
      " 24%|██▎       | 338/1424 [00:01<00:05, 186.27it/s]"
     ]
    },
    {
     "name": "stdout",
     "output_type": "stream",
     "text": [
      "epsd2/admin/oldbab/P257360 is not available or not complete\n",
      "epsd2/admin/oldbab/P224338 is not available or not complete\n",
      "epsd2/admin/oldbab/P283580 is not available or not complete\n"
     ]
    },
    {
     "name": "stderr",
     "output_type": "stream",
     "text": [
      " 28%|██▊       | 395/1424 [00:02<00:05, 183.85it/s]"
     ]
    },
    {
     "name": "stdout",
     "output_type": "stream",
     "text": [
      "epsd2/admin/oldbab/P256637 is not available or not complete\n"
     ]
    },
    {
     "name": "stderr",
     "output_type": "stream",
     "text": [
      " 30%|███       | 433/1424 [00:02<00:05, 180.36it/s]"
     ]
    },
    {
     "name": "stdout",
     "output_type": "stream",
     "text": [
      "epsd2/admin/oldbab/P257346 is not available or not complete\n",
      "epsd2/admin/oldbab/P257339 is not available or not complete\n"
     ]
    },
    {
     "name": "stderr",
     "output_type": "stream",
     "text": [
      " 34%|███▍      | 489/1424 [00:02<00:05, 169.95it/s]"
     ]
    },
    {
     "name": "stdout",
     "output_type": "stream",
     "text": [
      "epsd2/admin/oldbab/P283641 is not available or not complete\n",
      "epsd2/admin/oldbab/P454327 is not available or not complete\n",
      "epsd2/admin/oldbab/P283642 is not available or not complete\n"
     ]
    },
    {
     "name": "stderr",
     "output_type": "stream",
     "text": [
      " 39%|███▉      | 560/1424 [00:03<00:05, 168.90it/s]"
     ]
    },
    {
     "name": "stdout",
     "output_type": "stream",
     "text": [
      "epsd2/admin/oldbab/P256191 is not available or not complete\n",
      "epsd2/admin/oldbab/P223281 is not available or not complete\n",
      "epsd2/admin/oldbab/P266334 is not available or not complete\n",
      "epsd2/admin/oldbab/P257344 is not available or not complete\n",
      "epsd2/admin/oldbab/P283640 is not available or not complete\n"
     ]
    },
    {
     "name": "stderr",
     "output_type": "stream",
     "text": [
      " 43%|████▎     | 614/1424 [00:03<00:04, 173.24it/s]"
     ]
    },
    {
     "name": "stdout",
     "output_type": "stream",
     "text": [
      "epsd2/admin/oldbab/P283575 is not available or not complete\n",
      "epsd2/admin/oldbab/P283644 is not available or not complete\n"
     ]
    },
    {
     "name": "stderr",
     "output_type": "stream",
     "text": [
      " 48%|████▊     | 687/1424 [00:03<00:04, 177.07it/s]"
     ]
    },
    {
     "name": "stdout",
     "output_type": "stream",
     "text": [
      "epsd2/admin/oldbab/P266087 is not available or not complete\n"
     ]
    },
    {
     "name": "stderr",
     "output_type": "stream",
     "text": [
      " 51%|█████     | 723/1424 [00:04<00:03, 175.49it/s]"
     ]
    },
    {
     "name": "stdout",
     "output_type": "stream",
     "text": [
      "epsd2/admin/oldbab/P215929 is not available or not complete\n",
      "epsd2/admin/oldbab/P224346 is not available or not complete\n",
      "epsd2/admin/oldbab/P283604 is not available or not complete\n"
     ]
    },
    {
     "name": "stderr",
     "output_type": "stream",
     "text": [
      " 55%|█████▍    | 778/1424 [00:04<00:03, 177.64it/s]"
     ]
    },
    {
     "name": "stdout",
     "output_type": "stream",
     "text": [
      "epsd2/admin/oldbab/P236611 is not available or not complete\n",
      "epsd2/admin/oldbab/P277433 is not available or not complete\n",
      "epsd2/admin/oldbab/P259327 is not available or not complete\n"
     ]
    },
    {
     "name": "stderr",
     "output_type": "stream",
     "text": [
      " 58%|█████▊    | 833/1424 [00:04<00:03, 178.62it/s]"
     ]
    },
    {
     "name": "stdout",
     "output_type": "stream",
     "text": [
      "epsd2/admin/oldbab/P224352 is not available or not complete\n",
      "epsd2/admin/oldbab/P270654 is not available or not complete\n"
     ]
    },
    {
     "name": "stderr",
     "output_type": "stream",
     "text": [
      " 62%|██████▏   | 888/1424 [00:05<00:03, 176.54it/s]"
     ]
    },
    {
     "name": "stdout",
     "output_type": "stream",
     "text": [
      "epsd2/admin/oldbab/P283597 is not available or not complete\n"
     ]
    },
    {
     "name": "stderr",
     "output_type": "stream",
     "text": [
      " 66%|██████▌   | 942/1424 [00:05<00:02, 177.04it/s]"
     ]
    },
    {
     "name": "stdout",
     "output_type": "stream",
     "text": [
      "epsd2/admin/oldbab/P257369 is not available or not complete\n",
      "epsd2/admin/oldbab/P236320 is not available or not complete\n"
     ]
    },
    {
     "name": "stderr",
     "output_type": "stream",
     "text": [
      " 69%|██████▊   | 978/1424 [00:05<00:02, 174.74it/s]"
     ]
    },
    {
     "name": "stdout",
     "output_type": "stream",
     "text": [
      "epsd2/admin/oldbab/P270640 is not available or not complete\n",
      "epsd2/admin/oldbab/P224350 is not available or not complete\n",
      "epsd2/admin/oldbab/P262176 is not available or not complete\n",
      "epsd2/admin/oldbab/P283650 is not available or not complete\n",
      "epsd2/admin/oldbab/P283643 is not available or not complete\n"
     ]
    },
    {
     "name": "stderr",
     "output_type": "stream",
     "text": [
      " 79%|███████▉  | 1123/1424 [00:06<00:01, 176.20it/s]"
     ]
    },
    {
     "name": "stdout",
     "output_type": "stream",
     "text": [
      "epsd2/admin/oldbab/P283606 is not available or not complete\n"
     ]
    },
    {
     "name": "stderr",
     "output_type": "stream",
     "text": [
      " 83%|████████▎ | 1178/1424 [00:06<00:01, 178.19it/s]"
     ]
    },
    {
     "name": "stdout",
     "output_type": "stream",
     "text": [
      "epsd2/admin/oldbab/P224345 is not available or not complete\n",
      "epsd2/admin/oldbab/P453296 is not available or not complete\n"
     ]
    },
    {
     "name": "stderr",
     "output_type": "stream",
     "text": [
      " 90%|█████████ | 1288/1424 [00:07<00:00, 177.08it/s]"
     ]
    },
    {
     "name": "stdout",
     "output_type": "stream",
     "text": [
      "epsd2/admin/oldbab/P223265 is not available or not complete\n"
     ]
    },
    {
     "name": "stderr",
     "output_type": "stream",
     "text": [
      " 93%|█████████▎| 1324/1424 [00:07<00:00, 175.94it/s]"
     ]
    },
    {
     "name": "stdout",
     "output_type": "stream",
     "text": [
      "epsd2/admin/oldbab/P283686 is not available or not complete\n",
      "epsd2/admin/oldbab/P257363 is not available or not complete\n",
      "epsd2/admin/oldbab/P236662 is not available or not complete\n"
     ]
    },
    {
     "name": "stderr",
     "output_type": "stream",
     "text": [
      " 97%|█████████▋| 1378/1424 [00:07<00:00, 171.35it/s]"
     ]
    },
    {
     "name": "stdout",
     "output_type": "stream",
     "text": [
      "epsd2/admin/oldbab/P236321 is not available or not complete\n"
     ]
    },
    {
     "name": "stderr",
     "output_type": "stream",
     "text": [
      " 99%|█████████▉| 1414/1424 [00:08<00:00, 169.19it/s]"
     ]
    },
    {
     "name": "stdout",
     "output_type": "stream",
     "text": [
      "epsd2/admin/oldbab/P276334 is not available or not complete\n",
      "epsd2/admin/oldbab/P257347 is not available or not complete\n",
      "epsd2/admin/oldbab/P283645 is not available or not complete\n",
      "epsd2/admin/oldbab/P283590 is not available or not complete\n"
     ]
    },
    {
     "name": "stderr",
     "output_type": "stream",
     "text": [
      "100%|██████████| 1424/1424 [00:08<00:00, 176.43it/s]\n",
      "  5%|▌         | 21/394 [00:00<00:03, 98.84it/s]"
     ]
    },
    {
     "name": "stdout",
     "output_type": "stream",
     "text": [
      "epsd2/literary/Q000803 is not available or not complete\n",
      "epsd2/literary/Q000680 is not available or not complete\n",
      "epsd2/literary/Q000751 is not available or not complete\n"
     ]
    },
    {
     "name": "stderr",
     "output_type": "stream",
     "text": [
      "  9%|▉         | 36/394 [00:00<00:07, 47.77it/s]"
     ]
    },
    {
     "name": "stdout",
     "output_type": "stream",
     "text": [
      "epsd2/literary/Q000340 is not available or not complete\n",
      "epsd2/literary/Q000337 is not available or not complete\n",
      "epsd2/literary/Q000663 is not available or not complete\n"
     ]
    },
    {
     "name": "stderr",
     "output_type": "stream",
     "text": [
      " 14%|█▍        | 55/394 [00:00<00:05, 62.20it/s]"
     ]
    },
    {
     "name": "stdout",
     "output_type": "stream",
     "text": [
      "epsd2/literary/Q000531 is not available or not complete\n",
      "epsd2/literary/Q000619 is not available or not complete\n"
     ]
    },
    {
     "name": "stderr",
     "output_type": "stream",
     "text": [
      " 26%|██▌       | 101/394 [00:01<00:04, 65.16it/s]"
     ]
    },
    {
     "name": "stdout",
     "output_type": "stream",
     "text": [
      "epsd2/literary/Q000697 is not available or not complete\n",
      "epsd2/literary/Q000802 is not available or not complete\n",
      "epsd2/literary/Q000736 is not available or not complete\n"
     ]
    },
    {
     "name": "stderr",
     "output_type": "stream",
     "text": [
      " 33%|███▎      | 129/394 [00:02<00:04, 57.06it/s]"
     ]
    },
    {
     "name": "stdout",
     "output_type": "stream",
     "text": [
      "epsd2/literary/Q000370 is not available or not complete\n",
      "epsd2/literary/Q000649 is not available or not complete\n",
      "epsd2/literary/Q000690 is not available or not complete\n"
     ]
    },
    {
     "name": "stderr",
     "output_type": "stream",
     "text": [
      " 38%|███▊      | 149/394 [00:02<00:03, 71.45it/s]"
     ]
    },
    {
     "name": "stdout",
     "output_type": "stream",
     "text": [
      "epsd2/literary/Q000653 is not available or not complete\n"
     ]
    },
    {
     "name": "stderr",
     "output_type": "stream",
     "text": [
      " 42%|████▏     | 167/394 [00:03<00:04, 49.32it/s]"
     ]
    },
    {
     "name": "stdout",
     "output_type": "stream",
     "text": [
      "epsd2/literary/Q000351 is not available or not complete\n",
      "epsd2/literary/Q000557 is not available or not complete\n"
     ]
    },
    {
     "name": "stderr",
     "output_type": "stream",
     "text": [
      " 55%|█████▌    | 217/394 [00:03<00:03, 51.11it/s]"
     ]
    },
    {
     "name": "stdout",
     "output_type": "stream",
     "text": [
      "epsd2/literary/Q000367 is not available or not complete\n"
     ]
    },
    {
     "name": "stderr",
     "output_type": "stream",
     "text": [
      " 62%|██████▏   | 246/394 [00:04<00:02, 71.61it/s]"
     ]
    },
    {
     "name": "stdout",
     "output_type": "stream",
     "text": [
      "epsd2/literary/Q000647 is not available or not complete\n",
      "epsd2/literary/Q000796 is not available or not complete\n"
     ]
    },
    {
     "name": "stderr",
     "output_type": "stream",
     "text": [
      " 66%|██████▋   | 262/394 [00:04<00:03, 42.75it/s]"
     ]
    },
    {
     "name": "stdout",
     "output_type": "stream",
     "text": [
      "epsd2/literary/Q000806 is not available or not complete\n",
      "epsd2/literary/Q000447 is not available or not complete\n"
     ]
    },
    {
     "name": "stderr",
     "output_type": "stream",
     "text": [
      "\r",
      " 69%|██████▉   | 272/394 [00:04<00:02, 51.30it/s]"
     ]
    },
    {
     "name": "stdout",
     "output_type": "stream",
     "text": [
      "epsd2/literary/Q000406 is not available or not complete\n"
     ]
    },
    {
     "name": "stderr",
     "output_type": "stream",
     "text": [
      " 79%|███████▉  | 311/394 [00:05<00:01, 62.01it/s]"
     ]
    },
    {
     "name": "stdout",
     "output_type": "stream",
     "text": [
      "epsd2/literary/Q000349 is not available or not complete\n",
      "epsd2/literary/Q000354 is not available or not complete\n",
      "epsd2/literary/Q000397 is not available or not complete\n"
     ]
    },
    {
     "name": "stderr",
     "output_type": "stream",
     "text": [
      " 84%|████████▎ | 329/394 [00:05<00:00, 68.56it/s]"
     ]
    },
    {
     "name": "stdout",
     "output_type": "stream",
     "text": [
      "epsd2/literary/Q000513 is not available or not complete\n"
     ]
    },
    {
     "name": "stderr",
     "output_type": "stream",
     "text": [
      " 88%|████████▊ | 348/394 [00:06<00:01, 40.90it/s]"
     ]
    },
    {
     "name": "stdout",
     "output_type": "stream",
     "text": [
      "epsd2/literary/Q000765 is not available or not complete\n",
      "epsd2/literary/Q000335 is not available or not complete\n",
      "epsd2/literary/Q000362 is not available or not complete\n",
      "epsd2/literary/Q000363 is not available or not complete\n",
      "epsd2/literary/Q000334 is not available or not complete\n"
     ]
    },
    {
     "name": "stderr",
     "output_type": "stream",
     "text": [
      " 95%|█████████▌| 376/394 [00:06<00:00, 62.18it/s]"
     ]
    },
    {
     "name": "stdout",
     "output_type": "stream",
     "text": [
      "epsd2/literary/Q000420 is not available or not complete\n"
     ]
    },
    {
     "name": "stderr",
     "output_type": "stream",
     "text": [
      "100%|██████████| 394/394 [00:07<00:00, 52.87it/s]\n",
      "0it [00:00, ?it/s]\n",
      "100%|██████████| 35/35 [00:00<00:00, 148.09it/s]\n",
      " 16%|█▋        | 221/1348 [00:01<00:06, 177.57it/s]"
     ]
    },
    {
     "name": "stdout",
     "output_type": "stream",
     "text": [
      "epsd2/royal/Q002235 is not available or not complete\n"
     ]
    },
    {
     "name": "stderr",
     "output_type": "stream",
     "text": [
      " 37%|███▋      | 501/1348 [00:03<00:05, 160.88it/s]"
     ]
    },
    {
     "name": "stdout",
     "output_type": "stream",
     "text": [
      "epsd2/royal/Q001541 is not available or not complete\n"
     ]
    },
    {
     "name": "stderr",
     "output_type": "stream",
     "text": [
      " 98%|█████████▊| 1321/1348 [00:07<00:00, 166.99it/s]"
     ]
    },
    {
     "name": "stdout",
     "output_type": "stream",
     "text": [
      "epsd2/royal/Q002128 is not available or not complete\n"
     ]
    },
    {
     "name": "stderr",
     "output_type": "stream",
     "text": [
      "100%|██████████| 1348/1348 [00:08<00:00, 165.51it/s]\n",
      " 11%|█         | 27/242 [00:00<00:01, 129.14it/s]"
     ]
    },
    {
     "name": "stdout",
     "output_type": "stream",
     "text": [
      "epsd2/praxis/P343027 is not available or not complete\n",
      "epsd2/praxis/P305846 is not available or not complete\n",
      "epsd2/praxis/P345540 is not available or not complete\n",
      "epsd2/praxis/P355757 is not available or not complete\n",
      "epsd2/praxis/P273907 is not available or not complete\n"
     ]
    },
    {
     "name": "stderr",
     "output_type": "stream",
     "text": [
      " 33%|███▎      | 80/242 [00:00<00:01, 125.95it/s]"
     ]
    },
    {
     "name": "stdout",
     "output_type": "stream",
     "text": [
      "epsd2/praxis/P355751 is not available or not complete\n",
      "epsd2/praxis/P241759 is not available or not complete\n",
      "epsd2/praxis/P278988 is not available or not complete\n",
      "epsd2/praxis/P355878 is not available or not complete\n",
      "epsd2/praxis/P355710 is not available or not complete\n"
     ]
    },
    {
     "name": "stderr",
     "output_type": "stream",
     "text": [
      " 44%|████▍     | 107/242 [00:00<00:01, 123.93it/s]"
     ]
    },
    {
     "name": "stdout",
     "output_type": "stream",
     "text": [
      "epsd2/praxis/P242007 is not available or not complete\n",
      "epsd2/praxis/P355711 is not available or not complete\n",
      "epsd2/praxis/P355707 is not available or not complete\n",
      "epsd2/praxis/P355910 is not available or not complete\n",
      "epsd2/praxis/P355712 is not available or not complete\n"
     ]
    },
    {
     "name": "stderr",
     "output_type": "stream",
     "text": [
      " 55%|█████▌    | 134/242 [00:01<00:00, 126.30it/s]"
     ]
    },
    {
     "name": "stdout",
     "output_type": "stream",
     "text": [
      "epsd2/praxis/P283741 is not available or not complete\n",
      "epsd2/praxis/P222388 is not available or not complete\n",
      "epsd2/praxis/P257768 is not available or not complete\n"
     ]
    },
    {
     "name": "stderr",
     "output_type": "stream",
     "text": [
      " 72%|███████▏  | 174/242 [00:01<00:00, 124.01it/s]"
     ]
    },
    {
     "name": "stdout",
     "output_type": "stream",
     "text": [
      "epsd2/praxis/P347165 is not available or not complete\n",
      "epsd2/praxis/P273888 is not available or not complete\n",
      "epsd2/praxis/P343022 is not available or not complete\n",
      "epsd2/praxis/P342998 is not available or not complete\n",
      "epsd2/praxis/P355877 is not available or not complete\n",
      "epsd2/praxis/P345800 is not available or not complete\n"
     ]
    },
    {
     "name": "stderr",
     "output_type": "stream",
     "text": [
      "\r",
      " 78%|███████▊  | 188/242 [00:01<00:00, 126.74it/s]"
     ]
    },
    {
     "name": "stdout",
     "output_type": "stream",
     "text": [
      "epsd2/praxis/P010644 is not available or not complete\n",
      "epsd2/praxis/P368477 is not available or not complete\n",
      "epsd2/praxis/P257778 is not available or not complete\n",
      "epsd2/praxis/P343044 is not available or not complete\n",
      "epsd2/praxis/P263102 is not available or not complete\n"
     ]
    },
    {
     "name": "stderr",
     "output_type": "stream",
     "text": [
      " 88%|████████▊ | 214/242 [00:01<00:00, 82.19it/s] "
     ]
    },
    {
     "name": "stdout",
     "output_type": "stream",
     "text": [
      "epsd2/praxis/P258045 is not available or not complete\n",
      "epsd2/praxis/P307377 is not available or not complete\n",
      "epsd2/praxis/P010665 is not available or not complete\n",
      "epsd2/praxis/P258843 is not available or not complete\n",
      "epsd2/praxis/P309368 is not available or not complete\n",
      "epsd2/praxis/P345543 is not available or not complete\n"
     ]
    },
    {
     "name": "stderr",
     "output_type": "stream",
     "text": [
      "100%|██████████| 242/242 [00:02<00:00, 112.15it/s]\n",
      "  0%|          | 13/4290 [00:00<00:33, 127.69it/s]"
     ]
    },
    {
     "name": "stdout",
     "output_type": "stream",
     "text": [
      "epsd2/praxis/P142390 is not available or not complete\n",
      "epsd2/praxis/P345534 is not available or not complete\n",
      "epsd2/praxis/P355888 is not available or not complete\n"
     ]
    },
    {
     "name": "stderr",
     "output_type": "stream",
     "text": [
      " 18%|█▊        | 762/4290 [00:06<00:31, 110.57it/s]"
     ]
    },
    {
     "name": "stdout",
     "output_type": "stream",
     "text": [
      "dcclt/P347051 is not available or not complete\n"
     ]
    },
    {
     "name": "stderr",
     "output_type": "stream",
     "text": [
      " 19%|█▉        | 834/4290 [00:07<00:28, 122.43it/s]"
     ]
    },
    {
     "name": "stdout",
     "output_type": "stream",
     "text": [
      "dcclt/P230204 is not available or not complete\n"
     ]
    },
    {
     "name": "stderr",
     "output_type": "stream",
     "text": [
      " 36%|███▌      | 1550/4290 [00:13<00:20, 135.82it/s]"
     ]
    },
    {
     "name": "stdout",
     "output_type": "stream",
     "text": [
      "dcclt/P388558 is not available or not complete\n"
     ]
    },
    {
     "name": "stderr",
     "output_type": "stream",
     "text": [
      " 47%|████▋     | 2034/4290 [00:17<00:15, 150.14it/s]"
     ]
    },
    {
     "name": "stdout",
     "output_type": "stream",
     "text": [
      "dcclt/P274929 is not available or not complete\n"
     ]
    },
    {
     "name": "stderr",
     "output_type": "stream",
     "text": [
      " 48%|████▊     | 2067/4290 [00:18<00:23, 93.57it/s] "
     ]
    },
    {
     "name": "stdout",
     "output_type": "stream",
     "text": [
      "dcclt/Q000050 is not available or not complete\n"
     ]
    },
    {
     "name": "stderr",
     "output_type": "stream",
     "text": [
      " 84%|████████▍ | 3615/4290 [00:31<00:05, 116.65it/s]"
     ]
    },
    {
     "name": "stdout",
     "output_type": "stream",
     "text": [
      "dcclt/P230401 is not available or not complete\n"
     ]
    },
    {
     "name": "stderr",
     "output_type": "stream",
     "text": [
      " 86%|████████▌ | 3668/4290 [00:31<00:05, 122.61it/s]"
     ]
    },
    {
     "name": "stdout",
     "output_type": "stream",
     "text": [
      "dcclt/Q000064 is not available or not complete\n"
     ]
    },
    {
     "name": "stderr",
     "output_type": "stream",
     "text": [
      "100%|██████████| 4290/4290 [00:36<00:00, 116.18it/s]\n",
      "100%|██████████| 100/100 [00:00<00:00, 141.13it/s]\n",
      "100%|██████████| 92/92 [00:00<00:00, 160.20it/s]\n",
      "  6%|▌         | 23/397 [00:00<00:03, 108.96it/s]"
     ]
    },
    {
     "name": "stdout",
     "output_type": "stream",
     "text": [
      "blms/P395374 is not available or not complete\n"
     ]
    },
    {
     "name": "stderr",
     "output_type": "stream",
     "text": [
      " 12%|█▏        | 48/397 [00:00<00:03, 113.59it/s]"
     ]
    },
    {
     "name": "stdout",
     "output_type": "stream",
     "text": [
      "blms/P404904 is not available or not complete\n"
     ]
    },
    {
     "name": "stderr",
     "output_type": "stream",
     "text": [
      "100%|██████████| 397/397 [00:03<00:00, 110.54it/s]"
     ]
    },
    {
     "name": "stdout",
     "output_type": "stream",
     "text": [
      "blms/P369092 is not available or not complete\n"
     ]
    },
    {
     "name": "stderr",
     "output_type": "stream",
     "text": [
      "\n"
     ]
    }
   ],
   "source": [
    "all_ = []\n",
    "lemm_ = []\n",
    "ids_ = []\n",
    "for project in p:\n",
    "    file = \"jsonzip/\" + project.replace(\"/\", \"-\") + \".zip\"\n",
    "    try:\n",
    "        z = zipfile.ZipFile(file)       # create a Zipfile object\n",
    "    except:\n",
    "        print(file + \" does not exist or is not a proper ZIP file\")\n",
    "        continue\n",
    "    files = z.namelist()     # list of all the files in the ZIP\n",
    "    files = [name for name in files if \"corpusjson\" in name and name[-5:] == '.json']                                                                                                  #that holds all the P, Q, and X numbers.\n",
    "    for filename in tqdm.tqdm(files):                            #iterate over the file names\n",
    "        id_no = filename[-13:-5]\n",
    "        if id_no in ids_ and not \"X\" in id_no: # Check if P/Q number is already in there\n",
    "            continue        # a text may appear in multiple projects\n",
    "        id_text = project + id_no # id_text is, for instance, blms/P414332\n",
    "        try:\n",
    "            text = z.read(filename).decode('utf-8')         #read and decode the json file of one particular text\n",
    "            data_json = json.loads(text)                # make it into a json object (essentially a dictionary)\n",
    "            all_.append('Start'+id_text)\n",
    "            lemm_.append('Start'+id_text)   # to keep all_ and lemm_ same length\n",
    "            parsejson_signs(data_json)\n",
    "            ids_.append(id_no)\n",
    "            #print(filename)\n",
    "        except:\n",
    "            print(id_text + ' is not available or not complete')"
   ]
  },
  {
   "cell_type": "markdown",
   "metadata": {},
   "source": [
    "## 3 Data Structuring\n",
    "### 3.1 Transform the Data into a DataFrame\n"
   ]
  },
  {
   "cell_type": "code",
   "execution_count": 7,
   "metadata": {},
   "outputs": [
    {
     "name": "stderr",
     "output_type": "stream",
     "text": [
      "100%|██████████| 4337761/4337761 [00:17<00:00, 241250.29it/s]\n"
     ]
    }
   ],
   "source": [
    "words_l = []\n",
    "separators = ['{', '}', '-']\n",
    "separators2 = ['.', '+', '|']\n",
    "operators = ['&', '%', '@', '×']\n",
    "for e in tqdm.tqdm(all_):\n",
    "    word = []\n",
    "    if '1(šar₂{gal})' in e: # this cheating but it seems to work (appears in SKL 38)\n",
    "            e = e.replace('1(šar₂{gal})', '1(šar₂)-gal')\n",
    "    for s in separators: # first split word into signs   \n",
    "        e = e.replace(s, ' ').strip()\n",
    "    s_l = e.split()\n",
    "    for sign in s_l:\n",
    "        if sign[-1] == ')': # qualified sign - get only the qualifier\n",
    "            stack = []  # |GIŠ×(GIŠ%GIŠ)|(LAK277) becomes LAK277\n",
    "            ind = {}    # LAK277(|GIŠ×(GIŠ%GIŠ)|) becomes |GIŠ×(GIŠ%GIŠ)|\n",
    "            for i, c in reversed(list(enumerate(sign))):\n",
    "                if c == ')':\n",
    "                    stack.append(i)\n",
    "                if c == '(':\n",
    "                    ind[stack.pop()] = i   # find the opening parens that belongs to the closing parens at position -1    \n",
    "            start = ind[len(sign)-1]   # this line fails on 1(šar₂{gal}) in SKL.\n",
    "            t = sign[start+1:-1]\n",
    "            if t.isupper(): #leave 1(diš) etc. alone\n",
    "                sign = t\n",
    "            \n",
    "        if '|' in sign:  # separate |DU.DU| and |DU+DU| into its components but not |DU&DU|\n",
    "                        # and also not |DU.DU&DU|\n",
    "            flag = False\n",
    "            for o in operators:\n",
    "                if o in sign:\n",
    "                    flag = True\n",
    "            if not flag:\n",
    "                for s in separators2:\n",
    "                    sign = sign.replace(s, ' ').strip() \n",
    "                sign_l = sign.split()\n",
    "                word.extend(sign_l)\n",
    "                continue\n",
    "        elif \"+\" in sign:  # + as marker of gloss\n",
    "            sign = sign.replace('+', ' ').strip()\n",
    "            sign_l = sign.split()\n",
    "            word.extend(sign_l)\n",
    "            continue\n",
    "        word.append(sign)\n",
    "    words_l.append(word)           "
   ]
  },
  {
   "cell_type": "code",
   "execution_count": 8,
   "metadata": {},
   "outputs": [],
   "source": [
    "with open(\"output/ogsl.p\", \"rb\") as f:\n",
    "    o = pickle.load(f)"
   ]
  },
  {
   "cell_type": "code",
   "execution_count": 9,
   "metadata": {},
   "outputs": [],
   "source": [
    "val = list(o[\"value\"])\n",
    "utf = list(o[\"utf8\"])\n",
    "names = list(o[\"name\"])"
   ]
  },
  {
   "cell_type": "code",
   "execution_count": 10,
   "metadata": {},
   "outputs": [],
   "source": [
    "d = dict(zip(names, utf))\n",
    "d2 = dict(zip(val,names))"
   ]
  },
  {
   "cell_type": "code",
   "execution_count": 11,
   "metadata": {},
   "outputs": [
    {
     "name": "stderr",
     "output_type": "stream",
     "text": [
      "100%|██████████| 4337761/4337761 [00:11<00:00, 383123.97it/s]\n"
     ]
    }
   ],
   "source": [
    "names_l = []\n",
    "utf8_l = []\n",
    "for w in tqdm.tqdm(words_l):\n",
    "    seq = [d2[s.lower()] if s.lower() in d2 else s for s in w]\n",
    "    names_l.append(seq)\n",
    "    utf8 = [d[n] if n in d else n for n in seq]\n",
    "    utf8_l.append(''.join(utf8))"
   ]
  },
  {
   "cell_type": "code",
   "execution_count": 12,
   "metadata": {},
   "outputs": [
    {
     "data": {
      "text/html": [
       "<div>\n",
       "<style scoped>\n",
       "    .dataframe tbody tr th:only-of-type {\n",
       "        vertical-align: middle;\n",
       "    }\n",
       "\n",
       "    .dataframe tbody tr th {\n",
       "        vertical-align: top;\n",
       "    }\n",
       "\n",
       "    .dataframe thead th {\n",
       "        text-align: right;\n",
       "    }\n",
       "</style>\n",
       "<table border=\"1\" class=\"dataframe\">\n",
       "  <thead>\n",
       "    <tr style=\"text-align: right;\">\n",
       "      <th></th>\n",
       "      <th>transliteration</th>\n",
       "      <th>words</th>\n",
       "      <th>names</th>\n",
       "      <th>utf-8</th>\n",
       "      <th>lemm</th>\n",
       "    </tr>\n",
       "  </thead>\n",
       "  <tbody>\n",
       "    <tr>\n",
       "      <th>0</th>\n",
       "      <td>Startepsd2/admin/ed3a/P011046</td>\n",
       "      <td>[Startepsd2/admin/ed3a/P011046]</td>\n",
       "      <td>[Startepsd2/admin/ed3a/P011046]</td>\n",
       "      <td>Startepsd2/admin/ed3a/P011046</td>\n",
       "      <td>Startepsd2/admin/ed3a/P011046</td>\n",
       "    </tr>\n",
       "    <tr>\n",
       "      <th>1</th>\n",
       "      <td>1(barig@c)</td>\n",
       "      <td>[1(barig@c)]</td>\n",
       "      <td>[DIŠ]</td>\n",
       "      <td>𒁹</td>\n",
       "      <td>1(barig@c)</td>\n",
       "    </tr>\n",
       "    <tr>\n",
       "      <th>2</th>\n",
       "      <td>še</td>\n",
       "      <td>[še]</td>\n",
       "      <td>[ŠE]</td>\n",
       "      <td>𒊺</td>\n",
       "      <td>še[barley]N</td>\n",
       "    </tr>\n",
       "    <tr>\n",
       "      <th>3</th>\n",
       "      <td>ba-lul</td>\n",
       "      <td>[ba, lul]</td>\n",
       "      <td>[BA, LUL]</td>\n",
       "      <td>𒁀𒈜</td>\n",
       "      <td>ba-lul</td>\n",
       "    </tr>\n",
       "    <tr>\n",
       "      <th>4</th>\n",
       "      <td>nagar</td>\n",
       "      <td>[nagar]</td>\n",
       "      <td>[NAGAR]</td>\n",
       "      <td>𒉄</td>\n",
       "      <td>nagar[carpenter]N</td>\n",
       "    </tr>\n",
       "    <tr>\n",
       "      <th>5</th>\n",
       "      <td>1(barig@c)</td>\n",
       "      <td>[1(barig@c)]</td>\n",
       "      <td>[DIŠ]</td>\n",
       "      <td>𒁹</td>\n",
       "      <td>1(barig@c)</td>\n",
       "    </tr>\n",
       "    <tr>\n",
       "      <th>6</th>\n",
       "      <td>nig₂-du₇</td>\n",
       "      <td>[nig₂, du₇]</td>\n",
       "      <td>[GAR, |U.GUD|]</td>\n",
       "      <td>𒃻𒌌</td>\n",
       "      <td>niŋdu[appropriate-thing]N</td>\n",
       "    </tr>\n",
       "    <tr>\n",
       "      <th>7</th>\n",
       "      <td>ag₂</td>\n",
       "      <td>[ag₂]</td>\n",
       "      <td>[|NINDA₂×NE|]</td>\n",
       "      <td>𒉘</td>\n",
       "      <td>aŋ[measure]V/t</td>\n",
       "    </tr>\n",
       "    <tr>\n",
       "      <th>8</th>\n",
       "      <td>hur-sag-še₃-mah</td>\n",
       "      <td>[hur, sag, še₃, mah]</td>\n",
       "      <td>[|HI×AŠ₂|, SAG, EŠ₂, MAH]</td>\n",
       "      <td>𒄯𒊕𒂠𒈤</td>\n",
       "      <td>hur-sag-še₃-mah</td>\n",
       "    </tr>\n",
       "    <tr>\n",
       "      <th>9</th>\n",
       "      <td>sa₁₂-du₅</td>\n",
       "      <td>[sa₁₂, du₅]</td>\n",
       "      <td>[SAG, DUN₃]</td>\n",
       "      <td>𒊕𒂅</td>\n",
       "      <td>saŋ.DUN₃[recorder]N</td>\n",
       "    </tr>\n",
       "    <tr>\n",
       "      <th>10</th>\n",
       "      <td>Startepsd2/admin/ed3a/P010836</td>\n",
       "      <td>[Startepsd2/admin/ed3a/P010836]</td>\n",
       "      <td>[Startepsd2/admin/ed3a/P010836]</td>\n",
       "      <td>Startepsd2/admin/ed3a/P010836</td>\n",
       "      <td>Startepsd2/admin/ed3a/P010836</td>\n",
       "    </tr>\n",
       "    <tr>\n",
       "      <th>11</th>\n",
       "      <td>2(iku@c)</td>\n",
       "      <td>[2(iku@c)]</td>\n",
       "      <td>[2(iku@c)]</td>\n",
       "      <td>2(iku@c)</td>\n",
       "      <td>2(iku@c)</td>\n",
       "    </tr>\n",
       "    <tr>\n",
       "      <th>12</th>\n",
       "      <td>GAN₂</td>\n",
       "      <td>[GAN₂]</td>\n",
       "      <td>[GAN₂]</td>\n",
       "      <td>𒃷</td>\n",
       "      <td>iku[unit]N</td>\n",
       "    </tr>\n",
       "    <tr>\n",
       "      <th>13</th>\n",
       "      <td>har-tu-{d}sud₃</td>\n",
       "      <td>[har, tu, d, sud₃]</td>\n",
       "      <td>[|HI×AŠ₂|, TU, AN, |SU.KUR.RU|]</td>\n",
       "      <td>𒄯𒌅𒀭𒋢𒆳𒊒</td>\n",
       "      <td>har-tu-{d}sud₃</td>\n",
       "    </tr>\n",
       "    <tr>\n",
       "      <th>14</th>\n",
       "      <td>nu-kiri₆</td>\n",
       "      <td>[nu, kiri₆]</td>\n",
       "      <td>[NU, SAR]</td>\n",
       "      <td>𒉡𒊬</td>\n",
       "      <td>nukirik[gardener]N</td>\n",
       "    </tr>\n",
       "    <tr>\n",
       "      <th>15</th>\n",
       "      <td>2(iku@c)</td>\n",
       "      <td>[2(iku@c)]</td>\n",
       "      <td>[2(iku@c)]</td>\n",
       "      <td>2(iku@c)</td>\n",
       "      <td>2(iku@c)</td>\n",
       "    </tr>\n",
       "    <tr>\n",
       "      <th>16</th>\n",
       "      <td>me-zi-pa-e₃</td>\n",
       "      <td>[me, zi, pa, e₃]</td>\n",
       "      <td>[ME, ZI, PA, |UD.DU|]</td>\n",
       "      <td>𒈨𒍣𒉺𒌓𒁺</td>\n",
       "      <td>me-zi-pa-e₃</td>\n",
       "    </tr>\n",
       "    <tr>\n",
       "      <th>17</th>\n",
       "      <td>2(iku@c)</td>\n",
       "      <td>[2(iku@c)]</td>\n",
       "      <td>[2(iku@c)]</td>\n",
       "      <td>2(iku@c)</td>\n",
       "      <td>2(iku@c)</td>\n",
       "    </tr>\n",
       "    <tr>\n",
       "      <th>18</th>\n",
       "      <td>1/2(iku@c)</td>\n",
       "      <td>[1/2(iku@c)]</td>\n",
       "      <td>[1/2(iku@c)]</td>\n",
       "      <td>1/2(iku@c)</td>\n",
       "      <td>1/2(iku@c)</td>\n",
       "    </tr>\n",
       "    <tr>\n",
       "      <th>19</th>\n",
       "      <td>har-tu-{d}sud₃</td>\n",
       "      <td>[har, tu, d, sud₃]</td>\n",
       "      <td>[|HI×AŠ₂|, TU, AN, |SU.KUR.RU|]</td>\n",
       "      <td>𒄯𒌅𒀭𒋢𒆳𒊒</td>\n",
       "      <td>har-tu-{d}sud₃</td>\n",
       "    </tr>\n",
       "    <tr>\n",
       "      <th>20</th>\n",
       "      <td>ša₃-gu₂-ba</td>\n",
       "      <td>[ša₃, gu₂, ba]</td>\n",
       "      <td>[ŠA₃, GU₂, BA]</td>\n",
       "      <td>𒊮𒄘𒁀</td>\n",
       "      <td>ša₃-gu₂-ba</td>\n",
       "    </tr>\n",
       "    <tr>\n",
       "      <th>21</th>\n",
       "      <td>4(iku@c)</td>\n",
       "      <td>[4(iku@c)]</td>\n",
       "      <td>[4(iku@c)]</td>\n",
       "      <td>4(iku@c)</td>\n",
       "      <td>4(iku@c)</td>\n",
       "    </tr>\n",
       "    <tr>\n",
       "      <th>22</th>\n",
       "      <td>1/2(iku@c)</td>\n",
       "      <td>[1/2(iku@c)]</td>\n",
       "      <td>[1/2(iku@c)]</td>\n",
       "      <td>1/2(iku@c)</td>\n",
       "      <td>1/2(iku@c)</td>\n",
       "    </tr>\n",
       "    <tr>\n",
       "      <th>23</th>\n",
       "      <td>AŠ₂-mud</td>\n",
       "      <td>[AŠ₂, mud]</td>\n",
       "      <td>[AŠ₂, |HU.HI|]</td>\n",
       "      <td>𒀾𒄷𒄭</td>\n",
       "      <td>AŠ₂-mud</td>\n",
       "    </tr>\n",
       "    <tr>\n",
       "      <th>24</th>\n",
       "      <td>3(iku@c)</td>\n",
       "      <td>[3(iku@c)]</td>\n",
       "      <td>[3(iku@c)]</td>\n",
       "      <td>3(iku@c)</td>\n",
       "      <td>3(iku@c)</td>\n",
       "    </tr>\n",
       "    <tr>\n",
       "      <th>25</th>\n",
       "      <td>du₆-du₆</td>\n",
       "      <td>[du₆, du₆]</td>\n",
       "      <td>[LAGAR@g, LAGAR@g]</td>\n",
       "      <td>𒇯𒇯</td>\n",
       "      <td>dud[mound]N</td>\n",
       "    </tr>\n",
       "    <tr>\n",
       "      <th>26</th>\n",
       "      <td>gala</td>\n",
       "      <td>[gala]</td>\n",
       "      <td>[|UŠ.KU|]</td>\n",
       "      <td>𒍑𒆪</td>\n",
       "      <td>gala[singer]N</td>\n",
       "    </tr>\n",
       "    <tr>\n",
       "      <th>27</th>\n",
       "      <td>2(iku@c)</td>\n",
       "      <td>[2(iku@c)]</td>\n",
       "      <td>[2(iku@c)]</td>\n",
       "      <td>2(iku@c)</td>\n",
       "      <td>2(iku@c)</td>\n",
       "    </tr>\n",
       "    <tr>\n",
       "      <th>28</th>\n",
       "      <td>a-lu-lu</td>\n",
       "      <td>[a, lu, lu]</td>\n",
       "      <td>[A, LU, LU]</td>\n",
       "      <td>𒀀𒇻𒇻</td>\n",
       "      <td>a-lu-lu</td>\n",
       "    </tr>\n",
       "    <tr>\n",
       "      <th>29</th>\n",
       "      <td>gu₂-šu-du₈</td>\n",
       "      <td>[gu₂, šu, du₈]</td>\n",
       "      <td>[GU₂, ŠU, GABA]</td>\n",
       "      <td>𒄘𒋗𒃮</td>\n",
       "      <td>lugušudu[profession]N</td>\n",
       "    </tr>\n",
       "    <tr>\n",
       "      <th>...</th>\n",
       "      <td>...</td>\n",
       "      <td>...</td>\n",
       "      <td>...</td>\n",
       "      <td>...</td>\n",
       "      <td>...</td>\n",
       "    </tr>\n",
       "    <tr>\n",
       "      <th>4337731</th>\n",
       "      <td>me-e</td>\n",
       "      <td>[me, e]</td>\n",
       "      <td>[ME, E]</td>\n",
       "      <td>𒈨𒂊</td>\n",
       "      <td>me[Being]N</td>\n",
       "    </tr>\n",
       "    <tr>\n",
       "      <th>4337732</th>\n",
       "      <td>a-ra-zu</td>\n",
       "      <td>[a, ra, zu]</td>\n",
       "      <td>[A, RA, ZU]</td>\n",
       "      <td>𒀀𒊏𒍪</td>\n",
       "      <td>arazu[supplication]N</td>\n",
       "    </tr>\n",
       "    <tr>\n",
       "      <th>4337733</th>\n",
       "      <td>ga-an-na-ab-dug₄</td>\n",
       "      <td>[ga, an, na, ab, dug₄]</td>\n",
       "      <td>[GA, AN, NA, AB, KA]</td>\n",
       "      <td>𒂵𒀭𒈾𒀊𒅗</td>\n",
       "      <td>dug[speak]V/t</td>\n",
       "    </tr>\n",
       "    <tr>\n",
       "      <th>4337734</th>\n",
       "      <td>di-kud</td>\n",
       "      <td>[di, kud]</td>\n",
       "      <td>[DI, TAR]</td>\n",
       "      <td>𒁲𒋻</td>\n",
       "      <td>dikud[judge]N</td>\n",
       "    </tr>\n",
       "    <tr>\n",
       "      <th>4337735</th>\n",
       "      <td>diŋir-re-e-ne</td>\n",
       "      <td>[diŋir, re, e, ne]</td>\n",
       "      <td>[AN, RI, E, NE]</td>\n",
       "      <td>𒀭𒊑𒂊𒉈</td>\n",
       "      <td>diŋir[deity]N</td>\n",
       "    </tr>\n",
       "    <tr>\n",
       "      <th>4337736</th>\n",
       "      <td>me-e</td>\n",
       "      <td>[me, e]</td>\n",
       "      <td>[ME, E]</td>\n",
       "      <td>𒈨𒂊</td>\n",
       "      <td>me[Being]N</td>\n",
       "    </tr>\n",
       "    <tr>\n",
       "      <th>4337737</th>\n",
       "      <td>a-ra-zu</td>\n",
       "      <td>[a, ra, zu]</td>\n",
       "      <td>[A, RA, ZU]</td>\n",
       "      <td>𒀀𒊏𒍪</td>\n",
       "      <td>arazu[supplication]N</td>\n",
       "    </tr>\n",
       "    <tr>\n",
       "      <th>4337738</th>\n",
       "      <td>ga-an-na-ab-dug₄</td>\n",
       "      <td>[ga, an, na, ab, dug₄]</td>\n",
       "      <td>[GA, AN, NA, AB, KA]</td>\n",
       "      <td>𒂵𒀭𒈾𒀊𒅗</td>\n",
       "      <td>dug[speak]V/t</td>\n",
       "    </tr>\n",
       "    <tr>\n",
       "      <th>4337739</th>\n",
       "      <td>ka-aš</td>\n",
       "      <td>[ka, aš]</td>\n",
       "      <td>[KA, AŠ]</td>\n",
       "      <td>𒅗𒀸</td>\n",
       "      <td>kaš[decision]N</td>\n",
       "    </tr>\n",
       "    <tr>\n",
       "      <th>4337740</th>\n",
       "      <td>bar</td>\n",
       "      <td>[bar]</td>\n",
       "      <td>[BAR]</td>\n",
       "      <td>𒁇</td>\n",
       "      <td>bar[cvve]V/t</td>\n",
       "    </tr>\n",
       "    <tr>\n",
       "      <th>4337741</th>\n",
       "      <td>{d}x</td>\n",
       "      <td>[d, x]</td>\n",
       "      <td>[AN, X]</td>\n",
       "      <td>𒀭X</td>\n",
       "      <td>{d}x</td>\n",
       "    </tr>\n",
       "    <tr>\n",
       "      <th>4337742</th>\n",
       "      <td>ib₂-si</td>\n",
       "      <td>[ib₂, si]</td>\n",
       "      <td>[TUM, SI]</td>\n",
       "      <td>𒌈𒋛</td>\n",
       "      <td>ibsi[enough!]J</td>\n",
       "    </tr>\n",
       "    <tr>\n",
       "      <th>4337743</th>\n",
       "      <td>x</td>\n",
       "      <td>[x]</td>\n",
       "      <td>[X]</td>\n",
       "      <td>X</td>\n",
       "      <td>x</td>\n",
       "    </tr>\n",
       "    <tr>\n",
       "      <th>4337744</th>\n",
       "      <td>mah-am₃</td>\n",
       "      <td>[mah, am₃]</td>\n",
       "      <td>[MAH, |A.AN|]</td>\n",
       "      <td>𒈤𒀀𒀭</td>\n",
       "      <td>mah[great]V/i</td>\n",
       "    </tr>\n",
       "    <tr>\n",
       "      <th>4337745</th>\n",
       "      <td>x</td>\n",
       "      <td>[x]</td>\n",
       "      <td>[X]</td>\n",
       "      <td>X</td>\n",
       "      <td>x</td>\n",
       "    </tr>\n",
       "    <tr>\n",
       "      <th>4337746</th>\n",
       "      <td>šag₄-zu</td>\n",
       "      <td>[šag₄, zu]</td>\n",
       "      <td>[ŠA₃, ZU]</td>\n",
       "      <td>𒊮𒍪</td>\n",
       "      <td>šag[heart]N</td>\n",
       "    </tr>\n",
       "    <tr>\n",
       "      <th>4337747</th>\n",
       "      <td>x</td>\n",
       "      <td>[x]</td>\n",
       "      <td>[X]</td>\n",
       "      <td>X</td>\n",
       "      <td>x</td>\n",
       "    </tr>\n",
       "    <tr>\n",
       "      <th>4337748</th>\n",
       "      <td>Startblms/P414392</td>\n",
       "      <td>[Startblms/P414392]</td>\n",
       "      <td>[Startblms/P414392]</td>\n",
       "      <td>Startblms/P414392</td>\n",
       "      <td>Startblms/P414392</td>\n",
       "    </tr>\n",
       "    <tr>\n",
       "      <th>4337749</th>\n",
       "      <td>gig-ga</td>\n",
       "      <td>[gig, ga]</td>\n",
       "      <td>[GIG, GA]</td>\n",
       "      <td>𒈪𒉭𒂵</td>\n",
       "      <td>gig[sick]V/i</td>\n",
       "    </tr>\n",
       "    <tr>\n",
       "      <th>4337750</th>\n",
       "      <td>x</td>\n",
       "      <td>[x]</td>\n",
       "      <td>[X]</td>\n",
       "      <td>X</td>\n",
       "      <td>x</td>\n",
       "    </tr>\n",
       "    <tr>\n",
       "      <th>4337751</th>\n",
       "      <td>šag₄</td>\n",
       "      <td>[šag₄]</td>\n",
       "      <td>[ŠA₃]</td>\n",
       "      <td>𒊮</td>\n",
       "      <td>šag[heart]N</td>\n",
       "    </tr>\n",
       "    <tr>\n",
       "      <th>4337752</th>\n",
       "      <td>nu-dug₃-ga</td>\n",
       "      <td>[nu, dug₃, ga]</td>\n",
       "      <td>[NU, HI, GA]</td>\n",
       "      <td>𒉡𒄭𒂵</td>\n",
       "      <td>dug[good]V/i</td>\n",
       "    </tr>\n",
       "    <tr>\n",
       "      <th>4337753</th>\n",
       "      <td>x</td>\n",
       "      <td>[x]</td>\n",
       "      <td>[X]</td>\n",
       "      <td>X</td>\n",
       "      <td>x</td>\n",
       "    </tr>\n",
       "    <tr>\n",
       "      <th>4337754</th>\n",
       "      <td>su</td>\n",
       "      <td>[su]</td>\n",
       "      <td>[SU]</td>\n",
       "      <td>𒋢</td>\n",
       "      <td>su[flesh]N</td>\n",
       "    </tr>\n",
       "    <tr>\n",
       "      <th>4337755</th>\n",
       "      <td>nu-ze₂-eb-ba</td>\n",
       "      <td>[nu, ze₂, eb, ba]</td>\n",
       "      <td>[NU, ZE₂, IB, BA]</td>\n",
       "      <td>𒉡𒍢𒅁𒁀</td>\n",
       "      <td>zeb[good]V/i</td>\n",
       "    </tr>\n",
       "    <tr>\n",
       "      <th>4337756</th>\n",
       "      <td>x</td>\n",
       "      <td>[x]</td>\n",
       "      <td>[X]</td>\n",
       "      <td>X</td>\n",
       "      <td>x</td>\n",
       "    </tr>\n",
       "    <tr>\n",
       "      <th>4337757</th>\n",
       "      <td>bad₃</td>\n",
       "      <td>[bad₃]</td>\n",
       "      <td>[|EZEN×BAD|]</td>\n",
       "      <td>𒂦</td>\n",
       "      <td>bad[wall]N</td>\n",
       "    </tr>\n",
       "    <tr>\n",
       "      <th>4337758</th>\n",
       "      <td>e₂-x</td>\n",
       "      <td>[e₂, x]</td>\n",
       "      <td>[E₂, X]</td>\n",
       "      <td>𒂍X</td>\n",
       "      <td>e₂-x</td>\n",
       "    </tr>\n",
       "    <tr>\n",
       "      <th>4337759</th>\n",
       "      <td>x</td>\n",
       "      <td>[x]</td>\n",
       "      <td>[X]</td>\n",
       "      <td>X</td>\n",
       "      <td>x</td>\n",
       "    </tr>\n",
       "    <tr>\n",
       "      <th>4337760</th>\n",
       "      <td>x</td>\n",
       "      <td>[x]</td>\n",
       "      <td>[X]</td>\n",
       "      <td>X</td>\n",
       "      <td>x</td>\n",
       "    </tr>\n",
       "  </tbody>\n",
       "</table>\n",
       "<p>4337761 rows × 5 columns</p>\n",
       "</div>"
      ],
      "text/plain": [
       "                       transliteration                            words  \\\n",
       "0        Startepsd2/admin/ed3a/P011046  [Startepsd2/admin/ed3a/P011046]   \n",
       "1                           1(barig@c)                     [1(barig@c)]   \n",
       "2                                   še                             [še]   \n",
       "3                               ba-lul                        [ba, lul]   \n",
       "4                                nagar                          [nagar]   \n",
       "5                           1(barig@c)                     [1(barig@c)]   \n",
       "6                             nig₂-du₇                      [nig₂, du₇]   \n",
       "7                                  ag₂                            [ag₂]   \n",
       "8                      hur-sag-še₃-mah             [hur, sag, še₃, mah]   \n",
       "9                             sa₁₂-du₅                      [sa₁₂, du₅]   \n",
       "10       Startepsd2/admin/ed3a/P010836  [Startepsd2/admin/ed3a/P010836]   \n",
       "11                            2(iku@c)                       [2(iku@c)]   \n",
       "12                                GAN₂                           [GAN₂]   \n",
       "13                      har-tu-{d}sud₃               [har, tu, d, sud₃]   \n",
       "14                            nu-kiri₆                      [nu, kiri₆]   \n",
       "15                            2(iku@c)                       [2(iku@c)]   \n",
       "16                         me-zi-pa-e₃                 [me, zi, pa, e₃]   \n",
       "17                            2(iku@c)                       [2(iku@c)]   \n",
       "18                          1/2(iku@c)                     [1/2(iku@c)]   \n",
       "19                      har-tu-{d}sud₃               [har, tu, d, sud₃]   \n",
       "20                          ša₃-gu₂-ba                   [ša₃, gu₂, ba]   \n",
       "21                            4(iku@c)                       [4(iku@c)]   \n",
       "22                          1/2(iku@c)                     [1/2(iku@c)]   \n",
       "23                             AŠ₂-mud                       [AŠ₂, mud]   \n",
       "24                            3(iku@c)                       [3(iku@c)]   \n",
       "25                             du₆-du₆                       [du₆, du₆]   \n",
       "26                                gala                           [gala]   \n",
       "27                            2(iku@c)                       [2(iku@c)]   \n",
       "28                             a-lu-lu                      [a, lu, lu]   \n",
       "29                          gu₂-šu-du₈                   [gu₂, šu, du₈]   \n",
       "...                                ...                              ...   \n",
       "4337731                           me-e                          [me, e]   \n",
       "4337732                        a-ra-zu                      [a, ra, zu]   \n",
       "4337733               ga-an-na-ab-dug₄           [ga, an, na, ab, dug₄]   \n",
       "4337734                         di-kud                        [di, kud]   \n",
       "4337735                  diŋir-re-e-ne               [diŋir, re, e, ne]   \n",
       "4337736                           me-e                          [me, e]   \n",
       "4337737                        a-ra-zu                      [a, ra, zu]   \n",
       "4337738               ga-an-na-ab-dug₄           [ga, an, na, ab, dug₄]   \n",
       "4337739                          ka-aš                         [ka, aš]   \n",
       "4337740                            bar                            [bar]   \n",
       "4337741                           {d}x                           [d, x]   \n",
       "4337742                         ib₂-si                        [ib₂, si]   \n",
       "4337743                              x                              [x]   \n",
       "4337744                        mah-am₃                       [mah, am₃]   \n",
       "4337745                              x                              [x]   \n",
       "4337746                        šag₄-zu                       [šag₄, zu]   \n",
       "4337747                              x                              [x]   \n",
       "4337748              Startblms/P414392              [Startblms/P414392]   \n",
       "4337749                         gig-ga                        [gig, ga]   \n",
       "4337750                              x                              [x]   \n",
       "4337751                           šag₄                           [šag₄]   \n",
       "4337752                     nu-dug₃-ga                   [nu, dug₃, ga]   \n",
       "4337753                              x                              [x]   \n",
       "4337754                             su                             [su]   \n",
       "4337755                   nu-ze₂-eb-ba                [nu, ze₂, eb, ba]   \n",
       "4337756                              x                              [x]   \n",
       "4337757                           bad₃                           [bad₃]   \n",
       "4337758                           e₂-x                          [e₂, x]   \n",
       "4337759                              x                              [x]   \n",
       "4337760                              x                              [x]   \n",
       "\n",
       "                                   names                          utf-8  \\\n",
       "0        [Startepsd2/admin/ed3a/P011046]  Startepsd2/admin/ed3a/P011046   \n",
       "1                                  [DIŠ]                              𒁹   \n",
       "2                                   [ŠE]                              𒊺   \n",
       "3                              [BA, LUL]                             𒁀𒈜   \n",
       "4                                [NAGAR]                              𒉄   \n",
       "5                                  [DIŠ]                              𒁹   \n",
       "6                         [GAR, |U.GUD|]                             𒃻𒌌   \n",
       "7                          [|NINDA₂×NE|]                              𒉘   \n",
       "8              [|HI×AŠ₂|, SAG, EŠ₂, MAH]                           𒄯𒊕𒂠𒈤   \n",
       "9                            [SAG, DUN₃]                             𒊕𒂅   \n",
       "10       [Startepsd2/admin/ed3a/P010836]  Startepsd2/admin/ed3a/P010836   \n",
       "11                            [2(iku@c)]                       2(iku@c)   \n",
       "12                                [GAN₂]                              𒃷   \n",
       "13       [|HI×AŠ₂|, TU, AN, |SU.KUR.RU|]                         𒄯𒌅𒀭𒋢𒆳𒊒   \n",
       "14                             [NU, SAR]                             𒉡𒊬   \n",
       "15                            [2(iku@c)]                       2(iku@c)   \n",
       "16                 [ME, ZI, PA, |UD.DU|]                          𒈨𒍣𒉺𒌓𒁺   \n",
       "17                            [2(iku@c)]                       2(iku@c)   \n",
       "18                          [1/2(iku@c)]                     1/2(iku@c)   \n",
       "19       [|HI×AŠ₂|, TU, AN, |SU.KUR.RU|]                         𒄯𒌅𒀭𒋢𒆳𒊒   \n",
       "20                        [ŠA₃, GU₂, BA]                            𒊮𒄘𒁀   \n",
       "21                            [4(iku@c)]                       4(iku@c)   \n",
       "22                          [1/2(iku@c)]                     1/2(iku@c)   \n",
       "23                        [AŠ₂, |HU.HI|]                            𒀾𒄷𒄭   \n",
       "24                            [3(iku@c)]                       3(iku@c)   \n",
       "25                    [LAGAR@g, LAGAR@g]                             𒇯𒇯   \n",
       "26                             [|UŠ.KU|]                             𒍑𒆪   \n",
       "27                            [2(iku@c)]                       2(iku@c)   \n",
       "28                           [A, LU, LU]                            𒀀𒇻𒇻   \n",
       "29                       [GU₂, ŠU, GABA]                            𒄘𒋗𒃮   \n",
       "...                                  ...                            ...   \n",
       "4337731                          [ME, E]                             𒈨𒂊   \n",
       "4337732                      [A, RA, ZU]                            𒀀𒊏𒍪   \n",
       "4337733             [GA, AN, NA, AB, KA]                          𒂵𒀭𒈾𒀊𒅗   \n",
       "4337734                        [DI, TAR]                             𒁲𒋻   \n",
       "4337735                  [AN, RI, E, NE]                           𒀭𒊑𒂊𒉈   \n",
       "4337736                          [ME, E]                             𒈨𒂊   \n",
       "4337737                      [A, RA, ZU]                            𒀀𒊏𒍪   \n",
       "4337738             [GA, AN, NA, AB, KA]                          𒂵𒀭𒈾𒀊𒅗   \n",
       "4337739                         [KA, AŠ]                             𒅗𒀸   \n",
       "4337740                            [BAR]                              𒁇   \n",
       "4337741                          [AN, X]                             𒀭X   \n",
       "4337742                        [TUM, SI]                             𒌈𒋛   \n",
       "4337743                              [X]                              X   \n",
       "4337744                    [MAH, |A.AN|]                            𒈤𒀀𒀭   \n",
       "4337745                              [X]                              X   \n",
       "4337746                        [ŠA₃, ZU]                             𒊮𒍪   \n",
       "4337747                              [X]                              X   \n",
       "4337748              [Startblms/P414392]              Startblms/P414392   \n",
       "4337749                        [GIG, GA]                            𒈪𒉭𒂵   \n",
       "4337750                              [X]                              X   \n",
       "4337751                            [ŠA₃]                              𒊮   \n",
       "4337752                     [NU, HI, GA]                            𒉡𒄭𒂵   \n",
       "4337753                              [X]                              X   \n",
       "4337754                             [SU]                              𒋢   \n",
       "4337755                [NU, ZE₂, IB, BA]                           𒉡𒍢𒅁𒁀   \n",
       "4337756                              [X]                              X   \n",
       "4337757                     [|EZEN×BAD|]                              𒂦   \n",
       "4337758                          [E₂, X]                             𒂍X   \n",
       "4337759                              [X]                              X   \n",
       "4337760                              [X]                              X   \n",
       "\n",
       "                                  lemm  \n",
       "0        Startepsd2/admin/ed3a/P011046  \n",
       "1                           1(barig@c)  \n",
       "2                          še[barley]N  \n",
       "3                               ba-lul  \n",
       "4                    nagar[carpenter]N  \n",
       "5                           1(barig@c)  \n",
       "6            niŋdu[appropriate-thing]N  \n",
       "7                       aŋ[measure]V/t  \n",
       "8                      hur-sag-še₃-mah  \n",
       "9                  saŋ.DUN₃[recorder]N  \n",
       "10       Startepsd2/admin/ed3a/P010836  \n",
       "11                            2(iku@c)  \n",
       "12                          iku[unit]N  \n",
       "13                      har-tu-{d}sud₃  \n",
       "14                  nukirik[gardener]N  \n",
       "15                            2(iku@c)  \n",
       "16                         me-zi-pa-e₃  \n",
       "17                            2(iku@c)  \n",
       "18                          1/2(iku@c)  \n",
       "19                      har-tu-{d}sud₃  \n",
       "20                          ša₃-gu₂-ba  \n",
       "21                            4(iku@c)  \n",
       "22                          1/2(iku@c)  \n",
       "23                             AŠ₂-mud  \n",
       "24                            3(iku@c)  \n",
       "25                         dud[mound]N  \n",
       "26                       gala[singer]N  \n",
       "27                            2(iku@c)  \n",
       "28                             a-lu-lu  \n",
       "29               lugušudu[profession]N  \n",
       "...                                ...  \n",
       "4337731                     me[Being]N  \n",
       "4337732           arazu[supplication]N  \n",
       "4337733                  dug[speak]V/t  \n",
       "4337734                  dikud[judge]N  \n",
       "4337735                  diŋir[deity]N  \n",
       "4337736                     me[Being]N  \n",
       "4337737           arazu[supplication]N  \n",
       "4337738                  dug[speak]V/t  \n",
       "4337739                 kaš[decision]N  \n",
       "4337740                   bar[cvve]V/t  \n",
       "4337741                           {d}x  \n",
       "4337742                 ibsi[enough!]J  \n",
       "4337743                              x  \n",
       "4337744                  mah[great]V/i  \n",
       "4337745                              x  \n",
       "4337746                    šag[heart]N  \n",
       "4337747                              x  \n",
       "4337748              Startblms/P414392  \n",
       "4337749                   gig[sick]V/i  \n",
       "4337750                              x  \n",
       "4337751                    šag[heart]N  \n",
       "4337752                   dug[good]V/i  \n",
       "4337753                              x  \n",
       "4337754                     su[flesh]N  \n",
       "4337755                   zeb[good]V/i  \n",
       "4337756                              x  \n",
       "4337757                     bad[wall]N  \n",
       "4337758                           e₂-x  \n",
       "4337759                              x  \n",
       "4337760                              x  \n",
       "\n",
       "[4337761 rows x 5 columns]"
      ]
     },
     "execution_count": 12,
     "metadata": {},
     "output_type": "execute_result"
    }
   ],
   "source": [
    "df = pd.DataFrame({\"transliteration\":all_, \"words\":words_l, \"names\":names_l, \"utf-8\":utf8_l, \"lemm\" : lemm_})\n",
    "df"
   ]
  },
  {
   "cell_type": "code",
   "execution_count": 13,
   "metadata": {},
   "outputs": [],
   "source": [
    "with open(\"corpus/sux_df.p\", \"wb\") as w:\n",
    "    pickle.dump(df, w)"
   ]
  },
  {
   "cell_type": "code",
   "execution_count": 14,
   "metadata": {},
   "outputs": [],
   "source": [
    "rep_d = {\"sux_utf8\": \"utf-8\", \"sux_lemm\": \"lemm\", \"sux_tl\" : \"transliteration\"}\n",
    "for rep in rep_d:\n",
    "    text = ' '.join(df[rep_d[rep]]).strip()\n",
    "    text = text.replace(' Start', '\\n').strip()\n",
    "    text = text.replace('Start', '')\n",
    "    text = re.sub(r'\\n+', '\\n', text)\n",
    "    file = \"corpus/\" + rep + \".txt\"\n",
    "    with open(file, 'w', encoding=\"utf-8\") as w:\n",
    "        w.write(text)"
   ]
  },
  {
   "cell_type": "code",
   "execution_count": null,
   "metadata": {},
   "outputs": [],
   "source": []
  }
 ],
 "metadata": {
  "kernelspec": {
   "display_name": "Python 3",
   "language": "python",
   "name": "python3"
  },
  "language_info": {
   "codemirror_mode": {
    "name": "ipython",
    "version": 3
   },
   "file_extension": ".py",
   "mimetype": "text/x-python",
   "name": "python",
   "nbconvert_exporter": "python",
   "pygments_lexer": "ipython3",
   "version": "3.7.0"
  }
 },
 "nbformat": 4,
 "nbformat_minor": 2
}
