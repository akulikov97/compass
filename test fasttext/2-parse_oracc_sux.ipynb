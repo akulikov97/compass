{
 "cells": [
  {
   "cell_type": "markdown",
   "metadata": {},
   "source": [
    "# Extract Signs from ORACC JSON\n",
    "The code in this notebook will parse [ORACC](http://oracc.org) `JSON` files to extract signs from the Sumerian texts of one or more projects. "
   ]
  },
  {
   "cell_type": "code",
   "execution_count": 1,
   "metadata": {},
   "outputs": [],
   "source": [
    "import pandas as pd\n",
    "import zipfile\n",
    "import json\n",
    "import tqdm\n",
    "import requests\n",
    "import errno\n",
    "import os\n",
    "import pickle\n",
    "import re"
   ]
  },
  {
   "cell_type": "markdown",
   "metadata": {},
   "source": [
    "## 0 Create Directories, if Necessary\n",
    "The two directories needed for this script are `jsonzip` and `output`. If they do not exist they are created, else: do nothing.\n",
    "\n",
    "For the code, see [Stack Overflow](http://stackoverflow.com/questions/18973418/os-mkdirpath-returns-oserror-when-directory-does-not-exist)."
   ]
  },
  {
   "cell_type": "code",
   "execution_count": 2,
   "metadata": {},
   "outputs": [],
   "source": [
    "directories = ['jsonzip', 'output']\n",
    "for d in directories:\n",
    "    try:\n",
    "        os.mkdir(d)\n",
    "    except OSError as exc:\n",
    "        if exc.errno !=errno.EEXIST:\n",
    "            raise\n",
    "        pass"
   ]
  },
  {
   "cell_type": "markdown",
   "metadata": {},
   "source": [
    "## 1.1 Input Project Names\n",
    "Provide a list of one or more project names, separated by commas. Note that subprojects must be listed separately, they are not included in the main project. For instance:\n",
    "\n",
    "`epsd2/admin/ed3a, epsd2/admin/ed3b, epsd2/admin/ebla, epsd2/admin/oakk, epsd2/admin/lagash2, epsd2/admin/u3adm, epsd2/admin/u3let, epsd2/admin/u3leg, epsd2/admin/oldbab, epsd2/literary, epsd2/emesal, epsd2/earlylit, epsd2/royal, epsd2/praxis, dcclt, obmc, ckst, blms`"
   ]
  },
  {
   "cell_type": "code",
   "execution_count": 3,
   "metadata": {},
   "outputs": [
    {
     "name": "stdout",
     "output_type": "stream",
     "text": [
      "Project(s): epsd2/admin/ed3a, epsd2/admin/ed3b, epsd2/admin/ebla, epsd2/admin/oakk, epsd2/admin/lagash2, epsd2/admin/u3adm, epsd2/admin/u3let, epsd2/admin/u3leg, epsd2/admin/oldbab, epsd2/literary, epsd2/emesal, epsd2/earlylit, epsd2/royal, epsd2/praxis, dcclt, obmc, ckst, blms\n"
     ]
    }
   ],
   "source": [
    "projects = input('Project(s): ').lower()"
   ]
  },
  {
   "cell_type": "markdown",
   "metadata": {},
   "source": [
    "## 1.2 Split the List of Projects\n",
    "Split the list of projects and create a list of project names."
   ]
  },
  {
   "cell_type": "code",
   "execution_count": 4,
   "metadata": {},
   "outputs": [],
   "source": [
    "p = projects.split(',')               # split at each comma and make a list called `p`\n",
    "p = [x.strip() for x in p]        # strip spaces left and right of each entry in `p`"
   ]
  },
  {
   "cell_type": "markdown",
   "metadata": {},
   "source": [
    "## 1.3 Download the ZIP files\n",
    "For each project in the list download all the `json` files from `http://build-oracc.museum.upenn.edu/json/`. The file is called `PROJECT.zip` (for instance: `dcclt.zip`). For subprojects the file is called `PROJECT-SUBPROJECT.zip` (for instance `cams-gkab.zip`). \n",
    "\n",
    "For larger projects (such as [DCCLT](http://oracc.org/dcclt)) the `zip` file may be 25Mb or more. Downloading may take some time and it may be necessary to chunk the downloading process. The `iter_content()` function in the `requests` library takes care of that.\n",
    "\n",
    "If you have downloaded the files by hand (and put them in the `jsonzip` directory) you may skip this cell and jump directly to section [2.1 The Parsejson() function](#head21)."
   ]
  },
  {
   "cell_type": "code",
   "execution_count": 5,
   "metadata": {},
   "outputs": [
    {
     "name": "stderr",
     "output_type": "stream",
     "text": [
      "  6%|▌         | 1/18 [00:04<01:16,  4.49s/it]"
     ]
    },
    {
     "name": "stdout",
     "output_type": "stream",
     "text": [
      "Downloading http://build-oracc.museum.upenn.edu/json/epsd2-admin-ed3a.zip saving as jsonzip/epsd2-admin-ed3a.zip\n"
     ]
    },
    {
     "name": "stderr",
     "output_type": "stream",
     "text": [
      "\r",
      " 11%|█         | 2/18 [00:19<02:01,  7.59s/it]"
     ]
    },
    {
     "name": "stdout",
     "output_type": "stream",
     "text": [
      "Downloading http://build-oracc.museum.upenn.edu/json/epsd2-admin-ed3b.zip saving as jsonzip/epsd2-admin-ed3b.zip\n"
     ]
    },
    {
     "name": "stderr",
     "output_type": "stream",
     "text": [
      "\r",
      " 17%|█▋        | 3/18 [00:21<01:29,  6.00s/it]"
     ]
    },
    {
     "name": "stdout",
     "output_type": "stream",
     "text": [
      "Downloading http://build-oracc.museum.upenn.edu/json/epsd2-admin-ebla.zip saving as jsonzip/epsd2-admin-ebla.zip\n"
     ]
    },
    {
     "name": "stderr",
     "output_type": "stream",
     "text": [
      "\r",
      " 22%|██▏       | 4/18 [00:30<01:37,  6.97s/it]"
     ]
    },
    {
     "name": "stdout",
     "output_type": "stream",
     "text": [
      "Downloading http://build-oracc.museum.upenn.edu/json/epsd2-admin-oakk.zip saving as jsonzip/epsd2-admin-oakk.zip\n"
     ]
    },
    {
     "name": "stderr",
     "output_type": "stream",
     "text": [
      "\r",
      " 28%|██▊       | 5/18 [00:32<01:11,  5.52s/it]"
     ]
    },
    {
     "name": "stdout",
     "output_type": "stream",
     "text": [
      "Downloading http://build-oracc.museum.upenn.edu/json/epsd2-admin-lagash2.zip saving as jsonzip/epsd2-admin-lagash2.zip\n",
      "Downloading http://build-oracc.museum.upenn.edu/json/epsd2-admin-u3adm.zip saving as jsonzip/epsd2-admin-u3adm.zip\n"
     ]
    },
    {
     "name": "stderr",
     "output_type": "stream",
     "text": [
      " 39%|███▉      | 7/18 [01:43<03:14, 17.73s/it]"
     ]
    },
    {
     "name": "stdout",
     "output_type": "stream",
     "text": [
      "Downloading http://build-oracc.museum.upenn.edu/json/epsd2-admin-u3let.zip saving as jsonzip/epsd2-admin-u3let.zip\n"
     ]
    },
    {
     "name": "stderr",
     "output_type": "stream",
     "text": [
      "\r",
      " 44%|████▍     | 8/18 [01:47<02:16, 13.66s/it]"
     ]
    },
    {
     "name": "stdout",
     "output_type": "stream",
     "text": [
      "Downloading http://build-oracc.museum.upenn.edu/json/epsd2-admin-u3leg.zip saving as jsonzip/epsd2-admin-u3leg.zip\n"
     ]
    },
    {
     "name": "stderr",
     "output_type": "stream",
     "text": [
      "\r",
      " 50%|█████     | 9/18 [01:56<01:50, 12.29s/it]"
     ]
    },
    {
     "name": "stdout",
     "output_type": "stream",
     "text": [
      "Downloading http://build-oracc.museum.upenn.edu/json/epsd2-admin-oldbab.zip saving as jsonzip/epsd2-admin-oldbab.zip\n"
     ]
    },
    {
     "name": "stderr",
     "output_type": "stream",
     "text": [
      "\r",
      " 56%|█████▌    | 10/18 [02:11<01:43, 12.97s/it]"
     ]
    },
    {
     "name": "stdout",
     "output_type": "stream",
     "text": [
      "Downloading http://build-oracc.museum.upenn.edu/json/epsd2-literary.zip saving as jsonzip/epsd2-literary.zip\n"
     ]
    },
    {
     "name": "stderr",
     "output_type": "stream",
     "text": [
      "\r",
      " 61%|██████    | 11/18 [02:12<01:05,  9.31s/it]"
     ]
    },
    {
     "name": "stdout",
     "output_type": "stream",
     "text": [
      "Downloading http://build-oracc.museum.upenn.edu/json/epsd2-emesal.zip saving as jsonzip/epsd2-emesal.zip\n"
     ]
    },
    {
     "name": "stderr",
     "output_type": "stream",
     "text": [
      "\r",
      " 67%|██████▋   | 12/18 [02:13<00:41,  6.95s/it]"
     ]
    },
    {
     "name": "stdout",
     "output_type": "stream",
     "text": [
      "Downloading http://build-oracc.museum.upenn.edu/json/epsd2-earlylit.zip saving as jsonzip/epsd2-earlylit.zip\n"
     ]
    },
    {
     "name": "stderr",
     "output_type": "stream",
     "text": [
      "\r",
      " 72%|███████▏  | 13/18 [02:23<00:38,  7.73s/it]"
     ]
    },
    {
     "name": "stdout",
     "output_type": "stream",
     "text": [
      "Downloading http://build-oracc.museum.upenn.edu/json/epsd2-royal.zip saving as jsonzip/epsd2-royal.zip\n"
     ]
    },
    {
     "name": "stderr",
     "output_type": "stream",
     "text": [
      "\r",
      " 78%|███████▊  | 14/18 [02:28<00:28,  7.12s/it]"
     ]
    },
    {
     "name": "stdout",
     "output_type": "stream",
     "text": [
      "Downloading http://build-oracc.museum.upenn.edu/json/epsd2-praxis.zip saving as jsonzip/epsd2-praxis.zip\n"
     ]
    },
    {
     "name": "stderr",
     "output_type": "stream",
     "text": [
      "\r",
      " 83%|████████▎ | 15/18 [02:46<00:30, 10.29s/it]"
     ]
    },
    {
     "name": "stdout",
     "output_type": "stream",
     "text": [
      "Downloading http://build-oracc.museum.upenn.edu/json/dcclt.zip saving as jsonzip/dcclt.zip\n"
     ]
    },
    {
     "name": "stderr",
     "output_type": "stream",
     "text": [
      "\r",
      " 89%|████████▉ | 16/18 [02:49<00:16,  8.25s/it]"
     ]
    },
    {
     "name": "stdout",
     "output_type": "stream",
     "text": [
      "Downloading http://build-oracc.museum.upenn.edu/json/obmc.zip saving as jsonzip/obmc.zip\n"
     ]
    },
    {
     "name": "stderr",
     "output_type": "stream",
     "text": [
      "\r",
      " 94%|█████████▍| 17/18 [02:52<00:06,  6.49s/it]"
     ]
    },
    {
     "name": "stdout",
     "output_type": "stream",
     "text": [
      "Downloading http://build-oracc.museum.upenn.edu/json/ckst.zip saving as jsonzip/ckst.zip\n"
     ]
    },
    {
     "name": "stderr",
     "output_type": "stream",
     "text": [
      "\r",
      "100%|██████████| 18/18 [02:59<00:00,  6.74s/it]"
     ]
    },
    {
     "name": "stdout",
     "output_type": "stream",
     "text": [
      "Downloading http://build-oracc.museum.upenn.edu/json/blms.zip saving as jsonzip/blms.zip\n"
     ]
    },
    {
     "name": "stderr",
     "output_type": "stream",
     "text": [
      "\n"
     ]
    }
   ],
   "source": [
    "CHUNK = 16 * 1024\n",
    "for project in tqdm.tqdm(p):\n",
    "    project = project.replace('/', '-')\n",
    "    url = \"http://build-oracc.museum.upenn.edu/json/\" + project + \".zip\"\n",
    "    file = 'jsonzip/' + project + '.zip'\n",
    "    r = requests.get(url)\n",
    "    if r.status_code == 200:\n",
    "        print(\"Downloading \" + url + \" saving as \" + file)\n",
    "        with open(file, 'wb') as f:\n",
    "            for c in r.iter_content(chunk_size=CHUNK):\n",
    "                f.write(c)\n",
    "    else:\n",
    "        print(url + \" does not exist.\")"
   ]
  },
  {
   "cell_type": "markdown",
   "metadata": {},
   "source": [
    "## <a name=\"head21\"></a>2.1 The `parsejson()` function\n",
    "The `parsejson()` function will \"dig into\" the `json` file (transformed into a dictionary) until it finds the relevant data. The `json` file consists of a hierarchy of `cdl` nodes; only the lowest nodes contain lemmatization data. The function goes down this hierarchy by calling itself when another `cdl` node is encountered. For nore information about the data hierarchy in the [ORACC](http://oracc.org) `json` files, see [ORACC Open Data](http://oracc.museum.upenn.edu/doc/opendata/index.html).\n",
    "\n",
    "The argument of the `parsejson()` function is a `JSON` object, a dictionary that initially contains the entire contents of the original JSON file. The code takes the key `cdl` which itself contains an array (a list) of `JSON` objects. Iterating through these objects, if an object contains another `cdl` node, the function calls itself with this object as first argument. This way the function digs deeper and deeper into the `JSON` tree, until it does not encounter a `cdl` key anymore. Here we are at the level of individual words. The code checks for a key `f`, if it exists the signs are in the node `gdl` within the `f` node. "
   ]
  },
  {
   "cell_type": "code",
   "execution_count": 6,
   "metadata": {},
   "outputs": [],
   "source": [
    "def parsejson_signs(text):\n",
    "    for JSONobject in text[\"cdl\"]:\n",
    "        field = ''\n",
    "        if \"cdl\" in JSONobject: \n",
    "            parsejson_signs(JSONobject)\n",
    "        if \"type\" in JSONobject and JSONobject[\"type\"] == \"field-start\":\n",
    "            field = JSONobject[\"subtype\"]\n",
    "        if \"f\" in JSONobject and not field in ['sg', 'pr']: # skip the fields \"sign\" and \"pronunciation\"\n",
    "                                # in lexical texts\n",
    "            if JSONobject[\"f\"][\"lang\"][:3] == \"sux\": #only Sumerian and Emesal\n",
    "                f = JSONobject[\"f\"][\"form\"]\n",
    "                if \"sexified\" in JSONobject[\"f\"][\"gdl\"][0]:\n",
    "                    f = JSONobject[\"f\"][\"gdl\"][0][\"sexified\"]\n",
    "                lemm = JSONobject[\"inst\"]\n",
    "                all_.append(f)\n",
    "                lemm_.append(lemm)\n",
    "                \n",
    "#    all_.append(\"\\nEndofDoc\")\n",
    "    return"
   ]
  },
  {
   "cell_type": "markdown",
   "metadata": {},
   "source": [
    "## 2.2 Call the `parsejson()` function for every `JSON` file\n",
    "The code in this cell will iterate through the list of projects entered above (1.1). For each project the `JSON` zip file is located in the directory `jsonzip`, named PROJECT.zip. \n",
    "\n",
    "Each of these files is extracted from the `zip` file and read with the command `json.loads()`, which reads the json data and transforms it into a Python dictionary (a sequence of keys and values).\n",
    "\n",
    "This dictionary, which is called `text` is now sent to the `parsejson()` function. The function adds signs to the `sign_l` list."
   ]
  },
  {
   "cell_type": "code",
   "execution_count": 7,
   "metadata": {},
   "outputs": [
    {
     "name": "stderr",
     "output_type": "stream",
     "text": [
      "100%|██████████| 778/778 [00:00<00:00, 1445.16it/s]\n",
      "100%|██████████| 3157/3157 [00:02<00:00, 1089.20it/s]\n",
      "100%|██████████| 157/157 [00:00<00:00, 1918.38it/s]\n",
      "  0%|          | 0/4944 [00:00<?, ?it/s]"
     ]
    },
    {
     "name": "stdout",
     "output_type": "stream",
     "text": [
      "epsd2/admin/ebla/P241764 is not available or not complete\n",
      "epsd2/admin/ebla/P315437 is not available or not complete\n",
      "epsd2/admin/ebla/P315459 is not available or not complete\n"
     ]
    },
    {
     "name": "stderr",
     "output_type": "stream",
     "text": [
      "100%|██████████| 4944/4944 [00:02<00:00, 2271.52it/s]\n",
      "100%|██████████| 494/494 [00:00<00:00, 2091.75it/s]\n",
      "  0%|          | 337/71496 [00:00<00:43, 1632.15it/s]"
     ]
    },
    {
     "name": "stdout",
     "output_type": "stream",
     "text": [
      "epsd2/admin/u3adm/P511905 is not available or not complete\n",
      "epsd2/admin/u3adm/P511471 is not available or not complete\n",
      "epsd2/admin/u3adm/P109084 is not available or not complete\n"
     ]
    },
    {
     "name": "stderr",
     "output_type": "stream",
     "text": [
      "  1%|          | 689/71496 [00:00<00:42, 1649.58it/s]"
     ]
    },
    {
     "name": "stdout",
     "output_type": "stream",
     "text": [
      "epsd2/admin/u3adm/P511973 is not available or not complete\n",
      "epsd2/admin/u3adm/P504596 is not available or not complete\n"
     ]
    },
    {
     "name": "stderr",
     "output_type": "stream",
     "text": [
      "  2%|▏         | 1158/71496 [00:00<00:52, 1346.76it/s]"
     ]
    },
    {
     "name": "stdout",
     "output_type": "stream",
     "text": [
      "epsd2/admin/u3adm/P414560 is not available or not complete\n",
      "epsd2/admin/u3adm/P512114 is not available or not complete\n",
      "epsd2/admin/u3adm/P109115 is not available or not complete\n",
      "epsd2/admin/u3adm/P511467 is not available or not complete\n",
      "epsd2/admin/u3adm/P511979 is not available or not complete\n"
     ]
    },
    {
     "name": "stderr",
     "output_type": "stream",
     "text": [
      "  2%|▏         | 1636/71496 [00:01<00:46, 1498.81it/s]"
     ]
    },
    {
     "name": "stdout",
     "output_type": "stream",
     "text": [
      "epsd2/admin/u3adm/P105380 is not available or not complete\n",
      "epsd2/admin/u3adm/P512156 is not available or not complete\n",
      "epsd2/admin/u3adm/P414575 is not available or not complete\n"
     ]
    },
    {
     "name": "stderr",
     "output_type": "stream",
     "text": [
      "  3%|▎         | 2157/71496 [00:01<00:42, 1624.70it/s]"
     ]
    },
    {
     "name": "stdout",
     "output_type": "stream",
     "text": [
      "epsd2/admin/u3adm/P497673 is not available or not complete\n",
      "epsd2/admin/u3adm/P476069 is not available or not complete\n",
      "epsd2/admin/u3adm/P474548 is not available or not complete\n",
      "epsd2/admin/u3adm/P474558 is not available or not complete\n",
      "epsd2/admin/u3adm/P511901 is not available or not complete\n",
      "epsd2/admin/u3adm/P414535 is not available or not complete\n",
      "epsd2/admin/u3adm/P414516 is not available or not complete\n",
      "epsd2/admin/u3adm/P497679 is not available or not complete\n"
     ]
    },
    {
     "name": "stderr",
     "output_type": "stream",
     "text": [
      "  4%|▎         | 2677/71496 [00:01<00:42, 1627.20it/s]"
     ]
    },
    {
     "name": "stdout",
     "output_type": "stream",
     "text": [
      "epsd2/admin/u3adm/P511956 is not available or not complete\n",
      "epsd2/admin/u3adm/P109129 is not available or not complete\n"
     ]
    },
    {
     "name": "stderr",
     "output_type": "stream",
     "text": [
      "  4%|▍         | 3035/71496 [00:01<00:40, 1697.01it/s]"
     ]
    },
    {
     "name": "stdout",
     "output_type": "stream",
     "text": [
      "epsd2/admin/u3adm/P474539 is not available or not complete\n",
      "epsd2/admin/u3adm/P474557 is not available or not complete\n",
      "epsd2/admin/u3adm/P511912 is not available or not complete\n",
      "epsd2/admin/u3adm/P105361 is not available or not complete\n"
     ]
    },
    {
     "name": "stderr",
     "output_type": "stream",
     "text": [
      "  5%|▌         | 3616/71496 [00:02<00:37, 1796.56it/s]"
     ]
    },
    {
     "name": "stdout",
     "output_type": "stream",
     "text": [
      "epsd2/admin/u3adm/P511969 is not available or not complete\n",
      "epsd2/admin/u3adm/P512144 is not available or not complete\n",
      "epsd2/admin/u3adm/P511526 is not available or not complete\n"
     ]
    },
    {
     "name": "stderr",
     "output_type": "stream",
     "text": [
      "  6%|▌         | 3981/71496 [00:02<00:43, 1538.46it/s]"
     ]
    },
    {
     "name": "stdout",
     "output_type": "stream",
     "text": [
      "epsd2/admin/u3adm/P497669 is not available or not complete\n",
      "epsd2/admin/u3adm/P511402 is not available or not complete\n"
     ]
    },
    {
     "name": "stderr",
     "output_type": "stream",
     "text": [
      "  6%|▌         | 4307/71496 [00:02<00:44, 1498.19it/s]"
     ]
    },
    {
     "name": "stdout",
     "output_type": "stream",
     "text": [
      "epsd2/admin/u3adm/P511446 is not available or not complete\n",
      "epsd2/admin/u3adm/P474535 is not available or not complete\n"
     ]
    },
    {
     "name": "stderr",
     "output_type": "stream",
     "text": [
      "  7%|▋         | 4983/71496 [00:03<00:45, 1461.38it/s]"
     ]
    },
    {
     "name": "stdout",
     "output_type": "stream",
     "text": [
      "epsd2/admin/u3adm/P114110 is not available or not complete\n",
      "epsd2/admin/u3adm/P511983 is not available or not complete\n",
      "epsd2/admin/u3adm/P512131 is not available or not complete\n"
     ]
    },
    {
     "name": "stderr",
     "output_type": "stream",
     "text": [
      "  7%|▋         | 5345/71496 [00:03<00:41, 1612.83it/s]"
     ]
    },
    {
     "name": "stdout",
     "output_type": "stream",
     "text": [
      "epsd2/admin/u3adm/P512108 is not available or not complete\n"
     ]
    },
    {
     "name": "stderr",
     "output_type": "stream",
     "text": [
      "  8%|▊         | 5879/71496 [00:03<00:41, 1591.05it/s]"
     ]
    },
    {
     "name": "stdout",
     "output_type": "stream",
     "text": [
      "epsd2/admin/u3adm/P511949 is not available or not complete\n",
      "epsd2/admin/u3adm/P474534 is not available or not complete\n"
     ]
    },
    {
     "name": "stderr",
     "output_type": "stream",
     "text": [
      "  9%|▊         | 6199/71496 [00:03<00:43, 1513.29it/s]"
     ]
    },
    {
     "name": "stdout",
     "output_type": "stream",
     "text": [
      "epsd2/admin/u3adm/P512140 is not available or not complete\n",
      "epsd2/admin/u3adm/P414550 is not available or not complete\n",
      "epsd2/admin/u3adm/P105530 is not available or not complete\n",
      "epsd2/admin/u3adm/P511911 is not available or not complete\n",
      "epsd2/admin/u3adm/P511876 is not available or not complete\n",
      "epsd2/admin/u3adm/P511987 is not available or not complete\n"
     ]
    },
    {
     "name": "stderr",
     "output_type": "stream",
     "text": [
      " 10%|▉         | 6912/71496 [00:04<00:42, 1519.37it/s]"
     ]
    },
    {
     "name": "stdout",
     "output_type": "stream",
     "text": [
      "epsd2/admin/u3adm/P511926 is not available or not complete\n",
      "epsd2/admin/u3adm/P414571 is not available or not complete\n",
      "epsd2/admin/u3adm/P476056 is not available or not complete\n"
     ]
    },
    {
     "name": "stderr",
     "output_type": "stream",
     "text": [
      " 10%|█         | 7485/71496 [00:04<00:38, 1670.49it/s]"
     ]
    },
    {
     "name": "stdout",
     "output_type": "stream",
     "text": [
      "epsd2/admin/u3adm/P476078 is not available or not complete\n",
      "epsd2/admin/u3adm/P478289 is not available or not complete\n",
      "epsd2/admin/u3adm/P414521 is not available or not complete\n",
      "epsd2/admin/u3adm/P114184 is not available or not complete\n",
      "epsd2/admin/u3adm/P512146 is not available or not complete\n",
      "epsd2/admin/u3adm/P139502 is not available or not complete\n",
      "epsd2/admin/u3adm/P329926 is not available or not complete\n"
     ]
    },
    {
     "name": "stderr",
     "output_type": "stream",
     "text": [
      " 11%|█         | 7829/71496 [00:05<00:39, 1596.84it/s]"
     ]
    },
    {
     "name": "stdout",
     "output_type": "stream",
     "text": [
      "epsd2/admin/u3adm/P511916 is not available or not complete\n",
      "epsd2/admin/u3adm/P511435 is not available or not complete\n",
      "epsd2/admin/u3adm/P476061 is not available or not complete\n",
      "epsd2/admin/u3adm/P512147 is not available or not complete\n"
     ]
    },
    {
     "name": "stderr",
     "output_type": "stream",
     "text": [
      " 11%|█▏        | 8196/71496 [00:05<00:37, 1684.46it/s]"
     ]
    },
    {
     "name": "stdout",
     "output_type": "stream",
     "text": [
      "epsd2/admin/u3adm/P474544 is not available or not complete\n",
      "epsd2/admin/u3adm/P476067 is not available or not complete\n"
     ]
    },
    {
     "name": "stderr",
     "output_type": "stream",
     "text": [
      " 12%|█▏        | 8791/71496 [00:05<00:33, 1857.09it/s]"
     ]
    },
    {
     "name": "stdout",
     "output_type": "stream",
     "text": [
      "epsd2/admin/u3adm/P511976 is not available or not complete\n",
      "epsd2/admin/u3adm/P474530 is not available or not complete\n",
      "epsd2/admin/u3adm/P476062 is not available or not complete\n",
      "epsd2/admin/u3adm/P139503 is not available or not complete\n"
     ]
    },
    {
     "name": "stderr",
     "output_type": "stream",
     "text": [
      "\r",
      " 13%|█▎        | 8983/71496 [00:05<00:33, 1873.72it/s]"
     ]
    },
    {
     "name": "stdout",
     "output_type": "stream",
     "text": [
      "epsd2/admin/u3adm/P512107 is not available or not complete\n"
     ]
    },
    {
     "name": "stderr",
     "output_type": "stream",
     "text": [
      " 13%|█▎        | 9366/71496 [00:05<00:40, 1529.54it/s]"
     ]
    },
    {
     "name": "stdout",
     "output_type": "stream",
     "text": [
      "epsd2/admin/u3adm/P511909 is not available or not complete\n",
      "epsd2/admin/u3adm/P511621 is not available or not complete\n",
      "epsd2/admin/u3adm/P511558 is not available or not complete\n",
      "epsd2/admin/u3adm/P512137 is not available or not complete\n",
      "epsd2/admin/u3adm/P512103 is not available or not complete\n"
     ]
    },
    {
     "name": "stderr",
     "output_type": "stream",
     "text": [
      " 14%|█▎        | 9765/71496 [00:06<00:36, 1686.74it/s]"
     ]
    },
    {
     "name": "stdout",
     "output_type": "stream",
     "text": [
      "epsd2/admin/u3adm/P108848 is not available or not complete\n",
      "epsd2/admin/u3adm/P511555 is not available or not complete\n",
      "epsd2/admin/u3adm/P478307 is not available or not complete\n"
     ]
    },
    {
     "name": "stderr",
     "output_type": "stream",
     "text": [
      " 14%|█▍        | 10312/71496 [00:06<00:35, 1709.22it/s]"
     ]
    },
    {
     "name": "stdout",
     "output_type": "stream",
     "text": [
      "epsd2/admin/u3adm/P511609 is not available or not complete\n",
      "epsd2/admin/u3adm/P430694 is not available or not complete\n",
      "epsd2/admin/u3adm/P274567 is not available or not complete\n",
      "epsd2/admin/u3adm/P511990 is not available or not complete\n",
      "epsd2/admin/u3adm/P414548 is not available or not complete\n",
      "epsd2/admin/u3adm/P312454 is not available or not complete\n"
     ]
    },
    {
     "name": "stderr",
     "output_type": "stream",
     "text": [
      " 15%|█▌        | 10846/71496 [00:06<00:35, 1721.21it/s]"
     ]
    },
    {
     "name": "stdout",
     "output_type": "stream",
     "text": [
      "epsd2/admin/u3adm/P511455 is not available or not complete\n"
     ]
    },
    {
     "name": "stderr",
     "output_type": "stream",
     "text": [
      " 16%|█▌        | 11221/71496 [00:06<00:33, 1799.39it/s]"
     ]
    },
    {
     "name": "stdout",
     "output_type": "stream",
     "text": [
      "epsd2/admin/u3adm/P511612 is not available or not complete\n",
      "epsd2/admin/u3adm/P478279 is not available or not complete\n",
      "epsd2/admin/u3adm/P414533 is not available or not complete\n",
      "epsd2/admin/u3adm/P329888 is not available or not complete\n",
      "epsd2/admin/u3adm/P511544 is not available or not complete\n",
      "epsd2/admin/u3adm/P511589 is not available or not complete\n"
     ]
    },
    {
     "name": "stderr",
     "output_type": "stream",
     "text": [
      " 16%|█▌        | 11583/71496 [00:07<00:34, 1721.14it/s]"
     ]
    },
    {
     "name": "stdout",
     "output_type": "stream",
     "text": [
      "epsd2/admin/u3adm/P109109 is not available or not complete\n",
      "epsd2/admin/u3adm/P105447 is not available or not complete\n",
      "epsd2/admin/u3adm/P512159 is not available or not complete\n",
      "epsd2/admin/u3adm/P512150 is not available or not complete\n"
     ]
    },
    {
     "name": "stderr",
     "output_type": "stream",
     "text": [
      "\r",
      " 16%|█▋        | 11776/71496 [00:07<00:33, 1768.96it/s]"
     ]
    },
    {
     "name": "stdout",
     "output_type": "stream",
     "text": [
      "epsd2/admin/u3adm/P476065 is not available or not complete\n",
      "epsd2/admin/u3adm/P511632 is not available or not complete\n",
      "epsd2/admin/u3adm/P511906 is not available or not complete\n",
      "epsd2/admin/u3adm/P478293 is not available or not complete\n"
     ]
    },
    {
     "name": "stderr",
     "output_type": "stream",
     "text": [
      " 17%|█▋        | 12322/71496 [00:07<00:38, 1543.23it/s]"
     ]
    },
    {
     "name": "stdout",
     "output_type": "stream",
     "text": [
      "epsd2/admin/u3adm/P512141 is not available or not complete\n",
      "epsd2/admin/u3adm/P474560 is not available or not complete\n",
      "epsd2/admin/u3adm/P113145 is not available or not complete\n",
      "epsd2/admin/u3adm/P109096 is not available or not complete\n",
      "epsd2/admin/u3adm/P414519 is not available or not complete\n"
     ]
    },
    {
     "name": "stderr",
     "output_type": "stream",
     "text": [
      " 18%|█▊        | 12691/71496 [00:07<00:34, 1681.78it/s]"
     ]
    },
    {
     "name": "stdout",
     "output_type": "stream",
     "text": [
      "epsd2/admin/u3adm/P478297 is not available or not complete\n",
      "epsd2/admin/u3adm/P511989 is not available or not complete\n",
      "epsd2/admin/u3adm/P512102 is not available or not complete\n"
     ]
    },
    {
     "name": "stderr",
     "output_type": "stream",
     "text": [
      " 18%|█▊        | 13063/71496 [00:08<00:33, 1768.35it/s]"
     ]
    },
    {
     "name": "stdout",
     "output_type": "stream",
     "text": [
      "epsd2/admin/u3adm/P478284 is not available or not complete\n",
      "epsd2/admin/u3adm/P477691 is not available or not complete\n",
      "epsd2/admin/u3adm/P511434 is not available or not complete\n",
      "epsd2/admin/u3adm/P476082 is not available or not complete\n",
      "epsd2/admin/u3adm/P511396 is not available or not complete\n",
      "epsd2/admin/u3adm/P511591 is not available or not complete\n",
      "epsd2/admin/u3adm/P478294 is not available or not complete\n"
     ]
    },
    {
     "name": "stderr",
     "output_type": "stream",
     "text": [
      " 19%|█▉        | 13788/71496 [00:08<00:34, 1677.34it/s]"
     ]
    },
    {
     "name": "stdout",
     "output_type": "stream",
     "text": [
      "epsd2/admin/u3adm/P142626 is not available or not complete\n",
      "epsd2/admin/u3adm/P512118 is not available or not complete\n",
      "epsd2/admin/u3adm/P414529 is not available or not complete\n",
      "epsd2/admin/u3adm/P511963 is not available or not complete\n",
      "epsd2/admin/u3adm/P105378 is not available or not complete\n",
      "epsd2/admin/u3adm/P105309 is not available or not complete\n",
      "epsd2/admin/u3adm/P512138 is not available or not complete\n"
     ]
    },
    {
     "name": "stderr",
     "output_type": "stream",
     "text": [
      " 20%|█▉        | 14140/71496 [00:08<00:33, 1713.54it/s]"
     ]
    },
    {
     "name": "stdout",
     "output_type": "stream",
     "text": [
      "epsd2/admin/u3adm/P477698 is not available or not complete\n",
      "epsd2/admin/u3adm/P511941 is not available or not complete\n",
      "epsd2/admin/u3adm/P511608 is not available or not complete\n",
      "epsd2/admin/u3adm/P512121 is not available or not complete\n",
      "epsd2/admin/u3adm/P474531 is not available or not complete\n"
     ]
    },
    {
     "name": "stderr",
     "output_type": "stream",
     "text": [
      " 20%|██        | 14504/71496 [00:08<00:32, 1761.22it/s]"
     ]
    },
    {
     "name": "stdout",
     "output_type": "stream",
     "text": [
      "epsd2/admin/u3adm/P476074 is not available or not complete\n",
      "epsd2/admin/u3adm/P105340 is not available or not complete\n"
     ]
    },
    {
     "name": "stderr",
     "output_type": "stream",
     "text": [
      " 21%|██        | 14887/71496 [00:09<00:31, 1820.22it/s]"
     ]
    },
    {
     "name": "stdout",
     "output_type": "stream",
     "text": [
      "epsd2/admin/u3adm/P476063 is not available or not complete\n",
      "epsd2/admin/u3adm/P361750 is not available or not complete\n",
      "epsd2/admin/u3adm/P430674 is not available or not complete\n",
      "epsd2/admin/u3adm/P511915 is not available or not complete\n",
      "epsd2/admin/u3adm/P512134 is not available or not complete\n",
      "epsd2/admin/u3adm/P333133 is not available or not complete\n",
      "epsd2/admin/u3adm/P414576 is not available or not complete\n"
     ]
    },
    {
     "name": "stderr",
     "output_type": "stream",
     "text": [
      "\r",
      " 21%|██        | 15071/71496 [00:09<00:31, 1811.75it/s]"
     ]
    },
    {
     "name": "stdout",
     "output_type": "stream",
     "text": [
      "epsd2/admin/u3adm/P511412 is not available or not complete\n",
      "epsd2/admin/u3adm/P477695 is not available or not complete\n",
      "epsd2/admin/u3adm/P105542 is not available or not complete\n"
     ]
    },
    {
     "name": "stderr",
     "output_type": "stream",
     "text": [
      " 22%|██▏       | 15586/71496 [00:09<00:38, 1446.26it/s]"
     ]
    },
    {
     "name": "stdout",
     "output_type": "stream",
     "text": [
      "epsd2/admin/u3adm/P109091 is not available or not complete\n",
      "epsd2/admin/u3adm/P120695 is not available or not complete\n",
      "epsd2/admin/u3adm/P114180 is not available or not complete\n",
      "epsd2/admin/u3adm/P109121 is not available or not complete\n"
     ]
    },
    {
     "name": "stderr",
     "output_type": "stream",
     "text": [
      " 22%|██▏       | 15893/71496 [00:09<00:39, 1407.10it/s]"
     ]
    },
    {
     "name": "stdout",
     "output_type": "stream",
     "text": [
      "epsd2/admin/u3adm/P476076 is not available or not complete\n",
      "epsd2/admin/u3adm/P114143 is not available or not complete\n",
      "epsd2/admin/u3adm/P414553 is not available or not complete\n"
     ]
    },
    {
     "name": "stderr",
     "output_type": "stream",
     "text": [
      " 23%|██▎       | 16241/71496 [00:10<00:35, 1555.20it/s]"
     ]
    },
    {
     "name": "stdout",
     "output_type": "stream",
     "text": [
      "epsd2/admin/u3adm/P497674 is not available or not complete\n",
      "epsd2/admin/u3adm/P114107 is not available or not complete\n",
      "epsd2/admin/u3adm/P109123 is not available or not complete\n"
     ]
    },
    {
     "name": "stderr",
     "output_type": "stream",
     "text": [
      " 23%|██▎       | 16556/71496 [00:10<00:37, 1478.67it/s]"
     ]
    },
    {
     "name": "stdout",
     "output_type": "stream",
     "text": [
      "epsd2/admin/u3adm/P511913 is not available or not complete\n",
      "epsd2/admin/u3adm/P511527 is not available or not complete\n",
      "epsd2/admin/u3adm/P497670 is not available or not complete\n",
      "epsd2/admin/u3adm/P414561 is not available or not complete\n",
      "epsd2/admin/u3adm/P112322 is not available or not complete\n"
     ]
    },
    {
     "name": "stderr",
     "output_type": "stream",
     "text": [
      " 24%|██▍       | 17037/71496 [00:10<00:35, 1553.52it/s]"
     ]
    },
    {
     "name": "stdout",
     "output_type": "stream",
     "text": [
      "epsd2/admin/u3adm/P248996 is not available or not complete\n",
      "epsd2/admin/u3adm/P139504 is not available or not complete\n"
     ]
    },
    {
     "name": "stderr",
     "output_type": "stream",
     "text": [
      " 24%|██▍       | 17411/71496 [00:10<00:31, 1701.90it/s]"
     ]
    },
    {
     "name": "stdout",
     "output_type": "stream",
     "text": [
      "epsd2/admin/u3adm/P511925 is not available or not complete\n",
      "epsd2/admin/u3adm/P105307 is not available or not complete\n",
      "epsd2/admin/u3adm/P511945 is not available or not complete\n",
      "epsd2/admin/u3adm/P512153 is not available or not complete\n"
     ]
    },
    {
     "name": "stderr",
     "output_type": "stream",
     "text": [
      " 25%|██▌       | 17952/71496 [00:11<00:30, 1742.83it/s]"
     ]
    },
    {
     "name": "stdout",
     "output_type": "stream",
     "text": [
      "epsd2/admin/u3adm/P511619 is not available or not complete\n",
      "epsd2/admin/u3adm/P511603 is not available or not complete\n"
     ]
    },
    {
     "name": "stderr",
     "output_type": "stream",
     "text": [
      " 26%|██▌       | 18594/71496 [00:11<00:38, 1375.62it/s]"
     ]
    },
    {
     "name": "stdout",
     "output_type": "stream",
     "text": [
      "epsd2/admin/u3adm/P511978 is not available or not complete\n",
      "epsd2/admin/u3adm/P474538 is not available or not complete\n",
      "epsd2/admin/u3adm/P511423 is not available or not complete\n"
     ]
    },
    {
     "name": "stderr",
     "output_type": "stream",
     "text": [
      " 27%|██▋       | 18948/71496 [00:11<00:33, 1546.81it/s]"
     ]
    },
    {
     "name": "stdout",
     "output_type": "stream",
     "text": [
      "epsd2/admin/u3adm/P511931 is not available or not complete\n",
      "epsd2/admin/u3adm/P511980 is not available or not complete\n"
     ]
    },
    {
     "name": "stderr",
     "output_type": "stream",
     "text": [
      " 27%|██▋       | 19307/71496 [00:12<00:31, 1661.69it/s]"
     ]
    },
    {
     "name": "stdout",
     "output_type": "stream",
     "text": [
      "epsd2/admin/u3adm/P511902 is not available or not complete\n",
      "epsd2/admin/u3adm/P511487 is not available or not complete\n",
      "epsd2/admin/u3adm/P139501 is not available or not complete\n",
      "epsd2/admin/u3adm/P511924 is not available or not complete\n"
     ]
    },
    {
     "name": "stderr",
     "output_type": "stream",
     "text": [
      " 28%|██▊       | 19879/71496 [00:12<00:29, 1732.47it/s]"
     ]
    },
    {
     "name": "stdout",
     "output_type": "stream",
     "text": [
      "epsd2/admin/u3adm/P114108 is not available or not complete\n",
      "epsd2/admin/u3adm/P144316 is not available or not complete\n",
      "epsd2/admin/u3adm/P430673 is not available or not complete\n",
      "epsd2/admin/u3adm/P511569 is not available or not complete\n",
      "epsd2/admin/u3adm/P114181 is not available or not complete\n",
      "epsd2/admin/u3adm/P414523 is not available or not complete\n",
      "epsd2/admin/u3adm/P268222 is not available or not complete\n",
      "epsd2/admin/u3adm/P114151 is not available or not complete\n",
      "epsd2/admin/u3adm/P109103 is not available or not complete\n",
      "epsd2/admin/u3adm/P511878 is not available or not complete\n"
     ]
    },
    {
     "name": "stderr",
     "output_type": "stream",
     "text": [
      " 28%|██▊       | 20238/71496 [00:12<00:31, 1638.59it/s]"
     ]
    },
    {
     "name": "stdout",
     "output_type": "stream",
     "text": [
      "epsd2/admin/u3adm/P511919 is not available or not complete\n",
      "epsd2/admin/u3adm/P414528 is not available or not complete\n"
     ]
    },
    {
     "name": "stderr",
     "output_type": "stream",
     "text": [
      " 29%|██▉       | 20767/71496 [00:13<00:30, 1670.31it/s]"
     ]
    },
    {
     "name": "stdout",
     "output_type": "stream",
     "text": [
      "epsd2/admin/u3adm/P511975 is not available or not complete\n",
      "epsd2/admin/u3adm/P476088 is not available or not complete\n",
      "epsd2/admin/u3adm/P430672 is not available or not complete\n",
      "epsd2/admin/u3adm/P511927 is not available or not complete\n",
      "epsd2/admin/u3adm/P511974 is not available or not complete\n",
      "epsd2/admin/u3adm/P511439 is not available or not complete\n"
     ]
    },
    {
     "name": "stderr",
     "output_type": "stream",
     "text": [
      " 30%|██▉       | 21129/71496 [00:13<00:39, 1289.02it/s]"
     ]
    },
    {
     "name": "stdout",
     "output_type": "stream",
     "text": [
      "epsd2/admin/u3adm/P511917 is not available or not complete\n",
      "epsd2/admin/u3adm/P478301 is not available or not complete\n",
      "epsd2/admin/u3adm/P511582 is not available or not complete\n",
      "epsd2/admin/u3adm/P109114 is not available or not complete\n"
     ]
    },
    {
     "name": "stderr",
     "output_type": "stream",
     "text": [
      " 30%|███       | 21669/71496 [00:13<00:31, 1588.31it/s]"
     ]
    },
    {
     "name": "stdout",
     "output_type": "stream",
     "text": [
      "epsd2/admin/u3adm/P474541 is not available or not complete\n",
      "epsd2/admin/u3adm/P511928 is not available or not complete\n"
     ]
    },
    {
     "name": "stderr",
     "output_type": "stream",
     "text": [
      " 31%|███       | 22031/71496 [00:13<00:29, 1649.93it/s]"
     ]
    },
    {
     "name": "stdout",
     "output_type": "stream",
     "text": [
      "epsd2/admin/u3adm/P103285 is not available or not complete\n",
      "epsd2/admin/u3adm/P432386 is not available or not complete\n"
     ]
    },
    {
     "name": "stderr",
     "output_type": "stream",
     "text": [
      " 31%|███▏      | 22387/71496 [00:14<00:30, 1635.47it/s]"
     ]
    },
    {
     "name": "stdout",
     "output_type": "stream",
     "text": [
      "epsd2/admin/u3adm/P109100 is not available or not complete\n",
      "epsd2/admin/u3adm/P511950 is not available or not complete\n",
      "epsd2/admin/u3adm/P511579 is not available or not complete\n",
      "epsd2/admin/u3adm/P414552 is not available or not complete\n"
     ]
    },
    {
     "name": "stderr",
     "output_type": "stream",
     "text": [
      " 32%|███▏      | 22947/71496 [00:14<00:27, 1791.20it/s]"
     ]
    },
    {
     "name": "stdout",
     "output_type": "stream",
     "text": [
      "epsd2/admin/u3adm/P511431 is not available or not complete\n",
      "epsd2/admin/u3adm/P249240 is not available or not complete\n",
      "epsd2/admin/u3adm/P114103 is not available or not complete\n"
     ]
    },
    {
     "name": "stderr",
     "output_type": "stream",
     "text": [
      " 33%|███▎      | 23307/71496 [00:14<00:28, 1710.98it/s]"
     ]
    },
    {
     "name": "stdout",
     "output_type": "stream",
     "text": [
      "epsd2/admin/u3adm/P114106 is not available or not complete\n",
      "epsd2/admin/u3adm/P414562 is not available or not complete\n",
      "epsd2/admin/u3adm/P476057 is not available or not complete\n",
      "epsd2/admin/u3adm/P512157 is not available or not complete\n",
      "epsd2/admin/u3adm/P476077 is not available or not complete\n",
      "epsd2/admin/u3adm/P512100 is not available or not complete\n"
     ]
    },
    {
     "name": "stderr",
     "output_type": "stream",
     "text": [
      " 33%|███▎      | 23684/71496 [00:14<00:26, 1783.55it/s]"
     ]
    },
    {
     "name": "stdout",
     "output_type": "stream",
     "text": [
      "epsd2/admin/u3adm/P144092 is not available or not complete\n",
      "epsd2/admin/u3adm/P512185 is not available or not complete\n",
      "epsd2/admin/u3adm/P478299 is not available or not complete\n",
      "epsd2/admin/u3adm/P511960 is not available or not complete\n"
     ]
    },
    {
     "name": "stderr",
     "output_type": "stream",
     "text": [
      " 34%|███▎      | 24038/71496 [00:15<00:28, 1649.35it/s]"
     ]
    },
    {
     "name": "stdout",
     "output_type": "stream",
     "text": [
      "epsd2/admin/u3adm/P511965 is not available or not complete\n",
      "epsd2/admin/u3adm/P109090 is not available or not complete\n"
     ]
    },
    {
     "name": "stderr",
     "output_type": "stream",
     "text": [
      "\r",
      " 34%|███▍      | 24231/71496 [00:15<00:27, 1721.75it/s]"
     ]
    },
    {
     "name": "stdout",
     "output_type": "stream",
     "text": [
      "epsd2/admin/u3adm/P109089 is not available or not complete\n"
     ]
    },
    {
     "name": "stderr",
     "output_type": "stream",
     "text": [
      " 34%|███▍      | 24601/71496 [00:15<00:37, 1240.35it/s]"
     ]
    },
    {
     "name": "stdout",
     "output_type": "stream",
     "text": [
      "epsd2/admin/u3adm/P330479 is not available or not complete\n",
      "epsd2/admin/u3adm/P105537 is not available or not complete\n",
      "epsd2/admin/u3adm/P414555 is not available or not complete\n"
     ]
    },
    {
     "name": "stderr",
     "output_type": "stream",
     "text": [
      " 35%|███▌      | 25307/71496 [00:16<00:29, 1577.37it/s]"
     ]
    },
    {
     "name": "stdout",
     "output_type": "stream",
     "text": [
      "epsd2/admin/u3adm/P476084 is not available or not complete\n"
     ]
    },
    {
     "name": "stderr",
     "output_type": "stream",
     "text": [
      " 36%|███▌      | 25661/71496 [00:16<00:27, 1664.81it/s]"
     ]
    },
    {
     "name": "stdout",
     "output_type": "stream",
     "text": [
      "epsd2/admin/u3adm/P512149 is not available or not complete\n",
      "epsd2/admin/u3adm/P511943 is not available or not complete\n",
      "epsd2/admin/u3adm/P114185 is not available or not complete\n",
      "epsd2/admin/u3adm/P476058 is not available or not complete\n",
      "epsd2/admin/u3adm/P512106 is not available or not complete\n",
      "epsd2/admin/u3adm/P511464 is not available or not complete\n",
      "epsd2/admin/u3adm/P330391 is not available or not complete\n",
      "epsd2/admin/u3adm/P331094 is not available or not complete\n",
      "epsd2/admin/u3adm/P478308 is not available or not complete\n"
     ]
    },
    {
     "name": "stderr",
     "output_type": "stream",
     "text": [
      " 37%|███▋      | 26440/71496 [00:16<00:24, 1808.72it/s]"
     ]
    },
    {
     "name": "stdout",
     "output_type": "stream",
     "text": [
      "epsd2/admin/u3adm/P474529 is not available or not complete\n",
      "epsd2/admin/u3adm/P511880 is not available or not complete\n"
     ]
    },
    {
     "name": "stderr",
     "output_type": "stream",
     "text": [
      " 38%|███▊      | 27005/71496 [00:16<00:25, 1769.48it/s]"
     ]
    },
    {
     "name": "stdout",
     "output_type": "stream",
     "text": [
      "epsd2/admin/u3adm/P511448 is not available or not complete\n",
      "epsd2/admin/u3adm/P474536 is not available or not complete\n",
      "epsd2/admin/u3adm/P511410 is not available or not complete\n"
     ]
    },
    {
     "name": "stderr",
     "output_type": "stream",
     "text": [
      " 38%|███▊      | 27367/71496 [00:17<00:25, 1759.10it/s]"
     ]
    },
    {
     "name": "stdout",
     "output_type": "stream",
     "text": [
      "epsd2/admin/u3adm/P109113 is not available or not complete\n",
      "epsd2/admin/u3adm/P500140 is not available or not complete\n",
      "epsd2/admin/u3adm/P105305 is not available or not complete\n",
      "epsd2/admin/u3adm/P478290 is not available or not complete\n"
     ]
    },
    {
     "name": "stderr",
     "output_type": "stream",
     "text": [
      "\r",
      " 39%|███▊      | 27547/71496 [00:17<00:24, 1770.85it/s]"
     ]
    },
    {
     "name": "stdout",
     "output_type": "stream",
     "text": [
      "epsd2/admin/u3adm/P114105 is not available or not complete\n"
     ]
    },
    {
     "name": "stderr",
     "output_type": "stream",
     "text": [
      " 39%|███▉      | 27869/71496 [00:17<00:37, 1176.21it/s]"
     ]
    },
    {
     "name": "stdout",
     "output_type": "stream",
     "text": [
      "epsd2/admin/u3adm/P331645 is not available or not complete\n",
      "epsd2/admin/u3adm/P414530 is not available or not complete\n",
      "epsd2/admin/u3adm/P512109 is not available or not complete\n",
      "epsd2/admin/u3adm/P511853 is not available or not complete\n"
     ]
    },
    {
     "name": "stderr",
     "output_type": "stream",
     "text": [
      " 39%|███▉      | 28235/71496 [00:17<00:31, 1395.13it/s]"
     ]
    },
    {
     "name": "stdout",
     "output_type": "stream",
     "text": [
      "epsd2/admin/u3adm/P511961 is not available or not complete\n",
      "epsd2/admin/u3adm/P511453 is not available or not complete\n",
      "epsd2/admin/u3adm/P478296 is not available or not complete\n",
      "epsd2/admin/u3adm/P478305 is not available or not complete\n",
      "epsd2/admin/u3adm/P512115 is not available or not complete\n"
     ]
    },
    {
     "name": "stderr",
     "output_type": "stream",
     "text": [
      " 40%|████      | 28619/71496 [00:18<00:26, 1613.02it/s]"
     ]
    },
    {
     "name": "stdout",
     "output_type": "stream",
     "text": [
      "epsd2/admin/u3adm/P512099 is not available or not complete\n",
      "epsd2/admin/u3adm/P512160 is not available or not complete\n",
      "epsd2/admin/u3adm/P476055 is not available or not complete\n"
     ]
    },
    {
     "name": "stderr",
     "output_type": "stream",
     "text": [
      " 41%|████      | 29198/71496 [00:18<00:23, 1800.59it/s]"
     ]
    },
    {
     "name": "stdout",
     "output_type": "stream",
     "text": [
      "epsd2/admin/u3adm/P414563 is not available or not complete\n",
      "epsd2/admin/u3adm/P322406 is not available or not complete\n",
      "epsd2/admin/u3adm/P139506 is not available or not complete\n",
      "epsd2/admin/u3adm/P511629 is not available or not complete\n"
     ]
    },
    {
     "name": "stderr",
     "output_type": "stream",
     "text": [
      " 41%|████▏     | 29604/71496 [00:18<00:22, 1878.85it/s]"
     ]
    },
    {
     "name": "stdout",
     "output_type": "stream",
     "text": [
      "epsd2/admin/u3adm/P109080 is not available or not complete\n",
      "epsd2/admin/u3adm/P511910 is not available or not complete\n",
      "epsd2/admin/u3adm/P109095 is not available or not complete\n",
      "epsd2/admin/u3adm/P476087 is not available or not complete\n"
     ]
    },
    {
     "name": "stderr",
     "output_type": "stream",
     "text": [
      " 42%|████▏     | 30188/71496 [00:18<00:22, 1865.48it/s]"
     ]
    },
    {
     "name": "stdout",
     "output_type": "stream",
     "text": [
      "epsd2/admin/u3adm/P114148 is not available or not complete\n",
      "epsd2/admin/u3adm/P512145 is not available or not complete\n",
      "epsd2/admin/u3adm/P511416 is not available or not complete\n",
      "epsd2/admin/u3adm/P109097 is not available or not complete\n",
      "epsd2/admin/u3adm/P511865 is not available or not complete\n"
     ]
    },
    {
     "name": "stderr",
     "output_type": "stream",
     "text": [
      " 43%|████▎     | 30599/71496 [00:19<00:21, 1946.29it/s]"
     ]
    },
    {
     "name": "stdout",
     "output_type": "stream",
     "text": [
      "epsd2/admin/u3adm/P474551 is not available or not complete\n",
      "epsd2/admin/u3adm/P511614 is not available or not complete\n",
      "epsd2/admin/u3adm/P512148 is not available or not complete\n",
      "epsd2/admin/u3adm/P474553 is not available or not complete\n",
      "epsd2/admin/u3adm/P512130 is not available or not complete\n",
      "epsd2/admin/u3adm/P105297 is not available or not complete\n",
      "epsd2/admin/u3adm/P511985 is not available or not complete\n",
      "epsd2/admin/u3adm/P109118 is not available or not complete\n"
     ]
    },
    {
     "name": "stderr",
     "output_type": "stream",
     "text": [
      "\r",
      " 43%|████▎     | 30815/71496 [00:19<00:20, 2005.66it/s]"
     ]
    },
    {
     "name": "stdout",
     "output_type": "stream",
     "text": [
      "epsd2/admin/u3adm/P511456 is not available or not complete\n",
      "epsd2/admin/u3adm/P414524 is not available or not complete\n"
     ]
    },
    {
     "name": "stderr",
     "output_type": "stream",
     "text": [
      " 44%|████▍     | 31609/71496 [00:19<00:24, 1653.12it/s]"
     ]
    },
    {
     "name": "stdout",
     "output_type": "stream",
     "text": [
      "epsd2/admin/u3adm/P113246 is not available or not complete\n",
      "epsd2/admin/u3adm/P248913 is not available or not complete\n",
      "epsd2/admin/u3adm/P511630 is not available or not complete\n",
      "epsd2/admin/u3adm/P474549 is not available or not complete\n",
      "epsd2/admin/u3adm/P511954 is not available or not complete\n",
      "epsd2/admin/u3adm/P249111 is not available or not complete\n",
      "epsd2/admin/u3adm/P414566 is not available or not complete\n",
      "epsd2/admin/u3adm/P109111 is not available or not complete\n",
      "epsd2/admin/u3adm/P512127 is not available or not complete\n",
      "epsd2/admin/u3adm/P476053 is not available or not complete\n",
      "epsd2/admin/u3adm/P511415 is not available or not complete\n",
      "epsd2/admin/u3adm/P112316 is not available or not complete\n"
     ]
    },
    {
     "name": "stderr",
     "output_type": "stream",
     "text": [
      " 45%|████▍     | 31969/71496 [00:20<00:25, 1563.74it/s]"
     ]
    },
    {
     "name": "stdout",
     "output_type": "stream",
     "text": [
      "epsd2/admin/u3adm/P477696 is not available or not complete\n",
      "epsd2/admin/u3adm/P109127 is not available or not complete\n",
      "epsd2/admin/u3adm/P512091 is not available or not complete\n",
      "epsd2/admin/u3adm/P114146 is not available or not complete\n",
      "epsd2/admin/u3adm/P511404 is not available or not complete\n",
      "epsd2/admin/u3adm/P332487 is not available or not complete\n",
      "epsd2/admin/u3adm/P474555 is not available or not complete\n"
     ]
    },
    {
     "name": "stderr",
     "output_type": "stream",
     "text": [
      " 45%|████▌     | 32325/71496 [00:20<00:24, 1623.05it/s]"
     ]
    },
    {
     "name": "stdout",
     "output_type": "stream",
     "text": [
      "epsd2/admin/u3adm/P476079 is not available or not complete\n",
      "epsd2/admin/u3adm/P109122 is not available or not complete\n",
      "epsd2/admin/u3adm/P512125 is not available or not complete\n"
     ]
    },
    {
     "name": "stderr",
     "output_type": "stream",
     "text": [
      " 46%|████▌     | 32663/71496 [00:20<00:23, 1636.37it/s]"
     ]
    },
    {
     "name": "stdout",
     "output_type": "stream",
     "text": [
      "epsd2/admin/u3adm/P512143 is not available or not complete\n",
      "epsd2/admin/u3adm/P478310 is not available or not complete\n",
      "epsd2/admin/u3adm/P511958 is not available or not complete\n"
     ]
    },
    {
     "name": "stderr",
     "output_type": "stream",
     "text": [
      " 47%|████▋     | 33500/71496 [00:20<00:19, 1961.75it/s]"
     ]
    },
    {
     "name": "stdout",
     "output_type": "stream",
     "text": [
      "epsd2/admin/u3adm/P511440 is not available or not complete\n",
      "epsd2/admin/u3adm/P477694 is not available or not complete\n",
      "epsd2/admin/u3adm/P511984 is not available or not complete\n",
      "epsd2/admin/u3adm/P477693 is not available or not complete\n",
      "epsd2/admin/u3adm/P511474 is not available or not complete\n",
      "epsd2/admin/u3adm/P478278 is not available or not complete\n",
      "epsd2/admin/u3adm/P414522 is not available or not complete\n",
      "epsd2/admin/u3adm/P454532 is not available or not complete\n",
      "epsd2/admin/u3adm/P430677 is not available or not complete\n"
     ]
    },
    {
     "name": "stderr",
     "output_type": "stream",
     "text": [
      " 48%|████▊     | 34097/71496 [00:21<00:19, 1927.06it/s]"
     ]
    },
    {
     "name": "stdout",
     "output_type": "stream",
     "text": [
      "epsd2/admin/u3adm/P105310 is not available or not complete\n",
      "epsd2/admin/u3adm/P511977 is not available or not complete\n",
      "epsd2/admin/u3adm/P414551 is not available or not complete\n",
      "epsd2/admin/u3adm/P114182 is not available or not complete\n",
      "epsd2/admin/u3adm/P511599 is not available or not complete\n",
      "epsd2/admin/u3adm/P511918 is not available or not complete\n"
     ]
    },
    {
     "name": "stderr",
     "output_type": "stream",
     "text": [
      " 48%|████▊     | 34448/71496 [00:21<00:28, 1306.33it/s]"
     ]
    },
    {
     "name": "stdout",
     "output_type": "stream",
     "text": [
      "epsd2/admin/u3adm/P511581 is not available or not complete\n",
      "epsd2/admin/u3adm/P414520 is not available or not complete\n",
      "epsd2/admin/u3adm/P105362 is not available or not complete\n",
      "epsd2/admin/u3adm/P478281 is not available or not complete\n"
     ]
    },
    {
     "name": "stderr",
     "output_type": "stream",
     "text": [
      " 49%|████▊     | 34844/71496 [00:21<00:23, 1576.76it/s]"
     ]
    },
    {
     "name": "stdout",
     "output_type": "stream",
     "text": [
      "epsd2/admin/u3adm/P511602 is not available or not complete\n",
      "epsd2/admin/u3adm/P511930 is not available or not complete\n",
      "epsd2/admin/u3adm/P477687 is not available or not complete\n",
      "epsd2/admin/u3adm/P511920 is not available or not complete\n",
      "epsd2/admin/u3adm/P511964 is not available or not complete\n"
     ]
    },
    {
     "name": "stderr",
     "output_type": "stream",
     "text": [
      " 49%|████▉     | 35265/71496 [00:21<00:20, 1792.24it/s]"
     ]
    },
    {
     "name": "stdout",
     "output_type": "stream",
     "text": [
      "epsd2/admin/u3adm/P476081 is not available or not complete\n",
      "epsd2/admin/u3adm/P511957 is not available or not complete\n"
     ]
    },
    {
     "name": "stderr",
     "output_type": "stream",
     "text": [
      " 50%|█████     | 35860/71496 [00:22<00:19, 1869.91it/s]"
     ]
    },
    {
     "name": "stdout",
     "output_type": "stream",
     "text": [
      "epsd2/admin/u3adm/P511546 is not available or not complete\n",
      "epsd2/admin/u3adm/P511981 is not available or not complete\n",
      "epsd2/admin/u3adm/P511450 is not available or not complete\n"
     ]
    },
    {
     "name": "stderr",
     "output_type": "stream",
     "text": [
      " 51%|█████     | 36255/71496 [00:22<00:18, 1880.87it/s]"
     ]
    },
    {
     "name": "stdout",
     "output_type": "stream",
     "text": [
      "epsd2/admin/u3adm/P114179 is not available or not complete\n",
      "epsd2/admin/u3adm/P511594 is not available or not complete\n",
      "epsd2/admin/u3adm/P361749 is not available or not complete\n",
      "epsd2/admin/u3adm/P476070 is not available or not complete\n",
      "epsd2/admin/u3adm/P114150 is not available or not complete\n",
      "epsd2/admin/u3adm/P476072 is not available or not complete\n"
     ]
    },
    {
     "name": "stderr",
     "output_type": "stream",
     "text": [
      " 52%|█████▏    | 36838/71496 [00:22<00:18, 1912.63it/s]"
     ]
    },
    {
     "name": "stdout",
     "output_type": "stream",
     "text": [
      "epsd2/admin/u3adm/P109128 is not available or not complete\n"
     ]
    },
    {
     "name": "stderr",
     "output_type": "stream",
     "text": [
      " 52%|█████▏    | 37466/71496 [00:23<00:17, 1917.42it/s]"
     ]
    },
    {
     "name": "stdout",
     "output_type": "stream",
     "text": [
      "epsd2/admin/u3adm/P511929 is not available or not complete\n",
      "epsd2/admin/u3adm/P511578 is not available or not complete\n",
      "epsd2/admin/u3adm/P511542 is not available or not complete\n",
      "epsd2/admin/u3adm/P511858 is not available or not complete\n"
     ]
    },
    {
     "name": "stderr",
     "output_type": "stream",
     "text": [
      " 53%|█████▎    | 37872/71496 [00:23<00:24, 1368.22it/s]"
     ]
    },
    {
     "name": "stdout",
     "output_type": "stream",
     "text": [
      "epsd2/admin/u3adm/P511908 is not available or not complete\n",
      "epsd2/admin/u3adm/P478298 is not available or not complete\n",
      "epsd2/admin/u3adm/P474554 is not available or not complete\n",
      "epsd2/admin/u3adm/P511874 is not available or not complete\n",
      "epsd2/admin/u3adm/P511904 is not available or not complete\n"
     ]
    },
    {
     "name": "stderr",
     "output_type": "stream",
     "text": [
      " 53%|█████▎    | 38229/71496 [00:23<00:21, 1549.18it/s]"
     ]
    },
    {
     "name": "stdout",
     "output_type": "stream",
     "text": [
      "epsd2/admin/u3adm/P512155 is not available or not complete\n",
      "epsd2/admin/u3adm/P139508 is not available or not complete\n",
      "epsd2/admin/u3adm/P497672 is not available or not complete\n",
      "epsd2/admin/u3adm/P112317 is not available or not complete\n"
     ]
    },
    {
     "name": "stderr",
     "output_type": "stream",
     "text": [
      " 54%|█████▍    | 38837/71496 [00:24<00:17, 1842.67it/s]"
     ]
    },
    {
     "name": "stdout",
     "output_type": "stream",
     "text": [
      "epsd2/admin/u3adm/P511585 is not available or not complete\n",
      "epsd2/admin/u3adm/P200536 is not available or not complete\n",
      "epsd2/admin/u3adm/P414527 is not available or not complete\n",
      "epsd2/admin/u3adm/P511855 is not available or not complete\n"
     ]
    },
    {
     "name": "stderr",
     "output_type": "stream",
     "text": [
      " 55%|█████▍    | 39244/71496 [00:24<00:16, 1933.86it/s]"
     ]
    },
    {
     "name": "stdout",
     "output_type": "stream",
     "text": [
      "epsd2/admin/u3adm/P103265 is not available or not complete\n",
      "epsd2/admin/u3adm/P109104 is not available or not complete\n",
      "epsd2/admin/u3adm/P109107 is not available or not complete\n"
     ]
    },
    {
     "name": "stderr",
     "output_type": "stream",
     "text": [
      " 56%|█████▌    | 39859/71496 [00:24<00:16, 1923.26it/s]"
     ]
    },
    {
     "name": "stdout",
     "output_type": "stream",
     "text": [
      "epsd2/admin/u3adm/P511549 is not available or not complete\n",
      "epsd2/admin/u3adm/P512123 is not available or not complete\n",
      "epsd2/admin/u3adm/P511986 is not available or not complete\n",
      "epsd2/admin/u3adm/P474533 is not available or not complete\n",
      "epsd2/admin/u3adm/P430676 is not available or not complete\n",
      "epsd2/admin/u3adm/P511894 is not available or not complete\n",
      "epsd2/admin/u3adm/P474528 is not available or not complete\n"
     ]
    },
    {
     "name": "stderr",
     "output_type": "stream",
     "text": [
      " 56%|█████▋    | 40273/71496 [00:24<00:15, 1998.00it/s]"
     ]
    },
    {
     "name": "stdout",
     "output_type": "stream",
     "text": [
      "epsd2/admin/u3adm/P474556 is not available or not complete\n",
      "epsd2/admin/u3adm/P511948 is not available or not complete\n",
      "epsd2/admin/u3adm/P511967 is not available or not complete\n",
      "epsd2/admin/u3adm/P511568 is not available or not complete\n",
      "epsd2/admin/u3adm/P109117 is not available or not complete\n"
     ]
    },
    {
     "name": "stderr",
     "output_type": "stream",
     "text": [
      " 57%|█████▋    | 40698/71496 [00:24<00:15, 2005.56it/s]"
     ]
    },
    {
     "name": "stdout",
     "output_type": "stream",
     "text": [
      "epsd2/admin/u3adm/P474537 is not available or not complete\n",
      "epsd2/admin/u3adm/P105308 is not available or not complete\n",
      "epsd2/admin/u3adm/P333132 is not available or not complete\n",
      "epsd2/admin/u3adm/P511411 is not available or not complete\n"
     ]
    },
    {
     "name": "stderr",
     "output_type": "stream",
     "text": [
      " 58%|█████▊    | 41538/71496 [00:25<00:14, 2006.09it/s]"
     ]
    },
    {
     "name": "stdout",
     "output_type": "stream",
     "text": [
      "epsd2/admin/u3adm/P105383 is not available or not complete\n",
      "epsd2/admin/u3adm/P474527 is not available or not complete\n",
      "epsd2/admin/u3adm/P414517 is not available or not complete\n"
     ]
    },
    {
     "name": "stderr",
     "output_type": "stream",
     "text": [
      "\r",
      " 58%|█████▊    | 41740/71496 [00:25<00:22, 1312.27it/s]"
     ]
    },
    {
     "name": "stdout",
     "output_type": "stream",
     "text": [
      "epsd2/admin/u3adm/P511955 is not available or not complete\n"
     ]
    },
    {
     "name": "stderr",
     "output_type": "stream",
     "text": [
      " 59%|█████▉    | 42150/71496 [00:25<00:18, 1607.20it/s]"
     ]
    },
    {
     "name": "stdout",
     "output_type": "stream",
     "text": [
      "epsd2/admin/u3adm/P430671 is not available or not complete\n",
      "epsd2/admin/u3adm/P511490 is not available or not complete\n",
      "epsd2/admin/u3adm/P477699 is not available or not complete\n",
      "epsd2/admin/u3adm/P478285 is not available or not complete\n",
      "epsd2/admin/u3adm/P114142 is not available or not complete\n",
      "epsd2/admin/u3adm/P414532 is not available or not complete\n",
      "epsd2/admin/u3adm/P109085 is not available or not complete\n"
     ]
    },
    {
     "name": "stderr",
     "output_type": "stream",
     "text": [
      " 60%|█████▉    | 42784/71496 [00:26<00:15, 1826.82it/s]"
     ]
    },
    {
     "name": "stdout",
     "output_type": "stream",
     "text": [
      "epsd2/admin/u3adm/P511408 is not available or not complete\n",
      "epsd2/admin/u3adm/P474532 is not available or not complete\n",
      "epsd2/admin/u3adm/P105551 is not available or not complete\n"
     ]
    },
    {
     "name": "stderr",
     "output_type": "stream",
     "text": [
      " 61%|██████    | 43380/71496 [00:26<00:15, 1846.27it/s]"
     ]
    },
    {
     "name": "stdout",
     "output_type": "stream",
     "text": [
      "epsd2/admin/u3adm/P511537 is not available or not complete\n",
      "epsd2/admin/u3adm/P511959 is not available or not complete\n",
      "epsd2/admin/u3adm/P476060 is not available or not complete\n",
      "epsd2/admin/u3adm/P476080 is not available or not complete\n"
     ]
    },
    {
     "name": "stderr",
     "output_type": "stream",
     "text": [
      " 61%|██████▏   | 43945/71496 [00:26<00:14, 1842.15it/s]"
     ]
    },
    {
     "name": "stdout",
     "output_type": "stream",
     "text": [
      "epsd2/admin/u3adm/P333130 is not available or not complete\n",
      "epsd2/admin/u3adm/P105544 is not available or not complete\n"
     ]
    },
    {
     "name": "stderr",
     "output_type": "stream",
     "text": [
      "\r",
      " 62%|██████▏   | 44131/71496 [00:26<00:15, 1766.39it/s]"
     ]
    },
    {
     "name": "stdout",
     "output_type": "stream",
     "text": [
      "epsd2/admin/u3adm/P511885 is not available or not complete\n",
      "epsd2/admin/u3adm/P497676 is not available or not complete\n",
      "epsd2/admin/u3adm/P511492 is not available or not complete\n",
      "epsd2/admin/u3adm/P109124 is not available or not complete\n",
      "epsd2/admin/u3adm/P477700 is not available or not complete\n",
      "epsd2/admin/u3adm/P109106 is not available or not complete\n",
      "epsd2/admin/u3adm/P105304 is not available or not complete\n"
     ]
    },
    {
     "name": "stderr",
     "output_type": "stream",
     "text": [
      " 63%|██████▎   | 44707/71496 [00:27<00:14, 1864.65it/s]"
     ]
    },
    {
     "name": "stdout",
     "output_type": "stream",
     "text": [
      "epsd2/admin/u3adm/P109131 is not available or not complete\n"
     ]
    },
    {
     "name": "stderr",
     "output_type": "stream",
     "text": [
      " 63%|██████▎   | 45143/71496 [00:27<00:13, 2011.82it/s]"
     ]
    },
    {
     "name": "stdout",
     "output_type": "stream",
     "text": [
      "epsd2/admin/u3adm/P511970 is not available or not complete\n",
      "epsd2/admin/u3adm/P414559 is not available or not complete\n",
      "epsd2/admin/u3adm/P511921 is not available or not complete\n",
      "epsd2/admin/u3adm/P474525 is not available or not complete\n",
      "epsd2/admin/u3adm/P512117 is not available or not complete\n",
      "epsd2/admin/u3adm/P497678 is not available or not complete\n",
      "epsd2/admin/u3adm/P109081 is not available or not complete\n",
      "epsd2/admin/u3adm/P114178 is not available or not complete\n"
     ]
    },
    {
     "name": "stderr",
     "output_type": "stream",
     "text": [
      " 64%|██████▍   | 45697/71496 [00:27<00:17, 1461.11it/s]"
     ]
    },
    {
     "name": "stdout",
     "output_type": "stream",
     "text": [
      "epsd2/admin/u3adm/P511424 is not available or not complete\n",
      "epsd2/admin/u3adm/P511426 is not available or not complete\n",
      "epsd2/admin/u3adm/P511523 is not available or not complete\n"
     ]
    },
    {
     "name": "stderr",
     "output_type": "stream",
     "text": [
      " 64%|██████▍   | 46055/71496 [00:28<00:16, 1524.79it/s]"
     ]
    },
    {
     "name": "stdout",
     "output_type": "stream",
     "text": [
      "epsd2/admin/u3adm/P109119 is not available or not complete\n",
      "epsd2/admin/u3adm/P511483 is not available or not complete\n",
      "epsd2/admin/u3adm/P511437 is not available or not complete\n"
     ]
    },
    {
     "name": "stderr",
     "output_type": "stream",
     "text": [
      " 65%|██████▍   | 46430/71496 [00:28<00:15, 1668.11it/s]"
     ]
    },
    {
     "name": "stdout",
     "output_type": "stream",
     "text": [
      "epsd2/admin/u3adm/P511932 is not available or not complete\n",
      "epsd2/admin/u3adm/P478309 is not available or not complete\n",
      "epsd2/admin/u3adm/P511953 is not available or not complete\n",
      "epsd2/admin/u3adm/P476051 is not available or not complete\n",
      "epsd2/admin/u3adm/P476075 is not available or not complete\n",
      "epsd2/admin/u3adm/P474552 is not available or not complete\n",
      "epsd2/admin/u3adm/P512126 is not available or not complete\n",
      "epsd2/admin/u3adm/P511852 is not available or not complete\n"
     ]
    },
    {
     "name": "stderr",
     "output_type": "stream",
     "text": [
      " 66%|██████▌   | 46968/71496 [00:28<00:14, 1705.52it/s]"
     ]
    },
    {
     "name": "stdout",
     "output_type": "stream",
     "text": [
      "epsd2/admin/u3adm/P512119 is not available or not complete\n",
      "epsd2/admin/u3adm/P478288 is not available or not complete\n",
      "epsd2/admin/u3adm/P109105 is not available or not complete\n"
     ]
    },
    {
     "name": "stderr",
     "output_type": "stream",
     "text": [
      " 66%|██████▌   | 47334/71496 [00:28<00:13, 1733.87it/s]"
     ]
    },
    {
     "name": "stdout",
     "output_type": "stream",
     "text": [
      "epsd2/admin/u3adm/P330388 is not available or not complete\n",
      "epsd2/admin/u3adm/P511536 is not available or not complete\n",
      "epsd2/admin/u3adm/P476071 is not available or not complete\n",
      "epsd2/admin/u3adm/P112321 is not available or not complete\n",
      "epsd2/admin/u3adm/P476059 is not available or not complete\n"
     ]
    },
    {
     "name": "stderr",
     "output_type": "stream",
     "text": [
      " 67%|██████▋   | 47710/71496 [00:29<00:13, 1796.94it/s]"
     ]
    },
    {
     "name": "stdout",
     "output_type": "stream",
     "text": [
      "epsd2/admin/u3adm/P511881 is not available or not complete\n",
      "epsd2/admin/u3adm/P497677 is not available or not complete\n",
      "epsd2/admin/u3adm/P474543 is not available or not complete\n",
      "epsd2/admin/u3adm/P511944 is not available or not complete\n"
     ]
    },
    {
     "name": "stderr",
     "output_type": "stream",
     "text": [
      " 68%|██████▊   | 48265/71496 [00:29<00:16, 1440.85it/s]"
     ]
    },
    {
     "name": "stdout",
     "output_type": "stream",
     "text": [
      "epsd2/admin/u3adm/P476717 is not available or not complete\n",
      "epsd2/admin/u3adm/P511971 is not available or not complete\n",
      "epsd2/admin/u3adm/P109130 is not available or not complete\n"
     ]
    },
    {
     "name": "stderr",
     "output_type": "stream",
     "text": [
      " 68%|██████▊   | 48630/71496 [00:29<00:14, 1616.81it/s]"
     ]
    },
    {
     "name": "stdout",
     "output_type": "stream",
     "text": [
      "epsd2/admin/u3adm/P511968 is not available or not complete\n",
      "epsd2/admin/u3adm/P414570 is not available or not complete\n",
      "epsd2/admin/u3adm/P478302 is not available or not complete\n",
      "epsd2/admin/u3adm/P512133 is not available or not complete\n"
     ]
    },
    {
     "name": "stderr",
     "output_type": "stream",
     "text": [
      " 69%|██████▉   | 49402/71496 [00:30<00:12, 1760.91it/s]"
     ]
    },
    {
     "name": "stdout",
     "output_type": "stream",
     "text": [
      "epsd2/admin/u3adm/P476085 is not available or not complete\n",
      "epsd2/admin/u3adm/P474547 is not available or not complete\n",
      "epsd2/admin/u3adm/P511942 is not available or not complete\n",
      "epsd2/admin/u3adm/P511429 is not available or not complete\n",
      "epsd2/admin/u3adm/P474546 is not available or not complete\n"
     ]
    },
    {
     "name": "stderr",
     "output_type": "stream",
     "text": [
      "\r",
      " 69%|██████▉   | 49609/71496 [00:30<00:11, 1840.39it/s]"
     ]
    },
    {
     "name": "stdout",
     "output_type": "stream",
     "text": [
      "epsd2/admin/u3adm/P476052 is not available or not complete\n",
      "epsd2/admin/u3adm/P478304 is not available or not complete\n",
      "epsd2/admin/u3adm/P512161 is not available or not complete\n",
      "epsd2/admin/u3adm/P511457 is not available or not complete\n",
      "epsd2/admin/u3adm/P476086 is not available or not complete\n",
      "epsd2/admin/u3adm/P512158 is not available or not complete\n"
     ]
    },
    {
     "name": "stderr",
     "output_type": "stream",
     "text": [
      " 70%|███████   | 50199/71496 [00:30<00:11, 1831.29it/s]"
     ]
    },
    {
     "name": "stdout",
     "output_type": "stream",
     "text": [
      "epsd2/admin/u3adm/P128551 is not available or not complete\n",
      "epsd2/admin/u3adm/P139505 is not available or not complete\n",
      "epsd2/admin/u3adm/P105330 is not available or not complete\n",
      "epsd2/admin/u3adm/P414554 is not available or not complete\n",
      "epsd2/admin/u3adm/P478295 is not available or not complete\n",
      "epsd2/admin/u3adm/P511946 is not available or not complete\n"
     ]
    },
    {
     "name": "stderr",
     "output_type": "stream",
     "text": [
      " 71%|███████   | 50569/71496 [00:30<00:11, 1793.18it/s]"
     ]
    },
    {
     "name": "stdout",
     "output_type": "stream",
     "text": [
      "epsd2/admin/u3adm/P477689 is not available or not complete\n",
      "epsd2/admin/u3adm/P511417 is not available or not complete\n",
      "epsd2/admin/u3adm/P511866 is not available or not complete\n"
     ]
    },
    {
     "name": "stderr",
     "output_type": "stream",
     "text": [
      " 71%|███████   | 50933/71496 [00:31<00:17, 1154.64it/s]"
     ]
    },
    {
     "name": "stdout",
     "output_type": "stream",
     "text": [
      "epsd2/admin/u3adm/P511557 is not available or not complete\n",
      "epsd2/admin/u3adm/P511560 is not available or not complete\n",
      "epsd2/admin/u3adm/P476716 is not available or not complete\n"
     ]
    },
    {
     "name": "stderr",
     "output_type": "stream",
     "text": [
      " 72%|███████▏  | 51481/71496 [00:31<00:13, 1522.42it/s]"
     ]
    },
    {
     "name": "stdout",
     "output_type": "stream",
     "text": [
      "epsd2/admin/u3adm/P511620 is not available or not complete\n",
      "epsd2/admin/u3adm/P512151 is not available or not complete\n",
      "epsd2/admin/u3adm/P512116 is not available or not complete\n",
      "epsd2/admin/u3adm/P474550 is not available or not complete\n"
     ]
    },
    {
     "name": "stderr",
     "output_type": "stream",
     "text": [
      " 72%|███████▏  | 51823/71496 [00:31<00:13, 1466.96it/s]"
     ]
    },
    {
     "name": "stdout",
     "output_type": "stream",
     "text": [
      "epsd2/admin/u3adm/P113137 is not available or not complete\n",
      "epsd2/admin/u3adm/P511413 is not available or not complete\n",
      "epsd2/admin/u3adm/P511631 is not available or not complete\n",
      "epsd2/admin/u3adm/P109125 is not available or not complete\n",
      "epsd2/admin/u3adm/P511580 is not available or not complete\n"
     ]
    },
    {
     "name": "stderr",
     "output_type": "stream",
     "text": [
      " 73%|███████▎  | 52186/71496 [00:32<00:12, 1553.54it/s]"
     ]
    },
    {
     "name": "stdout",
     "output_type": "stream",
     "text": [
      "epsd2/admin/u3adm/P511854 is not available or not complete\n",
      "epsd2/admin/u3adm/P511590 is not available or not complete\n"
     ]
    },
    {
     "name": "stderr",
     "output_type": "stream",
     "text": [
      " 73%|███████▎  | 52536/71496 [00:32<00:17, 1088.74it/s]"
     ]
    },
    {
     "name": "stdout",
     "output_type": "stream",
     "text": [
      "epsd2/admin/u3adm/P114145 is not available or not complete\n",
      "epsd2/admin/u3adm/P511451 is not available or not complete\n",
      "epsd2/admin/u3adm/P511903 is not available or not complete\n"
     ]
    },
    {
     "name": "stderr",
     "output_type": "stream",
     "text": [
      " 75%|███████▍  | 53323/71496 [00:32<00:11, 1644.50it/s]"
     ]
    },
    {
     "name": "stdout",
     "output_type": "stream",
     "text": [
      "epsd2/admin/u3adm/P112320 is not available or not complete\n",
      "epsd2/admin/u3adm/P512104 is not available or not complete\n",
      "epsd2/admin/u3adm/P474559 is not available or not complete\n"
     ]
    },
    {
     "name": "stderr",
     "output_type": "stream",
     "text": [
      " 75%|███████▌  | 53914/71496 [00:33<00:09, 1789.12it/s]"
     ]
    },
    {
     "name": "stdout",
     "output_type": "stream",
     "text": [
      "epsd2/admin/u3adm/P512105 is not available or not complete\n",
      "epsd2/admin/u3adm/P105543 is not available or not complete\n",
      "epsd2/admin/u3adm/P511940 is not available or not complete\n"
     ]
    },
    {
     "name": "stderr",
     "output_type": "stream",
     "text": [
      " 76%|███████▌  | 54504/71496 [00:33<00:09, 1802.99it/s]"
     ]
    },
    {
     "name": "stdout",
     "output_type": "stream",
     "text": [
      "epsd2/admin/u3adm/P511553 is not available or not complete\n",
      "epsd2/admin/u3adm/P108847 is not available or not complete\n",
      "epsd2/admin/u3adm/P109094 is not available or not complete\n",
      "epsd2/admin/u3adm/P333129 is not available or not complete\n",
      "epsd2/admin/u3adm/P102530 is not available or not complete\n",
      "epsd2/admin/u3adm/P512135 is not available or not complete\n",
      "epsd2/admin/u3adm/P414525 is not available or not complete\n"
     ]
    },
    {
     "name": "stderr",
     "output_type": "stream",
     "text": [
      " 77%|███████▋  | 55082/71496 [00:33<00:08, 1842.11it/s]"
     ]
    },
    {
     "name": "stdout",
     "output_type": "stream",
     "text": [
      "epsd2/admin/u3adm/P433131 is not available or not complete\n",
      "epsd2/admin/u3adm/P478292 is not available or not complete\n"
     ]
    },
    {
     "name": "stderr",
     "output_type": "stream",
     "text": [
      " 78%|███████▊  | 55452/71496 [00:34<00:09, 1755.67it/s]"
     ]
    },
    {
     "name": "stdout",
     "output_type": "stream",
     "text": [
      "epsd2/admin/u3adm/P511605 is not available or not complete\n",
      "epsd2/admin/u3adm/P474545 is not available or not complete\n",
      "epsd2/admin/u3adm/P114315 is not available or not complete\n",
      "epsd2/admin/u3adm/P512129 is not available or not complete\n",
      "epsd2/admin/u3adm/P478312 is not available or not complete\n"
     ]
    },
    {
     "name": "stderr",
     "output_type": "stream",
     "text": [
      " 78%|███████▊  | 55814/71496 [00:34<00:08, 1757.00it/s]"
     ]
    },
    {
     "name": "stdout",
     "output_type": "stream",
     "text": [
      "epsd2/admin/u3adm/P511907 is not available or not complete\n",
      "epsd2/admin/u3adm/P333128 is not available or not complete\n",
      "epsd2/admin/u3adm/P414534 is not available or not complete\n",
      "epsd2/admin/u3adm/P112796 is not available or not complete\n"
     ]
    },
    {
     "name": "stderr",
     "output_type": "stream",
     "text": [
      " 79%|███████▊  | 56132/71496 [00:34<00:14, 1075.08it/s]"
     ]
    },
    {
     "name": "stdout",
     "output_type": "stream",
     "text": [
      "epsd2/admin/u3adm/P511992 is not available or not complete\n",
      "epsd2/admin/u3adm/P476715 is not available or not complete\n",
      "epsd2/admin/u3adm/P114147 is not available or not complete\n",
      "epsd2/admin/u3adm/P414526 is not available or not complete\n",
      "epsd2/admin/u3adm/P476064 is not available or not complete\n"
     ]
    },
    {
     "name": "stderr",
     "output_type": "stream",
     "text": [
      " 79%|███████▉  | 56509/71496 [00:34<00:11, 1307.77it/s]"
     ]
    },
    {
     "name": "stdout",
     "output_type": "stream",
     "text": [
      "epsd2/admin/u3adm/P511550 is not available or not complete\n",
      "epsd2/admin/u3adm/P109098 is not available or not complete\n",
      "epsd2/admin/u3adm/P139507 is not available or not complete\n",
      "epsd2/admin/u3adm/P478303 is not available or not complete\n",
      "epsd2/admin/u3adm/P414567 is not available or not complete\n",
      "epsd2/admin/u3adm/P511856 is not available or not complete\n"
     ]
    },
    {
     "name": "stderr",
     "output_type": "stream",
     "text": [
      " 80%|████████  | 57486/71496 [00:35<00:07, 1795.39it/s]"
     ]
    },
    {
     "name": "stdout",
     "output_type": "stream",
     "text": [
      "epsd2/admin/u3adm/P477688 is not available or not complete\n",
      "epsd2/admin/u3adm/P477697 is not available or not complete\n",
      "epsd2/admin/u3adm/P511863 is not available or not complete\n",
      "epsd2/admin/u3adm/P512128 is not available or not complete\n",
      "epsd2/admin/u3adm/P511436 is not available or not complete\n"
     ]
    },
    {
     "name": "stderr",
     "output_type": "stream",
     "text": [
      " 81%|████████  | 57867/71496 [00:35<00:07, 1783.53it/s]"
     ]
    },
    {
     "name": "stdout",
     "output_type": "stream",
     "text": [
      "epsd2/admin/u3adm/P511556 is not available or not complete\n",
      "epsd2/admin/u3adm/P511458 is not available or not complete\n",
      "epsd2/admin/u3adm/P511430 is not available or not complete\n",
      "epsd2/admin/u3adm/P512142 is not available or not complete\n"
     ]
    },
    {
     "name": "stderr",
     "output_type": "stream",
     "text": [
      " 81%|████████▏ | 58232/71496 [00:35<00:07, 1771.02it/s]"
     ]
    },
    {
     "name": "stdout",
     "output_type": "stream",
     "text": [
      "epsd2/admin/u3adm/P105381 is not available or not complete\n",
      "epsd2/admin/u3adm/P414568 is not available or not complete\n",
      "epsd2/admin/u3adm/P511972 is not available or not complete\n",
      "epsd2/admin/u3adm/P512098 is not available or not complete\n"
     ]
    },
    {
     "name": "stderr",
     "output_type": "stream",
     "text": [
      " 82%|████████▏ | 58593/71496 [00:36<00:07, 1781.19it/s]"
     ]
    },
    {
     "name": "stdout",
     "output_type": "stream",
     "text": [
      "epsd2/admin/u3adm/P109126 is not available or not complete\n",
      "epsd2/admin/u3adm/P511875 is not available or not complete\n"
     ]
    },
    {
     "name": "stderr",
     "output_type": "stream",
     "text": [
      " 82%|████████▏ | 58962/71496 [00:36<00:06, 1809.60it/s]"
     ]
    },
    {
     "name": "stdout",
     "output_type": "stream",
     "text": [
      "epsd2/admin/u3adm/P105306 is not available or not complete\n",
      "epsd2/admin/u3adm/P511857 is not available or not complete\n"
     ]
    },
    {
     "name": "stderr",
     "output_type": "stream",
     "text": [
      " 83%|████████▎ | 59346/71496 [00:36<00:10, 1134.04it/s]"
     ]
    },
    {
     "name": "stdout",
     "output_type": "stream",
     "text": [
      "epsd2/admin/u3adm/P105422 is not available or not complete\n",
      "epsd2/admin/u3adm/P105454 is not available or not complete\n",
      "epsd2/admin/u3adm/P114177 is not available or not complete\n"
     ]
    },
    {
     "name": "stderr",
     "output_type": "stream",
     "text": [
      " 84%|████████▎ | 59751/71496 [00:37<00:08, 1463.66it/s]"
     ]
    },
    {
     "name": "stdout",
     "output_type": "stream",
     "text": [
      "epsd2/admin/u3adm/P511454 is not available or not complete\n",
      "epsd2/admin/u3adm/P511982 is not available or not complete\n",
      "epsd2/admin/u3adm/P511409 is not available or not complete\n",
      "epsd2/admin/u3adm/P109110 is not available or not complete\n",
      "epsd2/admin/u3adm/P478300 is not available or not complete\n",
      "epsd2/admin/u3adm/P476068 is not available or not complete\n",
      "epsd2/admin/u3adm/P109116 is not available or not complete\n"
     ]
    },
    {
     "name": "stderr",
     "output_type": "stream",
     "text": [
      " 84%|████████▍ | 60139/71496 [00:37<00:06, 1656.30it/s]"
     ]
    },
    {
     "name": "stdout",
     "output_type": "stream",
     "text": [
      "epsd2/admin/u3adm/P512139 is not available or not complete\n",
      "epsd2/admin/u3adm/P109108 is not available or not complete\n",
      "epsd2/admin/u3adm/P511468 is not available or not complete\n",
      "epsd2/admin/u3adm/P512124 is not available or not complete\n",
      "epsd2/admin/u3adm/P455737 is not available or not complete\n",
      "epsd2/admin/u3adm/P512120 is not available or not complete\n"
     ]
    },
    {
     "name": "stderr",
     "output_type": "stream",
     "text": [
      " 85%|████████▍ | 60511/71496 [00:37<00:06, 1610.42it/s]"
     ]
    },
    {
     "name": "stdout",
     "output_type": "stream",
     "text": [
      "epsd2/admin/u3adm/P511588 is not available or not complete\n",
      "epsd2/admin/u3adm/P474540 is not available or not complete\n",
      "epsd2/admin/u3adm/P511472 is not available or not complete\n",
      "epsd2/admin/u3adm/P511923 is not available or not complete\n"
     ]
    },
    {
     "name": "stderr",
     "output_type": "stream",
     "text": [
      " 85%|████████▌ | 60860/71496 [00:37<00:06, 1642.92it/s]"
     ]
    },
    {
     "name": "stdout",
     "output_type": "stream",
     "text": [
      "epsd2/admin/u3adm/P511962 is not available or not complete\n"
     ]
    },
    {
     "name": "stderr",
     "output_type": "stream",
     "text": [
      " 86%|████████▋ | 61746/71496 [00:38<00:07, 1285.40it/s]"
     ]
    },
    {
     "name": "stdout",
     "output_type": "stream",
     "text": [
      "epsd2/admin/u3adm/P478306 is not available or not complete\n"
     ]
    },
    {
     "name": "stderr",
     "output_type": "stream",
     "text": [
      " 87%|████████▋ | 62094/71496 [00:38<00:06, 1437.19it/s]"
     ]
    },
    {
     "name": "stdout",
     "output_type": "stream",
     "text": [
      "epsd2/admin/u3adm/P105265 is not available or not complete\n",
      "epsd2/admin/u3adm/P109112 is not available or not complete\n"
     ]
    },
    {
     "name": "stderr",
     "output_type": "stream",
     "text": [
      " 87%|████████▋ | 62456/71496 [00:38<00:05, 1572.78it/s]"
     ]
    },
    {
     "name": "stdout",
     "output_type": "stream",
     "text": [
      "epsd2/admin/u3adm/P109101 is not available or not complete\n",
      "epsd2/admin/u3adm/P504807 is not available or not complete\n",
      "epsd2/admin/u3adm/P114144 is not available or not complete\n",
      "epsd2/admin/u3adm/P109120 is not available or not complete\n",
      "epsd2/admin/u3adm/P511600 is not available or not complete\n",
      "epsd2/admin/u3adm/P414549 is not available or not complete\n"
     ]
    },
    {
     "name": "stderr",
     "output_type": "stream",
     "text": [
      " 88%|████████▊ | 63005/71496 [00:39<00:05, 1547.71it/s]"
     ]
    },
    {
     "name": "stdout",
     "output_type": "stream",
     "text": [
      "epsd2/admin/u3adm/P477690 is not available or not complete\n",
      "epsd2/admin/u3adm/P298522 is not available or not complete\n",
      "epsd2/admin/u3adm/P511403 is not available or not complete\n"
     ]
    },
    {
     "name": "stderr",
     "output_type": "stream",
     "text": [
      " 89%|████████▊ | 63355/71496 [00:39<00:04, 1643.54it/s]"
     ]
    },
    {
     "name": "stdout",
     "output_type": "stream",
     "text": [
      "epsd2/admin/u3adm/P474526 is not available or not complete\n",
      "epsd2/admin/u3adm/P112319 is not available or not complete\n",
      "epsd2/admin/u3adm/P511626 is not available or not complete\n",
      "epsd2/admin/u3adm/P331067 is not available or not complete\n",
      "epsd2/admin/u3adm/P114183 is not available or not complete\n",
      "epsd2/admin/u3adm/P109092 is not available or not complete\n"
     ]
    },
    {
     "name": "stderr",
     "output_type": "stream",
     "text": [
      " 89%|████████▉ | 63694/71496 [00:39<00:07, 1091.41it/s]"
     ]
    },
    {
     "name": "stdout",
     "output_type": "stream",
     "text": [
      "epsd2/admin/u3adm/P512112 is not available or not complete\n",
      "epsd2/admin/u3adm/P511922 is not available or not complete\n"
     ]
    },
    {
     "name": "stderr",
     "output_type": "stream",
     "text": [
      " 90%|████████▉ | 64244/71496 [00:40<00:05, 1396.55it/s]"
     ]
    },
    {
     "name": "stdout",
     "output_type": "stream",
     "text": [
      "epsd2/admin/u3adm/P511428 is not available or not complete\n"
     ]
    },
    {
     "name": "stderr",
     "output_type": "stream",
     "text": [
      " 91%|█████████ | 64762/71496 [00:40<00:04, 1540.67it/s]"
     ]
    },
    {
     "name": "stdout",
     "output_type": "stream",
     "text": [
      "epsd2/admin/u3adm/P414556 is not available or not complete\n",
      "epsd2/admin/u3adm/P414558 is not available or not complete\n",
      "epsd2/admin/u3adm/P511624 is not available or not complete\n"
     ]
    },
    {
     "name": "stderr",
     "output_type": "stream",
     "text": [
      " 91%|█████████ | 65141/71496 [00:40<00:03, 1700.56it/s]"
     ]
    },
    {
     "name": "stdout",
     "output_type": "stream",
     "text": [
      "epsd2/admin/u3adm/P113128 is not available or not complete\n",
      "epsd2/admin/u3adm/P108851 is not available or not complete\n",
      "epsd2/admin/u3adm/P476066 is not available or not complete\n",
      "epsd2/admin/u3adm/P511421 is not available or not complete\n",
      "epsd2/admin/u3adm/P511993 is not available or not complete\n"
     ]
    },
    {
     "name": "stderr",
     "output_type": "stream",
     "text": [
      " 92%|█████████▏| 65508/71496 [00:41<00:03, 1676.43it/s]"
     ]
    },
    {
     "name": "stdout",
     "output_type": "stream",
     "text": [
      "epsd2/admin/u3adm/P105369 is not available or not complete\n"
     ]
    },
    {
     "name": "stderr",
     "output_type": "stream",
     "text": [
      " 92%|█████████▏| 66046/71496 [00:41<00:04, 1213.98it/s]"
     ]
    },
    {
     "name": "stdout",
     "output_type": "stream",
     "text": [
      "epsd2/admin/u3adm/P511952 is not available or not complete\n",
      "epsd2/admin/u3adm/P511991 is not available or not complete\n",
      "epsd2/admin/u3adm/P478311 is not available or not complete\n",
      "epsd2/admin/u3adm/P108843 is not available or not complete\n",
      "epsd2/admin/u3adm/P511864 is not available or not complete\n"
     ]
    },
    {
     "name": "stderr",
     "output_type": "stream",
     "text": [
      " 93%|█████████▎| 66389/71496 [00:41<00:03, 1430.21it/s]"
     ]
    },
    {
     "name": "stdout",
     "output_type": "stream",
     "text": [
      "epsd2/admin/u3adm/P114149 is not available or not complete\n",
      "epsd2/admin/u3adm/P512110 is not available or not complete\n",
      "epsd2/admin/u3adm/P333127 is not available or not complete\n",
      "epsd2/admin/u3adm/P511625 is not available or not complete\n",
      "epsd2/admin/u3adm/P474542 is not available or not complete\n"
     ]
    },
    {
     "name": "stderr",
     "output_type": "stream",
     "text": [
      " 94%|█████████▎| 66977/71496 [00:42<00:02, 1748.44it/s]"
     ]
    },
    {
     "name": "stdout",
     "output_type": "stream",
     "text": [
      "epsd2/admin/u3adm/P114104 is not available or not complete\n",
      "epsd2/admin/u3adm/P476083 is not available or not complete\n",
      "epsd2/admin/u3adm/P414547 is not available or not complete\n"
     ]
    },
    {
     "name": "stderr",
     "output_type": "stream",
     "text": [
      " 94%|█████████▍| 67516/71496 [00:42<00:02, 1604.69it/s]"
     ]
    },
    {
     "name": "stdout",
     "output_type": "stream",
     "text": [
      "epsd2/admin/u3adm/P511494 is not available or not complete\n",
      "epsd2/admin/u3adm/P511947 is not available or not complete\n",
      "epsd2/admin/u3adm/P430675 is not available or not complete\n"
     ]
    },
    {
     "name": "stderr",
     "output_type": "stream",
     "text": [
      " 95%|█████████▌| 68259/71496 [00:42<00:01, 1755.41it/s]"
     ]
    },
    {
     "name": "stdout",
     "output_type": "stream",
     "text": [
      "epsd2/admin/u3adm/P512152 is not available or not complete\n",
      "epsd2/admin/u3adm/P512101 is not available or not complete\n"
     ]
    },
    {
     "name": "stderr",
     "output_type": "stream",
     "text": [
      " 96%|█████████▌| 68652/71496 [00:43<00:01, 1847.54it/s]"
     ]
    },
    {
     "name": "stdout",
     "output_type": "stream",
     "text": [
      "epsd2/admin/u3adm/P511966 is not available or not complete\n",
      "epsd2/admin/u3adm/P414572 is not available or not complete\n"
     ]
    },
    {
     "name": "stderr",
     "output_type": "stream",
     "text": [
      " 97%|█████████▋| 69035/71496 [00:43<00:02, 1088.72it/s]"
     ]
    },
    {
     "name": "stdout",
     "output_type": "stream",
     "text": [
      "epsd2/admin/u3adm/P512122 is not available or not complete\n",
      "epsd2/admin/u3adm/P114111 is not available or not complete\n",
      "epsd2/admin/u3adm/P511988 is not available or not complete\n"
     ]
    },
    {
     "name": "stderr",
     "output_type": "stream",
     "text": [
      " 97%|█████████▋| 69599/71496 [00:43<00:01, 1497.93it/s]"
     ]
    },
    {
     "name": "stdout",
     "output_type": "stream",
     "text": [
      "epsd2/admin/u3adm/P512154 is not available or not complete\n",
      "epsd2/admin/u3adm/P511432 is not available or not complete\n",
      "epsd2/admin/u3adm/P511914 is not available or not complete\n",
      "epsd2/admin/u3adm/P476073 is not available or not complete\n",
      "epsd2/admin/u3adm/P512136 is not available or not complete\n",
      "epsd2/admin/u3adm/P477692 is not available or not complete\n",
      "epsd2/admin/u3adm/P478291 is not available or not complete\n"
     ]
    },
    {
     "name": "stderr",
     "output_type": "stream",
     "text": [
      " 98%|█████████▊| 69960/71496 [00:44<00:00, 1604.03it/s]"
     ]
    },
    {
     "name": "stdout",
     "output_type": "stream",
     "text": [
      "epsd2/admin/u3adm/P414531 is not available or not complete\n",
      "epsd2/admin/u3adm/P478286 is not available or not complete\n",
      "epsd2/admin/u3adm/P512132 is not available or not complete\n",
      "epsd2/admin/u3adm/P113106 is not available or not complete\n",
      "epsd2/admin/u3adm/P105482 is not available or not complete\n"
     ]
    },
    {
     "name": "stderr",
     "output_type": "stream",
     "text": [
      " 99%|█████████▊| 70512/71496 [00:44<00:00, 1742.39it/s]"
     ]
    },
    {
     "name": "stdout",
     "output_type": "stream",
     "text": [
      "epsd2/admin/u3adm/P511951 is not available or not complete\n",
      "epsd2/admin/u3adm/P109102 is not available or not complete\n",
      "epsd2/admin/u3adm/P331079 is not available or not complete\n",
      "epsd2/admin/u3adm/P512113 is not available or not complete\n"
     ]
    },
    {
     "name": "stderr",
     "output_type": "stream",
     "text": [
      " 99%|█████████▉| 70906/71496 [00:44<00:00, 1736.46it/s]"
     ]
    },
    {
     "name": "stdout",
     "output_type": "stream",
     "text": [
      "epsd2/admin/u3adm/P511862 is not available or not complete\n",
      "epsd2/admin/u3adm/P511938 is not available or not complete\n",
      "epsd2/admin/u3adm/P476054 is not available or not complete\n"
     ]
    },
    {
     "name": "stderr",
     "output_type": "stream",
     "text": [
      "100%|█████████▉| 71286/71496 [00:44<00:00, 1814.17it/s]"
     ]
    },
    {
     "name": "stdout",
     "output_type": "stream",
     "text": [
      "epsd2/admin/u3adm/P512097 is not available or not complete\n",
      "epsd2/admin/u3adm/P511577 is not available or not complete\n",
      "epsd2/admin/u3adm/P511541 is not available or not complete\n",
      "epsd2/admin/u3adm/P109086 is not available or not complete\n",
      "epsd2/admin/u3adm/P511470 is not available or not complete\n",
      "epsd2/admin/u3adm/P511479 is not available or not complete\n"
     ]
    },
    {
     "name": "stderr",
     "output_type": "stream",
     "text": [
      "100%|██████████| 71496/71496 [00:44<00:00, 1588.94it/s]\n",
      "100%|██████████| 129/129 [00:00<00:00, 3388.67it/s]\n",
      "100%|██████████| 181/181 [00:00<00:00, 1750.60it/s]\n",
      " 33%|███▎      | 464/1424 [00:00<00:00, 2192.88it/s]"
     ]
    },
    {
     "name": "stdout",
     "output_type": "stream",
     "text": [
      "epsd2/admin/oldbab/P454327 is not available or not complete\n"
     ]
    },
    {
     "name": "stderr",
     "output_type": "stream",
     "text": [
      "100%|██████████| 1424/1424 [00:00<00:00, 1511.14it/s]\n",
      "  0%|          | 0/394 [00:00<?, ?it/s]"
     ]
    },
    {
     "name": "stdout",
     "output_type": "stream",
     "text": [
      "epsd2/admin/oldbab/P453296 is not available or not complete\n"
     ]
    },
    {
     "name": "stderr",
     "output_type": "stream",
     "text": [
      "100%|██████████| 394/394 [00:04<00:00, 83.99it/s] \n",
      "0it [00:00, ?it/s]\n",
      "100%|██████████| 35/35 [00:00<00:00, 1082.31it/s]\n",
      "100%|██████████| 1348/1348 [00:00<00:00, 1485.42it/s]\n",
      " 52%|█████▏    | 127/242 [00:00<00:00, 649.55it/s]"
     ]
    },
    {
     "name": "stdout",
     "output_type": "stream",
     "text": [
      "epsd2/praxis/P222388 is not available or not complete\n",
      "epsd2/praxis/P342998 is not available or not complete\n",
      "epsd2/praxis/P345800 is not available or not complete\n"
     ]
    },
    {
     "name": "stderr",
     "output_type": "stream",
     "text": [
      "100%|██████████| 242/242 [00:00<00:00, 387.26it/s]\n",
      "  2%|▏         | 89/4290 [00:00<00:04, 886.33it/s]"
     ]
    },
    {
     "name": "stdout",
     "output_type": "stream",
     "text": [
      "epsd2/praxis/P307377 is not available or not complete\n"
     ]
    },
    {
     "name": "stderr",
     "output_type": "stream",
     "text": [
      "100%|██████████| 4290/4290 [00:10<00:00, 392.97it/s]\n",
      "100%|██████████| 100/100 [00:00<00:00, 1123.88it/s]\n",
      "100%|██████████| 92/92 [00:00<00:00, 2567.17it/s]\n",
      "100%|██████████| 397/397 [00:01<00:00, 305.75it/s]\n"
     ]
    }
   ],
   "source": [
    "all_ = []\n",
    "lemm_ = []\n",
    "for project in p:\n",
    "    file = \"jsonzip/\" + project.replace(\"/\", \"-\") + \".zip\"\n",
    "    try:\n",
    "        z = zipfile.ZipFile(file)       # create a Zipfile object\n",
    "    except:\n",
    "        print(file + \" does not exist or is not a proper ZIP file\")\n",
    "        continue\n",
    "    files = z.namelist()     # list of all the files in the ZIP\n",
    "    files = [name for name in files if \"corpusjson\" in name and name[-5:] == '.json']                                                                                                  #that holds all the P, Q, and X numbers.\n",
    "    for filename in tqdm.tqdm(files):                            #iterate over the file names\n",
    "        id_text = project + filename[-13:-5] # id_text is, for instance, blms/P414332\n",
    "        try:\n",
    "            text = z.read(filename).decode('utf-8')         #read and decode the json file of one particular text\n",
    "            #print(filename)\n",
    "            data_json = json.loads(text)                # make it into a json object (essentially a dictionary)\n",
    "            all_.append('Start'+id_text)\n",
    "            lemm_.append('Start'+id_text)   # to keep all_ and lemm_ same length\n",
    "            parsejson_signs(data_json)\n",
    "        except:\n",
    "            print(id_text + ' is not available or not complete')"
   ]
  },
  {
   "cell_type": "markdown",
   "metadata": {},
   "source": [
    "## 3 Data Structuring\n",
    "### 3.1 Transform the Data into a DataFrame\n"
   ]
  },
  {
   "cell_type": "code",
   "execution_count": 21,
   "metadata": {},
   "outputs": [
    {
     "name": "stderr",
     "output_type": "stream",
     "text": [
      "\n",
      "  0%|          | 0/4385354 [00:00<?, ?it/s]\u001b[A\n",
      "  1%|          | 30266/4385354 [00:00<00:14, 302648.02it/s]\u001b[A\n",
      "  1%|▏         | 59736/4385354 [00:00<00:14, 300216.21it/s]\u001b[A\n",
      "  2%|▏         | 88581/4385354 [00:00<00:14, 296584.90it/s]\u001b[A\n",
      "  3%|▎         | 117576/4385354 [00:00<00:14, 294559.85it/s]\u001b[A\n",
      "  3%|▎         | 147065/4385354 [00:00<00:14, 294656.37it/s]\u001b[A\n",
      "  4%|▍         | 177115/4385354 [00:00<00:14, 296382.82it/s]\u001b[A\n",
      "  5%|▍         | 206815/4385354 [00:00<00:14, 296566.73it/s]\u001b[A\n",
      "  5%|▌         | 237263/4385354 [00:00<00:13, 298896.22it/s]\u001b[A\n",
      "  6%|▌         | 266805/4385354 [00:00<00:13, 297842.95it/s]\u001b[A\n",
      "  7%|▋         | 298833/4385354 [00:01<00:13, 304235.94it/s]\u001b[A\n",
      "  8%|▊         | 330666/4385354 [00:01<00:13, 308330.59it/s]\u001b[A\n",
      "  8%|▊         | 362353/4385354 [00:01<00:12, 310843.56it/s]\u001b[A\n",
      "  9%|▉         | 393052/4385354 [00:01<00:12, 309476.05it/s]\u001b[A\n",
      " 10%|▉         | 424349/4385354 [00:01<00:12, 310515.88it/s]\u001b[A\n",
      " 10%|█         | 457409/4385354 [00:01<00:12, 316279.14it/s]\u001b[A\n",
      " 11%|█         | 491153/4385354 [00:01<00:12, 322342.59it/s]\u001b[A\n",
      " 12%|█▏        | 524556/4385354 [00:01<00:11, 325761.89it/s]\u001b[A\n",
      " 13%|█▎        | 557596/4385354 [00:01<00:11, 327136.67it/s]\u001b[A\n",
      " 13%|█▎        | 591562/4385354 [00:01<00:11, 330793.64it/s]\u001b[A\n",
      " 14%|█▍        | 625702/4385354 [00:02<00:11, 333905.56it/s]\u001b[A\n",
      " 15%|█▌        | 659289/4385354 [00:02<00:11, 334364.67it/s]\u001b[A\n",
      " 16%|█▌        | 692731/4385354 [00:02<00:11, 332523.81it/s]\u001b[A\n",
      " 17%|█▋        | 725990/4385354 [00:02<00:11, 331534.43it/s]\u001b[A\n",
      " 17%|█▋        | 759497/4385354 [00:02<00:10, 332585.21it/s]\u001b[A\n",
      " 18%|█▊        | 792760/4385354 [00:02<00:10, 332550.70it/s]\u001b[A\n",
      " 19%|█▉        | 826393/4385354 [00:02<00:10, 333673.74it/s]\u001b[A\n",
      " 20%|█▉        | 859949/4385354 [00:02<00:10, 334236.29it/s]\u001b[A\n",
      " 20%|██        | 893499/4385354 [00:02<00:10, 334613.31it/s]\u001b[A\n",
      " 21%|██        | 927329/4385354 [00:02<00:10, 335708.80it/s]\u001b[A\n",
      " 22%|██▏       | 961062/4385354 [00:03<00:10, 336191.46it/s]\u001b[A\n",
      " 23%|██▎       | 994683/4385354 [00:03<00:10, 334383.56it/s]\u001b[A\n",
      " 23%|██▎       | 1028731/4385354 [00:03<00:09, 336188.36it/s]\u001b[A\n",
      " 24%|██▍       | 1062773/4385354 [00:03<00:09, 337432.74it/s]\u001b[A\n",
      " 25%|██▌       | 1096521/4385354 [00:03<00:09, 337413.47it/s]\u001b[A\n",
      " 26%|██▌       | 1131309/4385354 [00:03<00:09, 340484.65it/s]\u001b[A\n",
      " 27%|██▋       | 1165617/4385354 [00:03<00:09, 341254.36it/s]\u001b[A\n",
      " 27%|██▋       | 1199749/4385354 [00:03<00:09, 340279.80it/s]\u001b[A\n",
      " 28%|██▊       | 1233783/4385354 [00:03<00:09, 337325.11it/s]\u001b[A\n",
      " 29%|██▉       | 1267673/4385354 [00:03<00:09, 337792.76it/s]\u001b[A\n",
      " 30%|██▉       | 1301460/4385354 [00:04<00:09, 337624.80it/s]\u001b[A\n",
      " 30%|███       | 1335551/4385354 [00:04<00:09, 338602.83it/s]\u001b[A\n",
      " 31%|███       | 1369416/4385354 [00:04<00:08, 336540.41it/s]\u001b[A\n",
      " 32%|███▏      | 1403076/4385354 [00:04<00:08, 335334.10it/s]\u001b[A\n",
      " 33%|███▎      | 1436650/4385354 [00:04<00:08, 335454.66it/s]\u001b[A\n",
      " 34%|███▎      | 1470585/4385354 [00:04<00:08, 336611.07it/s]\u001b[A\n",
      " 34%|███▍      | 1504250/4385354 [00:04<00:08, 335178.78it/s]\u001b[A\n",
      " 35%|███▌      | 1537914/4385354 [00:04<00:08, 335615.67it/s]\u001b[A\n",
      " 36%|███▌      | 1571479/4385354 [00:04<00:08, 334267.43it/s]\u001b[A\n",
      " 37%|███▋      | 1604909/4385354 [00:04<00:08, 333739.76it/s]\u001b[A\n",
      " 37%|███▋      | 1638753/4385354 [00:05<00:08, 335133.07it/s]\u001b[A\n",
      " 38%|███▊      | 1672270/4385354 [00:05<00:08, 333176.23it/s]\u001b[A\n",
      " 39%|███▉      | 1705593/4385354 [00:05<00:08, 332709.19it/s]\u001b[A\n",
      " 40%|███▉      | 1738868/4385354 [00:05<00:08, 329170.67it/s]\u001b[A\n",
      " 40%|████      | 1771797/4385354 [00:05<00:07, 326931.64it/s]\u001b[A\n",
      " 41%|████      | 1804601/4385354 [00:05<00:07, 327263.22it/s]\u001b[A\n",
      " 42%|████▏     | 1837852/4385354 [00:05<00:07, 328817.78it/s]\u001b[A\n",
      " 43%|████▎     | 1870742/4385354 [00:05<00:07, 327787.69it/s]\u001b[A\n",
      " 43%|████▎     | 1903746/4385354 [00:05<00:07, 328459.07it/s]\u001b[A\n",
      " 44%|████▍     | 1937260/4385354 [00:05<00:07, 330433.21it/s]\u001b[A\n",
      " 45%|████▍     | 1970694/4385354 [00:06<00:07, 331594.54it/s]\u001b[A\n",
      " 46%|████▌     | 2004900/4385354 [00:06<00:07, 334664.30it/s]\u001b[A\n",
      " 46%|████▋     | 2038808/4385354 [00:06<00:06, 335959.13it/s]\u001b[A\n",
      " 47%|████▋     | 2072413/4385354 [00:06<00:06, 332739.67it/s]\u001b[A\n",
      " 48%|████▊     | 2105700/4385354 [00:06<00:06, 330267.98it/s]\u001b[A\n",
      " 49%|████▉     | 2138741/4385354 [00:06<00:06, 325783.78it/s]\u001b[A\n",
      " 50%|████▉     | 2171343/4385354 [00:06<00:06, 322451.33it/s]\u001b[A\n",
      " 50%|█████     | 2203613/4385354 [00:06<00:06, 321169.08it/s]\u001b[A\n",
      " 51%|█████     | 2235748/4385354 [00:06<00:06, 318273.83it/s]\u001b[A\n",
      " 52%|█████▏    | 2267594/4385354 [00:06<00:06, 317521.34it/s]\u001b[A\n",
      " 52%|█████▏    | 2299482/4385354 [00:07<00:06, 317926.68it/s]\u001b[A\n",
      " 53%|█████▎    | 2331285/4385354 [00:07<00:06, 316667.69it/s]\u001b[A\n",
      " 54%|█████▍    | 2362976/4385354 [00:07<00:06, 316739.76it/s]\u001b[A\n",
      " 55%|█████▍    | 2394656/4385354 [00:07<00:06, 315753.72it/s]\u001b[A\n",
      " 55%|█████▌    | 2427591/4385354 [00:07<00:06, 319712.46it/s]\u001b[A\n",
      " 56%|█████▌    | 2459578/4385354 [00:07<00:06, 318811.28it/s]\u001b[A\n",
      " 57%|█████▋    | 2491471/4385354 [00:07<00:05, 316584.54it/s]\u001b[A\n",
      " 58%|█████▊    | 2523423/4385354 [00:07<00:05, 317457.56it/s]\u001b[A\n",
      " 58%|█████▊    | 2555947/4385354 [00:07<00:05, 319379.96it/s]\u001b[A\n",
      " 59%|█████▉    | 2588111/4385354 [00:07<00:05, 320052.67it/s]\u001b[A\n",
      " 60%|█████▉    | 2620404/4385354 [00:08<00:05, 320908.96it/s]\u001b[A\n",
      " 60%|██████    | 2652808/4385354 [00:08<00:05, 321840.85it/s]\u001b[A\n",
      " 61%|██████    | 2684997/4385354 [00:08<00:05, 320532.52it/s]\u001b[A\n",
      " 62%|██████▏   | 2717055/4385354 [00:08<00:05, 317647.19it/s]\u001b[A\n",
      " 63%|██████▎   | 2748829/4385354 [00:08<00:05, 317574.06it/s]\u001b[A\n",
      " 63%|██████▎   | 2780746/4385354 [00:08<00:05, 318038.56it/s]\u001b[A\n",
      " 64%|██████▍   | 2812555/4385354 [00:08<00:04, 317735.95it/s]\u001b[A\n",
      " 65%|██████▍   | 2844332/4385354 [00:08<00:04, 316023.52it/s]\u001b[A\n",
      " 66%|██████▌   | 2876191/4385354 [00:08<00:04, 316787.40it/s]\u001b[A\n",
      " 66%|██████▋   | 2908231/4385354 [00:08<00:04, 317860.66it/s]\u001b[A\n",
      " 67%|██████▋   | 2940162/4385354 [00:09<00:04, 318291.22it/s]\u001b[A\n",
      " 68%|██████▊   | 2971994/4385354 [00:09<00:04, 318269.44it/s]\u001b[A\n",
      " 69%|██████▊   | 3004767/4385354 [00:09<00:04, 321048.95it/s]\u001b[A\n",
      " 69%|██████▉   | 3038998/4385354 [00:09<00:04, 327142.76it/s]\u001b[A\n",
      " 70%|███████   | 3072219/4385354 [00:09<00:03, 328646.49it/s]\u001b[A\n",
      " 71%|███████   | 3105814/4385354 [00:09<00:03, 330801.98it/s]\u001b[A\n",
      " 72%|███████▏  | 3139893/4385354 [00:09<00:03, 333731.78it/s]\u001b[A\n",
      " 72%|███████▏  | 3173287/4385354 [00:09<00:03, 328718.46it/s]\u001b[A\n",
      " 73%|███████▎  | 3206191/4385354 [00:11<00:20, 58500.97it/s] \u001b[A\n",
      " 74%|███████▍  | 3239693/4385354 [00:11<00:14, 77753.84it/s]\u001b[A\n",
      " 75%|███████▍  | 3272837/4385354 [00:11<00:11, 100929.07it/s]\u001b[A\n",
      " 75%|███████▌  | 3305816/4385354 [00:11<00:08, 127465.77it/s]\u001b[A\n",
      " 76%|███████▌  | 3336999/4385354 [00:11<00:06, 154948.83it/s]\u001b[A\n",
      " 77%|███████▋  | 3368728/4385354 [00:11<00:05, 183044.15it/s]\u001b[A\n",
      " 78%|███████▊  | 3400149/4385354 [00:12<00:04, 209248.80it/s]\u001b[A\n",
      " 78%|███████▊  | 3432128/4385354 [00:12<00:04, 233457.50it/s]\u001b[A\n",
      " 79%|███████▉  | 3465361/4385354 [00:12<00:03, 256334.76it/s]\u001b[A\n",
      " 80%|███████▉  | 3499534/4385354 [00:12<00:03, 277108.76it/s]\u001b[A\n",
      " 81%|████████  | 3533918/4385354 [00:12<00:02, 294238.20it/s]\u001b[A\n",
      " 81%|████████▏ | 3568220/4385354 [00:12<00:02, 307350.85it/s]\u001b[A\n",
      " 82%|████████▏ | 3602593/4385354 [00:12<00:02, 317427.73it/s]\u001b[A\n",
      " 83%|████████▎ | 3636375/4385354 [00:12<00:02, 323229.13it/s]\u001b[A\n",
      " 84%|████████▎ | 3670115/4385354 [00:12<00:02, 313191.46it/s]\u001b[A\n",
      " 84%|████████▍ | 3704159/4385354 [00:12<00:02, 320896.62it/s]\u001b[A\n",
      " 85%|████████▌ | 3738707/4385354 [00:13<00:01, 327891.47it/s]\u001b[A\n",
      " 86%|████████▌ | 3772715/4385354 [00:13<00:01, 331451.69it/s]\u001b[A\n",
      " 87%|████████▋ | 3807371/4385354 [00:13<00:01, 335842.96it/s]\u001b[A\n",
      " 88%|████████▊ | 3841265/4385354 [00:13<00:01, 336537.33it/s]\u001b[A\n",
      " 88%|████████▊ | 3876805/4385354 [00:13<00:01, 341979.76it/s]\u001b[A\n",
      " 89%|████████▉ | 3915104/4385354 [00:13<00:01, 353329.20it/s]\u001b[A\n",
      " 90%|█████████ | 3952291/4385354 [00:13<00:01, 358694.22it/s]\u001b[A\n",
      " 91%|█████████ | 3988932/4385354 [00:13<00:01, 360948.01it/s]\u001b[A\n",
      " 92%|█████████▏| 4026448/4385354 [00:13<00:00, 365096.08it/s]\u001b[A\n",
      " 93%|█████████▎| 4063446/4385354 [00:13<00:00, 366547.51it/s]\u001b[A\n",
      " 94%|█████████▎| 4103179/4385354 [00:14<00:00, 375267.35it/s]\u001b[A\n",
      " 94%|█████████▍| 4142730/4385354 [00:14<00:00, 381116.13it/s]\u001b[A\n"
     ]
    },
    {
     "name": "stderr",
     "output_type": "stream",
     "text": [
      " 95%|█████████▌| 4181609/4385354 [00:14<00:00, 383382.89it/s]\u001b[A\n",
      " 96%|█████████▌| 4220015/4385354 [00:14<00:00, 381075.92it/s]\u001b[A\n",
      " 97%|█████████▋| 4258584/4385354 [00:14<00:00, 382446.18it/s]\u001b[A\n",
      " 98%|█████████▊| 4296866/4385354 [00:14<00:00, 380976.51it/s]\u001b[A\n",
      " 99%|█████████▉| 4334991/4385354 [00:14<00:00, 377870.18it/s]\u001b[A\n",
      "100%|█████████▉| 4372803/4385354 [00:14<00:00, 374249.66it/s]\u001b[A\n",
      "100%|██████████| 4385354/4385354 [00:14<00:00, 296996.29it/s]\u001b[A"
     ]
    }
   ],
   "source": [
    "words_l = []\n",
    "word = []\n",
    "separators = ['{', '}', '-']\n",
    "separators2 = ['.', '+', '|']\n",
    "operators = ['&', '%', '@', '×']\n",
    "for e in tqdm.tqdm(all_):\n",
    "    word = []\n",
    "    for s in separators: # first split word into signs\n",
    "        if '1(šar₂{gal})' in e: # this cheating but it seems to work (appears in SKL)\n",
    "            e = e.replace('1(šar₂{gal})', '1(šar₂)-gal')\n",
    "        e = e.replace(s, ' ').strip()\n",
    "    s_l = e.split()\n",
    "    for sign in s_l:\n",
    "        if sign[-1] == ')': # qualified sign - get only the qualifier\n",
    "            stack = []  # |GIŠ×(GIŠ%GIŠ)|(LAK277) becomes LAK277\n",
    "            ind = {}    # LAK277(|GIŠ×(GIŠ%GIŠ)|) becomes |GIŠ×(GIŠ%GIŠ)|\n",
    "            for i, c in reversed(list(enumerate(sign))):\n",
    "                if c == ')':\n",
    "                    stack.append(i)\n",
    "                if c == '(':\n",
    "                    ind[stack.pop()] = i   # find the opening parens that belongs to the closing parens at position -1    \n",
    "            start = ind[len(sign)-1]   # this line fails on 1(šar₂{gal}) in SKL.\n",
    "            t = sign[start+1:-1]\n",
    "            if t.isupper(): #leave 1(diš) etc. alone\n",
    "                sign = t\n",
    "            \n",
    "        if '|' in sign:  # separate |DU.DU| and |DU+DU| into its components but not |DU&DU|\n",
    "                        # and also not |DU.DU&DU|\n",
    "            flag = False\n",
    "            for o in operators:\n",
    "                if o in e:\n",
    "                    flag = True\n",
    "            if not flag:\n",
    "                for s in separators2:\n",
    "                    sign = sign.replace(s, ' ').strip() \n",
    "                    sign_l = sign.split()\n",
    "                word.extend(sign_l)\n",
    "            continue\n",
    "        elif \"+\" in sign:  # + as marker of gloss\n",
    "            sign = sign.replace('+', ' ').strip()\n",
    "            sign_l = sign.split()\n",
    "            word.extend(sign_l)\n",
    "            continue\n",
    "        word.append(sign)\n",
    "    words_l.append(word)           "
   ]
  },
  {
   "cell_type": "code",
   "execution_count": 22,
   "metadata": {},
   "outputs": [],
   "source": [
    "with open(\"output/ogsl.p\", \"rb\") as f:\n",
    "    o = pickle.load(f)"
   ]
  },
  {
   "cell_type": "code",
   "execution_count": 23,
   "metadata": {},
   "outputs": [],
   "source": [
    "val = list(o[\"value\"])\n",
    "utf = list(o[\"utf8\"])\n",
    "names = list(o[\"name\"])"
   ]
  },
  {
   "cell_type": "code",
   "execution_count": 24,
   "metadata": {},
   "outputs": [],
   "source": [
    "d = dict(zip(names, utf))\n",
    "d2 = dict(zip(val,names))"
   ]
  },
  {
   "cell_type": "code",
   "execution_count": 25,
   "metadata": {},
   "outputs": [
    {
     "name": "stderr",
     "output_type": "stream",
     "text": [
      "\n",
      "  0%|          | 0/4385354 [00:00<?, ?it/s]\u001b[A\n",
      "  1%|          | 45475/4385354 [00:00<00:09, 454741.76it/s]\u001b[A\n",
      "  2%|▏         | 92056/4385354 [00:00<00:09, 458002.55it/s]\u001b[A\n",
      "  3%|▎         | 139008/4385354 [00:00<00:09, 461397.82it/s]\u001b[A\n",
      "  4%|▍         | 187764/4385354 [00:00<00:08, 468944.07it/s]\u001b[A\n",
      "  5%|▌         | 235361/4385354 [00:00<00:08, 471027.44it/s]\u001b[A\n",
      "  6%|▋         | 283075/4385354 [00:00<00:08, 472844.50it/s]\u001b[A\n",
      "  8%|▊         | 330366/4385354 [00:00<00:08, 472862.59it/s]\u001b[A\n",
      "  9%|▊         | 381462/4385354 [00:00<00:08, 483665.40it/s]\u001b[A\n",
      " 10%|▉         | 432922/4385354 [00:00<00:08, 492546.88it/s]\u001b[A\n",
      " 11%|█         | 482462/4385354 [00:01<00:07, 493396.34it/s]\u001b[A\n",
      " 12%|█▏        | 533371/4385354 [00:01<00:07, 497998.90it/s]\u001b[A\n",
      " 13%|█▎        | 583479/4385354 [00:01<00:07, 498916.19it/s]\u001b[A\n",
      " 14%|█▍        | 632780/4385354 [00:01<00:07, 491422.64it/s]\u001b[A\n",
      " 16%|█▌        | 682118/4385354 [00:01<00:07, 492006.60it/s]\u001b[A\n",
      " 17%|█▋        | 732740/4385354 [00:01<00:07, 496183.11it/s]\u001b[A\n",
      " 18%|█▊        | 782978/4385354 [00:01<00:07, 498023.38it/s]\u001b[A\n",
      " 19%|█▉        | 833251/4385354 [00:01<00:07, 499425.87it/s]\u001b[A\n",
      " 20%|██        | 883107/4385354 [00:01<00:07, 496965.83it/s]\u001b[A\n",
      " 21%|██▏       | 932936/4385354 [00:01<00:06, 497357.87it/s]\u001b[A\n",
      " 22%|██▏       | 983414/4385354 [00:02<00:06, 499559.86it/s]\u001b[A\n",
      " 24%|██▎       | 1033344/4385354 [00:02<00:06, 498768.26it/s]\u001b[A\n",
      " 25%|██▍       | 1083203/4385354 [00:02<00:06, 495574.30it/s]\u001b[A\n",
      " 26%|██▌       | 1133580/4385354 [00:02<00:06, 498001.84it/s]\u001b[A\n",
      " 27%|██▋       | 1183378/4385354 [00:02<00:06, 497322.76it/s]\u001b[A\n",
      " 28%|██▊       | 1234230/4385354 [00:02<00:06, 500629.60it/s]\u001b[A\n",
      " 29%|██▉       | 1285607/4385354 [00:02<00:06, 504497.55it/s]\u001b[A\n",
      " 30%|███       | 1336955/4385354 [00:02<00:06, 507157.82it/s]\u001b[A\n",
      " 32%|███▏      | 1387682/4385354 [00:02<00:05, 504812.53it/s]\u001b[A\n",
      " 33%|███▎      | 1439036/4385354 [00:02<00:05, 507398.17it/s]\u001b[A\n",
      " 34%|███▍      | 1489786/4385354 [00:03<00:05, 504345.36it/s]\u001b[A\n",
      " 35%|███▌      | 1540419/4385354 [00:03<00:05, 504938.18it/s]\u001b[A\n",
      " 36%|███▋      | 1590921/4385354 [00:03<00:05, 504064.16it/s]\u001b[A\n",
      " 37%|███▋      | 1642116/4385354 [00:03<00:05, 506404.07it/s]\u001b[A\n",
      " 39%|███▊      | 1692764/4385354 [00:03<00:05, 503606.50it/s]\u001b[A\n",
      " 40%|███▉      | 1743133/4385354 [00:03<00:05, 502892.60it/s]\u001b[A\n",
      " 41%|████      | 1794623/4385354 [00:03<00:05, 506434.32it/s]\u001b[A\n",
      " 42%|████▏     | 1845277/4385354 [00:05<00:29, 84787.50it/s] \u001b[A\n",
      " 43%|████▎     | 1892142/4385354 [00:05<00:22, 112409.12it/s]\u001b[A\n",
      " 44%|████▍     | 1940468/4385354 [00:05<00:16, 146027.23it/s]\u001b[A\n",
      " 45%|████▌     | 1987474/4385354 [00:05<00:13, 184099.40it/s]\u001b[A\n",
      " 46%|████▋     | 2035949/4385354 [00:05<00:10, 226184.15it/s]\u001b[A\n",
      " 48%|████▊     | 2085372/4385354 [00:05<00:08, 270136.31it/s]\u001b[A\n",
      " 49%|████▊     | 2133724/4385354 [00:05<00:07, 311357.01it/s]\u001b[A\n",
      " 50%|████▉     | 2182767/4385354 [00:06<00:06, 349650.46it/s]\u001b[A\n",
      " 51%|█████     | 2231926/4385354 [00:06<00:05, 382808.93it/s]\u001b[A\n",
      " 52%|█████▏    | 2279984/4385354 [00:06<00:05, 406957.37it/s]\u001b[A\n",
      " 53%|█████▎    | 2330494/4385354 [00:06<00:04, 432147.54it/s]\u001b[A\n",
      " 54%|█████▍    | 2379217/4385354 [00:06<00:04, 447071.29it/s]\u001b[A\n",
      " 55%|█████▌    | 2428368/4385354 [00:06<00:04, 459531.46it/s]\u001b[A\n",
      " 57%|█████▋    | 2478300/4385354 [00:06<00:04, 470784.75it/s]\u001b[A\n",
      " 58%|█████▊    | 2527623/4385354 [00:06<00:03, 477295.38it/s]\u001b[A\n",
      " 59%|█████▉    | 2577015/4385354 [00:06<00:03, 482158.13it/s]\u001b[A\n",
      " 60%|█████▉    | 2626279/4385354 [00:06<00:03, 479256.62it/s]\u001b[A\n",
      " 61%|██████    | 2674942/4385354 [00:07<00:03, 477944.38it/s]\u001b[A\n",
      " 62%|██████▏   | 2723254/4385354 [00:07<00:03, 479215.76it/s]\u001b[A\n",
      " 63%|██████▎   | 2771539/4385354 [00:07<00:03, 479924.81it/s]\u001b[A\n",
      " 64%|██████▍   | 2819946/4385354 [00:07<00:03, 481155.21it/s]\u001b[A\n",
      " 65%|██████▌   | 2868366/4385354 [00:07<00:03, 482063.39it/s]\u001b[A\n",
      " 67%|██████▋   | 2916698/4385354 [00:07<00:03, 481863.57it/s]\u001b[A\n",
      " 68%|██████▊   | 2964973/4385354 [00:07<00:02, 480452.06it/s]\u001b[A\n",
      " 69%|██████▊   | 3013081/4385354 [00:07<00:02, 479655.31it/s]\u001b[A\n",
      " 70%|██████▉   | 3061091/4385354 [00:07<00:02, 475477.54it/s]\u001b[A\n",
      " 71%|███████   | 3110112/4385354 [00:07<00:02, 479800.90it/s]\u001b[A\n",
      " 72%|███████▏  | 3160602/4385354 [00:08<00:02, 487061.76it/s]\u001b[A\n",
      " 73%|███████▎  | 3210455/4385354 [00:08<00:02, 490444.86it/s]\u001b[A\n",
      " 74%|███████▍  | 3259542/4385354 [00:08<00:02, 486534.67it/s]\u001b[A\n",
      " 75%|███████▌  | 3308233/4385354 [00:08<00:02, 484189.46it/s]\u001b[A\n",
      " 77%|███████▋  | 3356681/4385354 [00:08<00:02, 477384.00it/s]\u001b[A\n",
      " 78%|███████▊  | 3404461/4385354 [00:08<00:02, 476575.78it/s]\u001b[A\n",
      " 79%|███████▊  | 3452794/4385354 [00:08<00:01, 478575.16it/s]\u001b[A\n",
      " 80%|███████▉  | 3501146/4385354 [00:08<00:01, 480046.39it/s]\u001b[A\n",
      " 81%|████████  | 3549168/4385354 [00:08<00:01, 477265.29it/s]\u001b[A\n",
      " 82%|████████▏ | 3596911/4385354 [00:09<00:01, 476359.00it/s]\u001b[A\n",
      " 83%|████████▎ | 3644737/4385354 [00:09<00:01, 476922.06it/s]\u001b[A\n",
      " 84%|████████▍ | 3692438/4385354 [00:09<00:01, 471927.18it/s]\u001b[A\n",
      " 85%|████████▌ | 3739835/4385354 [00:09<00:01, 472536.62it/s]\u001b[A\n",
      " 86%|████████▋ | 3788550/4385354 [00:09<00:01, 476826.21it/s]\u001b[A\n",
      " 87%|████████▋ | 3836251/4385354 [00:09<00:01, 460410.78it/s]\u001b[A\n",
      " 89%|████████▊ | 3882427/4385354 [00:09<00:01, 448680.67it/s]\u001b[A\n",
      " 90%|████████▉ | 3927456/4385354 [00:09<00:01, 436084.92it/s]\u001b[A\n",
      " 91%|█████████ | 3971254/4385354 [00:09<00:00, 424184.22it/s]\u001b[A\n",
      " 92%|█████████▏| 4013877/4385354 [00:09<00:00, 420232.18it/s]\u001b[A\n",
      " 92%|█████████▏| 4056052/4385354 [00:10<00:00, 414332.15it/s]\u001b[A\n",
      " 93%|█████████▎| 4098786/4385354 [00:10<00:00, 418150.41it/s]\u001b[A\n",
      " 95%|█████████▍| 4145663/4385354 [00:10<00:00, 432147.53it/s]\u001b[A\n",
      " 96%|█████████▌| 4192489/4385354 [00:10<00:00, 442382.38it/s]\u001b[A\n",
      " 97%|█████████▋| 4239761/4385354 [00:10<00:00, 451065.67it/s]\u001b[A\n",
      " 98%|█████████▊| 4288003/4385354 [00:10<00:00, 459917.06it/s]\u001b[A\n",
      " 99%|█████████▉| 4334973/4385354 [00:10<00:00, 462803.47it/s]\u001b[A\n",
      "100%|█████████▉| 4381373/4385354 [00:10<00:00, 458071.44it/s]\u001b[A\n",
      "100%|██████████| 4385354/4385354 [00:10<00:00, 407283.75it/s]\u001b[A"
     ]
    }
   ],
   "source": [
    "names_l = []\n",
    "utf8_l = []\n",
    "for w in tqdm.tqdm(words_l):\n",
    "    seq = [d2[s.lower()] if s.lower() in d2 else s for s in w]\n",
    "    names_l.append(seq)\n",
    "    utf8 = [d[n] if n in d else n for n in seq]\n",
    "    utf8_l.append(''.join(utf8))"
   ]
  },
  {
   "cell_type": "code",
   "execution_count": 26,
   "metadata": {},
   "outputs": [
    {
     "data": {
      "text/html": [
       "<div>\n",
       "<style scoped>\n",
       "    .dataframe tbody tr th:only-of-type {\n",
       "        vertical-align: middle;\n",
       "    }\n",
       "\n",
       "    .dataframe tbody tr th {\n",
       "        vertical-align: top;\n",
       "    }\n",
       "\n",
       "    .dataframe thead th {\n",
       "        text-align: right;\n",
       "    }\n",
       "</style>\n",
       "<table border=\"1\" class=\"dataframe\">\n",
       "  <thead>\n",
       "    <tr style=\"text-align: right;\">\n",
       "      <th></th>\n",
       "      <th>transliteration</th>\n",
       "      <th>words</th>\n",
       "      <th>names</th>\n",
       "      <th>utf-8</th>\n",
       "      <th>lemm</th>\n",
       "    </tr>\n",
       "  </thead>\n",
       "  <tbody>\n",
       "    <tr>\n",
       "      <th>0</th>\n",
       "      <td>Startepsd2/admin/ed3a/P011046</td>\n",
       "      <td>[Startepsd2/admin/ed3a/P011046]</td>\n",
       "      <td>[Startepsd2/admin/ed3a/P011046]</td>\n",
       "      <td>Startepsd2/admin/ed3a/P011046</td>\n",
       "      <td>Startepsd2/admin/ed3a/P011046</td>\n",
       "    </tr>\n",
       "    <tr>\n",
       "      <th>1</th>\n",
       "      <td>1(barig@c)</td>\n",
       "      <td>[1(barig@c)]</td>\n",
       "      <td>[DIŠ]</td>\n",
       "      <td>𒁹</td>\n",
       "      <td>n</td>\n",
       "    </tr>\n",
       "    <tr>\n",
       "      <th>2</th>\n",
       "      <td>še</td>\n",
       "      <td>[še]</td>\n",
       "      <td>[ŠE]</td>\n",
       "      <td>𒊺</td>\n",
       "      <td>še[barley]N</td>\n",
       "    </tr>\n",
       "    <tr>\n",
       "      <th>3</th>\n",
       "      <td>ba-lul</td>\n",
       "      <td>[ba, lul]</td>\n",
       "      <td>[BA, LUL]</td>\n",
       "      <td>𒁀𒈜</td>\n",
       "      <td>X</td>\n",
       "    </tr>\n",
       "    <tr>\n",
       "      <th>4</th>\n",
       "      <td>nagar</td>\n",
       "      <td>[nagar]</td>\n",
       "      <td>[NAGAR]</td>\n",
       "      <td>𒉄</td>\n",
       "      <td>nagar[carpenter]N</td>\n",
       "    </tr>\n",
       "    <tr>\n",
       "      <th>5</th>\n",
       "      <td>1(barig@c)</td>\n",
       "      <td>[1(barig@c)]</td>\n",
       "      <td>[DIŠ]</td>\n",
       "      <td>𒁹</td>\n",
       "      <td>n</td>\n",
       "    </tr>\n",
       "    <tr>\n",
       "      <th>6</th>\n",
       "      <td>nig₂-du₇</td>\n",
       "      <td>[nig₂, du₇]</td>\n",
       "      <td>[GAR, |U.GUD|]</td>\n",
       "      <td>𒃻𒌌</td>\n",
       "      <td>niŋdu[appropriate thing]N</td>\n",
       "    </tr>\n",
       "    <tr>\n",
       "      <th>7</th>\n",
       "      <td>ag₂</td>\n",
       "      <td>[ag₂]</td>\n",
       "      <td>[|NINDA₂×NE|]</td>\n",
       "      <td>𒉘</td>\n",
       "      <td>aŋ[measure]V/t</td>\n",
       "    </tr>\n",
       "    <tr>\n",
       "      <th>8</th>\n",
       "      <td>hur-sag-še₃-mah</td>\n",
       "      <td>[hur, sag, še₃, mah]</td>\n",
       "      <td>[|HI×AŠ₂|, SAG, EŠ₂, MAH]</td>\n",
       "      <td>𒄯𒊕𒂠𒈤</td>\n",
       "      <td>X</td>\n",
       "    </tr>\n",
       "    <tr>\n",
       "      <th>9</th>\n",
       "      <td>sa₁₂-du₅</td>\n",
       "      <td>[sa₁₂, du₅]</td>\n",
       "      <td>[SAG, DUN₃]</td>\n",
       "      <td>𒊕𒂅</td>\n",
       "      <td>saŋ.DUN₃[recorder]N</td>\n",
       "    </tr>\n",
       "    <tr>\n",
       "      <th>10</th>\n",
       "      <td>Startepsd2/admin/ed3a/P010836</td>\n",
       "      <td>[Startepsd2/admin/ed3a/P010836]</td>\n",
       "      <td>[Startepsd2/admin/ed3a/P010836]</td>\n",
       "      <td>Startepsd2/admin/ed3a/P010836</td>\n",
       "      <td>Startepsd2/admin/ed3a/P010836</td>\n",
       "    </tr>\n",
       "    <tr>\n",
       "      <th>11</th>\n",
       "      <td>2(iku@c)</td>\n",
       "      <td>[2(iku@c)]</td>\n",
       "      <td>[2(iku@c)]</td>\n",
       "      <td>2(iku@c)</td>\n",
       "      <td>n</td>\n",
       "    </tr>\n",
       "    <tr>\n",
       "      <th>12</th>\n",
       "      <td>GAN₂</td>\n",
       "      <td>[GAN₂]</td>\n",
       "      <td>[GAN₂]</td>\n",
       "      <td>𒃷</td>\n",
       "      <td>iku[unit]N</td>\n",
       "    </tr>\n",
       "    <tr>\n",
       "      <th>13</th>\n",
       "      <td>har-tu-{d}sud₃</td>\n",
       "      <td>[har, tu, d, sud₃]</td>\n",
       "      <td>[|HI×AŠ₂|, TU, AN, |SU.KUR.RU|]</td>\n",
       "      <td>𒄯𒌅𒀭𒋢𒆳𒊒</td>\n",
       "      <td>X</td>\n",
       "    </tr>\n",
       "    <tr>\n",
       "      <th>14</th>\n",
       "      <td>nu-kiri₆</td>\n",
       "      <td>[nu, kiri₆]</td>\n",
       "      <td>[NU, SAR]</td>\n",
       "      <td>𒉡𒊬</td>\n",
       "      <td>nukirik[gardener]N</td>\n",
       "    </tr>\n",
       "    <tr>\n",
       "      <th>15</th>\n",
       "      <td>2(iku@c)</td>\n",
       "      <td>[2(iku@c)]</td>\n",
       "      <td>[2(iku@c)]</td>\n",
       "      <td>2(iku@c)</td>\n",
       "      <td>n</td>\n",
       "    </tr>\n",
       "    <tr>\n",
       "      <th>16</th>\n",
       "      <td>me-zi-pa-e₃</td>\n",
       "      <td>[me, zi, pa, e₃]</td>\n",
       "      <td>[ME, ZI, PA, |UD.DU|]</td>\n",
       "      <td>𒈨𒍣𒉺𒌓𒁺</td>\n",
       "      <td>X</td>\n",
       "    </tr>\n",
       "    <tr>\n",
       "      <th>17</th>\n",
       "      <td>2(iku@c)</td>\n",
       "      <td>[2(iku@c)]</td>\n",
       "      <td>[2(iku@c)]</td>\n",
       "      <td>2(iku@c)</td>\n",
       "      <td>n</td>\n",
       "    </tr>\n",
       "    <tr>\n",
       "      <th>18</th>\n",
       "      <td>1/2(iku@c)</td>\n",
       "      <td>[1/2(iku@c)]</td>\n",
       "      <td>[1/2(iku@c)]</td>\n",
       "      <td>1/2(iku@c)</td>\n",
       "      <td>n</td>\n",
       "    </tr>\n",
       "    <tr>\n",
       "      <th>19</th>\n",
       "      <td>har-tu-{d}sud₃</td>\n",
       "      <td>[har, tu, d, sud₃]</td>\n",
       "      <td>[|HI×AŠ₂|, TU, AN, |SU.KUR.RU|]</td>\n",
       "      <td>𒄯𒌅𒀭𒋢𒆳𒊒</td>\n",
       "      <td>X</td>\n",
       "    </tr>\n",
       "    <tr>\n",
       "      <th>20</th>\n",
       "      <td>ša₃-gu₂-ba</td>\n",
       "      <td>[ša₃, gu₂, ba]</td>\n",
       "      <td>[ŠA₃, GU₂, BA]</td>\n",
       "      <td>𒊮𒄘𒁀</td>\n",
       "      <td>X</td>\n",
       "    </tr>\n",
       "    <tr>\n",
       "      <th>21</th>\n",
       "      <td>4(iku@c)</td>\n",
       "      <td>[4(iku@c)]</td>\n",
       "      <td>[4(iku@c)]</td>\n",
       "      <td>4(iku@c)</td>\n",
       "      <td>n</td>\n",
       "    </tr>\n",
       "    <tr>\n",
       "      <th>22</th>\n",
       "      <td>1/2(iku@c)</td>\n",
       "      <td>[1/2(iku@c)]</td>\n",
       "      <td>[1/2(iku@c)]</td>\n",
       "      <td>1/2(iku@c)</td>\n",
       "      <td>n</td>\n",
       "    </tr>\n",
       "    <tr>\n",
       "      <th>23</th>\n",
       "      <td>AŠ₂-mud</td>\n",
       "      <td>[AŠ₂, mud]</td>\n",
       "      <td>[AŠ₂, |HU.HI|]</td>\n",
       "      <td>𒀾𒄷𒄭</td>\n",
       "      <td>X</td>\n",
       "    </tr>\n",
       "    <tr>\n",
       "      <th>24</th>\n",
       "      <td>3(iku@c)</td>\n",
       "      <td>[3(iku@c)]</td>\n",
       "      <td>[3(iku@c)]</td>\n",
       "      <td>3(iku@c)</td>\n",
       "      <td>n</td>\n",
       "    </tr>\n",
       "    <tr>\n",
       "      <th>25</th>\n",
       "      <td>du₆-du₆</td>\n",
       "      <td>[du₆, du₆]</td>\n",
       "      <td>[LAGAR@g, LAGAR@g]</td>\n",
       "      <td>𒇯𒇯</td>\n",
       "      <td>dud[(ruin) mound]N</td>\n",
       "    </tr>\n",
       "    <tr>\n",
       "      <th>26</th>\n",
       "      <td>gala</td>\n",
       "      <td>[gala]</td>\n",
       "      <td>[|UŠ.KU|]</td>\n",
       "      <td>𒍑𒆪</td>\n",
       "      <td>gala[singer]N</td>\n",
       "    </tr>\n",
       "    <tr>\n",
       "      <th>27</th>\n",
       "      <td>2(iku@c)</td>\n",
       "      <td>[2(iku@c)]</td>\n",
       "      <td>[2(iku@c)]</td>\n",
       "      <td>2(iku@c)</td>\n",
       "      <td>n</td>\n",
       "    </tr>\n",
       "    <tr>\n",
       "      <th>28</th>\n",
       "      <td>a-lu-lu</td>\n",
       "      <td>[a, lu, lu]</td>\n",
       "      <td>[A, LU, LU]</td>\n",
       "      <td>𒀀𒇻𒇻</td>\n",
       "      <td>PN</td>\n",
       "    </tr>\n",
       "    <tr>\n",
       "      <th>29</th>\n",
       "      <td>gu₂-šu-du₈</td>\n",
       "      <td>[gu₂, šu, du₈]</td>\n",
       "      <td>[GU₂, ŠU, GABA]</td>\n",
       "      <td>𒄘𒋗𒃮</td>\n",
       "      <td>lugušudu[profession]N</td>\n",
       "    </tr>\n",
       "    <tr>\n",
       "      <th>...</th>\n",
       "      <td>...</td>\n",
       "      <td>...</td>\n",
       "      <td>...</td>\n",
       "      <td>...</td>\n",
       "      <td>...</td>\n",
       "    </tr>\n",
       "    <tr>\n",
       "      <th>4385324</th>\n",
       "      <td>me-e</td>\n",
       "      <td>[me, e]</td>\n",
       "      <td>[ME, E]</td>\n",
       "      <td>𒈨𒂊</td>\n",
       "      <td>me[I]IP</td>\n",
       "    </tr>\n",
       "    <tr>\n",
       "      <th>4385325</th>\n",
       "      <td>a-ra-zu</td>\n",
       "      <td>[a, ra, zu]</td>\n",
       "      <td>[A, RA, ZU]</td>\n",
       "      <td>𒀀𒊏𒍪</td>\n",
       "      <td>arazu[supplication]N</td>\n",
       "    </tr>\n",
       "    <tr>\n",
       "      <th>4385326</th>\n",
       "      <td>ga-an-na-ab-dug₄</td>\n",
       "      <td>[ga, an, na, ab, dug₄]</td>\n",
       "      <td>[GA, AN, NA, AB, KA]</td>\n",
       "      <td>𒂵𒀭𒈾𒀊𒅗</td>\n",
       "      <td>dug[do, perform]V/t</td>\n",
       "    </tr>\n",
       "    <tr>\n",
       "      <th>4385327</th>\n",
       "      <td>di-kud</td>\n",
       "      <td>[di, kud]</td>\n",
       "      <td>[DI, TAR]</td>\n",
       "      <td>𒁲𒋻</td>\n",
       "      <td>dikud[judge]N</td>\n",
       "    </tr>\n",
       "    <tr>\n",
       "      <th>4385328</th>\n",
       "      <td>diŋir-re-e-ne</td>\n",
       "      <td>[diŋir, re, e, ne]</td>\n",
       "      <td>[AN, RI, E, NE]</td>\n",
       "      <td>𒀭𒊑𒂊𒉈</td>\n",
       "      <td>diŋir[deity, god, goddess]N</td>\n",
       "    </tr>\n",
       "    <tr>\n",
       "      <th>4385329</th>\n",
       "      <td>me-e</td>\n",
       "      <td>[me, e]</td>\n",
       "      <td>[ME, E]</td>\n",
       "      <td>𒈨𒂊</td>\n",
       "      <td>me[I]IP</td>\n",
       "    </tr>\n",
       "    <tr>\n",
       "      <th>4385330</th>\n",
       "      <td>a-ra-zu</td>\n",
       "      <td>[a, ra, zu]</td>\n",
       "      <td>[A, RA, ZU]</td>\n",
       "      <td>𒀀𒊏𒍪</td>\n",
       "      <td>arazu[supplication]N</td>\n",
       "    </tr>\n",
       "    <tr>\n",
       "      <th>4385331</th>\n",
       "      <td>ga-an-na-ab-dug₄</td>\n",
       "      <td>[ga, an, na, ab, dug₄]</td>\n",
       "      <td>[GA, AN, NA, AB, KA]</td>\n",
       "      <td>𒂵𒀭𒈾𒀊𒅗</td>\n",
       "      <td>dug[do, perform]V/t</td>\n",
       "    </tr>\n",
       "    <tr>\n",
       "      <th>4385332</th>\n",
       "      <td>ka-aš</td>\n",
       "      <td>[ka, aš]</td>\n",
       "      <td>[KA, AŠ]</td>\n",
       "      <td>𒅗𒀸</td>\n",
       "      <td>kaš[decision]N</td>\n",
       "    </tr>\n",
       "    <tr>\n",
       "      <th>4385333</th>\n",
       "      <td>bar</td>\n",
       "      <td>[bar]</td>\n",
       "      <td>[BAR]</td>\n",
       "      <td>𒁇</td>\n",
       "      <td>bar[cvve]V/t</td>\n",
       "    </tr>\n",
       "    <tr>\n",
       "      <th>4385334</th>\n",
       "      <td>{d}x</td>\n",
       "      <td>[d, x]</td>\n",
       "      <td>[AN, X]</td>\n",
       "      <td>𒀭X</td>\n",
       "      <td>u</td>\n",
       "    </tr>\n",
       "    <tr>\n",
       "      <th>4385335</th>\n",
       "      <td>ib₂-si</td>\n",
       "      <td>[ib₂, si]</td>\n",
       "      <td>[TUM, SI]</td>\n",
       "      <td>𒌈𒋛</td>\n",
       "      <td>ibsi[enough! (lit. `it is enough')]J</td>\n",
       "    </tr>\n",
       "    <tr>\n",
       "      <th>4385336</th>\n",
       "      <td>x</td>\n",
       "      <td>[x]</td>\n",
       "      <td>[X]</td>\n",
       "      <td>X</td>\n",
       "      <td>u</td>\n",
       "    </tr>\n",
       "    <tr>\n",
       "      <th>4385337</th>\n",
       "      <td>mah-am₃</td>\n",
       "      <td>[mah, am₃]</td>\n",
       "      <td>[MAH, |A.AN|]</td>\n",
       "      <td>𒈤𒀀𒀭</td>\n",
       "      <td>mah[(to be) great]V/i</td>\n",
       "    </tr>\n",
       "    <tr>\n",
       "      <th>4385338</th>\n",
       "      <td>x</td>\n",
       "      <td>[x]</td>\n",
       "      <td>[X]</td>\n",
       "      <td>X</td>\n",
       "      <td>u</td>\n",
       "    </tr>\n",
       "    <tr>\n",
       "      <th>4385339</th>\n",
       "      <td>šag₄-zu</td>\n",
       "      <td>[šag₄, zu]</td>\n",
       "      <td>[ŠA₃, ZU]</td>\n",
       "      <td>𒊮𒍪</td>\n",
       "      <td>šag[heart]N</td>\n",
       "    </tr>\n",
       "    <tr>\n",
       "      <th>4385340</th>\n",
       "      <td>x</td>\n",
       "      <td>[x]</td>\n",
       "      <td>[X]</td>\n",
       "      <td>X</td>\n",
       "      <td>u</td>\n",
       "    </tr>\n",
       "    <tr>\n",
       "      <th>4385341</th>\n",
       "      <td>Startblms/P414392</td>\n",
       "      <td>[Startblms/P414392]</td>\n",
       "      <td>[Startblms/P414392]</td>\n",
       "      <td>Startblms/P414392</td>\n",
       "      <td>Startblms/P414392</td>\n",
       "    </tr>\n",
       "    <tr>\n",
       "      <th>4385342</th>\n",
       "      <td>gig-ga</td>\n",
       "      <td>[gig, ga]</td>\n",
       "      <td>[GIG, GA]</td>\n",
       "      <td>𒈪𒉭𒂵</td>\n",
       "      <td>gig[sick]</td>\n",
       "    </tr>\n",
       "    <tr>\n",
       "      <th>4385343</th>\n",
       "      <td>x</td>\n",
       "      <td>[x]</td>\n",
       "      <td>[X]</td>\n",
       "      <td>X</td>\n",
       "      <td>u</td>\n",
       "    </tr>\n",
       "    <tr>\n",
       "      <th>4385344</th>\n",
       "      <td>šag₄</td>\n",
       "      <td>[šag₄]</td>\n",
       "      <td>[ŠA₃]</td>\n",
       "      <td>𒊮</td>\n",
       "      <td>šag[heart]</td>\n",
       "    </tr>\n",
       "    <tr>\n",
       "      <th>4385345</th>\n",
       "      <td>nu-dug₃-ga</td>\n",
       "      <td>[nu, dug₃, ga]</td>\n",
       "      <td>[NU, HI, GA]</td>\n",
       "      <td>𒉡𒄭𒂵</td>\n",
       "      <td>dug[good]</td>\n",
       "    </tr>\n",
       "    <tr>\n",
       "      <th>4385346</th>\n",
       "      <td>x</td>\n",
       "      <td>[x]</td>\n",
       "      <td>[X]</td>\n",
       "      <td>X</td>\n",
       "      <td>u</td>\n",
       "    </tr>\n",
       "    <tr>\n",
       "      <th>4385347</th>\n",
       "      <td>su</td>\n",
       "      <td>[su]</td>\n",
       "      <td>[SU]</td>\n",
       "      <td>𒋢</td>\n",
       "      <td>su[flesh]</td>\n",
       "    </tr>\n",
       "    <tr>\n",
       "      <th>4385348</th>\n",
       "      <td>nu-ze₂-eb-ba</td>\n",
       "      <td>[nu, ze₂, eb, ba]</td>\n",
       "      <td>[NU, ZE₂, IB, BA]</td>\n",
       "      <td>𒉡𒍢𒅁𒁀</td>\n",
       "      <td>zeb[good]</td>\n",
       "    </tr>\n",
       "    <tr>\n",
       "      <th>4385349</th>\n",
       "      <td>x</td>\n",
       "      <td>[x]</td>\n",
       "      <td>[X]</td>\n",
       "      <td>X</td>\n",
       "      <td>u</td>\n",
       "    </tr>\n",
       "    <tr>\n",
       "      <th>4385350</th>\n",
       "      <td>bad₃</td>\n",
       "      <td>[bad₃]</td>\n",
       "      <td>[|EZEN×BAD|]</td>\n",
       "      <td>𒂦</td>\n",
       "      <td>bad[wall, fortification]</td>\n",
       "    </tr>\n",
       "    <tr>\n",
       "      <th>4385351</th>\n",
       "      <td>e₂-x</td>\n",
       "      <td>[e₂, x]</td>\n",
       "      <td>[E₂, X]</td>\n",
       "      <td>𒂍X</td>\n",
       "      <td>u</td>\n",
       "    </tr>\n",
       "    <tr>\n",
       "      <th>4385352</th>\n",
       "      <td>x</td>\n",
       "      <td>[x]</td>\n",
       "      <td>[X]</td>\n",
       "      <td>X</td>\n",
       "      <td>u</td>\n",
       "    </tr>\n",
       "    <tr>\n",
       "      <th>4385353</th>\n",
       "      <td>x</td>\n",
       "      <td>[x]</td>\n",
       "      <td>[X]</td>\n",
       "      <td>X</td>\n",
       "      <td>u</td>\n",
       "    </tr>\n",
       "  </tbody>\n",
       "</table>\n",
       "<p>4385354 rows × 5 columns</p>\n",
       "</div>"
      ],
      "text/plain": [
       "                       transliteration                            words  \\\n",
       "0        Startepsd2/admin/ed3a/P011046  [Startepsd2/admin/ed3a/P011046]   \n",
       "1                           1(barig@c)                     [1(barig@c)]   \n",
       "2                                   še                             [še]   \n",
       "3                               ba-lul                        [ba, lul]   \n",
       "4                                nagar                          [nagar]   \n",
       "5                           1(barig@c)                     [1(barig@c)]   \n",
       "6                             nig₂-du₇                      [nig₂, du₇]   \n",
       "7                                  ag₂                            [ag₂]   \n",
       "8                      hur-sag-še₃-mah             [hur, sag, še₃, mah]   \n",
       "9                             sa₁₂-du₅                      [sa₁₂, du₅]   \n",
       "10       Startepsd2/admin/ed3a/P010836  [Startepsd2/admin/ed3a/P010836]   \n",
       "11                            2(iku@c)                       [2(iku@c)]   \n",
       "12                                GAN₂                           [GAN₂]   \n",
       "13                      har-tu-{d}sud₃               [har, tu, d, sud₃]   \n",
       "14                            nu-kiri₆                      [nu, kiri₆]   \n",
       "15                            2(iku@c)                       [2(iku@c)]   \n",
       "16                         me-zi-pa-e₃                 [me, zi, pa, e₃]   \n",
       "17                            2(iku@c)                       [2(iku@c)]   \n",
       "18                          1/2(iku@c)                     [1/2(iku@c)]   \n",
       "19                      har-tu-{d}sud₃               [har, tu, d, sud₃]   \n",
       "20                          ša₃-gu₂-ba                   [ša₃, gu₂, ba]   \n",
       "21                            4(iku@c)                       [4(iku@c)]   \n",
       "22                          1/2(iku@c)                     [1/2(iku@c)]   \n",
       "23                             AŠ₂-mud                       [AŠ₂, mud]   \n",
       "24                            3(iku@c)                       [3(iku@c)]   \n",
       "25                             du₆-du₆                       [du₆, du₆]   \n",
       "26                                gala                           [gala]   \n",
       "27                            2(iku@c)                       [2(iku@c)]   \n",
       "28                             a-lu-lu                      [a, lu, lu]   \n",
       "29                          gu₂-šu-du₈                   [gu₂, šu, du₈]   \n",
       "...                                ...                              ...   \n",
       "4385324                           me-e                          [me, e]   \n",
       "4385325                        a-ra-zu                      [a, ra, zu]   \n",
       "4385326               ga-an-na-ab-dug₄           [ga, an, na, ab, dug₄]   \n",
       "4385327                         di-kud                        [di, kud]   \n",
       "4385328                  diŋir-re-e-ne               [diŋir, re, e, ne]   \n",
       "4385329                           me-e                          [me, e]   \n",
       "4385330                        a-ra-zu                      [a, ra, zu]   \n",
       "4385331               ga-an-na-ab-dug₄           [ga, an, na, ab, dug₄]   \n",
       "4385332                          ka-aš                         [ka, aš]   \n",
       "4385333                            bar                            [bar]   \n",
       "4385334                           {d}x                           [d, x]   \n",
       "4385335                         ib₂-si                        [ib₂, si]   \n",
       "4385336                              x                              [x]   \n",
       "4385337                        mah-am₃                       [mah, am₃]   \n",
       "4385338                              x                              [x]   \n",
       "4385339                        šag₄-zu                       [šag₄, zu]   \n",
       "4385340                              x                              [x]   \n",
       "4385341              Startblms/P414392              [Startblms/P414392]   \n",
       "4385342                         gig-ga                        [gig, ga]   \n",
       "4385343                              x                              [x]   \n",
       "4385344                           šag₄                           [šag₄]   \n",
       "4385345                     nu-dug₃-ga                   [nu, dug₃, ga]   \n",
       "4385346                              x                              [x]   \n",
       "4385347                             su                             [su]   \n",
       "4385348                   nu-ze₂-eb-ba                [nu, ze₂, eb, ba]   \n",
       "4385349                              x                              [x]   \n",
       "4385350                           bad₃                           [bad₃]   \n",
       "4385351                           e₂-x                          [e₂, x]   \n",
       "4385352                              x                              [x]   \n",
       "4385353                              x                              [x]   \n",
       "\n",
       "                                   names                          utf-8  \\\n",
       "0        [Startepsd2/admin/ed3a/P011046]  Startepsd2/admin/ed3a/P011046   \n",
       "1                                  [DIŠ]                              𒁹   \n",
       "2                                   [ŠE]                              𒊺   \n",
       "3                              [BA, LUL]                             𒁀𒈜   \n",
       "4                                [NAGAR]                              𒉄   \n",
       "5                                  [DIŠ]                              𒁹   \n",
       "6                         [GAR, |U.GUD|]                             𒃻𒌌   \n",
       "7                          [|NINDA₂×NE|]                              𒉘   \n",
       "8              [|HI×AŠ₂|, SAG, EŠ₂, MAH]                           𒄯𒊕𒂠𒈤   \n",
       "9                            [SAG, DUN₃]                             𒊕𒂅   \n",
       "10       [Startepsd2/admin/ed3a/P010836]  Startepsd2/admin/ed3a/P010836   \n",
       "11                            [2(iku@c)]                       2(iku@c)   \n",
       "12                                [GAN₂]                              𒃷   \n",
       "13       [|HI×AŠ₂|, TU, AN, |SU.KUR.RU|]                         𒄯𒌅𒀭𒋢𒆳𒊒   \n",
       "14                             [NU, SAR]                             𒉡𒊬   \n",
       "15                            [2(iku@c)]                       2(iku@c)   \n",
       "16                 [ME, ZI, PA, |UD.DU|]                          𒈨𒍣𒉺𒌓𒁺   \n",
       "17                            [2(iku@c)]                       2(iku@c)   \n",
       "18                          [1/2(iku@c)]                     1/2(iku@c)   \n",
       "19       [|HI×AŠ₂|, TU, AN, |SU.KUR.RU|]                         𒄯𒌅𒀭𒋢𒆳𒊒   \n",
       "20                        [ŠA₃, GU₂, BA]                            𒊮𒄘𒁀   \n",
       "21                            [4(iku@c)]                       4(iku@c)   \n",
       "22                          [1/2(iku@c)]                     1/2(iku@c)   \n",
       "23                        [AŠ₂, |HU.HI|]                            𒀾𒄷𒄭   \n",
       "24                            [3(iku@c)]                       3(iku@c)   \n",
       "25                    [LAGAR@g, LAGAR@g]                             𒇯𒇯   \n",
       "26                             [|UŠ.KU|]                             𒍑𒆪   \n",
       "27                            [2(iku@c)]                       2(iku@c)   \n",
       "28                           [A, LU, LU]                            𒀀𒇻𒇻   \n",
       "29                       [GU₂, ŠU, GABA]                            𒄘𒋗𒃮   \n",
       "...                                  ...                            ...   \n",
       "4385324                          [ME, E]                             𒈨𒂊   \n",
       "4385325                      [A, RA, ZU]                            𒀀𒊏𒍪   \n",
       "4385326             [GA, AN, NA, AB, KA]                          𒂵𒀭𒈾𒀊𒅗   \n",
       "4385327                        [DI, TAR]                             𒁲𒋻   \n",
       "4385328                  [AN, RI, E, NE]                           𒀭𒊑𒂊𒉈   \n",
       "4385329                          [ME, E]                             𒈨𒂊   \n",
       "4385330                      [A, RA, ZU]                            𒀀𒊏𒍪   \n",
       "4385331             [GA, AN, NA, AB, KA]                          𒂵𒀭𒈾𒀊𒅗   \n",
       "4385332                         [KA, AŠ]                             𒅗𒀸   \n",
       "4385333                            [BAR]                              𒁇   \n",
       "4385334                          [AN, X]                             𒀭X   \n",
       "4385335                        [TUM, SI]                             𒌈𒋛   \n",
       "4385336                              [X]                              X   \n",
       "4385337                    [MAH, |A.AN|]                            𒈤𒀀𒀭   \n",
       "4385338                              [X]                              X   \n",
       "4385339                        [ŠA₃, ZU]                             𒊮𒍪   \n",
       "4385340                              [X]                              X   \n",
       "4385341              [Startblms/P414392]              Startblms/P414392   \n",
       "4385342                        [GIG, GA]                            𒈪𒉭𒂵   \n",
       "4385343                              [X]                              X   \n",
       "4385344                            [ŠA₃]                              𒊮   \n",
       "4385345                     [NU, HI, GA]                            𒉡𒄭𒂵   \n",
       "4385346                              [X]                              X   \n",
       "4385347                             [SU]                              𒋢   \n",
       "4385348                [NU, ZE₂, IB, BA]                           𒉡𒍢𒅁𒁀   \n",
       "4385349                              [X]                              X   \n",
       "4385350                     [|EZEN×BAD|]                              𒂦   \n",
       "4385351                          [E₂, X]                             𒂍X   \n",
       "4385352                              [X]                              X   \n",
       "4385353                              [X]                              X   \n",
       "\n",
       "                                         lemm  \n",
       "0               Startepsd2/admin/ed3a/P011046  \n",
       "1                                           n  \n",
       "2                                 še[barley]N  \n",
       "3                                           X  \n",
       "4                           nagar[carpenter]N  \n",
       "5                                           n  \n",
       "6                   niŋdu[appropriate thing]N  \n",
       "7                              aŋ[measure]V/t  \n",
       "8                                           X  \n",
       "9                         saŋ.DUN₃[recorder]N  \n",
       "10              Startepsd2/admin/ed3a/P010836  \n",
       "11                                          n  \n",
       "12                                 iku[unit]N  \n",
       "13                                          X  \n",
       "14                         nukirik[gardener]N  \n",
       "15                                          n  \n",
       "16                                          X  \n",
       "17                                          n  \n",
       "18                                          n  \n",
       "19                                          X  \n",
       "20                                          X  \n",
       "21                                          n  \n",
       "22                                          n  \n",
       "23                                          X  \n",
       "24                                          n  \n",
       "25                         dud[(ruin) mound]N  \n",
       "26                              gala[singer]N  \n",
       "27                                          n  \n",
       "28                                         PN  \n",
       "29                      lugušudu[profession]N  \n",
       "...                                       ...  \n",
       "4385324                               me[I]IP  \n",
       "4385325                  arazu[supplication]N  \n",
       "4385326                   dug[do, perform]V/t  \n",
       "4385327                         dikud[judge]N  \n",
       "4385328           diŋir[deity, god, goddess]N  \n",
       "4385329                               me[I]IP  \n",
       "4385330                  arazu[supplication]N  \n",
       "4385331                   dug[do, perform]V/t  \n",
       "4385332                        kaš[decision]N  \n",
       "4385333                          bar[cvve]V/t  \n",
       "4385334                                     u  \n",
       "4385335  ibsi[enough! (lit. `it is enough')]J  \n",
       "4385336                                     u  \n",
       "4385337                 mah[(to be) great]V/i  \n",
       "4385338                                     u  \n",
       "4385339                           šag[heart]N  \n",
       "4385340                                     u  \n",
       "4385341                     Startblms/P414392  \n",
       "4385342                             gig[sick]  \n",
       "4385343                                     u  \n",
       "4385344                            šag[heart]  \n",
       "4385345                             dug[good]  \n",
       "4385346                                     u  \n",
       "4385347                             su[flesh]  \n",
       "4385348                             zeb[good]  \n",
       "4385349                                     u  \n",
       "4385350              bad[wall, fortification]  \n",
       "4385351                                     u  \n",
       "4385352                                     u  \n",
       "4385353                                     u  \n",
       "\n",
       "[4385354 rows x 5 columns]"
      ]
     },
     "execution_count": 26,
     "metadata": {},
     "output_type": "execute_result"
    }
   ],
   "source": [
    "df = pd.DataFrame({\"transliteration\":all_, \"words\":words_l, \"names\":names_l, \"utf-8\":utf8_l, \"lemm\" : lemm_})\n",
    "df"
   ]
  },
  {
   "cell_type": "code",
   "execution_count": 27,
   "metadata": {},
   "outputs": [],
   "source": [
    "with open(\"output/sux.p\", \"wb\") as w:\n",
    "    pickle.dump(df, w)"
   ]
  },
  {
   "cell_type": "code",
   "execution_count": 28,
   "metadata": {},
   "outputs": [],
   "source": [
    "sux_text = ' '.join(df['utf-8']).strip()\n",
    "sux_text = sux_text.replace('Start', '\\n')\n",
    "sux_text = re.sub(r'\\n+', '\\n', sux_text)"
   ]
  },
  {
   "cell_type": "code",
   "execution_count": 29,
   "metadata": {},
   "outputs": [],
   "source": [
    "with open(\"output/sux.txt\", 'w', encoding=\"utf-8\") as w:\n",
    "    w.write(sux_text)"
   ]
  },
  {
   "cell_type": "code",
   "execution_count": null,
   "metadata": {},
   "outputs": [],
   "source": []
  }
 ],
 "metadata": {
  "kernelspec": {
   "display_name": "Python 3",
   "language": "python",
   "name": "python3"
  },
  "language_info": {
   "codemirror_mode": {
    "name": "ipython",
    "version": 3
   },
   "file_extension": ".py",
   "mimetype": "text/x-python",
   "name": "python",
   "nbconvert_exporter": "python",
   "pygments_lexer": "ipython3",
   "version": "3.7.0"
  }
 },
 "nbformat": 4,
 "nbformat_minor": 2
}
