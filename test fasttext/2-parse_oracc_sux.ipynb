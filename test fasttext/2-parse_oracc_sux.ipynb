{
 "cells": [
  {
   "cell_type": "markdown",
   "metadata": {},
   "source": [
    "# Extract Signs from ORACC JSON\n",
    "The code in this notebook will parse [ORACC](http://oracc.org) `JSON` files to extract signs from the Sumerian texts of one or more projects. "
   ]
  },
  {
   "cell_type": "code",
   "execution_count": 1,
   "metadata": {
    "collapsed": true
   },
   "outputs": [],
   "source": [
    "import pandas as pd\n",
    "import zipfile\n",
    "import json\n",
    "import tqdm\n",
    "import requests\n",
    "import errno\n",
    "import os\n",
    "import pickle\n",
    "import re"
   ]
  },
  {
   "cell_type": "markdown",
   "metadata": {},
   "source": [
    "## 0 Create Directories, if Necessary\n",
    "The two directories needed for this script are `jsonzip` and `output`. If they do not exist they are created, else: do nothing.\n",
    "\n",
    "For the code, see [Stack Overflow](http://stackoverflow.com/questions/18973418/os-mkdirpath-returns-oserror-when-directory-does-not-exist)."
   ]
  },
  {
   "cell_type": "code",
   "execution_count": 2,
   "metadata": {
    "collapsed": true
   },
   "outputs": [],
   "source": [
    "directories = ['jsonzip', 'output']\n",
    "for d in directories:\n",
    "    try:\n",
    "        os.mkdir(d)\n",
    "    except OSError as exc:\n",
    "        if exc.errno !=errno.EEXIST:\n",
    "            raise\n",
    "        pass"
   ]
  },
  {
   "cell_type": "markdown",
   "metadata": {},
   "source": [
    "## 1.1 Input Project Names\n",
    "Provide a list of one or more project names, separated by commas. Note that subprojects must be listed separately, they are not included in the main project. For instance:\n",
    "\n",
    "`epsd2/admin/ed3a, epsd2/admin/ed3b, epsd2/admin/ebla, epsd2/admin/oakk, epsd2/admin/lagash2, epsd2/admin/u3adm, epsd2/admin/u3let, epsd2/admin/u3leg, epsd2/admin/oldbab, epsd2/literary, epsd2/emesal, epsd2/earlylit, epsd2/royal, epsd2/praxis, dcclt, obmc, ckst, blms`"
   ]
  },
  {
   "cell_type": "code",
   "execution_count": 3,
   "metadata": {
    "collapsed": false
   },
   "outputs": [
    {
     "name": "stdout",
     "output_type": "stream",
     "text": [
      "Project(s): epsd2/admin/ed3a, epsd2/admin/ed3b, epsd2/admin/ebla, epsd2/admin/oakk, epsd2/admin/lagash2, epsd2/admin/u3adm, epsd2/admin/u3let, epsd2/admin/u3leg, epsd2/admin/oldbab, epsd2/literary, epsd2/emesal, epsd2/earlylit, epsd2/royal, epsd2/praxis, dcclt, obmc, ckst, blms\n"
     ]
    }
   ],
   "source": [
    "projects = input('Project(s): ').lower()"
   ]
  },
  {
   "cell_type": "markdown",
   "metadata": {},
   "source": [
    "## 1.2 Split the List of Projects\n",
    "Split the list of projects and create a list of project names."
   ]
  },
  {
   "cell_type": "code",
   "execution_count": 4,
   "metadata": {
    "collapsed": false
   },
   "outputs": [],
   "source": [
    "p = projects.split(',')               # split at each comma and make a list called `p`\n",
    "p = [x.strip() for x in p]        # strip spaces left and right of each entry in `p`"
   ]
  },
  {
   "cell_type": "markdown",
   "metadata": {},
   "source": [
    "## 1.3 Download the ZIP files\n",
    "For each project in the list download all the `json` files from `http://build-oracc.museum.upenn.edu/json/`. The file is called `PROJECT.zip` (for instance: `dcclt.zip`). For subprojects the file is called `PROJECT-SUBPROJECT.zip` (for instance `cams-gkab.zip`). \n",
    "\n",
    "For larger projects (such as [DCCLT](http://oracc.org/dcclt)) the `zip` file may be 25Mb or more. Downloading may take some time and it may be necessary to chunk the downloading process. The `iter_content()` function in the `requests` library takes care of that.\n",
    "\n",
    "If you have downloaded the files by hand (and put them in the `jsonzip` directory) you may skip this cell and jump directly to section [2.1 The Parsejson() function](#head21)."
   ]
  },
  {
   "cell_type": "code",
   "execution_count": null,
   "metadata": {
    "collapsed": false
   },
   "outputs": [],
   "source": [
    "CHUNK = 16 * 1024\n",
    "for project in tqdm.tqdm(p):\n",
    "    project = project.replace('/', '-')\n",
    "    url = \"http://build-oracc.museum.upenn.edu/json/\" + project + \".zip\"\n",
    "    file = 'jsonzip/' + project + '.zip'\n",
    "    r = requests.get(url)\n",
    "    if r.status_code == 200:\n",
    "        print(\"Downloading \" + url + \" saving as \" + file)\n",
    "        with open(file, 'wb') as f:\n",
    "            for c in r.iter_content(chunk_size=CHUNK):\n",
    "                f.write(c)\n",
    "    else:\n",
    "        print(url + \" does not exist.\")"
   ]
  },
  {
   "cell_type": "markdown",
   "metadata": {},
   "source": [
    "## <a name=\"head21\"></a>2.1 The `parsejson()` function\n",
    "The `parsejson()` function will \"dig into\" the `json` file (transformed into a dictionary) until it finds the relevant data. The `json` file consists of a hierarchy of `cdl` nodes; only the lowest nodes contain lemmatization data. The function goes down this hierarchy by calling itself when another `cdl` node is encountered. For nore information about the data hierarchy in the [ORACC](http://oracc.org) `json` files, see [ORACC Open Data](http://oracc.museum.upenn.edu/doc/opendata/index.html).\n",
    "\n",
    "The argument of the `parsejson()` function is a `JSON` object, a dictionary that initially contains the entire contents of the original JSON file. The code takes the key `cdl` which itself contains an array (a list) of `JSON` objects. Iterating through these objects, if an object contains another `cdl` node, the function calls itself with this object as first argument. This way the function digs deeper and deeper into the `JSON` tree, until it does not encounter a `cdl` key anymore. Here we are at the level of individual words. The code checks for a key `f`, if it exists the signs are in the node `gdl` within the `f` node. "
   ]
  },
  {
   "cell_type": "code",
   "execution_count": 5,
   "metadata": {
    "collapsed": true
   },
   "outputs": [],
   "source": [
    "def parsejson_signs(text):\n",
    "    for JSONobject in text[\"cdl\"]:\n",
    "        field = ''\n",
    "        if \"cdl\" in JSONobject: \n",
    "            parsejson_signs(JSONobject)\n",
    "        if \"type\" in JSONobject and JSONobject[\"type\"] == \"field-start\":\n",
    "            field = JSONobject[\"subtype\"]\n",
    "        if \"f\" in JSONobject and not field in ['sg', 'pr']: # skip the fields \"sign\" and \"pronunciation\"\n",
    "                                # in lexical texts\n",
    "            if JSONobject[\"f\"][\"lang\"][:3] == \"sux\": #only Sumerian and Emesal\n",
    "                f = JSONobject[\"f\"][\"form\"]\n",
    "                all_.append(f)\n",
    "    all_.append(\"\\nEndofDoc\")\n",
    "    return"
   ]
  },
  {
   "cell_type": "markdown",
   "metadata": {},
   "source": [
    "## 2.2 Call the `parsejson()` function for every `JSON` file\n",
    "The code in this cell will iterate through the list of projects entered above (1.1). For each project the `JSON` zip file is located in the directory `jsonzip`, named PROJECT.zip. \n",
    "\n",
    "Each of these files is extracted from the `zip` file and read with the command `json.loads()`, which reads the json data and transforms it into a Python dictionary (a sequence of keys and values).\n",
    "\n",
    "This dictionary, which is called `text` is now sent to the `parsejson()` function. The function adds signs to the `sign_l` list."
   ]
  },
  {
   "cell_type": "code",
   "execution_count": 7,
   "metadata": {
    "collapsed": false
   },
   "outputs": [
    {
     "name": "stderr",
     "output_type": "stream",
     "text": [
      "100%|██████████| 778/778 [00:00<00:00, 794.90it/s]\n",
      "100%|██████████| 3157/3157 [00:04<00:00, 632.93it/s]\n",
      "100%|██████████| 157/157 [00:00<00:00, 1049.12it/s]\n",
      "  0%|          | 0/4944 [00:00<?, ?it/s]"
     ]
    },
    {
     "name": "stdout",
     "output_type": "stream",
     "text": [
      "epsd2/admin/ebla/P241764 is not available or not complete\n",
      "epsd2/admin/ebla/P315437 is not available or not complete\n",
      "epsd2/admin/ebla/P315459 is not available or not complete\n"
     ]
    },
    {
     "name": "stderr",
     "output_type": "stream",
     "text": [
      "100%|██████████| 4944/4944 [00:03<00:00, 1301.57it/s]\n",
      "100%|██████████| 494/494 [00:00<00:00, 1213.90it/s]\n",
      "  0%|          | 284/71496 [00:00<01:18, 905.76it/s]"
     ]
    },
    {
     "name": "stdout",
     "output_type": "stream",
     "text": [
      "epsd2/admin/u3adm/P511905 is not available or not complete\n",
      "epsd2/admin/u3adm/P511471 is not available or not complete\n"
     ]
    },
    {
     "name": "stderr",
     "output_type": "stream",
     "text": [
      "  1%|          | 619/71496 [00:00<01:08, 1032.85it/s]"
     ]
    },
    {
     "name": "stdout",
     "output_type": "stream",
     "text": [
      "epsd2/admin/u3adm/P109084 is not available or not complete\n",
      "epsd2/admin/u3adm/P511973 is not available or not complete\n",
      "epsd2/admin/u3adm/P504596 is not available or not complete"
     ]
    },
    {
     "name": "stderr",
     "output_type": "stream",
     "text": [
      "  1%|▏         | 1002/71496 [00:01<01:16, 915.52it/s]"
     ]
    },
    {
     "name": "stdout",
     "output_type": "stream",
     "text": [
      "\n",
      "epsd2/admin/u3adm/P414560 is not available or not complete\n",
      "epsd2/admin/u3adm/P512114 is not available or not complete\n",
      "epsd2/admin/u3adm/P109115 is not available or not complete\n",
      "epsd2/admin/u3adm/P511467 is not available or not complete\n",
      "epsd2/admin/u3adm/P511979 is not available or not complete\n"
     ]
    },
    {
     "name": "stderr",
     "output_type": "stream",
     "text": [
      "  2%|▏         | 1614/71496 [00:01<01:18, 887.17it/s]"
     ]
    },
    {
     "name": "stdout",
     "output_type": "stream",
     "text": [
      "epsd2/admin/u3adm/P105380 is not available or not complete\n",
      "epsd2/admin/u3adm/P512156 is not available or not complete\n",
      "epsd2/admin/u3adm/P414575 is not available or not complete\n"
     ]
    },
    {
     "name": "stderr",
     "output_type": "stream",
     "text": [
      "  3%|▎         | 1936/71496 [00:02<01:09, 994.48it/s]"
     ]
    },
    {
     "name": "stdout",
     "output_type": "stream",
     "text": [
      "epsd2/admin/u3adm/P497673 is not available or not complete\n",
      "epsd2/admin/u3adm/P476069 is not available or not complete\n",
      "epsd2/admin/u3adm/P474548 is not available or not complete\n",
      "epsd2/admin/u3adm/P474558 is not available or not complete\n",
      "epsd2/admin/u3adm/P511901 is not available or not complete\n",
      "epsd2/admin/u3adm/P414535 is not available or not complete\n"
     ]
    },
    {
     "name": "stderr",
     "output_type": "stream",
     "text": [
      "  3%|▎         | 2243/71496 [00:02<01:13, 938.30it/s]"
     ]
    },
    {
     "name": "stdout",
     "output_type": "stream",
     "text": [
      "epsd2/admin/u3adm/P414516 is not available or not complete\n",
      "epsd2/admin/u3adm/P497679 is not available or not complete\n"
     ]
    },
    {
     "name": "stderr",
     "output_type": "stream",
     "text": [
      "  4%|▎         | 2545/71496 [00:02<01:12, 953.64it/s]"
     ]
    },
    {
     "name": "stdout",
     "output_type": "stream",
     "text": [
      "epsd2/admin/u3adm/P511956 is not available or not complete\n"
     ]
    },
    {
     "name": "stderr",
     "output_type": "stream",
     "text": [
      "  4%|▍         | 2753/71496 [00:02<01:09, 989.06it/s]"
     ]
    },
    {
     "name": "stdout",
     "output_type": "stream",
     "text": [
      "epsd2/admin/u3adm/P109129 is not available or not complete\n",
      "epsd2/admin/u3adm/P474539 is not available or not complete\n",
      "epsd2/admin/u3adm/P474557 is not available or not complete\n"
     ]
    },
    {
     "name": "stderr",
     "output_type": "stream",
     "text": [
      "  5%|▍         | 3307/71496 [00:03<01:06, 1028.50it/s]"
     ]
    },
    {
     "name": "stdout",
     "output_type": "stream",
     "text": [
      "epsd2/admin/u3adm/P511912 is not available or not complete\n",
      "epsd2/admin/u3adm/P105361 is not available or not complete\n",
      "epsd2/admin/u3adm/P511969 is not available or not complete"
     ]
    },
    {
     "name": "stderr",
     "output_type": "stream",
     "text": [
      "  5%|▌         | 3647/71496 [00:03<01:05, 1035.56it/s]"
     ]
    },
    {
     "name": "stdout",
     "output_type": "stream",
     "text": [
      "\n",
      "epsd2/admin/u3adm/P512144 is not available or not complete\n",
      "epsd2/admin/u3adm/P511526 is not available or not complete\n"
     ]
    },
    {
     "name": "stderr",
     "output_type": "stream",
     "text": [
      "  5%|▌         | 3865/71496 [00:03<01:07, 1007.70it/s]"
     ]
    },
    {
     "name": "stdout",
     "output_type": "stream",
     "text": [
      "epsd2/admin/u3adm/P497669 is not available or not complete\n",
      "epsd2/admin/u3adm/P511402 is not available or not complete\n"
     ]
    },
    {
     "name": "stderr",
     "output_type": "stream",
     "text": [
      "  6%|▌         | 4326/71496 [00:04<01:05, 1026.28it/s]"
     ]
    },
    {
     "name": "stdout",
     "output_type": "stream",
     "text": [
      "epsd2/admin/u3adm/P511446 is not available or not complete\n",
      "epsd2/admin/u3adm/P474535 is not available or not complete\n"
     ]
    },
    {
     "name": "stderr",
     "output_type": "stream",
     "text": [
      "  7%|▋         | 4889/71496 [00:04<01:04, 1029.45it/s]"
     ]
    },
    {
     "name": "stdout",
     "output_type": "stream",
     "text": [
      "epsd2/admin/u3adm/P114110 is not available or not complete\n"
     ]
    },
    {
     "name": "stderr",
     "output_type": "stream",
     "text": [
      "  7%|▋         | 5091/71496 [00:05<01:21, 810.54it/s] "
     ]
    },
    {
     "name": "stdout",
     "output_type": "stream",
     "text": [
      "epsd2/admin/u3adm/P511983 is not available or not complete\n",
      "epsd2/admin/u3adm/P512131 is not available or not complete\n",
      "epsd2/admin/u3adm/P512108 is not available or not complete\n"
     ]
    },
    {
     "name": "stderr",
     "output_type": "stream",
     "text": [
      "  8%|▊         | 5815/71496 [00:05<01:09, 947.95it/s]"
     ]
    },
    {
     "name": "stdout",
     "output_type": "stream",
     "text": [
      "epsd2/admin/u3adm/P511949 is not available or not complete\n",
      "epsd2/admin/u3adm/P474534 is not available or not complete\n"
     ]
    },
    {
     "name": "stderr",
     "output_type": "stream",
     "text": [
      "  9%|▊         | 6211/71496 [00:06<01:15, 868.18it/s]"
     ]
    },
    {
     "name": "stdout",
     "output_type": "stream",
     "text": [
      "epsd2/admin/u3adm/P512140 is not available or not complete\n",
      "epsd2/admin/u3adm/P414550 is not available or not complete\n",
      "epsd2/admin/u3adm/P105530 is not available or not complete\n",
      "epsd2/admin/u3adm/P511911 is not available or not complete\n",
      "epsd2/admin/u3adm/P511876 is not available or not complete\n"
     ]
    },
    {
     "name": "stderr",
     "output_type": "stream",
     "text": [
      "  9%|▉         | 6394/71496 [00:06<01:18, 829.98it/s]"
     ]
    },
    {
     "name": "stdout",
     "output_type": "stream",
     "text": [
      "epsd2/admin/u3adm/P511987 is not available or not complete\n"
     ]
    },
    {
     "name": "stderr",
     "output_type": "stream",
     "text": [
      " 10%|▉         | 6821/71496 [00:07<01:06, 973.03it/s]"
     ]
    },
    {
     "name": "stdout",
     "output_type": "stream",
     "text": [
      "epsd2/admin/u3adm/P511926 is not available or not complete\n",
      "epsd2/admin/u3adm/P414571 is not available or not complete\n"
     ]
    },
    {
     "name": "stderr",
     "output_type": "stream",
     "text": [
      " 10%|█         | 7151/71496 [00:07<01:02, 1036.65it/s]"
     ]
    },
    {
     "name": "stdout",
     "output_type": "stream",
     "text": [
      "epsd2/admin/u3adm/P476056 is not available or not complete\n",
      "epsd2/admin/u3adm/P476078 is not available or not complete\n",
      "epsd2/admin/u3adm/P478289 is not available or not complete\n",
      "epsd2/admin/u3adm/P414521 is not available or not complete\n"
     ]
    },
    {
     "name": "stderr",
     "output_type": "stream",
     "text": [
      " 10%|█         | 7482/71496 [00:07<01:02, 1016.25it/s]"
     ]
    },
    {
     "name": "stdout",
     "output_type": "stream",
     "text": [
      "epsd2/admin/u3adm/P114184 is not available or not complete\n",
      "epsd2/admin/u3adm/P512146 is not available or not complete\n",
      "epsd2/admin/u3adm/P139502 is not available or not complete\n",
      "epsd2/admin/u3adm/P329926 is not available or not complete\n"
     ]
    },
    {
     "name": "stderr",
     "output_type": "stream",
     "text": [
      "\r",
      " 11%|█         | 7585/71496 [00:07<01:03, 1010.04it/s]"
     ]
    },
    {
     "name": "stdout",
     "output_type": "stream",
     "text": [
      "epsd2/admin/u3adm/P511916 is not available or not complete\n",
      "epsd2/admin/u3adm/P511435 is not available or not complete\n",
      "epsd2/admin/u3adm/P476061 is not available or not complete"
     ]
    },
    {
     "name": "stderr",
     "output_type": "stream",
     "text": [
      " 11%|█         | 7916/71496 [00:08<01:12, 871.36it/s] "
     ]
    },
    {
     "name": "stdout",
     "output_type": "stream",
     "text": [
      "\n",
      "epsd2/admin/u3adm/P512147 is not available or not complete\n"
     ]
    },
    {
     "name": "stderr",
     "output_type": "stream",
     "text": [
      " 11%|█▏        | 8119/71496 [00:08<01:08, 930.16it/s]"
     ]
    },
    {
     "name": "stdout",
     "output_type": "stream",
     "text": [
      "epsd2/admin/u3adm/P474544 is not available or not complete\n"
     ]
    },
    {
     "name": "stderr",
     "output_type": "stream",
     "text": [
      " 12%|█▏        | 8427/71496 [00:08<01:07, 934.67it/s]"
     ]
    },
    {
     "name": "stdout",
     "output_type": "stream",
     "text": [
      "epsd2/admin/u3adm/P476067 is not available or not complete\n",
      "epsd2/admin/u3adm/P511976 is not available or not complete\n"
     ]
    },
    {
     "name": "stderr",
     "output_type": "stream",
     "text": [
      " 12%|█▏        | 8661/71496 [00:09<01:00, 1039.04it/s]"
     ]
    },
    {
     "name": "stdout",
     "output_type": "stream",
     "text": [
      "epsd2/admin/u3adm/P474530 is not available or not complete\n",
      "epsd2/admin/u3adm/P476062 is not available or not complete\n",
      "epsd2/admin/u3adm/P139503 is not available or not complete\n"
     ]
    },
    {
     "name": "stderr",
     "output_type": "stream",
     "text": [
      " 13%|█▎        | 9109/71496 [00:09<00:59, 1057.41it/s]"
     ]
    },
    {
     "name": "stdout",
     "output_type": "stream",
     "text": [
      "epsd2/admin/u3adm/P512107 is not available or not complete\n",
      "epsd2/admin/u3adm/P511909 is not available or not complete\n"
     ]
    },
    {
     "name": "stderr",
     "output_type": "stream",
     "text": [
      " 13%|█▎        | 9323/71496 [00:09<00:58, 1058.17it/s]"
     ]
    },
    {
     "name": "stdout",
     "output_type": "stream",
     "text": [
      "epsd2/admin/u3adm/P511621 is not available or not complete\n",
      "epsd2/admin/u3adm/P511558 is not available or not complete\n",
      "epsd2/admin/u3adm/P512137 is not available or not complete\n",
      "epsd2/admin/u3adm/P512103 is not available or not complete\n"
     ]
    },
    {
     "name": "stderr",
     "output_type": "stream",
     "text": [
      " 14%|█▎        | 9660/71496 [00:09<00:56, 1090.88it/s]"
     ]
    },
    {
     "name": "stdout",
     "output_type": "stream",
     "text": [
      "epsd2/admin/u3adm/P108848 is not available or not complete\n",
      "epsd2/admin/u3adm/P511555 is not available or not complete\n"
     ]
    },
    {
     "name": "stderr",
     "output_type": "stream",
     "text": [
      " 14%|█▍        | 9977/71496 [00:10<01:01, 1005.31it/s]"
     ]
    },
    {
     "name": "stdout",
     "output_type": "stream",
     "text": [
      "epsd2/admin/u3adm/P478307 is not available or not complete\n",
      "epsd2/admin/u3adm/P511609 is not available or not complete\n"
     ]
    },
    {
     "name": "stderr",
     "output_type": "stream",
     "text": [
      " 14%|█▍        | 10182/71496 [00:10<01:05, 938.51it/s]"
     ]
    },
    {
     "name": "stdout",
     "output_type": "stream",
     "text": [
      "epsd2/admin/u3adm/P430694 is not available or not complete\n",
      "epsd2/admin/u3adm/P274567 is not available or not complete\n",
      "epsd2/admin/u3adm/P511990 is not available or not complete\n",
      "epsd2/admin/u3adm/P414548 is not available or not complete\n",
      "epsd2/admin/u3adm/P312454 is not available or not complete\n"
     ]
    },
    {
     "name": "stderr",
     "output_type": "stream",
     "text": [
      " 15%|█▌        | 10726/71496 [00:11<01:03, 954.96it/s]"
     ]
    },
    {
     "name": "stdout",
     "output_type": "stream",
     "text": [
      "epsd2/admin/u3adm/P511455 is not available or not complete\n"
     ]
    },
    {
     "name": "stderr",
     "output_type": "stream",
     "text": [
      " 16%|█▌        | 11148/71496 [00:11<00:59, 1021.86it/s]"
     ]
    },
    {
     "name": "stdout",
     "output_type": "stream",
     "text": [
      "epsd2/admin/u3adm/P511612 is not available or not complete\n",
      "epsd2/admin/u3adm/P478279 is not available or not complete\n",
      "epsd2/admin/u3adm/P414533 is not available or not complete\n",
      "epsd2/admin/u3adm/P329888 is not available or not complete\n",
      "epsd2/admin/u3adm/P511544 is not available or not complete\n"
     ]
    },
    {
     "name": "stderr",
     "output_type": "stream",
     "text": [
      "\r",
      " 16%|█▌        | 11254/71496 [00:11<01:04, 934.99it/s] "
     ]
    },
    {
     "name": "stdout",
     "output_type": "stream",
     "text": [
      "epsd2/admin/u3adm/P511589 is not available or not complete\n",
      "epsd2/admin/u3adm/P109109 is not available or not complete\n"
     ]
    },
    {
     "name": "stderr",
     "output_type": "stream",
     "text": [
      " 16%|█▌        | 11478/71496 [00:11<01:00, 987.35it/s]"
     ]
    },
    {
     "name": "stdout",
     "output_type": "stream",
     "text": [
      "epsd2/admin/u3adm/P105447 is not available or not complete\n",
      "epsd2/admin/u3adm/P512159 is not available or not complete\n",
      "epsd2/admin/u3adm/P512150 is not available or not complete\n"
     ]
    },
    {
     "name": "stderr",
     "output_type": "stream",
     "text": [
      " 17%|█▋        | 11907/71496 [00:12<00:58, 1016.58it/s]"
     ]
    },
    {
     "name": "stdout",
     "output_type": "stream",
     "text": [
      "epsd2/admin/u3adm/P476065 is not available or not complete\n",
      "epsd2/admin/u3adm/P511632 is not available or not complete\n",
      "epsd2/admin/u3adm/P511906 is not available or not complete\n",
      "epsd2/admin/u3adm/P478293 is not available or not complete\n"
     ]
    },
    {
     "name": "stderr",
     "output_type": "stream",
     "text": [
      " 17%|█▋        | 12127/71496 [00:12<00:56, 1053.24it/s]"
     ]
    },
    {
     "name": "stdout",
     "output_type": "stream",
     "text": [
      "epsd2/admin/u3adm/P512141 is not available or not complete\n",
      "epsd2/admin/u3adm/P474560 is not available or not complete\n",
      "epsd2/admin/u3adm/P113145 is not available or not complete\n"
     ]
    },
    {
     "name": "stderr",
     "output_type": "stream",
     "text": [
      " 17%|█▋        | 12347/71496 [00:12<00:55, 1056.61it/s]"
     ]
    },
    {
     "name": "stdout",
     "output_type": "stream",
     "text": [
      "epsd2/admin/u3adm/P109096 is not available or not complete\n",
      "epsd2/admin/u3adm/P414519 is not available or not complete\n",
      "epsd2/admin/u3adm/P478297 is not available or not complete\n",
      "epsd2/admin/u3adm/P511989 is not available or not complete\n"
     ]
    },
    {
     "name": "stderr",
     "output_type": "stream",
     "text": [
      " 18%|█▊        | 12701/71496 [00:13<00:53, 1092.22it/s]"
     ]
    },
    {
     "name": "stdout",
     "output_type": "stream",
     "text": [
      "epsd2/admin/u3adm/P512102 is not available or not complete\n",
      "epsd2/admin/u3adm/P478284 is not available or not complete\n"
     ]
    },
    {
     "name": "stderr",
     "output_type": "stream",
     "text": [
      " 18%|█▊        | 13054/71496 [00:13<00:52, 1105.86it/s]"
     ]
    },
    {
     "name": "stdout",
     "output_type": "stream",
     "text": [
      "epsd2/admin/u3adm/P477691 is not available or not complete\n",
      "epsd2/admin/u3adm/P511434 is not available or not complete\n",
      "epsd2/admin/u3adm/P476082 is not available or not complete\n",
      "epsd2/admin/u3adm/P511396 is not available or not complete\n",
      "epsd2/admin/u3adm/P511591 is not available or not complete\n"
     ]
    },
    {
     "name": "stderr",
     "output_type": "stream",
     "text": [
      "\r",
      " 18%|█▊        | 13166/71496 [00:13<00:56, 1038.36it/s]"
     ]
    },
    {
     "name": "stdout",
     "output_type": "stream",
     "text": [
      "epsd2/admin/u3adm/P478294 is not available or not complete\n"
     ]
    },
    {
     "name": "stderr",
     "output_type": "stream",
     "text": [
      " 19%|█▉        | 13611/71496 [00:13<01:00, 963.90it/s] "
     ]
    },
    {
     "name": "stdout",
     "output_type": "stream",
     "text": [
      "epsd2/admin/u3adm/P142626 is not available or not complete\n",
      "epsd2/admin/u3adm/P512118 is not available or not complete\n",
      "epsd2/admin/u3adm/P414529 is not available or not complete\n",
      "epsd2/admin/u3adm/P511963 is not available or not complete\n",
      "epsd2/admin/u3adm/P105378 is not available or not complete\n",
      "epsd2/admin/u3adm/P105309 is not available or not complete\n",
      "epsd2/admin/u3adm/P512138 is not available or not complete\n"
     ]
    },
    {
     "name": "stderr",
     "output_type": "stream",
     "text": [
      " 20%|█▉        | 13960/71496 [00:14<00:58, 986.61it/s] "
     ]
    },
    {
     "name": "stdout",
     "output_type": "stream",
     "text": [
      "epsd2/admin/u3adm/P477698 is not available or not complete\n",
      "epsd2/admin/u3adm/P511941 is not available or not complete\n",
      "epsd2/admin/u3adm/P511608 is not available or not complete"
     ]
    },
    {
     "name": "stderr",
     "output_type": "stream",
     "text": [
      " 20%|█▉        | 14182/71496 [00:14<00:57, 1000.80it/s]"
     ]
    },
    {
     "name": "stdout",
     "output_type": "stream",
     "text": [
      "\n",
      "epsd2/admin/u3adm/P512121 is not available or not complete\n",
      "epsd2/admin/u3adm/P474531 is not available or not complete\n",
      "epsd2/admin/u3adm/P476074 is not available or not complete\n"
     ]
    },
    {
     "name": "stderr",
     "output_type": "stream",
     "text": [
      " 20%|██        | 14611/71496 [00:14<01:11, 796.36it/s] "
     ]
    },
    {
     "name": "stdout",
     "output_type": "stream",
     "text": [
      "epsd2/admin/u3adm/P105340 is not available or not complete\n",
      "epsd2/admin/u3adm/P476063 is not available or not complete\n"
     ]
    },
    {
     "name": "stderr",
     "output_type": "stream",
     "text": [
      " 21%|██        | 14858/71496 [00:15<00:58, 969.75it/s]"
     ]
    },
    {
     "name": "stdout",
     "output_type": "stream",
     "text": [
      "epsd2/admin/u3adm/P361750 is not available or not complete\n",
      "epsd2/admin/u3adm/P430674 is not available or not complete\n",
      "epsd2/admin/u3adm/P511915 is not available or not complete\n",
      "epsd2/admin/u3adm/P512134 is not available or not complete\n"
     ]
    },
    {
     "name": "stderr",
     "output_type": "stream",
     "text": [
      " 21%|██        | 15084/71496 [00:15<00:54, 1036.11it/s]"
     ]
    },
    {
     "name": "stdout",
     "output_type": "stream",
     "text": [
      "epsd2/admin/u3adm/P333133 is not available or not complete\n",
      "epsd2/admin/u3adm/P414576 is not available or not complete\n",
      "epsd2/admin/u3adm/P511412 is not available or not complete\n",
      "epsd2/admin/u3adm/P477695 is not available or not complete\n"
     ]
    },
    {
     "name": "stderr",
     "output_type": "stream",
     "text": [
      " 22%|██▏       | 15425/71496 [00:15<00:54, 1029.33it/s]"
     ]
    },
    {
     "name": "stdout",
     "output_type": "stream",
     "text": [
      "epsd2/admin/u3adm/P105542 is not available or not complete\n",
      "epsd2/admin/u3adm/P109091 is not available or not complete\n",
      "epsd2/admin/u3adm/P120695 is not available or not complete\n"
     ]
    },
    {
     "name": "stderr",
     "output_type": "stream",
     "text": [
      " 22%|██▏       | 15631/71496 [00:15<01:04, 867.37it/s] "
     ]
    },
    {
     "name": "stdout",
     "output_type": "stream",
     "text": [
      "epsd2/admin/u3adm/P114180 is not available or not complete\n",
      "epsd2/admin/u3adm/P109121 is not available or not complete\n"
     ]
    },
    {
     "name": "stderr",
     "output_type": "stream",
     "text": [
      " 22%|██▏       | 15827/71496 [00:16<01:00, 921.59it/s]"
     ]
    },
    {
     "name": "stdout",
     "output_type": "stream",
     "text": [
      "epsd2/admin/u3adm/P476076 is not available or not complete\n",
      "epsd2/admin/u3adm/P114143 is not available or not complete\n",
      "epsd2/admin/u3adm/P414553 is not available or not complete\n"
     ]
    },
    {
     "name": "stderr",
     "output_type": "stream",
     "text": [
      " 23%|██▎       | 16128/71496 [00:16<01:01, 897.30it/s]"
     ]
    },
    {
     "name": "stdout",
     "output_type": "stream",
     "text": [
      "epsd2/admin/u3adm/P497674 is not available or not complete\n",
      "epsd2/admin/u3adm/P114107 is not available or not complete\n"
     ]
    },
    {
     "name": "stderr",
     "output_type": "stream",
     "text": [
      " 23%|██▎       | 16421/71496 [00:16<01:01, 897.56it/s]"
     ]
    },
    {
     "name": "stdout",
     "output_type": "stream",
     "text": [
      "epsd2/admin/u3adm/P109123 is not available or not complete\n",
      "epsd2/admin/u3adm/P511913 is not available or not complete\n"
     ]
    },
    {
     "name": "stderr",
     "output_type": "stream",
     "text": [
      " 23%|██▎       | 16606/71496 [00:17<01:02, 871.62it/s]"
     ]
    },
    {
     "name": "stdout",
     "output_type": "stream",
     "text": [
      "epsd2/admin/u3adm/P511527 is not available or not complete\n",
      "epsd2/admin/u3adm/P497670 is not available or not complete\n",
      "epsd2/admin/u3adm/P414561 is not available or not complete\n",
      "epsd2/admin/u3adm/P112322 is not available or not complete\n"
     ]
    },
    {
     "name": "stderr",
     "output_type": "stream",
     "text": [
      " 23%|██▎       | 16795/71496 [00:17<01:20, 682.12it/s]"
     ]
    },
    {
     "name": "stdout",
     "output_type": "stream",
     "text": [
      "epsd2/admin/u3adm/P248996 is not available or not complete\n"
     ]
    },
    {
     "name": "stderr",
     "output_type": "stream",
     "text": [
      " 24%|██▍       | 17130/71496 [00:17<01:00, 896.93it/s]"
     ]
    },
    {
     "name": "stdout",
     "output_type": "stream",
     "text": [
      "epsd2/admin/u3adm/P139504 is not available or not complete\n",
      "epsd2/admin/u3adm/P511925 is not available or not complete\n"
     ]
    },
    {
     "name": "stderr",
     "output_type": "stream",
     "text": [
      " 24%|██▍       | 17472/71496 [00:18<00:52, 1031.76it/s]"
     ]
    },
    {
     "name": "stdout",
     "output_type": "stream",
     "text": [
      "epsd2/admin/u3adm/P105307 is not available or not complete\n",
      "epsd2/admin/u3adm/P511945 is not available or not complete\n",
      "epsd2/admin/u3adm/P512153 is not available or not complete\n"
     ]
    },
    {
     "name": "stderr",
     "output_type": "stream",
     "text": [
      " 25%|██▌       | 17923/71496 [00:18<00:50, 1051.77it/s]"
     ]
    },
    {
     "name": "stdout",
     "output_type": "stream",
     "text": [
      "epsd2/admin/u3adm/P511619 is not available or not complete\n",
      "epsd2/admin/u3adm/P511603 is not available or not complete\n"
     ]
    },
    {
     "name": "stderr",
     "output_type": "stream",
     "text": [
      " 26%|██▌       | 18420/71496 [00:19<01:01, 869.40it/s] "
     ]
    },
    {
     "name": "stdout",
     "output_type": "stream",
     "text": [
      "epsd2/admin/u3adm/P511978 is not available or not complete\n",
      "epsd2/admin/u3adm/P474538 is not available or not complete\n"
     ]
    },
    {
     "name": "stderr",
     "output_type": "stream",
     "text": [
      " 26%|██▌       | 18745/71496 [00:19<00:53, 977.62it/s]"
     ]
    },
    {
     "name": "stdout",
     "output_type": "stream",
     "text": [
      "epsd2/admin/u3adm/P511423 is not available or not complete\n",
      "epsd2/admin/u3adm/P511931 is not available or not complete\n",
      "epsd2/admin/u3adm/P511980 is not available or not complete\n"
     ]
    },
    {
     "name": "stderr",
     "output_type": "stream",
     "text": [
      " 27%|██▋       | 19185/71496 [00:19<00:50, 1032.04it/s]"
     ]
    },
    {
     "name": "stdout",
     "output_type": "stream",
     "text": [
      "epsd2/admin/u3adm/P511902 is not available or not complete\n",
      "epsd2/admin/u3adm/P511487 is not available or not complete\n",
      "epsd2/admin/u3adm/P139501 is not available or not complete\n"
     ]
    },
    {
     "name": "stderr",
     "output_type": "stream",
     "text": [
      " 27%|██▋       | 19518/71496 [00:20<00:48, 1073.08it/s]"
     ]
    },
    {
     "name": "stdout",
     "output_type": "stream",
     "text": [
      "epsd2/admin/u3adm/P511924 is not available or not complete\n"
     ]
    },
    {
     "name": "stderr",
     "output_type": "stream",
     "text": [
      " 28%|██▊       | 19748/71496 [00:20<00:49, 1045.72it/s]"
     ]
    },
    {
     "name": "stdout",
     "output_type": "stream",
     "text": [
      "epsd2/admin/u3adm/P114108 is not available or not complete\n",
      "epsd2/admin/u3adm/P144316 is not available or not complete\n",
      "epsd2/admin/u3adm/P430673 is not available or not complete\n",
      "epsd2/admin/u3adm/P511569 is not available or not complete\n",
      "epsd2/admin/u3adm/P114181 is not available or not complete\n",
      "epsd2/admin/u3adm/P414523 is not available or not complete\n",
      "epsd2/admin/u3adm/P268222 is not available or not complete\n",
      "epsd2/admin/u3adm/P114151 is not available or not complete\n",
      "epsd2/admin/u3adm/P109103 is not available or not complete\n"
     ]
    },
    {
     "name": "stderr",
     "output_type": "stream",
     "text": [
      " 28%|██▊       | 19972/71496 [00:20<00:50, 1024.15it/s]"
     ]
    },
    {
     "name": "stdout",
     "output_type": "stream",
     "text": [
      "epsd2/admin/u3adm/P511878 is not available or not complete\n"
     ]
    },
    {
     "name": "stderr",
     "output_type": "stream",
     "text": [
      " 28%|██▊       | 20201/71496 [00:20<01:04, 792.13it/s] "
     ]
    },
    {
     "name": "stdout",
     "output_type": "stream",
     "text": [
      "epsd2/admin/u3adm/P511919 is not available or not complete\n"
     ]
    },
    {
     "name": "stderr",
     "output_type": "stream",
     "text": [
      " 29%|██▊       | 20511/71496 [00:21<00:56, 905.02it/s]"
     ]
    },
    {
     "name": "stdout",
     "output_type": "stream",
     "text": [
      "epsd2/admin/u3adm/P414528 is not available or not complete\n",
      "epsd2/admin/u3adm/P511975 is not available or not complete\n",
      "epsd2/admin/u3adm/P476088 is not available or not complete\n"
     ]
    },
    {
     "name": "stderr",
     "output_type": "stream",
     "text": [
      " 29%|██▉       | 20718/71496 [00:21<00:53, 948.99it/s]"
     ]
    },
    {
     "name": "stdout",
     "output_type": "stream",
     "text": [
      "epsd2/admin/u3adm/P430672 is not available or not complete\n",
      "epsd2/admin/u3adm/P511927 is not available or not complete\n",
      "epsd2/admin/u3adm/P511974 is not available or not complete\n"
     ]
    },
    {
     "name": "stderr",
     "output_type": "stream",
     "text": [
      " 29%|██▉       | 20931/71496 [00:21<00:53, 939.72it/s]"
     ]
    },
    {
     "name": "stdout",
     "output_type": "stream",
     "text": [
      "epsd2/admin/u3adm/P511439 is not available or not complete\n",
      "epsd2/admin/u3adm/P511917 is not available or not complete\n",
      "epsd2/admin/u3adm/P478301 is not available or not complete\n"
     ]
    },
    {
     "name": "stderr",
     "output_type": "stream",
     "text": [
      " 30%|██▉       | 21354/71496 [00:22<00:50, 997.43it/s]"
     ]
    },
    {
     "name": "stdout",
     "output_type": "stream",
     "text": [
      "epsd2/admin/u3adm/P511582 is not available or not complete\n",
      "epsd2/admin/u3adm/P109114 is not available or not complete\n"
     ]
    },
    {
     "name": "stderr",
     "output_type": "stream",
     "text": [
      " 30%|███       | 21573/71496 [00:22<00:50, 993.13it/s] "
     ]
    },
    {
     "name": "stdout",
     "output_type": "stream",
     "text": [
      "epsd2/admin/u3adm/P474541 is not available or not complete\n"
     ]
    },
    {
     "name": "stderr",
     "output_type": "stream",
     "text": [
      " 30%|███       | 21806/71496 [00:22<00:46, 1069.29it/s]"
     ]
    },
    {
     "name": "stdout",
     "output_type": "stream",
     "text": [
      "epsd2/admin/u3adm/P511928 is not available or not complete\n",
      "epsd2/admin/u3adm/P103285 is not available or not complete\n"
     ]
    },
    {
     "name": "stderr",
     "output_type": "stream",
     "text": [
      " 31%|███       | 22132/71496 [00:22<00:50, 978.76it/s] "
     ]
    },
    {
     "name": "stdout",
     "output_type": "stream",
     "text": [
      "epsd2/admin/u3adm/P432386 is not available or not complete\n",
      "epsd2/admin/u3adm/P109100 is not available or not complete\n"
     ]
    },
    {
     "name": "stderr",
     "output_type": "stream",
     "text": [
      " 31%|███▏      | 22450/71496 [00:23<00:50, 973.60it/s]"
     ]
    },
    {
     "name": "stdout",
     "output_type": "stream",
     "text": [
      "epsd2/admin/u3adm/P511950 is not available or not complete\n",
      "epsd2/admin/u3adm/P511579 is not available or not complete\n"
     ]
    },
    {
     "name": "stderr",
     "output_type": "stream",
     "text": [
      " 32%|███▏      | 22661/71496 [00:23<00:48, 1009.25it/s]"
     ]
    },
    {
     "name": "stdout",
     "output_type": "stream",
     "text": [
      "epsd2/admin/u3adm/P414552 is not available or not complete\n",
      "epsd2/admin/u3adm/P511431 is not available or not complete\n"
     ]
    },
    {
     "name": "stderr",
     "output_type": "stream",
     "text": [
      " 32%|███▏      | 22901/71496 [00:23<00:45, 1072.00it/s]"
     ]
    },
    {
     "name": "stdout",
     "output_type": "stream",
     "text": [
      "epsd2/admin/u3adm/P249240 is not available or not complete\n"
     ]
    },
    {
     "name": "stderr",
     "output_type": "stream",
     "text": [
      "\r",
      " 32%|███▏      | 23013/71496 [00:23<00:44, 1083.82it/s]"
     ]
    },
    {
     "name": "stdout",
     "output_type": "stream",
     "text": [
      "epsd2/admin/u3adm/P114103 is not available or not complete\n"
     ]
    },
    {
     "name": "stderr",
     "output_type": "stream",
     "text": [
      " 32%|███▏      | 23227/71496 [00:23<00:57, 845.59it/s] "
     ]
    },
    {
     "name": "stdout",
     "output_type": "stream",
     "text": [
      "epsd2/admin/u3adm/P114106 is not available or not complete\n",
      "epsd2/admin/u3adm/P414562 is not available or not complete\n",
      "epsd2/admin/u3adm/P476057 is not available or not complete\n",
      "epsd2/admin/u3adm/P512157 is not available or not complete\n",
      "epsd2/admin/u3adm/P476077 is not available or not complete\n"
     ]
    },
    {
     "name": "stderr",
     "output_type": "stream",
     "text": [
      " 33%|███▎      | 23643/71496 [00:24<00:49, 973.70it/s]"
     ]
    },
    {
     "name": "stdout",
     "output_type": "stream",
     "text": [
      "epsd2/admin/u3adm/P512100 is not available or not complete\n",
      "epsd2/admin/u3adm/P144092 is not available or not complete\n",
      "epsd2/admin/u3adm/P512185 is not available or not complete\n",
      "epsd2/admin/u3adm/P478299 is not available or not complete\n"
     ]
    },
    {
     "name": "stderr",
     "output_type": "stream",
     "text": [
      " 34%|███▎      | 23965/71496 [00:24<00:49, 968.36it/s] "
     ]
    },
    {
     "name": "stdout",
     "output_type": "stream",
     "text": [
      "epsd2/admin/u3adm/P511960 is not available or not complete\n",
      "epsd2/admin/u3adm/P511965 is not available or not complete\n"
     ]
    },
    {
     "name": "stderr",
     "output_type": "stream",
     "text": [
      " 34%|███▍      | 24197/71496 [00:24<00:44, 1057.10it/s]"
     ]
    },
    {
     "name": "stdout",
     "output_type": "stream",
     "text": [
      "epsd2/admin/u3adm/P109090 is not available or not complete\n",
      "epsd2/admin/u3adm/P109089 is not available or not complete\n"
     ]
    },
    {
     "name": "stderr",
     "output_type": "stream",
     "text": [
      " 34%|███▍      | 24510/71496 [00:25<00:50, 927.95it/s] "
     ]
    },
    {
     "name": "stdout",
     "output_type": "stream",
     "text": [
      "epsd2/admin/u3adm/P330479 is not available or not complete\n",
      "epsd2/admin/u3adm/P105537 is not available or not complete\n",
      "epsd2/admin/u3adm/P414555 is not available or not complete\n"
     ]
    },
    {
     "name": "stderr",
     "output_type": "stream",
     "text": [
      " 35%|███▌      | 25156/71496 [00:25<00:46, 999.82it/s] "
     ]
    },
    {
     "name": "stdout",
     "output_type": "stream",
     "text": [
      "epsd2/admin/u3adm/P476084 is not available or not complete\n"
     ]
    },
    {
     "name": "stderr",
     "output_type": "stream",
     "text": [
      " 36%|███▌      | 25574/71496 [00:26<00:45, 1011.54it/s]"
     ]
    },
    {
     "name": "stdout",
     "output_type": "stream",
     "text": [
      "epsd2/admin/u3adm/P512149 is not available or not complete\n",
      "epsd2/admin/u3adm/P511943 is not available or not complete\n",
      "epsd2/admin/u3adm/P114185 is not available or not complete\n",
      "epsd2/admin/u3adm/P476058 is not available or not complete\n",
      "epsd2/admin/u3adm/P512106 is not available or not complete\n",
      "epsd2/admin/u3adm/P511464 is not available or not complete\n"
     ]
    },
    {
     "name": "stderr",
     "output_type": "stream",
     "text": [
      " 36%|███▌      | 25807/71496 [00:26<00:42, 1074.93it/s]"
     ]
    },
    {
     "name": "stdout",
     "output_type": "stream",
     "text": [
      "epsd2/admin/u3adm/P330391 is not available or not complete\n",
      "epsd2/admin/u3adm/P331094 is not available or not complete\n",
      "epsd2/admin/u3adm/P478308 is not available or not complete\n"
     ]
    },
    {
     "name": "stderr",
     "output_type": "stream",
     "text": [
      " 37%|███▋      | 26356/71496 [00:27<00:52, 864.97it/s] "
     ]
    },
    {
     "name": "stdout",
     "output_type": "stream",
     "text": [
      "epsd2/admin/u3adm/P474529 is not available or not complete\n",
      "epsd2/admin/u3adm/P511880 is not available or not complete\n"
     ]
    },
    {
     "name": "stderr",
     "output_type": "stream",
     "text": [
      " 38%|███▊      | 26867/71496 [00:27<00:46, 964.60it/s]"
     ]
    },
    {
     "name": "stdout",
     "output_type": "stream",
     "text": [
      "epsd2/admin/u3adm/P511448 is not available or not complete\n",
      "epsd2/admin/u3adm/P474536 is not available or not complete\n"
     ]
    },
    {
     "name": "stderr",
     "output_type": "stream",
     "text": [
      " 38%|███▊      | 27157/71496 [00:28<00:47, 933.41it/s]"
     ]
    },
    {
     "name": "stdout",
     "output_type": "stream",
     "text": [
      "epsd2/admin/u3adm/P511410 is not available or not complete\n",
      "epsd2/admin/u3adm/P109113 is not available or not complete\n"
     ]
    },
    {
     "name": "stderr",
     "output_type": "stream",
     "text": [
      " 38%|███▊      | 27360/71496 [00:28<00:45, 972.13it/s]"
     ]
    },
    {
     "name": "stdout",
     "output_type": "stream",
     "text": [
      "epsd2/admin/u3adm/P500140 is not available or not complete\n",
      "epsd2/admin/u3adm/P105305 is not available or not complete\n",
      "epsd2/admin/u3adm/P478290 is not available or not complete\n"
     ]
    },
    {
     "name": "stderr",
     "output_type": "stream",
     "text": [
      " 39%|███▊      | 27663/71496 [00:28<00:45, 973.97it/s]"
     ]
    },
    {
     "name": "stdout",
     "output_type": "stream",
     "text": [
      "epsd2/admin/u3adm/P114105 is not available or not complete\n",
      "epsd2/admin/u3adm/P331645 is not available or not complete\n",
      "epsd2/admin/u3adm/P414530 is not available or not complete\n",
      "epsd2/admin/u3adm/P512109 is not available or not complete\n",
      "epsd2/admin/u3adm/P511853 is not available or not complete\n"
     ]
    },
    {
     "name": "stderr",
     "output_type": "stream",
     "text": [
      " 39%|███▉      | 28171/71496 [00:29<00:45, 957.11it/s]"
     ]
    },
    {
     "name": "stdout",
     "output_type": "stream",
     "text": [
      "epsd2/admin/u3adm/P511961 is not available or not complete\n",
      "epsd2/admin/u3adm/P511453 is not available or not complete\n",
      "epsd2/admin/u3adm/P478296 is not available or not complete\n",
      "epsd2/admin/u3adm/P478305 is not available or not complete\n"
     ]
    },
    {
     "name": "stderr",
     "output_type": "stream",
     "text": [
      " 40%|███▉      | 28508/71496 [00:29<00:40, 1057.18it/s]"
     ]
    },
    {
     "name": "stdout",
     "output_type": "stream",
     "text": [
      "epsd2/admin/u3adm/P512115 is not available or not complete\n",
      "epsd2/admin/u3adm/P512099 is not available or not complete\n"
     ]
    },
    {
     "name": "stderr",
     "output_type": "stream",
     "text": [
      " 40%|████      | 28826/71496 [00:29<00:41, 1019.05it/s]"
     ]
    },
    {
     "name": "stdout",
     "output_type": "stream",
     "text": [
      "epsd2/admin/u3adm/P512160 is not available or not complete\n",
      "epsd2/admin/u3adm/P476055 is not available or not complete\n"
     ]
    },
    {
     "name": "stderr",
     "output_type": "stream",
     "text": [
      " 41%|████      | 29041/71496 [00:29<00:40, 1036.32it/s]"
     ]
    },
    {
     "name": "stdout",
     "output_type": "stream",
     "text": [
      "epsd2/admin/u3adm/P414563 is not available or not complete\n",
      "epsd2/admin/u3adm/P322406 is not available or not complete\n",
      "epsd2/admin/u3adm/P139506 is not available or not complete\n",
      "epsd2/admin/u3adm/P511629 is not available or not complete\n"
     ]
    },
    {
     "name": "stderr",
     "output_type": "stream",
     "text": [
      " 41%|████▏     | 29623/71496 [00:30<00:38, 1089.61it/s]"
     ]
    },
    {
     "name": "stdout",
     "output_type": "stream",
     "text": [
      "epsd2/admin/u3adm/P109080 is not available or not complete\n",
      "epsd2/admin/u3adm/P511910 is not available or not complete\n"
     ]
    },
    {
     "name": "stderr",
     "output_type": "stream",
     "text": [
      " 42%|████▏     | 29852/71496 [00:30<00:38, 1082.67it/s]"
     ]
    },
    {
     "name": "stdout",
     "output_type": "stream",
     "text": [
      "epsd2/admin/u3adm/P109095 is not available or not complete\n",
      "epsd2/admin/u3adm/P476087 is not available or not complete\n"
     ]
    },
    {
     "name": "stderr",
     "output_type": "stream",
     "text": [
      "\r",
      " 42%|████▏     | 29961/71496 [00:30<00:39, 1061.56it/s]"
     ]
    },
    {
     "name": "stdout",
     "output_type": "stream",
     "text": [
      "epsd2/admin/u3adm/P114148 is not available or not complete\n",
      "epsd2/admin/u3adm/P512145 is not available or not complete\n",
      "epsd2/admin/u3adm/P511416 is not available or not complete\n",
      "epsd2/admin/u3adm/P109097 is not available or not complete\n"
     ]
    },
    {
     "name": "stderr",
     "output_type": "stream",
     "text": [
      " 42%|████▏     | 30176/71496 [00:31<00:51, 802.28it/s] "
     ]
    },
    {
     "name": "stdout",
     "output_type": "stream",
     "text": [
      "epsd2/admin/u3adm/P511865 is not available or not complete\n"
     ]
    },
    {
     "name": "stderr",
     "output_type": "stream",
     "text": [
      " 43%|████▎     | 30459/71496 [00:31<00:47, 865.67it/s]"
     ]
    },
    {
     "name": "stdout",
     "output_type": "stream",
     "text": [
      "epsd2/admin/u3adm/P474551 is not available or not complete\n",
      "epsd2/admin/u3adm/P511614 is not available or not complete\n"
     ]
    },
    {
     "name": "stderr",
     "output_type": "stream",
     "text": [
      " 43%|████▎     | 30639/71496 [00:31<00:50, 808.93it/s]"
     ]
    },
    {
     "name": "stdout",
     "output_type": "stream",
     "text": [
      "epsd2/admin/u3adm/P512148 is not available or not complete\n",
      "epsd2/admin/u3adm/P474553 is not available or not complete\n",
      "epsd2/admin/u3adm/P512130 is not available or not complete\n",
      "epsd2/admin/u3adm/P105297 is not available or not complete\n",
      "epsd2/admin/u3adm/P511985 is not available or not complete\n"
     ]
    },
    {
     "name": "stderr",
     "output_type": "stream",
     "text": [
      " 43%|████▎     | 30814/71496 [00:31<00:49, 815.77it/s]"
     ]
    },
    {
     "name": "stdout",
     "output_type": "stream",
     "text": [
      "epsd2/admin/u3adm/P109118 is not available or not complete\n",
      "epsd2/admin/u3adm/P511456 is not available or not complete\n",
      "epsd2/admin/u3adm/P414524 is not available or not complete\n"
     ]
    },
    {
     "name": "stderr",
     "output_type": "stream",
     "text": [
      " 44%|████▍     | 31458/71496 [00:32<00:42, 945.35it/s]"
     ]
    },
    {
     "name": "stdout",
     "output_type": "stream",
     "text": [
      "epsd2/admin/u3adm/P113246 is not available or not complete\n",
      "epsd2/admin/u3adm/P248913 is not available or not complete\n",
      "epsd2/admin/u3adm/P511630 is not available or not complete\n",
      "epsd2/admin/u3adm/P474549 is not available or not complete\n",
      "epsd2/admin/u3adm/P511954 is not available or not complete\n",
      "epsd2/admin/u3adm/P249111 is not available or not complete\n",
      "epsd2/admin/u3adm/P414566 is not available or not complete\n",
      "epsd2/admin/u3adm/P109111 is not available or not complete\n"
     ]
    },
    {
     "name": "stderr",
     "output_type": "stream",
     "text": [
      " 44%|████▍     | 31776/71496 [00:32<00:39, 1001.77it/s]"
     ]
    },
    {
     "name": "stdout",
     "output_type": "stream",
     "text": [
      "epsd2/admin/u3adm/P512127 is not available or not complete\n",
      "epsd2/admin/u3adm/P476053 is not available or not complete\n",
      "epsd2/admin/u3adm/P511415 is not available or not complete\n",
      "epsd2/admin/u3adm/P112316 is not available or not complete\n",
      "epsd2/admin/u3adm/P477696 is not available or not complete"
     ]
    },
    {
     "name": "stderr",
     "output_type": "stream",
     "text": [
      " 45%|████▍     | 31994/71496 [00:33<00:43, 914.99it/s] "
     ]
    },
    {
     "name": "stdout",
     "output_type": "stream",
     "text": [
      "\n",
      "epsd2/admin/u3adm/P109127 is not available or not complete\n",
      "epsd2/admin/u3adm/P512091 is not available or not complete\n",
      "epsd2/admin/u3adm/P114146 is not available or not complete\n",
      "epsd2/admin/u3adm/P511404 is not available or not complete\n",
      "epsd2/admin/u3adm/P332487 is not available or not complete\n",
      "epsd2/admin/u3adm/P474555 is not available or not complete\n"
     ]
    },
    {
     "name": "stderr",
     "output_type": "stream",
     "text": [
      " 45%|████▌     | 32309/71496 [00:33<00:40, 974.68it/s]"
     ]
    },
    {
     "name": "stdout",
     "output_type": "stream",
     "text": [
      "epsd2/admin/u3adm/P476079 is not available or not complete\n",
      "epsd2/admin/u3adm/P109122 is not available or not complete\n",
      "epsd2/admin/u3adm/P512125 is not available or not complete\n"
     ]
    },
    {
     "name": "stderr",
     "output_type": "stream",
     "text": [
      " 46%|████▌     | 32640/71496 [00:33<00:41, 942.43it/s] "
     ]
    },
    {
     "name": "stdout",
     "output_type": "stream",
     "text": [
      "epsd2/admin/u3adm/P512143 is not available or not complete\n",
      "epsd2/admin/u3adm/P478310 is not available or not complete\n",
      "epsd2/admin/u3adm/P511958 is not available or not complete\n"
     ]
    },
    {
     "name": "stderr",
     "output_type": "stream",
     "text": [
      " 46%|████▋     | 33203/71496 [00:34<00:36, 1038.12it/s]"
     ]
    },
    {
     "name": "stdout",
     "output_type": "stream",
     "text": [
      "epsd2/admin/u3adm/P511440 is not available or not complete\n",
      "epsd2/admin/u3adm/P477694 is not available or not complete\n",
      "epsd2/admin/u3adm/P511984 is not available or not complete\n"
     ]
    },
    {
     "name": "stderr",
     "output_type": "stream",
     "text": [
      " 47%|████▋     | 33436/71496 [00:34<00:42, 896.66it/s] "
     ]
    },
    {
     "name": "stdout",
     "output_type": "stream",
     "text": [
      "epsd2/admin/u3adm/P477693 is not available or not complete\n",
      "epsd2/admin/u3adm/P511474 is not available or not complete\n",
      "epsd2/admin/u3adm/P478278 is not available or not complete\n",
      "epsd2/admin/u3adm/P414522 is not available or not complete\n",
      "epsd2/admin/u3adm/P454532 is not available or not complete\n"
     ]
    },
    {
     "name": "stderr",
     "output_type": "stream",
     "text": [
      " 47%|████▋     | 33642/71496 [00:34<00:40, 929.74it/s]"
     ]
    },
    {
     "name": "stdout",
     "output_type": "stream",
     "text": [
      "epsd2/admin/u3adm/P430677 is not available or not complete\n"
     ]
    },
    {
     "name": "stderr",
     "output_type": "stream",
     "text": [
      " 47%|████▋     | 33958/71496 [00:35<00:37, 998.86it/s]"
     ]
    },
    {
     "name": "stdout",
     "output_type": "stream",
     "text": [
      "epsd2/admin/u3adm/P105310 is not available or not complete\n",
      "epsd2/admin/u3adm/P511977 is not available or not complete\n",
      "epsd2/admin/u3adm/P414551 is not available or not complete\n"
     ]
    },
    {
     "name": "stderr",
     "output_type": "stream",
     "text": [
      " 48%|████▊     | 34186/71496 [00:35<00:38, 966.32it/s] "
     ]
    },
    {
     "name": "stdout",
     "output_type": "stream",
     "text": [
      "epsd2/admin/u3adm/P114182 is not available or not complete\n",
      "epsd2/admin/u3adm/P511599 is not available or not complete\n",
      "epsd2/admin/u3adm/P511918 is not available or not complete\n",
      "epsd2/admin/u3adm/P511581 is not available or not complete\n",
      "epsd2/admin/u3adm/P414520 is not available or not complete\n"
     ]
    },
    {
     "name": "stderr",
     "output_type": "stream",
     "text": [
      " 48%|████▊     | 34502/71496 [00:35<00:37, 981.57it/s]"
     ]
    },
    {
     "name": "stdout",
     "output_type": "stream",
     "text": [
      "epsd2/admin/u3adm/P105362 is not available or not complete\n",
      "epsd2/admin/u3adm/P478281 is not available or not complete\n",
      "epsd2/admin/u3adm/P511602 is not available or not complete\n"
     ]
    },
    {
     "name": "stderr",
     "output_type": "stream",
     "text": [
      " 49%|████▊     | 34834/71496 [00:36<00:34, 1055.43it/s]"
     ]
    },
    {
     "name": "stdout",
     "output_type": "stream",
     "text": [
      "epsd2/admin/u3adm/P511930 is not available or not complete\n",
      "epsd2/admin/u3adm/P477687 is not available or not complete\n"
     ]
    },
    {
     "name": "stderr",
     "output_type": "stream",
     "text": [
      " 49%|████▉     | 35082/71496 [00:36<00:32, 1129.31it/s]"
     ]
    },
    {
     "name": "stdout",
     "output_type": "stream",
     "text": [
      "epsd2/admin/u3adm/P511920 is not available or not complete\n",
      "epsd2/admin/u3adm/P511964 is not available or not complete\n",
      "epsd2/admin/u3adm/P476081 is not available or not complete\n"
     ]
    },
    {
     "name": "stderr",
     "output_type": "stream",
     "text": [
      " 50%|████▉     | 35420/71496 [00:36<00:35, 1013.13it/s]"
     ]
    },
    {
     "name": "stdout",
     "output_type": "stream",
     "text": [
      "epsd2/admin/u3adm/P511957 is not available or not complete\n",
      "epsd2/admin/u3adm/P511546 is not available or not complete"
     ]
    },
    {
     "name": "stderr",
     "output_type": "stream",
     "text": [
      " 50%|████▉     | 35745/71496 [00:36<00:33, 1059.18it/s]"
     ]
    },
    {
     "name": "stdout",
     "output_type": "stream",
     "text": [
      "\n",
      "epsd2/admin/u3adm/P511981 is not available or not complete\n"
     ]
    },
    {
     "name": "stderr",
     "output_type": "stream",
     "text": [
      " 50%|█████     | 36081/71496 [00:37<00:32, 1091.51it/s]"
     ]
    },
    {
     "name": "stdout",
     "output_type": "stream",
     "text": [
      "epsd2/admin/u3adm/P511450 is not available or not complete\n",
      "epsd2/admin/u3adm/P114179 is not available or not complete\n",
      "epsd2/admin/u3adm/P511594 is not available or not complete\n",
      "epsd2/admin/u3adm/P361749 is not available or not complete\n"
     ]
    },
    {
     "name": "stderr",
     "output_type": "stream",
     "text": [
      " 51%|█████     | 36304/71496 [00:37<00:33, 1058.97it/s]"
     ]
    },
    {
     "name": "stdout",
     "output_type": "stream",
     "text": [
      "epsd2/admin/u3adm/P476070 is not available or not complete\n",
      "epsd2/admin/u3adm/P114150 is not available or not complete\n",
      "epsd2/admin/u3adm/P476072 is not available or not complete\n"
     ]
    },
    {
     "name": "stderr",
     "output_type": "stream",
     "text": [
      " 51%|█████▏    | 36741/71496 [00:37<00:32, 1053.90it/s]"
     ]
    },
    {
     "name": "stdout",
     "output_type": "stream",
     "text": [
      "epsd2/admin/u3adm/P109128 is not available or not complete\n"
     ]
    },
    {
     "name": "stderr",
     "output_type": "stream",
     "text": [
      " 52%|█████▏    | 37213/71496 [00:38<00:33, 1019.59it/s]"
     ]
    },
    {
     "name": "stdout",
     "output_type": "stream",
     "text": [
      "epsd2/admin/u3adm/P511929 is not available or not complete\n",
      "epsd2/admin/u3adm/P511578 is not available or not complete\n",
      "epsd2/admin/u3adm/P511542 is not available or not complete\n",
      "epsd2/admin/u3adm/P511858 is not available or not complete\n"
     ]
    },
    {
     "name": "stderr",
     "output_type": "stream",
     "text": [
      " 53%|█████▎    | 37679/71496 [00:38<00:41, 813.94it/s] "
     ]
    },
    {
     "name": "stdout",
     "output_type": "stream",
     "text": [
      "epsd2/admin/u3adm/P511908 is not available or not complete\n",
      "epsd2/admin/u3adm/P478298 is not available or not complete\n"
     ]
    },
    {
     "name": "stderr",
     "output_type": "stream",
     "text": [
      " 53%|█████▎    | 37893/71496 [00:39<00:36, 921.75it/s]"
     ]
    },
    {
     "name": "stdout",
     "output_type": "stream",
     "text": [
      "epsd2/admin/u3adm/P474554 is not available or not complete\n",
      "epsd2/admin/u3adm/P511874 is not available or not complete\n",
      "epsd2/admin/u3adm/P511904 is not available or not complete\n",
      "epsd2/admin/u3adm/P512155 is not available or not complete\n"
     ]
    },
    {
     "name": "stderr",
     "output_type": "stream",
     "text": [
      " 53%|█████▎    | 38229/71496 [00:39<00:33, 1005.03it/s]"
     ]
    },
    {
     "name": "stdout",
     "output_type": "stream",
     "text": [
      "epsd2/admin/u3adm/P139508 is not available or not complete\n",
      "epsd2/admin/u3adm/P497672 is not available or not complete\n"
     ]
    },
    {
     "name": "stderr",
     "output_type": "stream",
     "text": [
      " 54%|█████▍    | 38449/71496 [00:39<00:32, 1015.12it/s]"
     ]
    },
    {
     "name": "stdout",
     "output_type": "stream",
     "text": [
      "epsd2/admin/u3adm/P112317 is not available or not complete\n",
      "epsd2/admin/u3adm/P511585 is not available or not complete\n"
     ]
    },
    {
     "name": "stderr",
     "output_type": "stream",
     "text": [
      " 54%|█████▍    | 38799/71496 [00:39<00:29, 1106.27it/s]"
     ]
    },
    {
     "name": "stdout",
     "output_type": "stream",
     "text": [
      "epsd2/admin/u3adm/P200536 is not available or not complete\n",
      "epsd2/admin/u3adm/P414527 is not available or not complete\n",
      "epsd2/admin/u3adm/P511855 is not available or not complete\n"
     ]
    },
    {
     "name": "stderr",
     "output_type": "stream",
     "text": [
      " 55%|█████▍    | 39142/71496 [00:40<00:28, 1117.67it/s]"
     ]
    },
    {
     "name": "stdout",
     "output_type": "stream",
     "text": [
      "epsd2/admin/u3adm/P103265 is not available or not complete\n",
      "epsd2/admin/u3adm/P109104 is not available or not complete\n",
      "epsd2/admin/u3adm/P109107 is not available or not complete\n"
     ]
    },
    {
     "name": "stderr",
     "output_type": "stream",
     "text": [
      " 55%|█████▌    | 39605/71496 [00:40<00:30, 1035.90it/s]"
     ]
    },
    {
     "name": "stdout",
     "output_type": "stream",
     "text": [
      "epsd2/admin/u3adm/P511549 is not available or not complete\n",
      "epsd2/admin/u3adm/P512123 is not available or not complete\n",
      "epsd2/admin/u3adm/P511986 is not available or not complete\n",
      "epsd2/admin/u3adm/P474533 is not available or not complete\n",
      "epsd2/admin/u3adm/P430676 is not available or not complete\n",
      "epsd2/admin/u3adm/P511894 is not available or not complete\n",
      "epsd2/admin/u3adm/P474528 is not available or not complete\n"
     ]
    },
    {
     "name": "stderr",
     "output_type": "stream",
     "text": [
      " 56%|█████▌    | 40044/71496 [00:41<00:29, 1069.00it/s]"
     ]
    },
    {
     "name": "stdout",
     "output_type": "stream",
     "text": [
      "epsd2/admin/u3adm/P474556 is not available or not complete\n",
      "epsd2/admin/u3adm/P511948 is not available or not complete\n",
      "epsd2/admin/u3adm/P511967 is not available or not complete\n"
     ]
    },
    {
     "name": "stderr",
     "output_type": "stream",
     "text": [
      " 56%|█████▋    | 40281/71496 [00:41<00:29, 1066.30it/s]"
     ]
    },
    {
     "name": "stdout",
     "output_type": "stream",
     "text": [
      "epsd2/admin/u3adm/P511568 is not available or not complete\n",
      "epsd2/admin/u3adm/P109117 is not available or not complete\n",
      "epsd2/admin/u3adm/P474537 is not available or not complete\n",
      "epsd2/admin/u3adm/P105308 is not available or not complete\n"
     ]
    },
    {
     "name": "stderr",
     "output_type": "stream",
     "text": [
      " 57%|█████▋    | 40639/71496 [00:41<00:27, 1125.30it/s]"
     ]
    },
    {
     "name": "stdout",
     "output_type": "stream",
     "text": [
      "epsd2/admin/u3adm/P333132 is not available or not complete\n"
     ]
    },
    {
     "name": "stderr",
     "output_type": "stream",
     "text": [
      " 57%|█████▋    | 40888/71496 [00:41<00:25, 1185.75it/s]"
     ]
    },
    {
     "name": "stdout",
     "output_type": "stream",
     "text": [
      "epsd2/admin/u3adm/P511411 is not available or not complete\n"
     ]
    },
    {
     "name": "stderr",
     "output_type": "stream",
     "text": [
      " 58%|█████▊    | 41264/71496 [00:42<00:26, 1151.46it/s]"
     ]
    },
    {
     "name": "stdout",
     "output_type": "stream",
     "text": [
      "epsd2/admin/u3adm/P105383 is not available or not complete\n"
     ]
    },
    {
     "name": "stderr",
     "output_type": "stream",
     "text": [
      " 58%|█████▊    | 41610/71496 [00:42<00:32, 920.28it/s] "
     ]
    },
    {
     "name": "stdout",
     "output_type": "stream",
     "text": [
      "epsd2/admin/u3adm/P474527 is not available or not complete\n",
      "epsd2/admin/u3adm/P414517 is not available or not complete\n"
     ]
    },
    {
     "name": "stderr",
     "output_type": "stream",
     "text": [
      " 59%|█████▊    | 41833/71496 [00:42<00:29, 995.12it/s]"
     ]
    },
    {
     "name": "stdout",
     "output_type": "stream",
     "text": [
      "epsd2/admin/u3adm/P511955 is not available or not complete\n",
      "epsd2/admin/u3adm/P430671 is not available or not complete\n",
      "epsd2/admin/u3adm/P511490 is not available or not complete\n",
      "epsd2/admin/u3adm/P477699 is not available or not complete\n"
     ]
    },
    {
     "name": "stderr",
     "output_type": "stream",
     "text": [
      " 59%|█████▉    | 42179/71496 [00:43<00:26, 1096.14it/s]"
     ]
    },
    {
     "name": "stdout",
     "output_type": "stream",
     "text": [
      "epsd2/admin/u3adm/P478285 is not available or not complete\n",
      "epsd2/admin/u3adm/P114142 is not available or not complete\n",
      "epsd2/admin/u3adm/P414532 is not available or not complete\n",
      "epsd2/admin/u3adm/P109085 is not available or not complete\n"
     ]
    },
    {
     "name": "stderr",
     "output_type": "stream",
     "text": [
      " 60%|█████▉    | 42560/71496 [00:43<00:24, 1168.86it/s]"
     ]
    },
    {
     "name": "stdout",
     "output_type": "stream",
     "text": [
      "epsd2/admin/u3adm/P511408 is not available or not complete\n",
      "epsd2/admin/u3adm/P474532 is not available or not complete\n"
     ]
    },
    {
     "name": "stderr",
     "output_type": "stream",
     "text": [
      " 60%|██████    | 42923/71496 [00:43<00:26, 1070.09it/s]"
     ]
    },
    {
     "name": "stdout",
     "output_type": "stream",
     "text": [
      "epsd2/admin/u3adm/P105551 is not available or not complete\n"
     ]
    },
    {
     "name": "stderr",
     "output_type": "stream",
     "text": [
      " 61%|██████    | 43264/71496 [00:44<00:26, 1076.52it/s]"
     ]
    },
    {
     "name": "stdout",
     "output_type": "stream",
     "text": [
      "epsd2/admin/u3adm/P511537 is not available or not complete\n",
      "epsd2/admin/u3adm/P511959 is not available or not complete\n"
     ]
    },
    {
     "name": "stderr",
     "output_type": "stream",
     "text": [
      " 61%|██████    | 43480/71496 [00:44<00:27, 1020.01it/s]"
     ]
    },
    {
     "name": "stdout",
     "output_type": "stream",
     "text": [
      "epsd2/admin/u3adm/P476060 is not available or not complete\n",
      "epsd2/admin/u3adm/P476080 is not available or not complete\n",
      "epsd2/admin/u3adm/P333130 is not available or not complete\n"
     ]
    },
    {
     "name": "stderr",
     "output_type": "stream",
     "text": [
      " 62%|██████▏   | 44036/71496 [00:44<00:26, 1049.23it/s]"
     ]
    },
    {
     "name": "stdout",
     "output_type": "stream",
     "text": [
      "epsd2/admin/u3adm/P105544 is not available or not complete\n",
      "epsd2/admin/u3adm/P511885 is not available or not complete\n",
      "epsd2/admin/u3adm/P497676 is not available or not complete\n",
      "epsd2/admin/u3adm/P511492 is not available or not complete\n"
     ]
    },
    {
     "name": "stderr",
     "output_type": "stream",
     "text": [
      " 62%|██████▏   | 44272/71496 [00:45<00:26, 1018.32it/s]"
     ]
    },
    {
     "name": "stdout",
     "output_type": "stream",
     "text": [
      "epsd2/admin/u3adm/P109124 is not available or not complete\n",
      "epsd2/admin/u3adm/P477700 is not available or not complete\n",
      "epsd2/admin/u3adm/P109106 is not available or not complete\n",
      "epsd2/admin/u3adm/P105304 is not available or not complete\n"
     ]
    },
    {
     "name": "stderr",
     "output_type": "stream",
     "text": [
      " 62%|██████▏   | 44475/71496 [00:45<00:29, 913.97it/s] "
     ]
    },
    {
     "name": "stdout",
     "output_type": "stream",
     "text": [
      "epsd2/admin/u3adm/P109131 is not available or not complete\n"
     ]
    },
    {
     "name": "stderr",
     "output_type": "stream",
     "text": [
      " 63%|██████▎   | 45194/71496 [00:46<00:23, 1109.69it/s]"
     ]
    },
    {
     "name": "stdout",
     "output_type": "stream",
     "text": [
      "epsd2/admin/u3adm/P511970 is not available or not complete\n",
      "epsd2/admin/u3adm/P414559 is not available or not complete\n",
      "epsd2/admin/u3adm/P511921 is not available or not complete\n",
      "epsd2/admin/u3adm/P474525 is not available or not complete\n",
      "epsd2/admin/u3adm/P512117 is not available or not complete\n",
      "epsd2/admin/u3adm/P497678 is not available or not complete\n",
      "epsd2/admin/u3adm/P109081 is not available or not complete\n"
     ]
    },
    {
     "name": "stderr",
     "output_type": "stream",
     "text": [
      " 64%|██████▎   | 45428/71496 [00:46<00:25, 1002.63it/s]"
     ]
    },
    {
     "name": "stdout",
     "output_type": "stream",
     "text": [
      "epsd2/admin/u3adm/P114178 is not available or not complete\n",
      "epsd2/admin/u3adm/P511424 is not available or not complete\n"
     ]
    },
    {
     "name": "stderr",
     "output_type": "stream",
     "text": [
      " 64%|██████▍   | 45639/71496 [00:46<00:26, 989.49it/s] "
     ]
    },
    {
     "name": "stdout",
     "output_type": "stream",
     "text": [
      "epsd2/admin/u3adm/P511426 is not available or not complete\n",
      "epsd2/admin/u3adm/P511523 is not available or not complete\n"
     ]
    },
    {
     "name": "stderr",
     "output_type": "stream",
     "text": [
      " 64%|██████▍   | 45855/71496 [00:46<00:28, 909.67it/s] "
     ]
    },
    {
     "name": "stdout",
     "output_type": "stream",
     "text": [
      "epsd2/admin/u3adm/P109119 is not available or not complete\n",
      "epsd2/admin/u3adm/P511483 is not available or not complete\n"
     ]
    },
    {
     "name": "stderr",
     "output_type": "stream",
     "text": [
      " 64%|██████▍   | 46044/71496 [00:46<00:28, 907.94it/s]"
     ]
    },
    {
     "name": "stdout",
     "output_type": "stream",
     "text": [
      "epsd2/admin/u3adm/P511437 is not available or not complete\n",
      "epsd2/admin/u3adm/P511932 is not available or not complete\n"
     ]
    },
    {
     "name": "stderr",
     "output_type": "stream",
     "text": [
      " 65%|██████▍   | 46373/71496 [00:47<00:24, 1011.66it/s]"
     ]
    },
    {
     "name": "stdout",
     "output_type": "stream",
     "text": [
      "epsd2/admin/u3adm/P478309 is not available or not complete\n",
      "epsd2/admin/u3adm/P511953 is not available or not complete\n",
      "epsd2/admin/u3adm/P476051 is not available or not complete\n",
      "epsd2/admin/u3adm/P476075 is not available or not complete\n",
      "epsd2/admin/u3adm/P474552 is not available or not complete\n",
      "epsd2/admin/u3adm/P512126 is not available or not complete\n"
     ]
    },
    {
     "name": "stderr",
     "output_type": "stream",
     "text": [
      " 65%|██████▌   | 46585/71496 [00:47<00:25, 963.25it/s] "
     ]
    },
    {
     "name": "stdout",
     "output_type": "stream",
     "text": [
      "epsd2/admin/u3adm/P511852 is not available or not complete\n",
      "epsd2/admin/u3adm/P512119 is not available or not complete\n"
     ]
    },
    {
     "name": "stderr",
     "output_type": "stream",
     "text": [
      " 66%|██████▌   | 46900/71496 [00:47<00:25, 948.09it/s]"
     ]
    },
    {
     "name": "stdout",
     "output_type": "stream",
     "text": [
      "epsd2/admin/u3adm/P478288 is not available or not complete\n",
      "epsd2/admin/u3adm/P109105 is not available or not complete\n"
     ]
    },
    {
     "name": "stderr",
     "output_type": "stream",
     "text": [
      " 66%|██████▌   | 47129/71496 [00:48<00:25, 939.00it/s] "
     ]
    },
    {
     "name": "stdout",
     "output_type": "stream",
     "text": [
      "epsd2/admin/u3adm/P330388 is not available or not complete\n",
      "epsd2/admin/u3adm/P511536 is not available or not complete\n",
      "epsd2/admin/u3adm/P476071 is not available or not complete\n"
     ]
    },
    {
     "name": "stderr",
     "output_type": "stream",
     "text": [
      " 66%|██████▌   | 47346/71496 [00:48<00:24, 972.25it/s]"
     ]
    },
    {
     "name": "stdout",
     "output_type": "stream",
     "text": [
      "epsd2/admin/u3adm/P112321 is not available or not complete\n",
      "epsd2/admin/u3adm/P476059 is not available or not complete\n",
      "epsd2/admin/u3adm/P511881 is not available or not complete\n",
      "epsd2/admin/u3adm/P497677 is not available or not complete\n"
     ]
    },
    {
     "name": "stderr",
     "output_type": "stream",
     "text": [
      " 67%|██████▋   | 47572/71496 [00:48<00:23, 1009.93it/s]"
     ]
    },
    {
     "name": "stdout",
     "output_type": "stream",
     "text": [
      "epsd2/admin/u3adm/P474543 is not available or not complete\n"
     ]
    },
    {
     "name": "stderr",
     "output_type": "stream",
     "text": [
      " 67%|██████▋   | 47905/71496 [00:48<00:26, 880.83it/s] "
     ]
    },
    {
     "name": "stdout",
     "output_type": "stream",
     "text": [
      "epsd2/admin/u3adm/P511944 is not available or not complete\n",
      "epsd2/admin/u3adm/P476717 is not available or not complete\n"
     ]
    },
    {
     "name": "stderr",
     "output_type": "stream",
     "text": [
      " 67%|██████▋   | 48217/71496 [00:49<00:24, 951.53it/s]"
     ]
    },
    {
     "name": "stdout",
     "output_type": "stream",
     "text": [
      "epsd2/admin/u3adm/P511971 is not available or not complete\n",
      "epsd2/admin/u3adm/P109130 is not available or not complete\n"
     ]
    },
    {
     "name": "stderr",
     "output_type": "stream",
     "text": [
      " 68%|██████▊   | 48427/71496 [00:49<00:23, 999.45it/s]"
     ]
    },
    {
     "name": "stdout",
     "output_type": "stream",
     "text": [
      "epsd2/admin/u3adm/P511968 is not available or not complete\n",
      "epsd2/admin/u3adm/P414570 is not available or not complete\n"
     ]
    },
    {
     "name": "stderr",
     "output_type": "stream",
     "text": [
      " 68%|██████▊   | 48649/71496 [00:49<00:22, 1019.09it/s]"
     ]
    },
    {
     "name": "stdout",
     "output_type": "stream",
     "text": [
      "epsd2/admin/u3adm/P478302 is not available or not complete\n",
      "epsd2/admin/u3adm/P512133 is not available or not complete\n"
     ]
    },
    {
     "name": "stderr",
     "output_type": "stream",
     "text": [
      " 69%|██████▉   | 49186/71496 [00:50<00:23, 945.34it/s] "
     ]
    },
    {
     "name": "stdout",
     "output_type": "stream",
     "text": [
      "epsd2/admin/u3adm/P476085 is not available or not complete\n",
      "epsd2/admin/u3adm/P474547 is not available or not complete\n"
     ]
    },
    {
     "name": "stderr",
     "output_type": "stream",
     "text": [
      " 69%|██████▉   | 49429/71496 [00:50<00:20, 1058.35it/s]"
     ]
    },
    {
     "name": "stdout",
     "output_type": "stream",
     "text": [
      "epsd2/admin/u3adm/P511942 is not available or not complete\n",
      "epsd2/admin/u3adm/P511429 is not available or not complete\n",
      "epsd2/admin/u3adm/P474546 is not available or not complete\n",
      "epsd2/admin/u3adm/P476052 is not available or not complete\n",
      "epsd2/admin/u3adm/P478304 is not available or not complete\n",
      "epsd2/admin/u3adm/P512161 is not available or not complete\n",
      "epsd2/admin/u3adm/P511457 is not available or not complete\n"
     ]
    },
    {
     "name": "stderr",
     "output_type": "stream",
     "text": [
      " 70%|██████▉   | 49777/71496 [00:50<00:20, 1035.01it/s]"
     ]
    },
    {
     "name": "stdout",
     "output_type": "stream",
     "text": [
      "epsd2/admin/u3adm/P476086 is not available or not complete\n",
      "epsd2/admin/u3adm/P512158 is not available or not complete\n"
     ]
    },
    {
     "name": "stderr",
     "output_type": "stream",
     "text": [
      " 70%|██████▉   | 49998/71496 [00:50<00:20, 1036.18it/s]"
     ]
    },
    {
     "name": "stdout",
     "output_type": "stream",
     "text": [
      "epsd2/admin/u3adm/P128551 is not available or not complete\n",
      "epsd2/admin/u3adm/P139505 is not available or not complete\n"
     ]
    },
    {
     "name": "stderr",
     "output_type": "stream",
     "text": [
      " 70%|███████   | 50208/71496 [00:51<00:21, 1008.71it/s]"
     ]
    },
    {
     "name": "stdout",
     "output_type": "stream",
     "text": [
      "epsd2/admin/u3adm/P105330 is not available or not complete\n",
      "epsd2/admin/u3adm/P414554 is not available or not complete\n",
      "epsd2/admin/u3adm/P478295 is not available or not complete\n",
      "epsd2/admin/u3adm/P511946 is not available or not complete\n"
     ]
    },
    {
     "name": "stderr",
     "output_type": "stream",
     "text": [
      " 71%|███████   | 50407/71496 [00:51<00:31, 673.90it/s] "
     ]
    },
    {
     "name": "stdout",
     "output_type": "stream",
     "text": [
      "epsd2/admin/u3adm/P477689 is not available or not complete\n"
     ]
    },
    {
     "name": "stderr",
     "output_type": "stream",
     "text": [
      " 71%|███████   | 50615/71496 [00:51<00:25, 810.96it/s]"
     ]
    },
    {
     "name": "stdout",
     "output_type": "stream",
     "text": [
      "epsd2/admin/u3adm/P511417 is not available or not complete\n",
      "epsd2/admin/u3adm/P511866 is not available or not complete\n"
     ]
    },
    {
     "name": "stderr",
     "output_type": "stream",
     "text": [
      " 71%|███████   | 50905/71496 [00:52<00:23, 883.92it/s]"
     ]
    },
    {
     "name": "stdout",
     "output_type": "stream",
     "text": [
      "epsd2/admin/u3adm/P511557 is not available or not complete\n",
      "epsd2/admin/u3adm/P511560 is not available or not complete\n"
     ]
    },
    {
     "name": "stderr",
     "output_type": "stream",
     "text": [
      " 71%|███████▏  | 51116/71496 [00:52<00:23, 879.69it/s]"
     ]
    },
    {
     "name": "stdout",
     "output_type": "stream",
     "text": [
      "epsd2/admin/u3adm/P476716 is not available or not complete\n",
      "epsd2/admin/u3adm/P511620 is not available or not complete\n"
     ]
    },
    {
     "name": "stderr",
     "output_type": "stream",
     "text": [
      " 72%|███████▏  | 51341/71496 [00:52<00:20, 987.14it/s]"
     ]
    },
    {
     "name": "stdout",
     "output_type": "stream",
     "text": [
      "epsd2/admin/u3adm/P512151 is not available or not complete\n",
      "epsd2/admin/u3adm/P512116 is not available or not complete\n"
     ]
    },
    {
     "name": "stderr",
     "output_type": "stream",
     "text": [
      " 72%|███████▏  | 51543/71496 [00:52<00:22, 883.71it/s]"
     ]
    },
    {
     "name": "stdout",
     "output_type": "stream",
     "text": [
      "epsd2/admin/u3adm/P474550 is not available or not complete\n"
     ]
    },
    {
     "name": "stderr",
     "output_type": "stream",
     "text": [
      " 72%|███████▏  | 51732/71496 [00:53<00:24, 821.75it/s]"
     ]
    },
    {
     "name": "stdout",
     "output_type": "stream",
     "text": [
      "epsd2/admin/u3adm/P113137 is not available or not complete\n",
      "epsd2/admin/u3adm/P511413 is not available or not complete\n"
     ]
    },
    {
     "name": "stderr",
     "output_type": "stream",
     "text": [
      "\r",
      " 72%|███████▏  | 51818/71496 [00:53<00:26, 731.45it/s]"
     ]
    },
    {
     "name": "stdout",
     "output_type": "stream",
     "text": [
      "epsd2/admin/u3adm/P511631 is not available or not complete\n",
      "epsd2/admin/u3adm/P109125 is not available or not complete\n",
      "epsd2/admin/u3adm/P511580 is not available or not complete\n"
     ]
    },
    {
     "name": "stderr",
     "output_type": "stream",
     "text": [
      " 73%|███████▎  | 52061/71496 [00:53<00:27, 695.51it/s]"
     ]
    },
    {
     "name": "stdout",
     "output_type": "stream",
     "text": [
      "epsd2/admin/u3adm/P511854 is not available or not complete\n"
     ]
    },
    {
     "name": "stderr",
     "output_type": "stream",
     "text": [
      " 73%|███████▎  | 52406/71496 [00:53<00:23, 824.39it/s]"
     ]
    },
    {
     "name": "stdout",
     "output_type": "stream",
     "text": [
      "epsd2/admin/u3adm/P511590 is not available or not complete\n",
      "epsd2/admin/u3adm/P114145 is not available or not complete\n",
      "epsd2/admin/u3adm/P511451 is not available or not complete\n"
     ]
    },
    {
     "name": "stderr",
     "output_type": "stream",
     "text": [
      " 74%|███████▎  | 52701/71496 [00:54<00:20, 909.57it/s]"
     ]
    },
    {
     "name": "stdout",
     "output_type": "stream",
     "text": [
      "epsd2/admin/u3adm/P511903 is not available or not complete\n"
     ]
    },
    {
     "name": "stderr",
     "output_type": "stream",
     "text": [
      " 74%|███████▍  | 53202/71496 [00:55<00:26, 684.86it/s]"
     ]
    },
    {
     "name": "stdout",
     "output_type": "stream",
     "text": [
      "epsd2/admin/u3adm/P112320 is not available or not complete\n",
      "epsd2/admin/u3adm/P512104 is not available or not complete\n"
     ]
    },
    {
     "name": "stderr",
     "output_type": "stream",
     "text": [
      " 75%|███████▍  | 53519/71496 [00:55<00:24, 724.33it/s]"
     ]
    },
    {
     "name": "stdout",
     "output_type": "stream",
     "text": [
      "epsd2/admin/u3adm/P474559 is not available or not complete\n"
     ]
    },
    {
     "name": "stderr",
     "output_type": "stream",
     "text": [
      " 75%|███████▌  | 53686/71496 [00:55<00:23, 768.39it/s]"
     ]
    },
    {
     "name": "stdout",
     "output_type": "stream",
     "text": [
      "epsd2/admin/u3adm/P512105 is not available or not complete\n"
     ]
    },
    {
     "name": "stderr",
     "output_type": "stream",
     "text": [
      " 75%|███████▌  | 53933/71496 [00:56<00:22, 765.26it/s]"
     ]
    },
    {
     "name": "stdout",
     "output_type": "stream",
     "text": [
      "epsd2/admin/u3adm/P105543 is not available or not complete\n",
      "epsd2/admin/u3adm/P511940 is not available or not complete\n"
     ]
    },
    {
     "name": "stderr",
     "output_type": "stream",
     "text": [
      " 76%|███████▌  | 54418/71496 [00:56<00:22, 764.17it/s]"
     ]
    },
    {
     "name": "stdout",
     "output_type": "stream",
     "text": [
      "epsd2/admin/u3adm/P511553 is not available or not complete\n",
      "epsd2/admin/u3adm/P108847 is not available or not complete\n",
      "epsd2/admin/u3adm/P109094 is not available or not complete\n",
      "epsd2/admin/u3adm/P333129 is not available or not complete\n"
     ]
    },
    {
     "name": "stderr",
     "output_type": "stream",
     "text": [
      " 76%|███████▋  | 54583/71496 [00:56<00:22, 764.75it/s]"
     ]
    },
    {
     "name": "stdout",
     "output_type": "stream",
     "text": [
      "epsd2/admin/u3adm/P102530 is not available or not complete\n",
      "epsd2/admin/u3adm/P512135 is not available or not complete\n"
     ]
    },
    {
     "name": "stderr",
     "output_type": "stream",
     "text": [
      " 77%|███████▋  | 54742/71496 [00:57<00:21, 773.11it/s]"
     ]
    },
    {
     "name": "stdout",
     "output_type": "stream",
     "text": [
      "epsd2/admin/u3adm/P414525 is not available or not complete\n"
     ]
    },
    {
     "name": "stderr",
     "output_type": "stream",
     "text": [
      " 77%|███████▋  | 54905/71496 [00:57<00:21, 787.66it/s]"
     ]
    },
    {
     "name": "stdout",
     "output_type": "stream",
     "text": [
      "epsd2/admin/u3adm/P433131 is not available or not complete\n",
      "epsd2/admin/u3adm/P478292 is not available or not complete\n"
     ]
    },
    {
     "name": "stderr",
     "output_type": "stream",
     "text": [
      " 78%|███████▊  | 55410/71496 [00:57<00:20, 794.95it/s]"
     ]
    },
    {
     "name": "stdout",
     "output_type": "stream",
     "text": [
      "epsd2/admin/u3adm/P511605 is not available or not complete\n",
      "epsd2/admin/u3adm/P474545 is not available or not complete\n",
      "epsd2/admin/u3adm/P114315 is not available or not complete\n",
      "epsd2/admin/u3adm/P512129 is not available or not complete\n"
     ]
    },
    {
     "name": "stderr",
     "output_type": "stream",
     "text": [
      " 78%|███████▊  | 55650/71496 [00:58<00:21, 737.17it/s]"
     ]
    },
    {
     "name": "stdout",
     "output_type": "stream",
     "text": [
      "epsd2/admin/u3adm/P478312 is not available or not complete\n",
      "epsd2/admin/u3adm/P511907 is not available or not complete\n",
      "epsd2/admin/u3adm/P333128 is not available or not complete"
     ]
    },
    {
     "name": "stderr",
     "output_type": "stream",
     "text": [
      " 78%|███████▊  | 55884/71496 [00:58<00:22, 695.98it/s]"
     ]
    },
    {
     "name": "stdout",
     "output_type": "stream",
     "text": [
      "\n",
      "epsd2/admin/u3adm/P414534 is not available or not complete\n",
      "epsd2/admin/u3adm/P112796 is not available or not complete\n",
      "epsd2/admin/u3adm/P511992 is not available or not complete\n",
      "epsd2/admin/u3adm/P476715 is not available or not complete\n"
     ]
    },
    {
     "name": "stderr",
     "output_type": "stream",
     "text": [
      " 78%|███████▊  | 56049/71496 [00:58<00:20, 756.09it/s]"
     ]
    },
    {
     "name": "stdout",
     "output_type": "stream",
     "text": [
      "epsd2/admin/u3adm/P114147 is not available or not complete\n",
      "epsd2/admin/u3adm/P414526 is not available or not complete\n"
     ]
    },
    {
     "name": "stderr",
     "output_type": "stream",
     "text": [
      " 79%|███████▊  | 56273/71496 [00:59<00:23, 635.54it/s]"
     ]
    },
    {
     "name": "stdout",
     "output_type": "stream",
     "text": [
      "epsd2/admin/u3adm/P476064 is not available or not complete\n",
      "epsd2/admin/u3adm/P511550 is not available or not complete\n",
      "epsd2/admin/u3adm/P109098 is not available or not complete\n",
      "epsd2/admin/u3adm/P139507 is not available or not complete\n"
     ]
    },
    {
     "name": "stderr",
     "output_type": "stream",
     "text": [
      " 79%|███████▉  | 56596/71496 [00:59<00:18, 825.12it/s]"
     ]
    },
    {
     "name": "stdout",
     "output_type": "stream",
     "text": [
      "epsd2/admin/u3adm/P478303 is not available or not complete\n",
      "epsd2/admin/u3adm/P414567 is not available or not complete\n",
      "epsd2/admin/u3adm/P511856 is not available or not complete\n"
     ]
    },
    {
     "name": "stderr",
     "output_type": "stream",
     "text": [
      " 80%|████████  | 57298/71496 [01:00<00:16, 843.97it/s]"
     ]
    },
    {
     "name": "stdout",
     "output_type": "stream",
     "text": [
      "epsd2/admin/u3adm/P477688 is not available or not complete\n",
      "epsd2/admin/u3adm/P477697 is not available or not complete\n",
      "epsd2/admin/u3adm/P511863 is not available or not complete\n"
     ]
    },
    {
     "name": "stderr",
     "output_type": "stream",
     "text": [
      " 80%|████████  | 57485/71496 [01:00<00:15, 881.78it/s]"
     ]
    },
    {
     "name": "stdout",
     "output_type": "stream",
     "text": [
      "epsd2/admin/u3adm/P512128 is not available or not complete\n",
      "epsd2/admin/u3adm/P511436 is not available or not complete\n"
     ]
    },
    {
     "name": "stderr",
     "output_type": "stream",
     "text": [
      " 81%|████████  | 57663/71496 [01:00<00:17, 796.04it/s]"
     ]
    },
    {
     "name": "stdout",
     "output_type": "stream",
     "text": [
      "epsd2/admin/u3adm/P511556 is not available or not complete\n",
      "epsd2/admin/u3adm/P511458 is not available or not complete\n"
     ]
    },
    {
     "name": "stderr",
     "output_type": "stream",
     "text": [
      " 81%|████████  | 57910/71496 [01:01<00:17, 758.80it/s]"
     ]
    },
    {
     "name": "stdout",
     "output_type": "stream",
     "text": [
      "epsd2/admin/u3adm/P511430 is not available or not complete\n",
      "epsd2/admin/u3adm/P512142 is not available or not complete\n",
      "epsd2/admin/u3adm/P105381 is not available or not complete\n"
     ]
    },
    {
     "name": "stderr",
     "output_type": "stream",
     "text": [
      " 81%|████████▏ | 58204/71496 [01:01<00:19, 694.32it/s]"
     ]
    },
    {
     "name": "stdout",
     "output_type": "stream",
     "text": [
      "epsd2/admin/u3adm/P414568 is not available or not complete\n",
      "epsd2/admin/u3adm/P511972 is not available or not complete\n",
      "epsd2/admin/u3adm/P512098 is not available or not complete\n"
     ]
    },
    {
     "name": "stderr",
     "output_type": "stream",
     "text": [
      " 82%|████████▏ | 58501/71496 [01:02<00:19, 665.83it/s]"
     ]
    },
    {
     "name": "stdout",
     "output_type": "stream",
     "text": [
      "epsd2/admin/u3adm/P109126 is not available or not complete\n"
     ]
    },
    {
     "name": "stderr",
     "output_type": "stream",
     "text": [
      " 82%|████████▏ | 58801/71496 [01:02<00:18, 705.28it/s]"
     ]
    },
    {
     "name": "stdout",
     "output_type": "stream",
     "text": [
      "epsd2/admin/u3adm/P511875 is not available or not complete\n",
      "epsd2/admin/u3adm/P105306 is not available or not complete\n"
     ]
    },
    {
     "name": "stderr",
     "output_type": "stream",
     "text": [
      " 83%|████████▎ | 59046/71496 [01:02<00:16, 756.27it/s]"
     ]
    },
    {
     "name": "stdout",
     "output_type": "stream",
     "text": [
      "epsd2/admin/u3adm/P511857 is not available or not complete\n",
      "epsd2/admin/u3adm/P105422 is not available or not complete\n"
     ]
    },
    {
     "name": "stderr",
     "output_type": "stream",
     "text": [
      " 83%|████████▎ | 59454/71496 [01:03<00:18, 666.23it/s]"
     ]
    },
    {
     "name": "stdout",
     "output_type": "stream",
     "text": [
      "epsd2/admin/u3adm/P105454 is not available or not complete\n",
      "epsd2/admin/u3adm/P114177 is not available or not complete\n",
      "epsd2/admin/u3adm/P511454 is not available or not complete\n",
      "epsd2/admin/u3adm/P511982 is not available or not complete\n"
     ]
    },
    {
     "name": "stderr",
     "output_type": "stream",
     "text": [
      " 84%|████████▎ | 59721/71496 [01:03<00:14, 793.29it/s]"
     ]
    },
    {
     "name": "stdout",
     "output_type": "stream",
     "text": [
      "epsd2/admin/u3adm/P511409 is not available or not complete\n",
      "epsd2/admin/u3adm/P109110 is not available or not complete\n"
     ]
    },
    {
     "name": "stderr",
     "output_type": "stream",
     "text": [
      " 84%|████████▍ | 59896/71496 [01:04<00:14, 821.95it/s]"
     ]
    },
    {
     "name": "stdout",
     "output_type": "stream",
     "text": [
      "epsd2/admin/u3adm/P478300 is not available or not complete\n",
      "epsd2/admin/u3adm/P476068 is not available or not complete\n",
      "epsd2/admin/u3adm/P109116 is not available or not complete\n",
      "epsd2/admin/u3adm/P512139 is not available or not complete\n",
      "epsd2/admin/u3adm/P109108 is not available or not complete\n"
     ]
    },
    {
     "name": "stderr",
     "output_type": "stream",
     "text": [
      " 84%|████████▍ | 60162/71496 [01:04<00:13, 824.75it/s]"
     ]
    },
    {
     "name": "stdout",
     "output_type": "stream",
     "text": [
      "epsd2/admin/u3adm/P511468 is not available or not complete\n",
      "epsd2/admin/u3adm/P512124 is not available or not complete\n",
      "epsd2/admin/u3adm/P455737 is not available or not complete\n"
     ]
    },
    {
     "name": "stderr",
     "output_type": "stream",
     "text": [
      " 84%|████████▍ | 60346/71496 [01:04<00:14, 785.99it/s]"
     ]
    },
    {
     "name": "stdout",
     "output_type": "stream",
     "text": [
      "epsd2/admin/u3adm/P512120 is not available or not complete\n",
      "epsd2/admin/u3adm/P511588 is not available or not complete\n"
     ]
    },
    {
     "name": "stderr",
     "output_type": "stream",
     "text": [
      " 85%|████████▍ | 60577/71496 [01:05<00:15, 689.96it/s]"
     ]
    },
    {
     "name": "stdout",
     "output_type": "stream",
     "text": [
      "epsd2/admin/u3adm/P474540 is not available or not complete\n",
      "epsd2/admin/u3adm/P511472 is not available or not complete\n",
      "epsd2/admin/u3adm/P511923 is not available or not complete\n"
     ]
    },
    {
     "name": "stderr",
     "output_type": "stream",
     "text": [
      " 85%|████████▌ | 60919/71496 [01:05<00:13, 789.41it/s]"
     ]
    },
    {
     "name": "stdout",
     "output_type": "stream",
     "text": [
      "epsd2/admin/u3adm/P511962 is not available or not complete\n"
     ]
    },
    {
     "name": "stderr",
     "output_type": "stream",
     "text": [
      " 86%|████████▌ | 61526/71496 [01:06<00:16, 603.84it/s]"
     ]
    },
    {
     "name": "stdout",
     "output_type": "stream",
     "text": [
      "epsd2/admin/u3adm/P478306 is not available or not complete\n"
     ]
    },
    {
     "name": "stderr",
     "output_type": "stream",
     "text": [
      " 87%|████████▋ | 61936/71496 [01:07<00:14, 676.43it/s]"
     ]
    },
    {
     "name": "stdout",
     "output_type": "stream",
     "text": [
      "epsd2/admin/u3adm/P105265 is not available or not complete\n",
      "epsd2/admin/u3adm/P109112 is not available or not complete\n"
     ]
    },
    {
     "name": "stderr",
     "output_type": "stream",
     "text": [
      " 87%|████████▋ | 62253/71496 [01:07<00:10, 872.58it/s]"
     ]
    },
    {
     "name": "stdout",
     "output_type": "stream",
     "text": [
      "epsd2/admin/u3adm/P109101 is not available or not complete\n",
      "epsd2/admin/u3adm/P504807 is not available or not complete\n"
     ]
    },
    {
     "name": "stderr",
     "output_type": "stream",
     "text": [
      " 87%|████████▋ | 62435/71496 [01:07<00:11, 817.24it/s]"
     ]
    },
    {
     "name": "stdout",
     "output_type": "stream",
     "text": [
      "epsd2/admin/u3adm/P114144 is not available or not complete\n",
      "epsd2/admin/u3adm/P109120 is not available or not complete\n",
      "epsd2/admin/u3adm/P511600 is not available or not complete\n",
      "epsd2/admin/u3adm/P414549 is not available or not complete\n"
     ]
    },
    {
     "name": "stderr",
     "output_type": "stream",
     "text": [
      " 88%|████████▊ | 62839/71496 [01:08<00:09, 955.10it/s]"
     ]
    },
    {
     "name": "stdout",
     "output_type": "stream",
     "text": [
      "epsd2/admin/u3adm/P477690 is not available or not complete\n",
      "epsd2/admin/u3adm/P298522 is not available or not complete\n"
     ]
    },
    {
     "name": "stderr",
     "output_type": "stream",
     "text": [
      "\r",
      " 88%|████████▊ | 62941/71496 [01:08<00:09, 884.78it/s]"
     ]
    },
    {
     "name": "stdout",
     "output_type": "stream",
     "text": [
      "epsd2/admin/u3adm/P511403 is not available or not complete\n"
     ]
    },
    {
     "name": "stderr",
     "output_type": "stream",
     "text": [
      " 88%|████████▊ | 63131/71496 [01:08<00:12, 647.56it/s]"
     ]
    },
    {
     "name": "stdout",
     "output_type": "stream",
     "text": [
      "epsd2/admin/u3adm/P474526 is not available or not complete\n",
      "epsd2/admin/u3adm/P112319 is not available or not complete\n",
      "epsd2/admin/u3adm/P511626 is not available or not complete\n",
      "epsd2/admin/u3adm/P331067 is not available or not complete\n"
     ]
    },
    {
     "name": "stderr",
     "output_type": "stream",
     "text": [
      " 89%|████████▉ | 63505/71496 [01:09<00:09, 847.40it/s]"
     ]
    },
    {
     "name": "stdout",
     "output_type": "stream",
     "text": [
      "epsd2/admin/u3adm/P114183 is not available or not complete\n",
      "epsd2/admin/u3adm/P109092 is not available or not complete\n",
      "epsd2/admin/u3adm/P512112 is not available or not complete\n"
     ]
    },
    {
     "name": "stderr",
     "output_type": "stream",
     "text": [
      " 89%|████████▉ | 63816/71496 [01:09<00:08, 937.34it/s]"
     ]
    },
    {
     "name": "stdout",
     "output_type": "stream",
     "text": [
      "epsd2/admin/u3adm/P511922 is not available or not complete\n"
     ]
    },
    {
     "name": "stderr",
     "output_type": "stream",
     "text": [
      " 90%|████████▉ | 64058/71496 [01:09<00:07, 1050.37it/s]"
     ]
    },
    {
     "name": "stdout",
     "output_type": "stream",
     "text": [
      "epsd2/admin/u3adm/P511428 is not available or not complete\n"
     ]
    },
    {
     "name": "stderr",
     "output_type": "stream",
     "text": [
      " 90%|█████████ | 64573/71496 [01:10<00:07, 914.50it/s] "
     ]
    },
    {
     "name": "stdout",
     "output_type": "stream",
     "text": [
      "epsd2/admin/u3adm/P414556 is not available or not complete\n"
     ]
    },
    {
     "name": "stderr",
     "output_type": "stream",
     "text": [
      " 91%|█████████ | 64854/71496 [01:10<00:08, 803.25it/s]"
     ]
    },
    {
     "name": "stdout",
     "output_type": "stream",
     "text": [
      "epsd2/admin/u3adm/P414558 is not available or not complete\n",
      "epsd2/admin/u3adm/P511624 is not available or not complete\n",
      "epsd2/admin/u3adm/P113128 is not available or not complete\n"
     ]
    },
    {
     "name": "stderr",
     "output_type": "stream",
     "text": [
      " 91%|█████████ | 65028/71496 [01:10<00:08, 806.83it/s]"
     ]
    },
    {
     "name": "stdout",
     "output_type": "stream",
     "text": [
      "epsd2/admin/u3adm/P108851 is not available or not complete\n",
      "epsd2/admin/u3adm/P476066 is not available or not complete\n",
      "epsd2/admin/u3adm/P511421 is not available or not complete\n"
     ]
    },
    {
     "name": "stderr",
     "output_type": "stream",
     "text": [
      " 91%|█████████▏| 65296/71496 [01:11<00:08, 733.16it/s]"
     ]
    },
    {
     "name": "stdout",
     "output_type": "stream",
     "text": [
      "epsd2/admin/u3adm/P511993 is not available or not complete\n",
      "epsd2/admin/u3adm/P105369 is not available or not complete\n"
     ]
    },
    {
     "name": "stderr",
     "output_type": "stream",
     "text": [
      " 92%|█████████▏| 65907/71496 [01:12<00:08, 691.00it/s]"
     ]
    },
    {
     "name": "stdout",
     "output_type": "stream",
     "text": [
      "epsd2/admin/u3adm/P511952 is not available or not complete\n"
     ]
    },
    {
     "name": "stderr",
     "output_type": "stream",
     "text": [
      " 92%|█████████▏| 66075/71496 [01:12<00:07, 679.75it/s]"
     ]
    },
    {
     "name": "stdout",
     "output_type": "stream",
     "text": [
      "epsd2/admin/u3adm/P511991 is not available or not complete\n",
      "epsd2/admin/u3adm/P478311 is not available or not complete\n",
      "epsd2/admin/u3adm/P108843 is not available or not complete\n"
     ]
    },
    {
     "name": "stderr",
     "output_type": "stream",
     "text": [
      " 93%|█████████▎| 66224/71496 [01:12<00:07, 710.99it/s]"
     ]
    },
    {
     "name": "stdout",
     "output_type": "stream",
     "text": [
      "epsd2/admin/u3adm/P511864 is not available or not complete\n",
      "epsd2/admin/u3adm/P114149 is not available or not complete\n",
      "epsd2/admin/u3adm/P512110 is not available or not complete\n",
      "epsd2/admin/u3adm/P333127 is not available or not complete\n",
      "epsd2/admin/u3adm/P511625 is not available or not complete\n"
     ]
    },
    {
     "name": "stderr",
     "output_type": "stream",
     "text": [
      " 93%|█████████▎| 66457/71496 [01:12<00:06, 742.31it/s]"
     ]
    },
    {
     "name": "stdout",
     "output_type": "stream",
     "text": [
      "epsd2/admin/u3adm/P474542 is not available or not complete\n"
     ]
    },
    {
     "name": "stderr",
     "output_type": "stream",
     "text": [
      " 93%|█████████▎| 66740/71496 [01:13<00:05, 813.72it/s]"
     ]
    },
    {
     "name": "stdout",
     "output_type": "stream",
     "text": [
      "epsd2/admin/u3adm/P114104 is not available or not complete\n",
      "epsd2/admin/u3adm/P476083 is not available or not complete\n"
     ]
    },
    {
     "name": "stderr",
     "output_type": "stream",
     "text": [
      " 94%|█████████▎| 66996/71496 [01:13<00:05, 815.40it/s]"
     ]
    },
    {
     "name": "stdout",
     "output_type": "stream",
     "text": [
      "epsd2/admin/u3adm/P414547 is not available or not complete\n"
     ]
    },
    {
     "name": "stderr",
     "output_type": "stream",
     "text": [
      " 94%|█████████▍| 67412/71496 [01:14<00:05, 746.64it/s]"
     ]
    },
    {
     "name": "stdout",
     "output_type": "stream",
     "text": [
      "epsd2/admin/u3adm/P511494 is not available or not complete\n",
      "epsd2/admin/u3adm/P511947 is not available or not complete\n"
     ]
    },
    {
     "name": "stderr",
     "output_type": "stream",
     "text": [
      " 95%|█████████▍| 67718/71496 [01:14<00:05, 709.02it/s]"
     ]
    },
    {
     "name": "stdout",
     "output_type": "stream",
     "text": [
      "epsd2/admin/u3adm/P430675 is not available or not complete\n"
     ]
    },
    {
     "name": "stderr",
     "output_type": "stream",
     "text": [
      " 95%|█████████▌| 68026/71496 [01:14<00:04, 741.00it/s]"
     ]
    },
    {
     "name": "stdout",
     "output_type": "stream",
     "text": [
      "epsd2/admin/u3adm/P512152 is not available or not complete\n",
      "epsd2/admin/u3adm/P512101 is not available or not complete\n"
     ]
    },
    {
     "name": "stderr",
     "output_type": "stream",
     "text": [
      " 96%|█████████▌| 68576/71496 [01:15<00:03, 829.52it/s]"
     ]
    },
    {
     "name": "stdout",
     "output_type": "stream",
     "text": [
      "epsd2/admin/u3adm/P511966 is not available or not complete\n",
      "epsd2/admin/u3adm/P414572 is not available or not complete\n"
     ]
    },
    {
     "name": "stderr",
     "output_type": "stream",
     "text": [
      " 96%|█████████▋| 68990/71496 [01:16<00:03, 737.62it/s]"
     ]
    },
    {
     "name": "stdout",
     "output_type": "stream",
     "text": [
      "epsd2/admin/u3adm/P512122 is not available or not complete\n",
      "epsd2/admin/u3adm/P114111 is not available or not complete\n",
      "epsd2/admin/u3adm/P511988 is not available or not complete\n"
     ]
    },
    {
     "name": "stderr",
     "output_type": "stream",
     "text": [
      " 97%|█████████▋| 69490/71496 [01:17<00:03, 653.64it/s]"
     ]
    },
    {
     "name": "stdout",
     "output_type": "stream",
     "text": [
      "epsd2/admin/u3adm/P512154 is not available or not complete\n",
      "epsd2/admin/u3adm/P511432 is not available or not complete\n",
      "epsd2/admin/u3adm/P511914 is not available or not complete\n",
      "epsd2/admin/u3adm/P476073 is not available or not complete\n"
     ]
    },
    {
     "name": "stderr",
     "output_type": "stream",
     "text": [
      " 97%|█████████▋| 69700/71496 [01:17<00:02, 792.58it/s]"
     ]
    },
    {
     "name": "stdout",
     "output_type": "stream",
     "text": [
      "epsd2/admin/u3adm/P512136 is not available or not complete\n",
      "epsd2/admin/u3adm/P477692 is not available or not complete\n",
      "epsd2/admin/u3adm/P478291 is not available or not complete\n",
      "epsd2/admin/u3adm/P414531 is not available or not complete\n"
     ]
    },
    {
     "name": "stderr",
     "output_type": "stream",
     "text": [
      " 98%|█████████▊| 69914/71496 [01:17<00:01, 908.38it/s]"
     ]
    },
    {
     "name": "stdout",
     "output_type": "stream",
     "text": [
      "epsd2/admin/u3adm/P478286 is not available or not complete\n",
      "epsd2/admin/u3adm/P512132 is not available or not complete\n",
      "epsd2/admin/u3adm/P113106 is not available or not complete\n",
      "epsd2/admin/u3adm/P105482 is not available or not complete\n"
     ]
    },
    {
     "name": "stderr",
     "output_type": "stream",
     "text": [
      " 98%|█████████▊| 70265/71496 [01:17<00:01, 739.11it/s]"
     ]
    },
    {
     "name": "stdout",
     "output_type": "stream",
     "text": [
      "epsd2/admin/u3adm/P511951 is not available or not complete\n",
      "epsd2/admin/u3adm/P109102 is not available or not complete\n",
      "epsd2/admin/u3adm/P331079 is not available or not complete\n"
     ]
    },
    {
     "name": "stderr",
     "output_type": "stream",
     "text": [
      " 99%|█████████▊| 70576/71496 [01:18<00:01, 727.96it/s]"
     ]
    },
    {
     "name": "stdout",
     "output_type": "stream",
     "text": [
      "epsd2/admin/u3adm/P512113 is not available or not complete\n",
      "epsd2/admin/u3adm/P511862 is not available or not complete\n",
      "epsd2/admin/u3adm/P511938 is not available or not complete\n"
     ]
    },
    {
     "name": "stderr",
     "output_type": "stream",
     "text": [
      " 99%|█████████▉| 70770/71496 [01:18<00:00, 834.08it/s]"
     ]
    },
    {
     "name": "stdout",
     "output_type": "stream",
     "text": [
      "epsd2/admin/u3adm/P476054 is not available or not complete\n"
     ]
    },
    {
     "name": "stderr",
     "output_type": "stream",
     "text": [
      " 99%|█████████▉| 71097/71496 [01:19<00:00, 752.51it/s]"
     ]
    },
    {
     "name": "stdout",
     "output_type": "stream",
     "text": [
      "epsd2/admin/u3adm/P512097 is not available or not complete\n",
      "epsd2/admin/u3adm/P511577 is not available or not complete\n",
      "epsd2/admin/u3adm/P511541 is not available or not complete\n"
     ]
    },
    {
     "name": "stderr",
     "output_type": "stream",
     "text": [
      "100%|█████████▉| 71347/71496 [01:19<00:00, 790.99it/s]"
     ]
    },
    {
     "name": "stdout",
     "output_type": "stream",
     "text": [
      "epsd2/admin/u3adm/P109086 is not available or not complete\n",
      "epsd2/admin/u3adm/P511470 is not available or not complete\n",
      "epsd2/admin/u3adm/P511479 is not available or not complete\n"
     ]
    },
    {
     "name": "stderr",
     "output_type": "stream",
     "text": [
      "100%|██████████| 71496/71496 [01:19<00:00, 898.01it/s]\n",
      "100%|██████████| 129/129 [00:00<00:00, 1307.92it/s]\n",
      "100%|██████████| 181/181 [00:00<00:00, 594.32it/s]\n",
      " 42%|████▏     | 594/1424 [00:00<00:01, 778.95it/s]"
     ]
    },
    {
     "name": "stdout",
     "output_type": "stream",
     "text": [
      "epsd2/admin/oldbab/P454327 is not available or not complete\n"
     ]
    },
    {
     "name": "stderr",
     "output_type": "stream",
     "text": [
      " 90%|████████▉ | 1278/1424 [00:01<00:00, 636.37it/s]"
     ]
    },
    {
     "name": "stdout",
     "output_type": "stream",
     "text": [
      "epsd2/admin/oldbab/P453296 is not available or not complete\n"
     ]
    },
    {
     "name": "stderr",
     "output_type": "stream",
     "text": [
      "100%|██████████| 1424/1424 [00:01<00:00, 735.96it/s]\n",
      "100%|██████████| 394/394 [00:05<00:00, 71.45it/s]\n",
      "0it [00:00, ?it/s]\n",
      "100%|██████████| 35/35 [00:00<00:00, 545.24it/s]\n",
      "100%|██████████| 1348/1348 [00:01<00:00, 1049.65it/s]\n",
      " 68%|██████▊   | 164/242 [00:00<00:00, 309.08it/s]"
     ]
    },
    {
     "name": "stdout",
     "output_type": "stream",
     "text": [
      "epsd2/praxis/P222388 is not available or not complete\n",
      "epsd2/praxis/P342998 is not available or not complete\n",
      "epsd2/praxis/P345800 is not available or not complete\n"
     ]
    },
    {
     "name": "stderr",
     "output_type": "stream",
     "text": [
      "100%|██████████| 242/242 [00:00<00:00, 344.86it/s]\n",
      "  0%|          | 0/4290 [00:00<?, ?it/s]"
     ]
    },
    {
     "name": "stdout",
     "output_type": "stream",
     "text": [
      "epsd2/praxis/P307377 is not available or not complete\n"
     ]
    },
    {
     "name": "stderr",
     "output_type": "stream",
     "text": [
      "100%|██████████| 4290/4290 [00:13<00:00, 321.53it/s]\n",
      "100%|██████████| 100/100 [00:00<00:00, 589.53it/s]\n",
      "100%|██████████| 92/92 [00:00<00:00, 1288.73it/s]\n",
      "100%|██████████| 397/397 [00:01<00:00, 237.60it/s]\n"
     ]
    }
   ],
   "source": [
    "all_ = []\n",
    "for project in p:\n",
    "    file = \"jsonzip/\" + project.replace(\"/\", \"-\") + \".zip\"\n",
    "    try:\n",
    "        z = zipfile.ZipFile(file)       # create a Zipfile object\n",
    "    except:\n",
    "        print(file + \" does not exist or is not a proper ZIP file\")\n",
    "        continue\n",
    "    files = z.namelist()     # list of all the files in the ZIP\n",
    "    files = [name for name in files if \"corpusjson\" in name and name[-5:] == '.json']                                                                                                  #that holds all the P, Q, and X numbers.\n",
    "    for filename in tqdm.tqdm(files):                            #iterate over the file names\n",
    "        id_text = project + filename[-13:-5] # id_text is, for instance, blms/P414332\n",
    "        try:\n",
    "            text = z.read(filename).decode('utf-8')         #read and decode the json file of one particular text\n",
    "        #    print(filename)\n",
    "            data_json = json.loads(text)                # make it into a json object (essentially a dictionary)\n",
    "            parsejson_signs(data_json)\n",
    "        except:\n",
    "            print(id_text + ' is not available or not complete')"
   ]
  },
  {
   "cell_type": "markdown",
   "metadata": {},
   "source": [
    "## 3 Data Structuring\n",
    "### 3.1 Transform the Data into a DataFrame\n"
   ]
  },
  {
   "cell_type": "code",
   "execution_count": 8,
   "metadata": {
    "collapsed": false
   },
   "outputs": [
    {
     "name": "stderr",
     "output_type": "stream",
     "text": [
      "100%|██████████| 4849121/4849121 [00:23<00:00, 205842.71it/s]\n"
     ]
    }
   ],
   "source": [
    "words_l = []\n",
    "word = []\n",
    "separators = ['{', '}', '-']\n",
    "separators2 = ['.', '+', '|']\n",
    "operators = ['&', '%', '@', '×']\n",
    "for e in tqdm.tqdm(all_):\n",
    "    word = []\n",
    "    for s in separators: # first split word into signs\n",
    "        e = e.replace(s, ' ').strip()\n",
    "    s_l = e.split()\n",
    "    for sign in s_l:\n",
    "        if sign[-1] == ')': # qualified sign - get only the qualifier\n",
    "            stack = []  # |GIŠ×(GIŠ%GIŠ)|(LAK277) becomes LAK277\n",
    "            ind = {}    # LAK277(|GIŠ×(GIŠ%GIŠ)|) becomes |GIŠ×(GIŠ%GIŠ)|\n",
    "            for i, c in reversed(list(enumerate(sign))):\n",
    "                if c == ')':\n",
    "                    stack.append(i)\n",
    "                if c == '(':\n",
    "                    ind[stack.pop()] = i\n",
    "            start = ind[len(sign)-1]\n",
    "            t = sign[start+1:-1]\n",
    "            if not t.islower():  # leave 1(diš) etc. alone.\n",
    "                sign = t\n",
    "        if '|' in sign:  # separate |DU.DU| and |DU+DU| into its components but not |DU&DU|\n",
    "                        # and also not |DU.DU&DU|\n",
    "            flag = False\n",
    "            for o in operators:\n",
    "                if o in e:\n",
    "                    flag = True\n",
    "            if not flag:\n",
    "                for s in separators2:\n",
    "                    sign = sign.replace(s, ' ').strip() \n",
    "                    sign_l = sign.split()\n",
    "                word.extend(sign_l)\n",
    "            continue\n",
    "        elif \"+\" in sign:  # + as marker of gloss\n",
    "            sign = sign.replace('+', ' ').strip()\n",
    "            sign_l = sign.split()\n",
    "            word.extend(sign_l)\n",
    "            continue\n",
    "        word.append(sign)\n",
    "    words_l.append(word)           "
   ]
  },
  {
   "cell_type": "code",
   "execution_count": 9,
   "metadata": {
    "collapsed": true
   },
   "outputs": [],
   "source": [
    "with open(\"output/ogsl.p\", \"rb\") as f:\n",
    "    o = pickle.load(f)"
   ]
  },
  {
   "cell_type": "code",
   "execution_count": 10,
   "metadata": {
    "collapsed": true
   },
   "outputs": [],
   "source": [
    "val = list(o[\"value\"])\n",
    "utf = list(o[\"utf8\"])\n",
    "names = list(o[\"name\"])"
   ]
  },
  {
   "cell_type": "code",
   "execution_count": 11,
   "metadata": {
    "collapsed": true
   },
   "outputs": [],
   "source": [
    "d = dict(zip(names, utf))\n",
    "d2 = dict(zip(val,names))"
   ]
  },
  {
   "cell_type": "code",
   "execution_count": 12,
   "metadata": {
    "collapsed": false
   },
   "outputs": [
    {
     "name": "stderr",
     "output_type": "stream",
     "text": [
      "100%|██████████| 4849121/4849121 [00:16<00:00, 300743.21it/s]\n"
     ]
    }
   ],
   "source": [
    "names_l = []\n",
    "utf8_l = []\n",
    "for w in tqdm.tqdm(words_l):\n",
    "    seq = [d2[s.lower()] if s.lower() in d2 else s for s in w]\n",
    "    names_l.append(seq)\n",
    "    utf8 = [d[n] if n in d else n for n in seq]\n",
    "    utf8_l.append(''.join(utf8))"
   ]
  },
  {
   "cell_type": "code",
   "execution_count": 13,
   "metadata": {
    "collapsed": false
   },
   "outputs": [
    {
     "data": {
      "text/html": [
       "<div>\n",
       "<table border=\"1\" class=\"dataframe\">\n",
       "  <thead>\n",
       "    <tr style=\"text-align: right;\">\n",
       "      <th></th>\n",
       "      <th>names</th>\n",
       "      <th>transliteration</th>\n",
       "      <th>utf-8</th>\n",
       "      <th>words</th>\n",
       "    </tr>\n",
       "  </thead>\n",
       "  <tbody>\n",
       "    <tr>\n",
       "      <th>0</th>\n",
       "      <td>[DIŠ]</td>\n",
       "      <td>1(barig@c)</td>\n",
       "      <td>𒁹</td>\n",
       "      <td>[1(barig@c)]</td>\n",
       "    </tr>\n",
       "    <tr>\n",
       "      <th>1</th>\n",
       "      <td>[ŠE]</td>\n",
       "      <td>še</td>\n",
       "      <td>𒊺</td>\n",
       "      <td>[še]</td>\n",
       "    </tr>\n",
       "    <tr>\n",
       "      <th>2</th>\n",
       "      <td>[BA, LUL]</td>\n",
       "      <td>ba-lul</td>\n",
       "      <td>𒁀𒈜</td>\n",
       "      <td>[ba, lul]</td>\n",
       "    </tr>\n",
       "    <tr>\n",
       "      <th>3</th>\n",
       "      <td>[NAGAR]</td>\n",
       "      <td>nagar</td>\n",
       "      <td>𒉄</td>\n",
       "      <td>[nagar]</td>\n",
       "    </tr>\n",
       "    <tr>\n",
       "      <th>4</th>\n",
       "      <td>[DIŠ]</td>\n",
       "      <td>1(barig@c)</td>\n",
       "      <td>𒁹</td>\n",
       "      <td>[1(barig@c)]</td>\n",
       "    </tr>\n",
       "    <tr>\n",
       "      <th>5</th>\n",
       "      <td>[GAR, |U.GUD|]</td>\n",
       "      <td>nig₂-du₇</td>\n",
       "      <td>𒃻𒌌</td>\n",
       "      <td>[nig₂, du₇]</td>\n",
       "    </tr>\n",
       "    <tr>\n",
       "      <th>6</th>\n",
       "      <td>[|NINDA₂×NE|]</td>\n",
       "      <td>ag₂</td>\n",
       "      <td>𒉘</td>\n",
       "      <td>[ag₂]</td>\n",
       "    </tr>\n",
       "    <tr>\n",
       "      <th>7</th>\n",
       "      <td>[|HI×AŠ₂|, SAG, EŠ₂, MAH]</td>\n",
       "      <td>hur-sag-še₃-mah</td>\n",
       "      <td>𒄯𒊕𒂠𒈤</td>\n",
       "      <td>[hur, sag, še₃, mah]</td>\n",
       "    </tr>\n",
       "    <tr>\n",
       "      <th>8</th>\n",
       "      <td>[SAG, DUN₃]</td>\n",
       "      <td>sa₁₂-du₅</td>\n",
       "      <td>𒊕𒂅</td>\n",
       "      <td>[sa₁₂, du₅]</td>\n",
       "    </tr>\n",
       "    <tr>\n",
       "      <th>9</th>\n",
       "      <td>[EndofDoc]</td>\n",
       "      <td>\\nEndofDoc</td>\n",
       "      <td>EndofDoc</td>\n",
       "      <td>[EndofDoc]</td>\n",
       "    </tr>\n",
       "    <tr>\n",
       "      <th>10</th>\n",
       "      <td>[EndofDoc]</td>\n",
       "      <td>\\nEndofDoc</td>\n",
       "      <td>EndofDoc</td>\n",
       "      <td>[EndofDoc]</td>\n",
       "    </tr>\n",
       "    <tr>\n",
       "      <th>11</th>\n",
       "      <td>[EndofDoc]</td>\n",
       "      <td>\\nEndofDoc</td>\n",
       "      <td>EndofDoc</td>\n",
       "      <td>[EndofDoc]</td>\n",
       "    </tr>\n",
       "    <tr>\n",
       "      <th>12</th>\n",
       "      <td>[EndofDoc]</td>\n",
       "      <td>\\nEndofDoc</td>\n",
       "      <td>EndofDoc</td>\n",
       "      <td>[EndofDoc]</td>\n",
       "    </tr>\n",
       "    <tr>\n",
       "      <th>13</th>\n",
       "      <td>[2(iku@c)]</td>\n",
       "      <td>2(iku@c)</td>\n",
       "      <td>2(iku@c)</td>\n",
       "      <td>[2(iku@c)]</td>\n",
       "    </tr>\n",
       "    <tr>\n",
       "      <th>14</th>\n",
       "      <td>[GAN₂]</td>\n",
       "      <td>GAN₂</td>\n",
       "      <td>𒃷</td>\n",
       "      <td>[GAN₂]</td>\n",
       "    </tr>\n",
       "    <tr>\n",
       "      <th>15</th>\n",
       "      <td>[|HI×AŠ₂|, TU, AN, |SU.KUR.RU|]</td>\n",
       "      <td>har-tu-{d}sud₃</td>\n",
       "      <td>𒄯𒌅𒀭𒋢𒆳𒊒</td>\n",
       "      <td>[har, tu, d, sud₃]</td>\n",
       "    </tr>\n",
       "    <tr>\n",
       "      <th>16</th>\n",
       "      <td>[NU, SAR]</td>\n",
       "      <td>nu-kiri₆</td>\n",
       "      <td>𒉡𒊬</td>\n",
       "      <td>[nu, kiri₆]</td>\n",
       "    </tr>\n",
       "    <tr>\n",
       "      <th>17</th>\n",
       "      <td>[2(iku@c)]</td>\n",
       "      <td>2(iku@c)</td>\n",
       "      <td>2(iku@c)</td>\n",
       "      <td>[2(iku@c)]</td>\n",
       "    </tr>\n",
       "    <tr>\n",
       "      <th>18</th>\n",
       "      <td>[ME, ZI, PA, |UD.DU|]</td>\n",
       "      <td>me-zi-pa-e₃</td>\n",
       "      <td>𒈨𒍣𒉺𒌓𒁺</td>\n",
       "      <td>[me, zi, pa, e₃]</td>\n",
       "    </tr>\n",
       "    <tr>\n",
       "      <th>19</th>\n",
       "      <td>[2(iku@c)]</td>\n",
       "      <td>2(iku@c)</td>\n",
       "      <td>2(iku@c)</td>\n",
       "      <td>[2(iku@c)]</td>\n",
       "    </tr>\n",
       "    <tr>\n",
       "      <th>20</th>\n",
       "      <td>[1/2(iku@c)]</td>\n",
       "      <td>1/2(iku@c)</td>\n",
       "      <td>1/2(iku@c)</td>\n",
       "      <td>[1/2(iku@c)]</td>\n",
       "    </tr>\n",
       "    <tr>\n",
       "      <th>21</th>\n",
       "      <td>[|HI×AŠ₂|, TU, AN, |SU.KUR.RU|]</td>\n",
       "      <td>har-tu-{d}sud₃</td>\n",
       "      <td>𒄯𒌅𒀭𒋢𒆳𒊒</td>\n",
       "      <td>[har, tu, d, sud₃]</td>\n",
       "    </tr>\n",
       "    <tr>\n",
       "      <th>22</th>\n",
       "      <td>[ŠA₃, GU₂, BA]</td>\n",
       "      <td>ša₃-gu₂-ba</td>\n",
       "      <td>𒊮𒄘𒁀</td>\n",
       "      <td>[ša₃, gu₂, ba]</td>\n",
       "    </tr>\n",
       "    <tr>\n",
       "      <th>23</th>\n",
       "      <td>[4(iku@c)]</td>\n",
       "      <td>4(iku@c)</td>\n",
       "      <td>4(iku@c)</td>\n",
       "      <td>[4(iku@c)]</td>\n",
       "    </tr>\n",
       "    <tr>\n",
       "      <th>24</th>\n",
       "      <td>[1/2(iku@c)]</td>\n",
       "      <td>1/2(iku@c)</td>\n",
       "      <td>1/2(iku@c)</td>\n",
       "      <td>[1/2(iku@c)]</td>\n",
       "    </tr>\n",
       "    <tr>\n",
       "      <th>25</th>\n",
       "      <td>[AŠ₂, |HU.HI|]</td>\n",
       "      <td>AŠ₂-mud</td>\n",
       "      <td>𒀾𒄷𒄭</td>\n",
       "      <td>[AŠ₂, mud]</td>\n",
       "    </tr>\n",
       "    <tr>\n",
       "      <th>26</th>\n",
       "      <td>[3(iku@c)]</td>\n",
       "      <td>3(iku@c)</td>\n",
       "      <td>3(iku@c)</td>\n",
       "      <td>[3(iku@c)]</td>\n",
       "    </tr>\n",
       "    <tr>\n",
       "      <th>27</th>\n",
       "      <td>[LAGAR@g, LAGAR@g]</td>\n",
       "      <td>du₆-du₆</td>\n",
       "      <td>𒇯𒇯</td>\n",
       "      <td>[du₆, du₆]</td>\n",
       "    </tr>\n",
       "    <tr>\n",
       "      <th>28</th>\n",
       "      <td>[|UŠ.KU|]</td>\n",
       "      <td>gala</td>\n",
       "      <td>𒍑𒆪</td>\n",
       "      <td>[gala]</td>\n",
       "    </tr>\n",
       "    <tr>\n",
       "      <th>29</th>\n",
       "      <td>[2(iku@c)]</td>\n",
       "      <td>2(iku@c)</td>\n",
       "      <td>2(iku@c)</td>\n",
       "      <td>[2(iku@c)]</td>\n",
       "    </tr>\n",
       "    <tr>\n",
       "      <th>...</th>\n",
       "      <td>...</td>\n",
       "      <td>...</td>\n",
       "      <td>...</td>\n",
       "      <td>...</td>\n",
       "    </tr>\n",
       "    <tr>\n",
       "      <th>4849091</th>\n",
       "      <td>[ŠA₃, ZU]</td>\n",
       "      <td>šag₄-zu</td>\n",
       "      <td>𒊮𒍪</td>\n",
       "      <td>[šag₄, zu]</td>\n",
       "    </tr>\n",
       "    <tr>\n",
       "      <th>4849092</th>\n",
       "      <td>[X]</td>\n",
       "      <td>x</td>\n",
       "      <td>X</td>\n",
       "      <td>[x]</td>\n",
       "    </tr>\n",
       "    <tr>\n",
       "      <th>4849093</th>\n",
       "      <td>[EndofDoc]</td>\n",
       "      <td>\\nEndofDoc</td>\n",
       "      <td>EndofDoc</td>\n",
       "      <td>[EndofDoc]</td>\n",
       "    </tr>\n",
       "    <tr>\n",
       "      <th>4849094</th>\n",
       "      <td>[EndofDoc]</td>\n",
       "      <td>\\nEndofDoc</td>\n",
       "      <td>EndofDoc</td>\n",
       "      <td>[EndofDoc]</td>\n",
       "    </tr>\n",
       "    <tr>\n",
       "      <th>4849095</th>\n",
       "      <td>[EndofDoc]</td>\n",
       "      <td>\\nEndofDoc</td>\n",
       "      <td>EndofDoc</td>\n",
       "      <td>[EndofDoc]</td>\n",
       "    </tr>\n",
       "    <tr>\n",
       "      <th>4849096</th>\n",
       "      <td>[EndofDoc]</td>\n",
       "      <td>\\nEndofDoc</td>\n",
       "      <td>EndofDoc</td>\n",
       "      <td>[EndofDoc]</td>\n",
       "    </tr>\n",
       "    <tr>\n",
       "      <th>4849097</th>\n",
       "      <td>[GIG, GA]</td>\n",
       "      <td>gig-ga</td>\n",
       "      <td>𒈪𒉭𒂵</td>\n",
       "      <td>[gig, ga]</td>\n",
       "    </tr>\n",
       "    <tr>\n",
       "      <th>4849098</th>\n",
       "      <td>[X]</td>\n",
       "      <td>x</td>\n",
       "      <td>X</td>\n",
       "      <td>[x]</td>\n",
       "    </tr>\n",
       "    <tr>\n",
       "      <th>4849099</th>\n",
       "      <td>[EndofDoc]</td>\n",
       "      <td>\\nEndofDoc</td>\n",
       "      <td>EndofDoc</td>\n",
       "      <td>[EndofDoc]</td>\n",
       "    </tr>\n",
       "    <tr>\n",
       "      <th>4849100</th>\n",
       "      <td>[EndofDoc]</td>\n",
       "      <td>\\nEndofDoc</td>\n",
       "      <td>EndofDoc</td>\n",
       "      <td>[EndofDoc]</td>\n",
       "    </tr>\n",
       "    <tr>\n",
       "      <th>4849101</th>\n",
       "      <td>[ŠA₃]</td>\n",
       "      <td>šag₄</td>\n",
       "      <td>𒊮</td>\n",
       "      <td>[šag₄]</td>\n",
       "    </tr>\n",
       "    <tr>\n",
       "      <th>4849102</th>\n",
       "      <td>[NU, HI, GA]</td>\n",
       "      <td>nu-dug₃-ga</td>\n",
       "      <td>𒉡𒄭𒂵</td>\n",
       "      <td>[nu, dug₃, ga]</td>\n",
       "    </tr>\n",
       "    <tr>\n",
       "      <th>4849103</th>\n",
       "      <td>[X]</td>\n",
       "      <td>x</td>\n",
       "      <td>X</td>\n",
       "      <td>[x]</td>\n",
       "    </tr>\n",
       "    <tr>\n",
       "      <th>4849104</th>\n",
       "      <td>[EndofDoc]</td>\n",
       "      <td>\\nEndofDoc</td>\n",
       "      <td>EndofDoc</td>\n",
       "      <td>[EndofDoc]</td>\n",
       "    </tr>\n",
       "    <tr>\n",
       "      <th>4849105</th>\n",
       "      <td>[EndofDoc]</td>\n",
       "      <td>\\nEndofDoc</td>\n",
       "      <td>EndofDoc</td>\n",
       "      <td>[EndofDoc]</td>\n",
       "    </tr>\n",
       "    <tr>\n",
       "      <th>4849106</th>\n",
       "      <td>[SU]</td>\n",
       "      <td>su</td>\n",
       "      <td>𒋢</td>\n",
       "      <td>[su]</td>\n",
       "    </tr>\n",
       "    <tr>\n",
       "      <th>4849107</th>\n",
       "      <td>[NU, ZE₂, IB, BA]</td>\n",
       "      <td>nu-ze₂-eb-ba</td>\n",
       "      <td>𒉡𒍢𒅁𒁀</td>\n",
       "      <td>[nu, ze₂, eb, ba]</td>\n",
       "    </tr>\n",
       "    <tr>\n",
       "      <th>4849108</th>\n",
       "      <td>[X]</td>\n",
       "      <td>x</td>\n",
       "      <td>X</td>\n",
       "      <td>[x]</td>\n",
       "    </tr>\n",
       "    <tr>\n",
       "      <th>4849109</th>\n",
       "      <td>[EndofDoc]</td>\n",
       "      <td>\\nEndofDoc</td>\n",
       "      <td>EndofDoc</td>\n",
       "      <td>[EndofDoc]</td>\n",
       "    </tr>\n",
       "    <tr>\n",
       "      <th>4849110</th>\n",
       "      <td>[EndofDoc]</td>\n",
       "      <td>\\nEndofDoc</td>\n",
       "      <td>EndofDoc</td>\n",
       "      <td>[EndofDoc]</td>\n",
       "    </tr>\n",
       "    <tr>\n",
       "      <th>4849111</th>\n",
       "      <td>[|EZEN×BAD|]</td>\n",
       "      <td>bad₃</td>\n",
       "      <td>𒂦</td>\n",
       "      <td>[bad₃]</td>\n",
       "    </tr>\n",
       "    <tr>\n",
       "      <th>4849112</th>\n",
       "      <td>[E₂, X]</td>\n",
       "      <td>e₂-x</td>\n",
       "      <td>𒂍X</td>\n",
       "      <td>[e₂, x]</td>\n",
       "    </tr>\n",
       "    <tr>\n",
       "      <th>4849113</th>\n",
       "      <td>[EndofDoc]</td>\n",
       "      <td>\\nEndofDoc</td>\n",
       "      <td>EndofDoc</td>\n",
       "      <td>[EndofDoc]</td>\n",
       "    </tr>\n",
       "    <tr>\n",
       "      <th>4849114</th>\n",
       "      <td>[EndofDoc]</td>\n",
       "      <td>\\nEndofDoc</td>\n",
       "      <td>EndofDoc</td>\n",
       "      <td>[EndofDoc]</td>\n",
       "    </tr>\n",
       "    <tr>\n",
       "      <th>4849115</th>\n",
       "      <td>[X]</td>\n",
       "      <td>x</td>\n",
       "      <td>X</td>\n",
       "      <td>[x]</td>\n",
       "    </tr>\n",
       "    <tr>\n",
       "      <th>4849116</th>\n",
       "      <td>[X]</td>\n",
       "      <td>x</td>\n",
       "      <td>X</td>\n",
       "      <td>[x]</td>\n",
       "    </tr>\n",
       "    <tr>\n",
       "      <th>4849117</th>\n",
       "      <td>[EndofDoc]</td>\n",
       "      <td>\\nEndofDoc</td>\n",
       "      <td>EndofDoc</td>\n",
       "      <td>[EndofDoc]</td>\n",
       "    </tr>\n",
       "    <tr>\n",
       "      <th>4849118</th>\n",
       "      <td>[EndofDoc]</td>\n",
       "      <td>\\nEndofDoc</td>\n",
       "      <td>EndofDoc</td>\n",
       "      <td>[EndofDoc]</td>\n",
       "    </tr>\n",
       "    <tr>\n",
       "      <th>4849119</th>\n",
       "      <td>[EndofDoc]</td>\n",
       "      <td>\\nEndofDoc</td>\n",
       "      <td>EndofDoc</td>\n",
       "      <td>[EndofDoc]</td>\n",
       "    </tr>\n",
       "    <tr>\n",
       "      <th>4849120</th>\n",
       "      <td>[EndofDoc]</td>\n",
       "      <td>\\nEndofDoc</td>\n",
       "      <td>EndofDoc</td>\n",
       "      <td>[EndofDoc]</td>\n",
       "    </tr>\n",
       "  </tbody>\n",
       "</table>\n",
       "<p>4849121 rows × 4 columns</p>\n",
       "</div>"
      ],
      "text/plain": [
       "                                   names  transliteration       utf-8  \\\n",
       "0                                  [DIŠ]       1(barig@c)           𒁹   \n",
       "1                                   [ŠE]               še           𒊺   \n",
       "2                              [BA, LUL]           ba-lul          𒁀𒈜   \n",
       "3                                [NAGAR]            nagar           𒉄   \n",
       "4                                  [DIŠ]       1(barig@c)           𒁹   \n",
       "5                         [GAR, |U.GUD|]         nig₂-du₇          𒃻𒌌   \n",
       "6                          [|NINDA₂×NE|]              ag₂           𒉘   \n",
       "7              [|HI×AŠ₂|, SAG, EŠ₂, MAH]  hur-sag-še₃-mah        𒄯𒊕𒂠𒈤   \n",
       "8                            [SAG, DUN₃]         sa₁₂-du₅          𒊕𒂅   \n",
       "9                             [EndofDoc]       \\nEndofDoc    EndofDoc   \n",
       "10                            [EndofDoc]       \\nEndofDoc    EndofDoc   \n",
       "11                            [EndofDoc]       \\nEndofDoc    EndofDoc   \n",
       "12                            [EndofDoc]       \\nEndofDoc    EndofDoc   \n",
       "13                            [2(iku@c)]         2(iku@c)    2(iku@c)   \n",
       "14                                [GAN₂]             GAN₂           𒃷   \n",
       "15       [|HI×AŠ₂|, TU, AN, |SU.KUR.RU|]   har-tu-{d}sud₃      𒄯𒌅𒀭𒋢𒆳𒊒   \n",
       "16                             [NU, SAR]         nu-kiri₆          𒉡𒊬   \n",
       "17                            [2(iku@c)]         2(iku@c)    2(iku@c)   \n",
       "18                 [ME, ZI, PA, |UD.DU|]      me-zi-pa-e₃       𒈨𒍣𒉺𒌓𒁺   \n",
       "19                            [2(iku@c)]         2(iku@c)    2(iku@c)   \n",
       "20                          [1/2(iku@c)]       1/2(iku@c)  1/2(iku@c)   \n",
       "21       [|HI×AŠ₂|, TU, AN, |SU.KUR.RU|]   har-tu-{d}sud₃      𒄯𒌅𒀭𒋢𒆳𒊒   \n",
       "22                        [ŠA₃, GU₂, BA]       ša₃-gu₂-ba         𒊮𒄘𒁀   \n",
       "23                            [4(iku@c)]         4(iku@c)    4(iku@c)   \n",
       "24                          [1/2(iku@c)]       1/2(iku@c)  1/2(iku@c)   \n",
       "25                        [AŠ₂, |HU.HI|]          AŠ₂-mud         𒀾𒄷𒄭   \n",
       "26                            [3(iku@c)]         3(iku@c)    3(iku@c)   \n",
       "27                    [LAGAR@g, LAGAR@g]          du₆-du₆          𒇯𒇯   \n",
       "28                             [|UŠ.KU|]             gala          𒍑𒆪   \n",
       "29                            [2(iku@c)]         2(iku@c)    2(iku@c)   \n",
       "...                                  ...              ...         ...   \n",
       "4849091                        [ŠA₃, ZU]          šag₄-zu          𒊮𒍪   \n",
       "4849092                              [X]                x           X   \n",
       "4849093                       [EndofDoc]       \\nEndofDoc    EndofDoc   \n",
       "4849094                       [EndofDoc]       \\nEndofDoc    EndofDoc   \n",
       "4849095                       [EndofDoc]       \\nEndofDoc    EndofDoc   \n",
       "4849096                       [EndofDoc]       \\nEndofDoc    EndofDoc   \n",
       "4849097                        [GIG, GA]           gig-ga         𒈪𒉭𒂵   \n",
       "4849098                              [X]                x           X   \n",
       "4849099                       [EndofDoc]       \\nEndofDoc    EndofDoc   \n",
       "4849100                       [EndofDoc]       \\nEndofDoc    EndofDoc   \n",
       "4849101                            [ŠA₃]             šag₄           𒊮   \n",
       "4849102                     [NU, HI, GA]       nu-dug₃-ga         𒉡𒄭𒂵   \n",
       "4849103                              [X]                x           X   \n",
       "4849104                       [EndofDoc]       \\nEndofDoc    EndofDoc   \n",
       "4849105                       [EndofDoc]       \\nEndofDoc    EndofDoc   \n",
       "4849106                             [SU]               su           𒋢   \n",
       "4849107                [NU, ZE₂, IB, BA]     nu-ze₂-eb-ba        𒉡𒍢𒅁𒁀   \n",
       "4849108                              [X]                x           X   \n",
       "4849109                       [EndofDoc]       \\nEndofDoc    EndofDoc   \n",
       "4849110                       [EndofDoc]       \\nEndofDoc    EndofDoc   \n",
       "4849111                     [|EZEN×BAD|]             bad₃           𒂦   \n",
       "4849112                          [E₂, X]             e₂-x          𒂍X   \n",
       "4849113                       [EndofDoc]       \\nEndofDoc    EndofDoc   \n",
       "4849114                       [EndofDoc]       \\nEndofDoc    EndofDoc   \n",
       "4849115                              [X]                x           X   \n",
       "4849116                              [X]                x           X   \n",
       "4849117                       [EndofDoc]       \\nEndofDoc    EndofDoc   \n",
       "4849118                       [EndofDoc]       \\nEndofDoc    EndofDoc   \n",
       "4849119                       [EndofDoc]       \\nEndofDoc    EndofDoc   \n",
       "4849120                       [EndofDoc]       \\nEndofDoc    EndofDoc   \n",
       "\n",
       "                        words  \n",
       "0                [1(barig@c)]  \n",
       "1                        [še]  \n",
       "2                   [ba, lul]  \n",
       "3                     [nagar]  \n",
       "4                [1(barig@c)]  \n",
       "5                 [nig₂, du₇]  \n",
       "6                       [ag₂]  \n",
       "7        [hur, sag, še₃, mah]  \n",
       "8                 [sa₁₂, du₅]  \n",
       "9                  [EndofDoc]  \n",
       "10                 [EndofDoc]  \n",
       "11                 [EndofDoc]  \n",
       "12                 [EndofDoc]  \n",
       "13                 [2(iku@c)]  \n",
       "14                     [GAN₂]  \n",
       "15         [har, tu, d, sud₃]  \n",
       "16                [nu, kiri₆]  \n",
       "17                 [2(iku@c)]  \n",
       "18           [me, zi, pa, e₃]  \n",
       "19                 [2(iku@c)]  \n",
       "20               [1/2(iku@c)]  \n",
       "21         [har, tu, d, sud₃]  \n",
       "22             [ša₃, gu₂, ba]  \n",
       "23                 [4(iku@c)]  \n",
       "24               [1/2(iku@c)]  \n",
       "25                 [AŠ₂, mud]  \n",
       "26                 [3(iku@c)]  \n",
       "27                 [du₆, du₆]  \n",
       "28                     [gala]  \n",
       "29                 [2(iku@c)]  \n",
       "...                       ...  \n",
       "4849091            [šag₄, zu]  \n",
       "4849092                   [x]  \n",
       "4849093            [EndofDoc]  \n",
       "4849094            [EndofDoc]  \n",
       "4849095            [EndofDoc]  \n",
       "4849096            [EndofDoc]  \n",
       "4849097             [gig, ga]  \n",
       "4849098                   [x]  \n",
       "4849099            [EndofDoc]  \n",
       "4849100            [EndofDoc]  \n",
       "4849101                [šag₄]  \n",
       "4849102        [nu, dug₃, ga]  \n",
       "4849103                   [x]  \n",
       "4849104            [EndofDoc]  \n",
       "4849105            [EndofDoc]  \n",
       "4849106                  [su]  \n",
       "4849107     [nu, ze₂, eb, ba]  \n",
       "4849108                   [x]  \n",
       "4849109            [EndofDoc]  \n",
       "4849110            [EndofDoc]  \n",
       "4849111                [bad₃]  \n",
       "4849112               [e₂, x]  \n",
       "4849113            [EndofDoc]  \n",
       "4849114            [EndofDoc]  \n",
       "4849115                   [x]  \n",
       "4849116                   [x]  \n",
       "4849117            [EndofDoc]  \n",
       "4849118            [EndofDoc]  \n",
       "4849119            [EndofDoc]  \n",
       "4849120            [EndofDoc]  \n",
       "\n",
       "[4849121 rows x 4 columns]"
      ]
     },
     "execution_count": 13,
     "metadata": {},
     "output_type": "execute_result"
    }
   ],
   "source": [
    "df = pd.DataFrame({\"transliteration\":all_, \"words\":words_l, \"names\":names_l, \"utf-8\":utf8_l})\n",
    "df"
   ]
  },
  {
   "cell_type": "code",
   "execution_count": 14,
   "metadata": {
    "collapsed": false
   },
   "outputs": [],
   "source": [
    "with open(\"output/sux.p\", \"wb\") as w:\n",
    "    pickle.dump(df, w)"
   ]
  },
  {
   "cell_type": "code",
   "execution_count": 15,
   "metadata": {
    "collapsed": false
   },
   "outputs": [],
   "source": [
    "sux_text = ' '.join(df['utf-8']).strip()\n",
    "sux_text = re.sub(r'(EndofDoc )+', '\\n', sux_text)"
   ]
  },
  {
   "cell_type": "code",
   "execution_count": 16,
   "metadata": {
    "collapsed": true
   },
   "outputs": [],
   "source": [
    "with open(\"output/sux.txt\", 'w', encoding=\"utf-8\") as w:\n",
    "    w.write(sux_text)"
   ]
  },
  {
   "cell_type": "code",
   "execution_count": 17,
   "metadata": {
    "collapsed": false
   },
   "outputs": [
    {
     "name": "stdout",
     "output_type": "stream",
     "text": [
      "𒁹 𒊺 𒁀𒈜 𒉄 𒁹 𒃻𒌌 𒉘 𒄯𒊕𒂠𒈤 𒊕𒂅 \n",
      "2(iku@c) 𒃷 𒄯𒌅𒀭𒋢𒆳𒊒 𒉡𒊬 2(iku@c) 𒈨𒍣𒉺𒌓𒁺 2(iku@c) 1/2(iku@c) 𒄯𒌅𒀭𒋢𒆳𒊒 𒊮𒄘𒁀 4(iku@c) 1/2(iku@c) 𒀾𒄷𒄭 3(iku@c) 𒇯𒇯 𒍑𒆪 2(iku@c) 𒀀𒇻𒇻 𒄘𒋗𒃮 1(iku@c) 𒀭𒂗𒍪𒄷𒄭 2(iku@c) 𒇯𒈤 2(iku@c) 1/2(iku@c) 𒂍𒈾 𒈯 1(iku@c) 1/4(iku@c) 𒀫𒉣𒇬 1/4(iku@c) 𒌉𒋖 2(iku@c) 1/2(iku@c) 𒌨𒌉𒍣 𒀿 2(iku@c) 𒌑𒅗𒅗 𒍑𒆪 4(iku@c) 𒀭𒉡𒈨 𒅖 2(iku@c) 𒀫𒆬 1(iku@c) 𒈝𒈠 5(iku@c) 𒀭𒋢𒆳𒊒𒌨𒊕 𒉄 𒑘 1(iku@c) 1/2(iku@c) 𒉽 X 1(iku@c) X 𒊕LAK244 𒀭𒉡𒈨 𒊺 𒉘 \n",
      "𒌋𒌋 𒇲 𒀸 𒄨 𒀭𒉡𒈨 𒌋 𒐂 𒌨𒀭𒋢𒆳𒊒 𒐕 𒐀 𒊩𒃾 𒐕 𒌋 𒐁 𒌨𒀭𒋢𒆳𒊒 𒐕 𒉽𒄑𒉈𒀭𒈪𒄷 𒐕 𒀸 𒈩𒇻𒇻 𒐕 𒌋 𒌉𒀭𒈪𒄷 𒐕 𒌋 𒐄 𒀜𒁕 𒐕 𒐁 𒁲𒌓 𒌋𒌋 𒐃 𒉄 𒌋𒌋 𒌣 𒌋 𒀸 𒀿 𒐁 𒉡𒊬 𒌋𒌋 𒐁 𒉣𒈨 𒌋𒌋 𒐅 𒃲𒂇 𒌍 𒐃 𒊕𒂅 𒌋𒌋 𒐂 𒋖𒁕𒉡𒌇 𒌋 𒐃 𒂍𒁍𒉘 𒌋 𒇲 𒀸 𒊩𒌆𒌨𒊕 𒌋𒌋 𒀫𒈹𒍝 𒌋𒌋 𒇲 𒐀 𒀫𒉣𒇬 𒌋 𒐀 𒀫𒉆𒉪 𒌋 𒐀 𒌨𒌉𒍣 𒐕 𒍠𒄩 𒋗𒆸 𒐞 𒐘 𒌋𒌋 𒇲 𒐀 𒄨 \n",
      "𒁹 𒋀𒌉 𒐌 𒈩𒇽𒉡𒂠 𒁹 𒉽𒄑𒉈𒀉𒉡𒊨 𒐌 𒁈𒃶𒉡𒁲 𒁹 𒇯𒇯 𒁹 𒋛𒆕 𒁹 𒂗𒁽 𒐋 𒉺𒇻 X 𒄑 X 𒁁 \n",
      "𒇉𒁈𒋛 𒈗𒉿 \n",
      "𒀸 𒈗𒂗𒅍 𒉺𒄛 𒀸 𒁾𒊬 𒀸 𒁈𒃶𒉡𒁲 𒀸 𒃻𒌷𒀀𒍣 𒀸 𒃻𒈝𒈠 \n",
      "𒐂 𒀲 𒀫𒈹𒍝 𒀀𒆠𒃲 𒐂 𒇯𒇯 𒋚 𒐂 𒈩𒆠𒈾 𒀳 𒐂 𒊩𒌆𒄘𒃲 𒍑𒆪 𒐂 𒉺𒄑𒉽𒉈𒂵 𒈾𒃰 𒐂 𒀾𒄷𒄭 𒈨 𒀭𒉈 𒐂 𒍪𒀊𒄷𒄭 𒀭𒉺𒇻 𒐂 𒌨𒌉𒍣 𒋛𒆕 𒐂 𒂍𒊊𒃲 𒉌𒌇 𒐂 𒀀𒉌𒉌 𒀭𒊩𒌆𒉺 𒃲𒌺 𒐁 𒂍𒈾𒇻 𒀭𒉡𒈲𒁕 𒐁 𒅋𒈲𒉡𒈨𒊒 𒐀 𒅗𒂵𒉌 𒁔𒈠 𒐀 𒀫𒆬 𒆥𒉪 𒐀 X 𒐀 𒈗𒃶𒅅 𒅁 𒐀 𒃻𒋜 𒐀 𒉆𒈤 𒂍𒉺𒌓𒁺 𒐀 𒌨𒌉𒍣 𒐀 𒆥𒉪 𒍑𒆪 𒐀 X 𒀝𒌓 XX 𒀭𒉺𒇻 𒐀 𒊍𒕆 𒉡𒌉 𒐀 𒄑𒉽𒉈𒄭 𒉺 𒐀 𒀭𒂗𒆤𒌺𒀀 𒈛 𒀭𒂠𒄘 𒌋𒌋 𒇲 3/4(aš@c) 𒀲𒀳 𒋚 𒌑𒂈 \n",
      "X 𒐀 𒌉𒌉 𒁲𒌓 𒉺 𒇽𒀜 X 𒀭𒋢𒆳𒊒𒌨𒊕 𒉺 𒌋𒌋 𒐃 𒌨𒂍𒃲 𒉺 𒌋𒌋 𒈜 𒀝 𒌋 𒐀 𒉽𒉽 𒅗𒍣𒁕 X 𒃲X 𒇽𒁲 𒁀𒁺 \n",
      "3(iku@c) 𒃷 𒀲 𒁀𒁺 𒈗𒅇𒈠 1(iku@c) 𒅗𒈠𒉌𒍣 𒀲𒌓 1/2(iku@c) 1/4(iku@c) 𒈗𒃻 1(iku@c) 1/4(iku@c) 𒁕 𒄑𒈠 𒌨𒂍𒍣𒁕 \n",
      "X𒈾 𒀸 X𒈠 𒀝𒌓 𒀸 𒀭𒉡𒈨 𒀸 𒀀𒁕𒂉 X X X X X X 𒌣 𒀸 𒂍𒁕 𒊕𒂅 𒀸 𒋀𒂼𒈾 𒉺𒁽 𒁮𒃼𒃲 𒀸 𒀊𒅎𒆷 𒈾𒃰 𒀸 𒈹𒍝 𒈾𒃰 𒀸 𒅗𒇲𒈝 𒀸 𒅗XX X 𒊩𒍑X𒁕𒁺 𒀸 X X 𒐂 𒍏 𒈠𒈾 𒀭𒌨𒉡𒈲𒁕 𒁹 𒊺 𒁹 𒍩 𒀜𒁕𒌉 𒑗 𒊺 𒌨𒂍𒉣𒃲 𒉡𒊬 𒁹 𒑐 𒊺 𒂼𒄉𒃲 𒁹 𒊺 𒁹 𒍩 𒊑𒊑 𒋗𒄿 𒁹 𒊺 𒁹 𒍩 𒀉𒉘𒄭 𒀜𒆤 𒈦 𒍏 𒈠𒈾 𒂗𒉡𒆳𒂠 𒈾𒃰 𒑖 𒊺 𒂍𒀀𒉣 𒋋 𒑖 𒊺 𒅗𒉣𒍣 𒀭𒂠𒄘 𒐀 𒑗 𒊺 𒉌𒂵 𒑗 𒍩 𒀭𒂠𒄘 𒇽 𒅗𒂵 𒌋𒌋 𒇲 𒐀 𒇽 𒉌 𒉡𒁺 𒌋 𒇲 𒀸 𒇽 𒃻 𒁺 𒐃 𒈦 𒍏 𒈠𒈾 \n",
      "𒐂 𒑖 𒑒 𒐊 𒊺 𒉌𒂵 𒃻 𒌓 𒀸 𒑖 𒍩 𒃻 𒌓 𒐀 𒊺 𒃻 𒂦 𒀸 𒈪 𒉌𒂵 𒃻 𒂦 𒀸 𒁹 𒊺 𒉌𒂵 𒊺𒁀 𒌗 𒁹 𒊺 𒅥 𒁹 𒊺 𒌉𒌉 𒂗𒅍 𒊺 𒃷 𒁺 𒐆 𒑑 𒐊 𒊺 𒉌𒂵 \n",
      "𒌋𒌋 𒇲 𒐀 𒈧 𒌫𒉌 𒀭𒈾𒋧 \n",
      "X 𒉺 𒋳 𒈪𒉭 X X 𒂍 𒃷 𒃶𒊷 𒈬LAK198 𒆃 X \n",
      "𒐃 𒍏 𒈠𒈾 𒅖 𒋃 𒐁 𒄯𒌅𒀭𒋢𒆳𒊒 𒐁 𒉌 𒍏 𒍠 𒄞 𒄯 𒂍𒃲 𒌇 \n",
      "X 𒊺 𒄥 𒁺𒈜 𒉌𒃮 𒂍𒂼 𒑖 𒑒 𒈤𒆷𒆷 𒋗𒄿 𒀸 𒌨𒌉𒉣 𒂇 𒑖 𒑒 𒋖𒈨𒋼𒈾 𒀝𒌓 𒁹 𒑐 𒂼𒁓𒊏 𒉡𒋢 𒂍𒍪𒀊𒇳 𒂇 𒁹 𒑐 𒆠𒉌𒇷 𒂍𒍪𒀊𒋭 𒂇 𒑖 𒑒 𒈝𒈠 𒂍𒆠𒁀 𒉺 𒑖 𒑒 𒂗𒀉𒉡𒊨 𒋡𒋗𒃮 𒑖 𒑒 𒊮𒋫𒉡𒌓𒁺 𒋡𒋗𒃮 𒀸 𒌨𒌉𒍣 𒂇 𒀸 𒀀𒉣𒀭𒋢𒆳𒊒𒁕 𒂇 𒑖 𒑒 𒌫𒉌 𒉽𒉽𒊬 𒑖 𒑒 𒂍𒈾 𒂗𒃻𒋗 𒑖 𒑒 𒈨𒉈𒆳𒊏 𒉺𒁽 𒂍𒆠𒁀 𒑖 𒑒 𒌨𒀭𒌅 𒉺𒁽 𒑖 𒑒 𒈗𒀉𒈤 𒈛 𒂍𒉡𒆳𒋛 𒉺 𒑖 𒑒 𒉺𒌅𒀭𒋢𒆳𒊒 𒇽𒈝𒈠 𒉺𒃱 𒑖 𒑒 𒇥𒊕𒄭 𒂍𒉡𒆳𒋛 𒉺𒈛 𒑖 𒑒 𒋀𒉌 𒂍𒉡𒆳𒋛 𒉺𒈛 𒑖 𒑒 𒌫𒉌 𒈛 𒑖 𒑒 𒌨𒌋𒌓𒆤𒋛 𒆠𒀭𒌅 𒌨𒌉𒉣 𒂇 𒑖 𒑒 𒌓𒌨𒊕 𒉺𒁽 𒂍𒆠𒁀 𒉺 𒑖 𒑒 𒌨𒆪 𒀕𒆠 𒌨𒋼𒀊𒋆 𒂇 𒁹 𒑐 𒊩𒌆𒉌 𒉡𒋢 𒌨𒌉𒉣 𒑖 𒑒 𒀭𒋢𒆳𒊒𒌨𒊕 𒋚 𒉺 𒋡𒋗𒃮 𒁹 𒑐 𒂍𒉡𒂠𒂠 𒉽𒉡𒇲 𒂇 𒐁 𒊺 𒄥 𒀭𒋢𒆳𒊒𒌨𒊕 𒀳 𒀫𒉆𒉪 𒉺 𒑖 𒑒 𒌨𒌨 𒀜𒆤 𒂍𒉡𒋛 𒉺 𒁹 𒊺 𒄥𒈤 𒌨𒀭𒉡𒈲𒁕 𒂇 𒑖 𒑒 𒂍𒉺𒌓𒁺 𒂍𒆠𒁀 𒉺𒁽 𒁹 𒑐 𒋭𒋭 𒉡𒋢 𒉽𒉡𒇲 𒂇 𒑖 𒑒 𒍪𒀊𒆠𒄭 𒆠𒌓 𒌨𒌉𒉣 𒂇 𒑖 𒑒 𒁈𒆠𒁀 𒌨𒌉𒉣 𒂇 𒑖 𒑒 𒌨𒌉𒍣 𒅆𒈝 𒌨𒀭𒉡𒈲𒁕 𒂇 𒑖 𒑒 𒁲𒌓 𒉺𒁽 𒂍𒆠𒁀 𒉺 𒑖 𒑒 𒌨𒌓 𒀜𒆤 𒂍𒉡𒋛 𒉺 𒑖 𒑒 𒌓𒌨𒊕 𒂍𒆠𒁀 𒉺 𒉺𒁽 1/2(aš@c) 𒊩𒇽𒉡𒂠 𒍑𒆪 𒑖 𒑒 𒄯𒌅𒀭𒋢𒆳𒊒 𒑖 𒑒 𒀝𒀭𒉈 𒑖 𒑒 𒌸 𒑖 𒑒 𒀭𒋢𒆳𒊒𒀭𒅎𒂂 𒑖 𒑒 𒀫𒀭𒌁 𒑖 𒑒 𒀭𒉡𒈨 𒉌𒉌 𒑖 𒑒 𒂍𒃲𒊊 𒌨𒌨 𒑖 𒑒 𒌨𒌓 𒄯𒌅𒀭𒋢𒆳𒊒 𒑖 𒑒 𒈦𒀭𒋢𒆳𒊒 𒊺 𒀜𒁕 𒂍𒌋𒌆𒊕 𒑖 𒑒 𒂖 𒂍𒌉𒍣 𒑖 𒑒 𒊩𒀉𒉡𒊨 𒊩𒍑 𒑖 𒑒 𒌨𒌨 𒊩𒌆𒈨𒋗𒌌 𒑖 𒑒 𒈩𒅆𒊒 𒋀𒉌 𒑖 𒑒 𒌨𒌓 𒊩𒉇 𒑖 𒑒 𒁀𒁖 X 𒋀𒉌 𒋖𒂗𒌦 𒑖 𒑒 𒀀𒃾 𒈩𒆠𒈾 𒑖 𒑒 𒌨𒌉𒍣 𒁮𒃼 𒑖 𒑒 𒈝𒈠 𒉡𒊬 𒑖 𒑒 𒌨𒌨 𒉡𒊬 𒑖 𒑒 𒊮𒄘𒁀 𒉡𒊬 𒑖 𒑒 𒈨𒍣𒉺𒌓𒁺 𒉡𒊬 𒀭𒊕𒌇 𒉌𒌇 𒑖 𒑒 𒊩𒀉𒉡𒊨 1/2(aš@c) 𒌨𒌋𒌓𒆤𒋛 𒉺 𒉌𒌇 𒑖 𒑒 𒀫𒀭 𒌓𒉣𒆠 𒑖 𒑒 𒂍𒁶𒌓𒁺 𒂗𒆤𒆠 𒀜𒁕 𒂇 𒑖 𒑒 X 𒄑𒆵𒆠 𒑖 𒑒 𒀀𒍫 𒂗𒆤𒆠 𒌨𒌉𒍣 𒂇 𒑖 𒑒 𒆠𒉌𒍣 𒌨𒌨 𒑖 𒑒 𒀀𒋜 𒌨𒀭𒉡𒈲𒁕 \n",
      "𒀸 𒄑𒊨 𒄯𒌅𒀭𒋢𒆳𒊒 𒄄𒕆 𒀸 𒌨𒂍𒉣𒃲 𒂗𒉣𒈤 𒀸 𒀫𒈹𒍝 𒀀𒆠𒃲 𒀸 𒋚 𒂔𒋛 𒀸 𒌨𒀭𒄘𒇲 𒀸 𒅗𒈗𒁕𒍣 𒃲𒂇 𒀸 𒈝𒈠 𒉣𒈨 𒀸 𒀭𒉡𒈨 𒈦𒀭𒋢𒆳𒊒 𒀸 𒉆𒈤 𒋀𒌉 𒀸 𒀫𒈹𒍝 𒀭𒆥𒉪 𒀸 𒀭𒉡𒈨 𒅁 𒀭 𒀸 𒌉𒉣𒋖 𒁀𒁀 𒀸 X𒍣X 𒀸 𒄯𒌅𒀭𒋢𒆳𒊒 𒉺𒄛 𒀸 𒅗𒍣 𒀸 𒍠𒄩 𒀸 𒈨𒌍𒌓𒁀 𒉣𒈨 𒀸 𒀭𒉡𒈨 𒂍𒅖𒋫𒌓𒁺 𒀸 𒉣X X 𒋗X X X \n",
      "𒐂 𒊺 𒉌𒂵 𒌸 𒌌𒌌 𒐁 𒊩𒌆𒀭𒈪𒄷 𒉌𒃮 𒐀 X 𒂖 𒄯𒌅 𒐆 𒊩𒌆𒀭𒈪𒄷 𒊮 𒑖 𒁲𒌓 𒑖 𒀭𒌨𒊕 𒁮𒃼 𒐀 𒉌𒉌𒀀 𒐁 𒄷𒆪𒁍𒀠 𒐂 𒉽𒄑𒉈𒆷 𒑖 𒊩𒌨𒊕 𒑖 𒑒 𒅗𒍣𒁕 𒐁 𒉆𒀠 𒌨𒊕 𒐄 𒉽𒄑𒉈𒄭𒌦 𒉺 𒆦 𒁹 𒑑 𒌝𒁍 𒀳 𒃻 𒂍 𒌝𒈠 𒀸 𒂖 𒌍 𒍏 𒈠𒈾 𒀭𒋢𒆳𒊒𒀉𒈤 𒉌𒀀 𒌋 𒑒 𒃲𒆠 𒌌𒌌 𒀭𒂠𒄘 𒐏 𒇲 𒐀 𒁹 𒑏 𒊺 𒉌𒂵 𒐏 𒍏 𒈠𒈾 𒊺 𒈜 𒋧𒈠 𒌓𒌨𒊕 LAK460 \n",
      "3(iku@c) 𒃷 𒇻𒇻 3(iku@c) 𒂔𒋛 3(iku@c) 𒂇𒋼𒈨𒈾 3(iku@c) 𒌨𒂍𒉣𒃲 3(iku@c) 𒈝𒈠 𒉣𒈨 3(iku@c) 𒋃𒃻 3(iku@c) 𒂍𒁔𒃲 3(iku@c) 𒀭𒉡𒈨 𒅖 3(iku@c) 𒂍𒄯𒊕 3(iku@c) 𒉌𒉌 3(iku@c) 𒉆𒈤𒀭𒋢𒆳𒊒𒁕 𒋀𒌉 3(iku@c) 𒀫𒍪𒀊 3(iku@c) 𒀀𒇯𒆷 3(iku@c) 𒆪𒊕 3(iku@c) 𒀝𒇯 3(iku@c) 𒌨𒀭𒉡𒈲𒁕 3(iku@c) 𒂼𒅅𒃲 3(iku@c) 𒈤𒆷 3(iku@c) 𒍪𒀊𒄷𒄭 3(iku@c) 𒅗𒈗𒁕𒍣 3(iku@c) 𒌉𒉣𒋖 3(iku@c) 𒌨𒀭𒌅 𒊕𒂅 3(iku@c) 𒇻𒇻 𒂄𒆷 3(iku@c) 𒀝𒌓 𒉽𒌨𒊕 3(iku@c) 𒍝𒊏 3(iku@c) 𒁲𒌓 𒀀𒋜 3(iku@c) 𒄑𒈪𒂠 3(iku@c) 𒀝𒁍𒈾 3(iku@c) 𒇽𒅆𒊒 3(iku@c) 𒉺𒋼𒋛𒃻𒃲 3(iku@c) 𒀫𒈹𒍝 𒀀𒆠𒃲 3(iku@c) 𒀸 𒀳 3(iku@c) 𒀭𒉡𒈨 𒀭𒅁 3(iku@c) 𒌨𒈗𒁺 3(iku@c) 𒅖 3(iku@c) 𒃲𒌵 1(iku@c) 𒋡𒋗𒃮 1(iku@c) 𒈬 1(iku@c) 𒋋 3(iku@c) 𒋼 3(iku@c) 𒋩𒄖𒉣 2(iku@c) 𒀭𒉈𒄀 3(iku@c) 𒌨𒀭𒋢𒆳𒊒 𒊩X 3(iku@c) XX 1(iku@c) 𒅖 3(iku@c) 𒋚 𒃲𒌺 3(iku@c) 𒌨𒀭𒄘𒇲 3(iku@c) 𒀭𒉡𒈨 𒆳𒊏𒀉 1(iku@c) 𒉺𒌓𒁺 3(iku@c) 𒉽𒁔𒃲 3(iku@c) 𒂍𒁆 X X X𒊏 2(iku@c) 𒍠𒄩𒄩 1(iku@c) 𒈛 2(iku@c) X 𒇽𒈣𒋽 2(iku@c) 𒁾𒊬𒈤 X 𒅁 𒀭𒂠𒄘 𒌍 𒑘 𒇲 2(iku@c) \n",
      "𒀸 𒌨𒌉𒍣𒁕 𒀸 𒇽𒁈𒋛 𒀸 𒀀𒉇 𒀸 𒆸𒉺𒌓𒁺 𒌉 X 𒌨𒊕 𒈤 𒀸 𒌨𒌉𒍣𒁕 𒉺𒁽𒄄 𒀸 𒄖𒉌𒁺 𒉺𒂍 𒉆𒈤 𒀸 𒈗𒀭𒍠𒂠 𒈜𒃲 𒀸 𒀀𒆠𒃲 𒌉 \n",
      "𒐀 𒈧 𒀊 𒀸 𒀭𒂗𒆤 𒋗𒄄𒀀 𒌫𒉌 \n",
      "𒐀 𒇽𒈝𒈠 𒐀 𒇽𒂍𒍣 𒐂 𒄯𒌅𒀭𒋢𒆳𒊒 𒐄 𒂍𒆠𒁀 𒐂 𒊩𒌆𒌺 𒈬 𒐂 𒀭𒋢𒆳𒊒𒌨𒊕 𒐄 𒈗𒂡 𒐁 𒌨𒂍𒃲 𒐁 𒂍𒌓𒉡𒁳 𒐂 𒀝 𒐀 𒉌𒉌 𒊓𒄯 𒐁 𒁯𒁕 𒉺 𒇽𒁲 𒐃 𒇽𒅆𒊒 𒐁 𒂍𒆠𒃲𒆷 𒐃 𒅗𒀭𒋢𒆳𒊒𒁕𒍣 𒐄 𒀝𒀭𒋢𒆳𒊒 𒐀 𒀀𒄷𒄩 𒐂 𒂍𒉡𒋛 𒀜𒆤 𒐂 𒂍𒆳𒊏 𒌋 𒌸 𒀭 𒐕 𒌋𒌋 𒇲 𒀸 𒄨 𒍥 𒁀 6(barig@c) 𒑑 𒐃 𒋡 𒐊 𒋡 𒋗 𒁀𒋾 \n",
      "𒀸 𒋚 𒉣𒁯 𒀸 𒌓𒁲𒋻 𒋡𒋗𒃮 𒀸 𒀫𒂍𒉋 𒉆𒈤 𒀸 𒌨𒌓 𒈲𒁻 𒉆𒈤 𒉺 𒀸 𒀾𒁮𒅋 𒀸 𒀫𒀭𒅎 𒀸 𒉆𒈤 𒀸 𒌨𒇥𒊕 𒀸 𒉺𒄑𒉽𒉈𒂵 𒀸 𒀭𒋢𒆳𒊒𒀭𒅎𒂂 𒉆𒈤 𒉺 𒀸 𒈨𒉺𒌓𒁺 𒋡𒋗𒃮 𒀸 𒈩𒃻𒈜𒂊 𒂍𒌑 𒀸 𒌓𒆳𒊏 𒋗𒄿 𒀸 𒊩𒌆𒌨𒊕 𒀸 𒀫𒀭𒌅 𒈛 𒀸 𒈩𒉡𒂠 𒁾𒊬 𒀸 𒀭𒋢𒆳𒊒𒁕𒍣 LAK589𒀀𒋛 𒀸 𒀭𒋢𒆳𒊒𒌨𒊕 𒌨𒀭𒉡𒈲𒁕 𒀸 𒀭𒂗𒆤𒌺𒀀 𒊩𒀉𒉡𒊨 𒋖𒆗 𒀸 𒀀𒉺𒌓𒁺 𒀸 𒀀𒉌𒉌 𒀸 𒂍𒆠𒃲𒆷 𒀸 𒀀𒉌 𒀸 𒂍𒄯𒊕 𒀸 𒌨𒀭𒂗𒆠 𒉺𒄑𒉽𒉈𒌦𒄭 𒉺 𒀸 𒂍𒇯 𒀸 𒌨𒌉𒍣 𒂔𒋛 𒀸 𒆠𒉌𒄭 𒄑𒉽𒉈𒌦𒄭 𒉺 𒀸 𒀭𒋢𒆳𒊒𒀭𒀭𒅎𒂂 𒁾𒊬 𒀸 𒂍𒀭𒀭𒅎𒂂 𒌓𒆠𒃲 𒀸 𒍑 𒂍𒅖𒊏 𒀸 𒋢𒆳𒊒𒀉𒈤 𒋗𒄿 𒀸 𒄯𒌅𒀭𒋢𒆳𒊒 𒈿𒄷𒁶𒅅𒆷 𒀸 𒂗𒉆𒍫𒂠 𒂍𒈾𒇻𒇻 𒀸 𒊩𒀉𒉡𒋢 𒉺𒄑𒉽𒉈𒌦𒄭 𒉺 𒀸 𒌨𒌨 𒇽𒄑𒉽𒉽 𒀸 𒊕𒌓𒁕 𒊩𒀉𒉡𒊨 𒀸 𒄠𒈠𒈠 𒀭𒉡𒈨 𒀸 𒂍𒈾 𒈝𒈠 𒀸 𒋚 𒂍𒀭𒀭𒅎𒂂 𒀸 𒌉𒋖 𒀭𒉡𒈨 𒀸 𒂍𒉣𒅗 𒈩𒌓𒁀 𒀸 𒉆𒈤 𒀸 𒋚 𒀭X𒇷𒇷 𒀸 𒍣𒍣 𒀸 𒆳𒊏𒀉𒅅 𒉎𒍫𒆳𒂠 𒀸 𒀀𒄷𒋾 𒄑𒉽𒉈𒌦𒄭 𒉺 𒀸 𒌨𒌉𒍣 𒁾𒊬 𒉽𒀭𒀭𒅎𒂂 𒀸 𒌨𒌨 𒋖𒌦 𒀸 𒈝𒈠 𒌨𒀭𒋢𒆳𒊒 𒀸 𒌨𒀭𒂗𒆤 𒀀𒉈𒊕𒄀 𒀸 𒋖𒆗 𒈛 𒀸 𒀀𒄷𒋾 𒇽𒁖 𒀸 𒂍𒀭𒋀𒆠 𒉎𒍫𒆳𒂠 𒀸 𒅗𒉌𒍣 𒁀𒕆 𒀸 𒂍𒄯𒊕 𒂍𒆳 𒀸 𒂔𒋛 𒉺𒇻 𒀸 𒀀𒂇𒉌 𒉺𒇻 𒀸 𒍫𒈾 𒌨𒌓 𒀸 𒀭𒋢𒆳𒊒𒀭𒅎𒂂 𒀀𒀀 𒀸 𒈹𒍝𒋛 𒈝𒈠 𒋖𒌦 𒀸 𒁾𒅆𒌨𒋻 𒀸 𒋚 𒈩𒃻𒈜𒇷 𒀸 𒂍𒄯𒊕 𒇽𒄑𒉽𒉽 𒐕 𒐅 𒇽 \n",
      "𒀸 𒈧 𒀊 𒀸 𒂍𒌓 𒀸 𒀭𒂗𒆤 𒋗𒄄𒀀 𒌫𒉌 \n",
      "𒐃 𒇻 𒈗𒍣𒌦 𒐃 𒈬 𒀸 𒀀𒉺𒌓𒁺 X 𒀸 𒌨 𒀸 𒈾𒈠 𒀸 𒁲𒌓 𒐀 𒄯𒌅𒀭𒋢𒆳𒊒 X 𒀸 𒈗𒍣𒌦 𒐀 𒃻𒅆𒊒𒁕 𒀸 𒍚 \n",
      "𒌋𒌋 𒊺 𒉌𒂵 𒌋 𒀀𒋢 𒌆 X 𒋡 X X X X X 𒌨𒀭𒊩𒌆𒊬 𒉺𒇻 𒇽 𒉚 𒅥 𒀸 𒈗XX X X X 𒌨𒊕 𒊕𒆸𒊏 𒇽 𒆠𒅗 𒀸 𒑖 𒊺 𒄯 𒉌𒂵 𒌨𒀭𒊩𒌆𒊬 𒀸 𒊺 𒉌𒂵 𒈨𒀭𒉌𒋛 𒃷 𒆉𒁇 𒃵𒃵 𒇽 𒉚 𒀝 \n",
      "𒐂 𒀲 𒀝𒀭𒉈𒇷 𒐁 𒅗𒆠𒁉𒂠 𒐂 𒌸 𒀸 𒃻𒄷𒆪𒁍 𒐀 𒈝𒈠 𒉡𒊬 𒐀 𒆠𒉌 𒐀 𒆲𒇯 𒋗𒄩 𒌨𒌨 𒀭𒂠𒄘 𒐂 2/4(aš@c) 𒀲𒀳 𒌨𒌨 \n",
      "X X 𒐃 𒅋𒈲𒈨𒊒 X X 𒀸 𒌉𒉣𒋖 𒀸 𒌨𒌉𒍣 X X𒂍XX X X𒋛 𒀳 X 𒀸 X𒃻X X X 𒍚 𒈪 𒀸 𒇻𒄾 X X X 𒐁 𒂗XX \n",
      "𒌋 𒐅 𒈦 𒍏 𒈠𒈾 𒉚 𒂍 𒑘 𒐊 𒂍𒁉 𒂆 𒊬 𒌋𒌋 𒍏 𒈠𒈾 𒃻𒋛𒀀 𒂍 𒆕 𒌋𒌋 𒐃 𒈦 𒍏 𒈠𒈾 𒀸 𒊺 𒉌𒂵 𒃻𒁀 𒀸 𒋠 𒈠𒈾 𒌆 𒑒 𒊺 𒃻 𒐏 𒈖 𒐃 𒉽  𒐃 𒉽  𒐀 𒉌 𒋡 𒊩𒌆𒀀𒍪 𒅍 𒇽 𒉚 𒅥 𒈦 𒊺 𒃻 𒌋 𒈖 𒐀 𒉽 𒄰 𒐀 𒉽  𒃶𒍪𒀊 𒂍𒌫𒁉𒄭 𒉺 𒄊𒉌𒁀𒆪 𒌉 𒊑𒋾 𒀸 𒈬𒉌𒀊 𒋡𒋗𒃮 𒀸 𒆠𒄘 𒋋 𒀸 𒅅𒄀𒉡𒄄 𒁾𒊬 𒌨𒍪𒀊 𒇽 X X 𒂍𒌫𒁉𒄭 𒈨𒄩𒂠 𒀸 𒈨𒉺𒌓𒁺 𒀸 𒆠𒉌𒈬𒍪 𒀸 𒈨𒀭𒉌𒄭 𒉡𒊬 𒀸 𒌨𒀭𒈹 𒀸 𒌨𒍪𒀊 𒁾𒊬 𒂍𒉺𒌓𒁺 𒁾𒊬 𒇽 𒆠𒅗 𒀸 𒍏 𒈠𒈾 𒌋 𒃻 𒌋 𒈖 𒌋𒌋 𒉽 𒄰 𒌋𒌋 𒉽  𒌨𒀭𒋢𒆳𒊒 𒌝𒈪𒀀 𒇽 𒂍𒂠 𒃻 𒈦 𒊺 𒐄 𒈖 𒌋 𒉽 𒄰 𒌋 𒉽  𒁕𒁕 𒂇 𒋻 𒃶𒀭𒆗 𒃶𒂡 𒂍 𒌇𒉈 𒌨𒀭𒂗𒆤 𒋼𒇲𒃲 𒇽 𒂍 𒉚 𒁄 𒉆𒈤 \n",
      "𒉄 𒀸 𒀝𒀮 𒉄 𒀸 𒌨𒀭𒋢𒆳𒊒 𒉄 𒀸 𒋀𒆠𒈾 𒉄 𒀸 𒂍𒂡𒄭 𒉄 𒀸 𒈦𒀭𒋢𒆳𒊒 𒉄 𒀸 𒌓𒌨𒊕 𒉄 𒀸 𒌨𒂗𒁖 𒌣 X 𒀸 𒉽𒄑𒉈𒀉𒉡𒊨 𒌣 𒈦𒀭𒋢𒆳𒊒 𒌣 𒊩𒌆𒄢𒍣 𒌣 𒊮𒁕𒉡𒉈 𒌣 𒋽 𒌣 𒀸 𒈩𒂍𒍣𒁕 𒌣 𒀸 𒄖𒀭𒋀𒆠 𒌣 𒀸 𒀭𒋢𒆳𒊒𒌨𒊕 𒉡𒊬 𒀸 𒀫𒆤𒉣 𒀿 𒋀𒅆𒊒 𒌣 𒀸 𒀭𒂗𒆤𒌺𒀀 𒌣 𒀸 𒌨𒌨 𒀸 LAK62X 𒍑𒆪 𒂗𒄨𒍣 𒀳 𒀸 𒂍𒋀𒆠 𒋀 𒀊𒄷𒄭 𒉡𒌉𒁕 𒀸 𒈗𒃞 𒆬𒅅 𒀸 𒌨𒀭𒆥𒉪 𒀸 𒌨𒀭𒋢𒆳𒊒 𒇽𒈣 𒀭𒈪𒄷 𒀸 𒌫X 𒀭𒈪𒄷 𒉺 𒀸 𒀭𒉡𒈨 𒉺𒁽 𒊕𒂅 𒀸 𒋀𒆠𒈾 𒀭𒈪𒄷 𒉺 𒀸 𒌨𒀭𒌅 𒀭𒈪𒄷 𒉺 𒀸 𒂍𒅖 𒋫 𒀭𒈪𒄷 𒀸 𒀭𒋢𒆳𒊒𒈪𒄷 𒀭𒈪𒄷 𒀸 𒀸𒌨𒊕 𒅗𒉌𒄯𒊕 𒀸 𒈦𒀭𒋢𒆳𒊒 𒌓𒉡𒈨 𒀸 𒉌𒉌 𒀭𒈪𒄷 𒀸 X𒉌 𒌆𒃮 𒀸 𒉺𒉽𒄑𒉈𒂵 𒌆𒃮 𒂍𒄯𒊕 𒀳 𒀭𒂠𒄘 X 𒌋𒌋 𒐀 𒊺 𒄥𒈤 X𒆤 𒃷 𒊺 𒁓𒅗 𒉌𒅥 \n",
      "𒀸 𒕆𒆳 𒄘 𒃲𒁮𒃼 𒀸 𒕆𒂆 X 𒀸 𒕆𒆳 𒃲𒂇 𒀸 𒕆𒆳 𒀭𒉡𒈨 𒌨𒀭𒊺𒉪𒁕 𒀸 𒕆𒆳 𒌉𒉣𒋖 𒀭𒉺 \n",
      "𒀸 𒈦 𒊬 𒂍 𒀸 𒊕 𒍑 𒊕𒁺 𒌇 𒀀𒁀𒈬𒁕𒉌𒂊 𒈦𒄘𒃼 𒅾𒊬 𒉌𒈾𒁀 𒀸 𒀀𒌅 𒁵 𒌴 𒀸 𒊩𒌆𒊏 𒁮 𒇽𒀭𒈤 𒉄 𒀸 𒊩𒌆𒅆𒅍 𒁮 𒉿𒉌𒉌 𒀸 𒊩𒌆𒀭𒈾𒁺 𒁮 𒁲𒌓 𒉄 𒀸 𒊩𒌆𒈬𒉡𒈾𒁺 𒊩𒆳 𒀭𒋢𒆳𒊒 𒀸 𒋛𒄙 𒊮𒍪 𒇽𒆠𒅗 𒆠𒈿 𒁲𒍪𒀊𒋫 𒁄 𒌨𒀭𒊩𒌆𒉺 \n",
      "𒄀𒌆𒇲 𒈾𒈾 1(aš@v) 𒈝𒈠 1(aš@v) 𒀝XXX 1(aš@v) XXX 1(aš@v) 𒀀𒇻 1(aš@v) 𒁺𒊮 1(aš@v) 𒀭𒁍 1(aš@v) 𒉺 LAK672 1(aš@v) 𒈝𒈠 1(aš@v) 𒇻𒇻 𒀿 1(aš@v) 𒂡X 𒉄 1(aš@v) 𒁃 𒍩 𒈠 𒆠 1(aš@v) 𒃻𒋛 X 1(aš@v) 𒊩𒀉𒉡𒊨 X X X X X X 1(aš@v) 𒁀 X 1(aš@v) X X 1(aš@v) X \n",
      "𒌋 𒐄 𒋢 𒍚 𒌋𒌋 𒐂 𒋢 𒇻 𒋢 𒋛 𒋢 𒇻 𒆳 \n",
      "𒐀 𒀲 𒂍𒈾𒇻 𒐂 𒅗𒍣 𒐂 𒈦𒍏 𒍣𒊏 𒐂 𒊕LAK244 𒐂 𒈪𒍝𒉌 𒀸 𒍣𒍣 𒅁 𒐂 𒌨𒀭𒈹 𒐀 𒀸𒉌 𒐀 𒀭𒉡𒈨 𒈗𒅗𒍪 𒐂 𒊩𒌆𒌺 𒂍𒆷LAK218 𒀸 𒄯𒌅𒀭𒋢𒆳𒊒 𒐂 𒈝𒈠 𒉣𒈨 𒐂 𒀫𒉦 𒂍𒆠𒁀 𒐁 𒌨𒌉𒍣 𒅘𒋢 𒐂 𒈗𒂡 𒐀 𒀫𒀭𒅎 𒊻𒃮 𒐂 𒌨𒌨 𒀸 𒊩𒌆𒈨𒋗𒌌 𒐁 𒀭𒉡𒈨 𒅖 𒐀 𒋀𒂼𒈾 𒐂 𒀜𒁕 𒐁 𒀭𒋢𒆳𒊒𒌨𒊕 𒂼𒁓𒊏 𒐁 𒋀𒉌 𒐂 𒉆𒈤 𒋀𒌉 𒐁 𒀭𒉡𒈨 𒐂 𒀫𒈹𒍝 𒁮𒃼 𒐂 𒀭𒌫𒂠 𒌨𒌉𒍣 𒐂 𒀭𒉡𒈨 𒂍𒅖𒋫𒌓𒁺 𒀸 𒀭𒉡𒈨 𒄑𒌆𒋼𒀀𒁺 𒐀 𒍠𒋫 𒂍𒀭𒋢𒆳𒊒𒈪𒄷 𒐂 𒈗𒆠𒆪𒄭 𒈗𒌉𒍣 𒃷 𒈤𒇻𒇻 𒀳𒆕 \n",
      "𒐞 𒌋 𒐂 𒊺 𒄥 𒃷𒁉 𒐐 𒌓 5(diš@t) 𒌍 𒀸 𒈩𒌓𒁀 𒌍 X 𒐁 X 𒂼𒍪𒀊𒋛 𒌋𒌋 𒐃 𒁶 𒌍 𒈗𒆠𒃲𒆷 𒌋𒌋 𒐄 X 𒌍 𒂼X 𒌋𒌋 𒀸 𒄫𒀀 𒌋𒌋 𒐀 𒂵X 𒐛 X 𒊺 𒄥 \n",
      "𒑖 𒑏 𒊺 𒉌𒂵 𒊕𒊩𒌆𒌇 𒁹 𒑏 𒈨𒆸 X 𒑒 𒊩𒌆𒂼𒈾 𒑗 𒁈X𒅅 \n",
      "𒐕 𒌋 𒄑𒆥 X X 𒈗X 𒐏 𒇲 𒐀 𒈩𒂍X𒋫𒌓𒁺 𒐏 𒋀𒌉𒁕 𒌋 𒈗𒇲𒆸𒄭 𒉺 𒈗𒅗𒈪𒆠 𒐖 𒌋 𒈗𒁈𒋛 𒐐 X X 𒌋 𒂍𒍣𒉺𒌓𒁺 𒍑 𒌓 X 𒐕 𒇲 𒐁 X𒄭 𒀭𒂠𒄘 𒐚 𒌍 X 𒄑𒆥 \n",
      "𒌋𒌋 𒇻𒋠 XX𒅆 𒌋𒌋 𒀫𒈹𒍝 𒐏 𒍪𒀊𒆠𒄭 𒌍 𒆪𒇷 𒌋𒌋 𒂍𒁔𒃲 𒌋𒌋 𒐃 𒂍𒄠𒄞 𒌍 𒀭𒌨𒊕 𒌋 𒀭𒋢𒆳𒊒𒌨𒊕 𒌍 𒍇𒋛 𒌍 𒂼𒅅𒃲 𒉽𒄑𒉈𒀀𒈬 𒈾𒃰 𒀭𒂠𒄘 𒐘 𒌋 𒐃 𒇻𒋠 𒊾X \n",
      "𒐟 𒋛 𒐟  𒉺𒋼𒋛𒃻 𒂗 𒍣𒌓𒁲𒆠 𒐕 𒋛 𒃲𒉌𒌇 𒋚 𒋗𒄿 𒋃𒃻 𒐕 𒌍 𒋛 𒌉 𒃲𒉌𒌇 𒃻𒄷𒂉𒁍 𒌵 \n",
      "X 𒑏 𒃻𒄯𒊏 𒉌𒂵 𒀭𒂗𒆤𒀉𒈤 \n",
      "𒐂 𒊺𒆳 𒉌𒂵 𒀭𒋢𒆳𒊒𒁕𒇽 \n",
      "𒑖 𒑒 𒊺 𒀭𒂗𒆤𒌺𒀀 𒑖 𒑒 𒂍𒆠𒁀 𒑖 𒑒 𒀭𒋢𒆳𒊒𒀉𒈤 𒑖 𒑒 𒈤𒄷 𒑖 𒑒 𒋀𒂼𒈾 𒑖 𒑒 𒋀𒂼𒈾 𒑖 𒑒 𒄯𒊕𒂠𒈤 1/2(aš@c) 𒇽𒂍𒍣 𒉺𒀀𒍫 X 𒑖 𒑒 𒇽𒈾𒉆 𒑖 𒑒 𒉽𒀉𒉡𒊨 𒑖 𒑒 𒀀𒃻𒈜𒇷 𒑖 𒑒 𒁲𒌓 𒑖 𒑒 𒊩𒀉𒉡𒊨 𒑖 𒑒 𒌨𒀭𒄘𒇲 𒑖 𒑒 𒌓𒌨𒊕 𒑖 𒑒 𒀭𒋢𒆳𒊒𒌨𒊕 𒑖 𒑒 𒈝𒈠 𒑖 𒑒 𒀭𒂗𒆤𒌺𒀀 𒑖 𒑒 𒄯𒌅𒀭𒋢𒆳𒊒 𒑖 𒑒 𒃞𒉺𒌓𒁺 𒑖 𒑒 𒌓𒀀𒈬 𒑖 𒑒 𒀭𒋢𒆳𒊒𒀉𒈤 𒑖 𒑒 𒅗𒉌𒍣 𒑖 𒑒 𒉆𒈤𒀭𒋢𒆳𒊒𒁕 𒑖 𒑒 𒈨𒉈𒆳𒊏 𒑖 𒑒 𒌓𒌨𒊕 𒑖 𒑒 𒀝𒌓 𒑖 𒑒 𒊕𒋻 1/2(aš@c) 𒂍𒆠𒁀 𒉺𒉺𒁽 𒑖 𒑒 X𒌦 𒀭𒂗𒍪 𒑖 𒑒 𒌨𒌓 X 𒂍X 𒑖 𒑒 𒌨𒀭𒈹 𒑖 𒑒 𒈗𒉺𒌓𒁺 1/2(aš@c) 𒇽𒈾𒉆 𒉺𒈛 𒑖 𒑒 𒅗𒉌𒍣 𒑖 𒑒 𒍠𒋫 𒑖 𒑒 𒀭𒉡𒈨 𒑖 𒑒 𒈗𒆠𒂉𒄭 𒑖 𒑒 𒊩𒀉𒉡𒋢 𒑖 𒑒 𒊮𒋫𒉡𒌓𒁺 𒑖 𒑒 𒂖 𒑖 𒑒 𒀫𒀫 𒑖 𒑒 𒁲𒌓 𒑖 𒑒 𒋗𒄿 𒑖 𒑒 𒍪𒀊𒋫𒄷𒄭 𒑖 𒑒 𒀝𒀮 𒑖 𒑒 𒀭𒋀𒆠𒈾 𒑖 𒑒 X 𒑖 𒑒 X 𒑖 𒑒 X 𒑖 𒑒 X 𒑖 𒑒 𒀀XX 𒑖 𒑒 X 𒑖 𒑒 X𒇽 𒑖 𒑒 𒈤𒇻𒇻 1/2(aš@c) 𒀭𒍏𒋛 𒉺𒋡𒋗𒃮 𒑖 𒑒 𒍠𒋫 𒑖 𒑒 𒁲𒌓 𒑖 𒑒 𒈗𒀉𒈤 𒑖 𒑒 𒌨𒌉𒍣 𒑖 𒑒 𒄯𒊕𒂠𒈤 𒑖 𒑒 𒀭𒋢𒆳𒊒𒌨𒊕 𒑖 𒑒 𒁺𒁺 𒑖 𒑒 𒂍𒆳𒉺𒌓𒁺 1/2(aš@c) 𒁾𒅆𒌨𒋻 𒉺𒅆𒁾 𒑖 𒑒 𒀭𒋢𒆳𒊒𒉡𒈨 𒑖 𒑒 𒀊𒁀𒉌 𒑖 𒑒 𒌨𒂗𒆠 1/2(aš@c) 𒋚 𒉺 𒈬 X X𒌺 𒇽𒀸𒁄 𒀭𒂠𒄘 𒐕 𒌋𒌋 𒇲 𒀸 𒌉𒌉 𒊮 𒂍𒃲 𒀫𒆤𒉣 𒋩𒄖𒉣 \n",
      "𒀸 𒃢 𒍑 𒀸 LAK020 𒀭𒂗𒆤𒌺𒀀 𒊩𒀉𒉡𒊨 𒀸 𒈦 𒇇 𒀭𒉡𒈨 𒈦𒀭𒋢𒆳𒊒 𒀸 𒈦 𒌓𒀉𒈤 𒁾𒊬𒈤 𒐀 LAK020 𒌉𒌉 𒀭𒀝 \n",
      "𒀸 𒅎𒁉𒈾𒉆 𒌨𒀭𒌉𒍣 𒋩𒄖 𒀸 𒂍𒈾𒈾 𒈗𒉌𒄿𒈬 𒀸 𒊩𒌆𒁕𒈤𒁲 𒌨𒀭𒊩𒌆𒊊 𒀸 𒅆𒉄𒁍𒂠 𒀭𒌁𒌨𒊕 𒀸 𒈗𒋛𒁲 𒉺𒍣 𒀸 𒀊𒁀𒌉 𒈬 𒆬𒇲 𒀸 𒌑𒅗𒅋 𒆬𒇲 𒀸 𒀭𒋢𒆳𒊒𒍪𒋛𒀀 𒀸 𒈗𒋀 𒀸 𒈗𒀭𒊨 𒀸 𒀝 𒀸 𒅆𒀭𒂠 𒀸 𒅆𒀭𒄱𒄄𒂠 𒀸 𒉈𒉌 𒀸 𒀭𒀀𒍪 𒊬𒉌𒉆𒋃𒁺𒈾 𒀸 𒈗𒂍𒉌𒂠 𒀸 𒊮𒉡𒅅 𒌨𒇥𒊕 𒀸 𒂍𒋀 𒈗𒋀 𒀸 𒆕𒋻 𒈗X𒂍 𒀸 𒈗𒊷𒂵 \n",
      "𒐀 𒋛 𒃲𒃲 𒐏 𒋛 𒊕 𒐅 𒑒 𒋛 𒐕 𒐏 𒐃 𒋛 𒊕 𒐅 𒑒 𒋛 𒐐 𒀸 𒋛 𒊕 𒐅 𒑐 𒋛 𒐏 𒐀 𒋛 𒊕 𒌋𒌋 𒐁 𒋛 2(gešmin@c) 𒇲 𒐀 𒋛 𒊕 𒋗𒄩 𒋗 𒁀𒋾 𒋛 𒁀𒍝 \n",
      "𒁹 𒊩𒅅𒃲 𒁹 𒆕𒍣𒌝 𒁹 𒌨𒀭𒀸𒁯 𒁹 𒀭𒈾𒆕 𒁹 𒆷𒆷 𒁹 𒂍𒁰𒈦 𒁹 𒌫𒄭 𒁹 𒅆𒁓𒅖𒊏 𒁹 𒋚 𒁹 𒃲𒃲 XX 𒁹 𒌨XX 𒁹 𒀀𒃲𒁔𒁕 𒁹 𒀭𒋢𒆳𒊒𒀭𒅎𒈪𒄷 𒁹 𒄷𒆪𒁍 𒁹 𒀫𒇳𒊬 𒁹 𒁺𒁺 𒁹 𒂍 𒁹 𒂍𒅎𒆒 X 𒁹 𒂍𒆳𒌺𒀀 𒁹 𒀀𒂼𒋛 \n",
      "𒐂 𒀲 𒈬𒆳𒋫 𒉽𒉽𒊬 𒐂 𒌨𒌉𒍣 𒀭𒉈𒄀 𒐀 𒀭𒍏𒋛 X X𒉆 𒐀 𒌨𒃶𒁺 𒉡𒌉𒁕 𒐀 𒈨𒈤𒉡𒁲 𒈾𒃰 𒐀 𒀭𒉡𒈨 X X 𒀸 X 𒀭𒂠𒄘 𒐃 𒀲𒀳 𒁾 𒀸 \n",
      "𒐖 𒇲 𒐅 XX 𒃲𒃲 𒐗 𒐏 𒇲 𒐁 X𒈝𒊕 𒐏 𒐀 𒈣𒋽 𒐏 𒊒 𒐏 𒐂 𒄑𒆥𒋾 X 𒍠𒋙 𒌍 𒐂 𒀳 𒌋 𒀸 𒇽 𒀲 𒁻 𒌷 𒌍 𒈗𒀉𒈤 𒐐 X 𒀀𒊑𒄭 Xn(u@c) 𒇲 X 𒌨𒀭𒌍𒄫 𒀸𒅤 𒌍 𒐀 𒊕𒀭𒄱𒄄𒁕 𒌋 𒐂 𒇲 𒁹 𒋖𒈬 𒐇 𒇲 𒁹 𒇇X X 𒀸 𒋀𒄉𒃲 𒌋 𒐄 𒈗𒅗𒅅𒆷 X 𒌋𒌋 𒐄 𒑖 𒍑𒌉 𒋗𒆸 X X 𒀭𒂠𒄘 X 𒐖 X \n",
      "𒐉 𒀀𒂍𒉣 𒑖 𒑑 𒂗𒁽 𒑖 𒋗𒄩 𒇴𒈠 𒑖 𒑒 𒅗𒉌 𒀸 6(barig@c) 𒑒 𒋾𒆷𒈤 \n",
      "𒐏 𒐀 X𒍑 𒐐 𒍚 𒊩𒀾𒃼 𒐅 𒈧 𒐅 𒇇 XXX X X 𒐁 X X \n",
      "X 𒐄 𒍏 𒈠𒈾 𒉚 𒃷 3(iku@c) 𒃷𒁉 𒐄 𒍏 𒈠𒈾 𒃻𒋛𒀀 𒌋 𒐆 𒍏 𒈠𒈾 𒀸 𒊺 𒉌𒂵 𒃻𒁀 𒀸 𒌈𒆕 𒌆 𒑒 𒊺 𒃻 𒌋𒌋 𒈖 𒐂 𒉽  𒐂 𒉽  𒀸 𒉌 𒋡 𒀭𒋢𒆳𒊒𒀉𒈤 𒇽 𒉚 𒅥 𒑐 𒊺 𒃻 𒌋 𒈖 𒐀 𒉽 𒄰 𒐂 𒉽  𒀸 𒈨𒀭𒉌𒋛 𒀸 𒌨𒀭𒊩𒌆𒀕 𒀸 𒀀𒄯𒅆 𒁾𒊬 𒀸 𒆹𒆠𒄭 𒋗𒄩 𒀸 𒈦 𒍏 𒈠𒈾 𒐂 𒃻 𒐂 𒈖 𒀸 𒉽 𒄰 𒀸 𒉽  𒌨𒀭𒊩𒌆𒀕 𒁾𒊬 𒐁 𒃻 𒐁 𒈖 𒁕𒁺𒈜 𒀳𒍑 𒀸 𒌨𒀭𒊩𒌆𒀕 𒀸 𒅗𒀭𒋢𒆳𒊒𒁕𒍣 𒀸 𒇽𒈾𒉆 𒌨𒀭𒂗𒍣𒁕 𒌉 𒋀LAK769𒈾 𒋀LAK769𒈾 𒇽 𒃷 𒉚 𒂍 𒈜 𒁄 𒅗𒉌𒍣 \n",
      "X 𒂍𒉡𒋛 𒀸 𒈯𒋛 X 𒂍𒈾𒇻𒇻 X 𒈗𒀭𒋛𒀀 1/2(aš@c) 𒀭𒊩𒌆𒂦 𒍑𒆪 X 𒇻𒇻 1/2(aš@c) 𒉌𒄄𒀀 1/2(aš@c) 𒂍X 𒂇𒋼𒈨𒈾 𒑖 𒑒 𒅗𒉌𒍣 𒉮𒆕 𒀲 𒀸 𒊺 𒄥 𒇽𒈝𒈠 𒃲𒃻𒃮𒃮 𒁮𒃼 X X𒀭𒌅 𒀕𒆠 𒌨𒌉𒍣 𒂇 𒑖 𒑒 𒉆𒈤 𒇻𒇻 𒋚 X 𒌨𒌉𒍣 X 𒇽X 𒋃𒃻 X 𒊺 𒄥 𒂍𒊊𒃲 X \n",
      "𒐞 𒐕 𒌋 𒄨 𒀞 𒁺 𒃻𒅥 𒐟 𒐚 𒐐 𒐀 𒄨 𒌺𒆠 𒃻𒅥 𒉌 𒂞 \n",
      "𒐂 𒀲 𒌨𒀭𒌅 𒐂 𒄯𒌅𒀭𒋢𒆳𒊒 𒄄𒍝 𒐂 𒌉𒉣𒋖 𒌣 𒐂 𒀫𒀭𒈹𒍝 𒆠𒉪 𒐂 𒌨𒌨 𒀸 𒀫𒀭𒉺 𒋗𒄿 𒀸 𒇻𒇻 𒂄 𒐀 𒅗𒂵𒉌 𒁔𒈠 𒐂 𒄯𒌅𒀭𒋢𒆳𒊒 𒀀𒌌 𒐂 𒌨𒉌 𒐀 𒉌𒉌 𒉡𒊬 𒀸 𒀭𒊾𒆕 𒀸 𒀀𒉈𒉡 𒉄 𒐂 𒍪𒀊𒄷𒄭 𒀭𒉺𒇻 𒐀 𒀫𒆬 𒆥𒉪 𒐂 𒅗𒈗𒍣𒁕 𒐀 𒂗𒍪𒀊𒋫𒄷𒄭 𒐂 𒃞𒉡𒂠 𒋃𒃻 𒐁 𒂍𒈾𒇻𒇻 𒋡𒋗𒃮 𒐂 𒂍𒆳𒉺𒌓𒁺 𒁾𒊬 𒐀 𒌉𒉣𒋖 𒅁 𒐁 𒀭𒍏𒋛 𒉺𒋼𒋛𒃲 𒐂 𒆠𒉌𒈬𒄄 𒉺𒋼𒋛𒃲 𒀸 𒀫𒀭𒅎 𒀸 𒁲𒌓 𒀸 𒆳𒊏𒀉 𒉺𒁽 𒐀 𒀀𒇯 𒁾𒊬 𒀸 𒀭𒋢𒆳𒊒𒉪𒍣 𒁾𒊬 𒀸 𒂔𒋛 𒁾𒊬 𒐀 𒅗𒉌𒍣 𒁀𒍝 𒐂 𒍪𒀊𒈤𒁲 𒀸 𒌨𒂍𒉣𒃲 𒇽𒄯 𒐂 𒌨𒀭𒉡𒈲𒁕 𒈛 𒐂 𒌨𒌉𒍣 𒉺𒋼𒋛𒃲 𒀸 𒍇𒋛 𒐀 𒌨𒌉𒍣 𒋛𒆕 𒐀 𒆳𒊏𒀉𒃲 𒐀 𒋚 𒀭𒀜𒋓𒄄𒌨𒊕 𒀸 𒀀𒉣𒅆𒊒 𒍠𒄩 𒐀 𒊩𒌆𒄘𒃲 𒍑𒆪 𒀸 𒃻𒋜 𒐀 𒇽𒋭 𒈲𒁻 𒐂 𒀜𒁕 𒅖 𒐁 𒇻𒇻 𒈪 𒐀 𒀭𒉡𒈨 𒂍𒌌𒌌 𒐀 𒈗𒆠𒆪𒄭 𒃻𒅅𒄭 𒐂 𒌨𒀭𒋢𒆳𒊒 𒀝𒀭 𒀸 𒌓𒈗 𒆥𒉪 𒀸 𒃲𒀿 𒀸 𒆪𒊕 𒀸 𒀝𒀭𒉈 𒀸 𒅗𒆠𒂠 𒀸 𒇴𒈠 𒌨𒌨 𒐀 𒂍𒊊𒃲 𒐀 𒀉𒉘𒄭 𒀳𒆕 𒉡𒀝 \n",
      "𒀸 𒉌𒂵 𒂠𒊺 𒁓𒉣𒋛 𒇷XX \n",
      "𒌋 𒐁 𒊺 𒄥 𒐂 𒑏 𒍩 𒌓 𒄥 𒐂 𒍩 𒄘𒉭 𒈨𒉺𒌓𒁺 𒊺 𒉘 \n",
      "𒐛 𒐏 𒋠 𒈠𒈾 𒄯𒊕𒂠𒈤 𒈩𒇽𒉡𒂠 𒋗 𒂷LAK198 \n",
      "𒑘 4(iku@c) 𒃷 𒊕LAK244 𒑘 1(iku@c) 1/2(iku@c) 𒀀𒈝 𒑘 1(iku@c) 1/2(iku@c) 𒀝𒀭 𒈥 𒑘 1(iku@c) 1/2(iku@c) 𒌓𒌨𒊕 𒇽𒈣 𒑘 𒈨𒉺𒌓𒁺 𒀳 𒀀𒉡𒂠 𒑘 4(iku@c) 𒌨𒌨 5(iku@c) 𒀭𒋢𒆳𒊒𒁕𒍣 𒁀𒕆 5(iku@c) 𒋓𒂡 5(iku@c) 𒈩𒂍𒍣𒁕 𒉡𒌉 𒑘 1(iku@c) 1/2(iku@c) 𒀭𒉡𒈨 𒌨𒂍 2(iku@c) 1/2(iku@c) 𒀀𒁕𒂉 𒌨𒀭𒄘𒇲 𒑘 1(iku@c) 𒂍𒈾𒇻𒇻 𒁮𒃼 5(iku@c) 𒌨𒀭𒋳𒉣 𒉺 𒑘 4(iku@c) 𒂵𒊑 𒅖 2(iku@c) 1/2(iku@c) 𒀫𒈹𒍝 𒀀𒆠𒃲 𒑘 3(iku@c) 𒀫𒈹𒍝 𒇽𒊩𒆳𒍣 3(iku@c) LAK343 𒑘 4(iku@c) 𒇯𒇯 𒑘 4(iku@c) 𒇴𒈠 𒑘 4(iku@c) 𒂗𒈬𒄭 𒀭𒍑 5(iku@c) 𒌨𒀭𒆗 𒊓𒄯 5(iku@c) 𒌓𒀉𒈤 𒑘 4(iku@c) 𒌉𒉣𒋖 𒀀𒋜 5(iku@c) 𒋚 𒍮𒁕 5(iku@c) 𒋚 𒍍 2(iku@c) 𒀀𒉈𒉡 𒌣 𒑘 𒌨𒀭𒂠𒉪𒁕 𒁾𒊬 𒑘 4(iku@c) 𒌨𒀭𒄘𒇲 𒑘 4(iku@c) 𒌨𒈗𒁺 5(iku@c) 𒀊𒋫𒄷𒄭 2(iku@c) 1/2(iku@c) 𒄑𒈪𒁉 5(iku@c) 𒋚 𒌓𒆠𒃲 5(iku@c) 𒍪𒀊𒆠𒄭 𒁾𒊬 5(iku@c) 𒈨𒈤𒉡𒁲 5(iku@c) 𒀀𒉣𒀭𒋢𒆳𒊒 𒇽𒉒 𒑘 3(iku@c) 𒂍𒉡𒋛 𒋼𒇲 5(iku@c) 𒀝𒌓 𒈾𒃰 5(iku@c) 𒂍𒀭𒀭𒅎𒂂 𒉺 5(iku@c) 𒌉𒀭𒀭𒅎𒂂 𒇽\n"
     ]
    }
   ],
   "source": [
    "print(sux_text[:10000])"
   ]
  },
  {
   "cell_type": "code",
   "execution_count": null,
   "metadata": {
    "collapsed": false
   },
   "outputs": [],
   "source": [
    "print(\"udu \\nmaš\")"
   ]
  },
  {
   "cell_type": "code",
   "execution_count": null,
   "metadata": {
    "collapsed": true
   },
   "outputs": [],
   "source": []
  }
 ],
 "metadata": {
  "kernelspec": {
   "display_name": "Python 3",
   "language": "python",
   "name": "python3"
  },
  "language_info": {
   "codemirror_mode": {
    "name": "ipython",
    "version": 3
   },
   "file_extension": ".py",
   "mimetype": "text/x-python",
   "name": "python",
   "nbconvert_exporter": "python",
   "pygments_lexer": "ipython3",
   "version": "3.6.0"
  }
 },
 "nbformat": 4,
 "nbformat_minor": 2
}
