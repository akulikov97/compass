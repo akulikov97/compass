{
 "cells": [
  {
   "cell_type": "code",
   "execution_count": 8,
   "metadata": {},
   "outputs": [],
   "source": [
    "import warnings\n",
    "warnings.filterwarnings(action='ignore', category=UserWarning, module='gensim')\n",
    "warnings.filterwarnings(action='ignore', category=FutureWarning, module='gensim' )\n",
    "from gensim.models.fasttext import FastText as FT_gensim\n",
    "import pandas as pd\n",
    "import pickle"
   ]
  },
  {
   "cell_type": "code",
   "execution_count": 19,
   "metadata": {},
   "outputs": [],
   "source": [
    "model_l = FT_gensim.load(\"model/model_lemm.model\")\n",
    "model_c = FT_gensim.load(\"model/model_cuneiform.model\")"
   ]
  },
  {
   "cell_type": "code",
   "execution_count": 17,
   "metadata": {},
   "outputs": [
    {
     "data": {
      "text/plain": [
       "[('sisa[fair]AJ', 0.8176571130752563),\n",
       " ('HI.da[qualification]AJ', 0.7809352874755859),\n",
       " ('huš[reddish]V/i', 0.7789785861968994),\n",
       " ('kugbabbar[silver]N', 0.7789101004600525),\n",
       " ('samsatum[emblem]N', 0.7700756788253784),\n",
       " ('izigu[loss]N', 0.7686669230461121),\n",
       " ('3(diš)-gal₂-ta', 0.7682610750198364),\n",
       " ('har[ring]N', 0.7669283747673035),\n",
       " ('4(diš)-gal₂-ta', 0.7640795707702637),\n",
       " ('gur[unmng]N', 0.760750949382782)]"
      ]
     },
     "execution_count": 17,
     "metadata": {},
     "output_type": "execute_result"
    }
   ],
   "source": [
    "model_l.wv.most_similar(positive=\n",
    "                        [\"še[barley]N\", \"kugsig[gold]N\"], \n",
    "                        negative = [\"ninda[bread]N\"])"
   ]
  },
  {
   "cell_type": "code",
   "execution_count": 16,
   "metadata": {},
   "outputs": [
    {
     "name": "stdout",
     "output_type": "stream",
     "text": [
      "yes\n",
      "yes\n",
      "yes\n"
     ]
    }
   ],
   "source": [
    "for word in [\"še[barley]N\", \"kugsig[gold]N\", \"ninda[bread]N\"]: \n",
    "    if word in model_l.wv.vocab: \n",
    "        print(\"yes\")\n",
    "    else: \n",
    "        print(\"no\")"
   ]
  },
  {
   "cell_type": "code",
   "execution_count": 20,
   "metadata": {},
   "outputs": [
    {
     "data": {
      "text/plain": [
       "[('𒄞', 0.9717748165130615),\n",
       " ('𒀲', 0.9680039882659912),\n",
       " ('𒅥', 0.9639130234718323),\n",
       " ('𒌋', 0.9621936678886414),\n",
       " ('𒂵', 0.9618293046951294),\n",
       " ('𒊺', 0.9617350697517395),\n",
       " ('𒐉', 0.9607122540473938),\n",
       " ('𒄷', 0.9605740308761597),\n",
       " ('𒋛', 0.9604088068008423),\n",
       " ('𒆠', 0.9603884220123291)]"
      ]
     },
     "execution_count": 20,
     "metadata": {},
     "output_type": "execute_result"
    }
   ],
   "source": [
    "model_c.wv.most_similar(positive=\n",
    "                        [\"𒇻\", \"𒀫\"], \n",
    "                        negative = [\"𒃢\"])"
   ]
  },
  {
   "cell_type": "code",
   "execution_count": null,
   "metadata": {},
   "outputs": [],
   "source": []
  }
 ],
 "metadata": {
  "kernelspec": {
   "display_name": "Python 3",
   "language": "python",
   "name": "python3"
  },
  "language_info": {
   "codemirror_mode": {
    "name": "ipython",
    "version": 3
   },
   "file_extension": ".py",
   "mimetype": "text/x-python",
   "name": "python",
   "nbconvert_exporter": "python",
   "pygments_lexer": "ipython3",
   "version": "3.7.0"
  }
 },
 "nbformat": 4,
 "nbformat_minor": 2
}
