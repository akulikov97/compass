{
 "cells": [
  {
   "cell_type": "markdown",
   "metadata": {},
   "source": [
    "# Create OGSL table\n",
    "Create a DataFrame that associates every sign value that is recognized in [ORACC](http://oracc.org) with a unicode code point (or a sequence of unicode code points). The table may be used to translate a text in transliteration into a sequence of unicode code points for use in `fasttext`. The data are derived from the ORACC Global Sign List ([OGSL](http://build-oracc.museum.upenn.edu)).\n"
   ]
  },
  {
   "cell_type": "code",
   "execution_count": null,
   "metadata": {
    "collapsed": true
   },
   "outputs": [],
   "source": [
    "import pandas as pd\n",
    "import zipfile\n",
    "import json\n",
    "import tqdm\n",
    "import requests\n",
    "import errno\n",
    "import os\n",
    "import pickle"
   ]
  },
  {
   "cell_type": "markdown",
   "metadata": {},
   "source": [
    "## 0 Create Directories, if Necessary\n",
    "The two directories needed for this script are `jsonzip` and `output`. If they do not exist they are created, else: do nothing.\n",
    "\n",
    "For the code, see [Stack Overflow](http://stackoverflow.com/questions/18973418/os-mkdirpath-returns-oserror-when-directory-does-not-exist)."
   ]
  },
  {
   "cell_type": "code",
   "execution_count": null,
   "metadata": {
    "collapsed": true
   },
   "outputs": [],
   "source": [
    "directories = ['jsonzip', 'output']\n",
    "for d in directories:\n",
    "    try:\n",
    "        os.mkdir(d)\n",
    "    except OSError as exc:\n",
    "        if exc.errno !=errno.EEXIST:\n",
    "            raise\n",
    "        pass"
   ]
  },
  {
   "cell_type": "markdown",
   "metadata": {},
   "source": [
    "## 1 Download the ZIP file"
   ]
  },
  {
   "cell_type": "code",
   "execution_count": null,
   "metadata": {
    "collapsed": false
   },
   "outputs": [],
   "source": [
    "project = \"ogsl\"\n",
    "CHUNK = 16 * 1024\n",
    "url = \"http://build-oracc.museum.upenn.edu/json/\" + project + \".zip\"\n",
    "file = 'jsonzip/' + project + '.zip'\n",
    "r = requests.get(url)\n",
    "if r.status_code == 200:\n",
    "    print(\"Downloading \" + url + \" saving as \" + file)\n",
    "    with open(file, 'wb') as f:\n",
    "        for c in r.iter_content(chunk_size=CHUNK):\n",
    "            f.write(c)\n",
    "else:\n",
    "    print(url + \" does not exist.\")"
   ]
  },
  {
   "cell_type": "markdown",
   "metadata": {},
   "source": [
    "# <a name=\"head21\"></a>2 The `parsejson()` function"
   ]
  },
  {
   "cell_type": "code",
   "execution_count": null,
   "metadata": {
    "collapsed": false
   },
   "outputs": [],
   "source": [
    "def parsejson(data_json):\n",
    "    for key, value in data_json[\"signs\"].items():\n",
    "        if \"values\" in value:\n",
    "            for n in value[\"values\"]:\n",
    "                s[\"value\"] = n\n",
    "                s[\"name\"] = key\n",
    "                if \"utf8\" in value:\n",
    "                    s[\"utf8\"] = value[\"utf8\"]\n",
    "                    s[\"hex\"] = value[\"hex\"] \n",
    "                else:\n",
    "                    s[\"utf8\"] = \"\"\n",
    "                    s[\"hex\"] = \"\"\n",
    "                sign = {key : value for key, value in s.items()}\n",
    "                s_l.append(sign)\n",
    "    return"
   ]
  },
  {
   "cell_type": "markdown",
   "metadata": {},
   "source": [
    "# 3 Main Process"
   ]
  },
  {
   "cell_type": "code",
   "execution_count": null,
   "metadata": {
    "collapsed": false
   },
   "outputs": [],
   "source": [
    "s = {}\n",
    "s_l = []\n",
    "file = \"jsonzip/ogsl.zip\"\n",
    "z = zipfile.ZipFile(file) \n",
    "filename = \"ogsl/ogsl-sl.json\"\n",
    "signlist = z.read(filename).decode('utf-8')\n",
    "data_json = json.loads(signlist)                # make it into a json object (essentially a dictionary)\n",
    "parsejson(data_json)  "
   ]
  },
  {
   "cell_type": "markdown",
   "metadata": {},
   "source": [
    "# 4 Make Dataframe"
   ]
  },
  {
   "cell_type": "code",
   "execution_count": null,
   "metadata": {
    "collapsed": false
   },
   "outputs": [],
   "source": [
    "df = pd.DataFrame(s_l)\n",
    "df"
   ]
  },
  {
   "cell_type": "code",
   "execution_count": null,
   "metadata": {
    "collapsed": true
   },
   "outputs": [],
   "source": [
    "with open(\"output/ogsl.p\", \"wb\") as p:\n",
    "    pickle.dump(df, p)"
   ]
  },
  {
   "cell_type": "code",
   "execution_count": null,
   "metadata": {
    "collapsed": true
   },
   "outputs": [],
   "source": []
  }
 ],
 "metadata": {
  "kernelspec": {
   "display_name": "Python 3",
   "language": "python",
   "name": "python3"
  },
  "language_info": {
   "codemirror_mode": {
    "name": "ipython",
    "version": 3
   },
   "file_extension": ".py",
   "mimetype": "text/x-python",
   "name": "python",
   "nbconvert_exporter": "python",
   "pygments_lexer": "ipython3",
   "version": "3.5.2"
  }
 },
 "nbformat": 4,
 "nbformat_minor": 2
}
