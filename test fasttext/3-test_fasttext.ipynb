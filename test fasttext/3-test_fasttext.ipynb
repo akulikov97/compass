{
 "cells": [
  {
   "cell_type": "markdown",
   "metadata": {},
   "source": [
    "# Fasttext\n",
    "Build a fasttext model and do some basic analyses.\n",
    "Before running this code parse the ogsl data set to produce a dataframe of OGSL sign readings, sign names and utf8 representations, and parse the Ur 3 dataset to produce a text file in cuneiform utf8. \n",
    "\n",
    "The code below runs the Python implementation of FastText, which is rather underdeveloped. It is better to run the Gensim implementation, see https://github.com/RaRe-Technologies/gensim/blob/de8657e9b8d5192750296b6765175c31c8bb3298/docs/notebooks/FastText_Tutorial.ipynb"
   ]
  },
  {
   "cell_type": "code",
   "execution_count": 14,
   "metadata": {},
   "outputs": [],
   "source": [
    "import gensim\n",
    "from gensim.models.word2vec import LineSentence\n",
    "from gensim.models.fasttext import FastText as FT_gensim"
   ]
  },
  {
   "cell_type": "code",
   "execution_count": 15,
   "metadata": {},
   "outputs": [],
   "source": [
    "file = \"output/sux.txt\"\n",
    "data = LineSentence(file)"
   ]
  },
  {
   "cell_type": "code",
   "execution_count": 32,
   "metadata": {},
   "outputs": [],
   "source": [
    "model_gensim = FT_gensim(data, size=100, sg=1, iter=10)\n",
    "# iter is for epochs"
   ]
  },
  {
   "cell_type": "code",
   "execution_count": 31,
   "metadata": {},
   "outputs": [
    {
     "name": "stderr",
     "output_type": "stream",
     "text": [
      "/Users/veldhuis/anaconda3/lib/python3.7/site-packages/gensim/matutils.py:737: FutureWarning: Conversion of the second argument of issubdtype from `int` to `np.signedinteger` is deprecated. In future, it will be treated as `np.int64 == np.dtype(int).type`.\n",
      "  if np.issubdtype(vec.dtype, np.int):\n"
     ]
    },
    {
     "data": {
      "text/plain": [
       "[('𒇻𒀴𒃲', 0.8541927337646484),\n",
       " ('𒇻𒀴𒂠', 0.7803254127502441),\n",
       " ('𒇻𒃲', 0.7718027234077454),\n",
       " ('𒁇𒋢', 0.7701417803764343),\n",
       " ('𒉡𒌴', 0.7648806571960449),\n",
       " ('𒇇', 0.7630270719528198),\n",
       " ('𒀸𒌴', 0.7606909275054932),\n",
       " ('𒁇𒅅', 0.7484268546104431),\n",
       " ('𒁀𒌴', 0.7276779413223267),\n",
       " ('𒁇𒋢𒂵', 0.7138701677322388)]"
      ]
     },
     "execution_count": 31,
     "metadata": {},
     "output_type": "execute_result"
    }
   ],
   "source": [
    "model_gensim.wv.most_similar(\"𒇻𒀴\")"
   ]
  },
  {
   "cell_type": "code",
   "execution_count": 1,
   "metadata": {},
   "outputs": [],
   "source": [
    "import pickle\n",
    "from fastText import train_unsupervised\n",
    "from fastText import util\n",
    "import pandas as pd\n",
    "import numpy as np"
   ]
  },
  {
   "cell_type": "code",
   "execution_count": 34,
   "metadata": {},
   "outputs": [],
   "source": [
    "model = train_unsupervised('output/sux.txt', model='skipgram', ws=10, neg=70, epoch=100)\n",
    "# increase negative sampling to 100 or 200 (70?)\n",
    "# increase epochs 1000?"
   ]
  },
  {
   "cell_type": "code",
   "execution_count": 35,
   "metadata": {},
   "outputs": [],
   "source": [
    "model.save_model(\"output/suxmodel\")"
   ]
  },
  {
   "cell_type": "code",
   "execution_count": 4,
   "metadata": {},
   "outputs": [],
   "source": [
    "labels = model.get_words(include_freq=True)"
   ]
  },
  {
   "cell_type": "code",
   "execution_count": 5,
   "metadata": {},
   "outputs": [],
   "source": [
    "df = pd.DataFrame({\"label\": list(labels[0]), \"count\":list(labels[1])})"
   ]
  },
  {
   "cell_type": "code",
   "execution_count": 6,
   "metadata": {},
   "outputs": [
    {
     "data": {
      "text/plain": [
       "24181"
      ]
     },
     "execution_count": 6,
     "metadata": {},
     "output_type": "execute_result"
    }
   ],
   "source": [
    "len(df)"
   ]
  },
  {
   "cell_type": "code",
   "execution_count": 7,
   "metadata": {},
   "outputs": [
    {
     "data": {
      "text/html": [
       "<div>\n",
       "<style scoped>\n",
       "    .dataframe tbody tr th:only-of-type {\n",
       "        vertical-align: middle;\n",
       "    }\n",
       "\n",
       "    .dataframe tbody tr th {\n",
       "        vertical-align: top;\n",
       "    }\n",
       "\n",
       "    .dataframe thead th {\n",
       "        text-align: right;\n",
       "    }\n",
       "</style>\n",
       "<table border=\"1\" class=\"dataframe\">\n",
       "  <thead>\n",
       "    <tr style=\"text-align: right;\">\n",
       "      <th></th>\n",
       "      <th>label</th>\n",
       "      <th>count</th>\n",
       "    </tr>\n",
       "  </thead>\n",
       "  <tbody>\n",
       "    <tr>\n",
       "      <th>0</th>\n",
       "      <td>X</td>\n",
       "      <td>172348</td>\n",
       "    </tr>\n",
       "    <tr>\n",
       "      <th>1</th>\n",
       "      <td>𒁹</td>\n",
       "      <td>145656</td>\n",
       "    </tr>\n",
       "    <tr>\n",
       "      <th>2</th>\n",
       "      <td>𒋡</td>\n",
       "      <td>95239</td>\n",
       "    </tr>\n",
       "    <tr>\n",
       "      <th>3</th>\n",
       "      <td>&lt;/s&gt;</td>\n",
       "      <td>88788</td>\n",
       "    </tr>\n",
       "    <tr>\n",
       "      <th>4</th>\n",
       "      <td>𒈫</td>\n",
       "      <td>78594</td>\n",
       "    </tr>\n",
       "    <tr>\n",
       "      <th>5</th>\n",
       "      <td>𒈬</td>\n",
       "      <td>73147</td>\n",
       "    </tr>\n",
       "    <tr>\n",
       "      <th>6</th>\n",
       "      <td>𒌋</td>\n",
       "      <td>70695</td>\n",
       "    </tr>\n",
       "    <tr>\n",
       "      <th>7</th>\n",
       "      <td>𒐊</td>\n",
       "      <td>65993</td>\n",
       "    </tr>\n",
       "    <tr>\n",
       "      <th>8</th>\n",
       "      <td>𒂆</td>\n",
       "      <td>59175</td>\n",
       "    </tr>\n",
       "    <tr>\n",
       "      <th>9</th>\n",
       "      <td>𒐈</td>\n",
       "      <td>55188</td>\n",
       "    </tr>\n",
       "    <tr>\n",
       "      <th>10</th>\n",
       "      <td>𒌗</td>\n",
       "      <td>54999</td>\n",
       "    </tr>\n",
       "    <tr>\n",
       "      <th>11</th>\n",
       "      <td>𒊺</td>\n",
       "      <td>54081</td>\n",
       "    </tr>\n",
       "    <tr>\n",
       "      <th>12</th>\n",
       "      <td>𒌉</td>\n",
       "      <td>49653</td>\n",
       "    </tr>\n",
       "    <tr>\n",
       "      <th>13</th>\n",
       "      <td>𒄥</td>\n",
       "      <td>49257</td>\n",
       "    </tr>\n",
       "    <tr>\n",
       "      <th>14</th>\n",
       "      <td>𒌓</td>\n",
       "      <td>49034</td>\n",
       "    </tr>\n",
       "    <tr>\n",
       "      <th>15</th>\n",
       "      <td>𒆠</td>\n",
       "      <td>48774</td>\n",
       "    </tr>\n",
       "    <tr>\n",
       "      <th>16</th>\n",
       "      <td>𒀸</td>\n",
       "      <td>48436</td>\n",
       "    </tr>\n",
       "    <tr>\n",
       "      <th>17</th>\n",
       "      <td>𒇻</td>\n",
       "      <td>40371</td>\n",
       "    </tr>\n",
       "    <tr>\n",
       "      <th>18</th>\n",
       "      <td>𒌋𒌋</td>\n",
       "      <td>35845</td>\n",
       "    </tr>\n",
       "    <tr>\n",
       "      <th>19</th>\n",
       "      <td>𒈗</td>\n",
       "      <td>35744</td>\n",
       "    </tr>\n",
       "    <tr>\n",
       "      <th>20</th>\n",
       "      <td>𒁉</td>\n",
       "      <td>35085</td>\n",
       "    </tr>\n",
       "    <tr>\n",
       "      <th>21</th>\n",
       "      <td>𒐉</td>\n",
       "      <td>34409</td>\n",
       "    </tr>\n",
       "    <tr>\n",
       "      <th>22</th>\n",
       "      <td>𒃻</td>\n",
       "      <td>34030</td>\n",
       "    </tr>\n",
       "    <tr>\n",
       "      <th>23</th>\n",
       "      <td>𒋗𒆸𒆸</td>\n",
       "      <td>31324</td>\n",
       "    </tr>\n",
       "    <tr>\n",
       "      <th>24</th>\n",
       "      <td>𒁾</td>\n",
       "      <td>27884</td>\n",
       "    </tr>\n",
       "    <tr>\n",
       "      <th>25</th>\n",
       "      <td>𒉌</td>\n",
       "      <td>24406</td>\n",
       "    </tr>\n",
       "    <tr>\n",
       "      <th>26</th>\n",
       "      <td>𒋗</td>\n",
       "      <td>24339</td>\n",
       "    </tr>\n",
       "    <tr>\n",
       "      <th>27</th>\n",
       "      <td>𒄞</td>\n",
       "      <td>23744</td>\n",
       "    </tr>\n",
       "    <tr>\n",
       "      <th>28</th>\n",
       "      <td>𒑑</td>\n",
       "      <td>23312</td>\n",
       "    </tr>\n",
       "    <tr>\n",
       "      <th>29</th>\n",
       "      <td>𒌍</td>\n",
       "      <td>22030</td>\n",
       "    </tr>\n",
       "    <tr>\n",
       "      <th>...</th>\n",
       "      <td>...</td>\n",
       "      <td>...</td>\n",
       "    </tr>\n",
       "    <tr>\n",
       "      <th>24151</th>\n",
       "      <td>X𒆗X</td>\n",
       "      <td>5</td>\n",
       "    </tr>\n",
       "    <tr>\n",
       "      <th>24152</th>\n",
       "      <td>𒍠𒇳</td>\n",
       "      <td>5</td>\n",
       "    </tr>\n",
       "    <tr>\n",
       "      <th>24153</th>\n",
       "      <td>𒉽𒄑𒉈𒀭𒈪𒄷</td>\n",
       "      <td>5</td>\n",
       "    </tr>\n",
       "    <tr>\n",
       "      <th>24154</th>\n",
       "      <td>𒉡𒁳𒋫</td>\n",
       "      <td>5</td>\n",
       "    </tr>\n",
       "    <tr>\n",
       "      <th>24155</th>\n",
       "      <td>𒃶𒀝𒆤</td>\n",
       "      <td>5</td>\n",
       "    </tr>\n",
       "    <tr>\n",
       "      <th>24156</th>\n",
       "      <td>𒉡𒌒𒋛𒂵</td>\n",
       "      <td>5</td>\n",
       "    </tr>\n",
       "    <tr>\n",
       "      <th>24157</th>\n",
       "      <td>|LU₂&amp;LU₂|</td>\n",
       "      <td>5</td>\n",
       "    </tr>\n",
       "    <tr>\n",
       "      <th>24158</th>\n",
       "      <td>𒄑𒄠𒊏</td>\n",
       "      <td>5</td>\n",
       "    </tr>\n",
       "    <tr>\n",
       "      <th>24159</th>\n",
       "      <td>𒌨𒂼𒈬𒁳</td>\n",
       "      <td>5</td>\n",
       "    </tr>\n",
       "    <tr>\n",
       "      <th>24160</th>\n",
       "      <td>𒋗𒍑𒆥</td>\n",
       "      <td>5</td>\n",
       "    </tr>\n",
       "    <tr>\n",
       "      <th>24161</th>\n",
       "      <td>𒁲𒊓</td>\n",
       "      <td>5</td>\n",
       "    </tr>\n",
       "    <tr>\n",
       "      <th>24162</th>\n",
       "      <td>𒌀𒆷𒀀𒀭</td>\n",
       "      <td>5</td>\n",
       "    </tr>\n",
       "    <tr>\n",
       "      <th>24163</th>\n",
       "      <td>𒄿𒂵𒂵</td>\n",
       "      <td>5</td>\n",
       "    </tr>\n",
       "    <tr>\n",
       "      <th>24164</th>\n",
       "      <td>𒁺𒈠𒈨𒂗</td>\n",
       "      <td>5</td>\n",
       "    </tr>\n",
       "    <tr>\n",
       "      <th>24165</th>\n",
       "      <td>𒌑𒊭𒀜</td>\n",
       "      <td>5</td>\n",
       "    </tr>\n",
       "    <tr>\n",
       "      <th>24166</th>\n",
       "      <td>𒀊𒉿</td>\n",
       "      <td>5</td>\n",
       "    </tr>\n",
       "    <tr>\n",
       "      <th>24167</th>\n",
       "      <td>X𒂦</td>\n",
       "      <td>5</td>\n",
       "    </tr>\n",
       "    <tr>\n",
       "      <th>24168</th>\n",
       "      <td>𒀸𒀸𒀸</td>\n",
       "      <td>5</td>\n",
       "    </tr>\n",
       "    <tr>\n",
       "      <th>24169</th>\n",
       "      <td>|LU₃×X|</td>\n",
       "      <td>5</td>\n",
       "    </tr>\n",
       "    <tr>\n",
       "      <th>24170</th>\n",
       "      <td>𒀭𒋙𒀭𒂍𒉡𒊒</td>\n",
       "      <td>5</td>\n",
       "    </tr>\n",
       "    <tr>\n",
       "      <th>24171</th>\n",
       "      <td>𒂷𒉺𒁖𒊏</td>\n",
       "      <td>5</td>\n",
       "    </tr>\n",
       "    <tr>\n",
       "      <th>24172</th>\n",
       "      <td>𒉌𒅔𒆭𒊏𒀀</td>\n",
       "      <td>5</td>\n",
       "    </tr>\n",
       "    <tr>\n",
       "      <th>24173</th>\n",
       "      <td>𒁕𒈝𒈠𒀭𒍣𒀜</td>\n",
       "      <td>5</td>\n",
       "    </tr>\n",
       "    <tr>\n",
       "      <th>24174</th>\n",
       "      <td>𒉌𒈬𒋫</td>\n",
       "      <td>5</td>\n",
       "    </tr>\n",
       "    <tr>\n",
       "      <th>24175</th>\n",
       "      <td>𒀭𒁀𒌑𒅔𒍪</td>\n",
       "      <td>5</td>\n",
       "    </tr>\n",
       "    <tr>\n",
       "      <th>24176</th>\n",
       "      <td>𒆠𒅔</td>\n",
       "      <td>5</td>\n",
       "    </tr>\n",
       "    <tr>\n",
       "      <th>24177</th>\n",
       "      <td>𒄑𒌢𒁉</td>\n",
       "      <td>5</td>\n",
       "    </tr>\n",
       "    <tr>\n",
       "      <th>24178</th>\n",
       "      <td>X𒁹</td>\n",
       "      <td>5</td>\n",
       "    </tr>\n",
       "    <tr>\n",
       "      <th>24179</th>\n",
       "      <td>𒀭𒄬𒆷𒀭𒆬</td>\n",
       "      <td>5</td>\n",
       "    </tr>\n",
       "    <tr>\n",
       "      <th>24180</th>\n",
       "      <td>𒆠𒉌𒈬𒋢</td>\n",
       "      <td>5</td>\n",
       "    </tr>\n",
       "  </tbody>\n",
       "</table>\n",
       "<p>24181 rows × 2 columns</p>\n",
       "</div>"
      ],
      "text/plain": [
       "           label   count\n",
       "0              X  172348\n",
       "1              𒁹  145656\n",
       "2              𒋡   95239\n",
       "3           </s>   88788\n",
       "4              𒈫   78594\n",
       "5              𒈬   73147\n",
       "6              𒌋   70695\n",
       "7              𒐊   65993\n",
       "8              𒂆   59175\n",
       "9              𒐈   55188\n",
       "10             𒌗   54999\n",
       "11             𒊺   54081\n",
       "12             𒌉   49653\n",
       "13             𒄥   49257\n",
       "14             𒌓   49034\n",
       "15             𒆠   48774\n",
       "16             𒀸   48436\n",
       "17             𒇻   40371\n",
       "18            𒌋𒌋   35845\n",
       "19             𒈗   35744\n",
       "20             𒁉   35085\n",
       "21             𒐉   34409\n",
       "22             𒃻   34030\n",
       "23           𒋗𒆸𒆸   31324\n",
       "24             𒁾   27884\n",
       "25             𒉌   24406\n",
       "26             𒋗   24339\n",
       "27             𒄞   23744\n",
       "28             𒑑   23312\n",
       "29             𒌍   22030\n",
       "...          ...     ...\n",
       "24151        X𒆗X       5\n",
       "24152         𒍠𒇳       5\n",
       "24153     𒉽𒄑𒉈𒀭𒈪𒄷       5\n",
       "24154        𒉡𒁳𒋫       5\n",
       "24155        𒃶𒀝𒆤       5\n",
       "24156       𒉡𒌒𒋛𒂵       5\n",
       "24157  |LU₂&LU₂|       5\n",
       "24158        𒄑𒄠𒊏       5\n",
       "24159       𒌨𒂼𒈬𒁳       5\n",
       "24160        𒋗𒍑𒆥       5\n",
       "24161         𒁲𒊓       5\n",
       "24162       𒌀𒆷𒀀𒀭       5\n",
       "24163        𒄿𒂵𒂵       5\n",
       "24164       𒁺𒈠𒈨𒂗       5\n",
       "24165        𒌑𒊭𒀜       5\n",
       "24166         𒀊𒉿       5\n",
       "24167         X𒂦       5\n",
       "24168        𒀸𒀸𒀸       5\n",
       "24169    |LU₃×X|       5\n",
       "24170     𒀭𒋙𒀭𒂍𒉡𒊒       5\n",
       "24171       𒂷𒉺𒁖𒊏       5\n",
       "24172      𒉌𒅔𒆭𒊏𒀀       5\n",
       "24173     𒁕𒈝𒈠𒀭𒍣𒀜       5\n",
       "24174        𒉌𒈬𒋫       5\n",
       "24175      𒀭𒁀𒌑𒅔𒍪       5\n",
       "24176         𒆠𒅔       5\n",
       "24177        𒄑𒌢𒁉       5\n",
       "24178         X𒁹       5\n",
       "24179      𒀭𒄬𒆷𒀭𒆬       5\n",
       "24180       𒆠𒉌𒈬𒋢       5\n",
       "\n",
       "[24181 rows x 2 columns]"
      ]
     },
     "execution_count": 7,
     "metadata": {},
     "output_type": "execute_result"
    }
   ],
   "source": [
    "df"
   ]
  },
  {
   "cell_type": "code",
   "execution_count": 8,
   "metadata": {},
   "outputs": [],
   "source": [
    "class FastTextNN:\n",
    "    \"\"\"by Ali Abul Hawa; see https://github.com/facebookresearch/fastText/pull/552\"\"\"    \n",
    "    def __init__(self, ft_model, ft_matrix=None):\n",
    "        self.ft_model = ft_model        \n",
    "        self.ft_words = ft_model.get_words()\n",
    "        self.word_frequencies = dict(zip(*ft_model.get_words(include_freq=True)))\n",
    "        self.ft_matrix = ft_matrix\n",
    "        if self.ft_matrix is None:\n",
    "            self.ft_matrix = np.empty((len(self.ft_words), ft_model.get_dimension()))\n",
    "            for i, word in enumerate(self.ft_words):\n",
    "                self.ft_matrix[i,:] = ft_model.get_word_vector(word)\n",
    "    \n",
    "    def find_nearest_neighbor(self, query_word, vectors, n=10,  cossims=None):\n",
    "        \"\"\"\n",
    "        vectors is a 2d numpy array corresponding to the vectors you want to consider\n",
    "\n",
    "        cossims is a 1d numpy array of size len(vectors), which can be passed for efficiency\n",
    "        returns the index of the closest n matches to query within vectors and the cosine similarity (cosine the angle between the vectors)\n",
    "\n",
    "        \"\"\"\n",
    "        \n",
    "        query  = self.ft_model.get_word_vector(query_word)\n",
    "        if cossims is None:\n",
    "            cossims = np.matmul(vectors, query, out=cossims)\n",
    "\n",
    "        norms = np.sqrt((query**2).sum() * (vectors**2).sum(axis=1))\n",
    "        cossims = cossims/norms\n",
    "        if query_word in self.ft_words:\n",
    "            result_i = np.argpartition(-cossims, range(n+1))[1:n+1]\n",
    "        else:\n",
    "            result_i = np.argpartition(-cossims, range(n+1))[0:n]\n",
    "        return list(zip(result_i, cossims[result_i]))\n",
    "\n",
    "    def nearest_words(self, word, n=10, word_freq=None):\n",
    "        result = self.find_nearest_neighbor(word, self.ft_matrix, n=n)\n",
    "        if word_freq:\n",
    "            return [(self.ft_words[r[0]], r[1]) for r in result if self.word_frequencies[self.ft_words[r[0]]] >= word_freq]\n",
    "        else:\n",
    "            return [(self.ft_words[r[0]], r[1]) for r in result]"
   ]
  },
  {
   "cell_type": "markdown",
   "metadata": {},
   "source": [
    "# Basic usage of nearest_words"
   ]
  },
  {
   "cell_type": "code",
   "execution_count": 9,
   "metadata": {},
   "outputs": [
    {
     "data": {
      "text/plain": [
       "[('𒋀𒀊𒆠𒈠', 0.6943220077703823),\n",
       " ('𒀭X𒀭𒂗𒍪', 0.6832159791023636),\n",
       " ('𒋀𒀊𒆠𒆤', 0.6669362790812129),\n",
       " ('𒀭𒋗𒀭𒂗𒍪', 0.6657241623248064),\n",
       " ('𒋀𒀊𒆠𒈠𒅗', 0.6474558773367978),\n",
       " ('𒋀𒀊𒆠𒈠𒆤', 0.6286432464111233)]"
      ]
     },
     "execution_count": 9,
     "metadata": {},
     "output_type": "execute_result"
    }
   ],
   "source": [
    "fasttext_nn = FastTextNN(model)\n",
    "fasttext_nn.nearest_words('𒈗', word_freq=15)"
   ]
  },
  {
   "cell_type": "markdown",
   "metadata": {},
   "source": [
    "# Allow input in transliteration"
   ]
  },
  {
   "cell_type": "code",
   "execution_count": 10,
   "metadata": {},
   "outputs": [],
   "source": [
    "# create conversion dictionary value to utf8\n",
    "import pickle\n",
    "with open(\"output/ogsl.p\", \"rb\") as p:\n",
    "    o = pickle.load(p)\n",
    "d = dict(zip(o[\"value\"], o[\"utf8\"]))"
   ]
  },
  {
   "cell_type": "code",
   "execution_count": 11,
   "metadata": {},
   "outputs": [],
   "source": [
    "def nearestcun(text, n=10, word_freq=None):\n",
    "    \"\"\"input transliteration of a word form, signs separated by hyphens.\n",
    "    Examples: \"ma-an-gi₄\", \"d-en-lil₂\", or \"urim₅-ki\".\n",
    "    Transliteration style (gu₄ vs. gud; gen vs. ŋen) is unimportant\n",
    "    The result is fed to nearest_words.\n",
    "    n is the number of nearest neigbors that nearest_words will return\n",
    "    word_freq is the minimum word frequency for a neighbor to be considered\"\"\"\n",
    "    signs = text.lower().split('-')\n",
    "    seq = [d[s] if s in d else s for s in signs]\n",
    "    seq = ''.join(seq)\n",
    "    print(seq), print(text)\n",
    "    return fasttext_nn.nearest_words(seq, n, word_freq)"
   ]
  },
  {
   "cell_type": "code",
   "execution_count": 22,
   "metadata": {},
   "outputs": [
    {
     "name": "stdout",
     "output_type": "stream",
     "text": [
      "𒇻\n",
      "udu\n"
     ]
    },
    {
     "data": {
      "text/plain": [
       "[('𒈧𒃲', 0.7768052066308614),\n",
       " ('𒃢', 0.7618290590316584),\n",
       " ('𒈧', 0.7441898657146736),\n",
       " ('𒇇', 0.7261994709373571),\n",
       " ('𒇻𒄾', 0.7232916205782008),\n",
       " ('𒊩𒀾𒃼', 0.7029518594779494),\n",
       " ('𒈦𒃲', 0.6948568639190539),\n",
       " ('𒈧X', 0.6836468687946554),\n",
       " ('𒁀𒋆𒂊𒆠', 0.682936915141539),\n",
       " ('𒁇𒁀𒍣𒂵', 0.6752486306557356),\n",
       " ('𒀊𒀊𒂠', 0.6713824826827895),\n",
       " ('𒀀𒈝', 0.6681028141017539)]"
      ]
     },
     "execution_count": 22,
     "metadata": {},
     "output_type": "execute_result"
    }
   ],
   "source": [
    "nearestcun(\"udu\", n=15, word_freq=10)"
   ]
  },
  {
   "cell_type": "markdown",
   "metadata": {},
   "source": [
    "# TODO\n",
    "Transliterate output by finding the word in the corpus"
   ]
  },
  {
   "cell_type": "code",
   "execution_count": null,
   "metadata": {},
   "outputs": [],
   "source": [
    "with open(\"output/sux.p\", \"rb\") as p:\n",
    "    sux = pickle.load(p)"
   ]
  },
  {
   "cell_type": "code",
   "execution_count": null,
   "metadata": {},
   "outputs": [],
   "source": [
    "sux_2 = sux.drop_duplicates([\"transliteration\"])"
   ]
  },
  {
   "cell_type": "code",
   "execution_count": null,
   "metadata": {},
   "outputs": [],
   "source": [
    "sux_2[sux_2[\"utf-8\"]==\"𒊺\"]"
   ]
  },
  {
   "cell_type": "code",
   "execution_count": null,
   "metadata": {},
   "outputs": [],
   "source": [
    "d2 = {}\n",
    "for item in sux_2[\"utf-8\"].unique():\n",
    "    d[item] = list(sux_2[sux_2['utf-8']==item][\"transliteration\"])\n",
    "    "
   ]
  },
  {
   "cell_type": "code",
   "execution_count": null,
   "metadata": {},
   "outputs": [],
   "source": [
    "d2 = {item : d2[item] for item in d2 if not item[:5] == \"Start\"}"
   ]
  },
  {
   "cell_type": "code",
   "execution_count": null,
   "metadata": {},
   "outputs": [],
   "source": [
    "with open(\"output/translit_to_signs.p\", \"wb\") as w:\n",
    "    pickle.dump(d2, w)"
   ]
  },
  {
   "cell_type": "code",
   "execution_count": null,
   "metadata": {},
   "outputs": [],
   "source": []
  }
 ],
 "metadata": {
  "kernelspec": {
   "display_name": "Python 3",
   "language": "python",
   "name": "python3"
  },
  "language_info": {
   "codemirror_mode": {
    "name": "ipython",
    "version": 3
   },
   "file_extension": ".py",
   "mimetype": "text/x-python",
   "name": "python",
   "nbconvert_exporter": "python",
   "pygments_lexer": "ipython3",
   "version": "3.7.0"
  }
 },
 "nbformat": 4,
 "nbformat_minor": 2
}
