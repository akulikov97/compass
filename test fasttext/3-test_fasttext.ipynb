{
 "cells": [
  {
   "cell_type": "markdown",
   "metadata": {},
   "source": [
    "# Fasttext\n",
    "Build a fasttext model and do some basic analyses.\n",
    "Before running this code parse the ogsl data set to produce a dataframe of OGSL sign readings, sign names and utf8 representations, and parse the Ur 3 dataset to produce a text file in cuneiform utf8. "
   ]
  },
  {
   "cell_type": "code",
   "execution_count": 1,
   "metadata": {
    "collapsed": false
   },
   "outputs": [],
   "source": [
    "import pickle\n",
    "from fastText import train_unsupervised\n",
    "from fastText import util\n",
    "import pandas as pd\n",
    "import numpy as np"
   ]
  },
  {
   "cell_type": "code",
   "execution_count": 21,
   "metadata": {
    "collapsed": false
   },
   "outputs": [],
   "source": [
    "model = train_unsupervised('output/ur3.txt', model='skipgram')"
   ]
  },
  {
   "cell_type": "code",
   "execution_count": 23,
   "metadata": {
    "collapsed": false
   },
   "outputs": [],
   "source": [
    "labels = model.get_words(include_freq=True)"
   ]
  },
  {
   "cell_type": "code",
   "execution_count": 24,
   "metadata": {
    "collapsed": false
   },
   "outputs": [],
   "source": [
    "df = pd.DataFrame({\"label\": list(labels[0]), \"count\":list(labels[1])})"
   ]
  },
  {
   "cell_type": "code",
   "execution_count": 25,
   "metadata": {
    "collapsed": false
   },
   "outputs": [
    {
     "data": {
      "text/html": [
       "<div>\n",
       "<table border=\"1\" class=\"dataframe\">\n",
       "  <thead>\n",
       "    <tr style=\"text-align: right;\">\n",
       "      <th></th>\n",
       "      <th>count</th>\n",
       "      <th>label</th>\n",
       "    </tr>\n",
       "  </thead>\n",
       "  <tbody>\n",
       "    <tr>\n",
       "      <th>0</th>\n",
       "      <td>130706</td>\n",
       "      <td>𒁹</td>\n",
       "    </tr>\n",
       "    <tr>\n",
       "      <th>1</th>\n",
       "      <td>90261</td>\n",
       "      <td>𒋡</td>\n",
       "    </tr>\n",
       "    <tr>\n",
       "      <th>2</th>\n",
       "      <td>74950</td>\n",
       "      <td>𒈫</td>\n",
       "    </tr>\n",
       "    <tr>\n",
       "      <th>3</th>\n",
       "      <td>68088</td>\n",
       "      <td>𒈬</td>\n",
       "    </tr>\n",
       "    <tr>\n",
       "      <th>4</th>\n",
       "      <td>64502</td>\n",
       "      <td>𒐊</td>\n",
       "    </tr>\n",
       "    <tr>\n",
       "      <th>5</th>\n",
       "      <td>60049</td>\n",
       "      <td>𒌋</td>\n",
       "    </tr>\n",
       "    <tr>\n",
       "      <th>6</th>\n",
       "      <td>57533</td>\n",
       "      <td>xxx</td>\n",
       "    </tr>\n",
       "    <tr>\n",
       "      <th>7</th>\n",
       "      <td>56894</td>\n",
       "      <td>𒂆</td>\n",
       "    </tr>\n",
       "    <tr>\n",
       "      <th>8</th>\n",
       "      <td>53968</td>\n",
       "      <td>𒐈</td>\n",
       "    </tr>\n",
       "    <tr>\n",
       "      <th>9</th>\n",
       "      <td>51460</td>\n",
       "      <td>𒌗</td>\n",
       "    </tr>\n",
       "    <tr>\n",
       "      <th>10</th>\n",
       "      <td>46600</td>\n",
       "      <td>X</td>\n",
       "    </tr>\n",
       "    <tr>\n",
       "      <th>11</th>\n",
       "      <td>44859</td>\n",
       "      <td>𒊺</td>\n",
       "    </tr>\n",
       "    <tr>\n",
       "      <th>12</th>\n",
       "      <td>43994</td>\n",
       "      <td>𒄥</td>\n",
       "    </tr>\n",
       "    <tr>\n",
       "      <th>13</th>\n",
       "      <td>43699</td>\n",
       "      <td>𒌓</td>\n",
       "    </tr>\n",
       "    <tr>\n",
       "      <th>14</th>\n",
       "      <td>43698</td>\n",
       "      <td>𒆠</td>\n",
       "    </tr>\n",
       "    <tr>\n",
       "      <th>15</th>\n",
       "      <td>43078</td>\n",
       "      <td>𒌉</td>\n",
       "    </tr>\n",
       "    <tr>\n",
       "      <th>16</th>\n",
       "      <td>34584</td>\n",
       "      <td>𒇻</td>\n",
       "    </tr>\n",
       "    <tr>\n",
       "      <th>17</th>\n",
       "      <td>33165</td>\n",
       "      <td>𒐉</td>\n",
       "    </tr>\n",
       "    <tr>\n",
       "      <th>18</th>\n",
       "      <td>32522</td>\n",
       "      <td>𒁉</td>\n",
       "    </tr>\n",
       "    <tr>\n",
       "      <th>19</th>\n",
       "      <td>32188</td>\n",
       "      <td>𒈗</td>\n",
       "    </tr>\n",
       "    <tr>\n",
       "      <th>20</th>\n",
       "      <td>31495</td>\n",
       "      <td>𒌋𒌋</td>\n",
       "    </tr>\n",
       "    <tr>\n",
       "      <th>21</th>\n",
       "      <td>31290</td>\n",
       "      <td>𒋗𒆸𒆸</td>\n",
       "    </tr>\n",
       "    <tr>\n",
       "      <th>22</th>\n",
       "      <td>28381</td>\n",
       "      <td>𒃻</td>\n",
       "    </tr>\n",
       "    <tr>\n",
       "      <th>23</th>\n",
       "      <td>27315</td>\n",
       "      <td>𒁾</td>\n",
       "    </tr>\n",
       "    <tr>\n",
       "      <th>24</th>\n",
       "      <td>22491</td>\n",
       "      <td>𒀸</td>\n",
       "    </tr>\n",
       "    <tr>\n",
       "      <th>25</th>\n",
       "      <td>21808</td>\n",
       "      <td>𒉌</td>\n",
       "    </tr>\n",
       "    <tr>\n",
       "      <th>26</th>\n",
       "      <td>21219</td>\n",
       "      <td>𒄞</td>\n",
       "    </tr>\n",
       "    <tr>\n",
       "      <th>27</th>\n",
       "      <td>20513</td>\n",
       "      <td>𒄨</td>\n",
       "    </tr>\n",
       "    <tr>\n",
       "      <th>28</th>\n",
       "      <td>19830</td>\n",
       "      <td>𒁾𒊬</td>\n",
       "    </tr>\n",
       "    <tr>\n",
       "      <th>29</th>\n",
       "      <td>19486</td>\n",
       "      <td>𒐋</td>\n",
       "    </tr>\n",
       "    <tr>\n",
       "      <th>...</th>\n",
       "      <td>...</td>\n",
       "      <td>...</td>\n",
       "    </tr>\n",
       "    <tr>\n",
       "      <th>11816</th>\n",
       "      <td>5</td>\n",
       "      <td>𒄞𒋫𒉈𒊬𒊬</td>\n",
       "    </tr>\n",
       "    <tr>\n",
       "      <th>11817</th>\n",
       "      <td>5</td>\n",
       "      <td>𒄀𒈠𒋆</td>\n",
       "    </tr>\n",
       "    <tr>\n",
       "      <th>11818</th>\n",
       "      <td>5</td>\n",
       "      <td>𒀭𒉈𒄀</td>\n",
       "    </tr>\n",
       "    <tr>\n",
       "      <th>11819</th>\n",
       "      <td>5</td>\n",
       "      <td>𒀀𒀀𒊭𒋫</td>\n",
       "    </tr>\n",
       "    <tr>\n",
       "      <th>11820</th>\n",
       "      <td>5</td>\n",
       "      <td>𒀀𒈬𒊒𒌝</td>\n",
       "    </tr>\n",
       "    <tr>\n",
       "      <th>11821</th>\n",
       "      <td>5</td>\n",
       "      <td>𒁾X</td>\n",
       "    </tr>\n",
       "    <tr>\n",
       "      <th>11822</th>\n",
       "      <td>5</td>\n",
       "      <td>𒁕𒌴𒊏</td>\n",
       "    </tr>\n",
       "    <tr>\n",
       "      <th>11823</th>\n",
       "      <td>5</td>\n",
       "      <td>𒂵𒋾𒂊𒂠</td>\n",
       "    </tr>\n",
       "    <tr>\n",
       "      <th>11824</th>\n",
       "      <td>5</td>\n",
       "      <td>𒁀𒊏𒉌𒆷𒂠</td>\n",
       "    </tr>\n",
       "    <tr>\n",
       "      <th>11825</th>\n",
       "      <td>5</td>\n",
       "      <td>𒂍𒀀𒉌𒂠</td>\n",
       "    </tr>\n",
       "    <tr>\n",
       "      <th>11826</th>\n",
       "      <td>5</td>\n",
       "      <td>𒅗𒍣</td>\n",
       "    </tr>\n",
       "    <tr>\n",
       "      <th>11827</th>\n",
       "      <td>5</td>\n",
       "      <td>𒄖𒁕𒋾</td>\n",
       "    </tr>\n",
       "    <tr>\n",
       "      <th>11828</th>\n",
       "      <td>5</td>\n",
       "      <td>𒈪𒉌𒂠</td>\n",
       "    </tr>\n",
       "    <tr>\n",
       "      <th>11829</th>\n",
       "      <td>5</td>\n",
       "      <td>𒄞𒁕𒊑𒀀𒂠</td>\n",
       "    </tr>\n",
       "    <tr>\n",
       "      <th>11830</th>\n",
       "      <td>5</td>\n",
       "      <td>𒊩𒆳𒇥𒈤</td>\n",
       "    </tr>\n",
       "    <tr>\n",
       "      <th>11831</th>\n",
       "      <td>5</td>\n",
       "      <td>𒅎𒋛</td>\n",
       "    </tr>\n",
       "    <tr>\n",
       "      <th>11832</th>\n",
       "      <td>5</td>\n",
       "      <td>𒄀𒌋𒁵</td>\n",
       "    </tr>\n",
       "    <tr>\n",
       "      <th>11833</th>\n",
       "      <td>5</td>\n",
       "      <td>𒄉𒁉</td>\n",
       "    </tr>\n",
       "    <tr>\n",
       "      <th>11834</th>\n",
       "      <td>5</td>\n",
       "      <td>𒈗𒄭𒂵𒋫</td>\n",
       "    </tr>\n",
       "    <tr>\n",
       "      <th>11835</th>\n",
       "      <td>5</td>\n",
       "      <td>𒂍𒈗𒋫</td>\n",
       "    </tr>\n",
       "    <tr>\n",
       "      <th>11836</th>\n",
       "      <td>5</td>\n",
       "      <td>𒌢𒋻</td>\n",
       "    </tr>\n",
       "    <tr>\n",
       "      <th>11837</th>\n",
       "      <td>5</td>\n",
       "      <td>xxx𒁾</td>\n",
       "    </tr>\n",
       "    <tr>\n",
       "      <th>11838</th>\n",
       "      <td>5</td>\n",
       "      <td>𒂍𒁖𒂵</td>\n",
       "    </tr>\n",
       "    <tr>\n",
       "      <th>11839</th>\n",
       "      <td>5</td>\n",
       "      <td>𒉽𒂠</td>\n",
       "    </tr>\n",
       "    <tr>\n",
       "      <th>11840</th>\n",
       "      <td>5</td>\n",
       "      <td>𒄞𒆤𒉈𒋫</td>\n",
       "    </tr>\n",
       "    <tr>\n",
       "      <th>11841</th>\n",
       "      <td>5</td>\n",
       "      <td>𒂵𒈝</td>\n",
       "    </tr>\n",
       "    <tr>\n",
       "      <th>11842</th>\n",
       "      <td>5</td>\n",
       "      <td>𒅎𒉈𒁺𒁺</td>\n",
       "    </tr>\n",
       "    <tr>\n",
       "      <th>11843</th>\n",
       "      <td>5</td>\n",
       "      <td>𒀭𒊭𒈾𒆤</td>\n",
       "    </tr>\n",
       "    <tr>\n",
       "      <th>11844</th>\n",
       "      <td>5</td>\n",
       "      <td>𒉌𒁁</td>\n",
       "    </tr>\n",
       "    <tr>\n",
       "      <th>11845</th>\n",
       "      <td>5</td>\n",
       "      <td>𒄞xxx</td>\n",
       "    </tr>\n",
       "  </tbody>\n",
       "</table>\n",
       "<p>11846 rows × 2 columns</p>\n",
       "</div>"
      ],
      "text/plain": [
       "        count  label\n",
       "0      130706      𒁹\n",
       "1       90261      𒋡\n",
       "2       74950      𒈫\n",
       "3       68088      𒈬\n",
       "4       64502      𒐊\n",
       "5       60049      𒌋\n",
       "6       57533    xxx\n",
       "7       56894      𒂆\n",
       "8       53968      𒐈\n",
       "9       51460      𒌗\n",
       "10      46600      X\n",
       "11      44859      𒊺\n",
       "12      43994      𒄥\n",
       "13      43699      𒌓\n",
       "14      43698      𒆠\n",
       "15      43078      𒌉\n",
       "16      34584      𒇻\n",
       "17      33165      𒐉\n",
       "18      32522      𒁉\n",
       "19      32188      𒈗\n",
       "20      31495     𒌋𒌋\n",
       "21      31290    𒋗𒆸𒆸\n",
       "22      28381      𒃻\n",
       "23      27315      𒁾\n",
       "24      22491      𒀸\n",
       "25      21808      𒉌\n",
       "26      21219      𒄞\n",
       "27      20513      𒄨\n",
       "28      19830     𒁾𒊬\n",
       "29      19486      𒐋\n",
       "...       ...    ...\n",
       "11816       5  𒄞𒋫𒉈𒊬𒊬\n",
       "11817       5    𒄀𒈠𒋆\n",
       "11818       5    𒀭𒉈𒄀\n",
       "11819       5   𒀀𒀀𒊭𒋫\n",
       "11820       5   𒀀𒈬𒊒𒌝\n",
       "11821       5     𒁾X\n",
       "11822       5    𒁕𒌴𒊏\n",
       "11823       5   𒂵𒋾𒂊𒂠\n",
       "11824       5  𒁀𒊏𒉌𒆷𒂠\n",
       "11825       5   𒂍𒀀𒉌𒂠\n",
       "11826       5     𒅗𒍣\n",
       "11827       5    𒄖𒁕𒋾\n",
       "11828       5    𒈪𒉌𒂠\n",
       "11829       5  𒄞𒁕𒊑𒀀𒂠\n",
       "11830       5   𒊩𒆳𒇥𒈤\n",
       "11831       5     𒅎𒋛\n",
       "11832       5    𒄀𒌋𒁵\n",
       "11833       5     𒄉𒁉\n",
       "11834       5   𒈗𒄭𒂵𒋫\n",
       "11835       5    𒂍𒈗𒋫\n",
       "11836       5     𒌢𒋻\n",
       "11837       5   xxx𒁾\n",
       "11838       5    𒂍𒁖𒂵\n",
       "11839       5     𒉽𒂠\n",
       "11840       5   𒄞𒆤𒉈𒋫\n",
       "11841       5     𒂵𒈝\n",
       "11842       5   𒅎𒉈𒁺𒁺\n",
       "11843       5   𒀭𒊭𒈾𒆤\n",
       "11844       5     𒉌𒁁\n",
       "11845       5   𒄞xxx\n",
       "\n",
       "[11846 rows x 2 columns]"
      ]
     },
     "execution_count": 25,
     "metadata": {},
     "output_type": "execute_result"
    }
   ],
   "source": [
    "df"
   ]
  },
  {
   "cell_type": "code",
   "execution_count": 10,
   "metadata": {
    "collapsed": false
   },
   "outputs": [],
   "source": [
    "class FastTextNN:\n",
    "    \"\"\"by Ali Abul Hawa; see https://github.com/facebookresearch/fastText/pull/552\"\"\"    \n",
    "    def __init__(self, ft_model, ft_matrix=None):\n",
    "        self.ft_model = ft_model        \n",
    "        self.ft_words = ft_model.get_words()\n",
    "        self.word_frequencies = dict(zip(*ft_model.get_words(include_freq=True)))\n",
    "        self.ft_matrix = ft_matrix\n",
    "        if self.ft_matrix is None:\n",
    "            self.ft_matrix = np.empty((len(self.ft_words), ft_model.get_dimension()))\n",
    "            for i, word in enumerate(self.ft_words):\n",
    "                self.ft_matrix[i,:] = ft_model.get_word_vector(word)\n",
    "    \n",
    "    def find_nearest_neighbor(self, query_word, vectors, n=10,  cossims=None):\n",
    "        \"\"\"\n",
    "        vectors is a 2d numpy array corresponding to the vectors you want to consider\n",
    "\n",
    "        cossims is a 1d numpy array of size len(vectors), which can be passed for efficiency\n",
    "        returns the index of the closest n matches to query within vectors and the cosine similarity (cosine the angle between the vectors)\n",
    "\n",
    "        \"\"\"\n",
    "        \n",
    "        query  = self.ft_model.get_word_vector(query_word)\n",
    "        if cossims is None:\n",
    "            cossims = np.matmul(vectors, query, out=cossims)\n",
    "\n",
    "        norms = np.sqrt((query**2).sum() * (vectors**2).sum(axis=1))\n",
    "        cossims = cossims/norms\n",
    "        if query_word in self.ft_words:\n",
    "            result_i = np.argpartition(-cossims, range(n+1))[1:n+1]\n",
    "        else:\n",
    "            result_i = np.argpartition(-cossims, range(n+1))[0:n]\n",
    "        return list(zip(result_i, cossims[result_i]))\n",
    "\n",
    "    def nearest_words(self, word, n=10, word_freq=None):\n",
    "        result = self.find_nearest_neighbor(word, self.ft_matrix, n=n)\n",
    "        if word_freq:\n",
    "            return [(self.ft_words[r[0]], r[1]) for r in result if self.word_frequencies[self.ft_words[r[0]]] >= word_freq]\n",
    "        else:\n",
    "            return [(self.ft_words[r[0]], r[1]) for r in result]"
   ]
  },
  {
   "cell_type": "markdown",
   "metadata": {},
   "source": [
    "# Basic usage of nearest_words"
   ]
  },
  {
   "cell_type": "code",
   "execution_count": 11,
   "metadata": {
    "collapsed": false
   },
   "outputs": [
    {
     "data": {
      "text/plain": [
       "[('𒆗𒂵', 0.74875697719869228),\n",
       " ('𒌒𒁕', 0.69896564280484219),\n",
       " ('𒋀𒀊𒆠𒈠', 0.69174692963293649),\n",
       " ('𒀭', 0.6876285945867614)]"
      ]
     },
     "execution_count": 11,
     "metadata": {},
     "output_type": "execute_result"
    }
   ],
   "source": [
    "fasttext_nn = FastTextNN(model)\n",
    "fasttext_nn.nearest_words('𒈗', word_freq=150)"
   ]
  },
  {
   "cell_type": "markdown",
   "metadata": {},
   "source": [
    "# Allow input in transliteration"
   ]
  },
  {
   "cell_type": "code",
   "execution_count": 12,
   "metadata": {
    "collapsed": false
   },
   "outputs": [],
   "source": [
    "# create conversion dictionary value to utf8\n",
    "import pickle\n",
    "with open(\"output/ogsl.p\", \"rb\") as p:\n",
    "    o = pickle.load(p)\n",
    "d = dict(zip(o[\"value\"], o[\"utf8\"]))"
   ]
  },
  {
   "cell_type": "code",
   "execution_count": 13,
   "metadata": {
    "collapsed": true
   },
   "outputs": [],
   "source": [
    "def nearestcun(text, n=10, word_freq=None):\n",
    "    \"\"\"input transliteration of a word form, signs separated by hyphens.\n",
    "    Examples: \"ma-an-gi₄\", \"d-en-lil₂\", or \"urim₅-ki\".\n",
    "    Transliteration style (gu₄ vs. gud; gen vs. ŋen) is unimportant\n",
    "    The result is fed to nearest_words.\n",
    "    n is the number of nearest neigbors that nearest_words will return\n",
    "    word_freq is the minimum word frequency for a neighbor to be considered\"\"\"\n",
    "    signs = text.lower().split('-')\n",
    "    seq = [d[s] if s in d else s for s in signs]\n",
    "    seq = ''.join(seq)\n",
    "    return fasttext_nn.nearest_words(seq, n, word_freq)"
   ]
  },
  {
   "cell_type": "code",
   "execution_count": 37,
   "metadata": {
    "collapsed": false
   },
   "outputs": [
    {
     "data": {
      "text/plain": [
       "[('𒄀𒇡𒇡', 0.7712475476529389),\n",
       " ('𒃡𒉈', 0.76110806625205829),\n",
       " ('𒄀𒄥𒅘', 0.75588822490246932),\n",
       " ('𒅍𒅍𒉈', 0.75576223066764947),\n",
       " ('𒋢𒃻', 0.74806277480867089)]"
      ]
     },
     "execution_count": 37,
     "metadata": {},
     "output_type": "execute_result"
    }
   ],
   "source": [
    "nearestcun(\"𒅍𒉈\", word_freq=10)"
   ]
  },
  {
   "cell_type": "markdown",
   "metadata": {},
   "source": [
    "# TODO\n",
    "Transliterate output by finding the word in the corpus"
   ]
  },
  {
   "cell_type": "code",
   "execution_count": 40,
   "metadata": {
    "collapsed": false
   },
   "outputs": [
    {
     "data": {
      "text/plain": [
       "(['𒄀𒇡𒇡', '<𒄀𒇡', '<𒄀𒇡𒇡', '<𒄀𒇡𒇡>', '𒄀𒇡𒇡', '𒄀𒇡𒇡>', '𒇡𒇡>'],\n",
       " array([   5866,  262905, 1923231, 1288427,  500893, 1315217,  998123]))"
      ]
     },
     "execution_count": 40,
     "metadata": {},
     "output_type": "execute_result"
    }
   ],
   "source": [
    "model.get_subwords(\"𒄀𒇡𒇡\")"
   ]
  },
  {
   "cell_type": "code",
   "execution_count": 48,
   "metadata": {
    "collapsed": false
   },
   "outputs": [],
   "source": [
    "model.save_model(\"output/ur3model\")"
   ]
  },
  {
   "cell_type": "code",
   "execution_count": null,
   "metadata": {
    "collapsed": true
   },
   "outputs": [],
   "source": []
  }
 ],
 "metadata": {
  "kernelspec": {
   "display_name": "Python 3",
   "language": "python",
   "name": "python3"
  },
  "language_info": {
   "codemirror_mode": {
    "name": "ipython",
    "version": 3
   },
   "file_extension": ".py",
   "mimetype": "text/x-python",
   "name": "python",
   "nbconvert_exporter": "python",
   "pygments_lexer": "ipython3",
   "version": "3.6.0"
  }
 },
 "nbformat": 4,
 "nbformat_minor": 2
}
