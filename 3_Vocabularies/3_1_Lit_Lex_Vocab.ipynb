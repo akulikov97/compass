{
 "cells": [
  {
   "cell_type": "markdown",
   "metadata": {},
   "source": [
    "# 3 Overlap in Lexical and Literary Vocabulary\n",
    "\n",
    "This notebook compares the vocabulary of Old Babylonian lexical texts and the vocabulary of the Sumerian literary corpus as represented in the [literary](http://oracc.org/epsd2/literary) sub-project of the Electronic Pennsylvania Sumerian Dictionary ([epsd2](http://oracc.org/epsd2/literary)). \n",
    "\n",
    "## 3.0 The Corpora\n",
    "\n",
    "Currently, the [literary](http://oracc.org/epsd2/literary) corpus in [epsd2](http://oracc.org/epsd2/literary) consists of the following text groups: \n",
    "- almost 400 literary compositions in composite transliteration derived from the Electronic Text Corpus of Sumerian Literature ([ETCSL](http://etcsl.orinst.ox.ac.uk/)), adjusted to [epsd2](http://oracc.org/epsd2) standards. The Gudea Cylinders, which are part of the [ETCSL](http://etcsl.orinst.ox.ac.uk/) corpus, have been removed from the [epsd2/literary](http://oracc.org/epsd2/literary) corpus, because they are available in the [epsd2/royal](http://oracc.org/epsd2/royal) project.\n",
    "- the literary texts from Old Babylonian Ur published in UET 6/1-3, edited by Jeremiah Peterson and lemmatized by Niek Veldhuis and Steve Tinney.\n",
    "- a somewhat random collection of literary texts scattered over recently published books and articles. This collection includes most of CUSAS 38 (by Christopher Metcalf; 2019) and various other texts.\n",
    "\n",
    "The [ETCSL](http://etcsl.orinst.ox.ac.uk/) collection provides composite texts, the other collections include individual exemplars. There is, therefore, some duplication in [epsd2/literary](http://oracc.org/epsd2/literary). The [*Lament for Sumer and Ur*](http://etcsl.orinst.ox.ac.uk/cgi-bin/etcsl.cgi?text=t.2.2.3#), for instance, is represented by a composite text from [ETCSL](http://etcsl.orinst.ox.ac.uk/cgi-bin/etcsl.cgi?text=t.2.2.3#), but also by 14 exemplars from Ur. The exemplars yield variants but mostly duplicate the composite text. On the other hand, the exemplars from Nippur and other places (and the variants that they yield) are not currently represented in the corpus.\n",
    "\n",
    "The lexical corpus under consideration is taken from the Digital Corpus of Cuneiform Lexical Texts ([DCCLT](http://oracc.org/dcclt)), in particular those that date to the Old Babylonian period. This corpus includes both composite texts (primarily for the Nippur material) and individual exemplars. Exemplars that belong to a composite text are, for the most part, not lemmatized and will therefore not figure in the current comparison.\n",
    "\n",
    "## 3.1 Counting Words and Expressions\n",
    "\n",
    "In this notebook we will simply count lemmas and expressions in lexical texts and in the Old Babylonian Sumerian literary corpus and compute the amount of overlap. The vocabularies and their intersection will be visualized in Venn diagrams.\n",
    "\n",
    "### 3.1.0 Preparation \n",
    "The code below uses the package `matplotlib_venn`, which is currently not part of the set of packages installed with Anaconda. Run the following line in a notebook in order to install the module (see [install_packages.ipynb](../1_Preliminaries/install_packages.ipynb) for more information about installing modules): \n",
    "\n",
    "```python\n",
    "%conda install -c conda-forge matplotlib-venn\n",
    "```\n",
    "\n",
    "Note that the package is *imported* as matplotlib_venn (with underscore) but must be *installed* as matplotlib-venn (with dash). Installation of a package can take quite some time, but it needs to be done only once. "
   ]
  },
  {
   "cell_type": "code",
   "execution_count": 1,
   "metadata": {},
   "outputs": [],
   "source": [
    "%matplotlib inline  \n",
    "# %matplotlib inline enables drawing of visualizations in the Notebook\n",
    "import warnings\n",
    "warnings.simplefilter(action='ignore', category=FutureWarning) # this suppresses a warning about pandas from tqdm\n",
    "import pandas as pd\n",
    "import os\n",
    "import sys\n",
    "from tqdm.auto import tqdm\n",
    "tqdm.pandas() # initiate pandas support in tqdm, allowing progress_apply() and progress_map()\n",
    "from matplotlib import pyplot as plt\n",
    "from matplotlib_venn import venn2\n",
    "from nltk.tokenize import MWETokenizer\n",
    "import zipfile\n",
    "import json\n",
    "util_dir = os.path.abspath('../utils')\n",
    "sys.path.append(util_dir)\n",
    "from utils import *"
   ]
  },
  {
   "cell_type": "markdown",
   "metadata": {},
   "source": [
    "#### 3.1.0.1 Read Lexical and Literary Data\n",
    "The module `utils` in the `utils` directory of Compass includes the function `get_data()` which essentially runs the same code as the [Extended ORACC Parser](../2_1_Data_Acquisition_ORACC/2_1_3_extended_ORACC-JSON_parser.ipynb) (see there for explanation of the code). Its only parameter is a string with [ORACC](http://oracc.org) project names, separated by commas. It returns a Pandas DataFrame in which each word is represented by a row."
   ]
  },
  {
   "cell_type": "code",
   "execution_count": 2,
   "metadata": {},
   "outputs": [
    {
     "name": "stdout",
     "output_type": "stream",
     "text": [
      "Downloading JSON\n",
      "Saving http://build-oracc.museum.upenn.edu/json/dcclt.zip as jsonzip/dcclt.zip.\n"
     ]
    },
    {
     "data": {
      "application/vnd.jupyter.widget-view+json": {
       "model_id": "16f6005d12944dc786e3ac6318260fb6",
       "version_major": 2,
       "version_minor": 0
      },
      "text/plain": [
       "HBox(children=(FloatProgress(value=1.0, bar_style='info', description='dcclt', max=1.0, style=ProgressStyle(de…"
      ]
     },
     "metadata": {},
     "output_type": "display_data"
    },
    {
     "name": "stdout",
     "output_type": "stream",
     "text": [
      "\n",
      "Saving http://build-oracc.museum.upenn.edu/json/dcclt-signlists.zip as jsonzip/dcclt-signlists.zip.\n"
     ]
    },
    {
     "data": {
      "application/vnd.jupyter.widget-view+json": {
       "model_id": "6d94470e293645819b039410ac635e57",
       "version_major": 2,
       "version_minor": 0
      },
      "text/plain": [
       "HBox(children=(FloatProgress(value=1.0, bar_style='info', description='dcclt/signlists', max=1.0, style=Progre…"
      ]
     },
     "metadata": {},
     "output_type": "display_data"
    },
    {
     "name": "stdout",
     "output_type": "stream",
     "text": [
      "\n",
      "Saving http://build-oracc.museum.upenn.edu/json/epsd2-literary.zip as jsonzip/epsd2-literary.zip.\n"
     ]
    },
    {
     "data": {
      "application/vnd.jupyter.widget-view+json": {
       "model_id": "be4dd50492bb4aac865efc31256f6e63",
       "version_major": 2,
       "version_minor": 0
      },
      "text/plain": [
       "HBox(children=(FloatProgress(value=1.0, bar_style='info', description='epsd2/literary', max=1.0, style=Progres…"
      ]
     },
     "metadata": {},
     "output_type": "display_data"
    },
    {
     "name": "stdout",
     "output_type": "stream",
     "text": [
      "\n",
      "Saving http://build-oracc.museum.upenn.edu/json/dcclt-ebla.zip as jsonzip/dcclt-ebla.zip.\n"
     ]
    },
    {
     "data": {
      "application/vnd.jupyter.widget-view+json": {
       "model_id": "9742acf3902a4a8f80a79aa1a12ca5d0",
       "version_major": 2,
       "version_minor": 0
      },
      "text/plain": [
       "HBox(children=(FloatProgress(value=1.0, bar_style='info', description='dcclt/ebla', max=1.0, style=ProgressSty…"
      ]
     },
     "metadata": {},
     "output_type": "display_data"
    },
    {
     "name": "stdout",
     "output_type": "stream",
     "text": [
      "\n",
      "Saving http://build-oracc.museum.upenn.edu/json/dcclt-nineveh.zip as jsonzip/dcclt-nineveh.zip.\n"
     ]
    },
    {
     "data": {
      "application/vnd.jupyter.widget-view+json": {
       "model_id": "15caa6fa3e914ce385b8e8c8a819e6a2",
       "version_major": 2,
       "version_minor": 0
      },
      "text/plain": [
       "HBox(children=(FloatProgress(value=1.0, bar_style='info', description='dcclt/nineveh', max=1.0, style=Progress…"
      ]
     },
     "metadata": {},
     "output_type": "display_data"
    },
    {
     "name": "stdout",
     "output_type": "stream",
     "text": [
      "\n",
      "Parsing JSON\n"
     ]
    },
    {
     "data": {
      "application/vnd.jupyter.widget-view+json": {
       "model_id": "546af15e6b1647158c3a9492e4cbf7d3",
       "version_major": 2,
       "version_minor": 0
      },
      "text/plain": [
       "HBox(children=(FloatProgress(value=0.0, description='dcclt', max=4526.0, style=ProgressStyle(description_width…"
      ]
     },
     "metadata": {},
     "output_type": "display_data"
    },
    {
     "name": "stdout",
     "output_type": "stream",
     "text": [
      "\n"
     ]
    },
    {
     "data": {
      "application/vnd.jupyter.widget-view+json": {
       "model_id": "16d8894bbf704f3dbdabcaaddde9ba6f",
       "version_major": 2,
       "version_minor": 0
      },
      "text/plain": [
       "HBox(children=(FloatProgress(value=0.0, description='dcclt/signlists', max=136.0, style=ProgressStyle(descript…"
      ]
     },
     "metadata": {},
     "output_type": "display_data"
    },
    {
     "name": "stdout",
     "output_type": "stream",
     "text": [
      "dcclt/signlists/X003931 is not available or not complete\n",
      "\n"
     ]
    },
    {
     "data": {
      "application/vnd.jupyter.widget-view+json": {
       "model_id": "d62303ac6e934991aced8d8072a75d77",
       "version_major": 2,
       "version_minor": 0
      },
      "text/plain": [
       "HBox(children=(FloatProgress(value=0.0, description='epsd2/literary', max=916.0, style=ProgressStyle(descripti…"
      ]
     },
     "metadata": {},
     "output_type": "display_data"
    },
    {
     "name": "stdout",
     "output_type": "stream",
     "text": [
      "\n"
     ]
    },
    {
     "data": {
      "application/vnd.jupyter.widget-view+json": {
       "model_id": "50cec6f88460431fb1a591c231ca0477",
       "version_major": 2,
       "version_minor": 0
      },
      "text/plain": [
       "HBox(children=(FloatProgress(value=0.0, description='dcclt/ebla', max=156.0, style=ProgressStyle(description_w…"
      ]
     },
     "metadata": {},
     "output_type": "display_data"
    },
    {
     "name": "stdout",
     "output_type": "stream",
     "text": [
      "\n"
     ]
    },
    {
     "data": {
      "application/vnd.jupyter.widget-view+json": {
       "model_id": "5f176dc298b441c491381760efef24d0",
       "version_major": 2,
       "version_minor": 0
      },
      "text/plain": [
       "HBox(children=(FloatProgress(value=0.0, description='dcclt/nineveh', max=664.0, style=ProgressStyle(descriptio…"
      ]
     },
     "metadata": {},
     "output_type": "display_data"
    },
    {
     "name": "stdout",
     "output_type": "stream",
     "text": [
      "\n"
     ]
    }
   ],
   "source": [
    "projects = \"dcclt, dcclt/nineveh, dcclt/signlists, dcclt/ebla, epsd2/literary\"\n",
    "words = get_data(projects)"
   ]
  },
  {
   "cell_type": "markdown",
   "metadata": {},
   "source": [
    "#### 3.1.0.2 Lemmas\n",
    "Create a lemma column and lowercase all lemmas.\n",
    "\n",
    "The `lemma` column is created by combining Citation Form (`cf`), Guide Word (`gw`) and Part of Speech (`pos`). The Pandas `apply()` function applies a function to every row (`axis = 1`) or column (`axis = 0`) of a dataframe. The function used here is a `lambda` function (a temporary function). It is a simple addition of the strings of the `cf`, and `gw` , and `pos` columns (with `[` and `]` as separators), so that a single lemma now looks like `lugal[king]N`. The `lambda` function has one condition: if there is no Citation Form (column `cf` equals the empty string) the contents of the column `form` are taken, followed by `[NA]NA`. The absence of a Citation Form implies that the word was not lemmatized (perhaps an unknown or a broken word). The field `form` contains the raw transliteration - the result may be `x-ra-bi[NA]NA`.\n",
    "\n",
    "If the field `form` is empty (which happens, for instance, when a row represents a horizontal ruling on the tablet), this results in the `lemma` entry `[NA]NA`. In those cases the value of `lemma` is replaced by the empty string by means of a conditional list comprehension.\n",
    "\n",
    "For the current analysis we will use *lemmatized* forms for the comparison between literary and lexical vocabulary. The advantage of using lemmatized forms is that we can easily match, for instance `a naŋ` (to drink water) with `a mu-naŋ` (he drank water), because both are lemmatized as `a[water]N naŋ[drink]V/t`. The unlemmatized forms, therefore, are of little importance here. We need to keep them, for now, because we will also compare *sequences* of lemmas in lexical and literary texts. Premature removal of unlemmatized forms would result in false positives. For instance, the sequence `dumu[child]N x[NA]NA lugal[king]N` should *not* result in a match for the lemma sequence (or multiple word expression) `dumu[child]N lugal[king]N`."
   ]
  },
  {
   "cell_type": "code",
   "execution_count": 3,
   "metadata": {},
   "outputs": [],
   "source": [
    "words = words.loc[words[\"lang\"].str.contains(\"sux\")] # remove Akkadian glosses etc."
   ]
  },
  {
   "cell_type": "code",
   "execution_count": 4,
   "metadata": {},
   "outputs": [
    {
     "data": {
      "application/vnd.jupyter.widget-view+json": {
       "model_id": "88fd049c66f3419fb46bd8faf9785696",
       "version_major": 2,
       "version_minor": 0
      },
      "text/plain": [
       "HBox(children=(FloatProgress(value=0.0, max=517722.0), HTML(value='')))"
      ]
     },
     "metadata": {},
     "output_type": "display_data"
    },
    {
     "name": "stdout",
     "output_type": "stream",
     "text": [
      "\n"
     ]
    }
   ],
   "source": [
    "words[\"lemma\"] = words.progress_apply(lambda r: (f'{r[\"cf\"]}[{r[\"gw\"]}]{r[\"pos\"]}') \n",
    "                            if r[\"cf\"] != '' else f'{r[\"form\"]}[NA]NA', axis=1)\n",
    "words['lemma'] = ['' if lemma == '[NA]NA' else lemma for lemma in words['lemma'] ] \n",
    "# kick out empty forms\n",
    "words[\"lemma\"] = words[\"lemma\"].str.lower()"
   ]
  },
  {
   "cell_type": "markdown",
   "metadata": {},
   "source": [
    "Sign lists (which belong to the broader category of lexical lists) list cuneiform signs with pronunciation glosses and sometimes with Akkadian translation, sign name, and other information. For the current purposes we *only* need the Sumerian word that is represented by the entry. We remove entries that derive from the pronunciation glosses and the signs themselves. Sign names and translation into Akkadian (or other languages) are already removed, because we have selected for Sumerian only in the previous cell.\n",
    "\n",
    "The Pandas function `isin()` compares the contents of a field with a list and returns a boolean (`True` or `False`). In this case the column `field` (which is primarily used for sign lists) is compared to the list `[\"sg\", \"pr\"]`. If `field` equals one of these terms `isin()` returns `True`. The `~` before the entire expression changes `True` into `False` and vv. As a result the dataframe `words` now omits all rows that have either \"sg\" or \"pr\" in the column `field`."
   ]
  },
  {
   "cell_type": "code",
   "execution_count": 5,
   "metadata": {},
   "outputs": [],
   "source": [
    "# remove lemmas that derive from the fields \"sign\" \n",
    "# or \"pronunciation\" in sign lists.\n",
    "words = words[~words[\"field\"].isin([\"sg\", \"pr\"])] "
   ]
  },
  {
   "cell_type": "markdown",
   "metadata": {},
   "source": [
    "#### 3.1.0.3 Split into Lexical and Literary"
   ]
  },
  {
   "cell_type": "code",
   "execution_count": 6,
   "metadata": {},
   "outputs": [],
   "source": [
    "lex_words = words.loc[words.id_text.str.contains('dcclt')]\n",
    "lit_words = words.loc[words.id_text.str.contains('epsd2/literary')]"
   ]
  },
  {
   "cell_type": "markdown",
   "metadata": {},
   "source": [
    "#### 3.1.0.4 Select Old Babylonian Lexical Texts\n",
    "The compositions in [epsd2/literary](http://oracc.org/epsd2/literary) are from the Old Babylonian period. We will use the [DCCLT](http://oracc.org/dcclt) catalog to select only those lexical texts that come from that same period.\n",
    "\n",
    "The catalog is included as a separate `json` file in `dcclt.zip`. Since we parsed the [DCCLT](http://oracc.org/dcclt) text editions earlier in this script, the file `dcclt.zip` should still be in the `jsonzip` directory, we do not have to download it.\n",
    "\n",
    "For more information about handling the file `catalogue.json` see the notebook [2_1_1_parse-json-cat.ipynb](../2_1_Data_Acquisition_ORACC/2_1_1_parse-json-cat.ipynb).\n",
    "\n",
    "The resulting dataframe is reduced to just two columns: `id_text` and `period` so that we can select the ones that have \"Old Babylonian\" in the `period` column."
   ]
  },
  {
   "cell_type": "code",
   "execution_count": 7,
   "metadata": {},
   "outputs": [],
   "source": [
    "file = \"jsonzip/dcclt.zip\"\n",
    "z = zipfile.ZipFile(file) \n",
    "st = z.read(\"dcclt/catalogue.json\").decode(\"utf-8\")\n",
    "j = json.loads(st)\n",
    "cat_df = pd.DataFrame(j[\"members\"]).T\n",
    "cat_df[\"id_text\"] = cat_df[\"id_text\"].fillna(cat_df[\"id_composite\"])\n",
    "cat_df = cat_df[[\"id_text\", \"period\"]]"
   ]
  },
  {
   "cell_type": "code",
   "execution_count": 8,
   "metadata": {},
   "outputs": [
    {
     "data": {
      "text/html": [
       "<div>\n",
       "<style scoped>\n",
       "    .dataframe tbody tr th:only-of-type {\n",
       "        vertical-align: middle;\n",
       "    }\n",
       "\n",
       "    .dataframe tbody tr th {\n",
       "        vertical-align: top;\n",
       "    }\n",
       "\n",
       "    .dataframe thead th {\n",
       "        text-align: right;\n",
       "    }\n",
       "</style>\n",
       "<table border=\"1\" class=\"dataframe\">\n",
       "  <thead>\n",
       "    <tr style=\"text-align: right;\">\n",
       "      <th></th>\n",
       "      <th>id_text</th>\n",
       "      <th>period</th>\n",
       "    </tr>\n",
       "  </thead>\n",
       "  <tbody>\n",
       "    <tr>\n",
       "      <th>P117394</th>\n",
       "      <td>P117394</td>\n",
       "      <td>Old Babylonian</td>\n",
       "    </tr>\n",
       "    <tr>\n",
       "      <th>P117395</th>\n",
       "      <td>P117395</td>\n",
       "      <td>Old Babylonian</td>\n",
       "    </tr>\n",
       "    <tr>\n",
       "      <th>P117396</th>\n",
       "      <td>P117396</td>\n",
       "      <td>Old Babylonian</td>\n",
       "    </tr>\n",
       "    <tr>\n",
       "      <th>P117397</th>\n",
       "      <td>P117397</td>\n",
       "      <td>Old Babylonian</td>\n",
       "    </tr>\n",
       "    <tr>\n",
       "      <th>P117404</th>\n",
       "      <td>P117404</td>\n",
       "      <td>Old Babylonian</td>\n",
       "    </tr>\n",
       "    <tr>\n",
       "      <th>P128345</th>\n",
       "      <td>P128345</td>\n",
       "      <td>Old Babylonian</td>\n",
       "    </tr>\n",
       "    <tr>\n",
       "      <th>P142806</th>\n",
       "      <td>P142806</td>\n",
       "      <td>Old Babylonian</td>\n",
       "    </tr>\n",
       "    <tr>\n",
       "      <th>P145550</th>\n",
       "      <td>P145550</td>\n",
       "      <td>Old Babylonian</td>\n",
       "    </tr>\n",
       "    <tr>\n",
       "      <th>P209775</th>\n",
       "      <td>P209775</td>\n",
       "      <td>Old Babylonian</td>\n",
       "    </tr>\n",
       "    <tr>\n",
       "      <th>P209812</th>\n",
       "      <td>P209812</td>\n",
       "      <td>Old Babylonian</td>\n",
       "    </tr>\n",
       "  </tbody>\n",
       "</table>\n",
       "</div>"
      ],
      "text/plain": [
       "         id_text          period\n",
       "P117394  P117394  Old Babylonian\n",
       "P117395  P117395  Old Babylonian\n",
       "P117396  P117396  Old Babylonian\n",
       "P117397  P117397  Old Babylonian\n",
       "P117404  P117404  Old Babylonian\n",
       "P128345  P128345  Old Babylonian\n",
       "P142806  P142806  Old Babylonian\n",
       "P145550  P145550  Old Babylonian\n",
       "P209775  P209775  Old Babylonian\n",
       "P209812  P209812  Old Babylonian"
      ]
     },
     "execution_count": 8,
     "metadata": {},
     "output_type": "execute_result"
    }
   ],
   "source": [
    "ob = cat_df[cat_df[\"period\"] == \"Old Babylonian\"]\n",
    "ob[:10]"
   ]
  },
  {
   "cell_type": "markdown",
   "metadata": {},
   "source": [
    "The index of the resulting dataframe `ob` is identical to the column `id_text` (the P, Q, or X number of each text). We can retrieve the index with the Pandas command `index.values`, which returns a list. These are the P/Q/X numbers that we want to keep.\n",
    "\n",
    "In the dataframe `lex_words` all text IDs are preceded by `dcclt/`, `dcclt/signlists`, etc. We will compare the last seven characters of `id_text` (the P, Q, or X number), to see if that number appears in `keep`. This will select the Old Babylonian entries."
   ]
  },
  {
   "cell_type": "code",
   "execution_count": 9,
   "metadata": {},
   "outputs": [],
   "source": [
    "keep = ob.index.values\n",
    "lex_words = lex_words.loc[lex_words[\"id_text\"].str[-7:].isin(keep)]"
   ]
  },
  {
   "cell_type": "markdown",
   "metadata": {},
   "source": [
    "### 3.1.1 First Approximation\n",
    "Now we have two dataframes: `lit_words` and `lex_words`. In both the field `lemma` contains the lemmatization data of a single word. We can extract the unique lemmas with the `set()` command (a set is an unordered collection of unique elements). We remove the non-lemmatized words (those have `na` as Guide Word and `na` as POS) with a set comprehension, and compare the two resulting sets in a [Venn diagram](https://en.wikipedia.org/wiki/Venn_diagram)."
   ]
  },
  {
   "cell_type": "code",
   "execution_count": 10,
   "metadata": {},
   "outputs": [],
   "source": [
    "lit_words_s = set(lit_words[\"lemma\"])\n",
    "lexical_words_s = set(lex_words[\"lemma\"])\n",
    "lit_words_s = {lemma for lemma in lit_words_s if not '[na]na' in lemma}\n",
    "lexical_words_s = {lemma for lemma in lexical_words_s if not '[na]na' in lemma}"
   ]
  },
  {
   "cell_type": "markdown",
   "metadata": {},
   "source": [
    "The `venn2` command from the `matplotlib_venn` library creates a Venn diagram of two sets. Each set is represented by a circle, the diameter of the circle is related to the number of elements in the set. The intersection of the circles represents elements that are contained in both sets.\n",
    "\n",
    "In its most basic form the `venn2()` command simply takes a list that contains the two sets."
   ]
  },
  {
   "cell_type": "code",
   "execution_count": 11,
   "metadata": {},
   "outputs": [
    {
     "data": {
      "image/png": "[encoded data removed]",
      "text/plain": [
       "<Figure size 432x288 with 1 Axes>"
      ]
     },
     "metadata": {},
     "output_type": "display_data"
    }
   ],
   "source": [
    "venn2([lit_words_s, lexical_words_s]);"
   ]
  },
  {
   "cell_type": "markdown",
   "metadata": {},
   "source": [
    "This basic plot is not too informative because it does not include the size of each set, nor its name. We can customize colors, size of the plot, and the legends. This customization is put in a function so it can be reused later on."
   ]
  },
  {
   "cell_type": "code",
   "execution_count": 12,
   "metadata": {},
   "outputs": [],
   "source": [
    "def plot_venn(lit_vocab, lex_vocab):\n",
    "    \"\"\"The function takes two sets as arguments and draws a Venn diagram \n",
    "    that shows the intersection between the two sets.\n",
    "    The legend includes the size of each set and the size \n",
    "    of the intersection with the other set as a percentage.\n",
    "    \"\"\"\n",
    "    plt.figure(figsize=(8,8))\n",
    "    lit_abs = len(lit_vocab)\n",
    "    lex_abs = len(lex_vocab)\n",
    "    inter_abs = len(lit_vocab.intersection(lex_vocab))\n",
    "    lit_per = \"{:.0%}\".format(inter_abs/lit_abs)\n",
    "    lex_per = \"{:.0%}\".format(inter_abs/lex_abs)\n",
    "    lit_legend = f\"literary ({str(lit_abs)}) {lit_per} overlap\"\n",
    "    lex_legend = f\"lexical ({str(lex_abs)}) {lex_per} overlap\"\n",
    "    c = venn2([lit_vocab, lex_vocab], (lit_legend, lex_legend))\n",
    "    c.get_patch_by_id('10').set_color(\"#fdb515\") # color for left set\n",
    "    c.get_patch_by_id('01').set_color(\"#003262\") # color for right set\n",
    "    c.get_patch_by_id('11').set_color(\"#bc9b6a\") # color for intersection\n",
    "    plt.show()\n",
    "    return"
   ]
  },
  {
   "cell_type": "code",
   "execution_count": 13,
   "metadata": {},
   "outputs": [
    {
     "data": {
      "image/png": "[encoded data removed]",
      "text/plain": [
       "<Figure size 576x576 with 1 Axes>"
      ]
     },
     "metadata": {},
     "output_type": "display_data"
    }
   ],
   "source": [
    "plot_venn(lit_words_s, lexical_words_s)"
   ]
  },
  {
   "cell_type": "markdown",
   "metadata": {},
   "source": [
    "### 3.1.2 Second Approach: Multiple Word Expressions\n",
    "\n",
    "Instead of looking at individual words (or lexemes), we may also look at lexical *entries* and their presence (or absence) in literary texts. The list of domestic animals, for instance, includes the entry `udu diŋir-e gu₇-a`('sheep eaten by a god'), lemmatized as `udu[sheep]n diŋir[god]n gu[eat]v/t`. Unsurprisingly, all these very common lemmas appear in the literary corpus, and thus in our previous analysis this item results in three hits. But does the expression as a whole ever appear in the literary corpus? \n",
    "\n",
    "In order to perform the comparison on the lexical entry level we first need to represent our data (lexical and literary) as lines, rather than as individual words. Lines in lexical texts will become our multiple word expressions. Lines in literary texts will serve as boundaries, since we do not expect our multiple word expressions to continue from one line to the next.\n",
    "\n",
    "We will use the Multiple Word Expressions (MWE) Tokenizer from the Natural Language Toolkit (`nltk`) to identify and mark the lexical expressions in the literary corpus. Essentially MWETokenizer processes a text that is already tokenized, combining tokens that belong together in a Multiple Word Expression according to a list of such expressions provided by the user. The corpus to be tokenized with MWETokenizer is expected to be a list of lists, where each lower level list represents a sentence. The data format for the Multiple Word Expressions is a list of tuples, where each tuple represents a sequence of words that belong together. In order to use MWETokenizer for our purposes we thus need to transform the [epsd2/literary](http://oracc.org/epsd2/literary) data into a list of lists and the lexical data into a list of tuples."
   ]
  },
  {
   "cell_type": "markdown",
   "metadata": {},
   "source": [
    "#### 3.1.2.1 Line by Line\n",
    "\n",
    "The dataframe `lex_words` that was produced in section 3.1.0.3 contains the lemmatizations of all Old Babylonian lexical texts in a word-by-word (or rather lemma-by-lemma) arrangement. In order to work with lexical *entries* we need to reconstruct lines. That is, we collect the words (lemmas) that belong to the same line of the same lexical text. The dataframe `lex_words` includes the fields `id_text` and `id_line` that allow us to do so. \n",
    "\n",
    "| id_text | id_line | lemma|\n",
    "|:-------|:------|:------|\n",
    "| dcclt/Q000001 |\t1 | udu\\[sheep\\]n |\n",
    "| dcclt/Q000001|\t1 | niga\\[fattened\\]v/i|\n",
    "| dcclt/Q000001|\t2 |\tudu\\[sheep\\]n|\n",
    "| dcclt/Q000001|\t2 |\tniga\\[fattened\\]v/i|\n",
    "| dcclt/Q000001|\t2 |\tsag\\[rare\\]v/i|\n",
    "\n",
    "We need to change the above representation into two entries (representing two lines in a lexical text) like this:\n",
    "\n",
    "| id_text | id_line | lemma|\n",
    "|:-------|:------|:------|\n",
    "| dcclt/Q000001 |\t1 | udu\\[sheep\\]n niga\\[fattened\\]v/i |\n",
    "| dcclt/Q000001|\t2 | udu\\[sheep\\]n niga\\[fattened\\]v/i, sag\\[rare\\]v/i |\n",
    "\n",
    "In order to do this we use the Pandas functions `groupby()` and `agg()` (for aggregate). For a brief explanation of these functions see the [Basic ORACC Parser](../2_1_Data_Acquisition_ORACC/2_1_2_basic_ORACC-JSON_parser.ipynb) (in particular section 3.3: Group by TextID). The `to_pickle` function from the `pandas` package saves the resulting DataFrame for use in the next notebook."
   ]
  },
  {
   "cell_type": "code",
   "execution_count": 14,
   "metadata": {},
   "outputs": [],
   "source": [
    "lex_lines = lex_words.groupby([lex_words['id_text'], lex_words['id_line']]).agg({\n",
    "        'lemma': ' '.join\n",
    "    }).reset_index()\n",
    "lex_lines.to_pickle('output/lexlines.p')"
   ]
  },
  {
   "cell_type": "code",
   "execution_count": 15,
   "metadata": {},
   "outputs": [
    {
     "data": {
      "text/html": [
       "<div>\n",
       "<style scoped>\n",
       "    .dataframe tbody tr th:only-of-type {\n",
       "        vertical-align: middle;\n",
       "    }\n",
       "\n",
       "    .dataframe tbody tr th {\n",
       "        vertical-align: top;\n",
       "    }\n",
       "\n",
       "    .dataframe thead th {\n",
       "        text-align: right;\n",
       "    }\n",
       "</style>\n",
       "<table border=\"1\" class=\"dataframe\">\n",
       "  <thead>\n",
       "    <tr style=\"text-align: right;\">\n",
       "      <th></th>\n",
       "      <th>id_text</th>\n",
       "      <th>id_line</th>\n",
       "      <th>lemma</th>\n",
       "    </tr>\n",
       "  </thead>\n",
       "  <tbody>\n",
       "    <tr>\n",
       "      <th>0</th>\n",
       "      <td>dcclt/P117394</td>\n",
       "      <td>2</td>\n",
       "      <td>kid[mat]n</td>\n",
       "    </tr>\n",
       "    <tr>\n",
       "      <th>1</th>\n",
       "      <td>dcclt/P117394</td>\n",
       "      <td>3</td>\n",
       "      <td>kid[mat]n andul[shade]n</td>\n",
       "    </tr>\n",
       "    <tr>\n",
       "      <th>2</th>\n",
       "      <td>dcclt/P117394</td>\n",
       "      <td>4</td>\n",
       "      <td>kid[mat]n antadul[cloak]n</td>\n",
       "    </tr>\n",
       "    <tr>\n",
       "      <th>3</th>\n",
       "      <td>dcclt/P117395</td>\n",
       "      <td>2</td>\n",
       "      <td>ŋeše[key]n</td>\n",
       "    </tr>\n",
       "    <tr>\n",
       "      <th>4</th>\n",
       "      <td>dcclt/P117395</td>\n",
       "      <td>3</td>\n",
       "      <td>pakud[~tree]n</td>\n",
       "    </tr>\n",
       "    <tr>\n",
       "      <th>5</th>\n",
       "      <td>dcclt/P117395</td>\n",
       "      <td>4</td>\n",
       "      <td>raba[clamp]n</td>\n",
       "    </tr>\n",
       "    <tr>\n",
       "      <th>6</th>\n",
       "      <td>dcclt/P117396</td>\n",
       "      <td>2</td>\n",
       "      <td>hašhur[apple]n</td>\n",
       "    </tr>\n",
       "    <tr>\n",
       "      <th>7</th>\n",
       "      <td>dcclt/P117396</td>\n",
       "      <td>3</td>\n",
       "      <td>hašhur[apple]n baza[dwarf]n</td>\n",
       "    </tr>\n",
       "    <tr>\n",
       "      <th>8</th>\n",
       "      <td>dcclt/P117396</td>\n",
       "      <td>4</td>\n",
       "      <td>hašhur[apple]n mari[1]sn</td>\n",
       "    </tr>\n",
       "    <tr>\n",
       "      <th>9</th>\n",
       "      <td>dcclt/P117397</td>\n",
       "      <td>2</td>\n",
       "      <td>laqipu[1]dn</td>\n",
       "    </tr>\n",
       "  </tbody>\n",
       "</table>\n",
       "</div>"
      ],
      "text/plain": [
       "         id_text  id_line                        lemma\n",
       "0  dcclt/P117394        2                    kid[mat]n\n",
       "1  dcclt/P117394        3      kid[mat]n andul[shade]n\n",
       "2  dcclt/P117394        4    kid[mat]n antadul[cloak]n\n",
       "3  dcclt/P117395        2                   ŋeše[key]n\n",
       "4  dcclt/P117395        3                pakud[~tree]n\n",
       "5  dcclt/P117395        4                 raba[clamp]n\n",
       "6  dcclt/P117396        2               hašhur[apple]n\n",
       "7  dcclt/P117396        3  hašhur[apple]n baza[dwarf]n\n",
       "8  dcclt/P117396        4     hašhur[apple]n mari[1]sn\n",
       "9  dcclt/P117397        2                  laqipu[1]dn"
      ]
     },
     "execution_count": 15,
     "metadata": {},
     "output_type": "execute_result"
    }
   ],
   "source": [
    "lex_lines[:10]"
   ]
  },
  {
   "cell_type": "markdown",
   "metadata": {},
   "source": [
    "Now we do the same for the `lit_words` dataframe, reconstructing lines in literary compositions. "
   ]
  },
  {
   "cell_type": "code",
   "execution_count": 16,
   "metadata": {},
   "outputs": [],
   "source": [
    "lit_lines = lit_words.groupby([lit_words['id_text'], lit_words['id_line']]).agg({\n",
    "        'lemma': ' '.join\n",
    "    }).reset_index()"
   ]
  },
  {
   "cell_type": "code",
   "execution_count": 17,
   "metadata": {},
   "outputs": [
    {
     "data": {
      "text/html": [
       "<div>\n",
       "<style scoped>\n",
       "    .dataframe tbody tr th:only-of-type {\n",
       "        vertical-align: middle;\n",
       "    }\n",
       "\n",
       "    .dataframe tbody tr th {\n",
       "        vertical-align: top;\n",
       "    }\n",
       "\n",
       "    .dataframe thead th {\n",
       "        text-align: right;\n",
       "    }\n",
       "</style>\n",
       "<table border=\"1\" class=\"dataframe\">\n",
       "  <thead>\n",
       "    <tr style=\"text-align: right;\">\n",
       "      <th></th>\n",
       "      <th>id_text</th>\n",
       "      <th>id_line</th>\n",
       "      <th>lemma</th>\n",
       "    </tr>\n",
       "  </thead>\n",
       "  <tbody>\n",
       "    <tr>\n",
       "      <th>1200</th>\n",
       "      <td>epsd2/literary/P346106</td>\n",
       "      <td>17</td>\n",
       "      <td>x[na]na x[na]na</td>\n",
       "    </tr>\n",
       "    <tr>\n",
       "      <th>1201</th>\n",
       "      <td>epsd2/literary/P346107</td>\n",
       "      <td>3</td>\n",
       "      <td>innin[lady]n ki[place]n aŋ[measure]v/t dumuzid...</td>\n",
       "    </tr>\n",
       "    <tr>\n",
       "      <th>1202</th>\n",
       "      <td>epsd2/literary/P346107</td>\n",
       "      <td>4</td>\n",
       "      <td>x[na]na x[na]na gur[lift]v/t ki[place]n aŋ[mea...</td>\n",
       "    </tr>\n",
       "    <tr>\n",
       "      <th>1203</th>\n",
       "      <td>epsd2/literary/P346107</td>\n",
       "      <td>5</td>\n",
       "      <td>a[water]n x-x[na]na zid[right]v/i šag[heart]n ...</td>\n",
       "    </tr>\n",
       "    <tr>\n",
       "      <th>1204</th>\n",
       "      <td>epsd2/literary/P346107</td>\n",
       "      <td>6</td>\n",
       "      <td>nin[sister]n namnin[ladyship]n utud[bear]v/t</td>\n",
       "    </tr>\n",
       "    <tr>\n",
       "      <th>1205</th>\n",
       "      <td>epsd2/literary/P346107</td>\n",
       "      <td>7</td>\n",
       "      <td>tur[stall]n i[oil]n gara[cream]n x[na]na si[fi...</td>\n",
       "    </tr>\n",
       "    <tr>\n",
       "      <th>1206</th>\n",
       "      <td>epsd2/literary/P346107</td>\n",
       "      <td>8</td>\n",
       "      <td>amaš[sheepfold]n i[oil]n x[na]na mu-un-da-an-b...</td>\n",
       "    </tr>\n",
       "    <tr>\n",
       "      <th>1207</th>\n",
       "      <td>epsd2/literary/P346107</td>\n",
       "      <td>9</td>\n",
       "      <td>aneden[steppe]n x[na]na x[na]na x-a-ŋu₁₀[na]na...</td>\n",
       "    </tr>\n",
       "    <tr>\n",
       "      <th>1208</th>\n",
       "      <td>epsd2/literary/P346107</td>\n",
       "      <td>10</td>\n",
       "      <td>a[water]n kisikil[woman]n x[na]na x[na]na me[b...</td>\n",
       "    </tr>\n",
       "    <tr>\n",
       "      <th>1209</th>\n",
       "      <td>epsd2/literary/P346107</td>\n",
       "      <td>11</td>\n",
       "      <td>dumu[child]n banda[junior]v/i x[na]na me[be]v/i</td>\n",
       "    </tr>\n",
       "  </tbody>\n",
       "</table>\n",
       "</div>"
      ],
      "text/plain": [
       "                     id_text  id_line  \\\n",
       "1200  epsd2/literary/P346106       17   \n",
       "1201  epsd2/literary/P346107        3   \n",
       "1202  epsd2/literary/P346107        4   \n",
       "1203  epsd2/literary/P346107        5   \n",
       "1204  epsd2/literary/P346107        6   \n",
       "1205  epsd2/literary/P346107        7   \n",
       "1206  epsd2/literary/P346107        8   \n",
       "1207  epsd2/literary/P346107        9   \n",
       "1208  epsd2/literary/P346107       10   \n",
       "1209  epsd2/literary/P346107       11   \n",
       "\n",
       "                                                  lemma  \n",
       "1200                                    x[na]na x[na]na  \n",
       "1201  innin[lady]n ki[place]n aŋ[measure]v/t dumuzid...  \n",
       "1202  x[na]na x[na]na gur[lift]v/t ki[place]n aŋ[mea...  \n",
       "1203  a[water]n x-x[na]na zid[right]v/i šag[heart]n ...  \n",
       "1204       nin[sister]n namnin[ladyship]n utud[bear]v/t  \n",
       "1205  tur[stall]n i[oil]n gara[cream]n x[na]na si[fi...  \n",
       "1206  amaš[sheepfold]n i[oil]n x[na]na mu-un-da-an-b...  \n",
       "1207  aneden[steppe]n x[na]na x[na]na x-a-ŋu₁₀[na]na...  \n",
       "1208  a[water]n kisikil[woman]n x[na]na x[na]na me[b...  \n",
       "1209    dumu[child]n banda[junior]v/i x[na]na me[be]v/i  "
      ]
     },
     "execution_count": 17,
     "metadata": {},
     "output_type": "execute_result"
    }
   ],
   "source": [
    "lit_lines[1200:1210]"
   ]
  },
  {
   "cell_type": "markdown",
   "metadata": {},
   "source": [
    "#### 3.1.2.2 Extract lexical entries \n",
    "Each row in the resulting DataFrame `lex_lines` now consists of a text ID (`id_text`), a line number (`id_line`), and a sequenbce of lemmas representing a lexical *entry* (e.g. `udu[sheep] diŋir[god] gu[eat])`). We extract the `lemma` column, remove duplicate lexical entries with the `set()` function and use a list comprehension to turn each lexical entry (sequence of lemmas) into a tuple. This creates a list of tuples, which is the data format we need for the MWEtokenizer. \n",
    "\n",
    "Any lexical line that contains an unlemmatized word (characterized by \"na\" as Guide Word) is useless for the comparison and is deleted from the list. "
   ]
  },
  {
   "cell_type": "code",
   "execution_count": 18,
   "metadata": {},
   "outputs": [
    {
     "data": {
      "text/plain": [
       "[('abba[father]n', 'iri[city]n'),\n",
       " ('lam[tree]n',),\n",
       " ('udu[sheep]n', 'ŋissu[shade]n'),\n",
       " ('saŋ[head]n', 'gulgul[stone]n'),\n",
       " ('maš[goat]n', 'zu[tooth]n'),\n",
       " ('azagun[bird]n',),\n",
       " ('šitaʾaba[priest]n',),\n",
       " ('uzariaʾu[1]sn',),\n",
       " ('lagab[block]n', 'zagin[lapis]n'),\n",
       " ('lugud[short]v/i',),\n",
       " ('un.il₂[menial]n',),\n",
       " ('nunuztaba[toggle-pins]n',),\n",
       " ('niŋki[fish]n',),\n",
       " ('lu[person]n', 'širsaŋ[subscript]n'),\n",
       " ('gud[ox]n', 'sissig[green]v/i'),\n",
       " ('ešdam[tavern]n',),\n",
       " ('ŋiri[dagger]n', 'šuʾi[barber]n'),\n",
       " ('ŋešrin[scales]n', 'diš[one]nu', 'mana[unit]n', 'la[hang]v/t'),\n",
       " ('laqipu[1]dn',),\n",
       " ('na[stone]n', 'su[red]v/i'),\n",
       " ('kid[break]v/t',),\n",
       " ('kan[gate]n', 'egal[palace]n'),\n",
       " ('niŋ[thing]n', 'šanabi[two-thirds]nu', 'sila[unit]n'),\n",
       " ('gana[1]dn',),\n",
       " ('igi[face]n', 'abba[father]n', 'iri[city]n'),\n",
       " ('ur[dog]n', 'sissig[green]v/i'),\n",
       " ('gigur[container]n', 'sahar[soil]n'),\n",
       " ('ki.lugal.du[locus]n', 'en[lord]n'),\n",
       " ('ezim[stone]n',),\n",
       " ('lu[person]n', 'ki[place]n', 'tum[suitable]v/i')]"
      ]
     },
     "execution_count": 18,
     "metadata": {},
     "output_type": "execute_result"
    }
   ],
   "source": [
    "lex = set(lex_lines[\"lemma\"])\n",
    "lex = [tuple(item.split()) for item in lex if not '[na]na' in item]\n",
    "lex[-30:]"
   ]
  },
  {
   "cell_type": "markdown",
   "metadata": {},
   "source": [
    "#### 3.1.2.3 Mark lexical entries in literary texts\n",
    "The list `lex` now contains all uniquely lemmatized entries in the Old Babylonian lexical corpus as edited in [DCCLT](http://oracc.org/dcclt). This is the vocabulary that we wish to find in the literary corpus as edited in [epsd2/literary](http://oracc.org/epsd2/literary).\n",
    "\n",
    "In order to do so we must re-tokenize the literary corpus, using the Multiple Word Expressions Tokenizer from `nltk`. This tokenizer is initialized with a list of tuples, where each tuple represents a Multiple Word Expression. By default, the words that constitute a MWE are connected by underscores.\n",
    "\n",
    "For this purpose we will first remove from `lex` the single-word entries (tuples with length 1). The resulting list is called `lex_mwe`. Now the tokenizer is inititalized with `lex_mwe` as its sole argument."
   ]
  },
  {
   "cell_type": "code",
   "execution_count": 19,
   "metadata": {},
   "outputs": [],
   "source": [
    "lex_mwe = [item for item in lex if len(item) > 1]\n",
    "tokenizer = MWETokenizer(lex_mwe)"
   ]
  },
  {
   "cell_type": "markdown",
   "metadata": {},
   "source": [
    "To illustrate how the MWETokenizer works we may try it on a single line of text, line 148 of the composition [Iddin-Dagan A](http://etcsl.orinst.ox.ac.uk/cgi-bin/etcsl.cgi?text=c.2.5.3.1&amp;display=Crit&amp;charenc=gcirc):\n",
    "\n",
    "> 148. {udu}a-lum udu zulumḫi udu niga ŋiš mu-ni-ib-tag-ge\n",
    ">\n",
    "> \"They sacrifice *aslum* sheep, long-haired sheep, and fattened sheep for her.\"\n",
    "\n",
    "In the `lemma` column of the `etcsl` DataFrame the line is represented as\n",
    "> [aslum[sheep]n, udu[sheep]n, zulumhi[sheep]n, udu[sheep]n, niga[fattened]v/i, ŋeš[tree]n, tag[touch]v/t]\n",
    "\n",
    "We can run this list of lemmas through the tokenizer to see what happens."
   ]
  },
  {
   "cell_type": "code",
   "execution_count": 20,
   "metadata": {},
   "outputs": [
    {
     "data": {
      "text/plain": [
       "['aslum[sheep]n',\n",
       " 'udu[sheep]n_zulumhi[sheep]n',\n",
       " 'udu[sheep]n_niga[fattened]v/i',\n",
       " 'ŋeš[tree]n_tag[touch]v/t']"
      ]
     },
     "execution_count": 20,
     "metadata": {},
     "output_type": "execute_result"
    }
   ],
   "source": [
    "lemm_line = [\"aslum[sheep]n\", \"udu[sheep]n\", \"zulumhi[sheep]n\", \"udu[sheep]n\", \"niga[fattened]v/i\", \"ŋeš[tree]n\", \"tag[touch]v/t\"]\n",
    "tokenizer.tokenize(lemm_line)"
   ]
  },
  {
   "cell_type": "markdown",
   "metadata": {},
   "source": [
    "The tokenizer thus found three Multiple Word Expressions in this single line and connected the lemmas of the MWEs by underscores. The line also illustrates a limitation of this approach. The [epsd2/literary](http://oracc.org/epsd2/literary) edition of [Iddin-Dagan A](http://oracc.org/epsd2/literary/Q000447) represents the first word of line 148 as {udu}a-lum, taking \"udu\" (sheep) as a determinative (or semantic classifier). The edition of the list of animals in [OB Ura 3](http://oracc.org/dcclt/Q000001) in [DCCLT](http://oracc.org/dcclt), however, treats this same sign sequence as a sequence of two words: udu a-lum, lemmatized as udu\\[sheep\\]N aslum\\[sheep\\]N (line 8). Although aslum\\[sheep\\]N will result in a match, it will seem that the combination udu\\[sheep\\]N aslum\\[sheep\\]N does not appear in the literary corpus. Matches are only found if the words are represented in exactly the same way, and small inconsistencies in lemmatization may result in false negatives.\n",
    "\n",
    "We can now apply the MWE tokenizer on the entire data set, by re-tokenizing each list of lemmas in the `lemma` column of the `lit_lines` DataFrame. The function `tokenize_sents()` (for \"tokenize sentences\") can be used to tokenize a list of lists where each second-order list represents a sentence (or, in our case, a line) in one go. The result of this function is again a list of lists; it contains the same tokens, but now Multiple Word Expressions are connected by underscores.\n",
    "\n",
    "We extract the `lemma` from the `lit_lines` DataFrame and split each entry into a list - producing a list of list that can be fed as input to the MWETokenizer. The output is again a list of list - each line is represented by a list of lemmas. These lists are joined, so that each line is now again represented by a sequence of lemmas in a single string. This data is added as a new column (`lemma_mwe` to the DataFrame `lit_lines`\n",
    "\n",
    "The `lemma_mwe` column of the `lit_lines` dataframe will now represent the [epsd2/literary](http:oracc.org/epsd2/literary) data in a line-by-line presentation of lemmatizations, with underscores connecting lemmas if a corresponding sequence of lemmas exists as an Old Babylonian lexical entry. This version of the DataFrame `lit_lines` is pickled for use in the next notebook."
   ]
  },
  {
   "cell_type": "code",
   "execution_count": 21,
   "metadata": {},
   "outputs": [],
   "source": [
    "lemma_list = [lemma.split() for lemma in lit_lines[\"lemma\"]]\n",
    "lemma_mwe = tokenizer.tokenize_sents(lemma_list)\n",
    "lit_lines[\"lemma_mwe\"] = [' '.join(line) for line in lemma_mwe]\n",
    "lit_lines.to_pickle('output/litlines.p')"
   ]
  },
  {
   "cell_type": "markdown",
   "metadata": {},
   "source": [
    "Now join all the tuples in the list `lex` with underscores, so that the multiple-word entries in the lexical corpus are represented in the same way as they are in the literary corpus. Thus the entry **udu diŋir-e gu₇-a** (sheep eaten by a god) has gone through the following transformations:\n",
    "* lemmatization: udu\\[sheep\\]n diŋir\\[god\\]n gu\\[eat\\]V/t\n",
    "* tuple (lex):   (udu\\[sheep\\]n, diŋir\\[god\\]n, gu\\[eat\\]V/t)\n",
    "* MWE (lex_vocab): udu\\[sheep\\]n_diŋir\\[god\\]n_gu\\[eat\\]V/t"
   ]
  },
  {
   "cell_type": "code",
   "execution_count": 22,
   "metadata": {},
   "outputs": [],
   "source": [
    "lex_vocab = [\"_\".join(entry) for entry in lex]\n",
    "lex_vocab.sort()"
   ]
  },
  {
   "cell_type": "markdown",
   "metadata": {},
   "source": [
    "We can now extract the column `lemma_mwe` from the `lit_lines` DataFrame in order to get a full list of all lemmas and Multiple Word Expressions in the entire [epsd2/literary](http:oracc.org/epsd2/literary) data set. In order to do so we will first join all entries in `lemma_mwe` (joining all literary lines into one big sequence of entries) and then split the result by blank space. That will create a list of all vocabulary items - with MWEs joined by underscores.\n",
    "\n",
    "We will turn this list into a set (to remove duplicate lemmas and duplicate Multiple Word Expressions) and remove all the non-lemmatized words from the [epsd2/literary](http:oracc.org/epsd2/literary) data set with a single set comprehension. That is the set that we can compare with the set of lemmas and MWEs from the lexical corpus."
   ]
  },
  {
   "cell_type": "code",
   "execution_count": 23,
   "metadata": {},
   "outputs": [],
   "source": [
    "lit_words2 = ' '.join(lit_lines['lemma_mwe']).split()\n",
    "lit_words_s2 = {lemma for lemma in lit_words2 if not '[na]na' in lemma}\n",
    "lexical_words_s2 = set(lex_vocab)"
   ]
  },
  {
   "cell_type": "markdown",
   "metadata": {},
   "source": [
    "We can now reuse the function `plot_venn()` that was created above."
   ]
  },
  {
   "cell_type": "code",
   "execution_count": 24,
   "metadata": {},
   "outputs": [
    {
     "data": {
      "image/png": "[encoded data removed]",
      "text/plain": [
       "<Figure size 576x576 with 1 Axes>"
      ]
     },
     "metadata": {},
     "output_type": "display_data"
    }
   ],
   "source": [
    "plot_venn(lit_words_s2, lexical_words_s2)"
   ]
  },
  {
   "cell_type": "markdown",
   "metadata": {},
   "source": [
    "### 3.1.3 Add them Up\n",
    "By creating the union of the two sets (the set with individual words and the set with the lexical entries) we get the most complete comparison of the two corpora. Here `gud[oxen]N_an[heaven]N`, `gud[oxen]N` and `an[heaven]N` are all counted as separate vocabulary items, whether or not `gud` and `an` actually appear as separate entries in the lexical corpus.\n",
    "\n",
    "The full lexical vocabulary is written to a file for use in the next notebook."
   ]
  },
  {
   "cell_type": "code",
   "execution_count": 25,
   "metadata": {},
   "outputs": [],
   "source": [
    "lit_words_s3 = lit_words_s | lit_words_s2\n",
    "lexical_words_s3 = lexical_words_s | lexical_words_s2\n",
    "with open('output/lex_vocab.txt', 'w', encoding = 'utf8') as w:\n",
    "    w.write('\\n'.join(lexical_words_s3))"
   ]
  },
  {
   "cell_type": "code",
   "execution_count": 26,
   "metadata": {},
   "outputs": [
    {
     "data": {
      "image/png": "[encoded data removed]",
      "text/plain": [
       "<Figure size 576x576 with 1 Axes>"
      ]
     },
     "metadata": {},
     "output_type": "display_data"
    }
   ],
   "source": [
    "plot_venn(lit_words_s3, lexical_words_s3)"
   ]
  },
  {
   "cell_type": "markdown",
   "metadata": {},
   "source": [
    "#### 3.1.3.1 Discussion\n",
    "Whereas the change from individual *words* to *lexical expressions* made a big difference in the plot, adding the two up changes the picture only slightly. Many words (lemmas) are part of lexical entries, but are also lexical entries in and of themselves. These individual words are already included in the set of lexical entries and are taken into account in the previous plot. Nevertheless, there are several hundreds of words added on the lexical side - these are lexemes that *only* appear in multiple-word lexical entries and are not attested in the lexical corpus as separate words. \n",
    "\n",
    "On the literary side the number of additional entries is much smaller (counted in the tens, rather than in the hundreds). These are words that appear *only* in fixed expressions (connected by underscore), but not as separate words. We can see which words those are by by subtracting the set `lit_words_s2` from `lit_words_s3`."
   ]
  },
  {
   "cell_type": "code",
   "execution_count": 30,
   "metadata": {},
   "outputs": [
    {
     "data": {
      "text/plain": [
       "{'ašrinna[object]n',\n",
       " 'ašša[perfect]aj',\n",
       " 'babbardili[~stone]n',\n",
       " 'bur[grass]n',\n",
       " 'burgia[offering]n',\n",
       " 'du[hold]v/t',\n",
       " 'ebir[vessel-stand]n',\n",
       " 'giʾiziʾešta[~bread]n',\n",
       " 'gub[bathe]v/i',\n",
       " 'hub[cvve]v/t',\n",
       " 'huldim[rotten]aj',\n",
       " 'kašu[~plow]n',\n",
       " 'kiŋ[pointed]v/i',\n",
       " 'ligidba[plant]n',\n",
       " 'manzila[foot]n',\n",
       " 'maʾu[barge]n',\n",
       " 'mud[rabid]aj',\n",
       " 'nir[trust]n',\n",
       " 'nisaba[1]dn',\n",
       " 'niŋkalaga[strong]aj',\n",
       " 'sa.ku[arm]n',\n",
       " 'sar[shave]v/t',\n",
       " 'saŋa[priest]n',\n",
       " 'tuhul[hip]n',\n",
       " 'tutu[cvve]v/t',\n",
       " 'ugudili[scalp]n',\n",
       " 'uzudirig[mushroom]n',\n",
       " 'zaga[part-of-the-face]n',\n",
       " 'zana[doll]n',\n",
       " 'zidsig[flour]n',\n",
       " 'še[cone]n'}"
      ]
     },
     "execution_count": 30,
     "metadata": {},
     "output_type": "execute_result"
    }
   ],
   "source": [
    "lit_words_s3 - lit_words_s2"
   ]
  },
  {
   "cell_type": "markdown",
   "metadata": {},
   "source": [
    "The word `ašrinna[object]n`, for instance, appears only a few times in the current literary corpus, in one of the Eduba dialogues and in proverbs. "
   ]
  },
  {
   "cell_type": "code",
   "execution_count": 28,
   "metadata": {},
   "outputs": [
    {
     "data": {
      "text/html": [
       "<div>\n",
       "<style scoped>\n",
       "    .dataframe tbody tr th:only-of-type {\n",
       "        vertical-align: middle;\n",
       "    }\n",
       "\n",
       "    .dataframe tbody tr th {\n",
       "        vertical-align: top;\n",
       "    }\n",
       "\n",
       "    .dataframe thead th {\n",
       "        text-align: right;\n",
       "    }\n",
       "</style>\n",
       "<table border=\"1\" class=\"dataframe\">\n",
       "  <thead>\n",
       "    <tr style=\"text-align: right;\">\n",
       "      <th></th>\n",
       "      <th>lang</th>\n",
       "      <th>form</th>\n",
       "      <th>gdl</th>\n",
       "      <th>id_word</th>\n",
       "      <th>label</th>\n",
       "      <th>id_text</th>\n",
       "      <th>delim</th>\n",
       "      <th>cf</th>\n",
       "      <th>gw</th>\n",
       "      <th>sense</th>\n",
       "      <th>...</th>\n",
       "      <th>norm</th>\n",
       "      <th>field</th>\n",
       "      <th>extent</th>\n",
       "      <th>scope</th>\n",
       "      <th>state</th>\n",
       "      <th>cont</th>\n",
       "      <th>aform</th>\n",
       "      <th>stem</th>\n",
       "      <th>id_line</th>\n",
       "      <th>lemma</th>\n",
       "    </tr>\n",
       "  </thead>\n",
       "  <tbody>\n",
       "    <tr>\n",
       "      <th>427928</th>\n",
       "      <td>sux</td>\n",
       "      <td>aš-rin</td>\n",
       "      <td>[{'v': 'aš', 'id': 'Q000621.42.3.0', 'delim': ...</td>\n",
       "      <td>Q000621.42.3</td>\n",
       "      <td>Seg.A, 43</td>\n",
       "      <td>epsd2/literary/Q000621</td>\n",
       "      <td></td>\n",
       "      <td>ašrinna</td>\n",
       "      <td>object</td>\n",
       "      <td>a-wooden-object</td>\n",
       "      <td>...</td>\n",
       "      <td></td>\n",
       "      <td></td>\n",
       "      <td></td>\n",
       "      <td></td>\n",
       "      <td></td>\n",
       "      <td></td>\n",
       "      <td></td>\n",
       "      <td></td>\n",
       "      <td>42</td>\n",
       "      <td>ašrinna[object]n</td>\n",
       "    </tr>\n",
       "    <tr>\n",
       "      <th>482243</th>\n",
       "      <td>sux</td>\n",
       "      <td>aš-rin</td>\n",
       "      <td>[{'v': 'aš', 'id': 'Q000800.39.3.0', 'delim': ...</td>\n",
       "      <td>Q000800.39.3</td>\n",
       "      <td>proverb 7.29, 31</td>\n",
       "      <td>epsd2/literary/Q000800</td>\n",
       "      <td></td>\n",
       "      <td>ašrinna</td>\n",
       "      <td>object</td>\n",
       "      <td>a-wooden-object</td>\n",
       "      <td>...</td>\n",
       "      <td></td>\n",
       "      <td></td>\n",
       "      <td></td>\n",
       "      <td></td>\n",
       "      <td></td>\n",
       "      <td></td>\n",
       "      <td></td>\n",
       "      <td></td>\n",
       "      <td>39</td>\n",
       "      <td>ašrinna[object]n</td>\n",
       "    </tr>\n",
       "    <tr>\n",
       "      <th>564795</th>\n",
       "      <td>sux</td>\n",
       "      <td>aš-rin-na</td>\n",
       "      <td>[{'v': 'aš', 'id': 'Q000767.18.3.0', 'delim': ...</td>\n",
       "      <td>Q000767.18.3</td>\n",
       "      <td>15</td>\n",
       "      <td>epsd2/literary/Q000767</td>\n",
       "      <td></td>\n",
       "      <td>ašrinna</td>\n",
       "      <td>object</td>\n",
       "      <td>a-wooden-object</td>\n",
       "      <td>...</td>\n",
       "      <td></td>\n",
       "      <td></td>\n",
       "      <td></td>\n",
       "      <td></td>\n",
       "      <td></td>\n",
       "      <td></td>\n",
       "      <td></td>\n",
       "      <td></td>\n",
       "      <td>18</td>\n",
       "      <td>ašrinna[object]n</td>\n",
       "    </tr>\n",
       "  </tbody>\n",
       "</table>\n",
       "<p>3 rows × 25 columns</p>\n",
       "</div>"
      ],
      "text/plain": [
       "       lang       form                                                gdl  \\\n",
       "427928  sux     aš-rin  [{'v': 'aš', 'id': 'Q000621.42.3.0', 'delim': ...   \n",
       "482243  sux     aš-rin  [{'v': 'aš', 'id': 'Q000800.39.3.0', 'delim': ...   \n",
       "564795  sux  aš-rin-na  [{'v': 'aš', 'id': 'Q000767.18.3.0', 'delim': ...   \n",
       "\n",
       "             id_word             label                 id_text delim       cf  \\\n",
       "427928  Q000621.42.3         Seg.A, 43  epsd2/literary/Q000621        ašrinna   \n",
       "482243  Q000800.39.3  proverb 7.29, 31  epsd2/literary/Q000800        ašrinna   \n",
       "564795  Q000767.18.3                15  epsd2/literary/Q000767        ašrinna   \n",
       "\n",
       "            gw            sense  ... norm field extent scope state cont aform  \\\n",
       "427928  object  a-wooden-object  ...                                            \n",
       "482243  object  a-wooden-object  ...                                            \n",
       "564795  object  a-wooden-object  ...                                            \n",
       "\n",
       "       stem id_line             lemma  \n",
       "427928           42  ašrinna[object]n  \n",
       "482243           39  ašrinna[object]n  \n",
       "564795           18  ašrinna[object]n  \n",
       "\n",
       "[3 rows x 25 columns]"
      ]
     },
     "execution_count": 28,
     "metadata": {},
     "output_type": "execute_result"
    }
   ],
   "source": [
    "lit_words.loc[lit_words['lemma'] == \"ašrinna[object]n\"]"
   ]
  },
  {
   "cell_type": "markdown",
   "metadata": {},
   "source": [
    "In each case the word is preceded by `kid[mat]n` and this word sequence is also found in [Old Babylonian Nippur Ura 2](http://oracc.org/dcclt/Q000040), line 20. As a result, the lemma sequence `kid[mat]n_ašrinna[object]n` was treated as a unit, a Multiple Word Expression, and the separate word `ašrinna[object]n` was not found in `lit_words_s2`."
   ]
  },
  {
   "cell_type": "code",
   "execution_count": null,
   "metadata": {},
   "outputs": [],
   "source": []
  }
 ],
 "metadata": {
  "kernelspec": {
   "display_name": "Python 3",
   "language": "python",
   "name": "python3"
  },
  "language_info": {
   "codemirror_mode": {
    "name": "ipython",
    "version": 3
   },
   "file_extension": ".py",
   "mimetype": "text/x-python",
   "name": "python",
   "nbconvert_exporter": "python",
   "pygments_lexer": "ipython3",
   "version": "3.7.1"
  },
  "widgets": {
   "state": {
    "0a5ada570441422b81feab4f46df6e85": {
     "views": [
      {
       "cell_index": 7
      }
     ]
    },
    "455a67b4345a4b2ca810ae304ddf61de": {
     "views": [
      {
       "cell_index": 7
      }
     ]
    },
    "8b1b885646de476c868fb0583cd3fff2": {
     "views": [
      {
       "cell_index": 7
      }
     ]
    },
    "ab4e279cb03647e984b99cd78f91b68f": {
     "views": [
      {
       "cell_index": 7
      }
     ]
    }
   },
   "version": "1.2.0"
  }
 },
 "nbformat": 4,
 "nbformat_minor": 4
}
