{
 "cells": [
  {
   "cell_type": "markdown",
   "metadata": {},
   "source": [
    "# Overlap in Lexical and Literary Vocabulary\n",
    "\n",
    "Comparing the vocabulary of Old Babylonian lexical texts (from Nippur) and the vocabulary of the Sumerian literary corpus as represented in [ETCSL](http://etcsl.orinst.ox.ac.uk/).\n",
    "\n",
    "## 0 Preparation \n",
    "In order to run this notebook, parse the [DCCLT](http://oracc.org/dcclt) data with the Extended ORACC Parser (2.1.3) and the [ETCSL](http://etcsl.orinst.ox.ac.uk) data with the ETCSL Parser (2.2)."
   ]
  },
  {
   "cell_type": "code",
   "execution_count": 1,
   "metadata": {},
   "outputs": [],
   "source": [
    "%matplotlib inline\n",
    "import pandas as pd\n",
    "import os\n",
    "from sklearn.feature_extraction.text import CountVectorizer\n",
    "from matplotlib import pyplot as plt\n",
    "from matplotlib_venn import venn2\n",
    "import tqdm\n",
    "import re\n",
    "import zipfile\n",
    "import json"
   ]
  },
  {
   "cell_type": "markdown",
   "metadata": {},
   "source": [
    "### 0.1 Read ETCSL Data Files\n",
    "Open the file `alltexts.csv` which contains all the [ETCSL](http://etcsl.orinst.ox.ac.uk) and read the data into a `Pandas`DataFrame. Each row is a word from [ETCSL](http://etcsl.orinst.ox.ac.uk/) in lemmatized format, according to [ePSD2](http://build-oracc.museum.upenn.edu/epsd2) standards. Only Sumerian words are kept; Akkadian glosses, for instance, are removed."
   ]
  },
  {
   "cell_type": "code",
   "execution_count": 2,
   "metadata": {},
   "outputs": [],
   "source": [
    "file = \"../2_2_Data_Acquisition_ETCSL/Output/alltexts.csv\"\n",
    "etcsl = pd.read_csv(file, keep_default_na=False)\n",
    "etcsl = etcsl.loc[etcsl[\"lang\"].str.contains(\"sux\")]  # throw out non-Sumerian words"
   ]
  },
  {
   "cell_type": "markdown",
   "metadata": {},
   "source": [
    "### 0.2 Lemmas\n",
    "Create a lemmas column and lowercase all lemmas.\n",
    "\n",
    "The `lemmas` column is created by combining Citation Form (`cf`), Guide Word (`gw`) and Part of Speech (`pos`). The Pandas `apply()` function applies a function to every row (`axis = 1`) or column (`axis = 0`) of a dataframe. The function is defined here as a so-called `lambda` function (a temporary function). It is a simple addition of the strings of the `cf`, `gw`, and `pos` columns (with `[` and `]` as separators), so that a single lemma now looks like `lugal[king]N`. The `lambda` function has one condition: if there is no Citation Form (column `cf` equals the empty string) the contents of the column `form` are taken, followed by `NA]NA]`. The absence of a Citation Form implies that the word was not lemmatized (perhaps an unknown or a broken word). The field `form` contains the raw transliteration - the result may be `x-ra-bi[NA]NA`.\n",
    "\n",
    "If the field `form` is empty (which happens, for instance, where a horizontal in the text is noted), however, this results in the `lemma` entry `NA[NA]`. In those case the value of `lemma` is turned into the empty string with a conditional list comprehension.\n",
    "\n",
    "For the current analysis we will use *lemmatized* forms for the comparison between literary and lexical vocabulary. The unlemmatized forms, therefore, are of little importance here. We need to keep them, for now, because we will also compare *sequences* of lemmas. Premature removal of unlemmatized forms would result in false positives. "
   ]
  },
  {
   "cell_type": "code",
   "execution_count": 3,
   "metadata": {},
   "outputs": [],
   "source": [
    "etcsl[\"lemma\"] = etcsl.apply(lambda r: (r[\"cf\"] + '[' + r[\"gw\"] + ']' + r[\"pos\"]) \n",
    "                            if r[\"cf\"] != '' else r['form'] + '[NA]NA', axis=1)\n",
    "etcsl['lemma'] = [lemma if not lemma == '[NA]NA' else '' for lemma in etcsl['lemma'] ] \n",
    "# kick out empty forms\n",
    "etcsl[\"lemma\"] = etcsl[\"lemma\"].str.lower()"
   ]
  },
  {
   "cell_type": "markdown",
   "metadata": {},
   "source": [
    "### 0.3 Read Lexical Data\n",
    "\n",
    "Essentially following the same process as in the preceding cells. The code assumes that the [DCCLT](http://oracc.org/dcclt) data are parsed with the Extended ORACC Parser (2.1.3) and that the resulting file is called `parsed.csv` in the directory `2_1_DataAcquisition_ORACC/output`. If this is not the case, please adjust the file name in code below."
   ]
  },
  {
   "cell_type": "code",
   "execution_count": 4,
   "metadata": {},
   "outputs": [],
   "source": [
    "file = \"../2_1_Data_Acquisition_ORACC/output/parsed.csv\"\n",
    "lexical = pd.read_csv(file, keep_default_na=False)\n",
    "lexical = lexical.loc[lexical[\"lang\"].str.contains(\"sux\")]"
   ]
  },
  {
   "cell_type": "code",
   "execution_count": 5,
   "metadata": {},
   "outputs": [],
   "source": [
    "lexical[\"lemma\"] = lexical.apply(lambda r: (r[\"cf\"] + '[' + r[\"gw\"] + ']' + r[\"pos\"]) \n",
    "                            if r[\"cf\"] != '' else r['form'] + '[NA]NA', axis=1)\n",
    "lexical['lemma'] = [lemma if not lemma == '[NA]NA' else '' for lemma in lexical['lemma'] ] \n",
    "# kick out empty forms\n",
    "lexical[\"lemma\"] = lexical[\"lemma\"].str.lower()"
   ]
  },
  {
   "cell_type": "markdown",
   "metadata": {},
   "source": [
    "Sign lists (which belong to the broader category of lexical lists) list cuneiform signs with pronunciation glosses and sometimes with Akkadian translation, sign name, and other information. For the current purposes we *only* need the Sumerian word that is represented by the entry. We remove lemmas that derive from the pronunciation glosses and the signs themselves. Sign names and Akkadian translations are already removed, because they are in Akkadian.\n",
    "\n",
    "The Pandas function `isin()` compares the contents of a field with a list and returns a boolean (`True` or `False`). In this case the column `field` (which is primarily used for sign lists) is compared to the list `[\"sg\", \"pr\"]`. If `field` equals one of these terms `isin()` returns `True`. The `~` before the entire expression changes `True` into `False` and vv. As a result the dataframe `lexical` now omits all rows that have either \"sg\" or \"pr\" in the column `field`."
   ]
  },
  {
   "cell_type": "code",
   "execution_count": 6,
   "metadata": {},
   "outputs": [],
   "source": [
    "lexical = lexical[~lexical[\"field\"].isin([\"sg\", \"pr\"])] # remove lemmas that derive from the fields \"sign\" \n",
    "# or \"pronunciation\" in sign lists."
   ]
  },
  {
   "cell_type": "markdown",
   "metadata": {},
   "source": [
    "### 0.4 Select Old Babylonian Texts\n",
    "The great majority of texts in [ETCSL](http://etcsl.orinst.ox.ac.uk) is from the Old Babylonian period. We will use the [DCCLT](http://oracc.org/dcclt) catalog to select only those lexcial texts that come from that same period.\n",
    "\n",
    "The catalog is included as a separate `json` file in `dcclt.zip`. Since we parsed the [DCCLT](http://oracc.org/dcclt) text editions in preparation for this script, the file `dcclt.zip` should still be in `jsonzip` directory (if not, run the Extended ORACC Parser (2.3.3) up to the point where the ZIP file is downloaded and saved).\n",
    "\n",
    "The file `catalogue.json` is much more shallow in structure than the text files - there is no need to parse this file. We unzip the file with the `zipfile` module, and read the `catalogue.json` file with `read` command (from the `zipfile` library) as a string into the variable `st`. We can than use the `loads()` (load string) command from the `json` package to structure the data in proper `json` format. Once loaded, the data can be read immediately into a Pandas dataframe. In order to get the dataframe properly oriented (each row representing a text) the dataframe needs to be transposed, by adding `.T` to the end of the command.\n",
    "\n",
    "Finally the dataframe is reduced to just two columns: `id_text` and `period` so that we can select the ones that have \"Old Babylonian\" in the `period` column."
   ]
  },
  {
   "cell_type": "code",
   "execution_count": 7,
   "metadata": {},
   "outputs": [],
   "source": [
    "file = \"../2_1_Data_Acquisition_ORACC/jsonzip/dcclt.zip\"\n",
    "z = zipfile.ZipFile(file) \n",
    "st = z.read(\"dcclt/catalogue.json\").decode(\"utf-8\")\n",
    "j = json.loads(st)\n",
    "cat_df = pd.DataFrame(j[\"members\"]).T\n",
    "cat_df = cat_df[[\"id_text\", \"period\"]]"
   ]
  },
  {
   "cell_type": "code",
   "execution_count": 8,
   "metadata": {},
   "outputs": [
    {
     "data": {
      "text/html": [
       "<div>\n",
       "<style scoped>\n",
       "    .dataframe tbody tr th:only-of-type {\n",
       "        vertical-align: middle;\n",
       "    }\n",
       "\n",
       "    .dataframe tbody tr th {\n",
       "        vertical-align: top;\n",
       "    }\n",
       "\n",
       "    .dataframe thead th {\n",
       "        text-align: right;\n",
       "    }\n",
       "</style>\n",
       "<table border=\"1\" class=\"dataframe\">\n",
       "  <thead>\n",
       "    <tr style=\"text-align: right;\">\n",
       "      <th></th>\n",
       "      <th>id_text</th>\n",
       "      <th>period</th>\n",
       "    </tr>\n",
       "  </thead>\n",
       "  <tbody>\n",
       "    <tr>\n",
       "      <th>P117394</th>\n",
       "      <td>P117394</td>\n",
       "      <td>Old Babylonian</td>\n",
       "    </tr>\n",
       "    <tr>\n",
       "      <th>P117395</th>\n",
       "      <td>P117395</td>\n",
       "      <td>Old Babylonian</td>\n",
       "    </tr>\n",
       "    <tr>\n",
       "      <th>P117396</th>\n",
       "      <td>P117396</td>\n",
       "      <td>Old Babylonian</td>\n",
       "    </tr>\n",
       "    <tr>\n",
       "      <th>P117397</th>\n",
       "      <td>P117397</td>\n",
       "      <td>Old Babylonian</td>\n",
       "    </tr>\n",
       "    <tr>\n",
       "      <th>P117404</th>\n",
       "      <td>P117404</td>\n",
       "      <td>Old Babylonian</td>\n",
       "    </tr>\n",
       "    <tr>\n",
       "      <th>P128345</th>\n",
       "      <td>P128345</td>\n",
       "      <td>Old Babylonian</td>\n",
       "    </tr>\n",
       "    <tr>\n",
       "      <th>P142806</th>\n",
       "      <td>P142806</td>\n",
       "      <td>Old Babylonian</td>\n",
       "    </tr>\n",
       "    <tr>\n",
       "      <th>P145550</th>\n",
       "      <td>P145550</td>\n",
       "      <td>Old Babylonian</td>\n",
       "    </tr>\n",
       "    <tr>\n",
       "      <th>P209775</th>\n",
       "      <td>P209775</td>\n",
       "      <td>Old Babylonian</td>\n",
       "    </tr>\n",
       "    <tr>\n",
       "      <th>P209812</th>\n",
       "      <td>P209812</td>\n",
       "      <td>Old Babylonian</td>\n",
       "    </tr>\n",
       "  </tbody>\n",
       "</table>\n",
       "</div>"
      ],
      "text/plain": [
       "         id_text          period\n",
       "P117394  P117394  Old Babylonian\n",
       "P117395  P117395  Old Babylonian\n",
       "P117396  P117396  Old Babylonian\n",
       "P117397  P117397  Old Babylonian\n",
       "P117404  P117404  Old Babylonian\n",
       "P128345  P128345  Old Babylonian\n",
       "P142806  P142806  Old Babylonian\n",
       "P145550  P145550  Old Babylonian\n",
       "P209775  P209775  Old Babylonian\n",
       "P209812  P209812  Old Babylonian"
      ]
     },
     "execution_count": 8,
     "metadata": {},
     "output_type": "execute_result"
    }
   ],
   "source": [
    "ob = cat_df[cat_df[\"period\"] == \"Old Babylonian\"]\n",
    "ob[:10]"
   ]
  },
  {
   "cell_type": "markdown",
   "metadata": {},
   "source": [
    "The index of the resulting dataframe `ob` is identical to the column `id_text` (the P, Q, or X number of each text). We can retrieve the index with the Pandas command `index.values`, which returns a list. These are the P/Q/X numbers that we want to keep.\n",
    "\n",
    "In the dataframe `lexical` all text IDs are preceded by `dcclt/`. We can use a list comprehension to add this prefix to each entry in the `keep` list and then use this list to select only the Old Babylonian lexical texts."
   ]
  },
  {
   "cell_type": "code",
   "execution_count": 9,
   "metadata": {},
   "outputs": [],
   "source": [
    "keep = ob.index.values\n",
    "keep = ['dcclt/' + id_text for id_text in keep]\n",
    "lexical = lexical.loc[lexical[\"id_text\"].isin(keep)]"
   ]
  },
  {
   "cell_type": "markdown",
   "metadata": {},
   "source": [
    "## 1 First Approximation\n",
    "Now we have two dataframes: `etcsl` and `lexical`. In both the field `lemma` contains the lemmatization data of a single word. We can extract the unique lemmas with the `set()` command (a set is an unordered collection of unique elements). We remove the non-elemmatized words (those have `na` as Guide Word and `na` as POS) with a set comprehension. Now we can compare the two sets in a Venn diagram."
   ]
  },
  {
   "cell_type": "code",
   "execution_count": 10,
   "metadata": {},
   "outputs": [],
   "source": [
    "etcsl_words_s = set(etcsl[\"lemma\"])\n",
    "lexical_words_s = set(lexical[\"lemma\"])\n",
    "etcsl_words_s = {lemma for lemma in etcsl_words_s if not '[na]na' in lemma}\n",
    "lexical_words_s = {lemma for lemma in lexical_words_s if not '[na]na' in lemma}"
   ]
  },
  {
   "cell_type": "markdown",
   "metadata": {},
   "source": [
    "The `venn2` command from the `matplotlib_venn` library creates a Venn diagram of two sets. Each set is represented by a circle, the diameter of the circle is related to the number of elements in the set. The overlap between the circles represents elements that are contained in both sets.\n",
    "\n",
    "In its most basic form the `venn2()` command simply takes a list that contains the two sets."
   ]
  },
  {
   "cell_type": "code",
   "execution_count": 16,
   "metadata": {},
   "outputs": [
    {
     "data": {
      "text/plain": [
       "<matplotlib_venn._common.VennDiagram at 0x143388d0>"
      ]
     },
     "execution_count": 16,
     "metadata": {},
     "output_type": "execute_result"
    },
    {
     "data": {
      "image/png": "[encoded data removed]",
      "text/plain": [
       "<Figure size 432x288 with 1 Axes>"
      ]
     },
     "metadata": {},
     "output_type": "display_data"
    }
   ],
   "source": [
    "venn2([etcsl_words_s, lexical_words_s])"
   ]
  },
  {
   "cell_type": "markdown",
   "metadata": {},
   "source": [
    "This basic plot is not too informative because it does not include the size of each set, nor its name. We can customize colors, size of the plot, and the legends. This customization is put in a function so it can be reused later on."
   ]
  },
  {
   "cell_type": "code",
   "execution_count": 17,
   "metadata": {},
   "outputs": [],
   "source": [
    "def plot_venn(lit_vocab, lex_vocab):\n",
    "    \"\"\"The function takes two sets and draws a Venn diagram that shows the intersection between the two sets.\n",
    "    The legend includes the size of each set and the percentage of the intersection with the other set.\n",
    "    \"\"\"\n",
    "    plt.figure(figsize=(8,8))\n",
    "    lit_abs = len(lit_vocab)\n",
    "    lex_abs = len(lex_vocab)\n",
    "    inter_abs = len(lit_vocab.intersection(lex_vocab))\n",
    "    lit_per = \"{:.0%}\".format(inter_abs/lit_abs)\n",
    "    lex_per = \"{:.0%}\".format(inter_abs/lex_abs)\n",
    "    lit_legend = \"literary (\" + str(lit_abs) + ') ' + lit_per + \" overlap\"\n",
    "    lex_legend = \"lexical (\" + str(lex_abs) + ') ' + lex_per + \" overlap\"\n",
    "    c = venn2([lit_vocab, lex_vocab], (lit_legend, lex_legend))\n",
    "    c.get_patch_by_id('10').set_color(\"#fdb515\")\n",
    "    c.get_patch_by_id('01').set_color(\"#003262\")\n",
    "    c.get_patch_by_id('11').set_color(\"#bc9b6a\")\n",
    "    plt.show()\n",
    "    return"
   ]
  },
  {
   "cell_type": "code",
   "execution_count": 18,
   "metadata": {},
   "outputs": [
    {
     "data": {
      "image/png": "[encoded data removed]",
      "text/plain": [
       "<Figure size 576x576 with 1 Axes>"
      ]
     },
     "metadata": {},
     "output_type": "display_data"
    }
   ],
   "source": [
    "plot_venn(etcsl_words_s, lexical_words_s)"
   ]
  },
  {
   "cell_type": "markdown",
   "metadata": {},
   "source": [
    "## 2 Second Approach: Multiple Word Expressions\n",
    "\n",
    "Instead of looking at individual words (or lexemes), we may also look at lexical *entries* and their presence (or absence) in literary texts. The list of domestic animals, for instance, includes the entry `udu dijir-e gu₇-a`('sheep eaten by a god'), lemmatized as `udu[sheep]n diŋir[god]n gu[eat]v/t`. Unsurprisingly, all these very common lemmas appear in the literary corpus, and thus in our previous analysis this item results in three hits. But does the expression as a whole ever appear in the literary corpus? \n",
    "\n",
    "In order to perform the comparison on the lexical entry level we first need to represent our data (lexical and literary) as lines, rather than as individual words. Lines in lexical texts will become our unit of comparison. Lines in literary texts will serve as boundaries, since noun phrases do not usually continue from one line to the next."
   ]
  },
  {
   "cell_type": "markdown",
   "metadata": {},
   "source": [
    "### 2.1 Line by Line\n",
    "\n",
    "The dataframe `lexical` that was produced in section 0.4 contains the lemmatizations of all Old Babylonian lexical texts in a word-by-word (or rather lemma-by-lemma) arrangement. In order to work with lexical *entries* we need to reconstruct lines. That is, we collect the words (lemmas) that belong to the same line of the same lexical text. The dataframe `lexical` includes the fields `id_text` and `id_line` that allow us to do so. We want to change a series of entries like this:\n",
    "\n",
    "| id_text | id_line | lemma|\n",
    "|:-------|:------|:------|\n",
    "| dcclt/Q000001 |\t1 | udu\\[sheep\\]n |\n",
    "| dcclt/Q000001|\t1 | niga\\[fattened\\]v/i|\n",
    "| dcclt/Q000001|\t2 |\tudu\\[sheep\\]n|\n",
    "| dcclt/Q000001|\t2 |\tniga\\[fattened\\]v/i|\n",
    "| dcclt/Q000001|\t2 |\tsag\\[rare\\]v/i|\n",
    "\n",
    "Into two entries (representing two lines in a lexical text) like this:\n",
    "\n",
    "| id_text | id_line | lemma|\n",
    "|:-------|:------|:------|\n",
    "| dcclt/Q000001 |\t1 | udu\\[sheep\\]n niga\\[fattened\\]v/i |\n",
    "| dcclt/Q000001|\t2 | udu\\[sheep\\]n niga\\[fattened\\]v/i sag\\[rare\\]v/i |\n",
    "\n",
    "In order to do this we use the Pandas functions `groupby()` and `agg()` (for aggregate). The `groupby()` function takes as argument a list of fields on which the grouping should be performed, in this case the fields `id_text` and `id_line`. The `groupby()` function returns a so-called \"GroupBy object\" which preserves all the information of the original dataframe. The GroupBy object can be further manipulated with the `agg()` function.\n",
    "\n",
    "The `agg()` function works on a GroupBy object and computes summary statistics (such as mean, sum, or average) for each group. In our case each group is a line in a lexical text and the \"summary statistics\" that we want is simply the concatenation of all the string values in the `lemma` column. The `agg()` function takes as argument a dictionary with field names as key and  functions as value. The function `' '.join` joins the strings in the `lemma` column and separates them by a space. A second field that is aggregated is `extent`. This field indicates (among other things) the number of broken or illegible lines between two lines of text. We will use that data in a later phase of the analyis.\n",
    "\n",
    "The `agg()` function returns a new dataframe with a composite index. The Pandas function `reset_index()` will create a new (flat) index that starts counting from 0."
   ]
  },
  {
   "cell_type": "code",
   "execution_count": 11,
   "metadata": {},
   "outputs": [],
   "source": [
    "lexical = lexical.groupby([lexical['id_text'], lexical['id_line']]).agg({\n",
    "        'lemma': ' '.join,\n",
    "        'extent': ''.join\n",
    "    }).reset_index()"
   ]
  },
  {
   "cell_type": "code",
   "execution_count": 12,
   "metadata": {},
   "outputs": [
    {
     "data": {
      "text/html": [
       "<div>\n",
       "<style scoped>\n",
       "    .dataframe tbody tr th:only-of-type {\n",
       "        vertical-align: middle;\n",
       "    }\n",
       "\n",
       "    .dataframe tbody tr th {\n",
       "        vertical-align: top;\n",
       "    }\n",
       "\n",
       "    .dataframe thead th {\n",
       "        text-align: right;\n",
       "    }\n",
       "</style>\n",
       "<table border=\"1\" class=\"dataframe\">\n",
       "  <thead>\n",
       "    <tr style=\"text-align: right;\">\n",
       "      <th></th>\n",
       "      <th>id_text</th>\n",
       "      <th>id_line</th>\n",
       "      <th>lemma</th>\n",
       "      <th>extent</th>\n",
       "    </tr>\n",
       "  </thead>\n",
       "  <tbody>\n",
       "    <tr>\n",
       "      <th>0</th>\n",
       "      <td>dcclt/P117394</td>\n",
       "      <td>2</td>\n",
       "      <td>kid[mat]n</td>\n",
       "      <td></td>\n",
       "    </tr>\n",
       "    <tr>\n",
       "      <th>1</th>\n",
       "      <td>dcclt/P117394</td>\n",
       "      <td>3</td>\n",
       "      <td>kid[mat]n andul[shade]n</td>\n",
       "      <td></td>\n",
       "    </tr>\n",
       "    <tr>\n",
       "      <th>2</th>\n",
       "      <td>dcclt/P117394</td>\n",
       "      <td>4</td>\n",
       "      <td>kid[mat]n antadul[cloak]n</td>\n",
       "      <td></td>\n",
       "    </tr>\n",
       "    <tr>\n",
       "      <th>3</th>\n",
       "      <td>dcclt/P117395</td>\n",
       "      <td>2</td>\n",
       "      <td>ŋešed[key]n</td>\n",
       "      <td></td>\n",
       "    </tr>\n",
       "    <tr>\n",
       "      <th>4</th>\n",
       "      <td>dcclt/P117395</td>\n",
       "      <td>3</td>\n",
       "      <td>pakud[~tree]n</td>\n",
       "      <td></td>\n",
       "    </tr>\n",
       "    <tr>\n",
       "      <th>5</th>\n",
       "      <td>dcclt/P117395</td>\n",
       "      <td>4</td>\n",
       "      <td>raba[clamp]n</td>\n",
       "      <td></td>\n",
       "    </tr>\n",
       "    <tr>\n",
       "      <th>6</th>\n",
       "      <td>dcclt/P117396</td>\n",
       "      <td>2</td>\n",
       "      <td>hašhur[apple]n</td>\n",
       "      <td></td>\n",
       "    </tr>\n",
       "    <tr>\n",
       "      <th>7</th>\n",
       "      <td>dcclt/P117396</td>\n",
       "      <td>3</td>\n",
       "      <td>hašhur[apple]n baza[dwarf]n</td>\n",
       "      <td></td>\n",
       "    </tr>\n",
       "    <tr>\n",
       "      <th>8</th>\n",
       "      <td>dcclt/P117396</td>\n",
       "      <td>4</td>\n",
       "      <td>hašhur[apple]n mari[1]sn</td>\n",
       "      <td></td>\n",
       "    </tr>\n",
       "    <tr>\n",
       "      <th>9</th>\n",
       "      <td>dcclt/P117397</td>\n",
       "      <td>2</td>\n",
       "      <td>laqipu[1]dn</td>\n",
       "      <td></td>\n",
       "    </tr>\n",
       "  </tbody>\n",
       "</table>\n",
       "</div>"
      ],
      "text/plain": [
       "         id_text  id_line                        lemma extent\n",
       "0  dcclt/P117394        2                    kid[mat]n       \n",
       "1  dcclt/P117394        3      kid[mat]n andul[shade]n       \n",
       "2  dcclt/P117394        4    kid[mat]n antadul[cloak]n       \n",
       "3  dcclt/P117395        2                  ŋešed[key]n       \n",
       "4  dcclt/P117395        3                pakud[~tree]n       \n",
       "5  dcclt/P117395        4                 raba[clamp]n       \n",
       "6  dcclt/P117396        2               hašhur[apple]n       \n",
       "7  dcclt/P117396        3  hašhur[apple]n baza[dwarf]n       \n",
       "8  dcclt/P117396        4     hašhur[apple]n mari[1]sn       \n",
       "9  dcclt/P117397        2                  laqipu[1]dn       "
      ]
     },
     "execution_count": 12,
     "metadata": {},
     "output_type": "execute_result"
    }
   ],
   "source": [
    "lexical[:10]"
   ]
  },
  {
   "cell_type": "markdown",
   "metadata": {},
   "source": [
    "Now we do essentially the same for the `etcsl` dataframe, reconstructing lines in literary compositions."
   ]
  },
  {
   "cell_type": "code",
   "execution_count": 13,
   "metadata": {},
   "outputs": [],
   "source": [
    "etcsl = etcsl.groupby([etcsl['id_text'], etcsl['id_line'], etcsl['text_name']]).agg({\n",
    "        'lemma': ' '.join,\n",
    "        'extent': ''.join\n",
    "    }).reset_index()"
   ]
  },
  {
   "cell_type": "code",
   "execution_count": 14,
   "metadata": {
    "scrolled": false
   },
   "outputs": [
    {
     "data": {
      "text/html": [
       "<div>\n",
       "<style scoped>\n",
       "    .dataframe tbody tr th:only-of-type {\n",
       "        vertical-align: middle;\n",
       "    }\n",
       "\n",
       "    .dataframe tbody tr th {\n",
       "        vertical-align: top;\n",
       "    }\n",
       "\n",
       "    .dataframe thead th {\n",
       "        text-align: right;\n",
       "    }\n",
       "</style>\n",
       "<table border=\"1\" class=\"dataframe\">\n",
       "  <thead>\n",
       "    <tr style=\"text-align: right;\">\n",
       "      <th></th>\n",
       "      <th>id_text</th>\n",
       "      <th>id_line</th>\n",
       "      <th>text_name</th>\n",
       "      <th>lemma</th>\n",
       "      <th>extent</th>\n",
       "    </tr>\n",
       "  </thead>\n",
       "  <tbody>\n",
       "    <tr>\n",
       "      <th>1000</th>\n",
       "      <td>c.1.1.3</td>\n",
       "      <td>51</td>\n",
       "      <td>Enki and the world order</td>\n",
       "      <td>x[na]na x[na]na x[na]na en[lord]n uŋ[people]n ...</td>\n",
       "      <td></td>\n",
       "    </tr>\n",
       "    <tr>\n",
       "      <th>1001</th>\n",
       "      <td>c.1.1.3</td>\n",
       "      <td>52</td>\n",
       "      <td>Enki and the world order</td>\n",
       "      <td>aya[father]n enki[1]dn uŋ[people]n numun[seed]...</td>\n",
       "      <td></td>\n",
       "    </tr>\n",
       "    <tr>\n",
       "      <th>1002</th>\n",
       "      <td>c.1.1.3</td>\n",
       "      <td>53</td>\n",
       "      <td>Enki and the world order</td>\n",
       "      <td>nudimmud[1]dn u[ewe]n zid[right]v/i ŋa₂[na]na ...</td>\n",
       "      <td></td>\n",
       "    </tr>\n",
       "    <tr>\n",
       "      <th>1003</th>\n",
       "      <td>c.1.1.3</td>\n",
       "      <td>54</td>\n",
       "      <td>Enki and the world order</td>\n",
       "      <td>ab[cow]n numun[seed]n e[leave]v/i amar[young]n...</td>\n",
       "      <td></td>\n",
       "    </tr>\n",
       "    <tr>\n",
       "      <th>1004</th>\n",
       "      <td>c.1.1.3</td>\n",
       "      <td>55</td>\n",
       "      <td>Enki and the world order</td>\n",
       "      <td>uzud[goat]n zid[right]v/i ŋa₂[na]na e[leave]v/...</td>\n",
       "      <td></td>\n",
       "    </tr>\n",
       "    <tr>\n",
       "      <th>1005</th>\n",
       "      <td>c.1.1.3</td>\n",
       "      <td>56</td>\n",
       "      <td>Enki and the world order</td>\n",
       "      <td>gana[field]n gana[field]n zid[right]v/i ŋa₂[na...</td>\n",
       "      <td></td>\n",
       "    </tr>\n",
       "    <tr>\n",
       "      <th>1006</th>\n",
       "      <td>c.1.1.3</td>\n",
       "      <td>57</td>\n",
       "      <td>Enki and the world order</td>\n",
       "      <td>gurudud[heap]n gurumaš[heap]n aneden[steppe]n ...</td>\n",
       "      <td></td>\n",
       "    </tr>\n",
       "    <tr>\n",
       "      <th>1007</th>\n",
       "      <td>c.1.1.3</td>\n",
       "      <td>58</td>\n",
       "      <td>Enki and the world order</td>\n",
       "      <td>kalam[land]n ki[place]n tab[burn]v/t e[leave]v/i</td>\n",
       "      <td></td>\n",
       "    </tr>\n",
       "    <tr>\n",
       "      <th>1008</th>\n",
       "      <td>c.1.1.3</td>\n",
       "      <td>60</td>\n",
       "      <td>Enki and the world order</td>\n",
       "      <td>x[na]na x[na]na</td>\n",
       "      <td></td>\n",
       "    </tr>\n",
       "    <tr>\n",
       "      <th>1009</th>\n",
       "      <td>c.1.1.3</td>\n",
       "      <td>61</td>\n",
       "      <td>Enki and the world order</td>\n",
       "      <td>enki[1]dn lugal[king]n abzu[water]n ni[fear]n ...</td>\n",
       "      <td></td>\n",
       "    </tr>\n",
       "  </tbody>\n",
       "</table>\n",
       "</div>"
      ],
      "text/plain": [
       "      id_text  id_line                 text_name  \\\n",
       "1000  c.1.1.3       51  Enki and the world order   \n",
       "1001  c.1.1.3       52  Enki and the world order   \n",
       "1002  c.1.1.3       53  Enki and the world order   \n",
       "1003  c.1.1.3       54  Enki and the world order   \n",
       "1004  c.1.1.3       55  Enki and the world order   \n",
       "1005  c.1.1.3       56  Enki and the world order   \n",
       "1006  c.1.1.3       57  Enki and the world order   \n",
       "1007  c.1.1.3       58  Enki and the world order   \n",
       "1008  c.1.1.3       60  Enki and the world order   \n",
       "1009  c.1.1.3       61  Enki and the world order   \n",
       "\n",
       "                                                  lemma extent  \n",
       "1000  x[na]na x[na]na x[na]na en[lord]n uŋ[people]n ...         \n",
       "1001  aya[father]n enki[1]dn uŋ[people]n numun[seed]...         \n",
       "1002  nudimmud[1]dn u[ewe]n zid[right]v/i ŋa₂[na]na ...         \n",
       "1003  ab[cow]n numun[seed]n e[leave]v/i amar[young]n...         \n",
       "1004  uzud[goat]n zid[right]v/i ŋa₂[na]na e[leave]v/...         \n",
       "1005  gana[field]n gana[field]n zid[right]v/i ŋa₂[na...         \n",
       "1006  gurudud[heap]n gurumaš[heap]n aneden[steppe]n ...         \n",
       "1007   kalam[land]n ki[place]n tab[burn]v/t e[leave]v/i         \n",
       "1008                                    x[na]na x[na]na         \n",
       "1009  enki[1]dn lugal[king]n abzu[water]n ni[fear]n ...         "
      ]
     },
     "execution_count": 14,
     "metadata": {},
     "output_type": "execute_result"
    }
   ],
   "source": [
    "etcsl[1000:1010]"
   ]
  },
  {
   "cell_type": "markdown",
   "metadata": {},
   "source": [
    "### 2.2 Extract lexical entries \n",
    "Each row in the resulting DataFrame `lexical` now consists of a text ID (`id_text`), a line number (`id_line`), and the lemmas that represent a lexical *entry* (e.g. `udu[sheep]n diŋir[god]n gu[eat]v/t`). We extract the `lemma` column, remove duplicate lexical entries with the `set()` function and create a `list`. Any entry that contains an unlemmatized word is useless for the comparison and is omitted by means of a list comprehension."
   ]
  },
  {
   "cell_type": "code",
   "execution_count": 15,
   "metadata": {},
   "outputs": [
    {
     "data": {
      "text/plain": [
       "['balak[spindle]n',\n",
       " 'apin[plow]n ki[place]n bala[turn]v/i',\n",
       " 'uzud[goat]n niŋ₂.šid[account]n ak[do]v/t',\n",
       " 'namluhuŋa[status]n',\n",
       " 'peš[disappear]v/i',\n",
       " 'zulum[date]n su[red]v/i',\n",
       " 'uzu[flesh]n ellaŋgun[kidney]n šag[heart]n',\n",
       " 'lu[person]n ŋissu[shade]n e[leave]v/i',\n",
       " 'šimbirida[plant]n',\n",
       " 'tur[child]n']"
      ]
     },
     "execution_count": 15,
     "metadata": {},
     "output_type": "execute_result"
    }
   ],
   "source": [
    "lex_vocab = list(set(lexical[\"lemma\"]))\n",
    "lex_vocab = [lemma for lemma in lex_vocab if not \"[na]na\" in lemma ]\n",
    "lex_vocab[0:10]"
   ]
  },
  {
   "cell_type": "markdown",
   "metadata": {},
   "source": [
    "## 2.3 Mark lexical entries in literary texts\n",
    "The list `lex_vocab` now contains all uniquely lemmatized entries in the Old Babylonian lexical corpus as edited in [DCCLT](http://oracc.org/dcclt). This is the vocabulary that we wish to find in the literary corpus as edited in [ETCSL](http://etcsl.orinst.ox.ac.uk/).\n",
    "\n",
    "In order to do so we will first sort the list `lex_vocab` by string length, so that the longest item comes first. Item length is important here: the lemma sequence `udu[sheep]N niga[fattened]AJ sag[good]V/i` should be evaluated before `udu[sheep]N niga[fattened]AJ`. This is also the reason why we use a list rather than a set (which does not have an order). From this list we remove all entries that do not have a space (are not multiple-word entries). We now iterate through this list and search for identical sequences of lemmas in the `etcsl` dataframe. When found, those lemma sequences are connected with asterisks. At this point it is important that the `etcsl` dataframe still has the unlemmatized entries, that we will not accidentally match `gud[bull]n an[heaven]n` with `gud[bull]n x-ga[na]na an[heaven]n`.\n",
    "\n",
    "We will use the Pandas function `str.replace()`. This function takes two arguments: the string to be replaced, and the replacement string. By default, the first argument of `str.replace()` uses [regular expressions](https://www.regular-expressions.info/), so that a string like `udu[sheep]n` is interpreted as \"any string that begins with 'udu' followed by one of the characters in '\\[sheep\\]' followed by 'n'\". This is obvioously not what we want (the search will most likely find zero matches). We can avoid this behaviour by \"escaping\" the special characters (preceding them with a backslash). The function `escape()` from the `re` (regular expression) library takes care of that.\n",
    "\n",
    "Now we create a variable `replacewith` that is identical with the lexical item, but has its spaces replaced by asterisks. Finally we run the `str.,replace()`.\n",
    "\n",
    "This process takes a considerable amount of time. It has to check each line in [ETCSL](http://etcsl.orinst.ox.ac.uk/) (almost 36.500 lines) against thousands of lexical entries. The progress bar (form the `tqdm` library) follows the progress through the list of lexical entries.\n",
    "\n",
    "The `lemma` column of the `etcsl` dataframe will now represent the [ETCSL](http://etcsl.orinst.ox.ac.uk/) data in a line-by-line presentation of lemmatizations, with asterisks connecting lemmas if a corresponding sequence of lemmas exists as a lexical entry."
   ]
  },
  {
   "cell_type": "code",
   "execution_count": 24,
   "metadata": {},
   "outputs": [
    {
     "name": "stderr",
     "output_type": "stream",
     "text": [
      "100%|██████████████████████████████████████| 5763/5763 [09:09<00:00,  9.05it/s]\n"
     ]
    }
   ],
   "source": [
    "lex_vocab.sort(key=len, reverse=True)\n",
    "multiple_word = [entry for entry in lex_vocab if \" \" in entry]\n",
    "for item in tqdm.tqdm(multiple_word):\n",
    "    findwhat = re.escape(item)\n",
    "    replacewith = item.replace(\" \", \"*\")\n",
    "    etcsl[\"lemma\"] = etcsl[\"lemma\"].str.replace(findwhat, replacewith)"
   ]
  },
  {
   "cell_type": "markdown",
   "metadata": {},
   "source": [
    "Now replace all spaces with asterisks in the list lex_vocab, so that the multiple-word entries are represented in the same way as they are in the literary corpus."
   ]
  },
  {
   "cell_type": "code",
   "execution_count": 25,
   "metadata": {},
   "outputs": [],
   "source": [
    "lex_vocab = [lemma.replace(\" \", \"*\") for lemma in lex_vocab]"
   ]
  },
  {
   "cell_type": "markdown",
   "metadata": {},
   "source": [
    "Now we create the two sets necessary for the Venn diagram. The `lemma` column of the `etcsl` dataframe represents lines of text - we need to split those lines into individual lemmas and lemma sequences (the lemma sequences connected by asterisks). An efficient way of doing that is to join all the strings in the `lemma` column into one giant string (separating the individual lines by spaces) with the command `\" \".join()`. We can then split this string again with the `split()` command - by default `split()` will split a string at each white space. The function returns a list. After turning this list into a set we can remove all the non-lemmatized words from the [ETCSL](http://etcsl.orinst.ox.ac.uk) data set with a set comprehension."
   ]
  },
  {
   "cell_type": "code",
   "execution_count": 26,
   "metadata": {},
   "outputs": [],
   "source": [
    "etcsl_words2 = ' '.join(etcsl[\"lemma\"])\n",
    "etcsl_words_s2 = set(etcsl_words2.split())\n",
    "etcsl_words_s2 = {lemma for lemma in etcsl_words_s2 if not '[na]na' in lemma}\n",
    "lexical_words_s2 = set(lex_vocab)"
   ]
  },
  {
   "cell_type": "markdown",
   "metadata": {},
   "source": [
    "We can now reuse the function `plot_venn` that was created above."
   ]
  },
  {
   "cell_type": "code",
   "execution_count": 27,
   "metadata": {},
   "outputs": [
    {
     "data": {
      "image/png": "[encoded data removed]",
      "text/plain": [
       "<Figure size 576x576 with 1 Axes>"
      ]
     },
     "metadata": {},
     "output_type": "display_data"
    }
   ],
   "source": [
    "plot_venn(etcsl_words_s2, lexical_words_s2)"
   ]
  },
  {
   "cell_type": "markdown",
   "metadata": {},
   "source": [
    "# Add them Up\n",
    "### this needs a better explanation to be placed after the plot. Refer to the numbers in a more general sense, because they change whenever DCCLT changes\n",
    "By creating the union of the two sets (the set with individual words and the set with the lexical entries) we get the most complete comparison of the two corpora. Here `gud[oxen]N*an[heaven]N`, `gud[oxen]N` and `an[heaven]N` are all counted as entries, whether or not `gud` and `an` actually appear as such in the lexical corpus."
   ]
  },
  {
   "cell_type": "code",
   "execution_count": 28,
   "metadata": {},
   "outputs": [],
   "source": [
    "etcsl_words_s3 = etcsl_words_s | etcsl_words_s2\n",
    "lexical_words_s3 = lexical_words_s | lexical_words_s2"
   ]
  },
  {
   "cell_type": "code",
   "execution_count": 29,
   "metadata": {},
   "outputs": [
    {
     "data": {
      "image/png": "[encoded data removed]",
      "text/plain": [
       "<Figure size 576x576 with 1 Axes>"
      ]
     },
     "metadata": {},
     "output_type": "display_data"
    }
   ],
   "source": [
    "plot_venn(etcsl_words_s3, lexical_words_s3)"
   ]
  },
  {
   "cell_type": "markdown",
   "metadata": {},
   "source": [
    "# Discussion\n",
    "Whereas the change from individual *words* to *lexical expressions* made a big difference in the plot, adding the two up changes the picture only slightly. Many words (lemmas) are part of lexical entries, but are also lexical entries in and of themselves. These individual words are already included in the set of lexical entries and are taken into account in the previous plot. Nevertheless, there are several hundreds of words added on the lexical side - these are lexemes that *only* appear in multiple-word lexical entries and are not attested in the lexical corpus as separate words. \n",
    "\n",
    "On the literary side the number of additional entries is much smaller (counted in the tens, rather than in the hundreds). These are words that appear *only* in fixed expressions (connected by \\*), but not as separate words. We can see which words those are by by subtracting the set `etcsl_words_s2` from `etcsl_words_s3`."
   ]
  },
  {
   "cell_type": "code",
   "execution_count": null,
   "metadata": {},
   "outputs": [],
   "source": [
    "etcsl_words_s3 - etcsl_words_s2"
   ]
  },
  {
   "cell_type": "markdown",
   "metadata": {},
   "source": [
    "The word `ašgar[kid]n`, for instance, appears only once in the ETCSL corpus, in the Gudea cylinders. "
   ]
  },
  {
   "cell_type": "code",
   "execution_count": null,
   "metadata": {},
   "outputs": [],
   "source": [
    "etcsl[etcsl['lemma'].str.contains(\"ašgar\\[kid\\]n\")]"
   ]
  },
  {
   "cell_type": "markdown",
   "metadata": {},
   "source": [
    "The context is a ritual where Gudea uses a virgin female kid (`ašgar ŋeš nu-zu`). This expression appears as a whole in the Old Babylonian list of domestic animals - as a result the word `ašgar` alone was not represented in the set `etcsl_words_s2`.\n",
    "\n",
    "For the big picture, however, the last two graphs are very similar to each other and show that on the *literary* side, a little more than half of the vocabulary is attested in (contemporary) lexical texts. On the *lexical* side, however, there appears to be a large group of words and expressions (around 70%) that were taught to students but were not used anywhere in the literary tradition."
   ]
  },
  {
   "cell_type": "markdown",
   "metadata": {},
   "source": [
    "# The End\n",
    "Everything below is still in the trial and error phase."
   ]
  },
  {
   "cell_type": "markdown",
   "metadata": {},
   "source": [
    "# Using nltk MWETokenizer?"
   ]
  },
  {
   "cell_type": "code",
   "execution_count": 23,
   "metadata": {},
   "outputs": [],
   "source": [
    "from nltk.tokenize import MWETokenizer\n",
    "tokenizer = MWETokenizer()"
   ]
  },
  {
   "cell_type": "markdown",
   "metadata": {},
   "source": [
    "To use the MWETokenizer, first represent all lexical entries (the multiple-word ones) as a list of tuples\n"
   ]
  },
  {
   "cell_type": "code",
   "execution_count": 20,
   "metadata": {},
   "outputs": [],
   "source": [
    "lex_vocab_l = [tuple(item.split()) for item in lex_vocab if len(item.split()) > 1]"
   ]
  },
  {
   "cell_type": "code",
   "execution_count": 21,
   "metadata": {},
   "outputs": [
    {
     "data": {
      "text/plain": [
       "[('apin[plow]n', 'ki[place]n', 'bala[turn]v/i'),\n",
       " ('uzud[goat]n', 'niŋ₂.šid[account]n', 'ak[do]v/t'),\n",
       " ('zulum[date]n', 'su[red]v/i'),\n",
       " ('uzu[flesh]n', 'ellaŋgun[kidney]n', 'šag[heart]n'),\n",
       " ('lu[person]n', 'ŋissu[shade]n', 'e[leave]v/i'),\n",
       " ('šu[hand]n', 'zuhul[pierce]v/t'),\n",
       " ('saŋdu[head]n', 'guruš[cut]v/t'),\n",
       " ('u[sleep]n', 'bar[outside]n'),\n",
       " ('a[water]n', 'hili[attractiveness]n', 'ri[impose]v/t'),\n",
       " ('u[sleep]n', 'ku[place]v/t'),\n",
       " ('kaš[beer]n', 'bala[turn]v/i'),\n",
       " ('ašag[field]n', 'nimur[ashes]n'),\n",
       " ('šukur[lance]n', 'darrum[bearded]v/i'),\n",
       " ('zid[flour]n', 'še[barley]n', 'sa[roast]v/t'),\n",
       " ('kuš[skin]n', 'kuda[animal]n'),\n",
       " ('saŋki[forehead]n', 'gig[sick]v/i'),\n",
       " ('gag[nail]n', 'mud[tube]n'),\n",
       " ('pa[branch]n', 'eren[cedar]n'),\n",
       " ('piriŋ[lion]n', 'kag[mouth]n', 'duh[loosen]v/t'),\n",
       " ('tukumbi[if]cnj', 'uš[die]v/i'),\n",
       " ('duh[bran]n', 'ud[sun]n', 'tab[double]v/t'),\n",
       " ('ŋeš[tree]n', 'diš[one]nu', 'giŋ[unit]n'),\n",
       " ('siki[hair]n', 'us[follow]v/t'),\n",
       " ('lagab[block]n', 'imbabbar[gypsum]n'),\n",
       " ('nar[musician]n', 'igi[face]n', 'lugal[king]n'),\n",
       " ('šennur[plum]n', 'gal[big]v/i'),\n",
       " ('kuš[skin]n', 'pešura[rodent]n'),\n",
       " ('niŋlam[garment]n', 'elam[1]gn'),\n",
       " ('dur[buttocks]n', 'gig[sick]v/i'),\n",
       " ('kid[mat]n', 'antadul[cloak]n'),\n",
       " ('ašag[field]n', 'agar[meadow]n', 'ninurtak[1]dn'),\n",
       " ('suhuš[foundation]n', 'gi[thicket]n'),\n",
       " ('gu[voice]n', 'irihulua[bird]n'),\n",
       " ('šu[hand]n', 'hum[paralyze]v/t'),\n",
       " ('inim[word]n', 'tar[cut]v/t'),\n",
       " ('gi[thicket]n', 'bala[turn]v/i'),\n",
       " ('lu[person]n', 'izi[fire]n', 'kur[burn]v/t'),\n",
       " ('na[stone]n', 'diš[one]nu', 'mana[unit]n'),\n",
       " ('lu[person]n', 'kurun[beer]n'),\n",
       " ('bappir[~beer]n', 'pad[break]v/t'),\n",
       " ('lul[false]v/i', 'sig[put]v/t'),\n",
       " ('še[barley]n', 'tir[forest]n'),\n",
       " ('suhurmaš[fish]n', 'gal[big]v/i'),\n",
       " ('šu[hand]n', 'gid[long]v/i'),\n",
       " ('kakaku[profession]n', 'mu[grow]v/t'),\n",
       " ('gag[nail]n', 'mud[tube]n', 'gigir[chariot]n'),\n",
       " ('lu[person]n', 'šu[hand]n', 'pel[defile]v/t'),\n",
       " ('udu[sheep]n', 'šuduʾa[guarantee]n'),\n",
       " ('maš[goat]n', 'namtar[fate]n'),\n",
       " ('ig[door]n', 'kan[gate]n', 'egal[palace]n'),\n",
       " ('sab[jar]n', 'tur[small]v/i'),\n",
       " ('ki[place]n', 'ŋiri[foot]n', 'gub[stand]v/i'),\n",
       " ('dub[tablet]n', 'til[complete]v/i'),\n",
       " ('ninda[bread]n', 'dima[object]n'),\n",
       " ('kag[mouth]n', 'šerda[crime]n'),\n",
       " ('gaʾar[cheese]n', 'guniŋara[vetch]n'),\n",
       " ('lu[person]n', 'sa[net]n', 'gal[big]v/i'),\n",
       " ('siki[hair]n', 'sag[rare]v/i'),\n",
       " ('lu[person]n', 'kurku[wish]n'),\n",
       " ('lu[person]n', 'tug[textile]n'),\n",
       " ('uzu[flesh]n', 'dimma[~sheep]n'),\n",
       " ('ki[place]n', 'uludin[form]n', 'ŋal[be]v/i'),\n",
       " ('šu[hand]n', 'bala[turn]v/i'),\n",
       " ('u[and]n', 'ea[1]dn'),\n",
       " ('šu[hand]n', 'šu[hand]n', 'tah[add]v/t'),\n",
       " ('šeg[brick]n', 'šurum[litter]n', 'gud[ox]n'),\n",
       " ('gag[nail]n', 'namzagum[key]n'),\n",
       " ('lu[person]n', 'niŋhulu[evil]n', 'zu[know]v/i'),\n",
       " ('na[stone]n', 'min[two]nu', 'giŋ[unit-of-weight]n'),\n",
       " ('abula[gate]n', 'bar[outside]n'),\n",
       " ('nindaʾidea[bread]n', 'su[red]v/i'),\n",
       " ('šu[hand]n', 'gurum[bend]v/i'),\n",
       " ('kag[mouth]n', 'saŋ[head]n', 'du[build]v/t'),\n",
       " ('mu[year]n', 'dug[good]v/i'),\n",
       " ('genna[child]n', 'tur[small]v/i'),\n",
       " ('šagia[cup-bearer]n', 'ugnim[army]n'),\n",
       " ('da[line]n', 'kešed[bind]v/t'),\n",
       " ('lu[person]n', 'mala[boat]n'),\n",
       " ('gar[knob]n', 'ak[do]v/t'),\n",
       " ('maš[interest]n', 'utu[1]dn', 'gin[firm]v/i'),\n",
       " ('a[water]n', 'id[river]n'),\n",
       " ('gi[thicket]n', 'saŋ[head]n', 'bar[outside]n', 'ak[do]v/t'),\n",
       " ('munus[woman]n', 'kal[rare]v/i'),\n",
       " ('ugula[overseer]n', 'e[house]n', 'urud[copper]n'),\n",
       " ('amar[young]n', 'ga[milk]n'),\n",
       " ('ma[ship]n', 'tur[be-small]v/i'),\n",
       " ('enbar[reed]n', 'aški[rushes]n'),\n",
       " ('dur[board]n', 'šeg[brick]n'),\n",
       " ('ašag[field]n', 'tum[dove]n', 'ŋar[place]v/t'),\n",
       " ('dala[thorn]n', 'tur[small]v/i', 'ŋešnimbar[palm]n'),\n",
       " ('lu[person]n', 'pel[defile]v/t'),\n",
       " ('e[house]n', 'dam[spouse]n'),\n",
       " ('ašag[field]n', 'id[river]n', 'ŋiri[foot]n', 'bala[turn]v/t'),\n",
       " ('gag[nail]n', 'ti[arrow]n'),\n",
       " ('aŋarin[matrix]n', 'sig[tie]v/t'),\n",
       " ('lu[person]n', 'irʾusa[absent]v/i'),\n",
       " ('šim[aromatics]n', 'hib[~aromatic]aj'),\n",
       " ('munus[woman]n', 'suhurla[hairstyle]n'),\n",
       " ('kag[mouth]n', 'dug[speak]v/t'),\n",
       " ('lu[person]n', 'šag[heart]n', 'gin[firm]v/i'),\n",
       " ('kid[mat]n', 'kaš[beer]n'),\n",
       " ('lu[person]n', 'zipah[unit]n'),\n",
       " ('dur[bond]n', 'min[two]nu', 'kešed[bind]v/t'),\n",
       " ('e[house]n', 'zagŋara[shrine]n'),\n",
       " ('uzu[flesh]n', 'saŋ[head]n', 'tuhul[hip]n'),\n",
       " ('ŋuruš[male]n', 'dili[single]v/i'),\n",
       " ('niŋ[thing]n', 'min[two]nu', 'giŋ[unit]n'),\n",
       " ('lu[person]n', 'me[be]v/i'),\n",
       " ('ašag[field]n', 'nisabak[1]dn'),\n",
       " ('kišib[seal]n', 'zalag[stone]n'),\n",
       " ('ašag[field]n', 'egir[back]n', 'mar[shovel]n'),\n",
       " ('ŋešpu[rim]n', 'gud.si.aš[ram]n'),\n",
       " ('guza[chair]n', 'sirda[cnne]n'),\n",
       " ('ašag[field]n', 'a[water]n', 'ma[ship]n', 'ur[drag]v/t'),\n",
       " ('e[house]n', 'babbar[white]v/i'),\n",
       " ('inanak[1]dn', 'eanak[1]tn'),\n",
       " ('šim[aromatics]n', 'giduga[foodstuff]n'),\n",
       " ('e[house]n', 'tu[incantation]n'),\n",
       " ('udu[sheep]n', 'ŋešbun[meal]n'),\n",
       " ('na[stone]n', 'su[red]v/i'),\n",
       " ('nisig[greenery]n', 'hi.a[vegetable]n'),\n",
       " ('manu[wood]n', 'du[build]v/t'),\n",
       " ('ki[place]n', 'name[any]aj', 'ŋen[go]v/i'),\n",
       " ('suh[crown]n', 'maz[swell]v/i'),\n",
       " ('numun[seed]n', 'asal[poplar]n'),\n",
       " ('uzud[goat]n', 'babbar[white]v/i'),\n",
       " ('na[stone]n', 'niš[twenty]nu', 'še[unit-of-weight]n'),\n",
       " ('murgu[shoulder]n', 'ŋiri[foot]n'),\n",
       " ('šatam[official]n', 'e[house]n', 'iŋeš[oil]n'),\n",
       " ('pu[well]n', 'lugalinimgina[1]pn'),\n",
       " ('a[water]n', 'gi[turn-return]v/i'),\n",
       " ('tubala[harness]n', 'ŋešnimbar[palm]n'),\n",
       " ('siki[hair]n', 'sigigi[eyebrow]n'),\n",
       " ('ašag[field]n', 'dalbana[space]n'),\n",
       " ('ugula[overseer]n', 'simug[smith]n'),\n",
       " ('a[arm]n', 'gud[ox]n'),\n",
       " ('kug[metal]n', 'še[barley]n', 'sa[equal]v/t'),\n",
       " ('maš[goat]n', 'lipiš[innards]n'),\n",
       " ('gu[neck]n', 'ki[place]n', 'la[stretch]v/t'),\n",
       " ('gi[thicket]n', 'gilim[cross]v/t'),\n",
       " ('gu[neck]n', 'ak[do]v/t'),\n",
       " ('dida[wort]n', 'sag[good]v/i'),\n",
       " ('na[stone]n', 'igi[eye]n', 'kud[fish]n'),\n",
       " ('a[arm]n', 'zadu[jamb]n'),\n",
       " ('šu[hand]n', 'zalag[shine]v/i'),\n",
       " ('niŋ[thing]n', 'tuku[acquire]v/t'),\n",
       " ('šag[heart]n', 'ib[angry]v/i'),\n",
       " ('nir[stone]n', 'aškud[~door]n'),\n",
       " ('šim[aromatics]n', 'damšelum[plant]n'),\n",
       " ('niŋ[thing]n', 'hulu[bad]v/i'),\n",
       " ('ŋeštug[ear]n', 'daŋal[wide]v/i'),\n",
       " ('lu[person]n', 'šukur[lance]n'),\n",
       " ('e[house]n', 'ušbar[weaver]n'),\n",
       " ('e[house]n', 'bulug[needle]n'),\n",
       " ('epig[vessel]n', 'udu[sheep]n'),\n",
       " ('ig[door]n', 'gal[big]v/i'),\n",
       " ('guza[chair]n', 'mes[tree]n', 'meluhha[1]gn'),\n",
       " ('buniŋ[trough]n', 'lu[person]n', 'im[run]v/i'),\n",
       " ('ti[rib]n', 'margida[cart]n'),\n",
       " ('lu[person]n', 'si[horn]n', 'sa[equal]v/t'),\n",
       " ('ig[door]n', 'i[oil]n', 'šeš[anoint]v/t'),\n",
       " ('ninda[bread]n', 'giʾiziʾešta[~bread]n'),\n",
       " ('izi[fire]n', 'il[raise]v/t'),\n",
       " ('uhin[date]n', 'sissig[green]v/i', 'guz[crush]v/i'),\n",
       " ('menden[we]ip', 'menzen[you]ip'),\n",
       " ('numun[seed]n', 'gub[stand]v/i'),\n",
       " ('idu[doorkeeper]n', 'ennuŋ[imprisonment]n'),\n",
       " ('ŋirtab[scorpion]n', 'sissig[green]v/i'),\n",
       " ('ma[ship]n', 'harran[route]n'),\n",
       " ('masab[basket]n', 'gid[long]v/i'),\n",
       " ('ur[he]ip', 'menden[we]ip'),\n",
       " ('kuš[skin]n', 'piriŋ[lion]n'),\n",
       " ('lu[person]n', 'gumurak[heroic]v/i'),\n",
       " ('udu[sheep]n', 'nim[high]v/i'),\n",
       " ('ašag[field]n', 'a[water]n', 'sig[put]v/t'),\n",
       " ('ninda[bread]n', 'še[barley]n', 'sumun[old]v/i'),\n",
       " ('kuš[skin]n', 'balaŋdi[instrument]n'),\n",
       " ('ŋešnimbar[palm]n', 'sissig[green]v/i', 'šeŋ[cook]v/t'),\n",
       " ('uzud[goat]n', 'kug[pure]v/i'),\n",
       " ('saŋ[head]n', 'guza[chair]n'),\n",
       " ('niŋ₂.šid[account]n', 'kag[mouth]n', 'la[hang]v/t'),\n",
       " ('u[ewe]n', 'ŋeš[penis]n', 'zu[know]v/i'),\n",
       " ('saŋ[head]n', 'še[barley]n'),\n",
       " ('lu[person]n', 'še[barley]n', 'bala[turn]v/i', 'ak[do]v/t'),\n",
       " ('muš[snake]n', 'še[barley]n', 'gubula[~barley]n'),\n",
       " ('uzu[flesh]n', 'šag[heart]n', 'šu[hand]n', 'niŋin[encircle]v/t'),\n",
       " ('ab[cow]n', 'sadug[offerings]n'),\n",
       " ('lagab[block]n', 'nir[stone]n'),\n",
       " ('u[and]n', 'menzen[you]ip', 'menzen[you]ip'),\n",
       " ('e[house]n', 'aŋ[measure]v/t', 'dugud[heavy]v/i'),\n",
       " ('udu[sheep]n', 'mur[lung]n', 'šub[fall]v/t'),\n",
       " ('sala[~plow]aj', 'apin[plow]n'),\n",
       " ('ŋešnimbar[palm]n', 'gaz[kill]v/t'),\n",
       " ('uzu[flesh]n', 'inti[way]n'),\n",
       " ('guza[chair]n', 'gar[knob]n', 'kugsig[gold]n', 'ŋar[place]v/t'),\n",
       " ('munus[woman]n', 'kezer[hairstyle]n', 'ak[do]v/t'),\n",
       " ('hazin[ax]n', 'gal[big]v/i'),\n",
       " ('ga[milk]n', 'kiŋ[work]n', 'ŋal[be]v/i'),\n",
       " ('su[fibers]n', 'ŋešnimbar[palm]n'),\n",
       " ('eš[rope]n', 'magid[boat]n'),\n",
       " ('anene[they]ip', 'me[be]v/i'),\n",
       " ('šim[aromatics]n', 'li[juniper]n'),\n",
       " ('uzu[flesh]n', 'ŋiripadra[bone]n', 'lugud[short]v/i'),\n",
       " ('sa[net]n', 'gal[big]v/i'),\n",
       " ('udu[sheep]n', 'hi.gina[unmng]n'),\n",
       " ('har[ring]n', 'šeršer[chain]n'),\n",
       " ('gud[ox]n', 'hunu[weak]v/i'),\n",
       " ('kug[metal]n', 'la[hang]v/t'),\n",
       " ('kišib[seal]n', 'huduš[stone]n'),\n",
       " ('lu[person]n', 'halatuša[apprentice]n'),\n",
       " ('bur[bowl]n', 'zag[side]n'),\n",
       " ('usu[strength]n', 'mah[great]v/i', 'marduk[1]dn'),\n",
       " ('eme[tongue]n', 'dalhamun[storm]n'),\n",
       " ('guza[chair]n', 'mes[tree]n', 'magan[1]gn'),\n",
       " ('ba[tool]n', 'zu[stone]n'),\n",
       " ('šu[hand]n', 'hehezer[squeeze]v/t'),\n",
       " ('munus[woman]n', 'sissig[green]v/i'),\n",
       " ('lu[person]n', 'saŋ[head]n', 'sal[thin]v/i'),\n",
       " ('niŋara[groats]n', 'šeʾeštub[barley]n'),\n",
       " ('ašag[field]n', 'ganada[locus]n'),\n",
       " ('barsig[garment]n', 'saŋšu[turban]n'),\n",
       " ('lu[person]n', 'bala[turn]v/t'),\n",
       " ('lu[person]n', 'sumur[angry]v/i'),\n",
       " ('kuš[skin]n', 'pešniŋgilima[rodent]n'),\n",
       " ('abula[gate]n', 'mah[great]v/i'),\n",
       " ('uzu[flesh]n', 'šaggar[meat]n'),\n",
       " ('uzu[flesh]n', 'sam[price]n'),\n",
       " ('abula[gate]n', 'a[arm]n', 'sikil[pure]v/i'),\n",
       " ('gigur[container]n', 'libir[old]v/i'),\n",
       " ('šu[hand]n', 'ur[convulsed]v/i'),\n",
       " ('lu[person]n', 'emesiggugu[denouncer]n'),\n",
       " ('šu[hand]n', 'ri[impose]v/t'),\n",
       " ('udu[sheep]n', 'ŋissu[shade]n'),\n",
       " ('duh[bran]n', 'hahala[comestible]n', 'du[spread]v/t'),\n",
       " ('a[water]n', 'ki[place]n', 'ed[ascend]v/i'),\n",
       " ('kur[mountain]n', 'usal[meadow]n'),\n",
       " ('ušub[brick-mold]n', 'šeg[brick]n', 'alura[baked]aj'),\n",
       " ('niŋ[thing]n', 'ten[cool]v/i'),\n",
       " ('uzu[flesh]n', 'e[house]n', 'šag[heart]n'),\n",
       " ('siki[hair]n', 'tun[lip]n'),\n",
       " ('kug[metal]n', 'šum[give]v/t'),\n",
       " ('niŋlam[garment]n', 'barag[spread]v/t', 'ak[do]v/t'),\n",
       " ('a[arm]n', 'me[battle]n'),\n",
       " ('kaš[beer]n', 'bursaŋ[offering]n'),\n",
       " ('ig[door]n', 'ul[fruit]n'),\n",
       " ('niŋdim[object]n', 'gul[destroy]v/t'),\n",
       " ('šagia[cup-bearer]n', 'namen[priesthood]n'),\n",
       " ('saŋ[head]n', 'du[build]v/t'),\n",
       " ('sa[sinew]n', 'ŋušur[harrow]n'),\n",
       " ('tu[soup]n', 'niŋluh[basin]n'),\n",
       " ('sigsig[musical-instrument]n', 'eban[pair]n'),\n",
       " ('kaš[beer]n', 'giggi[black]v/i'),\n",
       " ('lu[person]n', 'šerda[crime]n'),\n",
       " ('niŋ[thing]n', 'kur[enter]v/i'),\n",
       " ('tug[textile]n', 'a[water]n', 'tu[cvve]v/t'),\n",
       " ('lu[person]n', 'silim[(to-be)-healthy]v/i', 'dug[speak]v/t'),\n",
       " ('ŋešnud[bed]n', 'šatuku[mattress]n'),\n",
       " ('nesaŋ[offering]n', 'mah[great]v/i'),\n",
       " ('niŋ[thing]n', 'ya[five]nu', 'sila[unit]n'),\n",
       " ('esir[street]n', 'saŋ[head]n', 'gi[turn]v/i'),\n",
       " ('ašag[field]n', 'us₂.a.du[border]n'),\n",
       " ('e[house]n', 'kur[mountain]n', 'igi[eye]n', 'ŋal[be]v/i'),\n",
       " ('na[stone]n', 'min[two]nu', 'še[unit-of-weight]n'),\n",
       " ('dubsar[scribe]n', 'ašag[field]n'),\n",
       " ('gud[ox]n', 'si[horn]n', 'min[two]nu', 'ŋal[be]v/i'),\n",
       " ('dub[knee]n', 'sa[sinew]n', 'dar[split]v/t'),\n",
       " ('niŋ[thing]n', 'diš[one]n', 'giŋ[unit-of-weight]n'),\n",
       " ('nim[fly]n', 'urnig[lioness]n'),\n",
       " ('nir[stone]n', 'mušŋiri[stone]n'),\n",
       " ('sila[unit]n', 'gal[big]v/i'),\n",
       " ('igitab[blinkers]n', 'anše[equid]n'),\n",
       " ('barsig[garment]n', 'duh[loosen]v/t'),\n",
       " ('gi[thicket]n', 'namsipad[shepherdship]n'),\n",
       " ('lu[person]n', 'sagaz[robber]n'),\n",
       " ('šag[heart]n', 'min[two]nu', 'di[speak]v/t', 'ak[do]v/t'),\n",
       " ('inim[word]n', 'dug[speak]v/t'),\n",
       " ('manu[wood]n', 'šu[hand]n'),\n",
       " ('mansim[sieve]n', 'zidgu[flour]n'),\n",
       " ('a[water]n', 'bala[turn]v/i'),\n",
       " ('sukud[height]n', 'bad[wall]n'),\n",
       " ('emerah[jug]n', 'ŋeštug[ear]n'),\n",
       " ('muš[snake]n', 'sissig[green]v/i'),\n",
       " ('mar[shovel]n', 'niŋsur[beer]n'),\n",
       " ('kid[mat]n', 'si[horn]n', 'ma[ship]n'),\n",
       " ('siki[hair]n', 'garig[comb]n', 'ak[do]v/t'),\n",
       " ('ašag[field]n', 'banda[junior]v/i'),\n",
       " ('lu[person]n', 'še[barley]n', 'kud[cut]v/t'),\n",
       " ('kaš[beer]n', 'hurum[~pot]n'),\n",
       " ('inim[word]n', 'bar[cvve]v/t'),\n",
       " ('dilim[spoon]n', 'tunbar[moustache]n'),\n",
       " ('anene[they]ip', 'nam[fate]n'),\n",
       " ('ŋeš[tree]n', 'šuniŋin[total]n'),\n",
       " ('lu[person]n', 'kag[mouth]n', 'tu[incantation]n', 'ŋal[be]v/i'),\n",
       " ('masab[basket]n', 'ninda[bread]n', 'gur[thick]v/i'),\n",
       " ('garan[bunch]n', 'ŋeštin[vine]n'),\n",
       " ('lu[person]n', 'kaš[runner]n', 'kešed[bind]v/t'),\n",
       " ('niŋŋeštug[earring]n', 'kugsig[gold]n'),\n",
       " ('ig[door]n', 'dib[board]n'),\n",
       " ('kišib[seal]n', 'haštum[stone]n'),\n",
       " ('lu[person]n', 'šu[hand]n', 'kudkudra[disabled]n'),\n",
       " ('lu[person]n', 'še[barley]n', 'bad[open]v/t'),\n",
       " ('maš[goat]n', 'giggi[black]v/i'),\n",
       " ('še[barley]n', 'mu[grow]v/t'),\n",
       " ('kid[mat]n', 'kuš[skin]n', 'sig[put]v/t'),\n",
       " ('šu[hand]n', 'teŋ[approach]v/i', 'šu[hand]n', 'teŋ[approach]v/i'),\n",
       " ('dur[balk]n', 'peš[thick]v/i'),\n",
       " ('ŋeš[tree]n', 'tuku[acquire]v/t'),\n",
       " ('e[house]n', 'sikil[pure]v/i', 'a[water]n', 'sig[clear]v/i'),\n",
       " ('šim[aromatics]n', 'sissig[green]v/i'),\n",
       " ('u[grass]n', 'su[cvve]v/t'),\n",
       " ('zid[flour]n', 'du[spread]v/t'),\n",
       " ('muš[face]n', 'saŋki[forehead]n'),\n",
       " ('udu[sheep]n', 'gub[stand]v/i'),\n",
       " ('gag[nail]n', 'zu[tooth]n'),\n",
       " ('siki[hair]n', 'šakanka[market]n'),\n",
       " ('šim[aromatics]n', 'arina[madder]n'),\n",
       " ('ab[cow]n', 'si[horn]n', 'mu[grow]v/i'),\n",
       " ('siki[hair]n', 'bar[outside]n', 'gal[big]v/i'),\n",
       " ('ašag[field]n', 'agar[meadow]n', 'asal[poplar]n'),\n",
       " ('lu[person]n', 'sahir[net]n'),\n",
       " ('gigur[container]n', 'igi.esir₂[~bitumen]n'),\n",
       " ('saŋ[head]n', 'ma[ship]n'),\n",
       " ('lu[person]n', 'sun[humble]v/i'),\n",
       " ('lu[person]n', 'saŋ[head]n', 'gir[slip]v/i'),\n",
       " ('masab[basket]n', 'ninda[bread]n', 'sag[good]v/i'),\n",
       " ('ninda[bread]n', 'zidsig[flour]n'),\n",
       " ('ašag[field]n', 'kiŋ[work]v/t', 'ak[do]v/t'),\n",
       " ('ašag[field]n', 'mah[great]v/i'),\n",
       " ('ašgar[kid]n', 'ŋeš[penis]n', 'zu[know]v/i'),\n",
       " ('kiri[nose]n', 'gud[ox]n'),\n",
       " ('masab[basket]n', 'šu[hand]n'),\n",
       " ('utul[tureen]n', 'mar.tu[westerner]n'),\n",
       " ('muš[snake]n', 'na[stone]n'),\n",
       " ('šub[fall]v/t', 'menden[we]ip'),\n",
       " ('šagia[cup-bearer]n', 'šakkanak[general]n'),\n",
       " ('ki[place]n', 'mašanše[animals]n', 'gu[eat]v/t'),\n",
       " ('ma[ship]n', 'peš[thick]v/i'),\n",
       " ('šim[aromatics]n', 'marguzum[bush]n'),\n",
       " ('nindaʾidea[bread]n', 'ŋen[go]v/i'),\n",
       " ('ab[cow]n', 'mah[great]v/i'),\n",
       " ('lu[person]n', 'egar[wall]n', 'šub[fall]v/t'),\n",
       " ('ub[cavity]n', 'dug[speak]v/t'),\n",
       " ('ŋeš[tree]n', 'ya[five]nu', 'giŋ[unit]n'),\n",
       " ('a[arm]n', 'si[horn]n', 'sa[equal]v/t'),\n",
       " ('nurma[pomegranate]n', 'sag[rare]v/i'),\n",
       " ('menden[we]ip', 'u[and]n', 'menzen[you]ip'),\n",
       " ('ama[mother]n', 'utud[bear]v/t'),\n",
       " ('enbar[reed]n', 'e[chaff]n'),\n",
       " ('šakkanak[general]n', 'šag[heart]n', 'e[house]n'),\n",
       " ('udu[sheep]n', 'gunu[speckled]v/i'),\n",
       " ('kuš[skin]n', 'amar[young]n', 'mašda[gazelle]n'),\n",
       " ('bulug[needle]n', 'algameš[stone]n'),\n",
       " ('ŋiri[dagger]n', 'ad.kid[weaver]n'),\n",
       " ('sipad[shepherd]n', 'uzud[goat]n', 'gi[turn]v/i'),\n",
       " ('absin[furrow]n', 'kud[cut]v/t'),\n",
       " ('suhuš[offshoot]n', 'ŋešnimbar[palm]n'),\n",
       " ('siki[hair]n', 'gubar[nape]n'),\n",
       " ('šu[hand]n', 'aš[six]nu'),\n",
       " ('saŋ[head]n', 'ŋar[place]v/t'),\n",
       " ('na[stone]n', 'min[two]nu', 'mana[unit]n'),\n",
       " ('lu[person]n', 'mandum[soldier]n'),\n",
       " ('na[stone]n', 'lammar[deity]n'),\n",
       " ('ziz[emmer]n', 'gunida[~grain]n'),\n",
       " ('kuš[skin]n', 'pešgi[rodent]n'),\n",
       " ('ŋeš[tree]n', 'eš[three]nu', 'giŋ[unit]n'),\n",
       " ('guza[chair]n', 'zu[tooth]n', 'kešed[bind]v/t'),\n",
       " ('ašag[field]n', 'ninurtak[1]dn'),\n",
       " ('ŋeš[tree]n', 'gilim[cross]v/t'),\n",
       " ('munus[woman]n', 'lu[person]n', 'tug[textile]n', 'bala[turn]v/i'),\n",
       " ('še[barley]n', 'esaŋ[store]n'),\n",
       " ('ninda[bread]n', 'abba[father]n', 'ah[dry]v/i'),\n",
       " ('niŋ[thing]n', 'gin[firm]v/i'),\n",
       " ('amar[young]n', 'babbar[white]v/i'),\n",
       " ('lu[person]n', 'tuggilima[profession]n'),\n",
       " ('gag[nail]n', 'mud[stump]n'),\n",
       " ('lu[person]n', 'izi[fire]n'),\n",
       " ('ki[place]n', 'daŋal[wide]v/i'),\n",
       " ('abba[father]n', 'dikud[judge]n'),\n",
       " ('lu[person]n', 'šu[hand]n', 'dug[speak]v/t'),\n",
       " ('na[stone]n', 'igi[face]n', 'limmu[four]nu', 'ŋal[be]v/i'),\n",
       " ('masab[basket]n', 'zid[flour]n'),\n",
       " ('numun[seed]n', 'niŋnagar[plant]n'),\n",
       " ('e[house]n', 'hululum[object]n'),\n",
       " ('zu[stone]n', 'su[red]v/i'),\n",
       " ('e[house]n', 'ki[place]n', 'lukur[priestess]n'),\n",
       " ('izzi[wall]n', 'dalbana[space]n'),\n",
       " ('abzaza[zebu]n', 'zagin[lapis]n'),\n",
       " ('gag[nail]n', 'siŋar[bolt]n'),\n",
       " ('kita[basket]n', 'zulum[date]n', 'deg[collect]v/t', 'ŋešnimbar[palm]n'),\n",
       " ('tu[soup]n', 'babada[porridge]n', 'sag[rare]v/i'),\n",
       " ('lu[person]n', 'humhum[destitute]n'),\n",
       " ('gaʾar[cheese]n', 'arzana[groats]n'),\n",
       " ('igi[eye]n', 'bala[turn]v/i'),\n",
       " ('pa[branch]n', 'igi[eye]n'),\n",
       " ('lu[person]n', 'ni[fear]n', 'teŋ[approach]v/i'),\n",
       " ('tun[lip]n', 'bur[spread]v/t'),\n",
       " ('an[sky]n', 'zi[life]n', 'sukud[height]n'),\n",
       " ('kinkin[millstone]n', 'šu[pestle]n', 'sig[put]v/t'),\n",
       " ('i[oil]n', 'šim[aromatics]n'),\n",
       " ('a[water]n', 'im[clay]n', 'bar[cvve]v/t'),\n",
       " ('kuš[skin]n', 'peš[mouse]n', 'gi[thicket]n'),\n",
       " ('enbar[reed]n', 'adagur[pot]n'),\n",
       " ('lu[person]n', 'siga[eye-disease]n'),\n",
       " ('ŋeš[tree]n', 'ur[drag]v/t'),\n",
       " ('ma[ship]n', 'id[river]n', 'til[live]v/i'),\n",
       " ('a[water]n', 'kum[hot]v/i', 'zal[pass]v/t'),\n",
       " ('šimbirida[plant]n', 'hursaŋ[mountain]n'),\n",
       " ('igi[face]n', 'hulu[bad]v/i'),\n",
       " ('ugula[overseer]n', 'limum[thousand]nu'),\n",
       " ('dubsar[scribe]n', 'umun[knowledge]n', 'ak[do]v/t'),\n",
       " ('ŋirigub[footstool]n', 'zu[tooth]n', 'amsi[elephant]n'),\n",
       " ('kingal[official]n', 'ud[sun]n'),\n",
       " ('lu[person]n', 'nizuh[thief]n'),\n",
       " ('niŋ[thing]n', 'burud[perforate]v/t'),\n",
       " ('gigur[container]n', 'šunir[emblem]n'),\n",
       " ('mu[year]n', 'samsuʾiluna[01]rn', 'lugal[king]n'),\n",
       " ('lu[person]n', 'kur[different]v/i'),\n",
       " ('pa[branch]n', 'kud[cut]v/t'),\n",
       " ('ašag[field]n', 'amaš[sheepfold]n', 'lil[ghost]n'),\n",
       " ('dubsar[scribe]n', 'niŋ₂.šid[account]n'),\n",
       " ('uzud[goat]n', 'šag[heart]n'),\n",
       " ('guza[chair]n', 'aški[rushes]n', 'du[build]v/t'),\n",
       " ('im[clay]n', 'dug[pot]n'),\n",
       " ('duggan[bag]n', 'gidubak[stylus]n'),\n",
       " ('a[arm]n', 'mah[great]v/i'),\n",
       " ('uzu[flesh]n', 'birri[spleen]n'),\n",
       " ('ugula[overseer]n', 'šukud[fisherman]n'),\n",
       " ('nindaʾidea[bread]n', 'inun[ghee]n'),\n",
       " ('ubur[breast]n', 'imin[seven]nu', 'maštab[twin]n'),\n",
       " ('šu[hand]n', 'e[leave]v/i'),\n",
       " ('u[admiration]n', 'dug[speak]v/t'),\n",
       " ('ama[mother]n', 'zamin[lyre]n'),\n",
       " ('e[house]n', 'gan.ku[worker]n'),\n",
       " ('mandum[soldier]n', 'namdumu[status]n'),\n",
       " ('nar[musician]n', 'igi[eye]n', 'lugal[king]n'),\n",
       " ('gud[ox]n', 'ŋešdu[breeder]n'),\n",
       " ('nir[stone]n', 'igi[eye]n', 'en[lord]n'),\n",
       " ('pu[well]n', 'šuziʾana[1]dn'),\n",
       " ('suhub[boots]n', 'eban[pair]n'),\n",
       " ('šatam[official]n', 'e[house]n', 'uzu[flesh]n'),\n",
       " ('mar[shovel]n', 'gi[thicket]n'),\n",
       " ('niŋ[thing]n', 'banmin[vessel]n'),\n",
       " ('ab[cow]n', 'su[red]v/i'),\n",
       " ('lu[person]n', 'dili[single]v/i', 'dam[spouse]n', 'geme[worker]n'),\n",
       " ('lu[person]n', 'diŋir[deity]n', 'gur[turn]v/i'),\n",
       " ('uzud[goat]n', 'gub[stand]v/i'),\n",
       " ('burzi[bowl]n', 'gal[big]v/i'),\n",
       " ('ninda[bread]n', 'gabaria[offering]n'),\n",
       " ('lu[person]n', 'šag[heart]n', 'sug[empty]v/i'),\n",
       " ('šen[cauldron]n', 'zir[slip]n'),\n",
       " ('ur[base]n', 'bad[wall]n'),\n",
       " ('ninda[bread]n', 'dilim[spoon]n'),\n",
       " ('alan[image]', 'zagin[lapis]n'),\n",
       " ('lu[person]n', 'še[barley]n', 'zar[sheaf]n', 'sal[thin]v/i'),\n",
       " ('anur[horizon]n', 'su[red]v/i', 'an[sky]n'),\n",
       " ('sumun[vessel]n', 'a[water]n', 'sig[put]v/t'),\n",
       " ('uzu[flesh]n', 'azad[head]n'),\n",
       " ('e[house]n', 'gid[long]v/i'),\n",
       " ('gir[oven]n', 'sa[roast]v/t', 'še[barley]n'),\n",
       " ('da[side-board]n', 'ŋešnimbar[palm]n'),\n",
       " ('muš[snake]n', 'hulu[bad]v/i'),\n",
       " ('niŋdirig[extra]n', 'gu[voice]n', 'de[pour]v/t'),\n",
       " ('inu[straw]n', 'bul[blow]v/t'),\n",
       " ('šagadu[belt]n', 'šudum[warp]n'),\n",
       " ('a[water]n', 'pag[enclose]v/t'),\n",
       " ('lu[person]n', 'gašam[wise]v/i'),\n",
       " ('bisaŋ[basket]n', 'sig[tie]v/t'),\n",
       " ('bur[bowl]n', 'izaga[oil]n'),\n",
       " ('sal.uš[sheath]n', 'šuʾi[barber]n'),\n",
       " ('agaʾus[soldier]n', 'saŋ[head]n'),\n",
       " ('ma[ship]n', 'sig[weak]v/i'),\n",
       " ('burud[perforate]v/t', 'kiri[nose]n'),\n",
       " ('zena[weapon]n', 'mah[great]v/i'),\n",
       " ('niŋ[thing]n', 'kuš[skin]n', 'sig[put]v/t'),\n",
       " ('a[arm]n', 'diš[one]n', 'kuš[unit]n'),\n",
       " ('kinkin[millstone]n', 'zibi[material]n', 'šu[pestle]n', 'sig[put]v/t'),\n",
       " ('zu[tooth]n', 'hum[snap]v/t'),\n",
       " ('kugbabbar[silver]n', 'me[refine]v/t'),\n",
       " ('inim[word]n', 'dirig[exceed]v/t'),\n",
       " ('ŋeš[tree]n', 'sumun[old]v/i'),\n",
       " ('dur[bond]n', 'sig[weak]v/i'),\n",
       " ('saŋ[head]n', 'hirim[grass]n'),\n",
       " ('kaš[beer]n', 'ga[milk]n'),\n",
       " ('dida[wort]n', 'šim[aromatics]n', 'hi[mix]v/t'),\n",
       " ('tukumbi[if]cnj', 'urmah[lion]n', 'gu[eat]v/t'),\n",
       " ('amsi[elephant]n', 'kur[mountain]n'),\n",
       " ('zidgu[flour]n', 'ŋen[go]v/i'),\n",
       " ('lu[person]n', 'ala[drum]n'),\n",
       " ('munus[woman]n', 'saŋguŋal[proud]aj'),\n",
       " ('niŋ[thing]n', 'kindagal[official]n'),\n",
       " ('ninda[bread]n', 'igidu[gift]n'),\n",
       " ('še[barley]n', 'ašte[chair]n'),\n",
       " ('ud[day]n', 'šuš[cover]v/t'),\n",
       " ('eša[flour]n', 'sag[rare]v/i'),\n",
       " ('guza[chair]n', 'kinud[bedroom]n'),\n",
       " ('ŋešnimbar[palm]n', 'lipiš[innards]n', 'bur[tear]v/t'),\n",
       " ('guʾe[textile]n', 'gunu[speckled]v/i'),\n",
       " ('luh[clean]v/t', 'igi[eye]n', 'gig[sick]v/i'),\n",
       " ('ašag[field]n', 'sal[thin]v/i'),\n",
       " ('a[water]n', 'du[go]v/i', 'an[sky]n'),\n",
       " ('guza[chair]n', 'taškarin[boxwood]n'),\n",
       " ('mansim[sieve]n', 'dabin[semolina]n'),\n",
       " ('lu[person]n', 'šedu[spirit]n', 'tuku[acquire]v/t'),\n",
       " ('ab[cow]n', 'šugi[senior]n'),\n",
       " ('e[house]n', 'heŋal[plenty]n'),\n",
       " ('ŋešpu[rim]n', 'apin[plow]n'),\n",
       " ('ašag[field]n', 'buru[harvest]n', 'mah[great]v/i', 'tur[be-small]v/i'),\n",
       " ('hašhur[apple]n', 'še[barley]n', 'šeŋuš[barley]n'),\n",
       " ('munus[woman]n', 'dubsar[scribe]n'),\n",
       " ('dur[board]n', 'šeg[brick]n', 'alura[baked]aj'),\n",
       " ('ušub[brick-mold]n', 'ab[window]n'),\n",
       " ('saŋ[head]n', 'rig[donate]v/t'),\n",
       " ('ašag[field]n', 'še[barley]n', 'mu[grow]v/i'),\n",
       " ('ašag[field]n', 'isin[stalk]n'),\n",
       " ('hili[attractiveness]n', 'e[house]n', 'kur[mountain]n'),\n",
       " ('ašag[field]n', 'ŋarim[meadow]n', 'tur[be-small]v/i'),\n",
       " ('mu[year]n', 'meliʾeʾa[exclamation]j'),\n",
       " ('ad[log]n', 'ma[ship]n'),\n",
       " ('zidgu[flour]n', 'us[follow]v/t', 'eš[three]nu'),\n",
       " ('inim[word]n', 'hulu[bad]v/i'),\n",
       " ('a[arm]n', 'gud[ox]n', 'apin[plow]n'),\n",
       " ('ninda[bread]n', 'gur[thick]v/i', 'i[oil]n', 'de[pour]v/t'),\n",
       " ('saŋ[head]n', 'kiri[nose]n', 'gig[sick]v/i'),\n",
       " ('lu[person]n', 'sa.ni[net]n'),\n",
       " ('ašag[field]n', 'dud[mound]n', 'urgir[dog]n'),\n",
       " ('da[side-board]n', 'umbin[wheel]n', 'gigir[chariot]n'),\n",
       " ('ugula[overseer]n', 'e[house]n', 'kurušda[fattener]n'),\n",
       " ('šeg[brick]n', 'izi[fire]n', 'ur[bake]v/t'),\n",
       " ('lu[person]n', 'inu[straw]n', 'šu[hand]n', 'saga[reap]v/t'),\n",
       " ('še[barley]n', 'mungazi[~agriculture]n'),\n",
       " ('gi[thicket]n', 'šuš[cover]v/t'),\n",
       " ('a[water]n', 'dumu[child]n'),\n",
       " ('kaš[beer]n', 'edadi[flour]n'),\n",
       " ('munus[woman]n', 'mul[star]n'),\n",
       " ('izzi[wall]n', 'ŋešnud[bed]n'),\n",
       " ('azu[doctor]n', 'gud[ox]n'),\n",
       " ('ana[what?]qp', 'ak[do]v/t'),\n",
       " ('a[water]n', 'šu[hand]n', 'eš[three]nu', 'bala[turn]v/i'),\n",
       " ('lu[person]n', 'ušzaga[driveling]aj'),\n",
       " ('bisaŋ[basket]n', 'im[clay]n', 'su[red]v/i'),\n",
       " ('lu[person]n', 'ad[crippled]v/i'),\n",
       " ('saŋdu[head]n', 'guruš[cut]v/t', 'gig[sick]v/i'),\n",
       " ('tun[lip]n', 'sur[spin]v/t'),\n",
       " ('uzu[flesh]n', 'ti[rib]n'),\n",
       " ('nim[fly]n', 'urgir[dog]n'),\n",
       " ('kuš[skin]n', 'durahmaš[ram]n'),\n",
       " ('a[water]n', 'tu[incantation]n'),\n",
       " ('munus[woman]n', 'zid[right]v/i', 'munus[woman]n', 'sag[good]v/i'),\n",
       " ('udu[sheep]n', 'ŋešdu[breeder]n'),\n",
       " ('uzudirig[mushroom]n', 'kur[mountain]n'),\n",
       " ('kid[mat]n', 'ma[ship]n', 'šag[heart]n'),\n",
       " ('gada[flax]n', 'daŋal[wide]v/i'),\n",
       " ('abula[gate]n', 'lugal[king]n'),\n",
       " ('tir[forest]n', 'kug[pure]v/i'),\n",
       " ('hala[share]n', 'adda[father]n'),\n",
       " ('gurgur[vessel]n', 'lal[syrup]n'),\n",
       " ('kugsig[gold]n', 'u[ten]nu'),\n",
       " ('gaba[chest]n', 'šag[heart]n'),\n",
       " ('sug[marsh]n', 'mah[great]v/i'),\n",
       " ('tu[soup]n', 'arzana[groats]n'),\n",
       " ('tu[soup]n', 'uzubala[~soup]n'),\n",
       " ('niŋ[thing]n', 'ban[unit]n'),\n",
       " ('bir[locust]n', 'sahar[soil]n'),\n",
       " ('ma[ship]n', 'si[horn]n', 'limmu[four]nu'),\n",
       " ('e[house]n', 'du[suitable]v/i', 'šuš[cover]v/t'),\n",
       " ('zu[tooth]n', 'kud[cut]v/t'),\n",
       " ('ma[ship]n', 'ma[ship]n', 'inanak[1]dn'),\n",
       " ('bir[locust]n', 'ŋen[go]v/i', 'tir[forest]n'),\n",
       " ('uzu[flesh]n', 'sa[sinew]n', 'hal[thigh]n'),\n",
       " ('kar[harbor]n', 'gub[stand]v/i'),\n",
       " ('ugula[overseer]n', 'e[house]n', 'un.il₂[menial]n'),\n",
       " ('sukkal[secretary]n', 'mar.tu[westerner]n'),\n",
       " ('kugsig[gold]n', 'limmu[four]nu'),\n",
       " ('kan[gate]n', 'hursaŋ[mountain]n', 'kalam[land]n'),\n",
       " ('amar[young]n', 'kušu[creature]n'),\n",
       " ('udu[sheep]n', 'tug₂.da[~sheep]n'),\n",
       " ('maš[interest]n', 'gin[firm]v/i', 'tah[add]v/t'),\n",
       " ('bun[bellows]n', 'dug[speak]v/t'),\n",
       " ('bulug[needle]n', 'harran[tool]n'),\n",
       " ('ig[door]n', 'uma[triumph]n'),\n",
       " ('sipad[shepherd]n', 'udu[sheep]n'),\n",
       " ('idu[doorkeeper]n', 'e[house]n', 'sikil[pure]v/i'),\n",
       " ('a[water]n', 'dug[speak]v/t'),\n",
       " ('lu[person]n', 'naŋah[fool]n'),\n",
       " ('a[arm]n', 'sig[weak]v/i'),\n",
       " ('saŋ[head]n', 'sikil[pure]v/i'),\n",
       " ('apap[pipe]n', 'hal[divide]v/t'),\n",
       " ('ugula[overseer]n', 'namninnu[group-of-50]n'),\n",
       " ('a[arm]n', 'sag[good]v/i'),\n",
       " ('kuš[skin]n', 'pešgigua[rodent]n'),\n",
       " ('gu₂.mur[throat]n', 'gig[sick]v/i'),\n",
       " ('anubda[quarter]n', 'limmu[four]nu'),\n",
       " ('uzu[flesh]n', 'šag[heart]n', 'ninnu[fifty]nu'),\n",
       " ('lu[person]n', 'par[canal]n', 'bal[dig]v/i'),\n",
       " ('uzu[flesh]n', 'gubalŋešdua[hump]n'),\n",
       " ('gud[ox]n', 'niga[fattened]v/i'),\n",
       " ('šen[cauldron]n', 'burud[perforate]v/t'),\n",
       " ('lu[person]n', 'taba[companion]n'),\n",
       " ('hašhur[apple]n', 'su[red]v/i'),\n",
       " ('peš[frond]n', 'ŋešnimbar[palm]n'),\n",
       " ('zag[side]n', 'madu[~boat]n'),\n",
       " ('lu[person]n', 'gaba[chest]n', 'ŋal[be]v/i'),\n",
       " ('bala[turn]v/i', 'sag[good]v/i'),\n",
       " ('lu[person]n', 'kal[rare]v/i'),\n",
       " ('lu[person]n', 'sa[net]n'),\n",
       " ('še[barley]n', 'zar[sheaf]n', 'kešed[bind]v/t'),\n",
       " ('umbin[nail]n', 'šusi[finger]n', 'ŋiri[foot]n'),\n",
       " ('kugbabbar[silver]n', 'hulu[bad]v/i'),\n",
       " ('bur[bowl]n', 'babbar[white]v/i'),\n",
       " ('lu[person]n', 'a[water]n', 'sed[cold]v/i'),\n",
       " ('kiʾaŋa[beloved]aj', 'an[1]dn'),\n",
       " ('udu[sheep]n', 'gur[thick]v/i'),\n",
       " ('bad[wall]n', 'anki[universe]n'),\n",
       " ('dubsar[scribe]n', 'ugnim[army]n'),\n",
       " ('abula[gate]n', 'ninlil[1]dn'),\n",
       " ('gi[thicket]n', 'šu[hand]n', 'ban[unit]n'),\n",
       " ('a[water]n', 'dag[demolish]v/t'),\n",
       " ('gag[nail]n', 'muš[snake]n', 'apin[plow]n'),\n",
       " ('zabar[bronze]n', 'dug[pot]n'),\n",
       " ('duh[bran]n', 'šeŋeši[sesame]n'),\n",
       " ('udu[sheep]n', 'ŋeštaga[sacrifice]n'),\n",
       " ('ki[place]n', 'uludin[form]n'),\n",
       " ('gada[flax]n', 'šu[hand]n', 'rah[beat]v/t'),\n",
       " ('egir[back]n', 'saŋ[head]n', 'si[horn]n', 'sa[advice]n'),\n",
       " ('saŋ[head]n', 'igi[eye]n', 'gunu[speckled]v/i'),\n",
       " ('aʾabak[sea]n', 'huluh[frightened]v/i'),\n",
       " ('hursaŋ[mountain]n', 'bala[turn]v/i'),\n",
       " ('a[arm]n', 'daŋal[wide]v/i'),\n",
       " ('niŋ[thing]n', 'gu[neck]n'),\n",
       " ('ba[tool]n', 'sim[swallow]n'),\n",
       " ('kag[mouth]n', 'urgir[dog]n'),\n",
       " ('sipad[shepherd]n', 'šah[pig]n'),\n",
       " ('par[canal]n', 'ursaŋ[hero]n'),\n",
       " ('kun[tail]n', 'gigir[chariot]n'),\n",
       " ('niŋŋala[possessions]n', 'erin[people]n'),\n",
       " ('banšur[table]n', 'zagŋara[shrine]n'),\n",
       " ('gi[thicket]n', 'gur[reap]v/i'),\n",
       " ('šeg[brick]n', 'tehi[approach]v/t'),\n",
       " ('kib[bird]n', 'mušninka[bird]n'),\n",
       " ('aria[steppe]n', 'kaš[beer]n'),\n",
       " ('murgu[shoulder]n', 'gud.si.aš[ram]n'),\n",
       " ('manu[wood]n', 'gibil[firewood]n', 'ak[do]v/t'),\n",
       " ('uzu[flesh]n', 'meze[jaw]n'),\n",
       " ('ŋuruš[male]n', 'saŋ[head]n', 'dili[single]v/i'),\n",
       " ('ennuŋ[imprisonment]n', 'u[ten]nu'),\n",
       " ('laga[slag]n', 'saŋdu[head]n', 'gig[sick]v/i'),\n",
       " ('gigur[container]n', 'inu[straw]n'),\n",
       " ('kag[mouth]n', 'burud[perforate]v/t'),\n",
       " ('tug[textile]n', 'la[hang]v/t'),\n",
       " ('mur[noise]n', 'ša[cvve]v/t'),\n",
       " ('lu[person]n', 'mašsaŋ[leader]n'),\n",
       " ('munus[woman]n', 'galam[skilful]v/i'),\n",
       " ('siki[hair]n', 'bar[outside]n', 'udu[sheep]n', 'ug[kill]v/t'),\n",
       " ('šuba[stone]n', 'a[arm]n', 'gab[left]n'),\n",
       " ('kugbabbar[silver]n', 'lu[mix]v/t'),\n",
       " ('pa[branch]n', 'kud[cut]v/t', 'ug[kill]v/t'),\n",
       " ('tir[forest]n', 'izi[fire]n', 'gu[eat]v/t'),\n",
       " ('zu[stone]n', 'babbar[white]v/i'),\n",
       " ('zu[tooth]n', 'ŋušur[harrow]n'),\n",
       " ('zagin[lapis]n', 'gid[long]v/i'),\n",
       " ('sa[sinew]n', 'mah[great]v/i', 'gu[neck]n'),\n",
       " ('šatam[official]n', 'e[house]n', 'ereš[lady]n'),\n",
       " ('šuʾa[stool]n', 'burgul[stone-cutter]n'),\n",
       " ('zi[life]n', 'tur[be-small]v/i'),\n",
       " ('saŋ[head]n', 'tab[grasp]v/t'),\n",
       " ('si[horn]n', 'gigir[chariot]n'),\n",
       " ('kuš[skin]n', 'siki[hair]n', 'mu[grow]v/t'),\n",
       " ('ildag[poplar]n', 'kur[mountain]n'),\n",
       " ('niŋ[thing]n', 'diš[one]nu', 'sila[unit]n'),\n",
       " ('e[house]n', 'šah[pig]n'),\n",
       " ('lu[person]n', 'kezer[hairstyle]n', 'ak[do]v/t'),\n",
       " ('ki[place]n', 'mea[where?]qp'),\n",
       " ('dumunita[son]n', 'gaba[chest]n'),\n",
       " ('uzu[flesh]n', 'saŋdu[head]n'),\n",
       " ('pakud[~tree]n', 'ŋešnimbar[palm]n'),\n",
       " ('mar[shovel]n', 'ninda[bread]n', 'gur[unit]n'),\n",
       " ('gabaŋal[guard]n', 'gigir[chariot]n'),\n",
       " ('gi[thicket]n', 'niŋsiga[weak]aj'),\n",
       " ('tug[textile]n', 'pala[garment]n'),\n",
       " ('niŋŋeštug[~plow]n', 'apin[plow]n'),\n",
       " ('bulug[needle]n', 'bur[garment]n'),\n",
       " ('gud[ox]n', 'ŋeštaga[sacrifice]n'),\n",
       " ('gana[field]n', 'usakar[moon]n'),\n",
       " ('umun[insect]n', 'saŋdu[head]n'),\n",
       " ('lu[person]n', 'saŋ[head]n', 'ŋeš[tree]n', 'rah[beat]v/t'),\n",
       " ('šu[hand]n', 'la[stretch]v/t'),\n",
       " ('tu[soup]n', 'a[water]n', 'ur[convulsed]v/i'),\n",
       " ('lu[person]n', 'dun[warp]v/t'),\n",
       " ('na[stone]n', 'šušana[one-third]nu', 'giŋ[unit]n'),\n",
       " ('sukkal[secretary]n', 'ensik[ruler]n'),\n",
       " ('ŋeš[tree]n', 'babbar[white]v/i'),\n",
       " ('ŋiri[dagger]n', 'sig[weak]v/i'),\n",
       " ('guza[chair]n', 'kešed[bind]v/t'),\n",
       " ('e[house]n', 'sig[put]v/t'),\n",
       " ('ig[door]n', 'kigal[platform]n'),\n",
       " ('niŋgur[property]n', 'teš[unity]n'),\n",
       " ('sugzag[~marsh]n', 'gu[eat]v/t'),\n",
       " ('nindaʾidea[bread]n', 'lal[syrup]n'),\n",
       " ('anše[equid]n', 'dirig[exceed]v/i'),\n",
       " ('lu[person]n', 'šag[heart]n', 'gar[heroic]v/i', 'ak[do]v/t'),\n",
       " ('udu[sheep]n', 'šušuma[consignment]n'),\n",
       " ('e[house]n', 'namlugal[kingship]n'),\n",
       " ('ugula[overseer]n', 'namu[group-of-10]n'),\n",
       " ('alan[statue]', 'zagin[lapis]n'),\n",
       " ('dilim[spoon]n', 'banšur[table]n'),\n",
       " ('e[house]n', 'til[live]v/i'),\n",
       " ('tu[soup]n', 'lubšir[bag]n'),\n",
       " ('kaš[beer]n', 'bala[turn]v/t'),\n",
       " ('lu[person]n', 'kun[tail]n', 'eš[rope]n'),\n",
       " ('kaš[beer]n', 'saŋ[head]n', 'ŋal[be]v/i'),\n",
       " ('ašag[field]n', 'egir[back]n', 'šum[garlic]n', 'la[hang]v/t'),\n",
       " ('a[water]n', 'dug[pot]n'),\n",
       " ('sa[binding]n', 'pa[branch]n'),\n",
       " ('šatam[official]n', 'eʾuzu[meat-house]n'),\n",
       " ('sahar[soil]n', 'bal[dig]v/i'),\n",
       " ('anše[equid]n', 'ma[ship]n'),\n",
       " ('šuba[stone]n', 'gunu[speckled]v/i'),\n",
       " ('tuditum[toggle-pin]n', 'kugbabbar[silver]n'),\n",
       " ('tun[container]n', 'azu[doctor]n'),\n",
       " ('leʾum[board]n', 'apin[plow]n'),\n",
       " ('udu[sheep]n', 'adda[corpse]n'),\n",
       " ('e[house]n', 'pana[bow]n'),\n",
       " ('inim[word]n', 'ŋar[place]v/t', 'hulu[bad]v/i'),\n",
       " ('ildag[poplar]n', 'bur[spread]v/t'),\n",
       " ('lu[person]n', 'tug[textile]n', 'tun[lip]n', 'bur[spread]v/t'),\n",
       " ('eš[rope]n', 'šusar[string]n'),\n",
       " ('lu[person]n', 'niŋgilim[rodent]n'),\n",
       " ('niŋna[incense]n', 'mud[blood]n'),\n",
       " ('ab[cow]n', 'namra[booty]n'),\n",
       " ('ŋeštug[ear]n', 'la[hang]v/t'),\n",
       " ('munus[woman]n', 'lunisub[ecstatic]n'),\n",
       " ('udu[sheep]n', 'aslum[sheep]n', 'niga[fattened]v/i', 'sag[rare]v/i'),\n",
       " ('ŋešnimbar[palm]n', 'magan[1]gn'),\n",
       " ('niŋ[thing]n', 'na[stone]n'),\n",
       " ('ŋen[go]v/i', 'ak[do]v/t'),\n",
       " ('kuŋ[stair]n', 'us₂[lean]v/t'),\n",
       " ('ninda[bread]n', 'šu[hand]n', 'sikil[pure]v/i'),\n",
       " ('duh[bran]n', 'ŋen[go]v/i'),\n",
       " ('šem[drum]n', 'ak[do]v/t'),\n",
       " ('dud[mound]n', 'kud[fish]n', 'dab[seize]v/t'),\n",
       " ('lu[person]n', 'ŋešba[boxer]n', 'bad[open]v/t'),\n",
       " ('tug[textile]n', 'kal[rare]v/i'),\n",
       " ('sa[net]n', 'gi[thicket]n'),\n",
       " ('a[arm]n', 'ŋal[be]v/i'),\n",
       " ('tu[soup]n', 'aba[who?]qp', 'silim[(to-be)-healthy]v/i'),\n",
       " ('ki[place]n', 'ŋeškim[sign]n', 'he[whether]cnj'),\n",
       " ('bala[turn]v/i', 'gub[stand]v/i'),\n",
       " ('nig[~plow]n', 'apin[plow]n'),\n",
       " ('hašhur[apple]n', 'duru[wet]v/i'),\n",
       " ('tukul[weapon]n', 'inanak[1]dn'),\n",
       " ('dida[wort]n', 'gal[big]v/i'),\n",
       " ('aʾaš[wish]n', 'tuku[acquire]v/t'),\n",
       " ('tuše[drapes]n', 'diŋir[deity]n'),\n",
       " ('agaʾus[soldier]n', 'lugal[king]n'),\n",
       " ('te[~boat]n', 'ma[ship]n'),\n",
       " ('muš[snake]n', 'mah[great]v/i'),\n",
       " ('kumul[cumin]n', 'ganazi[plant]n'),\n",
       " ('lu[person]n', 'šub[fall]v/t'),\n",
       " ('hal[basket]n', 'guhšu[altar]n'),\n",
       " ('ašag[field]n', 'ninmug[1]dn'),\n",
       " ('lu[person]n', 'imria[clan]n'),\n",
       " ('niŋ[thing]n', 'ud[sun]n', 'sud[distant]v/i'),\n",
       " ('u[planking]n', 'ma[ship]n'),\n",
       " ('kaš[beer]n', 'sag[rare]v/i'),\n",
       " ('mu[name]n', 'gu[voice]n', 'de[pour]v/t'),\n",
       " ('saŋ[head]n', 'garaš[leek]n'),\n",
       " ('ugula[overseer]n', 'e[house]n', 'ereš[lady]n'),\n",
       " ('a[water]n', 'niŋhuša[pitfall]n'),\n",
       " ('siki[hair]n', 'gud[ox]n'),\n",
       " ('bulug[needle]n', 'nukirik[gardener]n'),\n",
       " ('har[ring]n', 'ib[hips]n'),\n",
       " ('gag[nail]n', 'papah[cella]n'),\n",
       " ('kiri[nose]n', 'haz[cover]n'),\n",
       " ('bisaŋ[basket]n', 'nushu[container]n'),\n",
       " ('munus[woman]n', 'isur[presser]n'),\n",
       " ('udu[sheep]n', 'tu[~sheep]aj'),\n",
       " ('ma[ship]n', 'laga[slag]n'),\n",
       " ('e[house]n', 'sikil[pure]v/i'),\n",
       " ('udu[sheep]n', 'du[suitable]v/i'),\n",
       " ('udu[sheep]n', 'bar[outside]n', 'babbar[white]v/i'),\n",
       " ('ašag[field]n', 'dud[mound]n'),\n",
       " ('ŋeštin[vine]n', 'nim[high]v/i'),\n",
       " ('lu[person]n', 'dub[knee]n', 'dub[tremble]v/t'),\n",
       " ('siki[hair]n', 'tug[textile]n', 'lugal[king]n'),\n",
       " ('sigsig[musical-instrument]n', 'pa[branch]n', 'mušen[bird]n'),\n",
       " ('šatam[official]n', 'nakamtum[storehouse]n'),\n",
       " ('har[ring]n', 'šu[hand]n', 'kugbabbar[silver]n'),\n",
       " ('ab[cow]n', 'kun[tail]n', 'babbar[white]v/i'),\n",
       " ('u[ewe]n', 'ŋeš[penis]n', 'zu[know]v/t'),\n",
       " ('siki[hair]n', 'šudum[warp]n'),\n",
       " ('kug[metal]n', 'namtaba[companionship]n'),\n",
       " ('gana[field]n', 'il[worker]n'),\n",
       " ('sila[lamb]n', 'peš[thick]v/i', 'kurušda[fattener]n'),\n",
       " ('uzud[goat]n', 'šag[heart]n', 'sur[press]v/t'),\n",
       " ('inun[ghee]n', 'dug[good]v/i'),\n",
       " ('nunuz[egg]n', 'tab[double]v/t'),\n",
       " ('er[tears]n', 'balaŋ[instrument]n'),\n",
       " ('e[house]n', 'ebgal[oval]n'),\n",
       " ('šu[hand]n', 'alim[bison]n'),\n",
       " ('dagan[totality]n', 'min[two]nu'),\n",
       " ('dida[wort]n', 'ŋen[go]v/i'),\n",
       " ('haš[thigh]n', 'gig[sick]v/i'),\n",
       " ('duggan[bag]n', 'mun[salt]v/i'),\n",
       " ('mi[cvne]n', 'zid[right]v/i'),\n",
       " ('munus[woman]n', 'lu[person]n', 'lungak[brewer]n'),\n",
       " ('tug[textile]n', 'aguhum[clothing]n'),\n",
       " ('guhaš[nape]n', 'gig[sick]v/i'),\n",
       " ('šugur[ring]n', 'kugsig[gold]n'),\n",
       " ('dula[depth]n', 'ig[door]n'),\n",
       " ('inim[word]n', 'šu[hand]n', 'gi[turn]v/i'),\n",
       " ('ninda[bread]n', 'gur[thick]v/i', 'zidmilla[flour]n'),\n",
       " ('šed[defecate]v/t', 'ŋeštug[ear]n'),\n",
       " ('šu[hand]n', 'hili[attractiveness]n'),\n",
       " ('e[house]n', 'sabar[net]n'),\n",
       " ('an[sky]n', 'sud[distant]v/i'),\n",
       " ('niŋlam[garment]n', 'huš[reddish]v/i'),\n",
       " ('dud[combat]n', 'mu[grow]v/i'),\n",
       " ('ŋiri[dagger]n', 'ašgab[leatherworker]n'),\n",
       " ('tug[textile]n', 'kišig[acacia]n', 'ur[drag]v/t'),\n",
       " ('udu[sheep]n', 'zusik[plucking]n'),\n",
       " ('gag[nail]n', 'eškiri[rope]n'),\n",
       " ('udu[sheep]n', 'ri[unmng]n'),\n",
       " ('mu[name]n', 'dari[eternal]v/i'),\n",
       " ('a[water]n', 'pusaŋ[pit]n'),\n",
       " ('igi[eye]n', 'šag[heart]n', 'ŋal[be]v/i'),\n",
       " ('kurgi[goose]n', 'nita[male]n'),\n",
       " ('šeg[brick]n', 'mun[salt]v/i'),\n",
       " ('šatam[official]n', 'kan[gate]n', 'egal[palace]n'),\n",
       " ('ŋiri[dagger]n', 'gal[big]v/i'),\n",
       " ('lu[person]n', 'inim[word]n', 'bala[turn]v/t'),\n",
       " ('a[water]n', 'anzag[horizon]n', 'zu[know]v/i'),\n",
       " ('kuš[skin]n', 'šegin[glue]n', 'kugsig[gold]n'),\n",
       " ('ki[place]n', 'ane[he]ip'),\n",
       " ('ŋeškim[sign]n', 'til[complete]v/i'),\n",
       " ('ig[door]n', 'gi[thicket]n', 'guruš[cut]v/t'),\n",
       " ('lu[person]n', 'šu[hand]n', 'rah[beat]v/t'),\n",
       " ('si[horn]n', 'ma[ship]n'),\n",
       " ('tu[soup]n', 'adar[plant]n'),\n",
       " ('lu[person]n', 'e[leave]v/i'),\n",
       " ('ašag[field]n', 'dud[mound]n', 'uzud[goat]n'),\n",
       " ('zid[flour]n', 'ziddubdub[flour-heap]n'),\n",
       " ('lu[person]n', 'ene[pleasure?]n', 'dug[speak]v/t'),\n",
       " ('esir[shoe]n', 'eban[pair]n'),\n",
       " ('kin[sickle]n', 'aʾašŋar[ax]n'),\n",
       " ('na[stone]n', 'sissig[green]v/i'),\n",
       " ('muš[snake]n', 'a[water]n'),\n",
       " ('peš[fig]n', 'sissig[green]v/i'),\n",
       " ('lu[person]n', 'barhuda[tool]n'),\n",
       " ('e[house]n', 'gana[field]n', 'bar[outside]n'),\n",
       " ('kuš[skin]n', 'balaŋ[instrument]n'),\n",
       " ('gu[neck]n', 'gin[firm]v/i'),\n",
       " ('pešmur[date-palm-spine]n', 'ŋešnimbar[palm]n'),\n",
       " ('udu[sheep]n', 'šu[hand]n', 'bal[dig]v/t'),\n",
       " ('ašag[field]n', 'buru[harvest]n', 'mah[great]v/i', 'enlil[1]dn'),\n",
       " ('mar[shovel]n', 'še[barley]n'),\n",
       " ('lu[person]n', 'silim[healthy]v/i', 'dug[speak]v/t', 'ak[do]v/t'),\n",
       " ('agaʾus[soldier]n', 'nisku[retainer]n'),\n",
       " ('gudug[priest]n', 'zi[life]n', 'kur[enter]v/i'),\n",
       " ('gudug[priest]n', 'bala[turn]v/i', 'gub[stand]v/i'),\n",
       " ('tug[textile]n', 'niŋba[gift]n'),\n",
       " ('a[water]n', 'zag[side]n', 'la[stretch]v/t'),\n",
       " ('ŋeštin[vine]n', 'šu[hand]n', 'ur[drag]v/t'),\n",
       " ('lu[person]n', 'a[water]n', 'naŋ[drink]v/t'),\n",
       " ('gag[nail]n', 'šidim[builder]n'),\n",
       " ('tu[soup]n', 'gugala[chickpea?]n'),\n",
       " ('gigur[container]n', 'ki[place]n', 'gub[stand]v/i'),\n",
       " ('saŋkul[bolt]n', 'nim[high]v/i'),\n",
       " ('ušub[brick-mold]n', 'šeg[brick]n'),\n",
       " ('sumun[vessel]n', 'zulum[date]n', 'hi[mix]v/t'),\n",
       " ('šibir[staff]n', 'šudu[equipped]aj'),\n",
       " ('šagadu[belt]n', 'gada[flax]n'),\n",
       " ('saŋkul[bolt]n', 'la[hang]v/t'),\n",
       " ('gu[voice]n', 'de[pour]v/t'),\n",
       " ('uhin[date]n', 'sissig[green]v/i'),\n",
       " ('gibil[firewood]n', 'ak[do]v/t'),\n",
       " ('siki[hair]n', 'tunbar[moustache]n'),\n",
       " ('lu[person]n', 'šag[heart]n', 'sikil[pure]v/i'),\n",
       " ('kag[mouth]n', 'taka[abandon]v/t'),\n",
       " ('ma[ship]n', 'lugal[king]n'),\n",
       " ('udu[sheep]n', 'šurum[litter]n'),\n",
       " ('ninda[bread]n', 'šuʾi[barber]n'),\n",
       " ('dilim[spoon]n', 'mar[shovel]n'),\n",
       " ('na[stone]n', 'sa[half]n', 'mana[unit]n'),\n",
       " ('na[stone]n', 'giggi[black]v/i'),\n",
       " ('garig[comb]n', 'šuʾi[barber]n'),\n",
       " ('gu[neck]n', 'saŋ[head]n', 'kud[cut]v/t'),\n",
       " ('ŋešnu[light]n', 'gal[big]v/i'),\n",
       " ('šeg[brick]n', 'du[build]v/t'),\n",
       " ('gaba[chest]n', 'daŋal[wide]v/i'),\n",
       " ('ŋi[night]n', 'zal[pass]v/t'),\n",
       " ('nir[stone]n', 'alal[wood?]n'),\n",
       " ('na[stone]n', 'ya[five]nu', 'mana[unit]n'),\n",
       " ('udu[sheep]n', 'ib[hips]n', 'gig[sick]v/i'),\n",
       " ('ah[spittle]n', 'kiri[nose]n'),\n",
       " ('ŋešabak[tree]n', 'meluhha[1]gn'),\n",
       " ('ugula[overseer]n', 'e[house]n'),\n",
       " ('kaš[beer]n', 'lullubi[1]gn'),\n",
       " ('u[ewe]n', 'peš[thick]v/i'),\n",
       " ('kišib[seal]n', 'ŋešnugal[alabaster]n'),\n",
       " ('kisal[courtyard]n', 'luh[clean]v/t'),\n",
       " ('eš[rope]n', 'šusar[string]n', 'anta[upper]v/t'),\n",
       " ('nar[musician]n', 'tur[small]v/i'),\n",
       " ('munus[woman]n', 'iginuŋal[blind]aj'),\n",
       " ('šukur[lance]n', 'kugbabbar[silver]n'),\n",
       " ('asura[water]n', 'sig[weak]v/i'),\n",
       " ('heše[oppressed]v/i', 'de[carry]v/t'),\n",
       " ('gi[thicket]n', 'ša[snap]v/t'),\n",
       " ('gag[nail]n', 'niŋŋeštug[~plow]n', 'apin[plow]n'),\n",
       " ('ad.kid[weaver]n', 'gal[big]v/i'),\n",
       " ('ŋeštin[vine]n', 'igi[eye]n', 'saŋ[choose]v/t'),\n",
       " ('nisig[greenery]n', 'tabba[vegetable?]n'),\n",
       " ('ašag[field]n', 'ŋarim[meadow]n', 'murub[middle]n'),\n",
       " ('lu[person]n', 'numun[seed]n', 'ŋar[place]v/t'),\n",
       " ('a[water]n', 'zag[side]n', 'gu[neck]n'),\n",
       " ('meze[jaw]n', 'gid[long]v/i'),\n",
       " ('ŋissu[shade]n', 'gi[turn]v/i'),\n",
       " ('u[and]n', 'menden[we]ip', 'menden[we]ip'),\n",
       " ('eme[donkey]n', 'šag[heart]n', 'sur[press]v/t'),\n",
       " ('mu[year]n', 'bala[turn]v/i'),\n",
       " ('gud[ox]n', 'dumu[child]n', 'utu[1]dn'),\n",
       " ('e[house]n', 'usan[whip]n', 'gigir[chariot]n'),\n",
       " ('hašhur[apple]n', 'kurdilum[fruit-tree]n'),\n",
       " ('sipar[implement]n', 'sig[weak]v/i'),\n",
       " ('gihan[basket]n', 'kud[fish]n'),\n",
       " ('zena[midrib]n', 'ŋešnimbar[palm]n'),\n",
       " ('saŋ[head]n', 'gunu[speckled]v/i'),\n",
       " ('gaba[chest]n', 'rah[beat]v/t'),\n",
       " ('ud[sun]n', 'marah[unmng]n'),\n",
       " ('numun[seed]n', 'usuh[tree]n'),\n",
       " ('ŋešnud[bed]n', 'šagkal[tree]n'),\n",
       " ('na[stone]n', 'sa[half]n', 'giŋ[unit-of-weight]n'),\n",
       " ('šeg[brick]n', 'dal[line]n', 'ŋar[place]v/t'),\n",
       " ('mada[land]n', 'elam[1]gn'),\n",
       " ('lu[person]n', 'guria[cry]n'),\n",
       " ('agaʾus[soldier]n', 'bala[turn]v/t'),\n",
       " ('udu[sheep]n', 'u[grass]n'),\n",
       " ('niŋ[thing]n', 'libir[old]v/i'),\n",
       " ('munu[malt]n', 'us[follow]v/t'),\n",
       " ('lu[person]n', 'sa[sinew]n', 'dugdugurhi[dead]v/i'),\n",
       " ('hili[attractiveness]n', 'su[sprinkle]v/t'),\n",
       " ('saŋšu[turban]n', 'aguhum[clothing]n'),\n",
       " ('lu[person]n', 'zu[know]v/t'),\n",
       " ('lu[person]n', 'hulu[bad]v/i', 'gig[sick]v/i'),\n",
       " ('ennuŋ[imprisonment]n', 'murub[middle]n'),\n",
       " ('peš[fig]n', 'babbar[white]v/i'),\n",
       " ('sahargi[dust-guard]n', 'gigir[chariot]n'),\n",
       " ('uhin[date]n', 'kud[sweet]v/i'),\n",
       " ('kamkammatum[earring]n', 'kugsig[gold]n'),\n",
       " ('al[hoe]n', 'ki[place]n'),\n",
       " ('a[water]n', 'šu[hand]n', 'min[two]nu', 'bala[turn]v/i'),\n",
       " ('ukuš[cucumber]n', 'dar[split]v/t'),\n",
       " ('guza[chair]n', 'kadu[cover]n', 'du[build]v/t'),\n",
       " ('lu[person]n', 'mušme[face]n'),\n",
       " ('tukul[weapon]n', 'ur[root]n'),\n",
       " ('nukirik[gardener]n', 'ŋušur[harrow]n'),\n",
       " ('lu[person]n', 'nam[fate]n', 'e[leave]v/i'),\n",
       " ('sukkal[secretary]n', 'namdumu[status]n'),\n",
       " ('muhaldim[cook]n', 'maš[goat]n', 'gud[ox]n'),\n",
       " ('na[stone]n', 'ninnu[fifty]nu', 'mana[unit]n'),\n",
       " ('še[barley]n', 'zar[sheaf]n'),\n",
       " ('ŋiri[dagger]n', 'tur[be-small]v/i'),\n",
       " ('lu[person]n', 'inu[straw]n', 'ed[ascend]v/i'),\n",
       " ('karkid[prostitute]n', 'gi[thicket]n', 'tete[disease]n'),\n",
       " ('hašhur[apple]n', 'šeʾeštub[barley]n'),\n",
       " ('lu[person]n', 'niŋkur[hostility]n', 'di[speak]v/t'),\n",
       " ('gi[thicket]n', 'nisig[greenery]n'),\n",
       " ('ašag[field]n', 'šu[hand]n', 'zid[right]v/i', 'an[1]dn'),\n",
       " ('e[house]n', 'us[follow]v/t'),\n",
       " ('bisaŋ[basket]n', 'ninda[bread]n', 'gur[thick]v/i'),\n",
       " ('mar[shovel]n', 'ninda[bread]n', 'sag[rare]v/i'),\n",
       " ('lu[person]n', 'gur[thick]v/i'),\n",
       " ('lu[person]n', 'tug[textile]n', 'a[water]n', 'gi[turn]v/i'),\n",
       " ('emesig[plank]n', 'apin[plow]n'),\n",
       " ('par[canal]n', 'mada[land]n'),\n",
       " ('ŋešnimbar[palm]n', 'nim[high]v/i'),\n",
       " ('e[house]n', 'uš[foundation]n', 'gid[long]v/i'),\n",
       " ('e[house]n', 'ab[sea]n', 'šag[heart]n', 'la[stretch]v/t'),\n",
       " ('dur[ax]n', 'dili[single]v/i'),\n",
       " ('siki[hair]n', 'gu[cord]n', 'kešed[bind]v/t'),\n",
       " ('sumun[vessel]n', 'sur[press]v/t'),\n",
       " ('lu[person]n', 'ka.e₂.gal[slander]n'),\n",
       " ('hal[basket]n', 'kud[fish]n'),\n",
       " ('ŋaʾe[i]ip', 'me[be]v/i'),\n",
       " ('munus[woman]n', 'siki[hair]n', 'guz[tufted]v/i'),\n",
       " ('lu[person]n', 'ŋeš[tree]n', 'tuku[acquire]v/t'),\n",
       " ('muš[snake]n', 'sahar[soil]n'),\n",
       " ('e[house]n', 'lu[person]n', 'du[build]v/t'),\n",
       " ('lu[person]n', 'tirida[runaway]n', 'tehi[approach]v/t'),\n",
       " ('šu[hand]n', 'mah[great]v/i', 'gid[drag]v/t'),\n",
       " ('lu[person]n', 'namašgab[leatherworking]n'),\n",
       " ('tuše[drapes]n', 'lugal[king]n'),\n",
       " ('duh[bran]n', 'hahala[comestible]n'),\n",
       " ('gu[neck]n', 'mer[cvve]v/t'),\n",
       " ('nar[musician]n', 'gal[big]v/i'),\n",
       " ('a[water]n', 'naŋa[potash]n'),\n",
       " ('šag[heart]n', 'igi[eye]n'),\n",
       " ('ul[swell]v/i', 'gur[lift]v/t'),\n",
       " ('uzu[flesh]n', 'imma[vulva]n'),\n",
       " ('lu[person]n', 'niŋkur[hostility]n'),\n",
       " ('gu[neck]n', 'dub[tremble]v/t'),\n",
       " ...]"
      ]
     },
     "execution_count": 21,
     "metadata": {},
     "output_type": "execute_result"
    }
   ],
   "source": [
    "lex_vocab_l"
   ]
  },
  {
   "cell_type": "code",
   "execution_count": 25,
   "metadata": {},
   "outputs": [],
   "source": [
    "for item in lex_vocab_l:\n",
    "    tokenizer.add_mwe(item)"
   ]
  },
  {
   "cell_type": "code",
   "execution_count": 27,
   "metadata": {},
   "outputs": [
    {
     "data": {
      "text/plain": [
       "['apin[plow]n_ki[place]n_bala[turn]v/i',\n",
       " 'engar',\n",
       " 'na[stone]n_diš[one]nu_mana[unit]n']"
      ]
     },
     "execution_count": 27,
     "metadata": {},
     "output_type": "execute_result"
    }
   ],
   "source": [
    "l = \"apin[plow]n ki[place]n bala[turn]v/i engar na[stone]n diš[one]nu mana[unit]n\"\n",
    "tokenizer.tokenize(l.split())"
   ]
  },
  {
   "cell_type": "markdown",
   "metadata": {},
   "source": [
    "now tokenize each line of ETCSL text by using the tokenizer. Could potentially be written as a list comprehension."
   ]
  },
  {
   "cell_type": "code",
   "execution_count": null,
   "metadata": {},
   "outputs": [],
   "source": []
  },
  {
   "cell_type": "code",
   "execution_count": null,
   "metadata": {},
   "outputs": [],
   "source": [
    "newlines = []\n",
    "for line in etcsl[\"lemma\"]:\n",
    "    tok = tokenizer.tokenize(line.split())\n",
    "    newlines.append(tok)"
   ]
  },
  {
   "cell_type": "markdown",
   "metadata": {},
   "source": [
    "# Digging Deeper\n",
    "In order to research the relationship between lexical and literary material in more detail we first organize both corpora in a Document Term Matrix.\n",
    "\n",
    "Both corpora are currently organized by line. The `aggregate` function assembles the lines that belong to a single composition. The resulting dataframe has 394 entries for ETCSL, one for each composition. For the lexical material we select the most important lexical compositions from Nippur in their standard format (composite texts)."
   ]
  },
  {
   "cell_type": "code",
   "execution_count": null,
   "metadata": {},
   "outputs": [],
   "source": [
    "corpus_lit = etcsl.groupby(\n",
    "    [etcsl[\"id_text\"]]).aggregate(\n",
    "    {\"lemma\": \" \".join}).reset_index()"
   ]
  },
  {
   "cell_type": "markdown",
   "metadata": {},
   "source": [
    "### 2.1 Select Lexical Compositions\n",
    "Select the following compositions: \n",
    "* Ura 1 dcclt/Q000039\n",
    "* Ura 2 dcclt/Q000040\n",
    "* Ura 3 dcclt/Q000001\n",
    "* Ura 4 dcclt/Q000041\n",
    "* Ura 5 dcclt/Q000042\n",
    "* Ura 6 dcclt/Q000043\n",
    "* Lu₂-Azlag₂ B/C Q000302 \n",
    "* Ugumu dcclt/Q000268\n",
    "* Diri dcclt/Q000057\n",
    "* Nigga dcclt/Q000052\n",
    "* Izi dcclt/Q000050\n",
    "* Kagal dcclt/Q000048\n",
    "* Lu dcclt/Q000047\n",
    "* Ea dcclt/Q000055"
   ]
  },
  {
   "cell_type": "code",
   "execution_count": null,
   "metadata": {},
   "outputs": [],
   "source": [
    "keep = [\"dcclt/Q000039\", \n",
    "    \"dcclt/Q000040\",\n",
    "    \"dcclt/Q000001\",\n",
    "    \"dcclt/Q000041\",\n",
    "    \"dcclt/Q000042\",\n",
    "    \"dcclt/Q000043\",\n",
    "    \"dcclt/Q000302 \",\n",
    "    \"dcclt/Q000268\",\n",
    "    \"dcclt/Q000057\",\n",
    "    \"dcclt/Q000052\",\n",
    "    \"dcclt/Q000050\",\n",
    "    \"dcclt/Q000048\",\n",
    "    \"dcclt/Q000047\"]\n",
    "lexical = lexical.loc[lexical[\"id_text\"].isin(keep)]"
   ]
  },
  {
   "cell_type": "code",
   "execution_count": null,
   "metadata": {},
   "outputs": [],
   "source": [
    "lexical[\"lemma\"] = [lem.replace(' ', '*') for lem in lexical[\"lemma\"]]\n",
    "lexical"
   ]
  },
  {
   "cell_type": "code",
   "execution_count": null,
   "metadata": {},
   "outputs": [],
   "source": [
    "corpus_lex = lexical.groupby(\n",
    "    [lexical[\"id_text\"]]).aggregate(\n",
    "    {\"lemma\": \" \".join}).reset_index()"
   ]
  },
  {
   "cell_type": "code",
   "execution_count": null,
   "metadata": {},
   "outputs": [],
   "source": [
    "corpus_lex"
   ]
  },
  {
   "cell_type": "markdown",
   "metadata": {},
   "source": [
    "corpus = pd.concat([corpus_lit, corpus_lex], ignore_index=True)\n",
    "corpus"
   ]
  },
  {
   "cell_type": "markdown",
   "metadata": {},
   "source": [
    "# Document Term Matrix\n",
    "The corpus is transformed into a Document Term Matrix (or DTM) in which each word (or expression) is a column and each row a Sumerian composition. The lexical vocabulary is used as a filter (only words that appear in the lexical texts are allowed in the DTM).\n",
    "\n",
    "Use CountVectorizer (from Sklearn) to initiate the DTM. The `token_pattern` indicates what a word looks like and what signals the end of a word. In modern corpora this can be fairly complex (including spaces, commas, full stops, etc.) but in the current corpus a space will always separate one token from the next. The regex `r'[^ ]+'` means \"any sequence of characters, except space\". Sequences of lemmas that were identified as lexical entries are connected by asterisks and are thus considered single tokens.\n",
    "\n",
    "Transform the DTM to a dataframe."
   ]
  },
  {
   "cell_type": "code",
   "execution_count": null,
   "metadata": {},
   "outputs": [],
   "source": [
    "cv = CountVectorizer(analyzer='word', token_pattern=r'[^ ]+', binary = False)\n",
    "dtm = cv.fit_transform(corpus['lemma'])\n",
    "corpus_df = pd.DataFrame(dtm.toarray(), columns= cv.get_feature_names(), index=corpus[\"id_text\"])"
   ]
  },
  {
   "cell_type": "code",
   "execution_count": null,
   "metadata": {
    "scrolled": true
   },
   "outputs": [],
   "source": [
    "corpus_df"
   ]
  },
  {
   "cell_type": "markdown",
   "metadata": {},
   "source": [
    "# Remove Short Texts\n",
    "Some literary texts only have a few words - either because the text is found on a very fragemnetary tablet, or because the composition is known only from a catalogue. Such short texts are likely to distoprt the analysis because every match with a lexical entry will have outsize significance. We can count the number of lemmas in a composition by adding up the numbers in a row with the command `.sum(axis=1)` (for column sums use `axis=0`)."
   ]
  },
  {
   "cell_type": "code",
   "execution_count": null,
   "metadata": {},
   "outputs": [],
   "source": [
    "minimum = 50\n",
    "corpus_df = corpus_df.loc[corpus_df.sum(axis=1) > minimum, corpus_df.sum(axis=0) > 0]\n",
    "corpus_df"
   ]
  },
  {
   "cell_type": "markdown",
   "metadata": {},
   "source": [
    "# Remove Unlemmatized Words"
   ]
  },
  {
   "cell_type": "code",
   "execution_count": null,
   "metadata": {},
   "outputs": [],
   "source": [
    "lemmas = corpus_df.columns\n",
    "drop = [lemma for lemma in lemmas if \"[na]na\" in lemma]\n",
    "corpus_df = corpus_df.drop(drop, axis=1)"
   ]
  },
  {
   "cell_type": "code",
   "execution_count": null,
   "metadata": {},
   "outputs": [],
   "source": [
    "corpus_df.shape"
   ]
  },
  {
   "cell_type": "markdown",
   "metadata": {},
   "source": [
    "# Comparing\n",
    "We can now start to ask questions of our DTM by comparing the vocabularies. "
   ]
  },
  {
   "cell_type": "code",
   "execution_count": null,
   "metadata": {},
   "outputs": [],
   "source": [
    "lit = [id for id in corpus_df.index.values if id[:5] != \"dcclt\"]\n",
    "lit_df = corpus_df.loc[lit, :]"
   ]
  },
  {
   "cell_type": "code",
   "execution_count": null,
   "metadata": {},
   "outputs": [],
   "source": [
    "lit_df = lit_df.loc[ : , lit_df.sum(axis=0) != 0]"
   ]
  },
  {
   "cell_type": "code",
   "execution_count": null,
   "metadata": {},
   "outputs": [],
   "source": [
    "lit_df.shape"
   ]
  },
  {
   "cell_type": "code",
   "execution_count": null,
   "metadata": {},
   "outputs": [],
   "source": [
    "lex = [id for id in corpus_df.index.values if id[:5] == \"dcclt\"]\n",
    "lex_df = corpus_df.loc[lex, : ]\n",
    "lex_df = lex_df.loc[ : , lex_df.sum(axis=0) != 0]\n",
    "lex_df.shape"
   ]
  },
  {
   "cell_type": "code",
   "execution_count": null,
   "metadata": {},
   "outputs": [],
   "source": [
    "lex_words = lex_df.columns\n",
    "lit_words = lit_df.columns"
   ]
  },
  {
   "cell_type": "code",
   "execution_count": null,
   "metadata": {},
   "outputs": [],
   "source": [
    "lit_in_lex = [word for word in lit_words if word in lex_words]"
   ]
  },
  {
   "cell_type": "code",
   "execution_count": null,
   "metadata": {},
   "outputs": [],
   "source": [
    "len(lit_in_lex)"
   ]
  },
  {
   "cell_type": "code",
   "execution_count": null,
   "metadata": {},
   "outputs": [],
   "source": [
    "lit_in_lex_df = lit_df[lit_in_lex]\n",
    "lit_in_lex_df"
   ]
  },
  {
   "cell_type": "markdown",
   "metadata": {},
   "source": [
    "Rare words (words that appear only once or twice) may be a strong indicator of a connection (either way) between the literary and the lexical corpus. We can reduce the dataframe to select only those rare words."
   ]
  },
  {
   "cell_type": "code",
   "execution_count": null,
   "metadata": {},
   "outputs": [],
   "source": [
    "rare_n = 2\n",
    "rare = lit_in_lex_df.loc[ : , lit_in_lex_df.sum(axis=0) <= 2]\n",
    "rare.shape"
   ]
  },
  {
   "cell_type": "markdown",
   "metadata": {},
   "source": [
    "# Which literary texts share many rare words with the lexical corpus?"
   ]
  },
  {
   "cell_type": "code",
   "execution_count": null,
   "metadata": {
    "scrolled": true
   },
   "outputs": [],
   "source": [
    "idx = rare.sum(axis=1).sort_values(ascending=False).index\n",
    "rare.loc[idx, : ]"
   ]
  },
  {
   "cell_type": "markdown",
   "metadata": {},
   "source": [
    "# Retrieve composition names\n",
    "Composition names are available in the original `etcsl` dataframe. Retrieve `id_text` and `text_name` from that dataframe and merge this with the dataframe `rare` by using `id_text` as index."
   ]
  },
  {
   "cell_type": "code",
   "execution_count": null,
   "metadata": {},
   "outputs": [],
   "source": [
    "id_name = etcsl[[\"id_text\", \"text_name\"]].drop_duplicates().set_index(\"id_text\")"
   ]
  },
  {
   "cell_type": "code",
   "execution_count": null,
   "metadata": {},
   "outputs": [],
   "source": [
    "merged = pd.merge(rare, id_name, left_index=True, right_index=True, how='inner')\n",
    "merged.loc[idx]"
   ]
  },
  {
   "cell_type": "markdown",
   "metadata": {},
   "source": [
    "This shows that Ninurta's Exploits has the largest number of such rare words, shared with lexical texts. "
   ]
  },
  {
   "cell_type": "code",
   "execution_count": null,
   "metadata": {},
   "outputs": [],
   "source": [
    "idx = merged.sum(axis=1, numeric_only=True).sort_values(ascending = False).index\n",
    "merged.loc[idx]"
   ]
  },
  {
   "cell_type": "code",
   "execution_count": null,
   "metadata": {},
   "outputs": [],
   "source": []
  },
  {
   "cell_type": "code",
   "execution_count": null,
   "metadata": {},
   "outputs": [],
   "source": [
    "m"
   ]
  },
  {
   "cell_type": "markdown",
   "metadata": {},
   "source": [
    "# Words in Lexical Texts not in ETCSL\n",
    "If a word or expression in the lexical corpus is never used in the literary texts from [ETCSL](http://etcsl.orinst.ox.ac.uk/) the sum of its column will be `0`.\n",
    "\n",
    "Give the number of columns (the number of unique words and expressions in the lexical texts), the number of words/expressions never used in the ETCSL corpus and the relation between those two numbers in percent."
   ]
  },
  {
   "cell_type": "code",
   "execution_count": null,
   "metadata": {},
   "outputs": [],
   "source": [
    "lex_not_in_etcsl = etcsl_df.loc[:, etcsl_df.sum()==0]\n",
    "len(etcsl_df.columns), len(lex_not_in_etcsl.columns), str(len(lex_not_in_etcsl.columns)/len(etcsl_df.columns)*100) + \"%\""
   ]
  },
  {
   "cell_type": "markdown",
   "metadata": {},
   "source": [
    "# Simplify\n",
    "The above may be an overly complex way of doing it.\n",
    "Alternative: make a full dtm of etcsl (without a vocabulary constraint); make the etcsl vocabulary and lexical vocabulary into sets that can be subtracted from each other."
   ]
  },
  {
   "cell_type": "code",
   "execution_count": null,
   "metadata": {},
   "outputs": [],
   "source": [
    "cv = CountVectorizer(analyzer='word', token_pattern=r'[^ ]+', binary = False)\n",
    "etcsl2_dtm = cv.fit_transform(corpus['text'])\n",
    "etcsl2_df = pd.DataFrame(etcsl2_dtm.toarray(), columns= cv.get_feature_names(), index=corpus[\"etcsl_no\"])\n",
    "etcsl_vocab_s = set(etcsl2_df.columns)\n",
    "lex_vocab_s = set(lex_vocab)\n",
    "diff_e_l = list(etcsl_vocab_s - lex_vocab_s)\n",
    "diff_l_e = list(lex_vocab_s - etcsl_vocab_s)"
   ]
  },
  {
   "cell_type": "code",
   "execution_count": null,
   "metadata": {},
   "outputs": [],
   "source": [
    "print(\"number of words/expressions in ETCSL \" + str(len(etcsl_vocab_s)))\n",
    "print(\"number of words/expressions in lexical texts \" + str(len(lex_vocab_s)))\n",
    "print(\"number of words/expressions in ETCSL not in lexical \" + str(len(diff_e_l)))\n",
    "print(\"number of words/expressions in lexical not in ETCSL \" + str(len(diff_l_e)))"
   ]
  },
  {
   "cell_type": "code",
   "execution_count": null,
   "metadata": {},
   "outputs": [],
   "source": [
    "plt.figure(figsize=(4,4))\n",
    "venn2([etcsl_vocab_s, lex_vocab_s], (\"literary\", \"lexical\"))\n",
    "plt.show()"
   ]
  },
  {
   "cell_type": "markdown",
   "metadata": {},
   "source": [
    "# Rare Words Shared by Lex and Lit\n",
    "Which words appear in Lex and in Lit but appear only once in Lit? In which composition do we find such words; which words are those?\n",
    "\n",
    "First create a dataframe (`rare`) that only has the columns that add up to `1` (word or expression appears only once in the corpus). The row totals of this dataframe indicate per composition (= row) how many such rare words they contain. These row totals are added as a separate column. The composition naes are extracted from the `corpus` dataframe created above. Finally the dataframe is sorted by the row totals.\n",
    "\n",
    "The dataframe `rare` includes columns for each of the words that appear only once. We are showing only the columns that identify the composition and the row totals."
   ]
  },
  {
   "cell_type": "code",
   "execution_count": null,
   "metadata": {},
   "outputs": [],
   "source": [
    "rare =etcsl_df.loc[:, etcsl_df.sum()==1].reset_index()\n",
    "rare[\"no. of unique lexical correspondences\"] = rare.sum(axis=1)\n",
    "rare[\"text_name\"] = corpus[\"text_name\"]\n",
    "rare = rare.sort_values('no. of unique lexical correspondences', ascending = False)\n",
    "rare.loc[:,[\"etcsl_no\", \"no. of unique lexical correspondences\", \"text_name\"]]"
   ]
  },
  {
   "cell_type": "markdown",
   "metadata": {},
   "source": [
    "# Which Words?\n",
    "Which are the rare words that define this list of compositions? We first extract the full list of words from the column names of the daraframe `rare`. The variable `words` is a Numpy array that contains strings."
   ]
  },
  {
   "cell_type": "code",
   "execution_count": null,
   "metadata": {},
   "outputs": [],
   "source": [
    "words = rare.columns.values\n",
    "len(words)"
   ]
  },
  {
   "cell_type": "markdown",
   "metadata": {},
   "source": [
    "# The rare words in the top-ten\n",
    "The first ten compositions in our list are the ones that have the most rare words shared with lexical texts. Each row, representing a composition, has columns that represent individual words. We create a `mask` (a sequence of boolean values `True` or `False`) that indicate whether or not the value in the column is 1. If the boolean is `True` the word is printed."
   ]
  },
  {
   "cell_type": "code",
   "execution_count": null,
   "metadata": {},
   "outputs": [],
   "source": [
    "for i in range(10):\n",
    "    indexes = rare.iloc[i] == 1\n",
    "    print(rare.iloc[i,-1]), print(words[indexes])"
   ]
  },
  {
   "cell_type": "code",
   "execution_count": null,
   "metadata": {},
   "outputs": [],
   "source": [
    "lexical[\"text\"] = lexical[\"text\"].str.replace(\" \", \"*\")\n",
    "lexical"
   ]
  },
  {
   "cell_type": "code",
   "execution_count": null,
   "metadata": {},
   "outputs": [],
   "source": [
    "lexical_corpus = lexical.groupby([lexical[\"id_text\"], \n",
    "                                  lexical[\"text_name\"]]).aggregate({\"text\": \" \".join}).reset_index()\n",
    "lexical_corpus"
   ]
  },
  {
   "cell_type": "code",
   "execution_count": null,
   "metadata": {},
   "outputs": [],
   "source": [
    "lexical_temp = lexical[[\"id_text\", \"id_line\", \"lemma\"]]"
   ]
  },
  {
   "cell_type": "code",
   "execution_count": null,
   "metadata": {},
   "outputs": [],
   "source": [
    "lexical_temp[lexical_temp[\"id_text\"]==\"dcclt/Q000001\"]"
   ]
  },
  {
   "cell_type": "code",
   "execution_count": null,
   "metadata": {},
   "outputs": [],
   "source": [
    "lexical = lexical.groupby([lexical['id_text'], lexical['id_line']]).agg({\n",
    "        'lemma': ' '.join,\n",
    "        'extent': ''.join\n",
    "    })"
   ]
  },
  {
   "cell_type": "code",
   "execution_count": null,
   "metadata": {},
   "outputs": [],
   "source": []
  },
  {
   "cell_type": "code",
   "execution_count": null,
   "metadata": {},
   "outputs": [],
   "source": []
  }
 ],
 "metadata": {
  "kernelspec": {
   "display_name": "Python 3",
   "language": "python",
   "name": "python3"
  },
  "language_info": {
   "codemirror_mode": {
    "name": "ipython",
    "version": 3
   },
   "file_extension": ".py",
   "mimetype": "text/x-python",
   "name": "python",
   "nbconvert_exporter": "python",
   "pygments_lexer": "ipython3",
   "version": "3.7.0"
  }
 },
 "nbformat": 4,
 "nbformat_minor": 2
}
