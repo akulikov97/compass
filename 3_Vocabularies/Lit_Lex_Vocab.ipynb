{
 "cells": [
  {
   "cell_type": "markdown",
   "metadata": {},
   "source": [
    "# Overlap in Lexical and Literary Vocabulary\n",
    "\n",
    "Comparing the vocabulary of Old Babylonian lexical texts (from Nippur) and the vocabulary of the Sumerian literary corpus as represented in [ETCSL](http://etcsl.orinst.ox.ac.uk/).\n",
    "\n",
    "## Preparation \n",
    "In order to run this notebook, parse the [DCCLT](http://oracc.org/dcclt) data with the Extended ORACC Parser (2.3.3) and the [ETCSL](http://etcsl.orinst.ox.ac.uk) data with the ETCSL Parser (2.4)."
   ]
  },
  {
   "cell_type": "code",
   "execution_count": 1,
   "metadata": {
    "collapsed": false
   },
   "outputs": [],
   "source": [
    "%matplotlib inline\n",
    "import pandas as pd\n",
    "import os\n",
    "from sklearn.feature_extraction.text import CountVectorizer\n",
    "from matplotlib import pyplot as plt\n",
    "from matplotlib_venn import venn2\n",
    "import tqdm\n",
    "import re"
   ]
  },
  {
   "cell_type": "markdown",
   "metadata": {},
   "source": [
    "# Read ETCSL Data Files\n",
    "Open the file `alltexts.csv` which contains all the [ETCSL](http://etcsl.orinst.ox.ac.uk) and read the data into a `Pandas`DataFrame. Each row is a word from [ETCSL](http://etcsl.orinst.ox.ac.uk/) in lemmatized format, according to [ePSD2](http://build-oracc.museum.upenn.edu/epsd2) standards."
   ]
  },
  {
   "cell_type": "code",
   "execution_count": 2,
   "metadata": {
    "collapsed": false
   },
   "outputs": [],
   "source": [
    "file = \"../2_4_Data_Acquisition_ETCSL/Output/alltexts.csv\"\n",
    "etcsl = pd.read_csv(file, keep_default_na=False)\n",
    "etcsl = etcsl.loc[etcsl[\"lang\"].str.contains(\"sux\")]  # throw out non-Sumerian words"
   ]
  },
  {
   "cell_type": "markdown",
   "metadata": {},
   "source": [
    "## Lemmas\n",
    "Create a lemmas column and lowercase all lemmas."
   ]
  },
  {
   "cell_type": "code",
   "execution_count": 3,
   "metadata": {
    "collapsed": false
   },
   "outputs": [],
   "source": [
    "etcsl[\"lemma\"] = etcsl.apply(lambda r: (r[\"cf\"] + '[' + r[\"gw\"] + ']' + r[\"pos\"]) \n",
    "                            if r[\"cf\"] != '' else r['form'] + '[NA]NA', axis=1)\n",
    "etcsl['lemma'] = [lemma if not lemma == '[NA]NA' else '' for lemma in etcsl['lemma'] ] \n",
    "# kick out empty forms\n",
    "etcsl[\"lemma\"] = etcsl[\"lemma\"].str.lower()"
   ]
  },
  {
   "cell_type": "markdown",
   "metadata": {},
   "source": [
    "# Read Lexical Data\n",
    "\n",
    "Essentially following the same process as in the preceding cell."
   ]
  },
  {
   "cell_type": "code",
   "execution_count": 25,
   "metadata": {
    "collapsed": false
   },
   "outputs": [],
   "source": [
    "file = \"../2_3_Data_Acquisition_ORACC/output/parsed.csv\"\n",
    "lexical = pd.read_csv(file, keep_default_na=False)\n",
    "lexical = lexical.loc[lexical[\"lang\"].str.contains(\"sux\")]"
   ]
  },
  {
   "cell_type": "code",
   "execution_count": 26,
   "metadata": {
    "collapsed": false
   },
   "outputs": [],
   "source": [
    "lexical[\"lemma\"] = lexical.apply(lambda r: (r[\"cf\"] + '[' + r[\"gw\"] + ']' + r[\"pos\"]) \n",
    "                            if r[\"cf\"] != '' else r['form'] + '[NA]NA', axis=1)\n",
    "lexical['lemma'] = [lemma if not lemma == '[NA]NA' else '' for lemma in lexical['lemma'] ] \n",
    "# kick out empty forms\n",
    "lexical[\"lemma\"] = lexical[\"lemma\"].str.lower()"
   ]
  },
  {
   "cell_type": "markdown",
   "metadata": {},
   "source": [
    "## Select Old Babylonian Texts"
   ]
  },
  {
   "cell_type": "code",
   "execution_count": 27,
   "metadata": {
    "collapsed": false
   },
   "outputs": [
    {
     "data": {
      "text/html": [
       "<div>\n",
       "<table border=\"1\" class=\"dataframe\">\n",
       "  <thead>\n",
       "    <tr style=\"text-align: right;\">\n",
       "      <th></th>\n",
       "      <th>designation</th>\n",
       "      <th>period</th>\n",
       "      <th>provenience</th>\n",
       "      <th>museum_no</th>\n",
       "      <th>project</th>\n",
       "      <th>id_text</th>\n",
       "    </tr>\n",
       "  </thead>\n",
       "  <tbody>\n",
       "    <tr>\n",
       "      <th>881</th>\n",
       "      <td>MVN 13, 621</td>\n",
       "      <td>Old Babylonian</td>\n",
       "      <td>uncertain</td>\n",
       "      <td>FLP 2062</td>\n",
       "      <td>dcclt</td>\n",
       "      <td>P117394</td>\n",
       "    </tr>\n",
       "    <tr>\n",
       "      <th>882</th>\n",
       "      <td>MVN 13, 622</td>\n",
       "      <td>Old Babylonian</td>\n",
       "      <td>uncertain</td>\n",
       "      <td>FLP 2075</td>\n",
       "      <td>dcclt</td>\n",
       "      <td>P117395</td>\n",
       "    </tr>\n",
       "    <tr>\n",
       "      <th>883</th>\n",
       "      <td>MVN 13, 623</td>\n",
       "      <td>Old Babylonian</td>\n",
       "      <td>uncertain</td>\n",
       "      <td>FLP 2076</td>\n",
       "      <td>dcclt</td>\n",
       "      <td>P117396</td>\n",
       "    </tr>\n",
       "    <tr>\n",
       "      <th>884</th>\n",
       "      <td>MVN 13, 624</td>\n",
       "      <td>Old Babylonian</td>\n",
       "      <td>uncertain</td>\n",
       "      <td>FLP 2101</td>\n",
       "      <td>dcclt</td>\n",
       "      <td>P117397</td>\n",
       "    </tr>\n",
       "    <tr>\n",
       "      <th>885</th>\n",
       "      <td>MVN 13, 631</td>\n",
       "      <td>Old Babylonian</td>\n",
       "      <td>uncertain</td>\n",
       "      <td>FLP 2060</td>\n",
       "      <td>dcclt</td>\n",
       "      <td>P117404</td>\n",
       "    </tr>\n",
       "    <tr>\n",
       "      <th>886</th>\n",
       "      <td>Rochester 248</td>\n",
       "      <td>Old Babylonian</td>\n",
       "      <td>uncertain</td>\n",
       "      <td>Crozer 195</td>\n",
       "      <td>dcclt</td>\n",
       "      <td>P128345</td>\n",
       "    </tr>\n",
       "    <tr>\n",
       "      <th>889</th>\n",
       "      <td>AAICAB 1/1, pl. 058, 1924-0519</td>\n",
       "      <td>Old Babylonian</td>\n",
       "      <td>Kiš</td>\n",
       "      <td>Ashm 1924-0519</td>\n",
       "      <td>dcclt</td>\n",
       "      <td>P142806</td>\n",
       "    </tr>\n",
       "    <tr>\n",
       "      <th>890</th>\n",
       "      <td>OLZ 17, 305 P371</td>\n",
       "      <td>Old Babylonian</td>\n",
       "      <td>uncertain</td>\n",
       "      <td>LB 0995</td>\n",
       "      <td>dcclt</td>\n",
       "      <td>P145550</td>\n",
       "    </tr>\n",
       "    <tr>\n",
       "      <th>891</th>\n",
       "      <td>Ontario 2, 505</td>\n",
       "      <td>Old Babylonian</td>\n",
       "      <td>uncertain</td>\n",
       "      <td>ROM 910x209.143</td>\n",
       "      <td>dcclt</td>\n",
       "      <td>P209775</td>\n",
       "    </tr>\n",
       "    <tr>\n",
       "      <th>892</th>\n",
       "      <td>Ontario 2, 496</td>\n",
       "      <td>Old Babylonian</td>\n",
       "      <td>uncertain</td>\n",
       "      <td>ROM 910x209.438</td>\n",
       "      <td>dcclt</td>\n",
       "      <td>P209812</td>\n",
       "    </tr>\n",
       "    <tr>\n",
       "      <th>893</th>\n",
       "      <td>Ontario 2, 499</td>\n",
       "      <td>Old Babylonian</td>\n",
       "      <td>uncertain</td>\n",
       "      <td>ROM 910x209.441</td>\n",
       "      <td>dcclt</td>\n",
       "      <td>P209815</td>\n",
       "    </tr>\n",
       "    <tr>\n",
       "      <th>894</th>\n",
       "      <td>Ontario 2, 502</td>\n",
       "      <td>Old Babylonian</td>\n",
       "      <td>uncertain</td>\n",
       "      <td>ROM 910x209.492</td>\n",
       "      <td>dcclt</td>\n",
       "      <td>P209818</td>\n",
       "    </tr>\n",
       "    <tr>\n",
       "      <th>895</th>\n",
       "      <td>Ontario 2, 504</td>\n",
       "      <td>Old Babylonian</td>\n",
       "      <td>uncertain</td>\n",
       "      <td>ROM 910x209.485</td>\n",
       "      <td>dcclt</td>\n",
       "      <td>P209820</td>\n",
       "    </tr>\n",
       "    <tr>\n",
       "      <th>896</th>\n",
       "      <td>HS 1278 + HS 1737</td>\n",
       "      <td>Old Babylonian</td>\n",
       "      <td>Nippur</td>\n",
       "      <td>HS 1278 + HS 1737</td>\n",
       "      <td>dcclt</td>\n",
       "      <td>P212382</td>\n",
       "    </tr>\n",
       "    <tr>\n",
       "      <th>916</th>\n",
       "      <td>SANTAG 7, 089</td>\n",
       "      <td>Old Babylonian</td>\n",
       "      <td>uncertain</td>\n",
       "      <td>TJ 4651</td>\n",
       "      <td>dcclt</td>\n",
       "      <td>P218164</td>\n",
       "    </tr>\n",
       "    <tr>\n",
       "      <th>918</th>\n",
       "      <td>SLT 113</td>\n",
       "      <td>Old Babylonian</td>\n",
       "      <td>Nippur</td>\n",
       "      <td>CBS 07845 + Ist Ni 01600 + Ist Ni 02528</td>\n",
       "      <td>dcclt</td>\n",
       "      <td>P218302</td>\n",
       "    </tr>\n",
       "    <tr>\n",
       "      <th>919</th>\n",
       "      <td>SLT 112</td>\n",
       "      <td>Old Babylonian</td>\n",
       "      <td>Nippur</td>\n",
       "      <td>CBS 06142 + CBS 07989 + UM 29-16-252 (+) UM 29...</td>\n",
       "      <td>dcclt</td>\n",
       "      <td>P218303</td>\n",
       "    </tr>\n",
       "    <tr>\n",
       "      <th>920</th>\n",
       "      <td>N 5566 + N 5583 + N 5651 + N 7441 + N 7454 (+)...</td>\n",
       "      <td>Old Babylonian</td>\n",
       "      <td>Nippur</td>\n",
       "      <td>N 5566 + N 5583 + N 5651 + N 7441 + N 7454 (+)...</td>\n",
       "      <td>dcclt</td>\n",
       "      <td>P218304</td>\n",
       "    </tr>\n",
       "    <tr>\n",
       "      <th>921</th>\n",
       "      <td>BM 058680</td>\n",
       "      <td>Old Babylonian</td>\n",
       "      <td>Sippar</td>\n",
       "      <td>BM 058680</td>\n",
       "      <td>dcclt</td>\n",
       "      <td>P218305</td>\n",
       "    </tr>\n",
       "    <tr>\n",
       "      <th>924</th>\n",
       "      <td>FAOS 02, 092</td>\n",
       "      <td>Old Babylonian</td>\n",
       "      <td>Kisurra</td>\n",
       "      <td></td>\n",
       "      <td>dcclt</td>\n",
       "      <td>P218309</td>\n",
       "    </tr>\n",
       "    <tr>\n",
       "      <th>925</th>\n",
       "      <td>UET 7, 0086</td>\n",
       "      <td>Old Babylonian</td>\n",
       "      <td>Ur</td>\n",
       "      <td>BM —</td>\n",
       "      <td>dcclt</td>\n",
       "      <td>P218310</td>\n",
       "    </tr>\n",
       "    <tr>\n",
       "      <th>935</th>\n",
       "      <td>BM 058580</td>\n",
       "      <td>Old Babylonian</td>\n",
       "      <td>uncertain</td>\n",
       "      <td>BM 058580</td>\n",
       "      <td>dcclt</td>\n",
       "      <td>P222943</td>\n",
       "    </tr>\n",
       "    <tr>\n",
       "      <th>937</th>\n",
       "      <td>RIAA 048</td>\n",
       "      <td>Old Babylonian</td>\n",
       "      <td>unclear</td>\n",
       "      <td>MRAH O.0121</td>\n",
       "      <td>dcclt</td>\n",
       "      <td>P222959</td>\n",
       "    </tr>\n",
       "    <tr>\n",
       "      <th>938</th>\n",
       "      <td>RIAA 050</td>\n",
       "      <td>Old Babylonian</td>\n",
       "      <td>unclear</td>\n",
       "      <td>MRAH O.0117</td>\n",
       "      <td>dcclt</td>\n",
       "      <td>P222960</td>\n",
       "    </tr>\n",
       "    <tr>\n",
       "      <th>939</th>\n",
       "      <td>TIM 09, 091</td>\n",
       "      <td>Old Babylonian</td>\n",
       "      <td>unclear</td>\n",
       "      <td>IM 002902</td>\n",
       "      <td>dcclt</td>\n",
       "      <td>P223386</td>\n",
       "    </tr>\n",
       "    <tr>\n",
       "      <th>940</th>\n",
       "      <td>TIM 09, 089</td>\n",
       "      <td>Old Babylonian</td>\n",
       "      <td>unclear</td>\n",
       "      <td>IM 010597</td>\n",
       "      <td>dcclt</td>\n",
       "      <td>P223393</td>\n",
       "    </tr>\n",
       "    <tr>\n",
       "      <th>941</th>\n",
       "      <td>TIM 09, 086</td>\n",
       "      <td>Old Babylonian</td>\n",
       "      <td>unclear</td>\n",
       "      <td>IM 011053,045</td>\n",
       "      <td>dcclt</td>\n",
       "      <td>P223397</td>\n",
       "    </tr>\n",
       "    <tr>\n",
       "      <th>942</th>\n",
       "      <td>TIM 09, 092</td>\n",
       "      <td>Old Babylonian</td>\n",
       "      <td>unclear</td>\n",
       "      <td>IM 011087,061</td>\n",
       "      <td>dcclt</td>\n",
       "      <td>P223410</td>\n",
       "    </tr>\n",
       "    <tr>\n",
       "      <th>943</th>\n",
       "      <td>TIM 09, 088</td>\n",
       "      <td>Old Babylonian</td>\n",
       "      <td>unclear</td>\n",
       "      <td>IM 013350</td>\n",
       "      <td>dcclt</td>\n",
       "      <td>P223417</td>\n",
       "    </tr>\n",
       "    <tr>\n",
       "      <th>944</th>\n",
       "      <td>TIM 09, 090</td>\n",
       "      <td>Old Babylonian</td>\n",
       "      <td>unclear</td>\n",
       "      <td>IM 013391</td>\n",
       "      <td>dcclt</td>\n",
       "      <td>P223421</td>\n",
       "    </tr>\n",
       "    <tr>\n",
       "      <th>...</th>\n",
       "      <td>...</td>\n",
       "      <td>...</td>\n",
       "      <td>...</td>\n",
       "      <td>...</td>\n",
       "      <td>...</td>\n",
       "      <td>...</td>\n",
       "    </tr>\n",
       "    <tr>\n",
       "      <th>9199</th>\n",
       "      <td>RA 018, 49ff</td>\n",
       "      <td>Old Babylonian</td>\n",
       "      <td>Susa</td>\n",
       "      <td></td>\n",
       "      <td>dcclt</td>\n",
       "      <td>X000844</td>\n",
       "    </tr>\n",
       "    <tr>\n",
       "      <th>9215</th>\n",
       "      <td>A 07738 V (+)</td>\n",
       "      <td>Old Babylonian</td>\n",
       "      <td>Diyala</td>\n",
       "      <td>A 07738 v (+) A 07738 u</td>\n",
       "      <td>dcclt</td>\n",
       "      <td>X010001</td>\n",
       "    </tr>\n",
       "    <tr>\n",
       "      <th>9223</th>\n",
       "      <td>Ist Ni 04844</td>\n",
       "      <td>Old Babylonian</td>\n",
       "      <td>Nippur</td>\n",
       "      <td>Ist Ni 04844</td>\n",
       "      <td>dcclt</td>\n",
       "      <td>X400001</td>\n",
       "    </tr>\n",
       "    <tr>\n",
       "      <th>9224</th>\n",
       "      <td>Ist Ni 02658</td>\n",
       "      <td>Old Babylonian</td>\n",
       "      <td>Nippur</td>\n",
       "      <td>Ist Ni 02658</td>\n",
       "      <td>dcclt</td>\n",
       "      <td>X400002</td>\n",
       "    </tr>\n",
       "    <tr>\n",
       "      <th>9225</th>\n",
       "      <td>Ist Ni 04606</td>\n",
       "      <td>Old Babylonian</td>\n",
       "      <td>Nippur</td>\n",
       "      <td>Ist Ni 04606</td>\n",
       "      <td>dcclt</td>\n",
       "      <td>X400003</td>\n",
       "    </tr>\n",
       "    <tr>\n",
       "      <th>9226</th>\n",
       "      <td>Ist Ni 05247</td>\n",
       "      <td>Old Babylonian</td>\n",
       "      <td>Nippur</td>\n",
       "      <td>Ist Ni 05247</td>\n",
       "      <td>dcclt</td>\n",
       "      <td>X400004</td>\n",
       "    </tr>\n",
       "    <tr>\n",
       "      <th>9227</th>\n",
       "      <td>Ist Ni 05318</td>\n",
       "      <td>Old Babylonian</td>\n",
       "      <td>Nippur</td>\n",
       "      <td>Ist Ni 05318</td>\n",
       "      <td>dcclt</td>\n",
       "      <td>X400005</td>\n",
       "    </tr>\n",
       "    <tr>\n",
       "      <th>9228</th>\n",
       "      <td>CBS 07827A</td>\n",
       "      <td>Old Babylonian</td>\n",
       "      <td>Nippur</td>\n",
       "      <td>CBS 07827A</td>\n",
       "      <td>dcclt</td>\n",
       "      <td>X400006</td>\n",
       "    </tr>\n",
       "    <tr>\n",
       "      <th>9229</th>\n",
       "      <td>Ist Ni 03287</td>\n",
       "      <td>Old Babylonian</td>\n",
       "      <td>Nippur</td>\n",
       "      <td>Ist Ni 03287</td>\n",
       "      <td>dcclt</td>\n",
       "      <td>X400007</td>\n",
       "    </tr>\n",
       "    <tr>\n",
       "      <th>9230</th>\n",
       "      <td>NABU 1987/017</td>\n",
       "      <td>Old Babylonian</td>\n",
       "      <td>unclear</td>\n",
       "      <td></td>\n",
       "      <td>dcclt</td>\n",
       "      <td>X400008</td>\n",
       "    </tr>\n",
       "    <tr>\n",
       "      <th>9231</th>\n",
       "      <td>Ist Ni 02658</td>\n",
       "      <td>Old Babylonian</td>\n",
       "      <td>Nippur</td>\n",
       "      <td>Ist Ni 02658</td>\n",
       "      <td>dcclt</td>\n",
       "      <td>X400009</td>\n",
       "    </tr>\n",
       "    <tr>\n",
       "      <th>9232</th>\n",
       "      <td>Ist Ni 04606</td>\n",
       "      <td>Old Babylonian</td>\n",
       "      <td>Nippur</td>\n",
       "      <td>Ist Ni 04606</td>\n",
       "      <td>dcclt</td>\n",
       "      <td>X400010</td>\n",
       "    </tr>\n",
       "    <tr>\n",
       "      <th>9233</th>\n",
       "      <td>Ist Ni 05247</td>\n",
       "      <td>Old Babylonian</td>\n",
       "      <td>Nippur</td>\n",
       "      <td>Ist Ni 05247</td>\n",
       "      <td>dcclt</td>\n",
       "      <td>X400011</td>\n",
       "    </tr>\n",
       "    <tr>\n",
       "      <th>9234</th>\n",
       "      <td>Ist Ni 05318</td>\n",
       "      <td>Old Babylonian</td>\n",
       "      <td>Nippur</td>\n",
       "      <td>Ist Ni 05318</td>\n",
       "      <td>dcclt</td>\n",
       "      <td>X400012</td>\n",
       "    </tr>\n",
       "    <tr>\n",
       "      <th>9235</th>\n",
       "      <td>Ist Ni 05318</td>\n",
       "      <td>Old Babylonian</td>\n",
       "      <td>Nippur</td>\n",
       "      <td>Ist Ni 03854</td>\n",
       "      <td>dcclt</td>\n",
       "      <td>X400013</td>\n",
       "    </tr>\n",
       "    <tr>\n",
       "      <th>9236</th>\n",
       "      <td>Ist Ni 03882</td>\n",
       "      <td>Old Babylonian</td>\n",
       "      <td>Nippur</td>\n",
       "      <td>Ist Ni 03882</td>\n",
       "      <td>dcclt</td>\n",
       "      <td>X400014</td>\n",
       "    </tr>\n",
       "    <tr>\n",
       "      <th>9237</th>\n",
       "      <td>Ist Ni 03910</td>\n",
       "      <td>Old Babylonian</td>\n",
       "      <td>Nippur</td>\n",
       "      <td>Ist Ni 03910</td>\n",
       "      <td>dcclt</td>\n",
       "      <td>X400015</td>\n",
       "    </tr>\n",
       "    <tr>\n",
       "      <th>9238</th>\n",
       "      <td>Ist Ni 03918</td>\n",
       "      <td>Old Babylonian</td>\n",
       "      <td>Nippur</td>\n",
       "      <td>Ist Ni 03918</td>\n",
       "      <td>dcclt</td>\n",
       "      <td>X400016</td>\n",
       "    </tr>\n",
       "    <tr>\n",
       "      <th>9239</th>\n",
       "      <td>Ist Ni 03964</td>\n",
       "      <td>Old Babylonian</td>\n",
       "      <td>Nippur</td>\n",
       "      <td>Ist Ni 03964</td>\n",
       "      <td>dcclt</td>\n",
       "      <td>X400017</td>\n",
       "    </tr>\n",
       "    <tr>\n",
       "      <th>9240</th>\n",
       "      <td>Ist Ni 04791</td>\n",
       "      <td>Old Babylonian</td>\n",
       "      <td>Nippur</td>\n",
       "      <td>Ist Ni 04791</td>\n",
       "      <td>dcclt</td>\n",
       "      <td>X400018</td>\n",
       "    </tr>\n",
       "    <tr>\n",
       "      <th>9241</th>\n",
       "      <td>Ist Ni 04889</td>\n",
       "      <td>Old Babylonian</td>\n",
       "      <td>Nippur</td>\n",
       "      <td>Ist Ni 04889</td>\n",
       "      <td>dcclt</td>\n",
       "      <td>X400019</td>\n",
       "    </tr>\n",
       "    <tr>\n",
       "      <th>9242</th>\n",
       "      <td>Ist Ni 04972</td>\n",
       "      <td>Old Babylonian</td>\n",
       "      <td>Nippur</td>\n",
       "      <td>Ist Ni 04972</td>\n",
       "      <td>dcclt</td>\n",
       "      <td>X400020</td>\n",
       "    </tr>\n",
       "    <tr>\n",
       "      <th>9243</th>\n",
       "      <td>Ist Ni 05070</td>\n",
       "      <td>Old Babylonian</td>\n",
       "      <td>Nippur</td>\n",
       "      <td>Ist Ni 05070</td>\n",
       "      <td>dcclt</td>\n",
       "      <td>X400021</td>\n",
       "    </tr>\n",
       "    <tr>\n",
       "      <th>9244</th>\n",
       "      <td>Ist Ni 05079</td>\n",
       "      <td>Old Babylonian</td>\n",
       "      <td>Nippur</td>\n",
       "      <td>Ist Ni 05079</td>\n",
       "      <td>dcclt</td>\n",
       "      <td>X400022</td>\n",
       "    </tr>\n",
       "    <tr>\n",
       "      <th>9245</th>\n",
       "      <td>Ist Ni 05129</td>\n",
       "      <td>Old Babylonian</td>\n",
       "      <td>Nippur</td>\n",
       "      <td>Ist Ni 05129</td>\n",
       "      <td>dcclt</td>\n",
       "      <td>X400023</td>\n",
       "    </tr>\n",
       "    <tr>\n",
       "      <th>9246</th>\n",
       "      <td>Ist Ni 05180</td>\n",
       "      <td>Old Babylonian</td>\n",
       "      <td>Nippur</td>\n",
       "      <td>Ist Ni 05180</td>\n",
       "      <td>dcclt</td>\n",
       "      <td>X400024</td>\n",
       "    </tr>\n",
       "    <tr>\n",
       "      <th>9247</th>\n",
       "      <td>Ist Ni 10125</td>\n",
       "      <td>Old Babylonian</td>\n",
       "      <td>Nippur</td>\n",
       "      <td>Ist Ni 10125</td>\n",
       "      <td>dcclt</td>\n",
       "      <td>X400025</td>\n",
       "    </tr>\n",
       "    <tr>\n",
       "      <th>9248</th>\n",
       "      <td>Ist Ni 10185</td>\n",
       "      <td>Old Babylonian</td>\n",
       "      <td>Nippur</td>\n",
       "      <td>Ist Ni 10185</td>\n",
       "      <td>dcclt</td>\n",
       "      <td>X400026</td>\n",
       "    </tr>\n",
       "    <tr>\n",
       "      <th>9249</th>\n",
       "      <td>Ist Ni 10493</td>\n",
       "      <td>Old Babylonian</td>\n",
       "      <td>Nippur</td>\n",
       "      <td>Ist Ni 10493</td>\n",
       "      <td>dcclt</td>\n",
       "      <td>X400027</td>\n",
       "    </tr>\n",
       "    <tr>\n",
       "      <th>9250</th>\n",
       "      <td>Ist Ni 10939</td>\n",
       "      <td>Old Babylonian</td>\n",
       "      <td>Nippur</td>\n",
       "      <td>Ist Ni 10939</td>\n",
       "      <td>dcclt</td>\n",
       "      <td>X400028</td>\n",
       "    </tr>\n",
       "  </tbody>\n",
       "</table>\n",
       "<p>4653 rows × 6 columns</p>\n",
       "</div>"
      ],
      "text/plain": [
       "                                            designation          period  \\\n",
       "881                                         MVN 13, 621  Old Babylonian   \n",
       "882                                         MVN 13, 622  Old Babylonian   \n",
       "883                                         MVN 13, 623  Old Babylonian   \n",
       "884                                         MVN 13, 624  Old Babylonian   \n",
       "885                                         MVN 13, 631  Old Babylonian   \n",
       "886                                       Rochester 248  Old Babylonian   \n",
       "889                      AAICAB 1/1, pl. 058, 1924-0519  Old Babylonian   \n",
       "890                                    OLZ 17, 305 P371  Old Babylonian   \n",
       "891                                      Ontario 2, 505  Old Babylonian   \n",
       "892                                      Ontario 2, 496  Old Babylonian   \n",
       "893                                      Ontario 2, 499  Old Babylonian   \n",
       "894                                      Ontario 2, 502  Old Babylonian   \n",
       "895                                      Ontario 2, 504  Old Babylonian   \n",
       "896                                   HS 1278 + HS 1737  Old Babylonian   \n",
       "916                                       SANTAG 7, 089  Old Babylonian   \n",
       "918                                             SLT 113  Old Babylonian   \n",
       "919                                             SLT 112  Old Babylonian   \n",
       "920   N 5566 + N 5583 + N 5651 + N 7441 + N 7454 (+)...  Old Babylonian   \n",
       "921                                           BM 058680  Old Babylonian   \n",
       "924                                        FAOS 02, 092  Old Babylonian   \n",
       "925                                         UET 7, 0086  Old Babylonian   \n",
       "935                                           BM 058580  Old Babylonian   \n",
       "937                                            RIAA 048  Old Babylonian   \n",
       "938                                            RIAA 050  Old Babylonian   \n",
       "939                                         TIM 09, 091  Old Babylonian   \n",
       "940                                         TIM 09, 089  Old Babylonian   \n",
       "941                                         TIM 09, 086  Old Babylonian   \n",
       "942                                         TIM 09, 092  Old Babylonian   \n",
       "943                                         TIM 09, 088  Old Babylonian   \n",
       "944                                         TIM 09, 090  Old Babylonian   \n",
       "...                                                 ...             ...   \n",
       "9199                                       RA 018, 49ff  Old Babylonian   \n",
       "9215                                      A 07738 V (+)  Old Babylonian   \n",
       "9223                                       Ist Ni 04844  Old Babylonian   \n",
       "9224                                       Ist Ni 02658  Old Babylonian   \n",
       "9225                                       Ist Ni 04606  Old Babylonian   \n",
       "9226                                       Ist Ni 05247  Old Babylonian   \n",
       "9227                                       Ist Ni 05318  Old Babylonian   \n",
       "9228                                         CBS 07827A  Old Babylonian   \n",
       "9229                                       Ist Ni 03287  Old Babylonian   \n",
       "9230                                      NABU 1987/017  Old Babylonian   \n",
       "9231                                       Ist Ni 02658  Old Babylonian   \n",
       "9232                                       Ist Ni 04606  Old Babylonian   \n",
       "9233                                       Ist Ni 05247  Old Babylonian   \n",
       "9234                                       Ist Ni 05318  Old Babylonian   \n",
       "9235                                       Ist Ni 05318  Old Babylonian   \n",
       "9236                                       Ist Ni 03882  Old Babylonian   \n",
       "9237                                       Ist Ni 03910  Old Babylonian   \n",
       "9238                                       Ist Ni 03918  Old Babylonian   \n",
       "9239                                       Ist Ni 03964  Old Babylonian   \n",
       "9240                                       Ist Ni 04791  Old Babylonian   \n",
       "9241                                       Ist Ni 04889  Old Babylonian   \n",
       "9242                                       Ist Ni 04972  Old Babylonian   \n",
       "9243                                       Ist Ni 05070  Old Babylonian   \n",
       "9244                                       Ist Ni 05079  Old Babylonian   \n",
       "9245                                       Ist Ni 05129  Old Babylonian   \n",
       "9246                                       Ist Ni 05180  Old Babylonian   \n",
       "9247                                       Ist Ni 10125  Old Babylonian   \n",
       "9248                                       Ist Ni 10185  Old Babylonian   \n",
       "9249                                       Ist Ni 10493  Old Babylonian   \n",
       "9250                                       Ist Ni 10939  Old Babylonian   \n",
       "\n",
       "     provenience                                          museum_no project  \\\n",
       "881    uncertain                                           FLP 2062   dcclt   \n",
       "882    uncertain                                           FLP 2075   dcclt   \n",
       "883    uncertain                                           FLP 2076   dcclt   \n",
       "884    uncertain                                           FLP 2101   dcclt   \n",
       "885    uncertain                                           FLP 2060   dcclt   \n",
       "886    uncertain                                         Crozer 195   dcclt   \n",
       "889          Kiš                                     Ashm 1924-0519   dcclt   \n",
       "890    uncertain                                            LB 0995   dcclt   \n",
       "891    uncertain                                    ROM 910x209.143   dcclt   \n",
       "892    uncertain                                    ROM 910x209.438   dcclt   \n",
       "893    uncertain                                    ROM 910x209.441   dcclt   \n",
       "894    uncertain                                    ROM 910x209.492   dcclt   \n",
       "895    uncertain                                    ROM 910x209.485   dcclt   \n",
       "896       Nippur                                  HS 1278 + HS 1737   dcclt   \n",
       "916    uncertain                                            TJ 4651   dcclt   \n",
       "918       Nippur            CBS 07845 + Ist Ni 01600 + Ist Ni 02528   dcclt   \n",
       "919       Nippur  CBS 06142 + CBS 07989 + UM 29-16-252 (+) UM 29...   dcclt   \n",
       "920       Nippur  N 5566 + N 5583 + N 5651 + N 7441 + N 7454 (+)...   dcclt   \n",
       "921       Sippar                                          BM 058680   dcclt   \n",
       "924      Kisurra                                                      dcclt   \n",
       "925           Ur                                               BM —   dcclt   \n",
       "935    uncertain                                          BM 058580   dcclt   \n",
       "937      unclear                                        MRAH O.0121   dcclt   \n",
       "938      unclear                                        MRAH O.0117   dcclt   \n",
       "939      unclear                                          IM 002902   dcclt   \n",
       "940      unclear                                          IM 010597   dcclt   \n",
       "941      unclear                                      IM 011053,045   dcclt   \n",
       "942      unclear                                      IM 011087,061   dcclt   \n",
       "943      unclear                                          IM 013350   dcclt   \n",
       "944      unclear                                          IM 013391   dcclt   \n",
       "...          ...                                                ...     ...   \n",
       "9199        Susa                                                      dcclt   \n",
       "9215      Diyala                            A 07738 v (+) A 07738 u   dcclt   \n",
       "9223      Nippur                                       Ist Ni 04844   dcclt   \n",
       "9224      Nippur                                       Ist Ni 02658   dcclt   \n",
       "9225      Nippur                                       Ist Ni 04606   dcclt   \n",
       "9226      Nippur                                       Ist Ni 05247   dcclt   \n",
       "9227      Nippur                                       Ist Ni 05318   dcclt   \n",
       "9228      Nippur                                         CBS 07827A   dcclt   \n",
       "9229      Nippur                                       Ist Ni 03287   dcclt   \n",
       "9230     unclear                                                      dcclt   \n",
       "9231      Nippur                                       Ist Ni 02658   dcclt   \n",
       "9232      Nippur                                       Ist Ni 04606   dcclt   \n",
       "9233      Nippur                                       Ist Ni 05247   dcclt   \n",
       "9234      Nippur                                       Ist Ni 05318   dcclt   \n",
       "9235      Nippur                                       Ist Ni 03854   dcclt   \n",
       "9236      Nippur                                       Ist Ni 03882   dcclt   \n",
       "9237      Nippur                                       Ist Ni 03910   dcclt   \n",
       "9238      Nippur                                       Ist Ni 03918   dcclt   \n",
       "9239      Nippur                                       Ist Ni 03964   dcclt   \n",
       "9240      Nippur                                       Ist Ni 04791   dcclt   \n",
       "9241      Nippur                                       Ist Ni 04889   dcclt   \n",
       "9242      Nippur                                       Ist Ni 04972   dcclt   \n",
       "9243      Nippur                                       Ist Ni 05070   dcclt   \n",
       "9244      Nippur                                       Ist Ni 05079   dcclt   \n",
       "9245      Nippur                                       Ist Ni 05129   dcclt   \n",
       "9246      Nippur                                       Ist Ni 05180   dcclt   \n",
       "9247      Nippur                                       Ist Ni 10125   dcclt   \n",
       "9248      Nippur                                       Ist Ni 10185   dcclt   \n",
       "9249      Nippur                                       Ist Ni 10493   dcclt   \n",
       "9250      Nippur                                       Ist Ni 10939   dcclt   \n",
       "\n",
       "      id_text  \n",
       "881   P117394  \n",
       "882   P117395  \n",
       "883   P117396  \n",
       "884   P117397  \n",
       "885   P117404  \n",
       "886   P128345  \n",
       "889   P142806  \n",
       "890   P145550  \n",
       "891   P209775  \n",
       "892   P209812  \n",
       "893   P209815  \n",
       "894   P209818  \n",
       "895   P209820  \n",
       "896   P212382  \n",
       "916   P218164  \n",
       "918   P218302  \n",
       "919   P218303  \n",
       "920   P218304  \n",
       "921   P218305  \n",
       "924   P218309  \n",
       "925   P218310  \n",
       "935   P222943  \n",
       "937   P222959  \n",
       "938   P222960  \n",
       "939   P223386  \n",
       "940   P223393  \n",
       "941   P223397  \n",
       "942   P223410  \n",
       "943   P223417  \n",
       "944   P223421  \n",
       "...       ...  \n",
       "9199  X000844  \n",
       "9215  X010001  \n",
       "9223  X400001  \n",
       "9224  X400002  \n",
       "9225  X400003  \n",
       "9226  X400004  \n",
       "9227  X400005  \n",
       "9228  X400006  \n",
       "9229  X400007  \n",
       "9230  X400008  \n",
       "9231  X400009  \n",
       "9232  X400010  \n",
       "9233  X400011  \n",
       "9234  X400012  \n",
       "9235  X400013  \n",
       "9236  X400014  \n",
       "9237  X400015  \n",
       "9238  X400016  \n",
       "9239  X400017  \n",
       "9240  X400018  \n",
       "9241  X400019  \n",
       "9242  X400020  \n",
       "9243  X400021  \n",
       "9244  X400022  \n",
       "9245  X400023  \n",
       "9246  X400024  \n",
       "9247  X400025  \n",
       "9248  X400026  \n",
       "9249  X400027  \n",
       "9250  X400028  \n",
       "\n",
       "[4653 rows x 6 columns]"
      ]
     },
     "execution_count": 27,
     "metadata": {},
     "output_type": "execute_result"
    }
   ],
   "source": [
    "file = \"../2_3_Data_Acquisition_ORACC/output/catalog.csv\"\n",
    "cat = pd.read_csv(file, keep_default_na=False)\n",
    "cat = cat[cat['period'] == 'Old Babylonian']\n",
    "cat"
   ]
  },
  {
   "cell_type": "code",
   "execution_count": 28,
   "metadata": {
    "collapsed": true
   },
   "outputs": [],
   "source": [
    "keep = list(cat['id_text'])\n",
    "keep = ['dcclt/' + id for id in keep]\n",
    "lexical = lexical.loc[lexical[\"id_text\"].isin(keep)]"
   ]
  },
  {
   "cell_type": "markdown",
   "metadata": {},
   "source": [
    "# Select Lexical Compositions\n",
    "Select the following compositions: \n",
    "* Ura 1 dcclt/Q000039\n",
    "* Ura 2 dcclt/Q000040\n",
    "* Ura 3 dcclt/Q000001\n",
    "* Ura 4 dcclt/Q000041\n",
    "* Ura 5 dcclt/Q000042\n",
    "* Ura 6 dcclt/Q000043\n",
    "* Lu₂-Azlag₂ B/C Q000302 \n",
    "* Ugumu dcclt/Q000268\n",
    "* Diri dcclt/Q000057\n",
    "* Nigga dcclt/Q000052\n",
    "* Izi dcclt/Q000050\n",
    "* Kagal dcclt/Q000048\n",
    "* Lu dcclt/Q000047\n"
   ]
  },
  {
   "cell_type": "code",
   "execution_count": null,
   "metadata": {
    "collapsed": false
   },
   "outputs": [],
   "source": [
    "keep = [\"dcclt/Q000039\", \n",
    "    \"dcclt/Q000040\",\n",
    "    \"dcclt/Q000001\",\n",
    "    \"dcclt/Q000041\",\n",
    "    \"dcclt/Q000042\",\n",
    "    \"dcclt/Q000043\",\n",
    "    \"dcclt/Q000302 \",\n",
    "    \"dcclt/Q000268\",\n",
    "    \"dcclt/Q000057\",\n",
    "    \"dcclt/Q000052\",\n",
    "    \"dcclt/Q000050\",\n",
    "    \"dcclt/Q000048\",\n",
    "    \"dcclt/Q000047\"]\n",
    "lexical = lexical.loc[lexical[\"id_text\"].isin(keep)]"
   ]
  },
  {
   "cell_type": "code",
   "execution_count": 29,
   "metadata": {
    "collapsed": false
   },
   "outputs": [],
   "source": [
    "lexical = lexical[~lexical[\"field\"].isin([\"sg\", \"pr\"])] # remove lemmas that derive from the fields \"sign\" \n",
    "# or \"pronunciation\" in sign lists."
   ]
  },
  {
   "cell_type": "markdown",
   "metadata": {},
   "source": [
    "# First Approximation\n",
    "Extract the vocabulary of ETCSL and the lexical texts. Count each word separately. Thus, in the lexical item `gud an-na` we count the words `gud` (ox) and `an` (heaven) separately to see if those words appear in the literary corpus as well. This approach, therefore, does not take account of attestations of `gud an-na` in both corpora."
   ]
  },
  {
   "cell_type": "code",
   "execution_count": 30,
   "metadata": {
    "collapsed": false
   },
   "outputs": [],
   "source": [
    "etcsl_words_s = set(list(etcsl[\"lemma\"]))\n",
    "lexical_words_s = set(list(lexical[\"lemma\"]))\n",
    "etcsl_words_s = {lemma for lemma in etcsl_words_s if not '[na]na' in lemma}\n",
    "lexical_words_s = {lemma for lemma in lexical_words_s if not '[na]na' in lemma}"
   ]
  },
  {
   "cell_type": "code",
   "execution_count": 31,
   "metadata": {
    "collapsed": true
   },
   "outputs": [],
   "source": [
    "def plot_venn(lit_vocab, lex_vocab):\n",
    "    plt.figure(figsize=(8,8))\n",
    "    lit_abs = len(lit_vocab)\n",
    "    lex_abs = len(lex_vocab)\n",
    "    inter_abs = len(lit_vocab.intersection(lex_vocab))\n",
    "    lit_per = \"{:.0%}\".format(inter_abs/lit_abs)\n",
    "    lex_per = \"{:.0%}\".format(inter_abs/lex_abs)\n",
    "    lit_legend = \"literary (\" + str(lit_abs) + ') ' + lit_per + \" overlap\"\n",
    "    lex_legend = \"lexical (\" + str(lex_abs) + ') ' + lex_per + \" overlap\"\n",
    "    c = venn2([lit_vocab, lex_vocab], (lit_legend, lex_legend))\n",
    "    c.get_patch_by_id('10').set_color(\"#fdb515\")\n",
    "    c.get_patch_by_id('01').set_color(\"#003262\")\n",
    "    c.get_patch_by_id('11').set_color(\"#bc9b6a\")\n",
    "    plt.show()\n",
    "    return"
   ]
  },
  {
   "cell_type": "code",
   "execution_count": 32,
   "metadata": {
    "collapsed": false
   },
   "outputs": [
    {
     "data": {
      "image/png": "[encoded data removed]",
      "text/plain": [
       "<matplotlib.figure.Figure at 0x1a52feb8>"
      ]
     },
     "metadata": {},
     "output_type": "display_data"
    }
   ],
   "source": [
    "plot_venn(etcsl_words_s, lexical_words_s)"
   ]
  },
  {
   "cell_type": "markdown",
   "metadata": {},
   "source": [
    "# Mark Multiple Word Expressions\n",
    "\n",
    "Instead of looking at individual words (or lexemes), we may also look at lexical *entries* and their appearance (or not) in literary texts. The list of domestic animals, for instance, includes the entry `udu dijir-e gu₇-a`('sheep eaten by a god'), lemmatized as `udu[sheep]n diŋir[god]n gu[eat]v/t`. Unsurprisingly, all these lemmas appear in the literary corpus, and thus in our previous analysis this item results in three hits. But does the expression as a whole ever appear in the literary corpus? \n",
    "\n",
    "In order to perform the comparison on the lexical entry level we first need to represent our data (lexical and literary) as lines (rather than individual words).\n"
   ]
  },
  {
   "cell_type": "markdown",
   "metadata": {},
   "source": [
    "## Line by Line\n",
    "In order to reconstruct lines we the Pandas function `groupby()` with the fields `id_text` and `id_line`. The `agg()` function indicates which fields (beside `id_text` and `id_line`) are kept and how they are treated (see also 2.3.???)."
   ]
  },
  {
   "cell_type": "code",
   "execution_count": null,
   "metadata": {
    "collapsed": false
   },
   "outputs": [],
   "source": [
    "lexical = lexical.groupby([lexical['id_text'], lexical['id_line']]).agg({\n",
    "        'lemma': ' '.join,\n",
    "        'extent': ''.join\n",
    "    }).reset_index()"
   ]
  },
  {
   "cell_type": "code",
   "execution_count": null,
   "metadata": {
    "collapsed": false,
    "scrolled": false
   },
   "outputs": [],
   "source": [
    "etcsl = etcsl.groupby([etcsl['id_text'], etcsl['id_line'], etcsl['text_name']]).agg({\n",
    "        'lemma': ' '.join,\n",
    "        'extent': ''.join\n",
    "    }).reset_index()"
   ]
  },
  {
   "cell_type": "markdown",
   "metadata": {},
   "source": [
    "## Extract lexical entries \n",
    "Each item in the resulting list now consists of the lemmas of an entire lexical *entry* (e.g. `udu[sheep]n diŋir[god]n gu[eat]v/t`). Replace all spaces by asterisks, so that the whole string can be treated as a unity."
   ]
  },
  {
   "cell_type": "code",
   "execution_count": null,
   "metadata": {
    "collapsed": false
   },
   "outputs": [],
   "source": [
    "lex_vocab = list(set(lexical[\"lemma\"]))\n",
    "lex_vocab = [item.replace(\" \", \"*\") for item in lex_vocab]"
   ]
  },
  {
   "cell_type": "markdown",
   "metadata": {},
   "source": [
    "## Mark lexical entries in literary texts\n",
    "Iterate through the list of lexical vocabulary (beginning with the longest items) and check to see if the item contains multiple lemmatizations (contains asterisks). If so, the `str.replace()` function of Pandas is used to find identical sequences of lemmas in a line in the `etcsl` DataFrame and to equally replace spaces by asterisks.\n",
    "\n",
    "In order to do so we create a `findwhat` variable that is derived from the lexical item. First the asterisks are  replaced again by spaces (we are looking for, say, `udu[sheep]n diŋir[god]n gu[eat]v/t`). Second, all characters that are interpreted as [regular expression](https://www.regular-expressions.info/) special characters (such as square brackets) need to be escaped (prefixed by a backslash), so that they are interpreted as literals by the `str.replace()` function. \n",
    "\n",
    "The `str.replace()` function takes a considerable amount of time. It has to check each line in [ETCSL](http://etcsl.orinst.ox.ac.uk/) (almost 36.500 lines) against each lexical entry (almost 6,000 entries). The progress bar follows the progress through the list of lexical entries.\n",
    "\n",
    "The `lemma` column of the `etcsl` dataframe will now represent the [ETCSL](http://etcsl.orinst.ox.ac.uk/) data in a line-by-line presentation of lemmatizations, with asterisks connecting lemmas if a corresponding sequence of lemmas exists as a lexical entry."
   ]
  },
  {
   "cell_type": "code",
   "execution_count": null,
   "metadata": {
    "collapsed": false
   },
   "outputs": [],
   "source": [
    "lex_vocab.sort(key=len, reverse=True)\n",
    "for item in tqdm.tqdm(lex_vocab):\n",
    "    if \"*\" in item:\n",
    "        findwhat = item.replace(\"*\", \" \")\n",
    "        findwhat = re.escape(findwhat)\n",
    "        etcsl[\"lemma\"] = etcsl[\"lemma\"].str.replace(findwhat, item)"
   ]
  },
  {
   "cell_type": "code",
   "execution_count": null,
   "metadata": {
    "collapsed": true
   },
   "outputs": [],
   "source": [
    "etcsl_words2 = ' '.join(list(etcsl[\"lemma\"]))\n",
    "etcsl_words_s2 = set(etcsl_words2.split())\n",
    "lexical_words_s2 = set(list(lexical[\"lemma\"]))\n",
    "etcsl_words_s2 = {lemma for lemma in etcsl_words_s2 if not '[na]na' in lemma}\n",
    "lexical_words_s2 = {lemma for lemma in lexical_words_s2 if not '[na]na' in lemma}"
   ]
  },
  {
   "cell_type": "code",
   "execution_count": null,
   "metadata": {
    "collapsed": false
   },
   "outputs": [],
   "source": [
    "plot_venn(etcsl_words_s2, lexical_words_s2)"
   ]
  },
  {
   "cell_type": "markdown",
   "metadata": {},
   "source": [
    "# Add them Up\n",
    "By creating the union of the two sets (the set with individual words and the set with the lexical entries only) we get the most complete comparison of the two corpora. Here `gud[oxen]N*an[heaven]N`, `gud[oxen]N` and `an[heaven]N` are all counted as words, whether or not `gud` and `an` actually appear as such in the lexical corpus.\n",
    "\n",
    "It turns out that this addition adds only twenty words to the literary vocabulary. These are words that appear in lexical expressions (connected by \\*), but never appear on their own outside such expressions. The lexical corpus has more of those lexemes: more than 700; about half of those also appear in the literary corpus, increasing the overlap by about 370."
   ]
  },
  {
   "cell_type": "code",
   "execution_count": null,
   "metadata": {
    "collapsed": false
   },
   "outputs": [],
   "source": [
    "etcsl_words_s3 = etcsl_words_s | etcsl_words_s2\n",
    "lexical_words_s3 = lexical_words_s | lexical_words_s2"
   ]
  },
  {
   "cell_type": "code",
   "execution_count": null,
   "metadata": {
    "collapsed": false
   },
   "outputs": [],
   "source": [
    "plot_venn(etcsl_words_s3, lexical_words_s3)"
   ]
  },
  {
   "cell_type": "markdown",
   "metadata": {},
   "source": [
    "# Create a Corpus\n",
    "The etcsl dataframe is organized by line. The `aggregate` function assembles the lines that belong to a single composition. The resulting dataframe has 394 entries, one for each composition. "
   ]
  },
  {
   "cell_type": "code",
   "execution_count": null,
   "metadata": {
    "collapsed": true
   },
   "outputs": [],
   "source": [
    "corpus = etcsl.groupby([etcsl[\"etcsl_no\"], etcsl[\"text_name\"]]).aggregate({\"text\": \" \".join}).reset_index()"
   ]
  },
  {
   "cell_type": "markdown",
   "metadata": {},
   "source": [
    "# Document Term Matrix\n",
    "The corpus is transformed into a Document Term Matrix (or DTM) in which each word (or expression) is a column and each row a Sumerian composition. The lexical vocabulary is used as a filter (only words that appear in the lexical texts are allowed in the DTM).\n",
    "\n",
    "First sort the lexical vocabulary alphabetically.\n",
    "\n",
    "Use CountVectorizer (from Sklearn) to initiate the DTM. The `token_pattern` indicates what a word looks like and what signals the end of a word. In modern corpora this can be fairly complex (including spaces, commas, full stops, etc.) but in the current corpus a space will always separate one token from the next. The regex `r'[^ ]+'` means \"any sequence of characters, except space\".\n",
    "\n",
    "Transform the DTM to a dataframe.\n",
    "\n",
    "NB a DTM is not necessary for the raw comparison/Venn diagram - only for further inspection."
   ]
  },
  {
   "cell_type": "code",
   "execution_count": null,
   "metadata": {
    "collapsed": false
   },
   "outputs": [],
   "source": [
    "cv = CountVectorizer(analyzer='word', token_pattern=r'[^ ]+', binary = False, vocabulary=lex_vocab)\n",
    "etcsl_dtm = cv.fit_transform(corpus['text'])\n",
    "#etcsl_df = pd.DataFrame(etcsl_dtm.toarray(), columns= cv.get_feature_names(), index=corpus[\"etcsl_no\"])\n",
    "etcsl_df = pd.DataFrame(etcsl_dtm.toarray(), columns= lex_vocab, index=corpus[\"etcsl_no\"])"
   ]
  },
  {
   "cell_type": "code",
   "execution_count": null,
   "metadata": {
    "collapsed": false
   },
   "outputs": [],
   "source": [
    "etcsl_df"
   ]
  },
  {
   "cell_type": "markdown",
   "metadata": {},
   "source": [
    "# Words in Lexical Texts not in ETCSL\n",
    "If a word or expression in the lexical corpus is never used in the literary texts from [ETCSL](http://etcsl.orinst.ox.ac.uk/) the sum of its column will be `0`.\n",
    "\n",
    "Give the number of columns (the number of unique words and expressions in the lexical texts), the number of words/expressions never used in the ETCSL corpus and the relation between those two numbers in percent."
   ]
  },
  {
   "cell_type": "code",
   "execution_count": null,
   "metadata": {
    "collapsed": false
   },
   "outputs": [],
   "source": [
    "lex_not_in_etcsl = etcsl_df.loc[:, etcsl_df.sum()==0]\n",
    "len(etcsl_df.columns), len(lex_not_in_etcsl.columns), str(len(lex_not_in_etcsl.columns)/len(etcsl_df.columns)*100) + \"%\""
   ]
  },
  {
   "cell_type": "markdown",
   "metadata": {},
   "source": [
    "# Simplify\n",
    "The above may be an overly complex way of doing it.\n",
    "Alternative: make a full dtm of etcsl (without a vocabulary constraint); make the etcsl vocabulary and lexical vocabulary into sets that can be subtracted from each other."
   ]
  },
  {
   "cell_type": "code",
   "execution_count": null,
   "metadata": {
    "collapsed": true
   },
   "outputs": [],
   "source": [
    "cv = CountVectorizer(analyzer='word', token_pattern=r'[^ ]+', binary = False)\n",
    "etcsl2_dtm = cv.fit_transform(corpus['text'])\n",
    "etcsl2_df = pd.DataFrame(etcsl2_dtm.toarray(), columns= cv.get_feature_names(), index=corpus[\"etcsl_no\"])\n",
    "etcsl_vocab_s = set(etcsl2_df.columns)\n",
    "lex_vocab_s = set(lex_vocab)\n",
    "diff_e_l = list(etcsl_vocab_s - lex_vocab_s)\n",
    "diff_l_e = list(lex_vocab_s - etcsl_vocab_s)"
   ]
  },
  {
   "cell_type": "code",
   "execution_count": null,
   "metadata": {
    "collapsed": false
   },
   "outputs": [],
   "source": [
    "print(\"number of words/expressions in ETCSL \" + str(len(etcsl_vocab_s)))\n",
    "print(\"number of words/expressions in lexical texts \" + str(len(lex_vocab_s)))\n",
    "print(\"number of words/expressions in ETCSL not in lexical \" + str(len(diff_e_l)))\n",
    "print(\"number of words/expressions in lexical not in ETCSL \" + str(len(diff_l_e)))"
   ]
  },
  {
   "cell_type": "code",
   "execution_count": null,
   "metadata": {
    "collapsed": false
   },
   "outputs": [],
   "source": [
    "plt.figure(figsize=(4,4))\n",
    "venn2([etcsl_vocab_s, lex_vocab_s], (\"literary\", \"lexical\"))\n",
    "plt.show()"
   ]
  },
  {
   "cell_type": "markdown",
   "metadata": {},
   "source": [
    "# Rare Words Shared by Lex and Lit\n",
    "Which words appear in Lex and in Lit but appear only once in Lit? In which composition do we find such words; which words are those?\n",
    "\n",
    "First create a dataframe (`rare`) that only has the columns that add up to `1` (word or expression appears only once in the corpus). The row totals of this dataframe indicate per composition (= row) how many such rare words they contain. These row totals are added as a separate column. The composition naes are extracted from the `corpus` dataframe created above. Finally the dataframe is sorted by the row totals.\n",
    "\n",
    "The dataframe `rare` includes columns for each of the words that appear only once. We are showing only the columns that identify the composition and the row totals."
   ]
  },
  {
   "cell_type": "code",
   "execution_count": null,
   "metadata": {
    "collapsed": false
   },
   "outputs": [],
   "source": [
    "rare =etcsl_df.loc[:, etcsl_df.sum()==1].reset_index()\n",
    "rare[\"no. of unique lexical correspondences\"] = rare.sum(axis=1)\n",
    "rare[\"text_name\"] = corpus[\"text_name\"]\n",
    "rare = rare.sort_values('no. of unique lexical correspondences', ascending = False)\n",
    "rare.loc[:,[\"etcsl_no\", \"no. of unique lexical correspondences\", \"text_name\"]]"
   ]
  },
  {
   "cell_type": "markdown",
   "metadata": {},
   "source": [
    "# Which Words?\n",
    "Which are the rare words that define this list of compositions? We first extract the full list of words from the column names of the daraframe `rare`. The variable `words` is a Numpy array that contains strings."
   ]
  },
  {
   "cell_type": "code",
   "execution_count": null,
   "metadata": {
    "collapsed": false
   },
   "outputs": [],
   "source": [
    "words = rare.columns.values\n",
    "len(words)"
   ]
  },
  {
   "cell_type": "markdown",
   "metadata": {},
   "source": [
    "# The rare words in the top-ten\n",
    "The first ten compositions in our list are the ones that have the most rare words shared with lexical texts. Each row, representing a composition, has columns that represent individual words. We create a `mask` (a sequence of boolean values `True` or `False`) that indicate whether or not the value in the column is 1. If the boolean is `True` the word is printed."
   ]
  },
  {
   "cell_type": "code",
   "execution_count": null,
   "metadata": {
    "collapsed": false
   },
   "outputs": [],
   "source": [
    "for i in range(10):\n",
    "    indexes = rare.iloc[i] == 1\n",
    "    print(rare.iloc[i,-1]), print(words[indexes])"
   ]
  },
  {
   "cell_type": "code",
   "execution_count": null,
   "metadata": {
    "collapsed": false
   },
   "outputs": [],
   "source": [
    "lexical[\"text\"] = lexical[\"text\"].str.replace(\" \", \"*\")\n",
    "lexical"
   ]
  },
  {
   "cell_type": "code",
   "execution_count": null,
   "metadata": {
    "collapsed": false
   },
   "outputs": [],
   "source": [
    "lexical_corpus = lexical.groupby([lexical[\"id_text\"], \n",
    "                                  lexical[\"text_name\"]]).aggregate({\"text\": \" \".join}).reset_index()\n",
    "lexical_corpus"
   ]
  },
  {
   "cell_type": "code",
   "execution_count": null,
   "metadata": {
    "collapsed": true
   },
   "outputs": [],
   "source": []
  }
 ],
 "metadata": {
  "kernelspec": {
   "display_name": "Python 3",
   "language": "python",
   "name": "python3"
  },
  "language_info": {
   "codemirror_mode": {
    "name": "ipython",
    "version": 3
   },
   "file_extension": ".py",
   "mimetype": "text/x-python",
   "name": "python",
   "nbconvert_exporter": "python",
   "pygments_lexer": "ipython3",
   "version": "3.5.2"
  }
 },
 "nbformat": 4,
 "nbformat_minor": 2
}
