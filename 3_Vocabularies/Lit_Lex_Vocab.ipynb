{
 "cells": [
  {
   "cell_type": "markdown",
   "metadata": {},
   "source": [
    "# Overlap in Lexical and Literary Vocabulary\n",
    "\n",
    "Comparing the vocabulary of Old Babylonian lexical texts (from Nippur) and the vocabulary of the Sumerian literary corpus as represented in [ETCSL](http://etcsl.orinst.ox.ac.uk/).\n",
    "\n",
    "## 0 Preparation \n",
    "In order to run this notebook, parse the [DCCLT](http://oracc.org/dcclt) data with the Extended ORACC Parser (2.3.3) and the [ETCSL](http://etcsl.orinst.ox.ac.uk) data with the ETCSL Parser (2.4)."
   ]
  },
  {
   "cell_type": "code",
   "execution_count": 1,
   "metadata": {},
   "outputs": [],
   "source": [
    "%matplotlib inline\n",
    "import pandas as pd\n",
    "import os\n",
    "from sklearn.feature_extraction.text import CountVectorizer\n",
    "from matplotlib import pyplot as plt\n",
    "from matplotlib_venn import venn2\n",
    "import tqdm\n",
    "import re\n",
    "import zipfile\n",
    "import json"
   ]
  },
  {
   "cell_type": "markdown",
   "metadata": {},
   "source": [
    "### 0.1 Read ETCSL Data Files\n",
    "Open the file `alltexts.csv` which contains all the [ETCSL](http://etcsl.orinst.ox.ac.uk) and read the data into a `Pandas`DataFrame. Each row is a word from [ETCSL](http://etcsl.orinst.ox.ac.uk/) in lemmatized format, according to [ePSD2](http://build-oracc.museum.upenn.edu/epsd2) standards. Only Sumerian words are kept; Akkadian glosses, for instance, are removed."
   ]
  },
  {
   "cell_type": "code",
   "execution_count": 2,
   "metadata": {},
   "outputs": [],
   "source": [
    "file = \"../2_4_Data_Acquisition_ETCSL/Output/alltexts.csv\"\n",
    "etcsl = pd.read_csv(file, keep_default_na=False)\n",
    "etcsl = etcsl.loc[etcsl[\"lang\"].str.contains(\"sux\")]  # throw out non-Sumerian words"
   ]
  },
  {
   "cell_type": "markdown",
   "metadata": {},
   "source": [
    "### 0.2 Lemmas\n",
    "Create a lemmas column and lowercase all lemmas.\n",
    "\n",
    "The `lemmas` column is created by combining Citation Form (`cf`), Guide Word (`gw`) and Part of Speech (`pos`). The Pandas `apply()` function applies a function to every row (`axis = 1`) or column (`axis = 0`) of a dataframe. The function is defined here as a so-called `lambda` function (a temporary function). It is a simple addition of the strings of the `cf`, `gw`, and `pos` columns (with `[` and `]` as separators), so that a single lemma now looks like `lugal[king]N`. The `lambda` function has one condition: if there is no Citation Form (column `cf` equals the empty string) the contents of the column `form` are taken, followed by `NA]NA]`. The absence of a Citation Form implies that the word was not lemmatized (perhaps an unknown or a broken word). The field `form` contains the raw transliteration - the result may be `x-ra-bi[NA]NA`.\n",
    "\n",
    "If the field `form` is empty (which happens, for instance, where a horizontal in the text is noted), however, this results in the `lemma` entry `NA[NA]`. In those case the value of `lemma` is turned into the empty string with a conditional list comprehension.\n",
    "\n",
    "For the current analysis we will use *lemmatized* forms for the comparison between literary and lexical vocabulary. The unlemmatized forms, therefore, are of little importance here. We need to keep them, for now, because we will also compare *sequences* of lemmas. Premature removal of unlemmatized forms would result in false positives. "
   ]
  },
  {
   "cell_type": "code",
   "execution_count": 3,
   "metadata": {},
   "outputs": [],
   "source": [
    "etcsl[\"lemma\"] = etcsl.apply(lambda r: (r[\"cf\"] + '[' + r[\"gw\"] + ']' + r[\"pos\"]) \n",
    "                            if r[\"cf\"] != '' else r['form'] + '[NA]NA', axis=1)\n",
    "etcsl['lemma'] = [lemma if not lemma == '[NA]NA' else '' for lemma in etcsl['lemma'] ] \n",
    "# kick out empty forms\n",
    "etcsl[\"lemma\"] = etcsl[\"lemma\"].str.lower()"
   ]
  },
  {
   "cell_type": "markdown",
   "metadata": {},
   "source": [
    "### 0.3 Read Lexical Data\n",
    "\n",
    "Essentially following the same process as in the preceding cells. The code assumes that the [DCCLT](http://oracc.org/dcclt) data are parsed with the Extended ORACC Parser (2.3.3) and that the resulting file is called `parsed.csv` in the directory `2_3_DataAcquisition_ORACC/output`. If this is not the case, please adjust the file name in code below."
   ]
  },
  {
   "cell_type": "code",
   "execution_count": 7,
   "metadata": {},
   "outputs": [],
   "source": [
    "file = \"../2_3_Data_Acquisition_ORACC/output/parsed.csv\"\n",
    "lexical = pd.read_csv(file, keep_default_na=False)\n",
    "lexical = lexical.loc[lexical[\"lang\"].str.contains(\"sux\")]"
   ]
  },
  {
   "cell_type": "code",
   "execution_count": 8,
   "metadata": {},
   "outputs": [],
   "source": [
    "lexical[\"lemma\"] = lexical.apply(lambda r: (r[\"cf\"] + '[' + r[\"gw\"] + ']' + r[\"pos\"]) \n",
    "                            if r[\"cf\"] != '' else r['form'] + '[NA]NA', axis=1)\n",
    "lexical['lemma'] = [lemma if not lemma == '[NA]NA' else '' for lemma in lexical['lemma'] ] \n",
    "# kick out empty forms\n",
    "lexical[\"lemma\"] = lexical[\"lemma\"].str.lower()"
   ]
  },
  {
   "cell_type": "markdown",
   "metadata": {},
   "source": [
    "Sign lists (which belong to the broader category of lexical lists) list cuneiform signs with pronunciation glosses and sometimes with Akkadian translation, sign name, and other information. For the current purposes we *only* need the Sumerian word that is represented by the entry. We remove lemmas that derive from the pronunciation glosses and the signs themselves. Sign names and Akkadian translations are already removed, because they are in Akkadian.\n",
    "\n",
    "The Pandas function `isin()` compares the contents of a field with a list and returns a boolean (`True` or `False`). In this case the column `field` (which is primarily used for sign lists) is compared to list `[\"sg\", \"pr\"]`. If `field` equals one of these terms `isin()` returns `True`. The `~` before the entire expression changes `True` into `False` and vv. As a result the dataframe `lexical` now omits all rows that have either \"sg\" or \"pr\" in the column `field`."
   ]
  },
  {
   "cell_type": "code",
   "execution_count": 9,
   "metadata": {},
   "outputs": [],
   "source": [
    "lexical = lexical[~lexical[\"field\"].isin([\"sg\", \"pr\"])] # remove lemmas that derive from the fields \"sign\" \n",
    "# or \"pronunciation\" in sign lists."
   ]
  },
  {
   "cell_type": "markdown",
   "metadata": {},
   "source": [
    "### 0.4 Select Old Babylonian Texts\n",
    "The great majority of texts in [ETCSL](http://etcsl.orinst.ox.ac.uk) is from the Old Babylonian period. We will use the [DCCLT](http://oracc.org/dcclt) catalog to select only those lexcial texts that come from that same period.\n",
    "\n",
    "The catalog is included as a separate `json` file in `dcclt.zip`. Since we parsed the [DCCLT](http://oracc.org/dcclt) text editions in preparation for this script, the file `dcclt.zip` should still be in `jsonzip` directory (if not, run the Extended ORACC Parser (2.3.3) up to the point where the ZIP file is downloaded and saved).\n",
    "\n",
    "The file `catalogue.json` is much more shallow in structure than the text files - there is no need to parse this file. We unzip the file with the `zipfile` module, and read the `catalogue.json` file with `read` command (from the `zipfile` library) as a string into the variable `st`. We can than use the `loads()` (load string) command from the `json` package to structure the data in proper `json` format. Once loaded, the data can be read immediately into a Pandas dataframe. In order to get the dataframe properly oriented (each row representing a text) the dataframe needs to be transposed, by adding `.T` to the end of the command.\n",
    "\n",
    "Finally the dataframe is reduced to just two columns: `id_text` and `period` so that we can select the ones that have \"Old Babylonian\" in the `period` column."
   ]
  },
  {
   "cell_type": "code",
   "execution_count": 10,
   "metadata": {},
   "outputs": [],
   "source": [
    "file = \"../2_3_Data_Acquisition_ORACC/jsonzip/dcclt.zip\"\n",
    "z = zipfile.ZipFile(file) \n",
    "st = z.read(\"dcclt/catalogue.json\").decode(\"utf-8\")\n",
    "j = json.loads(st)\n",
    "cat_df = pd.DataFrame(j[\"members\"]).T\n",
    "cat_df = cat_df[[\"id_text\", \"period\"]]"
   ]
  },
  {
   "cell_type": "code",
   "execution_count": 11,
   "metadata": {},
   "outputs": [
    {
     "data": {
      "text/html": [
       "<div>\n",
       "<style scoped>\n",
       "    .dataframe tbody tr th:only-of-type {\n",
       "        vertical-align: middle;\n",
       "    }\n",
       "\n",
       "    .dataframe tbody tr th {\n",
       "        vertical-align: top;\n",
       "    }\n",
       "\n",
       "    .dataframe thead th {\n",
       "        text-align: right;\n",
       "    }\n",
       "</style>\n",
       "<table border=\"1\" class=\"dataframe\">\n",
       "  <thead>\n",
       "    <tr style=\"text-align: right;\">\n",
       "      <th></th>\n",
       "      <th>id_text</th>\n",
       "      <th>period</th>\n",
       "    </tr>\n",
       "  </thead>\n",
       "  <tbody>\n",
       "    <tr>\n",
       "      <th>P117394</th>\n",
       "      <td>P117394</td>\n",
       "      <td>Old Babylonian</td>\n",
       "    </tr>\n",
       "    <tr>\n",
       "      <th>P117395</th>\n",
       "      <td>P117395</td>\n",
       "      <td>Old Babylonian</td>\n",
       "    </tr>\n",
       "    <tr>\n",
       "      <th>P117396</th>\n",
       "      <td>P117396</td>\n",
       "      <td>Old Babylonian</td>\n",
       "    </tr>\n",
       "    <tr>\n",
       "      <th>P117397</th>\n",
       "      <td>P117397</td>\n",
       "      <td>Old Babylonian</td>\n",
       "    </tr>\n",
       "    <tr>\n",
       "      <th>P117404</th>\n",
       "      <td>P117404</td>\n",
       "      <td>Old Babylonian</td>\n",
       "    </tr>\n",
       "    <tr>\n",
       "      <th>P128345</th>\n",
       "      <td>P128345</td>\n",
       "      <td>Old Babylonian</td>\n",
       "    </tr>\n",
       "    <tr>\n",
       "      <th>P142806</th>\n",
       "      <td>P142806</td>\n",
       "      <td>Old Babylonian</td>\n",
       "    </tr>\n",
       "    <tr>\n",
       "      <th>P145550</th>\n",
       "      <td>P145550</td>\n",
       "      <td>Old Babylonian</td>\n",
       "    </tr>\n",
       "    <tr>\n",
       "      <th>P209775</th>\n",
       "      <td>P209775</td>\n",
       "      <td>Old Babylonian</td>\n",
       "    </tr>\n",
       "    <tr>\n",
       "      <th>P209812</th>\n",
       "      <td>P209812</td>\n",
       "      <td>Old Babylonian</td>\n",
       "    </tr>\n",
       "  </tbody>\n",
       "</table>\n",
       "</div>"
      ],
      "text/plain": [
       "         id_text          period\n",
       "P117394  P117394  Old Babylonian\n",
       "P117395  P117395  Old Babylonian\n",
       "P117396  P117396  Old Babylonian\n",
       "P117397  P117397  Old Babylonian\n",
       "P117404  P117404  Old Babylonian\n",
       "P128345  P128345  Old Babylonian\n",
       "P142806  P142806  Old Babylonian\n",
       "P145550  P145550  Old Babylonian\n",
       "P209775  P209775  Old Babylonian\n",
       "P209812  P209812  Old Babylonian"
      ]
     },
     "execution_count": 11,
     "metadata": {},
     "output_type": "execute_result"
    }
   ],
   "source": [
    "ob = cat_df[cat_df[\"period\"] == \"Old Babylonian\"]\n",
    "ob[:10]"
   ]
  },
  {
   "cell_type": "markdown",
   "metadata": {},
   "source": [
    "The index of the resulting dataframe `ob` is identical to the column `id_text` (the P, Q, or X number of each text). We can retrieve the index with the Pandas command `index.values`, which returns a list. These are the P/Q/X numbers that we want to keep.\n",
    "\n",
    "In the dataframe `lexical` all text IDs are preceded by `dcclt/`. We can use a list comprehension to add this prefix to each entry in the `keep` list and then use this list to select only the Old Babylonian lexical texts."
   ]
  },
  {
   "cell_type": "code",
   "execution_count": 12,
   "metadata": {},
   "outputs": [],
   "source": [
    "keep = ob.index.values\n",
    "keep = ['dcclt/' + id_text for id_text in keep]\n",
    "lexical = lexical.loc[lexical[\"id_text\"].isin(keep)]"
   ]
  },
  {
   "cell_type": "markdown",
   "metadata": {},
   "source": [
    "## 1 First Approximation\n",
    "Now we have two dataframes: `etcsl` and `lexical`. In both the field `lemma` contains the lemmatization data of a single word. We can extract the unique lemmas with the `set()` command (a set is an unordered collection of unique elements). We remove the non-elemmatized words (those have `na` as Guide Word and `na` as POS) with a set comprehension. Now we can compare the two sets in a Venn diagram."
   ]
  },
  {
   "cell_type": "code",
   "execution_count": 13,
   "metadata": {},
   "outputs": [],
   "source": [
    "etcsl_words_s = set(etcsl[\"lemma\"])\n",
    "lexical_words_s = set(lexical[\"lemma\"])\n",
    "etcsl_words_s = {lemma for lemma in etcsl_words_s if not '[na]na' in lemma}\n",
    "lexical_words_s = {lemma for lemma in lexical_words_s if not '[na]na' in lemma}"
   ]
  },
  {
   "cell_type": "markdown",
   "metadata": {},
   "source": [
    "The `venn2` command from the `matplotlib_venn` library creates a Venn diagram of two sets. Each set is represented by a circle, the diameter of the circle is related to the number of elements in the set. The overlap between the circles represents elements that are contained in both sets.\n",
    "\n",
    "In its most basic form the `venn2()` command simply takes a list that contains the two sets."
   ]
  },
  {
   "cell_type": "code",
   "execution_count": 14,
   "metadata": {},
   "outputs": [
    {
     "data": {
      "text/plain": [
       "<matplotlib_venn._common.VennDiagram at 0xc6d2390>"
      ]
     },
     "execution_count": 14,
     "metadata": {},
     "output_type": "execute_result"
    },
    {
     "data": {
      "image/png": "[encoded data removed]",
      "text/plain": [
       "<Figure size 432x288 with 1 Axes>"
      ]
     },
     "metadata": {},
     "output_type": "display_data"
    }
   ],
   "source": [
    "venn2([etcsl_words_s, lexical_words_s])"
   ]
  },
  {
   "cell_type": "markdown",
   "metadata": {},
   "source": [
    "This basic plot is not too informative because it does not include the size of each set, nor its name. We can customize colors, size of the plot, and the legends. This customization is put in a function so it can be reused later on."
   ]
  },
  {
   "cell_type": "code",
   "execution_count": 15,
   "metadata": {},
   "outputs": [],
   "source": [
    "def plot_venn(lit_vocab, lex_vocab):\n",
    "    \"\"\"The function takes two sets and draws a Venn diagram that shows the intersection between the two sets.\n",
    "    The legend includes the size of each set and the percentage of the intersection with the other set.\n",
    "    \"\"\"\n",
    "    plt.figure(figsize=(8,8))\n",
    "    lit_abs = len(lit_vocab)\n",
    "    lex_abs = len(lex_vocab)\n",
    "    inter_abs = len(lit_vocab.intersection(lex_vocab))\n",
    "    lit_per = \"{:.0%}\".format(inter_abs/lit_abs)\n",
    "    lex_per = \"{:.0%}\".format(inter_abs/lex_abs)\n",
    "    lit_legend = \"literary (\" + str(lit_abs) + ') ' + lit_per + \" overlap\"\n",
    "    lex_legend = \"lexical (\" + str(lex_abs) + ') ' + lex_per + \" overlap\"\n",
    "    c = venn2([lit_vocab, lex_vocab], (lit_legend, lex_legend))\n",
    "    c.get_patch_by_id('10').set_color(\"#fdb515\")\n",
    "    c.get_patch_by_id('01').set_color(\"#003262\")\n",
    "    c.get_patch_by_id('11').set_color(\"#bc9b6a\")\n",
    "    plt.show()\n",
    "    return"
   ]
  },
  {
   "cell_type": "code",
   "execution_count": 16,
   "metadata": {},
   "outputs": [
    {
     "data": {
      "image/png": "[encoded data removed]",
      "text/plain": [
       "<Figure size 576x576 with 1 Axes>"
      ]
     },
     "metadata": {},
     "output_type": "display_data"
    }
   ],
   "source": [
    "plot_venn(etcsl_words_s, lexical_words_s)"
   ]
  },
  {
   "cell_type": "markdown",
   "metadata": {},
   "source": [
    "### Discussion\n",
    "The plot shows that the lexical and literary vocabularies are of approximately equal size and that they overlap for almost 50%. In some ways, however, this result is somewhat misleading. Lexical texts include primary words (such as \"sheep\" or \"plow\") but the great majority of lexical entries are noun phrases (verb phrases are less common) that consist of multiple words. In the current approach the (lexical) noun phrase **gud an-na** is reduced to the lemmas `gud[bull]N` and `an[heaven]` - two very frequent nouns that are certainly going to show up in the literary corpus. But what about the phrase \"bull of heaven\"?"
   ]
  },
  {
   "cell_type": "markdown",
   "metadata": {},
   "source": [
    "## 2 Second Approach: Multiple Word Expressions\n",
    "\n",
    "Instead of looking at individual words (or lexemes), we may also look at lexical *entries* and their presence (or absence) in literary texts. The list of domestic animals, for instance, includes the entry `udu dijir-e gu₇-a`('sheep eaten by a god'), lemmatized as `udu[sheep]n diŋir[god]n gu[eat]v/t`. Unsurprisingly, all these very common lemmas appear in the literary corpus, and thus in our previous analysis this item results in three hits. But does the expression as a whole ever appear in the literary corpus? \n",
    "\n",
    "In order to perform the comparison on the lexical entry level we first need to represent our data (lexical and literary) as lines, rather than as individual words. Lines in lexical texts will become our unit of comparison. Lines in literary texts will serve as boundaries, since noun phrases do not usually continue from one line to the next."
   ]
  },
  {
   "cell_type": "markdown",
   "metadata": {},
   "source": [
    "### 2.1 Line by Line\n",
    "\n",
    "The dataframe `lexical` that was produced in section 0.4 contains the lemmatizations of all Old Babylonian lexical texts in a word-by-word (or rather lemma-by-lemma) arrangement. In order to work with lexical *entries* we need to reconstruct lines. That is, we collect the words (lemmas) that belong to the same line of the same lexical text. The dataframe `lexical` includes the fields `id_text` and `id_line` that allow us to do so. We want to change a series of entries like this:\n",
    "\n",
    "| id_text | id_line | lemma|\n",
    "|:-------|:------|:------|\n",
    "| dcclt/Q000001 |\t1 | udu\\[sheep\\]n |\n",
    "| dcclt/Q000001|\t1 | niga\\[fattened\\]v/i|\n",
    "| dcclt/Q000001|\t2 |\tudu\\[sheep\\]n|\n",
    "| dcclt/Q000001|\t2 |\tniga\\[fattened\\]v/i|\n",
    "| dcclt/Q000001|\t2 |\tsag\\[rare\\]v/i|\n",
    "\n",
    "Into two entries (representing two lines in a lexical text) like this:\n",
    "\n",
    "| id_text | id_line | lemma|\n",
    "|:-------|:------|:------|\n",
    "| dcclt/Q000001 |\t1 | udu\\[sheep\\]n niga\\[fattened\\]v/i |\n",
    "| dcclt/Q000001|\t2 | udu\\[sheep\\]n niga\\[fattened\\]v/i sag\\[rare\\]v/i |\n",
    "\n",
    "In order to do this we use the Pandas functions `groupby()` and `agg()` (for aggregate). The `groupby()` function takes as argument a list of fields on which the grouping should be performed, in this case the fields `id_text` and `id_line`. The `groupby()` function returns a so-called \"GroupBy object\" which preserves all the information of the original dataframe. The GroupBy object can be further manipulated with the `agg()` function.\n",
    "\n",
    "The `agg()` function works on a GroupBy object and computes summary statistics (such as mean, sum, or average) for each group. In our case each group is a line in a lexical text and the \"summary statistics\" that we want is simply the concatenation of all the string values in the `lemma` column. The `agg()` function takes as argument a dictionary with field names as key and  functions as value. The function `' '.join` joins the strings in the `lemma` column and separates them by a space. A second field that is aggregated is `extent`. This field indicates (among other things) the number of broken or illegible lines between two lines of text. We will use that data in a later phase of the analyis.\n",
    "\n",
    "The `agg()` function returns a new dataframe with a composite index. The Pandas function `reset_index()` will create a new (flat) index that starts counting from 0."
   ]
  },
  {
   "cell_type": "code",
   "execution_count": 17,
   "metadata": {},
   "outputs": [],
   "source": [
    "lexical = lexical.groupby([lexical['id_text'], lexical['id_line']]).agg({\n",
    "        'lemma': ' '.join,\n",
    "        'extent': ''.join\n",
    "    }).reset_index()"
   ]
  },
  {
   "cell_type": "code",
   "execution_count": 18,
   "metadata": {},
   "outputs": [
    {
     "data": {
      "text/html": [
       "<div>\n",
       "<style scoped>\n",
       "    .dataframe tbody tr th:only-of-type {\n",
       "        vertical-align: middle;\n",
       "    }\n",
       "\n",
       "    .dataframe tbody tr th {\n",
       "        vertical-align: top;\n",
       "    }\n",
       "\n",
       "    .dataframe thead th {\n",
       "        text-align: right;\n",
       "    }\n",
       "</style>\n",
       "<table border=\"1\" class=\"dataframe\">\n",
       "  <thead>\n",
       "    <tr style=\"text-align: right;\">\n",
       "      <th></th>\n",
       "      <th>id_text</th>\n",
       "      <th>id_line</th>\n",
       "      <th>lemma</th>\n",
       "      <th>extent</th>\n",
       "    </tr>\n",
       "  </thead>\n",
       "  <tbody>\n",
       "    <tr>\n",
       "      <th>0</th>\n",
       "      <td>dcclt/P117394</td>\n",
       "      <td>2</td>\n",
       "      <td>kid[mat]n</td>\n",
       "      <td></td>\n",
       "    </tr>\n",
       "    <tr>\n",
       "      <th>1</th>\n",
       "      <td>dcclt/P117394</td>\n",
       "      <td>3</td>\n",
       "      <td>kid[mat]n andul[shade]n</td>\n",
       "      <td></td>\n",
       "    </tr>\n",
       "    <tr>\n",
       "      <th>2</th>\n",
       "      <td>dcclt/P117394</td>\n",
       "      <td>4</td>\n",
       "      <td>kid[mat]n antadul[cloak]n</td>\n",
       "      <td></td>\n",
       "    </tr>\n",
       "    <tr>\n",
       "      <th>3</th>\n",
       "      <td>dcclt/P117395</td>\n",
       "      <td>2</td>\n",
       "      <td>ŋešed[key]n</td>\n",
       "      <td></td>\n",
       "    </tr>\n",
       "    <tr>\n",
       "      <th>4</th>\n",
       "      <td>dcclt/P117395</td>\n",
       "      <td>3</td>\n",
       "      <td>pakud[~tree]n</td>\n",
       "      <td></td>\n",
       "    </tr>\n",
       "    <tr>\n",
       "      <th>5</th>\n",
       "      <td>dcclt/P117395</td>\n",
       "      <td>4</td>\n",
       "      <td>raba[clamp]n</td>\n",
       "      <td></td>\n",
       "    </tr>\n",
       "    <tr>\n",
       "      <th>6</th>\n",
       "      <td>dcclt/P117396</td>\n",
       "      <td>2</td>\n",
       "      <td>hašhur[apple]n</td>\n",
       "      <td></td>\n",
       "    </tr>\n",
       "    <tr>\n",
       "      <th>7</th>\n",
       "      <td>dcclt/P117396</td>\n",
       "      <td>3</td>\n",
       "      <td>hašhur[apple]n baza[dwarf]n</td>\n",
       "      <td></td>\n",
       "    </tr>\n",
       "    <tr>\n",
       "      <th>8</th>\n",
       "      <td>dcclt/P117396</td>\n",
       "      <td>4</td>\n",
       "      <td>hašhur[apple]n mari[1]sn</td>\n",
       "      <td></td>\n",
       "    </tr>\n",
       "    <tr>\n",
       "      <th>9</th>\n",
       "      <td>dcclt/P117397</td>\n",
       "      <td>2</td>\n",
       "      <td>laqipu[1]dn</td>\n",
       "      <td></td>\n",
       "    </tr>\n",
       "  </tbody>\n",
       "</table>\n",
       "</div>"
      ],
      "text/plain": [
       "         id_text  id_line                        lemma extent\n",
       "0  dcclt/P117394        2                    kid[mat]n       \n",
       "1  dcclt/P117394        3      kid[mat]n andul[shade]n       \n",
       "2  dcclt/P117394        4    kid[mat]n antadul[cloak]n       \n",
       "3  dcclt/P117395        2                  ŋešed[key]n       \n",
       "4  dcclt/P117395        3                pakud[~tree]n       \n",
       "5  dcclt/P117395        4                 raba[clamp]n       \n",
       "6  dcclt/P117396        2               hašhur[apple]n       \n",
       "7  dcclt/P117396        3  hašhur[apple]n baza[dwarf]n       \n",
       "8  dcclt/P117396        4     hašhur[apple]n mari[1]sn       \n",
       "9  dcclt/P117397        2                  laqipu[1]dn       "
      ]
     },
     "execution_count": 18,
     "metadata": {},
     "output_type": "execute_result"
    }
   ],
   "source": [
    "lexical[:10]"
   ]
  },
  {
   "cell_type": "markdown",
   "metadata": {},
   "source": [
    "Now we do essentially the same for the `etcsl` dataframe, reconstructing lines in literary compositions."
   ]
  },
  {
   "cell_type": "code",
   "execution_count": null,
   "metadata": {},
   "outputs": [],
   "source": [
    "etcsl = etcsl.groupby([etcsl['id_text'], etcsl['id_line'], etcsl['text_name']]).agg({\n",
    "        'lemma': ' '.join,\n",
    "        'extent': ''.join\n",
    "    }).reset_index()"
   ]
  },
  {
   "cell_type": "code",
   "execution_count": null,
   "metadata": {
    "scrolled": false
   },
   "outputs": [],
   "source": [
    "etcsl[1000:1010]"
   ]
  },
  {
   "cell_type": "markdown",
   "metadata": {},
   "source": [
    "### 2.2 Extract lexical entries \n",
    "Each row in the resulting DataFrame `lexical` now consists of a text ID (`id_text`), a line number (`id_line`), and the lemmas that represent a lexical *entry* (e.g. `udu[sheep]n diŋir[god]n gu[eat]v/t`). We extract the `lemma` column, remove duplicate lexical entries with the `set()` function and create a `list`. Any entry that contains an unlemmatized word is useless for the comparison and is omitted by means of a list comprehension."
   ]
  },
  {
   "cell_type": "code",
   "execution_count": 20,
   "metadata": {},
   "outputs": [
    {
     "data": {
      "text/plain": [
       "['enduana[song]n',\n",
       " 'ea[1]dn',\n",
       " 'kišib[seal]n saŋgirmud[stone]n',\n",
       " 'bisaŋ[basket]n e[house]n kud[cut]v/t',\n",
       " 'lu[person]n šu[hand]n la[hang]v/t',\n",
       " 'igimul[bird]n',\n",
       " 'lu[person]n gudug[priest]n zi[life]n kur[enter]v/i',\n",
       " 'e[speak]v/i',\n",
       " 'nim[fly]n urdib[cub]n',\n",
       " 'kag[mouth]n zib[mark]n',\n",
       " 'kisiga[1]sn',\n",
       " 'lu[person]n ala[drum]n',\n",
       " 'guza[chair]n ad[log]n',\n",
       " 'lu[person]n kiŋ[pointed]v/i',\n",
       " 'lu[person]n kezer[hairstyle]n ak[do]v/t',\n",
       " 'habuda[hoe]n',\n",
       " 'namgalam[skillfullness]n ak[do]v/t',\n",
       " 'eg[levee]n bala[turn]',\n",
       " 'sul[meat]n',\n",
       " 'niŋdu[appropriate-thing]n ugu[food]n']"
      ]
     },
     "execution_count": 20,
     "metadata": {},
     "output_type": "execute_result"
    }
   ],
   "source": [
    "lex_vocab = list(set(lexical[\"lemma\"]))\n",
    "lex_vocab = [lemma for lemma in lex_vocab if not \"[na]na\" in lemma ]\n",
    "lex_vocab[0:20]"
   ]
  },
  {
   "cell_type": "markdown",
   "metadata": {},
   "source": [
    "## 2.3 Mark lexical entries in literary texts\n",
    "The list `lex_vocab` now contains all uniquely lemmatized entries in the Old Babylonian lexical corpus as edited in [DCCLT](http://oracc.org/dcclt). This is the vocabulary that we wish to find in the literary corpus as edited in [ETCSL](http://etcsl.orinst.ox.ac.uk/).\n",
    "\n",
    "In order to do so we will first sort the list `lex_vocab` by string length, so that the longest item comes first. We now iterate through the list and check to see if the item contains multiple lemmatizations (contains spaces). If so, we will search for identical sequences of lemmas in the `etcsl` dataframe and connect those lemmas with asterisks. Here it is important that the `etcsl` dataframe still has the unlemmatized entries. We want to match `gud[bull]n an[heaven]n` with `gud[bull]n an[heaven]n`, but not with `gud[bull]n x-ga[na]na an[heaven]n`.\n",
    "\n",
    "We will mark the matching lemma sequences with the Pandas function `str.replace()`. This function takes two arguments: the string to be replaced, and the replacement string. By default, `str.replace()` uses [regular expressions](https://www.regular-expressions.info/), so that a string like `udu[sheep]n` is interpreted as \"any string that begins with 'udu' followed by one of the characters in '\\[sheep\\]' followed by 'n'\". This is obvioously not what we want (the search will most likely find zero matches). We can avoid this behaviour by \"escaping\" the special characters (preceding them with a backslash). The function `escape()` from the `re` (regular expression) library takes care of that.\n",
    "\n",
    "Now we create a variable `replacewith` that is identical with the lexical item, but has its spaces replaced by asterisks. Finally we run the `str.,replace()`.\n",
    "\n",
    "This process takes a considerable amount of time. It has to check each line in [ETCSL](http://etcsl.orinst.ox.ac.uk/) (almost 36.500 lines) against thousands of lexical entries. The progress bar (form the `tqdm` library) follows the progress through the list of lexical entries.\n",
    "\n",
    "The `lemma` column of the `etcsl` dataframe will now represent the [ETCSL](http://etcsl.orinst.ox.ac.uk/) data in a line-by-line presentation of lemmatizations, with asterisks connecting lemmas if a corresponding sequence of lemmas exists as a lexical entry."
   ]
  },
  {
   "cell_type": "code",
   "execution_count": 21,
   "metadata": {},
   "outputs": [
    {
     "name": "stderr",
     "output_type": "stream",
     "text": [
      "100%|██████████████████████████████████████| 9505/9505 [35:28<00:00,  4.47it/s]\n"
     ]
    }
   ],
   "source": [
    "lex_vocab.sort(key=len, reverse=True)\n",
    "for item in tqdm.tqdm(lex_vocab):\n",
    "    if \" \" in item:\n",
    "        findwhat = re.escape(item)\n",
    "        replacewith = item.replace(\" \", \"*\")\n",
    "        etcsl[\"lemma\"] = etcsl[\"lemma\"].str.replace(findwhat, replacewith)"
   ]
  },
  {
   "cell_type": "code",
   "execution_count": 22,
   "metadata": {},
   "outputs": [],
   "source": [
    "etcsl_words2 = ' '.join(list(etcsl[\"lemma\"]))\n",
    "etcsl_words_s2 = set(etcsl_words2.split())\n",
    "lexical_words_s2 = set(list(lexical[\"lemma\"]))\n",
    "etcsl_words_s2 = {lemma for lemma in etcsl_words_s2 if not '[na]na' in lemma}\n",
    "#lexical_words_s2 = {lemma for lemma in lexical_words_s2 if not '[na]na' in lemma}"
   ]
  },
  {
   "cell_type": "code",
   "execution_count": 23,
   "metadata": {},
   "outputs": [
    {
     "data": {
      "image/png": "[encoded data removed]",
      "text/plain": [
       "<Figure size 576x576 with 1 Axes>"
      ]
     },
     "metadata": {},
     "output_type": "display_data"
    }
   ],
   "source": [
    "plot_venn(etcsl_words_s2, lexical_words_s2)"
   ]
  },
  {
   "cell_type": "markdown",
   "metadata": {},
   "source": [
    "# Add them Up\n",
    "By creating the union of the two sets (the set with individual words and the set with the lexical entries only) we get the most complete comparison of the two corpora. Here `gud[oxen]N*an[heaven]N`, `gud[oxen]N` and `an[heaven]N` are all counted as words, whether or not `gud` and `an` actually appear as such in the lexical corpus.\n",
    "\n",
    "It turns out that this addition adds only twenty words to the literary vocabulary. These are words that appear in lexical expressions (connected by \\*), but never appear on their own outside such expressions. The lexical corpus has more of those lexemes: more than 700; about half of those also appear in the literary corpus, increasing the overlap by about 370."
   ]
  },
  {
   "cell_type": "code",
   "execution_count": null,
   "metadata": {},
   "outputs": [],
   "source": [
    "etcsl_words_s3 = etcsl_words_s | etcsl_words_s2\n",
    "lexical_words_s3 = lexical_words_s | lexical_words_s2"
   ]
  },
  {
   "cell_type": "code",
   "execution_count": null,
   "metadata": {},
   "outputs": [],
   "source": [
    "plot_venn(etcsl_words_s3, lexical_words_s3)"
   ]
  },
  {
   "cell_type": "markdown",
   "metadata": {},
   "source": [
    "# Create a Corpus\n",
    "The etcsl dataframe is organized by line. The `aggregate` function assembles the lines that belong to a single composition. The resulting dataframe has 394 entries, one for each composition. "
   ]
  },
  {
   "cell_type": "code",
   "execution_count": null,
   "metadata": {},
   "outputs": [],
   "source": [
    "corpus = etcsl.groupby([etcsl[\"etcsl_no\"], etcsl[\"text_name\"]]).aggregate({\"text\": \" \".join}).reset_index()"
   ]
  },
  {
   "cell_type": "markdown",
   "metadata": {},
   "source": [
    "# Document Term Matrix\n",
    "The corpus is transformed into a Document Term Matrix (or DTM) in which each word (or expression) is a column and each row a Sumerian composition. The lexical vocabulary is used as a filter (only words that appear in the lexical texts are allowed in the DTM).\n",
    "\n",
    "First sort the lexical vocabulary alphabetically.\n",
    "\n",
    "Use CountVectorizer (from Sklearn) to initiate the DTM. The `token_pattern` indicates what a word looks like and what signals the end of a word. In modern corpora this can be fairly complex (including spaces, commas, full stops, etc.) but in the current corpus a space will always separate one token from the next. The regex `r'[^ ]+'` means \"any sequence of characters, except space\".\n",
    "\n",
    "Transform the DTM to a dataframe.\n",
    "\n",
    "NB a DTM is not necessary for the raw comparison/Venn diagram - only for further inspection."
   ]
  },
  {
   "cell_type": "code",
   "execution_count": null,
   "metadata": {},
   "outputs": [],
   "source": [
    "cv = CountVectorizer(analyzer='word', token_pattern=r'[^ ]+', binary = False, vocabulary=lex_vocab)\n",
    "etcsl_dtm = cv.fit_transform(corpus['text'])\n",
    "#etcsl_df = pd.DataFrame(etcsl_dtm.toarray(), columns= cv.get_feature_names(), index=corpus[\"etcsl_no\"])\n",
    "etcsl_df = pd.DataFrame(etcsl_dtm.toarray(), columns= lex_vocab, index=corpus[\"etcsl_no\"])"
   ]
  },
  {
   "cell_type": "code",
   "execution_count": null,
   "metadata": {},
   "outputs": [],
   "source": [
    "etcsl_df"
   ]
  },
  {
   "cell_type": "markdown",
   "metadata": {},
   "source": [
    "# Words in Lexical Texts not in ETCSL\n",
    "If a word or expression in the lexical corpus is never used in the literary texts from [ETCSL](http://etcsl.orinst.ox.ac.uk/) the sum of its column will be `0`.\n",
    "\n",
    "Give the number of columns (the number of unique words and expressions in the lexical texts), the number of words/expressions never used in the ETCSL corpus and the relation between those two numbers in percent."
   ]
  },
  {
   "cell_type": "code",
   "execution_count": null,
   "metadata": {},
   "outputs": [],
   "source": [
    "lex_not_in_etcsl = etcsl_df.loc[:, etcsl_df.sum()==0]\n",
    "len(etcsl_df.columns), len(lex_not_in_etcsl.columns), str(len(lex_not_in_etcsl.columns)/len(etcsl_df.columns)*100) + \"%\""
   ]
  },
  {
   "cell_type": "markdown",
   "metadata": {},
   "source": [
    "# Simplify\n",
    "The above may be an overly complex way of doing it.\n",
    "Alternative: make a full dtm of etcsl (without a vocabulary constraint); make the etcsl vocabulary and lexical vocabulary into sets that can be subtracted from each other."
   ]
  },
  {
   "cell_type": "code",
   "execution_count": null,
   "metadata": {},
   "outputs": [],
   "source": [
    "cv = CountVectorizer(analyzer='word', token_pattern=r'[^ ]+', binary = False)\n",
    "etcsl2_dtm = cv.fit_transform(corpus['text'])\n",
    "etcsl2_df = pd.DataFrame(etcsl2_dtm.toarray(), columns= cv.get_feature_names(), index=corpus[\"etcsl_no\"])\n",
    "etcsl_vocab_s = set(etcsl2_df.columns)\n",
    "lex_vocab_s = set(lex_vocab)\n",
    "diff_e_l = list(etcsl_vocab_s - lex_vocab_s)\n",
    "diff_l_e = list(lex_vocab_s - etcsl_vocab_s)"
   ]
  },
  {
   "cell_type": "code",
   "execution_count": null,
   "metadata": {},
   "outputs": [],
   "source": [
    "print(\"number of words/expressions in ETCSL \" + str(len(etcsl_vocab_s)))\n",
    "print(\"number of words/expressions in lexical texts \" + str(len(lex_vocab_s)))\n",
    "print(\"number of words/expressions in ETCSL not in lexical \" + str(len(diff_e_l)))\n",
    "print(\"number of words/expressions in lexical not in ETCSL \" + str(len(diff_l_e)))"
   ]
  },
  {
   "cell_type": "code",
   "execution_count": null,
   "metadata": {},
   "outputs": [],
   "source": [
    "plt.figure(figsize=(4,4))\n",
    "venn2([etcsl_vocab_s, lex_vocab_s], (\"literary\", \"lexical\"))\n",
    "plt.show()"
   ]
  },
  {
   "cell_type": "markdown",
   "metadata": {},
   "source": [
    "# Rare Words Shared by Lex and Lit\n",
    "Which words appear in Lex and in Lit but appear only once in Lit? In which composition do we find such words; which words are those?\n",
    "\n",
    "First create a dataframe (`rare`) that only has the columns that add up to `1` (word or expression appears only once in the corpus). The row totals of this dataframe indicate per composition (= row) how many such rare words they contain. These row totals are added as a separate column. The composition naes are extracted from the `corpus` dataframe created above. Finally the dataframe is sorted by the row totals.\n",
    "\n",
    "The dataframe `rare` includes columns for each of the words that appear only once. We are showing only the columns that identify the composition and the row totals."
   ]
  },
  {
   "cell_type": "code",
   "execution_count": null,
   "metadata": {},
   "outputs": [],
   "source": [
    "rare =etcsl_df.loc[:, etcsl_df.sum()==1].reset_index()\n",
    "rare[\"no. of unique lexical correspondences\"] = rare.sum(axis=1)\n",
    "rare[\"text_name\"] = corpus[\"text_name\"]\n",
    "rare = rare.sort_values('no. of unique lexical correspondences', ascending = False)\n",
    "rare.loc[:,[\"etcsl_no\", \"no. of unique lexical correspondences\", \"text_name\"]]"
   ]
  },
  {
   "cell_type": "markdown",
   "metadata": {},
   "source": [
    "# Which Words?\n",
    "Which are the rare words that define this list of compositions? We first extract the full list of words from the column names of the daraframe `rare`. The variable `words` is a Numpy array that contains strings."
   ]
  },
  {
   "cell_type": "code",
   "execution_count": null,
   "metadata": {},
   "outputs": [],
   "source": [
    "words = rare.columns.values\n",
    "len(words)"
   ]
  },
  {
   "cell_type": "markdown",
   "metadata": {},
   "source": [
    "# The rare words in the top-ten\n",
    "The first ten compositions in our list are the ones that have the most rare words shared with lexical texts. Each row, representing a composition, has columns that represent individual words. We create a `mask` (a sequence of boolean values `True` or `False`) that indicate whether or not the value in the column is 1. If the boolean is `True` the word is printed."
   ]
  },
  {
   "cell_type": "code",
   "execution_count": null,
   "metadata": {},
   "outputs": [],
   "source": [
    "for i in range(10):\n",
    "    indexes = rare.iloc[i] == 1\n",
    "    print(rare.iloc[i,-1]), print(words[indexes])"
   ]
  },
  {
   "cell_type": "code",
   "execution_count": null,
   "metadata": {},
   "outputs": [],
   "source": [
    "lexical[\"text\"] = lexical[\"text\"].str.replace(\" \", \"*\")\n",
    "lexical"
   ]
  },
  {
   "cell_type": "code",
   "execution_count": null,
   "metadata": {},
   "outputs": [],
   "source": [
    "lexical_corpus = lexical.groupby([lexical[\"id_text\"], \n",
    "                                  lexical[\"text_name\"]]).aggregate({\"text\": \" \".join}).reset_index()\n",
    "lexical_corpus"
   ]
  },
  {
   "cell_type": "markdown",
   "metadata": {},
   "source": [
    "### 2.1 Select Lexical Compositions\n",
    "Select the following compositions: \n",
    "* Ura 1 dcclt/Q000039\n",
    "* Ura 2 dcclt/Q000040\n",
    "* Ura 3 dcclt/Q000001\n",
    "* Ura 4 dcclt/Q000041\n",
    "* Ura 5 dcclt/Q000042\n",
    "* Ura 6 dcclt/Q000043\n",
    "* Lu₂-Azlag₂ B/C Q000302 \n",
    "* Ugumu dcclt/Q000268\n",
    "* Diri dcclt/Q000057\n",
    "* Nigga dcclt/Q000052\n",
    "* Izi dcclt/Q000050\n",
    "* Kagal dcclt/Q000048\n",
    "* Lu dcclt/Q000047\n"
   ]
  },
  {
   "cell_type": "code",
   "execution_count": null,
   "metadata": {},
   "outputs": [],
   "source": [
    "keep = [\"dcclt/Q000039\", \n",
    "    \"dcclt/Q000040\",\n",
    "    \"dcclt/Q000001\",\n",
    "    \"dcclt/Q000041\",\n",
    "    \"dcclt/Q000042\",\n",
    "    \"dcclt/Q000043\",\n",
    "    \"dcclt/Q000302 \",\n",
    "    \"dcclt/Q000268\",\n",
    "    \"dcclt/Q000057\",\n",
    "    \"dcclt/Q000052\",\n",
    "    \"dcclt/Q000050\",\n",
    "    \"dcclt/Q000048\",\n",
    "    \"dcclt/Q000047\"]\n",
    "lexical = lexical.loc[lexical[\"id_text\"].isin(keep)]"
   ]
  },
  {
   "cell_type": "code",
   "execution_count": null,
   "metadata": {},
   "outputs": [],
   "source": [
    "lexical_temp = lexical[[\"id_text\", \"id_line\", \"lemma\"]]"
   ]
  },
  {
   "cell_type": "code",
   "execution_count": null,
   "metadata": {},
   "outputs": [],
   "source": [
    "lexical_temp[lexical_temp[\"id_text\"]==\"dcclt/Q000001\"]"
   ]
  },
  {
   "cell_type": "code",
   "execution_count": null,
   "metadata": {},
   "outputs": [],
   "source": [
    "lexical = lexical.groupby([lexical['id_text'], lexical['id_line']]).agg({\n",
    "        'lemma': ' '.join,\n",
    "        'extent': ''.join\n",
    "    })"
   ]
  },
  {
   "cell_type": "code",
   "execution_count": null,
   "metadata": {},
   "outputs": [],
   "source": [
    "lexical"
   ]
  },
  {
   "cell_type": "code",
   "execution_count": null,
   "metadata": {},
   "outputs": [],
   "source": []
  }
 ],
 "metadata": {
  "kernelspec": {
   "display_name": "Python 3",
   "language": "python",
   "name": "python3"
  },
  "language_info": {
   "codemirror_mode": {
    "name": "ipython",
    "version": 3
   },
   "file_extension": ".py",
   "mimetype": "text/x-python",
   "name": "python",
   "nbconvert_exporter": "python",
   "pygments_lexer": "ipython3",
   "version": "3.7.0"
  }
 },
 "nbformat": 4,
 "nbformat_minor": 2
}
