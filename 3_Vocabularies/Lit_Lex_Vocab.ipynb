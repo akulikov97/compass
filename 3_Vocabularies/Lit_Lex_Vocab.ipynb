{
 "cells": [
  {
   "cell_type": "markdown",
   "metadata": {},
   "source": [
    "# Overlap in Lexical and Literary Vocabulary\n",
    "\n",
    "Comparing the vocabulary of Old Babylonian lexical texts (from Nippur) and the vocabulary of the Sumerian literary corpus as represented in [ETCSL](http://etcsl.orinst.ox.ac.uk/).\n",
    "\n",
    "## 0 Preparation \n",
    "In order to run this notebook, parse the [DCCLT](http://oracc.org/dcclt) data with the Extended ORACC Parser (2.3.3) and the [ETCSL](http://etcsl.orinst.ox.ac.uk) data with the ETCSL Parser (2.4)."
   ]
  },
  {
   "cell_type": "code",
   "execution_count": 2,
   "metadata": {},
   "outputs": [],
   "source": [
    "%matplotlib inline\n",
    "import pandas as pd\n",
    "import os\n",
    "from sklearn.feature_extraction.text import CountVectorizer\n",
    "from matplotlib import pyplot as plt\n",
    "from matplotlib_venn import venn2\n",
    "import tqdm\n",
    "import re\n",
    "import zipfile\n",
    "import json"
   ]
  },
  {
   "cell_type": "markdown",
   "metadata": {},
   "source": [
    "### 0.1 Read ETCSL Data Files\n",
    "Open the file `alltexts.csv` which contains all the [ETCSL](http://etcsl.orinst.ox.ac.uk) and read the data into a `Pandas`DataFrame. Each row is a word from [ETCSL](http://etcsl.orinst.ox.ac.uk/) in lemmatized format, according to [ePSD2](http://build-oracc.museum.upenn.edu/epsd2) standards."
   ]
  },
  {
   "cell_type": "code",
   "execution_count": 3,
   "metadata": {},
   "outputs": [],
   "source": [
    "file = \"../2_4_Data_Acquisition_ETCSL/Output/alltexts.csv\"\n",
    "etcsl = pd.read_csv(file, keep_default_na=False)\n",
    "etcsl = etcsl.loc[etcsl[\"lang\"].str.contains(\"sux\")]  # throw out non-Sumerian words"
   ]
  },
  {
   "cell_type": "markdown",
   "metadata": {},
   "source": [
    "### 0.2 Lemmas\n",
    "Create a lemmas column and lowercase all lemmas."
   ]
  },
  {
   "cell_type": "code",
   "execution_count": 4,
   "metadata": {},
   "outputs": [],
   "source": [
    "etcsl[\"lemma\"] = etcsl.apply(lambda r: (r[\"cf\"] + '[' + r[\"gw\"] + ']' + r[\"pos\"]) \n",
    "                            if r[\"cf\"] != '' else r['form'] + '[NA]NA', axis=1)\n",
    "etcsl['lemma'] = [lemma if not lemma == '[NA]NA' else '' for lemma in etcsl['lemma'] ] \n",
    "# kick out empty forms\n",
    "etcsl[\"lemma\"] = etcsl[\"lemma\"].str.lower()"
   ]
  },
  {
   "cell_type": "markdown",
   "metadata": {},
   "source": [
    "### 0.3 Read Lexical Data\n",
    "\n",
    "Essentially following the same process as in the preceding cells."
   ]
  },
  {
   "cell_type": "code",
   "execution_count": 5,
   "metadata": {},
   "outputs": [],
   "source": [
    "file = \"../2_3_Data_Acquisition_ORACC/output/parsed.csv\"\n",
    "lexical = pd.read_csv(file, keep_default_na=False)\n",
    "lexical = lexical.loc[lexical[\"lang\"].str.contains(\"sux\")]"
   ]
  },
  {
   "cell_type": "code",
   "execution_count": 6,
   "metadata": {},
   "outputs": [],
   "source": [
    "lexical[\"lemma\"] = lexical.apply(lambda r: (r[\"cf\"] + '[' + r[\"gw\"] + ']' + r[\"pos\"]) \n",
    "                            if r[\"cf\"] != '' else r['form'] + '[NA]NA', axis=1)\n",
    "lexical['lemma'] = [lemma if not lemma == '[NA]NA' else '' for lemma in lexical['lemma'] ] \n",
    "# kick out empty forms\n",
    "lexical[\"lemma\"] = lexical[\"lemma\"].str.lower()"
   ]
  },
  {
   "cell_type": "code",
   "execution_count": 7,
   "metadata": {},
   "outputs": [],
   "source": [
    "lexical = lexical[~lexical[\"field\"].isin([\"sg\", \"pr\"])] # remove lemmas that derive from the fields \"sign\" \n",
    "# or \"pronunciation\" in sign lists."
   ]
  },
  {
   "cell_type": "markdown",
   "metadata": {},
   "source": [
    "### 0.4 Select Old Babylonian Texts"
   ]
  },
  {
   "cell_type": "code",
   "execution_count": 8,
   "metadata": {},
   "outputs": [],
   "source": [
    "file = \"../2_3_Data_Acquisition_ORACC/jsonzip/dcclt.zip\"\n",
    "z = zipfile.ZipFile(file) \n",
    "st = z.read(\"dcclt/catalogue.json\").decode(\"utf-8\")\n",
    "j = json.loads(st)\n",
    "cat_df = pd.DataFrame(j[\"members\"]).T\n",
    "cat_df = cat_df[[\"id_text\", \"period\"]]"
   ]
  },
  {
   "cell_type": "code",
   "execution_count": 9,
   "metadata": {},
   "outputs": [],
   "source": [
    "ob = cat_df[cat_df[\"period\"] == \"Old Babylonian\"]"
   ]
  },
  {
   "cell_type": "code",
   "execution_count": 10,
   "metadata": {},
   "outputs": [],
   "source": [
    "keep = ob.index.values\n",
    "keep = ['dcclt/' + id_text for id_text in keep]\n",
    "lexical = lexical.loc[lexical[\"id_text\"].isin(keep)]"
   ]
  },
  {
   "cell_type": "markdown",
   "metadata": {},
   "source": [
    "## 1 First Approximation\n",
    "Extract the vocabulary of ETCSL and the lexical texts, counting each lemma separately. Thus, in the lexical item `gud an-na` we include the words `gud` (ox) and `an` (heaven) separately to see if those words appear in the literary corpus as well. This approach, therefore, does not look specificaly for attestations of the phrase `gud an-na` in both corpora."
   ]
  },
  {
   "cell_type": "code",
   "execution_count": 11,
   "metadata": {},
   "outputs": [],
   "source": [
    "etcsl_words_s = set(list(etcsl[\"lemma\"]))\n",
    "lexical_words_s = set(list(lexical[\"lemma\"]))\n",
    "etcsl_words_s = {lemma for lemma in etcsl_words_s if not '[na]na' in lemma}\n",
    "lexical_words_s = {lemma for lemma in lexical_words_s if not '[na]na' in lemma}"
   ]
  },
  {
   "cell_type": "code",
   "execution_count": 12,
   "metadata": {},
   "outputs": [],
   "source": [
    "def plot_venn(lit_vocab, lex_vocab):\n",
    "    \"\"\"The function takes two sets and draws a Venn diagram that shows the intersection between the two sets.\n",
    "    The legend includes the length of each set and the percentage of the intersection with the other set.\n",
    "    \"\"\"\n",
    "    plt.figure(figsize=(8,8))\n",
    "    lit_abs = len(lit_vocab)\n",
    "    lex_abs = len(lex_vocab)\n",
    "    inter_abs = len(lit_vocab.intersection(lex_vocab))\n",
    "    lit_per = \"{:.0%}\".format(inter_abs/lit_abs)\n",
    "    lex_per = \"{:.0%}\".format(inter_abs/lex_abs)\n",
    "    lit_legend = \"literary (\" + str(lit_abs) + ') ' + lit_per + \" overlap\"\n",
    "    lex_legend = \"lexical (\" + str(lex_abs) + ') ' + lex_per + \" overlap\"\n",
    "    c = venn2([lit_vocab, lex_vocab], (lit_legend, lex_legend))\n",
    "    c.get_patch_by_id('10').set_color(\"#fdb515\")\n",
    "    c.get_patch_by_id('01').set_color(\"#003262\")\n",
    "    c.get_patch_by_id('11').set_color(\"#bc9b6a\")\n",
    "    plt.show()\n",
    "    return"
   ]
  },
  {
   "cell_type": "code",
   "execution_count": 13,
   "metadata": {},
   "outputs": [
    {
     "data": {
      "image/png": "[encoded data removed]",
      "text/plain": [
       "<Figure size 576x576 with 1 Axes>"
      ]
     },
     "metadata": {},
     "output_type": "display_data"
    }
   ],
   "source": [
    "plot_venn(etcsl_words_s, lexical_words_s)"
   ]
  },
  {
   "cell_type": "markdown",
   "metadata": {},
   "source": [
    "## 2 Second Approach: Multiple Word Expressions\n",
    "\n",
    "Instead of looking at individual words (or lexemes), we may also look at lexical *entries* and their appearance (or not) in literary texts. The list of domestic animals, for instance, includes the entry `udu dijir-e gu₇-a`('sheep eaten by a god'), lemmatized as `udu[sheep]n diŋir[god]n gu[eat]v/t`. Unsurprisingly, all these very common lemmas appear in the literary corpus, and thus in our previous analysis this item results in three hits. But does the expression as a whole ever appear in the literary corpus? \n",
    "\n",
    "In order to perform the comparison on the lexical entry level we first need to represent our data (lexical and literary) as lines, rather than as individual words.\n"
   ]
  },
  {
   "cell_type": "markdown",
   "metadata": {},
   "source": [
    "### 2.1 Line by Line\n",
    "\n",
    "The dataframe `lexical` that was produced in section 0.4 contains the lemmatizations of all Old Babylonian lexical texts in a word-by-word (or rather lemma-by-lemma) arrangement. In order to work with lexical *entries* we need to reconstruct lines. That is, we collect the words (lemmas) that belong to the same line of the same lexical text. The dataframe `lexical` includes the fields `id_text` and `id_line` that allow us to do so. We want to change a series of entries like this:\n",
    "\n",
    "| id_text | id_line | lemma|\n",
    "|:-------|:------|:------|\n",
    "| dcclt/Q000001 |\t1 | udu\\[sheep\\]n |\n",
    "| dcclt/Q000001|\t1 | niga\\[fattened\\]v/i|\n",
    "| dcclt/Q000001|\t2 |\tudu\\[sheep\\]n|\n",
    "| dcclt/Q000001|\t2 |\tniga\\[fattened\\]v/i|\n",
    "| dcclt/Q000001|\t2 |\tsag\\[rare\\]v/i|\n",
    "\n",
    "Into a single entry (representing a single line in a lexical text) like this:\n",
    "\n",
    "| id_text | id_line | lemma|\n",
    "|:-------|:------|:------|\n",
    "| dcclt/Q000001 |\t1 | udu\\[sheep\\]n niga\\[fattened\\]v/i |\n",
    "| dcclt/Q000001|\t2 | udu\\[sheep\\]n niga\\[fattened\\]v/i sag\\[rare\\]v/i |\n",
    "\n",
    "In order to do this we use the Pandas functions `groupby()` and `agg()` (for aggregate). The `groupby()` function takes as argument a list of fields on which the grouping should be performed, in this case the fields `id_text` and `id_line`. The `agg()` function, in addition, indicates which columns of the dataframe (beside `id_text` and `id_line`) are kept and how they are treated when grouped (see also 2.3.???). The `groupby()` function turns the dataframe into a so-called \"GroupBy object\" which preserves all the information of the original dataframe but cannot be as nicely displayed. The GroupBy object can be further manipulated with the `agg()` function.\n",
    "\n",
    "The `agg()` function works on a GroupBy object and computes summary statistics (such as mean, sum, or average) for each group. In our case each group is a line in a lexical text and the \"summary statistics\" that we want is simply the concatenation of all the strings values in the `lemma` column. The `agg()` function takes as argument a dictionary with a field name as key and a function as value. The function `' '.join` joins the elements in the `lemma` column separated by a space. A second field that is aggregated is `extent`. This field indicates the number of broken or illegible lines between two lines of text. We will use that data in a later phase of the analyis.\n",
    "\n",
    "The combination of `groupby()` and `agg()` creates a new dataframe with a composite index. The Pandas function `reset_index()` will create a new index that starts counting from 0."
   ]
  },
  {
   "cell_type": "code",
   "execution_count": null,
   "metadata": {},
   "outputs": [],
   "source": [
    "lexical = lexical.groupby([lexical['id_text'], lexical['id_line']]).agg({\n",
    "        'lemma': ' '.join,\n",
    "        'extent': ''.join\n",
    "    }).reset_index()"
   ]
  },
  {
   "cell_type": "code",
   "execution_count": 15,
   "metadata": {},
   "outputs": [
    {
     "data": {
      "text/html": [
       "<div>\n",
       "<style scoped>\n",
       "    .dataframe tbody tr th:only-of-type {\n",
       "        vertical-align: middle;\n",
       "    }\n",
       "\n",
       "    .dataframe tbody tr th {\n",
       "        vertical-align: top;\n",
       "    }\n",
       "\n",
       "    .dataframe thead th {\n",
       "        text-align: right;\n",
       "    }\n",
       "</style>\n",
       "<table border=\"1\" class=\"dataframe\">\n",
       "  <thead>\n",
       "    <tr style=\"text-align: right;\">\n",
       "      <th></th>\n",
       "      <th>id_text</th>\n",
       "      <th>id_line</th>\n",
       "      <th>lemma</th>\n",
       "      <th>extent</th>\n",
       "    </tr>\n",
       "  </thead>\n",
       "  <tbody>\n",
       "    <tr>\n",
       "      <th>0</th>\n",
       "      <td>dcclt/P117394</td>\n",
       "      <td>2</td>\n",
       "      <td>kid[mat]n</td>\n",
       "      <td></td>\n",
       "    </tr>\n",
       "    <tr>\n",
       "      <th>1</th>\n",
       "      <td>dcclt/P117394</td>\n",
       "      <td>3</td>\n",
       "      <td>kid[mat]n andul[shade]n</td>\n",
       "      <td></td>\n",
       "    </tr>\n",
       "    <tr>\n",
       "      <th>2</th>\n",
       "      <td>dcclt/P117394</td>\n",
       "      <td>4</td>\n",
       "      <td>kid[mat]n antadul[cloak]n</td>\n",
       "      <td></td>\n",
       "    </tr>\n",
       "    <tr>\n",
       "      <th>3</th>\n",
       "      <td>dcclt/P117395</td>\n",
       "      <td>2</td>\n",
       "      <td>ŋešed[key]n</td>\n",
       "      <td></td>\n",
       "    </tr>\n",
       "    <tr>\n",
       "      <th>4</th>\n",
       "      <td>dcclt/P117395</td>\n",
       "      <td>3</td>\n",
       "      <td>pakud[~tree]n</td>\n",
       "      <td></td>\n",
       "    </tr>\n",
       "    <tr>\n",
       "      <th>5</th>\n",
       "      <td>dcclt/P117395</td>\n",
       "      <td>4</td>\n",
       "      <td>raba[clamp]n</td>\n",
       "      <td></td>\n",
       "    </tr>\n",
       "    <tr>\n",
       "      <th>6</th>\n",
       "      <td>dcclt/P117396</td>\n",
       "      <td>2</td>\n",
       "      <td>hašhur[apple]n</td>\n",
       "      <td></td>\n",
       "    </tr>\n",
       "    <tr>\n",
       "      <th>7</th>\n",
       "      <td>dcclt/P117396</td>\n",
       "      <td>3</td>\n",
       "      <td>hašhur[apple]n baza[dwarf]n</td>\n",
       "      <td></td>\n",
       "    </tr>\n",
       "    <tr>\n",
       "      <th>8</th>\n",
       "      <td>dcclt/P117396</td>\n",
       "      <td>4</td>\n",
       "      <td>hašhur[apple]n mari[1]sn</td>\n",
       "      <td></td>\n",
       "    </tr>\n",
       "    <tr>\n",
       "      <th>9</th>\n",
       "      <td>dcclt/P117397</td>\n",
       "      <td>2</td>\n",
       "      <td>laqipu[1]dn</td>\n",
       "      <td></td>\n",
       "    </tr>\n",
       "  </tbody>\n",
       "</table>\n",
       "</div>"
      ],
      "text/plain": [
       "         id_text  id_line                        lemma extent\n",
       "0  dcclt/P117394        2                    kid[mat]n       \n",
       "1  dcclt/P117394        3      kid[mat]n andul[shade]n       \n",
       "2  dcclt/P117394        4    kid[mat]n antadul[cloak]n       \n",
       "3  dcclt/P117395        2                  ŋešed[key]n       \n",
       "4  dcclt/P117395        3                pakud[~tree]n       \n",
       "5  dcclt/P117395        4                 raba[clamp]n       \n",
       "6  dcclt/P117396        2               hašhur[apple]n       \n",
       "7  dcclt/P117396        3  hašhur[apple]n baza[dwarf]n       \n",
       "8  dcclt/P117396        4     hašhur[apple]n mari[1]sn       \n",
       "9  dcclt/P117397        2                  laqipu[1]dn       "
      ]
     },
     "execution_count": 15,
     "metadata": {},
     "output_type": "execute_result"
    }
   ],
   "source": [
    "lexical[:10]"
   ]
  },
  {
   "cell_type": "markdown",
   "metadata": {},
   "source": [
    "Now we do essentially the same for the `etcsl` dataframe, reconstructing lines in literary compositions."
   ]
  },
  {
   "cell_type": "code",
   "execution_count": null,
   "metadata": {},
   "outputs": [],
   "source": [
    "etcsl = etcsl.groupby([etcsl['id_text'], etcsl['id_line'], etcsl['text_name']]).agg({\n",
    "        'lemma': ' '.join,\n",
    "        'extent': ''.join\n",
    "    }).reset_index()"
   ]
  },
  {
   "cell_type": "code",
   "execution_count": 19,
   "metadata": {
    "scrolled": false
   },
   "outputs": [
    {
     "data": {
      "text/html": [
       "<div>\n",
       "<style scoped>\n",
       "    .dataframe tbody tr th:only-of-type {\n",
       "        vertical-align: middle;\n",
       "    }\n",
       "\n",
       "    .dataframe tbody tr th {\n",
       "        vertical-align: top;\n",
       "    }\n",
       "\n",
       "    .dataframe thead th {\n",
       "        text-align: right;\n",
       "    }\n",
       "</style>\n",
       "<table border=\"1\" class=\"dataframe\">\n",
       "  <thead>\n",
       "    <tr style=\"text-align: right;\">\n",
       "      <th></th>\n",
       "      <th>id_text</th>\n",
       "      <th>id_line</th>\n",
       "      <th>text_name</th>\n",
       "      <th>lemma</th>\n",
       "      <th>extent</th>\n",
       "    </tr>\n",
       "  </thead>\n",
       "  <tbody>\n",
       "    <tr>\n",
       "      <th>1000</th>\n",
       "      <td>c.1.1.3</td>\n",
       "      <td>51</td>\n",
       "      <td>Enki and the world order</td>\n",
       "      <td>x[na]na x[na]na x[na]na en[lord]n uŋ[people]n ...</td>\n",
       "      <td></td>\n",
       "    </tr>\n",
       "    <tr>\n",
       "      <th>1001</th>\n",
       "      <td>c.1.1.3</td>\n",
       "      <td>52</td>\n",
       "      <td>Enki and the world order</td>\n",
       "      <td>aya[father]n enki[1]dn uŋ[people]n numun[seed]...</td>\n",
       "      <td></td>\n",
       "    </tr>\n",
       "    <tr>\n",
       "      <th>1002</th>\n",
       "      <td>c.1.1.3</td>\n",
       "      <td>53</td>\n",
       "      <td>Enki and the world order</td>\n",
       "      <td>nudimmud[1]dn u[ewe]n zid[right]v/i ŋa₂[na]na ...</td>\n",
       "      <td></td>\n",
       "    </tr>\n",
       "    <tr>\n",
       "      <th>1003</th>\n",
       "      <td>c.1.1.3</td>\n",
       "      <td>54</td>\n",
       "      <td>Enki and the world order</td>\n",
       "      <td>ab[cow]n numun[seed]n e[leave]v/i amar[young]n...</td>\n",
       "      <td></td>\n",
       "    </tr>\n",
       "    <tr>\n",
       "      <th>1004</th>\n",
       "      <td>c.1.1.3</td>\n",
       "      <td>55</td>\n",
       "      <td>Enki and the world order</td>\n",
       "      <td>uzud[goat]n zid[right]v/i ŋa₂[na]na e[leave]v/...</td>\n",
       "      <td></td>\n",
       "    </tr>\n",
       "    <tr>\n",
       "      <th>1005</th>\n",
       "      <td>c.1.1.3</td>\n",
       "      <td>56</td>\n",
       "      <td>Enki and the world order</td>\n",
       "      <td>gana[field]n gana[field]n zid[right]v/i ŋa₂[na...</td>\n",
       "      <td></td>\n",
       "    </tr>\n",
       "    <tr>\n",
       "      <th>1006</th>\n",
       "      <td>c.1.1.3</td>\n",
       "      <td>57</td>\n",
       "      <td>Enki and the world order</td>\n",
       "      <td>gurudud[heap]n gurumaš[heap]n aneden[steppe]n ...</td>\n",
       "      <td></td>\n",
       "    </tr>\n",
       "    <tr>\n",
       "      <th>1007</th>\n",
       "      <td>c.1.1.3</td>\n",
       "      <td>58</td>\n",
       "      <td>Enki and the world order</td>\n",
       "      <td>kalam[land]n ki[place]n tab[burn]v/t e[leave]v/i</td>\n",
       "      <td></td>\n",
       "    </tr>\n",
       "    <tr>\n",
       "      <th>1008</th>\n",
       "      <td>c.1.1.3</td>\n",
       "      <td>60</td>\n",
       "      <td>Enki and the world order</td>\n",
       "      <td>x[na]na x[na]na</td>\n",
       "      <td></td>\n",
       "    </tr>\n",
       "    <tr>\n",
       "      <th>1009</th>\n",
       "      <td>c.1.1.3</td>\n",
       "      <td>61</td>\n",
       "      <td>Enki and the world order</td>\n",
       "      <td>enki[1]dn lugal[king]n abzu[water]n ni[fear]n ...</td>\n",
       "      <td></td>\n",
       "    </tr>\n",
       "  </tbody>\n",
       "</table>\n",
       "</div>"
      ],
      "text/plain": [
       "      id_text  id_line                 text_name  \\\n",
       "1000  c.1.1.3       51  Enki and the world order   \n",
       "1001  c.1.1.3       52  Enki and the world order   \n",
       "1002  c.1.1.3       53  Enki and the world order   \n",
       "1003  c.1.1.3       54  Enki and the world order   \n",
       "1004  c.1.1.3       55  Enki and the world order   \n",
       "1005  c.1.1.3       56  Enki and the world order   \n",
       "1006  c.1.1.3       57  Enki and the world order   \n",
       "1007  c.1.1.3       58  Enki and the world order   \n",
       "1008  c.1.1.3       60  Enki and the world order   \n",
       "1009  c.1.1.3       61  Enki and the world order   \n",
       "\n",
       "                                                  lemma extent  \n",
       "1000  x[na]na x[na]na x[na]na en[lord]n uŋ[people]n ...         \n",
       "1001  aya[father]n enki[1]dn uŋ[people]n numun[seed]...         \n",
       "1002  nudimmud[1]dn u[ewe]n zid[right]v/i ŋa₂[na]na ...         \n",
       "1003  ab[cow]n numun[seed]n e[leave]v/i amar[young]n...         \n",
       "1004  uzud[goat]n zid[right]v/i ŋa₂[na]na e[leave]v/...         \n",
       "1005  gana[field]n gana[field]n zid[right]v/i ŋa₂[na...         \n",
       "1006  gurudud[heap]n gurumaš[heap]n aneden[steppe]n ...         \n",
       "1007   kalam[land]n ki[place]n tab[burn]v/t e[leave]v/i         \n",
       "1008                                    x[na]na x[na]na         \n",
       "1009  enki[1]dn lugal[king]n abzu[water]n ni[fear]n ...         "
      ]
     },
     "execution_count": 19,
     "metadata": {},
     "output_type": "execute_result"
    }
   ],
   "source": [
    "etcsl[1000:1010]"
   ]
  },
  {
   "cell_type": "markdown",
   "metadata": {},
   "source": [
    "### 2.2 Extract lexical entries \n",
    "Each row in the resulting DataFrame `lexical` now consists of a text ID (`id_text`), a line number (`id_line`), and the lemmas that represent a lexical *entry* (e.g. `udu[sheep]n diŋir[god]n gu[eat]v/t`). We extract the `lemma` column, remove duplicate lexical entries with the `set()` function and create a `list`. "
   ]
  },
  {
   "cell_type": "code",
   "execution_count": 23,
   "metadata": {},
   "outputs": [
    {
     "data": {
      "text/plain": [
       "['x[na]na bu[na]na',\n",
       " '{d}lugal-me-šu-du₇[na]na',\n",
       " '{d}nin-sar[na]na',\n",
       " 'lu₂[na]na igi[na]na duh[na]na lal-a[na]na',\n",
       " 'ba[tool]n zu[stone]n',\n",
       " 'sullim[spice]n x{sar}[na]na',\n",
       " 'zadim[na]na',\n",
       " 'da-ri[na]na',\n",
       " 'akkil-akkil[na]na',\n",
       " '{ŋeš}gan-la[na]na',\n",
       " 'gan₂-il₂[na]na',\n",
       " 'girinum[plant]n',\n",
       " 'saŋšu[turban]n x[na]na x[na]na',\n",
       " 'x[na]na ne[na]na',\n",
       " 'sipad[na]na e₂-kur-re[na]na ki-aŋ₂[na]na',\n",
       " '{gi}ig-guru₅-uš[na]na',\n",
       " 'sur[na]na',\n",
       " 'šag[heart]n',\n",
       " 'hiz[vegetable]n dug[good]v/i',\n",
       " 'zumdianum[tree]n']"
      ]
     },
     "execution_count": 23,
     "metadata": {},
     "output_type": "execute_result"
    }
   ],
   "source": [
    "lex_vocab = list(set(lexical[\"lemma\"]))\n",
    "#lex_vocab = [item.replace(\" \", \"*\") for item in lex_vocab]\n",
    "lex_vocab[0:20]"
   ]
  },
  {
   "cell_type": "markdown",
   "metadata": {},
   "source": [
    "## Mark lexical entries in literary texts\n",
    "The list `lex_vocab` now contains all unique lexical entries in the Old Babylonian corpus as edited in [DCCLT](http://oracc.org/dcclt). This is the vocabulary that we wish to find in the literary corpus as edited in [ETCSL](http://etcsl.orinst.ox.ac.uk/).\n",
    "\n",
    "In order to do so we will first sort the list `lex_vocab` by string length, so that the longest item comes first. We now iterate through the list and check to see if the item contains multiple lemmatizations (contains spaces). If so, we will search for identical sequences of lemmas in the `etcsl` dataframe and connect those lemmas with asterisks.\n",
    "\n",
    "We will do this with the Pandas function `str.replace()`. This function takes two arguments: the string to be replaced, and the replacement string. By default, `str.replace()` uses [regular expression](https://www.regular-expressions.info/), so that a string like `udu[sheep]n` is interpreted as \"any string that begins with \"udu\" followed by one of the characters in \"\\[sheep\\]\" followed by \"n\". This is obvioously not what we want (the search will most likely find zero strings to replace). We can avoid this behaviour by \"escaping\" the special characters (preceding them with a backslash). The function `escape()` from the `re` (regular expression) library will do that.\n",
    "\n",
    "Now we create a variable `replacewith` that is identical with the lexical item, but has its spaces replaced by asterisks. Finally we run the `str.,replace\n",
    "\n",
    "In each matching string in the `etcsl` dataframe we replace the spaces (separating the individual lemmas) by asterisks, thus marking those adjacent words as belonging to a single lexical entry.\n",
    "\n",
    "\n",
    "In order to do so we create a `findwhat` variable that is derived from the lexical item. First the asterisks are replaced again by spaces (we are looking for, say, `udu[sheep]n diŋir[god]n gu[eat]v/t`). Second, all characters that are interpreted as [regular expression](https://www.regular-expressions.info/) special characters (such as square brackets) need to be escaped (prefixed by a backslash), so that they are interpreted as literals by the `str.replace()` function. \n",
    "\n",
    "The `str.replace()` function takes a considerable amount of time. It has to check each line in [ETCSL](http://etcsl.orinst.ox.ac.uk/) (almost 36.500 lines) against each lexical entry (almost 6,000 entries). The progress bar follows the progress through the list of lexical entries.\n",
    "\n",
    "The `lemma` column of the `etcsl` dataframe will now represent the [ETCSL](http://etcsl.orinst.ox.ac.uk/) data in a line-by-line presentation of lemmatizations, with asterisks connecting lemmas if a corresponding sequence of lemmas exists as a lexical entry."
   ]
  },
  {
   "cell_type": "code",
   "execution_count": null,
   "metadata": {},
   "outputs": [],
   "source": [
    "lex_vocab.sort(key=len, reverse=True)\n",
    "for item in tqdm.tqdm(lex_vocab):\n",
    "    if \" \" in item:\n",
    "        findwhat = re.escape(item)\n",
    "        replacewith = item.replace(\" \", \"*\")\n",
    "        etcsl[\"lemma\"] = etcsl[\"lemma\"].str.replace(findwhat, replacewith)"
   ]
  },
  {
   "cell_type": "code",
   "execution_count": null,
   "metadata": {},
   "outputs": [],
   "source": [
    "etcsl_words2 = ' '.join(list(etcsl[\"lemma\"]))\n",
    "etcsl_words_s2 = set(etcsl_words2.split())\n",
    "lexical_words_s2 = set(list(lexical[\"lemma\"]))\n",
    "etcsl_words_s2 = {lemma for lemma in etcsl_words_s2 if not '[na]na' in lemma}\n",
    "lexical_words_s2 = {lemma for lemma in lexical_words_s2 if not '[na]na' in lemma}"
   ]
  },
  {
   "cell_type": "code",
   "execution_count": null,
   "metadata": {},
   "outputs": [],
   "source": [
    "plot_venn(etcsl_words_s2, lexical_words_s2)"
   ]
  },
  {
   "cell_type": "markdown",
   "metadata": {},
   "source": [
    "# Add them Up\n",
    "By creating the union of the two sets (the set with individual words and the set with the lexical entries only) we get the most complete comparison of the two corpora. Here `gud[oxen]N*an[heaven]N`, `gud[oxen]N` and `an[heaven]N` are all counted as words, whether or not `gud` and `an` actually appear as such in the lexical corpus.\n",
    "\n",
    "It turns out that this addition adds only twenty words to the literary vocabulary. These are words that appear in lexical expressions (connected by \\*), but never appear on their own outside such expressions. The lexical corpus has more of those lexemes: more than 700; about half of those also appear in the literary corpus, increasing the overlap by about 370."
   ]
  },
  {
   "cell_type": "code",
   "execution_count": null,
   "metadata": {},
   "outputs": [],
   "source": [
    "etcsl_words_s3 = etcsl_words_s | etcsl_words_s2\n",
    "lexical_words_s3 = lexical_words_s | lexical_words_s2"
   ]
  },
  {
   "cell_type": "code",
   "execution_count": null,
   "metadata": {},
   "outputs": [],
   "source": [
    "plot_venn(etcsl_words_s3, lexical_words_s3)"
   ]
  },
  {
   "cell_type": "markdown",
   "metadata": {},
   "source": [
    "# Create a Corpus\n",
    "The etcsl dataframe is organized by line. The `aggregate` function assembles the lines that belong to a single composition. The resulting dataframe has 394 entries, one for each composition. "
   ]
  },
  {
   "cell_type": "code",
   "execution_count": null,
   "metadata": {},
   "outputs": [],
   "source": [
    "corpus = etcsl.groupby([etcsl[\"etcsl_no\"], etcsl[\"text_name\"]]).aggregate({\"text\": \" \".join}).reset_index()"
   ]
  },
  {
   "cell_type": "markdown",
   "metadata": {},
   "source": [
    "# Document Term Matrix\n",
    "The corpus is transformed into a Document Term Matrix (or DTM) in which each word (or expression) is a column and each row a Sumerian composition. The lexical vocabulary is used as a filter (only words that appear in the lexical texts are allowed in the DTM).\n",
    "\n",
    "First sort the lexical vocabulary alphabetically.\n",
    "\n",
    "Use CountVectorizer (from Sklearn) to initiate the DTM. The `token_pattern` indicates what a word looks like and what signals the end of a word. In modern corpora this can be fairly complex (including spaces, commas, full stops, etc.) but in the current corpus a space will always separate one token from the next. The regex `r'[^ ]+'` means \"any sequence of characters, except space\".\n",
    "\n",
    "Transform the DTM to a dataframe.\n",
    "\n",
    "NB a DTM is not necessary for the raw comparison/Venn diagram - only for further inspection."
   ]
  },
  {
   "cell_type": "code",
   "execution_count": null,
   "metadata": {},
   "outputs": [],
   "source": [
    "cv = CountVectorizer(analyzer='word', token_pattern=r'[^ ]+', binary = False, vocabulary=lex_vocab)\n",
    "etcsl_dtm = cv.fit_transform(corpus['text'])\n",
    "#etcsl_df = pd.DataFrame(etcsl_dtm.toarray(), columns= cv.get_feature_names(), index=corpus[\"etcsl_no\"])\n",
    "etcsl_df = pd.DataFrame(etcsl_dtm.toarray(), columns= lex_vocab, index=corpus[\"etcsl_no\"])"
   ]
  },
  {
   "cell_type": "code",
   "execution_count": null,
   "metadata": {},
   "outputs": [],
   "source": [
    "etcsl_df"
   ]
  },
  {
   "cell_type": "markdown",
   "metadata": {},
   "source": [
    "# Words in Lexical Texts not in ETCSL\n",
    "If a word or expression in the lexical corpus is never used in the literary texts from [ETCSL](http://etcsl.orinst.ox.ac.uk/) the sum of its column will be `0`.\n",
    "\n",
    "Give the number of columns (the number of unique words and expressions in the lexical texts), the number of words/expressions never used in the ETCSL corpus and the relation between those two numbers in percent."
   ]
  },
  {
   "cell_type": "code",
   "execution_count": null,
   "metadata": {},
   "outputs": [],
   "source": [
    "lex_not_in_etcsl = etcsl_df.loc[:, etcsl_df.sum()==0]\n",
    "len(etcsl_df.columns), len(lex_not_in_etcsl.columns), str(len(lex_not_in_etcsl.columns)/len(etcsl_df.columns)*100) + \"%\""
   ]
  },
  {
   "cell_type": "markdown",
   "metadata": {},
   "source": [
    "# Simplify\n",
    "The above may be an overly complex way of doing it.\n",
    "Alternative: make a full dtm of etcsl (without a vocabulary constraint); make the etcsl vocabulary and lexical vocabulary into sets that can be subtracted from each other."
   ]
  },
  {
   "cell_type": "code",
   "execution_count": null,
   "metadata": {},
   "outputs": [],
   "source": [
    "cv = CountVectorizer(analyzer='word', token_pattern=r'[^ ]+', binary = False)\n",
    "etcsl2_dtm = cv.fit_transform(corpus['text'])\n",
    "etcsl2_df = pd.DataFrame(etcsl2_dtm.toarray(), columns= cv.get_feature_names(), index=corpus[\"etcsl_no\"])\n",
    "etcsl_vocab_s = set(etcsl2_df.columns)\n",
    "lex_vocab_s = set(lex_vocab)\n",
    "diff_e_l = list(etcsl_vocab_s - lex_vocab_s)\n",
    "diff_l_e = list(lex_vocab_s - etcsl_vocab_s)"
   ]
  },
  {
   "cell_type": "code",
   "execution_count": null,
   "metadata": {},
   "outputs": [],
   "source": [
    "print(\"number of words/expressions in ETCSL \" + str(len(etcsl_vocab_s)))\n",
    "print(\"number of words/expressions in lexical texts \" + str(len(lex_vocab_s)))\n",
    "print(\"number of words/expressions in ETCSL not in lexical \" + str(len(diff_e_l)))\n",
    "print(\"number of words/expressions in lexical not in ETCSL \" + str(len(diff_l_e)))"
   ]
  },
  {
   "cell_type": "code",
   "execution_count": null,
   "metadata": {},
   "outputs": [],
   "source": [
    "plt.figure(figsize=(4,4))\n",
    "venn2([etcsl_vocab_s, lex_vocab_s], (\"literary\", \"lexical\"))\n",
    "plt.show()"
   ]
  },
  {
   "cell_type": "markdown",
   "metadata": {},
   "source": [
    "# Rare Words Shared by Lex and Lit\n",
    "Which words appear in Lex and in Lit but appear only once in Lit? In which composition do we find such words; which words are those?\n",
    "\n",
    "First create a dataframe (`rare`) that only has the columns that add up to `1` (word or expression appears only once in the corpus). The row totals of this dataframe indicate per composition (= row) how many such rare words they contain. These row totals are added as a separate column. The composition naes are extracted from the `corpus` dataframe created above. Finally the dataframe is sorted by the row totals.\n",
    "\n",
    "The dataframe `rare` includes columns for each of the words that appear only once. We are showing only the columns that identify the composition and the row totals."
   ]
  },
  {
   "cell_type": "code",
   "execution_count": null,
   "metadata": {},
   "outputs": [],
   "source": [
    "rare =etcsl_df.loc[:, etcsl_df.sum()==1].reset_index()\n",
    "rare[\"no. of unique lexical correspondences\"] = rare.sum(axis=1)\n",
    "rare[\"text_name\"] = corpus[\"text_name\"]\n",
    "rare = rare.sort_values('no. of unique lexical correspondences', ascending = False)\n",
    "rare.loc[:,[\"etcsl_no\", \"no. of unique lexical correspondences\", \"text_name\"]]"
   ]
  },
  {
   "cell_type": "markdown",
   "metadata": {},
   "source": [
    "# Which Words?\n",
    "Which are the rare words that define this list of compositions? We first extract the full list of words from the column names of the daraframe `rare`. The variable `words` is a Numpy array that contains strings."
   ]
  },
  {
   "cell_type": "code",
   "execution_count": null,
   "metadata": {},
   "outputs": [],
   "source": [
    "words = rare.columns.values\n",
    "len(words)"
   ]
  },
  {
   "cell_type": "markdown",
   "metadata": {},
   "source": [
    "# The rare words in the top-ten\n",
    "The first ten compositions in our list are the ones that have the most rare words shared with lexical texts. Each row, representing a composition, has columns that represent individual words. We create a `mask` (a sequence of boolean values `True` or `False`) that indicate whether or not the value in the column is 1. If the boolean is `True` the word is printed."
   ]
  },
  {
   "cell_type": "code",
   "execution_count": null,
   "metadata": {},
   "outputs": [],
   "source": [
    "for i in range(10):\n",
    "    indexes = rare.iloc[i] == 1\n",
    "    print(rare.iloc[i,-1]), print(words[indexes])"
   ]
  },
  {
   "cell_type": "code",
   "execution_count": null,
   "metadata": {},
   "outputs": [],
   "source": [
    "lexical[\"text\"] = lexical[\"text\"].str.replace(\" \", \"*\")\n",
    "lexical"
   ]
  },
  {
   "cell_type": "code",
   "execution_count": null,
   "metadata": {},
   "outputs": [],
   "source": [
    "lexical_corpus = lexical.groupby([lexical[\"id_text\"], \n",
    "                                  lexical[\"text_name\"]]).aggregate({\"text\": \" \".join}).reset_index()\n",
    "lexical_corpus"
   ]
  },
  {
   "cell_type": "markdown",
   "metadata": {},
   "source": [
    "### 2.1 Select Lexical Compositions\n",
    "Select the following compositions: \n",
    "* Ura 1 dcclt/Q000039\n",
    "* Ura 2 dcclt/Q000040\n",
    "* Ura 3 dcclt/Q000001\n",
    "* Ura 4 dcclt/Q000041\n",
    "* Ura 5 dcclt/Q000042\n",
    "* Ura 6 dcclt/Q000043\n",
    "* Lu₂-Azlag₂ B/C Q000302 \n",
    "* Ugumu dcclt/Q000268\n",
    "* Diri dcclt/Q000057\n",
    "* Nigga dcclt/Q000052\n",
    "* Izi dcclt/Q000050\n",
    "* Kagal dcclt/Q000048\n",
    "* Lu dcclt/Q000047\n"
   ]
  },
  {
   "cell_type": "code",
   "execution_count": null,
   "metadata": {},
   "outputs": [],
   "source": [
    "keep = [\"dcclt/Q000039\", \n",
    "    \"dcclt/Q000040\",\n",
    "    \"dcclt/Q000001\",\n",
    "    \"dcclt/Q000041\",\n",
    "    \"dcclt/Q000042\",\n",
    "    \"dcclt/Q000043\",\n",
    "    \"dcclt/Q000302 \",\n",
    "    \"dcclt/Q000268\",\n",
    "    \"dcclt/Q000057\",\n",
    "    \"dcclt/Q000052\",\n",
    "    \"dcclt/Q000050\",\n",
    "    \"dcclt/Q000048\",\n",
    "    \"dcclt/Q000047\"]\n",
    "lexical = lexical.loc[lexical[\"id_text\"].isin(keep)]"
   ]
  },
  {
   "cell_type": "code",
   "execution_count": null,
   "metadata": {},
   "outputs": [],
   "source": [
    "lexical_temp = lexical[[\"id_text\", \"id_line\", \"lemma\"]]"
   ]
  },
  {
   "cell_type": "code",
   "execution_count": null,
   "metadata": {},
   "outputs": [],
   "source": [
    "lexical_temp[lexical_temp[\"id_text\"]==\"dcclt/Q000001\"]"
   ]
  },
  {
   "cell_type": "code",
   "execution_count": null,
   "metadata": {},
   "outputs": [],
   "source": [
    "lexical = lexical.groupby([lexical['id_text'], lexical['id_line']]).agg({\n",
    "        'lemma': ' '.join,\n",
    "        'extent': ''.join\n",
    "    })"
   ]
  },
  {
   "cell_type": "code",
   "execution_count": null,
   "metadata": {},
   "outputs": [],
   "source": [
    "lexical"
   ]
  },
  {
   "cell_type": "code",
   "execution_count": null,
   "metadata": {},
   "outputs": [],
   "source": []
  }
 ],
 "metadata": {
  "kernelspec": {
   "display_name": "Python 3",
   "language": "python",
   "name": "python3"
  },
  "language_info": {
   "codemirror_mode": {
    "name": "ipython",
    "version": 3
   },
   "file_extension": ".py",
   "mimetype": "text/x-python",
   "name": "python",
   "nbconvert_exporter": "python",
   "pygments_lexer": "ipython3",
   "version": "3.7.0"
  }
 },
 "nbformat": 4,
 "nbformat_minor": 2
}
