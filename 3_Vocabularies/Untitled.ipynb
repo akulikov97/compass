{
 "cells": [
  {
   "cell_type": "code",
   "execution_count": 1,
   "metadata": {},
   "outputs": [],
   "source": [
    "with open('output/izitest.txt', 'r', encoding='utf8') as r:\n",
    "    izi1 = r.read().splitlines()\n",
    "with open('output/izi_alt.txt', 'r', encoding='utf8') as r:\n",
    "    izi2 = r.read().splitlines()"
   ]
  },
  {
   "cell_type": "code",
   "execution_count": 2,
   "metadata": {},
   "outputs": [
    {
     "data": {
      "text/plain": [
       "(528, 688)"
      ]
     },
     "execution_count": 2,
     "metadata": {},
     "output_type": "execute_result"
    }
   ],
   "source": [
    "len(izi1), len(izi2)"
   ]
  },
  {
   "cell_type": "code",
   "execution_count": 4,
   "metadata": {},
   "outputs": [],
   "source": [
    "izi1 = set(izi1)"
   ]
  },
  {
   "cell_type": "code",
   "execution_count": 5,
   "metadata": {},
   "outputs": [],
   "source": [
    "izi2 = set(izi2)"
   ]
  },
  {
   "cell_type": "code",
   "execution_count": 6,
   "metadata": {},
   "outputs": [
    {
     "data": {
      "text/plain": [
       "(528, 688)"
      ]
     },
     "execution_count": 6,
     "metadata": {},
     "output_type": "execute_result"
    }
   ],
   "source": [
    "len(izi1), len(izi2)"
   ]
  },
  {
   "cell_type": "code",
   "execution_count": null,
   "metadata": {},
   "outputs": [],
   "source": [
    "izi1 = {v.replace('_', ' ') for v in izi1}\n",
    "izi1"
   ]
  },
  {
   "cell_type": "code",
   "execution_count": 10,
   "metadata": {},
   "outputs": [
    {
     "data": {
      "text/plain": [
       "{'a[time]n',\n",
       " 'a[water]n',\n",
       " 'ada[contest?]n',\n",
       " 'agakar[conquest]n sig[put]v/t',\n",
       " 'ak[do]v/t',\n",
       " 'ana[upper]aj',\n",
       " 'anubda[quarter]n',\n",
       " 'bal[dig]v/t',\n",
       " 'banda[junior]v/i',\n",
       " 'bar[cvve]v/t',\n",
       " 'be[diminish]v/t',\n",
       " 'bisaŋ[basket]n',\n",
       " 'bulug[needle]n',\n",
       " 'bur[tear]v/t',\n",
       " 'burud[perforate]v/t',\n",
       " 'dalbana[space]n',\n",
       " 'dar[split]v/t',\n",
       " 'dara[belt]n',\n",
       " 'di[speak]v/t',\n",
       " 'didli[several]aj',\n",
       " 'dirig[excess]n',\n",
       " 'diš[one]nu',\n",
       " 'du[build]v/t',\n",
       " 'dub[heap]v/t',\n",
       " 'dugud[heavy]v/i',\n",
       " 'durah[goat]n',\n",
       " 'durŋar[chair]n',\n",
       " 'e[house]n',\n",
       " 'ed[ascend]v/i',\n",
       " 'en[cvne]n',\n",
       " 'en[lord]n',\n",
       " 'enlil[1]dn',\n",
       " 'erimdu[hostile]n',\n",
       " 'erin[people]n',\n",
       " 'gab[left]n',\n",
       " 'gag[nail]n',\n",
       " 'gana[field]n',\n",
       " 'gar[knob]n',\n",
       " 'gibil[new]v/i',\n",
       " 'gid[long]v/i',\n",
       " 'gu[eat]v/t',\n",
       " 'gu[voice]n',\n",
       " 'gub[stand]v/i',\n",
       " 'gud[ox]n',\n",
       " 'gur[lift]v/t',\n",
       " 'hab[malodorous]v/i',\n",
       " 'haš[break]v/t',\n",
       " 'hašur[tree]n',\n",
       " 'huluh[frightened]v/i',\n",
       " 'hunu[weak]v/i',\n",
       " 'ib[angry]v/i',\n",
       " 'id[river]n',\n",
       " 'igi[eye]n',\n",
       " 'itud[moon]n',\n",
       " 'kag[mouth]n',\n",
       " 'kalag[strong]v/i',\n",
       " 'kaš[decision]n',\n",
       " 'kešed[bind]v/t',\n",
       " 'kiri[orchard]n',\n",
       " 'kita[lower]aj',\n",
       " 'ku[place]v/t',\n",
       " 'kud[cut]v/t',\n",
       " 'kug[metal]n',\n",
       " 'kug[metal]n bala[turn]v/t',\n",
       " 'kug[pure]v/i',\n",
       " 'kuš[unit]n',\n",
       " 'la[hang]v/t',\n",
       " 'la[stretch]v/t',\n",
       " 'lil[ghost]n',\n",
       " 'limmu[four]nu',\n",
       " 'lu[abundant]v/i',\n",
       " 'lu[person]n',\n",
       " 'lugal[king]n',\n",
       " 'luhuŋa[hireling]n',\n",
       " 'lul[false]v/i',\n",
       " 'magur[barge]n',\n",
       " 'mar[place]v/t',\n",
       " 'mi[cvne]n',\n",
       " 'mu[grow]v/i',\n",
       " 'mu[year]n',\n",
       " 'murub[middle]n',\n",
       " 'nam[fate]n',\n",
       " 'namaʾa[unmng]n',\n",
       " 'nambarag[royalty]n',\n",
       " 'namgimeš[colleague]n',\n",
       " 'namra[booty]n',\n",
       " 'nim[fly]n',\n",
       " 'ninnu[fifty]nu',\n",
       " 'nisabak[1]dn',\n",
       " 'niŋdug[good-thing]n',\n",
       " 'niŋhuša[pitfall]n',\n",
       " 'niŋin[encircle]v/t',\n",
       " 'niŋki[herd]n',\n",
       " 'pa[branch]n',\n",
       " 'pana[bow]n',\n",
       " 'peš[thick]v/i',\n",
       " 'rah[beat]v/t',\n",
       " 'ri[impose]v/t',\n",
       " 'sa[equal]v/t',\n",
       " 'sag[good]v/i',\n",
       " 'saŋ[head]n gi[turn]v/i',\n",
       " 'sed[cold]v/i',\n",
       " 'si[horn]n',\n",
       " 'silim[healthy]v/i',\n",
       " 'su[cvve]v/t',\n",
       " 'su[flesh]n',\n",
       " 'su[red]v/i',\n",
       " 'sud[distant]v/i',\n",
       " 'sukud[height]n',\n",
       " 'sulum[contempt]n',\n",
       " 'tag[touch]v/t',\n",
       " 'tal[broad]v/i',\n",
       " 'tar[cut]v/t',\n",
       " 'tehi[approach]v/t',\n",
       " 'ten[extinguish]v/t',\n",
       " 'teš[shame]n',\n",
       " 'teš[unity]n',\n",
       " 'tug[textile]n',\n",
       " 'tuku[acquire]v/t',\n",
       " 'tulu[slacken]v/t',\n",
       " 'tuš[sit]v/i',\n",
       " 'u[admiration]n',\n",
       " 'u[grass]n',\n",
       " 'u[sleep]n',\n",
       " 'u[ten]nu',\n",
       " 'ub[cavity]n',\n",
       " 'ud[sun]n zal[pass]v/t',\n",
       " 'udtena[evening]n',\n",
       " 'un[high]v/i',\n",
       " 'ur[bake]v/t',\n",
       " 'ur[root]n',\n",
       " 'usakar[moon]n',\n",
       " 'uš[foundation]n',\n",
       " 'uš[unit]n',\n",
       " 'ya[five]nu',\n",
       " 'zal[pass]v/t',\n",
       " 'zid[right]v/i',\n",
       " 'zir[break]v/t',\n",
       " 'zu[tooth]n',\n",
       " 'ŋal[cvne]n',\n",
       " 'ŋala[cvne]n',\n",
       " 'ŋala[cvne]n dag[demolish]v/t',\n",
       " 'ŋeš[tree]n',\n",
       " 'ŋeštug[ear]n',\n",
       " 'ŋir[flash]v/i',\n",
       " 'ŋiri[dagger]n',\n",
       " 'ŋiri[dagger]n šuʾi[barber]n',\n",
       " 'ša[cvve]v/t',\n",
       " 'šag[heart]n',\n",
       " 'šanabi[two-thirds]nu',\n",
       " 'šar[3600]nu',\n",
       " 'šeg[animal]n',\n",
       " 'šeg[brick]n zid[right]v/i',\n",
       " 'šu[hand]n',\n",
       " 'šub[fall]v/i',\n",
       " 'šurum[litter]n',\n",
       " 'šurum[litter]n gud[ox]n',\n",
       " 'šuš[cover]v/t',\n",
       " 'šušana[one-third]nu',\n",
       " 'šuʾi[barber]n'}"
      ]
     },
     "execution_count": 10,
     "metadata": {},
     "output_type": "execute_result"
    }
   ],
   "source": [
    "izi2 - izi1"
   ]
  },
  {
   "cell_type": "code",
   "execution_count": null,
   "metadata": {},
   "outputs": [],
   "source": []
  }
 ],
 "metadata": {
  "kernelspec": {
   "display_name": "Python 3",
   "language": "python",
   "name": "python3"
  },
  "language_info": {
   "codemirror_mode": {
    "name": "ipython",
    "version": 3
   },
   "file_extension": ".py",
   "mimetype": "text/x-python",
   "name": "python",
   "nbconvert_exporter": "python",
   "pygments_lexer": "ipython3",
   "version": "3.7.6"
  }
 },
 "nbformat": 4,
 "nbformat_minor": 4
}
