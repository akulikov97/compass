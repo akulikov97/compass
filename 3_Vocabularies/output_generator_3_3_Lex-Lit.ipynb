{
 "cells": [
  {
   "cell_type": "code",
   "execution_count": 3,
   "metadata": {},
   "outputs": [],
   "source": [
    "from tabulate import tabulate\n",
    "import pandas as pd"
   ]
  },
  {
   "cell_type": "code",
   "execution_count": 4,
   "metadata": {},
   "outputs": [],
   "source": [
    "lex2 = pd.read_pickle('output/lex.p')"
   ]
  },
  {
   "cell_type": "code",
   "execution_count": 10,
   "metadata": {},
   "outputs": [],
   "source": [
    "min_length = 250\n",
    "lex2['PQ'] = ['Composite' if i[0] == 'Q' else 'Exemplar' for i in lex2['id_text']]\n",
    "lex_tab = lex2.copy()\n",
    "lex_tab = lex_tab.loc[lex_tab.length >= min_length]\n",
    "markdown = \"[{}](http://oracc.org/dcclt/{})\"\n",
    "lex_tab['id_text'] = [markdown.format(val,val) for val in lex2.loc[lex2.length >= min_length, 'id_text']]\n",
    "lex_tab = lex_tab.loc[lex_tab.PQ == 'Composite'].drop('PQ', axis = 1)"
   ]
  },
  {
   "cell_type": "code",
   "execution_count": 11,
   "metadata": {},
   "outputs": [],
   "source": [
    "rows = 10 # number of rows to be exported\n",
    "col = 'norm' # column by which to sort\n",
    "asc = False\n",
    "tab = tabulate(lex_tab.sort_values(by=col, ascending=asc)[:rows],\n",
    "         headers= lex_tab.columns , tablefmt=\"github\", showindex=False)\n",
    "with open('output/lex_tab.txt', 'w', encoding='utf8') as w:\n",
    "    w.write(tab)"
   ]
  },
  {
   "cell_type": "code",
   "execution_count": null,
   "metadata": {},
   "outputs": [],
   "source": []
  }
 ],
 "metadata": {
  "kernelspec": {
   "display_name": "Python 3",
   "language": "python",
   "name": "python3"
  },
  "language_info": {
   "codemirror_mode": {
    "name": "ipython",
    "version": 3
   },
   "file_extension": ".py",
   "mimetype": "text/x-python",
   "name": "python",
   "nbconvert_exporter": "python",
   "pygments_lexer": "ipython3",
   "version": "3.7.7"
  }
 },
 "nbformat": 4,
 "nbformat_minor": 4
}
