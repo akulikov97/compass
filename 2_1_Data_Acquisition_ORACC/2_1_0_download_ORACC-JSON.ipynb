{
 "cells": [
  {
   "cell_type": "markdown",
   "metadata": {},
   "source": [
    "# Download ORACC JSON Files\n",
    "This script downloads open data from the Open Richly Annotated Cuneiform Corpus ([ORACC](http://oracc.org)) in `json` format. The JSON files are made available in a ZIP file. For a description of the various JSON files included in the ZIP see the [open data](http://oracc.org/doc/opendata) page on [ORACC](http://oracc.org). \n",
    "\n",
    "The code in this notebook is also available in the module `utils` in the directory `utils` and can be called as follows: \n",
    "```python\n",
    "import os\n",
    "import sys\n",
    "util_dir = os.path.abspath('../utils') # When necessary, adapt the path to the utils directory.\n",
    "sys.path.append(util_dir)\n",
    "from utils import *\n",
    "directories = [\"jsonzip\"]\n",
    "make_dirs(directories)\n",
    "projects = [\"dcclt\", \"saao/saa01\"] # or any list of ORACC projects\n",
    "oracc_download(projects)\n",
    "```"
   ]
  },
  {
   "cell_type": "markdown",
   "metadata": {},
   "source": [
    "# 0. Import Packages"
   ]
  },
  {
   "cell_type": "code",
   "execution_count": null,
   "metadata": {},
   "outputs": [],
   "source": [
    "import requests\n",
    "from tqdm._tqdm_notebook import tqdm_notebook\n",
    "import os\n",
    "import errno"
   ]
  },
  {
   "cell_type": "markdown",
   "metadata": {},
   "source": [
    "# 1. Create Download Directory\n",
    "Create a directory called `jsonzip`. If the directory already exists, do nothing.\n",
    "\n",
    "For the code, see [Stack Overflow](http://stackoverflow.com/questions/18973418/os-mkdirpath-returns-oserror-when-directory-does-not-exist)."
   ]
  },
  {
   "cell_type": "code",
   "execution_count": null,
   "metadata": {},
   "outputs": [],
   "source": [
    "try:\n",
    "    os.mkdir('jsonzip')\n",
    "except OSError as exc:\n",
    "    if exc.errno !=errno.EEXIST:\n",
    "        raise\n",
    "    pass"
   ]
  },
  {
   "cell_type": "markdown",
   "metadata": {},
   "source": [
    "# 2.1 Input a List of Project Abbreviations\n",
    "Enter one or more project abbreviations to download their JSON zip files. The project names are separated by commas. Note that the subprojects must be given explicitly, they are not automatically included in the main project. For instance: \n",
    "* saao/saa01, aemw/alalakh/idrimi, rimanum"
   ]
  },
  {
   "cell_type": "code",
   "execution_count": null,
   "metadata": {},
   "outputs": [],
   "source": [
    "projects = input('Project(s): ').lower().strip() # lowercase user input and strip accidental spaces"
   ]
  },
  {
   "cell_type": "markdown",
   "metadata": {},
   "source": [
    "\n",
    "# 2.2 Split the List of Projects\n",
    "Split the list of projects and create a list of project names."
   ]
  },
  {
   "cell_type": "code",
   "execution_count": null,
   "metadata": {},
   "outputs": [],
   "source": [
    "p = projects.split(',')               # split at each comma and make a list called `p`\n",
    "p = [x.strip() for x in p]        # strip spaces left and right of each entry in `p`"
   ]
  },
  {
   "cell_type": "markdown",
   "metadata": {},
   "source": [
    "## Download the ZIP files\n",
    "For each project from which files are to be processed download the entire project (all the json files) from `http://build-oracc.museum.upenn.edu/json/`. The file is called `PROJECT.zip` (for instance: `dcclt.zip`). For subprojects the file is called `PROJECT-SUBPROJECT.zip` (for instance `cams-gkab.zip`). \n",
    "\n",
    "For larger projects (such as [DCCLT](http://oracc.org/dcclt)) the `zip` file may be 25Mb or more. Downloading may take some time and it may be necessary to chunk the downloading process. The `iter_content()` function in the `requests` library takes care of that.\n",
    "\n",
    "This code is also available as the function `oracc_download()` in the module `utils/utils.py`, which is used by some of the other scripts in Compass. The function `oracc_download()` takes a list of projects as its only argument (e.g. `['dcclt', 'hbtin', 'saao/saa01']` and will the same list of projects, omitting duplicates and invalid project names."
   ]
  },
  {
   "cell_type": "code",
   "execution_count": null,
   "metadata": {},
   "outputs": [],
   "source": [
    "CHUNK = 16 * 1024\n",
    "for project in p:\n",
    "    proj = project.replace('/', '-')\n",
    "    url = \"http://build-oracc.museum.upenn.edu/json/\" + proj + \".zip\"\n",
    "    file = 'jsonzip/' + proj + '.zip'\n",
    "    with requests.get(url, stream=True) as r:\n",
    "        if r.status_code == 200:\n",
    "            with open(file, 'wb') as f:\n",
    "                for c in tqdm_notebook(r.iter_content(chunk_size=CHUNK), desc = project):\n",
    "                    f.write(c)\n",
    "        else:\n",
    "            print(url + \" does not exist.\")"
   ]
  },
  {
   "cell_type": "code",
   "execution_count": null,
   "metadata": {},
   "outputs": [],
   "source": []
  }
 ],
 "metadata": {
  "kernelspec": {
   "display_name": "Python 3",
   "language": "python",
   "name": "python3"
  },
  "language_info": {
   "codemirror_mode": {
    "name": "ipython",
    "version": 3
   },
   "file_extension": ".py",
   "mimetype": "text/x-python",
   "name": "python",
   "nbconvert_exporter": "python",
   "pygments_lexer": "ipython3",
   "version": "3.7.0"
  },
  "widgets": {
   "state": {
    "683dc472b46844dbbdb4e0b41d68b68c": {
     "views": [
      {
       "cell_index": 10
      }
     ]
    },
    "cbb6a1a934994bc7a5a55390a833fd63": {
     "views": [
      {
       "cell_index": 10
      }
     ]
    },
    "de6c2ee31fdd4a6bb3273a62048889b7": {
     "views": [
      {
       "cell_index": 10
      }
     ]
    }
   },
   "version": "1.2.0"
  }
 },
 "nbformat": 4,
 "nbformat_minor": 2
}
