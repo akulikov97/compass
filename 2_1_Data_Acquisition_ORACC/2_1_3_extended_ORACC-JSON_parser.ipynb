{
 "cells": [
  {
   "cell_type": "markdown",
   "metadata": {},
   "source": [
    "# Extract Lemmatization from JSON: Extended Parser\n",
    "The code in this notebook will parse [ORACC](http://oracc.org) `JSON` files to extract lemmatization data for one or more projects. The code shows how the word-by-word data structure can be reformatted to a line-by-line or document-by-document structure and discusses various other options.\n",
    "\n",
    "The output of the Extended Parser contains text IDs, line IDs, lemmas, and (potentially) other data. The first few code blocks are identical with the Basic Parser.\n",
    "\n",
    "The code in this notebook (sections 0 to 3: downloading, parsing, and formatting in DataFrame) is also available in the module `utils` in the directory `utils` and can be called as follows: \n",
    "```python\n",
    "import os\n",
    "import sys\n",
    "util_dir = os.path.abspath('../utils')\n",
    "sys.path.append(util_dir)\n",
    "from utils import *\n",
    "projects = \"dcclt, saao/saa01\" # (or any other sequence of ORACC projects, separated by commas)\n",
    "words_df = get_data(projects)  \n",
    "```"
   ]
  },
  {
   "cell_type": "code",
   "execution_count": 1,
   "metadata": {},
   "outputs": [],
   "source": [
    "import pandas as pd\n",
    "import zipfile\n",
    "import json\n",
    "import tqdm\n",
    "import os\n",
    "import sys\n",
    "util_dir = os.path.abspath('../utils')\n",
    "sys.path.append(util_dir)\n",
    "from utils import *"
   ]
  },
  {
   "cell_type": "markdown",
   "metadata": {},
   "source": [
    "## 0 Create Directories, if Necessary\n",
    "The two directories needed for this script are `jsonzip` and `output`. The directories are created with the function `make_dirs()` from the `utils` module. "
   ]
  },
  {
   "cell_type": "code",
   "execution_count": 2,
   "metadata": {},
   "outputs": [],
   "source": [
    "directories = ['jsonzip', 'output']\n",
    "make_dirs(directories)"
   ]
  },
  {
   "cell_type": "markdown",
   "metadata": {},
   "source": [
    "## 1.1 Input Project Names\n",
    "Provide a list of one or more project names, separated by commas. Note that subprojects must be listed separately, they are not included in the main project. For instance:\n",
    "\n",
    "`saao/saa01,saao/saa02,blms`\n",
    "\n",
    "The input is split into a proper list that python can iterate over using the `format_project_list()` function in the `utils` module. The code of this function is discussed in more detail in 2.1.0. Download ORACC JSON Files."
   ]
  },
  {
   "cell_type": "code",
   "execution_count": 3,
   "metadata": {},
   "outputs": [
    {
     "name": "stdout",
     "output_type": "stream",
     "text": [
      "Project(s): saao/saa01, saao/saa02, saao/saa03, saao/saa04, saao/saa05, saao/saa06, saao/saa07, saao/saa08, saao/saa09, saao/saa10, saao/saa11, saao/saa12, saao/saa13, saao/saa14, saao/saa15, saao/saa16, saao/saa17, saao/saa18, saao/saa19, saao/saa20, saao/saa21, adsd/adart1, adsd/adart2, adsd/adart3, aemw/idrimi, akklove, blms, cams/anzu, cams/barutu, cams/gkab, cams/selbi, ccpo, cmawro/cmawro1, cmawr/cmawro2, cmawro/maqlu, dccmt, glass, hbtin, riao, ribo/babylon2, ribo/babylon3, ribo/babylon4, ribo/babylon5, ribo/babylon6, ribo/babylon7, ribo/babylon8, ribo/babylon10, rimanum, rinap/rinap1, rinap/rinap3, rinap/rinap4, rinap/rinap5, suhu\n"
     ]
    }
   ],
   "source": [
    "projects = input('Project(s): ').lower().strip()\n",
    "p = format_project_list(projects)"
   ]
  },
  {
   "cell_type": "markdown",
   "metadata": {},
   "source": [
    "## Download the ZIP files.\n",
    "Download the zipped JSON files using the `oracc_download()` function in the `utils` module. The code of this function is discussed in more detail in 2.1.0. Download ORACC JSON Files."
   ]
  },
  {
   "cell_type": "code",
   "execution_count": 4,
   "metadata": {},
   "outputs": [
    {
     "name": "stdout",
     "output_type": "stream",
     "text": [
      "Downloading http://build-oracc.museum.upenn.edu/json/saao-saa01.zip saving as jsonzip/saao-saa01.zip\n"
     ]
    },
    {
     "name": "stderr",
     "output_type": "stream",
     "text": [
      "293it [00:02, 114.41it/s]\n"
     ]
    },
    {
     "name": "stdout",
     "output_type": "stream",
     "text": [
      "Downloading http://build-oracc.museum.upenn.edu/json/saao-saa02.zip saving as jsonzip/saao-saa02.zip\n"
     ]
    },
    {
     "name": "stderr",
     "output_type": "stream",
     "text": [
      "146it [00:01, 96.88it/s]\n"
     ]
    },
    {
     "name": "stdout",
     "output_type": "stream",
     "text": [
      "Downloading http://build-oracc.museum.upenn.edu/json/saao-saa03.zip saving as jsonzip/saao-saa03.zip\n"
     ]
    },
    {
     "name": "stderr",
     "output_type": "stream",
     "text": [
      "82it [00:01, 78.47it/s]\n"
     ]
    },
    {
     "name": "stdout",
     "output_type": "stream",
     "text": [
      "Downloading http://build-oracc.museum.upenn.edu/json/saao-saa04.zip saving as jsonzip/saao-saa04.zip\n"
     ]
    },
    {
     "name": "stderr",
     "output_type": "stream",
     "text": [
      "223it [00:04, 46.50it/s]\n"
     ]
    },
    {
     "name": "stdout",
     "output_type": "stream",
     "text": [
      "Downloading http://build-oracc.museum.upenn.edu/json/saao-saa05.zip saving as jsonzip/saao-saa05.zip\n"
     ]
    },
    {
     "name": "stderr",
     "output_type": "stream",
     "text": [
      "280it [00:03, 87.77it/s] \n"
     ]
    },
    {
     "name": "stdout",
     "output_type": "stream",
     "text": [
      "Downloading http://build-oracc.museum.upenn.edu/json/saao-saa06.zip saving as jsonzip/saao-saa06.zip\n"
     ]
    },
    {
     "name": "stderr",
     "output_type": "stream",
     "text": [
      "361it [00:03, 106.40it/s]\n"
     ]
    },
    {
     "name": "stdout",
     "output_type": "stream",
     "text": [
      "Downloading http://build-oracc.museum.upenn.edu/json/saao-saa07.zip saving as jsonzip/saao-saa07.zip\n"
     ]
    },
    {
     "name": "stderr",
     "output_type": "stream",
     "text": [
      "211it [00:02, 88.92it/s] \n"
     ]
    },
    {
     "name": "stdout",
     "output_type": "stream",
     "text": [
      "Downloading http://build-oracc.museum.upenn.edu/json/saao-saa08.zip saving as jsonzip/saao-saa08.zip\n"
     ]
    },
    {
     "name": "stderr",
     "output_type": "stream",
     "text": [
      "395it [00:04, 89.33it/s] \n"
     ]
    },
    {
     "name": "stdout",
     "output_type": "stream",
     "text": [
      "Downloading http://build-oracc.museum.upenn.edu/json/saao-saa09.zip saving as jsonzip/saao-saa09.zip\n"
     ]
    },
    {
     "name": "stderr",
     "output_type": "stream",
     "text": [
      "25it [00:00, 30.64it/s]\n"
     ]
    },
    {
     "name": "stdout",
     "output_type": "stream",
     "text": [
      "Downloading http://build-oracc.museum.upenn.edu/json/saao-saa10.zip saving as jsonzip/saao-saa10.zip\n"
     ]
    },
    {
     "name": "stderr",
     "output_type": "stream",
     "text": [
      "481it [00:03, 141.18it/s]\n"
     ]
    },
    {
     "name": "stdout",
     "output_type": "stream",
     "text": [
      "Downloading http://build-oracc.museum.upenn.edu/json/saao-saa11.zip saving as jsonzip/saao-saa11.zip\n"
     ]
    },
    {
     "name": "stderr",
     "output_type": "stream",
     "text": [
      "173it [00:01, 119.89it/s]\n"
     ]
    },
    {
     "name": "stdout",
     "output_type": "stream",
     "text": [
      "Downloading http://build-oracc.museum.upenn.edu/json/saao-saa12.zip saving as jsonzip/saao-saa12.zip\n"
     ]
    },
    {
     "name": "stderr",
     "output_type": "stream",
     "text": [
      "81it [00:01, 77.36it/s]\n"
     ]
    },
    {
     "name": "stdout",
     "output_type": "stream",
     "text": [
      "Downloading http://build-oracc.museum.upenn.edu/json/saao-saa13.zip saving as jsonzip/saao-saa13.zip\n"
     ]
    },
    {
     "name": "stderr",
     "output_type": "stream",
     "text": [
      "206it [00:02, 86.19it/s] \n"
     ]
    },
    {
     "name": "stdout",
     "output_type": "stream",
     "text": [
      "Downloading http://build-oracc.museum.upenn.edu/json/saao-saa14.zip saving as jsonzip/saao-saa14.zip\n"
     ]
    },
    {
     "name": "stderr",
     "output_type": "stream",
     "text": [
      "360it [00:03, 100.81it/s]\n"
     ]
    },
    {
     "name": "stdout",
     "output_type": "stream",
     "text": [
      "Downloading http://build-oracc.museum.upenn.edu/json/saao-saa15.zip saving as jsonzip/saao-saa15.zip\n"
     ]
    },
    {
     "name": "stderr",
     "output_type": "stream",
     "text": [
      "322it [00:02, 128.24it/s]\n"
     ]
    },
    {
     "name": "stdout",
     "output_type": "stream",
     "text": [
      "Downloading http://build-oracc.museum.upenn.edu/json/saao-saa16.zip saving as jsonzip/saao-saa16.zip\n"
     ]
    },
    {
     "name": "stderr",
     "output_type": "stream",
     "text": [
      "233it [00:02, 114.44it/s]\n"
     ]
    },
    {
     "name": "stdout",
     "output_type": "stream",
     "text": [
      "Downloading http://build-oracc.museum.upenn.edu/json/saao-saa17.zip saving as jsonzip/saao-saa17.zip\n"
     ]
    },
    {
     "name": "stderr",
     "output_type": "stream",
     "text": [
      "243it [00:03, 73.37it/s] \n"
     ]
    },
    {
     "name": "stdout",
     "output_type": "stream",
     "text": [
      "Downloading http://build-oracc.museum.upenn.edu/json/saao-saa18.zip saving as jsonzip/saao-saa18.zip\n"
     ]
    },
    {
     "name": "stderr",
     "output_type": "stream",
     "text": [
      "256it [00:02, 91.10it/s] \n"
     ]
    },
    {
     "name": "stdout",
     "output_type": "stream",
     "text": [
      "Downloading http://build-oracc.museum.upenn.edu/json/saao-saa19.zip saving as jsonzip/saao-saa19.zip\n"
     ]
    },
    {
     "name": "stderr",
     "output_type": "stream",
     "text": [
      "293it [00:03, 89.88it/s] \n"
     ]
    },
    {
     "name": "stdout",
     "output_type": "stream",
     "text": [
      "Downloading http://build-oracc.museum.upenn.edu/json/saao-saa20.zip saving as jsonzip/saao-saa20.zip\n"
     ]
    },
    {
     "name": "stderr",
     "output_type": "stream",
     "text": [
      "170it [00:01, 100.29it/s]\n"
     ]
    },
    {
     "name": "stdout",
     "output_type": "stream",
     "text": [
      "http://build-oracc.museum.upenn.edu/json/saao-saa21.zip does not exist.\n",
      "http://build-oracc.museum.upenn.edu/json/adsd-adart1.zip does not exist.\n",
      "http://build-oracc.museum.upenn.edu/json/adsd-adart2.zip does not exist.\n",
      "http://build-oracc.museum.upenn.edu/json/adsd-adart3.zip does not exist.\n",
      "http://build-oracc.museum.upenn.edu/json/aemw-idrimi.zip does not exist.\n",
      "Downloading http://build-oracc.museum.upenn.edu/json/akklove.zip saving as jsonzip/akklove.zip\n"
     ]
    },
    {
     "name": "stderr",
     "output_type": "stream",
     "text": [
      "127it [00:01, 85.18it/s]\n"
     ]
    },
    {
     "name": "stdout",
     "output_type": "stream",
     "text": [
      "Downloading http://build-oracc.museum.upenn.edu/json/blms.zip saving as jsonzip/blms.zip\n"
     ]
    },
    {
     "name": "stderr",
     "output_type": "stream",
     "text": [
      "774it [00:03, 210.73it/s]\n"
     ]
    },
    {
     "name": "stdout",
     "output_type": "stream",
     "text": [
      "Downloading http://build-oracc.museum.upenn.edu/json/cams-anzu.zip saving as jsonzip/cams-anzu.zip\n"
     ]
    },
    {
     "name": "stderr",
     "output_type": "stream",
     "text": [
      "38it [00:00, 65.29it/s]\n"
     ]
    },
    {
     "name": "stdout",
     "output_type": "stream",
     "text": [
      "Downloading http://build-oracc.museum.upenn.edu/json/cams-barutu.zip saving as jsonzip/cams-barutu.zip\n"
     ]
    },
    {
     "name": "stderr",
     "output_type": "stream",
     "text": [
      "12it [00:00, 25.70it/s]\n"
     ]
    },
    {
     "name": "stdout",
     "output_type": "stream",
     "text": [
      "Downloading http://build-oracc.museum.upenn.edu/json/cams-gkab.zip saving as jsonzip/cams-gkab.zip\n"
     ]
    },
    {
     "name": "stderr",
     "output_type": "stream",
     "text": [
      "1662it [00:11, 143.88it/s]\n"
     ]
    },
    {
     "name": "stdout",
     "output_type": "stream",
     "text": [
      "Downloading http://build-oracc.museum.upenn.edu/json/cams-selbi.zip saving as jsonzip/cams-selbi.zip\n"
     ]
    },
    {
     "name": "stderr",
     "output_type": "stream",
     "text": [
      "11it [00:00, 27.36it/s]\n"
     ]
    },
    {
     "name": "stdout",
     "output_type": "stream",
     "text": [
      "Downloading http://build-oracc.museum.upenn.edu/json/ccpo.zip saving as jsonzip/ccpo.zip\n"
     ]
    },
    {
     "name": "stderr",
     "output_type": "stream",
     "text": [
      "431it [00:03, 134.48it/s]\n"
     ]
    },
    {
     "name": "stdout",
     "output_type": "stream",
     "text": [
      "http://build-oracc.museum.upenn.edu/json/cmawro-cmawro1.zip does not exist.\n",
      "http://build-oracc.museum.upenn.edu/json/cmawr-cmawro2.zip does not exist.\n",
      "Downloading http://build-oracc.museum.upenn.edu/json/cmawro-maqlu.zip saving as jsonzip/cmawro-maqlu.zip\n"
     ]
    },
    {
     "name": "stderr",
     "output_type": "stream",
     "text": [
      "150it [00:01, 110.62it/s]\n"
     ]
    },
    {
     "name": "stdout",
     "output_type": "stream",
     "text": [
      "Downloading http://build-oracc.museum.upenn.edu/json/dccmt.zip saving as jsonzip/dccmt.zip\n"
     ]
    },
    {
     "name": "stderr",
     "output_type": "stream",
     "text": [
      "248it [00:01, 128.83it/s]\n"
     ]
    },
    {
     "name": "stdout",
     "output_type": "stream",
     "text": [
      "Downloading http://build-oracc.museum.upenn.edu/json/glass.zip saving as jsonzip/glass.zip\n"
     ]
    },
    {
     "name": "stderr",
     "output_type": "stream",
     "text": [
      "58it [00:00, 74.26it/s]\n"
     ]
    },
    {
     "name": "stdout",
     "output_type": "stream",
     "text": [
      "Downloading http://build-oracc.museum.upenn.edu/json/hbtin.zip saving as jsonzip/hbtin.zip\n"
     ]
    },
    {
     "name": "stderr",
     "output_type": "stream",
     "text": [
      "1448it [00:09, 150.68it/s]\n"
     ]
    },
    {
     "name": "stdout",
     "output_type": "stream",
     "text": [
      "Downloading http://build-oracc.museum.upenn.edu/json/riao.zip saving as jsonzip/riao.zip\n"
     ]
    },
    {
     "name": "stderr",
     "output_type": "stream",
     "text": [
      "936it [00:04, 192.67it/s]\n"
     ]
    },
    {
     "name": "stdout",
     "output_type": "stream",
     "text": [
      "Downloading http://build-oracc.museum.upenn.edu/json/ribo-babylon2.zip saving as jsonzip/ribo-babylon2.zip\n"
     ]
    },
    {
     "name": "stderr",
     "output_type": "stream",
     "text": [
      "71it [00:00, 75.69it/s]\n"
     ]
    },
    {
     "name": "stdout",
     "output_type": "stream",
     "text": [
      "Downloading http://build-oracc.museum.upenn.edu/json/ribo-babylon3.zip saving as jsonzip/ribo-babylon3.zip\n"
     ]
    },
    {
     "name": "stderr",
     "output_type": "stream",
     "text": [
      "9it [00:00, 24.86it/s]\n"
     ]
    },
    {
     "name": "stdout",
     "output_type": "stream",
     "text": [
      "Downloading http://build-oracc.museum.upenn.edu/json/ribo-babylon4.zip saving as jsonzip/ribo-babylon4.zip\n"
     ]
    },
    {
     "name": "stderr",
     "output_type": "stream",
     "text": [
      "5it [00:00, 23.58it/s]\n"
     ]
    },
    {
     "name": "stdout",
     "output_type": "stream",
     "text": [
      "Downloading http://build-oracc.museum.upenn.edu/json/ribo-babylon5.zip saving as jsonzip/ribo-babylon5.zip\n"
     ]
    },
    {
     "name": "stderr",
     "output_type": "stream",
     "text": [
      "2it [00:00, 25.64it/s]\n"
     ]
    },
    {
     "name": "stdout",
     "output_type": "stream",
     "text": [
      "Downloading http://build-oracc.museum.upenn.edu/json/ribo-babylon6.zip saving as jsonzip/ribo-babylon6.zip\n"
     ]
    },
    {
     "name": "stderr",
     "output_type": "stream",
     "text": [
      "237it [00:03, 72.17it/s] \n"
     ]
    },
    {
     "name": "stdout",
     "output_type": "stream",
     "text": [
      "Downloading http://build-oracc.museum.upenn.edu/json/ribo-babylon7.zip saving as jsonzip/ribo-babylon7.zip\n"
     ]
    },
    {
     "name": "stderr",
     "output_type": "stream",
     "text": [
      "59it [00:01, 39.44it/s]\n"
     ]
    },
    {
     "name": "stdout",
     "output_type": "stream",
     "text": [
      "Downloading http://build-oracc.museum.upenn.edu/json/ribo-babylon8.zip saving as jsonzip/ribo-babylon8.zip\n"
     ]
    },
    {
     "name": "stderr",
     "output_type": "stream",
     "text": [
      "18it [00:00, 30.51it/s]\n"
     ]
    },
    {
     "name": "stdout",
     "output_type": "stream",
     "text": [
      "Downloading http://build-oracc.museum.upenn.edu/json/ribo-babylon10.zip saving as jsonzip/ribo-babylon10.zip\n"
     ]
    },
    {
     "name": "stderr",
     "output_type": "stream",
     "text": [
      "7it [00:00, 23.18it/s]\n"
     ]
    },
    {
     "name": "stdout",
     "output_type": "stream",
     "text": [
      "Downloading http://build-oracc.museum.upenn.edu/json/rimanum.zip saving as jsonzip/rimanum.zip\n"
     ]
    },
    {
     "name": "stderr",
     "output_type": "stream",
     "text": [
      "180it [00:04, 43.75it/s]\n"
     ]
    },
    {
     "name": "stdout",
     "output_type": "stream",
     "text": [
      "Downloading http://build-oracc.museum.upenn.edu/json/rinap-rinap1.zip saving as jsonzip/rinap-rinap1.zip\n"
     ]
    },
    {
     "name": "stderr",
     "output_type": "stream",
     "text": [
      "150it [00:03, 46.22it/s]\n"
     ]
    },
    {
     "name": "stdout",
     "output_type": "stream",
     "text": [
      "Downloading http://build-oracc.museum.upenn.edu/json/rinap-rinap3.zip saving as jsonzip/rinap-rinap3.zip\n"
     ]
    },
    {
     "name": "stderr",
     "output_type": "stream",
     "text": [
      "617it [00:05, 120.48it/s]\n"
     ]
    },
    {
     "name": "stdout",
     "output_type": "stream",
     "text": [
      "Downloading http://build-oracc.museum.upenn.edu/json/rinap-rinap4.zip saving as jsonzip/rinap-rinap4.zip\n"
     ]
    },
    {
     "name": "stderr",
     "output_type": "stream",
     "text": [
      "397it [00:03, 113.17it/s]\n"
     ]
    },
    {
     "name": "stdout",
     "output_type": "stream",
     "text": [
      "Downloading http://build-oracc.museum.upenn.edu/json/rinap-rinap5.zip saving as jsonzip/rinap-rinap5.zip\n"
     ]
    },
    {
     "name": "stderr",
     "output_type": "stream",
     "text": [
      "618it [00:03, 190.51it/s]\n"
     ]
    },
    {
     "name": "stdout",
     "output_type": "stream",
     "text": [
      "Downloading http://build-oracc.museum.upenn.edu/json/suhu.zip saving as jsonzip/suhu.zip\n"
     ]
    },
    {
     "name": "stderr",
     "output_type": "stream",
     "text": [
      "70it [00:00, 80.55it/s]\n"
     ]
    }
   ],
   "source": [
    "oracc_download(p)"
   ]
  },
  {
   "cell_type": "markdown",
   "metadata": {},
   "source": [
    "## <a name=\"head21\"></a>2.1 The `parsejson()` function\n",
    "The `parsejson()` function is identical in structure with the function of that same name in `First_JSON_parser.ipynb`, but it fetches more data. The field `word_id` consists of three parts, namely a text ID, line ID, and word ID, in the format `Q000039.76.2` meaning: the second word in line 76 of text object `Q000039`. Note that `76` is not a line number strictly speaking but an object reference within the text object. Things like horizontal rulings, columns, and breaks also get object references. The `word_id` field allows us to put lines, breaks, and horizontal drawings together in the proper order.\n",
    "\n",
    "The field `label` is a human-legible label that refers to a line or another part of the text; it may look like `o i 23` (obverse column 1 line 23) or `r v 23'` (reverse column 5 line 23 prime). The `label` field is used in online [ORACC](http://oracc.org) editions to indicate line numbers.\n",
    "\n",
    "The fields `extent`, `scope`, and `state` give metatextual data about the condition of the object; they capture the number of broken lines or columns and similar information. \n",
    "\n",
    "The field `field` is used primarily in lexical texts. For the field abbreviations and their meanings, see the [documentation](http://oracc.museum.upenn.edu/doc/help/editinginatf/lexicaltexts/index.html). The field label looks like `wp` (word or phrase), `sg` (Sign) and is found under the JSON key `subtype` after a `field-start` entry. The field label is copied to the `meta_d` dictionary (under the key `field`), but this key is removed from `meta_d` as soon as the parser encounters a `field-end` value (with the `pop()` function). The great majority of lemmas have no field attribute - the key is \"popped\" so that it does not get copied in advertently to all subsequent lemmas.\n",
    "\n",
    "This version of the `parsejson()` function is also available is the module `utils`.\n"
   ]
  },
  {
   "cell_type": "code",
   "execution_count": 5,
   "metadata": {},
   "outputs": [],
   "source": [
    "def parsejson(text):\n",
    "    for JSONobject in text[\"cdl\"]:\n",
    "        if \"cdl\" in JSONobject: \n",
    "            parsejson(JSONobject)\n",
    "        if \"label\" in JSONobject:\n",
    "            meta_d[\"label\"] = JSONobject['label']\n",
    "        if \"type\" in JSONobject and JSONobject[\"type\"] == \"field-start\": # this is for sign lists, identifying fields such as\n",
    "            meta_d[\"field\"] = JSONobject[\"subtype\"]                    # sign, pronunciation, translation.\n",
    "        if \"type\" in JSONobject and JSONobject[\"type\"] == \"field-end\":\n",
    "            meta_d.pop(\"field\", None)                           # remove the key \"field\" to prevent it from being copied \n",
    "                                                              # to all subsequent lemmas (which may not have fields)\n",
    "        if \"f\" in JSONobject:\n",
    "            lemma = JSONobject[\"f\"]\n",
    "            lemma[\"id_word\"] = JSONobject[\"ref\"]\n",
    "            lemma['label'] = meta_d[\"label\"]\n",
    "            lemma[\"id_text\"] = meta_d[\"id_text\"]\n",
    "            if \"field\" in meta_d:\n",
    "                lemma[\"field\"] = meta_d[\"field\"]\n",
    "            lemm_l.append(lemma)\n",
    "        if \"strict\" in JSONobject and JSONobject[\"strict\"] == \"1\":\n",
    "            lemma = {key: JSONobject[key] for key in dollar_keys}\n",
    "            lemma[\"id_word\"] = JSONobject[\"ref\"]\n",
    "            lemma[\"id_text\"] = meta_d[\"id_text\"]\n",
    "            lemm_l.append(lemma)\n",
    "    return"
   ]
  },
  {
   "cell_type": "markdown",
   "metadata": {},
   "source": [
    "## 2.2 Call the `parsejson()` function for every `JSON` file\n",
    "The code in this cell will iterate through the list of projects entered above (1.1). For each project the `JSON` zip file is located in the directory `jsonzip`, named PROJECT.zip. The `zip` file contains a directory that is called `corpusjson` that contains a JSON file for every text that is available in that corpus. The files are called after their text IDs in the pattern `P######.json` (or `Q######.json` or `X######.json`).\n",
    "\n",
    "The function `namelist()` of the `zipfile` package is used to create a list of the names of all the files in the ZIP. From this list we select all the file names in the `corpusjson` directory with extension `.json` (this way we exclude the name of the directory itself). \n",
    "\n",
    "Each of these files is read from the `zip` file and loaded with the command `json.loads()`, which transforms the string into a proper JSON object. \n",
    "\n",
    "This JSON object (essentially a Python dictionary), which is called `data_json` is now sent to the `parsejson()` function. The function adds lemmata to the `lemm_l` list. In the end, `lemm_l` will contain as many list elements as there are words in all the texts in the projects requested.\n",
    "\n",
    "The dictionary `meta_d` is created to hold temporary information. The value of the key `id_text` is updated in the main process every time a new JSON file is opened and send to the `parsejson()` function. The `parsejson()` function itself will change values or add new keys, depending on the information found while iterating through the JSON file. When a new lemma row is created, `parsejon()` will supply data such as `id_text`, `label` and (potentially) other information from `meta_d`."
   ]
  },
  {
   "cell_type": "code",
   "execution_count": 6,
   "metadata": {},
   "outputs": [
    {
     "name": "stdout",
     "output_type": "stream",
     "text": [
      "Parsing saao/saa01\n"
     ]
    },
    {
     "name": "stderr",
     "output_type": "stream",
     "text": [
      "100%|███████████████████████████████████████| 264/264 [00:01<00:00, 143.24it/s]\n"
     ]
    },
    {
     "name": "stdout",
     "output_type": "stream",
     "text": [
      "Parsing saao/saa02\n"
     ]
    },
    {
     "name": "stderr",
     "output_type": "stream",
     "text": [
      "100%|██████████████████████████████████████████| 15/15 [00:00<00:00, 15.87it/s]\n"
     ]
    },
    {
     "name": "stdout",
     "output_type": "stream",
     "text": [
      "Parsing saao/saa03\n"
     ]
    },
    {
     "name": "stderr",
     "output_type": "stream",
     "text": [
      "100%|██████████████████████████████████████████| 52/52 [00:00<00:00, 55.32it/s]\n"
     ]
    },
    {
     "name": "stdout",
     "output_type": "stream",
     "text": [
      "Parsing saao/saa04\n"
     ]
    },
    {
     "name": "stderr",
     "output_type": "stream",
     "text": [
      " 33%|████████████▊                          | 116/354 [00:01<00:02, 104.77it/s]"
     ]
    },
    {
     "name": "stdout",
     "output_type": "stream",
     "text": [
      "saao/saa04/P336097 is not available or not complete\n",
      "saao/saa04/P336343 is not available or not complete\n"
     ]
    },
    {
     "name": "stderr",
     "output_type": "stream",
     "text": [
      " 66%|█████████████████████████▌             | 232/354 [00:01<00:00, 147.79it/s]"
     ]
    },
    {
     "name": "stdout",
     "output_type": "stream",
     "text": [
      "saao/saa04/P237370 is not available or not complete\n"
     ]
    },
    {
     "name": "stderr",
     "output_type": "stream",
     "text": [
      " 79%|███████████████████████████████▌        | 279/354 [00:02<00:00, 94.87it/s]"
     ]
    },
    {
     "name": "stdout",
     "output_type": "stream",
     "text": [
      "saao/saa04/P336332 is not available or not complete\n"
     ]
    },
    {
     "name": "stderr",
     "output_type": "stream",
     "text": [
      "100%|███████████████████████████████████████| 354/354 [00:02<00:00, 124.56it/s]\n"
     ]
    },
    {
     "name": "stdout",
     "output_type": "stream",
     "text": [
      "Parsing saao/saa05\n"
     ]
    },
    {
     "name": "stderr",
     "output_type": "stream",
     "text": [
      "100%|███████████████████████████████████████| 300/300 [00:01<00:00, 151.52it/s]\n"
     ]
    },
    {
     "name": "stdout",
     "output_type": "stream",
     "text": [
      "Parsing saao/saa06\n"
     ]
    },
    {
     "name": "stderr",
     "output_type": "stream",
     "text": [
      "  3%|█▎                                      | 11/350 [00:00<00:03, 106.80it/s]"
     ]
    },
    {
     "name": "stdout",
     "output_type": "stream",
     "text": [
      "saao/saa06/P335176 is not available or not complete\n"
     ]
    },
    {
     "name": "stderr",
     "output_type": "stream",
     "text": [
      "\r",
      "  7%|██▊                                     | 25/350 [00:00<00:02, 113.30it/s]"
     ]
    },
    {
     "name": "stdout",
     "output_type": "stream",
     "text": [
      "saao/saa06/P335202 is not available or not complete\n",
      "saao/saa06/P335322 is not available or not complete\n"
     ]
    },
    {
     "name": "stderr",
     "output_type": "stream",
     "text": [
      "\r",
      " 12%|████▉                                   | 43/350 [00:00<00:02, 126.13it/s]"
     ]
    },
    {
     "name": "stdout",
     "output_type": "stream",
     "text": [
      "saao/saa06/P335204 is not available or not complete\n"
     ]
    },
    {
     "name": "stderr",
     "output_type": "stream",
     "text": [
      " 24%|█████████▋                              | 85/350 [00:00<00:02, 127.95it/s]"
     ]
    },
    {
     "name": "stdout",
     "output_type": "stream",
     "text": [
      "saao/saa06/P335372 is not available or not complete\n"
     ]
    },
    {
     "name": "stderr",
     "output_type": "stream",
     "text": [
      " 67%|██████████████████████████▋             | 233/350 [00:02<00:01, 90.46it/s]"
     ]
    },
    {
     "name": "stdout",
     "output_type": "stream",
     "text": [
      "saao/saa06/P335226 is not available or not complete\n"
     ]
    },
    {
     "name": "stderr",
     "output_type": "stream",
     "text": [
      "100%|███████████████████████████████████████| 350/350 [00:02<00:00, 125.81it/s]\n"
     ]
    },
    {
     "name": "stdout",
     "output_type": "stream",
     "text": [
      "Parsing saao/saa07\n"
     ]
    },
    {
     "name": "stderr",
     "output_type": "stream",
     "text": [
      " 34%|█████████████▋                          | 75/219 [00:00<00:01, 138.05it/s]"
     ]
    },
    {
     "name": "stdout",
     "output_type": "stream",
     "text": [
      "saao/saa07/P335792 is not available or not complete\n"
     ]
    },
    {
     "name": "stderr",
     "output_type": "stream",
     "text": [
      "100%|███████████████████████████████████████| 219/219 [00:01<00:00, 156.76it/s]\n"
     ]
    },
    {
     "name": "stdout",
     "output_type": "stream",
     "text": [
      "Parsing saao/saa08\n"
     ]
    },
    {
     "name": "stderr",
     "output_type": "stream",
     "text": [
      "100%|███████████████████████████████████████| 568/568 [00:02<00:00, 197.70it/s]\n"
     ]
    },
    {
     "name": "stdout",
     "output_type": "stream",
     "text": [
      "Parsing saao/saa09\n"
     ]
    },
    {
     "name": "stderr",
     "output_type": "stream",
     "text": [
      "100%|██████████████████████████████████████████| 11/11 [00:00<00:00, 64.33it/s]\n"
     ]
    },
    {
     "name": "stdout",
     "output_type": "stream",
     "text": [
      "Parsing saao/saa10\n"
     ]
    },
    {
     "name": "stderr",
     "output_type": "stream",
     "text": [
      "100%|███████████████████████████████████████| 389/389 [00:03<00:00, 123.73it/s]\n"
     ]
    },
    {
     "name": "stdout",
     "output_type": "stream",
     "text": [
      "Parsing saao/saa11\n"
     ]
    },
    {
     "name": "stderr",
     "output_type": "stream",
     "text": [
      "100%|███████████████████████████████████████| 234/234 [00:01<00:00, 208.00it/s]\n"
     ]
    },
    {
     "name": "stdout",
     "output_type": "stream",
     "text": [
      "Parsing saao/saa12\n"
     ]
    },
    {
     "name": "stderr",
     "output_type": "stream",
     "text": [
      " 10%|████▎                                     | 10/98 [00:00<00:00, 99.01it/s]"
     ]
    },
    {
     "name": "stdout",
     "output_type": "stream",
     "text": [
      "saao/saa12/P235242 is not available or not complete\n"
     ]
    },
    {
     "name": "stderr",
     "output_type": "stream",
     "text": [
      "\r",
      " 21%|█████████                                 | 21/98 [00:00<00:00, 95.18it/s]"
     ]
    },
    {
     "name": "stdout",
     "output_type": "stream",
     "text": [
      "saao/saa12/P285576 is not available or not complete\n"
     ]
    },
    {
     "name": "stderr",
     "output_type": "stream",
     "text": [
      "100%|█████████████████████████████████████████| 98/98 [00:00<00:00, 108.17it/s]\n"
     ]
    },
    {
     "name": "stdout",
     "output_type": "stream",
     "text": [
      "Parsing saao/saa13\n"
     ]
    },
    {
     "name": "stderr",
     "output_type": "stream",
     "text": [
      "100%|███████████████████████████████████████| 210/210 [00:01<00:00, 114.63it/s]\n"
     ]
    },
    {
     "name": "stdout",
     "output_type": "stream",
     "text": [
      "Parsing saao/saa14\n"
     ]
    },
    {
     "name": "stderr",
     "output_type": "stream",
     "text": [
      "\r",
      "  0%|                                                  | 0/479 [00:00<?, ?it/s]"
     ]
    },
    {
     "name": "stdout",
     "output_type": "stream",
     "text": [
      "saao/saa14/P335530 is not available or not complete\n"
     ]
    },
    {
     "name": "stderr",
     "output_type": "stream",
     "text": [
      "  9%|███▋                                    | 44/479 [00:00<00:02, 215.05it/s]"
     ]
    },
    {
     "name": "stdout",
     "output_type": "stream",
     "text": [
      "saao/saa14/P335415 is not available or not complete\n",
      "saao/saa14/P335587 is not available or not complete\n"
     ]
    },
    {
     "name": "stderr",
     "output_type": "stream",
     "text": [
      "\r",
      " 14%|█████▌                                  | 66/479 [00:00<00:01, 213.36it/s]"
     ]
    },
    {
     "name": "stdout",
     "output_type": "stream",
     "text": [
      "saao/saa14/P335263 is not available or not complete\n"
     ]
    },
    {
     "name": "stderr",
     "output_type": "stream",
     "text": [
      "\r",
      " 18%|███████▎                                | 87/479 [00:00<00:01, 211.06it/s]"
     ]
    },
    {
     "name": "stdout",
     "output_type": "stream",
     "text": [
      "saao/saa14/P335079 is not available or not complete\n",
      "saao/saa14/P335107 is not available or not complete\n"
     ]
    },
    {
     "name": "stderr",
     "output_type": "stream",
     "text": [
      " 31%|████████████▏                          | 150/479 [00:00<00:01, 252.41it/s]"
     ]
    },
    {
     "name": "stdout",
     "output_type": "stream",
     "text": [
      "saao/saa14/P334977 is not available or not complete\n",
      "saao/saa14/P334991 is not available or not complete\n",
      "saao/saa14/P335305 is not available or not complete\n"
     ]
    },
    {
     "name": "stderr",
     "output_type": "stream",
     "text": [
      " 44%|█████████████████                      | 209/479 [00:00<00:00, 272.32it/s]"
     ]
    },
    {
     "name": "stdout",
     "output_type": "stream",
     "text": [
      "saao/saa14/P336196 is not available or not complete\n",
      "saao/saa14/P335038 is not available or not complete\n",
      "saao/saa14/P335943 is not available or not complete\n",
      "saao/saa14/P335574 is not available or not complete\n"
     ]
    },
    {
     "name": "stderr",
     "output_type": "stream",
     "text": [
      "\r",
      " 50%|███████████████████▌                   | 240/479 [00:00<00:00, 278.06it/s]"
     ]
    },
    {
     "name": "stdout",
     "output_type": "stream",
     "text": [
      "saao/saa14/P336029 is not available or not complete\n",
      "saao/saa14/P335257 is not available or not complete\n"
     ]
    },
    {
     "name": "stderr",
     "output_type": "stream",
     "text": [
      "\r",
      " 56%|█████████████████████▊                 | 268/479 [00:01<00:00, 269.78it/s]"
     ]
    },
    {
     "name": "stdout",
     "output_type": "stream",
     "text": [
      "saao/saa14/P335525 is not available or not complete\n"
     ]
    },
    {
     "name": "stderr",
     "output_type": "stream",
     "text": [
      "\r",
      " 63%|████████████████████████▍              | 300/479 [00:01<00:00, 280.87it/s]"
     ]
    },
    {
     "name": "stdout",
     "output_type": "stream",
     "text": [
      "saao/saa14/P335197 is not available or not complete\n",
      "saao/saa14/P335081 is not available or not complete\n",
      "saao/saa14/P224949 is not available or not complete\n"
     ]
    },
    {
     "name": "stderr",
     "output_type": "stream",
     "text": [
      "\r",
      " 69%|██████████████████████████▊            | 329/479 [00:01<00:00, 282.72it/s]"
     ]
    },
    {
     "name": "stdout",
     "output_type": "stream",
     "text": [
      "saao/saa14/P335459 is not available or not complete\n"
     ]
    },
    {
     "name": "stderr",
     "output_type": "stream",
     "text": [
      "\r",
      " 76%|█████████████████████████████▌         | 363/479 [00:01<00:00, 294.67it/s]"
     ]
    },
    {
     "name": "stdout",
     "output_type": "stream",
     "text": [
      "saao/saa14/P335080 is not available or not complete\n"
     ]
    },
    {
     "name": "stderr",
     "output_type": "stream",
     "text": [
      "\r",
      " 82%|███████████████████████████████▉       | 393/479 [00:01<00:00, 280.47it/s]"
     ]
    },
    {
     "name": "stdout",
     "output_type": "stream",
     "text": [
      "saao/saa14/P335489 is not available or not complete\n",
      "saao/saa14/P335539 is not available or not complete\n",
      "saao/saa14/P335180 is not available or not complete\n",
      "saao/saa14/P336194 is not available or not complete\n"
     ]
    },
    {
     "name": "stderr",
     "output_type": "stream",
     "text": [
      "\r",
      " 90%|██████████████████████████████████▉    | 429/479 [00:01<00:00, 297.40it/s]"
     ]
    },
    {
     "name": "stdout",
     "output_type": "stream",
     "text": [
      "saao/saa14/P335537 is not available or not complete\n"
     ]
    },
    {
     "name": "stderr",
     "output_type": "stream",
     "text": [
      "\r",
      " 96%|█████████████████████████████████████▍ | 460/479 [00:01<00:00, 286.86it/s]"
     ]
    },
    {
     "name": "stdout",
     "output_type": "stream",
     "text": [
      "saao/saa14/P335196 is not available or not complete\n",
      "saao/saa14/P335154 is not available or not complete\n"
     ]
    },
    {
     "name": "stderr",
     "output_type": "stream",
     "text": [
      "100%|███████████████████████████████████████| 479/479 [00:01<00:00, 272.47it/s]\n"
     ]
    },
    {
     "name": "stdout",
     "output_type": "stream",
     "text": [
      "Parsing saao/saa15\n"
     ]
    },
    {
     "name": "stderr",
     "output_type": "stream",
     "text": [
      "100%|███████████████████████████████████████| 389/389 [00:01<00:00, 224.86it/s]\n"
     ]
    },
    {
     "name": "stdout",
     "output_type": "stream",
     "text": [
      "Parsing saao/saa16\n"
     ]
    },
    {
     "name": "stderr",
     "output_type": "stream",
     "text": [
      "100%|███████████████████████████████████████| 246/246 [00:02<00:00, 103.23it/s]\n"
     ]
    },
    {
     "name": "stdout",
     "output_type": "stream",
     "text": [
      "Parsing saao/saa17\n"
     ]
    },
    {
     "name": "stderr",
     "output_type": "stream",
     "text": [
      "100%|███████████████████████████████████████| 207/207 [00:01<00:00, 132.30it/s]\n"
     ]
    },
    {
     "name": "stdout",
     "output_type": "stream",
     "text": [
      "Parsing saao/saa18\n"
     ]
    },
    {
     "name": "stderr",
     "output_type": "stream",
     "text": [
      "100%|███████████████████████████████████████| 204/204 [00:01<00:00, 116.37it/s]\n"
     ]
    },
    {
     "name": "stdout",
     "output_type": "stream",
     "text": [
      "Parsing saao/saa19\n"
     ]
    },
    {
     "name": "stderr",
     "output_type": "stream",
     "text": [
      "100%|███████████████████████████████████████| 229/229 [00:01<00:00, 137.13it/s]\n"
     ]
    },
    {
     "name": "stdout",
     "output_type": "stream",
     "text": [
      "Parsing saao/saa20\n"
     ]
    },
    {
     "name": "stderr",
     "output_type": "stream",
     "text": [
      "100%|██████████████████████████████████████████| 55/55 [00:02<00:00, 26.31it/s]\n"
     ]
    },
    {
     "name": "stdout",
     "output_type": "stream",
     "text": [
      "Parsing saao/saa21\n",
      "jsonzip/saao-saa21.zip does not exist or is not a proper ZIP file\n",
      "Parsing adsd/adart1\n",
      "jsonzip/adsd-adart1.zip does not exist or is not a proper ZIP file\n",
      "Parsing adsd/adart2\n",
      "jsonzip/adsd-adart2.zip does not exist or is not a proper ZIP file\n",
      "Parsing adsd/adart3\n",
      "jsonzip/adsd-adart3.zip does not exist or is not a proper ZIP file\n",
      "Parsing aemw/idrimi\n",
      "jsonzip/aemw-idrimi.zip does not exist or is not a proper ZIP file\n",
      "Parsing akklove\n"
     ]
    },
    {
     "name": "stderr",
     "output_type": "stream",
     "text": [
      "100%|█████████████████████████████████████████| 32/32 [00:00<00:00, 100.31it/s]\n"
     ]
    },
    {
     "name": "stdout",
     "output_type": "stream",
     "text": [
      "Parsing blms\n"
     ]
    },
    {
     "name": "stderr",
     "output_type": "stream",
     "text": [
      "100%|███████████████████████████████████████| 395/395 [00:03<00:00, 110.40it/s]\n"
     ]
    },
    {
     "name": "stdout",
     "output_type": "stream",
     "text": [
      "Parsing cams/anzu\n"
     ]
    },
    {
     "name": "stderr",
     "output_type": "stream",
     "text": [
      "100%|████████████████████████████████████████████| 3/3 [00:00<00:00, 22.22it/s]\n"
     ]
    },
    {
     "name": "stdout",
     "output_type": "stream",
     "text": [
      "Parsing cams/barutu\n"
     ]
    },
    {
     "name": "stderr",
     "output_type": "stream",
     "text": [
      "100%|████████████████████████████████████████████| 3/3 [00:00<00:00, 52.63it/s]\n"
     ]
    },
    {
     "name": "stdout",
     "output_type": "stream",
     "text": [
      "Parsing cams/gkab\n"
     ]
    },
    {
     "name": "stderr",
     "output_type": "stream",
     "text": [
      " 45%|█████████████████▊                      | 261/585 [00:05<00:07, 40.67it/s]"
     ]
    },
    {
     "name": "stdout",
     "output_type": "stream",
     "text": [
      "cams/gkab/P363695 is not available or not complete\n"
     ]
    },
    {
     "name": "stderr",
     "output_type": "stream",
     "text": [
      "100%|████████████████████████████████████████| 585/585 [00:10<00:00, 55.56it/s]\n"
     ]
    },
    {
     "name": "stdout",
     "output_type": "stream",
     "text": [
      "Parsing cams/selbi\n"
     ]
    },
    {
     "name": "stderr",
     "output_type": "stream",
     "text": [
      "100%|███████████████████████████████████████████| 3/3 [00:00<00:00, 136.36it/s]\n"
     ]
    },
    {
     "name": "stdout",
     "output_type": "stream",
     "text": [
      "Parsing ccpo\n"
     ]
    },
    {
     "name": "stderr",
     "output_type": "stream",
     "text": [
      "100%|████████████████████████████████████████| 205/205 [00:03<00:00, 56.91it/s]\n"
     ]
    },
    {
     "name": "stdout",
     "output_type": "stream",
     "text": [
      "Parsing cmawro/cmawro1\n",
      "jsonzip/cmawro-cmawro1.zip does not exist or is not a proper ZIP file\n",
      "Parsing cmawr/cmawro2\n",
      "jsonzip/cmawr-cmawro2.zip does not exist or is not a proper ZIP file\n",
      "Parsing cmawro/maqlu\n"
     ]
    },
    {
     "name": "stderr",
     "output_type": "stream",
     "text": [
      "100%|████████████████████████████████████████████| 9/9 [00:01<00:00,  7.50it/s]\n"
     ]
    },
    {
     "name": "stdout",
     "output_type": "stream",
     "text": [
      "Parsing dccmt\n"
     ]
    },
    {
     "name": "stderr",
     "output_type": "stream",
     "text": [
      "100%|███████████████████████████████████████| 222/222 [00:02<00:00, 107.35it/s]\n"
     ]
    },
    {
     "name": "stdout",
     "output_type": "stream",
     "text": [
      "Parsing glass\n"
     ]
    },
    {
     "name": "stderr",
     "output_type": "stream",
     "text": [
      "100%|██████████████████████████████████████████| 20/20 [00:00<00:00, 58.82it/s]\n"
     ]
    },
    {
     "name": "stdout",
     "output_type": "stream",
     "text": [
      "Parsing hbtin\n"
     ]
    },
    {
     "name": "stderr",
     "output_type": "stream",
     "text": [
      "\r",
      "  0%|                                                  | 0/485 [00:00<?, ?it/s]"
     ]
    },
    {
     "name": "stdout",
     "output_type": "stream",
     "text": [
      "hbtin/P342246 is not available or not complete\n",
      "hbtin/P303987 is not available or not complete\n"
     ]
    },
    {
     "name": "stderr",
     "output_type": "stream",
     "text": [
      "\r",
      "  1%|▌                                         | 6/485 [00:00<00:08, 58.25it/s]"
     ]
    },
    {
     "name": "stdout",
     "output_type": "stream",
     "text": [
      "hbtin/P296731 is not available or not complete\n"
     ]
    },
    {
     "name": "stderr",
     "output_type": "stream",
     "text": [
      "\r",
      "  2%|▊                                        | 10/485 [00:00<00:09, 49.16it/s]"
     ]
    },
    {
     "name": "stdout",
     "output_type": "stream",
     "text": [
      "hbtin/P342485 is not available or not complete\n",
      "hbtin/P296703 is not available or not complete\n",
      "hbtin/P296757 is not available or not complete\n"
     ]
    },
    {
     "name": "stderr",
     "output_type": "stream",
     "text": [
      "\r",
      "  3%|█▏                                       | 14/485 [00:00<00:10, 45.22it/s]"
     ]
    },
    {
     "name": "stdout",
     "output_type": "stream",
     "text": [
      "hbtin/P296732 is not available or not complete\n",
      "hbtin/P296688 is not available or not complete\n",
      "hbtin/P296685 is not available or not complete\n",
      "hbtin/P342486 is not available or not complete\n"
     ]
    },
    {
     "name": "stderr",
     "output_type": "stream",
     "text": [
      "\r",
      "  4%|█▌                                       | 18/485 [00:00<00:11, 41.61it/s]"
     ]
    },
    {
     "name": "stdout",
     "output_type": "stream",
     "text": [
      "hbtin/P296739 is not available or not complete\n",
      "hbtin/P342461 is not available or not complete\n"
     ]
    },
    {
     "name": "stderr",
     "output_type": "stream",
     "text": [
      "\r",
      "  5%|█▉                                       | 23/485 [00:00<00:10, 42.81it/s]"
     ]
    },
    {
     "name": "stdout",
     "output_type": "stream",
     "text": [
      "hbtin/P296697 is not available or not complete\n"
     ]
    },
    {
     "name": "stderr",
     "output_type": "stream",
     "text": [
      "\r",
      "  6%|██▎                                      | 28/485 [00:00<00:10, 43.57it/s]"
     ]
    },
    {
     "name": "stdout",
     "output_type": "stream",
     "text": [
      "hbtin/P296750 is not available or not complete\n",
      "hbtin/P342216 is not available or not complete\n",
      "hbtin/P342462 is not available or not complete\n"
     ]
    },
    {
     "name": "stderr",
     "output_type": "stream",
     "text": [
      "\r",
      "  7%|███                                      | 36/485 [00:00<00:08, 49.90it/s]"
     ]
    },
    {
     "name": "stdout",
     "output_type": "stream",
     "text": [
      "hbtin/P342249 is not available or not complete\n",
      "hbtin/P342255 is not available or not complete\n",
      "hbtin/P342504 is not available or not complete\n",
      "hbtin/P296742 is not available or not complete\n",
      "hbtin/P296746 is not available or not complete\n"
     ]
    },
    {
     "name": "stderr",
     "output_type": "stream",
     "text": [
      "\r",
      "  8%|███▍                                     | 41/485 [00:00<00:10, 42.00it/s]"
     ]
    },
    {
     "name": "stdout",
     "output_type": "stream",
     "text": [
      "hbtin/P304009 is not available or not complete\n",
      "hbtin/P296754 is not available or not complete\n"
     ]
    },
    {
     "name": "stderr",
     "output_type": "stream",
     "text": [
      "\r",
      "  9%|███▉                                     | 46/485 [00:01<00:10, 41.18it/s]"
     ]
    },
    {
     "name": "stdout",
     "output_type": "stream",
     "text": [
      "hbtin/P303983 is not available or not complete\n",
      "hbtin/P303981 is not available or not complete\n",
      "hbtin/P296726 is not available or not complete\n"
     ]
    },
    {
     "name": "stderr",
     "output_type": "stream",
     "text": [
      "\r",
      " 11%|████▎                                    | 51/485 [00:01<00:11, 37.76it/s]"
     ]
    },
    {
     "name": "stdout",
     "output_type": "stream",
     "text": [
      "hbtin/P342456 is not available or not complete\n"
     ]
    },
    {
     "name": "stderr",
     "output_type": "stream",
     "text": [
      "\r",
      " 11%|████▋                                    | 55/485 [00:01<00:11, 36.72it/s]"
     ]
    },
    {
     "name": "stdout",
     "output_type": "stream",
     "text": [
      "hbtin/P296716 is not available or not complete\n",
      "hbtin/P296721 is not available or not complete\n"
     ]
    },
    {
     "name": "stderr",
     "output_type": "stream",
     "text": [
      "\r",
      " 12%|████▉                                    | 59/485 [00:01<00:11, 36.81it/s]"
     ]
    },
    {
     "name": "stdout",
     "output_type": "stream",
     "text": [
      "hbtin/P296713 is not available or not complete\n",
      "hbtin/P296730 is not available or not complete\n"
     ]
    },
    {
     "name": "stderr",
     "output_type": "stream",
     "text": [
      "\r",
      " 13%|█████▎                                   | 63/485 [00:01<00:11, 36.38it/s]"
     ]
    },
    {
     "name": "stdout",
     "output_type": "stream",
     "text": [
      "hbtin/P342446 is not available or not complete\n",
      "hbtin/P342505 is not available or not complete\n",
      "hbtin/P303986 is not available or not complete\n"
     ]
    },
    {
     "name": "stderr",
     "output_type": "stream",
     "text": [
      "\r",
      " 14%|█████▋                                   | 67/485 [00:01<00:11, 35.50it/s]"
     ]
    },
    {
     "name": "stdout",
     "output_type": "stream",
     "text": [
      "hbtin/P342450 is not available or not complete\n",
      "hbtin/P342254 is not available or not complete\n"
     ]
    },
    {
     "name": "stderr",
     "output_type": "stream",
     "text": [
      "\r",
      " 15%|██████▏                                  | 73/485 [00:01<00:10, 39.19it/s]"
     ]
    },
    {
     "name": "stdout",
     "output_type": "stream",
     "text": [
      "hbtin/P342452 is not available or not complete\n",
      "hbtin/P303975 is not available or not complete\n"
     ]
    },
    {
     "name": "stderr",
     "output_type": "stream",
     "text": [
      "\r",
      " 16%|██████▌                                  | 78/485 [00:01<00:10, 39.43it/s]"
     ]
    },
    {
     "name": "stdout",
     "output_type": "stream",
     "text": [
      "hbtin/P342453 is not available or not complete\n",
      "hbtin/P342465 is not available or not complete\n",
      "hbtin/P342270 is not available or not complete\n"
     ]
    },
    {
     "name": "stderr",
     "output_type": "stream",
     "text": [
      "\r",
      " 17%|███████                                  | 83/485 [00:02<00:10, 38.41it/s]"
     ]
    },
    {
     "name": "stdout",
     "output_type": "stream",
     "text": [
      "hbtin/P342238 is not available or not complete\n",
      "hbtin/P296737 is not available or not complete\n"
     ]
    },
    {
     "name": "stderr",
     "output_type": "stream",
     "text": [
      "\r",
      " 18%|███████▍                                 | 88/485 [00:02<00:10, 39.61it/s]"
     ]
    },
    {
     "name": "stdout",
     "output_type": "stream",
     "text": [
      "hbtin/P296758 is not available or not complete\n"
     ]
    },
    {
     "name": "stderr",
     "output_type": "stream",
     "text": [
      "\r",
      " 19%|███████▊                                 | 93/485 [00:02<00:10, 38.89it/s]"
     ]
    },
    {
     "name": "stdout",
     "output_type": "stream",
     "text": [
      "hbtin/P304010 is not available or not complete\n",
      "hbtin/P303993 is not available or not complete\n",
      "hbtin/P342222 is not available or not complete\n"
     ]
    },
    {
     "name": "stderr",
     "output_type": "stream",
     "text": [
      "\r",
      " 20%|████████▏                                | 97/485 [00:02<00:10, 35.94it/s]"
     ]
    },
    {
     "name": "stdout",
     "output_type": "stream",
     "text": [
      "hbtin/P296680 is not available or not complete\n",
      "hbtin/P303989 is not available or not complete\n",
      "hbtin/P342458 is not available or not complete\n"
     ]
    },
    {
     "name": "stderr",
     "output_type": "stream",
     "text": [
      "\r",
      " 21%|████████▍                               | 103/485 [00:02<00:09, 40.77it/s]"
     ]
    },
    {
     "name": "stdout",
     "output_type": "stream",
     "text": [
      "hbtin/P296759 is not available or not complete\n",
      "hbtin/P296743 is not available or not complete\n"
     ]
    },
    {
     "name": "stderr",
     "output_type": "stream",
     "text": [
      "\r",
      " 22%|████████▉                               | 109/485 [00:02<00:08, 44.02it/s]"
     ]
    },
    {
     "name": "stdout",
     "output_type": "stream",
     "text": [
      "hbtin/P304336 is not available or not complete\n",
      "hbtin/P342503 is not available or not complete\n",
      "hbtin/P342262 is not available or not complete\n"
     ]
    },
    {
     "name": "stderr",
     "output_type": "stream",
     "text": [
      "\r",
      " 24%|█████████▍                              | 114/485 [00:02<00:08, 42.40it/s]"
     ]
    },
    {
     "name": "stdout",
     "output_type": "stream",
     "text": [
      "hbtin/P296722 is not available or not complete\n",
      "hbtin/P296765 is not available or not complete\n",
      "hbtin/P304003 is not available or not complete\n"
     ]
    },
    {
     "name": "stderr",
     "output_type": "stream",
     "text": [
      "\r",
      " 25%|█████████▉                              | 120/485 [00:02<00:08, 45.54it/s]"
     ]
    },
    {
     "name": "stdout",
     "output_type": "stream",
     "text": [
      "hbtin/P342457 is not available or not complete\n",
      "hbtin/P296736 is not available or not complete\n",
      "hbtin/P297042 is not available or not complete\n",
      "hbtin/P296741 is not available or not complete\n"
     ]
    },
    {
     "name": "stderr",
     "output_type": "stream",
     "text": [
      "\r",
      " 26%|██████████▍                             | 126/485 [00:02<00:07, 48.26it/s]"
     ]
    },
    {
     "name": "stdout",
     "output_type": "stream",
     "text": [
      "hbtin/P296699 is not available or not complete\n",
      "hbtin/P304008 is not available or not complete\n",
      "hbtin/P297043 is not available or not complete\n",
      "hbtin/P304000 is not available or not complete\n",
      "hbtin/P304012 is not available or not complete\n",
      "hbtin/P296769 is not available or not complete\n"
     ]
    },
    {
     "name": "stderr",
     "output_type": "stream",
     "text": [
      "\r",
      " 27%|██████████▉                             | 132/485 [00:03<00:07, 46.83it/s]"
     ]
    },
    {
     "name": "stdout",
     "output_type": "stream",
     "text": [
      "hbtin/P342215 is not available or not complete\n",
      "hbtin/P342210 is not available or not complete\n",
      "hbtin/P312907 is not available or not complete\n",
      "hbtin/P342490 is not available or not complete\n",
      "hbtin/P296747 is not available or not complete\n",
      "hbtin/P342471 is not available or not complete\n"
     ]
    },
    {
     "name": "stderr",
     "output_type": "stream",
     "text": [
      "\r",
      " 29%|███████████▌                            | 140/485 [00:03<00:06, 52.74it/s]"
     ]
    },
    {
     "name": "stdout",
     "output_type": "stream",
     "text": [
      "hbtin/P342451 is not available or not complete\n",
      "hbtin/P296753 is not available or not complete\n",
      "hbtin/P303997 is not available or not complete\n"
     ]
    },
    {
     "name": "stderr",
     "output_type": "stream",
     "text": [
      "\r",
      " 30%|████████████                            | 146/485 [00:03<00:06, 52.99it/s]"
     ]
    },
    {
     "name": "stdout",
     "output_type": "stream",
     "text": [
      "hbtin/P303973 is not available or not complete\n",
      "hbtin/P303995 is not available or not complete\n",
      "hbtin/P304011 is not available or not complete\n",
      "hbtin/P342233 is not available or not complete\n"
     ]
    },
    {
     "name": "stderr",
     "output_type": "stream",
     "text": [
      "\r",
      " 31%|████████████▌                           | 152/485 [00:03<00:06, 52.33it/s]"
     ]
    },
    {
     "name": "stdout",
     "output_type": "stream",
     "text": [
      "hbtin/P342498 is not available or not complete\n",
      "hbtin/P296695 is not available or not complete\n"
     ]
    },
    {
     "name": "stderr",
     "output_type": "stream",
     "text": [
      "\r",
      " 33%|█████████████▏                          | 160/485 [00:03<00:05, 58.39it/s]"
     ]
    },
    {
     "name": "stdout",
     "output_type": "stream",
     "text": [
      "hbtin/P296707 is not available or not complete\n",
      "hbtin/P297040 is not available or not complete\n",
      "hbtin/P342281 is not available or not complete\n",
      "hbtin/P305851 is not available or not complete\n",
      "hbtin/P342212 is not available or not complete\n"
     ]
    },
    {
     "name": "stderr",
     "output_type": "stream",
     "text": [
      "\r",
      " 34%|█████████████▊                          | 167/485 [00:03<00:05, 57.94it/s]"
     ]
    },
    {
     "name": "stdout",
     "output_type": "stream",
     "text": [
      "hbtin/P304004 is not available or not complete\n",
      "hbtin/P303990 is not available or not complete\n",
      "hbtin/P296738 is not available or not complete\n"
     ]
    },
    {
     "name": "stderr",
     "output_type": "stream",
     "text": [
      "\r",
      " 36%|██████████████▎                         | 174/485 [00:03<00:05, 57.77it/s]"
     ]
    },
    {
     "name": "stdout",
     "output_type": "stream",
     "text": [
      "hbtin/P342475 is not available or not complete\n",
      "hbtin/P342468 is not available or not complete\n"
     ]
    },
    {
     "name": "stderr",
     "output_type": "stream",
     "text": [
      "\r",
      " 38%|███████████████                         | 182/485 [00:03<00:04, 62.58it/s]"
     ]
    },
    {
     "name": "stdout",
     "output_type": "stream",
     "text": [
      "hbtin/P296756 is not available or not complete\n",
      "hbtin/P342420 is not available or not complete\n",
      "hbtin/P311794 is not available or not complete\n"
     ]
    },
    {
     "name": "stderr",
     "output_type": "stream",
     "text": [
      "\r",
      " 39%|███████████████▌                        | 189/485 [00:04<00:04, 62.06it/s]"
     ]
    },
    {
     "name": "stdout",
     "output_type": "stream",
     "text": [
      "hbtin/P342264 is not available or not complete\n",
      "hbtin/P342223 is not available or not complete\n",
      "hbtin/P342208 is not available or not complete\n",
      "hbtin/P342493 is not available or not complete\n"
     ]
    },
    {
     "name": "stderr",
     "output_type": "stream",
     "text": [
      "\r",
      " 40%|████████████████▏                       | 196/485 [00:04<00:04, 59.64it/s]"
     ]
    },
    {
     "name": "stdout",
     "output_type": "stream",
     "text": [
      "hbtin/P296692 is not available or not complete\n",
      "hbtin/P342473 is not available or not complete\n",
      "hbtin/P342280 is not available or not complete\n",
      "hbtin/P342497 is not available or not complete\n",
      "hbtin/P296774 is not available or not complete\n"
     ]
    },
    {
     "name": "stderr",
     "output_type": "stream",
     "text": [
      "\r",
      " 42%|████████████████▋                       | 203/485 [00:04<00:05, 55.71it/s]"
     ]
    },
    {
     "name": "stdout",
     "output_type": "stream",
     "text": [
      "hbtin/P303979 is not available or not complete\n",
      "hbtin/P296691 is not available or not complete\n"
     ]
    },
    {
     "name": "stderr",
     "output_type": "stream",
     "text": [
      "\r",
      " 43%|█████████████████▏                      | 209/485 [00:04<00:05, 55.05it/s]"
     ]
    },
    {
     "name": "stdout",
     "output_type": "stream",
     "text": [
      "hbtin/P342476 is not available or not complete\n",
      "hbtin/P296698 is not available or not complete\n",
      "hbtin/P296678 is not available or not complete\n",
      "hbtin/P296744 is not available or not complete\n",
      "hbtin/P303982 is not available or not complete\n",
      "hbtin/P342207 is not available or not complete\n"
     ]
    },
    {
     "name": "stderr",
     "output_type": "stream",
     "text": [
      "\r",
      " 44%|█████████████████▋                      | 215/485 [00:04<00:05, 53.29it/s]"
     ]
    },
    {
     "name": "stdout",
     "output_type": "stream",
     "text": [
      "hbtin/P296704 is not available or not complete\n",
      "hbtin/P296687 is not available or not complete\n"
     ]
    },
    {
     "name": "stderr",
     "output_type": "stream",
     "text": [
      "\r",
      " 46%|██████████████████▏                     | 221/485 [00:04<00:04, 54.99it/s]"
     ]
    },
    {
     "name": "stdout",
     "output_type": "stream",
     "text": [
      "hbtin/P342247 is not available or not complete\n",
      "hbtin/P342248 is not available or not complete\n",
      "hbtin/P296684 is not available or not complete\n",
      "hbtin/P342229 is not available or not complete\n"
     ]
    },
    {
     "name": "stderr",
     "output_type": "stream",
     "text": [
      "\r",
      " 47%|██████████████████▊                     | 228/485 [00:04<00:04, 58.62it/s]"
     ]
    },
    {
     "name": "stdout",
     "output_type": "stream",
     "text": [
      "hbtin/P342265 is not available or not complete\n",
      "hbtin/P296686 is not available or not complete\n",
      "hbtin/P342449 is not available or not complete\n"
     ]
    },
    {
     "name": "stderr",
     "output_type": "stream",
     "text": [
      "\r",
      " 48%|███████████████████▍                    | 235/485 [00:04<00:04, 58.83it/s]"
     ]
    },
    {
     "name": "stdout",
     "output_type": "stream",
     "text": [
      "hbtin/P303984 is not available or not complete\n",
      "hbtin/P342472 is not available or not complete\n",
      "hbtin/P296708 is not available or not complete\n",
      "hbtin/P296702 is not available or not complete\n"
     ]
    },
    {
     "name": "stderr",
     "output_type": "stream",
     "text": [
      "\r",
      " 50%|███████████████████▉                    | 241/485 [00:04<00:04, 57.15it/s]"
     ]
    },
    {
     "name": "stdout",
     "output_type": "stream",
     "text": [
      "hbtin/P304001 is not available or not complete\n",
      "hbtin/P342447 is not available or not complete\n",
      "hbtin/P296773 is not available or not complete\n"
     ]
    },
    {
     "name": "stderr",
     "output_type": "stream",
     "text": [
      "\r",
      " 51%|████████████████████▍                   | 248/485 [00:05<00:03, 59.40it/s]"
     ]
    },
    {
     "name": "stdout",
     "output_type": "stream",
     "text": [
      "hbtin/P342466 is not available or not complete\n",
      "hbtin/P303994 is not available or not complete\n",
      "hbtin/P296696 is not available or not complete\n",
      "hbtin/P296677 is not available or not complete\n"
     ]
    },
    {
     "name": "stderr",
     "output_type": "stream",
     "text": [
      "\r",
      " 53%|█████████████████████                   | 255/485 [00:05<00:03, 61.90it/s]"
     ]
    },
    {
     "name": "stdout",
     "output_type": "stream",
     "text": [
      "hbtin/P304337 is not available or not complete\n",
      "hbtin/P296694 is not available or not complete\n",
      "hbtin/P296711 is not available or not complete\n",
      "hbtin/P296724 is not available or not complete\n"
     ]
    },
    {
     "name": "stderr",
     "output_type": "stream",
     "text": [
      "\r",
      " 54%|█████████████████████▌                  | 262/485 [00:07<00:24,  8.98it/s]"
     ]
    },
    {
     "name": "stdout",
     "output_type": "stream",
     "text": [
      "hbtin/P342231 is not available or not complete\n",
      "hbtin/P296728 is not available or not complete\n",
      "hbtin/P296760 is not available or not complete\n"
     ]
    },
    {
     "name": "stderr",
     "output_type": "stream",
     "text": [
      "\r",
      " 55%|██████████████████████                  | 267/485 [00:07<00:18, 11.53it/s]"
     ]
    },
    {
     "name": "stdout",
     "output_type": "stream",
     "text": [
      "hbtin/P303978 is not available or not complete\n"
     ]
    },
    {
     "name": "stderr",
     "output_type": "stream",
     "text": [
      "\r",
      " 56%|██████████████████████▌                 | 273/485 [00:07<00:14, 15.05it/s]"
     ]
    },
    {
     "name": "stdout",
     "output_type": "stream",
     "text": [
      "hbtin/P342469 is not available or not complete\n",
      "hbtin/P342227 is not available or not complete\n",
      "hbtin/P342239 is not available or not complete\n"
     ]
    },
    {
     "name": "stderr",
     "output_type": "stream",
     "text": [
      "\r",
      " 57%|██████████████████████▉                 | 278/485 [00:07<00:11, 18.33it/s]"
     ]
    },
    {
     "name": "stdout",
     "output_type": "stream",
     "text": [
      "hbtin/P342419 is not available or not complete\n",
      "hbtin/P296690 is not available or not complete\n",
      "hbtin/P303999 is not available or not complete\n"
     ]
    },
    {
     "name": "stderr",
     "output_type": "stream",
     "text": [
      "\r",
      " 58%|███████████████████████▎                | 283/485 [00:08<00:09, 21.78it/s]"
     ]
    },
    {
     "name": "stdout",
     "output_type": "stream",
     "text": [
      "hbtin/P342261 is not available or not complete\n",
      "hbtin/P296681 is not available or not complete\n",
      "hbtin/P342470 is not available or not complete\n",
      "hbtin/P296714 is not available or not complete\n"
     ]
    },
    {
     "name": "stderr",
     "output_type": "stream",
     "text": [
      "\r",
      " 59%|███████████████████████▊                | 288/485 [00:08<00:07, 24.89it/s]"
     ]
    },
    {
     "name": "stdout",
     "output_type": "stream",
     "text": [
      "hbtin/P342230 is not available or not complete\n",
      "hbtin/P296679 is not available or not complete\n"
     ]
    },
    {
     "name": "stderr",
     "output_type": "stream",
     "text": [
      "\r",
      " 61%|████████████████████████▏               | 294/485 [00:08<00:06, 30.05it/s]"
     ]
    },
    {
     "name": "stdout",
     "output_type": "stream",
     "text": [
      "hbtin/P304013 is not available or not complete\n"
     ]
    },
    {
     "name": "stderr",
     "output_type": "stream",
     "text": [
      "\r",
      " 62%|████████████████████████▋               | 300/485 [00:08<00:05, 33.90it/s]"
     ]
    },
    {
     "name": "stdout",
     "output_type": "stream",
     "text": [
      "hbtin/P342455 is not available or not complete\n",
      "hbtin/P296749 is not available or not complete\n",
      "hbtin/P296693 is not available or not complete\n"
     ]
    },
    {
     "name": "stderr",
     "output_type": "stream",
     "text": [
      "\r",
      " 63%|█████████████████████████▏              | 305/485 [00:08<00:04, 37.11it/s]"
     ]
    },
    {
     "name": "stdout",
     "output_type": "stream",
     "text": [
      "hbtin/P296735 is not available or not complete\n",
      "hbtin/P304338 is not available or not complete\n",
      "hbtin/P342240 is not available or not complete\n"
     ]
    },
    {
     "name": "stderr",
     "output_type": "stream",
     "text": [
      "\r",
      " 64%|█████████████████████████▌              | 310/485 [00:08<00:04, 36.12it/s]"
     ]
    },
    {
     "name": "stdout",
     "output_type": "stream",
     "text": [
      "hbtin/P296712 is not available or not complete\n",
      "hbtin/P296710 is not available or not complete\n",
      "hbtin/P303992 is not available or not complete\n",
      "hbtin/P296763 is not available or not complete\n"
     ]
    },
    {
     "name": "stderr",
     "output_type": "stream",
     "text": [
      "\r",
      " 65%|█████████████████████████▉              | 315/485 [00:08<00:04, 34.80it/s]"
     ]
    },
    {
     "name": "stdout",
     "output_type": "stream",
     "text": [
      "hbtin/P342269 is not available or not complete\n",
      "hbtin/P342448 is not available or not complete\n",
      "hbtin/P296700 is not available or not complete\n",
      "hbtin/P296727 is not available or not complete\n"
     ]
    },
    {
     "name": "stderr",
     "output_type": "stream",
     "text": [
      "\r",
      " 66%|██████████████████████████▎             | 319/485 [00:08<00:05, 33.15it/s]"
     ]
    },
    {
     "name": "stdout",
     "output_type": "stream",
     "text": [
      "hbtin/P303980 is not available or not complete\n",
      "hbtin/P296745 is not available or not complete\n"
     ]
    },
    {
     "name": "stderr",
     "output_type": "stream",
     "text": [
      "\r",
      " 67%|██████████████████████████▉             | 326/485 [00:09<00:04, 39.10it/s]"
     ]
    },
    {
     "name": "stdout",
     "output_type": "stream",
     "text": [
      "hbtin/P296748 is not available or not complete\n",
      "hbtin/P296761 is not available or not complete\n",
      "hbtin/P296723 is not available or not complete\n"
     ]
    },
    {
     "name": "stderr",
     "output_type": "stream",
     "text": [
      "\r",
      " 68%|███████████████████████████▎            | 331/485 [00:09<00:04, 37.68it/s]"
     ]
    },
    {
     "name": "stdout",
     "output_type": "stream",
     "text": [
      "hbtin/P303988 is not available or not complete\n",
      "hbtin/P342418 is not available or not complete\n"
     ]
    },
    {
     "name": "stderr",
     "output_type": "stream",
     "text": [
      "\r",
      " 71%|████████████████████████████▏           | 342/485 [00:09<00:03, 45.76it/s]"
     ]
    },
    {
     "name": "stdout",
     "output_type": "stream",
     "text": [
      "hbtin/P296734 is not available or not complete\n",
      "hbtin/P296720 is not available or not complete\n",
      "hbtin/P342496 is not available or not complete\n",
      "hbtin/P342467 is not available or not complete\n"
     ]
    },
    {
     "name": "stderr",
     "output_type": "stream",
     "text": [
      "\r",
      " 72%|████████████████████████████▋           | 348/485 [00:09<00:03, 44.45it/s]"
     ]
    },
    {
     "name": "stdout",
     "output_type": "stream",
     "text": [
      "hbtin/P342242 is not available or not complete\n",
      "hbtin/P296767 is not available or not complete\n",
      "hbtin/P342499 is not available or not complete\n",
      "hbtin/P304002 is not available or not complete\n"
     ]
    },
    {
     "name": "stderr",
     "output_type": "stream",
     "text": [
      "\r",
      " 73%|█████████████████████████████▏          | 354/485 [00:09<00:02, 43.67it/s]"
     ]
    },
    {
     "name": "stdout",
     "output_type": "stream",
     "text": [
      "hbtin/P296755 is not available or not complete\n",
      "hbtin/P342237 is not available or not complete\n"
     ]
    },
    {
     "name": "stderr",
     "output_type": "stream",
     "text": [
      "\r",
      " 74%|█████████████████████████████▋          | 360/485 [00:09<00:02, 46.78it/s]"
     ]
    },
    {
     "name": "stdout",
     "output_type": "stream",
     "text": [
      "hbtin/P342492 is not available or not complete\n",
      "hbtin/P342491 is not available or not complete\n",
      "hbtin/P296683 is not available or not complete\n",
      "hbtin/P342228 is not available or not complete\n"
     ]
    },
    {
     "name": "stderr",
     "output_type": "stream",
     "text": [
      "\r",
      " 75%|██████████████████████████████▏         | 366/485 [00:09<00:02, 39.90it/s]"
     ]
    },
    {
     "name": "stdout",
     "output_type": "stream",
     "text": [
      "hbtin/P296764 is not available or not complete\n"
     ]
    },
    {
     "name": "stderr",
     "output_type": "stream",
     "text": [
      "\r",
      " 76%|██████████████████████████████▌         | 371/485 [00:10<00:02, 40.31it/s]"
     ]
    },
    {
     "name": "stdout",
     "output_type": "stream",
     "text": [
      "hbtin/P296701 is not available or not complete\n",
      "hbtin/P342214 is not available or not complete\n",
      "hbtin/P296715 is not available or not complete\n",
      "hbtin/P303991 is not available or not complete\n"
     ]
    },
    {
     "name": "stderr",
     "output_type": "stream",
     "text": [
      "\r",
      " 78%|███████████████████████████████         | 376/485 [00:10<00:02, 38.63it/s]"
     ]
    },
    {
     "name": "stdout",
     "output_type": "stream",
     "text": [
      "hbtin/P342495 is not available or not complete\n"
     ]
    },
    {
     "name": "stderr",
     "output_type": "stream",
     "text": [
      "\r",
      " 79%|███████████████████████████████▍        | 381/485 [00:10<00:02, 38.58it/s]"
     ]
    },
    {
     "name": "stdout",
     "output_type": "stream",
     "text": [
      "hbtin/P296709 is not available or not complete\n",
      "hbtin/P342217 is not available or not complete\n",
      "hbtin/P296725 is not available or not complete\n"
     ]
    },
    {
     "name": "stderr",
     "output_type": "stream",
     "text": [
      "\r",
      " 80%|███████████████████████████████▉        | 387/485 [00:10<00:02, 42.48it/s]"
     ]
    },
    {
     "name": "stdout",
     "output_type": "stream",
     "text": [
      "hbtin/P342487 is not available or not complete\n",
      "hbtin/P342421 is not available or not complete\n",
      "hbtin/P342481 is not available or not complete\n"
     ]
    },
    {
     "name": "stderr",
     "output_type": "stream",
     "text": [
      "\r",
      " 81%|████████████████████████████████▎       | 392/485 [00:10<00:02, 42.66it/s]"
     ]
    },
    {
     "name": "stdout",
     "output_type": "stream",
     "text": [
      "hbtin/P303977 is not available or not complete\n",
      "hbtin/P296718 is not available or not complete\n",
      "hbtin/P342241 is not available or not complete\n"
     ]
    },
    {
     "name": "stderr",
     "output_type": "stream",
     "text": [
      "\r",
      " 82%|████████████████████████████████▋       | 397/485 [00:10<00:02, 43.58it/s]"
     ]
    },
    {
     "name": "stdout",
     "output_type": "stream",
     "text": [
      "hbtin/P342218 is not available or not complete\n",
      "hbtin/P342245 is not available or not complete\n",
      "hbtin/P342480 is not available or not complete\n"
     ]
    },
    {
     "name": "stderr",
     "output_type": "stream",
     "text": [
      "\r",
      " 83%|█████████████████████████████████▏      | 402/485 [00:10<00:01, 42.12it/s]"
     ]
    },
    {
     "name": "stdout",
     "output_type": "stream",
     "text": [
      "hbtin/P342234 is not available or not complete\n",
      "hbtin/P296733 is not available or not complete\n",
      "hbtin/P342483 is not available or not complete\n"
     ]
    },
    {
     "name": "stderr",
     "output_type": "stream",
     "text": [
      "\r",
      " 84%|█████████████████████████████████▌      | 407/485 [00:10<00:01, 42.19it/s]"
     ]
    },
    {
     "name": "stdout",
     "output_type": "stream",
     "text": [
      "hbtin/P342484 is not available or not complete\n",
      "hbtin/P304007 is not available or not complete\n",
      "hbtin/P303985 is not available or not complete\n",
      "hbtin/P342232 is not available or not complete\n",
      "hbtin/P296706 is not available or not complete\n"
     ]
    },
    {
     "name": "stderr",
     "output_type": "stream",
     "text": [
      "\r",
      " 85%|█████████████████████████████████▉      | 412/485 [00:11<00:01, 36.91it/s]"
     ]
    },
    {
     "name": "stdout",
     "output_type": "stream",
     "text": [
      "hbtin/P304005 is not available or not complete\n",
      "hbtin/P342251 is not available or not complete\n"
     ]
    },
    {
     "name": "stderr",
     "output_type": "stream",
     "text": [
      "\r",
      " 86%|██████████████████████████████████▍     | 417/485 [00:11<00:01, 39.96it/s]"
     ]
    },
    {
     "name": "stdout",
     "output_type": "stream",
     "text": [
      "hbtin/P342266 is not available or not complete\n",
      "hbtin/P342211 is not available or not complete\n",
      "hbtin/P296682 is not available or not complete\n",
      "hbtin/P296740 is not available or not complete\n"
     ]
    },
    {
     "name": "stderr",
     "output_type": "stream",
     "text": [
      "\r",
      " 87%|██████████████████████████████████▊     | 422/485 [00:11<00:01, 38.68it/s]"
     ]
    },
    {
     "name": "stdout",
     "output_type": "stream",
     "text": [
      "hbtin/P342425 is not available or not complete\n",
      "hbtin/P303996 is not available or not complete\n",
      "hbtin/P303974 is not available or not complete\n",
      "hbtin/P342423 is not available or not complete\n"
     ]
    },
    {
     "name": "stderr",
     "output_type": "stream",
     "text": [
      "\r",
      " 88%|███████████████████████████████████▏    | 427/485 [00:11<00:01, 39.16it/s]"
     ]
    },
    {
     "name": "stdout",
     "output_type": "stream",
     "text": [
      "hbtin/P342235 is not available or not complete\n",
      "hbtin/P342500 is not available or not complete\n",
      "hbtin/P309742 is not available or not complete\n"
     ]
    },
    {
     "name": "stderr",
     "output_type": "stream",
     "text": [
      "\r",
      " 89%|███████████████████████████████████▋    | 432/485 [00:11<00:01, 40.07it/s]"
     ]
    },
    {
     "name": "stdout",
     "output_type": "stream",
     "text": [
      "hbtin/P342220 is not available or not complete\n",
      "hbtin/P297902 is not available or not complete\n",
      "hbtin/P342267 is not available or not complete\n",
      "hbtin/P296689 is not available or not complete\n"
     ]
    },
    {
     "name": "stderr",
     "output_type": "stream",
     "text": [
      "\r",
      " 91%|████████████████████████████████████▏   | 439/485 [00:11<00:01, 45.52it/s]"
     ]
    },
    {
     "name": "stdout",
     "output_type": "stream",
     "text": [
      "hbtin/P296719 is not available or not complete\n",
      "hbtin/P296705 is not available or not complete\n"
     ]
    },
    {
     "name": "stderr",
     "output_type": "stream",
     "text": [
      "\r",
      " 92%|████████████████████████████████████▌   | 444/485 [00:11<00:00, 45.25it/s]"
     ]
    },
    {
     "name": "stdout",
     "output_type": "stream",
     "text": [
      "hbtin/P342263 is not available or not complete\n",
      "hbtin/P342226 is not available or not complete\n",
      "hbtin/P342225 is not available or not complete\n"
     ]
    },
    {
     "name": "stderr",
     "output_type": "stream",
     "text": [
      "\r",
      " 93%|█████████████████████████████████████   | 450/485 [00:11<00:00, 47.46it/s]"
     ]
    },
    {
     "name": "stdout",
     "output_type": "stream",
     "text": [
      "hbtin/P296772 is not available or not complete\n",
      "hbtin/P342494 is not available or not complete\n",
      "hbtin/P342464 is not available or not complete\n",
      "hbtin/P303976 is not available or not complete\n"
     ]
    },
    {
     "name": "stderr",
     "output_type": "stream",
     "text": [
      "\r",
      " 94%|█████████████████████████████████████▋  | 457/485 [00:11<00:00, 51.49it/s]"
     ]
    },
    {
     "name": "stdout",
     "output_type": "stream",
     "text": [
      "hbtin/P342252 is not available or not complete\n",
      "hbtin/P296771 is not available or not complete\n"
     ]
    },
    {
     "name": "stderr",
     "output_type": "stream",
     "text": [
      "\r",
      " 95%|██████████████████████████████████████▏ | 463/485 [00:12<00:00, 51.96it/s]"
     ]
    },
    {
     "name": "stdout",
     "output_type": "stream",
     "text": [
      "hbtin/P342474 is not available or not complete\n",
      "hbtin/P303998 is not available or not complete\n",
      "hbtin/P342268 is not available or not complete\n"
     ]
    },
    {
     "name": "stderr",
     "output_type": "stream",
     "text": [
      "\r",
      " 97%|██████████████████████████████████████▋ | 469/485 [00:12<00:00, 53.42it/s]"
     ]
    },
    {
     "name": "stdout",
     "output_type": "stream",
     "text": [
      "hbtin/P342250 is not available or not complete\n",
      "hbtin/P342219 is not available or not complete\n",
      "hbtin/P342488 is not available or not complete\n"
     ]
    },
    {
     "name": "stderr",
     "output_type": "stream",
     "text": [
      "\r",
      " 98%|███████████████████████████████████████▏| 475/485 [00:12<00:00, 53.04it/s]"
     ]
    },
    {
     "name": "stdout",
     "output_type": "stream",
     "text": [
      "hbtin/P296717 is not available or not complete\n",
      "hbtin/P342463 is not available or not complete\n",
      "hbtin/P311834 is not available or not complete\n",
      "hbtin/P296770 is not available or not complete\n"
     ]
    },
    {
     "name": "stderr",
     "output_type": "stream",
     "text": [
      "\r",
      " 99%|███████████████████████████████████████▋| 481/485 [00:12<00:00, 54.65it/s]"
     ]
    },
    {
     "name": "stdout",
     "output_type": "stream",
     "text": [
      "hbtin/P296751 is not available or not complete\n"
     ]
    },
    {
     "name": "stderr",
     "output_type": "stream",
     "text": [
      "100%|████████████████████████████████████████| 485/485 [00:12<00:00, 38.99it/s]\n"
     ]
    },
    {
     "name": "stdout",
     "output_type": "stream",
     "text": [
      "Parsing riao\n"
     ]
    },
    {
     "name": "stderr",
     "output_type": "stream",
     "text": [
      "100%|███████████████████████████████████████| 883/883 [00:03<00:00, 222.75it/s]\n"
     ]
    },
    {
     "name": "stdout",
     "output_type": "stream",
     "text": [
      "Parsing ribo/babylon2\n"
     ]
    },
    {
     "name": "stderr",
     "output_type": "stream",
     "text": [
      "\r",
      "  0%|                                                   | 0/38 [00:00<?, ?it/s]"
     ]
    },
    {
     "name": "stdout",
     "output_type": "stream",
     "text": [
      "ribo/babylon2/Q006275 is not available or not complete\n"
     ]
    },
    {
     "name": "stderr",
     "output_type": "stream",
     "text": [
      "100%|█████████████████████████████████████████| 38/38 [00:00<00:00, 258.50it/s]\n"
     ]
    },
    {
     "name": "stdout",
     "output_type": "stream",
     "text": [
      "Parsing ribo/babylon3\n"
     ]
    },
    {
     "name": "stderr",
     "output_type": "stream",
     "text": [
      "100%|███████████████████████████████████████████| 4/4 [00:00<00:00, 285.71it/s]\n"
     ]
    },
    {
     "name": "stdout",
     "output_type": "stream",
     "text": [
      "Parsing ribo/babylon4\n"
     ]
    },
    {
     "name": "stderr",
     "output_type": "stream",
     "text": [
      "100%|███████████████████████████████████████████| 6/6 [00:00<00:00, 999.99it/s]\n"
     ]
    },
    {
     "name": "stdout",
     "output_type": "stream",
     "text": [
      "Parsing ribo/babylon5\n"
     ]
    },
    {
     "name": "stderr",
     "output_type": "stream",
     "text": [
      "100%|████████████████████████████████████████████████████| 1/1 [00:00<?, ?it/s]\n"
     ]
    },
    {
     "name": "stdout",
     "output_type": "stream",
     "text": [
      "Parsing ribo/babylon6\n"
     ]
    },
    {
     "name": "stderr",
     "output_type": "stream",
     "text": [
      "100%|███████████████████████████████████████| 126/126 [00:00<00:00, 180.26it/s]\n"
     ]
    },
    {
     "name": "stdout",
     "output_type": "stream",
     "text": [
      "Parsing ribo/babylon7\n"
     ]
    },
    {
     "name": "stderr",
     "output_type": "stream",
     "text": [
      "100%|█████████████████████████████████████████| 30/30 [00:00<00:00, 222.22it/s]\n"
     ]
    },
    {
     "name": "stdout",
     "output_type": "stream",
     "text": [
      "Parsing ribo/babylon8\n"
     ]
    },
    {
     "name": "stderr",
     "output_type": "stream",
     "text": [
      "100%|████████████████████████████████████████████| 3/3 [00:00<00:00, 96.77it/s]\n"
     ]
    },
    {
     "name": "stdout",
     "output_type": "stream",
     "text": [
      "Parsing ribo/babylon10\n"
     ]
    },
    {
     "name": "stderr",
     "output_type": "stream",
     "text": [
      "100%|███████████████████████████████████████████| 1/1 [00:00<00:00, 111.11it/s]\n"
     ]
    },
    {
     "name": "stdout",
     "output_type": "stream",
     "text": [
      "Parsing rimanum\n"
     ]
    },
    {
     "name": "stderr",
     "output_type": "stream",
     "text": [
      "100%|███████████████████████████████████████| 378/378 [00:00<00:00, 588.78it/s]\n"
     ]
    },
    {
     "name": "stdout",
     "output_type": "stream",
     "text": [
      "Parsing rinap/rinap1\n"
     ]
    },
    {
     "name": "stderr",
     "output_type": "stream",
     "text": [
      "100%|█████████████████████████████████████████| 92/92 [00:00<00:00, 223.30it/s]\n"
     ]
    },
    {
     "name": "stdout",
     "output_type": "stream",
     "text": [
      "Parsing rinap/rinap3\n"
     ]
    },
    {
     "name": "stderr",
     "output_type": "stream",
     "text": [
      "100%|████████████████████████████████████████| 261/261 [00:05<00:00, 48.11it/s]\n"
     ]
    },
    {
     "name": "stdout",
     "output_type": "stream",
     "text": [
      "Parsing rinap/rinap4\n"
     ]
    },
    {
     "name": "stderr",
     "output_type": "stream",
     "text": [
      "100%|███████████████████████████████████████| 183/183 [00:01<00:00, 126.21it/s]\n"
     ]
    },
    {
     "name": "stdout",
     "output_type": "stream",
     "text": [
      "Parsing rinap/rinap5\n"
     ]
    },
    {
     "name": "stderr",
     "output_type": "stream",
     "text": [
      "100%|████████████████████████████████████████| 140/140 [00:02<00:00, 59.35it/s]\n"
     ]
    },
    {
     "name": "stdout",
     "output_type": "stream",
     "text": [
      "Parsing suhu\n"
     ]
    },
    {
     "name": "stderr",
     "output_type": "stream",
     "text": [
      "100%|██████████████████████████████████████████| 33/33 [00:00<00:00, 99.40it/s]\n"
     ]
    }
   ],
   "source": [
    "lemm_l = []\n",
    "meta_d = {\"label\": None, \"id_text\": None}\n",
    "dollar_keys = [\"extent\", \"scope\", \"state\"]\n",
    "for project in p:\n",
    "    print(\"Parsing \" + project)\n",
    "    file = \"jsonzip/\" + project.replace(\"/\", \"-\") + \".zip\"\n",
    "    try:\n",
    "        z = zipfile.ZipFile(file)       # create a Zipfile object\n",
    "    except:\n",
    "        print(file + \" does not exist or is not a proper ZIP file\")\n",
    "        continue\n",
    "    files = z.namelist()     # list of all the files in the ZIP\n",
    "    files = [name for name in files if \"corpusjson\" in name and name[-5:] == '.json']                                                                                                  #that holds all the P, Q, and X numbers.\n",
    "    for filename in tqdm.tqdm(files):                            #iterate over the file names\n",
    "        id_text = project + filename[-13:-5] # id_text is, for instance, blms/P414332\n",
    "        meta_d[\"id_text\"] = id_text\n",
    "        try:\n",
    "            st = z.read(filename).decode('utf-8')         #read and decode the json file of one particular text\n",
    "            data_json = json.loads(st)                # make it into a json object (essentially a dictionary)\n",
    "            parsejson(data_json)               # and send to the parsejson() function\n",
    "        except:\n",
    "            print(id_text + ' is not available or not complete')\n",
    "    z.close()"
   ]
  },
  {
   "cell_type": "markdown",
   "metadata": {},
   "source": [
    "## 3 Data Structuring\n",
    "### 3.1 Transform the Data into a DataFrame\n",
    "The list `lemm_l` is transformed into a `pandas` dataframe for further manipulation.\n",
    "\n",
    "For various reasons not all JSON files will have all data types that potentially exist in an [ORACC](http://oracc.org) signature. Only Sumerian words have a `base`, so if your data set has no Sumerian, this column will not exist in the DataFrame.  If a text has no breakage information in the form of `1 line broken` (etc.) the fields `extent`, `scope`, and `state` do not exist. Where such fields are referenced below, the code may fail and you may need to adjust some lines."
   ]
  },
  {
   "cell_type": "code",
   "execution_count": 7,
   "metadata": {},
   "outputs": [
    {
     "data": {
      "text/html": [
       "<div>\n",
       "<style scoped>\n",
       "    .dataframe tbody tr th:only-of-type {\n",
       "        vertical-align: middle;\n",
       "    }\n",
       "\n",
       "    .dataframe tbody tr th {\n",
       "        vertical-align: top;\n",
       "    }\n",
       "\n",
       "    .dataframe thead th {\n",
       "        text-align: right;\n",
       "    }\n",
       "</style>\n",
       "<table border=\"1\" class=\"dataframe\">\n",
       "  <thead>\n",
       "    <tr style=\"text-align: right;\">\n",
       "      <th></th>\n",
       "      <th>base</th>\n",
       "      <th>cf</th>\n",
       "      <th>cont</th>\n",
       "      <th>contrefs</th>\n",
       "      <th>delim</th>\n",
       "      <th>epos</th>\n",
       "      <th>extent</th>\n",
       "      <th>field</th>\n",
       "      <th>form</th>\n",
       "      <th>gdl</th>\n",
       "      <th>...</th>\n",
       "      <th>lang</th>\n",
       "      <th>morph</th>\n",
       "      <th>norm</th>\n",
       "      <th>norm0</th>\n",
       "      <th>pos</th>\n",
       "      <th>scope</th>\n",
       "      <th>sense</th>\n",
       "      <th>state</th>\n",
       "      <th>stem</th>\n",
       "      <th>syntax_ub-after</th>\n",
       "    </tr>\n",
       "  </thead>\n",
       "  <tbody>\n",
       "    <tr>\n",
       "      <th>0</th>\n",
       "      <td></td>\n",
       "      <td>awātu</td>\n",
       "      <td></td>\n",
       "      <td></td>\n",
       "      <td></td>\n",
       "      <td>N</td>\n",
       "      <td></td>\n",
       "      <td></td>\n",
       "      <td>a-bat</td>\n",
       "      <td>[{'v': 'a', 'gdl_utf8': '𒀀', 'id': 'P334190.2....</td>\n",
       "      <td>...</td>\n",
       "      <td>akk-x-neoass</td>\n",
       "      <td></td>\n",
       "      <td>abat</td>\n",
       "      <td></td>\n",
       "      <td>N</td>\n",
       "      <td></td>\n",
       "      <td>word</td>\n",
       "      <td></td>\n",
       "      <td></td>\n",
       "      <td></td>\n",
       "    </tr>\n",
       "    <tr>\n",
       "      <th>1</th>\n",
       "      <td></td>\n",
       "      <td>šarru</td>\n",
       "      <td></td>\n",
       "      <td></td>\n",
       "      <td></td>\n",
       "      <td>N</td>\n",
       "      <td></td>\n",
       "      <td></td>\n",
       "      <td>LUGAL</td>\n",
       "      <td>[{'gg': 'logo', 'gdl_type': 'logo', 'group': [...</td>\n",
       "      <td>...</td>\n",
       "      <td>akk-x-neoass</td>\n",
       "      <td></td>\n",
       "      <td>šarri</td>\n",
       "      <td></td>\n",
       "      <td>N</td>\n",
       "      <td></td>\n",
       "      <td>king</td>\n",
       "      <td></td>\n",
       "      <td></td>\n",
       "      <td></td>\n",
       "    </tr>\n",
       "    <tr>\n",
       "      <th>2</th>\n",
       "      <td></td>\n",
       "      <td>ana</td>\n",
       "      <td></td>\n",
       "      <td></td>\n",
       "      <td></td>\n",
       "      <td>PRP</td>\n",
       "      <td></td>\n",
       "      <td></td>\n",
       "      <td>a-na</td>\n",
       "      <td>[{'v': 'a', 'gdl_utf8': '𒀀', 'id': 'P334190.2....</td>\n",
       "      <td>...</td>\n",
       "      <td>akk-x-neoass</td>\n",
       "      <td></td>\n",
       "      <td>ana</td>\n",
       "      <td></td>\n",
       "      <td>PRP</td>\n",
       "      <td></td>\n",
       "      <td>to</td>\n",
       "      <td></td>\n",
       "      <td></td>\n",
       "      <td></td>\n",
       "    </tr>\n",
       "    <tr>\n",
       "      <th>3</th>\n",
       "      <td></td>\n",
       "      <td>Ašipa</td>\n",
       "      <td></td>\n",
       "      <td></td>\n",
       "      <td></td>\n",
       "      <td>PN</td>\n",
       "      <td></td>\n",
       "      <td></td>\n",
       "      <td>{1}a-ši-pa-a</td>\n",
       "      <td>[{'det': 'semantic', 'pos': 'pre', 'seq': [{'n...</td>\n",
       "      <td>...</td>\n",
       "      <td>akk-x-neoass</td>\n",
       "      <td></td>\n",
       "      <td>Ašipa</td>\n",
       "      <td></td>\n",
       "      <td>PN</td>\n",
       "      <td></td>\n",
       "      <td>1</td>\n",
       "      <td></td>\n",
       "      <td></td>\n",
       "      <td></td>\n",
       "    </tr>\n",
       "    <tr>\n",
       "      <th>4</th>\n",
       "      <td></td>\n",
       "      <td>šulmu</td>\n",
       "      <td></td>\n",
       "      <td></td>\n",
       "      <td></td>\n",
       "      <td>N</td>\n",
       "      <td></td>\n",
       "      <td></td>\n",
       "      <td>DI-mu</td>\n",
       "      <td>[{'gg': 'logo', 'gdl_type': 'logo', 'group': [...</td>\n",
       "      <td>...</td>\n",
       "      <td>akk-x-neoass</td>\n",
       "      <td></td>\n",
       "      <td>šulmu</td>\n",
       "      <td></td>\n",
       "      <td>N</td>\n",
       "      <td></td>\n",
       "      <td>health</td>\n",
       "      <td></td>\n",
       "      <td></td>\n",
       "      <td></td>\n",
       "    </tr>\n",
       "    <tr>\n",
       "      <th>5</th>\n",
       "      <td></td>\n",
       "      <td>yâšim</td>\n",
       "      <td></td>\n",
       "      <td></td>\n",
       "      <td></td>\n",
       "      <td>IP</td>\n",
       "      <td></td>\n",
       "      <td></td>\n",
       "      <td>ia-a-ši</td>\n",
       "      <td>[{'v': 'ia', 'gdl_utf8': '𒅀', 'id': 'P334190.3...</td>\n",
       "      <td>...</td>\n",
       "      <td>akk-x-neoass</td>\n",
       "      <td></td>\n",
       "      <td>ayāši</td>\n",
       "      <td></td>\n",
       "      <td>IP</td>\n",
       "      <td></td>\n",
       "      <td>me</td>\n",
       "      <td></td>\n",
       "      <td></td>\n",
       "      <td></td>\n",
       "    </tr>\n",
       "    <tr>\n",
       "      <th>6</th>\n",
       "      <td></td>\n",
       "      <td>libbu</td>\n",
       "      <td></td>\n",
       "      <td></td>\n",
       "      <td></td>\n",
       "      <td>N</td>\n",
       "      <td></td>\n",
       "      <td></td>\n",
       "      <td>ŠA₃-ba-ka</td>\n",
       "      <td>[{'gg': 'logo', 'gdl_type': 'logo', 'group': [...</td>\n",
       "      <td>...</td>\n",
       "      <td>akk-x-neoass</td>\n",
       "      <td></td>\n",
       "      <td>libbaka</td>\n",
       "      <td></td>\n",
       "      <td>N</td>\n",
       "      <td></td>\n",
       "      <td>mood</td>\n",
       "      <td></td>\n",
       "      <td></td>\n",
       "      <td></td>\n",
       "    </tr>\n",
       "    <tr>\n",
       "      <th>7</th>\n",
       "      <td></td>\n",
       "      <td>lū</td>\n",
       "      <td></td>\n",
       "      <td></td>\n",
       "      <td></td>\n",
       "      <td>MOD</td>\n",
       "      <td></td>\n",
       "      <td></td>\n",
       "      <td>lu</td>\n",
       "      <td>[{'v': 'lu', 'gdl_utf8': '𒇻', 'id': 'P334190.4...</td>\n",
       "      <td>...</td>\n",
       "      <td>akk-x-neoass</td>\n",
       "      <td></td>\n",
       "      <td>lū</td>\n",
       "      <td></td>\n",
       "      <td>MOD</td>\n",
       "      <td></td>\n",
       "      <td>may</td>\n",
       "      <td></td>\n",
       "      <td></td>\n",
       "      <td></td>\n",
       "    </tr>\n",
       "    <tr>\n",
       "      <th>8</th>\n",
       "      <td></td>\n",
       "      <td>ṭābu</td>\n",
       "      <td></td>\n",
       "      <td></td>\n",
       "      <td></td>\n",
       "      <td>AJ</td>\n",
       "      <td></td>\n",
       "      <td></td>\n",
       "      <td>DUG₃.GA-ka</td>\n",
       "      <td>[{'gg': 'logo', 'gdl_type': 'logo', 'group': [...</td>\n",
       "      <td>...</td>\n",
       "      <td>akk-x-neoass</td>\n",
       "      <td></td>\n",
       "      <td>ṭābka</td>\n",
       "      <td></td>\n",
       "      <td>AJ</td>\n",
       "      <td></td>\n",
       "      <td>good</td>\n",
       "      <td></td>\n",
       "      <td></td>\n",
       "      <td></td>\n",
       "    </tr>\n",
       "    <tr>\n",
       "      <th>9</th>\n",
       "      <td></td>\n",
       "      <td>ūmu</td>\n",
       "      <td></td>\n",
       "      <td></td>\n",
       "      <td></td>\n",
       "      <td>N</td>\n",
       "      <td></td>\n",
       "      <td></td>\n",
       "      <td>UD-mu</td>\n",
       "      <td>[{'gg': 'logo', 'gdl_type': 'logo', 'group': [...</td>\n",
       "      <td>...</td>\n",
       "      <td>akk-x-neoass</td>\n",
       "      <td></td>\n",
       "      <td>ūmu</td>\n",
       "      <td></td>\n",
       "      <td>N</td>\n",
       "      <td></td>\n",
       "      <td>day</td>\n",
       "      <td></td>\n",
       "      <td></td>\n",
       "      <td></td>\n",
       "    </tr>\n",
       "    <tr>\n",
       "      <th>10</th>\n",
       "      <td></td>\n",
       "      <td>ša</td>\n",
       "      <td></td>\n",
       "      <td></td>\n",
       "      <td></td>\n",
       "      <td>REL</td>\n",
       "      <td></td>\n",
       "      <td></td>\n",
       "      <td>ša</td>\n",
       "      <td>[{'v': 'ša', 'gdl_utf8': '𒊭', 'id': 'P334190.5...</td>\n",
       "      <td>...</td>\n",
       "      <td>akk-x-neoass</td>\n",
       "      <td></td>\n",
       "      <td>ša</td>\n",
       "      <td></td>\n",
       "      <td>REL</td>\n",
       "      <td></td>\n",
       "      <td>that</td>\n",
       "      <td></td>\n",
       "      <td></td>\n",
       "      <td></td>\n",
       "    </tr>\n",
       "    <tr>\n",
       "      <th>11</th>\n",
       "      <td></td>\n",
       "      <td>egertu</td>\n",
       "      <td></td>\n",
       "      <td></td>\n",
       "      <td></td>\n",
       "      <td>N</td>\n",
       "      <td></td>\n",
       "      <td></td>\n",
       "      <td>e-gir₂-tu₂</td>\n",
       "      <td>[{'v': 'e', 'gdl_utf8': '𒂊', 'id': 'P334190.5....</td>\n",
       "      <td>...</td>\n",
       "      <td>akk-x-neoass</td>\n",
       "      <td></td>\n",
       "      <td>egertu</td>\n",
       "      <td></td>\n",
       "      <td>N</td>\n",
       "      <td></td>\n",
       "      <td>letter</td>\n",
       "      <td></td>\n",
       "      <td></td>\n",
       "      <td></td>\n",
       "    </tr>\n",
       "    <tr>\n",
       "      <th>12</th>\n",
       "      <td></td>\n",
       "      <td>annû</td>\n",
       "      <td></td>\n",
       "      <td></td>\n",
       "      <td></td>\n",
       "      <td>DP</td>\n",
       "      <td></td>\n",
       "      <td></td>\n",
       "      <td>an-ni-tu₂</td>\n",
       "      <td>[{'v': 'an', 'gdl_utf8': '𒀭', 'id': 'P334190.6...</td>\n",
       "      <td>...</td>\n",
       "      <td>akk-x-neoass</td>\n",
       "      <td></td>\n",
       "      <td>annītu</td>\n",
       "      <td></td>\n",
       "      <td>DP</td>\n",
       "      <td></td>\n",
       "      <td>this</td>\n",
       "      <td></td>\n",
       "      <td></td>\n",
       "      <td></td>\n",
       "    </tr>\n",
       "    <tr>\n",
       "      <th>13</th>\n",
       "      <td></td>\n",
       "      <td>amāru</td>\n",
       "      <td></td>\n",
       "      <td></td>\n",
       "      <td></td>\n",
       "      <td>V</td>\n",
       "      <td></td>\n",
       "      <td></td>\n",
       "      <td>ta-mar-u-ni</td>\n",
       "      <td>[{'v': 'ta', 'gdl_utf8': '𒋫', 'id': 'P334190.6...</td>\n",
       "      <td>...</td>\n",
       "      <td>akk-x-neoass</td>\n",
       "      <td></td>\n",
       "      <td>tammarūni</td>\n",
       "      <td></td>\n",
       "      <td>V</td>\n",
       "      <td></td>\n",
       "      <td>see</td>\n",
       "      <td></td>\n",
       "      <td></td>\n",
       "      <td></td>\n",
       "    </tr>\n",
       "    <tr>\n",
       "      <th>14</th>\n",
       "      <td></td>\n",
       "      <td></td>\n",
       "      <td></td>\n",
       "      <td></td>\n",
       "      <td></td>\n",
       "      <td></td>\n",
       "      <td></td>\n",
       "      <td></td>\n",
       "      <td>x</td>\n",
       "      <td>[{'v': 'x', 'gdl_utf8': 'x', 'id': 'P334190.7....</td>\n",
       "      <td>...</td>\n",
       "      <td>akk-x-neoass</td>\n",
       "      <td></td>\n",
       "      <td></td>\n",
       "      <td></td>\n",
       "      <td>u</td>\n",
       "      <td></td>\n",
       "      <td></td>\n",
       "      <td></td>\n",
       "      <td></td>\n",
       "      <td></td>\n",
       "    </tr>\n",
       "    <tr>\n",
       "      <th>15</th>\n",
       "      <td></td>\n",
       "      <td></td>\n",
       "      <td></td>\n",
       "      <td></td>\n",
       "      <td></td>\n",
       "      <td></td>\n",
       "      <td></td>\n",
       "      <td></td>\n",
       "      <td>x</td>\n",
       "      <td>[{'v': 'x', 'gdl_utf8': 'x', 'id': 'P334190.7....</td>\n",
       "      <td>...</td>\n",
       "      <td>akk-x-neoass</td>\n",
       "      <td></td>\n",
       "      <td></td>\n",
       "      <td></td>\n",
       "      <td>u</td>\n",
       "      <td></td>\n",
       "      <td></td>\n",
       "      <td></td>\n",
       "      <td></td>\n",
       "      <td></td>\n",
       "    </tr>\n",
       "    <tr>\n",
       "      <th>16</th>\n",
       "      <td></td>\n",
       "      <td></td>\n",
       "      <td></td>\n",
       "      <td></td>\n",
       "      <td></td>\n",
       "      <td></td>\n",
       "      <td></td>\n",
       "      <td></td>\n",
       "      <td>x</td>\n",
       "      <td>[{'v': 'x', 'gdl_utf8': 'x', 'id': 'P334190.7....</td>\n",
       "      <td>...</td>\n",
       "      <td>akk-x-neoass</td>\n",
       "      <td></td>\n",
       "      <td></td>\n",
       "      <td></td>\n",
       "      <td>u</td>\n",
       "      <td></td>\n",
       "      <td></td>\n",
       "      <td></td>\n",
       "      <td></td>\n",
       "      <td></td>\n",
       "    </tr>\n",
       "    <tr>\n",
       "      <th>17</th>\n",
       "      <td></td>\n",
       "      <td></td>\n",
       "      <td></td>\n",
       "      <td></td>\n",
       "      <td></td>\n",
       "      <td></td>\n",
       "      <td></td>\n",
       "      <td></td>\n",
       "      <td>x+x</td>\n",
       "      <td>[{'gg': 'ligature', 'gdl_type': 'ligature', 'g...</td>\n",
       "      <td>...</td>\n",
       "      <td>akk-x-neoass</td>\n",
       "      <td></td>\n",
       "      <td></td>\n",
       "      <td></td>\n",
       "      <td>u</td>\n",
       "      <td></td>\n",
       "      <td></td>\n",
       "      <td></td>\n",
       "      <td></td>\n",
       "      <td></td>\n",
       "    </tr>\n",
       "    <tr>\n",
       "      <th>18</th>\n",
       "      <td></td>\n",
       "      <td>Nabu-šezibanni</td>\n",
       "      <td></td>\n",
       "      <td></td>\n",
       "      <td></td>\n",
       "      <td>PN</td>\n",
       "      <td></td>\n",
       "      <td></td>\n",
       "      <td>{1}{d}PA-še-zib-an-ni</td>\n",
       "      <td>[{'gg': 'logo', 'gdl_type': 'logo', 'group': [...</td>\n",
       "      <td>...</td>\n",
       "      <td>akk-x-neoass</td>\n",
       "      <td></td>\n",
       "      <td>Nabu-šezibanni</td>\n",
       "      <td></td>\n",
       "      <td>PN</td>\n",
       "      <td></td>\n",
       "      <td>1</td>\n",
       "      <td></td>\n",
       "      <td></td>\n",
       "      <td></td>\n",
       "    </tr>\n",
       "    <tr>\n",
       "      <th>19</th>\n",
       "      <td></td>\n",
       "      <td></td>\n",
       "      <td></td>\n",
       "      <td></td>\n",
       "      <td></td>\n",
       "      <td></td>\n",
       "      <td></td>\n",
       "      <td></td>\n",
       "      <td>x</td>\n",
       "      <td>[{'v': 'x', 'gdl_utf8': 'x', 'id': 'P334190.8....</td>\n",
       "      <td>...</td>\n",
       "      <td>akk-x-neoass</td>\n",
       "      <td></td>\n",
       "      <td></td>\n",
       "      <td></td>\n",
       "      <td>u</td>\n",
       "      <td></td>\n",
       "      <td></td>\n",
       "      <td></td>\n",
       "      <td></td>\n",
       "      <td></td>\n",
       "    </tr>\n",
       "    <tr>\n",
       "      <th>20</th>\n",
       "      <td></td>\n",
       "      <td></td>\n",
       "      <td></td>\n",
       "      <td></td>\n",
       "      <td></td>\n",
       "      <td></td>\n",
       "      <td></td>\n",
       "      <td></td>\n",
       "      <td>x</td>\n",
       "      <td>[{'v': 'x', 'gdl_utf8': 'x', 'id': 'P334190.8....</td>\n",
       "      <td>...</td>\n",
       "      <td>akk-x-neoass</td>\n",
       "      <td></td>\n",
       "      <td></td>\n",
       "      <td></td>\n",
       "      <td>u</td>\n",
       "      <td></td>\n",
       "      <td></td>\n",
       "      <td></td>\n",
       "      <td></td>\n",
       "      <td></td>\n",
       "    </tr>\n",
       "    <tr>\n",
       "      <th>21</th>\n",
       "      <td></td>\n",
       "      <td></td>\n",
       "      <td></td>\n",
       "      <td></td>\n",
       "      <td></td>\n",
       "      <td></td>\n",
       "      <td></td>\n",
       "      <td></td>\n",
       "      <td>x</td>\n",
       "      <td>[{'v': 'x', 'gdl_utf8': 'x', 'id': 'P334190.8....</td>\n",
       "      <td>...</td>\n",
       "      <td>akk-x-neoass</td>\n",
       "      <td></td>\n",
       "      <td></td>\n",
       "      <td></td>\n",
       "      <td>u</td>\n",
       "      <td></td>\n",
       "      <td></td>\n",
       "      <td></td>\n",
       "      <td></td>\n",
       "      <td></td>\n",
       "    </tr>\n",
       "    <tr>\n",
       "      <th>22</th>\n",
       "      <td></td>\n",
       "      <td></td>\n",
       "      <td></td>\n",
       "      <td></td>\n",
       "      <td></td>\n",
       "      <td></td>\n",
       "      <td></td>\n",
       "      <td></td>\n",
       "      <td>x</td>\n",
       "      <td>[{'v': 'x', 'gdl_utf8': 'x', 'id': 'P334190.8....</td>\n",
       "      <td>...</td>\n",
       "      <td>akk-x-neoass</td>\n",
       "      <td></td>\n",
       "      <td></td>\n",
       "      <td></td>\n",
       "      <td>u</td>\n",
       "      <td></td>\n",
       "      <td></td>\n",
       "      <td></td>\n",
       "      <td></td>\n",
       "      <td></td>\n",
       "    </tr>\n",
       "    <tr>\n",
       "      <th>23</th>\n",
       "      <td></td>\n",
       "      <td>lawû</td>\n",
       "      <td></td>\n",
       "      <td></td>\n",
       "      <td></td>\n",
       "      <td>V</td>\n",
       "      <td></td>\n",
       "      <td></td>\n",
       "      <td>i-lab-bu-ni</td>\n",
       "      <td>[{'v': 'i', 'gdl_utf8': '𒄿', 'id': 'P334190.8....</td>\n",
       "      <td>...</td>\n",
       "      <td>akk-x-neoass</td>\n",
       "      <td></td>\n",
       "      <td>ilabbûni</td>\n",
       "      <td></td>\n",
       "      <td>V</td>\n",
       "      <td></td>\n",
       "      <td>surround</td>\n",
       "      <td></td>\n",
       "      <td></td>\n",
       "      <td></td>\n",
       "    </tr>\n",
       "    <tr>\n",
       "      <th>24</th>\n",
       "      <td></td>\n",
       "      <td></td>\n",
       "      <td></td>\n",
       "      <td></td>\n",
       "      <td></td>\n",
       "      <td></td>\n",
       "      <td></td>\n",
       "      <td></td>\n",
       "      <td>x</td>\n",
       "      <td>[{'v': 'x', 'gdl_utf8': 'x', 'id': 'P334190.9....</td>\n",
       "      <td>...</td>\n",
       "      <td>akk-x-neoass</td>\n",
       "      <td></td>\n",
       "      <td></td>\n",
       "      <td></td>\n",
       "      <td>u</td>\n",
       "      <td></td>\n",
       "      <td></td>\n",
       "      <td></td>\n",
       "      <td></td>\n",
       "      <td></td>\n",
       "    </tr>\n",
       "    <tr>\n",
       "      <th>25</th>\n",
       "      <td></td>\n",
       "      <td></td>\n",
       "      <td></td>\n",
       "      <td></td>\n",
       "      <td></td>\n",
       "      <td></td>\n",
       "      <td></td>\n",
       "      <td></td>\n",
       "      <td>x</td>\n",
       "      <td>[{'v': 'x', 'gdl_utf8': 'x', 'id': 'P334190.9....</td>\n",
       "      <td>...</td>\n",
       "      <td>akk-x-neoass</td>\n",
       "      <td></td>\n",
       "      <td></td>\n",
       "      <td></td>\n",
       "      <td>u</td>\n",
       "      <td></td>\n",
       "      <td></td>\n",
       "      <td></td>\n",
       "      <td></td>\n",
       "      <td></td>\n",
       "    </tr>\n",
       "    <tr>\n",
       "      <th>26</th>\n",
       "      <td></td>\n",
       "      <td></td>\n",
       "      <td></td>\n",
       "      <td></td>\n",
       "      <td></td>\n",
       "      <td></td>\n",
       "      <td></td>\n",
       "      <td></td>\n",
       "      <td>x</td>\n",
       "      <td>[{'v': 'x', 'gdl_utf8': 'x', 'id': 'P334190.9....</td>\n",
       "      <td>...</td>\n",
       "      <td>akk-x-neoass</td>\n",
       "      <td></td>\n",
       "      <td></td>\n",
       "      <td></td>\n",
       "      <td>u</td>\n",
       "      <td></td>\n",
       "      <td></td>\n",
       "      <td></td>\n",
       "      <td></td>\n",
       "      <td></td>\n",
       "    </tr>\n",
       "    <tr>\n",
       "      <th>27</th>\n",
       "      <td></td>\n",
       "      <td></td>\n",
       "      <td></td>\n",
       "      <td></td>\n",
       "      <td></td>\n",
       "      <td></td>\n",
       "      <td></td>\n",
       "      <td></td>\n",
       "      <td>x</td>\n",
       "      <td>[{'v': 'x', 'gdl_utf8': 'x', 'id': 'P334190.9....</td>\n",
       "      <td>...</td>\n",
       "      <td>akk-x-neoass</td>\n",
       "      <td></td>\n",
       "      <td></td>\n",
       "      <td></td>\n",
       "      <td>u</td>\n",
       "      <td></td>\n",
       "      <td></td>\n",
       "      <td></td>\n",
       "      <td></td>\n",
       "      <td></td>\n",
       "    </tr>\n",
       "    <tr>\n",
       "      <th>28</th>\n",
       "      <td></td>\n",
       "      <td></td>\n",
       "      <td></td>\n",
       "      <td></td>\n",
       "      <td></td>\n",
       "      <td></td>\n",
       "      <td></td>\n",
       "      <td></td>\n",
       "      <td>x</td>\n",
       "      <td>[{'v': 'x', 'gdl_utf8': 'x', 'id': 'P334190.9....</td>\n",
       "      <td>...</td>\n",
       "      <td>akk-x-neoass</td>\n",
       "      <td></td>\n",
       "      <td></td>\n",
       "      <td></td>\n",
       "      <td>u</td>\n",
       "      <td></td>\n",
       "      <td></td>\n",
       "      <td></td>\n",
       "      <td></td>\n",
       "      <td></td>\n",
       "    </tr>\n",
       "    <tr>\n",
       "      <th>29</th>\n",
       "      <td></td>\n",
       "      <td></td>\n",
       "      <td></td>\n",
       "      <td></td>\n",
       "      <td></td>\n",
       "      <td></td>\n",
       "      <td></td>\n",
       "      <td></td>\n",
       "      <td>x</td>\n",
       "      <td>[{'v': 'x', 'gdl_utf8': 'x', 'id': 'P334190.9....</td>\n",
       "      <td>...</td>\n",
       "      <td>akk-x-neoass</td>\n",
       "      <td></td>\n",
       "      <td></td>\n",
       "      <td></td>\n",
       "      <td>u</td>\n",
       "      <td></td>\n",
       "      <td></td>\n",
       "      <td></td>\n",
       "      <td></td>\n",
       "      <td></td>\n",
       "    </tr>\n",
       "    <tr>\n",
       "      <th>...</th>\n",
       "      <td>...</td>\n",
       "      <td>...</td>\n",
       "      <td>...</td>\n",
       "      <td>...</td>\n",
       "      <td>...</td>\n",
       "      <td>...</td>\n",
       "      <td>...</td>\n",
       "      <td>...</td>\n",
       "      <td>...</td>\n",
       "      <td>...</td>\n",
       "      <td>...</td>\n",
       "      <td>...</td>\n",
       "      <td>...</td>\n",
       "      <td>...</td>\n",
       "      <td>...</td>\n",
       "      <td>...</td>\n",
       "      <td>...</td>\n",
       "      <td>...</td>\n",
       "      <td>...</td>\n",
       "      <td>...</td>\n",
       "      <td>...</td>\n",
       "    </tr>\n",
       "    <tr>\n",
       "      <th>1202612</th>\n",
       "      <td></td>\n",
       "      <td>ilu</td>\n",
       "      <td></td>\n",
       "      <td></td>\n",
       "      <td></td>\n",
       "      <td>N</td>\n",
       "      <td></td>\n",
       "      <td></td>\n",
       "      <td>DINGIR.MEŠ</td>\n",
       "      <td>[{'gg': 'logo', 'gdl_type': 'logo', 'group': [...</td>\n",
       "      <td>...</td>\n",
       "      <td>akk</td>\n",
       "      <td></td>\n",
       "      <td>ilāni</td>\n",
       "      <td></td>\n",
       "      <td>N</td>\n",
       "      <td></td>\n",
       "      <td>god</td>\n",
       "      <td></td>\n",
       "      <td></td>\n",
       "      <td></td>\n",
       "    </tr>\n",
       "    <tr>\n",
       "      <th>1202613</th>\n",
       "      <td></td>\n",
       "      <td>wāšibu</td>\n",
       "      <td></td>\n",
       "      <td></td>\n",
       "      <td></td>\n",
       "      <td>N</td>\n",
       "      <td></td>\n",
       "      <td></td>\n",
       "      <td>a-šib</td>\n",
       "      <td>[{'v': 'a', 'gdl_utf8': '𒀀', 'id': 'Q006221.15...</td>\n",
       "      <td>...</td>\n",
       "      <td>akk</td>\n",
       "      <td></td>\n",
       "      <td>āšib</td>\n",
       "      <td></td>\n",
       "      <td>N</td>\n",
       "      <td></td>\n",
       "      <td>inhabitant</td>\n",
       "      <td></td>\n",
       "      <td></td>\n",
       "      <td></td>\n",
       "    </tr>\n",
       "    <tr>\n",
       "      <th>1202614</th>\n",
       "      <td></td>\n",
       "      <td>Anat</td>\n",
       "      <td></td>\n",
       "      <td></td>\n",
       "      <td></td>\n",
       "      <td>SN</td>\n",
       "      <td></td>\n",
       "      <td></td>\n",
       "      <td>{URU}an-at</td>\n",
       "      <td>[{'det': 'semantic', 'pos': 'pre', 'seq': [{'s...</td>\n",
       "      <td>...</td>\n",
       "      <td>akk</td>\n",
       "      <td></td>\n",
       "      <td>Anat</td>\n",
       "      <td></td>\n",
       "      <td>SN</td>\n",
       "      <td></td>\n",
       "      <td>1</td>\n",
       "      <td></td>\n",
       "      <td></td>\n",
       "      <td></td>\n",
       "    </tr>\n",
       "    <tr>\n",
       "      <th>1202615</th>\n",
       "      <td></td>\n",
       "      <td>bēlu</td>\n",
       "      <td></td>\n",
       "      <td></td>\n",
       "      <td></td>\n",
       "      <td>N</td>\n",
       "      <td></td>\n",
       "      <td></td>\n",
       "      <td>EN.MEŠ-e-a</td>\n",
       "      <td>[{'gg': 'logo', 'gdl_type': 'logo', 'delim': '...</td>\n",
       "      <td>...</td>\n",
       "      <td>akk</td>\n",
       "      <td></td>\n",
       "      <td>bēlēya</td>\n",
       "      <td></td>\n",
       "      <td>N</td>\n",
       "      <td></td>\n",
       "      <td>lord</td>\n",
       "      <td></td>\n",
       "      <td></td>\n",
       "      <td></td>\n",
       "    </tr>\n",
       "    <tr>\n",
       "      <th>1202616</th>\n",
       "      <td></td>\n",
       "      <td>labāriš</td>\n",
       "      <td></td>\n",
       "      <td></td>\n",
       "      <td></td>\n",
       "      <td>AV</td>\n",
       "      <td></td>\n",
       "      <td></td>\n",
       "      <td>la-ba-riš</td>\n",
       "      <td>[{'v': 'la', 'gdl_utf8': '𒆷', 'id': 'Q006221.1...</td>\n",
       "      <td>...</td>\n",
       "      <td>akk</td>\n",
       "      <td></td>\n",
       "      <td>labāriš</td>\n",
       "      <td></td>\n",
       "      <td>AV</td>\n",
       "      <td></td>\n",
       "      <td>to become old</td>\n",
       "      <td></td>\n",
       "      <td></td>\n",
       "      <td></td>\n",
       "    </tr>\n",
       "    <tr>\n",
       "      <th>1202617</th>\n",
       "      <td></td>\n",
       "      <td>alāku</td>\n",
       "      <td></td>\n",
       "      <td></td>\n",
       "      <td></td>\n",
       "      <td>V</td>\n",
       "      <td></td>\n",
       "      <td></td>\n",
       "      <td>il-lik-ma</td>\n",
       "      <td>[{'v': 'il', 'gdl_utf8': '𒅋', 'id': 'Q006221.1...</td>\n",
       "      <td>...</td>\n",
       "      <td>akk</td>\n",
       "      <td></td>\n",
       "      <td>illikma</td>\n",
       "      <td></td>\n",
       "      <td>V</td>\n",
       "      <td></td>\n",
       "      <td>go</td>\n",
       "      <td></td>\n",
       "      <td></td>\n",
       "      <td></td>\n",
       "    </tr>\n",
       "    <tr>\n",
       "      <th>1202618</th>\n",
       "      <td></td>\n",
       "      <td>paṭāru</td>\n",
       "      <td></td>\n",
       "      <td></td>\n",
       "      <td></td>\n",
       "      <td>V</td>\n",
       "      <td></td>\n",
       "      <td></td>\n",
       "      <td>up-te-eṭ-ṭir</td>\n",
       "      <td>[{'v': 'up', 'gdl_utf8': '𒌒', 'id': 'Q006221.1...</td>\n",
       "      <td>...</td>\n",
       "      <td>akk</td>\n",
       "      <td></td>\n",
       "      <td>upteṭṭir</td>\n",
       "      <td></td>\n",
       "      <td>V</td>\n",
       "      <td></td>\n",
       "      <td>fall apart</td>\n",
       "      <td></td>\n",
       "      <td></td>\n",
       "      <td></td>\n",
       "    </tr>\n",
       "    <tr>\n",
       "      <th>1202619</th>\n",
       "      <td></td>\n",
       "      <td></td>\n",
       "      <td></td>\n",
       "      <td></td>\n",
       "      <td></td>\n",
       "      <td></td>\n",
       "      <td></td>\n",
       "      <td></td>\n",
       "      <td>x</td>\n",
       "      <td>[{'v': 'x', 'gdl_utf8': 'x', 'id': 'Q006221.16...</td>\n",
       "      <td>...</td>\n",
       "      <td>akk</td>\n",
       "      <td></td>\n",
       "      <td></td>\n",
       "      <td></td>\n",
       "      <td>u</td>\n",
       "      <td></td>\n",
       "      <td></td>\n",
       "      <td></td>\n",
       "      <td></td>\n",
       "      <td></td>\n",
       "    </tr>\n",
       "    <tr>\n",
       "      <th>1202620</th>\n",
       "      <td></td>\n",
       "      <td>akītu</td>\n",
       "      <td></td>\n",
       "      <td></td>\n",
       "      <td></td>\n",
       "      <td>N</td>\n",
       "      <td></td>\n",
       "      <td></td>\n",
       "      <td>a-ki-tu₄</td>\n",
       "      <td>[{'v': 'a', 'gdl_utf8': '𒀀', 'id': 'Q006221.17...</td>\n",
       "      <td>...</td>\n",
       "      <td>akk</td>\n",
       "      <td></td>\n",
       "      <td>akītu</td>\n",
       "      <td></td>\n",
       "      <td>N</td>\n",
       "      <td></td>\n",
       "      <td>(a festival temple)</td>\n",
       "      <td></td>\n",
       "      <td></td>\n",
       "      <td></td>\n",
       "    </tr>\n",
       "    <tr>\n",
       "      <th>1202621</th>\n",
       "      <td></td>\n",
       "      <td>šuāti</td>\n",
       "      <td></td>\n",
       "      <td></td>\n",
       "      <td></td>\n",
       "      <td>IP</td>\n",
       "      <td></td>\n",
       "      <td></td>\n",
       "      <td>UR₅-tu₂</td>\n",
       "      <td>[{'s': 'UR₅', 'gdl_utf8': '𒄯', 'id': 'Q006221....</td>\n",
       "      <td>...</td>\n",
       "      <td>akk</td>\n",
       "      <td></td>\n",
       "      <td>šuātu</td>\n",
       "      <td></td>\n",
       "      <td>IP</td>\n",
       "      <td></td>\n",
       "      <td>that</td>\n",
       "      <td></td>\n",
       "      <td></td>\n",
       "      <td></td>\n",
       "    </tr>\n",
       "    <tr>\n",
       "      <th>1202622</th>\n",
       "      <td></td>\n",
       "      <td>danānu</td>\n",
       "      <td></td>\n",
       "      <td></td>\n",
       "      <td></td>\n",
       "      <td>V</td>\n",
       "      <td></td>\n",
       "      <td></td>\n",
       "      <td>u₂-dan-nin-ma</td>\n",
       "      <td>[{'v': 'u₂', 'gdl_utf8': '𒌑', 'id': 'Q006221.1...</td>\n",
       "      <td>...</td>\n",
       "      <td>akk</td>\n",
       "      <td></td>\n",
       "      <td>udanninma</td>\n",
       "      <td></td>\n",
       "      <td>V</td>\n",
       "      <td></td>\n",
       "      <td>strengthen</td>\n",
       "      <td></td>\n",
       "      <td></td>\n",
       "      <td></td>\n",
       "    </tr>\n",
       "    <tr>\n",
       "      <th>1202623</th>\n",
       "      <td></td>\n",
       "      <td>ana</td>\n",
       "      <td></td>\n",
       "      <td></td>\n",
       "      <td></td>\n",
       "      <td>PRP</td>\n",
       "      <td></td>\n",
       "      <td></td>\n",
       "      <td>a-na</td>\n",
       "      <td>[{'v': 'a', 'gdl_utf8': '𒀀', 'id': 'Q006221.17...</td>\n",
       "      <td>...</td>\n",
       "      <td>akk</td>\n",
       "      <td></td>\n",
       "      <td>ana</td>\n",
       "      <td></td>\n",
       "      <td>PRP</td>\n",
       "      <td></td>\n",
       "      <td>for</td>\n",
       "      <td></td>\n",
       "      <td></td>\n",
       "      <td></td>\n",
       "    </tr>\n",
       "    <tr>\n",
       "      <th>1202624</th>\n",
       "      <td></td>\n",
       "      <td>balāṭu</td>\n",
       "      <td></td>\n",
       "      <td></td>\n",
       "      <td></td>\n",
       "      <td>N</td>\n",
       "      <td></td>\n",
       "      <td></td>\n",
       "      <td>ba-laṭ</td>\n",
       "      <td>[{'v': 'ba', 'gdl_utf8': '𒁀', 'id': 'Q006221.1...</td>\n",
       "      <td>...</td>\n",
       "      <td>akk</td>\n",
       "      <td></td>\n",
       "      <td>balāṭ</td>\n",
       "      <td></td>\n",
       "      <td>V</td>\n",
       "      <td></td>\n",
       "      <td>preservation</td>\n",
       "      <td></td>\n",
       "      <td></td>\n",
       "      <td></td>\n",
       "    </tr>\n",
       "    <tr>\n",
       "      <th>1202625</th>\n",
       "      <td></td>\n",
       "      <td>napištu</td>\n",
       "      <td></td>\n",
       "      <td></td>\n",
       "      <td></td>\n",
       "      <td>N</td>\n",
       "      <td></td>\n",
       "      <td></td>\n",
       "      <td>ZI.MEŠ-ia</td>\n",
       "      <td>[{'gg': 'logo', 'gdl_type': 'logo', 'delim': '...</td>\n",
       "      <td>...</td>\n",
       "      <td>akk</td>\n",
       "      <td></td>\n",
       "      <td>napšātiya</td>\n",
       "      <td></td>\n",
       "      <td>N</td>\n",
       "      <td></td>\n",
       "      <td>life</td>\n",
       "      <td></td>\n",
       "      <td></td>\n",
       "      <td></td>\n",
       "    </tr>\n",
       "    <tr>\n",
       "      <th>1202626</th>\n",
       "      <td></td>\n",
       "      <td>šalāmu</td>\n",
       "      <td></td>\n",
       "      <td></td>\n",
       "      <td></td>\n",
       "      <td>N</td>\n",
       "      <td></td>\n",
       "      <td></td>\n",
       "      <td>ša₂-lam</td>\n",
       "      <td>[{'v': 'ša₂', 'gdl_utf8': '𒃻', 'id': 'Q006221....</td>\n",
       "      <td>...</td>\n",
       "      <td>akk</td>\n",
       "      <td></td>\n",
       "      <td>šalām</td>\n",
       "      <td></td>\n",
       "      <td>V</td>\n",
       "      <td></td>\n",
       "      <td>well-being</td>\n",
       "      <td></td>\n",
       "      <td></td>\n",
       "      <td></td>\n",
       "    </tr>\n",
       "    <tr>\n",
       "      <th>1202627</th>\n",
       "      <td></td>\n",
       "      <td>zēru</td>\n",
       "      <td></td>\n",
       "      <td></td>\n",
       "      <td></td>\n",
       "      <td>N</td>\n",
       "      <td></td>\n",
       "      <td></td>\n",
       "      <td>NUMUN-ia</td>\n",
       "      <td>[{'s': 'NUMUN', 'gdl_utf8': '𒆰', 'id': 'Q00622...</td>\n",
       "      <td>...</td>\n",
       "      <td>akk</td>\n",
       "      <td></td>\n",
       "      <td>zēriya</td>\n",
       "      <td></td>\n",
       "      <td>N</td>\n",
       "      <td></td>\n",
       "      <td>offspring</td>\n",
       "      <td></td>\n",
       "      <td></td>\n",
       "      <td></td>\n",
       "    </tr>\n",
       "    <tr>\n",
       "      <th>1202628</th>\n",
       "      <td></td>\n",
       "      <td>arāku</td>\n",
       "      <td></td>\n",
       "      <td></td>\n",
       "      <td></td>\n",
       "      <td>N</td>\n",
       "      <td></td>\n",
       "      <td></td>\n",
       "      <td>GID₂.DA</td>\n",
       "      <td>[{'gg': 'logo', 'gdl_type': 'logo', 'group': [...</td>\n",
       "      <td>...</td>\n",
       "      <td>akk</td>\n",
       "      <td></td>\n",
       "      <td>urruk</td>\n",
       "      <td></td>\n",
       "      <td>V</td>\n",
       "      <td></td>\n",
       "      <td>lengthening</td>\n",
       "      <td></td>\n",
       "      <td></td>\n",
       "      <td></td>\n",
       "    </tr>\n",
       "    <tr>\n",
       "      <th>1202629</th>\n",
       "      <td></td>\n",
       "      <td>ūmu</td>\n",
       "      <td></td>\n",
       "      <td></td>\n",
       "      <td></td>\n",
       "      <td>N</td>\n",
       "      <td></td>\n",
       "      <td></td>\n",
       "      <td>UD.MEŠ-ia</td>\n",
       "      <td>[{'gg': 'logo', 'gdl_type': 'logo', 'delim': '...</td>\n",
       "      <td>...</td>\n",
       "      <td>akk</td>\n",
       "      <td></td>\n",
       "      <td>ūmēya</td>\n",
       "      <td></td>\n",
       "      <td>N</td>\n",
       "      <td></td>\n",
       "      <td>day</td>\n",
       "      <td></td>\n",
       "      <td></td>\n",
       "      <td></td>\n",
       "    </tr>\n",
       "    <tr>\n",
       "      <th>1202630</th>\n",
       "      <td></td>\n",
       "      <td>kânu</td>\n",
       "      <td></td>\n",
       "      <td></td>\n",
       "      <td></td>\n",
       "      <td>N</td>\n",
       "      <td></td>\n",
       "      <td></td>\n",
       "      <td>ku-un</td>\n",
       "      <td>[{'v': 'ku', 'gdl_utf8': '𒆪', 'id': 'Q006221.1...</td>\n",
       "      <td>...</td>\n",
       "      <td>akk</td>\n",
       "      <td></td>\n",
       "      <td>kūn</td>\n",
       "      <td></td>\n",
       "      <td>V</td>\n",
       "      <td></td>\n",
       "      <td>securing</td>\n",
       "      <td></td>\n",
       "      <td></td>\n",
       "      <td></td>\n",
       "    </tr>\n",
       "    <tr>\n",
       "      <th>1202631</th>\n",
       "      <td></td>\n",
       "      <td>palû</td>\n",
       "      <td></td>\n",
       "      <td></td>\n",
       "      <td></td>\n",
       "      <td>N</td>\n",
       "      <td></td>\n",
       "      <td></td>\n",
       "      <td>BALA.MEŠ-e-a</td>\n",
       "      <td>[{'gg': 'logo', 'gdl_type': 'logo', 'delim': '...</td>\n",
       "      <td>...</td>\n",
       "      <td>akk</td>\n",
       "      <td></td>\n",
       "      <td>palêya</td>\n",
       "      <td></td>\n",
       "      <td>N</td>\n",
       "      <td></td>\n",
       "      <td>reign (of a king)</td>\n",
       "      <td></td>\n",
       "      <td></td>\n",
       "      <td></td>\n",
       "    </tr>\n",
       "    <tr>\n",
       "      <th>1202632</th>\n",
       "      <td></td>\n",
       "      <td>sakāpu</td>\n",
       "      <td></td>\n",
       "      <td></td>\n",
       "      <td></td>\n",
       "      <td>N</td>\n",
       "      <td></td>\n",
       "      <td></td>\n",
       "      <td>sa-kap</td>\n",
       "      <td>[{'v': 'sa', 'gdl_utf8': '𒊓', 'id': 'Q006221.1...</td>\n",
       "      <td>...</td>\n",
       "      <td>akk</td>\n",
       "      <td></td>\n",
       "      <td>sakāp</td>\n",
       "      <td></td>\n",
       "      <td>V</td>\n",
       "      <td></td>\n",
       "      <td>overthrowing</td>\n",
       "      <td></td>\n",
       "      <td></td>\n",
       "      <td></td>\n",
       "    </tr>\n",
       "    <tr>\n",
       "      <th>1202633</th>\n",
       "      <td></td>\n",
       "      <td>mātu</td>\n",
       "      <td></td>\n",
       "      <td></td>\n",
       "      <td></td>\n",
       "      <td>N</td>\n",
       "      <td></td>\n",
       "      <td></td>\n",
       "      <td>KUR</td>\n",
       "      <td>[{'s': 'KUR', 'gdl_utf8': '𒆳', 'id': 'Q006221....</td>\n",
       "      <td>...</td>\n",
       "      <td>akk</td>\n",
       "      <td></td>\n",
       "      <td>māt</td>\n",
       "      <td></td>\n",
       "      <td>N</td>\n",
       "      <td></td>\n",
       "      <td>land</td>\n",
       "      <td></td>\n",
       "      <td></td>\n",
       "      <td></td>\n",
       "    </tr>\n",
       "    <tr>\n",
       "      <th>1202634</th>\n",
       "      <td></td>\n",
       "      <td>nakru</td>\n",
       "      <td></td>\n",
       "      <td></td>\n",
       "      <td></td>\n",
       "      <td>N</td>\n",
       "      <td></td>\n",
       "      <td></td>\n",
       "      <td>{LU₂}KUR₂-ia</td>\n",
       "      <td>[{'det': 'semantic', 'pos': 'pre', 'seq': [{'s...</td>\n",
       "      <td>...</td>\n",
       "      <td>akk</td>\n",
       "      <td></td>\n",
       "      <td>nakriya</td>\n",
       "      <td></td>\n",
       "      <td>N</td>\n",
       "      <td></td>\n",
       "      <td>enemy</td>\n",
       "      <td></td>\n",
       "      <td></td>\n",
       "      <td></td>\n",
       "    </tr>\n",
       "    <tr>\n",
       "      <th>1202635</th>\n",
       "      <td></td>\n",
       "      <td>epēšu</td>\n",
       "      <td></td>\n",
       "      <td></td>\n",
       "      <td></td>\n",
       "      <td>V</td>\n",
       "      <td></td>\n",
       "      <td></td>\n",
       "      <td>DU₃-ma</td>\n",
       "      <td>[{'s': 'DU₃', 'gdl_utf8': '𒆕', 'id': 'Q006221....</td>\n",
       "      <td>...</td>\n",
       "      <td>akk</td>\n",
       "      <td></td>\n",
       "      <td>īpušma</td>\n",
       "      <td></td>\n",
       "      <td>V</td>\n",
       "      <td></td>\n",
       "      <td>build</td>\n",
       "      <td></td>\n",
       "      <td></td>\n",
       "      <td></td>\n",
       "    </tr>\n",
       "    <tr>\n",
       "      <th>1202636</th>\n",
       "      <td></td>\n",
       "      <td>ana</td>\n",
       "      <td></td>\n",
       "      <td></td>\n",
       "      <td></td>\n",
       "      <td>PRP</td>\n",
       "      <td></td>\n",
       "      <td></td>\n",
       "      <td>a-na</td>\n",
       "      <td>[{'v': 'a', 'gdl_utf8': '𒀀', 'id': 'Q006221.20...</td>\n",
       "      <td>...</td>\n",
       "      <td>akk</td>\n",
       "      <td></td>\n",
       "      <td>ana</td>\n",
       "      <td></td>\n",
       "      <td>PRP</td>\n",
       "      <td></td>\n",
       "      <td>to</td>\n",
       "      <td></td>\n",
       "      <td></td>\n",
       "      <td></td>\n",
       "    </tr>\n",
       "    <tr>\n",
       "      <th>1202637</th>\n",
       "      <td></td>\n",
       "      <td>Adad</td>\n",
       "      <td></td>\n",
       "      <td></td>\n",
       "      <td></td>\n",
       "      <td>DN</td>\n",
       "      <td></td>\n",
       "      <td></td>\n",
       "      <td>{d}IŠKUR</td>\n",
       "      <td>[{'det': 'semantic', 'pos': 'pre', 'seq': [{'v...</td>\n",
       "      <td>...</td>\n",
       "      <td>akk</td>\n",
       "      <td></td>\n",
       "      <td>Adad</td>\n",
       "      <td></td>\n",
       "      <td>DN</td>\n",
       "      <td></td>\n",
       "      <td>1</td>\n",
       "      <td></td>\n",
       "      <td></td>\n",
       "      <td></td>\n",
       "    </tr>\n",
       "    <tr>\n",
       "      <th>1202638</th>\n",
       "      <td></td>\n",
       "      <td>u</td>\n",
       "      <td></td>\n",
       "      <td></td>\n",
       "      <td></td>\n",
       "      <td>CNJ</td>\n",
       "      <td></td>\n",
       "      <td></td>\n",
       "      <td>u</td>\n",
       "      <td>[{'v': 'u', 'gdl_utf8': '𒌋', 'id': 'Q006221.20...</td>\n",
       "      <td>...</td>\n",
       "      <td>akk</td>\n",
       "      <td></td>\n",
       "      <td>u</td>\n",
       "      <td></td>\n",
       "      <td>CNJ</td>\n",
       "      <td></td>\n",
       "      <td>and</td>\n",
       "      <td></td>\n",
       "      <td></td>\n",
       "      <td></td>\n",
       "    </tr>\n",
       "    <tr>\n",
       "      <th>1202639</th>\n",
       "      <td></td>\n",
       "      <td>Apla-Adad</td>\n",
       "      <td></td>\n",
       "      <td></td>\n",
       "      <td></td>\n",
       "      <td>DN</td>\n",
       "      <td></td>\n",
       "      <td></td>\n",
       "      <td>{d}A-{d}IŠKUR</td>\n",
       "      <td>[{'det': 'semantic', 'pos': 'pre', 'seq': [{'v...</td>\n",
       "      <td>...</td>\n",
       "      <td>akk</td>\n",
       "      <td></td>\n",
       "      <td>Apla-Adad</td>\n",
       "      <td></td>\n",
       "      <td>DN</td>\n",
       "      <td></td>\n",
       "      <td>1</td>\n",
       "      <td></td>\n",
       "      <td></td>\n",
       "      <td></td>\n",
       "    </tr>\n",
       "    <tr>\n",
       "      <th>1202640</th>\n",
       "      <td></td>\n",
       "      <td>bēlu</td>\n",
       "      <td></td>\n",
       "      <td></td>\n",
       "      <td></td>\n",
       "      <td>N</td>\n",
       "      <td></td>\n",
       "      <td></td>\n",
       "      <td>EN.MEŠ-e-a</td>\n",
       "      <td>[{'gg': 'logo', 'gdl_type': 'logo', 'delim': '...</td>\n",
       "      <td>...</td>\n",
       "      <td>akk</td>\n",
       "      <td></td>\n",
       "      <td>bēlēya</td>\n",
       "      <td></td>\n",
       "      <td>N</td>\n",
       "      <td></td>\n",
       "      <td>lord</td>\n",
       "      <td></td>\n",
       "      <td></td>\n",
       "      <td></td>\n",
       "    </tr>\n",
       "    <tr>\n",
       "      <th>1202641</th>\n",
       "      <td></td>\n",
       "      <td>qiāšu</td>\n",
       "      <td></td>\n",
       "      <td></td>\n",
       "      <td></td>\n",
       "      <td>V</td>\n",
       "      <td></td>\n",
       "      <td></td>\n",
       "      <td>BA-iš₃</td>\n",
       "      <td>[{'s': 'BA', 'gdl_utf8': '𒁀', 'id': 'Q006221.2...</td>\n",
       "      <td>...</td>\n",
       "      <td>akk</td>\n",
       "      <td></td>\n",
       "      <td>aqīš</td>\n",
       "      <td></td>\n",
       "      <td>V</td>\n",
       "      <td></td>\n",
       "      <td>give</td>\n",
       "      <td></td>\n",
       "      <td></td>\n",
       "      <td></td>\n",
       "    </tr>\n",
       "  </tbody>\n",
       "</table>\n",
       "<p>1202642 rows × 25 columns</p>\n",
       "</div>"
      ],
      "text/plain": [
       "        base              cf cont contrefs delim epos extent field  \\\n",
       "0                      awātu                        N                \n",
       "1                      šarru                        N                \n",
       "2                        ana                      PRP                \n",
       "3                      Ašipa                       PN                \n",
       "4                      šulmu                        N                \n",
       "5                      yâšim                       IP                \n",
       "6                      libbu                        N                \n",
       "7                         lū                      MOD                \n",
       "8                       ṭābu                       AJ                \n",
       "9                        ūmu                        N                \n",
       "10                        ša                      REL                \n",
       "11                    egertu                        N                \n",
       "12                      annû                       DP                \n",
       "13                     amāru                        V                \n",
       "14                                                                   \n",
       "15                                                                   \n",
       "16                                                                   \n",
       "17                                                                   \n",
       "18            Nabu-šezibanni                       PN                \n",
       "19                                                                   \n",
       "20                                                                   \n",
       "21                                                                   \n",
       "22                                                                   \n",
       "23                      lawû                        V                \n",
       "24                                                                   \n",
       "25                                                                   \n",
       "26                                                                   \n",
       "27                                                                   \n",
       "28                                                                   \n",
       "29                                                                   \n",
       "...      ...             ...  ...      ...   ...  ...    ...   ...   \n",
       "1202612                  ilu                        N                \n",
       "1202613               wāšibu                        N                \n",
       "1202614                 Anat                       SN                \n",
       "1202615                 bēlu                        N                \n",
       "1202616              labāriš                       AV                \n",
       "1202617                alāku                        V                \n",
       "1202618               paṭāru                        V                \n",
       "1202619                                                              \n",
       "1202620                akītu                        N                \n",
       "1202621                šuāti                       IP                \n",
       "1202622               danānu                        V                \n",
       "1202623                  ana                      PRP                \n",
       "1202624               balāṭu                        N                \n",
       "1202625              napištu                        N                \n",
       "1202626               šalāmu                        N                \n",
       "1202627                 zēru                        N                \n",
       "1202628                arāku                        N                \n",
       "1202629                  ūmu                        N                \n",
       "1202630                 kânu                        N                \n",
       "1202631                 palû                        N                \n",
       "1202632               sakāpu                        N                \n",
       "1202633                 mātu                        N                \n",
       "1202634                nakru                        N                \n",
       "1202635                epēšu                        V                \n",
       "1202636                  ana                      PRP                \n",
       "1202637                 Adad                       DN                \n",
       "1202638                    u                      CNJ                \n",
       "1202639            Apla-Adad                       DN                \n",
       "1202640                 bēlu                        N                \n",
       "1202641                qiāšu                        V                \n",
       "\n",
       "                          form  \\\n",
       "0                        a-bat   \n",
       "1                        LUGAL   \n",
       "2                         a-na   \n",
       "3                 {1}a-ši-pa-a   \n",
       "4                        DI-mu   \n",
       "5                      ia-a-ši   \n",
       "6                    ŠA₃-ba-ka   \n",
       "7                           lu   \n",
       "8                   DUG₃.GA-ka   \n",
       "9                        UD-mu   \n",
       "10                          ša   \n",
       "11                  e-gir₂-tu₂   \n",
       "12                   an-ni-tu₂   \n",
       "13                 ta-mar-u-ni   \n",
       "14                           x   \n",
       "15                           x   \n",
       "16                           x   \n",
       "17                         x+x   \n",
       "18       {1}{d}PA-še-zib-an-ni   \n",
       "19                           x   \n",
       "20                           x   \n",
       "21                           x   \n",
       "22                           x   \n",
       "23                 i-lab-bu-ni   \n",
       "24                           x   \n",
       "25                           x   \n",
       "26                           x   \n",
       "27                           x   \n",
       "28                           x   \n",
       "29                           x   \n",
       "...                        ...   \n",
       "1202612             DINGIR.MEŠ   \n",
       "1202613                  a-šib   \n",
       "1202614             {URU}an-at   \n",
       "1202615             EN.MEŠ-e-a   \n",
       "1202616              la-ba-riš   \n",
       "1202617              il-lik-ma   \n",
       "1202618           up-te-eṭ-ṭir   \n",
       "1202619                      x   \n",
       "1202620               a-ki-tu₄   \n",
       "1202621                UR₅-tu₂   \n",
       "1202622          u₂-dan-nin-ma   \n",
       "1202623                   a-na   \n",
       "1202624                 ba-laṭ   \n",
       "1202625              ZI.MEŠ-ia   \n",
       "1202626                ša₂-lam   \n",
       "1202627               NUMUN-ia   \n",
       "1202628                GID₂.DA   \n",
       "1202629              UD.MEŠ-ia   \n",
       "1202630                  ku-un   \n",
       "1202631           BALA.MEŠ-e-a   \n",
       "1202632                 sa-kap   \n",
       "1202633                    KUR   \n",
       "1202634           {LU₂}KUR₂-ia   \n",
       "1202635                 DU₃-ma   \n",
       "1202636                   a-na   \n",
       "1202637               {d}IŠKUR   \n",
       "1202638                      u   \n",
       "1202639          {d}A-{d}IŠKUR   \n",
       "1202640             EN.MEŠ-e-a   \n",
       "1202641                 BA-iš₃   \n",
       "\n",
       "                                                       gdl       ...        \\\n",
       "0        [{'v': 'a', 'gdl_utf8': '𒀀', 'id': 'P334190.2....       ...         \n",
       "1        [{'gg': 'logo', 'gdl_type': 'logo', 'group': [...       ...         \n",
       "2        [{'v': 'a', 'gdl_utf8': '𒀀', 'id': 'P334190.2....       ...         \n",
       "3        [{'det': 'semantic', 'pos': 'pre', 'seq': [{'n...       ...         \n",
       "4        [{'gg': 'logo', 'gdl_type': 'logo', 'group': [...       ...         \n",
       "5        [{'v': 'ia', 'gdl_utf8': '𒅀', 'id': 'P334190.3...       ...         \n",
       "6        [{'gg': 'logo', 'gdl_type': 'logo', 'group': [...       ...         \n",
       "7        [{'v': 'lu', 'gdl_utf8': '𒇻', 'id': 'P334190.4...       ...         \n",
       "8        [{'gg': 'logo', 'gdl_type': 'logo', 'group': [...       ...         \n",
       "9        [{'gg': 'logo', 'gdl_type': 'logo', 'group': [...       ...         \n",
       "10       [{'v': 'ša', 'gdl_utf8': '𒊭', 'id': 'P334190.5...       ...         \n",
       "11       [{'v': 'e', 'gdl_utf8': '𒂊', 'id': 'P334190.5....       ...         \n",
       "12       [{'v': 'an', 'gdl_utf8': '𒀭', 'id': 'P334190.6...       ...         \n",
       "13       [{'v': 'ta', 'gdl_utf8': '𒋫', 'id': 'P334190.6...       ...         \n",
       "14       [{'v': 'x', 'gdl_utf8': 'x', 'id': 'P334190.7....       ...         \n",
       "15       [{'v': 'x', 'gdl_utf8': 'x', 'id': 'P334190.7....       ...         \n",
       "16       [{'v': 'x', 'gdl_utf8': 'x', 'id': 'P334190.7....       ...         \n",
       "17       [{'gg': 'ligature', 'gdl_type': 'ligature', 'g...       ...         \n",
       "18       [{'gg': 'logo', 'gdl_type': 'logo', 'group': [...       ...         \n",
       "19       [{'v': 'x', 'gdl_utf8': 'x', 'id': 'P334190.8....       ...         \n",
       "20       [{'v': 'x', 'gdl_utf8': 'x', 'id': 'P334190.8....       ...         \n",
       "21       [{'v': 'x', 'gdl_utf8': 'x', 'id': 'P334190.8....       ...         \n",
       "22       [{'v': 'x', 'gdl_utf8': 'x', 'id': 'P334190.8....       ...         \n",
       "23       [{'v': 'i', 'gdl_utf8': '𒄿', 'id': 'P334190.8....       ...         \n",
       "24       [{'v': 'x', 'gdl_utf8': 'x', 'id': 'P334190.9....       ...         \n",
       "25       [{'v': 'x', 'gdl_utf8': 'x', 'id': 'P334190.9....       ...         \n",
       "26       [{'v': 'x', 'gdl_utf8': 'x', 'id': 'P334190.9....       ...         \n",
       "27       [{'v': 'x', 'gdl_utf8': 'x', 'id': 'P334190.9....       ...         \n",
       "28       [{'v': 'x', 'gdl_utf8': 'x', 'id': 'P334190.9....       ...         \n",
       "29       [{'v': 'x', 'gdl_utf8': 'x', 'id': 'P334190.9....       ...         \n",
       "...                                                    ...       ...         \n",
       "1202612  [{'gg': 'logo', 'gdl_type': 'logo', 'group': [...       ...         \n",
       "1202613  [{'v': 'a', 'gdl_utf8': '𒀀', 'id': 'Q006221.15...       ...         \n",
       "1202614  [{'det': 'semantic', 'pos': 'pre', 'seq': [{'s...       ...         \n",
       "1202615  [{'gg': 'logo', 'gdl_type': 'logo', 'delim': '...       ...         \n",
       "1202616  [{'v': 'la', 'gdl_utf8': '𒆷', 'id': 'Q006221.1...       ...         \n",
       "1202617  [{'v': 'il', 'gdl_utf8': '𒅋', 'id': 'Q006221.1...       ...         \n",
       "1202618  [{'v': 'up', 'gdl_utf8': '𒌒', 'id': 'Q006221.1...       ...         \n",
       "1202619  [{'v': 'x', 'gdl_utf8': 'x', 'id': 'Q006221.16...       ...         \n",
       "1202620  [{'v': 'a', 'gdl_utf8': '𒀀', 'id': 'Q006221.17...       ...         \n",
       "1202621  [{'s': 'UR₅', 'gdl_utf8': '𒄯', 'id': 'Q006221....       ...         \n",
       "1202622  [{'v': 'u₂', 'gdl_utf8': '𒌑', 'id': 'Q006221.1...       ...         \n",
       "1202623  [{'v': 'a', 'gdl_utf8': '𒀀', 'id': 'Q006221.17...       ...         \n",
       "1202624  [{'v': 'ba', 'gdl_utf8': '𒁀', 'id': 'Q006221.1...       ...         \n",
       "1202625  [{'gg': 'logo', 'gdl_type': 'logo', 'delim': '...       ...         \n",
       "1202626  [{'v': 'ša₂', 'gdl_utf8': '𒃻', 'id': 'Q006221....       ...         \n",
       "1202627  [{'s': 'NUMUN', 'gdl_utf8': '𒆰', 'id': 'Q00622...       ...         \n",
       "1202628  [{'gg': 'logo', 'gdl_type': 'logo', 'group': [...       ...         \n",
       "1202629  [{'gg': 'logo', 'gdl_type': 'logo', 'delim': '...       ...         \n",
       "1202630  [{'v': 'ku', 'gdl_utf8': '𒆪', 'id': 'Q006221.1...       ...         \n",
       "1202631  [{'gg': 'logo', 'gdl_type': 'logo', 'delim': '...       ...         \n",
       "1202632  [{'v': 'sa', 'gdl_utf8': '𒊓', 'id': 'Q006221.1...       ...         \n",
       "1202633  [{'s': 'KUR', 'gdl_utf8': '𒆳', 'id': 'Q006221....       ...         \n",
       "1202634  [{'det': 'semantic', 'pos': 'pre', 'seq': [{'s...       ...         \n",
       "1202635  [{'s': 'DU₃', 'gdl_utf8': '𒆕', 'id': 'Q006221....       ...         \n",
       "1202636  [{'v': 'a', 'gdl_utf8': '𒀀', 'id': 'Q006221.20...       ...         \n",
       "1202637  [{'det': 'semantic', 'pos': 'pre', 'seq': [{'v...       ...         \n",
       "1202638  [{'v': 'u', 'gdl_utf8': '𒌋', 'id': 'Q006221.20...       ...         \n",
       "1202639  [{'det': 'semantic', 'pos': 'pre', 'seq': [{'v...       ...         \n",
       "1202640  [{'gg': 'logo', 'gdl_type': 'logo', 'delim': '...       ...         \n",
       "1202641  [{'s': 'BA', 'gdl_utf8': '𒁀', 'id': 'Q006221.2...       ...         \n",
       "\n",
       "                 lang morph            norm norm0  pos scope  \\\n",
       "0        akk-x-neoass                  abat          N         \n",
       "1        akk-x-neoass                 šarri          N         \n",
       "2        akk-x-neoass                   ana        PRP         \n",
       "3        akk-x-neoass                 Ašipa         PN         \n",
       "4        akk-x-neoass                 šulmu          N         \n",
       "5        akk-x-neoass                 ayāši         IP         \n",
       "6        akk-x-neoass               libbaka          N         \n",
       "7        akk-x-neoass                    lū        MOD         \n",
       "8        akk-x-neoass                 ṭābka         AJ         \n",
       "9        akk-x-neoass                   ūmu          N         \n",
       "10       akk-x-neoass                    ša        REL         \n",
       "11       akk-x-neoass                egertu          N         \n",
       "12       akk-x-neoass                annītu         DP         \n",
       "13       akk-x-neoass             tammarūni          V         \n",
       "14       akk-x-neoass                                u         \n",
       "15       akk-x-neoass                                u         \n",
       "16       akk-x-neoass                                u         \n",
       "17       akk-x-neoass                                u         \n",
       "18       akk-x-neoass        Nabu-šezibanni         PN         \n",
       "19       akk-x-neoass                                u         \n",
       "20       akk-x-neoass                                u         \n",
       "21       akk-x-neoass                                u         \n",
       "22       akk-x-neoass                                u         \n",
       "23       akk-x-neoass              ilabbûni          V         \n",
       "24       akk-x-neoass                                u         \n",
       "25       akk-x-neoass                                u         \n",
       "26       akk-x-neoass                                u         \n",
       "27       akk-x-neoass                                u         \n",
       "28       akk-x-neoass                                u         \n",
       "29       akk-x-neoass                                u         \n",
       "...               ...   ...             ...   ...  ...   ...   \n",
       "1202612           akk                 ilāni          N         \n",
       "1202613           akk                  āšib          N         \n",
       "1202614           akk                  Anat         SN         \n",
       "1202615           akk                bēlēya          N         \n",
       "1202616           akk               labāriš         AV         \n",
       "1202617           akk               illikma          V         \n",
       "1202618           akk              upteṭṭir          V         \n",
       "1202619           akk                                u         \n",
       "1202620           akk                 akītu          N         \n",
       "1202621           akk                 šuātu         IP         \n",
       "1202622           akk             udanninma          V         \n",
       "1202623           akk                   ana        PRP         \n",
       "1202624           akk                 balāṭ          V         \n",
       "1202625           akk             napšātiya          N         \n",
       "1202626           akk                 šalām          V         \n",
       "1202627           akk                zēriya          N         \n",
       "1202628           akk                 urruk          V         \n",
       "1202629           akk                 ūmēya          N         \n",
       "1202630           akk                   kūn          V         \n",
       "1202631           akk                palêya          N         \n",
       "1202632           akk                 sakāp          V         \n",
       "1202633           akk                   māt          N         \n",
       "1202634           akk               nakriya          N         \n",
       "1202635           akk                īpušma          V         \n",
       "1202636           akk                   ana        PRP         \n",
       "1202637           akk                  Adad         DN         \n",
       "1202638           akk                     u        CNJ         \n",
       "1202639           akk             Apla-Adad         DN         \n",
       "1202640           akk                bēlēya          N         \n",
       "1202641           akk                  aqīš          V         \n",
       "\n",
       "                       sense state stem syntax_ub-after  \n",
       "0                       word                             \n",
       "1                       king                             \n",
       "2                         to                             \n",
       "3                          1                             \n",
       "4                     health                             \n",
       "5                         me                             \n",
       "6                       mood                             \n",
       "7                        may                             \n",
       "8                       good                             \n",
       "9                        day                             \n",
       "10                      that                             \n",
       "11                    letter                             \n",
       "12                      this                             \n",
       "13                       see                             \n",
       "14                                                       \n",
       "15                                                       \n",
       "16                                                       \n",
       "17                                                       \n",
       "18                         1                             \n",
       "19                                                       \n",
       "20                                                       \n",
       "21                                                       \n",
       "22                                                       \n",
       "23                  surround                             \n",
       "24                                                       \n",
       "25                                                       \n",
       "26                                                       \n",
       "27                                                       \n",
       "28                                                       \n",
       "29                                                       \n",
       "...                      ...   ...  ...             ...  \n",
       "1202612                  god                             \n",
       "1202613           inhabitant                             \n",
       "1202614                    1                             \n",
       "1202615                 lord                             \n",
       "1202616        to become old                             \n",
       "1202617                   go                             \n",
       "1202618           fall apart                             \n",
       "1202619                                                  \n",
       "1202620  (a festival temple)                             \n",
       "1202621                 that                             \n",
       "1202622           strengthen                             \n",
       "1202623                  for                             \n",
       "1202624         preservation                             \n",
       "1202625                 life                             \n",
       "1202626           well-being                             \n",
       "1202627            offspring                             \n",
       "1202628          lengthening                             \n",
       "1202629                  day                             \n",
       "1202630             securing                             \n",
       "1202631    reign (of a king)                             \n",
       "1202632         overthrowing                             \n",
       "1202633                 land                             \n",
       "1202634                enemy                             \n",
       "1202635                build                             \n",
       "1202636                   to                             \n",
       "1202637                    1                             \n",
       "1202638                  and                             \n",
       "1202639                    1                             \n",
       "1202640                 lord                             \n",
       "1202641                 give                             \n",
       "\n",
       "[1202642 rows x 25 columns]"
      ]
     },
     "execution_count": 7,
     "metadata": {},
     "output_type": "execute_result"
    }
   ],
   "source": [
    "words_df = pd.DataFrame(lemm_l)\n",
    "words_df = words_df.fillna('')   # replace NaN (Not a Number) with empty string\n",
    "words_df"
   ]
  },
  {
   "cell_type": "markdown",
   "metadata": {},
   "source": [
    "## 3.2 Remove Spaces and Commas from Guide Word and Sense\n",
    "Spaces and commas in Guide Word and Sense may cause trouble in computational methods in tokenization, or when saved in Comma Separated Values format. All spaces and commas are replaced by hyphens and nothing (empty string), respectively. By default the `replace()` function in `pandas` will match the entire string (that is, \"lugal\" matches \"lugal\" but there is no match between \"l\" and \"lugal\"). In order to match partial strings the parameter `regex` must be set to `True`.\n",
    "\n",
    "The `replace()` function takes a nested dictionary as argument. The top-level keys identify the columns on which the `replace()` function should operate (in this case 'gw' and 'sense'). The value of each key is another dictionary with the search string as key and the replace string as value."
   ]
  },
  {
   "cell_type": "code",
   "execution_count": 8,
   "metadata": {},
   "outputs": [],
   "source": [
    "findreplace = {' ' : '-', ',' : ''}\n",
    "words_df = words_df.replace({'gw' : findreplace, 'sense' : findreplace}, regex=True)"
   ]
  },
  {
   "cell_type": "markdown",
   "metadata": {},
   "source": [
    "The columns in the resulting DataFrame correspond to the elements of a full [ORACC](http://oracc.org) signature, plus information about text, line, and word ids:\n",
    "* base (Sumerian only)\n",
    "* cf (Citation Form)\n",
    "* cont (continuation of the base; Sumerian only)\n",
    "* epos (Effective Part of Speech)\n",
    "* form (transliteration, omitting all flags such as indication of breakage)\n",
    "* frag (transliteration; including flags)\n",
    "* gdl_utf8 (cuneiform)\n",
    "* gw (Guide Word: main or first translation in standard dictionary)\n",
    "* id_text (six-digit P, Q, or X number)\n",
    "* id_word (word ID in the format Text_ID.Line_ID.Word_ID)\n",
    "* label (traditional line number in the form o ii 2' (obverse column 2 line 2'), etc.)\n",
    "* lang (language code, including sux, sux-x-emegir, sux-x-emesal, akk, akk-x-stdbab, etc)\n",
    "* morph (Morphology; Sumerian only)\n",
    "* norm (Normalization: Akkadian)\n",
    "* norm0 (Normalization: Sumerian)\n",
    "* pos (Part of Speech)\n",
    "* sense (contextual meaning)\n",
    "* sig (full ORACC signature)\n",
    "\n",
    "Not all data elements (columns) are available for all words. Sumerian words never have a `norm`, Akkadian words do not have `norm0`, `base`, `cont`, or `morph`. Most data elements are only present when the word is lemmatized; only `lang`, `form`, `id_word`, and `id_text` should always be there."
   ]
  },
  {
   "cell_type": "markdown",
   "metadata": {},
   "source": [
    "## Create Line ID\n",
    "The DataFrame currently has a word-by-word data representation. We will add to each word a field `id_line` that will make it possible to reconstruct lines. This newly created field `id_line` is different from a traditional line number (found in the field \"label\") in two ways. First, id_line is an integer, so that lines are sorted correctly. Second, `id_line` is assigned to words, but also to gaps and horizontal drawings on the tablet. The field `id_line` will allow us to keep all these elements in their proper order.\n",
    "\n",
    "The field \"id_line\" is created by splitting the field \"id_word\" into (two or) three elements. The format of \"id_word\" is IDtext.line.word. The middle part, id_line, is selected and its data type is changed from string to integer. Rows that represent gaps in the text or horizontal drawings have an \"id_word\" in the format IDtext.line (consisting of only two elements), but are treated in exactly the same way."
   ]
  },
  {
   "cell_type": "code",
   "execution_count": 9,
   "metadata": {},
   "outputs": [],
   "source": [
    "words_df['id_line'] = [int(wordid.split('.')[1]) for wordid in words_df['id_word']]"
   ]
  },
  {
   "cell_type": "markdown",
   "metadata": {},
   "source": [
    "## 4 Save Results in CSV file or in Pickle\n",
    "The output file is called `parsed.csv` and is placed in the directory `output`. In most computers, `csv` files open automatically in Excel. This program does not deal well with `utf-8` encoding (files in `utf-8` need to be imported; see the instructions [here](https://www.itg.ias.edu/content/how-import-csv-file-uses-utf-8-character-encoding-0). If you intend to use the file in Excel, change `encoding ='utf-8'` to `encoding='utf-16'`. For usage in computational text analysis applications `utf-8` is usually preferred. \n",
    "\n",
    "The Pandas function `to_pickle()` writes a binary file that can be opened in a later phase of the project with the `read_pickle()` command and will reproduce exactly the same DataFrame with the same data structure. The resulting file cannot be used in other programs."
   ]
  },
  {
   "cell_type": "code",
   "execution_count": null,
   "metadata": {
    "scrolled": true
   },
   "outputs": [],
   "source": [
    "savefile =  'parsed.csv'\n",
    "with open('output/' + savefile, 'w', encoding=\"utf-8\") as w:\n",
    "    words_df.to_csv(w, index=False)\n",
    "pickled = \"parsed.p\"\n",
    "with open('output/' + pickled, 'wb') as w:\n",
    "    words_df.to_pickle(w)"
   ]
  },
  {
   "cell_type": "markdown",
   "metadata": {},
   "source": [
    "# 5 Post Processing\n",
    "# 5.1 Manipulate for Analysis on Line level\n",
    "For analyses that use a line as unit of analysis (e.g. lines in lexical texts as used in Chapter 3) one may need to create lemmas and combine these into lines by using the `id_line` variable."
   ]
  },
  {
   "cell_type": "markdown",
   "metadata": {},
   "source": [
    "## 5.1.1 Create Lemma Column\n",
    "A lemma, [ORACC](http://oracc.org) style, combines Citation Form, GuideWord and POS into a unique reference to one particular lemma in a standard dictionary, as in `lugal[king]N` (Sumerian) or `šarru[king]N`. Usually, not all words in a text are lemmatized, because a word may be (partly) broken and/or unknown. Unlemmatized and unlemmatizable words will receive a place-holder lemmatization that consists of the transliteration of the word (instead of the Citation Form), with `NA` as GuideWord and `NA` as POS, as in `i-bu-x[NA]NA`. Note that `NA` is a string. Finally, rows representing horizontal rulings or broken lines have the empty string in both Citation Form and Form. In those cases Lemma should have the empty string, too."
   ]
  },
  {
   "cell_type": "code",
   "execution_count": 11,
   "metadata": {
    "scrolled": false
   },
   "outputs": [
    {
     "data": {
      "text/html": [
       "<div>\n",
       "<style scoped>\n",
       "    .dataframe tbody tr th:only-of-type {\n",
       "        vertical-align: middle;\n",
       "    }\n",
       "\n",
       "    .dataframe tbody tr th {\n",
       "        vertical-align: top;\n",
       "    }\n",
       "\n",
       "    .dataframe thead th {\n",
       "        text-align: right;\n",
       "    }\n",
       "</style>\n",
       "<table border=\"1\" class=\"dataframe\">\n",
       "  <thead>\n",
       "    <tr style=\"text-align: right;\">\n",
       "      <th></th>\n",
       "      <th>base</th>\n",
       "      <th>cf</th>\n",
       "      <th>cont</th>\n",
       "      <th>contrefs</th>\n",
       "      <th>delim</th>\n",
       "      <th>epos</th>\n",
       "      <th>extent</th>\n",
       "      <th>field</th>\n",
       "      <th>form</th>\n",
       "      <th>gdl</th>\n",
       "      <th>...</th>\n",
       "      <th>norm</th>\n",
       "      <th>norm0</th>\n",
       "      <th>pos</th>\n",
       "      <th>scope</th>\n",
       "      <th>sense</th>\n",
       "      <th>state</th>\n",
       "      <th>stem</th>\n",
       "      <th>syntax_ub-after</th>\n",
       "      <th>id_line</th>\n",
       "      <th>lemma</th>\n",
       "    </tr>\n",
       "  </thead>\n",
       "  <tbody>\n",
       "    <tr>\n",
       "      <th>0</th>\n",
       "      <td></td>\n",
       "      <td>awātu</td>\n",
       "      <td></td>\n",
       "      <td></td>\n",
       "      <td></td>\n",
       "      <td>N</td>\n",
       "      <td></td>\n",
       "      <td></td>\n",
       "      <td>a-bat</td>\n",
       "      <td>[{'v': 'a', 'gdl_utf8': '𒀀', 'id': 'P334190.2....</td>\n",
       "      <td>...</td>\n",
       "      <td>abat</td>\n",
       "      <td></td>\n",
       "      <td>N</td>\n",
       "      <td></td>\n",
       "      <td>word</td>\n",
       "      <td></td>\n",
       "      <td></td>\n",
       "      <td></td>\n",
       "      <td>2</td>\n",
       "      <td>awātu[word]N</td>\n",
       "    </tr>\n",
       "    <tr>\n",
       "      <th>1</th>\n",
       "      <td></td>\n",
       "      <td>šarru</td>\n",
       "      <td></td>\n",
       "      <td></td>\n",
       "      <td></td>\n",
       "      <td>N</td>\n",
       "      <td></td>\n",
       "      <td></td>\n",
       "      <td>LUGAL</td>\n",
       "      <td>[{'gg': 'logo', 'gdl_type': 'logo', 'group': [...</td>\n",
       "      <td>...</td>\n",
       "      <td>šarri</td>\n",
       "      <td></td>\n",
       "      <td>N</td>\n",
       "      <td></td>\n",
       "      <td>king</td>\n",
       "      <td></td>\n",
       "      <td></td>\n",
       "      <td></td>\n",
       "      <td>2</td>\n",
       "      <td>šarru[king]N</td>\n",
       "    </tr>\n",
       "    <tr>\n",
       "      <th>2</th>\n",
       "      <td></td>\n",
       "      <td>ana</td>\n",
       "      <td></td>\n",
       "      <td></td>\n",
       "      <td></td>\n",
       "      <td>PRP</td>\n",
       "      <td></td>\n",
       "      <td></td>\n",
       "      <td>a-na</td>\n",
       "      <td>[{'v': 'a', 'gdl_utf8': '𒀀', 'id': 'P334190.2....</td>\n",
       "      <td>...</td>\n",
       "      <td>ana</td>\n",
       "      <td></td>\n",
       "      <td>PRP</td>\n",
       "      <td></td>\n",
       "      <td>to</td>\n",
       "      <td></td>\n",
       "      <td></td>\n",
       "      <td></td>\n",
       "      <td>2</td>\n",
       "      <td>ana[to]PRP</td>\n",
       "    </tr>\n",
       "    <tr>\n",
       "      <th>3</th>\n",
       "      <td></td>\n",
       "      <td>Ašipa</td>\n",
       "      <td></td>\n",
       "      <td></td>\n",
       "      <td></td>\n",
       "      <td>PN</td>\n",
       "      <td></td>\n",
       "      <td></td>\n",
       "      <td>{1}a-ši-pa-a</td>\n",
       "      <td>[{'det': 'semantic', 'pos': 'pre', 'seq': [{'n...</td>\n",
       "      <td>...</td>\n",
       "      <td>Ašipa</td>\n",
       "      <td></td>\n",
       "      <td>PN</td>\n",
       "      <td></td>\n",
       "      <td>1</td>\n",
       "      <td></td>\n",
       "      <td></td>\n",
       "      <td></td>\n",
       "      <td>2</td>\n",
       "      <td>Ašipa[1]PN</td>\n",
       "    </tr>\n",
       "    <tr>\n",
       "      <th>4</th>\n",
       "      <td></td>\n",
       "      <td>šulmu</td>\n",
       "      <td></td>\n",
       "      <td></td>\n",
       "      <td></td>\n",
       "      <td>N</td>\n",
       "      <td></td>\n",
       "      <td></td>\n",
       "      <td>DI-mu</td>\n",
       "      <td>[{'gg': 'logo', 'gdl_type': 'logo', 'group': [...</td>\n",
       "      <td>...</td>\n",
       "      <td>šulmu</td>\n",
       "      <td></td>\n",
       "      <td>N</td>\n",
       "      <td></td>\n",
       "      <td>health</td>\n",
       "      <td></td>\n",
       "      <td></td>\n",
       "      <td></td>\n",
       "      <td>3</td>\n",
       "      <td>šulmu[completeness]N</td>\n",
       "    </tr>\n",
       "    <tr>\n",
       "      <th>5</th>\n",
       "      <td></td>\n",
       "      <td>yâšim</td>\n",
       "      <td></td>\n",
       "      <td></td>\n",
       "      <td></td>\n",
       "      <td>IP</td>\n",
       "      <td></td>\n",
       "      <td></td>\n",
       "      <td>ia-a-ši</td>\n",
       "      <td>[{'v': 'ia', 'gdl_utf8': '𒅀', 'id': 'P334190.3...</td>\n",
       "      <td>...</td>\n",
       "      <td>ayāši</td>\n",
       "      <td></td>\n",
       "      <td>IP</td>\n",
       "      <td></td>\n",
       "      <td>me</td>\n",
       "      <td></td>\n",
       "      <td></td>\n",
       "      <td></td>\n",
       "      <td>3</td>\n",
       "      <td>yâšim[to-me]IP</td>\n",
       "    </tr>\n",
       "    <tr>\n",
       "      <th>6</th>\n",
       "      <td></td>\n",
       "      <td>libbu</td>\n",
       "      <td></td>\n",
       "      <td></td>\n",
       "      <td></td>\n",
       "      <td>N</td>\n",
       "      <td></td>\n",
       "      <td></td>\n",
       "      <td>ŠA₃-ba-ka</td>\n",
       "      <td>[{'gg': 'logo', 'gdl_type': 'logo', 'group': [...</td>\n",
       "      <td>...</td>\n",
       "      <td>libbaka</td>\n",
       "      <td></td>\n",
       "      <td>N</td>\n",
       "      <td></td>\n",
       "      <td>mood</td>\n",
       "      <td></td>\n",
       "      <td></td>\n",
       "      <td></td>\n",
       "      <td>4</td>\n",
       "      <td>libbu[interior]N</td>\n",
       "    </tr>\n",
       "    <tr>\n",
       "      <th>7</th>\n",
       "      <td></td>\n",
       "      <td>lū</td>\n",
       "      <td></td>\n",
       "      <td></td>\n",
       "      <td></td>\n",
       "      <td>MOD</td>\n",
       "      <td></td>\n",
       "      <td></td>\n",
       "      <td>lu</td>\n",
       "      <td>[{'v': 'lu', 'gdl_utf8': '𒇻', 'id': 'P334190.4...</td>\n",
       "      <td>...</td>\n",
       "      <td>lū</td>\n",
       "      <td></td>\n",
       "      <td>MOD</td>\n",
       "      <td></td>\n",
       "      <td>may</td>\n",
       "      <td></td>\n",
       "      <td></td>\n",
       "      <td></td>\n",
       "      <td>4</td>\n",
       "      <td>lū[may]MOD</td>\n",
       "    </tr>\n",
       "    <tr>\n",
       "      <th>8</th>\n",
       "      <td></td>\n",
       "      <td>ṭābu</td>\n",
       "      <td></td>\n",
       "      <td></td>\n",
       "      <td></td>\n",
       "      <td>AJ</td>\n",
       "      <td></td>\n",
       "      <td></td>\n",
       "      <td>DUG₃.GA-ka</td>\n",
       "      <td>[{'gg': 'logo', 'gdl_type': 'logo', 'group': [...</td>\n",
       "      <td>...</td>\n",
       "      <td>ṭābka</td>\n",
       "      <td></td>\n",
       "      <td>AJ</td>\n",
       "      <td></td>\n",
       "      <td>good</td>\n",
       "      <td></td>\n",
       "      <td></td>\n",
       "      <td></td>\n",
       "      <td>4</td>\n",
       "      <td>ṭābu[good]AJ</td>\n",
       "    </tr>\n",
       "    <tr>\n",
       "      <th>9</th>\n",
       "      <td></td>\n",
       "      <td>ūmu</td>\n",
       "      <td></td>\n",
       "      <td></td>\n",
       "      <td></td>\n",
       "      <td>N</td>\n",
       "      <td></td>\n",
       "      <td></td>\n",
       "      <td>UD-mu</td>\n",
       "      <td>[{'gg': 'logo', 'gdl_type': 'logo', 'group': [...</td>\n",
       "      <td>...</td>\n",
       "      <td>ūmu</td>\n",
       "      <td></td>\n",
       "      <td>N</td>\n",
       "      <td></td>\n",
       "      <td>day</td>\n",
       "      <td></td>\n",
       "      <td></td>\n",
       "      <td></td>\n",
       "      <td>5</td>\n",
       "      <td>ūmu[day]N</td>\n",
       "    </tr>\n",
       "    <tr>\n",
       "      <th>10</th>\n",
       "      <td></td>\n",
       "      <td>ša</td>\n",
       "      <td></td>\n",
       "      <td></td>\n",
       "      <td></td>\n",
       "      <td>REL</td>\n",
       "      <td></td>\n",
       "      <td></td>\n",
       "      <td>ša</td>\n",
       "      <td>[{'v': 'ša', 'gdl_utf8': '𒊭', 'id': 'P334190.5...</td>\n",
       "      <td>...</td>\n",
       "      <td>ša</td>\n",
       "      <td></td>\n",
       "      <td>REL</td>\n",
       "      <td></td>\n",
       "      <td>that</td>\n",
       "      <td></td>\n",
       "      <td></td>\n",
       "      <td></td>\n",
       "      <td>5</td>\n",
       "      <td>ša[that]REL</td>\n",
       "    </tr>\n",
       "    <tr>\n",
       "      <th>11</th>\n",
       "      <td></td>\n",
       "      <td>egertu</td>\n",
       "      <td></td>\n",
       "      <td></td>\n",
       "      <td></td>\n",
       "      <td>N</td>\n",
       "      <td></td>\n",
       "      <td></td>\n",
       "      <td>e-gir₂-tu₂</td>\n",
       "      <td>[{'v': 'e', 'gdl_utf8': '𒂊', 'id': 'P334190.5....</td>\n",
       "      <td>...</td>\n",
       "      <td>egertu</td>\n",
       "      <td></td>\n",
       "      <td>N</td>\n",
       "      <td></td>\n",
       "      <td>letter</td>\n",
       "      <td></td>\n",
       "      <td></td>\n",
       "      <td></td>\n",
       "      <td>5</td>\n",
       "      <td>egertu[inscribed-tablet]N</td>\n",
       "    </tr>\n",
       "    <tr>\n",
       "      <th>12</th>\n",
       "      <td></td>\n",
       "      <td>annû</td>\n",
       "      <td></td>\n",
       "      <td></td>\n",
       "      <td></td>\n",
       "      <td>DP</td>\n",
       "      <td></td>\n",
       "      <td></td>\n",
       "      <td>an-ni-tu₂</td>\n",
       "      <td>[{'v': 'an', 'gdl_utf8': '𒀭', 'id': 'P334190.6...</td>\n",
       "      <td>...</td>\n",
       "      <td>annītu</td>\n",
       "      <td></td>\n",
       "      <td>DP</td>\n",
       "      <td></td>\n",
       "      <td>this</td>\n",
       "      <td></td>\n",
       "      <td></td>\n",
       "      <td></td>\n",
       "      <td>6</td>\n",
       "      <td>annû[this]DP</td>\n",
       "    </tr>\n",
       "    <tr>\n",
       "      <th>13</th>\n",
       "      <td></td>\n",
       "      <td>amāru</td>\n",
       "      <td></td>\n",
       "      <td></td>\n",
       "      <td></td>\n",
       "      <td>V</td>\n",
       "      <td></td>\n",
       "      <td></td>\n",
       "      <td>ta-mar-u-ni</td>\n",
       "      <td>[{'v': 'ta', 'gdl_utf8': '𒋫', 'id': 'P334190.6...</td>\n",
       "      <td>...</td>\n",
       "      <td>tammarūni</td>\n",
       "      <td></td>\n",
       "      <td>V</td>\n",
       "      <td></td>\n",
       "      <td>see</td>\n",
       "      <td></td>\n",
       "      <td></td>\n",
       "      <td></td>\n",
       "      <td>6</td>\n",
       "      <td>amāru[see]V</td>\n",
       "    </tr>\n",
       "    <tr>\n",
       "      <th>14</th>\n",
       "      <td></td>\n",
       "      <td></td>\n",
       "      <td></td>\n",
       "      <td></td>\n",
       "      <td></td>\n",
       "      <td></td>\n",
       "      <td></td>\n",
       "      <td></td>\n",
       "      <td>x</td>\n",
       "      <td>[{'v': 'x', 'gdl_utf8': 'x', 'id': 'P334190.7....</td>\n",
       "      <td>...</td>\n",
       "      <td></td>\n",
       "      <td></td>\n",
       "      <td>u</td>\n",
       "      <td></td>\n",
       "      <td></td>\n",
       "      <td></td>\n",
       "      <td></td>\n",
       "      <td></td>\n",
       "      <td>7</td>\n",
       "      <td>x[NA]NA</td>\n",
       "    </tr>\n",
       "    <tr>\n",
       "      <th>15</th>\n",
       "      <td></td>\n",
       "      <td></td>\n",
       "      <td></td>\n",
       "      <td></td>\n",
       "      <td></td>\n",
       "      <td></td>\n",
       "      <td></td>\n",
       "      <td></td>\n",
       "      <td>x</td>\n",
       "      <td>[{'v': 'x', 'gdl_utf8': 'x', 'id': 'P334190.7....</td>\n",
       "      <td>...</td>\n",
       "      <td></td>\n",
       "      <td></td>\n",
       "      <td>u</td>\n",
       "      <td></td>\n",
       "      <td></td>\n",
       "      <td></td>\n",
       "      <td></td>\n",
       "      <td></td>\n",
       "      <td>7</td>\n",
       "      <td>x[NA]NA</td>\n",
       "    </tr>\n",
       "    <tr>\n",
       "      <th>16</th>\n",
       "      <td></td>\n",
       "      <td></td>\n",
       "      <td></td>\n",
       "      <td></td>\n",
       "      <td></td>\n",
       "      <td></td>\n",
       "      <td></td>\n",
       "      <td></td>\n",
       "      <td>x</td>\n",
       "      <td>[{'v': 'x', 'gdl_utf8': 'x', 'id': 'P334190.7....</td>\n",
       "      <td>...</td>\n",
       "      <td></td>\n",
       "      <td></td>\n",
       "      <td>u</td>\n",
       "      <td></td>\n",
       "      <td></td>\n",
       "      <td></td>\n",
       "      <td></td>\n",
       "      <td></td>\n",
       "      <td>7</td>\n",
       "      <td>x[NA]NA</td>\n",
       "    </tr>\n",
       "    <tr>\n",
       "      <th>17</th>\n",
       "      <td></td>\n",
       "      <td></td>\n",
       "      <td></td>\n",
       "      <td></td>\n",
       "      <td></td>\n",
       "      <td></td>\n",
       "      <td></td>\n",
       "      <td></td>\n",
       "      <td>x+x</td>\n",
       "      <td>[{'gg': 'ligature', 'gdl_type': 'ligature', 'g...</td>\n",
       "      <td>...</td>\n",
       "      <td></td>\n",
       "      <td></td>\n",
       "      <td>u</td>\n",
       "      <td></td>\n",
       "      <td></td>\n",
       "      <td></td>\n",
       "      <td></td>\n",
       "      <td></td>\n",
       "      <td>7</td>\n",
       "      <td>x+x[NA]NA</td>\n",
       "    </tr>\n",
       "    <tr>\n",
       "      <th>18</th>\n",
       "      <td></td>\n",
       "      <td>Nabu-šezibanni</td>\n",
       "      <td></td>\n",
       "      <td></td>\n",
       "      <td></td>\n",
       "      <td>PN</td>\n",
       "      <td></td>\n",
       "      <td></td>\n",
       "      <td>{1}{d}PA-še-zib-an-ni</td>\n",
       "      <td>[{'gg': 'logo', 'gdl_type': 'logo', 'group': [...</td>\n",
       "      <td>...</td>\n",
       "      <td>Nabu-šezibanni</td>\n",
       "      <td></td>\n",
       "      <td>PN</td>\n",
       "      <td></td>\n",
       "      <td>1</td>\n",
       "      <td></td>\n",
       "      <td></td>\n",
       "      <td></td>\n",
       "      <td>7</td>\n",
       "      <td>Nabu-šezibanni[1]PN</td>\n",
       "    </tr>\n",
       "    <tr>\n",
       "      <th>19</th>\n",
       "      <td></td>\n",
       "      <td></td>\n",
       "      <td></td>\n",
       "      <td></td>\n",
       "      <td></td>\n",
       "      <td></td>\n",
       "      <td></td>\n",
       "      <td></td>\n",
       "      <td>x</td>\n",
       "      <td>[{'v': 'x', 'gdl_utf8': 'x', 'id': 'P334190.8....</td>\n",
       "      <td>...</td>\n",
       "      <td></td>\n",
       "      <td></td>\n",
       "      <td>u</td>\n",
       "      <td></td>\n",
       "      <td></td>\n",
       "      <td></td>\n",
       "      <td></td>\n",
       "      <td></td>\n",
       "      <td>8</td>\n",
       "      <td>x[NA]NA</td>\n",
       "    </tr>\n",
       "    <tr>\n",
       "      <th>20</th>\n",
       "      <td></td>\n",
       "      <td></td>\n",
       "      <td></td>\n",
       "      <td></td>\n",
       "      <td></td>\n",
       "      <td></td>\n",
       "      <td></td>\n",
       "      <td></td>\n",
       "      <td>x</td>\n",
       "      <td>[{'v': 'x', 'gdl_utf8': 'x', 'id': 'P334190.8....</td>\n",
       "      <td>...</td>\n",
       "      <td></td>\n",
       "      <td></td>\n",
       "      <td>u</td>\n",
       "      <td></td>\n",
       "      <td></td>\n",
       "      <td></td>\n",
       "      <td></td>\n",
       "      <td></td>\n",
       "      <td>8</td>\n",
       "      <td>x[NA]NA</td>\n",
       "    </tr>\n",
       "    <tr>\n",
       "      <th>21</th>\n",
       "      <td></td>\n",
       "      <td></td>\n",
       "      <td></td>\n",
       "      <td></td>\n",
       "      <td></td>\n",
       "      <td></td>\n",
       "      <td></td>\n",
       "      <td></td>\n",
       "      <td>x</td>\n",
       "      <td>[{'v': 'x', 'gdl_utf8': 'x', 'id': 'P334190.8....</td>\n",
       "      <td>...</td>\n",
       "      <td></td>\n",
       "      <td></td>\n",
       "      <td>u</td>\n",
       "      <td></td>\n",
       "      <td></td>\n",
       "      <td></td>\n",
       "      <td></td>\n",
       "      <td></td>\n",
       "      <td>8</td>\n",
       "      <td>x[NA]NA</td>\n",
       "    </tr>\n",
       "    <tr>\n",
       "      <th>22</th>\n",
       "      <td></td>\n",
       "      <td></td>\n",
       "      <td></td>\n",
       "      <td></td>\n",
       "      <td></td>\n",
       "      <td></td>\n",
       "      <td></td>\n",
       "      <td></td>\n",
       "      <td>x</td>\n",
       "      <td>[{'v': 'x', 'gdl_utf8': 'x', 'id': 'P334190.8....</td>\n",
       "      <td>...</td>\n",
       "      <td></td>\n",
       "      <td></td>\n",
       "      <td>u</td>\n",
       "      <td></td>\n",
       "      <td></td>\n",
       "      <td></td>\n",
       "      <td></td>\n",
       "      <td></td>\n",
       "      <td>8</td>\n",
       "      <td>x[NA]NA</td>\n",
       "    </tr>\n",
       "    <tr>\n",
       "      <th>23</th>\n",
       "      <td></td>\n",
       "      <td>lawû</td>\n",
       "      <td></td>\n",
       "      <td></td>\n",
       "      <td></td>\n",
       "      <td>V</td>\n",
       "      <td></td>\n",
       "      <td></td>\n",
       "      <td>i-lab-bu-ni</td>\n",
       "      <td>[{'v': 'i', 'gdl_utf8': '𒄿', 'id': 'P334190.8....</td>\n",
       "      <td>...</td>\n",
       "      <td>ilabbûni</td>\n",
       "      <td></td>\n",
       "      <td>V</td>\n",
       "      <td></td>\n",
       "      <td>surround</td>\n",
       "      <td></td>\n",
       "      <td></td>\n",
       "      <td></td>\n",
       "      <td>8</td>\n",
       "      <td>lawû[surround]V</td>\n",
       "    </tr>\n",
       "    <tr>\n",
       "      <th>24</th>\n",
       "      <td></td>\n",
       "      <td></td>\n",
       "      <td></td>\n",
       "      <td></td>\n",
       "      <td></td>\n",
       "      <td></td>\n",
       "      <td></td>\n",
       "      <td></td>\n",
       "      <td>x</td>\n",
       "      <td>[{'v': 'x', 'gdl_utf8': 'x', 'id': 'P334190.9....</td>\n",
       "      <td>...</td>\n",
       "      <td></td>\n",
       "      <td></td>\n",
       "      <td>u</td>\n",
       "      <td></td>\n",
       "      <td></td>\n",
       "      <td></td>\n",
       "      <td></td>\n",
       "      <td></td>\n",
       "      <td>9</td>\n",
       "      <td>x[NA]NA</td>\n",
       "    </tr>\n",
       "    <tr>\n",
       "      <th>25</th>\n",
       "      <td></td>\n",
       "      <td></td>\n",
       "      <td></td>\n",
       "      <td></td>\n",
       "      <td></td>\n",
       "      <td></td>\n",
       "      <td></td>\n",
       "      <td></td>\n",
       "      <td>x</td>\n",
       "      <td>[{'v': 'x', 'gdl_utf8': 'x', 'id': 'P334190.9....</td>\n",
       "      <td>...</td>\n",
       "      <td></td>\n",
       "      <td></td>\n",
       "      <td>u</td>\n",
       "      <td></td>\n",
       "      <td></td>\n",
       "      <td></td>\n",
       "      <td></td>\n",
       "      <td></td>\n",
       "      <td>9</td>\n",
       "      <td>x[NA]NA</td>\n",
       "    </tr>\n",
       "    <tr>\n",
       "      <th>26</th>\n",
       "      <td></td>\n",
       "      <td></td>\n",
       "      <td></td>\n",
       "      <td></td>\n",
       "      <td></td>\n",
       "      <td></td>\n",
       "      <td></td>\n",
       "      <td></td>\n",
       "      <td>x</td>\n",
       "      <td>[{'v': 'x', 'gdl_utf8': 'x', 'id': 'P334190.9....</td>\n",
       "      <td>...</td>\n",
       "      <td></td>\n",
       "      <td></td>\n",
       "      <td>u</td>\n",
       "      <td></td>\n",
       "      <td></td>\n",
       "      <td></td>\n",
       "      <td></td>\n",
       "      <td></td>\n",
       "      <td>9</td>\n",
       "      <td>x[NA]NA</td>\n",
       "    </tr>\n",
       "    <tr>\n",
       "      <th>27</th>\n",
       "      <td></td>\n",
       "      <td></td>\n",
       "      <td></td>\n",
       "      <td></td>\n",
       "      <td></td>\n",
       "      <td></td>\n",
       "      <td></td>\n",
       "      <td></td>\n",
       "      <td>x</td>\n",
       "      <td>[{'v': 'x', 'gdl_utf8': 'x', 'id': 'P334190.9....</td>\n",
       "      <td>...</td>\n",
       "      <td></td>\n",
       "      <td></td>\n",
       "      <td>u</td>\n",
       "      <td></td>\n",
       "      <td></td>\n",
       "      <td></td>\n",
       "      <td></td>\n",
       "      <td></td>\n",
       "      <td>9</td>\n",
       "      <td>x[NA]NA</td>\n",
       "    </tr>\n",
       "    <tr>\n",
       "      <th>28</th>\n",
       "      <td></td>\n",
       "      <td></td>\n",
       "      <td></td>\n",
       "      <td></td>\n",
       "      <td></td>\n",
       "      <td></td>\n",
       "      <td></td>\n",
       "      <td></td>\n",
       "      <td>x</td>\n",
       "      <td>[{'v': 'x', 'gdl_utf8': 'x', 'id': 'P334190.9....</td>\n",
       "      <td>...</td>\n",
       "      <td></td>\n",
       "      <td></td>\n",
       "      <td>u</td>\n",
       "      <td></td>\n",
       "      <td></td>\n",
       "      <td></td>\n",
       "      <td></td>\n",
       "      <td></td>\n",
       "      <td>9</td>\n",
       "      <td>x[NA]NA</td>\n",
       "    </tr>\n",
       "    <tr>\n",
       "      <th>29</th>\n",
       "      <td></td>\n",
       "      <td></td>\n",
       "      <td></td>\n",
       "      <td></td>\n",
       "      <td></td>\n",
       "      <td></td>\n",
       "      <td></td>\n",
       "      <td></td>\n",
       "      <td>x</td>\n",
       "      <td>[{'v': 'x', 'gdl_utf8': 'x', 'id': 'P334190.9....</td>\n",
       "      <td>...</td>\n",
       "      <td></td>\n",
       "      <td></td>\n",
       "      <td>u</td>\n",
       "      <td></td>\n",
       "      <td></td>\n",
       "      <td></td>\n",
       "      <td></td>\n",
       "      <td></td>\n",
       "      <td>9</td>\n",
       "      <td>x[NA]NA</td>\n",
       "    </tr>\n",
       "    <tr>\n",
       "      <th>...</th>\n",
       "      <td>...</td>\n",
       "      <td>...</td>\n",
       "      <td>...</td>\n",
       "      <td>...</td>\n",
       "      <td>...</td>\n",
       "      <td>...</td>\n",
       "      <td>...</td>\n",
       "      <td>...</td>\n",
       "      <td>...</td>\n",
       "      <td>...</td>\n",
       "      <td>...</td>\n",
       "      <td>...</td>\n",
       "      <td>...</td>\n",
       "      <td>...</td>\n",
       "      <td>...</td>\n",
       "      <td>...</td>\n",
       "      <td>...</td>\n",
       "      <td>...</td>\n",
       "      <td>...</td>\n",
       "      <td>...</td>\n",
       "      <td>...</td>\n",
       "    </tr>\n",
       "    <tr>\n",
       "      <th>1202612</th>\n",
       "      <td></td>\n",
       "      <td>ilu</td>\n",
       "      <td></td>\n",
       "      <td></td>\n",
       "      <td></td>\n",
       "      <td>N</td>\n",
       "      <td></td>\n",
       "      <td></td>\n",
       "      <td>DINGIR.MEŠ</td>\n",
       "      <td>[{'gg': 'logo', 'gdl_type': 'logo', 'group': [...</td>\n",
       "      <td>...</td>\n",
       "      <td>ilāni</td>\n",
       "      <td></td>\n",
       "      <td>N</td>\n",
       "      <td></td>\n",
       "      <td>god</td>\n",
       "      <td></td>\n",
       "      <td></td>\n",
       "      <td></td>\n",
       "      <td>15</td>\n",
       "      <td>ilu[god]N</td>\n",
       "    </tr>\n",
       "    <tr>\n",
       "      <th>1202613</th>\n",
       "      <td></td>\n",
       "      <td>wāšibu</td>\n",
       "      <td></td>\n",
       "      <td></td>\n",
       "      <td></td>\n",
       "      <td>N</td>\n",
       "      <td></td>\n",
       "      <td></td>\n",
       "      <td>a-šib</td>\n",
       "      <td>[{'v': 'a', 'gdl_utf8': '𒀀', 'id': 'Q006221.15...</td>\n",
       "      <td>...</td>\n",
       "      <td>āšib</td>\n",
       "      <td></td>\n",
       "      <td>N</td>\n",
       "      <td></td>\n",
       "      <td>inhabitant</td>\n",
       "      <td></td>\n",
       "      <td></td>\n",
       "      <td></td>\n",
       "      <td>15</td>\n",
       "      <td>wāšibu[sitting-one]N</td>\n",
       "    </tr>\n",
       "    <tr>\n",
       "      <th>1202614</th>\n",
       "      <td></td>\n",
       "      <td>Anat</td>\n",
       "      <td></td>\n",
       "      <td></td>\n",
       "      <td></td>\n",
       "      <td>SN</td>\n",
       "      <td></td>\n",
       "      <td></td>\n",
       "      <td>{URU}an-at</td>\n",
       "      <td>[{'det': 'semantic', 'pos': 'pre', 'seq': [{'s...</td>\n",
       "      <td>...</td>\n",
       "      <td>Anat</td>\n",
       "      <td></td>\n",
       "      <td>SN</td>\n",
       "      <td></td>\n",
       "      <td>1</td>\n",
       "      <td></td>\n",
       "      <td></td>\n",
       "      <td></td>\n",
       "      <td>15</td>\n",
       "      <td>Anat[1]SN</td>\n",
       "    </tr>\n",
       "    <tr>\n",
       "      <th>1202615</th>\n",
       "      <td></td>\n",
       "      <td>bēlu</td>\n",
       "      <td></td>\n",
       "      <td></td>\n",
       "      <td></td>\n",
       "      <td>N</td>\n",
       "      <td></td>\n",
       "      <td></td>\n",
       "      <td>EN.MEŠ-e-a</td>\n",
       "      <td>[{'gg': 'logo', 'gdl_type': 'logo', 'delim': '...</td>\n",
       "      <td>...</td>\n",
       "      <td>bēlēya</td>\n",
       "      <td></td>\n",
       "      <td>N</td>\n",
       "      <td></td>\n",
       "      <td>lord</td>\n",
       "      <td></td>\n",
       "      <td></td>\n",
       "      <td></td>\n",
       "      <td>16</td>\n",
       "      <td>bēlu[lord]N</td>\n",
       "    </tr>\n",
       "    <tr>\n",
       "      <th>1202616</th>\n",
       "      <td></td>\n",
       "      <td>labāriš</td>\n",
       "      <td></td>\n",
       "      <td></td>\n",
       "      <td></td>\n",
       "      <td>AV</td>\n",
       "      <td></td>\n",
       "      <td></td>\n",
       "      <td>la-ba-riš</td>\n",
       "      <td>[{'v': 'la', 'gdl_utf8': '𒆷', 'id': 'Q006221.1...</td>\n",
       "      <td>...</td>\n",
       "      <td>labāriš</td>\n",
       "      <td></td>\n",
       "      <td>AV</td>\n",
       "      <td></td>\n",
       "      <td>to-become-old</td>\n",
       "      <td></td>\n",
       "      <td></td>\n",
       "      <td></td>\n",
       "      <td>16</td>\n",
       "      <td>labāriš[to-become-old]AV</td>\n",
       "    </tr>\n",
       "    <tr>\n",
       "      <th>1202617</th>\n",
       "      <td></td>\n",
       "      <td>alāku</td>\n",
       "      <td></td>\n",
       "      <td></td>\n",
       "      <td></td>\n",
       "      <td>V</td>\n",
       "      <td></td>\n",
       "      <td></td>\n",
       "      <td>il-lik-ma</td>\n",
       "      <td>[{'v': 'il', 'gdl_utf8': '𒅋', 'id': 'Q006221.1...</td>\n",
       "      <td>...</td>\n",
       "      <td>illikma</td>\n",
       "      <td></td>\n",
       "      <td>V</td>\n",
       "      <td></td>\n",
       "      <td>go</td>\n",
       "      <td></td>\n",
       "      <td></td>\n",
       "      <td></td>\n",
       "      <td>16</td>\n",
       "      <td>alāku[go]V</td>\n",
       "    </tr>\n",
       "    <tr>\n",
       "      <th>1202618</th>\n",
       "      <td></td>\n",
       "      <td>paṭāru</td>\n",
       "      <td></td>\n",
       "      <td></td>\n",
       "      <td></td>\n",
       "      <td>V</td>\n",
       "      <td></td>\n",
       "      <td></td>\n",
       "      <td>up-te-eṭ-ṭir</td>\n",
       "      <td>[{'v': 'up', 'gdl_utf8': '𒌒', 'id': 'Q006221.1...</td>\n",
       "      <td>...</td>\n",
       "      <td>upteṭṭir</td>\n",
       "      <td></td>\n",
       "      <td>V</td>\n",
       "      <td></td>\n",
       "      <td>fall-apart</td>\n",
       "      <td></td>\n",
       "      <td></td>\n",
       "      <td></td>\n",
       "      <td>16</td>\n",
       "      <td>paṭāru[untie]V</td>\n",
       "    </tr>\n",
       "    <tr>\n",
       "      <th>1202619</th>\n",
       "      <td></td>\n",
       "      <td></td>\n",
       "      <td></td>\n",
       "      <td></td>\n",
       "      <td></td>\n",
       "      <td></td>\n",
       "      <td></td>\n",
       "      <td></td>\n",
       "      <td>x</td>\n",
       "      <td>[{'v': 'x', 'gdl_utf8': 'x', 'id': 'Q006221.16...</td>\n",
       "      <td>...</td>\n",
       "      <td></td>\n",
       "      <td></td>\n",
       "      <td>u</td>\n",
       "      <td></td>\n",
       "      <td></td>\n",
       "      <td></td>\n",
       "      <td></td>\n",
       "      <td></td>\n",
       "      <td>16</td>\n",
       "      <td>x[NA]NA</td>\n",
       "    </tr>\n",
       "    <tr>\n",
       "      <th>1202620</th>\n",
       "      <td></td>\n",
       "      <td>akītu</td>\n",
       "      <td></td>\n",
       "      <td></td>\n",
       "      <td></td>\n",
       "      <td>N</td>\n",
       "      <td></td>\n",
       "      <td></td>\n",
       "      <td>a-ki-tu₄</td>\n",
       "      <td>[{'v': 'a', 'gdl_utf8': '𒀀', 'id': 'Q006221.17...</td>\n",
       "      <td>...</td>\n",
       "      <td>akītu</td>\n",
       "      <td></td>\n",
       "      <td>N</td>\n",
       "      <td></td>\n",
       "      <td>(a-festival-temple)</td>\n",
       "      <td></td>\n",
       "      <td></td>\n",
       "      <td></td>\n",
       "      <td>17</td>\n",
       "      <td>akītu[(a-cultic-festival)]N</td>\n",
       "    </tr>\n",
       "    <tr>\n",
       "      <th>1202621</th>\n",
       "      <td></td>\n",
       "      <td>šuāti</td>\n",
       "      <td></td>\n",
       "      <td></td>\n",
       "      <td></td>\n",
       "      <td>IP</td>\n",
       "      <td></td>\n",
       "      <td></td>\n",
       "      <td>UR₅-tu₂</td>\n",
       "      <td>[{'s': 'UR₅', 'gdl_utf8': '𒄯', 'id': 'Q006221....</td>\n",
       "      <td>...</td>\n",
       "      <td>šuātu</td>\n",
       "      <td></td>\n",
       "      <td>IP</td>\n",
       "      <td></td>\n",
       "      <td>that</td>\n",
       "      <td></td>\n",
       "      <td></td>\n",
       "      <td></td>\n",
       "      <td>17</td>\n",
       "      <td>šuāti[him]IP</td>\n",
       "    </tr>\n",
       "    <tr>\n",
       "      <th>1202622</th>\n",
       "      <td></td>\n",
       "      <td>danānu</td>\n",
       "      <td></td>\n",
       "      <td></td>\n",
       "      <td></td>\n",
       "      <td>V</td>\n",
       "      <td></td>\n",
       "      <td></td>\n",
       "      <td>u₂-dan-nin-ma</td>\n",
       "      <td>[{'v': 'u₂', 'gdl_utf8': '𒌑', 'id': 'Q006221.1...</td>\n",
       "      <td>...</td>\n",
       "      <td>udanninma</td>\n",
       "      <td></td>\n",
       "      <td>V</td>\n",
       "      <td></td>\n",
       "      <td>strengthen</td>\n",
       "      <td></td>\n",
       "      <td></td>\n",
       "      <td></td>\n",
       "      <td>17</td>\n",
       "      <td>danānu[be(come)-strong]V</td>\n",
       "    </tr>\n",
       "    <tr>\n",
       "      <th>1202623</th>\n",
       "      <td></td>\n",
       "      <td>ana</td>\n",
       "      <td></td>\n",
       "      <td></td>\n",
       "      <td></td>\n",
       "      <td>PRP</td>\n",
       "      <td></td>\n",
       "      <td></td>\n",
       "      <td>a-na</td>\n",
       "      <td>[{'v': 'a', 'gdl_utf8': '𒀀', 'id': 'Q006221.17...</td>\n",
       "      <td>...</td>\n",
       "      <td>ana</td>\n",
       "      <td></td>\n",
       "      <td>PRP</td>\n",
       "      <td></td>\n",
       "      <td>for</td>\n",
       "      <td></td>\n",
       "      <td></td>\n",
       "      <td></td>\n",
       "      <td>17</td>\n",
       "      <td>ana[to]PRP</td>\n",
       "    </tr>\n",
       "    <tr>\n",
       "      <th>1202624</th>\n",
       "      <td></td>\n",
       "      <td>balāṭu</td>\n",
       "      <td></td>\n",
       "      <td></td>\n",
       "      <td></td>\n",
       "      <td>N</td>\n",
       "      <td></td>\n",
       "      <td></td>\n",
       "      <td>ba-laṭ</td>\n",
       "      <td>[{'v': 'ba', 'gdl_utf8': '𒁀', 'id': 'Q006221.1...</td>\n",
       "      <td>...</td>\n",
       "      <td>balāṭ</td>\n",
       "      <td></td>\n",
       "      <td>V</td>\n",
       "      <td></td>\n",
       "      <td>preservation</td>\n",
       "      <td></td>\n",
       "      <td></td>\n",
       "      <td></td>\n",
       "      <td>17</td>\n",
       "      <td>balāṭu[live]V</td>\n",
       "    </tr>\n",
       "    <tr>\n",
       "      <th>1202625</th>\n",
       "      <td></td>\n",
       "      <td>napištu</td>\n",
       "      <td></td>\n",
       "      <td></td>\n",
       "      <td></td>\n",
       "      <td>N</td>\n",
       "      <td></td>\n",
       "      <td></td>\n",
       "      <td>ZI.MEŠ-ia</td>\n",
       "      <td>[{'gg': 'logo', 'gdl_type': 'logo', 'delim': '...</td>\n",
       "      <td>...</td>\n",
       "      <td>napšātiya</td>\n",
       "      <td></td>\n",
       "      <td>N</td>\n",
       "      <td></td>\n",
       "      <td>life</td>\n",
       "      <td></td>\n",
       "      <td></td>\n",
       "      <td></td>\n",
       "      <td>18</td>\n",
       "      <td>napištu[throat]N</td>\n",
       "    </tr>\n",
       "    <tr>\n",
       "      <th>1202626</th>\n",
       "      <td></td>\n",
       "      <td>šalāmu</td>\n",
       "      <td></td>\n",
       "      <td></td>\n",
       "      <td></td>\n",
       "      <td>N</td>\n",
       "      <td></td>\n",
       "      <td></td>\n",
       "      <td>ša₂-lam</td>\n",
       "      <td>[{'v': 'ša₂', 'gdl_utf8': '𒃻', 'id': 'Q006221....</td>\n",
       "      <td>...</td>\n",
       "      <td>šalām</td>\n",
       "      <td></td>\n",
       "      <td>V</td>\n",
       "      <td></td>\n",
       "      <td>well-being</td>\n",
       "      <td></td>\n",
       "      <td></td>\n",
       "      <td></td>\n",
       "      <td>18</td>\n",
       "      <td>šalāmu[be(come)-healthy]V</td>\n",
       "    </tr>\n",
       "    <tr>\n",
       "      <th>1202627</th>\n",
       "      <td></td>\n",
       "      <td>zēru</td>\n",
       "      <td></td>\n",
       "      <td></td>\n",
       "      <td></td>\n",
       "      <td>N</td>\n",
       "      <td></td>\n",
       "      <td></td>\n",
       "      <td>NUMUN-ia</td>\n",
       "      <td>[{'s': 'NUMUN', 'gdl_utf8': '𒆰', 'id': 'Q00622...</td>\n",
       "      <td>...</td>\n",
       "      <td>zēriya</td>\n",
       "      <td></td>\n",
       "      <td>N</td>\n",
       "      <td></td>\n",
       "      <td>offspring</td>\n",
       "      <td></td>\n",
       "      <td></td>\n",
       "      <td></td>\n",
       "      <td>18</td>\n",
       "      <td>zēru[seed(s)]N</td>\n",
       "    </tr>\n",
       "    <tr>\n",
       "      <th>1202628</th>\n",
       "      <td></td>\n",
       "      <td>arāku</td>\n",
       "      <td></td>\n",
       "      <td></td>\n",
       "      <td></td>\n",
       "      <td>N</td>\n",
       "      <td></td>\n",
       "      <td></td>\n",
       "      <td>GID₂.DA</td>\n",
       "      <td>[{'gg': 'logo', 'gdl_type': 'logo', 'group': [...</td>\n",
       "      <td>...</td>\n",
       "      <td>urruk</td>\n",
       "      <td></td>\n",
       "      <td>V</td>\n",
       "      <td></td>\n",
       "      <td>lengthening</td>\n",
       "      <td></td>\n",
       "      <td></td>\n",
       "      <td></td>\n",
       "      <td>18</td>\n",
       "      <td>arāku[be-long]V</td>\n",
       "    </tr>\n",
       "    <tr>\n",
       "      <th>1202629</th>\n",
       "      <td></td>\n",
       "      <td>ūmu</td>\n",
       "      <td></td>\n",
       "      <td></td>\n",
       "      <td></td>\n",
       "      <td>N</td>\n",
       "      <td></td>\n",
       "      <td></td>\n",
       "      <td>UD.MEŠ-ia</td>\n",
       "      <td>[{'gg': 'logo', 'gdl_type': 'logo', 'delim': '...</td>\n",
       "      <td>...</td>\n",
       "      <td>ūmēya</td>\n",
       "      <td></td>\n",
       "      <td>N</td>\n",
       "      <td></td>\n",
       "      <td>day</td>\n",
       "      <td></td>\n",
       "      <td></td>\n",
       "      <td></td>\n",
       "      <td>18</td>\n",
       "      <td>ūmu[day]N</td>\n",
       "    </tr>\n",
       "    <tr>\n",
       "      <th>1202630</th>\n",
       "      <td></td>\n",
       "      <td>kânu</td>\n",
       "      <td></td>\n",
       "      <td></td>\n",
       "      <td></td>\n",
       "      <td>N</td>\n",
       "      <td></td>\n",
       "      <td></td>\n",
       "      <td>ku-un</td>\n",
       "      <td>[{'v': 'ku', 'gdl_utf8': '𒆪', 'id': 'Q006221.1...</td>\n",
       "      <td>...</td>\n",
       "      <td>kūn</td>\n",
       "      <td></td>\n",
       "      <td>V</td>\n",
       "      <td></td>\n",
       "      <td>securing</td>\n",
       "      <td></td>\n",
       "      <td></td>\n",
       "      <td></td>\n",
       "      <td>19</td>\n",
       "      <td>kânu[be(come)-permanent]V</td>\n",
       "    </tr>\n",
       "    <tr>\n",
       "      <th>1202631</th>\n",
       "      <td></td>\n",
       "      <td>palû</td>\n",
       "      <td></td>\n",
       "      <td></td>\n",
       "      <td></td>\n",
       "      <td>N</td>\n",
       "      <td></td>\n",
       "      <td></td>\n",
       "      <td>BALA.MEŠ-e-a</td>\n",
       "      <td>[{'gg': 'logo', 'gdl_type': 'logo', 'delim': '...</td>\n",
       "      <td>...</td>\n",
       "      <td>palêya</td>\n",
       "      <td></td>\n",
       "      <td>N</td>\n",
       "      <td></td>\n",
       "      <td>reign-(of-a-king)</td>\n",
       "      <td></td>\n",
       "      <td></td>\n",
       "      <td></td>\n",
       "      <td>19</td>\n",
       "      <td>palû[reign-(of-a-king)]N</td>\n",
       "    </tr>\n",
       "    <tr>\n",
       "      <th>1202632</th>\n",
       "      <td></td>\n",
       "      <td>sakāpu</td>\n",
       "      <td></td>\n",
       "      <td></td>\n",
       "      <td></td>\n",
       "      <td>N</td>\n",
       "      <td></td>\n",
       "      <td></td>\n",
       "      <td>sa-kap</td>\n",
       "      <td>[{'v': 'sa', 'gdl_utf8': '𒊓', 'id': 'Q006221.1...</td>\n",
       "      <td>...</td>\n",
       "      <td>sakāp</td>\n",
       "      <td></td>\n",
       "      <td>V</td>\n",
       "      <td></td>\n",
       "      <td>overthrowing</td>\n",
       "      <td></td>\n",
       "      <td></td>\n",
       "      <td></td>\n",
       "      <td>19</td>\n",
       "      <td>sakāpu[push-down]V</td>\n",
       "    </tr>\n",
       "    <tr>\n",
       "      <th>1202633</th>\n",
       "      <td></td>\n",
       "      <td>mātu</td>\n",
       "      <td></td>\n",
       "      <td></td>\n",
       "      <td></td>\n",
       "      <td>N</td>\n",
       "      <td></td>\n",
       "      <td></td>\n",
       "      <td>KUR</td>\n",
       "      <td>[{'s': 'KUR', 'gdl_utf8': '𒆳', 'id': 'Q006221....</td>\n",
       "      <td>...</td>\n",
       "      <td>māt</td>\n",
       "      <td></td>\n",
       "      <td>N</td>\n",
       "      <td></td>\n",
       "      <td>land</td>\n",
       "      <td></td>\n",
       "      <td></td>\n",
       "      <td></td>\n",
       "      <td>19</td>\n",
       "      <td>mātu[land]N</td>\n",
       "    </tr>\n",
       "    <tr>\n",
       "      <th>1202634</th>\n",
       "      <td></td>\n",
       "      <td>nakru</td>\n",
       "      <td></td>\n",
       "      <td></td>\n",
       "      <td></td>\n",
       "      <td>N</td>\n",
       "      <td></td>\n",
       "      <td></td>\n",
       "      <td>{LU₂}KUR₂-ia</td>\n",
       "      <td>[{'det': 'semantic', 'pos': 'pre', 'seq': [{'s...</td>\n",
       "      <td>...</td>\n",
       "      <td>nakriya</td>\n",
       "      <td></td>\n",
       "      <td>N</td>\n",
       "      <td></td>\n",
       "      <td>enemy</td>\n",
       "      <td></td>\n",
       "      <td></td>\n",
       "      <td></td>\n",
       "      <td>19</td>\n",
       "      <td>nakru[enemy]N</td>\n",
       "    </tr>\n",
       "    <tr>\n",
       "      <th>1202635</th>\n",
       "      <td></td>\n",
       "      <td>epēšu</td>\n",
       "      <td></td>\n",
       "      <td></td>\n",
       "      <td></td>\n",
       "      <td>V</td>\n",
       "      <td></td>\n",
       "      <td></td>\n",
       "      <td>DU₃-ma</td>\n",
       "      <td>[{'s': 'DU₃', 'gdl_utf8': '𒆕', 'id': 'Q006221....</td>\n",
       "      <td>...</td>\n",
       "      <td>īpušma</td>\n",
       "      <td></td>\n",
       "      <td>V</td>\n",
       "      <td></td>\n",
       "      <td>build</td>\n",
       "      <td></td>\n",
       "      <td></td>\n",
       "      <td></td>\n",
       "      <td>20</td>\n",
       "      <td>epēšu[do]V</td>\n",
       "    </tr>\n",
       "    <tr>\n",
       "      <th>1202636</th>\n",
       "      <td></td>\n",
       "      <td>ana</td>\n",
       "      <td></td>\n",
       "      <td></td>\n",
       "      <td></td>\n",
       "      <td>PRP</td>\n",
       "      <td></td>\n",
       "      <td></td>\n",
       "      <td>a-na</td>\n",
       "      <td>[{'v': 'a', 'gdl_utf8': '𒀀', 'id': 'Q006221.20...</td>\n",
       "      <td>...</td>\n",
       "      <td>ana</td>\n",
       "      <td></td>\n",
       "      <td>PRP</td>\n",
       "      <td></td>\n",
       "      <td>to</td>\n",
       "      <td></td>\n",
       "      <td></td>\n",
       "      <td></td>\n",
       "      <td>20</td>\n",
       "      <td>ana[to]PRP</td>\n",
       "    </tr>\n",
       "    <tr>\n",
       "      <th>1202637</th>\n",
       "      <td></td>\n",
       "      <td>Adad</td>\n",
       "      <td></td>\n",
       "      <td></td>\n",
       "      <td></td>\n",
       "      <td>DN</td>\n",
       "      <td></td>\n",
       "      <td></td>\n",
       "      <td>{d}IŠKUR</td>\n",
       "      <td>[{'det': 'semantic', 'pos': 'pre', 'seq': [{'v...</td>\n",
       "      <td>...</td>\n",
       "      <td>Adad</td>\n",
       "      <td></td>\n",
       "      <td>DN</td>\n",
       "      <td></td>\n",
       "      <td>1</td>\n",
       "      <td></td>\n",
       "      <td></td>\n",
       "      <td></td>\n",
       "      <td>20</td>\n",
       "      <td>Adad[1]DN</td>\n",
       "    </tr>\n",
       "    <tr>\n",
       "      <th>1202638</th>\n",
       "      <td></td>\n",
       "      <td>u</td>\n",
       "      <td></td>\n",
       "      <td></td>\n",
       "      <td></td>\n",
       "      <td>CNJ</td>\n",
       "      <td></td>\n",
       "      <td></td>\n",
       "      <td>u</td>\n",
       "      <td>[{'v': 'u', 'gdl_utf8': '𒌋', 'id': 'Q006221.20...</td>\n",
       "      <td>...</td>\n",
       "      <td>u</td>\n",
       "      <td></td>\n",
       "      <td>CNJ</td>\n",
       "      <td></td>\n",
       "      <td>and</td>\n",
       "      <td></td>\n",
       "      <td></td>\n",
       "      <td></td>\n",
       "      <td>20</td>\n",
       "      <td>u[and]CNJ</td>\n",
       "    </tr>\n",
       "    <tr>\n",
       "      <th>1202639</th>\n",
       "      <td></td>\n",
       "      <td>Apla-Adad</td>\n",
       "      <td></td>\n",
       "      <td></td>\n",
       "      <td></td>\n",
       "      <td>DN</td>\n",
       "      <td></td>\n",
       "      <td></td>\n",
       "      <td>{d}A-{d}IŠKUR</td>\n",
       "      <td>[{'det': 'semantic', 'pos': 'pre', 'seq': [{'v...</td>\n",
       "      <td>...</td>\n",
       "      <td>Apla-Adad</td>\n",
       "      <td></td>\n",
       "      <td>DN</td>\n",
       "      <td></td>\n",
       "      <td>1</td>\n",
       "      <td></td>\n",
       "      <td></td>\n",
       "      <td></td>\n",
       "      <td>20</td>\n",
       "      <td>Apla-Adad[1]DN</td>\n",
       "    </tr>\n",
       "    <tr>\n",
       "      <th>1202640</th>\n",
       "      <td></td>\n",
       "      <td>bēlu</td>\n",
       "      <td></td>\n",
       "      <td></td>\n",
       "      <td></td>\n",
       "      <td>N</td>\n",
       "      <td></td>\n",
       "      <td></td>\n",
       "      <td>EN.MEŠ-e-a</td>\n",
       "      <td>[{'gg': 'logo', 'gdl_type': 'logo', 'delim': '...</td>\n",
       "      <td>...</td>\n",
       "      <td>bēlēya</td>\n",
       "      <td></td>\n",
       "      <td>N</td>\n",
       "      <td></td>\n",
       "      <td>lord</td>\n",
       "      <td></td>\n",
       "      <td></td>\n",
       "      <td></td>\n",
       "      <td>20</td>\n",
       "      <td>bēlu[lord]N</td>\n",
       "    </tr>\n",
       "    <tr>\n",
       "      <th>1202641</th>\n",
       "      <td></td>\n",
       "      <td>qiāšu</td>\n",
       "      <td></td>\n",
       "      <td></td>\n",
       "      <td></td>\n",
       "      <td>V</td>\n",
       "      <td></td>\n",
       "      <td></td>\n",
       "      <td>BA-iš₃</td>\n",
       "      <td>[{'s': 'BA', 'gdl_utf8': '𒁀', 'id': 'Q006221.2...</td>\n",
       "      <td>...</td>\n",
       "      <td>aqīš</td>\n",
       "      <td></td>\n",
       "      <td>V</td>\n",
       "      <td></td>\n",
       "      <td>give</td>\n",
       "      <td></td>\n",
       "      <td></td>\n",
       "      <td></td>\n",
       "      <td>20</td>\n",
       "      <td>qiāšu[give]V</td>\n",
       "    </tr>\n",
       "  </tbody>\n",
       "</table>\n",
       "<p>1202642 rows × 27 columns</p>\n",
       "</div>"
      ],
      "text/plain": [
       "        base              cf cont contrefs delim epos extent field  \\\n",
       "0                      awātu                        N                \n",
       "1                      šarru                        N                \n",
       "2                        ana                      PRP                \n",
       "3                      Ašipa                       PN                \n",
       "4                      šulmu                        N                \n",
       "5                      yâšim                       IP                \n",
       "6                      libbu                        N                \n",
       "7                         lū                      MOD                \n",
       "8                       ṭābu                       AJ                \n",
       "9                        ūmu                        N                \n",
       "10                        ša                      REL                \n",
       "11                    egertu                        N                \n",
       "12                      annû                       DP                \n",
       "13                     amāru                        V                \n",
       "14                                                                   \n",
       "15                                                                   \n",
       "16                                                                   \n",
       "17                                                                   \n",
       "18            Nabu-šezibanni                       PN                \n",
       "19                                                                   \n",
       "20                                                                   \n",
       "21                                                                   \n",
       "22                                                                   \n",
       "23                      lawû                        V                \n",
       "24                                                                   \n",
       "25                                                                   \n",
       "26                                                                   \n",
       "27                                                                   \n",
       "28                                                                   \n",
       "29                                                                   \n",
       "...      ...             ...  ...      ...   ...  ...    ...   ...   \n",
       "1202612                  ilu                        N                \n",
       "1202613               wāšibu                        N                \n",
       "1202614                 Anat                       SN                \n",
       "1202615                 bēlu                        N                \n",
       "1202616              labāriš                       AV                \n",
       "1202617                alāku                        V                \n",
       "1202618               paṭāru                        V                \n",
       "1202619                                                              \n",
       "1202620                akītu                        N                \n",
       "1202621                šuāti                       IP                \n",
       "1202622               danānu                        V                \n",
       "1202623                  ana                      PRP                \n",
       "1202624               balāṭu                        N                \n",
       "1202625              napištu                        N                \n",
       "1202626               šalāmu                        N                \n",
       "1202627                 zēru                        N                \n",
       "1202628                arāku                        N                \n",
       "1202629                  ūmu                        N                \n",
       "1202630                 kânu                        N                \n",
       "1202631                 palû                        N                \n",
       "1202632               sakāpu                        N                \n",
       "1202633                 mātu                        N                \n",
       "1202634                nakru                        N                \n",
       "1202635                epēšu                        V                \n",
       "1202636                  ana                      PRP                \n",
       "1202637                 Adad                       DN                \n",
       "1202638                    u                      CNJ                \n",
       "1202639            Apla-Adad                       DN                \n",
       "1202640                 bēlu                        N                \n",
       "1202641                qiāšu                        V                \n",
       "\n",
       "                          form  \\\n",
       "0                        a-bat   \n",
       "1                        LUGAL   \n",
       "2                         a-na   \n",
       "3                 {1}a-ši-pa-a   \n",
       "4                        DI-mu   \n",
       "5                      ia-a-ši   \n",
       "6                    ŠA₃-ba-ka   \n",
       "7                           lu   \n",
       "8                   DUG₃.GA-ka   \n",
       "9                        UD-mu   \n",
       "10                          ša   \n",
       "11                  e-gir₂-tu₂   \n",
       "12                   an-ni-tu₂   \n",
       "13                 ta-mar-u-ni   \n",
       "14                           x   \n",
       "15                           x   \n",
       "16                           x   \n",
       "17                         x+x   \n",
       "18       {1}{d}PA-še-zib-an-ni   \n",
       "19                           x   \n",
       "20                           x   \n",
       "21                           x   \n",
       "22                           x   \n",
       "23                 i-lab-bu-ni   \n",
       "24                           x   \n",
       "25                           x   \n",
       "26                           x   \n",
       "27                           x   \n",
       "28                           x   \n",
       "29                           x   \n",
       "...                        ...   \n",
       "1202612             DINGIR.MEŠ   \n",
       "1202613                  a-šib   \n",
       "1202614             {URU}an-at   \n",
       "1202615             EN.MEŠ-e-a   \n",
       "1202616              la-ba-riš   \n",
       "1202617              il-lik-ma   \n",
       "1202618           up-te-eṭ-ṭir   \n",
       "1202619                      x   \n",
       "1202620               a-ki-tu₄   \n",
       "1202621                UR₅-tu₂   \n",
       "1202622          u₂-dan-nin-ma   \n",
       "1202623                   a-na   \n",
       "1202624                 ba-laṭ   \n",
       "1202625              ZI.MEŠ-ia   \n",
       "1202626                ša₂-lam   \n",
       "1202627               NUMUN-ia   \n",
       "1202628                GID₂.DA   \n",
       "1202629              UD.MEŠ-ia   \n",
       "1202630                  ku-un   \n",
       "1202631           BALA.MEŠ-e-a   \n",
       "1202632                 sa-kap   \n",
       "1202633                    KUR   \n",
       "1202634           {LU₂}KUR₂-ia   \n",
       "1202635                 DU₃-ma   \n",
       "1202636                   a-na   \n",
       "1202637               {d}IŠKUR   \n",
       "1202638                      u   \n",
       "1202639          {d}A-{d}IŠKUR   \n",
       "1202640             EN.MEŠ-e-a   \n",
       "1202641                 BA-iš₃   \n",
       "\n",
       "                                                       gdl  \\\n",
       "0        [{'v': 'a', 'gdl_utf8': '𒀀', 'id': 'P334190.2....   \n",
       "1        [{'gg': 'logo', 'gdl_type': 'logo', 'group': [...   \n",
       "2        [{'v': 'a', 'gdl_utf8': '𒀀', 'id': 'P334190.2....   \n",
       "3        [{'det': 'semantic', 'pos': 'pre', 'seq': [{'n...   \n",
       "4        [{'gg': 'logo', 'gdl_type': 'logo', 'group': [...   \n",
       "5        [{'v': 'ia', 'gdl_utf8': '𒅀', 'id': 'P334190.3...   \n",
       "6        [{'gg': 'logo', 'gdl_type': 'logo', 'group': [...   \n",
       "7        [{'v': 'lu', 'gdl_utf8': '𒇻', 'id': 'P334190.4...   \n",
       "8        [{'gg': 'logo', 'gdl_type': 'logo', 'group': [...   \n",
       "9        [{'gg': 'logo', 'gdl_type': 'logo', 'group': [...   \n",
       "10       [{'v': 'ša', 'gdl_utf8': '𒊭', 'id': 'P334190.5...   \n",
       "11       [{'v': 'e', 'gdl_utf8': '𒂊', 'id': 'P334190.5....   \n",
       "12       [{'v': 'an', 'gdl_utf8': '𒀭', 'id': 'P334190.6...   \n",
       "13       [{'v': 'ta', 'gdl_utf8': '𒋫', 'id': 'P334190.6...   \n",
       "14       [{'v': 'x', 'gdl_utf8': 'x', 'id': 'P334190.7....   \n",
       "15       [{'v': 'x', 'gdl_utf8': 'x', 'id': 'P334190.7....   \n",
       "16       [{'v': 'x', 'gdl_utf8': 'x', 'id': 'P334190.7....   \n",
       "17       [{'gg': 'ligature', 'gdl_type': 'ligature', 'g...   \n",
       "18       [{'gg': 'logo', 'gdl_type': 'logo', 'group': [...   \n",
       "19       [{'v': 'x', 'gdl_utf8': 'x', 'id': 'P334190.8....   \n",
       "20       [{'v': 'x', 'gdl_utf8': 'x', 'id': 'P334190.8....   \n",
       "21       [{'v': 'x', 'gdl_utf8': 'x', 'id': 'P334190.8....   \n",
       "22       [{'v': 'x', 'gdl_utf8': 'x', 'id': 'P334190.8....   \n",
       "23       [{'v': 'i', 'gdl_utf8': '𒄿', 'id': 'P334190.8....   \n",
       "24       [{'v': 'x', 'gdl_utf8': 'x', 'id': 'P334190.9....   \n",
       "25       [{'v': 'x', 'gdl_utf8': 'x', 'id': 'P334190.9....   \n",
       "26       [{'v': 'x', 'gdl_utf8': 'x', 'id': 'P334190.9....   \n",
       "27       [{'v': 'x', 'gdl_utf8': 'x', 'id': 'P334190.9....   \n",
       "28       [{'v': 'x', 'gdl_utf8': 'x', 'id': 'P334190.9....   \n",
       "29       [{'v': 'x', 'gdl_utf8': 'x', 'id': 'P334190.9....   \n",
       "...                                                    ...   \n",
       "1202612  [{'gg': 'logo', 'gdl_type': 'logo', 'group': [...   \n",
       "1202613  [{'v': 'a', 'gdl_utf8': '𒀀', 'id': 'Q006221.15...   \n",
       "1202614  [{'det': 'semantic', 'pos': 'pre', 'seq': [{'s...   \n",
       "1202615  [{'gg': 'logo', 'gdl_type': 'logo', 'delim': '...   \n",
       "1202616  [{'v': 'la', 'gdl_utf8': '𒆷', 'id': 'Q006221.1...   \n",
       "1202617  [{'v': 'il', 'gdl_utf8': '𒅋', 'id': 'Q006221.1...   \n",
       "1202618  [{'v': 'up', 'gdl_utf8': '𒌒', 'id': 'Q006221.1...   \n",
       "1202619  [{'v': 'x', 'gdl_utf8': 'x', 'id': 'Q006221.16...   \n",
       "1202620  [{'v': 'a', 'gdl_utf8': '𒀀', 'id': 'Q006221.17...   \n",
       "1202621  [{'s': 'UR₅', 'gdl_utf8': '𒄯', 'id': 'Q006221....   \n",
       "1202622  [{'v': 'u₂', 'gdl_utf8': '𒌑', 'id': 'Q006221.1...   \n",
       "1202623  [{'v': 'a', 'gdl_utf8': '𒀀', 'id': 'Q006221.17...   \n",
       "1202624  [{'v': 'ba', 'gdl_utf8': '𒁀', 'id': 'Q006221.1...   \n",
       "1202625  [{'gg': 'logo', 'gdl_type': 'logo', 'delim': '...   \n",
       "1202626  [{'v': 'ša₂', 'gdl_utf8': '𒃻', 'id': 'Q006221....   \n",
       "1202627  [{'s': 'NUMUN', 'gdl_utf8': '𒆰', 'id': 'Q00622...   \n",
       "1202628  [{'gg': 'logo', 'gdl_type': 'logo', 'group': [...   \n",
       "1202629  [{'gg': 'logo', 'gdl_type': 'logo', 'delim': '...   \n",
       "1202630  [{'v': 'ku', 'gdl_utf8': '𒆪', 'id': 'Q006221.1...   \n",
       "1202631  [{'gg': 'logo', 'gdl_type': 'logo', 'delim': '...   \n",
       "1202632  [{'v': 'sa', 'gdl_utf8': '𒊓', 'id': 'Q006221.1...   \n",
       "1202633  [{'s': 'KUR', 'gdl_utf8': '𒆳', 'id': 'Q006221....   \n",
       "1202634  [{'det': 'semantic', 'pos': 'pre', 'seq': [{'s...   \n",
       "1202635  [{'s': 'DU₃', 'gdl_utf8': '𒆕', 'id': 'Q006221....   \n",
       "1202636  [{'v': 'a', 'gdl_utf8': '𒀀', 'id': 'Q006221.20...   \n",
       "1202637  [{'det': 'semantic', 'pos': 'pre', 'seq': [{'v...   \n",
       "1202638  [{'v': 'u', 'gdl_utf8': '𒌋', 'id': 'Q006221.20...   \n",
       "1202639  [{'det': 'semantic', 'pos': 'pre', 'seq': [{'v...   \n",
       "1202640  [{'gg': 'logo', 'gdl_type': 'logo', 'delim': '...   \n",
       "1202641  [{'s': 'BA', 'gdl_utf8': '𒁀', 'id': 'Q006221.2...   \n",
       "\n",
       "                    ...                         norm norm0  pos scope  \\\n",
       "0                   ...                         abat          N         \n",
       "1                   ...                        šarri          N         \n",
       "2                   ...                          ana        PRP         \n",
       "3                   ...                        Ašipa         PN         \n",
       "4                   ...                        šulmu          N         \n",
       "5                   ...                        ayāši         IP         \n",
       "6                   ...                      libbaka          N         \n",
       "7                   ...                           lū        MOD         \n",
       "8                   ...                        ṭābka         AJ         \n",
       "9                   ...                          ūmu          N         \n",
       "10                  ...                           ša        REL         \n",
       "11                  ...                       egertu          N         \n",
       "12                  ...                       annītu         DP         \n",
       "13                  ...                    tammarūni          V         \n",
       "14                  ...                                       u         \n",
       "15                  ...                                       u         \n",
       "16                  ...                                       u         \n",
       "17                  ...                                       u         \n",
       "18                  ...               Nabu-šezibanni         PN         \n",
       "19                  ...                                       u         \n",
       "20                  ...                                       u         \n",
       "21                  ...                                       u         \n",
       "22                  ...                                       u         \n",
       "23                  ...                     ilabbûni          V         \n",
       "24                  ...                                       u         \n",
       "25                  ...                                       u         \n",
       "26                  ...                                       u         \n",
       "27                  ...                                       u         \n",
       "28                  ...                                       u         \n",
       "29                  ...                                       u         \n",
       "...                 ...                          ...   ...  ...   ...   \n",
       "1202612             ...                        ilāni          N         \n",
       "1202613             ...                         āšib          N         \n",
       "1202614             ...                         Anat         SN         \n",
       "1202615             ...                       bēlēya          N         \n",
       "1202616             ...                      labāriš         AV         \n",
       "1202617             ...                      illikma          V         \n",
       "1202618             ...                     upteṭṭir          V         \n",
       "1202619             ...                                       u         \n",
       "1202620             ...                        akītu          N         \n",
       "1202621             ...                        šuātu         IP         \n",
       "1202622             ...                    udanninma          V         \n",
       "1202623             ...                          ana        PRP         \n",
       "1202624             ...                        balāṭ          V         \n",
       "1202625             ...                    napšātiya          N         \n",
       "1202626             ...                        šalām          V         \n",
       "1202627             ...                       zēriya          N         \n",
       "1202628             ...                        urruk          V         \n",
       "1202629             ...                        ūmēya          N         \n",
       "1202630             ...                          kūn          V         \n",
       "1202631             ...                       palêya          N         \n",
       "1202632             ...                        sakāp          V         \n",
       "1202633             ...                          māt          N         \n",
       "1202634             ...                      nakriya          N         \n",
       "1202635             ...                       īpušma          V         \n",
       "1202636             ...                          ana        PRP         \n",
       "1202637             ...                         Adad         DN         \n",
       "1202638             ...                            u        CNJ         \n",
       "1202639             ...                    Apla-Adad         DN         \n",
       "1202640             ...                       bēlēya          N         \n",
       "1202641             ...                         aqīš          V         \n",
       "\n",
       "                       sense state stem syntax_ub-after id_line  \\\n",
       "0                       word                                  2   \n",
       "1                       king                                  2   \n",
       "2                         to                                  2   \n",
       "3                          1                                  2   \n",
       "4                     health                                  3   \n",
       "5                         me                                  3   \n",
       "6                       mood                                  4   \n",
       "7                        may                                  4   \n",
       "8                       good                                  4   \n",
       "9                        day                                  5   \n",
       "10                      that                                  5   \n",
       "11                    letter                                  5   \n",
       "12                      this                                  6   \n",
       "13                       see                                  6   \n",
       "14                                                            7   \n",
       "15                                                            7   \n",
       "16                                                            7   \n",
       "17                                                            7   \n",
       "18                         1                                  7   \n",
       "19                                                            8   \n",
       "20                                                            8   \n",
       "21                                                            8   \n",
       "22                                                            8   \n",
       "23                  surround                                  8   \n",
       "24                                                            9   \n",
       "25                                                            9   \n",
       "26                                                            9   \n",
       "27                                                            9   \n",
       "28                                                            9   \n",
       "29                                                            9   \n",
       "...                      ...   ...  ...             ...     ...   \n",
       "1202612                  god                                 15   \n",
       "1202613           inhabitant                                 15   \n",
       "1202614                    1                                 15   \n",
       "1202615                 lord                                 16   \n",
       "1202616        to-become-old                                 16   \n",
       "1202617                   go                                 16   \n",
       "1202618           fall-apart                                 16   \n",
       "1202619                                                      16   \n",
       "1202620  (a-festival-temple)                                 17   \n",
       "1202621                 that                                 17   \n",
       "1202622           strengthen                                 17   \n",
       "1202623                  for                                 17   \n",
       "1202624         preservation                                 17   \n",
       "1202625                 life                                 18   \n",
       "1202626           well-being                                 18   \n",
       "1202627            offspring                                 18   \n",
       "1202628          lengthening                                 18   \n",
       "1202629                  day                                 18   \n",
       "1202630             securing                                 19   \n",
       "1202631    reign-(of-a-king)                                 19   \n",
       "1202632         overthrowing                                 19   \n",
       "1202633                 land                                 19   \n",
       "1202634                enemy                                 19   \n",
       "1202635                build                                 20   \n",
       "1202636                   to                                 20   \n",
       "1202637                    1                                 20   \n",
       "1202638                  and                                 20   \n",
       "1202639                    1                                 20   \n",
       "1202640                 lord                                 20   \n",
       "1202641                 give                                 20   \n",
       "\n",
       "                               lemma  \n",
       "0                       awātu[word]N  \n",
       "1                       šarru[king]N  \n",
       "2                         ana[to]PRP  \n",
       "3                         Ašipa[1]PN  \n",
       "4               šulmu[completeness]N  \n",
       "5                     yâšim[to-me]IP  \n",
       "6                   libbu[interior]N  \n",
       "7                         lū[may]MOD  \n",
       "8                       ṭābu[good]AJ  \n",
       "9                          ūmu[day]N  \n",
       "10                       ša[that]REL  \n",
       "11         egertu[inscribed-tablet]N  \n",
       "12                      annû[this]DP  \n",
       "13                       amāru[see]V  \n",
       "14                           x[NA]NA  \n",
       "15                           x[NA]NA  \n",
       "16                           x[NA]NA  \n",
       "17                         x+x[NA]NA  \n",
       "18               Nabu-šezibanni[1]PN  \n",
       "19                           x[NA]NA  \n",
       "20                           x[NA]NA  \n",
       "21                           x[NA]NA  \n",
       "22                           x[NA]NA  \n",
       "23                   lawû[surround]V  \n",
       "24                           x[NA]NA  \n",
       "25                           x[NA]NA  \n",
       "26                           x[NA]NA  \n",
       "27                           x[NA]NA  \n",
       "28                           x[NA]NA  \n",
       "29                           x[NA]NA  \n",
       "...                              ...  \n",
       "1202612                    ilu[god]N  \n",
       "1202613         wāšibu[sitting-one]N  \n",
       "1202614                    Anat[1]SN  \n",
       "1202615                  bēlu[lord]N  \n",
       "1202616     labāriš[to-become-old]AV  \n",
       "1202617                   alāku[go]V  \n",
       "1202618               paṭāru[untie]V  \n",
       "1202619                      x[NA]NA  \n",
       "1202620  akītu[(a-cultic-festival)]N  \n",
       "1202621                 šuāti[him]IP  \n",
       "1202622     danānu[be(come)-strong]V  \n",
       "1202623                   ana[to]PRP  \n",
       "1202624                balāṭu[live]V  \n",
       "1202625             napištu[throat]N  \n",
       "1202626    šalāmu[be(come)-healthy]V  \n",
       "1202627               zēru[seed(s)]N  \n",
       "1202628              arāku[be-long]V  \n",
       "1202629                    ūmu[day]N  \n",
       "1202630    kânu[be(come)-permanent]V  \n",
       "1202631     palû[reign-(of-a-king)]N  \n",
       "1202632           sakāpu[push-down]V  \n",
       "1202633                  mātu[land]N  \n",
       "1202634                nakru[enemy]N  \n",
       "1202635                   epēšu[do]V  \n",
       "1202636                   ana[to]PRP  \n",
       "1202637                    Adad[1]DN  \n",
       "1202638                    u[and]CNJ  \n",
       "1202639               Apla-Adad[1]DN  \n",
       "1202640                  bēlu[lord]N  \n",
       "1202641                 qiāšu[give]V  \n",
       "\n",
       "[1202642 rows x 27 columns]"
      ]
     },
     "execution_count": 11,
     "metadata": {},
     "output_type": "execute_result"
    }
   ],
   "source": [
    "words_df['lemma'] = words_df[\"cf\"] + '[' + words_df[\"gw\"] + ']' + words_df[\"pos\"]\n",
    "words_df.loc[words_df[\"cf\"] == \"\" , 'lemma'] = words_df['form'] + '[NA]NA'\n",
    "words_df.loc[words_df[\"form\"] == \"\", 'lemma'] = \"\"\n",
    "words_df"
   ]
  },
  {
   "cell_type": "markdown",
   "metadata": {},
   "source": [
    "## 5.1.2 Group by Line\n",
    "In the `words_df` dataframe each word has a separate row. In order to change this into a line-by-line representation we use the `pandas` `groupby()` function, using `id_text`, `id_line` and `label` fields as the sorting arguments. \n",
    "\n",
    "The fields that are aggregated are `lemma`, `extent`, `scope`, and `state`. The fields `extent`, `scope`, and `state` represent data on the number of broken lines. For instance, the notation `4 lines missing` in the [ORACC](http://oracc.org) edition will result in `extent = \"4\"`, `scope = \"line\"`, `state = \"missing\"` (note that the value of `extent` is a string and will be `\"n\"` if the number of missing lines or columns is unknown).\n",
    "\n",
    "If your data does not have the fields `extent`, `scope`, and `state` the code below will fail - simply delete the lines that reference those fields."
   ]
  },
  {
   "cell_type": "code",
   "execution_count": null,
   "metadata": {},
   "outputs": [],
   "source": [
    "lines = words_df.groupby([words_df['id_text'], words_df['id_line'], words_df['label']]).agg({\n",
    "        'lemma': ' '.join,\n",
    "        'extent': ''.join, \n",
    "        'scope': ''.join,\n",
    "        'state': ''.join\n",
    "    }).reset_index()\n",
    "lines"
   ]
  },
  {
   "cell_type": "markdown",
   "metadata": {},
   "source": [
    "## 5.2 Alternative: Texts in Normalized Transcription\n",
    "This code (which is useful mostly for Akkadian texts) will produce a text in normalized transcription, essentially following the pattern of the preceding. Before grouping words into documents, we need to take care of words that have not been normalized (for instance because of breakage), using the field `form`. The field `norm1` now has the normalized form of the word if it is available; if not it has the raw transliteration (without flags or breakage information)."
   ]
  },
  {
   "cell_type": "code",
   "execution_count": null,
   "metadata": {},
   "outputs": [],
   "source": [
    "words_df[\"norm1\"] = words_df[\"norm\"]\n",
    "words_df.loc[words_df[\"norm1\"] == \"\" , 'norm1'] = words_df['form']"
   ]
  },
  {
   "cell_type": "code",
   "execution_count": null,
   "metadata": {},
   "outputs": [],
   "source": [
    "texts_norm = words_df.groupby([words_df['id_text']]).agg({\n",
    "        'norm1': ' '.join,\n",
    "    }).reset_index()\n",
    "texts_norm"
   ]
  },
  {
   "cell_type": "markdown",
   "metadata": {},
   "source": [
    "### 5.2.1 Save Normalized Transcriptions\n",
    "The `texts_norm` DataFrame has one complete document in normalized transcription in each row. The code below saves each row as a separate `.txt` file, named after the document's ID."
   ]
  },
  {
   "cell_type": "code",
   "execution_count": null,
   "metadata": {},
   "outputs": [],
   "source": [
    "for idx, Q in enumerate(texts_norm[\"id_text\"]):\n",
    "    savefile =  Q[-7:] + '.txt'\n",
    "    with open('output/' + savefile, 'w', encoding=\"utf-8\") as w:\n",
    "        texts_norm.iloc[idx].to_csv(w, index = False)"
   ]
  },
  {
   "cell_type": "code",
   "execution_count": null,
   "metadata": {},
   "outputs": [],
   "source": []
  }
 ],
 "metadata": {
  "kernelspec": {
   "display_name": "Python 3",
   "language": "python",
   "name": "python3"
  },
  "language_info": {
   "codemirror_mode": {
    "name": "ipython",
    "version": 3
   },
   "file_extension": ".py",
   "mimetype": "text/x-python",
   "name": "python",
   "nbconvert_exporter": "python",
   "pygments_lexer": "ipython3",
   "version": "3.6.7"
  }
 },
 "nbformat": 4,
 "nbformat_minor": 2
}
