{
 "cells": [
  {
   "cell_type": "markdown",
   "metadata": {},
   "source": [
    "# Installing Python Packages\n",
    "When you have installed Python 3 by installing Anaconda, you already have a treasure trove of important Python packages, including `Pandas` (for data manipulation), `bokeh` (interactive visualisations), `requests` (for downloading from the web), `scikit-learn` (machine learning) etc.\n",
    "\n",
    "Inevitably, we will be using packages not included in the standard Anaconda distribution. Before they can be imported in a Python script such packages need to be installed. A package needs to be *imported* every time when a script is started. It needs to be *installed* only once (and updated, if necessary).\n",
    "\n",
    "This notebook will install the packages that are used in the set of notebooks in this repository. If you need to install more packages, follow the code below. The preferred method is with `conda`, if that doesn't work use `pip`\n",
    "\n",
    "Jake VanderPlas in his [Pythonic Preambulations](https://jakevdp.github.io/) blog devotes an entire [article](https://jakevdp.github.io/blog/2017/12/05/installing-python-packages-from-jupyter/) on installing Python packages from inside a Jupyter Notebook; the code below is taken from that source.\n",
    "\n",
    "# TODO\n",
    "create a list of packages to be installed. pip seems to work better than conda."
   ]
  },
  {
   "cell_type": "code",
   "execution_count": null,
   "metadata": {
    "collapsed": true
   },
   "outputs": [],
   "source": [
    "import sys"
   ]
  },
  {
   "cell_type": "markdown",
   "metadata": {},
   "source": [
    "# 1.1 Preferred: Install with Conda"
   ]
  },
  {
   "cell_type": "code",
   "execution_count": null,
   "metadata": {
    "collapsed": false
   },
   "outputs": [],
   "source": [
    "!conda install --yes --prefix {sys.prefix} matplotlib_venn"
   ]
  },
  {
   "cell_type": "code",
   "execution_count": null,
   "metadata": {
    "collapsed": false
   },
   "outputs": [],
   "source": [
    "!conda update --yes --prefix {sys.prefix} pandas"
   ]
  },
  {
   "cell_type": "markdown",
   "metadata": {},
   "source": [
    "# 2.1 Install with Pip"
   ]
  },
  {
   "cell_type": "code",
   "execution_count": null,
   "metadata": {
    "collapsed": false
   },
   "outputs": [],
   "source": [
    "!{sys.executable} -m pip install matplotlib_venn"
   ]
  },
  {
   "cell_type": "code",
   "execution_count": null,
   "metadata": {
    "collapsed": false
   },
   "outputs": [],
   "source": [
    "!{sys.executable} -m pip install --upgrade pandas"
   ]
  },
  {
   "cell_type": "code",
   "execution_count": null,
   "metadata": {
    "collapsed": true
   },
   "outputs": [],
   "source": []
  }
 ],
 "metadata": {
  "kernelspec": {
   "display_name": "Python 3",
   "language": "python",
   "name": "python3"
  },
  "language_info": {
   "codemirror_mode": {
    "name": "ipython",
    "version": 3
   },
   "file_extension": ".py",
   "mimetype": "text/x-python",
   "name": "python",
   "nbconvert_exporter": "python",
   "pygments_lexer": "ipython3",
   "version": "3.5.2"
  }
 },
 "nbformat": 4,
 "nbformat_minor": 0
}
