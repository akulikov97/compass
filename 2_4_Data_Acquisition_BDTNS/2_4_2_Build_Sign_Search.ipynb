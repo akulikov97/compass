{
 "cells": [
  {
   "cell_type": "markdown",
   "metadata": {},
   "source": [
    "# Build Sign Search for BDTNS\n",
    "Goal of this notebook is to search the [BDTNS](http://bdtns.filol.csic.es) data by signs, irrespective of their reading. For instance, the sign NE may be read bi₂, ne, izi, šeŋ₆, kum₂, lam₂, zah₂, etc. It is easy to search for transliteration (and/or metadata) in the [BDTNS](http://bdtns.filol.csic.es) search page, but there is currently no way to search for a sequence of signs. This is useful, in particular, in two situations. \n",
    "\n",
    "1. Sumerological transliteration conventions may differ quite substantially between different schools. Thus, lu₂ kin-gi₄-a, {lu₂}kin-gi₄-a, lu₂ kiŋ₂-gi₄-a and {lu₂}kiŋ₂-gi₄-a all represent the same sequence of signs and the same word (meaning 'messenger'), but without knowledge of the particular set of conventions used it may be difficult to guess which search will yield the desired results. In the sign search one may enter sign readings according to any convention recognized by the ORACC Global Sign List ([OGSL](http://oracc.org/ogsl)).\n",
    "\n",
    "2. In some cases the correct reading and interpretation of a sign sequence may be ambiguous and the ambiguiuty may have been resolved in different ways throughout the database. The names lugal-mudra₅, lugal-suluhi₂ and lugal-siki-su₁₃ all represent the same sign sequence. Which of these is correct is not entirely clear (although the third seems unlikely) and, depending on the research question, may even be unimportant (for instance for an SNA analysis). In the sign search one may enter any of these forms and the results will include all of them."
   ]
  },
  {
   "cell_type": "code",
   "execution_count": null,
   "metadata": {},
   "outputs": [],
   "source": [
    "import pandas as pd\n",
    "from tqdm.auto import tqdm\n",
    "tqdm.pandas()\n",
    "import os\n",
    "import sys\n",
    "import re\n",
    "import pickle\n",
    "import zipfile\n",
    "import json\n",
    "from ipywidgets import interact, interact_manual\n",
    "import ipywidgets as widgets\n",
    "from IPython.display import display, clear_output\n",
    "util_dir = os.path.abspath('../utils')\n",
    "sys.path.append(util_dir)\n",
    "from utils import *"
   ]
  },
  {
   "cell_type": "markdown",
   "metadata": {},
   "source": [
    "## 0 Create Directories, if Necessary\n",
    "The two directories needed for this script are `jsonzip` and `output`. The directories are created with the function `make_dirs()` from the `utils` module. "
   ]
  },
  {
   "cell_type": "code",
   "execution_count": null,
   "metadata": {},
   "outputs": [],
   "source": [
    "directories = ['jsonzip', 'output']\n",
    "make_dirs(directories)"
   ]
  },
  {
   "cell_type": "markdown",
   "metadata": {},
   "source": [
    "## 1 Download the ZIP file\n",
    "The sign search uses the ORACC Global Sign List [OGSL](http://oracc.org/ogsl), available in JSON format at http://build-oracc.museum.upenn.edu/json/ogsl.zip. The function `oracc_download()` from the `utils` module downloads the JSON file in ZIP format. The function expects a list as its sole argument."
   ]
  },
  {
   "cell_type": "code",
   "execution_count": null,
   "metadata": {},
   "outputs": [],
   "source": [
    "project = [\"ogsl\"] # oracc_download() expects a list\n",
    "p = oracc_download(project)"
   ]
  },
  {
   "cell_type": "markdown",
   "metadata": {},
   "source": [
    "# 2 The `parsejson()` function\n",
    "The function iterates through the JSON object. The output is a dictionary where each possible reading, listed in [OGSL](http://oracc.org/ogsl) is a key, the value is the sign name of that reading. For instance\n",
    "```python\n",
    "{'u₄' : 'UD', 'ud' : 'UD', 'babbar' : 'UD'}\n",
    "```\n",
    "etc."
   ]
  },
  {
   "cell_type": "code",
   "execution_count": null,
   "metadata": {},
   "outputs": [],
   "source": [
    "def parsejson(data_json):\n",
    "    for key, value in data_json[\"signs\"].items():\n",
    "        if \"values\" in value:\n",
    "            for n in value[\"values\"]:\n",
    "                d2[n] = key\n",
    "    return"
   ]
  },
  {
   "cell_type": "markdown",
   "metadata": {},
   "source": [
    "# 3 Process the JSON\n",
    "In the main process the file `ogsl-sl.json` is extracted from the zip and made into a JSON object (with the `json.loads()` function). This object is sent to the `parsejson()` function defined above."
   ]
  },
  {
   "cell_type": "code",
   "execution_count": null,
   "metadata": {},
   "outputs": [],
   "source": [
    "d2 = {}\n",
    "file = \"jsonzip/ogsl.zip\"\n",
    "z = zipfile.ZipFile(file) \n",
    "filename = \"ogsl/ogsl-sl.json\"\n",
    "signlist = z.read(filename).decode('utf-8')\n",
    "data_json = json.loads(signlist)                # make it into a json object (essentially a dictionary)\n",
    "parsejson(data_json)  \n",
    "with open('output/ogsl_dict.p', 'wb') as p:\n",
    "    pickle.dump(d2, p)  "
   ]
  },
  {
   "cell_type": "markdown",
   "metadata": {},
   "source": [
    "# 4 Inspect the Results in Dataframe\n",
    "This DataFrame is only for inspection - it is not otherwise used in the code below."
   ]
  },
  {
   "cell_type": "code",
   "execution_count": null,
   "metadata": {},
   "outputs": [],
   "source": [
    "ogsl = pd.DataFrame.from_dict(d2, orient='index', columns = [\"Name\"]).sort_values(by = 'Name')\n",
    "ogsl[1000:1025]"
   ]
  },
  {
   "cell_type": "markdown",
   "metadata": {},
   "source": [
    "# 5 Open BDTNS Data\n",
    "We can now open the dataframe with the [BDTNS](http://bdtns.filol.csic.es) transliterations. This dataframe was pickled in notebook [2_4_Data_Acquisition_BDTNS.ipynb]. The dataframe has five fields: `id_text` (the [BDTNS](http://bdtns.filol.csic.es) number of a document), `id_line` (a continuous line numbering that starts at 1 for each new document; integer), `label` (the regular, human legible [BDTNS](http://bdtns.filol.csic.es) line number), `text` (the transliteration of the line) and `comments` (any comments added to the line in [BDTNS](http://bdtns.filol.csic.es))."
   ]
  },
  {
   "cell_type": "code",
   "execution_count": null,
   "metadata": {},
   "outputs": [],
   "source": [
    "file = 'output/bdtns.p'\n",
    "bdtns = pd.read_pickle(file)\n",
    "bdtns"
   ]
  },
  {
   "cell_type": "markdown",
   "metadata": {},
   "source": [
    "# 6 Tokenizing Signs\n",
    "In order to search by sign, we need to tokenize signs in the transliteration column (`text`) and to ignore elements such as question marks or (half-) brackets. First step is to define different types of separators, operators, and flags that may be present in the text or in the sign name. The most common separators are space and hyphen. Curly brackets are placed around determinatives (semantic classifiers), as in {d}En-lil₂ (\"the god Enlil\"). Curly brackets and hyphens will be replaced by spaces. The separators in `separators2` are used in compound signs, as in |SI.A|, or |ŠU+NIGIN|. Operators, finally, are also used in compound signs and indicate how the signs are written in relation to each other (on top of each other, one inside the other, etc.). Compound signs that represent a sequence of simple signs (|SI.A| for **dirig** or |A.TU.GAB.LIŠ| for **asal₂**( will be decomposed in their component signs. Compound signs of the type |KA×GAR| for **gu₇**) are not analyzed, but their component parts are aligned with [OGSL](http://oracc.org/ogsl) practices (that is |KA×NINDA| will be re-written as |KA×GAR|, because in OGSL GAR is the name of the sign that can be read **ninda** or **gar**).\n",
    "\n",
    "Finally the flags include various characters that may appear in the transliteration but will be ignored in the search. A search for `ninda`, therefore, will find `ninda`, `[nin]da`, `ninda?`, etc., as well as `gar`, `⸢gar⸣`, `gar!`, etc. (but not `nagar`, see below).\n",
    "\n",
    "The variable `table` represents a table in which each character in `flags` corresponds to `None`. This is used by the `translate()` method; see below."
   ]
  },
  {
   "cell_type": "code",
   "execution_count": null,
   "metadata": {},
   "outputs": [],
   "source": [
    "separators = ['{', '}', '-']\n",
    "separators2 = ['.', '+', '|']  # used in compound signs\n",
    "operators = ['&', '%', '@', '×']\n",
    "flags = \"][!?<>⸢⸣⌈⌉*/\"\n",
    "table = str.maketrans(dict.fromkeys(flags))"
   ]
  },
  {
   "cell_type": "code",
   "execution_count": null,
   "metadata": {},
   "outputs": [],
   "source": [
    "def signs(row):  \n",
    "    row_l = []\n",
    "    sign_names = []\n",
    "    sign_sequence = ''\n",
    "    row = row.translate(table).lower()  # remove flags, half brackets, square brackets.\n",
    "    row = row.replace('...', 'x')\n",
    "    for s in separators: # first split row into signs   \n",
    "        row = row.replace(s, ' ').strip()\n",
    "    s_l = row.split()\n",
    "    s_l = [d2.get(sign, sign) for sign in s_l]\n",
    "    # Now take care of some special situations: signs with qualifiers, compound signs.\n",
    "    for sign in s_l:\n",
    "        if sign[-1] == ')' and '(' in sign: # qualified sign - get only the qualifier\n",
    "            sign = sign.split('(')[1][:-1]\n",
    "            sign = d2.get(sign, sign)\n",
    "        if '.' in sign or '+' in sign: \n",
    "            for s in separators2:\n",
    "                sign = sign.replace(s, ' ').strip() \n",
    "            sign_l = sign.split()\n",
    "            row_l.extend(sign_l)\n",
    "            continue\n",
    "        if '×' in sign in sign: #compound \n",
    "            sign_l = sign.replace('|', '').split('×')\n",
    "            #replace individual signs of the compound by OGSL names\n",
    "            sign_l = [d2.get(sign, sign) for sign in sign_l] \n",
    "            sign = '|' +'×'.join(sign_l) + '|'\n",
    "        row_l.append(sign)\n",
    "        # add space before and after each line so that each sign representation is enclosed in spaces\n",
    "    return ' ' + ' '.join(row_l).upper() + ' ' "
   ]
  },
  {
   "cell_type": "code",
   "execution_count": null,
   "metadata": {},
   "outputs": [],
   "source": [
    "bdtns[\"sign_names\"] = bdtns[\"text\"].progress_apply(signs)\n",
    "bdtns.to_pickle('output/bdtns_tokenized.p')"
   ]
  },
  {
   "cell_type": "markdown",
   "metadata": {},
   "source": [
    "# 7 The Search Function\n",
    "The search function takes as input any style of transliteration recognized in [OGSL](http://orac.org/ogsl) in upper or lower case (see the search instructions below).  \n",
    "\n",
    "The search engine will find any matching sequence of signs, independent of the transliteration, thus 'nig2 sig' will also find 'ninda sig'.\n",
    "\n",
    "The search results are listed in a DataFrame. If there are 25 results or less, the DataFrame provides links to the [BDTNS](http://bdtns.filol.csic.es) pages of the matching texts."
   ]
  },
  {
   "cell_type": "code",
   "execution_count": null,
   "metadata": {},
   "outputs": [],
   "source": [
    "digi = '0123456789x'\n",
    "inde = '₀₁₂₃₄₅₆₇₈₉ₓ'\n",
    "char1 = '{}-cjĝ*'\n",
    "char2 = '   šŋŋ×'\n",
    "index = str.maketrans(digi, inde)\n",
    "char = str.maketrans(char1, char2)\n",
    "ind = re.compile(r'[a-zŋḫṣšṭA-ZŊḪṢŠṬ][0-9x]{1,2}') \n",
    "anchor = '<a href=\"http://bdtns.filol.csic.es/{}\", target=\"_blank\">{}</a>'"
   ]
  },
  {
   "cell_type": "code",
   "execution_count": null,
   "metadata": {},
   "outputs": [],
   "source": [
    "def search(search, maxhits, links): \n",
    "    search = search.lower().replace('sz', 'š').translate(char).strip()\n",
    "    search = re.sub(ind, lambda m: m.group().translate(index), search)\n",
    "    search_l = search.split()\n",
    "    search_l = [d2.get(s,s) for s in search_l]\n",
    "    row_l = []\n",
    "    for sign in search_l: \n",
    "        if '.' in sign or '+' in sign: \n",
    "            for s in separators2:\n",
    "                sign = sign.replace(s, ' ').strip() \n",
    "                sign_l = sign.split()\n",
    "            row_l.extend(sign_l)\n",
    "        elif '×' in sign:\n",
    "            sign_l = sign.replace('|', '').split('×')\n",
    "            sign_l = [d2.get(sign, sign) for sign in sign_l]\n",
    "            sign = '|' + '×'.join(sign_l) + '|'\n",
    "            row_l.append(sign)\n",
    "        else: \n",
    "            row_l.append(sign)\n",
    "    #row_l = [re.escape(s) for s in row_l]\n",
    "    signs = ' '.join(row_l).upper()\n",
    "    signs_esc = re.escape(' ' + signs + ' ') # add space before and after the search so that each sign representation is enclosed in spaces\n",
    "    signs_esc = signs_esc.replace('\\ X\\ ', '(?:\\ [^ ]+)*\\ ')\n",
    "    show = ['id_text', 'label', 'text']\n",
    "    #results = bdtns[show].loc[bdtns['sign_names'].str.contains('(?:(?<=\\s)|(?<=^))'+signs+'(?=\\s|$)', regex=True)].copy()\n",
    "    #results = bdtns[show].loc[bdtns['sign_names'].str.contains(signs_esc, regex=True)].copy()\n",
    "    results = bdtns.loc[bdtns['sign_names'].str.contains(signs_esc, regex=True), show].copy()\n",
    "    hits = len(results)\n",
    "    if maxhits > hits: \n",
    "        maxhits = hits\n",
    "    print(signs), print(str(hits) + ' hits; ' + str(maxhits) +  \" displayed\")\n",
    "    results = results[:maxhits]\n",
    "    if links:\n",
    "        results['id_text'] = [anchor.format(val,val) for val in results['id_text']]\n",
    "        results = results.style\n",
    "    return results"
   ]
  },
  {
   "cell_type": "markdown",
   "metadata": {},
   "source": [
    "# 8 Search Instructions\n",
    "Search for a sequence of sign values in any transliteration system recognized by [OGSL](http://oracc.org/ogsl). Thus, sugal₇, sukkal, or luh, in upper or lower case will all return the same results.\n",
    "\n",
    "Determinatives (semantic classifiers) may be entered between curly brackets or as regular signs. Thus, gesz taskarin, gesz-taskarin, {gesz}taskarin, and {ŋeš}tug₂ will all yield the same results. \n",
    "\n",
    "Signs may be connected with spaces or hyphens.\n",
    "\n",
    "The Shin may be represented by š, c, or sz in upper or lower case; nasal g may be represented as j, ŋ, or ĝ.\n",
    "\n",
    "Sign indexes may be represented by regular numbers or by index numbers (sig₇ or sig7).\n",
    "\n",
    "Compound signs (such as diri) are resolved in their component signs if the compound represents a simple sequence of signs. Thus diri is resolved as SI A, but gu₇ is resolved as |KA×GAR|.\n",
    "\n",
    "To search for a compound sign by sign name, enter it between pipes (|). The \"times\" sign may be represented by \\* (enter |UR₂×A| or |UR₂\\*A|, but not |URxA|).\n",
    "\n",
    "Wildcard: x or X, represents any number of signs in between (e.g. ku6-x-muszen will find all places where HA is followed by HU with zero or more signs in between)."
   ]
  },
  {
   "cell_type": "code",
   "execution_count": null,
   "metadata": {},
   "outputs": [],
   "source": [
    "# Creating an interface\n",
    "button = widgets.Button(description='Search')\n",
    "text = widgets.Text(\n",
    "       value='',\n",
    "       description='', )\n",
    "maxhits = widgets.IntSlider(\n",
    "        value=25,\n",
    "        min=25,\n",
    "        max=100000,\n",
    "        step=25,\n",
    "        description='Max hits:')\n",
    "links = widgets.Checkbox(\n",
    "    value=True,\n",
    "    description='Display Links')\n",
    "out = widgets.Output()\n",
    "def on_button_clicked(_):\n",
    "      # \"linking function with output\"\n",
    "        with out:\n",
    "          # what happens when we press the button\n",
    "            clear_output()\n",
    "            display(search(text.value, maxhits.value, links.value))\n",
    "            \n",
    "# linking button and function together using a button's method\n",
    "button.on_click(on_button_clicked)\n",
    "# displaying button and its output together\n",
    "line = widgets.HBox([text, maxhits])\n",
    "widgets.VBox([line,links,button,out])"
   ]
  },
  {
   "cell_type": "markdown",
   "metadata": {},
   "source": [
    "# 9 Alternative Interface\n",
    "The following alterative interface is much simpler in its coding (essentially letting the @interact line do all the work). To be useful, this interface requires a fairly fast machine because the search will update live while you type. The interface uses the same search function as above, so search instructions and results are the same."
   ]
  },
  {
   "cell_type": "code",
   "execution_count": null,
   "metadata": {},
   "outputs": [],
   "source": [
    "@interact\n",
    "def q(Search = '', maxhits = 25, links = True): \n",
    "    return search(Search, maxhits, links)"
   ]
  },
  {
   "cell_type": "code",
   "execution_count": null,
   "metadata": {},
   "outputs": [],
   "source": []
  }
 ],
 "metadata": {
  "kernelspec": {
   "display_name": "Python 3",
   "language": "python",
   "name": "python3"
  },
  "language_info": {
   "codemirror_mode": {
    "name": "ipython",
    "version": 3
   },
   "file_extension": ".py",
   "mimetype": "text/x-python",
   "name": "python",
   "nbconvert_exporter": "python",
   "pygments_lexer": "ipython3",
   "version": "3.6.7"
  },
  "widgets": {
   "state": {
    "7c66f1654d54454db4a8573a367a47c8": {
     "views": [
      {
       "cell_index": 7
      }
     ]
    }
   },
   "version": "1.2.0"
  }
 },
 "nbformat": 4,
 "nbformat_minor": 4
}
