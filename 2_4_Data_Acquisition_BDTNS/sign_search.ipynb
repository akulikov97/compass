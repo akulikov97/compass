{
 "cells": [
  {
   "cell_type": "markdown",
   "metadata": {},
   "source": [
    "# Search BDTNS by Sign"
   ]
  },
  {
   "cell_type": "code",
   "execution_count": null,
   "metadata": {
    "collapsed": true
   },
   "outputs": [],
   "source": [
    "import pandas as pd\n",
    "from tqdm.auto import tqdm\n",
    "tqdm.pandas()\n",
    "import re\n",
    "import pickle"
   ]
  },
  {
   "cell_type": "code",
   "execution_count": null,
   "metadata": {
    "collapsed": false
   },
   "outputs": [],
   "source": [
    "with open(\"../test fasttext/output/ogsl.p\", \"rb\") as f:\n",
    "    o = pickle.load(f)"
   ]
  },
  {
   "cell_type": "code",
   "execution_count": null,
   "metadata": {
    "collapsed": true
   },
   "outputs": [],
   "source": [
    "d = dict(zip(o['name'], o['utf8']))\n",
    "d2 = dict(zip(o['value'], o['name']))"
   ]
  },
  {
   "cell_type": "code",
   "execution_count": null,
   "metadata": {
    "collapsed": false
   },
   "outputs": [],
   "source": [
    "with open('output/bdtns.p', 'rb') as f: \n",
    "    df = pickle.load(f)"
   ]
  },
  {
   "cell_type": "code",
   "execution_count": null,
   "metadata": {
    "collapsed": true
   },
   "outputs": [],
   "source": [
    "separators = ['{', '}', '-']\n",
    "separators2 = ['.', '+', '|']\n",
    "operators = ['&', '%', '@', '×']\n",
    "flags = \"][!?<>⸢⸣⌈⌉*/\"\n",
    "table = str.maketrans(dict.fromkeys(flags))"
   ]
  },
  {
   "cell_type": "code",
   "execution_count": null,
   "metadata": {
    "collapsed": true
   },
   "outputs": [],
   "source": [
    "def signs(row):  \n",
    "    row_l = []\n",
    "    sign_names = []\n",
    "    sign_sequence = ''\n",
    "    row = row.translate(table).lower()\n",
    "    for s in separators: # first split row into signs   \n",
    "        row = row.replace(s, ' ').strip()\n",
    "    s_l = row.split()\n",
    "    s_l = [d2[sign] if sign in d2 else sign for sign in s_l]\n",
    "    for sign in s_l:\n",
    "        if sign[-1] == ')' and '(' in sign: # qualified sign - get only the qualifier\n",
    "            sign = sign.split('(')[1][:-1]\n",
    "        if '.' in sign or '+' in sign: \n",
    "            for s in separators2:\n",
    "                sign = sign.replace(s, ' ').strip() \n",
    "            sign_l = sign.split()\n",
    "            row_l.extend(sign_l)\n",
    "            continue\n",
    "        if '×' in sign and not '|' in sign:\n",
    "            sign_l = sign.split('×')\n",
    "            sign_l = [d2[sign] if sign in d2 else sign for sign in sign_l]\n",
    "            sign = '|' + '×'.join(sign_l) + '|'\n",
    "        row_l.append(sign)\n",
    "        sign_names = [d2[sign] if sign in d2 else sign for sign in row_l]\n",
    "    return ' '.join(sign_names).upper()"
   ]
  },
  {
   "cell_type": "code",
   "execution_count": null,
   "metadata": {
    "collapsed": false
   },
   "outputs": [],
   "source": [
    "df[\"sign_names\"] = df[\"text\"].progress_apply(signs)"
   ]
  },
  {
   "cell_type": "markdown",
   "metadata": {},
   "source": [
    "# The Search Function\n",
    "The search function takes as input any style of transliteration recognized in [OGSL](http://orac.org/ogsl) in upper or lower case. Signs may be connected with hyphens or spaces, determinatives may be written between curly brackets ({d}En-ki), or on the line (d-nin-gisz-zi-da). Shin may be represented by š, c, or sz and sign index numbers may be written on the line, or with Unicode subscript numbers ('e₂' and 'e2' are equivalent, but 'é' will yield no results). '{d}Nin-giš-zi-da-ke₄', 'd-nin-ŋeš-zi-da-ke₄', or 'AN nin gisz ZI da ke4' will all return the same results.  \n",
    "\n",
    "The search engine will find any matching sequence of signs, independent of the transliteration, thus 'nig2 sig' will also find 'ninda sig'.\n",
    "\n",
    "The search results are listed in a DataFrame. If there are 25 results or less, the DataFrame provides links to the [BDTNS](http://bdtns.filol.csic.es) pages of the matching texts."
   ]
  },
  {
   "cell_type": "code",
   "execution_count": null,
   "metadata": {
    "collapsed": true
   },
   "outputs": [],
   "source": [
    "num = '0123456789x{}-c*'\n",
    "ind = '₀₁₂₃₄₅₆₇₈₉ₓ   š×'\n",
    "tab = str.maketrans(num, ind)\n",
    "anchor = '<a href=\"http://bdtns.filol.csic.es/{}\", target=\"_blank\">{}</a>'"
   ]
  },
  {
   "cell_type": "code",
   "execution_count": null,
   "metadata": {
    "collapsed": false
   },
   "outputs": [],
   "source": [
    "def search(search): \n",
    "    search = search.lower().replace('sz', 'š').translate(tab).strip()\n",
    "    search_l = search.split()\n",
    "    search_l = [d2[s] if s in d2 else s for s in search_l]\n",
    "    row_l = []\n",
    "    for sign in search_l: \n",
    "        if '.' in sign or '+' in sign: \n",
    "            for s in separators2:\n",
    "                sign = sign.replace(s, ' ').strip() \n",
    "                sign_l = sign.split()\n",
    "            row_l.extend(sign_l)\n",
    "        elif '×' in sign:\n",
    "            sign_l = sign.replace('|', '').split('×')\n",
    "            sign_l = [d2[sign] if sign in d2 else sign for sign in sign_l]\n",
    "            sign = '|' + '×'.join(sign_l) + '|'\n",
    "            row_l.append(sign)\n",
    "        else: \n",
    "            row_l.append(sign)\n",
    "        print(row_l)\n",
    "    search_l = [re.escape(s) for s in row_l]\n",
    "    signs = ' '.join(search_l).upper()\n",
    "    show = ['id_text', 'line_label', 'text']\n",
    "    #results = df[show].loc[df['sign_names'].str.contains('(?:(?<=\\s)|(?<=^))'+signs+'(?=\\s|$)', regex=True)].copy()\n",
    "    results = df[show].loc[df['sign_names'].str.contains(r'\\b'+signs+r'\\b', regex=True)].copy()\n",
    "    print(signs)\n",
    "    print(str(len(results)) + ' hits')\n",
    "    if len(results) <= 25: # add links only for 25 hits or less\n",
    "        results['id_text'] = [anchor.format(val,val) for val in results['id_text']]\n",
    "        results = results.style\n",
    "    return results"
   ]
  },
  {
   "cell_type": "markdown",
   "metadata": {},
   "source": [
    "# Search Instructions\n",
    "Search for a sequence of sign values in any transliteration system recognized by [OGSL](http://oracc.org/ogsl). Thus, sugal₇, sukkal, or luh, in upper or lower case will all return the same results.\n",
    "\n",
    "The Shin may be represented by š, c, or sz in upper or lower case.\n",
    "\n",
    "Sign indexes may be represented by regular numbers or by index numbers (sig₇ or sig7).\n",
    "\n",
    "Compound signs (such as diri) are resolved in their component signs if the compound represents a simple sequence of signs. Thus diri is resolved as SI A, but gu₇ is resolved as |KA×GAR|.\n",
    "\n",
    "To search for a compound sign by sign name, enter it between pipes (|). The \"times\" sign may be represented by \\* (enter |UR₂×A| or |UR₂\\*A|)."
   ]
  },
  {
   "cell_type": "code",
   "execution_count": null,
   "metadata": {
    "collapsed": false
   },
   "outputs": [],
   "source": [
    "s = input()"
   ]
  },
  {
   "cell_type": "code",
   "execution_count": null,
   "metadata": {
    "collapsed": false
   },
   "outputs": [],
   "source": [
    "search(s)"
   ]
  },
  {
   "cell_type": "code",
   "execution_count": null,
   "metadata": {
    "collapsed": false
   },
   "outputs": [],
   "source": [
    "df[df['text'].str.contains('esir₂')]"
   ]
  },
  {
   "cell_type": "code",
   "execution_count": null,
   "metadata": {
    "collapsed": true
   },
   "outputs": [],
   "source": [
    "s in df.iloc[195]['sign_names']"
   ]
  },
  {
   "cell_type": "code",
   "execution_count": null,
   "metadata": {
    "collapsed": true
   },
   "outputs": [],
   "source": [
    "s"
   ]
  },
  {
   "cell_type": "code",
   "execution_count": null,
   "metadata": {
    "collapsed": true
   },
   "outputs": [],
   "source": [
    "df[df[\"text\"].str.contains('diri')]"
   ]
  },
  {
   "cell_type": "code",
   "execution_count": null,
   "metadata": {
    "collapsed": true
   },
   "outputs": [],
   "source": [
    "df[df['sign_names'].str.contains('SI\\.A')]"
   ]
  },
  {
   "cell_type": "code",
   "execution_count": null,
   "metadata": {
    "collapsed": true
   },
   "outputs": [],
   "source": [
    "df[df['sign_names'].str.contains('A₂ SAL.KUR KA', regex=False)]"
   ]
  },
  {
   "cell_type": "code",
   "execution_count": null,
   "metadata": {
    "collapsed": false
   },
   "outputs": [],
   "source": [
    "show = ['id_text', 'line_label', 'text']\n",
    "df[show]"
   ]
  },
  {
   "cell_type": "code",
   "execution_count": null,
   "metadata": {
    "collapsed": false
   },
   "outputs": [],
   "source": [
    "df"
   ]
  },
  {
   "cell_type": "code",
   "execution_count": null,
   "metadata": {
    "collapsed": false
   },
   "outputs": [],
   "source": [
    "%%timeit\n",
    "search('diri-ga')"
   ]
  },
  {
   "cell_type": "code",
   "execution_count": null,
   "metadata": {
    "collapsed": false
   },
   "outputs": [],
   "source": [
    "d2['diri']"
   ]
  },
  {
   "cell_type": "code",
   "execution_count": null,
   "metadata": {
    "collapsed": true
   },
   "outputs": [],
   "source": []
  }
 ],
 "metadata": {
  "kernelspec": {
   "display_name": "Python 3",
   "language": "python",
   "name": "python3"
  },
  "language_info": {
   "codemirror_mode": {
    "name": "ipython",
    "version": 3
   },
   "file_extension": ".py",
   "mimetype": "text/x-python",
   "name": "python",
   "nbconvert_exporter": "python",
   "pygments_lexer": "ipython3",
   "version": "3.6.0"
  },
  "widgets": {
   "state": {
    "7c66f1654d54454db4a8573a367a47c8": {
     "views": [
      {
       "cell_index": 7
      }
     ]
    }
   },
   "version": "1.2.0"
  }
 },
 "nbformat": 4,
 "nbformat_minor": 2
}
