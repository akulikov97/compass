{
 "cells": [
  {
   "cell_type": "markdown",
   "metadata": {},
   "source": [
    "# Search Sign Lists\n",
    "Search sign lists by sign. Display glosses, lemmatizations, and equivalencies in other languages."
   ]
  },
  {
   "cell_type": "markdown",
   "metadata": {},
   "source": [
    "## 0. Preparation\n",
    "Import the required modules"
   ]
  },
  {
   "cell_type": "code",
   "execution_count": 1,
   "metadata": {},
   "outputs": [],
   "source": [
    "import pandas as pd\n",
    "from tqdm.auto import tqdm\n",
    "from ipywidgets import interact\n",
    "import os\n",
    "import sys\n",
    "util_dir = os.path.abspath('../utils')\n",
    "sys.path.append(util_dir)\n",
    "from utils import *"
   ]
  },
  {
   "cell_type": "markdown",
   "metadata": {},
   "source": [
    "## 1 Read Lexical Data\n",
    "The module `utils` in the `utils` directory of Compass includes the function `get_data()` which essentially runs the same code as the [Extended ORACC Parser](../2_1_Data_Acquisition_ORACC/2_1_3_extended_ORACC-JSON_parser.ipynb) (see there for explanation of the code). Its only parameter is a string with [ORACC](http://oracc.org) project names, separated by commas. It returns a Pandas DataFrame in which each word is represented by a row."
   ]
  },
  {
   "cell_type": "code",
   "execution_count": 2,
   "metadata": {},
   "outputs": [
    {
     "name": "stdout",
     "output_type": "stream",
     "text": [
      "Downloading JSON\n",
      "Saving http://build-oracc.museum.upenn.edu/json/dcclt.zip as jsonzip/dcclt.zip.\n"
     ]
    },
    {
     "data": {
      "application/vnd.jupyter.widget-view+json": {
       "model_id": "8937a3ba4d3c43da91f468dce27e57ef",
       "version_major": 2,
       "version_minor": 0
      },
      "text/plain": [
       "HBox(children=(FloatProgress(value=1.0, bar_style='info', description='dcclt', max=1.0, style=ProgressStyle(de…"
      ]
     },
     "metadata": {},
     "output_type": "display_data"
    },
    {
     "name": "stdout",
     "output_type": "stream",
     "text": [
      "\n",
      "Saving http://build-oracc.museum.upenn.edu/json/dcclt-nineveh.zip as jsonzip/dcclt-nineveh.zip.\n"
     ]
    },
    {
     "data": {
      "application/vnd.jupyter.widget-view+json": {
       "model_id": "3aa7563706094ded93b54a1ae43b5e99",
       "version_major": 2,
       "version_minor": 0
      },
      "text/plain": [
       "HBox(children=(FloatProgress(value=1.0, bar_style='info', description='dcclt/nineveh', max=1.0, style=Progress…"
      ]
     },
     "metadata": {},
     "output_type": "display_data"
    },
    {
     "name": "stdout",
     "output_type": "stream",
     "text": [
      "\n",
      "Saving http://build-oracc.museum.upenn.edu/json/dcclt-ebla.zip as jsonzip/dcclt-ebla.zip.\n"
     ]
    },
    {
     "data": {
      "application/vnd.jupyter.widget-view+json": {
       "model_id": "ae6810ede90a45bd94bc39c58be8ed44",
       "version_major": 2,
       "version_minor": 0
      },
      "text/plain": [
       "HBox(children=(FloatProgress(value=1.0, bar_style='info', description='dcclt/ebla', max=1.0, style=ProgressSty…"
      ]
     },
     "metadata": {},
     "output_type": "display_data"
    },
    {
     "name": "stdout",
     "output_type": "stream",
     "text": [
      "\n",
      "Saving http://build-oracc.museum.upenn.edu/json/dcclt-signlists.zip as jsonzip/dcclt-signlists.zip.\n"
     ]
    },
    {
     "data": {
      "application/vnd.jupyter.widget-view+json": {
       "model_id": "d9ba8b603cc844dab44980958da6b8dd",
       "version_major": 2,
       "version_minor": 0
      },
      "text/plain": [
       "HBox(children=(FloatProgress(value=1.0, bar_style='info', description='dcclt/signlists', max=1.0, style=Progre…"
      ]
     },
     "metadata": {},
     "output_type": "display_data"
    },
    {
     "name": "stdout",
     "output_type": "stream",
     "text": [
      "\n",
      "Parsing JSON\n"
     ]
    },
    {
     "data": {
      "application/vnd.jupyter.widget-view+json": {
       "model_id": "7441c0ff10dc4a06af7ace9501f018cc",
       "version_major": 2,
       "version_minor": 0
      },
      "text/plain": [
       "HBox(children=(FloatProgress(value=0.0, description='dcclt', max=4526.0, style=ProgressStyle(description_width…"
      ]
     },
     "metadata": {},
     "output_type": "display_data"
    },
    {
     "name": "stdout",
     "output_type": "stream",
     "text": [
      "\n"
     ]
    },
    {
     "data": {
      "application/vnd.jupyter.widget-view+json": {
       "model_id": "963d63c0698a4783b18772cc6616e10f",
       "version_major": 2,
       "version_minor": 0
      },
      "text/plain": [
       "HBox(children=(FloatProgress(value=0.0, description='dcclt/nineveh', max=664.0, style=ProgressStyle(descriptio…"
      ]
     },
     "metadata": {},
     "output_type": "display_data"
    },
    {
     "name": "stdout",
     "output_type": "stream",
     "text": [
      "\n"
     ]
    },
    {
     "data": {
      "application/vnd.jupyter.widget-view+json": {
       "model_id": "f74bd454cdb74542826fdd1932c75f9c",
       "version_major": 2,
       "version_minor": 0
      },
      "text/plain": [
       "HBox(children=(FloatProgress(value=0.0, description='dcclt/ebla', max=156.0, style=ProgressStyle(description_w…"
      ]
     },
     "metadata": {},
     "output_type": "display_data"
    },
    {
     "name": "stdout",
     "output_type": "stream",
     "text": [
      "\n"
     ]
    },
    {
     "data": {
      "application/vnd.jupyter.widget-view+json": {
       "model_id": "2aeaa1bcfeab42e788a7a7988feaeb40",
       "version_major": 2,
       "version_minor": 0
      },
      "text/plain": [
       "HBox(children=(FloatProgress(value=0.0, description='dcclt/signlists', max=136.0, style=ProgressStyle(descript…"
      ]
     },
     "metadata": {},
     "output_type": "display_data"
    },
    {
     "name": "stdout",
     "output_type": "stream",
     "text": [
      "\n"
     ]
    }
   ],
   "source": [
    "projects = \"dcclt, dcclt/nineveh, dcclt/signlists, dcclt/ebla\"\n",
    "words = get_data(projects)"
   ]
  },
  {
   "cell_type": "markdown",
   "metadata": {},
   "source": [
    "## 2 Select Sign Lists\n",
    "Select the lines that include an entry with field = 'sg'. Format the data to create a proper `id_line` (as string) and to create a `lemma` column."
   ]
  },
  {
   "cell_type": "code",
   "execution_count": 3,
   "metadata": {},
   "outputs": [
    {
     "data": {
      "application/vnd.jupyter.widget-view+json": {
       "model_id": "d6c612ca46d049d6b1a323aa4ca2f87a",
       "version_major": 2,
       "version_minor": 0
      },
      "text/plain": [
       "HBox(children=(FloatProgress(value=0.0, max=92595.0), HTML(value='')))"
      ]
     },
     "metadata": {},
     "output_type": "display_data"
    },
    {
     "name": "stdout",
     "output_type": "stream",
     "text": [
      "\n"
     ]
    }
   ],
   "source": [
    "words['id_line'] = [str(ids) for ids in words['id_line']]\n",
    "words['id_line'] = words['id_text'] + words['id_line']\n",
    "lines = words.loc[words.field == 'sg', 'id_line']\n",
    "words = words.loc[words.id_line.isin(lines)]\n",
    "words['lemma'] = [f'{words.iloc[i][\"cf\"]}[{words.iloc[i][\"gw\"]}]{words.iloc[i][\"pos\"]}' \n",
    "                  if not words.iloc[i][\"cf\"] == '' else ''\n",
    "                 for i in tqdm(range(len(words)))]"
   ]
  },
  {
   "cell_type": "markdown",
   "metadata": {},
   "source": [
    "## 3 Select Relevant Columns"
   ]
  },
  {
   "cell_type": "code",
   "execution_count": 4,
   "metadata": {},
   "outputs": [],
   "source": [
    "words = words[['id_text', 'id_line', 'id_word', 'lang', 'form', 'lemma', 'field']]"
   ]
  },
  {
   "cell_type": "markdown",
   "metadata": {},
   "source": [
    "## 4 Sign, Gloss, Sign Name, Lemma\n",
    "Create separate DataFrames for Sign (sg), Sign Name (sn), Equivalencies (eq; equivalencies in Akkadian or other languages), Sumerian word (sv) and Gloss (pr). Merge those DataFrames on `id_line`.\n",
    "\n",
    "The only DataFrame that may have more than one entry per `id_line` is `eq`. This is the case in some Middle Babylonian exemplars of Sa, where the Sumerian sign is associated with Akkadian, Hurrian, and Ugaritic translations. For that reason, the first merge (between sg and eq) has `how = right`.\n",
    "\n",
    "Each of the DataFrames has the columns `lemma`, `form`, `lang`. The column `lang` is only relevant for sv (the lemmatized word, usually in Sumerian, represented by the sign) and for eq (the equivalent in another language). In eq the field `lang` is renamed `lang2`. The fields `lemma` and `form` are given relevant names (for instance `sign_name` and `sn_lemma` in sn) in each of the DataFrames before merging."
   ]
  },
  {
   "cell_type": "code",
   "execution_count": 5,
   "metadata": {},
   "outputs": [],
   "source": [
    "sg = words[['id_line', 'form']].loc[words.field == 'sg']           \n",
    "sn = words[['id_line', 'form']].loc[words.field == 'sn']\n",
    "sn.columns = ['id_line', 'sign_name']\n",
    "eq = words[['id_text', 'id_line', 'id_word', 'lang', 'form', 'lemma']].loc[words.field == 'eq']\n",
    "eq.columns = ['id_text', 'id_line', 'id_word', 'lang2', 'equiv', 'equiv_lemm']\n",
    "sv = words[['id_line', 'lang', 'form', 'lemma']].loc[words.field == 'sv']\n",
    "sv.columns = ['id_line', 'lang', 'form_sux', 'lemma_sux']\n",
    "pr = words[['id_line', 'form']].loc[words.field == 'pr']\n",
    "pr.columns = ['id_line', 'gloss']"
   ]
  },
  {
   "cell_type": "code",
   "execution_count": 6,
   "metadata": {},
   "outputs": [],
   "source": [
    "sign_l = pd.merge(sg, eq, on = 'id_line', how = 'right')\n",
    "sign_l = pd.merge(sign_l, sn, on = 'id_line', how = 'left')\n",
    "sign_l = pd.merge(sign_l, sv, on = 'id_line', how = 'left')\n",
    "sign_l = pd.merge(sign_l, pr, on = 'id_line', how = 'left')\n",
    "sign_l = sign_l.fillna('')\n",
    "sign_l = sign_l[['id_word', 'form', 'lang', 'lemma_sux', 'lang2', 'equiv', 'equiv_lemm', 'gloss', 'sign_name']]"
   ]
  },
  {
   "cell_type": "markdown",
   "metadata": {},
   "source": [
    "## 5 Save Pickled DataFrame for Future Use.\n",
    "The code in the cells 6 and 7 may be run in a separate Notebook (`search_signlist.ipynb`)."
   ]
  },
  {
   "cell_type": "code",
   "execution_count": 7,
   "metadata": {},
   "outputs": [],
   "source": [
    "sign_l.to_pickle('output/sign_lines.p')"
   ]
  },
  {
   "cell_type": "markdown",
   "metadata": {},
   "source": [
    "## 6 Prepare Data for Search"
   ]
  },
  {
   "cell_type": "code",
   "execution_count": 8,
   "metadata": {},
   "outputs": [],
   "source": [
    "anchor = '<a href=\"http://oracc.org/dcclt/{}\", target=\"_blank\">{}</a>'\n",
    "t = sign_l.copy()\n",
    "t['id_word'] = [anchor.format(val,val) for val in t['id_word']]\n",
    "signs = list(set(sign_l['form']))\n",
    "signs.sort()"
   ]
  },
  {
   "cell_type": "markdown",
   "metadata": {},
   "source": [
    "## 7 Interactive Search"
   ]
  },
  {
   "cell_type": "code",
   "execution_count": 9,
   "metadata": {},
   "outputs": [
    {
     "data": {
      "application/vnd.jupyter.widget-view+json": {
       "model_id": "adbff0de2556415284d02d1f6faa29c8",
       "version_major": 2,
       "version_minor": 0
      },
      "text/plain": [
       "interactive(children=(Dropdown(description='sort_by', options=('id_word', 'form', 'lang', 'lemma_sux', 'lang2'…"
      ]
     },
     "metadata": {},
     "output_type": "display_data"
    }
   ],
   "source": [
    "@interact(sort_by = t.columns, rows = (1, len(t), 1), search = signs)\n",
    "def sort_df(sort_by = \"id_word\", ascending = False, rows = 25, search = 'A'):\n",
    "    l = t[t.form == search]\n",
    "    l = l.sort_values(by = sort_by, ascending = ascending).reset_index(drop=True)[:rows].style\n",
    "    return l"
   ]
  },
  {
   "cell_type": "code",
   "execution_count": null,
   "metadata": {},
   "outputs": [],
   "source": []
  }
 ],
 "metadata": {
  "kernelspec": {
   "display_name": "Python 3",
   "language": "python",
   "name": "python3"
  },
  "language_info": {
   "codemirror_mode": {
    "name": "ipython",
    "version": 3
   },
   "file_extension": ".py",
   "mimetype": "text/x-python",
   "name": "python",
   "nbconvert_exporter": "python",
   "pygments_lexer": "ipython3",
   "version": "3.7.6"
  },
  "widgets": {
   "state": {
    "0a5ada570441422b81feab4f46df6e85": {
     "views": [
      {
       "cell_index": 7
      }
     ]
    },
    "455a67b4345a4b2ca810ae304ddf61de": {
     "views": [
      {
       "cell_index": 7
      }
     ]
    },
    "8b1b885646de476c868fb0583cd3fff2": {
     "views": [
      {
       "cell_index": 7
      }
     ]
    },
    "ab4e279cb03647e984b99cd78f91b68f": {
     "views": [
      {
       "cell_index": 7
      }
     ]
    }
   },
   "version": "1.2.0"
  }
 },
 "nbformat": 4,
 "nbformat_minor": 4
}
