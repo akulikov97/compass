{
 "cells": [
  {
   "cell_type": "code",
   "execution_count": null,
   "metadata": {},
   "outputs": [],
   "source": [
    "import pandas as pd\n",
    "import numpy as np\n",
    "from tqdm import tqdm\n",
    "# from tqdm.auto import tqdm  # for notebooks\n",
    "\n",
    "df = pd.DataFrame(np.random.randint(0, int(1e8), (10000, 1000)))\n",
    "\n",
    "# Create and register a new `tqdm` instance with `pandas`\n",
    "# (can use tqdm_gui, optional kwargs, etc.)\n",
    "tqdm.pandas()\n",
    "\n",
    "# Now you can use `progress_apply` instead of `apply`\n",
    "df.groupby(0).progress_apply(lambda x: x**2)"
   ]
  },
  {
   "cell_type": "code",
   "execution_count": null,
   "metadata": {},
   "outputs": [],
   "source": [
    "import requests\n",
    "from bs4 import BeautifulSoup\n",
    "import re"
   ]
  },
  {
   "cell_type": "code",
   "execution_count": null,
   "metadata": {},
   "outputs": [],
   "source": [
    "letters = ['A', 'B', 'D', 'E', 'G', 'H', 'I', 'K', 'L', 'M', 'N', 'P', 'Q', 'R', 'S', 'Sade', 'Shin', 'T', 'Tet', 'U', 'W', 'Y', 'Z']\n",
    "ur3 = []\n",
    "for l in letters:\n",
    "    response = requests.get(\"http://altorient.gko.uni-leipzig.de/SAD/\" + l + \".htm\")\n",
    "    doc = response.content\n",
    "    new_doc = UnicodeDammit.detwingle(doc)\n",
    "    soup = BeautifulSoup(new_doc, 'html.parser')\n",
    "    for n in soup.find_all(\"p\"):\n",
    "        if \"Ur III\" in n.get_text(): \n",
    "            ur3.append(n.get_text())"
   ]
  },
  {
   "cell_type": "code",
   "execution_count": null,
   "metadata": {},
   "outputs": [],
   "source": [
    "ur3"
   ]
  },
  {
   "cell_type": "code",
   "execution_count": null,
   "metadata": {},
   "outputs": [],
   "source": [
    "ur3_2 = []\n",
    "for i in ur3:\n",
    "    i = i.replace('â€�', '\"')\n",
    "    i = i.replace('â€œ', '\"')\n",
    "    i = i.replace('tÃºg', '{tug₂}')\n",
    "    i = i.replace('\\n', ' ')\n",
    "    i = i.replace('Ãº', 'ú')\n",
    "    ur3_2.append(i)"
   ]
  },
  {
   "cell_type": "code",
   "execution_count": null,
   "metadata": {},
   "outputs": [],
   "source": [
    "ur3_2"
   ]
  },
  {
   "cell_type": "code",
   "execution_count": null,
   "metadata": {},
   "outputs": [],
   "source": [
    "new_doc.decode(\"utf-8\")"
   ]
  },
  {
   "cell_type": "code",
   "execution_count": null,
   "metadata": {},
   "outputs": [],
   "source": [
    "import json"
   ]
  },
  {
   "cell_type": "code",
   "execution_count": null,
   "metadata": {},
   "outputs": [],
   "source": [
    "d = '../2_1_Data_Acquisition_ORACC/jsonzip/obmc/corpusjson'\n",
    "with open(d + '/X000011.json', encoding = 'utf-8') as j:\n",
    "    data_json = json.load(j)"
   ]
  },
  {
   "cell_type": "code",
   "execution_count": null,
   "metadata": {},
   "outputs": [],
   "source": [
    "data = data_json['cdl']\n",
    "type(data)"
   ]
  },
  {
   "cell_type": "code",
   "execution_count": null,
   "metadata": {},
   "outputs": [],
   "source": [
    "for l in data:\n",
    "    if 'linkbase' in l:\n",
    "        print(l['linkbase'])"
   ]
  },
  {
   "cell_type": "code",
   "execution_count": null,
   "metadata": {},
   "outputs": [],
   "source": [
    "import zipfile\n",
    "file = \"../2_1_Data_Acquisition_ORACC/jsonzip/epsd2-literary.zip\"    \n",
    "z = zipfile.ZipFile(file)\n",
    "st = z.read(\"epsd2/literary/corpusjson/Q000616.json\").decode(\"utf-8\") \n",
    "text = json.loads(st)\n",
    "cdl = text['cdl']\n",
    "for n in cdl:\n",
    "    if 'linkbase' in n:\n",
    "        linkbase = n['linkbase']"
   ]
  },
  {
   "cell_type": "code",
   "execution_count": null,
   "metadata": {},
   "outputs": [],
   "source": [
    "linkbase"
   ]
  },
  {
   "cell_type": "code",
   "execution_count": 1,
   "metadata": {},
   "outputs": [],
   "source": [
    "import re\n",
    "letters = r'a-zḫĝŋṣšṭA-ZḪĜŊṢŠṬ'\n",
    "lettersX = re.compile(fr'(?<=[{letters}])X') # capital X preceded by a letter\n",
    "lettersNo = re.compile(fr'[{letters}](\\d+|x)') # any sequence of digits, or X, preceded by a letter\n",
    "\n",
    "ascind, uniind = '0123456789x', '₀₁₂₃₄₅₆₇₈₉ₓ'\n",
    "transind = str.maketrans(ascind, uniind) # translation table for index numbers"
   ]
  },
  {
   "cell_type": "code",
   "execution_count": 4,
   "metadata": {},
   "outputs": [],
   "source": [
    "with open('Q000759.atf',  'r', encoding='utf8') as w:\n",
    "    l = w.read().splitlines()"
   ]
  },
  {
   "cell_type": "code",
   "execution_count": 9,
   "metadata": {},
   "outputs": [],
   "source": [
    "new = []\n",
    "for line in l:\n",
    "    if line[0] in '0123456789':\n",
    "        line = re.sub(lettersNo, lambda m: m.group().translate(transind), line)\n",
    "    new.append(line)"
   ]
  },
  {
   "cell_type": "code",
   "execution_count": 10,
   "metadata": {},
   "outputs": [
    {
     "data": {
      "text/plain": [
       "['&Q000759 = Edubba R',\n",
       " '@composite',\n",
       " '#project: epsd2/literary',\n",
       " '#atf: use unicode',\n",
       " '#atf: use legacy',\n",
       " '#atf: use math',\n",
       " '$ (Edition after A. Gadotti and A. Kleinerman in JAOS 137, 2017, 89-116)',\n",
       " '@div segment A',\n",
       " '1. lú tur dumu é-dub-ba-me-en dumu é-dub-ba-me-en',\n",
       " '2. tukum-bi dumu é-dub-ba-me-en',\n",
       " '3. a-na-àm á-áŋ-ŋá é-dub-ba-a',\n",
       " '4. tukum-bi á-áŋ-ŋá# é#-dub-ba èn ma-tar-re',\n",
       " '5. ga-ba-e-ŋar {d}utu-è-ta ud é-gar₈-e gi₄-a-šè',\n",
       " '6. inim-inim-da nu-mu-da-til-le',\n",
       " '7. á-áŋ-ŋá é-dub-ba a-ab-zu an-zag nu-zu-a',\n",
       " '8. dím-ma nu-di-da-gin₇ di-di-da nu-ub-zu',\n",
       " '9. é-dub-ba-šè ŋen-a-ŋu₁₀-ne',\n",
       " '10. gi₆ 1/3-àm a an-da-ŋál gú-ŋu₁₀ ab-zi-zi-in ka-ŋu₁₀ ab-ak-en',\n",
       " '11. ka-ŋu₁₀ ub-ta-ak-an',\n",
       " '12. gi-dub-ba-ŋu₁₀ im-šu-ŋu₁₀ níŋ-gù-dé-ŋu₁₀',\n",
       " '13. ù níŋ-al-di é-dub-ba-a-ke₄ šu ba-ti',\n",
       " '14. é-dub-ba-šè sun₅-na-bi al-du-un igi nu-bar!-bar!-re-en',\n",
       " '15. é-dub-ba-a-šè ku₄-ku₄-da-ŋu₁₀-ne',\n",
       " '16. šu!-ŋu₁₀ ab-ús šu an!-dab₅',\n",
       " '17. lú kisal-lá dub šu-tab-ba-ŋu₁₀ ki ù-ub-tag',\n",
       " '18. lú# im#-pa-mušen-na-ke₄ ki dùb gurum-ma diri? mu?#-da-zu ba-ŋen-ne',\n",
       " '19. ki dùb gurum-ma saŋ-ŋá an-šè <mu>-un-sàg',\n",
       " '20. tukum-bi bappir-šè im-ma-an-tag',\n",
       " '21. im pa-mušen-na-ka mu-ub-gub-bé-en#',\n",
       " '22. ki dùb gurum-ma-ta mu-ni-in-è#?-en',\n",
       " '23. lú kisal-lá-ka šu-tab-ba-ŋu₁₀ ki# mu#-na#-tag',\n",
       " '24. tuš-ù ù-ma-an-dug₄ [...] KU-KU u₃-de₂-en',\n",
       " '25. tukum-bi {d}nisaba#! <gù> ù-dé-en',\n",
       " '26. dúr-ru-un-ba-an-zé-en ù gù dé!-dé-en-zé-en',\n",
       " '27. lú kisal-lá-<<la>>-ke₄ min-ta-bi-šè téš-bi ù-bí<<-ab>>-tag',\n",
       " '28. lú lú-ù an-ni-ib-šid-e-a',\n",
       " '29. lú a-rá ab-šid-e-a a-rá ab-šid-dè',\n",
       " '30. lú inim-inim ab-šid-e-a inim-inim-ma ab-šid-dè',\n",
       " '31. tukum-bi di₄-di₄-lá gú nu-um-ma-an-si-eš',\n",
       " '32. lú ab-ta-lá bar ŋá!(DAG)-gi₄-a-ka an-ši-ŋen',\n",
       " '33. di₄-di₄-lá gú ù-un!-si-eš',\n",
       " '34. lú kisal-lá-ke₄ im pa-mušen-na im-bi si#-il im níŋ-al-di é-dub-ba-a',\n",
       " '35. ud min-ta ud eš₅-ta igi ab-kár-kár',\n",
       " '36. im pa-mušen-na-ka mu-un-ku₄-ra',\n",
       " '37. [...]',\n",
       " '@end segment',\n",
       " '@div segment B',\n",
       " '1. lú# {la#}lahtan#-na-ke₄  [...]',\n",
       " '2. lú im-šu-ka-ni nu-[...]',\n",
       " '3. lú {la}lahtan-na-ke₄ dub# x x [...] im erin₂-na x-[...]',\n",
       " '4. lú kisal-lá-ke₄ lú dub-dím-e ù# x [...]',\n",
       " '5.  ús#-ús-bi-šè bí-[...]',\n",
       " '6. lú dub-dím-me bí-x-ne íb#-[...]',\n",
       " '7. en#-na# dub#-ba#-ni ab-d[ím-x]',\n",
       " '8. dub lú# dub#-ba#-ni# ab-dím-e si# al-x-sá#',\n",
       " '9. lú dub gub-bu-dè dub-ba#-a# íb#-gub#-bé#',\n",
       " '10. en#-na# dub-ba-ni bí-da-gub-bu-x',\n",
       " '11. igi lú dub#-ba#-ni# bí-da-gub-bu-a-šè x-DU',\n",
       " '12. gu-šúm an-ni-ib#-dab₅-bé',\n",
       " '13. lú ki-ús-ke₄-a-ni dub-dím-e si sá-a ù-bí-in-dug₄',\n",
       " '14. ki-ús-bi-šè si ba-sá-ne',\n",
       " '15. ki-ús-ka dùb gurum-ma al-gub-bu-ne#',\n",
       " '16. lú šúm-ma-ab-zé-en níŋ-šu gaba-ni ab-ús šu-kíŋ ì-dab₅',\n",
       " '17. ugu-bi níŋ-zi-da dirig inim-inim ak-da-ni al-gub',\n",
       " '18. šúm-ma-ab-zé-en gù al-dé-dé',\n",
       " '19. lú igi-ni al-bar-re-a lú šu-ni lú ŋiri₃-ni al-[x]',\n",
       " '20. lú šúm-ma-ab-zé-en-na níŋ mu-ni-un-pàd-dè [...]',\n",
       " '21. ki-ús-a-ka a ba-da-gub-ba',\n",
       " '22. a-rá diš a-rá min-àm-ka x [x (x?)]',\n",
       " '23. lú a-a-ke₄ dug kéš-da ù-bí-in#-[x]',\n",
       " '24. dúb-ba-ab lú im-dúb ù#-bí#-in#-[...]',\n",
       " '24a. tag-ab-ba x x-[...]',\n",
       " '25. dug# ù-NE íd šà iri-ka [...]',\n",
       " '26. na₈#-na₈-ne x x x [...]-ta#? àm-mi-íb-[...]',\n",
       " '27. [...] ab-lá [...]',\n",
       " '28. x x DI dumu é-dub-ba-a [...]',\n",
       " '29. lú-e ká saŋ íl-ta-àm [...]',\n",
       " '30. šu-ne-ne-ta lú! ab-lá-e [...]',\n",
       " '31. lú kisal-lá-ke₄ lú dub-sar! x [...]',\n",
       " '32. ki dùb gurum-ma-šè mu-ni-íb-x-[...]',\n",
       " '33. lú a-a-ke₄ a-bi níŋ-zi-da [...]',\n",
       " '34. lú x-x-x-na šu-ne-[...]',\n",
       " '35. šu-ne-ne-a ù-un-x-[...]',\n",
       " '36. lú lú#-ù ab-da-lá-a [...]',\n",
       " '37. lú x-x nu-un-šid-[...]',\n",
       " '38. šà šu-na egir šu-na ud-bi x',\n",
       " '39. lú a-a-ke₄ a bí-íb-na₈-na₈',\n",
       " '40. a na₈-a-ni nu-ub-ta-kar de₅-de₅-ga ba-an-na-ab-bé ba-an-x',\n",
       " '41. lú kisal-lá-ke₄ si sá-a bí-in-dug₄ si ba-sá-e-ne-eš',\n",
       " '42. ki#?-ús#? x-x-ta lú dirig# [...]',\n",
       " '43. [...] x-x-a-àm [...]',\n",
       " '@end segment',\n",
       " '@div segment C',\n",
       " '1. [...]',\n",
       " '2. x x [...]',\n",
       " '3. KA# NÍG# [...] x x [...]',\n",
       " '4. lú# ki#-ús# [...] x x [...]',\n",
       " '5. x [...] x x-a#-šè x [...]',\n",
       " '6. x x x x x x [...]',\n",
       " '7. gu₇-an-zé-en ù-ba-ab-dug₄ al-ak#-[eš]',\n",
       " '8. níŋ-gu₇-ta dub-ba PAD-x',\n",
       " '9. lú šu-na ka-ga₁₄-na hé-šub-bé ab-ta-[...]',\n",
       " '10. lú saŋ-ŋar-ke₄ šu ù-bí-in-dug₄! bí!-g[u₇?-. . .]',\n",
       " '11. lú a-a-ke₄ a bí-íb-na₈-na₈',\n",
       " '12. a na₈-a-ni nu-ub-da-kar-aš',\n",
       " '13. im-degx-ne an-na-ab-tag ba-an-da-ab-kar',\n",
       " '14. a na₈-na₈-dè ù-ba-ab-til',\n",
       " '15. {ŋeš}sa ab-lá-e bí-a-ab-gíd ù-bí-ŋar',\n",
       " '16. {ŋeš}sa ù-ba-ab-lá-e-a ù-ba-ab-gíd',\n",
       " '17. lú kisal-lá-ke₄ sar-ra-en-zé-en ù-bí-dug₄ ba-an-sar-sar-ne-eš',\n",
       " '18. dúr-ru-ba-an-zé-en ù-ba-e-dug₄ ba-dúr-ru-ne-ne',\n",
       " '19. tukum-bi dub-e igi bí-íb-kár-kár',\n",
       " '20. dumu é-dub-ba-a sar-šub-ba-ni ù mu-gub-ba-ni',\n",
       " '21. ŋiškim-ma-na inim àm-ŋál-[x]',\n",
       " '22. ad-da é-dub-ba-a-ka-ni da-bi ì-ur₄-ur₄#',\n",
       " '23. šeš-gal-e ù-ba-dab₅ dub-bé igi bí-íb-kár-kár',\n",
       " '24. ki gu-sum si nu-ub-sá-a si an-na-ab-sá-e',\n",
       " '25. tukum-bi dumu é-dub-ba-a tur-re',\n",
       " '26. sar šub-ba-ni ù mu-gub-ba-ni ka-ga₁₄-na li-bí-in-sè',\n",
       " '27. šeš-gal-e ad-da é-dub-ba-a ka-ni an-túd-dè',\n",
       " '28. níŋ-kurum₇ ak-dè ù-ba-ab-til',\n",
       " '29. lú a-a-ke₄ dug dab₅-ba-ab lú im dug-zu ù-bí-in-du₁₁-du₁₁',\n",
       " '30. ab-dab₅-bé-ne',\n",
       " '31. íd šà iri-ka-ta àm-mi-ib-si-si-ne',\n",
       " '32. diš# lahtan-na ù-bí-in-si-[...]',\n",
       " '33. [x] x é#?-{d}utu {ŋeš}sa ab-lá-e a-ab-gíd ù-[...]',\n",
       " '34. [...] x-NE ki {ŋeš}gu#-za {d}nin-[x-(x)]',\n",
       " '35. [...] x-ab-x-[...]',\n",
       " '36. [...] x-ŋar-re-eš ù-[...]',\n",
       " '37. [...] /x\\\\ ba-an-/x\\\\-[...]',\n",
       " '@end segment',\n",
       " '@div segment D',\n",
       " '1. [...]',\n",
       " '2. [...] é#?-dub [...]',\n",
       " '3. [...] x-da x [...]',\n",
       " '4. [...]-e# KA# hé#-en#-na#-x-bi# [...]-x',\n",
       " '5. dug x [... z]é-en šu-na x x DU x x [x]',\n",
       " '6. ì-šid-bi x x [...] x-x-x-x [...]',\n",
       " '7. a-na-aš-àm kurum₆-ma-ne-ne al-e-tur',\n",
       " '8. a-na-aš-àm kurum₆-ma-ne-ne níŋ-gu₇ nu-ŋál',\n",
       " '9. lú lú-ù dumu ŋá-gi₄-a-ka x-x-en-nu',\n",
       " '10. gú-ne-ne zi-ga-an-zé-en',\n",
       " '11. si sá-zé-en ù-bí-íb-dug₄ si sá-sá-e-ne-eš',\n",
       " '12. é-šè te-te-a-šè',\n",
       " '13. min-bi-šé {d}nisaba-šè ki {ŋeš}gu-za {d}nin-líl!',\n",
       " '14. dumu é-dub-ba ki {ŋeš}gú-za um-mi-a',\n",
       " '15. dug₄-ba-ne-ne-a ki ab-za-za-ne',\n",
       " '16. ká lú bal-a-ka ki ŋeš KA šeš-a-ka',\n",
       " '17. ki-ús-bi ba-ab-da-gíd-dè',\n",
       " '18. šeš-gal-e ù-ba-gub',\n",
       " '19. im šu-ne-ne-a gù an-na-dé-e-ne',\n",
       " '20. dé-ma-da-ni-ib <<ni-ib>> al-DU',\n",
       " '21. lú tag-tag-ge da ke₄-da úr-ra ab-gub',\n",
       " '22. lú búr-ra-bi al-DU-na im-ma-na-dúb-bé',\n",
       " '23. dumu é-dub-ba-a é-šid-da-na sar-ra-ni',\n",
       " '24. im šu-na šid-da-na ama-na nin-a-ni šeš-a-ni',\n",
       " '25. šu ti₄-ab tag-ge gù ba-dé-e',\n",
       " '26. á-áŋ-ŋá é-dub-ba-a um-mi-a',\n",
       " '27. {d}nisaba zà-mí',\n",
       " 'Colophon. šu-niŋin 3 šu-ši 5',\n",
       " '@end segment']"
      ]
     },
     "execution_count": 10,
     "metadata": {},
     "output_type": "execute_result"
    }
   ],
   "source": [
    "new"
   ]
  },
  {
   "cell_type": "code",
   "execution_count": 13,
   "metadata": {},
   "outputs": [],
   "source": [
    "with open('Q000759b.atf', 'w', encoding = 'utf8') as w:\n",
    "    w.write('\\n'.join(new))"
   ]
  },
  {
   "cell_type": "code",
   "execution_count": 1,
   "metadata": {},
   "outputs": [],
   "source": [
    "import os\n",
    "import sys\n",
    "util_dir = os.path.abspath('../utils')\n",
    "sys.path.append(util_dir)\n",
    "from utils import *"
   ]
  },
  {
   "cell_type": "code",
   "execution_count": 9,
   "metadata": {},
   "outputs": [
    {
     "name": "stdout",
     "output_type": "stream",
     "text": [
      "http://oracc.ub.uni-muenchen.de/dccxt/saa31/json/dccxt-saa31.zip does not exist.\n"
     ]
    },
    {
     "data": {
      "text/plain": [
       "[]"
      ]
     },
     "execution_count": 9,
     "metadata": {},
     "output_type": "execute_result"
    }
   ],
   "source": [
    "oracc_download(['dccxt/saa31'])"
   ]
  },
  {
   "cell_type": "code",
   "execution_count": null,
   "metadata": {},
   "outputs": [],
   "source": []
  }
 ],
 "metadata": {
  "kernelspec": {
   "display_name": "Python 3",
   "language": "python",
   "name": "python3"
  },
  "language_info": {
   "codemirror_mode": {
    "name": "ipython",
    "version": 3
   },
   "file_extension": ".py",
   "mimetype": "text/x-python",
   "name": "python",
   "nbconvert_exporter": "python",
   "pygments_lexer": "ipython3",
   "version": "3.7.6"
  }
 },
 "nbformat": 4,
 "nbformat_minor": 4
}
