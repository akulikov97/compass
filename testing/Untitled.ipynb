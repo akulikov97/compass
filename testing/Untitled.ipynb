{
 "cells": [
  {
   "cell_type": "code",
   "execution_count": null,
   "metadata": {},
   "outputs": [],
   "source": [
    "import pandas as pd\n",
    "import numpy as np\n",
    "from tqdm import tqdm\n",
    "# from tqdm.auto import tqdm  # for notebooks\n",
    "\n",
    "df = pd.DataFrame(np.random.randint(0, int(1e8), (10000, 1000)))\n",
    "\n",
    "# Create and register a new `tqdm` instance with `pandas`\n",
    "# (can use tqdm_gui, optional kwargs, etc.)\n",
    "tqdm.pandas()\n",
    "\n",
    "# Now you can use `progress_apply` instead of `apply`\n",
    "df.groupby(0).progress_apply(lambda x: x**2)"
   ]
  },
  {
   "cell_type": "code",
   "execution_count": null,
   "metadata": {},
   "outputs": [],
   "source": [
    "import requests\n",
    "from bs4 import BeautifulSoup\n",
    "import re"
   ]
  },
  {
   "cell_type": "code",
   "execution_count": null,
   "metadata": {},
   "outputs": [],
   "source": [
    "letters = ['A', 'B', 'D', 'E', 'G', 'H', 'I', 'K', 'L', 'M', 'N', 'P', 'Q', 'R', 'S', 'Sade', 'Shin', 'T', 'Tet', 'U', 'W', 'Y', 'Z']\n",
    "ur3 = []\n",
    "for l in letters:\n",
    "    response = requests.get(\"http://altorient.gko.uni-leipzig.de/SAD/\" + l + \".htm\")\n",
    "    doc = response.content\n",
    "    new_doc = UnicodeDammit.detwingle(doc)\n",
    "    soup = BeautifulSoup(new_doc, 'html.parser')\n",
    "    for n in soup.find_all(\"p\"):\n",
    "        if \"Ur III\" in n.get_text(): \n",
    "            ur3.append(n.get_text())"
   ]
  },
  {
   "cell_type": "code",
   "execution_count": null,
   "metadata": {},
   "outputs": [],
   "source": [
    "ur3"
   ]
  },
  {
   "cell_type": "code",
   "execution_count": null,
   "metadata": {},
   "outputs": [],
   "source": [
    "ur3_2 = []\n",
    "for i in ur3:\n",
    "    i = i.replace('â€�', '\"')\n",
    "    i = i.replace('â€œ', '\"')\n",
    "    i = i.replace('tÃºg', '{tug₂}')\n",
    "    i = i.replace('\\n', ' ')\n",
    "    i = i.replace('Ãº', 'ú')\n",
    "    ur3_2.append(i)"
   ]
  },
  {
   "cell_type": "code",
   "execution_count": null,
   "metadata": {},
   "outputs": [],
   "source": [
    "ur3_2"
   ]
  },
  {
   "cell_type": "code",
   "execution_count": null,
   "metadata": {},
   "outputs": [],
   "source": [
    "new_doc.decode(\"utf-8\")"
   ]
  },
  {
   "cell_type": "code",
   "execution_count": null,
   "metadata": {},
   "outputs": [],
   "source": [
    "import json"
   ]
  },
  {
   "cell_type": "code",
   "execution_count": null,
   "metadata": {},
   "outputs": [],
   "source": [
    "d = '../2_1_Data_Acquisition_ORACC/jsonzip/obmc/corpusjson'\n",
    "with open(d + '/X000011.json', encoding = 'utf-8') as j:\n",
    "    data_json = json.load(j)"
   ]
  },
  {
   "cell_type": "code",
   "execution_count": null,
   "metadata": {},
   "outputs": [],
   "source": [
    "data = data_json['cdl']\n",
    "type(data)"
   ]
  },
  {
   "cell_type": "code",
   "execution_count": null,
   "metadata": {},
   "outputs": [],
   "source": [
    "for l in data:\n",
    "    if 'linkbase' in l:\n",
    "        print(l['linkbase'])"
   ]
  },
  {
   "cell_type": "code",
   "execution_count": null,
   "metadata": {},
   "outputs": [],
   "source": [
    "import zipfile\n",
    "file = \"../2_1_Data_Acquisition_ORACC/jsonzip/epsd2-literary.zip\"    \n",
    "z = zipfile.ZipFile(file)\n",
    "st = z.read(\"epsd2/literary/corpusjson/Q000616.json\").decode(\"utf-8\") \n",
    "text = json.loads(st)\n",
    "cdl = text['cdl']\n",
    "for n in cdl:\n",
    "    if 'linkbase' in n:\n",
    "        linkbase = n['linkbase']"
   ]
  },
  {
   "cell_type": "code",
   "execution_count": null,
   "metadata": {},
   "outputs": [],
   "source": [
    "linkbase"
   ]
  },
  {
   "cell_type": "code",
   "execution_count": null,
   "metadata": {},
   "outputs": [],
   "source": []
  }
 ],
 "metadata": {
  "kernelspec": {
   "display_name": "Python 3",
   "language": "python",
   "name": "python3"
  },
  "language_info": {
   "codemirror_mode": {
    "name": "ipython",
    "version": 3
   },
   "file_extension": ".py",
   "mimetype": "text/x-python",
   "name": "python",
   "nbconvert_exporter": "python",
   "pygments_lexer": "ipython3",
   "version": "3.7.0"
  }
 },
 "nbformat": 4,
 "nbformat_minor": 2
}
