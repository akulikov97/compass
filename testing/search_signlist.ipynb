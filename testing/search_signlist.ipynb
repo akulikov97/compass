{
 "cells": [
  {
   "cell_type": "markdown",
   "metadata": {},
   "source": [
    "# Search for Signs and Equivalents in Sign Lists\n",
    "Before running this Notebook it is necessary to first run [prep_signlist.ipynb](./prep_signlist.ipynb), which downloads the data from [DCCLT](http://oracc.org/dcclt) and prepares it for the search. You may run [prep_signlist.ipynb](./prep_signlist.ipynb) every now and then to fetch the latest data set and use the current notebook for performing the search.\n",
    "\n",
    "The search results are presented in an interactive table with (by default) 25 rows. Move the slider to see more rows.\n",
    "\n",
    "## 1 Load the Modules"
   ]
  },
  {
   "cell_type": "code",
   "execution_count": null,
   "metadata": {},
   "outputs": [],
   "source": [
    "from ipywidgets import interact\n",
    "import pandas as pd"
   ]
  },
  {
   "cell_type": "markdown",
   "metadata": {},
   "source": [
    "## 2 Read Pickled Version of DataFrame"
   ]
  },
  {
   "cell_type": "code",
   "execution_count": null,
   "metadata": {},
   "outputs": [],
   "source": [
    "sign_l = pd.read_pickle('output/sign_lines.p')"
   ]
  },
  {
   "cell_type": "markdown",
   "metadata": {},
   "source": [
    "## 3 Prepare Data for Search"
   ]
  },
  {
   "cell_type": "code",
   "execution_count": null,
   "metadata": {},
   "outputs": [],
   "source": [
    "anchor = '<a href=\"http://oracc.org/dcclt/{}\", target=\"_blank\">{}</a>'\n",
    "t = sign_l.copy()\n",
    "t['id_word'] = [anchor.format(val,val) for val in sign_l['id_word']]\n",
    "signs = list(set(sign_l['form']))\n",
    "signs.sort()"
   ]
  },
  {
   "cell_type": "markdown",
   "metadata": {},
   "source": [
    "## 4 Interactive Search"
   ]
  },
  {
   "cell_type": "code",
   "execution_count": null,
   "metadata": {},
   "outputs": [],
   "source": [
    "@interact(sort_by = t.columns, rows = (1, len(t), 1), search = signs)\n",
    "def sort_df(sort_by = \"id_word\", ascending = False, rows = 25, search = 'A'):\n",
    "    l = t[t.form == search]\n",
    "    l = l.sort_values(by = sort_by, ascending = ascending).reset_index(drop=True)[:rows].style\n",
    "    return l"
   ]
  },
  {
   "cell_type": "code",
   "execution_count": null,
   "metadata": {},
   "outputs": [],
   "source": []
  }
 ],
 "metadata": {
  "kernelspec": {
   "display_name": "Python 3",
   "language": "python",
   "name": "python3"
  },
  "language_info": {
   "codemirror_mode": {
    "name": "ipython",
    "version": 3
   },
   "file_extension": ".py",
   "mimetype": "text/x-python",
   "name": "python",
   "nbconvert_exporter": "python",
   "pygments_lexer": "ipython3",
   "version": "3.7.6"
  }
 },
 "nbformat": 4,
 "nbformat_minor": 4
}
