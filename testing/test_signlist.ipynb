{
 "cells": [
  {
   "cell_type": "markdown",
   "metadata": {},
   "source": [
    "# Search Sign Lists\n",
    "Testing"
   ]
  },
  {
   "cell_type": "code",
   "execution_count": 92,
   "metadata": {},
   "outputs": [],
   "source": [
    "%matplotlib inline  \n",
    "# %matplotlib inline enables drawing of visualizations in the Notebook\n",
    "import warnings\n",
    "warnings.simplefilter(action='ignore', category=FutureWarning) # this suppresses a warning about pandas from tqdm\n",
    "import pandas as pd\n",
    "from ipywidgets import interact\n",
    "import os\n",
    "import sys\n",
    "from tqdm.auto import tqdm\n",
    "tqdm.pandas() # initiate pandas support in tqdm, allowing progress_apply() and progress_map()\n",
    "from matplotlib import pyplot as plt\n",
    "from matplotlib_venn import venn2\n",
    "from nltk.tokenize import MWETokenizer\n",
    "import zipfile\n",
    "import json\n",
    "util_dir = os.path.abspath('../utils')\n",
    "sys.path.append(util_dir)\n",
    "from utils import *"
   ]
  },
  {
   "cell_type": "markdown",
   "metadata": {},
   "source": [
    "#### 3.1.0.1 Read Lexical Data\n",
    "The module `utils` in the `utils` directory of Compass includes the function `get_data()` which essentially runs the same code as the [Extended ORACC Parser](../2_1_Data_Acquisition_ORACC/2_1_3_extended_ORACC-JSON_parser.ipynb) (see there for explanation of the code). Its only parameter is a string with [ORACC](http://oracc.org) project names, separated by commas. It returns a Pandas DataFrame in which each word is represented by a row."
   ]
  },
  {
   "cell_type": "code",
   "execution_count": 34,
   "metadata": {},
   "outputs": [
    {
     "name": "stdout",
     "output_type": "stream",
     "text": [
      "Downloading JSON\n",
      "Saving http://build-oracc.museum.upenn.edu/json/dcclt-nineveh.zip as jsonzip/dcclt-nineveh.zip.\n"
     ]
    },
    {
     "data": {
      "application/vnd.jupyter.widget-view+json": {
       "model_id": "2b820de08ec443f59cd985a359d48c97",
       "version_major": 2,
       "version_minor": 0
      },
      "text/plain": [
       "HBox(children=(FloatProgress(value=1.0, bar_style='info', description='dcclt/nineveh', max=1.0, style=Progress…"
      ]
     },
     "metadata": {},
     "output_type": "display_data"
    },
    {
     "name": "stdout",
     "output_type": "stream",
     "text": [
      "\n",
      "Saving http://build-oracc.museum.upenn.edu/json/dcclt-ebla.zip as jsonzip/dcclt-ebla.zip.\n"
     ]
    },
    {
     "data": {
      "application/vnd.jupyter.widget-view+json": {
       "model_id": "fdba4c4287984c389a3c5d8a6e32d7d7",
       "version_major": 2,
       "version_minor": 0
      },
      "text/plain": [
       "HBox(children=(FloatProgress(value=1.0, bar_style='info', description='dcclt/ebla', max=1.0, style=ProgressSty…"
      ]
     },
     "metadata": {},
     "output_type": "display_data"
    },
    {
     "name": "stdout",
     "output_type": "stream",
     "text": [
      "\n",
      "Saving http://build-oracc.museum.upenn.edu/json/dcclt-signlists.zip as jsonzip/dcclt-signlists.zip.\n"
     ]
    },
    {
     "data": {
      "application/vnd.jupyter.widget-view+json": {
       "model_id": "d4c8827d88284d188c0f118eb30dc1f6",
       "version_major": 2,
       "version_minor": 0
      },
      "text/plain": [
       "HBox(children=(FloatProgress(value=1.0, bar_style='info', description='dcclt/signlists', max=1.0, style=Progre…"
      ]
     },
     "metadata": {},
     "output_type": "display_data"
    },
    {
     "name": "stdout",
     "output_type": "stream",
     "text": [
      "\n",
      "Saving http://build-oracc.museum.upenn.edu/json/dcclt.zip as jsonzip/dcclt.zip.\n"
     ]
    },
    {
     "data": {
      "application/vnd.jupyter.widget-view+json": {
       "model_id": "7b01685b1fad45ea866ac579dfda0f29",
       "version_major": 2,
       "version_minor": 0
      },
      "text/plain": [
       "HBox(children=(FloatProgress(value=1.0, bar_style='info', description='dcclt', max=1.0, style=ProgressStyle(de…"
      ]
     },
     "metadata": {},
     "output_type": "display_data"
    },
    {
     "name": "stdout",
     "output_type": "stream",
     "text": [
      "\n",
      "Parsing JSON\n"
     ]
    },
    {
     "data": {
      "application/vnd.jupyter.widget-view+json": {
       "model_id": "94727e1a2b05465f8c0a31072d258589",
       "version_major": 2,
       "version_minor": 0
      },
      "text/plain": [
       "HBox(children=(FloatProgress(value=0.0, description='dcclt/nineveh', max=664.0, style=ProgressStyle(descriptio…"
      ]
     },
     "metadata": {},
     "output_type": "display_data"
    },
    {
     "name": "stdout",
     "output_type": "stream",
     "text": [
      "\n"
     ]
    },
    {
     "data": {
      "application/vnd.jupyter.widget-view+json": {
       "model_id": "e524f2a06fad4842858518960ba9e2f9",
       "version_major": 2,
       "version_minor": 0
      },
      "text/plain": [
       "HBox(children=(FloatProgress(value=0.0, description='dcclt/ebla', max=156.0, style=ProgressStyle(description_w…"
      ]
     },
     "metadata": {},
     "output_type": "display_data"
    },
    {
     "name": "stdout",
     "output_type": "stream",
     "text": [
      "\n"
     ]
    },
    {
     "data": {
      "application/vnd.jupyter.widget-view+json": {
       "model_id": "8c041189c42d436395b97a793c312dd7",
       "version_major": 2,
       "version_minor": 0
      },
      "text/plain": [
       "HBox(children=(FloatProgress(value=0.0, description='dcclt/signlists', max=136.0, style=ProgressStyle(descript…"
      ]
     },
     "metadata": {},
     "output_type": "display_data"
    },
    {
     "name": "stdout",
     "output_type": "stream",
     "text": [
      "dcclt/signlists/X003931 is not available or not complete\n",
      "\n"
     ]
    },
    {
     "data": {
      "application/vnd.jupyter.widget-view+json": {
       "model_id": "e389b61b55394d1e8418a0fd67f5ebc1",
       "version_major": 2,
       "version_minor": 0
      },
      "text/plain": [
       "HBox(children=(FloatProgress(value=0.0, description='dcclt', max=4526.0, style=ProgressStyle(description_width…"
      ]
     },
     "metadata": {},
     "output_type": "display_data"
    },
    {
     "name": "stdout",
     "output_type": "stream",
     "text": [
      "\n"
     ]
    }
   ],
   "source": [
    "projects = \"dcclt, dcclt/nineveh, dcclt/signlists, dcclt/ebla\"\n",
    "words = get_data(projects)"
   ]
  },
  {
   "cell_type": "markdown",
   "metadata": {},
   "source": [
    "#### 3.1.0.2 Lemmas\n",
    "Create a lemma column and lowercase all lemmas.\n",
    "\n",
    "The `lemma` column is created by combining Citation Form (`cf`), Guide Word (`gw`) and Part of Speech (`pos`). The Pandas `apply()` function applies a function to every row (`axis = 1`) or column (`axis = 0`) of a dataframe. The function used here is a `lambda` function (a temporary function). It is a simple addition of the strings of the `cf`, and `gw` , and `pos` columns (with `[` and `]` as separators), so that a single lemma now looks like `lugal[king]N`. The `lambda` function has one condition: if there is no Citation Form (column `cf` equals the empty string) the contents of the column `form` are taken, followed by `[NA]NA`. The absence of a Citation Form implies that the word was not lemmatized (perhaps an unknown or a broken word). The field `form` contains the raw transliteration - the result may be `x-ra-bi[NA]NA`.\n",
    "\n",
    "If the field `form` is empty (which happens, for instance, when a row represents a horizontal ruling on the tablet), this results in the `lemma` entry `[NA]NA`. In those cases the value of `lemma` is replaced by the empty string by means of a conditional list comprehension.\n",
    "\n",
    "For the current analysis we will use *lemmatized* forms for the comparison between literary and lexical vocabulary. The advantage of using lemmatized forms is that we can easily match, for instance `a naŋ` (to drink water) with `a mu-naŋ` (he drank water), because both are lemmatized as `a[water]N naŋ[drink]V/t`. The unlemmatized forms, therefore, are of little importance here. We need to keep them, for now, because we will also compare *sequences* of lemmas in lexical and literary texts. Premature removal of unlemmatized forms would result in false positives. For instance, the sequence `dumu[child]N x[NA]NA lugal[king]N` should *not* result in a match for the lemma sequence (or multiple word expression) `dumu[child]N lugal[king]N`."
   ]
  },
  {
   "cell_type": "code",
   "execution_count": 42,
   "metadata": {},
   "outputs": [],
   "source": [
    "def prepare(row):\n",
    "    if row['cf'] != '':\n",
    "        lemma = f'{row[\"cf\"]}[{row[\"gw\"]}]{row[\"pos\"]}'\n",
    "    elif row['form'] != '':\n",
    "        lemma = f'{row[\"form\"]}[NA]NA'\n",
    "    else:\n",
    "        lemma = ''\n",
    "    row['lemma'] = lemma.lower()\n",
    "    row['id_line'] = f'{row[\"id_text\"]}.{str(row[\"id_line\"]).zfill(4)}'\n",
    "    return row"
   ]
  },
  {
   "cell_type": "code",
   "execution_count": 43,
   "metadata": {},
   "outputs": [
    {
     "data": {
      "application/vnd.jupyter.widget-view+json": {
       "model_id": "a31ea13bd0d146fdaf776823e889b232",
       "version_major": 2,
       "version_minor": 0
      },
      "text/plain": [
       "HBox(children=(FloatProgress(value=0.0, max=1529463.0), HTML(value='')))"
      ]
     },
     "metadata": {},
     "output_type": "display_data"
    },
    {
     "name": "stdout",
     "output_type": "stream",
     "text": [
      "\n"
     ]
    }
   ],
   "source": [
    "words = words.progress_apply(prepare, axis = 1)"
   ]
  },
  {
   "cell_type": "markdown",
   "metadata": {},
   "source": [
    "Select the lines that include an entry with filed = 'sg'"
   ]
  },
  {
   "cell_type": "code",
   "execution_count": 49,
   "metadata": {},
   "outputs": [],
   "source": [
    "lines = words.loc[words.field == 'sg', 'id_line']\n",
    "words = words.loc[words.id_line.isin(lines)]"
   ]
  },
  {
   "cell_type": "code",
   "execution_count": 54,
   "metadata": {},
   "outputs": [],
   "source": [
    "words2 = words[['id_text', 'id_line', 'lang', 'lemma', 'form', 'field']]"
   ]
  },
  {
   "cell_type": "code",
   "execution_count": 55,
   "metadata": {},
   "outputs": [
    {
     "data": {
      "text/html": [
       "<div>\n",
       "<style scoped>\n",
       "    .dataframe tbody tr th:only-of-type {\n",
       "        vertical-align: middle;\n",
       "    }\n",
       "\n",
       "    .dataframe tbody tr th {\n",
       "        vertical-align: top;\n",
       "    }\n",
       "\n",
       "    .dataframe thead th {\n",
       "        text-align: right;\n",
       "    }\n",
       "</style>\n",
       "<table border=\"1\" class=\"dataframe\">\n",
       "  <thead>\n",
       "    <tr style=\"text-align: right;\">\n",
       "      <th></th>\n",
       "      <th>id_text</th>\n",
       "      <th>id_line</th>\n",
       "      <th>lang</th>\n",
       "      <th>lemma</th>\n",
       "      <th>form</th>\n",
       "      <th>field</th>\n",
       "    </tr>\n",
       "  </thead>\n",
       "  <tbody>\n",
       "    <tr>\n",
       "      <th>1370</th>\n",
       "      <td>dcclt/nineveh/P382640</td>\n",
       "      <td>dcclt/nineveh/P382640.0004</td>\n",
       "      <td>sux</td>\n",
       "      <td>bar[na]na</td>\n",
       "      <td>bar</td>\n",
       "      <td>sv</td>\n",
       "    </tr>\n",
       "    <tr>\n",
       "      <th>1371</th>\n",
       "      <td>dcclt/nineveh/P382640</td>\n",
       "      <td>dcclt/nineveh/P382640.0004</td>\n",
       "      <td>sux</td>\n",
       "      <td>ba-ar₂[na]na</td>\n",
       "      <td>ba-ar₂</td>\n",
       "      <td>pr</td>\n",
       "    </tr>\n",
       "    <tr>\n",
       "      <th>1372</th>\n",
       "      <td>dcclt/nineveh/P382640</td>\n",
       "      <td>dcclt/nineveh/P382640.0004</td>\n",
       "      <td>sux</td>\n",
       "      <td>bar[na]na</td>\n",
       "      <td>BAR</td>\n",
       "      <td>sg</td>\n",
       "    </tr>\n",
       "    <tr>\n",
       "      <th>1373</th>\n",
       "      <td>dcclt/nineveh/P382640</td>\n",
       "      <td>dcclt/nineveh/P382640.0004</td>\n",
       "      <td>akk-x-stdbab</td>\n",
       "      <td>bāru[the-sign-bar]n</td>\n",
       "      <td>ba-a-ru</td>\n",
       "      <td>sn</td>\n",
       "    </tr>\n",
       "    <tr>\n",
       "      <th>1374</th>\n",
       "      <td>dcclt/nineveh/P382640</td>\n",
       "      <td>dcclt/nineveh/P382640.0004</td>\n",
       "      <td>akk-x-stdbab</td>\n",
       "      <td>x[na]na</td>\n",
       "      <td>x</td>\n",
       "      <td>eq</td>\n",
       "    </tr>\n",
       "    <tr>\n",
       "      <th>...</th>\n",
       "      <td>...</td>\n",
       "      <td>...</td>\n",
       "      <td>...</td>\n",
       "      <td>...</td>\n",
       "      <td>...</td>\n",
       "      <td>...</td>\n",
       "    </tr>\n",
       "    <tr>\n",
       "      <th>1526534</th>\n",
       "      <td>dcclt/P229481</td>\n",
       "      <td>dcclt/P229481.0029</td>\n",
       "      <td>sux</td>\n",
       "      <td>tuk[na]na</td>\n",
       "      <td>TUK</td>\n",
       "      <td>sg</td>\n",
       "    </tr>\n",
       "    <tr>\n",
       "      <th>1526535</th>\n",
       "      <td>dcclt/P229481</td>\n",
       "      <td>dcclt/P229481.0030</td>\n",
       "      <td>sux</td>\n",
       "      <td>x-x[na]na</td>\n",
       "      <td>x-x</td>\n",
       "      <td>pr</td>\n",
       "    </tr>\n",
       "    <tr>\n",
       "      <th>1526536</th>\n",
       "      <td>dcclt/P229481</td>\n",
       "      <td>dcclt/P229481.0030</td>\n",
       "      <td>sux</td>\n",
       "      <td>tuk[na]na</td>\n",
       "      <td>TUK</td>\n",
       "      <td>sg</td>\n",
       "    </tr>\n",
       "    <tr>\n",
       "      <th>1526537</th>\n",
       "      <td>dcclt/P229481</td>\n",
       "      <td>dcclt/P229481.0031</td>\n",
       "      <td>sux</td>\n",
       "      <td>x-x[na]na</td>\n",
       "      <td>x-x</td>\n",
       "      <td>pr</td>\n",
       "    </tr>\n",
       "    <tr>\n",
       "      <th>1526538</th>\n",
       "      <td>dcclt/P229481</td>\n",
       "      <td>dcclt/P229481.0031</td>\n",
       "      <td>sux</td>\n",
       "      <td>x[na]na</td>\n",
       "      <td>x</td>\n",
       "      <td>sg</td>\n",
       "    </tr>\n",
       "  </tbody>\n",
       "</table>\n",
       "<p>271494 rows × 6 columns</p>\n",
       "</div>"
      ],
      "text/plain": [
       "                       id_text                     id_line          lang  \\\n",
       "1370     dcclt/nineveh/P382640  dcclt/nineveh/P382640.0004           sux   \n",
       "1371     dcclt/nineveh/P382640  dcclt/nineveh/P382640.0004           sux   \n",
       "1372     dcclt/nineveh/P382640  dcclt/nineveh/P382640.0004           sux   \n",
       "1373     dcclt/nineveh/P382640  dcclt/nineveh/P382640.0004  akk-x-stdbab   \n",
       "1374     dcclt/nineveh/P382640  dcclt/nineveh/P382640.0004  akk-x-stdbab   \n",
       "...                        ...                         ...           ...   \n",
       "1526534          dcclt/P229481          dcclt/P229481.0029           sux   \n",
       "1526535          dcclt/P229481          dcclt/P229481.0030           sux   \n",
       "1526536          dcclt/P229481          dcclt/P229481.0030           sux   \n",
       "1526537          dcclt/P229481          dcclt/P229481.0031           sux   \n",
       "1526538          dcclt/P229481          dcclt/P229481.0031           sux   \n",
       "\n",
       "                       lemma     form field  \n",
       "1370               bar[na]na      bar    sv  \n",
       "1371            ba-ar₂[na]na   ba-ar₂    pr  \n",
       "1372               bar[na]na      BAR    sg  \n",
       "1373     bāru[the-sign-bar]n  ba-a-ru    sn  \n",
       "1374                 x[na]na        x    eq  \n",
       "...                      ...      ...   ...  \n",
       "1526534            tuk[na]na      TUK    sg  \n",
       "1526535            x-x[na]na      x-x    pr  \n",
       "1526536            tuk[na]na      TUK    sg  \n",
       "1526537            x-x[na]na      x-x    pr  \n",
       "1526538              x[na]na        x    sg  \n",
       "\n",
       "[271494 rows x 6 columns]"
      ]
     },
     "execution_count": 55,
     "metadata": {},
     "output_type": "execute_result"
    }
   ],
   "source": [
    "words2"
   ]
  },
  {
   "cell_type": "code",
   "execution_count": 87,
   "metadata": {},
   "outputs": [],
   "source": [
    "words3 = words2.loc[words2.field == 'eq']"
   ]
  },
  {
   "cell_type": "code",
   "execution_count": 96,
   "metadata": {},
   "outputs": [],
   "source": [
    "requested = 'TE'\n",
    "relevant = words2.loc[(words2.field == 'sg') & (words2.form == requested), 'id_line']\n",
    "words4 = words3.loc[(words3.id_line.isin(relevant)), ['id_text', 'lang', 'form', 'lemma']]"
   ]
  },
  {
   "cell_type": "code",
   "execution_count": 97,
   "metadata": {},
   "outputs": [],
   "source": [
    "anchor = '<a href=\"http://oracc.org/dcclt/{}\", target=\"_blank\">{}</a>'\n",
    "words5 = words4.copy()\n",
    "words5['id_text'] = words5.id_text.str[-7:]\n",
    "words5['id_text'] = [anchor.format(val,val) for val in words5['id_text']]"
   ]
  },
  {
   "cell_type": "code",
   "execution_count": 100,
   "metadata": {},
   "outputs": [
    {
     "data": {
      "application/vnd.jupyter.widget-view+json": {
       "model_id": "a83fc5bf914c499cba5d2073411b5c05",
       "version_major": 2,
       "version_minor": 0
      },
      "text/plain": [
       "interactive(children=(Dropdown(description='sort_by', options=('id_text', 'lang', 'lemma', 'form'), value='id_…"
      ]
     },
     "metadata": {},
     "output_type": "display_data"
    }
   ],
   "source": [
    "@interact(sort_by = words4.columns, rows = (1, len(words5), 1))\n",
    "def sort_df(sort_by = \"id_line\", ascending = False, rows = 25):\n",
    "    l = words5.sort_values(by = sort_by, ascending = ascending).reset_index(drop=True)[:rows].style\n",
    "    return l"
   ]
  },
  {
   "cell_type": "code",
   "execution_count": null,
   "metadata": {},
   "outputs": [],
   "source": []
  }
 ],
 "metadata": {
  "kernelspec": {
   "display_name": "Python 3",
   "language": "python",
   "name": "python3"
  },
  "language_info": {
   "codemirror_mode": {
    "name": "ipython",
    "version": 3
   },
   "file_extension": ".py",
   "mimetype": "text/x-python",
   "name": "python",
   "nbconvert_exporter": "python",
   "pygments_lexer": "ipython3",
   "version": "3.7.6"
  },
  "widgets": {
   "state": {
    "0a5ada570441422b81feab4f46df6e85": {
     "views": [
      {
       "cell_index": 7
      }
     ]
    },
    "455a67b4345a4b2ca810ae304ddf61de": {
     "views": [
      {
       "cell_index": 7
      }
     ]
    },
    "8b1b885646de476c868fb0583cd3fff2": {
     "views": [
      {
       "cell_index": 7
      }
     ]
    },
    "ab4e279cb03647e984b99cd78f91b68f": {
     "views": [
      {
       "cell_index": 7
      }
     ]
    }
   },
   "version": "1.2.0"
  }
 },
 "nbformat": 4,
 "nbformat_minor": 4
}
