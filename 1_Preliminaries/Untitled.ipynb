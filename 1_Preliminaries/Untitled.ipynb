{
 "cells": [
  {
   "cell_type": "code",
   "execution_count": 1,
   "metadata": {},
   "outputs": [],
   "source": [
    "from bokeh.io import show\n",
    "from bokeh.layouts import column\n",
    "from bokeh.models import CustomJS, ColumnDataSource, Slider\n",
    "from bokeh.plotting import figure\n",
    "\n",
    "data_dict = {\n",
    "    'lons':[[-1.0, -1.1, -1.2, -1.3, -1.4], [-1.0, -1.1, -1.25, -1.35, -1.45]],\n",
    "    'lats':[[53.0, 53.1, 53.2, 53.3, 53.4], [53.05, 53.15, 53.25, 53.35, 53.45]]\n",
    "}\n",
    "\n",
    "full_source = ColumnDataSource(data_dict)\n",
    "source = ColumnDataSource(data_dict)\n",
    "\n",
    "p = figure(plot_width=400, plot_height=400, tools=\"\")\n",
    "p.multi_line(xs='lons', ys='lats', source=source)\n",
    "\n",
    "callback = CustomJS(args = dict(source=source, full_source=full_source), code = \"\"\"\n",
    "    const time = cb_obj.value;\n",
    "    const full_lons = full_source.data['lons']\n",
    "    const full_lats = full_source.data['lats']\n",
    "\n",
    "    for(i=0; i<full_lons.length; i++) {\n",
    "        source.data['lons'][i] = full_lons[i].slice(0, time)\n",
    "        source.data['lats'][i] = full_lats[i].slice(0, time)\n",
    "    }\n",
    "    // only need this because source.data is being updated \"in place\"\n",
    "    source.change.emit()\n",
    "    \"\"\")\n",
    "\n",
    "slider = Slider(start = 0, end = 5, value = 0, step = 1, callback = callback)\n",
    "slider.js_on_change('value', callback)\n",
    "layout = column(p, slider)\n",
    "\n",
    "show(layout)"
   ]
  },
  {
   "cell_type": "code",
   "execution_count": null,
   "metadata": {},
   "outputs": [],
   "source": []
  }
 ],
 "metadata": {
  "kernelspec": {
   "display_name": "Python 3",
   "language": "python",
   "name": "python3"
  },
  "language_info": {
   "codemirror_mode": {
    "name": "ipython",
    "version": 3
   },
   "file_extension": ".py",
   "mimetype": "text/x-python",
   "name": "python",
   "nbconvert_exporter": "python",
   "pygments_lexer": "ipython3",
   "version": "3.6.7"
  }
 },
 "nbformat": 4,
 "nbformat_minor": 4
}
