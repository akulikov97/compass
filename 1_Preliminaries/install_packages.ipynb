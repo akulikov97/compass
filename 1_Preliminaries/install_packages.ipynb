{
 "cells": [
  {
   "cell_type": "markdown",
   "metadata": {},
   "source": [
    "# Installing Anaconda\n",
    "\n",
    "In order to install Anaconda go to http://anaconda.com and choose the DOWNLOAD tab. Make sure to download the version for Python 3.x. Installing Anaconda will also install Python 3, Jupyter Notebook, Jupyter Lab, numerous Python packages, and several other tools.\n",
    "\n",
    "# Installing or Upgrading Jupyter Notebook, Jupyter Lab, Jupyter Widgets, Jupyter Extensions\n",
    "\n",
    "Jupyter Lab is an interface for using Jupyter notebooks and other types of documents that opens in a web browser. If you installed Python through Anaconda, you already have Jupyter Notebook and Jupyter Lab installed. This is not an issue if you just installed both of them through Anaconda. If you have been working with Jupyter Notebooks for a while and just now installed Jupyter Lab, it is worth checking that you have compatible versions by following the instructions [here](https://pypi.org/project/jupyterlab/).\n",
    "\n",
    "Jupyter Widgets (ipywidgets) are pieces of code that create interactive User Interfaces such as slides, buttons, check marks, text boxes, and drop-down menus. For the widgets to work properly in Jupyter Lab you need jupyterlab version 1.0 or later.  If needed check the version number by opening the terminal (Mac OS X) or the Anaconda Prompt (Windows) and typing:\n",
    "```bash\n",
    "jupyterlab --version\n",
    "```\n",
    "\n",
    "In order to make the widgets available in Jupyter Lab you need to enable Jupyter Lab extension manager and install the widgets extension. Follow the instructions [here](https://jupyterlab.readthedocs.io/en/stable/user/extensions.html). One of the requirements for running the extension manager is a program called `node.js`. You can check the availablity of `node.js` by opening the terminal (OS X) or Anaconda Prompt (Windows) and typing:\n",
    "```bash\n",
    "node -v\n",
    "```\n",
    "If node.js is properly installed this will return the version number.\n",
    "\n",
    "If you have been working with Python, IPython, Jupyter Notebooks, or Jupyter Lab for a while packages may get out of sync and you may run into compatability issues. Refer to the code below to upgrade any package (including ipywidgets, notebook, and jupyterlab) with `%conda`.\n",
    "\n",
    "# Installing Python Packages\n",
    "With Anaconda, you already have a treasure trove of important Python packages, including `Pandas` (for data manipulation), `bokeh` (interactive visualisations), `requests` (for communicating with web sites), `scikit-learn` (machine learning) etc.\n",
    "\n",
    "Inevitably, we will be using packages not included in the standard Anaconda distribution. Before they can be imported in a Python script such packages (or libraries) need to be installed. A package needs to be *imported* every time when a script is started. It needs to be *installed* only once (and updated subsequently, if necessary). An example of such a package is `pyldavis`, a visualization tool for topic modeling, which we will use in Chapter 5.\n",
    "\n",
    "Installing packages can be a rather frustrating experience. The issue is that a computer may have more than one instance of Python installed. In order to use Python packages within a Jupyter Notebook, they need to be associated with the so-called Python *kernel* that runs in the background of the notebook (for a more technical description of the issue and a solution see the [article](https://jakevdp.github.io/blog/2017/12/05/installing-python-packages-from-jupyter/) by Jake VanderPlas in his [Pythonic Preambulations](https://jakevdp.github.io/) blog. \n",
    "\n",
    "The solution adopted here is to use so-called IPython `magic` functions, expanding on the functionality of standard IPython. Magic functions are introduced with the % sign; in this notebook we will use `%conda` to call the package manager (alternatively, you may use `%pip` with the same syntax for packages not available in conda). These commands were introduced in IPython version 7.3. To check the IPython version on your machine, open the terminal (Mac OS X) or the Anaconda Prompt (Windows) and type \n",
    "```bash\n",
    "ipython --version\n",
    "```\n",
    "\n",
    "If you need to upgrade IPython, open the terminal (Mac OS X) or the Anaconda Prompt (Windows) and type\n",
    "```bash\n",
    "pip install ipython --upgrade\n",
    "```\n",
    "\n",
    "# TODO\n",
    "create a list of packages to be installed."
   ]
  },
  {
   "cell_type": "markdown",
   "metadata": {},
   "source": [
    "# Installation Code\n",
    "\n",
    "The code for installing a package is\n",
    "```python\n",
    "%conda install -c conda-forge [package name]\n",
    "```\n",
    "For upgrading a package to the latest version you may use\n",
    "```python\n",
    "%conda upgrade -c conda-forge [package name]\n",
    "```\n",
    "\n",
    "Examples:\n",
    "```python\n",
    "%conda upgrade -c conda-forge jupyterlab\n",
    "%conda install -c conda-forge nodejs\n",
    "```\n",
    "\n",
    "Note that installing and upgrading may take a (very) long time and may result in the installation, removal, upgrading, or downgrading of a host of other packages. This is the case because conda will check for dependencies and for the compatibility of the newly installed software with other available packages."
   ]
  },
  {
   "cell_type": "code",
   "execution_count": null,
   "metadata": {},
   "outputs": [],
   "source": [
    "%conda install -c conda-forge nodejs"
   ]
  },
  {
   "cell_type": "code",
   "execution_count": null,
   "metadata": {},
   "outputs": [],
   "source": []
  }
 ],
 "metadata": {
  "kernelspec": {
   "display_name": "Python 3",
   "language": "python",
   "name": "python3"
  },
  "language_info": {
   "codemirror_mode": {
    "name": "ipython",
    "version": 3
   },
   "file_extension": ".py",
   "mimetype": "text/x-python",
   "name": "python",
   "nbconvert_exporter": "python",
   "pygments_lexer": "ipython3",
   "version": "3.7.1"
  }
 },
 "nbformat": 4,
 "nbformat_minor": 4
}
