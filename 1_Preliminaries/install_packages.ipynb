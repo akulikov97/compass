{
 "cells": [
  {
   "cell_type": "markdown",
   "metadata": {},
   "source": [
    "# Installing Python Libraries\n",
    "When you have installed Python 3 by installing Anaconda, you already have a treasure trove of important Python packages, including `Pandas` (for data manipulation), `bokeh` (interactive visualisations), `requests` (for downloading from the web), `scikit-learn` (machine learning) etc.\n",
    "\n",
    "Inevitably, we will be using packages not included in the standard Anaconda distribution. Before they can be imported in a Python script such packages (or libraries) need to be installed. A package needs to be *imported* every time when a script is started. It needs to be *installed* only once (and updated subsequently, if necessary).\n",
    "\n",
    "This notebook will install the packages that are used in the set of notebooks in this repository. If you need to install more packages, follow the code below. The preferred method is with `conda`, if that doesn't work use `pip`\n",
    "\n",
    "Jake VanderPlas in his [Pythonic Preambulations](https://jakevdp.github.io/) blog devotes an entire [article](https://jakevdp.github.io/blog/2017/12/05/installing-python-packages-from-jupyter/) to installing Python packages from inside a Jupyter Notebook; the code below is taken from that source. The issue is that a computer may have more then one instance of Python installed. In order to use Python packages within a Jupyter Notebook, they need to be associated with the so-called Python *kernel* that runs in the background of the notebook. The code below takes care of that.\n",
    "\n",
    "# TODO\n",
    "create a list of packages to be installed."
   ]
  },
  {
   "cell_type": "code",
   "execution_count": 1,
   "metadata": {},
   "outputs": [],
   "source": [
    "import sys"
   ]
  },
  {
   "cell_type": "markdown",
   "metadata": {},
   "source": [
    "# 1.1 Preferred: Install with Conda\n",
    "\n",
    "# TODO\n",
    "conda may not be a great option - simply use pip.\n",
    "Include the following:\n",
    "If you receive an error message of the following type:\n",
    "> Cannot uninstall 'PyYAML'. It is a distutlis installed project and thus we cannot accurately determine which files belong to it which would lead to only a partial uninstall\n",
    "\n",
    "use the `pip` option `--ignore-installed`, as follows:\n",
    "```python\n",
    "!{sys.executable} -m pip install [package name] --ignore-installed\n",
    "\n",
    "Pip will check dependencies and compatability of installed packages and may run into trouble with previously installed libraries. The `--ignore-installed` option will reinstall the required version of those packages."
   ]
  },
  {
   "cell_type": "code",
   "execution_count": null,
   "metadata": {
    "collapsed": true
   },
   "outputs": [],
   "source": [
    "!conda install --yes --prefix {sys.prefix} tqdm"
   ]
  },
  {
   "cell_type": "code",
   "execution_count": null,
   "metadata": {
    "collapsed": true
   },
   "outputs": [],
   "source": [
    "!conda update --yes --prefix {sys.prefix} pandas"
   ]
  },
  {
   "cell_type": "markdown",
   "metadata": {},
   "source": [
    "# 2.1 Install with Pip"
   ]
  },
  {
   "cell_type": "code",
   "execution_count": 2,
   "metadata": {},
   "outputs": [
    {
     "name": "stdout",
     "output_type": "stream",
     "text": [
      "Collecting wordcloud\n",
      "  Downloading https://files.pythonhosted.org/packages/23/4e/1254d26ce5d36facdcbb5820e7e434328aed68e99938c75c9d4e2fee5efb/wordcloud-1.5.0-cp37-cp37m-win_amd64.whl (153kB)\n",
      "Requirement already satisfied: numpy>=1.6.1 in c:\\users\\veldhuis\\appdata\\local\\continuum\\anaconda3\\lib\\site-packages (from wordcloud) (1.15.1)\n",
      "Requirement already satisfied: pillow in c:\\users\\veldhuis\\appdata\\local\\continuum\\anaconda3\\lib\\site-packages (from wordcloud) (5.2.0)\n",
      "Installing collected packages: wordcloud\n",
      "Successfully installed wordcloud-1.5.0\n"
     ]
    },
    {
     "name": "stderr",
     "output_type": "stream",
     "text": [
      "twisted 18.7.0 requires PyHamcrest>=1.9.0, which is not installed.\n",
      "You are using pip version 10.0.1, however version 18.1 is available.\n",
      "You should consider upgrading via the 'python -m pip install --upgrade pip' command.\n"
     ]
    }
   ],
   "source": [
    "!{sys.executable} -m pip install wordcloud"
   ]
  },
  {
   "cell_type": "code",
   "execution_count": 3,
   "metadata": {},
   "outputs": [
    {
     "name": "stdout",
     "output_type": "stream",
     "text": [
      "Collecting gensim\n",
      "  Downloading https://files.pythonhosted.org/packages/01/6e/8a8ff9ec36a34dd753c6504cde998c4e0a4e37dcd91e1c9ca4b71960a4f5/gensim-3.6.0.tar.gz (23.1MB)\n",
      "Requirement already satisfied: numpy>=1.11.3 in c:\\users\\veldhuis\\appdata\\local\\continuum\\anaconda3\\lib\\site-packages (from gensim) (1.15.1)\n",
      "Requirement already satisfied: scipy>=0.18.1 in c:\\users\\veldhuis\\appdata\\local\\continuum\\anaconda3\\lib\\site-packages (from gensim) (1.1.0)\n",
      "Requirement already satisfied: six>=1.5.0 in c:\\users\\veldhuis\\appdata\\local\\continuum\\anaconda3\\lib\\site-packages (from gensim) (1.11.0)\n",
      "Collecting smart_open>=1.2.1 (from gensim)\n",
      "  Using cached https://files.pythonhosted.org/packages/4b/1f/6f27e3682124de63ac97a0a5876da6186de6c19410feab66c1543afab055/smart_open-1.7.1.tar.gz\n",
      "Requirement already satisfied: boto>=2.32 in c:\\users\\veldhuis\\appdata\\local\\continuum\\anaconda3\\lib\\site-packages (from smart_open>=1.2.1->gensim) (2.49.0)\n",
      "Collecting bz2file (from smart_open>=1.2.1->gensim)\n",
      "  Using cached https://files.pythonhosted.org/packages/61/39/122222b5e85cd41c391b68a99ee296584b2a2d1d233e7ee32b4532384f2d/bz2file-0.98.tar.gz\n",
      "Requirement already satisfied: requests in c:\\users\\veldhuis\\appdata\\local\\continuum\\anaconda3\\lib\\site-packages (from smart_open>=1.2.1->gensim) (2.19.1)\n",
      "Collecting boto3 (from smart_open>=1.2.1->gensim)\n",
      "  Downloading https://files.pythonhosted.org/packages/f5/5e/ea477bb26793598962ffdf1ffc7fb854c1eb3efb0dae213b4e0eb3e57311/boto3-1.9.52-py2.py3-none-any.whl (128kB)\n",
      "Requirement already satisfied: certifi>=2017.4.17 in c:\\users\\veldhuis\\appdata\\local\\continuum\\anaconda3\\lib\\site-packages (from requests->smart_open>=1.2.1->gensim) (2018.8.24)\n",
      "Requirement already satisfied: chardet<3.1.0,>=3.0.2 in c:\\users\\veldhuis\\appdata\\local\\continuum\\anaconda3\\lib\\site-packages (from requests->smart_open>=1.2.1->gensim) (3.0.4)\n",
      "Requirement already satisfied: idna<2.8,>=2.5 in c:\\users\\veldhuis\\appdata\\local\\continuum\\anaconda3\\lib\\site-packages (from requests->smart_open>=1.2.1->gensim) (2.7)\n",
      "Requirement already satisfied: urllib3<1.24,>=1.21.1 in c:\\users\\veldhuis\\appdata\\local\\continuum\\anaconda3\\lib\\site-packages (from requests->smart_open>=1.2.1->gensim) (1.23)\n",
      "Collecting botocore<1.13.0,>=1.12.52 (from boto3->smart_open>=1.2.1->gensim)\n",
      "  Downloading https://files.pythonhosted.org/packages/c9/02/8f40911f5a7dc233826a949363baa15590960cfe4fbbdb81325c9355598c/botocore-1.12.52-py2.py3-none-any.whl (5.0MB)\n",
      "Collecting jmespath<1.0.0,>=0.7.1 (from boto3->smart_open>=1.2.1->gensim)\n",
      "  Using cached https://files.pythonhosted.org/packages/b7/31/05c8d001f7f87f0f07289a5fc0fc3832e9a57f2dbd4d3b0fee70e0d51365/jmespath-0.9.3-py2.py3-none-any.whl\n",
      "Collecting s3transfer<0.2.0,>=0.1.10 (from boto3->smart_open>=1.2.1->gensim)\n",
      "  Using cached https://files.pythonhosted.org/packages/d7/14/2a0004d487464d120c9fb85313a75cd3d71a7506955be458eebfe19a6b1d/s3transfer-0.1.13-py2.py3-none-any.whl\n",
      "Requirement already satisfied: docutils>=0.10 in c:\\users\\veldhuis\\appdata\\local\\continuum\\anaconda3\\lib\\site-packages (from botocore<1.13.0,>=1.12.52->boto3->smart_open>=1.2.1->gensim) (0.14)\n",
      "Requirement already satisfied: python-dateutil<3.0.0,>=2.1; python_version >= \"2.7\" in c:\\users\\veldhuis\\appdata\\local\\continuum\\anaconda3\\lib\\site-packages (from botocore<1.13.0,>=1.12.52->boto3->smart_open>=1.2.1->gensim) (2.7.3)\n",
      "Building wheels for collected packages: gensim, smart-open, bz2file\n",
      "  Running setup.py bdist_wheel for gensim: started\n",
      "  Running setup.py bdist_wheel for gensim: still running...\n",
      "  Running setup.py bdist_wheel for gensim: finished with status 'done'\n",
      "  Stored in directory: C:\\Users\\veldhuis\\AppData\\Local\\pip\\Cache\\wheels\\97\\37\\bd\\2b80cbc3be93cdf9dd3348dc8b5e659e059f5b51fcecc706be\n",
      "  Running setup.py bdist_wheel for smart-open: started\n",
      "  Running setup.py bdist_wheel for smart-open: finished with status 'done'\n",
      "  Stored in directory: C:\\Users\\veldhuis\\AppData\\Local\\pip\\Cache\\wheels\\23\\00\\44\\e5b939f7a80c04e32297dbd6d96fa3065af89ecf57e2b5f89f\n",
      "  Running setup.py bdist_wheel for bz2file: started\n",
      "  Running setup.py bdist_wheel for bz2file: finished with status 'done'\n",
      "  Stored in directory: C:\\Users\\veldhuis\\AppData\\Local\\pip\\Cache\\wheels\\81\\75\\d6\\e1317bf09bf1af5a30befc2a007869fa6e1f516b8f7c591cb9\n",
      "Successfully built gensim smart-open bz2file\n",
      "Installing collected packages: bz2file, jmespath, botocore, s3transfer, boto3, smart-open, gensim\n",
      "Successfully installed boto3-1.9.52 botocore-1.12.52 bz2file-0.98 gensim-3.6.0 jmespath-0.9.3 s3transfer-0.1.13 smart-open-1.7.1\n"
     ]
    },
    {
     "name": "stderr",
     "output_type": "stream",
     "text": [
      "twisted 18.7.0 requires PyHamcrest>=1.9.0, which is not installed.\n",
      "You are using pip version 10.0.1, however version 18.1 is available.\n",
      "You should consider upgrading via the 'python -m pip install --upgrade pip' command.\n"
     ]
    }
   ],
   "source": [
    "!{sys.executable} -m pip install gensim"
   ]
  },
  {
   "cell_type": "code",
   "execution_count": 4,
   "metadata": {},
   "outputs": [
    {
     "name": "stdout",
     "output_type": "stream",
     "text": [
      "Collecting pip\n",
      "  Using cached https://files.pythonhosted.org/packages/c2/d7/90f34cb0d83a6c5631cf71dfe64cc1054598c843a92b400e55675cc2ac37/pip-18.1-py2.py3-none-any.whl\n",
      "Installing collected packages: pip\n",
      "  Found existing installation: pip 10.0.1\n",
      "    Uninstalling pip-10.0.1:\n",
      "      Successfully uninstalled pip-10.0.1\n",
      "Successfully installed pip-18.1\n"
     ]
    },
    {
     "name": "stderr",
     "output_type": "stream",
     "text": [
      "twisted 18.7.0 requires PyHamcrest>=1.9.0, which is not installed.\n"
     ]
    }
   ],
   "source": [
    "!{sys.executable} -m pip install pip --upgrade"
   ]
  },
  {
   "cell_type": "code",
   "execution_count": 5,
   "metadata": {},
   "outputs": [
    {
     "name": "stdout",
     "output_type": "stream",
     "text": [
      "Requirement already satisfied: tqdm in c:\\users\\veldhuis\\appdata\\local\\continuum\\anaconda3\\lib\\site-packages (4.26.0)\n"
     ]
    }
   ],
   "source": [
    "!{sys.executable} -m pip install tqdm"
   ]
  },
  {
   "cell_type": "code",
   "execution_count": 9,
   "metadata": {},
   "outputs": [
    {
     "name": "stdout",
     "output_type": "stream",
     "text": [
      "Collecting pickle\n"
     ]
    },
    {
     "name": "stderr",
     "output_type": "stream",
     "text": [
      "  Could not find a version that satisfies the requirement pickle (from versions: )\n",
      "No matching distribution found for pickle\n"
     ]
    }
   ],
   "source": [
    "!{sys.executable} -m pip install pickle --upgrade"
   ]
  },
  {
   "cell_type": "code",
   "execution_count": 8,
   "metadata": {},
   "outputs": [
    {
     "name": "stdout",
     "output_type": "stream",
     "text": [
      "Collecting PyHamcrest\n",
      "  Downloading https://files.pythonhosted.org/packages/9a/d5/d37fd731b7d0e91afcc84577edeccf4638b4f9b82f5ffe2f8b62e2ddc609/PyHamcrest-1.9.0-py2.py3-none-any.whl (52kB)\n",
      "Requirement already satisfied: setuptools in c:\\users\\veldhuis\\appdata\\local\\continuum\\anaconda3\\lib\\site-packages (from PyHamcrest) (40.2.0)\n",
      "Requirement already satisfied: six in c:\\users\\veldhuis\\appdata\\local\\continuum\\anaconda3\\lib\\site-packages (from PyHamcrest) (1.11.0)\n",
      "Installing collected packages: PyHamcrest\n",
      "Successfully installed PyHamcrest-1.9.0\n"
     ]
    }
   ],
   "source": [
    "!{sys.executable} -m pip install PyHamcrest"
   ]
  },
  {
   "cell_type": "code",
   "execution_count": null,
   "metadata": {},
   "outputs": [],
   "source": []
  }
 ],
 "metadata": {
  "kernelspec": {
   "display_name": "Python 3",
   "language": "python",
   "name": "python3"
  },
  "language_info": {
   "codemirror_mode": {
    "name": "ipython",
    "version": 3
   },
   "file_extension": ".py",
   "mimetype": "text/x-python",
   "name": "python",
   "nbconvert_exporter": "python",
   "pygments_lexer": "ipython3",
   "version": "3.7.0"
  }
 },
 "nbformat": 4,
 "nbformat_minor": 1
}
