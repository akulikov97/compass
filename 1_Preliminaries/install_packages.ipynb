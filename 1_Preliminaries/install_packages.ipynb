{
 "cells": [
  {
   "cell_type": "markdown",
   "metadata": {},
   "source": [
    "# Installing Python Packages\n",
    "When you have installed Python 3 by installing Anaconda, you already have a treasure trove of important Python packages, including `Pandas` (for data manipulation), `bokeh` (interactive visualisations), `requests` (for communicating with web sites), `scikit-learn` (machine learning) etc.\n",
    "\n",
    "Inevitably, we will be using packages not included in the standard Anaconda distribution. Before they can be imported in a Python script such packages (or libraries) need to be installed. A package needs to be *imported* every time when a script is started. It needs to be *installed* only once (and updated subsequently, if necessary).\n",
    "\n",
    "This notebook will install the packages that are used in the set of notebooks in this repository. If you need to install more packages, follow the code below. The preferred method is with `conda`, if that doesn't work use `pip`\n",
    "\n",
    "Jake VanderPlas in his [Pythonic Preambulations](https://jakevdp.github.io/) blog devotes an entire [article](https://jakevdp.github.io/blog/2017/12/05/installing-python-packages-from-jupyter/) to installing Python packages from inside a Jupyter Notebook; the code below is taken from that source. The issue is that a computer may have more then one instance of Python installed. In order to use Python packages within a Jupyter Notebook, they need to be associated with the so-called Python *kernel* that runs in the background of the notebook. The code below takes care of that.\n",
    "\n",
    "# TODO\n",
    "create a list of packages to be installed."
   ]
  },
  {
   "cell_type": "code",
   "execution_count": null,
   "metadata": {},
   "outputs": [],
   "source": [
    "import sys"
   ]
  },
  {
   "cell_type": "markdown",
   "metadata": {},
   "source": [
    "# 1.1 Preferred: Install with Conda\n",
    "\n",
    "# TODO\n",
    "conda may not be a great option - simply use pip.\n",
    "Include the following:\n",
    "If you receive an error message of the following type:\n",
    "> Cannot uninstall 'PyYAML'. It is a distutlis installed project and thus we cannot accurately determine which files belong to it which would lead to only a partial uninstall\n",
    "\n",
    "use the `pip` option `--ignore-installed`, as follows:\n",
    "```python\n",
    "!{sys.executable} -m pip install [package name] --ignore-installed\n",
    "\n",
    "Pip will check dependencies and compatability of installed packages and may run into trouble with previously installed libraries. The `--ignore-installed` option will reinstall the required version of those packages."
   ]
  },
  {
   "cell_type": "code",
   "execution_count": null,
   "metadata": {},
   "outputs": [],
   "source": [
    "!conda install --yes --prefix {sys.prefix} -c conda-forge cltk"
   ]
  },
  {
   "cell_type": "code",
   "execution_count": null,
   "metadata": {},
   "outputs": [],
   "source": [
    "!conda update --yes --prefix {sys.prefix} -c conda-forge tqdm"
   ]
  },
  {
   "cell_type": "markdown",
   "metadata": {},
   "source": [
    "# 2.1 Install with Pip"
   ]
  },
  {
   "cell_type": "code",
   "execution_count": null,
   "metadata": {},
   "outputs": [],
   "source": [
    "!{sys.executable} -m pip install sklearn"
   ]
  },
  {
   "cell_type": "code",
   "execution_count": null,
   "metadata": {},
   "outputs": [],
   "source": [
    "!{sys.executable} -m pip install tqdm --upgrade"
   ]
  },
  {
   "cell_type": "code",
   "execution_count": null,
   "metadata": {},
   "outputs": [],
   "source": [
    "!{sys.executable} -m pip install [package name] --ignore-installed"
   ]
  }
 ],
 "metadata": {
  "kernelspec": {
   "display_name": "Python 3",
   "language": "python",
   "name": "python3"
  },
  "language_info": {
   "codemirror_mode": {
    "name": "ipython",
    "version": 3
   },
   "file_extension": ".py",
   "mimetype": "text/x-python",
   "name": "python",
   "nbconvert_exporter": "python",
   "pygments_lexer": "ipython3",
   "version": "3.7.3"
  }
 },
 "nbformat": 4,
 "nbformat_minor": 4
}
