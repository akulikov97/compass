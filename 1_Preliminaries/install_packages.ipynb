{
 "cells": [
  {
   "cell_type": "markdown",
   "metadata": {},
   "source": [
    "# Installing Python Libraries\n",
    "When you have installed Python 3 by installing Anaconda, you already have a treasure trove of important Python packages, including `Pandas` (for data manipulation), `bokeh` (interactive visualisations), `requests` (for downloading from the web), `scikit-learn` (machine learning) etc.\n",
    "\n",
    "Inevitably, we will be using packages not included in the standard Anaconda distribution. Before they can be imported in a Python script such packages (or libraries) need to be installed. A package needs to be *imported* every time when a script is started. It needs to be *installed* only once (and updated subsequently, if necessary).\n",
    "\n",
    "This notebook will install the packages that are used in the set of notebooks in this repository. If you need to install more packages, follow the code below. The preferred method is with `conda`, if that doesn't work use `pip`\n",
    "\n",
    "Jake VanderPlas in his [Pythonic Preambulations](https://jakevdp.github.io/) blog devotes an entire [article](https://jakevdp.github.io/blog/2017/12/05/installing-python-packages-from-jupyter/) to installing Python packages from inside a Jupyter Notebook; the code below is taken from that source. The issue is that a computer may have more then one instance of Python installed. In order to use Python packages within a Jupyter Notebook, they need to be associated with the so-called Python *kernel* that runs in the background of the notebook. The code below takes care of that.\n",
    "\n",
    "# TODO\n",
    "create a list of packages to be installed."
   ]
  },
  {
   "cell_type": "code",
   "execution_count": 1,
   "metadata": {
    "collapsed": true
   },
   "outputs": [],
   "source": [
    "import sys"
   ]
  },
  {
   "cell_type": "markdown",
   "metadata": {},
   "source": [
    "# 1.1 Preferred: Install with Conda"
   ]
  },
  {
   "cell_type": "code",
   "execution_count": null,
   "metadata": {
    "collapsed": false
   },
   "outputs": [],
   "source": [
    "!conda install --yes --prefix {sys.prefix} tqdm"
   ]
  },
  {
   "cell_type": "code",
   "execution_count": null,
   "metadata": {
    "collapsed": false
   },
   "outputs": [],
   "source": [
    "!conda update --yes --prefix {sys.prefix} pandas"
   ]
  },
  {
   "cell_type": "markdown",
   "metadata": {},
   "source": [
    "# 2.1 Install with Pip"
   ]
  },
  {
   "cell_type": "code",
   "execution_count": 5,
   "metadata": {
    "collapsed": false
   },
   "outputs": [
    {
     "name": "stdout",
     "output_type": "stream",
     "text": [
      "Collecting fastText\n",
      "  Using cached https://files.pythonhosted.org/packages/a4/86/ff826211bc9e28d4c371668b30b4b2c38a09127e5e73017b1c0cd52f9dfa/fasttext-0.8.3.tar.gz\n",
      "Requirement already satisfied: numpy>=1 in c:\\users\\veldhuis\\appdata\\local\\continuum\\anaconda3\\lib\\site-packages (from fastText) (1.11.0)\n",
      "Requirement already satisfied: future in c:\\users\\veldhuis\\appdata\\local\\continuum\\anaconda3\\lib\\site-packages (from fastText) (0.15.2)\n",
      "Building wheels for collected packages: fastText\n",
      "  Running setup.py bdist_wheel for fastText: started\n",
      "  Running setup.py bdist_wheel for fastText: finished with status 'error'\n",
      "  Complete output from command C:\\Users\\veldhuis\\AppData\\Local\\Continuum\\Anaconda3\\python.exe -u -c \"import setuptools, tokenize;__file__='C:\\\\Users\\\\veldhuis\\\\AppData\\\\Local\\\\Temp\\\\pip-install-_c_cwvyd\\\\fastText\\\\setup.py';f=getattr(tokenize, 'open', open)(__file__);code=f.read().replace('\\r\\n', '\\n');f.close();exec(compile(code, __file__, 'exec'))\" bdist_wheel -d C:\\Users\\veldhuis\\AppData\\Local\\Temp\\pip-wheel-bnwy4st7 --python-tag cp35:\n",
      "  running bdist_wheel\n",
      "  running build\n",
      "  running build_py\n",
      "  creating build\n",
      "  creating build\\lib.win-amd64-3.5\n",
      "  creating build\\lib.win-amd64-3.5\\fasttext\n",
      "  copying fasttext\\model.py -> build\\lib.win-amd64-3.5\\fasttext\n",
      "  copying fasttext\\__init__.py -> build\\lib.win-amd64-3.5\\fasttext\n",
      "  running build_ext\n",
      "  building 'fasttext.fasttext' extension\n",
      "  error: Unable to find vcvarsall.bat\n",
      "  \n",
      "  ----------------------------------------\n",
      "  Running setup.py clean for fastText\n",
      "Failed to build fastText\n",
      "Installing collected packages: fastText\n",
      "  Running setup.py install for fastText: started\n",
      "    Running setup.py install for fastText: finished with status 'error'\n",
      "    Complete output from command C:\\Users\\veldhuis\\AppData\\Local\\Continuum\\Anaconda3\\python.exe -u -c \"import setuptools, tokenize;__file__='C:\\\\Users\\\\veldhuis\\\\AppData\\\\Local\\\\Temp\\\\pip-install-_c_cwvyd\\\\fastText\\\\setup.py';f=getattr(tokenize, 'open', open)(__file__);code=f.read().replace('\\r\\n', '\\n');f.close();exec(compile(code, __file__, 'exec'))\" install --record C:\\Users\\veldhuis\\AppData\\Local\\Temp\\pip-record-cgpud5ex\\install-record.txt --single-version-externally-managed --compile:\n",
      "    running install\n",
      "    running build\n",
      "    running build_py\n",
      "    creating build\n",
      "    creating build\\lib.win-amd64-3.5\n",
      "    creating build\\lib.win-amd64-3.5\\fasttext\n",
      "    copying fasttext\\model.py -> build\\lib.win-amd64-3.5\\fasttext\n",
      "    copying fasttext\\__init__.py -> build\\lib.win-amd64-3.5\\fasttext\n",
      "    running build_ext\n",
      "    building 'fasttext.fasttext' extension\n",
      "    error: Unable to find vcvarsall.bat\n",
      "    \n",
      "    ----------------------------------------\n"
     ]
    },
    {
     "name": "stderr",
     "output_type": "stream",
     "text": [
      "  Failed building wheel for fastText\n",
      "Command \"C:\\Users\\veldhuis\\AppData\\Local\\Continuum\\Anaconda3\\python.exe -u -c \"import setuptools, tokenize;__file__='C:\\\\Users\\\\veldhuis\\\\AppData\\\\Local\\\\Temp\\\\pip-install-_c_cwvyd\\\\fastText\\\\setup.py';f=getattr(tokenize, 'open', open)(__file__);code=f.read().replace('\\r\\n', '\\n');f.close();exec(compile(code, __file__, 'exec'))\" install --record C:\\Users\\veldhuis\\AppData\\Local\\Temp\\pip-record-cgpud5ex\\install-record.txt --single-version-externally-managed --compile\" failed with error code 1 in C:\\Users\\veldhuis\\AppData\\Local\\Temp\\pip-install-_c_cwvyd\\fastText\\\n"
     ]
    }
   ],
   "source": [
    "!{sys.executable} -m pip install fastText"
   ]
  },
  {
   "cell_type": "code",
   "execution_count": null,
   "metadata": {
    "collapsed": false
   },
   "outputs": [],
   "source": [
    "!{sys.executable} -m pip install --upgrade pandas"
   ]
  },
  {
   "cell_type": "code",
   "execution_count": null,
   "metadata": {
    "collapsed": true
   },
   "outputs": [],
   "source": []
  }
 ],
 "metadata": {
  "kernelspec": {
   "display_name": "Python 3",
   "language": "python",
   "name": "python3"
  },
  "language_info": {
   "codemirror_mode": {
    "name": "ipython",
    "version": 3
   },
   "file_extension": ".py",
   "mimetype": "text/x-python",
   "name": "python",
   "nbconvert_exporter": "python",
   "pygments_lexer": "ipython3",
   "version": "3.5.2"
  }
 },
 "nbformat": 4,
 "nbformat_minor": 0
}
